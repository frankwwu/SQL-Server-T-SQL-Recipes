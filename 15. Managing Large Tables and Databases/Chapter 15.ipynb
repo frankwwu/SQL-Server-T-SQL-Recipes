{
    "metadata": {
        "kernelspec": {
            "name": "SQL",
            "display_name": "SQL",
            "language": "sql"
        },
        "language_info": {
            "name": "sql",
            "version": ""
        }
    },
    "nbformat_minor": 2,
    "nbformat": 4,
    "cells": [
        {
            "cell_type": "code",
            "source": [
                "SET NOCOUNT ON;\r\n",
                "GO\r\n",
                "USE master;\r\n",
                "GO\r\n",
                "\r\n",
                "EXECUTE xp_create_subdir 'C:\\Apress';\r\n",
                "\r\n",
                "IF DB_ID('MegaCorpData') IS NOT NULL DROP DATABASE MegaCorpData;\r\n",
                "GO\r\n",
                "\r\n",
                "CREATE DATABASE MegaCorpData\r\n",
                "ON PRIMARY\r\n",
                "(NAME = 'MegaCorpData',\r\n",
                " FILENAME = 'C:\\Apress\\MegaCorpData.MDF',\r\n",
                " SIZE = 4MB,\r\n",
                " MAXSIZE = UNLIMITED,\r\n",
                " FILEGROWTH = 1MB)\r\n",
                "LOG ON\r\n",
                "(NAME = 'MegaCorpData_Log',\r\n",
                " FILENAME = 'C:\\Apress\\MegaCorpData.LDF',\r\n",
                " SIZE = 3MB,\r\n",
                " MAXSIZE = UNLIMITED,\r\n",
                " FILEGROWTH = 1MB);\r\n",
                "GO"
            ],
            "metadata": {
                "azdata_cell_guid": "423be099-836b-4f45-b0cf-18742ac449bb"
            },
            "outputs": [
                {
                    "output_type": "display_data",
                    "data": {
                        "text/html": "Commands completed successfully."
                    },
                    "metadata": {}
                },
                {
                    "output_type": "display_data",
                    "data": {
                        "text/html": "Commands completed successfully."
                    },
                    "metadata": {}
                },
                {
                    "output_type": "display_data",
                    "data": {
                        "text/html": "Commands completed successfully."
                    },
                    "metadata": {}
                },
                {
                    "output_type": "display_data",
                    "data": {
                        "text/html": "Commands completed successfully."
                    },
                    "metadata": {}
                },
                {
                    "output_type": "display_data",
                    "data": {
                        "text/html": "Total execution time: 00:00:01.222"
                    },
                    "metadata": {}
                }
            ],
            "execution_count": 1
        },
        {
            "cell_type": "code",
            "source": [
                "-- recipe 15.1\r\n",
                "ALTER DATABASE MegaCorpData ADD FILEGROUP hitfg1;\r\n",
                "ALTER DATABASE MegaCorpData ADD FILEGROUP hitfg2;\r\n",
                "ALTER DATABASE MegaCorpData ADD FILEGROUP hitfg3;\r\n",
                "ALTER DATABASE MegaCorpData ADD FILEGROUP hitfg4;\r\n",
                "\r\n",
                "ALTER DATABASE MegaCorpData \r\n",
                "ADD FILE (NAME = mchitfg1, \r\n",
                "          FILENAME = 'C:\\Apress\\mc_hitfg1.ndf', \r\n",
                "          SIZE = 1MB) \r\n",
                "TO FILEGROUP hitfg1;\r\n",
                "ALTER DATABASE MegaCorpData \r\n",
                "ADD FILE (NAME = mchitfg2, \r\n",
                "          FILENAME = 'C:\\Apress\\mc_hitfg2.ndf', \r\n",
                "          SIZE = 1MB) \r\n",
                "TO FILEGROUP hitfg2;\r\n",
                "ALTER DATABASE MegaCorpData \r\n",
                "ADD FILE (NAME = mchitfg3, \r\n",
                "          FILENAME = 'C:\\Apress\\mc_hitfg3.ndf', \r\n",
                "          SIZE = 1MB) \r\n",
                "TO FILEGROUP hitfg3;\r\n",
                "ALTER DATABASE MegaCorpData \r\n",
                "ADD FILE (NAME = mchitfg4, \r\n",
                "          FILENAME = 'C:\\Apress\\mc_hitfg4.ndf', \r\n",
                "          SIZE = 1MB) \r\n",
                "TO FILEGROUP hitfg4;\r\n",
                "\r\n",
                "USE MegaCorpData;\r\n",
                "GO\r\n",
                "CREATE PARTITION FUNCTION HitsDateRange (datetime)\r\n",
                "AS RANGE LEFT FOR VALUES ('2006-01-01T00:00:00', '2007-01-01T00:00:00', '2008-01-01T00:00:00');\r\n",
                "\r\n",
                "CREATE PARTITION SCHEME HitDateRangeScheme\r\n",
                "AS PARTITION HitsDateRange\r\n",
                "TO (hitfg1, hitfg2, hitfg3, hitfg4);\r\n",
                "\r\n",
                "CREATE TABLE dbo.WebSiteHits (\r\n",
                "    WebSiteHitID BIGINT NOT NULL IDENTITY(1, 1), \r\n",
                "    WebSitePage VARCHAR(255) NOT NULL,\r\n",
                "    HitDate DATETIME NOT NULL,\r\n",
                "    CONSTRAINT PK_WebSiteHits PRIMARY KEY CLUSTERED (WebSiteHitId, HitDate)\r\n",
                ")\r\n",
                "ON [HitDateRangeScheme] (HitDate);"
            ],
            "metadata": {
                "azdata_cell_guid": "cd89dee2-6c5d-4dcc-9940-23d0e614dbf3"
            },
            "outputs": [
                {
                    "output_type": "display_data",
                    "data": {
                        "text/html": "Commands completed successfully."
                    },
                    "metadata": {}
                },
                {
                    "output_type": "display_data",
                    "data": {
                        "text/html": "Commands completed successfully."
                    },
                    "metadata": {}
                },
                {
                    "output_type": "display_data",
                    "data": {
                        "text/html": "Total execution time: 00:00:00.281"
                    },
                    "metadata": {}
                }
            ],
            "execution_count": 2
        },
        {
            "cell_type": "code",
            "source": [
                "-- recipe 15.2\r\n",
                "INSERT  dbo.WebSiteHits (WebSitePage, HitDate)\r\n",
                "VALUES  ('Home Page', '2007-10-22T00:00:00'),\r\n",
                "        ('Home Page', '2006-10-02T00:00:00'),\r\n",
                "        ('Sales Page', '2008-05-09T00:00:00'),\r\n",
                "        ('Sales Page', '2000-03-04T00:00:00');\r\n",
                "\r\n",
                "SELECT  WebSitePage,\r\n",
                "        HitDate,\r\n",
                "        $PARTITION.HitsDateRange (HitDate) AS [Partition]\r\n",
                "FROM    dbo.WebSiteHits;\r\n",
                ""
            ],
            "metadata": {
                "azdata_cell_guid": "ee18aa25-32f6-4576-b6a0-5c3425467559"
            },
            "outputs": [
                {
                    "output_type": "display_data",
                    "data": {
                        "text/html": "Commands completed successfully."
                    },
                    "metadata": {}
                },
                {
                    "output_type": "display_data",
                    "data": {
                        "text/html": "Total execution time: 00:00:00.027"
                    },
                    "metadata": {}
                },
                {
                    "output_type": "execute_result",
                    "metadata": {},
                    "execution_count": 3,
                    "data": {
                        "application/vnd.dataresource+json": {
                            "schema": {
                                "fields": [
                                    {
                                        "name": "WebSitePage"
                                    },
                                    {
                                        "name": "HitDate"
                                    },
                                    {
                                        "name": "Partition"
                                    }
                                ]
                            },
                            "data": [
                                {
                                    "0": "Sales Page",
                                    "1": "2000-03-04 00:00:00.000",
                                    "2": "1"
                                },
                                {
                                    "0": "Home Page",
                                    "1": "2006-10-02 00:00:00.000",
                                    "2": "2"
                                },
                                {
                                    "0": "Home Page",
                                    "1": "2007-10-22 00:00:00.000",
                                    "2": "3"
                                },
                                {
                                    "0": "Sales Page",
                                    "1": "2008-05-09 00:00:00.000",
                                    "2": "4"
                                }
                            ]
                        },
                        "text/html": [
                            "<table>",
                            "<tr><th>WebSitePage</th><th>HitDate</th><th>Partition</th></tr>",
                            "<tr><td>Sales Page</td><td>2000-03-04 00:00:00.000</td><td>1</td></tr>",
                            "<tr><td>Home Page</td><td>2006-10-02 00:00:00.000</td><td>2</td></tr>",
                            "<tr><td>Home Page</td><td>2007-10-22 00:00:00.000</td><td>3</td></tr>",
                            "<tr><td>Sales Page</td><td>2008-05-09 00:00:00.000</td><td>4</td></tr>",
                            "</table>"
                        ]
                    }
                }
            ],
            "execution_count": 3
        },
        {
            "cell_type": "code",
            "source": [
                "-- recipe 15.3\r\n",
                "ALTER PARTITION SCHEME HitDateRangeScheme NEXT USED [PRIMARY];\r\n",
                "GO\r\n",
                "\r\n",
                "ALTER PARTITION FUNCTION HitsDateRange () SPLIT RANGE ('2009-01-01T00:00:00');\r\n",
                "GO\r\n",
                "\r\n",
                "INSERT  dbo.WebSiteHits\r\n",
                "        (WebSitePage, HitDate)\r\n",
                "VALUES  ('Sales Page', '2009-03-04T00:00:00');\r\n",
                "\r\n",
                "SELECT  WebSitePage,\r\n",
                "        HitDate,\r\n",
                "        $PARTITION.HitsDateRange (HitDate) AS [Partition]\r\n",
                "FROM    dbo.WebSiteHits;"
            ],
            "metadata": {
                "azdata_cell_guid": "2edba806-69c6-4fbb-b3ea-546e54be5fe0"
            },
            "outputs": [
                {
                    "output_type": "display_data",
                    "data": {
                        "text/html": "Commands completed successfully."
                    },
                    "metadata": {}
                },
                {
                    "output_type": "display_data",
                    "data": {
                        "text/html": "Commands completed successfully."
                    },
                    "metadata": {}
                },
                {
                    "output_type": "display_data",
                    "data": {
                        "text/html": "Commands completed successfully."
                    },
                    "metadata": {}
                },
                {
                    "output_type": "display_data",
                    "data": {
                        "text/html": "Total execution time: 00:00:00.049"
                    },
                    "metadata": {}
                },
                {
                    "output_type": "execute_result",
                    "metadata": {},
                    "execution_count": 4,
                    "data": {
                        "application/vnd.dataresource+json": {
                            "schema": {
                                "fields": [
                                    {
                                        "name": "WebSitePage"
                                    },
                                    {
                                        "name": "HitDate"
                                    },
                                    {
                                        "name": "Partition"
                                    }
                                ]
                            },
                            "data": [
                                {
                                    "0": "Sales Page",
                                    "1": "2000-03-04 00:00:00.000",
                                    "2": "1"
                                },
                                {
                                    "0": "Home Page",
                                    "1": "2006-10-02 00:00:00.000",
                                    "2": "2"
                                },
                                {
                                    "0": "Home Page",
                                    "1": "2007-10-22 00:00:00.000",
                                    "2": "3"
                                },
                                {
                                    "0": "Sales Page",
                                    "1": "2008-05-09 00:00:00.000",
                                    "2": "4"
                                },
                                {
                                    "0": "Sales Page",
                                    "1": "2009-03-04 00:00:00.000",
                                    "2": "5"
                                }
                            ]
                        },
                        "text/html": [
                            "<table>",
                            "<tr><th>WebSitePage</th><th>HitDate</th><th>Partition</th></tr>",
                            "<tr><td>Sales Page</td><td>2000-03-04 00:00:00.000</td><td>1</td></tr>",
                            "<tr><td>Home Page</td><td>2006-10-02 00:00:00.000</td><td>2</td></tr>",
                            "<tr><td>Home Page</td><td>2007-10-22 00:00:00.000</td><td>3</td></tr>",
                            "<tr><td>Sales Page</td><td>2008-05-09 00:00:00.000</td><td>4</td></tr>",
                            "<tr><td>Sales Page</td><td>2009-03-04 00:00:00.000</td><td>5</td></tr>",
                            "</table>"
                        ]
                    }
                }
            ],
            "execution_count": 4
        },
        {
            "cell_type": "code",
            "source": [
                "-- recipe 15.4\r\n",
                "ALTER PARTITION FUNCTION HitsDateRange () MERGE RANGE ('2007-01-01T00:00:00');\r\n",
                "GO\r\n",
                "\r\n",
                "SELECT  WebSitePage,\r\n",
                "        HitDate,\r\n",
                "        $PARTITION.HitsDateRange(HitDate) Partition\r\n",
                "FROM    dbo.WebSiteHits;\r\n",
                ""
            ],
            "metadata": {
                "azdata_cell_guid": "f2136c59-9e27-46dc-8888-cf2a585dc0f0"
            },
            "outputs": [
                {
                    "output_type": "display_data",
                    "data": {
                        "text/html": "Commands completed successfully."
                    },
                    "metadata": {}
                },
                {
                    "output_type": "display_data",
                    "data": {
                        "text/html": "Commands completed successfully."
                    },
                    "metadata": {}
                },
                {
                    "output_type": "display_data",
                    "data": {
                        "text/html": "Total execution time: 00:00:00.028"
                    },
                    "metadata": {}
                },
                {
                    "output_type": "execute_result",
                    "metadata": {},
                    "execution_count": 5,
                    "data": {
                        "application/vnd.dataresource+json": {
                            "schema": {
                                "fields": [
                                    {
                                        "name": "WebSitePage"
                                    },
                                    {
                                        "name": "HitDate"
                                    },
                                    {
                                        "name": "Partition"
                                    }
                                ]
                            },
                            "data": [
                                {
                                    "0": "Sales Page",
                                    "1": "2000-03-04 00:00:00.000",
                                    "2": "1"
                                },
                                {
                                    "0": "Home Page",
                                    "1": "2007-10-22 00:00:00.000",
                                    "2": "2"
                                },
                                {
                                    "0": "Home Page",
                                    "1": "2006-10-02 00:00:00.000",
                                    "2": "2"
                                },
                                {
                                    "0": "Sales Page",
                                    "1": "2008-05-09 00:00:00.000",
                                    "2": "3"
                                },
                                {
                                    "0": "Sales Page",
                                    "1": "2009-03-04 00:00:00.000",
                                    "2": "4"
                                }
                            ]
                        },
                        "text/html": [
                            "<table>",
                            "<tr><th>WebSitePage</th><th>HitDate</th><th>Partition</th></tr>",
                            "<tr><td>Sales Page</td><td>2000-03-04 00:00:00.000</td><td>1</td></tr>",
                            "<tr><td>Home Page</td><td>2007-10-22 00:00:00.000</td><td>2</td></tr>",
                            "<tr><td>Home Page</td><td>2006-10-02 00:00:00.000</td><td>2</td></tr>",
                            "<tr><td>Sales Page</td><td>2008-05-09 00:00:00.000</td><td>3</td></tr>",
                            "<tr><td>Sales Page</td><td>2009-03-04 00:00:00.000</td><td>4</td></tr>",
                            "</table>"
                        ]
                    }
                }
            ],
            "execution_count": 5
        },
        {
            "cell_type": "code",
            "source": [
                "-- recipe 15.5\r\n",
                "SELECT  p.partition_id,\r\n",
                "        p.object_id,\r\n",
                "        p.partition_number\r\n",
                "FROM    sys.partitions AS p\r\n",
                "WHERE   p.partition_id IS NOT NULL\r\n",
                "AND     p.object_id = OBJECT_ID('dbo.WebSiteHits');"
            ],
            "metadata": {
                "azdata_cell_guid": "f679834a-73f5-4cbd-aca4-a513f1ebdc0a"
            },
            "outputs": [
                {
                    "output_type": "display_data",
                    "data": {
                        "text/html": "Commands completed successfully."
                    },
                    "metadata": {}
                },
                {
                    "output_type": "display_data",
                    "data": {
                        "text/html": "Total execution time: 00:00:00.039"
                    },
                    "metadata": {}
                },
                {
                    "output_type": "execute_result",
                    "metadata": {},
                    "execution_count": 6,
                    "data": {
                        "application/vnd.dataresource+json": {
                            "schema": {
                                "fields": [
                                    {
                                        "name": "partition_id"
                                    },
                                    {
                                        "name": "object_id"
                                    },
                                    {
                                        "name": "partition_number"
                                    }
                                ]
                            },
                            "data": [
                                {
                                    "0": "72057594043170816",
                                    "1": "581577110",
                                    "2": "1"
                                },
                                {
                                    "0": "72057594043301888",
                                    "1": "581577110",
                                    "2": "2"
                                },
                                {
                                    "0": "72057594043367424",
                                    "1": "581577110",
                                    "2": "4"
                                },
                                {
                                    "0": "72057594043432960",
                                    "1": "581577110",
                                    "2": "3"
                                }
                            ]
                        },
                        "text/html": [
                            "<table>",
                            "<tr><th>partition_id</th><th>object_id</th><th>partition_number</th></tr>",
                            "<tr><td>72057594043170816</td><td>581577110</td><td>1</td></tr>",
                            "<tr><td>72057594043301888</td><td>581577110</td><td>2</td></tr>",
                            "<tr><td>72057594043367424</td><td>581577110</td><td>4</td></tr>",
                            "<tr><td>72057594043432960</td><td>581577110</td><td>3</td></tr>",
                            "</table>"
                        ]
                    }
                }
            ],
            "execution_count": 6
        },
        {
            "cell_type": "code",
            "source": [
                "-- recipe 15.6\r\n",
                "SELECT  t.name AS TableName,\r\n",
                "        i.name AS IndexName,\r\n",
                "        p.partition_number AS [Part#],\r\n",
                "        f.type_desc,\r\n",
                "        CASE WHEN f.boundary_value_on_right = 1 THEN 'RIGHT' ELSE 'LEFT' END AS BoundaryType,\r\n",
                "        r.boundary_id,\r\n",
                "        r.value AS BoundaryValue\r\n",
                "FROM    sys.tables AS t\r\n",
                "        JOIN sys.indexes AS i\r\n",
                "            ON t.object_id = i.object_id\r\n",
                "        JOIN sys.partitions AS p\r\n",
                "            ON i.object_id = p.object_id\r\n",
                "               AND i.index_id = p.index_id\r\n",
                "        JOIN sys.partition_schemes AS s\r\n",
                "            ON i.data_space_id = s.data_space_id\r\n",
                "        JOIN sys.partition_functions AS f\r\n",
                "            ON s.function_id = f.function_id\r\n",
                "        LEFT JOIN sys.partition_range_values AS r\r\n",
                "            ON f.function_id = r.function_id\r\n",
                "               AND r.boundary_id = p.partition_number\r\n",
                "WHERE   t.object_id = OBJECT_ID('dbo.WebSiteHits')\r\n",
                "AND     i.type <= 1\r\n",
                "ORDER BY p.partition_number;"
            ],
            "metadata": {
                "azdata_cell_guid": "4ddf8095-868f-4f1f-8a06-42638d9c54b7"
            },
            "outputs": [
                {
                    "output_type": "display_data",
                    "data": {
                        "text/html": "Commands completed successfully."
                    },
                    "metadata": {}
                },
                {
                    "output_type": "display_data",
                    "data": {
                        "text/html": "Total execution time: 00:00:00.121"
                    },
                    "metadata": {}
                },
                {
                    "output_type": "execute_result",
                    "metadata": {},
                    "execution_count": 7,
                    "data": {
                        "application/vnd.dataresource+json": {
                            "schema": {
                                "fields": [
                                    {
                                        "name": "TableName"
                                    },
                                    {
                                        "name": "IndexName"
                                    },
                                    {
                                        "name": "Part#"
                                    },
                                    {
                                        "name": "type_desc"
                                    },
                                    {
                                        "name": "BoundaryType"
                                    },
                                    {
                                        "name": "boundary_id"
                                    },
                                    {
                                        "name": "BoundaryValue"
                                    }
                                ]
                            },
                            "data": [
                                {
                                    "0": "WebSiteHits",
                                    "1": "PK_WebSiteHits",
                                    "2": "1",
                                    "3": "RANGE",
                                    "4": "LEFT",
                                    "5": "1",
                                    "6": "2006-01-01 00:00:00"
                                },
                                {
                                    "0": "WebSiteHits",
                                    "1": "PK_WebSiteHits",
                                    "2": "2",
                                    "3": "RANGE",
                                    "4": "LEFT",
                                    "5": "2",
                                    "6": "2008-01-01 00:00:00"
                                },
                                {
                                    "0": "WebSiteHits",
                                    "1": "PK_WebSiteHits",
                                    "2": "3",
                                    "3": "RANGE",
                                    "4": "LEFT",
                                    "5": "3",
                                    "6": "2009-01-01 00:00:00"
                                },
                                {
                                    "0": "WebSiteHits",
                                    "1": "PK_WebSiteHits",
                                    "2": "4",
                                    "3": "RANGE",
                                    "4": "LEFT",
                                    "5": "NULL",
                                    "6": "NULL"
                                }
                            ]
                        },
                        "text/html": [
                            "<table>",
                            "<tr><th>TableName</th><th>IndexName</th><th>Part#</th><th>type_desc</th><th>BoundaryType</th><th>boundary_id</th><th>BoundaryValue</th></tr>",
                            "<tr><td>WebSiteHits</td><td>PK_WebSiteHits</td><td>1</td><td>RANGE</td><td>LEFT</td><td>1</td><td>2006-01-01 00:00:00</td></tr>",
                            "<tr><td>WebSiteHits</td><td>PK_WebSiteHits</td><td>2</td><td>RANGE</td><td>LEFT</td><td>2</td><td>2008-01-01 00:00:00</td></tr>",
                            "<tr><td>WebSiteHits</td><td>PK_WebSiteHits</td><td>3</td><td>RANGE</td><td>LEFT</td><td>3</td><td>2009-01-01 00:00:00</td></tr>",
                            "<tr><td>WebSiteHits</td><td>PK_WebSiteHits</td><td>4</td><td>RANGE</td><td>LEFT</td><td>NULL</td><td>NULL</td></tr>",
                            "</table>"
                        ]
                    }
                }
            ],
            "execution_count": 7
        },
        {
            "cell_type": "code",
            "source": [
                "-- recipe 15.7\r\n",
                "SELECT  t.object_id AS Object_ID,\r\n",
                "        t.name AS TableName,\r\n",
                "        ic.column_id AS PartitioningColumnID,\r\n",
                "        c.name AS PartitioningColumnName\r\n",
                "FROM    sys.tables AS t\r\n",
                "        JOIN sys.indexes AS i\r\n",
                "            ON t.object_id = i.object_id\r\n",
                "        JOIN sys.partition_schemes AS ps\r\n",
                "            ON ps.data_space_id = i.data_space_id\r\n",
                "        JOIN sys.index_columns AS ic\r\n",
                "            ON ic.object_id = i.object_id\r\n",
                "               AND ic.index_id = i.index_id\r\n",
                "               AND ic.partition_ordinal > 0\r\n",
                "        JOIN sys.columns AS c\r\n",
                "            ON t.object_id = c.object_id\r\n",
                "               AND ic.column_id = c.column_id\r\n",
                "WHERE   t.object_id = OBJECT_ID('dbo.WebSiteHits')\r\n",
                "AND     i.type <= 1;"
            ],
            "metadata": {
                "azdata_cell_guid": "037fbddd-371d-47ac-a2b1-5f833fcd62f0"
            },
            "outputs": [
                {
                    "output_type": "display_data",
                    "data": {
                        "text/html": "Commands completed successfully."
                    },
                    "metadata": {}
                },
                {
                    "output_type": "display_data",
                    "data": {
                        "text/html": "Total execution time: 00:00:00.129"
                    },
                    "metadata": {}
                },
                {
                    "output_type": "execute_result",
                    "metadata": {},
                    "execution_count": 8,
                    "data": {
                        "application/vnd.dataresource+json": {
                            "schema": {
                                "fields": [
                                    {
                                        "name": "Object_ID"
                                    },
                                    {
                                        "name": "TableName"
                                    },
                                    {
                                        "name": "PartitioningColumnID"
                                    },
                                    {
                                        "name": "PartitioningColumnName"
                                    }
                                ]
                            },
                            "data": [
                                {
                                    "0": "581577110",
                                    "1": "WebSiteHits",
                                    "2": "3",
                                    "3": "HitDate"
                                }
                            ]
                        },
                        "text/html": [
                            "<table>",
                            "<tr><th>Object_ID</th><th>TableName</th><th>PartitioningColumnID</th><th>PartitioningColumnName</th></tr>",
                            "<tr><td>581577110</td><td>WebSiteHits</td><td>3</td><td>HitDate</td></tr>",
                            "</table>"
                        ]
                    }
                }
            ],
            "execution_count": 8
        },
        {
            "cell_type": "code",
            "source": [
                "-- recipe 15.8\r\n",
                "SELECT  PartitionSchemaName,\r\n",
                "        NextUsedPartition = FileGroupName\r\n",
                "FROM    (SELECT FileGroupName = FG.name,\r\n",
                "                PartitionSchemaName = PS.name,\r\n",
                "                RANK() OVER (PARTITION BY PS.name ORDER BY DDS.destination_id) AS dest_rank\r\n",
                "         FROM   sys.partition_schemes PS\r\n",
                "                JOIN sys.destination_data_spaces AS DDS\r\n",
                "                    ON DDS.partition_scheme_id = PS.data_space_id\r\n",
                "                JOIN sys.filegroups AS FG\r\n",
                "                    ON FG.data_space_id = DDS.data_space_id\r\n",
                "                LEFT JOIN sys.partition_range_values AS PRV\r\n",
                "                    ON PRV.boundary_id = DDS.destination_id\r\n",
                "                       AND PRV.function_id = PS.function_id\r\n",
                "         WHERE  PRV.value IS NULL\r\n",
                "        ) AS a\r\n",
                "WHERE   dest_rank = 2;"
            ],
            "metadata": {
                "azdata_cell_guid": "294513d6-2881-4c84-a0a3-fce1403b1ee6"
            },
            "outputs": [
                {
                    "output_type": "display_data",
                    "data": {
                        "text/html": "Commands completed successfully."
                    },
                    "metadata": {}
                },
                {
                    "output_type": "display_data",
                    "data": {
                        "text/html": "Total execution time: 00:00:00.047"
                    },
                    "metadata": {}
                },
                {
                    "output_type": "execute_result",
                    "metadata": {},
                    "execution_count": 9,
                    "data": {
                        "application/vnd.dataresource+json": {
                            "schema": {
                                "fields": [
                                    {
                                        "name": "PartitionSchemaName"
                                    },
                                    {
                                        "name": "NextUsedPartition"
                                    }
                                ]
                            },
                            "data": []
                        },
                        "text/html": [
                            "<table>",
                            "<tr><th>PartitionSchemaName</th><th>NextUsedPartition</th></tr>",
                            "</table>"
                        ]
                    }
                }
            ],
            "execution_count": 9
        },
        {
            "cell_type": "code",
            "source": [
                "-- recipe 15.9\r\n",
                "CREATE TABLE dbo.WebSiteHitsHistory\r\n",
                "       (\r\n",
                "        WebSiteHitID BIGINT NOT NULL IDENTITY,\r\n",
                "        WebSitePage VARCHAR(255) NOT NULL,\r\n",
                "        HitDate DATETIME NOT NULL,\r\n",
                "        CONSTRAINT PK_WebSiteHitsHistory PRIMARY KEY (WebSiteHitID, HitDate)\r\n",
                "       )\r\n",
                "ON     [HitDateRangeScheme](HitDate);\r\n",
                "GO\r\n",
                "\r\n",
                "ALTER TABLE dbo.WebSiteHits SWITCH PARTITION 1 TO dbo.WebSiteHitsHistory PARTITION 1;\r\n",
                "GO\r\n",
                "\r\n",
                "SELECT  WebSitePage,\r\n",
                "        HitDate,\r\n",
                "        $PARTITION.HitsDateRange(HitDate) Partition\r\n",
                "FROM    dbo.WebSiteHits;\r\n",
                "SELECT  WebSitePage,\r\n",
                "        HitDate,\r\n",
                "        $PARTITION.HitsDateRange(HitDate) Partition\r\n",
                "FROM    dbo.WebSiteHitsHistory;"
            ],
            "metadata": {
                "azdata_cell_guid": "61cb7540-39f1-4cdb-b3e5-1677aa664f5a"
            },
            "outputs": [
                {
                    "output_type": "display_data",
                    "data": {
                        "text/html": "Commands completed successfully."
                    },
                    "metadata": {}
                },
                {
                    "output_type": "display_data",
                    "data": {
                        "text/html": "Commands completed successfully."
                    },
                    "metadata": {}
                },
                {
                    "output_type": "display_data",
                    "data": {
                        "text/html": "Commands completed successfully."
                    },
                    "metadata": {}
                },
                {
                    "output_type": "display_data",
                    "data": {
                        "text/html": "Total execution time: 00:00:00.053"
                    },
                    "metadata": {}
                },
                {
                    "output_type": "execute_result",
                    "metadata": {},
                    "execution_count": 10,
                    "data": {
                        "application/vnd.dataresource+json": {
                            "schema": {
                                "fields": [
                                    {
                                        "name": "WebSitePage"
                                    },
                                    {
                                        "name": "HitDate"
                                    },
                                    {
                                        "name": "Partition"
                                    }
                                ]
                            },
                            "data": [
                                {
                                    "0": "Home Page",
                                    "1": "2007-10-22 00:00:00.000",
                                    "2": "2"
                                },
                                {
                                    "0": "Home Page",
                                    "1": "2006-10-02 00:00:00.000",
                                    "2": "2"
                                },
                                {
                                    "0": "Sales Page",
                                    "1": "2008-05-09 00:00:00.000",
                                    "2": "3"
                                },
                                {
                                    "0": "Sales Page",
                                    "1": "2009-03-04 00:00:00.000",
                                    "2": "4"
                                }
                            ]
                        },
                        "text/html": [
                            "<table>",
                            "<tr><th>WebSitePage</th><th>HitDate</th><th>Partition</th></tr>",
                            "<tr><td>Home Page</td><td>2007-10-22 00:00:00.000</td><td>2</td></tr>",
                            "<tr><td>Home Page</td><td>2006-10-02 00:00:00.000</td><td>2</td></tr>",
                            "<tr><td>Sales Page</td><td>2008-05-09 00:00:00.000</td><td>3</td></tr>",
                            "<tr><td>Sales Page</td><td>2009-03-04 00:00:00.000</td><td>4</td></tr>",
                            "</table>"
                        ]
                    }
                },
                {
                    "output_type": "execute_result",
                    "metadata": {},
                    "execution_count": 10,
                    "data": {
                        "application/vnd.dataresource+json": {
                            "schema": {
                                "fields": [
                                    {
                                        "name": "WebSitePage"
                                    },
                                    {
                                        "name": "HitDate"
                                    },
                                    {
                                        "name": "Partition"
                                    }
                                ]
                            },
                            "data": [
                                {
                                    "0": "Sales Page",
                                    "1": "2000-03-04 00:00:00.000",
                                    "2": "1"
                                }
                            ]
                        },
                        "text/html": [
                            "<table>",
                            "<tr><th>WebSitePage</th><th>HitDate</th><th>Partition</th></tr>",
                            "<tr><td>Sales Page</td><td>2000-03-04 00:00:00.000</td><td>1</td></tr>",
                            "</table>"
                        ]
                    }
                }
            ],
            "execution_count": 10
        },
        {
            "cell_type": "code",
            "source": [
                "-- recipe 15.10\r\n",
                "IF OBJECT_ID('dbo.WebSiteHitsImport','U') IS NOT NULL DROP TABLE dbo.WebSiteHitsImport;\r\n",
                "GO\r\n",
                "CREATE TABLE dbo.WebSiteHitsImport\r\n",
                "       (\r\n",
                "        WebSiteHitID BIGINT NOT NULL IDENTITY,\r\n",
                "        WebSitePage VARCHAR(255) NOT NULL,\r\n",
                "        HitDate DATETIME NOT NULL,\r\n",
                "        CONSTRAINT PK_WebSiteHitsImport PRIMARY KEY (WebSiteHitID, HitDate),\r\n",
                "        CONSTRAINT CK_WebSiteHitsImport CHECK (HitDate <= '2006-01-01T00:00:00')\r\n",
                "       )\r\n",
                "ON hitfg1;\r\n",
                "GO\r\n",
                "INSERT INTO dbo.WebSiteHitsImport (WebSitePage, HitDate)\r\n",
                "VALUES ('Sales Page', '2005-06-01T00:00:00'),\r\n",
                "       ('Main Page', '2005-06-01T00:00:00');\r\n",
                "GO\r\n",
                "\r\n",
                "-- partition 1 is empty – move data to this partition\r\n",
                "ALTER TABLE dbo.WebSiteHitsImport SWITCH TO dbo.WebSiteHits PARTITION 1;\r\n",
                "GO\r\n",
                "\r\n",
                "-- see the data\r\n",
                "SELECT  WebSiteHitId,\r\n",
                "        WebSitePage,\r\n",
                "        HitDate,\r\n",
                "        $PARTITION.HitsDateRange(HitDate) Partition\r\n",
                "FROM    dbo.WebSiteHits;\r\n",
                "SELECT  WebSiteHitId,\r\n",
                "        WebSitePage,\r\n",
                "        HitDate,\r\n",
                "        $PARTITION.HitsDateRange(HitDate) Partition\r\n",
                "FROM    dbo.WebSiteHitsImport;"
            ],
            "metadata": {
                "azdata_cell_guid": "4c882ea5-0df0-4fa5-b1f4-aec0c10de366"
            },
            "outputs": [
                {
                    "output_type": "display_data",
                    "data": {
                        "text/html": "Commands completed successfully."
                    },
                    "metadata": {}
                },
                {
                    "output_type": "display_data",
                    "data": {
                        "text/html": "Commands completed successfully."
                    },
                    "metadata": {}
                },
                {
                    "output_type": "display_data",
                    "data": {
                        "text/html": "Commands completed successfully."
                    },
                    "metadata": {}
                },
                {
                    "output_type": "display_data",
                    "data": {
                        "text/html": "Commands completed successfully."
                    },
                    "metadata": {}
                },
                {
                    "output_type": "display_data",
                    "data": {
                        "text/html": "Commands completed successfully."
                    },
                    "metadata": {}
                },
                {
                    "output_type": "display_data",
                    "data": {
                        "text/html": "Total execution time: 00:00:00.066"
                    },
                    "metadata": {}
                },
                {
                    "output_type": "execute_result",
                    "metadata": {},
                    "execution_count": 11,
                    "data": {
                        "application/vnd.dataresource+json": {
                            "schema": {
                                "fields": [
                                    {
                                        "name": "WebSiteHitId"
                                    },
                                    {
                                        "name": "WebSitePage"
                                    },
                                    {
                                        "name": "HitDate"
                                    },
                                    {
                                        "name": "Partition"
                                    }
                                ]
                            },
                            "data": [
                                {
                                    "0": "1",
                                    "1": "Sales Page",
                                    "2": "2005-06-01 00:00:00.000",
                                    "3": "1"
                                },
                                {
                                    "0": "2",
                                    "1": "Main Page",
                                    "2": "2005-06-01 00:00:00.000",
                                    "3": "1"
                                },
                                {
                                    "0": "1",
                                    "1": "Home Page",
                                    "2": "2007-10-22 00:00:00.000",
                                    "3": "2"
                                },
                                {
                                    "0": "2",
                                    "1": "Home Page",
                                    "2": "2006-10-02 00:00:00.000",
                                    "3": "2"
                                },
                                {
                                    "0": "3",
                                    "1": "Sales Page",
                                    "2": "2008-05-09 00:00:00.000",
                                    "3": "3"
                                },
                                {
                                    "0": "5",
                                    "1": "Sales Page",
                                    "2": "2009-03-04 00:00:00.000",
                                    "3": "4"
                                }
                            ]
                        },
                        "text/html": [
                            "<table>",
                            "<tr><th>WebSiteHitId</th><th>WebSitePage</th><th>HitDate</th><th>Partition</th></tr>",
                            "<tr><td>1</td><td>Sales Page</td><td>2005-06-01 00:00:00.000</td><td>1</td></tr>",
                            "<tr><td>2</td><td>Main Page</td><td>2005-06-01 00:00:00.000</td><td>1</td></tr>",
                            "<tr><td>1</td><td>Home Page</td><td>2007-10-22 00:00:00.000</td><td>2</td></tr>",
                            "<tr><td>2</td><td>Home Page</td><td>2006-10-02 00:00:00.000</td><td>2</td></tr>",
                            "<tr><td>3</td><td>Sales Page</td><td>2008-05-09 00:00:00.000</td><td>3</td></tr>",
                            "<tr><td>5</td><td>Sales Page</td><td>2009-03-04 00:00:00.000</td><td>4</td></tr>",
                            "</table>"
                        ]
                    }
                },
                {
                    "output_type": "execute_result",
                    "metadata": {},
                    "execution_count": 11,
                    "data": {
                        "application/vnd.dataresource+json": {
                            "schema": {
                                "fields": [
                                    {
                                        "name": "WebSiteHitId"
                                    },
                                    {
                                        "name": "WebSitePage"
                                    },
                                    {
                                        "name": "HitDate"
                                    },
                                    {
                                        "name": "Partition"
                                    }
                                ]
                            },
                            "data": []
                        },
                        "text/html": [
                            "<table>",
                            "<tr><th>WebSiteHitId</th><th>WebSitePage</th><th>HitDate</th><th>Partition</th></tr>",
                            "</table>"
                        ]
                    }
                }
            ],
            "execution_count": 11
        },
        {
            "cell_type": "code",
            "source": [
                "-- recipe 15.11\r\n",
                "ALTER TABLE dbo.WebSiteHits SWITCH PARTITION 1 TO dbo.WebSiteHitsImport;\r\n",
                "GO\r\n",
                "\r\n",
                "-- see the data\r\n",
                "SELECT  WebSiteHitId,\r\n",
                "        WebSitePage,\r\n",
                "        HitDate,\r\n",
                "        $PARTITION.HitsDateRange(HitDate) Partition\r\n",
                "FROM    dbo.WebSiteHits;\r\n",
                "SELECT  WebSiteHitId,\r\n",
                "        WebSitePage,\r\n",
                "        HitDate,\r\n",
                "        $PARTITION.HitsDateRange(HitDate) Partition\r\n",
                "FROM    dbo.WebSiteHitsImport;\r\n",
                ""
            ],
            "metadata": {
                "azdata_cell_guid": "339bae40-40e5-4eea-859c-db238772003f"
            },
            "outputs": [
                {
                    "output_type": "display_data",
                    "data": {
                        "text/html": "Commands completed successfully."
                    },
                    "metadata": {}
                },
                {
                    "output_type": "display_data",
                    "data": {
                        "text/html": "Commands completed successfully."
                    },
                    "metadata": {}
                },
                {
                    "output_type": "display_data",
                    "data": {
                        "text/html": "Total execution time: 00:00:00.066"
                    },
                    "metadata": {}
                },
                {
                    "output_type": "execute_result",
                    "metadata": {},
                    "execution_count": 12,
                    "data": {
                        "application/vnd.dataresource+json": {
                            "schema": {
                                "fields": [
                                    {
                                        "name": "WebSiteHitId"
                                    },
                                    {
                                        "name": "WebSitePage"
                                    },
                                    {
                                        "name": "HitDate"
                                    },
                                    {
                                        "name": "Partition"
                                    }
                                ]
                            },
                            "data": [
                                {
                                    "0": "1",
                                    "1": "Home Page",
                                    "2": "2007-10-22 00:00:00.000",
                                    "3": "2"
                                },
                                {
                                    "0": "2",
                                    "1": "Home Page",
                                    "2": "2006-10-02 00:00:00.000",
                                    "3": "2"
                                },
                                {
                                    "0": "3",
                                    "1": "Sales Page",
                                    "2": "2008-05-09 00:00:00.000",
                                    "3": "3"
                                },
                                {
                                    "0": "5",
                                    "1": "Sales Page",
                                    "2": "2009-03-04 00:00:00.000",
                                    "3": "4"
                                }
                            ]
                        },
                        "text/html": [
                            "<table>",
                            "<tr><th>WebSiteHitId</th><th>WebSitePage</th><th>HitDate</th><th>Partition</th></tr>",
                            "<tr><td>1</td><td>Home Page</td><td>2007-10-22 00:00:00.000</td><td>2</td></tr>",
                            "<tr><td>2</td><td>Home Page</td><td>2006-10-02 00:00:00.000</td><td>2</td></tr>",
                            "<tr><td>3</td><td>Sales Page</td><td>2008-05-09 00:00:00.000</td><td>3</td></tr>",
                            "<tr><td>5</td><td>Sales Page</td><td>2009-03-04 00:00:00.000</td><td>4</td></tr>",
                            "</table>"
                        ]
                    }
                },
                {
                    "output_type": "execute_result",
                    "metadata": {},
                    "execution_count": 12,
                    "data": {
                        "application/vnd.dataresource+json": {
                            "schema": {
                                "fields": [
                                    {
                                        "name": "WebSiteHitId"
                                    },
                                    {
                                        "name": "WebSitePage"
                                    },
                                    {
                                        "name": "HitDate"
                                    },
                                    {
                                        "name": "Partition"
                                    }
                                ]
                            },
                            "data": [
                                {
                                    "0": "1",
                                    "1": "Sales Page",
                                    "2": "2005-06-01 00:00:00.000",
                                    "3": "1"
                                },
                                {
                                    "0": "2",
                                    "1": "Main Page",
                                    "2": "2005-06-01 00:00:00.000",
                                    "3": "1"
                                }
                            ]
                        },
                        "text/html": [
                            "<table>",
                            "<tr><th>WebSiteHitId</th><th>WebSitePage</th><th>HitDate</th><th>Partition</th></tr>",
                            "<tr><td>1</td><td>Sales Page</td><td>2005-06-01 00:00:00.000</td><td>1</td></tr>",
                            "<tr><td>2</td><td>Main Page</td><td>2005-06-01 00:00:00.000</td><td>1</td></tr>",
                            "</table>"
                        ]
                    }
                }
            ],
            "execution_count": 12
        },
        {
            "cell_type": "code",
            "source": [
                "-- recipe 15.12\r\n",
                "ALTER TABLE dbo.WebSiteHits SET (LOCK_ESCALATION = AUTO);"
            ],
            "metadata": {
                "azdata_cell_guid": "27b06c0d-1533-4d39-b998-d2e72eb4b2f9"
            },
            "outputs": [
                {
                    "output_type": "display_data",
                    "data": {
                        "text/html": "Commands completed successfully."
                    },
                    "metadata": {}
                },
                {
                    "output_type": "display_data",
                    "data": {
                        "text/html": "Total execution time: 00:00:00.013"
                    },
                    "metadata": {}
                }
            ],
            "execution_count": 13
        },
        {
            "cell_type": "code",
            "source": [
                "-- recipe 15.13\r\n",
                "DROP TABLE dbo.WebSiteHits;\r\n",
                "DROP TABLE dbo.WebSiteHitsHistory;\r\n",
                "DROP PARTITION SCHEME HitDateRangeScheme;\r\n",
                "DROP PARTITION FUNCTION HitsDateRange;"
            ],
            "metadata": {
                "azdata_cell_guid": "9180a71b-b199-4e18-be4c-7dfac3add30a"
            },
            "outputs": [
                {
                    "output_type": "display_data",
                    "data": {
                        "text/html": "Commands completed successfully."
                    },
                    "metadata": {}
                },
                {
                    "output_type": "display_data",
                    "data": {
                        "text/html": "Total execution time: 00:00:00.022"
                    },
                    "metadata": {}
                }
            ],
            "execution_count": 14
        },
        {
            "cell_type": "code",
            "source": [
                "-- recipe 15.14"
            ],
            "metadata": {
                "azdata_cell_guid": "549e8d7c-0e22-40f3-bc10-8ed1feefac82"
            },
            "outputs": [
                {
                    "output_type": "display_data",
                    "data": {
                        "text/html": "Commands completed successfully."
                    },
                    "metadata": {}
                },
                {
                    "output_type": "display_data",
                    "data": {
                        "text/html": "Total execution time: 00:00:00.002"
                    },
                    "metadata": {}
                }
            ],
            "execution_count": 15
        },
        {
            "cell_type": "code",
            "source": [
                "-- recipe 15.15\r\n",
                "CREATE TABLE dbo.DataCompressionTest\r\n",
                "       (\r\n",
                "        JobPostinglD INT NOT NULL IDENTITY PRIMARY KEY CLUSTERED,\r\n",
                "        CandidatelD INT NOT NULL,\r\n",
                "        JobDESC CHAR(2000) NOT NULL\r\n",
                "       )\r\n",
                "WITH (DATA_COMPRESSION = ROW);\r\n",
                "GO\r\n",
                "\r\n",
                "CREATE TABLE dbo.ArchiveJobPosting\r\n",
                "       (\r\n",
                "        JobPostinglD INT NOT NULL IDENTITY PRIMARY KEY CLUSTERED,\r\n",
                "        CandidatelD INT NOT NULL,\r\n",
                "        JobDESC CHAR(2000) NOT NULL\r\n",
                "       );\r\n",
                "GO\r\n",
                "\r\n",
                "INSERT  dbo.ArchiveJobPosting\r\n",
                "        (CandidatelD,\r\n",
                "         JobDESC)\r\n",
                "VALUES (CAST(RAND() * 10 AS INT),\r\n",
                "        REPLICATE('a', 50))\r\n",
                "GO 100000\r\n",
                "\r\n",
                "EXECUTE sp_estimate_data_compression_savings \r\n",
                "    @schema_name = 'dbo', \r\n",
                "    @object_name = 'ArchiveJobPosting', \r\n",
                "    @index_id = NULL, \r\n",
                "    @partition_number = NULL, \r\n",
                "    @data_compression = 'ROW';\r\n",
                "\r\n",
                "EXECUTE sp_estimate_data_compression_savings \r\n",
                "    @schema_name = 'dbo', \r\n",
                "    @object_name = 'ArchiveJobPosting', \r\n",
                "    @index_id = NULL, \r\n",
                "    @partition_number = NULL, \r\n",
                "    @data_compression = 'PAGE';\r\n",
                "\r\n",
                "ALTER TABLE dbo.ArchiveJobPosting REBUILD WITH (DATA_COMPRESSION = PAGE);\r\n",
                "\r\n",
                "CREATE PARTITION FUNCTION pfn_ArchivePart(int) \r\n",
                "AS RANGE LEFT FOR VALUES (50000, 100000, 150000);\r\n",
                "GO\r\n",
                "CREATE PARTITION SCHEME psc_ArchivePart\r\n",
                "AS PARTITION pfn_ArchivePart\r\n",
                "TO (hitfg1, hitfg2, hitfg3, hitfg4);\r\n",
                "GO\r\n",
                "CREATE TABLE dbo.ArchiveJobPosting_V2\r\n",
                "       (\r\n",
                "        JobPostingID INT NOT NULL IDENTITY PRIMARY KEY CLUSTERED,\r\n",
                "        CandidateID INT NOT NULL,\r\n",
                "        JobDesc CHAR(2000) NOT NULL\r\n",
                "       )\r\n",
                "ON     psc_ArchivePart(JobPostingID)\r\n",
                "WITH (\r\n",
                "    DATA_COMPRESSION = PAGE ON PARTITIONS (1 TO 3),\r\n",
                "    DATA_COMPRESSION = ROW ON PARTITIONS (4));\r\n",
                "GO\r\n",
                "\r\n",
                "ALTER TABLE dbo.ArchiveJobPosting_V2\r\n",
                "REBUILD PARTITION = 4\r\n",
                "WITH (DATA_COMPRESSION = PAGE);\r\n",
                "GO"
            ],
            "metadata": {
                "azdata_cell_guid": "64dd3b5b-6e83-4f24-b939-2a92d05fdd83"
            },
            "outputs": [
                {
                    "output_type": "display_data",
                    "data": {
                        "text/html": "Commands completed successfully."
                    },
                    "metadata": {}
                },
                {
                    "output_type": "display_data",
                    "data": {
                        "text/html": "Commands completed successfully."
                    },
                    "metadata": {}
                },
                {
                    "output_type": "display_data",
                    "data": {
                        "text/html": "Beginning execution loop"
                    },
                    "metadata": {}
                },
                {
                    "output_type": "display_data",
                    "data": {
                        "text/html": "Batch execution completed 100000 times..."
                    },
                    "metadata": {}
                },
                {
                    "output_type": "display_data",
                    "data": {
                        "text/html": "Commands completed successfully."
                    },
                    "metadata": {}
                },
                {
                    "output_type": "display_data",
                    "data": {
                        "text/html": "Commands completed successfully."
                    },
                    "metadata": {}
                },
                {
                    "output_type": "display_data",
                    "data": {
                        "text/html": "Commands completed successfully."
                    },
                    "metadata": {}
                },
                {
                    "output_type": "display_data",
                    "data": {
                        "text/html": "Commands completed successfully."
                    },
                    "metadata": {}
                },
                {
                    "output_type": "display_data",
                    "data": {
                        "text/html": "Total execution time: 00:01:05.948"
                    },
                    "metadata": {}
                },
                {
                    "output_type": "execute_result",
                    "metadata": {},
                    "execution_count": 16,
                    "data": {
                        "application/vnd.dataresource+json": {
                            "schema": {
                                "fields": [
                                    {
                                        "name": "object_name"
                                    },
                                    {
                                        "name": "schema_name"
                                    },
                                    {
                                        "name": "index_id"
                                    },
                                    {
                                        "name": "partition_number"
                                    },
                                    {
                                        "name": "size_with_current_compression_setting(KB)"
                                    },
                                    {
                                        "name": "size_with_requested_compression_setting(KB)"
                                    },
                                    {
                                        "name": "sample_size_with_current_compression_setting(KB)"
                                    },
                                    {
                                        "name": "sample_size_with_requested_compression_setting(KB)"
                                    }
                                ]
                            },
                            "data": [
                                {
                                    "0": "ArchiveJobPosting",
                                    "1": "dbo",
                                    "2": "1",
                                    "3": "1",
                                    "4": "200752",
                                    "5": "6864",
                                    "6": "40216",
                                    "7": "1376"
                                }
                            ]
                        },
                        "text/html": [
                            "<table>",
                            "<tr><th>object_name</th><th>schema_name</th><th>index_id</th><th>partition_number</th><th>size_with_current_compression_setting(KB)</th><th>size_with_requested_compression_setting(KB)</th><th>sample_size_with_current_compression_setting(KB)</th><th>sample_size_with_requested_compression_setting(KB)</th></tr>",
                            "<tr><td>ArchiveJobPosting</td><td>dbo</td><td>1</td><td>1</td><td>200752</td><td>6864</td><td>40216</td><td>1376</td></tr>",
                            "</table>"
                        ]
                    }
                },
                {
                    "output_type": "execute_result",
                    "metadata": {},
                    "execution_count": 16,
                    "data": {
                        "application/vnd.dataresource+json": {
                            "schema": {
                                "fields": [
                                    {
                                        "name": "object_name"
                                    },
                                    {
                                        "name": "schema_name"
                                    },
                                    {
                                        "name": "index_id"
                                    },
                                    {
                                        "name": "partition_number"
                                    },
                                    {
                                        "name": "size_with_current_compression_setting(KB)"
                                    },
                                    {
                                        "name": "size_with_requested_compression_setting(KB)"
                                    },
                                    {
                                        "name": "sample_size_with_current_compression_setting(KB)"
                                    },
                                    {
                                        "name": "sample_size_with_requested_compression_setting(KB)"
                                    }
                                ]
                            },
                            "data": [
                                {
                                    "0": "ArchiveJobPosting",
                                    "1": "dbo",
                                    "2": "1",
                                    "3": "1",
                                    "4": "200752",
                                    "5": "1496",
                                    "6": "39624",
                                    "7": "296"
                                }
                            ]
                        },
                        "text/html": [
                            "<table>",
                            "<tr><th>object_name</th><th>schema_name</th><th>index_id</th><th>partition_number</th><th>size_with_current_compression_setting(KB)</th><th>size_with_requested_compression_setting(KB)</th><th>sample_size_with_current_compression_setting(KB)</th><th>sample_size_with_requested_compression_setting(KB)</th></tr>",
                            "<tr><td>ArchiveJobPosting</td><td>dbo</td><td>1</td><td>1</td><td>200752</td><td>1496</td><td>39624</td><td>296</td></tr>",
                            "</table>"
                        ]
                    }
                }
            ],
            "execution_count": 16
        },
        {
            "cell_type": "code",
            "source": [
                "--recipe 15.16\r\n",
                "IF OBJECT_ID('dbo.HeapTest') IS NOT NULL DROP TABLE dbo.HeapTest;\r\n",
                "CREATE TABLE dbo.HeapTest\r\n",
                "(\r\n",
                "\tHeapTest VARCHAR(1000)\r\n",
                ");\r\n",
                "GO\r\n",
                "INSERT INTO dbo.HeapTest (HeapTest)\r\n",
                "VALUES ('Test');\r\n",
                "GO 10000\r\n",
                "SELECT  index_type_desc,\r\n",
                "        fragment_count,\r\n",
                "        page_count,\r\n",
                "        forwarded_record_count\r\n",
                "FROM    sys.dm_db_index_physical_stats(DB_ID(), DEFAULT, DEFAULT, DEFAULT, 'DETAILED')\r\n",
                "WHERE   object_id = OBJECT_ID('dbo.HeapTest');\r\n",
                "GO\r\n",
                "UPDATE dbo.HeapTest\r\n",
                "SET HeapTest = REPLICATE('Test',250);\r\n",
                "GO\r\n",
                "SELECT  index_type_desc,\r\n",
                "        fragment_count,\r\n",
                "        page_count,\r\n",
                "        forwarded_record_count\r\n",
                "FROM    sys.dm_db_index_physical_stats(DB_ID(), DEFAULT, DEFAULT, DEFAULT, 'DETAILED')\r\n",
                "WHERE   object_id = OBJECT_ID('dbo.HeapTest');\r\n",
                "GO\r\n",
                "ALTER TABLE dbo.HeapTest REBUILD;\r\n",
                "GO\r\n",
                "\r\n",
                "SELECT  index_type_desc,\r\n",
                "        fragment_count,\r\n",
                "        page_count,\r\n",
                "        forwarded_record_count\r\n",
                "FROM    sys.dm_db_index_physical_stats(DB_ID(), DEFAULT, DEFAULT, DEFAULT, 'DETAILED')\r\n",
                "WHERE   object_id = OBJECT_ID('dbo.HeapTest');\r\n",
                "GO\r\n",
                ""
            ],
            "metadata": {
                "azdata_cell_guid": "cd87e81a-32ee-4c71-a283-82b1476bdb9c"
            },
            "outputs": [
                {
                    "output_type": "display_data",
                    "data": {
                        "text/html": "Commands completed successfully."
                    },
                    "metadata": {}
                },
                {
                    "output_type": "display_data",
                    "data": {
                        "text/html": "Beginning execution loop"
                    },
                    "metadata": {}
                },
                {
                    "output_type": "display_data",
                    "data": {
                        "text/html": "Batch execution completed 10000 times..."
                    },
                    "metadata": {}
                },
                {
                    "output_type": "display_data",
                    "data": {
                        "text/html": "Commands completed successfully."
                    },
                    "metadata": {}
                },
                {
                    "output_type": "execute_result",
                    "metadata": {},
                    "execution_count": 17,
                    "data": {
                        "application/vnd.dataresource+json": {
                            "schema": {
                                "fields": [
                                    {
                                        "name": "index_type_desc"
                                    },
                                    {
                                        "name": "fragment_count"
                                    },
                                    {
                                        "name": "page_count"
                                    },
                                    {
                                        "name": "forwarded_record_count"
                                    }
                                ]
                            },
                            "data": [
                                {
                                    "0": "HEAP",
                                    "1": "2",
                                    "2": "23",
                                    "3": "0"
                                }
                            ]
                        },
                        "text/html": [
                            "<table>",
                            "<tr><th>index_type_desc</th><th>fragment_count</th><th>page_count</th><th>forwarded_record_count</th></tr>",
                            "<tr><td>HEAP</td><td>2</td><td>23</td><td>0</td></tr>",
                            "</table>"
                        ]
                    }
                },
                {
                    "output_type": "display_data",
                    "data": {
                        "text/html": "Commands completed successfully."
                    },
                    "metadata": {}
                },
                {
                    "output_type": "display_data",
                    "data": {
                        "text/html": "Commands completed successfully."
                    },
                    "metadata": {}
                },
                {
                    "output_type": "display_data",
                    "data": {
                        "text/html": "Commands completed successfully."
                    },
                    "metadata": {}
                },
                {
                    "output_type": "display_data",
                    "data": {
                        "text/html": "Commands completed successfully."
                    },
                    "metadata": {}
                },
                {
                    "output_type": "display_data",
                    "data": {
                        "text/html": "Total execution time: 00:00:07.247"
                    },
                    "metadata": {}
                },
                {
                    "output_type": "execute_result",
                    "metadata": {},
                    "execution_count": 17,
                    "data": {
                        "application/vnd.dataresource+json": {
                            "schema": {
                                "fields": [
                                    {
                                        "name": "index_type_desc"
                                    },
                                    {
                                        "name": "fragment_count"
                                    },
                                    {
                                        "name": "page_count"
                                    },
                                    {
                                        "name": "forwarded_record_count"
                                    }
                                ]
                            },
                            "data": [
                                {
                                    "0": "HEAP",
                                    "1": "2",
                                    "2": "1442",
                                    "3": "9934"
                                }
                            ]
                        },
                        "text/html": [
                            "<table>",
                            "<tr><th>index_type_desc</th><th>fragment_count</th><th>page_count</th><th>forwarded_record_count</th></tr>",
                            "<tr><td>HEAP</td><td>2</td><td>1442</td><td>9934</td></tr>",
                            "</table>"
                        ]
                    }
                },
                {
                    "output_type": "execute_result",
                    "metadata": {},
                    "execution_count": 17,
                    "data": {
                        "application/vnd.dataresource+json": {
                            "schema": {
                                "fields": [
                                    {
                                        "name": "index_type_desc"
                                    },
                                    {
                                        "name": "fragment_count"
                                    },
                                    {
                                        "name": "page_count"
                                    },
                                    {
                                        "name": "forwarded_record_count"
                                    }
                                ]
                            },
                            "data": [
                                {
                                    "0": "HEAP",
                                    "1": "5",
                                    "2": "1433",
                                    "3": "0"
                                }
                            ]
                        },
                        "text/html": [
                            "<table>",
                            "<tr><th>index_type_desc</th><th>fragment_count</th><th>page_count</th><th>forwarded_record_count</th></tr>",
                            "<tr><td>HEAP</td><td>5</td><td>1433</td><td>0</td></tr>",
                            "</table>"
                        ]
                    }
                }
            ],
            "execution_count": 17
        },
        {
            "cell_type": "code",
            "source": [
                "-- cleanup\r\n",
                "USE master;\r\n",
                "GO\r\n",
                "IF DB_ID('MegaCorpData') IS NOT NULL DROP DATABASE MegaCorpData;\r\n",
                "GO"
            ],
            "metadata": {
                "azdata_cell_guid": "8b032f46-9163-4357-84a0-fb7ac0f782ce"
            },
            "outputs": [
                {
                    "output_type": "display_data",
                    "data": {
                        "text/html": "Commands completed successfully."
                    },
                    "metadata": {}
                },
                {
                    "output_type": "display_data",
                    "data": {
                        "text/html": "Commands completed successfully."
                    },
                    "metadata": {}
                },
                {
                    "output_type": "display_data",
                    "data": {
                        "text/html": "Total execution time: 00:00:00.170"
                    },
                    "metadata": {}
                }
            ],
            "execution_count": 18
        }
    ]
}