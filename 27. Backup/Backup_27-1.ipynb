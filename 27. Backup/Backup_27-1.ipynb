{
    "metadata": {
        "kernelspec": {
            "name": "SQL",
            "display_name": "SQL",
            "language": "sql"
        },
        "language_info": {
            "name": "sql",
            "version": ""
        }
    },
    "nbformat_minor": 2,
    "nbformat": 4,
    "cells": [
        {
            "cell_type": "code",
            "source": [
                "/* 27-1 */\r\n",
                "USE master;\r\n",
                "GO\r\n",
                "\r\n",
                "BACKUP DATABASE AdventureWorks2014\r\n",
                "TO DISK = 'C:\\Apress\\AdventureWorks2014.bak';\r\n",
                "GO"
            ],
            "metadata": {
                "azdata_cell_guid": "eb467880-6cf1-4623-860f-4de551b4f09e"
            },
            "outputs": [
                {
                    "output_type": "display_data",
                    "data": {
                        "text/html": "Commands completed successfully."
                    },
                    "metadata": {}
                },
                {
                    "output_type": "error",
                    "evalue": "Msg 3201, Level 16, State 1, Line 5\r\nCannot open backup device 'C:\\Apress\\AdventureWorks2014.bak'. Operating system error 3(The system cannot find the path specified.).",
                    "ename": "",
                    "traceback": []
                },
                {
                    "output_type": "error",
                    "evalue": "Msg 3013, Level 16, State 1, Line 5\r\nBACKUP DATABASE is terminating abnormally.",
                    "ename": "",
                    "traceback": []
                },
                {
                    "output_type": "display_data",
                    "data": {
                        "text/html": "Total execution time: 00:00:00.198"
                    },
                    "metadata": {}
                }
            ],
            "execution_count": 1
        }
    ]
}