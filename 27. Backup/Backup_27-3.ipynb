{
    "metadata": {
        "kernelspec": {
            "name": "SQL",
            "display_name": "SQL",
            "language": "sql"
        },
        "language_info": {
            "name": "sql",
            "version": ""
        }
    },
    "nbformat_minor": 2,
    "nbformat": 4,
    "cells": [
        {
            "cell_type": "code",
            "source": [
                "/* 27-3 */\r\n",
                "USE master;\r\n",
                "GO\r\n",
                "BACKUP DATABASE AdventureWorks2014 \r\n",
                "TO  DISK = 'C:\\Apress\\AdventureWorks2014check.bak' \r\n",
                "WITH CHECKSUM;"
            ],
            "metadata": {
                "azdata_cell_guid": "ac4a28df-7e68-440a-b346-058cfa856ae4"
            },
            "outputs": [
                {
                    "output_type": "display_data",
                    "data": {
                        "text/html": "Commands completed successfully."
                    },
                    "metadata": {}
                },
                {
                    "output_type": "display_data",
                    "data": {
                        "text/html": "Processed 24640 pages for database 'AdventureWorks2014', file 'AdventureWorks2014_Data' on file 1."
                    },
                    "metadata": {}
                },
                {
                    "output_type": "display_data",
                    "data": {
                        "text/html": "Processed 1 pages for database 'AdventureWorks2014', file 'AdventureWorks2014_Log' on file 1."
                    },
                    "metadata": {}
                },
                {
                    "output_type": "display_data",
                    "data": {
                        "text/html": "BACKUP DATABASE successfully processed 24641 pages in 1.098 seconds (175.320 MB/sec)."
                    },
                    "metadata": {}
                },
                {
                    "output_type": "display_data",
                    "data": {
                        "text/html": "Total execution time: 00:00:01.144"
                    },
                    "metadata": {}
                }
            ],
            "execution_count": 1
        },
        {
            "cell_type": "code",
            "source": [
                "/* restore validation */\r\n",
                "USE master;\r\n",
                "GO\r\n",
                "RESTORE VERIFYONLY \r\n",
                "FROM  DISK = 'C:\\Apress\\AdventureWorks2014check.bak'\r\n",
                "WITH CHECKSUM;"
            ],
            "metadata": {
                "azdata_cell_guid": "13219cc4-d322-4e30-bc8b-29035f4d9fa8"
            },
            "outputs": [
                {
                    "output_type": "display_data",
                    "data": {
                        "text/html": "Commands completed successfully."
                    },
                    "metadata": {}
                },
                {
                    "output_type": "display_data",
                    "data": {
                        "text/html": "The backup set on file 1 is valid."
                    },
                    "metadata": {}
                },
                {
                    "output_type": "display_data",
                    "data": {
                        "text/html": "Total execution time: 00:00:00.436"
                    },
                    "metadata": {}
                }
            ],
            "execution_count": 2
        },
        {
            "cell_type": "code",
            "source": [
                "/* continue after error */\r\n",
                "USE master;\r\n",
                "GO\r\n",
                "BACKUP DATABASE AdventureWorks2014 \r\n",
                "TO  DISK = 'C:\\Apress\\AdventureWorks2014checkcon.bak' \r\n",
                "WITH CHECKSUM, CONTINUE_AFTER_ERROR;"
            ],
            "metadata": {
                "azdata_cell_guid": "3234fc4e-0480-46b8-bc9f-daa29e22cefd"
            },
            "outputs": [
                {
                    "output_type": "display_data",
                    "data": {
                        "text/html": "Commands completed successfully."
                    },
                    "metadata": {}
                },
                {
                    "output_type": "display_data",
                    "data": {
                        "text/html": "Processed 24640 pages for database 'AdventureWorks2014', file 'AdventureWorks2014_Data' on file 1."
                    },
                    "metadata": {}
                },
                {
                    "output_type": "display_data",
                    "data": {
                        "text/html": "Processed 1 pages for database 'AdventureWorks2014', file 'AdventureWorks2014_Log' on file 1."
                    },
                    "metadata": {}
                },
                {
                    "output_type": "display_data",
                    "data": {
                        "text/html": "BACKUP DATABASE successfully processed 24641 pages in 1.107 seconds (173.894 MB/sec)."
                    },
                    "metadata": {}
                },
                {
                    "output_type": "display_data",
                    "data": {
                        "text/html": "Total execution time: 00:00:01.179"
                    },
                    "metadata": {}
                }
            ],
            "execution_count": 3
        }
    ]
}