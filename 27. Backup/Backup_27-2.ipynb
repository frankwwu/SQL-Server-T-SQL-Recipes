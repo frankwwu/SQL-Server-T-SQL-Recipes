{
    "metadata": {
        "kernelspec": {
            "name": "SQL",
            "display_name": "SQL",
            "language": "sql"
        },
        "language_info": {
            "name": "sql",
            "version": ""
        }
    },
    "nbformat_minor": 2,
    "nbformat": 4,
    "cells": [
        {
            "cell_type": "code",
            "source": [
                "/* 27-2 */\r\n",
                "USE master;\r\n",
                "GO\r\n",
                "BACKUP DATABASE AdventureWorks2014\r\n",
                "TO DISK = 'C:\\Apress\\AdventureWorks2014compress.bak'\r\n",
                "WITH COMPRESSION;\r\n",
                "GO"
            ],
            "metadata": {
                "azdata_cell_guid": "b3429532-b8c0-45a8-a7ab-57154fa81130"
            },
            "outputs": [
                {
                    "output_type": "display_data",
                    "data": {
                        "text/html": "Commands completed successfully."
                    },
                    "metadata": {}
                },
                {
                    "output_type": "display_data",
                    "data": {
                        "text/html": "Processed 24640 pages for database 'AdventureWorks2014', file 'AdventureWorks2014_Data' on file 1."
                    },
                    "metadata": {}
                },
                {
                    "output_type": "display_data",
                    "data": {
                        "text/html": "Processed 1 pages for database 'AdventureWorks2014', file 'AdventureWorks2014_Log' on file 1."
                    },
                    "metadata": {}
                },
                {
                    "output_type": "display_data",
                    "data": {
                        "text/html": "BACKUP DATABASE successfully processed 24641 pages in 0.864 seconds (222.802 MB/sec)."
                    },
                    "metadata": {}
                },
                {
                    "output_type": "display_data",
                    "data": {
                        "text/html": "Total execution time: 00:00:01.037"
                    },
                    "metadata": {}
                }
            ],
            "execution_count": 1
        },
        {
            "cell_type": "code",
            "source": [
                "USE msdb;\r\n",
                "GO\r\n",
                "SELECT TOP 2\r\n",
                "\tbs.database_name\r\n",
                "    ,CONVERT(DECIMAL(18,2),backup_size/1024/1024.0) AS backup_mb\r\n",
                "    ,CONVERT(DECIMAL(18,2),compressed_backup_size/1024/1024.0) AS compressed_backup_mb\r\n",
                "    ,CONVERT(DECIMAL(18,2),backup_size/compressed_backup_size)  AS ratio\r\n",
                "\t,(1 - CONVERT(DECIMAL(18,2),compressed_backup_size/backup_size))*100 as CompressPercent\r\n",
                "FROM msdb.dbo.backupset bs\r\n",
                "WHERE bs.database_name = 'Adventureworks2014'\r\n",
                "\tAND bs.type = 'D'\r\n",
                "ORDER BY backup_start_date DESC;\r\n",
                "GO"
            ],
            "metadata": {
                "azdata_cell_guid": "005bb6f0-2a16-4d2d-9cd2-fafdc4e44ffa"
            },
            "outputs": [
                {
                    "output_type": "display_data",
                    "data": {
                        "text/html": "Commands completed successfully."
                    },
                    "metadata": {}
                },
                {
                    "output_type": "display_data",
                    "data": {
                        "text/html": "(2 rows affected)"
                    },
                    "metadata": {}
                },
                {
                    "output_type": "display_data",
                    "data": {
                        "text/html": "Total execution time: 00:00:00.125"
                    },
                    "metadata": {}
                },
                {
                    "output_type": "execute_result",
                    "metadata": {},
                    "execution_count": 2,
                    "data": {
                        "application/vnd.dataresource+json": {
                            "schema": {
                                "fields": [
                                    {
                                        "name": "database_name"
                                    },
                                    {
                                        "name": "backup_mb"
                                    },
                                    {
                                        "name": "compressed_backup_mb"
                                    },
                                    {
                                        "name": "ratio"
                                    },
                                    {
                                        "name": "CompressPercent"
                                    }
                                ]
                            },
                            "data": [
                                {
                                    "0": "AdventureWorks2014",
                                    "1": "194.08",
                                    "2": "45.05",
                                    "3": "4.31",
                                    "4": "77.00"
                                },
                                {
                                    "0": "AdventureWorks2014",
                                    "1": "190.08",
                                    "2": "44.58",
                                    "3": "4.26",
                                    "4": "77.00"
                                }
                            ]
                        },
                        "text/html": [
                            "<table>",
                            "<tr><th>database_name</th><th>backup_mb</th><th>compressed_backup_mb</th><th>ratio</th><th>CompressPercent</th></tr>",
                            "<tr><td>AdventureWorks2014</td><td>194.08</td><td>45.05</td><td>4.31</td><td>77.00</td></tr>",
                            "<tr><td>AdventureWorks2014</td><td>190.08</td><td>44.58</td><td>4.26</td><td>77.00</td></tr>",
                            "</table>"
                        ]
                    }
                }
            ],
            "execution_count": 2
        }
    ]
}