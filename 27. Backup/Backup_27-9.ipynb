{
    "metadata": {
        "kernelspec": {
            "name": "SQL",
            "display_name": "SQL",
            "language": "sql"
        },
        "language_info": {
            "name": "sql",
            "version": ""
        }
    },
    "nbformat_minor": 2,
    "nbformat": 4,
    "cells": [
        {
            "cell_type": "code",
            "source": [
                "/* 27-9 */\r\n",
                "CREATE DATABASE BackupFiles\r\n",
                " ON  PRIMARY \r\n",
                "( NAME = N'BackupFiles', FILENAME = N'C:\\Apress\\BackupFiles.mdf' , SIZE = 4096KB , FILEGROWTH = 1024KB ), \r\n",
                " FILEGROUP [Current] \r\n",
                "( NAME = N'CurrentData', FILENAME = 'C:\\Apress\\CurrentData.ndf' , SIZE = 4096KB , FILEGROWTH = 1024KB ), \r\n",
                " FILEGROUP [Historic] \r\n",
                "( NAME = N'HistoricData', FILENAME = 'C:\\Apress\\HistoricData.ndf' , SIZE = 4096KB , FILEGROWTH = 1024KB )\r\n",
                " LOG ON \r\n",
                "( NAME = N'BackupFiles_log', FILENAME = 'C:\\Apress\\BackupFiles_log.ldf' , SIZE = 1024KB , FILEGROWTH = 512KB);\r\n",
                "GO\r\n",
                "ALTER DATABASE [BackupFiles] SET RECOVERY FULL; \r\n",
                "GO"
            ],
            "metadata": {
                "azdata_cell_guid": "1fc761f8-ad01-4b83-b30f-c52a0d0e5b71"
            },
            "outputs": [
                {
                    "output_type": "display_data",
                    "data": {
                        "text/html": "Commands completed successfully."
                    },
                    "metadata": {}
                },
                {
                    "output_type": "display_data",
                    "data": {
                        "text/html": "Commands completed successfully."
                    },
                    "metadata": {}
                },
                {
                    "output_type": "display_data",
                    "data": {
                        "text/html": "Total execution time: 00:00:00.318"
                    },
                    "metadata": {}
                }
            ],
            "execution_count": 1
        },
        {
            "cell_type": "code",
            "source": [
                "/* Backup a File */\r\n",
                "USE master;\r\n",
                "GO\r\n",
                "\r\n",
                "BACKUP DATABASE BackupFiles\r\n",
                "FILE = 'HistoricData'\r\n",
                "TO DISK =  'C:\\Apress\\Historic.bak';\r\n",
                "GO"
            ],
            "metadata": {
                "azdata_cell_guid": "78c67d3c-5350-4030-9061-ee6a32586e65"
            },
            "outputs": [
                {
                    "output_type": "display_data",
                    "data": {
                        "text/html": "Commands completed successfully."
                    },
                    "metadata": {}
                },
                {
                    "output_type": "display_data",
                    "data": {
                        "text/html": "Processed 8 pages for database 'BackupFiles', file 'HistoricData' on file 1."
                    },
                    "metadata": {}
                },
                {
                    "output_type": "display_data",
                    "data": {
                        "text/html": "Processed 3 pages for database 'BackupFiles', file 'BackupFiles_log' on file 1."
                    },
                    "metadata": {}
                },
                {
                    "output_type": "display_data",
                    "data": {
                        "text/html": "BACKUP DATABASE...FILE=<name> successfully processed 11 pages in 0.026 seconds (3.079 MB/sec)."
                    },
                    "metadata": {}
                },
                {
                    "output_type": "display_data",
                    "data": {
                        "text/html": "Total execution time: 00:00:00.087"
                    },
                    "metadata": {}
                }
            ],
            "execution_count": 2
        },
        {
            "cell_type": "code",
            "source": [
                "/* backup a FG */\r\n",
                "USE master;\r\n",
                "GO\r\n",
                "\r\n",
                "BACKUP DATABASE BackupFiles\r\n",
                "FILEGROUP = 'Historic'\r\n",
                "TO DISK =  'C:\\Apress\\HistoricFG.bak';\r\n",
                "GO"
            ],
            "metadata": {
                "azdata_cell_guid": "add9cfb7-ec46-4e4c-b4b7-bf8b59ddbcca"
            },
            "outputs": [
                {
                    "output_type": "display_data",
                    "data": {
                        "text/html": "Commands completed successfully."
                    },
                    "metadata": {}
                },
                {
                    "output_type": "display_data",
                    "data": {
                        "text/html": "Processed 8 pages for database 'BackupFiles', file 'HistoricData' on file 1."
                    },
                    "metadata": {}
                },
                {
                    "output_type": "display_data",
                    "data": {
                        "text/html": "Processed 1 pages for database 'BackupFiles', file 'BackupFiles_log' on file 1."
                    },
                    "metadata": {}
                },
                {
                    "output_type": "display_data",
                    "data": {
                        "text/html": "BACKUP DATABASE...FILE=<name> successfully processed 9 pages in 0.028 seconds (2.511 MB/sec)."
                    },
                    "metadata": {}
                },
                {
                    "output_type": "display_data",
                    "data": {
                        "text/html": "Total execution time: 00:00:00.082"
                    },
                    "metadata": {}
                }
            ],
            "execution_count": 3
        }
    ]
}