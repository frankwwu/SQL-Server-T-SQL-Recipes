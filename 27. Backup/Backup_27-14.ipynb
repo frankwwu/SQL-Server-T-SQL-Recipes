{
    "metadata": {
        "kernelspec": {
            "name": "SQL",
            "display_name": "SQL",
            "language": "sql"
        },
        "language_info": {
            "name": "sql",
            "version": ""
        }
    },
    "nbformat_minor": 2,
    "nbformat": 4,
    "cells": [
        {
            "cell_type": "code",
            "source": [
                "/* 27-14 */\r\n",
                "--backup the database\r\n",
                "USE master;\r\n",
                "GO\r\n",
                "\r\n",
                "BACKUP DATABASE AdventureWorks2014\r\n",
                "TO DISK = N'C:\\Apress\\AdventureWorks2014_compenc.bak'\r\n",
                "WITH\r\n",
                "  COMPRESSION,\r\n",
                "  ENCRYPTION \r\n",
                "   (\r\n",
                "   ALGORITHM = AES_256,\r\n",
                "   SERVER CERTIFICATE = AW2014BackupCert\r\n",
                "   ),\r\n",
                "  STATS = 5\r\n",
                "GO"
            ],
            "metadata": {
                "azdata_cell_guid": "17f4da9f-7597-499e-9caa-32e3e53bd6dd"
            },
            "outputs": [
                {
                    "output_type": "display_data",
                    "data": {
                        "text/html": "Commands completed successfully."
                    },
                    "metadata": {}
                },
                {
                    "output_type": "display_data",
                    "data": {
                        "text/html": "Warning: The certificate used for encrypting the database encryption key has not been backed up. You should immediately back up the certificate and the private key associated with the certificate. If the certificate ever becomes unavailable or if you must restore or attach the database on another server, you must have backups of both the certificate and the private key or you will not be able to open the database."
                    },
                    "metadata": {}
                },
                {
                    "output_type": "display_data",
                    "data": {
                        "text/html": "5 percent processed."
                    },
                    "metadata": {}
                },
                {
                    "output_type": "display_data",
                    "data": {
                        "text/html": "10 percent processed."
                    },
                    "metadata": {}
                },
                {
                    "output_type": "display_data",
                    "data": {
                        "text/html": "15 percent processed."
                    },
                    "metadata": {}
                },
                {
                    "output_type": "display_data",
                    "data": {
                        "text/html": "20 percent processed."
                    },
                    "metadata": {}
                },
                {
                    "output_type": "display_data",
                    "data": {
                        "text/html": "25 percent processed."
                    },
                    "metadata": {}
                },
                {
                    "output_type": "display_data",
                    "data": {
                        "text/html": "30 percent processed."
                    },
                    "metadata": {}
                },
                {
                    "output_type": "display_data",
                    "data": {
                        "text/html": "35 percent processed."
                    },
                    "metadata": {}
                },
                {
                    "output_type": "display_data",
                    "data": {
                        "text/html": "40 percent processed."
                    },
                    "metadata": {}
                },
                {
                    "output_type": "display_data",
                    "data": {
                        "text/html": "45 percent processed."
                    },
                    "metadata": {}
                },
                {
                    "output_type": "display_data",
                    "data": {
                        "text/html": "50 percent processed."
                    },
                    "metadata": {}
                },
                {
                    "output_type": "display_data",
                    "data": {
                        "text/html": "55 percent processed."
                    },
                    "metadata": {}
                },
                {
                    "output_type": "display_data",
                    "data": {
                        "text/html": "60 percent processed."
                    },
                    "metadata": {}
                },
                {
                    "output_type": "display_data",
                    "data": {
                        "text/html": "65 percent processed."
                    },
                    "metadata": {}
                },
                {
                    "output_type": "display_data",
                    "data": {
                        "text/html": "70 percent processed."
                    },
                    "metadata": {}
                },
                {
                    "output_type": "display_data",
                    "data": {
                        "text/html": "75 percent processed."
                    },
                    "metadata": {}
                },
                {
                    "output_type": "display_data",
                    "data": {
                        "text/html": "80 percent processed."
                    },
                    "metadata": {}
                },
                {
                    "output_type": "display_data",
                    "data": {
                        "text/html": "85 percent processed."
                    },
                    "metadata": {}
                },
                {
                    "output_type": "display_data",
                    "data": {
                        "text/html": "90 percent processed."
                    },
                    "metadata": {}
                },
                {
                    "output_type": "display_data",
                    "data": {
                        "text/html": "95 percent processed."
                    },
                    "metadata": {}
                },
                {
                    "output_type": "display_data",
                    "data": {
                        "text/html": "100 percent processed."
                    },
                    "metadata": {}
                },
                {
                    "output_type": "display_data",
                    "data": {
                        "text/html": "Processed 25744 pages for database 'AdventureWorks2014', file 'AdventureWorks2014_Data' on file 1."
                    },
                    "metadata": {}
                },
                {
                    "output_type": "display_data",
                    "data": {
                        "text/html": "Processed 1 pages for database 'AdventureWorks2014', file 'AdventureWorks2014_Log' on file 1."
                    },
                    "metadata": {}
                },
                {
                    "output_type": "display_data",
                    "data": {
                        "text/html": "BACKUP DATABASE successfully processed 25745 pages in 0.851 seconds (236.341 MB/sec)."
                    },
                    "metadata": {}
                },
                {
                    "output_type": "display_data",
                    "data": {
                        "text/html": "Total execution time: 00:00:00.946"
                    },
                    "metadata": {}
                }
            ],
            "execution_count": 1
        },
        {
            "cell_type": "code",
            "source": [
                "USE msdb;\r\n",
                "GO\r\n",
                "SELECT bs.database_name,\r\n",
                "\t   bs.backup_start_date,\r\n",
                "\t   CASE bs.type\r\n",
                "\t     WHEN 'D' THEN 'Full Database'\r\n",
                "\t     WHEN 'I' THEN 'Differential Database' \r\n",
                "\t     WHEN 'L' THEN 'Log' \r\n",
                "\t     WHEN 'F' THEN 'File or Filegroup' \r\n",
                "\t     WHEN 'G' THEN 'Differential File'\r\n",
                "\t     WHEN 'P' THEN 'Partial'\r\n",
                "\t     WHEN 'Q' THEN 'Differential Partial'\r\n",
                "\t     ELSE 'Unknown'\r\n",
                "\t   END AS BackupType,\r\n",
                "\t   bmf.physical_device_name,\r\n",
                "\t   bs.backup_size/1024/1024 as BackSizeMB,\r\n",
                "\t   bs.compressed_backup_size/1024/1024 as CompBackSizeMB,\r\n",
                "\t   bs.encryptor_type, bs.key_algorithm\r\n",
                "FROM backupset bs \r\n",
                "INNER JOIN backupmediafamily bmf\r\n",
                "ON bs.media_set_id = bmf.media_set_id\r\n",
                "WHERE bs.key_algorithm IS NOT NULL\r\n",
                "ORDER BY bs.database_name,bs.backup_start_date DESC;\r\n",
                "GO"
            ],
            "metadata": {
                "azdata_cell_guid": "3e34ca5c-c804-41fb-848d-0a578ddbda12"
            },
            "outputs": [
                {
                    "output_type": "display_data",
                    "data": {
                        "text/html": "Commands completed successfully."
                    },
                    "metadata": {}
                },
                {
                    "output_type": "display_data",
                    "data": {
                        "text/html": "(2 rows affected)"
                    },
                    "metadata": {}
                },
                {
                    "output_type": "display_data",
                    "data": {
                        "text/html": "Total execution time: 00:00:00.056"
                    },
                    "metadata": {}
                },
                {
                    "output_type": "execute_result",
                    "metadata": {},
                    "execution_count": 2,
                    "data": {
                        "application/vnd.dataresource+json": {
                            "schema": {
                                "fields": [
                                    {
                                        "name": "database_name"
                                    },
                                    {
                                        "name": "backup_start_date"
                                    },
                                    {
                                        "name": "BackupType"
                                    },
                                    {
                                        "name": "physical_device_name"
                                    },
                                    {
                                        "name": "BackSizeMB"
                                    },
                                    {
                                        "name": "CompBackSizeMB"
                                    },
                                    {
                                        "name": "encryptor_type"
                                    },
                                    {
                                        "name": "key_algorithm"
                                    }
                                ]
                            },
                            "data": [
                                {
                                    "0": "AdventureWorks2014",
                                    "1": "2020-10-20 17:24:47.000",
                                    "2": "Full Database",
                                    "3": "C:\\Apress\\AdventureWorks2014_compenc.bak",
                                    "4": "202.08203125000",
                                    "5": "47.33108520507",
                                    "6": "CERTIFICATE",
                                    "7": "aes_256"
                                },
                                {
                                    "0": "AdventureWorks2014",
                                    "1": "2020-10-20 17:23:33.000",
                                    "2": "Full Database",
                                    "3": "C:\\Apress\\AdventureWorks2014_enc.bak",
                                    "4": "202.08203125000",
                                    "5": "202.16551208496",
                                    "6": "CERTIFICATE",
                                    "7": "aes_256"
                                }
                            ]
                        },
                        "text/html": [
                            "<table>",
                            "<tr><th>database_name</th><th>backup_start_date</th><th>BackupType</th><th>physical_device_name</th><th>BackSizeMB</th><th>CompBackSizeMB</th><th>encryptor_type</th><th>key_algorithm</th></tr>",
                            "<tr><td>AdventureWorks2014</td><td>2020-10-20 17:24:47.000</td><td>Full Database</td><td>C:\\Apress\\AdventureWorks2014_compenc.bak</td><td>202.08203125000</td><td>47.33108520507</td><td>CERTIFICATE</td><td>aes_256</td></tr>",
                            "<tr><td>AdventureWorks2014</td><td>2020-10-20 17:23:33.000</td><td>Full Database</td><td>C:\\Apress\\AdventureWorks2014_enc.bak</td><td>202.08203125000</td><td>202.16551208496</td><td>CERTIFICATE</td><td>aes_256</td></tr>",
                            "</table>"
                        ]
                    }
                }
            ],
            "execution_count": 2
        }
    ]
}