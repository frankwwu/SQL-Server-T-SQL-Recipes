{
    "metadata": {
        "kernelspec": {
            "name": "SQL",
            "display_name": "SQL",
            "language": "sql"
        },
        "language_info": {
            "name": "sql",
            "version": ""
        }
    },
    "nbformat_minor": 2,
    "nbformat": 4,
    "cells": [
        {
            "cell_type": "code",
            "source": [
                "/* 27-4 */\r\n",
                "/* simplest option */\r\n",
                "BACKUP LOG AdventureWorks2014\r\n",
                "TO DISK = 'C:\\Apress\\AdventureWorks2014.trn';\r\n",
                "GO"
            ],
            "metadata": {
                "azdata_cell_guid": "5ec1a579-cfb2-464b-aabb-88f9f419fc2d"
            },
            "outputs": [
                {
                    "output_type": "error",
                    "evalue": "Msg 4208, Level 16, State 1, Line 3\r\nThe statement BACKUP LOG is not allowed while the recovery model is SIMPLE. Use BACKUP DATABASE or change the recovery model using ALTER DATABASE.",
                    "ename": "",
                    "traceback": []
                },
                {
                    "output_type": "error",
                    "evalue": "Msg 3013, Level 16, State 1, Line 3\r\nBACKUP LOG is terminating abnormally.",
                    "ename": "",
                    "traceback": []
                },
                {
                    "output_type": "display_data",
                    "data": {
                        "text/html": "Total execution time: 00:00:00.012"
                    },
                    "metadata": {}
                }
            ],
            "execution_count": 1
        },
        {
            "cell_type": "code",
            "source": [
                "/* to allow flexibility */\r\n",
                "DECLARE @DiskPath VARCHAR(256)\r\n",
                "\t, @DBName sysname = 'AdventureWorks2014';\r\n",
                "\r\n",
                "SET @DiskPath = 'C:\\Apress\\' + @DBName + '_'\r\n",
                "\t+ REPLACE(REPLACE(REPLACE(CONVERT(CHAR(19), GETDATE(), 126), ' ', '_'), '-',\r\n",
                "\t\t\t\t\t\t''), ':', '') + '.trn';"
            ],
            "metadata": {
                "azdata_cell_guid": "a2f6ce84-d333-494b-aca0-f361215d2d6d"
            },
            "outputs": [
                {
                    "output_type": "display_data",
                    "data": {
                        "text/html": "Commands completed successfully."
                    },
                    "metadata": {}
                },
                {
                    "output_type": "display_data",
                    "data": {
                        "text/html": "Total execution time: 00:00:00.018"
                    },
                    "metadata": {}
                }
            ],
            "execution_count": 2
        },
        {
            "cell_type": "code",
            "source": [
                "BACKUP LOG @DBName\r\n",
                "\tTO DISK = @DiskPath\r\n",
                "\tWITH INIT,CHECKSUM,COMPRESSION;\r\n",
                "GO"
            ],
            "metadata": {
                "azdata_cell_guid": "9a79efcd-fbeb-4f3c-b0f0-77486be7fadc"
            },
            "outputs": [
                {
                    "output_type": "error",
                    "evalue": "Msg 137, Level 15, State 2, Line 1\r\nMust declare the scalar variable \"@DBName\".",
                    "ename": "",
                    "traceback": []
                },
                {
                    "output_type": "display_data",
                    "data": {
                        "text/html": "Total execution time: 00:00:00.011"
                    },
                    "metadata": {}
                }
            ],
            "execution_count": 3
        }
    ]
}