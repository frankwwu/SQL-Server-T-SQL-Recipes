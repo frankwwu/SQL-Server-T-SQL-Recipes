{
    "metadata": {
        "kernelspec": {
            "name": "SQL",
            "display_name": "SQL",
            "language": "sql"
        },
        "language_info": {
            "name": "sql",
            "version": ""
        }
    },
    "nbformat_minor": 2,
    "nbformat": 4,
    "cells": [
        {
            "cell_type": "code",
            "source": [
                "/* 27-6 */\r\n",
                "USE master;\r\n",
                "GO\r\n",
                "\r\n",
                "BACKUP DATABASE AdventureWorks2014\r\n",
                "TO DISK =  'C:\\Apress\\AdventureWorks2014_diff.bak'\r\n",
                "WITH DIFFERENTIAL;\r\n",
                "GO"
            ],
            "metadata": {
                "azdata_cell_guid": "1f0d4f9e-a8c6-4764-ba16-8a539469b648"
            },
            "outputs": [
                {
                    "output_type": "display_data",
                    "data": {
                        "text/html": "Commands completed successfully."
                    },
                    "metadata": {}
                },
                {
                    "output_type": "display_data",
                    "data": {
                        "text/html": "Processed 2424 pages for database 'AdventureWorks2014', file 'AdventureWorks2014_Data' on file 1."
                    },
                    "metadata": {}
                },
                {
                    "output_type": "display_data",
                    "data": {
                        "text/html": "Processed 1 pages for database 'AdventureWorks2014', file 'AdventureWorks2014_Log' on file 1."
                    },
                    "metadata": {}
                },
                {
                    "output_type": "display_data",
                    "data": {
                        "text/html": "BACKUP DATABASE WITH DIFFERENTIAL successfully processed 2425 pages in 0.163 seconds (116.189 MB/sec)."
                    },
                    "metadata": {}
                },
                {
                    "output_type": "display_data",
                    "data": {
                        "text/html": "Total execution time: 00:00:00.234"
                    },
                    "metadata": {}
                }
            ],
            "execution_count": 1
        }
    ]
}