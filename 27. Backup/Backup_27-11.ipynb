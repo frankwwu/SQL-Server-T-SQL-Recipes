{
    "metadata": {
        "kernelspec": {
            "name": "SQL",
            "display_name": "SQL",
            "language": "sql"
        },
        "language_info": {
            "name": "sql",
            "version": ""
        }
    },
    "nbformat_minor": 2,
    "nbformat": 4,
    "cells": [
        {
            "cell_type": "code",
            "source": [
                "/* 27-11 */\r\n",
                "USE master;\r\n",
                "GO\r\n",
                "\r\n",
                "BACKUP DATABASE AdventureWorks2014\r\n",
                "TO DISK =  'C:\\Apress\\AdventureWorks2014Copydiff.bak'\r\n",
                "WITH COPY_ONLY;\r\n",
                "GO"
            ],
            "metadata": {
                "azdata_cell_guid": "7ce13f27-5d98-4a40-8c91-03d0cc55e32f"
            },
            "outputs": [
                {
                    "output_type": "display_data",
                    "data": {
                        "text/html": "Commands completed successfully."
                    },
                    "metadata": {}
                },
                {
                    "output_type": "display_data",
                    "data": {
                        "text/html": "Processed 25568 pages for database 'AdventureWorks2014', file 'AdventureWorks2014_Data' on file 1."
                    },
                    "metadata": {}
                },
                {
                    "output_type": "display_data",
                    "data": {
                        "text/html": "Processed 1 pages for database 'AdventureWorks2014', file 'AdventureWorks2014_Log' on file 1."
                    },
                    "metadata": {}
                },
                {
                    "output_type": "display_data",
                    "data": {
                        "text/html": "BACKUP DATABASE successfully processed 25569 pages in 1.138 seconds (175.528 MB/sec)."
                    },
                    "metadata": {}
                },
                {
                    "output_type": "display_data",
                    "data": {
                        "text/html": "Total execution time: 00:00:01.179"
                    },
                    "metadata": {}
                }
            ],
            "execution_count": 1
        },
        {
            "cell_type": "code",
            "source": [
                "/* check the backups */\r\n",
                "\r\n",
                "USE msdb;\r\n",
                "GO\r\n",
                "\r\n",
                "Select bs.database_name, bs.backup_finish_date\r\n",
                "\t, CASE bs.type\r\n",
                "\t\tWHEN 'D' THEN 'Full Database'\r\n",
                "\t\tWHEN 'I' THEN 'Differential Database'\r\n",
                "\t\tWHEN 'L' THEN 'Log'\r\n",
                "\t\tWHEN 'F' THEN 'File or filegroup'\r\n",
                "\t\tWHEN 'G' THEN 'Differential file'\r\n",
                "\t\tWHEN 'P' THEN 'Partial'\r\n",
                "\t\tWHEN 'Q' THEN 'Differential partial'\r\n",
                "\t\tEND AS BackupType\r\n",
                "\t,bs.is_copy_only, bs.recovery_model,bs.has_backup_checksums\r\n",
                "\t,bs.backup_size/1024/1024 as BackSizeMB\r\n",
                "\tFrom backupset bs;"
            ],
            "metadata": {
                "azdata_cell_guid": "8017f4e9-ad05-48cf-83f0-3bac5e081e9d"
            },
            "outputs": [
                {
                    "output_type": "display_data",
                    "data": {
                        "text/html": "Commands completed successfully."
                    },
                    "metadata": {}
                },
                {
                    "output_type": "display_data",
                    "data": {
                        "text/html": "(8 rows affected)"
                    },
                    "metadata": {}
                },
                {
                    "output_type": "display_data",
                    "data": {
                        "text/html": "Total execution time: 00:00:00.041"
                    },
                    "metadata": {}
                },
                {
                    "output_type": "execute_result",
                    "metadata": {},
                    "execution_count": 2,
                    "data": {
                        "application/vnd.dataresource+json": {
                            "schema": {
                                "fields": [
                                    {
                                        "name": "database_name"
                                    },
                                    {
                                        "name": "backup_finish_date"
                                    },
                                    {
                                        "name": "BackupType"
                                    },
                                    {
                                        "name": "is_copy_only"
                                    },
                                    {
                                        "name": "recovery_model"
                                    },
                                    {
                                        "name": "has_backup_checksums"
                                    },
                                    {
                                        "name": "BackSizeMB"
                                    }
                                ]
                            },
                            "data": [
                                {
                                    "0": "AdventureWorks2014",
                                    "1": "2014-07-17 16:18:22.000",
                                    "2": "Full Database",
                                    "3": "0",
                                    "4": "SIMPLE",
                                    "5": "0",
                                    "6": "190.07812500000"
                                },
                                {
                                    "0": "AdventureWorks2014",
                                    "1": "2020-09-27 12:23:00.000",
                                    "2": "Full Database",
                                    "3": "0",
                                    "4": "SIMPLE",
                                    "5": "0",
                                    "6": "194.08203125000"
                                },
                                {
                                    "0": "AdventureWorks2014",
                                    "1": "2020-09-27 12:24:26.000",
                                    "2": "Full Database",
                                    "3": "0",
                                    "4": "SIMPLE",
                                    "5": "1",
                                    "6": "194.08203125000"
                                },
                                {
                                    "0": "AdventureWorks2014",
                                    "1": "2020-09-27 12:24:33.000",
                                    "2": "Full Database",
                                    "3": "0",
                                    "4": "SIMPLE",
                                    "5": "1",
                                    "6": "194.08203125000"
                                },
                                {
                                    "0": "AdventureWorks2014",
                                    "1": "2020-10-07 20:05:11.000",
                                    "2": "Differential Database",
                                    "3": "0",
                                    "4": "SIMPLE",
                                    "5": "0",
                                    "6": "20.08203125000"
                                },
                                {
                                    "0": "BackupFiles",
                                    "1": "2020-10-07 20:09:46.000",
                                    "2": "File or filegroup",
                                    "3": "0",
                                    "4": "FULL",
                                    "5": "0",
                                    "6": "1.07812500000"
                                },
                                {
                                    "0": "BackupFiles",
                                    "1": "2020-10-07 20:09:51.000",
                                    "2": "File or filegroup",
                                    "3": "0",
                                    "4": "FULL",
                                    "5": "0",
                                    "6": "1.07812500000"
                                },
                                {
                                    "0": "AdventureWorks2014",
                                    "1": "2020-10-07 20:12:13.000",
                                    "2": "Full Database",
                                    "3": "1",
                                    "4": "SIMPLE",
                                    "5": "0",
                                    "6": "201.08203125000"
                                }
                            ]
                        },
                        "text/html": [
                            "<table>",
                            "<tr><th>database_name</th><th>backup_finish_date</th><th>BackupType</th><th>is_copy_only</th><th>recovery_model</th><th>has_backup_checksums</th><th>BackSizeMB</th></tr>",
                            "<tr><td>AdventureWorks2014</td><td>2014-07-17 16:18:22.000</td><td>Full Database</td><td>0</td><td>SIMPLE</td><td>0</td><td>190.07812500000</td></tr>",
                            "<tr><td>AdventureWorks2014</td><td>2020-09-27 12:23:00.000</td><td>Full Database</td><td>0</td><td>SIMPLE</td><td>0</td><td>194.08203125000</td></tr>",
                            "<tr><td>AdventureWorks2014</td><td>2020-09-27 12:24:26.000</td><td>Full Database</td><td>0</td><td>SIMPLE</td><td>1</td><td>194.08203125000</td></tr>",
                            "<tr><td>AdventureWorks2014</td><td>2020-09-27 12:24:33.000</td><td>Full Database</td><td>0</td><td>SIMPLE</td><td>1</td><td>194.08203125000</td></tr>",
                            "<tr><td>AdventureWorks2014</td><td>2020-10-07 20:05:11.000</td><td>Differential Database</td><td>0</td><td>SIMPLE</td><td>0</td><td>20.08203125000</td></tr>",
                            "<tr><td>BackupFiles</td><td>2020-10-07 20:09:46.000</td><td>File or filegroup</td><td>0</td><td>FULL</td><td>0</td><td>1.07812500000</td></tr>",
                            "<tr><td>BackupFiles</td><td>2020-10-07 20:09:51.000</td><td>File or filegroup</td><td>0</td><td>FULL</td><td>0</td><td>1.07812500000</td></tr>",
                            "<tr><td>AdventureWorks2014</td><td>2020-10-07 20:12:13.000</td><td>Full Database</td><td>1</td><td>SIMPLE</td><td>0</td><td>201.08203125000</td></tr>",
                            "</table>"
                        ]
                    }
                }
            ],
            "execution_count": 2
        }
    ]
}