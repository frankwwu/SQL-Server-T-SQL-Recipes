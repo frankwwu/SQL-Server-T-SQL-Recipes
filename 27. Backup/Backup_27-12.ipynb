{
    "metadata": {
        "kernelspec": {
            "name": "SQL",
            "display_name": "SQL",
            "language": "sql"
        },
        "language_info": {
            "name": "sql",
            "version": ""
        }
    },
    "nbformat_minor": 2,
    "nbformat": 4,
    "cells": [
        {
            "cell_type": "code",
            "source": [
                "/* 27-12 */\r\n",
                "USE msdb;\r\n",
                "GO\r\n",
                "SELECT bs.database_name,\r\n",
                "\t   bs.backup_start_date,\r\n",
                "\t   CASE bs.type\r\n",
                "\t     WHEN 'D' THEN 'Full Database'\r\n",
                "\t     WHEN 'I' THEN 'Differential Database' \r\n",
                "\t     WHEN 'L' THEN 'Log' \r\n",
                "\t     WHEN 'F' THEN 'File or Filegroup' \r\n",
                "\t     WHEN 'G' THEN 'Differential File'\r\n",
                "\t     WHEN 'P' THEN 'Partial'\r\n",
                "\t     WHEN 'Q' THEN 'Differential Partial'\r\n",
                "\t     ELSE 'Unknown'\r\n",
                "\t   END AS BackupType,\r\n",
                "\t   bmf.physical_device_name,\r\n",
                "\t   bs.backup_size/1024/1024 as BackSizeMB\r\n",
                "FROM dbo.backupset bs \r\n",
                "INNER JOIN dbo.backupmediafamily bmf\r\n",
                "ON bs.media_set_id = bmf.media_set_id\r\n",
                "ORDER BY bs.database_name,bs.backup_start_date DESC;\r\n",
                "GO"
            ],
            "metadata": {
                "azdata_cell_guid": "991f0534-7ecb-4fac-9226-9274b5918200"
            },
            "outputs": [
                {
                    "output_type": "display_data",
                    "data": {
                        "text/html": "Commands completed successfully."
                    },
                    "metadata": {}
                },
                {
                    "output_type": "display_data",
                    "data": {
                        "text/html": "(8 rows affected)"
                    },
                    "metadata": {}
                },
                {
                    "output_type": "display_data",
                    "data": {
                        "text/html": "Total execution time: 00:00:00.051"
                    },
                    "metadata": {}
                },
                {
                    "output_type": "execute_result",
                    "metadata": {},
                    "execution_count": 1,
                    "data": {
                        "application/vnd.dataresource+json": {
                            "schema": {
                                "fields": [
                                    {
                                        "name": "database_name"
                                    },
                                    {
                                        "name": "backup_start_date"
                                    },
                                    {
                                        "name": "BackupType"
                                    },
                                    {
                                        "name": "physical_device_name"
                                    },
                                    {
                                        "name": "BackSizeMB"
                                    }
                                ]
                            },
                            "data": [
                                {
                                    "0": "AdventureWorks2014",
                                    "1": "2020-10-07 20:12:12.000",
                                    "2": "Full Database",
                                    "3": "C:\\Apress\\AdventureWorks2014Copydiff.bak",
                                    "4": "201.08203125000"
                                },
                                {
                                    "0": "AdventureWorks2014",
                                    "1": "2020-10-07 20:05:11.000",
                                    "2": "Differential Database",
                                    "3": "C:\\Apress\\AdventureWorks2014_diff.bak",
                                    "4": "20.08203125000"
                                },
                                {
                                    "0": "AdventureWorks2014",
                                    "1": "2020-09-27 12:24:32.000",
                                    "2": "Full Database",
                                    "3": "C:\\Apress\\AdventureWorks2014checkcon.bak",
                                    "4": "194.08203125000"
                                },
                                {
                                    "0": "AdventureWorks2014",
                                    "1": "2020-09-27 12:24:25.000",
                                    "2": "Full Database",
                                    "3": "C:\\Apress\\AdventureWorks2014check.bak",
                                    "4": "194.08203125000"
                                },
                                {
                                    "0": "AdventureWorks2014",
                                    "1": "2020-09-27 12:22:59.000",
                                    "2": "Full Database",
                                    "3": "C:\\Apress\\AdventureWorks2014compress.bak",
                                    "4": "194.08203125000"
                                },
                                {
                                    "0": "AdventureWorks2014",
                                    "1": "2014-07-17 16:18:18.000",
                                    "2": "Full Database",
                                    "3": "C:\\Temp\\AdventureWorks2014.bak",
                                    "4": "190.07812500000"
                                },
                                {
                                    "0": "BackupFiles",
                                    "1": "2020-10-07 20:09:51.000",
                                    "2": "File or Filegroup",
                                    "3": "C:\\Apress\\HistoricFG.bak",
                                    "4": "1.07812500000"
                                },
                                {
                                    "0": "BackupFiles",
                                    "1": "2020-10-07 20:09:46.000",
                                    "2": "File or Filegroup",
                                    "3": "C:\\Apress\\Historic.bak",
                                    "4": "1.07812500000"
                                }
                            ]
                        },
                        "text/html": [
                            "<table>",
                            "<tr><th>database_name</th><th>backup_start_date</th><th>BackupType</th><th>physical_device_name</th><th>BackSizeMB</th></tr>",
                            "<tr><td>AdventureWorks2014</td><td>2020-10-07 20:12:12.000</td><td>Full Database</td><td>C:\\Apress\\AdventureWorks2014Copydiff.bak</td><td>201.08203125000</td></tr>",
                            "<tr><td>AdventureWorks2014</td><td>2020-10-07 20:05:11.000</td><td>Differential Database</td><td>C:\\Apress\\AdventureWorks2014_diff.bak</td><td>20.08203125000</td></tr>",
                            "<tr><td>AdventureWorks2014</td><td>2020-09-27 12:24:32.000</td><td>Full Database</td><td>C:\\Apress\\AdventureWorks2014checkcon.bak</td><td>194.08203125000</td></tr>",
                            "<tr><td>AdventureWorks2014</td><td>2020-09-27 12:24:25.000</td><td>Full Database</td><td>C:\\Apress\\AdventureWorks2014check.bak</td><td>194.08203125000</td></tr>",
                            "<tr><td>AdventureWorks2014</td><td>2020-09-27 12:22:59.000</td><td>Full Database</td><td>C:\\Apress\\AdventureWorks2014compress.bak</td><td>194.08203125000</td></tr>",
                            "<tr><td>AdventureWorks2014</td><td>2014-07-17 16:18:18.000</td><td>Full Database</td><td>C:\\Temp\\AdventureWorks2014.bak</td><td>190.07812500000</td></tr>",
                            "<tr><td>BackupFiles</td><td>2020-10-07 20:09:51.000</td><td>File or Filegroup</td><td>C:\\Apress\\HistoricFG.bak</td><td>1.07812500000</td></tr>",
                            "<tr><td>BackupFiles</td><td>2020-10-07 20:09:46.000</td><td>File or Filegroup</td><td>C:\\Apress\\Historic.bak</td><td>1.07812500000</td></tr>",
                            "</table>"
                        ]
                    }
                }
            ],
            "execution_count": 1
        }
    ]
}