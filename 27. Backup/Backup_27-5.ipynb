{
    "metadata": {
        "kernelspec": {
            "name": "SQL",
            "display_name": "SQL",
            "language": "sql"
        },
        "language_info": {
            "name": "sql",
            "version": ""
        }
    },
    "nbformat_minor": 2,
    "nbformat": 4,
    "cells": [
        {
            "cell_type": "code",
            "source": [
                "/* 27-5 */\r\n",
                "USE msdb;\r\n",
                "GO\r\n",
                "\r\n",
                "DECLARE @DBName VARCHAR(128) = 'AdventureWorks2014'\r\n",
                "\r\n",
                "SELECT d.name,ca.backup_finish_date AS LastFullBackup\r\n",
                "\t\t,bs.BACKUP_finish_date AS LastLogBackup\r\n",
                "\tFROM sys.databases d\r\n",
                "\t\tLEFT OUTER JOIN msdb.dbo.backupset bs\r\n",
                "\t\t\tON d.name = bs.database_name\r\n",
                "\t\t\tAND bs.TYPE = 'l'\r\n",
                "\t\tOUTER APPLY (SELECT TOP 1 database_name,backup_finish_date\r\n",
                "\t\t\t\t\t\tFROM msdb.dbo.backupset\r\n",
                "\t\t\t\t\t\tWHERE database_name = d.name\r\n",
                "\t\t\t\t\t\t\tAND type = 'D'\r\n",
                "\t\t\t\t\t\tORDER BY backup_finish_date DESC) ca\r\n",
                "\tWHERE d.recovery_model_desc <> 'simple'\r\n",
                "\t\tAND bs.database_name IS NULL\r\n",
                "\t\tAND d.name = @DBName;\r\n",
                "GO"
            ],
            "metadata": {
                "azdata_cell_guid": "5dc8d2fb-e5a5-4a3e-a430-10d9158a2583"
            },
            "outputs": [
                {
                    "output_type": "display_data",
                    "data": {
                        "text/html": "Commands completed successfully."
                    },
                    "metadata": {}
                },
                {
                    "output_type": "display_data",
                    "data": {
                        "text/html": "(0 rows affected)"
                    },
                    "metadata": {}
                },
                {
                    "output_type": "display_data",
                    "data": {
                        "text/html": "Total execution time: 00:00:00.259"
                    },
                    "metadata": {}
                },
                {
                    "output_type": "execute_result",
                    "metadata": {},
                    "execution_count": 1,
                    "data": {
                        "application/vnd.dataresource+json": {
                            "schema": {
                                "fields": [
                                    {
                                        "name": "name"
                                    },
                                    {
                                        "name": "LastFullBackup"
                                    },
                                    {
                                        "name": "LastLogBackup"
                                    }
                                ]
                            },
                            "data": []
                        },
                        "text/html": [
                            "<table>",
                            "<tr><th>name</th><th>LastFullBackup</th><th>LastLogBackup</th></tr>",
                            "</table>"
                        ]
                    }
                }
            ],
            "execution_count": 1
        },
        {
            "cell_type": "code",
            "source": [
                "/* whoops we have no log backup so take a log backup */\r\n",
                "USE master;\r\n",
                "GO\r\n",
                "\r\n",
                "BACKUP LOG AdventureWorks2014\r\n",
                "TO DISK = 'C:\\Apress\\AdventureWorks2014.trn';"
            ],
            "metadata": {
                "azdata_cell_guid": "af7d34bf-57ea-4824-b88f-7f42f05c16e9"
            },
            "outputs": [
                {
                    "output_type": "display_data",
                    "data": {
                        "text/html": "Commands completed successfully."
                    },
                    "metadata": {}
                },
                {
                    "output_type": "error",
                    "evalue": "Msg 4208, Level 16, State 1, Line 5\r\nThe statement BACKUP LOG is not allowed while the recovery model is SIMPLE. Use BACKUP DATABASE or change the recovery model using ALTER DATABASE.",
                    "ename": "",
                    "traceback": []
                },
                {
                    "output_type": "error",
                    "evalue": "Msg 3013, Level 16, State 1, Line 5\r\nBACKUP LOG is terminating abnormally.",
                    "ename": "",
                    "traceback": []
                },
                {
                    "output_type": "display_data",
                    "data": {
                        "text/html": "Total execution time: 00:00:00.025"
                    },
                    "metadata": {}
                }
            ],
            "execution_count": 2
        },
        {
            "cell_type": "code",
            "source": [
                "/* some additional checks */\r\n",
                "USE master;\r\n",
                "GO\r\n",
                "\r\n",
                "CREATE DATABASE Logging;\r\n",
                "GO"
            ],
            "metadata": {
                "azdata_cell_guid": "80628ac9-0831-47b8-bcc3-6eeef5b8858a"
            },
            "outputs": [
                {
                    "output_type": "display_data",
                    "data": {
                        "text/html": "Commands completed successfully."
                    },
                    "metadata": {}
                },
                {
                    "output_type": "error",
                    "evalue": "Msg 1801, Level 16, State 3, Line 5\r\nDatabase 'Logging' already exists. Choose a different database name.",
                    "ename": "",
                    "traceback": []
                },
                {
                    "output_type": "display_data",
                    "data": {
                        "text/html": "Total execution time: 00:00:00.004"
                    },
                    "metadata": {}
                }
            ],
            "execution_count": 3
        },
        {
            "cell_type": "code",
            "source": [
                "ALTER DATABASE Logging\r\n",
                "SET RECOVERY SIMPLE;\r\n",
                "GO\r\n",
                "\r\n",
                "USE Logging;\r\n",
                "GO\r\n",
                "\r\n",
                "CREATE TABLE FillErUp(\r\n",
                "RowInfo\tCHAR(150)\r\n",
                ");\r\n",
                "GO"
            ],
            "metadata": {
                "azdata_cell_guid": "2786530f-22b9-40f6-b0a1-bd82e8d94267"
            },
            "outputs": [
                {
                    "output_type": "display_data",
                    "data": {
                        "text/html": "Commands completed successfully."
                    },
                    "metadata": {}
                },
                {
                    "output_type": "display_data",
                    "data": {
                        "text/html": "Commands completed successfully."
                    },
                    "metadata": {}
                },
                {
                    "output_type": "error",
                    "evalue": "Msg 2714, Level 16, State 6, Line 8\r\nThere is already an object named 'FillErUp' in the database.",
                    "ename": "",
                    "traceback": []
                },
                {
                    "output_type": "display_data",
                    "data": {
                        "text/html": "Total execution time: 00:00:01.312"
                    },
                    "metadata": {}
                }
            ],
            "execution_count": 4
        },
        {
            "cell_type": "code",
            "source": [
                "/* check catalog views */\r\n",
                "USE master;\r\n",
                "GO\r\n",
                "DECLARE @DBName VARCHAR(128) = 'Logging';\r\n",
                "\r\n",
                "SELECT d.name as DBName, mf.size, d.recovery_model_desc, d.log_reuse_wait_desc\r\n",
                "\tFROM sys.master_files mf\r\n",
                "\t\tINNER JOIN sys.databases d\r\n",
                "\t\t\tON d.database_id = mf.database_id\r\n",
                "\tWHERE d.name = @DBName\r\n",
                "\t\tAND mf.type_desc = 'LOG';\r\n",
                "GO"
            ],
            "metadata": {
                "azdata_cell_guid": "591ab967-2a06-437e-9a1f-4a94f48edb99"
            },
            "outputs": [
                {
                    "output_type": "display_data",
                    "data": {
                        "text/html": "Commands completed successfully."
                    },
                    "metadata": {}
                },
                {
                    "output_type": "display_data",
                    "data": {
                        "text/html": "(1 row affected)"
                    },
                    "metadata": {}
                },
                {
                    "output_type": "display_data",
                    "data": {
                        "text/html": "Total execution time: 00:00:00.173"
                    },
                    "metadata": {}
                },
                {
                    "output_type": "execute_result",
                    "metadata": {},
                    "execution_count": 5,
                    "data": {
                        "application/vnd.dataresource+json": {
                            "schema": {
                                "fields": [
                                    {
                                        "name": "DBName"
                                    },
                                    {
                                        "name": "size"
                                    },
                                    {
                                        "name": "recovery_model_desc"
                                    },
                                    {
                                        "name": "log_reuse_wait_desc"
                                    }
                                ]
                            },
                            "data": [
                                {
                                    "0": "Logging",
                                    "1": "9216",
                                    "2": "SIMPLE",
                                    "3": "NOTHING"
                                }
                            ]
                        },
                        "text/html": [
                            "<table>",
                            "<tr><th>DBName</th><th>size</th><th>recovery_model_desc</th><th>log_reuse_wait_desc</th></tr>",
                            "<tr><td>Logging</td><td>9216</td><td>SIMPLE</td><td>NOTHING</td></tr>",
                            "</table>"
                        ]
                    }
                }
            ],
            "execution_count": 5
        },
        {
            "cell_type": "code",
            "source": [
                "USE Logging;\r\n",
                "GO\r\n",
                "SET NOCOUNT ON;\r\n",
                "DECLARE @count INT = 10000\r\n",
                "WHILE @count > 0\r\n",
                "BEGIN\r\n",
                "   INSERT INTO FillErUp (RowInfo)\r\n",
                "   SELECT 'This is row # ' + CONVERT(CHAR(4), @count)\r\n",
                "   SET @count -= 1\r\n",
                "END;\r\n",
                "GO"
            ],
            "metadata": {
                "azdata_cell_guid": "f33075e2-4248-4fa8-b1ef-a5aac3854ffa"
            },
            "outputs": [
                {
                    "output_type": "display_data",
                    "data": {
                        "text/html": "Commands completed successfully."
                    },
                    "metadata": {}
                },
                {
                    "output_type": "display_data",
                    "data": {
                        "text/html": "Commands completed successfully."
                    },
                    "metadata": {}
                },
                {
                    "output_type": "display_data",
                    "data": {
                        "text/html": "Total execution time: 00:00:02.955"
                    },
                    "metadata": {}
                }
            ],
            "execution_count": 6
        },
        {
            "cell_type": "code",
            "source": [
                "CHECKPOINT;\r\n",
                "GO"
            ],
            "metadata": {
                "azdata_cell_guid": "6037ee46-6e07-4a11-b515-75ba1e4c12d5"
            },
            "outputs": [
                {
                    "output_type": "display_data",
                    "data": {
                        "text/html": "Commands completed successfully."
                    },
                    "metadata": {}
                },
                {
                    "output_type": "display_data",
                    "data": {
                        "text/html": "Total execution time: 00:00:00.018"
                    },
                    "metadata": {}
                }
            ],
            "execution_count": 7
        },
        {
            "cell_type": "code",
            "source": [
                "/* check catalog views */\r\n",
                "USE master;\r\n",
                "GO\r\n",
                "DECLARE @DBName VARCHAR(128) = 'Logging';"
            ],
            "metadata": {
                "azdata_cell_guid": "b72bfe7e-40f9-4025-8e9f-b60a5e9e73fe"
            },
            "outputs": [
                {
                    "output_type": "display_data",
                    "data": {
                        "text/html": "Commands completed successfully."
                    },
                    "metadata": {}
                },
                {
                    "output_type": "display_data",
                    "data": {
                        "text/html": "Commands completed successfully."
                    },
                    "metadata": {}
                },
                {
                    "output_type": "display_data",
                    "data": {
                        "text/html": "Total execution time: 00:00:00.006"
                    },
                    "metadata": {}
                }
            ],
            "execution_count": 8
        },
        {
            "cell_type": "code",
            "source": [
                "SELECT d.name as DBName, mf.size, d.recovery_model_desc, d.log_reuse_wait_desc\r\n",
                "\tFROM sys.master_files mf\r\n",
                "\t\tINNER JOIN sys.databases d\r\n",
                "\t\t\tON d.database_id = mf.database_id\r\n",
                "\tWHERE d.name = @DBName\r\n",
                "\t\tAND mf.type_desc = 'LOG';"
            ],
            "metadata": {
                "azdata_cell_guid": "649f7e4d-5459-4728-9e40-1a984d31ac20"
            },
            "outputs": [
                {
                    "output_type": "error",
                    "evalue": "Msg 137, Level 15, State 2, Line 5\r\nMust declare the scalar variable \"@DBName\".",
                    "ename": "",
                    "traceback": []
                },
                {
                    "output_type": "display_data",
                    "data": {
                        "text/html": "Total execution time: 00:00:00.001"
                    },
                    "metadata": {}
                }
            ],
            "execution_count": 9
        },
        {
            "cell_type": "code",
            "source": [
                "/* long running transaction */\r\n",
                "USE Logging;\r\n",
                "GO\r\n",
                "\r\n",
                "BEGIN TRAN\r\n",
                "\r\n",
                "DECLARE @count INT = 10000\r\n",
                "WHILE @count > 0\r\n",
                "BEGIN\r\n",
                "   INSERT INTO FillErUp\r\n",
                "   SELECT 'This is row # ' + CONVERT(CHAR(4), @count)\r\n",
                "   SET @count -= 1\r\n",
                "END;\r\n",
                "GO"
            ],
            "metadata": {
                "azdata_cell_guid": "038f2a55-7fe3-4b63-bb55-164490104cc3"
            },
            "outputs": [
                {
                    "output_type": "display_data",
                    "data": {
                        "text/html": "Commands completed successfully."
                    },
                    "metadata": {}
                },
                {
                    "output_type": "display_data",
                    "data": {
                        "text/html": "Commands completed successfully."
                    },
                    "metadata": {}
                },
                {
                    "output_type": "display_data",
                    "data": {
                        "text/html": "Total execution time: 00:00:00.269"
                    },
                    "metadata": {}
                }
            ],
            "execution_count": 10
        },
        {
            "cell_type": "code",
            "source": [
                "USE master;\r\n",
                "GO\r\n",
                "DECLARE @DBName VARCHAR(128) = 'Logging';\r\n",
                "\r\n",
                "SELECT d.name as DBName, mf.size, d.recovery_model_desc, d.log_reuse_wait_desc\r\n",
                "\tFROM sys.master_files mf\r\n",
                "\t\tINNER JOIN sys.databases d\r\n",
                "\t\t\tON d.database_id = mf.database_id\r\n",
                "\tWHERE d.name = @DBName\r\n",
                "\t\tAND mf.type_desc = 'LOG';\r\n",
                "\r\n",
                "DBCC SQLPERF(LOGSPACE);\r\n",
                "GO"
            ],
            "metadata": {
                "azdata_cell_guid": "b23d26d2-9238-4278-8bab-f7879e8a2323"
            },
            "outputs": [
                {
                    "output_type": "display_data",
                    "data": {
                        "text/html": "Commands completed successfully."
                    },
                    "metadata": {}
                },
                {
                    "output_type": "display_data",
                    "data": {
                        "text/html": "DBCC execution completed. If DBCC printed error messages, contact your system administrator."
                    },
                    "metadata": {}
                },
                {
                    "output_type": "display_data",
                    "data": {
                        "text/html": "Total execution time: 00:00:00.124"
                    },
                    "metadata": {}
                },
                {
                    "output_type": "execute_result",
                    "metadata": {},
                    "execution_count": 11,
                    "data": {
                        "application/vnd.dataresource+json": {
                            "schema": {
                                "fields": [
                                    {
                                        "name": "DBName"
                                    },
                                    {
                                        "name": "size"
                                    },
                                    {
                                        "name": "recovery_model_desc"
                                    },
                                    {
                                        "name": "log_reuse_wait_desc"
                                    }
                                ]
                            },
                            "data": [
                                {
                                    "0": "Logging",
                                    "1": "9216",
                                    "2": "SIMPLE",
                                    "3": "NOTHING"
                                }
                            ]
                        },
                        "text/html": [
                            "<table>",
                            "<tr><th>DBName</th><th>size</th><th>recovery_model_desc</th><th>log_reuse_wait_desc</th></tr>",
                            "<tr><td>Logging</td><td>9216</td><td>SIMPLE</td><td>NOTHING</td></tr>",
                            "</table>"
                        ]
                    }
                },
                {
                    "output_type": "execute_result",
                    "metadata": {},
                    "execution_count": 11,
                    "data": {
                        "application/vnd.dataresource+json": {
                            "schema": {
                                "fields": [
                                    {
                                        "name": "Database Name"
                                    },
                                    {
                                        "name": "Log Size (MB)"
                                    },
                                    {
                                        "name": "Log Space Used (%)"
                                    },
                                    {
                                        "name": "Status"
                                    }
                                ]
                            },
                            "data": [
                                {
                                    "0": "master",
                                    "1": "1.9921875",
                                    "2": "35.122547",
                                    "3": "0"
                                },
                                {
                                    "0": "tempdb",
                                    "1": "7.9921875",
                                    "2": "7.673509",
                                    "3": "0"
                                },
                                {
                                    "0": "model",
                                    "1": "7.9921875",
                                    "2": "7.7040567",
                                    "3": "0"
                                },
                                {
                                    "0": "msdb",
                                    "1": "21.617188",
                                    "2": "6.5684857",
                                    "3": "0"
                                },
                                {
                                    "0": "AdventureWorks2014",
                                    "1": "17.992188",
                                    "2": "46.868214",
                                    "3": "0"
                                },
                                {
                                    "0": "Errors",
                                    "1": "7.9921875",
                                    "2": "10.111193",
                                    "3": "0"
                                },
                                {
                                    "0": "InMemory",
                                    "1": "7.9921875",
                                    "2": "10.331134",
                                    "3": "0"
                                },
                                {
                                    "0": "TSQLRecipe_A",
                                    "1": "7.9921875",
                                    "2": "10.685484",
                                    "3": "0"
                                },
                                {
                                    "0": "TestDB",
                                    "1": "7.9921875",
                                    "2": "9.365836",
                                    "3": "0"
                                },
                                {
                                    "0": "Logging",
                                    "1": "71.99219",
                                    "2": "28.548563",
                                    "3": "0"
                                }
                            ]
                        },
                        "text/html": [
                            "<table>",
                            "<tr><th>Database Name</th><th>Log Size (MB)</th><th>Log Space Used (%)</th><th>Status</th></tr>",
                            "<tr><td>master</td><td>1.9921875</td><td>35.122547</td><td>0</td></tr>",
                            "<tr><td>tempdb</td><td>7.9921875</td><td>7.673509</td><td>0</td></tr>",
                            "<tr><td>model</td><td>7.9921875</td><td>7.7040567</td><td>0</td></tr>",
                            "<tr><td>msdb</td><td>21.617188</td><td>6.5684857</td><td>0</td></tr>",
                            "<tr><td>AdventureWorks2014</td><td>17.992188</td><td>46.868214</td><td>0</td></tr>",
                            "<tr><td>Errors</td><td>7.9921875</td><td>10.111193</td><td>0</td></tr>",
                            "<tr><td>InMemory</td><td>7.9921875</td><td>10.331134</td><td>0</td></tr>",
                            "<tr><td>TSQLRecipe_A</td><td>7.9921875</td><td>10.685484</td><td>0</td></tr>",
                            "<tr><td>TestDB</td><td>7.9921875</td><td>9.365836</td><td>0</td></tr>",
                            "<tr><td>Logging</td><td>71.99219</td><td>28.548563</td><td>0</td></tr>",
                            "</table>"
                        ]
                    }
                }
            ],
            "execution_count": 11
        },
        {
            "cell_type": "code",
            "source": [
                "USE Logging;\r\n",
                "GO\r\n",
                "\r\n",
                "COMMIT TRAN;\r\n",
                "GO\r\n",
                "CHECKPOINT;\r\n",
                "GO"
            ],
            "metadata": {
                "azdata_cell_guid": "f6dc5303-84b1-455b-82e9-0fe29ea55baf"
            },
            "outputs": [
                {
                    "output_type": "display_data",
                    "data": {
                        "text/html": "Commands completed successfully."
                    },
                    "metadata": {}
                },
                {
                    "output_type": "display_data",
                    "data": {
                        "text/html": "Commands completed successfully."
                    },
                    "metadata": {}
                },
                {
                    "output_type": "display_data",
                    "data": {
                        "text/html": "Commands completed successfully."
                    },
                    "metadata": {}
                },
                {
                    "output_type": "display_data",
                    "data": {
                        "text/html": "Total execution time: 00:00:00.014"
                    },
                    "metadata": {}
                }
            ],
            "execution_count": 12
        },
        {
            "cell_type": "code",
            "source": [
                "USE master;\r\n",
                "GO\r\n",
                "DECLARE @DBName VARCHAR(128) = 'Logging';"
            ],
            "metadata": {
                "azdata_cell_guid": "19796ea1-8d2b-47cc-98ab-7e1b7df4aaca"
            },
            "outputs": [
                {
                    "output_type": "display_data",
                    "data": {
                        "text/html": "Commands completed successfully."
                    },
                    "metadata": {}
                },
                {
                    "output_type": "display_data",
                    "data": {
                        "text/html": "Commands completed successfully."
                    },
                    "metadata": {}
                },
                {
                    "output_type": "display_data",
                    "data": {
                        "text/html": "Total execution time: 00:00:00.004"
                    },
                    "metadata": {}
                }
            ],
            "execution_count": 13
        },
        {
            "cell_type": "code",
            "source": [
                "SELECT d.name as DBName, mf.size, d.recovery_model_desc, d.log_reuse_wait_desc\r\n",
                "\tFROM sys.master_files mf\r\n",
                "\t\tINNER JOIN sys.databases d\r\n",
                "\t\t\tON d.database_id = mf.database_id\r\n",
                "\tWHERE d.name = @DBName\r\n",
                "\t\tAND mf.type_desc = 'LOG';\r\n",
                "\r\n",
                "DBCC SQLPERF(LOGSPACE);\r\n",
                "GO"
            ],
            "metadata": {
                "azdata_cell_guid": "c41fc9be-24e1-46e0-b897-a55b3d32c938"
            },
            "outputs": [
                {
                    "output_type": "error",
                    "evalue": "Msg 137, Level 15, State 2, Line 5\r\nMust declare the scalar variable \"@DBName\".",
                    "ename": "",
                    "traceback": []
                },
                {
                    "output_type": "display_data",
                    "data": {
                        "text/html": "Total execution time: 00:00:00.005"
                    },
                    "metadata": {}
                }
            ],
            "execution_count": 14
        },
        {
            "cell_type": "code",
            "source": [
                "/* full recovery */\r\n",
                "USE master;\r\n",
                "GO\r\n",
                "\r\n",
                "--Create the Logging database\r\n",
                "IF EXISTS (SELECT * FROM sys.databases WHERE name = 'Logging')\r\n",
                "BEGIN\r\n",
                "DROP DATABASE Logging;\r\n",
                "END\r\n",
                "GO"
            ],
            "metadata": {
                "azdata_cell_guid": "08b8a158-7300-484a-89e8-ef0968d14c24"
            },
            "outputs": [
                {
                    "output_type": "display_data",
                    "data": {
                        "text/html": "Commands completed successfully."
                    },
                    "metadata": {}
                },
                {
                    "output_type": "display_data",
                    "data": {
                        "text/html": "Commands completed successfully."
                    },
                    "metadata": {}
                },
                {
                    "output_type": "display_data",
                    "data": {
                        "text/html": "Total execution time: 00:00:00.120"
                    },
                    "metadata": {}
                }
            ],
            "execution_count": 15
        },
        {
            "cell_type": "code",
            "source": [
                "CREATE DATABASE Logging\r\n",
                "ON PRIMARY\r\n",
                "( NAME = N'Logging', FILENAME = N'C:\\APRESS\\Logging.mdf' , SIZE = 4096KB  )\r\n",
                " LOG ON \r\n",
                "( NAME = N'Logging_log', FILENAME = N'C:\\APRESS\\Logging_log.ldf' , SIZE = 512KB );\r\n",
                "GO"
            ],
            "metadata": {
                "azdata_cell_guid": "2b57cf24-ebf9-4a87-bce2-aacae9a6eb6a"
            },
            "outputs": [
                {
                    "output_type": "error",
                    "evalue": "Msg 5133, Level 16, State 1, Line 1\r\nDirectory lookup for the file \"C:\\APRESS\\Logging.mdf\" failed with the operating system error 2(The system cannot find the file specified.).",
                    "ename": "",
                    "traceback": []
                },
                {
                    "output_type": "error",
                    "evalue": "Msg 1802, Level 16, State 1, Line 1\r\nCREATE DATABASE failed. Some file names listed could not be created. Check related errors.",
                    "ename": "",
                    "traceback": []
                },
                {
                    "output_type": "display_data",
                    "data": {
                        "text/html": "Total execution time: 00:00:00.009"
                    },
                    "metadata": {}
                }
            ],
            "execution_count": 16
        },
        {
            "cell_type": "code",
            "source": [
                "ALTER DATABASE Logging\r\n",
                "SET RECOVERY FULL;\r\n",
                "GO"
            ],
            "metadata": {
                "azdata_cell_guid": "00437898-661d-4c41-bd92-ed87661b7abd"
            },
            "outputs": [
                {
                    "output_type": "error",
                    "evalue": "Msg 5011, Level 14, State 5, Line 1\r\nUser does not have permission to alter database 'Logging', the database does not exist, or the database is not in a state that allows access checks.",
                    "ename": "",
                    "traceback": []
                },
                {
                    "output_type": "error",
                    "evalue": "Msg 5069, Level 16, State 1, Line 1\r\nALTER DATABASE statement failed.",
                    "ename": "",
                    "traceback": []
                },
                {
                    "output_type": "display_data",
                    "data": {
                        "text/html": "Total execution time: 00:00:00.008"
                    },
                    "metadata": {}
                }
            ],
            "execution_count": 17
        },
        {
            "cell_type": "code",
            "source": [
                "ALTER DATABASE Logging \r\n",
                "MODIFY FILE\r\n",
                "    (NAME = Logging_log,\r\n",
                "    SIZE = 520KB);\r\n",
                "GO"
            ],
            "metadata": {
                "azdata_cell_guid": "f9047f40-4d0d-4046-b1bf-762bc74e4b2f"
            },
            "outputs": [
                {
                    "output_type": "error",
                    "evalue": "Msg 911, Level 16, State 1, Line 1\r\nDatabase 'Logging' does not exist. Make sure that the name is entered correctly.",
                    "ename": "",
                    "traceback": []
                },
                {
                    "output_type": "display_data",
                    "data": {
                        "text/html": "Total execution time: 00:00:00.005"
                    },
                    "metadata": {}
                }
            ],
            "execution_count": 18
        },
        {
            "cell_type": "code",
            "source": [
                "--Size is 101\r\n",
                "USE master;\r\n",
                "GO\r\n",
                "DECLARE @DBName VARCHAR(128) = 'Logging';"
            ],
            "metadata": {
                "azdata_cell_guid": "6e0cdd38-f8d5-4764-86ac-102a08ca972d"
            },
            "outputs": [
                {
                    "output_type": "display_data",
                    "data": {
                        "text/html": "Commands completed successfully."
                    },
                    "metadata": {}
                },
                {
                    "output_type": "display_data",
                    "data": {
                        "text/html": "Commands completed successfully."
                    },
                    "metadata": {}
                },
                {
                    "output_type": "display_data",
                    "data": {
                        "text/html": "Total execution time: 00:00:00.004"
                    },
                    "metadata": {}
                }
            ],
            "execution_count": 19
        },
        {
            "cell_type": "code",
            "source": [
                "SELECT d.name as DBName, mf.size, d.recovery_model_desc, d.log_reuse_wait_desc\r\n",
                "\tFROM sys.master_files mf\r\n",
                "\t\tINNER JOIN sys.databases d\r\n",
                "\t\t\tON d.database_id = mf.database_id\r\n",
                "\tWHERE d.name = @DBName\r\n",
                "\t\tAND mf.type_desc = 'LOG';\r\n",
                "GO"
            ],
            "metadata": {
                "azdata_cell_guid": "caec3bc0-5774-4668-ba25-551930075f4d"
            },
            "outputs": [
                {
                    "output_type": "error",
                    "evalue": "Msg 137, Level 15, State 2, Line 5\r\nMust declare the scalar variable \"@DBName\".",
                    "ename": "",
                    "traceback": []
                },
                {
                    "output_type": "display_data",
                    "data": {
                        "text/html": "Total execution time: 00:00:00.002"
                    },
                    "metadata": {}
                }
            ],
            "execution_count": 20
        },
        {
            "cell_type": "code",
            "source": [
                "USE Logging;\r\n",
                "GO\r\n",
                "SELECT TOP 10000\r\n",
                "        RowInfo = 'This is row # ' + CONVERT(CHAR(5)\r\n",
                "\t\t    , ROW_NUMBER() OVER (PARTITION BY t1.autoval ORDER BY (SELECT NULL)))\r\n",
                "   INTO dbo.FillErUp\r\n",
                "   FROM master.dbo.syscolumns t1,\r\n",
                "        master.dbo.syscolumns t2;\r\n",
                "GO\r\n",
                "\r\n",
                "CHECKPOINT;\r\n",
                "GO"
            ],
            "metadata": {
                "azdata_cell_guid": "cf437bfb-9d05-4a12-b715-365f6522026f"
            },
            "outputs": [
                {
                    "output_type": "error",
                    "evalue": "Msg 911, Level 16, State 1, Line 1\r\nDatabase 'Logging' does not exist. Make sure that the name is entered correctly.",
                    "ename": "",
                    "traceback": []
                },
                {
                    "output_type": "display_data",
                    "data": {
                        "text/html": "Commands completed successfully."
                    },
                    "metadata": {}
                },
                {
                    "output_type": "display_data",
                    "data": {
                        "text/html": "Commands completed successfully."
                    },
                    "metadata": {}
                },
                {
                    "output_type": "display_data",
                    "data": {
                        "text/html": "Total execution time: 00:00:00.221"
                    },
                    "metadata": {}
                }
            ],
            "execution_count": 21
        },
        {
            "cell_type": "code",
            "source": [
                "USE master;\r\n",
                "GO\r\n",
                "DECLARE @DBName VARCHAR(128) = 'Logging';\r\n",
                "\r\n",
                "SELECT d.name as DBName, mf.size, d.recovery_model_desc, d.log_reuse_wait_desc\r\n",
                "\tFROM sys.master_files mf\r\n",
                "\t\tINNER JOIN sys.databases d\r\n",
                "\t\t\tON d.database_id = mf.database_id\r\n",
                "\tWHERE d.name = @DBName\r\n",
                "\t\tAND mf.type_desc = 'LOG';\r\n",
                "GO"
            ],
            "metadata": {
                "azdata_cell_guid": "d4f1f05c-a048-4a44-9551-c9f102d77442"
            },
            "outputs": [
                {
                    "output_type": "display_data",
                    "data": {
                        "text/html": "Commands completed successfully."
                    },
                    "metadata": {}
                },
                {
                    "output_type": "display_data",
                    "data": {
                        "text/html": "Commands completed successfully."
                    },
                    "metadata": {}
                },
                {
                    "output_type": "display_data",
                    "data": {
                        "text/html": "Total execution time: 00:00:00.010"
                    },
                    "metadata": {}
                },
                {
                    "output_type": "execute_result",
                    "metadata": {},
                    "execution_count": 22,
                    "data": {
                        "application/vnd.dataresource+json": {
                            "schema": {
                                "fields": [
                                    {
                                        "name": "DBName"
                                    },
                                    {
                                        "name": "size"
                                    },
                                    {
                                        "name": "recovery_model_desc"
                                    },
                                    {
                                        "name": "log_reuse_wait_desc"
                                    }
                                ]
                            },
                            "data": []
                        },
                        "text/html": [
                            "<table>",
                            "<tr><th>DBName</th><th>size</th><th>recovery_model_desc</th><th>log_reuse_wait_desc</th></tr>",
                            "</table>"
                        ]
                    }
                }
            ],
            "execution_count": 22
        },
        {
            "cell_type": "code",
            "source": [
                "USE master;\r\n",
                "GO\r\n",
                "\r\n",
                "BACKUP DATABASE Logging\r\n",
                "TO DISK =  'C:\\Apress\\Logging.bak';\r\n",
                "GO"
            ],
            "metadata": {
                "azdata_cell_guid": "9a11fa3e-9362-41ca-95b0-690a4127a79d"
            },
            "outputs": [
                {
                    "output_type": "display_data",
                    "data": {
                        "text/html": "Commands completed successfully."
                    },
                    "metadata": {}
                },
                {
                    "output_type": "error",
                    "evalue": "Msg 911, Level 16, State 11, Line 4\r\nDatabase 'Logging' does not exist. Make sure that the name is entered correctly.",
                    "ename": "",
                    "traceback": []
                },
                {
                    "output_type": "error",
                    "evalue": "Msg 3013, Level 16, State 1, Line 4\r\nBACKUP DATABASE is terminating abnormally.",
                    "ename": "",
                    "traceback": []
                },
                {
                    "output_type": "display_data",
                    "data": {
                        "text/html": "Total execution time: 00:00:00.008"
                    },
                    "metadata": {}
                }
            ],
            "execution_count": 23
        },
        {
            "cell_type": "code",
            "source": [
                "USE Logging;\r\n",
                "GO\r\n",
                "INSERT INTO dbo.FillErUp\r\n",
                "SELECT TOP 10000\r\n",
                "        RowInfo = 'This is row # ' + CONVERT(CHAR(5)\r\n",
                "\t\t    , ROW_NUMBER() OVER (PARTITION BY t1.autoval ORDER BY (SELECT NULL)))\r\n",
                "   FROM master.dbo.syscolumns t1,\r\n",
                "        master.dbo.syscolumns t2;\r\n",
                "GO"
            ],
            "metadata": {
                "azdata_cell_guid": "f1e69c44-e05b-4824-bba4-1881c4402e27"
            },
            "outputs": [
                {
                    "output_type": "error",
                    "evalue": "Msg 911, Level 16, State 1, Line 1\r\nDatabase 'Logging' does not exist. Make sure that the name is entered correctly.",
                    "ename": "",
                    "traceback": []
                },
                {
                    "output_type": "display_data",
                    "data": {
                        "text/html": "Commands completed successfully."
                    },
                    "metadata": {}
                },
                {
                    "output_type": "display_data",
                    "data": {
                        "text/html": "Total execution time: 00:00:00.235"
                    },
                    "metadata": {}
                }
            ],
            "execution_count": 24
        },
        {
            "cell_type": "code",
            "source": [
                "CHECKPOINT;\r\n",
                "GO"
            ],
            "metadata": {
                "azdata_cell_guid": "f462b8e6-f76c-4c0d-a4a9-38834ab5e2a5"
            },
            "outputs": [
                {
                    "output_type": "display_data",
                    "data": {
                        "text/html": "Commands completed successfully."
                    },
                    "metadata": {}
                },
                {
                    "output_type": "display_data",
                    "data": {
                        "text/html": "Total execution time: 00:00:00.010"
                    },
                    "metadata": {}
                }
            ],
            "execution_count": 25
        },
        {
            "cell_type": "code",
            "source": [
                "USE master;\r\n",
                "GO\r\n",
                "DECLARE @DBName VARCHAR(128) = 'Logging';"
            ],
            "metadata": {
                "azdata_cell_guid": "95b79efd-cc05-4092-bfbe-c7aecc914bf9"
            },
            "outputs": [
                {
                    "output_type": "display_data",
                    "data": {
                        "text/html": "Commands completed successfully."
                    },
                    "metadata": {}
                },
                {
                    "output_type": "display_data",
                    "data": {
                        "text/html": "Commands completed successfully."
                    },
                    "metadata": {}
                },
                {
                    "output_type": "display_data",
                    "data": {
                        "text/html": "Total execution time: 00:00:00.001"
                    },
                    "metadata": {}
                }
            ],
            "execution_count": 26
        },
        {
            "cell_type": "code",
            "source": [
                "SELECT d.name as DBName, mf.size, d.recovery_model_desc, d.log_reuse_wait_desc\r\n",
                "\tFROM sys.master_files mf\r\n",
                "\t\tINNER JOIN sys.databases d\r\n",
                "\t\t\tON d.database_id = mf.database_id\r\n",
                "\tWHERE d.name = @DBName\r\n",
                "\t\tAND mf.type_desc = 'LOG';\r\n",
                "GO"
            ],
            "metadata": {
                "azdata_cell_guid": "d50e67e9-624c-4d3b-b651-b755753e79ae"
            },
            "outputs": [
                {
                    "output_type": "error",
                    "evalue": "Msg 137, Level 15, State 2, Line 5\r\nMust declare the scalar variable \"@DBName\".",
                    "ename": "",
                    "traceback": []
                },
                {
                    "output_type": "display_data",
                    "data": {
                        "text/html": "Total execution time: 00:00:00.002"
                    },
                    "metadata": {}
                }
            ],
            "execution_count": 27
        },
        {
            "cell_type": "code",
            "source": [
                "/* bulk logged */\r\n",
                "\r\n",
                "USE master;\r\n",
                "GO\r\n",
                "\r\n",
                "IF EXISTS (SELECT * FROM sys.databases WHERE name = 'Logging')\r\n",
                "BEGIN\r\n",
                "DROP DATABASE Logging;\r\n",
                "END\r\n",
                "GO"
            ],
            "metadata": {
                "azdata_cell_guid": "1328cf72-8e5c-4450-91ff-95c436221ca3"
            },
            "outputs": [
                {
                    "output_type": "display_data",
                    "data": {
                        "text/html": "Commands completed successfully."
                    },
                    "metadata": {}
                },
                {
                    "output_type": "display_data",
                    "data": {
                        "text/html": "Commands completed successfully."
                    },
                    "metadata": {}
                },
                {
                    "output_type": "display_data",
                    "data": {
                        "text/html": "Total execution time: 00:00:00.024"
                    },
                    "metadata": {}
                }
            ],
            "execution_count": 28
        },
        {
            "cell_type": "code",
            "source": [
                "CREATE DATABASE Logging;\r\n",
                "GO"
            ],
            "metadata": {
                "azdata_cell_guid": "fb0cf451-0efc-47e4-914b-6381771003fb"
            },
            "outputs": [
                {
                    "output_type": "display_data",
                    "data": {
                        "text/html": "Commands completed successfully."
                    },
                    "metadata": {}
                },
                {
                    "output_type": "display_data",
                    "data": {
                        "text/html": "Total execution time: 00:00:00.291"
                    },
                    "metadata": {}
                }
            ],
            "execution_count": 29
        },
        {
            "cell_type": "code",
            "source": [
                "ALTER DATABASE Logging\r\n",
                "SET RECOVERY BULK_LOGGED;\r\n",
                "GO"
            ],
            "metadata": {
                "azdata_cell_guid": "34b723e4-9987-4565-8c74-fd3cf31ca673"
            },
            "outputs": [
                {
                    "output_type": "display_data",
                    "data": {
                        "text/html": "Commands completed successfully."
                    },
                    "metadata": {}
                },
                {
                    "output_type": "display_data",
                    "data": {
                        "text/html": "Total execution time: 00:00:00.008"
                    },
                    "metadata": {}
                }
            ],
            "execution_count": 30
        },
        {
            "cell_type": "code",
            "source": [
                "BACKUP DATABASE Logging\r\n",
                "TO DISK =  'C:\\Apress\\Logging_bulk.bak';\r\n",
                "GO"
            ],
            "metadata": {
                "azdata_cell_guid": "4fbfe4c5-ad58-4f6f-b0fd-77cb4fd65cf0"
            },
            "outputs": [
                {
                    "output_type": "error",
                    "evalue": "Msg 3201, Level 16, State 1, Line 1\r\nCannot open backup device 'C:\\Apress\\Logging_bulk.bak'. Operating system error 3(The system cannot find the path specified.).",
                    "ename": "",
                    "traceback": []
                },
                {
                    "output_type": "error",
                    "evalue": "Msg 3013, Level 16, State 1, Line 1\r\nBACKUP DATABASE is terminating abnormally.",
                    "ename": "",
                    "traceback": []
                },
                {
                    "output_type": "display_data",
                    "data": {
                        "text/html": "Total execution time: 00:00:00.041"
                    },
                    "metadata": {}
                }
            ],
            "execution_count": 31
        },
        {
            "cell_type": "code",
            "source": [
                "USE master;\r\n",
                "GO\r\n",
                "DECLARE @DBName VARCHAR(128) = 'Logging';"
            ],
            "metadata": {
                "azdata_cell_guid": "aad6797a-ef0a-4ea1-81fa-54da51b8f3df"
            },
            "outputs": [
                {
                    "output_type": "display_data",
                    "data": {
                        "text/html": "Commands completed successfully."
                    },
                    "metadata": {}
                },
                {
                    "output_type": "display_data",
                    "data": {
                        "text/html": "Commands completed successfully."
                    },
                    "metadata": {}
                },
                {
                    "output_type": "display_data",
                    "data": {
                        "text/html": "Total execution time: 00:00:00.005"
                    },
                    "metadata": {}
                }
            ],
            "execution_count": 32
        },
        {
            "cell_type": "code",
            "source": [
                "SELECT d.name as DBName, mf.size, d.recovery_model_desc, d.log_reuse_wait_desc\r\n",
                "\tFROM sys.master_files mf\r\n",
                "\t\tINNER JOIN sys.databases d\r\n",
                "\t\t\tON d.database_id = mf.database_id\r\n",
                "\tWHERE d.name = @DBName\r\n",
                "\t\tAND mf.type_desc = 'LOG';\r\n",
                "GO"
            ],
            "metadata": {
                "azdata_cell_guid": "a53e55b4-7555-48ac-aab4-16c551b77368"
            },
            "outputs": [
                {
                    "output_type": "error",
                    "evalue": "Msg 137, Level 15, State 2, Line 5\r\nMust declare the scalar variable \"@DBName\".",
                    "ename": "",
                    "traceback": []
                },
                {
                    "output_type": "display_data",
                    "data": {
                        "text/html": "Total execution time: 00:00:00"
                    },
                    "metadata": {}
                }
            ],
            "execution_count": 33
        },
        {
            "cell_type": "code",
            "source": [
                "USE Logging;\r\n",
                "GO\r\n",
                "\r\n",
                "SELECT *\r\n",
                "\tINTO PurchaseOrderDetail\r\n",
                "\tFROM AdventureWorks2014.Purchasing.PurchaseOrderDetail\r\n",
                "\r\n",
                "USE master;\r\n",
                "GO\r\n",
                "DECLARE @DBName VARCHAR(128) = 'Logging';"
            ],
            "metadata": {
                "azdata_cell_guid": "22dfade7-e905-49ee-afd1-fdd3fb182c73"
            },
            "outputs": [
                {
                    "output_type": "display_data",
                    "data": {
                        "text/html": "Commands completed successfully."
                    },
                    "metadata": {}
                },
                {
                    "output_type": "display_data",
                    "data": {
                        "text/html": "Commands completed successfully."
                    },
                    "metadata": {}
                },
                {
                    "output_type": "display_data",
                    "data": {
                        "text/html": "Commands completed successfully."
                    },
                    "metadata": {}
                },
                {
                    "output_type": "display_data",
                    "data": {
                        "text/html": "Total execution time: 00:00:00.114"
                    },
                    "metadata": {}
                }
            ],
            "execution_count": 34
        },
        {
            "cell_type": "code",
            "source": [
                "SELECT d.name as DBName, mf.size, d.recovery_model_desc, d.log_reuse_wait_desc\r\n",
                "\tFROM sys.master_files mf\r\n",
                "\t\tINNER JOIN sys.databases d\r\n",
                "\t\t\tON d.database_id = mf.database_id\r\n",
                "\tWHERE d.name = @DBName\r\n",
                "\t\tAND mf.type_desc = 'LOG';\r\n",
                "GO"
            ],
            "metadata": {
                "azdata_cell_guid": "093f9a85-fcf7-42d0-a101-6422a9764e72"
            },
            "outputs": [
                {
                    "output_type": "error",
                    "evalue": "Msg 137, Level 15, State 2, Line 5\r\nMust declare the scalar variable \"@DBName\".",
                    "ename": "",
                    "traceback": []
                },
                {
                    "output_type": "display_data",
                    "data": {
                        "text/html": "Total execution time: 00:00:00.001"
                    },
                    "metadata": {}
                }
            ],
            "execution_count": 35
        }
    ]
}