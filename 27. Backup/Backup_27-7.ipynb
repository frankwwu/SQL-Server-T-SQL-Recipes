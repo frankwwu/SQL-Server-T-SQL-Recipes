{
    "metadata": {
        "kernelspec": {
            "name": "SQL",
            "display_name": "SQL",
            "language": "sql"
        },
        "language_info": {
            "name": "sql",
            "version": ""
        }
    },
    "nbformat_minor": 2,
    "nbformat": 4,
    "cells": [
        {
            "cell_type": "code",
            "source": [
                "/* 27-7 */\r\n",
                "USE master;\r\n",
                "GO\r\n",
                "\r\n",
                "IF EXISTS (SELECT * FROM sys.databases WHERE name = 'AdventureWorks2014_Bak')\r\n",
                "BEGIN\r\n",
                "DROP DATABASE AdventureWorks2014_Bak;\r\n",
                "END\r\n",
                "CREATE DATABASE AdventureWorks2014_Bak;\r\n",
                "GO"
            ],
            "metadata": {
                "azdata_cell_guid": "89ec1c79-91fe-45e9-ad82-c80edde2ca31"
            },
            "outputs": [
                {
                    "output_type": "display_data",
                    "data": {
                        "text/html": "Commands completed successfully."
                    },
                    "metadata": {}
                },
                {
                    "output_type": "display_data",
                    "data": {
                        "text/html": "Commands completed successfully."
                    },
                    "metadata": {}
                },
                {
                    "output_type": "display_data",
                    "data": {
                        "text/html": "Total execution time: 00:00:00.300"
                    },
                    "metadata": {}
                }
            ],
            "execution_count": 1
        },
        {
            "cell_type": "code",
            "source": [
                "USE AdventureWorks2014_Bak;\r\n",
                "GO\r\n",
                "CREATE SCHEMA Person\r\n",
                "GO"
            ],
            "metadata": {
                "azdata_cell_guid": "f831ad17-bef6-4d28-baf9-4ba6fb2ae33b"
            },
            "outputs": [
                {
                    "output_type": "display_data",
                    "data": {
                        "text/html": "Commands completed successfully."
                    },
                    "metadata": {}
                },
                {
                    "output_type": "display_data",
                    "data": {
                        "text/html": "Commands completed successfully."
                    },
                    "metadata": {}
                },
                {
                    "output_type": "display_data",
                    "data": {
                        "text/html": "Total execution time: 00:00:00.015"
                    },
                    "metadata": {}
                }
            ],
            "execution_count": 2
        },
        {
            "cell_type": "code",
            "source": [
                "SELECT BusinessEntityID,\r\n",
                "\t FirstName,\r\n",
                "\t MiddleName,\r\n",
                "\t LastName\r\n",
                "INTO Person.Person\r\n",
                "FROM AdventureWorks2014.Person.Person;\r\n",
                "GO"
            ],
            "metadata": {
                "azdata_cell_guid": "c50b7757-ecb4-4f64-be45-3d583fc20cfb"
            },
            "outputs": [
                {
                    "output_type": "display_data",
                    "data": {
                        "text/html": "(19972 rows affected)"
                    },
                    "metadata": {}
                },
                {
                    "output_type": "display_data",
                    "data": {
                        "text/html": "Total execution time: 00:00:00.061"
                    },
                    "metadata": {}
                }
            ],
            "execution_count": 3
        },
        {
            "cell_type": "code",
            "source": [
                "SELECT TOP 6 *\r\n",
                "FROM Person.Person\r\n",
                "ORDER BY BusinessEntityID;\r\n",
                "GO"
            ],
            "metadata": {
                "azdata_cell_guid": "47cc24f1-be30-419c-8ef8-f3f71a1ae1a7"
            },
            "outputs": [
                {
                    "output_type": "display_data",
                    "data": {
                        "text/html": "(6 rows affected)"
                    },
                    "metadata": {}
                },
                {
                    "output_type": "display_data",
                    "data": {
                        "text/html": "Total execution time: 00:00:00.059"
                    },
                    "metadata": {}
                },
                {
                    "output_type": "execute_result",
                    "metadata": {},
                    "execution_count": 4,
                    "data": {
                        "application/vnd.dataresource+json": {
                            "schema": {
                                "fields": [
                                    {
                                        "name": "BusinessEntityID"
                                    },
                                    {
                                        "name": "FirstName"
                                    },
                                    {
                                        "name": "MiddleName"
                                    },
                                    {
                                        "name": "LastName"
                                    }
                                ]
                            },
                            "data": [
                                {
                                    "0": "1",
                                    "1": "Ken",
                                    "2": "J",
                                    "3": "Sánchez"
                                },
                                {
                                    "0": "2",
                                    "1": "Terri",
                                    "2": "Lee",
                                    "3": "Duffy"
                                },
                                {
                                    "0": "3",
                                    "1": "Roberto",
                                    "2": "NULL",
                                    "3": "Tamburello"
                                },
                                {
                                    "0": "4",
                                    "1": "Rob",
                                    "2": "NULL",
                                    "3": "Walters"
                                },
                                {
                                    "0": "5",
                                    "1": "Gail",
                                    "2": "A",
                                    "3": "Erickson"
                                },
                                {
                                    "0": "6",
                                    "1": "Jossef",
                                    "2": "H",
                                    "3": "Goldberg"
                                }
                            ]
                        },
                        "text/html": [
                            "<table>",
                            "<tr><th>BusinessEntityID</th><th>FirstName</th><th>MiddleName</th><th>LastName</th></tr>",
                            "<tr><td>1</td><td>Ken</td><td>J</td><td>Sánchez</td></tr>",
                            "<tr><td>2</td><td>Terri</td><td>Lee</td><td>Duffy</td></tr>",
                            "<tr><td>3</td><td>Roberto</td><td>NULL</td><td>Tamburello</td></tr>",
                            "<tr><td>4</td><td>Rob</td><td>NULL</td><td>Walters</td></tr>",
                            "<tr><td>5</td><td>Gail</td><td>A</td><td>Erickson</td></tr>",
                            "<tr><td>6</td><td>Jossef</td><td>H</td><td>Goldberg</td></tr>",
                            "</table>"
                        ]
                    }
                }
            ],
            "execution_count": 4
        }
    ]
}