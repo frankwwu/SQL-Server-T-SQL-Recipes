{
    "metadata": {
        "kernelspec": {
            "name": "SQL",
            "display_name": "SQL",
            "language": "sql"
        },
        "language_info": {
            "name": "sql",
            "version": ""
        }
    },
    "nbformat_minor": 2,
    "nbformat": 4,
    "cells": [
        {
            "cell_type": "code",
            "source": [
                "/* 27-15 */\r\n",
                "USE master;\r\n",
                "GO\r\n",
                "\r\n",
                "BACKUP CERTIFICATE AW2014BackupCert \r\n",
                "TO FILE = 'c:\\Apress\\AW2014BackupCert.cer'\r\n",
                "WITH PRIVATE KEY ( FILE = 'C:\\Apress\\AW2014BackupCertKey.bak' ,\r\n",
                "ENCRYPTION BY PASSWORD = 'SQL2014Rocks');\r\n",
                "GO"
            ],
            "metadata": {
                "azdata_cell_guid": "7306ce52-850f-47e1-865b-de16694c6787"
            },
            "outputs": [
                {
                    "output_type": "display_data",
                    "data": {
                        "text/html": "Commands completed successfully."
                    },
                    "metadata": {}
                },
                {
                    "output_type": "display_data",
                    "data": {
                        "text/html": "Commands completed successfully."
                    },
                    "metadata": {}
                },
                {
                    "output_type": "display_data",
                    "data": {
                        "text/html": "Total execution time: 00:00:00.044"
                    },
                    "metadata": {}
                }
            ],
            "execution_count": 1
        },
        {
            "cell_type": "code",
            "source": [
                "/* DMK should also be backed up */\r\n",
                "OPEN MASTER KEY DECRYPTION BY PASSWORD = 'SQL2014Rocks';\r\n",
                "BACKUP MASTER KEY TO FILE = 'c:\\Apress\\exportedmasterkey.key' \r\n",
                "    ENCRYPTION BY PASSWORD = 'SQL2014Rocks';\r\n",
                "GO"
            ],
            "metadata": {
                "azdata_cell_guid": "d34c0722-fe68-4136-a7fb-e03c90b2c306"
            },
            "outputs": [
                {
                    "output_type": "display_data",
                    "data": {
                        "text/html": "Commands completed successfully."
                    },
                    "metadata": {}
                },
                {
                    "output_type": "display_data",
                    "data": {
                        "text/html": "Total execution time: 00:00:00.018"
                    },
                    "metadata": {}
                }
            ],
            "execution_count": 2
        },
        {
            "cell_type": "code",
            "source": [
                "/* validate the key and cert are backed up */\r\n",
                "USE master;\r\n",
                "GO\r\n",
                "\r\n",
                "SELECT name, pvt_key_encryption_type_desc,pvt_key_last_backup_date\r\n",
                "\tFROM sys.certificates\r\n",
                "\tWHERE name = 'AW2014BackupCert';"
            ],
            "metadata": {
                "azdata_cell_guid": "2627eb81-ce45-4e81-82b3-4f53e236c4a8"
            },
            "outputs": [
                {
                    "output_type": "display_data",
                    "data": {
                        "text/html": "Commands completed successfully."
                    },
                    "metadata": {}
                },
                {
                    "output_type": "display_data",
                    "data": {
                        "text/html": "(1 row affected)"
                    },
                    "metadata": {}
                },
                {
                    "output_type": "display_data",
                    "data": {
                        "text/html": "Total execution time: 00:00:01.525"
                    },
                    "metadata": {}
                },
                {
                    "output_type": "execute_result",
                    "metadata": {},
                    "execution_count": 3,
                    "data": {
                        "application/vnd.dataresource+json": {
                            "schema": {
                                "fields": [
                                    {
                                        "name": "name"
                                    },
                                    {
                                        "name": "pvt_key_encryption_type_desc"
                                    },
                                    {
                                        "name": "pvt_key_last_backup_date"
                                    }
                                ]
                            },
                            "data": [
                                {
                                    "0": "AW2014BackupCert",
                                    "1": "ENCRYPTED_BY_MASTER_KEY",
                                    "2": "2020-10-20 21:26:48.520"
                                }
                            ]
                        },
                        "text/html": [
                            "<table>",
                            "<tr><th>name</th><th>pvt_key_encryption_type_desc</th><th>pvt_key_last_backup_date</th></tr>",
                            "<tr><td>AW2014BackupCert</td><td>ENCRYPTED_BY_MASTER_KEY</td><td>2020-10-20 21:26:48.520</td></tr>",
                            "</table>"
                        ]
                    }
                }
            ],
            "execution_count": 3
        }
    ]
}