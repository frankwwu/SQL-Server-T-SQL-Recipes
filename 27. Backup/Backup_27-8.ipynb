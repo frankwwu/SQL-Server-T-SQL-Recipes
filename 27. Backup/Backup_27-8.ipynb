{
    "metadata": {
        "kernelspec": {
            "name": "SQL",
            "display_name": "SQL",
            "language": "sql"
        },
        "language_info": {
            "name": "sql",
            "version": ""
        }
    },
    "nbformat_minor": 2,
    "nbformat": 4,
    "cells": [
        {
            "cell_type": "code",
            "source": [
                "/* 27-8 */\r\n",
                "/* create a snapshot */\r\n",
                "USE master;\r\n",
                "GO\r\n",
                "\r\n",
                "CREATE DATABASE AdventureWorks2014_SS ON\r\n",
                "( NAME = AdventureWorks2014_Data, FILENAME = \r\n",
                "'C:\\Apress\\AdventureWorks2014_SS.ss' )\r\n",
                "AS SNAPSHOT OF AdventureWorks2014;\r\n",
                "GO"
            ],
            "metadata": {
                "azdata_cell_guid": "2cd79d4b-eb8b-45d4-bcb6-a8a8af0c85ed"
            },
            "outputs": [
                {
                    "output_type": "display_data",
                    "data": {
                        "text/html": "Commands completed successfully."
                    },
                    "metadata": {}
                },
                {
                    "output_type": "display_data",
                    "data": {
                        "text/html": "Commands completed successfully."
                    },
                    "metadata": {}
                },
                {
                    "output_type": "display_data",
                    "data": {
                        "text/html": "Total execution time: 00:00:00.239"
                    },
                    "metadata": {}
                }
            ],
            "execution_count": 1
        },
        {
            "cell_type": "code",
            "source": [
                "USE master;\r\n",
                "GO\r\n",
                "\r\n",
                "SELECT DB_NAME(database_id) AS DBName,\r\n",
                "     name AS FileName,\r\n",
                "\t type_desc,\r\n",
                "\t size\r\n",
                "FROM sys.master_files\r\n",
                "WHERE DB_NAME(database_id) LIKE 'AdventureWorks2014%'\r\n",
                "\tAND type_desc = 'ROWS';\r\n",
                "GO"
            ],
            "metadata": {
                "azdata_cell_guid": "9ff8395a-ca42-4d56-9ab7-6f02b1d209b5"
            },
            "outputs": [
                {
                    "output_type": "display_data",
                    "data": {
                        "text/html": "Commands completed successfully."
                    },
                    "metadata": {}
                },
                {
                    "output_type": "display_data",
                    "data": {
                        "text/html": "(3 rows affected)"
                    },
                    "metadata": {}
                },
                {
                    "output_type": "display_data",
                    "data": {
                        "text/html": "Total execution time: 00:00:00.029"
                    },
                    "metadata": {}
                },
                {
                    "output_type": "execute_result",
                    "metadata": {},
                    "execution_count": 2,
                    "data": {
                        "application/vnd.dataresource+json": {
                            "schema": {
                                "fields": [
                                    {
                                        "name": "DBName"
                                    },
                                    {
                                        "name": "FileName"
                                    },
                                    {
                                        "name": "type_desc"
                                    },
                                    {
                                        "name": "size"
                                    }
                                ]
                            },
                            "data": [
                                {
                                    "0": "AdventureWorks2014",
                                    "1": "AdventureWorks2014_Data",
                                    "2": "ROWS",
                                    "3": "28320"
                                },
                                {
                                    "0": "AdventureWorks2014_Bak",
                                    "1": "AdventureWorks2014_Bak",
                                    "2": "ROWS",
                                    "3": "1024"
                                },
                                {
                                    "0": "AdventureWorks2014_SS",
                                    "1": "AdventureWorks2014_Data",
                                    "2": "ROWS",
                                    "3": "28320"
                                }
                            ]
                        },
                        "text/html": [
                            "<table>",
                            "<tr><th>DBName</th><th>FileName</th><th>type_desc</th><th>size</th></tr>",
                            "<tr><td>AdventureWorks2014</td><td>AdventureWorks2014_Data</td><td>ROWS</td><td>28320</td></tr>",
                            "<tr><td>AdventureWorks2014_Bak</td><td>AdventureWorks2014_Bak</td><td>ROWS</td><td>1024</td></tr>",
                            "<tr><td>AdventureWorks2014_SS</td><td>AdventureWorks2014_Data</td><td>ROWS</td><td>28320</td></tr>",
                            "</table>"
                        ]
                    }
                }
            ],
            "execution_count": 2
        },
        {
            "cell_type": "code",
            "source": [
                "/* find snapshots */\r\n",
                "USE master;\r\n",
                "GO\r\n",
                "\r\n",
                "SELECT d.name AS DBName,\r\n",
                "\t DB_NAME(d.source_database_id) AS SourceDB,\r\n",
                "\t d.create_date,\r\n",
                "\t d.is_read_only,\r\n",
                "\t mf.is_sparse\r\n",
                "FROM sys.master_files mf\r\n",
                "\tINNER JOIN sys.databases d\r\n",
                "\t\tON d.database_id = mf.database_id\r\n",
                "WHERE d.name LIKE 'AdventureWorks2014%'\r\n",
                "\tAND type_desc = 'ROWS';\r\n",
                "GO"
            ],
            "metadata": {
                "azdata_cell_guid": "7a8ada5e-0881-470e-8412-1f7a3476ec95"
            },
            "outputs": [
                {
                    "output_type": "display_data",
                    "data": {
                        "text/html": "Commands completed successfully."
                    },
                    "metadata": {}
                },
                {
                    "output_type": "display_data",
                    "data": {
                        "text/html": "(3 rows affected)"
                    },
                    "metadata": {}
                },
                {
                    "output_type": "display_data",
                    "data": {
                        "text/html": "Total execution time: 00:00:00.079"
                    },
                    "metadata": {}
                },
                {
                    "output_type": "execute_result",
                    "metadata": {},
                    "execution_count": 3,
                    "data": {
                        "application/vnd.dataresource+json": {
                            "schema": {
                                "fields": [
                                    {
                                        "name": "DBName"
                                    },
                                    {
                                        "name": "SourceDB"
                                    },
                                    {
                                        "name": "create_date"
                                    },
                                    {
                                        "name": "is_read_only"
                                    },
                                    {
                                        "name": "is_sparse"
                                    }
                                ]
                            },
                            "data": [
                                {
                                    "0": "AdventureWorks2014",
                                    "1": "NULL",
                                    "2": "2020-09-01 19:40:44.237",
                                    "3": "0",
                                    "4": "0"
                                },
                                {
                                    "0": "AdventureWorks2014_Bak",
                                    "1": "NULL",
                                    "2": "2020-10-07 20:06:39.403",
                                    "3": "0",
                                    "4": "0"
                                },
                                {
                                    "0": "AdventureWorks2014_SS",
                                    "1": "AdventureWorks2014",
                                    "2": "2020-10-07 20:08:12.503",
                                    "3": "1",
                                    "4": "1"
                                }
                            ]
                        },
                        "text/html": [
                            "<table>",
                            "<tr><th>DBName</th><th>SourceDB</th><th>create_date</th><th>is_read_only</th><th>is_sparse</th></tr>",
                            "<tr><td>AdventureWorks2014</td><td>NULL</td><td>2020-09-01 19:40:44.237</td><td>0</td><td>0</td></tr>",
                            "<tr><td>AdventureWorks2014_Bak</td><td>NULL</td><td>2020-10-07 20:06:39.403</td><td>0</td><td>0</td></tr>",
                            "<tr><td>AdventureWorks2014_SS</td><td>AdventureWorks2014</td><td>2020-10-07 20:08:12.503</td><td>1</td><td>1</td></tr>",
                            "</table>"
                        ]
                    }
                }
            ],
            "execution_count": 3
        }
    ]
}