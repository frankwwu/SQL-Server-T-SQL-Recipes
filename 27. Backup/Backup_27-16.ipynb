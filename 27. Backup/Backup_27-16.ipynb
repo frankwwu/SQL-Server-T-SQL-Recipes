{
    "metadata": {
        "kernelspec": {
            "name": "SQL",
            "display_name": "SQL",
            "language": "sql"
        },
        "language_info": {
            "name": "sql",
            "version": ""
        }
    },
    "nbformat_minor": 2,
    "nbformat": 4,
    "cells": [
        {
            "cell_type": "code",
            "source": [
                "/* 27-16 */\r\n",
                "USE master;\r\n",
                "GO\r\n",
                "\r\n",
                "CREATE CREDENTIAL SQL2014 \r\n",
                "WITH IDENTITY= 'Recipes2014'\r\n",
                ", SECRET = 'SQL2014Rocks'"
            ],
            "metadata": {
                "azdata_cell_guid": "d8f1953c-53dc-44ed-a5b1-7459501f02fc"
            },
            "outputs": [
                {
                    "output_type": "display_data",
                    "data": {
                        "text/html": "Commands completed successfully."
                    },
                    "metadata": {}
                },
                {
                    "output_type": "display_data",
                    "data": {
                        "text/html": "Commands completed successfully."
                    },
                    "metadata": {}
                },
                {
                    "output_type": "display_data",
                    "data": {
                        "text/html": "Total execution time: 00:00:00.006"
                    },
                    "metadata": {}
                }
            ],
            "execution_count": 1
        },
        {
            "cell_type": "code",
            "source": [
                "BACKUP DATABASE AdventureWorks2014\r\n",
                "TO URL = N'https://Recipes2014.blob.core.windows.net/backuptest/AW2014_blob.bak'\r\n",
                "WITH\r\n",
                "  CREDENTIAL = 'SQL2014'\r\n",
                "  ,COMPRESSION\r\n",
                "  ,STATS = 10\r\n",
                "GO"
            ],
            "metadata": {
                "azdata_cell_guid": "545c9732-7404-40f9-a046-0db297197a72"
            },
            "outputs": [],
            "execution_count": null
        }
    ]
}