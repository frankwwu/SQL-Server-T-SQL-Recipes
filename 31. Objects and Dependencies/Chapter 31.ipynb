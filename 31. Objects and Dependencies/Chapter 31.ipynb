{
    "metadata": {
        "kernelspec": {
            "name": "SQL",
            "display_name": "SQL",
            "language": "sql"
        },
        "language_info": {
            "name": "sql",
            "version": ""
        }
    },
    "nbformat_minor": 2,
    "nbformat": 4,
    "cells": [
        {
            "cell_type": "code",
            "source": [
                "USE tempdb;\r\n",
                "GO"
            ],
            "metadata": {
                "azdata_cell_guid": "67408755-3767-43ff-8a0a-819340ecd609"
            },
            "outputs": [
                {
                    "output_type": "display_data",
                    "data": {
                        "text/html": "Commands completed successfully."
                    },
                    "metadata": {}
                },
                {
                    "output_type": "display_data",
                    "data": {
                        "text/html": "Total execution time: 00:00:00.044"
                    },
                    "metadata": {}
                }
            ],
            "execution_count": 1
        },
        {
            "cell_type": "code",
            "source": [
                "-- recipe 31-1\r\n",
                "IF OBJECT_ID('dbo.Test','U') IS NOT NULL DROP TABLE dbo.Test;\r\n",
                "IF OBJECT_ID('dbo.MyTestTable','U') IS NOT NULL DROP TABLE dbo.MyTestTable;\r\n",
                "CREATE TABLE dbo.Test\r\n",
                "       (\r\n",
                "        Column1 INT,\r\n",
                "        Column2 INT,\r\n",
                "        CONSTRAINT UK_Test UNIQUE (Column1, Column2)\r\n",
                "       );\r\n",
                "GO\r\n",
                "EXECUTE sp_rename 'dbo.Test', 'MyTestTable', 'object';\r\n",
                "GO\r\n",
                "EXECUTE sp_rename 'dbo.MyTestTable.Column1', 'NewColumnName', 'column';\r\n",
                "GO\r\n",
                "CREATE INDEX IX_1 ON dbo.MyTestTable (NewColumnName, Column2);\r\n",
                "GO\r\n",
                "EXECUTE sp_rename 'dbo.MyTestTable.IX_1', 'IX_NewIndexName', 'index';\r\n",
                "GO\r\n",
                "\r\n",
                "IF DB_ID('TSQLRecipes') IS NOT NULL DROP DATABASE TSQLRecipes;\r\n",
                "IF DB_ID('TSQL-Recipes') IS NOT NULL DROP DATABASE [TSQL-Recipes];\r\n",
                "GO\r\n",
                "CREATE DATABASE TSQLRecipes;\r\n",
                "GO\r\n",
                "SELECT  name\r\n",
                "FROM    sys.databases\r\n",
                "WHERE   name IN ('TSQLRecipes', 'TSQL-Recipes');\r\n",
                "GO\r\n",
                "EXECUTE sp_rename 'TSQLRecipes', 'TSQL-Recipes', 'database';\r\n",
                "SELECT  name\r\n",
                "FROM    sys.databases\r\n",
                "WHERE   name IN ('TSQLRecipes', 'TSQL-Recipes');\r\n",
                "GO\r\n",
                "IF EXISTS (SELECT 1 FROM sys.types WHERE name = 'Age') DROP TYPE dbo.Age;\r\n",
                "IF EXISTS (SELECT 1 FROM sys.types WHERE name = 'PersonAge') DROP TYPE dbo.PersonAge;\r\n",
                "CREATE TYPE dbo.Age\r\n",
                "FROM TINYINT NOT NULL;\r\n",
                "SELECT  name\r\n",
                "FROM    sys.types\r\n",
                "WHERE   name IN ('Age', 'PersonAge');\r\n",
                "EXECUTE sp_rename 'dbo.Age', 'PersonAge', 'userdatatype';\r\n",
                "SELECT  name\r\n",
                "FROM    sys.types\r\n",
                "WHERE   name IN ('Age', 'PersonAge');\r\n",
                "GO"
            ],
            "metadata": {
                "azdata_cell_guid": "34dcdc72-e19a-4944-8b6f-0527686b5a4b"
            },
            "outputs": [
                {
                    "output_type": "display_data",
                    "data": {
                        "text/html": "Commands completed successfully."
                    },
                    "metadata": {}
                },
                {
                    "output_type": "display_data",
                    "data": {
                        "text/html": "Caution: Changing any part of an object name could break scripts and stored procedures."
                    },
                    "metadata": {}
                },
                {
                    "output_type": "display_data",
                    "data": {
                        "text/html": "Caution: Changing any part of an object name could break scripts and stored procedures."
                    },
                    "metadata": {}
                },
                {
                    "output_type": "display_data",
                    "data": {
                        "text/html": "Commands completed successfully."
                    },
                    "metadata": {}
                },
                {
                    "output_type": "display_data",
                    "data": {
                        "text/html": "Caution: Changing any part of an object name could break scripts and stored procedures."
                    },
                    "metadata": {}
                },
                {
                    "output_type": "display_data",
                    "data": {
                        "text/html": "Commands completed successfully."
                    },
                    "metadata": {}
                },
                {
                    "output_type": "display_data",
                    "data": {
                        "text/html": "Commands completed successfully."
                    },
                    "metadata": {}
                },
                {
                    "output_type": "display_data",
                    "data": {
                        "text/html": "(1 row affected)"
                    },
                    "metadata": {}
                },
                {
                    "output_type": "execute_result",
                    "metadata": {},
                    "execution_count": 2,
                    "data": {
                        "application/vnd.dataresource+json": {
                            "schema": {
                                "fields": [
                                    {
                                        "name": "name"
                                    }
                                ]
                            },
                            "data": [
                                {
                                    "0": "TSQLRecipes"
                                }
                            ]
                        },
                        "text/html": [
                            "<table>",
                            "<tr><th>name</th></tr>",
                            "<tr><td>TSQLRecipes</td></tr>",
                            "</table>"
                        ]
                    }
                },
                {
                    "output_type": "display_data",
                    "data": {
                        "text/html": "The database name 'TSQL-Recipes' has been set."
                    },
                    "metadata": {}
                },
                {
                    "output_type": "display_data",
                    "data": {
                        "text/html": "(1 row affected)"
                    },
                    "metadata": {}
                },
                {
                    "output_type": "display_data",
                    "data": {
                        "text/html": "(1 row affected)"
                    },
                    "metadata": {}
                },
                {
                    "output_type": "display_data",
                    "data": {
                        "text/html": "Caution: Changing any part of an object name could break scripts and stored procedures."
                    },
                    "metadata": {}
                },
                {
                    "output_type": "display_data",
                    "data": {
                        "text/html": "(1 row affected)"
                    },
                    "metadata": {}
                },
                {
                    "output_type": "display_data",
                    "data": {
                        "text/html": "Total execution time: 00:00:00.844"
                    },
                    "metadata": {}
                },
                {
                    "output_type": "execute_result",
                    "metadata": {},
                    "execution_count": 2,
                    "data": {
                        "application/vnd.dataresource+json": {
                            "schema": {
                                "fields": [
                                    {
                                        "name": "name"
                                    }
                                ]
                            },
                            "data": [
                                {
                                    "0": "TSQL-Recipes"
                                }
                            ]
                        },
                        "text/html": [
                            "<table>",
                            "<tr><th>name</th></tr>",
                            "<tr><td>TSQL-Recipes</td></tr>",
                            "</table>"
                        ]
                    }
                },
                {
                    "output_type": "execute_result",
                    "metadata": {},
                    "execution_count": 2,
                    "data": {
                        "application/vnd.dataresource+json": {
                            "schema": {
                                "fields": [
                                    {
                                        "name": "name"
                                    }
                                ]
                            },
                            "data": [
                                {
                                    "0": "Age"
                                }
                            ]
                        },
                        "text/html": [
                            "<table>",
                            "<tr><th>name</th></tr>",
                            "<tr><td>Age</td></tr>",
                            "</table>"
                        ]
                    }
                },
                {
                    "output_type": "execute_result",
                    "metadata": {},
                    "execution_count": 2,
                    "data": {
                        "application/vnd.dataresource+json": {
                            "schema": {
                                "fields": [
                                    {
                                        "name": "name"
                                    }
                                ]
                            },
                            "data": [
                                {
                                    "0": "PersonAge"
                                }
                            ]
                        },
                        "text/html": [
                            "<table>",
                            "<tr><th>name</th></tr>",
                            "<tr><td>PersonAge</td></tr>",
                            "</table>"
                        ]
                    }
                }
            ],
            "execution_count": 2
        },
        {
            "cell_type": "code",
            "source": [
                "-- recipe 31-2\r\n",
                "USE AdventureWorks2014;\r\n",
                "GO\r\n",
                "CREATE TABLE Sales.TerminationReason\r\n",
                "       (\r\n",
                "        TerminationReasonID INT NOT NULL\r\n",
                "                                PRIMARY KEY,\r\n",
                "        TerminationReasonDESC VARCHAR(100) NOT NULL\r\n",
                "       ); \r\n",
                "GO\r\n",
                "ALTER SCHEMA HumanResources TRANSFER Sales.TerminationReason; \r\n",
                "GO\r\n",
                "DROP TABLE HumanResources.TerminationReason;\r\n",
                "GO"
            ],
            "metadata": {
                "azdata_cell_guid": "fcb96d1d-7e83-41fb-a6a0-b2e038c3b4ab"
            },
            "outputs": [
                {
                    "output_type": "display_data",
                    "data": {
                        "text/html": "Commands completed successfully."
                    },
                    "metadata": {}
                },
                {
                    "output_type": "display_data",
                    "data": {
                        "text/html": "Commands completed successfully."
                    },
                    "metadata": {}
                },
                {
                    "output_type": "display_data",
                    "data": {
                        "text/html": "Commands completed successfully."
                    },
                    "metadata": {}
                },
                {
                    "output_type": "display_data",
                    "data": {
                        "text/html": "Commands completed successfully."
                    },
                    "metadata": {}
                },
                {
                    "output_type": "display_data",
                    "data": {
                        "text/html": "Total execution time: 00:00:00.011"
                    },
                    "metadata": {}
                }
            ],
            "execution_count": 3
        },
        {
            "cell_type": "code",
            "source": [
                "-- recipe 31-3\r\n",
                "USE master; \r\n",
                "GO\r\n",
                "IF DB_ID('TSQLRecipe_A') IS NOT NULL \r\n",
                "   DROP DATABASE TSQLRecipe_A;\r\n",
                "IF DB_ID('TSQLRecipe_B') IS NOT NULL \r\n",
                "   DROP DATABASE TSQLRecipe_B;\r\n",
                "\r\n",
                "-- Create two new databases \r\n",
                "CREATE DATABASE TSQLRecipe_A;\r\n",
                "GO\r\n",
                "CREATE DATABASE TSQLRecipe_B;\r\n",
                "GO\r\n",
                "\r\n",
                "-- Create a new table in the first database\r\n",
                "USE TSQLRecipe_A;\r\n",
                "GO\r\n",
                "CREATE TABLE dbo.Book\r\n",
                "       (\r\n",
                "        BookID INT NOT NULL\r\n",
                "                   PRIMARY KEY,\r\n",
                "        BookNM VARCHAR(50) NOT NULL\r\n",
                "       ); \r\n",
                "GO\r\n",
                "\r\n",
                "-- Create a procedure referencing an object \r\n",
                "-- in the second database \r\n",
                "USE TSQLRecipe_B; \r\n",
                "GO\r\n",
                "CREATE PROCEDURE dbo.usp_SEL_Book\r\n",
                "AS \r\n",
                "SELECT  BookID,\r\n",
                "        BookNM\r\n",
                "FROM    TSQLRecipe_A.dbo.Book; \r\n",
                "GO\r\n",
                "SELECT  referenced_server_name,\r\n",
                "        referenced_database_name,\r\n",
                "        referenced_schema_name,\r\n",
                "        referenced_entity_name,\r\n",
                "        is_caller_dependent\r\n",
                "FROM    sys.sql_expression_dependencies\r\n",
                "WHERE   OBJECT_NAME(referencing_id) = 'usp_SEL_Book';\r\n",
                "GO\r\n",
                "\r\n",
                "USE TSQLRecipe_B; \r\n",
                "GO\r\n",
                "CREATE PROCEDURE dbo.usp_SEL_Contract\r\n",
                "AS \r\n",
                "SELECT  ContractID,\r\n",
                "        ContractNM\r\n",
                "FROM    TSQLRecipe_A.dbo.Contract;\r\n",
                "GO\r\n",
                "USE TSQLRecipe_B; \r\n",
                "GO\r\n",
                "SELECT  referenced_server_name,\r\n",
                "        referenced_database_name,\r\n",
                "        referenced_schema_name,\r\n",
                "        referenced_entity_name,\r\n",
                "        is_caller_dependent\r\n",
                "FROM    sys.sql_expression_dependencies\r\n",
                "WHERE   OBJECT_NAME(referencing_id) = 'usp_SEL_Contract';\r\n",
                "GO\r\n",
                ""
            ],
            "metadata": {
                "azdata_cell_guid": "61f7ca23-174e-4624-b5f4-ee8dbdeda3a3"
            },
            "outputs": [
                {
                    "output_type": "display_data",
                    "data": {
                        "text/html": "Commands completed successfully."
                    },
                    "metadata": {}
                },
                {
                    "output_type": "display_data",
                    "data": {
                        "text/html": "Commands completed successfully."
                    },
                    "metadata": {}
                },
                {
                    "output_type": "display_data",
                    "data": {
                        "text/html": "Commands completed successfully."
                    },
                    "metadata": {}
                },
                {
                    "output_type": "display_data",
                    "data": {
                        "text/html": "Commands completed successfully."
                    },
                    "metadata": {}
                },
                {
                    "output_type": "display_data",
                    "data": {
                        "text/html": "Commands completed successfully."
                    },
                    "metadata": {}
                },
                {
                    "output_type": "display_data",
                    "data": {
                        "text/html": "Commands completed successfully."
                    },
                    "metadata": {}
                },
                {
                    "output_type": "display_data",
                    "data": {
                        "text/html": "Commands completed successfully."
                    },
                    "metadata": {}
                },
                {
                    "output_type": "display_data",
                    "data": {
                        "text/html": "(1 row affected)"
                    },
                    "metadata": {}
                },
                {
                    "output_type": "display_data",
                    "data": {
                        "text/html": "Commands completed successfully."
                    },
                    "metadata": {}
                },
                {
                    "output_type": "display_data",
                    "data": {
                        "text/html": "Commands completed successfully."
                    },
                    "metadata": {}
                },
                {
                    "output_type": "display_data",
                    "data": {
                        "text/html": "Commands completed successfully."
                    },
                    "metadata": {}
                },
                {
                    "output_type": "execute_result",
                    "metadata": {},
                    "execution_count": 4,
                    "data": {
                        "application/vnd.dataresource+json": {
                            "schema": {
                                "fields": [
                                    {
                                        "name": "referenced_server_name"
                                    },
                                    {
                                        "name": "referenced_database_name"
                                    },
                                    {
                                        "name": "referenced_schema_name"
                                    },
                                    {
                                        "name": "referenced_entity_name"
                                    },
                                    {
                                        "name": "is_caller_dependent"
                                    }
                                ]
                            },
                            "data": [
                                {
                                    "0": "NULL",
                                    "1": "TSQLRecipe_A",
                                    "2": "dbo",
                                    "3": "Book",
                                    "4": "0"
                                }
                            ]
                        },
                        "text/html": [
                            "<table>",
                            "<tr><th>referenced_server_name</th><th>referenced_database_name</th><th>referenced_schema_name</th><th>referenced_entity_name</th><th>is_caller_dependent</th></tr>",
                            "<tr><td>NULL</td><td>TSQLRecipe_A</td><td>dbo</td><td>Book</td><td>0</td></tr>",
                            "</table>"
                        ]
                    }
                },
                {
                    "output_type": "display_data",
                    "data": {
                        "text/html": "(1 row affected)"
                    },
                    "metadata": {}
                },
                {
                    "output_type": "display_data",
                    "data": {
                        "text/html": "Total execution time: 00:00:02.747"
                    },
                    "metadata": {}
                },
                {
                    "output_type": "execute_result",
                    "metadata": {},
                    "execution_count": 4,
                    "data": {
                        "application/vnd.dataresource+json": {
                            "schema": {
                                "fields": [
                                    {
                                        "name": "referenced_server_name"
                                    },
                                    {
                                        "name": "referenced_database_name"
                                    },
                                    {
                                        "name": "referenced_schema_name"
                                    },
                                    {
                                        "name": "referenced_entity_name"
                                    },
                                    {
                                        "name": "is_caller_dependent"
                                    }
                                ]
                            },
                            "data": [
                                {
                                    "0": "NULL",
                                    "1": "TSQLRecipe_A",
                                    "2": "dbo",
                                    "3": "Contract",
                                    "4": "0"
                                }
                            ]
                        },
                        "text/html": [
                            "<table>",
                            "<tr><th>referenced_server_name</th><th>referenced_database_name</th><th>referenced_schema_name</th><th>referenced_entity_name</th><th>is_caller_dependent</th></tr>",
                            "<tr><td>NULL</td><td>TSQLRecipe_A</td><td>dbo</td><td>Contract</td><td>0</td></tr>",
                            "</table>"
                        ]
                    }
                }
            ],
            "execution_count": 4
        },
        {
            "cell_type": "code",
            "source": [
                "-- recipe 31-4\r\n",
                "USE master;\r\n",
                "GO\r\n",
                "IF DB_ID('TSQLRecipe_A') IS NOT NULL \r\n",
                "   DROP DATABASE TSQLRecipe_A;\r\n",
                "GO\r\n",
                "CREATE DATABASE TSQLRecipe_A;\r\n",
                "GO\r\n",
                "USE TSQLRecipe_A;\r\n",
                "GO\r\n",
                "CREATE TABLE dbo.BookPublisher\r\n",
                "       (\r\n",
                "        BookPublisherID INT NOT NULL\r\n",
                "                            PRIMARY KEY,\r\n",
                "        BookPublisherNM VARCHAR(30) NOT NULL\r\n",
                "       ); \r\n",
                "GO\r\n",
                "CREATE VIEW dbo.vw_BookPublisher\r\n",
                "AS\r\n",
                "SELECT  BookPublisherID,\r\n",
                "        BookPublisherNM\r\n",
                "FROM    dbo.BookPublisher;\r\n",
                "GO\r\n",
                "CREATE PROCEDURE dbo.usp_INS_BookPublisher\r\n",
                "       @BookPublisherNM VARCHAR(30)\r\n",
                "AS \r\n",
                "INSERT  dbo.BookPublisher\r\n",
                "        (BookPublisherNM)\r\n",
                "VALUES  (@BookPublisherNM);\r\n",
                "GO\r\n",
                "SELECT  referenced_entity_name,\r\n",
                "        referenced_minor_name\r\n",
                "FROM    sys.dm_sql_referenced_entities('dbo.vw_BookPublisher', 'OBJECT');\r\n",
                "GO\r\n",
                "\r\n",
                "SELECT  referencing_schema_name,\r\n",
                "        referencing_entity_name\r\n",
                "FROM    sys.dm_sql_referencing_entities('dbo.BookPublisher', 'OBJECT');\r\n",
                "GO\r\n",
                ""
            ],
            "metadata": {
                "azdata_cell_guid": "ec56ec1a-bfd7-4bad-9584-2bcc402658b4"
            },
            "outputs": [
                {
                    "output_type": "display_data",
                    "data": {
                        "text/html": "Commands completed successfully."
                    },
                    "metadata": {}
                },
                {
                    "output_type": "display_data",
                    "data": {
                        "text/html": "Commands completed successfully."
                    },
                    "metadata": {}
                },
                {
                    "output_type": "display_data",
                    "data": {
                        "text/html": "Commands completed successfully."
                    },
                    "metadata": {}
                },
                {
                    "output_type": "display_data",
                    "data": {
                        "text/html": "Commands completed successfully."
                    },
                    "metadata": {}
                },
                {
                    "output_type": "display_data",
                    "data": {
                        "text/html": "Commands completed successfully."
                    },
                    "metadata": {}
                },
                {
                    "output_type": "display_data",
                    "data": {
                        "text/html": "Commands completed successfully."
                    },
                    "metadata": {}
                },
                {
                    "output_type": "display_data",
                    "data": {
                        "text/html": "Commands completed successfully."
                    },
                    "metadata": {}
                },
                {
                    "output_type": "display_data",
                    "data": {
                        "text/html": "(3 rows affected)"
                    },
                    "metadata": {}
                },
                {
                    "output_type": "execute_result",
                    "metadata": {},
                    "execution_count": 5,
                    "data": {
                        "application/vnd.dataresource+json": {
                            "schema": {
                                "fields": [
                                    {
                                        "name": "referenced_entity_name"
                                    },
                                    {
                                        "name": "referenced_minor_name"
                                    }
                                ]
                            },
                            "data": [
                                {
                                    "0": "BookPublisher",
                                    "1": "NULL"
                                },
                                {
                                    "0": "BookPublisher",
                                    "1": "BookPublisherID"
                                },
                                {
                                    "0": "BookPublisher",
                                    "1": "BookPublisherNM"
                                }
                            ]
                        },
                        "text/html": [
                            "<table>",
                            "<tr><th>referenced_entity_name</th><th>referenced_minor_name</th></tr>",
                            "<tr><td>BookPublisher</td><td>NULL</td></tr>",
                            "<tr><td>BookPublisher</td><td>BookPublisherID</td></tr>",
                            "<tr><td>BookPublisher</td><td>BookPublisherNM</td></tr>",
                            "</table>"
                        ]
                    }
                },
                {
                    "output_type": "display_data",
                    "data": {
                        "text/html": "(2 rows affected)"
                    },
                    "metadata": {}
                },
                {
                    "output_type": "display_data",
                    "data": {
                        "text/html": "Total execution time: 00:00:00.571"
                    },
                    "metadata": {}
                },
                {
                    "output_type": "execute_result",
                    "metadata": {},
                    "execution_count": 5,
                    "data": {
                        "application/vnd.dataresource+json": {
                            "schema": {
                                "fields": [
                                    {
                                        "name": "referencing_schema_name"
                                    },
                                    {
                                        "name": "referencing_entity_name"
                                    }
                                ]
                            },
                            "data": [
                                {
                                    "0": "dbo",
                                    "1": "usp_INS_BookPublisher"
                                },
                                {
                                    "0": "dbo",
                                    "1": "vw_BookPublisher"
                                }
                            ]
                        },
                        "text/html": [
                            "<table>",
                            "<tr><th>referencing_schema_name</th><th>referencing_entity_name</th></tr>",
                            "<tr><td>dbo</td><td>usp_INS_BookPublisher</td></tr>",
                            "<tr><td>dbo</td><td>vw_BookPublisher</td></tr>",
                            "</table>"
                        ]
                    }
                }
            ],
            "execution_count": 5
        },
        {
            "cell_type": "code",
            "source": [
                "-- recipe 31-5\r\n",
                "-- solution 1\r\n",
                "SELECT  OBJECT_DEFINITION(OBJECT_ID('dbo.usp_INS_BookPublisher'));\r\n",
                "-- solution 2\r\n",
                "SELECT  definition\r\n",
                "FROM    sys.all_sql_modules AS asm\r\n",
                "WHERE   object_id = OBJECT_ID('dbo.usp_INS_BookPublisher');\r\n",
                "-- encrypted objects\r\n",
                "IF OBJECT_ID('dbo.EncryptedView', 'V') IS NOT NULL \r\n",
                "   DROP VIEW dbo.EncryptedView;\r\n",
                "GO\r\n",
                "CREATE VIEW dbo.EncryptedView\r\n",
                "WITH ENCRYPTION\r\n",
                "AS\r\n",
                "SELECT  1 AS Result;\r\n",
                "GO\r\n",
                "\r\n",
                "SELECT  OBJECT_DEFINITION(OBJECT_ID('dbo.EncryptedView'));\r\n",
                "\r\n",
                "SELECT  definition\r\n",
                "FROM    sys.all_sql_modules AS asm\r\n",
                "WHERE   object_id = OBJECT_ID('dbo.EncryptedView');\r\n",
                "GO"
            ],
            "metadata": {
                "azdata_cell_guid": "dd1f5ae9-d40d-4ef1-b7f4-4b1723929922"
            },
            "outputs": [
                {
                    "output_type": "display_data",
                    "data": {
                        "text/html": "(1 row affected)"
                    },
                    "metadata": {}
                },
                {
                    "output_type": "display_data",
                    "data": {
                        "text/html": "(1 row affected)"
                    },
                    "metadata": {}
                },
                {
                    "output_type": "display_data",
                    "data": {
                        "text/html": "Commands completed successfully."
                    },
                    "metadata": {}
                },
                {
                    "output_type": "execute_result",
                    "metadata": {},
                    "execution_count": 6,
                    "data": {
                        "application/vnd.dataresource+json": {
                            "schema": {
                                "fields": [
                                    {
                                        "name": "(No column name)"
                                    }
                                ]
                            },
                            "data": [
                                {
                                    "0": "CREATE PROCEDURE dbo.usp_INS_BookPublisher\r\n       @BookPublisherNM VARCHAR(30)\r\nAS \r\nINSERT  dbo.BookPublisher\r\n        (BookPublisherNM)\r\nVALUES  (@BookPublisherNM);\r\n"
                                }
                            ]
                        },
                        "text/html": [
                            "<table>",
                            "<tr><th>(No column name)</th></tr>",
                            "<tr><td>CREATE PROCEDURE dbo.usp_INS_BookPublisher\r\n       @BookPublisherNM VARCHAR(30)\r\nAS \r\nINSERT  dbo.BookPublisher\r\n        (BookPublisherNM)\r\nVALUES  (@BookPublisherNM);\r\n</td></tr>",
                            "</table>"
                        ]
                    }
                },
                {
                    "output_type": "display_data",
                    "data": {
                        "text/html": "(1 row affected)"
                    },
                    "metadata": {}
                },
                {
                    "output_type": "display_data",
                    "data": {
                        "text/html": "(1 row affected)"
                    },
                    "metadata": {}
                },
                {
                    "output_type": "display_data",
                    "data": {
                        "text/html": "Total execution time: 00:00:00.914"
                    },
                    "metadata": {}
                },
                {
                    "output_type": "execute_result",
                    "metadata": {},
                    "execution_count": 6,
                    "data": {
                        "application/vnd.dataresource+json": {
                            "schema": {
                                "fields": [
                                    {
                                        "name": "definition"
                                    }
                                ]
                            },
                            "data": [
                                {
                                    "0": "CREATE PROCEDURE dbo.usp_INS_BookPublisher\r\n       @BookPublisherNM VARCHAR(30)\r\nAS \r\nINSERT  dbo.BookPublisher\r\n        (BookPublisherNM)\r\nVALUES  (@BookPublisherNM);\r\n"
                                }
                            ]
                        },
                        "text/html": [
                            "<table>",
                            "<tr><th>definition</th></tr>",
                            "<tr><td>CREATE PROCEDURE dbo.usp_INS_BookPublisher\r\n       @BookPublisherNM VARCHAR(30)\r\nAS \r\nINSERT  dbo.BookPublisher\r\n        (BookPublisherNM)\r\nVALUES  (@BookPublisherNM);\r\n</td></tr>",
                            "</table>"
                        ]
                    }
                },
                {
                    "output_type": "execute_result",
                    "metadata": {},
                    "execution_count": 6,
                    "data": {
                        "application/vnd.dataresource+json": {
                            "schema": {
                                "fields": [
                                    {
                                        "name": "(No column name)"
                                    }
                                ]
                            },
                            "data": [
                                {
                                    "0": "NULL"
                                }
                            ]
                        },
                        "text/html": [
                            "<table>",
                            "<tr><th>(No column name)</th></tr>",
                            "<tr><td>NULL</td></tr>",
                            "</table>"
                        ]
                    }
                },
                {
                    "output_type": "execute_result",
                    "metadata": {},
                    "execution_count": 6,
                    "data": {
                        "application/vnd.dataresource+json": {
                            "schema": {
                                "fields": [
                                    {
                                        "name": "definition"
                                    }
                                ]
                            },
                            "data": [
                                {
                                    "0": "NULL"
                                }
                            ]
                        },
                        "text/html": [
                            "<table>",
                            "<tr><th>definition</th></tr>",
                            "<tr><td>NULL</td></tr>",
                            "</table>"
                        ]
                    }
                }
            ],
            "execution_count": 6
        },
        {
            "cell_type": "code",
            "source": [
                "-- recipe 31-6\r\n",
                "-- solution 1\r\n",
                "SELECT  object_id,\r\n",
                "        OBJECT_SCHEMA_NAME(object_id) AS SchemaName,\r\n",
                "        OBJECT_NAME(object_id) AS ObjectName\r\n",
                "FROM    sys.tables\r\n",
                "WHERE   object_id = OBJECT_ID('dbo.BookPublisher', 'U');\r\n",
                "GO\r\n",
                "-- solution 2\r\n",
                "SELECT  t.object_id,\r\n",
                "        s.name AS SchemaName,\r\n",
                "        t.name AS ObjectName\r\n",
                "FROM    sys.tables AS t\r\n",
                "        JOIN sys.schemas AS s\r\n",
                "            ON t.schema_id = s.schema_id\r\n",
                "WHERE   s.name = 'dbo'\r\n",
                "        AND t.name = 'BookPublisher';\r\n",
                "GO\r\n",
                "\r\n",
                "-- cleanup\r\n",
                "IF EXISTS (SELECT 1 FROM sys.types WHERE name = 'Age') DROP TYPE dbo.Age;\r\n",
                "IF EXISTS (SELECT 1 FROM sys.types WHERE name = 'PersonAge') DROP TYPE dbo.PersonAge;\r\n",
                "IF DB_ID('TSQLRecipes') IS NOT NULL DROP DATABASE TSQLRecipes;\r\n",
                "IF DB_ID('TSQL-Recipes') IS NOT NULL DROP DATABASE [TSQL-Recipes];\r\n",
                "IF OBJECT_ID('dbo.Test','U') IS NOT NULL DROP TABLE dbo.Test;\r\n",
                "IF OBJECT_ID('dbo.MyTestTable','U') IS NOT NULL DROP TABLE dbo.MyTestTable;\r\n",
                "IF DB_ID('TSQLRecipe_A') IS NOT NULL DROP DATABASE TSQLRecipe_A;\r\n",
                "IF DB_ID('TSQLRecipe_B') IS NOT NULL DROP DATABASE TSQLRecipe_B;"
            ],
            "metadata": {
                "azdata_cell_guid": "ad843ee4-efb8-43d0-8a33-4c99bc14f45d"
            },
            "outputs": [
                {
                    "output_type": "display_data",
                    "data": {
                        "text/html": "(1 row affected)"
                    },
                    "metadata": {}
                },
                {
                    "output_type": "execute_result",
                    "metadata": {},
                    "execution_count": 7,
                    "data": {
                        "application/vnd.dataresource+json": {
                            "schema": {
                                "fields": [
                                    {
                                        "name": "object_id"
                                    },
                                    {
                                        "name": "SchemaName"
                                    },
                                    {
                                        "name": "ObjectName"
                                    }
                                ]
                            },
                            "data": [
                                {
                                    "0": "581577110",
                                    "1": "dbo",
                                    "2": "BookPublisher"
                                }
                            ]
                        },
                        "text/html": [
                            "<table>",
                            "<tr><th>object_id</th><th>SchemaName</th><th>ObjectName</th></tr>",
                            "<tr><td>581577110</td><td>dbo</td><td>BookPublisher</td></tr>",
                            "</table>"
                        ]
                    }
                },
                {
                    "output_type": "display_data",
                    "data": {
                        "text/html": "(1 row affected)"
                    },
                    "metadata": {}
                },
                {
                    "output_type": "error",
                    "evalue": "Msg 3702, Level 16, State 3, Line 27\r\nCannot drop database \"TSQLRecipe_A\" because it is currently in use.",
                    "ename": "",
                    "traceback": []
                },
                {
                    "output_type": "display_data",
                    "data": {
                        "text/html": "Total execution time: 00:00:00.207"
                    },
                    "metadata": {}
                },
                {
                    "output_type": "execute_result",
                    "metadata": {},
                    "execution_count": 7,
                    "data": {
                        "application/vnd.dataresource+json": {
                            "schema": {
                                "fields": [
                                    {
                                        "name": "object_id"
                                    },
                                    {
                                        "name": "SchemaName"
                                    },
                                    {
                                        "name": "ObjectName"
                                    }
                                ]
                            },
                            "data": [
                                {
                                    "0": "581577110",
                                    "1": "dbo",
                                    "2": "BookPublisher"
                                }
                            ]
                        },
                        "text/html": [
                            "<table>",
                            "<tr><th>object_id</th><th>SchemaName</th><th>ObjectName</th></tr>",
                            "<tr><td>581577110</td><td>dbo</td><td>BookPublisher</td></tr>",
                            "</table>"
                        ]
                    }
                }
            ],
            "execution_count": 7
        }
    ]
}