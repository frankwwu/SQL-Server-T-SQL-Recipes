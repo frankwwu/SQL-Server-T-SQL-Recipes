{
    "metadata": {
        "kernelspec": {
            "name": "SQL",
            "display_name": "SQL",
            "language": "sql"
        },
        "language_info": {
            "name": "sql",
            "version": ""
        }
    },
    "nbformat_minor": 2,
    "nbformat": 4,
    "cells": [
        {
            "cell_type": "code",
            "source": [
                "USE AdventureWorks2014;\r\n",
                "GO"
            ],
            "metadata": {
                "azdata_cell_guid": "b9b14a96-e2c5-4a78-abf2-c9093f315ac4"
            },
            "outputs": [
                {
                    "output_type": "display_data",
                    "data": {
                        "text/html": "Commands completed successfully."
                    },
                    "metadata": {}
                },
                {
                    "output_type": "display_data",
                    "data": {
                        "text/html": "Total execution time: 00:00:00.036"
                    },
                    "metadata": {}
                }
            ],
            "execution_count": 1
        },
        {
            "cell_type": "code",
            "source": [
                "-- recipe 9.1\r\n",
                "SELECT  TOP (5)\r\n",
                "        FullName = CONCAT(LastName, ', ', FirstName, ' ', MiddleName)\r\n",
                "FROM    Person.Person p; \r\n",
                "\r\n",
                "SELECT  TOP (5)\r\n",
                "        FullName = CONCAT(LastName, ', ', FirstName, ' ', MiddleName),\r\n",
                "        FullName2 = LastName + ', ' + FirstName + ' ' + MiddleName,\r\n",
                "        FullName3 = LastName + ', ' + FirstName + \r\n",
                "            IIF(MiddleName IS NULL, '', ' ' + MiddleName)\r\n",
                "FROM    Person.Person p\r\n",
                "WHERE   MiddleName IS NULL;"
            ],
            "metadata": {
                "azdata_cell_guid": "297e1a45-8e87-497a-8926-bbcedfb88f49"
            },
            "outputs": [
                {
                    "output_type": "display_data",
                    "data": {
                        "text/html": "(5 rows affected)"
                    },
                    "metadata": {}
                },
                {
                    "output_type": "display_data",
                    "data": {
                        "text/html": "(5 rows affected)"
                    },
                    "metadata": {}
                },
                {
                    "output_type": "display_data",
                    "data": {
                        "text/html": "Total execution time: 00:00:00.112"
                    },
                    "metadata": {}
                },
                {
                    "output_type": "execute_result",
                    "metadata": {},
                    "execution_count": 2,
                    "data": {
                        "application/vnd.dataresource+json": {
                            "schema": {
                                "fields": [
                                    {
                                        "name": "FullName"
                                    }
                                ]
                            },
                            "data": [
                                {
                                    "0": "Abbas, Syed E"
                                },
                                {
                                    "0": "Abel, Catherine R."
                                },
                                {
                                    "0": "Abercrombie, Kim "
                                },
                                {
                                    "0": "Abercrombie, Kim "
                                },
                                {
                                    "0": "Abercrombie, Kim B"
                                }
                            ]
                        },
                        "text/html": [
                            "<table>",
                            "<tr><th>FullName</th></tr>",
                            "<tr><td>Abbas, Syed E</td></tr>",
                            "<tr><td>Abel, Catherine R.</td></tr>",
                            "<tr><td>Abercrombie, Kim </td></tr>",
                            "<tr><td>Abercrombie, Kim </td></tr>",
                            "<tr><td>Abercrombie, Kim B</td></tr>",
                            "</table>"
                        ]
                    }
                },
                {
                    "output_type": "execute_result",
                    "metadata": {},
                    "execution_count": 2,
                    "data": {
                        "application/vnd.dataresource+json": {
                            "schema": {
                                "fields": [
                                    {
                                        "name": "FullName"
                                    },
                                    {
                                        "name": "FullName2"
                                    },
                                    {
                                        "name": "FullName3"
                                    }
                                ]
                            },
                            "data": [
                                {
                                    "0": "Abercrombie, Kim ",
                                    "1": "NULL",
                                    "2": "Abercrombie, Kim"
                                },
                                {
                                    "0": "Abercrombie, Kim ",
                                    "1": "NULL",
                                    "2": "Abercrombie, Kim"
                                },
                                {
                                    "0": "Abolrous, Sam ",
                                    "1": "NULL",
                                    "2": "Abolrous, Sam"
                                },
                                {
                                    "0": "Acevedo, Humberto ",
                                    "1": "NULL",
                                    "2": "Acevedo, Humberto"
                                },
                                {
                                    "0": "Achong, Gustavo ",
                                    "1": "NULL",
                                    "2": "Achong, Gustavo"
                                }
                            ]
                        },
                        "text/html": [
                            "<table>",
                            "<tr><th>FullName</th><th>FullName2</th><th>FullName3</th></tr>",
                            "<tr><td>Abercrombie, Kim </td><td>NULL</td><td>Abercrombie, Kim</td></tr>",
                            "<tr><td>Abercrombie, Kim </td><td>NULL</td><td>Abercrombie, Kim</td></tr>",
                            "<tr><td>Abolrous, Sam </td><td>NULL</td><td>Abolrous, Sam</td></tr>",
                            "<tr><td>Acevedo, Humberto </td><td>NULL</td><td>Acevedo, Humberto</td></tr>",
                            "<tr><td>Achong, Gustavo </td><td>NULL</td><td>Achong, Gustavo</td></tr>",
                            "</table>"
                        ]
                    }
                }
            ],
            "execution_count": 2
        },
        {
            "cell_type": "code",
            "source": [
                "-- recipe 9.2\r\n",
                "SELECT  ASCII('H'),\r\n",
                "        ASCII('e'),\r\n",
                "        ASCII('l'),\r\n",
                "        ASCII('l'),\r\n",
                "        ASCII('o');\r\n",
                "SELECT  CHAR(72),\r\n",
                "        CHAR(101),\r\n",
                "        CHAR(108),\r\n",
                "        CHAR(108),\r\n",
                "        CHAR(111) ;"
            ],
            "metadata": {
                "azdata_cell_guid": "eaf55d41-3d92-4ef8-b6f8-d0bf9181722e"
            },
            "outputs": [
                {
                    "output_type": "display_data",
                    "data": {
                        "text/html": "(1 row affected)"
                    },
                    "metadata": {}
                },
                {
                    "output_type": "display_data",
                    "data": {
                        "text/html": "(1 row affected)"
                    },
                    "metadata": {}
                },
                {
                    "output_type": "display_data",
                    "data": {
                        "text/html": "Total execution time: 00:00:00.050"
                    },
                    "metadata": {}
                },
                {
                    "output_type": "execute_result",
                    "metadata": {},
                    "execution_count": 3,
                    "data": {
                        "application/vnd.dataresource+json": {
                            "schema": {
                                "fields": [
                                    {
                                        "name": "(No column name)"
                                    },
                                    {
                                        "name": "(No column name)"
                                    },
                                    {
                                        "name": "(No column name)"
                                    },
                                    {
                                        "name": "(No column name)"
                                    },
                                    {
                                        "name": "(No column name)"
                                    }
                                ]
                            },
                            "data": [
                                {
                                    "0": "72",
                                    "1": "101",
                                    "2": "108",
                                    "3": "108",
                                    "4": "111"
                                }
                            ]
                        },
                        "text/html": [
                            "<table>",
                            "<tr><th>(No column name)</th><th>(No column name)</th><th>(No column name)</th><th>(No column name)</th><th>(No column name)</th></tr>",
                            "<tr><td>72</td><td>101</td><td>108</td><td>108</td><td>111</td></tr>",
                            "</table>"
                        ]
                    }
                },
                {
                    "output_type": "execute_result",
                    "metadata": {},
                    "execution_count": 3,
                    "data": {
                        "application/vnd.dataresource+json": {
                            "schema": {
                                "fields": [
                                    {
                                        "name": "(No column name)"
                                    },
                                    {
                                        "name": "(No column name)"
                                    },
                                    {
                                        "name": "(No column name)"
                                    },
                                    {
                                        "name": "(No column name)"
                                    },
                                    {
                                        "name": "(No column name)"
                                    }
                                ]
                            },
                            "data": [
                                {
                                    "0": "H",
                                    "1": "e",
                                    "2": "l",
                                    "3": "l",
                                    "4": "o"
                                }
                            ]
                        },
                        "text/html": [
                            "<table>",
                            "<tr><th>(No column name)</th><th>(No column name)</th><th>(No column name)</th><th>(No column name)</th><th>(No column name)</th></tr>",
                            "<tr><td>H</td><td>e</td><td>l</td><td>l</td><td>o</td></tr>",
                            "</table>"
                        ]
                    }
                }
            ],
            "execution_count": 3
        },
        {
            "cell_type": "code",
            "source": [
                "-- recipe 9.3\r\n",
                "SELECT  UNICODE('G'),\r\n",
                "        UNICODE('o'),\r\n",
                "        UNICODE('o'),\r\n",
                "        UNICODE('d'),\r\n",
                "        UNICODE('!');\r\n",
                "SELECT  NCHAR(71),\r\n",
                "        NCHAR(111),\r\n",
                "        NCHAR(111),\r\n",
                "        NCHAR(100),\r\n",
                "        NCHAR(33) ;"
            ],
            "metadata": {
                "azdata_cell_guid": "d2959a12-08d5-4835-a59f-dcb946274ef7",
                "tags": []
            },
            "outputs": [
                {
                    "output_type": "display_data",
                    "data": {
                        "text/html": "(1 row affected)"
                    },
                    "metadata": {}
                },
                {
                    "output_type": "display_data",
                    "data": {
                        "text/html": "(1 row affected)"
                    },
                    "metadata": {}
                },
                {
                    "output_type": "display_data",
                    "data": {
                        "text/html": "Total execution time: 00:00:00.042"
                    },
                    "metadata": {}
                },
                {
                    "output_type": "execute_result",
                    "metadata": {},
                    "execution_count": 4,
                    "data": {
                        "application/vnd.dataresource+json": {
                            "schema": {
                                "fields": [
                                    {
                                        "name": "(No column name)"
                                    },
                                    {
                                        "name": "(No column name)"
                                    },
                                    {
                                        "name": "(No column name)"
                                    },
                                    {
                                        "name": "(No column name)"
                                    },
                                    {
                                        "name": "(No column name)"
                                    }
                                ]
                            },
                            "data": [
                                {
                                    "0": "71",
                                    "1": "111",
                                    "2": "111",
                                    "3": "100",
                                    "4": "33"
                                }
                            ]
                        },
                        "text/html": [
                            "<table>",
                            "<tr><th>(No column name)</th><th>(No column name)</th><th>(No column name)</th><th>(No column name)</th><th>(No column name)</th></tr>",
                            "<tr><td>71</td><td>111</td><td>111</td><td>100</td><td>33</td></tr>",
                            "</table>"
                        ]
                    }
                },
                {
                    "output_type": "execute_result",
                    "metadata": {},
                    "execution_count": 4,
                    "data": {
                        "application/vnd.dataresource+json": {
                            "schema": {
                                "fields": [
                                    {
                                        "name": "(No column name)"
                                    },
                                    {
                                        "name": "(No column name)"
                                    },
                                    {
                                        "name": "(No column name)"
                                    },
                                    {
                                        "name": "(No column name)"
                                    },
                                    {
                                        "name": "(No column name)"
                                    }
                                ]
                            },
                            "data": [
                                {
                                    "0": "G",
                                    "1": "o",
                                    "2": "o",
                                    "3": "d",
                                    "4": "!"
                                }
                            ]
                        },
                        "text/html": [
                            "<table>",
                            "<tr><th>(No column name)</th><th>(No column name)</th><th>(No column name)</th><th>(No column name)</th><th>(No column name)</th></tr>",
                            "<tr><td>G</td><td>o</td><td>o</td><td>d</td><td>!</td></tr>",
                            "</table>"
                        ]
                    }
                }
            ],
            "execution_count": 4
        },
        {
            "cell_type": "code",
            "source": [
                "-- recipe 9.4\r\n",
                "SELECT CHARINDEX('string to find','This is the bigger string to find something in.');\r\n",
                "\r\n",
                "SELECT TOP 10\r\n",
                "        AddressID,\r\n",
                "        AddressLine1,\r\n",
                "        PATINDEX('%[0]%Olive%', AddressLine1)\r\n",
                "FROM    Person.Address\r\n",
                "WHERE   PATINDEX('%[0]%Olive%', AddressLine1) > 0;"
            ],
            "metadata": {
                "azdata_cell_guid": "3a37c642-6e5e-48ff-8964-44073ee2aa2a"
            },
            "outputs": [
                {
                    "output_type": "display_data",
                    "data": {
                        "text/html": "(1 row affected)"
                    },
                    "metadata": {}
                },
                {
                    "output_type": "display_data",
                    "data": {
                        "text/html": "(10 rows affected)"
                    },
                    "metadata": {}
                },
                {
                    "output_type": "display_data",
                    "data": {
                        "text/html": "Total execution time: 00:00:00.053"
                    },
                    "metadata": {}
                },
                {
                    "output_type": "execute_result",
                    "metadata": {},
                    "execution_count": 5,
                    "data": {
                        "application/vnd.dataresource+json": {
                            "schema": {
                                "fields": [
                                    {
                                        "name": "(No column name)"
                                    }
                                ]
                            },
                            "data": [
                                {
                                    "0": "20"
                                }
                            ]
                        },
                        "text/html": [
                            "<table>",
                            "<tr><th>(No column name)</th></tr>",
                            "<tr><td>20</td></tr>",
                            "</table>"
                        ]
                    }
                },
                {
                    "output_type": "execute_result",
                    "metadata": {},
                    "execution_count": 5,
                    "data": {
                        "application/vnd.dataresource+json": {
                            "schema": {
                                "fields": [
                                    {
                                        "name": "AddressID"
                                    },
                                    {
                                        "name": "AddressLine1"
                                    },
                                    {
                                        "name": "(No column name)"
                                    }
                                ]
                            },
                            "data": [
                                {
                                    "0": "29048",
                                    "1": "1201 Olive Hill",
                                    "2": "3"
                                },
                                {
                                    "0": "11768",
                                    "1": "1201 Olive Hill",
                                    "2": "3"
                                },
                                {
                                    "0": "15417",
                                    "1": "1206 Olive St",
                                    "2": "3"
                                },
                                {
                                    "0": "24480",
                                    "1": "1480 Oliveria Road",
                                    "2": "4"
                                },
                                {
                                    "0": "19871",
                                    "1": "1480 Oliveria Road",
                                    "2": "4"
                                },
                                {
                                    "0": "12826",
                                    "1": "1803 Olive Hill",
                                    "2": "3"
                                },
                                {
                                    "0": "292",
                                    "1": "1803 Olive Hill",
                                    "2": "3"
                                },
                                {
                                    "0": "29130",
                                    "1": "2309 Mt. Olivet Ct.",
                                    "2": "3"
                                },
                                {
                                    "0": "23767",
                                    "1": "2309 Mt. Olivet Ct.",
                                    "2": "3"
                                },
                                {
                                    "0": "23875",
                                    "1": "3280 Oliveria Road",
                                    "2": "4"
                                }
                            ]
                        },
                        "text/html": [
                            "<table>",
                            "<tr><th>AddressID</th><th>AddressLine1</th><th>(No column name)</th></tr>",
                            "<tr><td>29048</td><td>1201 Olive Hill</td><td>3</td></tr>",
                            "<tr><td>11768</td><td>1201 Olive Hill</td><td>3</td></tr>",
                            "<tr><td>15417</td><td>1206 Olive St</td><td>3</td></tr>",
                            "<tr><td>24480</td><td>1480 Oliveria Road</td><td>4</td></tr>",
                            "<tr><td>19871</td><td>1480 Oliveria Road</td><td>4</td></tr>",
                            "<tr><td>12826</td><td>1803 Olive Hill</td><td>3</td></tr>",
                            "<tr><td>292</td><td>1803 Olive Hill</td><td>3</td></tr>",
                            "<tr><td>29130</td><td>2309 Mt. Olivet Ct.</td><td>3</td></tr>",
                            "<tr><td>23767</td><td>2309 Mt. Olivet Ct.</td><td>3</td></tr>",
                            "<tr><td>23875</td><td>3280 Oliveria Road</td><td>4</td></tr>",
                            "</table>"
                        ]
                    }
                }
            ],
            "execution_count": 5
        },
        {
            "cell_type": "code",
            "source": [
                "-- recipe 9.5\r\n",
                "SELECT  DISTINCT \r\n",
                "        SOUNDEX(LastName),\r\n",
                "        SOUNDEX('Smith'),\r\n",
                "        LastName\r\n",
                "FROM    Person.Person\r\n",
                "WHERE   SOUNDEX(LastName) = SOUNDEX('Smith');\r\n",
                "\r\n",
                "SELECT  DISTINCT\r\n",
                "        SOUNDEX(LastName),\r\n",
                "        SOUNDEX('smith'),\r\n",
                "        DIFFERENCE(LastName, 'Smith'),\r\n",
                "        LastName\r\n",
                "FROM    Person.Person\r\n",
                "WHERE   DIFFERENCE(LastName, 'Smith') = 4;"
            ],
            "metadata": {
                "azdata_cell_guid": "0131a746-c08c-4630-bd1a-ef57fc6e7ced"
            },
            "outputs": [
                {
                    "output_type": "display_data",
                    "data": {
                        "text/html": "(4 rows affected)"
                    },
                    "metadata": {}
                },
                {
                    "output_type": "display_data",
                    "data": {
                        "text/html": "(6 rows affected)"
                    },
                    "metadata": {}
                },
                {
                    "output_type": "display_data",
                    "data": {
                        "text/html": "Total execution time: 00:00:00.060"
                    },
                    "metadata": {}
                },
                {
                    "output_type": "execute_result",
                    "metadata": {},
                    "execution_count": 6,
                    "data": {
                        "application/vnd.dataresource+json": {
                            "schema": {
                                "fields": [
                                    {
                                        "name": "(No column name)"
                                    },
                                    {
                                        "name": "(No column name)"
                                    },
                                    {
                                        "name": "LastName"
                                    }
                                ]
                            },
                            "data": [
                                {
                                    "0": "S530",
                                    "1": "S530",
                                    "2": "Schmidt"
                                },
                                {
                                    "0": "S530",
                                    "1": "S530",
                                    "2": "Smith"
                                },
                                {
                                    "0": "S530",
                                    "1": "S530",
                                    "2": "Smith-Bates"
                                },
                                {
                                    "0": "S530",
                                    "1": "S530",
                                    "2": "Sneath"
                                }
                            ]
                        },
                        "text/html": [
                            "<table>",
                            "<tr><th>(No column name)</th><th>(No column name)</th><th>LastName</th></tr>",
                            "<tr><td>S530</td><td>S530</td><td>Schmidt</td></tr>",
                            "<tr><td>S530</td><td>S530</td><td>Smith</td></tr>",
                            "<tr><td>S530</td><td>S530</td><td>Smith-Bates</td></tr>",
                            "<tr><td>S530</td><td>S530</td><td>Sneath</td></tr>",
                            "</table>"
                        ]
                    }
                },
                {
                    "output_type": "execute_result",
                    "metadata": {},
                    "execution_count": 6,
                    "data": {
                        "application/vnd.dataresource+json": {
                            "schema": {
                                "fields": [
                                    {
                                        "name": "(No column name)"
                                    },
                                    {
                                        "name": "(No column name)"
                                    },
                                    {
                                        "name": "(No column name)"
                                    },
                                    {
                                        "name": "LastName"
                                    }
                                ]
                            },
                            "data": [
                                {
                                    "0": "S530",
                                    "1": "S530",
                                    "2": "4",
                                    "3": "Smith"
                                },
                                {
                                    "0": "S530",
                                    "1": "S530",
                                    "2": "4",
                                    "3": "Smith-Bates"
                                },
                                {
                                    "0": "S530",
                                    "1": "S530",
                                    "2": "4",
                                    "3": "Sneath"
                                },
                                {
                                    "0": "S550",
                                    "1": "S530",
                                    "2": "4",
                                    "3": "Simon"
                                },
                                {
                                    "0": "S553",
                                    "1": "S530",
                                    "2": "4",
                                    "3": "Samant"
                                },
                                {
                                    "0": "S553",
                                    "1": "S530",
                                    "2": "4",
                                    "3": "Swaminathan"
                                }
                            ]
                        },
                        "text/html": [
                            "<table>",
                            "<tr><th>(No column name)</th><th>(No column name)</th><th>(No column name)</th><th>LastName</th></tr>",
                            "<tr><td>S530</td><td>S530</td><td>4</td><td>Smith</td></tr>",
                            "<tr><td>S530</td><td>S530</td><td>4</td><td>Smith-Bates</td></tr>",
                            "<tr><td>S530</td><td>S530</td><td>4</td><td>Sneath</td></tr>",
                            "<tr><td>S550</td><td>S530</td><td>4</td><td>Simon</td></tr>",
                            "<tr><td>S553</td><td>S530</td><td>4</td><td>Samant</td></tr>",
                            "<tr><td>S553</td><td>S530</td><td>4</td><td>Swaminathan</td></tr>",
                            "</table>"
                        ]
                    }
                }
            ],
            "execution_count": 6
        },
        {
            "cell_type": "code",
            "source": [
                "-- recipe 9.6\r\n",
                "SELECT LEFT('I only want the leftmost 10 characters.', 10);\r\n",
                "SELECT RIGHT('I only want the rightmost 10 characters.', 10);\r\n",
                "\r\n",
                "SELECT  TOP (5)\r\n",
                "        ProductNumber,\r\n",
                "        ProductName = LEFT(Name, 10)\r\n",
                "FROM    Production.Product;\r\n",
                "\r\n",
                "SELECT  TOP (5)\r\n",
                "        CustomerID,\r\n",
                "        AccountNumber = CONCAT('AW', RIGHT(REPLICATE('0', 8)\r\n",
                "                                     + CAST(CustomerID AS VARCHAR(10)), 8))\r\n",
                "FROM    Sales.Customer;"
            ],
            "metadata": {
                "azdata_cell_guid": "eaebfd3a-7933-4b47-b780-0f95d0897e53"
            },
            "outputs": [
                {
                    "output_type": "display_data",
                    "data": {
                        "text/html": "(1 row affected)"
                    },
                    "metadata": {}
                },
                {
                    "output_type": "display_data",
                    "data": {
                        "text/html": "(1 row affected)"
                    },
                    "metadata": {}
                },
                {
                    "output_type": "display_data",
                    "data": {
                        "text/html": "(5 rows affected)"
                    },
                    "metadata": {}
                },
                {
                    "output_type": "display_data",
                    "data": {
                        "text/html": "(5 rows affected)"
                    },
                    "metadata": {}
                },
                {
                    "output_type": "display_data",
                    "data": {
                        "text/html": "Total execution time: 00:00:00.119"
                    },
                    "metadata": {}
                },
                {
                    "output_type": "execute_result",
                    "metadata": {},
                    "execution_count": 7,
                    "data": {
                        "application/vnd.dataresource+json": {
                            "schema": {
                                "fields": [
                                    {
                                        "name": "(No column name)"
                                    }
                                ]
                            },
                            "data": [
                                {
                                    "0": "I only wan"
                                }
                            ]
                        },
                        "text/html": [
                            "<table>",
                            "<tr><th>(No column name)</th></tr>",
                            "<tr><td>I only wan</td></tr>",
                            "</table>"
                        ]
                    }
                },
                {
                    "output_type": "execute_result",
                    "metadata": {},
                    "execution_count": 7,
                    "data": {
                        "application/vnd.dataresource+json": {
                            "schema": {
                                "fields": [
                                    {
                                        "name": "(No column name)"
                                    }
                                ]
                            },
                            "data": [
                                {
                                    "0": "haracters."
                                }
                            ]
                        },
                        "text/html": [
                            "<table>",
                            "<tr><th>(No column name)</th></tr>",
                            "<tr><td>haracters.</td></tr>",
                            "</table>"
                        ]
                    }
                },
                {
                    "output_type": "execute_result",
                    "metadata": {},
                    "execution_count": 7,
                    "data": {
                        "application/vnd.dataresource+json": {
                            "schema": {
                                "fields": [
                                    {
                                        "name": "ProductNumber"
                                    },
                                    {
                                        "name": "ProductName"
                                    }
                                ]
                            },
                            "data": [
                                {
                                    "0": "AR-5381",
                                    "1": "Adjustable"
                                },
                                {
                                    "0": "BA-8327",
                                    "1": "Bearing Ba"
                                },
                                {
                                    "0": "BE-2349",
                                    "1": "BB Ball Be"
                                },
                                {
                                    "0": "BE-2908",
                                    "1": "Headset Ba"
                                },
                                {
                                    "0": "BL-2036",
                                    "1": "Blade"
                                }
                            ]
                        },
                        "text/html": [
                            "<table>",
                            "<tr><th>ProductNumber</th><th>ProductName</th></tr>",
                            "<tr><td>AR-5381</td><td>Adjustable</td></tr>",
                            "<tr><td>BA-8327</td><td>Bearing Ba</td></tr>",
                            "<tr><td>BE-2349</td><td>BB Ball Be</td></tr>",
                            "<tr><td>BE-2908</td><td>Headset Ba</td></tr>",
                            "<tr><td>BL-2036</td><td>Blade</td></tr>",
                            "</table>"
                        ]
                    }
                },
                {
                    "output_type": "execute_result",
                    "metadata": {},
                    "execution_count": 7,
                    "data": {
                        "application/vnd.dataresource+json": {
                            "schema": {
                                "fields": [
                                    {
                                        "name": "CustomerID"
                                    },
                                    {
                                        "name": "AccountNumber"
                                    }
                                ]
                            },
                            "data": [
                                {
                                    "0": "1",
                                    "1": "AW00000001"
                                },
                                {
                                    "0": "2",
                                    "1": "AW00000002"
                                },
                                {
                                    "0": "7",
                                    "1": "AW00000007"
                                },
                                {
                                    "0": "19",
                                    "1": "AW00000019"
                                },
                                {
                                    "0": "20",
                                    "1": "AW00000020"
                                }
                            ]
                        },
                        "text/html": [
                            "<table>",
                            "<tr><th>CustomerID</th><th>AccountNumber</th></tr>",
                            "<tr><td>1</td><td>AW00000001</td></tr>",
                            "<tr><td>2</td><td>AW00000002</td></tr>",
                            "<tr><td>7</td><td>AW00000007</td></tr>",
                            "<tr><td>19</td><td>AW00000019</td></tr>",
                            "<tr><td>20</td><td>AW00000020</td></tr>",
                            "</table>"
                        ]
                    }
                }
            ],
            "execution_count": 7
        },
        {
            "cell_type": "code",
            "source": [
                "-- recipe 9.7\r\n",
                "SELECT  TOP (3)\r\n",
                "        PhoneNumber,\r\n",
                "        AreaCode = LEFT(PhoneNumber, 3),\r\n",
                "        Exchange = SUBSTRING(PhoneNumber, 5, 3)\r\n",
                "FROM    Person.PersonPhone\r\n",
                "WHERE   PhoneNumber LIKE '[0-9][0-9][0-9]-[0-9][0-9][0-9]-[0-9][0-9][0-9][0-9]';\r\n",
                ""
            ],
            "metadata": {
                "azdata_cell_guid": "4cbd82b0-38d1-493a-8d56-81c9d9a7f435"
            },
            "outputs": [
                {
                    "output_type": "display_data",
                    "data": {
                        "text/html": "(3 rows affected)"
                    },
                    "metadata": {}
                },
                {
                    "output_type": "display_data",
                    "data": {
                        "text/html": "Total execution time: 00:00:00.023"
                    },
                    "metadata": {}
                },
                {
                    "output_type": "execute_result",
                    "metadata": {},
                    "execution_count": 8,
                    "data": {
                        "application/vnd.dataresource+json": {
                            "schema": {
                                "fields": [
                                    {
                                        "name": "PhoneNumber"
                                    },
                                    {
                                        "name": "AreaCode"
                                    },
                                    {
                                        "name": "Exchange"
                                    }
                                ]
                            },
                            "data": [
                                {
                                    "0": "100-555-0115",
                                    "1": "100",
                                    "2": "555"
                                },
                                {
                                    "0": "100-555-0124",
                                    "1": "100",
                                    "2": "555"
                                },
                                {
                                    "0": "100-555-0137",
                                    "1": "100",
                                    "2": "555"
                                }
                            ]
                        },
                        "text/html": [
                            "<table>",
                            "<tr><th>PhoneNumber</th><th>AreaCode</th><th>Exchange</th></tr>",
                            "<tr><td>100-555-0115</td><td>100</td><td>555</td></tr>",
                            "<tr><td>100-555-0124</td><td>100</td><td>555</td></tr>",
                            "<tr><td>100-555-0137</td><td>100</td><td>555</td></tr>",
                            "</table>"
                        ]
                    }
                }
            ],
            "execution_count": 8
        },
        {
            "cell_type": "code",
            "source": [
                "-- recipe 9.8\r\n",
                "SELECT LEN(N'She sells sea shells by the sea shore.  ');\r\n",
                "\r\n",
                "SELECT DATALENGTH(N'She sells sea shells by the sea shore.  '); \r\n",
                "SELECT  DATALENGTH(123),\r\n",
                "        DATALENGTH(123.0),\r\n",
                "        DATALENGTH(GETDATE());\r\n",
                ""
            ],
            "metadata": {
                "azdata_cell_guid": "c592d80c-3a1b-4a73-bb05-738aa4913c3a"
            },
            "outputs": [
                {
                    "output_type": "display_data",
                    "data": {
                        "text/html": "(1 row affected)"
                    },
                    "metadata": {}
                },
                {
                    "output_type": "display_data",
                    "data": {
                        "text/html": "(1 row affected)"
                    },
                    "metadata": {}
                },
                {
                    "output_type": "display_data",
                    "data": {
                        "text/html": "(1 row affected)"
                    },
                    "metadata": {}
                },
                {
                    "output_type": "display_data",
                    "data": {
                        "text/html": "Total execution time: 00:00:00.044"
                    },
                    "metadata": {}
                },
                {
                    "output_type": "execute_result",
                    "metadata": {},
                    "execution_count": 9,
                    "data": {
                        "application/vnd.dataresource+json": {
                            "schema": {
                                "fields": [
                                    {
                                        "name": "(No column name)"
                                    }
                                ]
                            },
                            "data": [
                                {
                                    "0": "38"
                                }
                            ]
                        },
                        "text/html": [
                            "<table>",
                            "<tr><th>(No column name)</th></tr>",
                            "<tr><td>38</td></tr>",
                            "</table>"
                        ]
                    }
                },
                {
                    "output_type": "execute_result",
                    "metadata": {},
                    "execution_count": 9,
                    "data": {
                        "application/vnd.dataresource+json": {
                            "schema": {
                                "fields": [
                                    {
                                        "name": "(No column name)"
                                    }
                                ]
                            },
                            "data": [
                                {
                                    "0": "80"
                                }
                            ]
                        },
                        "text/html": [
                            "<table>",
                            "<tr><th>(No column name)</th></tr>",
                            "<tr><td>80</td></tr>",
                            "</table>"
                        ]
                    }
                },
                {
                    "output_type": "execute_result",
                    "metadata": {},
                    "execution_count": 9,
                    "data": {
                        "application/vnd.dataresource+json": {
                            "schema": {
                                "fields": [
                                    {
                                        "name": "(No column name)"
                                    },
                                    {
                                        "name": "(No column name)"
                                    },
                                    {
                                        "name": "(No column name)"
                                    }
                                ]
                            },
                            "data": [
                                {
                                    "0": "4",
                                    "1": "5",
                                    "2": "8"
                                }
                            ]
                        },
                        "text/html": [
                            "<table>",
                            "<tr><th>(No column name)</th><th>(No column name)</th><th>(No column name)</th></tr>",
                            "<tr><td>4</td><td>5</td><td>8</td></tr>",
                            "</table>"
                        ]
                    }
                }
            ],
            "execution_count": 9
        },
        {
            "cell_type": "code",
            "source": [
                "-- recipe 9.9\r\n",
                "SELECT REPLACE('The Classic Roadie is a stunning example of the bikes that AdventureWorks have been producing for years – Order your classic Roadie today and experience AdventureWorks history.', 'Classic', 'Vintage');"
            ],
            "metadata": {
                "azdata_cell_guid": "81b61051-bcf8-4da4-a6f3-d4959fe03142"
            },
            "outputs": [
                {
                    "output_type": "display_data",
                    "data": {
                        "text/html": "(1 row affected)"
                    },
                    "metadata": {}
                },
                {
                    "output_type": "display_data",
                    "data": {
                        "text/html": "Total execution time: 00:00:00.032"
                    },
                    "metadata": {}
                },
                {
                    "output_type": "execute_result",
                    "metadata": {},
                    "execution_count": 10,
                    "data": {
                        "application/vnd.dataresource+json": {
                            "schema": {
                                "fields": [
                                    {
                                        "name": "(No column name)"
                                    }
                                ]
                            },
                            "data": [
                                {
                                    "0": "The Vintage Roadie is a stunning example of the bikes that AdventureWorks have been producing for years – Order your Vintage Roadie today and experience AdventureWorks history."
                                }
                            ]
                        },
                        "text/html": [
                            "<table>",
                            "<tr><th>(No column name)</th></tr>",
                            "<tr><td>The Vintage Roadie is a stunning example of the bikes that AdventureWorks have been producing for years – Order your Vintage Roadie today and experience AdventureWorks history.</td></tr>",
                            "</table>"
                        ]
                    }
                }
            ],
            "execution_count": 10
        },
        {
            "cell_type": "code",
            "source": [
                "-- recipe 9.10\r\n",
                "SELECT STUFF ( 'My cat''s name is X. Have you met him?', 18, 1, 'Edgar' );\r\n",
                "\r\n",
                "SELECT STUFF ( 'My cat''s name is X. Have you met him?', 18, 0, 'Edgar' );\r\n",
                "\r\n",
                "SELECT STUFF ( 'My cat''s name is X. Have you met him?', 18, 8, '' );"
            ],
            "metadata": {
                "azdata_cell_guid": "443cf35b-9be0-45bd-9ba2-7eef53c99500"
            },
            "outputs": [
                {
                    "output_type": "display_data",
                    "data": {
                        "text/html": "(1 row affected)"
                    },
                    "metadata": {}
                },
                {
                    "output_type": "display_data",
                    "data": {
                        "text/html": "(1 row affected)"
                    },
                    "metadata": {}
                },
                {
                    "output_type": "display_data",
                    "data": {
                        "text/html": "(1 row affected)"
                    },
                    "metadata": {}
                },
                {
                    "output_type": "display_data",
                    "data": {
                        "text/html": "Total execution time: 00:00:00.048"
                    },
                    "metadata": {}
                },
                {
                    "output_type": "execute_result",
                    "metadata": {},
                    "execution_count": 11,
                    "data": {
                        "application/vnd.dataresource+json": {
                            "schema": {
                                "fields": [
                                    {
                                        "name": "(No column name)"
                                    }
                                ]
                            },
                            "data": [
                                {
                                    "0": "My cat's name is Edgar. Have you met him?"
                                }
                            ]
                        },
                        "text/html": [
                            "<table>",
                            "<tr><th>(No column name)</th></tr>",
                            "<tr><td>My cat's name is Edgar. Have you met him?</td></tr>",
                            "</table>"
                        ]
                    }
                },
                {
                    "output_type": "execute_result",
                    "metadata": {},
                    "execution_count": 11,
                    "data": {
                        "application/vnd.dataresource+json": {
                            "schema": {
                                "fields": [
                                    {
                                        "name": "(No column name)"
                                    }
                                ]
                            },
                            "data": [
                                {
                                    "0": "My cat's name is EdgarX. Have you met him?"
                                }
                            ]
                        },
                        "text/html": [
                            "<table>",
                            "<tr><th>(No column name)</th></tr>",
                            "<tr><td>My cat's name is EdgarX. Have you met him?</td></tr>",
                            "</table>"
                        ]
                    }
                },
                {
                    "output_type": "execute_result",
                    "metadata": {},
                    "execution_count": 11,
                    "data": {
                        "application/vnd.dataresource+json": {
                            "schema": {
                                "fields": [
                                    {
                                        "name": "(No column name)"
                                    }
                                ]
                            },
                            "data": [
                                {
                                    "0": "My cat's name is you met him?"
                                }
                            ]
                        },
                        "text/html": [
                            "<table>",
                            "<tr><th>(No column name)</th></tr>",
                            "<tr><td>My cat's name is you met him?</td></tr>",
                            "</table>"
                        ]
                    }
                }
            ],
            "execution_count": 11
        },
        {
            "cell_type": "code",
            "source": [
                "-- recipe 9.11\r\n",
                "SELECT  DocumentSummary\r\n",
                "FROM    Production.Document\r\n",
                "WHERE   FileName = 'Installing Replacement Pedals.doc';\r\n",
                "\r\n",
                "SELECT  LOWER(DocumentSummary)\r\n",
                "FROM    Production.Document\r\n",
                "WHERE   FileName = 'Installing Replacement Pedals.doc';\r\n",
                "\r\n",
                "SELECT  UPPER(DocumentSummary)\r\n",
                "FROM    Production.Document\r\n",
                "WHERE   FileName = 'Installing Replacement Pedals.doc';\r\n",
                "\r\n",
                "SELECT UPPER (N'????????????? unicode');"
            ],
            "metadata": {
                "azdata_cell_guid": "95274be2-190d-4095-bf24-ba15d1bccfc0"
            },
            "outputs": [
                {
                    "output_type": "display_data",
                    "data": {
                        "text/html": "(1 row affected)"
                    },
                    "metadata": {}
                },
                {
                    "output_type": "display_data",
                    "data": {
                        "text/html": "(1 row affected)"
                    },
                    "metadata": {}
                },
                {
                    "output_type": "display_data",
                    "data": {
                        "text/html": "(1 row affected)"
                    },
                    "metadata": {}
                },
                {
                    "output_type": "display_data",
                    "data": {
                        "text/html": "(1 row affected)"
                    },
                    "metadata": {}
                },
                {
                    "output_type": "display_data",
                    "data": {
                        "text/html": "Total execution time: 00:00:00.083"
                    },
                    "metadata": {}
                },
                {
                    "output_type": "execute_result",
                    "metadata": {},
                    "execution_count": 12,
                    "data": {
                        "application/vnd.dataresource+json": {
                            "schema": {
                                "fields": [
                                    {
                                        "name": "DocumentSummary"
                                    }
                                ]
                            },
                            "data": [
                                {
                                    "0": "Detailed instructions for replacing pedals with Adventure Works Cycles replacement pedals.  Instructions are applicable to all Adventure Works Cycles bicycle models and replacement pedals. Use only Adventure Works Cycles parts when replacing worn or broken components. \r\n"
                                }
                            ]
                        },
                        "text/html": [
                            "<table>",
                            "<tr><th>DocumentSummary</th></tr>",
                            "<tr><td>Detailed instructions for replacing pedals with Adventure Works Cycles replacement pedals.  Instructions are applicable to all Adventure Works Cycles bicycle models and replacement pedals. Use only Adventure Works Cycles parts when replacing worn or broken components. \r\n</td></tr>",
                            "</table>"
                        ]
                    }
                },
                {
                    "output_type": "execute_result",
                    "metadata": {},
                    "execution_count": 12,
                    "data": {
                        "application/vnd.dataresource+json": {
                            "schema": {
                                "fields": [
                                    {
                                        "name": "(No column name)"
                                    }
                                ]
                            },
                            "data": [
                                {
                                    "0": "detailed instructions for replacing pedals with adventure works cycles replacement pedals.  instructions are applicable to all adventure works cycles bicycle models and replacement pedals. use only adventure works cycles parts when replacing worn or broken components. \r\n"
                                }
                            ]
                        },
                        "text/html": [
                            "<table>",
                            "<tr><th>(No column name)</th></tr>",
                            "<tr><td>detailed instructions for replacing pedals with adventure works cycles replacement pedals.  instructions are applicable to all adventure works cycles bicycle models and replacement pedals. use only adventure works cycles parts when replacing worn or broken components. \r\n</td></tr>",
                            "</table>"
                        ]
                    }
                },
                {
                    "output_type": "execute_result",
                    "metadata": {},
                    "execution_count": 12,
                    "data": {
                        "application/vnd.dataresource+json": {
                            "schema": {
                                "fields": [
                                    {
                                        "name": "(No column name)"
                                    }
                                ]
                            },
                            "data": [
                                {
                                    "0": "DETAILED INSTRUCTIONS FOR REPLACING PEDALS WITH ADVENTURE WORKS CYCLES REPLACEMENT PEDALS.  INSTRUCTIONS ARE APPLICABLE TO ALL ADVENTURE WORKS CYCLES BICYCLE MODELS AND REPLACEMENT PEDALS. USE ONLY ADVENTURE WORKS CYCLES PARTS WHEN REPLACING WORN OR BROKEN COMPONENTS. \r\n"
                                }
                            ]
                        },
                        "text/html": [
                            "<table>",
                            "<tr><th>(No column name)</th></tr>",
                            "<tr><td>DETAILED INSTRUCTIONS FOR REPLACING PEDALS WITH ADVENTURE WORKS CYCLES REPLACEMENT PEDALS.  INSTRUCTIONS ARE APPLICABLE TO ALL ADVENTURE WORKS CYCLES BICYCLE MODELS AND REPLACEMENT PEDALS. USE ONLY ADVENTURE WORKS CYCLES PARTS WHEN REPLACING WORN OR BROKEN COMPONENTS. \r\n</td></tr>",
                            "</table>"
                        ]
                    }
                },
                {
                    "output_type": "execute_result",
                    "metadata": {},
                    "execution_count": 12,
                    "data": {
                        "application/vnd.dataresource+json": {
                            "schema": {
                                "fields": [
                                    {
                                        "name": "(No column name)"
                                    }
                                ]
                            },
                            "data": [
                                {
                                    "0": "????????????? UNICODE"
                                }
                            ]
                        },
                        "text/html": [
                            "<table>",
                            "<tr><th>(No column name)</th></tr>",
                            "<tr><td>????????????? UNICODE</td></tr>",
                            "</table>"
                        ]
                    }
                }
            ],
            "execution_count": 12
        },
        {
            "cell_type": "code",
            "source": [
                "-- recipe 9.12\r\n",
                "SELECT CONCAT('''', LTRIM('     String with leading and trailing blanks.     '), '''' ); \r\n",
                "\r\n",
                "SELECT CONCAT('''', RTRIM('     String with leading and trailing blanks.     '), '''' ); \r\n",
                "\r\n",
                "SELECT CONCAT('''', LTRIM(RTRIM('   String with leading and trailing blanks    ')), '''' );"
            ],
            "metadata": {
                "azdata_cell_guid": "0aed4767-b4b2-4c8c-a43f-88697b0c5bd8"
            },
            "outputs": [
                {
                    "output_type": "display_data",
                    "data": {
                        "text/html": "(1 row affected)"
                    },
                    "metadata": {}
                },
                {
                    "output_type": "display_data",
                    "data": {
                        "text/html": "(1 row affected)"
                    },
                    "metadata": {}
                },
                {
                    "output_type": "display_data",
                    "data": {
                        "text/html": "(1 row affected)"
                    },
                    "metadata": {}
                },
                {
                    "output_type": "display_data",
                    "data": {
                        "text/html": "Total execution time: 00:00:00.058"
                    },
                    "metadata": {}
                },
                {
                    "output_type": "execute_result",
                    "metadata": {},
                    "execution_count": 13,
                    "data": {
                        "application/vnd.dataresource+json": {
                            "schema": {
                                "fields": [
                                    {
                                        "name": "(No column name)"
                                    }
                                ]
                            },
                            "data": [
                                {
                                    "0": "'String with leading and trailing blanks.     '"
                                }
                            ]
                        },
                        "text/html": [
                            "<table>",
                            "<tr><th>(No column name)</th></tr>",
                            "<tr><td>'String with leading and trailing blanks.     '</td></tr>",
                            "</table>"
                        ]
                    }
                },
                {
                    "output_type": "execute_result",
                    "metadata": {},
                    "execution_count": 13,
                    "data": {
                        "application/vnd.dataresource+json": {
                            "schema": {
                                "fields": [
                                    {
                                        "name": "(No column name)"
                                    }
                                ]
                            },
                            "data": [
                                {
                                    "0": "'     String with leading and trailing blanks.'"
                                }
                            ]
                        },
                        "text/html": [
                            "<table>",
                            "<tr><th>(No column name)</th></tr>",
                            "<tr><td>'     String with leading and trailing blanks.'</td></tr>",
                            "</table>"
                        ]
                    }
                },
                {
                    "output_type": "execute_result",
                    "metadata": {},
                    "execution_count": 13,
                    "data": {
                        "application/vnd.dataresource+json": {
                            "schema": {
                                "fields": [
                                    {
                                        "name": "(No column name)"
                                    }
                                ]
                            },
                            "data": [
                                {
                                    "0": "'String with leading and trailing blanks'"
                                }
                            ]
                        },
                        "text/html": [
                            "<table>",
                            "<tr><th>(No column name)</th></tr>",
                            "<tr><td>'String with leading and trailing blanks'</td></tr>",
                            "</table>"
                        ]
                    }
                }
            ],
            "execution_count": 13
        },
        {
            "cell_type": "code",
            "source": [
                "-- recipe 9.13\r\n",
                "SELECT REPLICATE ('W', 30);\r\n",
                "SELECT REPLICATE ('W_', 30);"
            ],
            "metadata": {
                "azdata_cell_guid": "36a1f96d-182e-4f9e-a179-4f604f6eceb5"
            },
            "outputs": [
                {
                    "output_type": "display_data",
                    "data": {
                        "text/html": "(1 row affected)"
                    },
                    "metadata": {}
                },
                {
                    "output_type": "display_data",
                    "data": {
                        "text/html": "(1 row affected)"
                    },
                    "metadata": {}
                },
                {
                    "output_type": "display_data",
                    "data": {
                        "text/html": "Total execution time: 00:00:00.024"
                    },
                    "metadata": {}
                },
                {
                    "output_type": "execute_result",
                    "metadata": {},
                    "execution_count": 14,
                    "data": {
                        "application/vnd.dataresource+json": {
                            "schema": {
                                "fields": [
                                    {
                                        "name": "(No column name)"
                                    }
                                ]
                            },
                            "data": [
                                {
                                    "0": "WWWWWWWWWWWWWWWWWWWWWWWWWWWWWW"
                                }
                            ]
                        },
                        "text/html": [
                            "<table>",
                            "<tr><th>(No column name)</th></tr>",
                            "<tr><td>WWWWWWWWWWWWWWWWWWWWWWWWWWWWWW</td></tr>",
                            "</table>"
                        ]
                    }
                },
                {
                    "output_type": "execute_result",
                    "metadata": {},
                    "execution_count": 14,
                    "data": {
                        "application/vnd.dataresource+json": {
                            "schema": {
                                "fields": [
                                    {
                                        "name": "(No column name)"
                                    }
                                ]
                            },
                            "data": [
                                {
                                    "0": "W_W_W_W_W_W_W_W_W_W_W_W_W_W_W_W_W_W_W_W_W_W_W_W_W_W_W_W_W_W_"
                                }
                            ]
                        },
                        "text/html": [
                            "<table>",
                            "<tr><th>(No column name)</th></tr>",
                            "<tr><td>W_W_W_W_W_W_W_W_W_W_W_W_W_W_W_W_W_W_W_W_W_W_W_W_W_W_W_W_W_W_</td></tr>",
                            "</table>"
                        ]
                    }
                }
            ],
            "execution_count": 14
        },
        {
            "cell_type": "code",
            "source": [
                "-- recipe 9.14\r\n",
                "DECLARE @string1 NVARCHAR(20) = 'elephant',\r\n",
                "        @string2 NVARCHAR(20) = 'dog',\r\n",
                "        @string3 NVARCHAR(20) = 'giraffe' ;\r\n",
                "\r\n",
                "SELECT  *\r\n",
                "FROM    ( VALUES\r\n",
                "        ( CONCAT(@string1, SPACE(20 - LEN(@string1)), @string2,\r\n",
                "                 SPACE(20 - LEN(@string2)), @string3,\r\n",
                "                 SPACE(20 - LEN(@string3))))\r\n",
                "\t,\r\n",
                "        ( CONCAT(@string2, SPACE(20 - LEN(@string2)), @string3,\r\n",
                "                 SPACE(20 - LEN(@string3)), @string1,\r\n",
                "                 SPACE(20 - LEN(@string1)))) ) AS a (formatted_string);\r\n",
                ""
            ],
            "metadata": {
                "azdata_cell_guid": "61295828-7aa7-4ff2-85f7-7e4f3c68d364"
            },
            "outputs": [
                {
                    "output_type": "display_data",
                    "data": {
                        "text/html": "(2 rows affected)"
                    },
                    "metadata": {}
                },
                {
                    "output_type": "display_data",
                    "data": {
                        "text/html": "Total execution time: 00:00:00.040"
                    },
                    "metadata": {}
                },
                {
                    "output_type": "execute_result",
                    "metadata": {},
                    "execution_count": 15,
                    "data": {
                        "application/vnd.dataresource+json": {
                            "schema": {
                                "fields": [
                                    {
                                        "name": "formatted_string"
                                    }
                                ]
                            },
                            "data": [
                                {
                                    "0": "elephant            dog                 giraffe             "
                                },
                                {
                                    "0": "dog                 giraffe             elephant            "
                                }
                            ]
                        },
                        "text/html": [
                            "<table>",
                            "<tr><th>formatted_string</th></tr>",
                            "<tr><td>elephant            dog                 giraffe             </td></tr>",
                            "<tr><td>dog                 giraffe             elephant            </td></tr>",
                            "</table>"
                        ]
                    }
                }
            ],
            "execution_count": 15
        },
        {
            "cell_type": "code",
            "source": [
                "-- recipe 9.15\r\n",
                "SELECT REVERSE('Hello World');\r\n",
                "\r\n",
                "SELECT  Path = LEFT(physical_name, LEN(physical_name) - CHARINDEX('\\', REVERSE(physical_name)) + 1),\r\n",
                "        FileName = RIGHT(physical_name, CHARINDEX('\\', REVERSE(physical_name)) - 1)\r\n",
                "FROM    sys.database_files;"
            ],
            "metadata": {
                "azdata_cell_guid": "f2789cb9-8794-485b-9995-8477ccc6ebb6"
            },
            "outputs": [
                {
                    "output_type": "display_data",
                    "data": {
                        "text/html": "(1 row affected)"
                    },
                    "metadata": {}
                },
                {
                    "output_type": "display_data",
                    "data": {
                        "text/html": "(2 rows affected)"
                    },
                    "metadata": {}
                },
                {
                    "output_type": "display_data",
                    "data": {
                        "text/html": "Total execution time: 00:00:00.039"
                    },
                    "metadata": {}
                },
                {
                    "output_type": "execute_result",
                    "metadata": {},
                    "execution_count": 16,
                    "data": {
                        "application/vnd.dataresource+json": {
                            "schema": {
                                "fields": [
                                    {
                                        "name": "(No column name)"
                                    }
                                ]
                            },
                            "data": [
                                {
                                    "0": "dlroW olleH"
                                }
                            ]
                        },
                        "text/html": [
                            "<table>",
                            "<tr><th>(No column name)</th></tr>",
                            "<tr><td>dlroW olleH</td></tr>",
                            "</table>"
                        ]
                    }
                },
                {
                    "output_type": "execute_result",
                    "metadata": {},
                    "execution_count": 16,
                    "data": {
                        "application/vnd.dataresource+json": {
                            "schema": {
                                "fields": [
                                    {
                                        "name": "Path"
                                    },
                                    {
                                        "name": "FileName"
                                    }
                                ]
                            },
                            "data": [
                                {
                                    "0": "C:\\Program Files\\Microsoft SQL Server\\MSSQL15.MSSQLSERVER\\MSSQL\\DATA\\",
                                    "1": "AdventureWorks2014_Data.mdf"
                                },
                                {
                                    "0": "C:\\Program Files\\Microsoft SQL Server\\MSSQL15.MSSQLSERVER\\MSSQL\\DATA\\",
                                    "1": "AdventureWorks2014_Log.ldf"
                                }
                            ]
                        },
                        "text/html": [
                            "<table>",
                            "<tr><th>Path</th><th>FileName</th></tr>",
                            "<tr><td>C:\\Program Files\\Microsoft SQL Server\\MSSQL15.MSSQLSERVER\\MSSQL\\DATA\\</td><td>AdventureWorks2014_Data.mdf</td></tr>",
                            "<tr><td>C:\\Program Files\\Microsoft SQL Server\\MSSQL15.MSSQLSERVER\\MSSQL\\DATA\\</td><td>AdventureWorks2014_Log.ldf</td></tr>",
                            "</table>"
                        ]
                    }
                }
            ],
            "execution_count": 16
        }
    ]
}