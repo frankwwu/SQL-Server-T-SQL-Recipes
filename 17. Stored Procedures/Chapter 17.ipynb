{
    "metadata": {
        "kernelspec": {
            "name": "SQL",
            "display_name": "SQL",
            "language": "sql"
        },
        "language_info": {
            "name": "sql",
            "version": ""
        }
    },
    "nbformat_minor": 2,
    "nbformat": 4,
    "cells": [
        {
            "cell_type": "code",
            "source": [
                "-- 17-1. Selling the Benefits"
            ],
            "metadata": {
                "azdata_cell_guid": "41972eef-3399-4098-8438-5e9030d8cb80"
            },
            "outputs": [
                {
                    "output_type": "display_data",
                    "data": {
                        "text/html": "Commands completed successfully."
                    },
                    "metadata": {}
                },
                {
                    "output_type": "display_data",
                    "data": {
                        "text/html": "Total execution time: 00:00:00.003"
                    },
                    "metadata": {}
                }
            ],
            "execution_count": 1
        },
        {
            "cell_type": "markdown",
            "source": [
                "Recite some of the benefits, which include the following:\n",
                "\n",
                "<b>Stored procedures help centralize your Transact-SQL code in the data tier.</b> Web sites or applications that embed ad hoc SQL are notoriously difficult to modify in a production environment. When ad hoc SQL is embedded in an application, you may spend too much time trying to find and debug the embedded SQL. Once you’ve found the bug, chances are you’ll need to recompile the program executable, causing unnecessary application outages or application distribution nightmares. If you centralize your Transact-SQL code in stored procedures, you’ll have a centralized place to look for SQL code or SQL batches. If you document and standardize the code properly, your stored procedures will improve overall supportability of the application.\n",
                "\n",
                "<b>Stored procedures can reduce network traffic for larger ad hoc queries.</b>Programming your application to execute a stored procedure, rather than push across a 500-line SQL call, can have a positive impact on your network and application performance, particularly if the call is repeated thousands of times a minute.\n",
                "\n",
                "<b>Stored procedures encourage code reusability.</b> For example, if your web application uses a drop-down menu containing a list of cities and this drop-down is used in multiple web pages, you can call the stored procedure from each web page rather than embed the same SQL in multiple places.\n",
                "\n",
                "<b>Stored procedures allow you to obscure the method of data retrieval.</b> If you change the underlying tables from which the source data is pulled, stored procedures (similar to views) can obscure this change from the application. This allows you to make changes without forcing a code change at the application tier. You can swap in new tables for the old, and as long as the same columns and data types are sent back to the application, the application is none the wiser.\n",
                "\n",
                "<b>Stored procedures can do more than views</b>. They can take advantage of control-offlow techniques, temporary tables, table variables, and much more.\n",
                "\n",
                "<b>Stored procedures have a stabilizing influence on query response time.</b> If you’ve worked extensively with ad hoc queries, you may have noticed that sometimes the amount of time it takes to return results from a query can vary wildly. This may be because of external factors, such as concurrent activity against the table (locking) or resource issues (memory, CPU). On the other hand, an ad hoc query may be performing erratically because SQL Server periodically chooses less efficient execution plans. With stored procedures, you gain more reliable query-plan caching and hence reuse. Notice that I use the word reliable here, rather than faster. Ad hoc queries can sometimes perform better than their stored procedure counterparts, but it all depends on the circumstances in which the execution plan was cached and how you have tested, tuned, and then implemented the code within."
            ],
            "metadata": {
                "azdata_cell_guid": "025f8000-d613-49f7-86d6-87d50e76abe7"
            }
        },
        {
            "cell_type": "code",
            "source": [
                "-- 17-2. Creating a Stored Procedure\r\n",
                "\r\n",
                "CREATE PROCEDURE dbo.ListCustomerNames\r\n",
                "AS\r\n",
                "    SELECT CustomerID,\r\n",
                "        LastName,\r\n",
                "        FirstName\r\n",
                "    FROM Sales.Customer sc\r\n",
                "        INNER JOIN Person.Person pp\r\n",
                "            ON sc.CustomerID = pp.BusinessEntityID\r\n",
                "    ORDER BY LastName,\r\n",
                "    FirstName;"
            ],
            "metadata": {
                "azdata_cell_guid": "dcf7c728-ab75-4f4b-b115-ad6f6837e8c0"
            },
            "outputs": [
                {
                    "output_type": "display_data",
                    "data": {
                        "text/html": "Commands completed successfully."
                    },
                    "metadata": {}
                },
                {
                    "output_type": "display_data",
                    "data": {
                        "text/html": "Total execution time: 00:00:00.045"
                    },
                    "metadata": {}
                }
            ],
            "execution_count": 2
        },
        {
            "cell_type": "code",
            "source": [
                "-- 17-3. Generalizing a Stored Procedure\r\n",
                "\r\n",
                "CREATE PROCEDURE dbo.LookupByAccount\r\n",
                "(@AccountNumber VARCHAR(10),\r\n",
                "@UpperFlag CHAR(1))\r\n",
                "AS\r\n",
                "    SELECT CASE UPPER(@UpperFlag)\r\n",
                "            WHEN 'U' THEN UPPER(FirstName)\r\n",
                "            ELSE FirstName\r\n",
                "        END AS FirstName,\r\n",
                "        CASE UPPER(@UpperFlag)\r\n",
                "        WHEN 'U' THEN UPPER(LastName)\r\n",
                "        ELSE LastName\r\n",
                "        END AS LastName\r\n",
                "FROM Person.Person\r\n",
                "WHERE BusinessEntityID IN (SELECT CustomerID\r\n",
                "    FROM Sales.Customer\r\n",
                "    WHERE AccountNumber = @AccountNumber) ;"
            ],
            "metadata": {
                "azdata_cell_guid": "82db1b87-71fb-45b9-afc2-fc22df0f80ab"
            },
            "outputs": [
                {
                    "output_type": "display_data",
                    "data": {
                        "text/html": "Commands completed successfully."
                    },
                    "metadata": {}
                },
                {
                    "output_type": "display_data",
                    "data": {
                        "text/html": "Total execution time: 00:00:00.011"
                    },
                    "metadata": {}
                }
            ],
            "execution_count": 3
        },
        {
            "cell_type": "code",
            "source": [
                "-- 17-4. Making Parameters Optional\r\n",
                "\r\n",
                "CREATE PROCEDURE dbo.LookupByAccount\r\n",
                "(@AccountNumber VARCHAR(10),\r\n",
                "@UpperFlag CHAR(1) = 'x')\r\n",
                "AS\r\n",
                "    SELECT CASE UPPER(@UpperFlag)\r\n",
                "            WHEN 'U' THEN UPPER(FirstName)\r\n",
                "            ELSE FirstName\r\n",
                "        END AS FirstName,\r\n",
                "        CASE UPPER(@UpperFlag)\r\n",
                "            WHEN 'U' THEN UPPER(LastName)\r\n",
                "            ELSE LastName\r\n",
                "        END AS LastName\r\n",
                "    FROM Person.Person\r\n",
                "    WHERE BusinessEntityID IN (SELECT CustomerID\r\n",
                "        FROM Sales.Customer\r\n",
                "        WHERE AccountNumber = @AccountNumber);"
            ],
            "metadata": {
                "azdata_cell_guid": "2a91a198-05af-491d-b7fc-2f024c9eaee0"
            },
            "outputs": [
                {
                    "output_type": "error",
                    "evalue": "Msg 2714, Level 16, State 3, Procedure LookupByAccount, Line 3\r\nThere is already an object named 'LookupByAccount' in the database.",
                    "ename": "",
                    "traceback": []
                },
                {
                    "output_type": "display_data",
                    "data": {
                        "text/html": "Total execution time: 00:00:00.044"
                    },
                    "metadata": {}
                }
            ],
            "execution_count": 4
        },
        {
            "cell_type": "code",
            "source": [
                "-- 17-5. Making Early Parameters Optional\r\n",
                "\r\n",
                "CREATE PROCEDURE dbo.LookupByAccount2\r\n",
                "(@UpperFlag CHAR(1) = 'x',\r\n",
                "@AccountNumber VARCHAR(10))\r\n",
                "AS\r\n",
                "    SELECT CASE UPPER(@UpperFlag)\r\n",
                "            WHEN 'U' THEN UPPER(FirstName)\r\n",
                "            ELSE FirstName\r\n",
                "        END AS FirstName,\r\n",
                "        CASE UPPER(@UpperFlag)\r\n",
                "            WHEN 'U' THEN UPPER(LastName)\r\n",
                "            ELSE LastName\r\n",
                "        END AS LastName\r\n",
                "    FROM Person.Person\r\n",
                "    WHERE BusinessEntityID IN (SELECT CustomerID\r\n",
                "        FROM Sales.Customer\r\n",
                "        WHERE AccountNumber = @AccountNumber);"
            ],
            "metadata": {
                "azdata_cell_guid": "5684f3a6-8c66-4dec-8908-1d41b430ac11"
            },
            "outputs": [
                {
                    "output_type": "display_data",
                    "data": {
                        "text/html": "Commands completed successfully."
                    },
                    "metadata": {}
                },
                {
                    "output_type": "display_data",
                    "data": {
                        "text/html": "Total execution time: 00:00:00.012"
                    },
                    "metadata": {}
                }
            ],
            "execution_count": 5
        },
        {
            "cell_type": "code",
            "source": [
                "-- 17-6. Returning Output\r\n",
                "\r\n",
                "CREATE PROCEDURE dbo.EL_Department\r\n",
                "    @GroupName NVARCHAR(50),\r\n",
                "    @DeptCount INT OUTPUT\r\n",
                "AS\r\n",
                "    SELECT Name\r\n",
                "    FROM HumanResources.Department\r\n",
                "    WHERE GroupName = @GroupName\r\n",
                "    ORDER BY Name;\r\n",
                "    SELECT @DeptCount = @@ROWCOUNT;"
            ],
            "metadata": {
                "azdata_cell_guid": "240243ae-8779-490e-adaa-50d6595ac04d"
            },
            "outputs": [
                {
                    "output_type": "display_data",
                    "data": {
                        "text/html": "Commands completed successfully."
                    },
                    "metadata": {}
                },
                {
                    "output_type": "display_data",
                    "data": {
                        "text/html": "Total execution time: 00:00:00.009"
                    },
                    "metadata": {}
                }
            ],
            "execution_count": 6
        },
        {
            "cell_type": "code",
            "source": [
                "-- 17-7. Modifying a Stored Procedure\r\n",
                "\r\n",
                "ALTER PROCEDURE dbo.SEL_Department\r\n",
                "    @GroupName NVARCHAR(50)\r\n",
                "AS\r\n",
                "    SELECT Name\r\n",
                "    FROM HumanResources.Department\r\n",
                "    WHERE GroupName = @GroupName\r\n",
                "    ORDER BY Name;\r\n",
                "    SELECT @@ROWCOUNT AS DepartmentCount;"
            ],
            "metadata": {
                "azdata_cell_guid": "3c17f134-674b-4900-a842-de3851e80791"
            },
            "outputs": [
                {
                    "output_type": "error",
                    "evalue": "Msg 208, Level 16, State 6, Procedure SEL_Department, Line 3\r\nInvalid object name 'dbo.SEL_Department'.",
                    "ename": "",
                    "traceback": []
                },
                {
                    "output_type": "display_data",
                    "data": {
                        "text/html": "Total execution time: 00:00:00.004"
                    },
                    "metadata": {}
                }
            ],
            "execution_count": 7
        },
        {
            "cell_type": "code",
            "source": [
                "-- 17-8. Removing a Stored Procedure\r\n",
                "\r\n",
                "DROP PROCEDURE dbo.SEL_Department;"
            ],
            "metadata": {
                "azdata_cell_guid": "a04cc7c6-bbb8-41ed-a8b6-01cedb6f9d13"
            },
            "outputs": [
                {
                    "output_type": "error",
                    "evalue": "Msg 3701, Level 11, State 5, Line 3\r\nCannot drop the procedure 'dbo.SEL_Department', because it does not exist or you do not have permission.",
                    "ename": "",
                    "traceback": []
                },
                {
                    "output_type": "display_data",
                    "data": {
                        "text/html": "Total execution time: 00:00:00.006"
                    },
                    "metadata": {}
                }
            ],
            "execution_count": 8
        },
        {
            "cell_type": "code",
            "source": [
                "-- 17-9. Automatically Run a Stored Procedure at Start-Up\r\n",
                "\r\n",
                "USE master;\r\n",
                "\r\n",
                "CREATE TABLE dbo.SQLStartupLog\r\n",
                "    (\r\n",
                "    SQLStartupLogID INT IDENTITY(1, 1)\r\n",
                "    NOT NULL\r\n",
                "    PRIMARY KEY,\r\n",
                "    StartupDateTime DATETIME NOT NULL\r\n",
                "    );"
            ],
            "metadata": {
                "azdata_cell_guid": "48b50a9b-870d-42c5-8034-b2b9dd6dbadc"
            },
            "outputs": [
                {
                    "output_type": "display_data",
                    "data": {
                        "text/html": "Commands completed successfully."
                    },
                    "metadata": {}
                },
                {
                    "output_type": "display_data",
                    "data": {
                        "text/html": "Total execution time: 00:00:00.024"
                    },
                    "metadata": {}
                }
            ],
            "execution_count": 9
        },
        {
            "cell_type": "code",
            "source": [
                "CREATE PROCEDURE dbo.INS_TrackSQLStartups\r\n",
                "AS\r\n",
                "    INSERT dbo.SQLStartupLog\r\n",
                "        (StartupDateTime)\r\n",
                "    VALUES (GETDATE()); "
            ],
            "metadata": {
                "azdata_cell_guid": "d64cce8f-9bae-44df-a6f2-6083c5d2fb59"
            },
            "outputs": [
                {
                    "output_type": "display_data",
                    "data": {
                        "text/html": "Commands completed successfully."
                    },
                    "metadata": {}
                },
                {
                    "output_type": "display_data",
                    "data": {
                        "text/html": "Total execution time: 00:00:00.015"
                    },
                    "metadata": {}
                }
            ],
            "execution_count": 10
        },
        {
            "cell_type": "code",
            "source": [
                "EXEC sp_procoption @ProcName = 'INS_TrackSQLStartups',\r\n",
                "    @OptionName = 'startup', @OptionValue = 'true';"
            ],
            "metadata": {
                "azdata_cell_guid": "0d678a62-9189-4a54-8fa9-fffb1425f68d"
            },
            "outputs": [
                {
                    "output_type": "display_data",
                    "data": {
                        "text/html": "Commands completed successfully."
                    },
                    "metadata": {}
                },
                {
                    "output_type": "display_data",
                    "data": {
                        "text/html": "Total execution time: 00:00:03.377"
                    },
                    "metadata": {}
                }
            ],
            "execution_count": 11
        },
        {
            "cell_type": "code",
            "source": [
                "-- 17-10. Viewing a Stored Procedure’s Definition\r\n",
                "\r\n",
                "EXEC sp_helptext 'LookupByAccount';"
            ],
            "metadata": {
                "azdata_cell_guid": "2d51d33f-477a-4244-8b8a-b4489389e80d"
            },
            "outputs": [
                {
                    "output_type": "display_data",
                    "data": {
                        "text/html": "Commands completed successfully."
                    },
                    "metadata": {}
                },
                {
                    "output_type": "display_data",
                    "data": {
                        "text/html": "Total execution time: 00:00:00.331"
                    },
                    "metadata": {}
                },
                {
                    "output_type": "execute_result",
                    "metadata": {
                        "resultSet": {
                            "id": 0,
                            "batchId": 0,
                            "rowCount": 18,
                            "complete": true,
                            "columnInfo": [
                                {
                                    "isBytes": false,
                                    "isChars": true,
                                    "isSqlVariant": false,
                                    "isUdt": false,
                                    "isXml": false,
                                    "isJson": false,
                                    "sqlDbType": 12,
                                    "isHierarchyId": false,
                                    "isSqlXmlType": false,
                                    "isUnknownType": false,
                                    "isUpdatable": true,
                                    "allowDBNull": true,
                                    "baseCatalogName": null,
                                    "baseColumnName": null,
                                    "baseSchemaName": null,
                                    "baseServerName": null,
                                    "baseTableName": null,
                                    "columnName": "Text",
                                    "columnOrdinal": 0,
                                    "columnSize": 255,
                                    "isAliased": null,
                                    "isAutoIncrement": false,
                                    "isExpression": null,
                                    "isHidden": null,
                                    "isIdentity": false,
                                    "isKey": null,
                                    "isLong": false,
                                    "isReadOnly": false,
                                    "isUnique": false,
                                    "numericPrecision": 255,
                                    "numericScale": 255,
                                    "udtAssemblyQualifiedName": null,
                                    "dataType": "System.String, System.Private.CoreLib, Version=4.0.0.0, Culture=neutral, PublicKeyToken=7cec85d7bea7798e",
                                    "dataTypeName": "nvarchar"
                                }
                            ],
                            "specialAction": {
                                "none": true,
                                "expectYukonXMLShowPlan": false
                            }
                        }
                    },
                    "execution_count": 12,
                    "data": {
                        "application/vnd.dataresource+json": {
                            "schema": {
                                "fields": [
                                    {
                                        "name": "Text"
                                    }
                                ]
                            },
                            "data": [
                                {
                                    "0": "-- 17-3. Generalizing a Stored Procedure\r\n"
                                },
                                {
                                    "0": "\r\n"
                                },
                                {
                                    "0": "CREATE PROCEDURE dbo.LookupByAccount\r\n"
                                },
                                {
                                    "0": "(@AccountNumber VARCHAR(10),\r\n"
                                },
                                {
                                    "0": "@UpperFlag CHAR(1))\r\n"
                                },
                                {
                                    "0": "AS\r\n"
                                },
                                {
                                    "0": "    SELECT CASE UPPER(@UpperFlag)\r\n"
                                },
                                {
                                    "0": "            WHEN 'U' THEN UPPER(FirstName)\r\n"
                                },
                                {
                                    "0": "            ELSE FirstName\r\n"
                                },
                                {
                                    "0": "        END AS FirstName,\r\n"
                                },
                                {
                                    "0": "        CASE UPPER(@UpperFlag)\r\n"
                                },
                                {
                                    "0": "        WHEN 'U' THEN UPPER(LastName)\r\n"
                                },
                                {
                                    "0": "        ELSE LastName\r\n"
                                },
                                {
                                    "0": "        END AS LastName\r\n"
                                },
                                {
                                    "0": "FROM Person.Person\r\n"
                                },
                                {
                                    "0": "WHERE BusinessEntityID IN (SELECT CustomerID\r\n"
                                },
                                {
                                    "0": "    FROM Sales.Customer\r\n"
                                },
                                {
                                    "0": "    WHERE AccountNumber = @AccountNumber) ;"
                                }
                            ]
                        },
                        "text/html": [
                            "<table>",
                            "<tr><th>Text</th></tr>",
                            "<tr><td>-- 17-3. Generalizing a Stored Procedure\r\n</td></tr>",
                            "<tr><td>\r\n</td></tr>",
                            "<tr><td>CREATE PROCEDURE dbo.LookupByAccount\r\n</td></tr>",
                            "<tr><td>(@AccountNumber VARCHAR(10),\r\n</td></tr>",
                            "<tr><td>@UpperFlag CHAR(1))\r\n</td></tr>",
                            "<tr><td>AS\r\n</td></tr>",
                            "<tr><td>    SELECT CASE UPPER(@UpperFlag)\r\n</td></tr>",
                            "<tr><td>            WHEN 'U' THEN UPPER(FirstName)\r\n</td></tr>",
                            "<tr><td>            ELSE FirstName\r\n</td></tr>",
                            "<tr><td>        END AS FirstName,\r\n</td></tr>",
                            "<tr><td>        CASE UPPER(@UpperFlag)\r\n</td></tr>",
                            "<tr><td>        WHEN 'U' THEN UPPER(LastName)\r\n</td></tr>",
                            "<tr><td>        ELSE LastName\r\n</td></tr>",
                            "<tr><td>        END AS LastName\r\n</td></tr>",
                            "<tr><td>FROM Person.Person\r\n</td></tr>",
                            "<tr><td>WHERE BusinessEntityID IN (SELECT CustomerID\r\n</td></tr>",
                            "<tr><td>    FROM Sales.Customer\r\n</td></tr>",
                            "<tr><td>    WHERE AccountNumber = @AccountNumber) ;</td></tr>",
                            "</table>"
                        ]
                    }
                }
            ],
            "execution_count": 12
        },
        {
            "cell_type": "code",
            "source": [
                "SELECT definition\r\n",
                "FROM sys.sql_modules m\r\n",
                "    INNER JOIN sys.objects o\r\n",
                "    ON m.object_id = o.object_id\r\n",
                "WHERE o.type = 'P'\r\n",
                "    AND o.name = 'LookupByAccount';"
            ],
            "metadata": {
                "azdata_cell_guid": "3fa8cb2b-0e66-40a9-90aa-8d743d31b3a2"
            },
            "outputs": [
                {
                    "output_type": "display_data",
                    "data": {
                        "text/html": "(1 row affected)"
                    },
                    "metadata": {}
                },
                {
                    "output_type": "display_data",
                    "data": {
                        "text/html": "Total execution time: 00:00:00.237"
                    },
                    "metadata": {}
                },
                {
                    "output_type": "execute_result",
                    "metadata": {
                        "resultSet": {
                            "id": 0,
                            "batchId": 0,
                            "rowCount": 1,
                            "complete": false,
                            "columnInfo": [
                                {
                                    "isBytes": false,
                                    "isChars": true,
                                    "isSqlVariant": false,
                                    "isUdt": false,
                                    "isXml": false,
                                    "isJson": false,
                                    "sqlDbType": 12,
                                    "isHierarchyId": false,
                                    "isSqlXmlType": false,
                                    "isUnknownType": false,
                                    "isUpdatable": false,
                                    "allowDBNull": true,
                                    "baseCatalogName": null,
                                    "baseColumnName": null,
                                    "baseSchemaName": null,
                                    "baseServerName": null,
                                    "baseTableName": null,
                                    "columnName": "definition",
                                    "columnOrdinal": 0,
                                    "columnSize": 2147483647,
                                    "isAliased": null,
                                    "isAutoIncrement": false,
                                    "isExpression": null,
                                    "isHidden": null,
                                    "isIdentity": false,
                                    "isKey": null,
                                    "isLong": true,
                                    "isReadOnly": true,
                                    "isUnique": false,
                                    "numericPrecision": 255,
                                    "numericScale": 255,
                                    "udtAssemblyQualifiedName": null,
                                    "dataType": "System.String, System.Private.CoreLib, Version=4.0.0.0, Culture=neutral, PublicKeyToken=7cec85d7bea7798e",
                                    "dataTypeName": "nvarchar"
                                }
                            ],
                            "specialAction": null
                        }
                    },
                    "execution_count": 13,
                    "data": {
                        "application/vnd.dataresource+json": {
                            "schema": {
                                "fields": [
                                    {
                                        "name": "definition"
                                    }
                                ]
                            },
                            "data": [
                                {
                                    "0": "-- 17-3. Generalizing a Stored Procedure\r\n\r\nCREATE PROCEDURE dbo.LookupByAccount\r\n(@AccountNumber VARCHAR(10),\r\n@UpperFlag CHAR(1))\r\nAS\r\n    SELECT CASE UPPER(@UpperFlag)\r\n            WHEN 'U' THEN UPPER(FirstName)\r\n            ELSE FirstName\r\n        END AS FirstName,\r\n        CASE UPPER(@UpperFlag)\r\n        WHEN 'U' THEN UPPER(LastName)\r\n        ELSE LastName\r\n        END AS LastName\r\nFROM Person.Person\r\nWHERE BusinessEntityID IN (SELECT CustomerID\r\n    FROM Sales.Customer\r\n    WHERE AccountNumber = @AccountNumber) ;"
                                }
                            ]
                        },
                        "text/html": [
                            "<table>",
                            "<tr><th>definition</th></tr>",
                            "<tr><td>-- 17-3. Generalizing a Stored Procedure\r\n\r\nCREATE PROCEDURE dbo.LookupByAccount\r\n(@AccountNumber VARCHAR(10),\r\n@UpperFlag CHAR(1))\r\nAS\r\n    SELECT CASE UPPER(@UpperFlag)\r\n            WHEN 'U' THEN UPPER(FirstName)\r\n            ELSE FirstName\r\n        END AS FirstName,\r\n        CASE UPPER(@UpperFlag)\r\n        WHEN 'U' THEN UPPER(LastName)\r\n        ELSE LastName\r\n        END AS LastName\r\nFROM Person.Person\r\nWHERE BusinessEntityID IN (SELECT CustomerID\r\n    FROM Sales.Customer\r\n    WHERE AccountNumber = @AccountNumber) ;</td></tr>",
                            "</table>"
                        ]
                    }
                }
            ],
            "execution_count": 13
        },
        {
            "cell_type": "code",
            "source": [
                "-- 17-11. Documenting Stored Procedures"
            ],
            "metadata": {
                "azdata_cell_guid": "d668b374-92b9-4f4f-b1e8-9bb0262ff537"
            },
            "outputs": [
                {
                    "output_type": "display_data",
                    "data": {
                        "text/html": "Commands completed successfully."
                    },
                    "metadata": {}
                },
                {
                    "output_type": "display_data",
                    "data": {
                        "text/html": "Total execution time: 00:00:00.003"
                    },
                    "metadata": {}
                }
            ],
            "execution_count": 14
        },
        {
            "cell_type": "markdown",
            "source": [
                "<span style=\"font-family: Consolas, &quot;Courier New&quot;, monospace; font-size: 12px; white-space: pre; color: rgb(0, 0, 255);\">CREATE</span><span style=\"color: rgb(33, 33, 33); font-family: Consolas, &quot;Courier New&quot;, monospace; font-size: 12px; white-space: pre;\"></span><span style=\"font-family: Consolas, &quot;Courier New&quot;, monospace; font-size: 12px; white-space: pre; color: rgb(0, 0, 255);\">PROCEDURE</span><span style=\"color: rgb(33, 33, 33); font-family: Consolas, &quot;Courier New&quot;, monospace; font-size: 12px; white-space: pre;\">dbo.IMP_DWP_FactOrder</span><span style=\"font-family: Consolas, &quot;Courier New&quot;, monospace; font-size: 12px; white-space: pre; color: rgb(0, 0, 255);\">AS</span>\n",
                "\n",
                "<span style=\"color: #008000;\">--&nbsp;Purpose:&nbsp;Populates&nbsp;the&nbsp;data&nbsp;warehouse,&nbsp;Called&nbsp;by&nbsp;Job</span>\n",
                "\n",
                "<span style=\"color: #008000;\">--&nbsp;Maintenance&nbsp;Log</span>\n",
                "\n",
                "<span style=\"color: #008000;\">--&nbsp;Update&nbsp;By&nbsp;Update&nbsp;Date</span>\n",
                "\n",
                "<span style=\"color: #0000ff;\">Description</span>\n",
                "\n",
                "<span style=\"color: #008000;\">--&nbsp;Joe&nbsp;Sack&nbsp;8/15/2008&nbsp;Created</span>\n",
                "\n",
                "<span style=\"color: #008000;\">--&nbsp;Joe&nbsp;Sack&nbsp;8/16/2008&nbsp;A&nbsp;new&nbsp;column&nbsp;was&nbsp;added&nbsp;to</span>\n",
                "\n",
                "<span style=\"color: #008000;\">--&nbsp;the&nbsp;base&nbsp;table,&nbsp;so&nbsp;it&nbsp;was&nbsp;added&nbsp;here&nbsp;as&nbsp;well.</span>\n",
                "\n",
                "<span style=\"color: #008000;\">--&nbsp;Transact-SQL&nbsp;code&nbsp;here</span>"
            ],
            "metadata": {
                "azdata_cell_guid": "1b3361b0-b782-4bd9-b253-c210200e8f82"
            }
        },
        {
            "cell_type": "code",
            "source": [
                "-- 17-12. Determining the Current Nesting Level\r\n",
                "\r\n",
                "-- First procedure\r\n",
                "CREATE PROCEDURE dbo.QuickAndDirty\r\n",
                "AS\r\n",
                "SELECT @@NESTLEVEL;\r\n",
                "GO\r\n",
                "\r\n",
                "-- Second procedure\r\n",
                "CREATE PROCEDURE dbo.Call_QuickAndDirty\r\n",
                "AS\r\n",
                "SELECT @@NESTLEVEL\r\n",
                "EXEC dbo.QuickAndDirty;\r\n",
                "GO\r\n",
                "\r\n",
                "SELECT @@NESTLEVEL;\r\n",
                "EXEC dbo.Call_QuickAndDirty;"
            ],
            "metadata": {
                "azdata_cell_guid": "bb1e2fc2-8420-4766-ab04-85030f42aa48"
            },
            "outputs": [
                {
                    "output_type": "display_data",
                    "data": {
                        "text/html": "Commands completed successfully."
                    },
                    "metadata": {}
                },
                {
                    "output_type": "display_data",
                    "data": {
                        "text/html": "Commands completed successfully."
                    },
                    "metadata": {}
                },
                {
                    "output_type": "display_data",
                    "data": {
                        "text/html": "(1 row affected)"
                    },
                    "metadata": {}
                },
                {
                    "output_type": "display_data",
                    "data": {
                        "text/html": "(1 row affected)"
                    },
                    "metadata": {}
                },
                {
                    "output_type": "display_data",
                    "data": {
                        "text/html": "(1 row affected)"
                    },
                    "metadata": {}
                },
                {
                    "output_type": "display_data",
                    "data": {
                        "text/html": "Total execution time: 00:00:00.042"
                    },
                    "metadata": {}
                },
                {
                    "output_type": "execute_result",
                    "metadata": {
                        "resultSet": {
                            "id": 0,
                            "batchId": 2,
                            "rowCount": 1,
                            "complete": true,
                            "columnInfo": [
                                {
                                    "isBytes": false,
                                    "isChars": false,
                                    "isSqlVariant": false,
                                    "isUdt": false,
                                    "isXml": false,
                                    "isJson": false,
                                    "sqlDbType": 8,
                                    "isHierarchyId": false,
                                    "isSqlXmlType": false,
                                    "isUnknownType": false,
                                    "isUpdatable": false,
                                    "allowDBNull": false,
                                    "baseCatalogName": null,
                                    "baseColumnName": null,
                                    "baseSchemaName": null,
                                    "baseServerName": null,
                                    "baseTableName": null,
                                    "columnName": "(No column name)",
                                    "columnOrdinal": 0,
                                    "columnSize": 4,
                                    "isAliased": null,
                                    "isAutoIncrement": false,
                                    "isExpression": null,
                                    "isHidden": null,
                                    "isIdentity": false,
                                    "isKey": null,
                                    "isLong": false,
                                    "isReadOnly": true,
                                    "isUnique": false,
                                    "numericPrecision": 10,
                                    "numericScale": 255,
                                    "udtAssemblyQualifiedName": null,
                                    "dataType": "System.Int32, System.Private.CoreLib, Version=4.0.0.0, Culture=neutral, PublicKeyToken=7cec85d7bea7798e",
                                    "dataTypeName": "int"
                                }
                            ],
                            "specialAction": {
                                "none": true,
                                "expectYukonXMLShowPlan": false
                            }
                        }
                    },
                    "execution_count": 15,
                    "data": {
                        "application/vnd.dataresource+json": {
                            "schema": {
                                "fields": [
                                    {
                                        "name": "(No column name)"
                                    }
                                ]
                            },
                            "data": [
                                {
                                    "0": "0"
                                }
                            ]
                        },
                        "text/html": [
                            "<table>",
                            "<tr><th>(No column name)</th></tr>",
                            "<tr><td>0</td></tr>",
                            "</table>"
                        ]
                    }
                },
                {
                    "output_type": "execute_result",
                    "metadata": {
                        "resultSet": {
                            "id": 1,
                            "batchId": 2,
                            "rowCount": 1,
                            "complete": true,
                            "columnInfo": [
                                {
                                    "isBytes": false,
                                    "isChars": false,
                                    "isSqlVariant": false,
                                    "isUdt": false,
                                    "isXml": false,
                                    "isJson": false,
                                    "sqlDbType": 8,
                                    "isHierarchyId": false,
                                    "isSqlXmlType": false,
                                    "isUnknownType": false,
                                    "isUpdatable": false,
                                    "allowDBNull": false,
                                    "baseCatalogName": null,
                                    "baseColumnName": null,
                                    "baseSchemaName": null,
                                    "baseServerName": null,
                                    "baseTableName": null,
                                    "columnName": "(No column name)",
                                    "columnOrdinal": 0,
                                    "columnSize": 4,
                                    "isAliased": null,
                                    "isAutoIncrement": false,
                                    "isExpression": null,
                                    "isHidden": null,
                                    "isIdentity": false,
                                    "isKey": null,
                                    "isLong": false,
                                    "isReadOnly": true,
                                    "isUnique": false,
                                    "numericPrecision": 10,
                                    "numericScale": 255,
                                    "udtAssemblyQualifiedName": null,
                                    "dataType": "System.Int32, System.Private.CoreLib, Version=4.0.0.0, Culture=neutral, PublicKeyToken=7cec85d7bea7798e",
                                    "dataTypeName": "int"
                                }
                            ],
                            "specialAction": {
                                "none": true,
                                "expectYukonXMLShowPlan": false
                            }
                        }
                    },
                    "execution_count": 15,
                    "data": {
                        "application/vnd.dataresource+json": {
                            "schema": {
                                "fields": [
                                    {
                                        "name": "(No column name)"
                                    }
                                ]
                            },
                            "data": [
                                {
                                    "0": "1"
                                }
                            ]
                        },
                        "text/html": [
                            "<table>",
                            "<tr><th>(No column name)</th></tr>",
                            "<tr><td>1</td></tr>",
                            "</table>"
                        ]
                    }
                },
                {
                    "output_type": "execute_result",
                    "metadata": {
                        "resultSet": {
                            "id": 2,
                            "batchId": 2,
                            "rowCount": 1,
                            "complete": true,
                            "columnInfo": [
                                {
                                    "isBytes": false,
                                    "isChars": false,
                                    "isSqlVariant": false,
                                    "isUdt": false,
                                    "isXml": false,
                                    "isJson": false,
                                    "sqlDbType": 8,
                                    "isHierarchyId": false,
                                    "isSqlXmlType": false,
                                    "isUnknownType": false,
                                    "isUpdatable": false,
                                    "allowDBNull": false,
                                    "baseCatalogName": null,
                                    "baseColumnName": null,
                                    "baseSchemaName": null,
                                    "baseServerName": null,
                                    "baseTableName": null,
                                    "columnName": "(No column name)",
                                    "columnOrdinal": 0,
                                    "columnSize": 4,
                                    "isAliased": null,
                                    "isAutoIncrement": false,
                                    "isExpression": null,
                                    "isHidden": null,
                                    "isIdentity": false,
                                    "isKey": null,
                                    "isLong": false,
                                    "isReadOnly": true,
                                    "isUnique": false,
                                    "numericPrecision": 10,
                                    "numericScale": 255,
                                    "udtAssemblyQualifiedName": null,
                                    "dataType": "System.Int32, System.Private.CoreLib, Version=4.0.0.0, Culture=neutral, PublicKeyToken=7cec85d7bea7798e",
                                    "dataTypeName": "int"
                                }
                            ],
                            "specialAction": {
                                "none": true,
                                "expectYukonXMLShowPlan": false
                            }
                        }
                    },
                    "execution_count": 15,
                    "data": {
                        "application/vnd.dataresource+json": {
                            "schema": {
                                "fields": [
                                    {
                                        "name": "(No column name)"
                                    }
                                ]
                            },
                            "data": [
                                {
                                    "0": "2"
                                }
                            ]
                        },
                        "text/html": [
                            "<table>",
                            "<tr><th>(No column name)</th></tr>",
                            "<tr><td>2</td></tr>",
                            "</table>"
                        ]
                    }
                }
            ],
            "execution_count": 15
        },
        {
            "cell_type": "code",
            "source": [
                "-- 17-13. Encrypting a Stored Procedure\r\n",
                "\r\n",
                "CREATE PROCEDURE dbo.SEL_EmployeePayHistory\r\n",
                "    WITH ENCRYPTION\r\n",
                "AS\r\n",
                "    SELECT BusinessEntityID,\r\n",
                "        RateChangeDate,\r\n",
                "        Rate,\r\n",
                "        PayFrequency,\r\n",
                "        ModifiedDate\r\n",
                "    FROM HumanResources.EmployeePayHistory;"
            ],
            "metadata": {
                "azdata_cell_guid": "5a2ccc5b-e46a-4742-8509-465da81b4ce4"
            },
            "outputs": [
                {
                    "output_type": "display_data",
                    "data": {
                        "text/html": "Commands completed successfully."
                    },
                    "metadata": {}
                },
                {
                    "output_type": "display_data",
                    "data": {
                        "text/html": "Total execution time: 00:00:00.011"
                    },
                    "metadata": {}
                }
            ],
            "execution_count": 16
        },
        {
            "cell_type": "code",
            "source": [
                "EXEC sp_helptext SEL_EmployeePayHistory;"
            ],
            "metadata": {
                "azdata_cell_guid": "58873a54-09ec-4e7a-88a5-38005a4c567f"
            },
            "outputs": [
                {
                    "output_type": "display_data",
                    "data": {
                        "text/html": "The text for object 'SEL_EmployeePayHistory' is encrypted."
                    },
                    "metadata": {}
                },
                {
                    "output_type": "display_data",
                    "data": {
                        "text/html": "Total execution time: 00:00:00.006"
                    },
                    "metadata": {}
                }
            ],
            "execution_count": 17
        },
        {
            "cell_type": "code",
            "source": [
                "SELECT definition\r\n",
                "FROM sys.sql_modules m\r\n",
                "    INNER JOIN sys.objects o\r\n",
                "        ON m.object_id = o.object_id\r\n",
                "WHERE o.type = 'P'\r\n",
                "    AND o.name = 'SEL_EmployeePayHistory';"
            ],
            "metadata": {
                "azdata_cell_guid": "cdc93500-811e-4078-88c8-a4d409dc0712"
            },
            "outputs": [
                {
                    "output_type": "display_data",
                    "data": {
                        "text/html": "(1 row affected)"
                    },
                    "metadata": {}
                },
                {
                    "output_type": "display_data",
                    "data": {
                        "text/html": "Total execution time: 00:00:00.024"
                    },
                    "metadata": {}
                },
                {
                    "output_type": "execute_result",
                    "metadata": {
                        "resultSet": {
                            "id": 0,
                            "batchId": 0,
                            "rowCount": 1,
                            "complete": true,
                            "columnInfo": [
                                {
                                    "isBytes": false,
                                    "isChars": true,
                                    "isSqlVariant": false,
                                    "isUdt": false,
                                    "isXml": false,
                                    "isJson": false,
                                    "sqlDbType": 12,
                                    "isHierarchyId": false,
                                    "isSqlXmlType": false,
                                    "isUnknownType": false,
                                    "isUpdatable": false,
                                    "allowDBNull": true,
                                    "baseCatalogName": null,
                                    "baseColumnName": null,
                                    "baseSchemaName": null,
                                    "baseServerName": null,
                                    "baseTableName": null,
                                    "columnName": "definition",
                                    "columnOrdinal": 0,
                                    "columnSize": 2147483647,
                                    "isAliased": null,
                                    "isAutoIncrement": false,
                                    "isExpression": null,
                                    "isHidden": null,
                                    "isIdentity": false,
                                    "isKey": null,
                                    "isLong": true,
                                    "isReadOnly": true,
                                    "isUnique": false,
                                    "numericPrecision": 255,
                                    "numericScale": 255,
                                    "udtAssemblyQualifiedName": null,
                                    "dataType": "System.String, System.Private.CoreLib, Version=4.0.0.0, Culture=neutral, PublicKeyToken=7cec85d7bea7798e",
                                    "dataTypeName": "nvarchar"
                                }
                            ],
                            "specialAction": {
                                "none": true,
                                "expectYukonXMLShowPlan": false
                            }
                        }
                    },
                    "execution_count": 18,
                    "data": {
                        "application/vnd.dataresource+json": {
                            "schema": {
                                "fields": [
                                    {
                                        "name": "definition"
                                    }
                                ]
                            },
                            "data": [
                                {
                                    "0": "NULL"
                                }
                            ]
                        },
                        "text/html": [
                            "<table>",
                            "<tr><th>definition</th></tr>",
                            "<tr><td>NULL</td></tr>",
                            "</table>"
                        ]
                    }
                }
            ],
            "execution_count": 18
        },
        {
            "cell_type": "code",
            "source": [
                "-- 17-14. Specifying a Security Context\r\n",
                "\r\n",
                "CREATE PROCEDURE HumanResources.SEL_Department\r\n",
                "    @GroupName NVARCHAR(50)\r\n",
                "WITH EXECUTE AS OWNER\r\n",
                "AS\r\n",
                "    SELECT Name\r\n",
                "    FROM HumanResources.Department\r\n",
                "    WHERE GroupName = @GroupName\r\n",
                "    ORDER BY Name;\r\n",
                "    SELECT @@ROWCOUNT AS DepartmentCount;"
            ],
            "metadata": {
                "azdata_cell_guid": "5f9f6889-bffe-4211-9bb3-f08cda5984ea"
            },
            "outputs": [
                {
                    "output_type": "error",
                    "evalue": "Msg 2760, Level 16, State 1, Procedure SEL_Department, Line 3\r\nThe specified schema name \"HumanResources\" either does not exist or you do not have permission to use it.",
                    "ename": "",
                    "traceback": []
                },
                {
                    "output_type": "display_data",
                    "data": {
                        "text/html": "Total execution time: 00:00:00.003"
                    },
                    "metadata": {}
                }
            ],
            "execution_count": 19
        },
        {
            "cell_type": "code",
            "source": [
                "-- 17-15. Avoiding Cached Query Plans\r\n",
                "\r\n",
                "ALTER PROCEDURE dbo.LookupByAccount2\r\n",
                "    (\r\n",
                "    @UpperFlag VARCHAR(1) = 'x',\r\n",
                "    @AccountNumber VARCHAR(10)\r\n",
                "    )\r\n",
                "    WITH RECOMPILE\r\n",
                "AS\r\n",
                "    SELECT CASE UPPER(@UpperFlag)\r\n",
                "            WHEN 'U' THEN UPPER(FirstName)\r\n",
                "            ELSE FirstName\r\n",
                "        END AS FirstName,\r\n",
                "        CASE UPPER(@UpperFlag)\r\n",
                "            WHEN 'U' THEN UPPER(LastName)\r\n",
                "            ELSE LastName\r\n",
                "        END AS LastName\r\n",
                "    FROM Person.Person\r\n",
                "    WHERE BusinessEntityID IN (SELECT CustomerID\r\n",
                "        FROM Sales.Customer\r\n",
                "        WHERE AccountNumber = @AccountNumber);"
            ],
            "metadata": {
                "azdata_cell_guid": "ded4f354-380f-4ebd-a5d1-fe9a664a99a8"
            },
            "outputs": [
                {
                    "output_type": "display_data",
                    "data": {
                        "text/html": "Commands completed successfully."
                    },
                    "metadata": {}
                },
                {
                    "output_type": "display_data",
                    "data": {
                        "text/html": "Total execution time: 00:00:00.009"
                    },
                    "metadata": {}
                }
            ],
            "execution_count": 20
        },
        {
            "cell_type": "code",
            "source": [
                "-- 17-16. Flushing the Procedure Cache\r\n",
                "\r\n",
                "SELECT COUNT(*) 'CachedPlansBefore'\r\n",
                "FROM sys.dm_exec_cached_plans;"
            ],
            "metadata": {
                "azdata_cell_guid": "d6913201-62e6-41ef-87d4-b31af85cb2b4"
            },
            "outputs": [
                {
                    "output_type": "display_data",
                    "data": {
                        "text/html": "(1 row affected)"
                    },
                    "metadata": {}
                },
                {
                    "output_type": "display_data",
                    "data": {
                        "text/html": "Total execution time: 00:00:00.023"
                    },
                    "metadata": {}
                },
                {
                    "output_type": "execute_result",
                    "metadata": {
                        "resultSet": {
                            "id": 0,
                            "batchId": 0,
                            "rowCount": 1,
                            "complete": true,
                            "columnInfo": [
                                {
                                    "isBytes": false,
                                    "isChars": false,
                                    "isSqlVariant": false,
                                    "isUdt": false,
                                    "isXml": false,
                                    "isJson": false,
                                    "sqlDbType": 8,
                                    "isHierarchyId": false,
                                    "isSqlXmlType": false,
                                    "isUnknownType": false,
                                    "isUpdatable": false,
                                    "allowDBNull": true,
                                    "baseCatalogName": null,
                                    "baseColumnName": null,
                                    "baseSchemaName": null,
                                    "baseServerName": null,
                                    "baseTableName": null,
                                    "columnName": "CachedPlansBefore",
                                    "columnOrdinal": 0,
                                    "columnSize": 4,
                                    "isAliased": null,
                                    "isAutoIncrement": false,
                                    "isExpression": null,
                                    "isHidden": null,
                                    "isIdentity": false,
                                    "isKey": null,
                                    "isLong": false,
                                    "isReadOnly": true,
                                    "isUnique": false,
                                    "numericPrecision": 10,
                                    "numericScale": 255,
                                    "udtAssemblyQualifiedName": null,
                                    "dataType": "System.Int32, System.Private.CoreLib, Version=4.0.0.0, Culture=neutral, PublicKeyToken=7cec85d7bea7798e",
                                    "dataTypeName": "int"
                                }
                            ],
                            "specialAction": {
                                "none": true,
                                "expectYukonXMLShowPlan": false
                            }
                        }
                    },
                    "execution_count": 21,
                    "data": {
                        "application/vnd.dataresource+json": {
                            "schema": {
                                "fields": [
                                    {
                                        "name": "CachedPlansBefore"
                                    }
                                ]
                            },
                            "data": [
                                {
                                    "0": "51"
                                }
                            ]
                        },
                        "text/html": [
                            "<table>",
                            "<tr><th>CachedPlansBefore</th></tr>",
                            "<tr><td>51</td></tr>",
                            "</table>"
                        ]
                    }
                }
            ],
            "execution_count": 21
        },
        {
            "cell_type": "code",
            "source": [
                "DBCC FREEPROCCACHE;\r\n",
                "SELECT COUNT(*) 'CachedPlansAfter'\r\n",
                "FROM sys.dm_exec_cached_plans;"
            ],
            "metadata": {
                "azdata_cell_guid": "b51e4fa5-4fcd-4f96-99c7-a2a46d5c7fc9"
            },
            "outputs": [
                {
                    "output_type": "display_data",
                    "data": {
                        "text/html": "DBCC execution completed. If DBCC printed error messages, contact your system administrator."
                    },
                    "metadata": {}
                },
                {
                    "output_type": "display_data",
                    "data": {
                        "text/html": "(1 row affected)"
                    },
                    "metadata": {}
                },
                {
                    "output_type": "display_data",
                    "data": {
                        "text/html": "Total execution time: 00:00:00.087"
                    },
                    "metadata": {}
                },
                {
                    "output_type": "execute_result",
                    "metadata": {
                        "resultSet": {
                            "id": 0,
                            "batchId": 0,
                            "rowCount": 1,
                            "complete": true,
                            "columnInfo": [
                                {
                                    "isBytes": false,
                                    "isChars": false,
                                    "isSqlVariant": false,
                                    "isUdt": false,
                                    "isXml": false,
                                    "isJson": false,
                                    "sqlDbType": 8,
                                    "isHierarchyId": false,
                                    "isSqlXmlType": false,
                                    "isUnknownType": false,
                                    "isUpdatable": false,
                                    "allowDBNull": true,
                                    "baseCatalogName": null,
                                    "baseColumnName": null,
                                    "baseSchemaName": null,
                                    "baseServerName": null,
                                    "baseTableName": null,
                                    "columnName": "CachedPlansAfter",
                                    "columnOrdinal": 0,
                                    "columnSize": 4,
                                    "isAliased": null,
                                    "isAutoIncrement": false,
                                    "isExpression": null,
                                    "isHidden": null,
                                    "isIdentity": false,
                                    "isKey": null,
                                    "isLong": false,
                                    "isReadOnly": true,
                                    "isUnique": false,
                                    "numericPrecision": 10,
                                    "numericScale": 255,
                                    "udtAssemblyQualifiedName": null,
                                    "dataType": "System.Int32, System.Private.CoreLib, Version=4.0.0.0, Culture=neutral, PublicKeyToken=7cec85d7bea7798e",
                                    "dataTypeName": "int"
                                }
                            ],
                            "specialAction": {
                                "none": true,
                                "expectYukonXMLShowPlan": false
                            }
                        }
                    },
                    "execution_count": 22,
                    "data": {
                        "application/vnd.dataresource+json": {
                            "schema": {
                                "fields": [
                                    {
                                        "name": "CachedPlansAfter"
                                    }
                                ]
                            },
                            "data": [
                                {
                                    "0": "1"
                                }
                            ]
                        },
                        "text/html": [
                            "<table>",
                            "<tr><th>CachedPlansAfter</th></tr>",
                            "<tr><td>1</td></tr>",
                            "</table>"
                        ]
                    }
                }
            ],
            "execution_count": 22
        }
    ]
}