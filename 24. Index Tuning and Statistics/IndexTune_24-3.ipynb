{
    "metadata": {
        "kernelspec": {
            "name": "SQL",
            "display_name": "SQL",
            "language": "sql"
        },
        "language_info": {
            "name": "sql",
            "version": ""
        }
    },
    "nbformat_minor": 2,
    "nbformat": 4,
    "cells": [
        {
            "cell_type": "code",
            "source": [
                "/* 24-3 */\r\n",
                "-- Reorganize a specific index\r\n",
                "USE AdventureWorks2014;\r\n",
                "GO\r\n",
                "ALTER INDEX PK_TransactionHistory_TransactionID\r\n",
                "ON Production.TransactionHistory\r\n",
                "REORGANIZE;"
            ],
            "metadata": {
                "azdata_cell_guid": "4401a9c2-7d83-42fd-84c9-4317604e4ab3"
            },
            "outputs": [
                {
                    "output_type": "display_data",
                    "data": {
                        "text/html": "Commands completed successfully."
                    },
                    "metadata": {}
                },
                {
                    "output_type": "display_data",
                    "data": {
                        "text/html": "Commands completed successfully."
                    },
                    "metadata": {}
                },
                {
                    "output_type": "display_data",
                    "data": {
                        "text/html": "Total execution time: 00:00:00.260"
                    },
                    "metadata": {}
                }
            ],
            "execution_count": 1
        },
        {
            "cell_type": "code",
            "source": [
                "-- Reorganize all indexes for a table\r\n",
                "-- Compact large object data types\r\n",
                "USE AdventureWorks2014;\r\n",
                "GO\r\n",
                "ALTER INDEX ALL\r\n",
                "ON HumanResources.JobCandidate\r\n",
                "REORGANIZE\r\n",
                "WITH (LOB_COMPACTION = ON);"
            ],
            "metadata": {
                "azdata_cell_guid": "f4eb5ccf-5a94-401c-bd67-2cdc337f20fa"
            },
            "outputs": [
                {
                    "output_type": "display_data",
                    "data": {
                        "text/html": "Commands completed successfully."
                    },
                    "metadata": {}
                },
                {
                    "output_type": "display_data",
                    "data": {
                        "text/html": "Commands completed successfully."
                    },
                    "metadata": {}
                },
                {
                    "output_type": "display_data",
                    "data": {
                        "text/html": "Total execution time: 00:00:00.008"
                    },
                    "metadata": {}
                }
            ],
            "execution_count": 2
        }
    ]
}