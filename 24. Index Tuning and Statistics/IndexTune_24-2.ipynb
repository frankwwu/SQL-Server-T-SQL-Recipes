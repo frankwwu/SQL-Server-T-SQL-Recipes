{
    "metadata": {
        "kernelspec": {
            "name": "SQL",
            "display_name": "SQL",
            "language": "sql"
        },
        "language_info": {
            "name": "sql",
            "version": ""
        }
    },
    "nbformat_minor": 2,
    "nbformat": 4,
    "cells": [
        {
            "cell_type": "code",
            "source": [
                "/* 24-2 */\r\n",
                "-- Rebuild a specific index\r\n",
                "USE AdventureWorks2014;\r\n",
                "GO\r\n",
                "ALTER INDEX PK_ShipMethod_ShipMethodID ON Purchasing.ShipMethod REBUILD;"
            ],
            "metadata": {
                "azdata_cell_guid": "c774d16a-2f36-41ad-890d-438129803eb7"
            },
            "outputs": [
                {
                    "output_type": "display_data",
                    "data": {
                        "text/html": "Commands completed successfully."
                    },
                    "metadata": {}
                },
                {
                    "output_type": "display_data",
                    "data": {
                        "text/html": "Commands completed successfully."
                    },
                    "metadata": {}
                },
                {
                    "output_type": "display_data",
                    "data": {
                        "text/html": "Total execution time: 00:00:00.006"
                    },
                    "metadata": {}
                }
            ],
            "execution_count": 1
        },
        {
            "cell_type": "code",
            "source": [
                "-- Rebuild all indexes on a specific table\r\n",
                "USE AdventureWorks2014;\r\n",
                "GO\r\n",
                "ALTER INDEX ALL\r\n",
                "ON Purchasing.PurchaseOrderHeader REBUILD;"
            ],
            "metadata": {
                "azdata_cell_guid": "7ed75407-e2bd-4a4a-8ab1-ae7f1eba22af"
            },
            "outputs": [
                {
                    "output_type": "display_data",
                    "data": {
                        "text/html": "Commands completed successfully."
                    },
                    "metadata": {}
                },
                {
                    "output_type": "display_data",
                    "data": {
                        "text/html": "Commands completed successfully."
                    },
                    "metadata": {}
                },
                {
                    "output_type": "display_data",
                    "data": {
                        "text/html": "Total execution time: 00:00:00.037"
                    },
                    "metadata": {}
                }
            ],
            "execution_count": 2
        },
        {
            "cell_type": "code",
            "source": [
                "-- Rebuild an index, while keeping it available -- for queries (requires Enterprise Edition)\r\n",
                "USE AdventureWorks2014;\r\n",
                "GO\r\n",
                "ALTER INDEX PK_ProductReview_ProductReviewID \r\n",
                "ON Production.ProductReview REBUILD WITH (ONLINE = ON);"
            ],
            "metadata": {
                "azdata_cell_guid": "89637c31-1e23-4514-b24b-d440c4fe0220"
            },
            "outputs": [
                {
                    "output_type": "display_data",
                    "data": {
                        "text/html": "Commands completed successfully."
                    },
                    "metadata": {}
                },
                {
                    "output_type": "display_data",
                    "data": {
                        "text/html": "Commands completed successfully."
                    },
                    "metadata": {}
                },
                {
                    "output_type": "display_data",
                    "data": {
                        "text/html": "Total execution time: 00:00:00.020"
                    },
                    "metadata": {}
                }
            ],
            "execution_count": 3
        },
        {
            "cell_type": "code",
            "source": [
                "-- Rebuild an index, using a new fill factor and -- sorting in tempdb\r\n",
                "USE AdventureWorks2014;\r\n",
                "GO\r\n",
                "ALTER INDEX PK_TransactionHistory_TransactionID \r\n",
                "ON Production.TransactionHistory REBUILD WITH (FILLFACTOR = 75, SORT_IN_TEMPDB = ON);"
            ],
            "metadata": {
                "azdata_cell_guid": "4fd71490-33e8-491b-9df1-023963c51be0"
            },
            "outputs": [
                {
                    "output_type": "display_data",
                    "data": {
                        "text/html": "Commands completed successfully."
                    },
                    "metadata": {}
                },
                {
                    "output_type": "display_data",
                    "data": {
                        "text/html": "Commands completed successfully."
                    },
                    "metadata": {}
                },
                {
                    "output_type": "display_data",
                    "data": {
                        "text/html": "Total execution time: 00:00:00.113"
                    },
                    "metadata": {}
                }
            ],
            "execution_count": 4
        },
        {
            "cell_type": "code",
            "source": [
                "-- Rebuild an index with page-level data compression enabled \r\n",
                "USE AdventureWorks2014;\r\n",
                "GO\r\n",
                "ALTER INDEX PK_ShipMethod_ShipMethodID \r\n",
                "ON Purchasing.ShipMethod REBUILD WITH (DATA_COMPRESSION = PAGE);"
            ],
            "metadata": {
                "azdata_cell_guid": "a754cf6e-1adf-470a-9abf-b363807e6387"
            },
            "outputs": [
                {
                    "output_type": "display_data",
                    "data": {
                        "text/html": "Commands completed successfully."
                    },
                    "metadata": {}
                },
                {
                    "output_type": "display_data",
                    "data": {
                        "text/html": "Commands completed successfully."
                    },
                    "metadata": {}
                },
                {
                    "output_type": "display_data",
                    "data": {
                        "text/html": "Total execution time: 00:00:00.011"
                    },
                    "metadata": {}
                }
            ],
            "execution_count": 5
        },
        {
            "cell_type": "code",
            "source": [
                "-- Rebuild an index with low priority wait\r\n",
                "USE AdventureWorks2014;\r\n",
                "GO\r\n",
                "ALTER INDEX PK_ShipMethod_ShipMethodID \r\n",
                "ON Purchasing.ShipMethod \r\n",
                "REBUILD WITH (ONLINE = ON (\r\n",
                "    WAIT_AT_LOW_PRIORITY ( MAX_DURATION = 2 MINUTES, ABORT_AFTER_WAIT = SELF ) \r\n",
                "    ));"
            ],
            "metadata": {
                "azdata_cell_guid": "8b5d9506-d64f-434c-9431-22aec7307ccc"
            },
            "outputs": [
                {
                    "output_type": "display_data",
                    "data": {
                        "text/html": "Commands completed successfully."
                    },
                    "metadata": {}
                },
                {
                    "output_type": "display_data",
                    "data": {
                        "text/html": "Commands completed successfully."
                    },
                    "metadata": {}
                },
                {
                    "output_type": "display_data",
                    "data": {
                        "text/html": "Total execution time: 00:00:00.009"
                    },
                    "metadata": {}
                }
            ],
            "execution_count": 6
        }
    ]
}