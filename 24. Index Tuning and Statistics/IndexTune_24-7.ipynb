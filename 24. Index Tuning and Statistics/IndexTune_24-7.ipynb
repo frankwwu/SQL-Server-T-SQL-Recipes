{
    "metadata": {
        "kernelspec": {
            "name": "SQL",
            "display_name": "SQL",
            "language": "sql"
        },
        "language_info": {
            "name": "sql",
            "version": ""
        }
    },
    "nbformat_minor": 2,
    "nbformat": 4,
    "cells": [
        {
            "cell_type": "code",
            "source": [
                "/* 24-7 */\r\n",
                "USE AdventureWorks2014;\r\n",
                "GO\r\n",
                "CREATE STATISTICS Stats_SalesOrderDetail_UnitPrice_Filtered ON Sales.SalesOrderDetail (UnitPrice) \r\n",
                "WHERE UnitPrice >= 1000.00 AND UnitPrice <= 1500.00 \r\n",
                "WITH FULLSCAN;"
            ],
            "metadata": {
                "azdata_cell_guid": "7ea9f97f-5c06-4a41-8602-1aa5f843cfba"
            },
            "outputs": [
                {
                    "output_type": "display_data",
                    "data": {
                        "text/html": "Commands completed successfully."
                    },
                    "metadata": {}
                },
                {
                    "output_type": "display_data",
                    "data": {
                        "text/html": "Commands completed successfully."
                    },
                    "metadata": {}
                },
                {
                    "output_type": "display_data",
                    "data": {
                        "text/html": "Total execution time: 00:00:00.141"
                    },
                    "metadata": {}
                }
            ],
            "execution_count": 1
        }
    ]
}