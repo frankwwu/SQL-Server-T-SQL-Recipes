{
    "metadata": {
        "kernelspec": {
            "name": "SQL",
            "display_name": "SQL",
            "language": "sql"
        },
        "language_info": {
            "name": "sql",
            "version": ""
        }
    },
    "nbformat_minor": 2,
    "nbformat": 4,
    "cells": [
        {
            "cell_type": "code",
            "source": [
                "/* 24-4 */\r\n",
                "/* create a heap */\r\n",
                "USE AdventureWorks2014;\r\n",
                "GO\r\n",
                "-- Create an unindexed table based on another table \r\n",
                "SELECT ShiftID, Name, StartTime, EndTime, ModifiedDate \r\n",
                "INTO dbo.Heap_Shift \r\n",
                "FROM HumanResources.Shift;"
            ],
            "metadata": {
                "azdata_cell_guid": "7422ea2b-5772-4f95-b1f9-ec3c88aa7c11"
            },
            "outputs": [
                {
                    "output_type": "display_data",
                    "data": {
                        "text/html": "Commands completed successfully."
                    },
                    "metadata": {}
                },
                {
                    "output_type": "display_data",
                    "data": {
                        "text/html": "(3 rows affected)"
                    },
                    "metadata": {}
                },
                {
                    "output_type": "display_data",
                    "data": {
                        "text/html": "Total execution time: 00:00:00.012"
                    },
                    "metadata": {}
                }
            ],
            "execution_count": 1
        },
        {
            "cell_type": "code",
            "source": [
                "/* confirm the table is a heap */\r\n",
                "USE AdventureWorks2014;\r\n",
                "GO\r\n",
                "SELECT type_desc\r\n",
                "FROM sys.indexes \r\n",
                "WHERE object_id = OBJECT_ID('Heap_Shift');"
            ],
            "metadata": {
                "azdata_cell_guid": "6f3b8efd-4ee4-4d7b-8ec5-fdcc71d85438"
            },
            "outputs": [
                {
                    "output_type": "display_data",
                    "data": {
                        "text/html": "Commands completed successfully."
                    },
                    "metadata": {}
                },
                {
                    "output_type": "display_data",
                    "data": {
                        "text/html": "(1 row affected)"
                    },
                    "metadata": {}
                },
                {
                    "output_type": "display_data",
                    "data": {
                        "text/html": "Total execution time: 00:00:00.038"
                    },
                    "metadata": {}
                },
                {
                    "output_type": "execute_result",
                    "metadata": {},
                    "execution_count": 2,
                    "data": {
                        "application/vnd.dataresource+json": {
                            "schema": {
                                "fields": [
                                    {
                                        "name": "type_desc"
                                    }
                                ]
                            },
                            "data": [
                                {
                                    "0": "HEAP"
                                }
                            ]
                        },
                        "text/html": [
                            "<table>",
                            "<tr><th>type_desc</th></tr>",
                            "<tr><td>HEAP</td></tr>",
                            "</table>"
                        ]
                    },
                    "batchId": 1,
                    "id": 0,
                    "queryRunnerUri": "queryRunner-untitled:notebook-editor-48"
                }
            ],
            "execution_count": 2
        },
        {
            "cell_type": "code",
            "source": [
                "/* rebuild the heap */\r\n",
                "USE AdventureWorks2014;\r\n",
                "GO\r\n",
                "ALTER TABLE dbo.Heap_Shift REBUILD;"
            ],
            "metadata": {
                "azdata_cell_guid": "6e0db483-d6af-4444-8a4f-868059be0fc1"
            },
            "outputs": [
                {
                    "output_type": "display_data",
                    "data": {
                        "text/html": "Commands completed successfully."
                    },
                    "metadata": {}
                },
                {
                    "output_type": "display_data",
                    "data": {
                        "text/html": "Commands completed successfully."
                    },
                    "metadata": {}
                },
                {
                    "output_type": "display_data",
                    "data": {
                        "text/html": "Total execution time: 00:00:00.012"
                    },
                    "metadata": {}
                }
            ],
            "execution_count": 3
        }
    ]
}