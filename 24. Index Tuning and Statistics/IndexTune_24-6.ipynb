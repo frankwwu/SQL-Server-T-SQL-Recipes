{
    "metadata": {
        "kernelspec": {
            "name": "SQL",
            "display_name": "SQL",
            "language": "sql"
        },
        "language_info": {
            "name": "sql",
            "version": ""
        }
    },
    "nbformat_minor": 2,
    "nbformat": 4,
    "cells": [
        {
            "cell_type": "code",
            "source": [
                "/* 24-6 */\r\n",
                "USE AdventureWorks2014;\r\n",
                "GO\r\n",
                "CREATE STATISTICS Stats_Customer_AccountNumber \r\n",
                "ON Sales.Customer (AccountNumber) WITH FULLSCAN;"
            ],
            "metadata": {
                "azdata_cell_guid": "eb835083-7f78-4b57-a676-ce96efe7cf1f"
            },
            "outputs": [
                {
                    "output_type": "display_data",
                    "data": {
                        "text/html": "Commands completed successfully."
                    },
                    "metadata": {}
                },
                {
                    "output_type": "display_data",
                    "data": {
                        "text/html": "Commands completed successfully."
                    },
                    "metadata": {}
                },
                {
                    "output_type": "display_data",
                    "data": {
                        "text/html": "Total execution time: 00:00:00.129"
                    },
                    "metadata": {}
                }
            ],
            "execution_count": 1
        }
    ]
}