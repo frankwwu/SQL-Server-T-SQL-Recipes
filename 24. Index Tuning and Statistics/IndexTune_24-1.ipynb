{
    "metadata": {
        "kernelspec": {
            "name": "SQL",
            "display_name": "SQL",
            "language": "sql"
        },
        "language_info": {
            "name": "sql",
            "version": ""
        }
    },
    "nbformat_minor": 2,
    "nbformat": 4,
    "cells": [
        {
            "cell_type": "code",
            "source": [
                "/* 24-1 */\r\n",
                "USE AdventureWorks2014;\r\n",
                "GO\r\n",
                "SELECT OBJECT_NAME(object_id) ObjectName,\r\n",
                "index_id,\r\n",
                "index_type_desc,\r\n",
                "avg_fragmentation_in_percent \r\n",
                "FROM sys.dm_db_index_physical_stats (DB_ID('AdventureWorks2014'),NULL, NULL, NULL, 'LIMITED') \r\n",
                "WHERE avg_fragmentation_in_percent > 30 \r\n",
                "ORDER BY OBJECT_NAME(object_id);"
            ],
            "metadata": {
                "azdata_cell_guid": "4a4e02c9-a8e1-4898-9738-7bb44499329a"
            },
            "outputs": [
                {
                    "output_type": "display_data",
                    "data": {
                        "text/html": "Commands completed successfully."
                    },
                    "metadata": {}
                },
                {
                    "output_type": "display_data",
                    "data": {
                        "text/html": "(38 rows affected)"
                    },
                    "metadata": {}
                },
                {
                    "output_type": "display_data",
                    "data": {
                        "text/html": "Total execution time: 00:00:00.231"
                    },
                    "metadata": {}
                },
                {
                    "output_type": "execute_result",
                    "metadata": {},
                    "execution_count": 1,
                    "data": {
                        "application/vnd.dataresource+json": {
                            "schema": {
                                "fields": [
                                    {
                                        "name": "ObjectName"
                                    },
                                    {
                                        "name": "index_id"
                                    },
                                    {
                                        "name": "index_type_desc"
                                    },
                                    {
                                        "name": "avg_fragmentation_in_percent"
                                    }
                                ]
                            },
                            "data": [
                                {
                                    "0": "BillOfMaterials",
                                    "1": "2",
                                    "2": "NONCLUSTERED INDEX",
                                    "3": "33.33333333333333"
                                },
                                {
                                    "0": "BusinessEntityContact",
                                    "1": "1",
                                    "2": "CLUSTERED INDEX",
                                    "3": "50"
                                },
                                {
                                    "0": "BusinessEntityContact",
                                    "1": "2",
                                    "2": "NONCLUSTERED INDEX",
                                    "3": "75"
                                },
                                {
                                    "0": "BusinessEntityContact",
                                    "1": "3",
                                    "2": "NONCLUSTERED INDEX",
                                    "3": "66.66666666666666"
                                },
                                {
                                    "0": "BusinessEntityContact",
                                    "1": "4",
                                    "2": "NONCLUSTERED INDEX",
                                    "3": "66.66666666666666"
                                },
                                {
                                    "0": "CountryRegion",
                                    "1": "1",
                                    "2": "CLUSTERED INDEX",
                                    "3": "50"
                                },
                                {
                                    "0": "CountryRegion",
                                    "1": "2",
                                    "2": "NONCLUSTERED INDEX",
                                    "3": "50"
                                },
                                {
                                    "0": "DatabaseLog",
                                    "1": "0",
                                    "2": "HEAP",
                                    "3": "30.303030303030305"
                                },
                                {
                                    "0": "DatabaseLog",
                                    "1": "2",
                                    "2": "NONCLUSTERED INDEX",
                                    "3": "75"
                                },
                                {
                                    "0": "Employee",
                                    "1": "4",
                                    "2": "NONCLUSTERED INDEX",
                                    "3": "66.66666666666666"
                                },
                                {
                                    "0": "Employee",
                                    "1": "5",
                                    "2": "NONCLUSTERED INDEX",
                                    "3": "50"
                                },
                                {
                                    "0": "EmployeeDepartmentHistory",
                                    "1": "1",
                                    "2": "CLUSTERED INDEX",
                                    "3": "50"
                                },
                                {
                                    "0": "EmployeePayHistory",
                                    "1": "1",
                                    "2": "CLUSTERED INDEX",
                                    "3": "50"
                                },
                                {
                                    "0": "EmployeePayHistory",
                                    "1": "2",
                                    "2": "NONCLUSTERED INDEX",
                                    "3": "50"
                                },
                                {
                                    "0": "JobCandidate",
                                    "1": "1",
                                    "2": "CLUSTERED INDEX",
                                    "3": "36.36363636363637"
                                },
                                {
                                    "0": "Product",
                                    "1": "2",
                                    "2": "NONCLUSTERED INDEX",
                                    "3": "50"
                                },
                                {
                                    "0": "Product",
                                    "1": "4",
                                    "2": "NONCLUSTERED INDEX",
                                    "3": "50"
                                },
                                {
                                    "0": "ProductCostHistory",
                                    "1": "1",
                                    "2": "CLUSTERED INDEX",
                                    "3": "66.66666666666666"
                                },
                                {
                                    "0": "ProductDescription",
                                    "1": "2",
                                    "2": "NONCLUSTERED INDEX",
                                    "3": "66.66666666666666"
                                },
                                {
                                    "0": "ProductInventory",
                                    "1": "1",
                                    "2": "CLUSTERED INDEX",
                                    "3": "57.14285714285714"
                                },
                                {
                                    "0": "ProductListPriceHistory",
                                    "1": "1",
                                    "2": "CLUSTERED INDEX",
                                    "3": "66.66666666666666"
                                },
                                {
                                    "0": "ProductModelProductDescriptionCulture",
                                    "1": "1",
                                    "2": "CLUSTERED INDEX",
                                    "3": "50"
                                },
                                {
                                    "0": "ProductProductPhoto",
                                    "1": "2",
                                    "2": "NONCLUSTERED INDEX",
                                    "3": "50"
                                },
                                {
                                    "0": "ProductReview",
                                    "1": "1",
                                    "2": "CLUSTERED INDEX",
                                    "3": "50"
                                },
                                {
                                    "0": "ProductReview",
                                    "1": "2",
                                    "2": "NONCLUSTERED INDEX",
                                    "3": "66.66666666666666"
                                },
                                {
                                    "0": "ProductVendor",
                                    "1": "1",
                                    "2": "CLUSTERED INDEX",
                                    "3": "40"
                                },
                                {
                                    "0": "ProductVendor",
                                    "1": "2",
                                    "2": "NONCLUSTERED INDEX",
                                    "3": "50"
                                },
                                {
                                    "0": "SalesOrderDetail",
                                    "1": "6",
                                    "2": "NONCLUSTERED INDEX",
                                    "3": "33.33333333333333"
                                },
                                {
                                    "0": "SalesOrderDetail",
                                    "1": "8",
                                    "2": "NONCLUSTERED INDEX",
                                    "3": "50"
                                },
                                {
                                    "0": "SalesPersonQuotaHistory",
                                    "1": "1",
                                    "2": "CLUSTERED INDEX",
                                    "3": "50"
                                },
                                {
                                    "0": "SpecialOfferProduct",
                                    "1": "1",
                                    "2": "CLUSTERED INDEX",
                                    "3": "66.66666666666666"
                                },
                                {
                                    "0": "SpecialOfferProduct",
                                    "1": "2",
                                    "2": "NONCLUSTERED INDEX",
                                    "3": "50"
                                },
                                {
                                    "0": "StateProvince",
                                    "1": "1",
                                    "2": "CLUSTERED INDEX",
                                    "3": "50"
                                },
                                {
                                    "0": "Store",
                                    "1": "2",
                                    "2": "NONCLUSTERED INDEX",
                                    "3": "66.66666666666666"
                                },
                                {
                                    "0": "Store",
                                    "1": "3",
                                    "2": "NONCLUSTERED INDEX",
                                    "3": "50"
                                },
                                {
                                    "0": "TransactionHistoryArchive",
                                    "1": "2",
                                    "2": "NONCLUSTERED INDEX",
                                    "3": "80.1556420233463"
                                },
                                {
                                    "0": "Vendor",
                                    "1": "1",
                                    "2": "CLUSTERED INDEX",
                                    "3": "66.66666666666666"
                                },
                                {
                                    "0": "vStateProvinceCountryRegion",
                                    "1": "1",
                                    "2": "CLUSTERED INDEX",
                                    "3": "50"
                                }
                            ]
                        },
                        "text/html": [
                            "<table>",
                            "<tr><th>ObjectName</th><th>index_id</th><th>index_type_desc</th><th>avg_fragmentation_in_percent</th></tr>",
                            "<tr><td>BillOfMaterials</td><td>2</td><td>NONCLUSTERED INDEX</td><td>33.33333333333333</td></tr>",
                            "<tr><td>BusinessEntityContact</td><td>1</td><td>CLUSTERED INDEX</td><td>50</td></tr>",
                            "<tr><td>BusinessEntityContact</td><td>2</td><td>NONCLUSTERED INDEX</td><td>75</td></tr>",
                            "<tr><td>BusinessEntityContact</td><td>3</td><td>NONCLUSTERED INDEX</td><td>66.66666666666666</td></tr>",
                            "<tr><td>BusinessEntityContact</td><td>4</td><td>NONCLUSTERED INDEX</td><td>66.66666666666666</td></tr>",
                            "<tr><td>CountryRegion</td><td>1</td><td>CLUSTERED INDEX</td><td>50</td></tr>",
                            "<tr><td>CountryRegion</td><td>2</td><td>NONCLUSTERED INDEX</td><td>50</td></tr>",
                            "<tr><td>DatabaseLog</td><td>0</td><td>HEAP</td><td>30.303030303030305</td></tr>",
                            "<tr><td>DatabaseLog</td><td>2</td><td>NONCLUSTERED INDEX</td><td>75</td></tr>",
                            "<tr><td>Employee</td><td>4</td><td>NONCLUSTERED INDEX</td><td>66.66666666666666</td></tr>",
                            "<tr><td>Employee</td><td>5</td><td>NONCLUSTERED INDEX</td><td>50</td></tr>",
                            "<tr><td>EmployeeDepartmentHistory</td><td>1</td><td>CLUSTERED INDEX</td><td>50</td></tr>",
                            "<tr><td>EmployeePayHistory</td><td>1</td><td>CLUSTERED INDEX</td><td>50</td></tr>",
                            "<tr><td>EmployeePayHistory</td><td>2</td><td>NONCLUSTERED INDEX</td><td>50</td></tr>",
                            "<tr><td>JobCandidate</td><td>1</td><td>CLUSTERED INDEX</td><td>36.36363636363637</td></tr>",
                            "<tr><td>Product</td><td>2</td><td>NONCLUSTERED INDEX</td><td>50</td></tr>",
                            "<tr><td>Product</td><td>4</td><td>NONCLUSTERED INDEX</td><td>50</td></tr>",
                            "<tr><td>ProductCostHistory</td><td>1</td><td>CLUSTERED INDEX</td><td>66.66666666666666</td></tr>",
                            "<tr><td>ProductDescription</td><td>2</td><td>NONCLUSTERED INDEX</td><td>66.66666666666666</td></tr>",
                            "<tr><td>ProductInventory</td><td>1</td><td>CLUSTERED INDEX</td><td>57.14285714285714</td></tr>",
                            "<tr><td>ProductListPriceHistory</td><td>1</td><td>CLUSTERED INDEX</td><td>66.66666666666666</td></tr>",
                            "<tr><td>ProductModelProductDescriptionCulture</td><td>1</td><td>CLUSTERED INDEX</td><td>50</td></tr>",
                            "<tr><td>ProductProductPhoto</td><td>2</td><td>NONCLUSTERED INDEX</td><td>50</td></tr>",
                            "<tr><td>ProductReview</td><td>1</td><td>CLUSTERED INDEX</td><td>50</td></tr>",
                            "<tr><td>ProductReview</td><td>2</td><td>NONCLUSTERED INDEX</td><td>66.66666666666666</td></tr>",
                            "<tr><td>ProductVendor</td><td>1</td><td>CLUSTERED INDEX</td><td>40</td></tr>",
                            "<tr><td>ProductVendor</td><td>2</td><td>NONCLUSTERED INDEX</td><td>50</td></tr>",
                            "<tr><td>SalesOrderDetail</td><td>6</td><td>NONCLUSTERED INDEX</td><td>33.33333333333333</td></tr>",
                            "<tr><td>SalesOrderDetail</td><td>8</td><td>NONCLUSTERED INDEX</td><td>50</td></tr>",
                            "<tr><td>SalesPersonQuotaHistory</td><td>1</td><td>CLUSTERED INDEX</td><td>50</td></tr>",
                            "<tr><td>SpecialOfferProduct</td><td>1</td><td>CLUSTERED INDEX</td><td>66.66666666666666</td></tr>",
                            "<tr><td>SpecialOfferProduct</td><td>2</td><td>NONCLUSTERED INDEX</td><td>50</td></tr>",
                            "<tr><td>StateProvince</td><td>1</td><td>CLUSTERED INDEX</td><td>50</td></tr>",
                            "<tr><td>Store</td><td>2</td><td>NONCLUSTERED INDEX</td><td>66.66666666666666</td></tr>",
                            "<tr><td>Store</td><td>3</td><td>NONCLUSTERED INDEX</td><td>50</td></tr>",
                            "<tr><td>TransactionHistoryArchive</td><td>2</td><td>NONCLUSTERED INDEX</td><td>80.1556420233463</td></tr>",
                            "<tr><td>Vendor</td><td>1</td><td>CLUSTERED INDEX</td><td>66.66666666666666</td></tr>",
                            "<tr><td>vStateProvinceCountryRegion</td><td>1</td><td>CLUSTERED INDEX</td><td>50</td></tr>",
                            "</table>"
                        ]
                    },
                    "batchId": 1,
                    "id": 0,
                    "queryRunnerUri": "queryRunner-untitled:notebook-editor-36"
                }
            ],
            "execution_count": 1
        },
        {
            "cell_type": "code",
            "source": [
                "/* example 2 */\r\n",
                "USE AdventureWorks2014;\r\n",
                "GO\r\n",
                "SELECT OBJECT_NAME(f.object_id) ObjectName,\r\n",
                "        i.name IndexName,\r\n",
                "        f.index_type_desc,\r\n",
                "        f.avg_fragmentation_in_percent\r\n",
                "FROM sys.dm_db_index_physical_stats\r\n",
                "        (DB_ID('AdventureWorks2014'), OBJECT_ID('Production.ProductDescription'), 2, NULL, 'LIMITED')  f\r\n",
                "INNER JOIN sys.indexes i \r\n",
                "        ON i.object_id = f.object_id \r\n",
                "        AND i.index_id = f.index_id;"
            ],
            "metadata": {
                "azdata_cell_guid": "565cba26-22bf-48f1-8a44-11e065b87267"
            },
            "outputs": [
                {
                    "output_type": "display_data",
                    "data": {
                        "text/html": "Commands completed successfully."
                    },
                    "metadata": {}
                },
                {
                    "output_type": "display_data",
                    "data": {
                        "text/html": "(1 row affected)"
                    },
                    "metadata": {}
                },
                {
                    "output_type": "display_data",
                    "data": {
                        "text/html": "Total execution time: 00:00:00.027"
                    },
                    "metadata": {}
                },
                {
                    "output_type": "execute_result",
                    "metadata": {},
                    "execution_count": 2,
                    "data": {
                        "application/vnd.dataresource+json": {
                            "schema": {
                                "fields": [
                                    {
                                        "name": "ObjectName"
                                    },
                                    {
                                        "name": "IndexName"
                                    },
                                    {
                                        "name": "index_type_desc"
                                    },
                                    {
                                        "name": "avg_fragmentation_in_percent"
                                    }
                                ]
                            },
                            "data": [
                                {
                                    "0": "ProductDescription",
                                    "1": "AK_ProductDescription_rowguid",
                                    "2": "NONCLUSTERED INDEX",
                                    "3": "66.66666666666666"
                                }
                            ]
                        },
                        "text/html": [
                            "<table>",
                            "<tr><th>ObjectName</th><th>IndexName</th><th>index_type_desc</th><th>avg_fragmentation_in_percent</th></tr>",
                            "<tr><td>ProductDescription</td><td>AK_ProductDescription_rowguid</td><td>NONCLUSTERED INDEX</td><td>66.66666666666666</td></tr>",
                            "</table>"
                        ]
                    },
                    "batchId": 1,
                    "id": 0,
                    "queryRunnerUri": "queryRunner-untitled:notebook-editor-37"
                }
            ],
            "execution_count": 2
        }
    ]
}