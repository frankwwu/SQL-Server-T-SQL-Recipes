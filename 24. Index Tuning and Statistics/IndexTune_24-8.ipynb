{
    "metadata": {
        "kernelspec": {
            "name": "SQL",
            "display_name": "SQL",
            "language": "sql"
        },
        "language_info": {
            "name": "sql",
            "version": ""
        }
    },
    "nbformat_minor": 2,
    "nbformat": 4,
    "cells": [
        {
            "cell_type": "code",
            "source": [
                "/* 24-8 */\r\n",
                "USE AdventureWorks2014;\r\n",
                "GO\r\n",
                "UPDATE STATISTICS Sales.Customer \r\n",
                "WITH FULLSCAN;"
            ],
            "metadata": {
                "azdata_cell_guid": "fd174bcc-4797-46f0-81ba-542ed7a4c194"
            },
            "outputs": [
                {
                    "output_type": "display_data",
                    "data": {
                        "text/html": "Commands completed successfully."
                    },
                    "metadata": {}
                },
                {
                    "output_type": "display_data",
                    "data": {
                        "text/html": "Commands completed successfully."
                    },
                    "metadata": {}
                },
                {
                    "output_type": "display_data",
                    "data": {
                        "text/html": "Total execution time: 00:00:00.145"
                    },
                    "metadata": {}
                }
            ],
            "execution_count": 1
        },
        {
            "cell_type": "code",
            "source": [
                "/* partitioned table setup from chapter 15 */\r\n",
                "\r\n",
                "EXECUTE xp_create_subdir 'C:\\Apress'; \r\n",
                "\r\n",
                "IF DB_ID('MegaCorpData') IS NOT NULL DROP DATABASE MegaCorpData; \r\n",
                "GO"
            ],
            "metadata": {
                "azdata_cell_guid": "92b250a5-d837-47cd-b62f-1363b7b13cc4"
            },
            "outputs": [
                {
                    "output_type": "display_data",
                    "data": {
                        "text/html": "Commands completed successfully."
                    },
                    "metadata": {}
                },
                {
                    "output_type": "display_data",
                    "data": {
                        "text/html": "Total execution time: 00:00:00.007"
                    },
                    "metadata": {}
                }
            ],
            "execution_count": 2
        },
        {
            "cell_type": "code",
            "source": [
                "CREATE DATABASE MegaCorpData \r\n",
                "ON PRIMARY \r\n",
                "(NAME = 'MegaCorpData', \r\n",
                " FILENAME = 'C:\\Apress\\MegaCorpData.MDF', \r\n",
                " SIZE = 3MB, \r\n",
                " MAXSIZE = UNLIMITED, \r\n",
                " FILEGROWTH = 1MB) \r\n",
                "LOG ON \r\n",
                "(NAME = 'MegaCorpData_Log', \r\n",
                " FILENAME = 'C:\\Apress\\MegaCorpData.LDF', \r\n",
                " SIZE = 3MB, \r\n",
                " MAXSIZE = UNLIMITED, \r\n",
                " FILEGROWTH = 1MB); \r\n",
                "GO \r\n",
                "ALTER DATABASE MegaCorpData ADD FILEGROUP hitfg1; \r\n",
                "ALTER DATABASE MegaCorpData ADD FILEGROUP hitfg2; \r\n",
                "ALTER DATABASE MegaCorpData ADD FILEGROUP hitfg3; \r\n",
                "ALTER DATABASE MegaCorpData ADD FILEGROUP hitfg4; \r\n",
                "ALTER DATABASE MegaCorpData  \r\n",
                "ADD FILE (NAME = mchitfg1,  \r\n",
                "          FILENAME = 'C:\\Apress\\mc_hitfg1.ndf',  \r\n",
                "          SIZE = 1MB)  \r\n",
                "TO FILEGROUP hitfg1; \r\n",
                "ALTER DATABASE MegaCorpData  \r\n",
                "ADD FILE (NAME = mchitfg2,  \r\n",
                "          FILENAME = 'C:\\Apress\\mc_hitfg2.ndf',  \r\n",
                "          SIZE = 1MB)  \r\n",
                "TO FILEGROUP hitfg2; \r\n",
                "ALTER DATABASE MegaCorpData  \r\n",
                "ADD FILE (NAME = mchitfg3,  \r\n",
                "          FILENAME = 'C:\\Apress\\mc_hitfg3.ndf',  \r\n",
                "          SIZE = 1MB)  \r\n",
                "TO FILEGROUP hitfg3; \r\n",
                "ALTER DATABASE MegaCorpData  \r\n",
                "ADD FILE (NAME = mchitfg4,  \r\n",
                "          FILENAME = 'C:\\Apress\\mc_hitfg4.ndf',  \r\n",
                "          SIZE = 1MB)  \r\n",
                "TO FILEGROUP hitfg4; \r\n",
                "USE MegaCorpData; \r\n",
                "GO \r\n",
                "CREATE PARTITION FUNCTION HitsDateRange (datetime) \r\n",
                "AS RANGE LEFT FOR VALUES ('2006-01-01T00:00:00', '2007-01-01T00:00:00', '2008-01-01T00:00:00'); \r\n",
                "CREATE PARTITION SCHEME HitDateRangeScheme \r\n",
                "AS PARTITION HitsDateRange \r\n",
                "TO (hitfg1, hitfg2, hitfg3, hitfg4); \r\n",
                "\r\n",
                "CREATE TABLE dbo.WebSiteHits ( \r\n",
                "    WebSiteHitID BIGINT NOT NULL IDENTITY(1, 1),  \r\n",
                "    WebSitePage VARCHAR(255) NOT NULL, \r\n",
                "    HitDate DATETIME NOT NULL, \r\n",
                "    CONSTRAINT PK_WebSiteHits PRIMARY KEY CLUSTERED (WebSiteHitId, HitDate) \r\n",
                ") \r\n",
                "ON [HitDateRangeScheme] (HitDate); "
            ],
            "metadata": {
                "azdata_cell_guid": "9f260a6e-5bd3-4d1c-addc-67be26ef08e2"
            },
            "outputs": [
                {
                    "output_type": "display_data",
                    "data": {
                        "text/html": "Commands completed successfully."
                    },
                    "metadata": {}
                },
                {
                    "output_type": "display_data",
                    "data": {
                        "text/html": "Commands completed successfully."
                    },
                    "metadata": {}
                },
                {
                    "output_type": "display_data",
                    "data": {
                        "text/html": "Commands completed successfully."
                    },
                    "metadata": {}
                },
                {
                    "output_type": "display_data",
                    "data": {
                        "text/html": "Total execution time: 00:00:00.621"
                    },
                    "metadata": {}
                }
            ],
            "execution_count": 3
        },
        {
            "cell_type": "code",
            "source": [
                "/* update by partition */\r\n",
                "USE MegaCorpData;\r\n",
                "GO\r\n",
                "UPDATE STATISTICS dbo.WebSiteHits\r\n",
                "WITH INCREMENTAL = ON;"
            ],
            "metadata": {
                "azdata_cell_guid": "fbcf410c-08fb-4863-acd5-4a7e47acb0bc"
            },
            "outputs": [
                {
                    "output_type": "display_data",
                    "data": {
                        "text/html": "Commands completed successfully."
                    },
                    "metadata": {}
                },
                {
                    "output_type": "display_data",
                    "data": {
                        "text/html": "Commands completed successfully."
                    },
                    "metadata": {}
                },
                {
                    "output_type": "display_data",
                    "data": {
                        "text/html": "Total execution time: 00:00:00.020"
                    },
                    "metadata": {}
                }
            ],
            "execution_count": 4
        }
    ]
}