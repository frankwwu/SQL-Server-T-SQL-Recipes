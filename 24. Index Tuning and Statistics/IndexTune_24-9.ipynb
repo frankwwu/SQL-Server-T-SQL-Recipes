{
    "metadata": {
        "kernelspec": {
            "name": "SQL",
            "display_name": "SQL",
            "language": "sql"
        },
        "language_info": {
            "name": "sql",
            "version": ""
        }
    },
    "nbformat_minor": 2,
    "nbformat": 4,
    "cells": [
        {
            "cell_type": "code",
            "source": [
                "/* 24-9 */\r\n",
                "USE AdventureWorks2014;\r\n",
                "GO\r\n",
                "EXECUTE sp_createstats;\r\n",
                "GO"
            ],
            "metadata": {
                "azdata_cell_guid": "956a6f06-c16a-4ba7-9079-bc06a296a4e2"
            },
            "outputs": [
                {
                    "output_type": "display_data",
                    "data": {
                        "text/html": "Commands completed successfully."
                    },
                    "metadata": {}
                },
                {
                    "output_type": "display_data",
                    "data": {
                        "text/html": "Table 'AdventureWorks2014.sys.xml_index_nodes_1765581328_256000': No columns without statistics found."
                    },
                    "metadata": {}
                },
                {
                    "output_type": "display_data",
                    "data": {
                        "text/html": "Table 'AdventureWorks2014.Production.ScrapReason': No columns without statistics found."
                    },
                    "metadata": {}
                },
                {
                    "output_type": "display_data",
                    "data": {
                        "text/html": "Table 'AdventureWorks2014.sys.xml_index_nodes_1765581328_256001': No columns without statistics found."
                    },
                    "metadata": {}
                },
                {
                    "output_type": "display_data",
                    "data": {
                        "text/html": "Table 'AdventureWorks2014.sys.xml_index_nodes_526624919_256000': No columns without statistics found."
                    },
                    "metadata": {}
                },
                {
                    "output_type": "display_data",
                    "data": {
                        "text/html": "Table 'AdventureWorks2014.HumanResources.Shift': No columns without statistics found."
                    },
                    "metadata": {}
                },
                {
                    "output_type": "display_data",
                    "data": {
                        "text/html": "Table 'AdventureWorks2014.sys.xml_index_nodes_418100530_256000': No columns without statistics found."
                    },
                    "metadata": {}
                },
                {
                    "output_type": "display_data",
                    "data": {
                        "text/html": "Table 'AdventureWorks2014.Production.ProductCategory': No columns without statistics found."
                    },
                    "metadata": {}
                },
                {
                    "output_type": "display_data",
                    "data": {
                        "text/html": "Table 'AdventureWorks2014.sys.xml_index_nodes_418100530_256001': No columns without statistics found."
                    },
                    "metadata": {}
                },
                {
                    "output_type": "display_data",
                    "data": {
                        "text/html": "Table 'AdventureWorks2014.Purchasing.ShipMethod': No columns without statistics found."
                    },
                    "metadata": {}
                },
                {
                    "output_type": "display_data",
                    "data": {
                        "text/html": "Table 'AdventureWorks2014.sys.fulltext_index_docidstatus_610101214': No columns without statistics found."
                    },
                    "metadata": {}
                },
                {
                    "output_type": "display_data",
                    "data": {
                        "text/html": "Table 'AdventureWorks2014.sys.sqlagent_jobs': No columns without statistics found."
                    },
                    "metadata": {}
                },
                {
                    "output_type": "display_data",
                    "data": {
                        "text/html": "Table 'AdventureWorks2014.sys.fulltext_docidfilter_610101214': No columns without statistics found."
                    },
                    "metadata": {}
                },
                {
                    "output_type": "display_data",
                    "data": {
                        "text/html": "Table 'AdventureWorks2014.Production.ProductCostHistory': No columns without statistics found."
                    },
                    "metadata": {}
                },
                {
                    "output_type": "display_data",
                    "data": {
                        "text/html": "Table 'AdventureWorks2014.sys.sqlagent_jobsteps': No columns without statistics found."
                    },
                    "metadata": {}
                },
                {
                    "output_type": "display_data",
                    "data": {
                        "text/html": "Table 'AdventureWorks2014.sys.fulltext_indexeddocid_610101214': No columns without statistics found."
                    },
                    "metadata": {}
                },
                {
                    "output_type": "display_data",
                    "data": {
                        "text/html": "Table 'AdventureWorks2014.sys.sqlagent_job_history': No columns without statistics found."
                    },
                    "metadata": {}
                },
                {
                    "output_type": "display_data",
                    "data": {
                        "text/html": "Table 'AdventureWorks2014.sys.fulltext_avdl_610101214': No columns without statistics found."
                    },
                    "metadata": {}
                },
                {
                    "output_type": "display_data",
                    "data": {
                        "text/html": "Table 'AdventureWorks2014.sys.sqlagent_jobsteps_logs': No columns without statistics found."
                    },
                    "metadata": {}
                },
                {
                    "output_type": "display_data",
                    "data": {
                        "text/html": "Table 'AdventureWorks2014.sys.fulltext_index_docidstatus_1589580701': No columns without statistics found."
                    },
                    "metadata": {}
                },
                {
                    "output_type": "display_data",
                    "data": {
                        "text/html": "Table 'AdventureWorks2014.sys.fulltext_docidfilter_1589580701': No columns without statistics found."
                    },
                    "metadata": {}
                },
                {
                    "output_type": "display_data",
                    "data": {
                        "text/html": "Table 'AdventureWorks2014.Production.ProductDescription': No columns without statistics found."
                    },
                    "metadata": {}
                },
                {
                    "output_type": "display_data",
                    "data": {
                        "text/html": "Table 'AdventureWorks2014.sys.fulltext_indexeddocid_1589580701': No columns without statistics found."
                    },
                    "metadata": {}
                },
                {
                    "output_type": "display_data",
                    "data": {
                        "text/html": "Table 'AdventureWorks2014.Sales.ShoppingCartItem': No columns without statistics found."
                    },
                    "metadata": {}
                },
                {
                    "output_type": "display_data",
                    "data": {
                        "text/html": "Table 'AdventureWorks2014.sys.fulltext_avdl_1589580701': No columns without statistics found."
                    },
                    "metadata": {}
                },
                {
                    "output_type": "display_data",
                    "data": {
                        "text/html": "Table 'AdventureWorks2014.sys.fulltext_index_docidmap_1077578877': No columns without statistics found."
                    },
                    "metadata": {}
                },
                {
                    "output_type": "display_data",
                    "data": {
                        "text/html": "Table 'AdventureWorks2014.Production.ProductDocument': No columns without statistics found."
                    },
                    "metadata": {}
                },
                {
                    "output_type": "display_data",
                    "data": {
                        "text/html": "Table 'AdventureWorks2014.sys.fulltext_index_docidstatus_1077578877': No columns without statistics found."
                    },
                    "metadata": {}
                },
                {
                    "output_type": "display_data",
                    "data": {
                        "text/html": "Table 'AdventureWorks2014.dbo.DatabaseLog': No columns without statistics found."
                    },
                    "metadata": {}
                },
                {
                    "output_type": "display_data",
                    "data": {
                        "text/html": "Table 'AdventureWorks2014.sys.fulltext_docidfilter_1077578877': No columns without statistics found."
                    },
                    "metadata": {}
                },
                {
                    "output_type": "display_data",
                    "data": {
                        "text/html": "Table 'AdventureWorks2014.Production.ProductInventory': No columns without statistics found."
                    },
                    "metadata": {}
                },
                {
                    "output_type": "display_data",
                    "data": {
                        "text/html": "Table 'AdventureWorks2014.sys.fulltext_indexeddocid_1077578877': No columns without statistics found."
                    },
                    "metadata": {}
                },
                {
                    "output_type": "display_data",
                    "data": {
                        "text/html": "Table 'AdventureWorks2014.Sales.SpecialOffer': No columns without statistics found."
                    },
                    "metadata": {}
                },
                {
                    "output_type": "display_data",
                    "data": {
                        "text/html": "Table 'AdventureWorks2014.dbo.ErrorLog': No columns without statistics found."
                    },
                    "metadata": {}
                },
                {
                    "output_type": "display_data",
                    "data": {
                        "text/html": "Table 'AdventureWorks2014.sys.fulltext_avdl_1077578877': No columns without statistics found."
                    },
                    "metadata": {}
                },
                {
                    "output_type": "display_data",
                    "data": {
                        "text/html": "Table 'AdventureWorks2014.Production.ProductListPriceHistory': No columns without statistics found."
                    },
                    "metadata": {}
                },
                {
                    "output_type": "display_data",
                    "data": {
                        "text/html": "Table 'AdventureWorks2014.Person.Address': No columns without statistics found."
                    },
                    "metadata": {}
                },
                {
                    "output_type": "display_data",
                    "data": {
                        "text/html": "Table 'AdventureWorks2014.Sales.SpecialOfferProduct': No columns without statistics found."
                    },
                    "metadata": {}
                },
                {
                    "output_type": "display_data",
                    "data": {
                        "text/html": "Table 'AdventureWorks2014.Production.ProductModel': No columns without statistics found."
                    },
                    "metadata": {}
                },
                {
                    "output_type": "display_data",
                    "data": {
                        "text/html": "Table 'AdventureWorks2014.Person.AddressType': No columns without statistics found."
                    },
                    "metadata": {}
                },
                {
                    "output_type": "display_data",
                    "data": {
                        "text/html": "Table 'AdventureWorks2014.Person.StateProvince': No columns without statistics found."
                    },
                    "metadata": {}
                },
                {
                    "output_type": "display_data",
                    "data": {
                        "text/html": "Table 'AdventureWorks2014.Production.ProductModelIllustration': No columns without statistics found."
                    },
                    "metadata": {}
                },
                {
                    "output_type": "display_data",
                    "data": {
                        "text/html": "Table 'AdventureWorks2014.dbo.AWBuildVersion': No columns without statistics found."
                    },
                    "metadata": {}
                },
                {
                    "output_type": "display_data",
                    "data": {
                        "text/html": "Table 'AdventureWorks2014.Production.ProductModelProductDescriptionCulture': No columns without statistics found."
                    },
                    "metadata": {}
                },
                {
                    "output_type": "display_data",
                    "data": {
                        "text/html": "Table 'AdventureWorks2014.Production.BillOfMaterials': No columns without statistics found."
                    },
                    "metadata": {}
                },
                {
                    "output_type": "display_data",
                    "data": {
                        "text/html": "Table 'AdventureWorks2014.sys.ifts_comp_fragment_610101214_4': No columns without statistics found."
                    },
                    "metadata": {}
                },
                {
                    "output_type": "display_data",
                    "data": {
                        "text/html": "Table 'AdventureWorks2014.sys.ifts_comp_fragment_1077578877_3': No columns without statistics found."
                    },
                    "metadata": {}
                },
                {
                    "output_type": "display_data",
                    "data": {
                        "text/html": "Table 'AdventureWorks2014.Sales.Store': No columns without statistics found."
                    },
                    "metadata": {}
                },
                {
                    "output_type": "display_data",
                    "data": {
                        "text/html": "Table 'AdventureWorks2014.Production.ProductPhoto': No columns without statistics found."
                    },
                    "metadata": {}
                },
                {
                    "output_type": "display_data",
                    "data": {
                        "text/html": "Table 'AdventureWorks2014.sys.ifts_comp_fragment_1589580701_5': No columns without statistics found."
                    },
                    "metadata": {}
                },
                {
                    "output_type": "display_data",
                    "data": {
                        "text/html": "Table 'AdventureWorks2014.dbo.Person': No columns without statistics found."
                    },
                    "metadata": {}
                },
                {
                    "output_type": "display_data",
                    "data": {
                        "text/html": "Table 'AdventureWorks2014.Production.ProductProductPhoto': No columns without statistics found."
                    },
                    "metadata": {}
                },
                {
                    "output_type": "display_data",
                    "data": {
                        "text/html": "Table 'AdventureWorks2014.Production.TransactionHistory': No columns without statistics found."
                    },
                    "metadata": {}
                },
                {
                    "output_type": "display_data",
                    "data": {
                        "text/html": "Table 'AdventureWorks2014.dbo.PhoneNumberType': No columns without statistics found."
                    },
                    "metadata": {}
                },
                {
                    "output_type": "display_data",
                    "data": {
                        "text/html": "Table 'AdventureWorks2014.Production.ProductReview': No columns without statistics found."
                    },
                    "metadata": {}
                },
                {
                    "output_type": "display_data",
                    "data": {
                        "text/html": "Table 'AdventureWorks2014.sys.plan_persist_query_text': No columns without statistics found."
                    },
                    "metadata": {}
                },
                {
                    "output_type": "display_data",
                    "data": {
                        "text/html": "Table 'AdventureWorks2014.Person.BusinessEntity': No columns without statistics found."
                    },
                    "metadata": {}
                },
                {
                    "output_type": "display_data",
                    "data": {
                        "text/html": "Table 'AdventureWorks2014.sys.plan_persist_query': No columns without statistics found."
                    },
                    "metadata": {}
                },
                {
                    "output_type": "display_data",
                    "data": {
                        "text/html": "Table 'AdventureWorks2014.sys.plan_persist_plan': No columns without statistics found."
                    },
                    "metadata": {}
                },
                {
                    "output_type": "display_data",
                    "data": {
                        "text/html": "Table 'AdventureWorks2014.Production.TransactionHistoryArchive': No columns without statistics found."
                    },
                    "metadata": {}
                },
                {
                    "output_type": "display_data",
                    "data": {
                        "text/html": "Table 'AdventureWorks2014.sys.plan_persist_runtime_stats': No columns without statistics found."
                    },
                    "metadata": {}
                },
                {
                    "output_type": "display_data",
                    "data": {
                        "text/html": "Table 'AdventureWorks2014.Production.ProductSubcategory': No columns without statistics found."
                    },
                    "metadata": {}
                },
                {
                    "output_type": "display_data",
                    "data": {
                        "text/html": "Table 'AdventureWorks2014.Person.BusinessEntityAddress': No columns without statistics found."
                    },
                    "metadata": {}
                },
                {
                    "output_type": "display_data",
                    "data": {
                        "text/html": "Table 'AdventureWorks2014.sys.plan_persist_runtime_stats_interval': No columns without statistics found."
                    },
                    "metadata": {}
                },
                {
                    "output_type": "display_data",
                    "data": {
                        "text/html": "Table 'AdventureWorks2014.sys.plan_persist_context_settings': No columns without statistics found."
                    },
                    "metadata": {}
                },
                {
                    "output_type": "display_data",
                    "data": {
                        "text/html": "Table 'AdventureWorks2014.sys.plan_persist_query_hints': No columns without statistics found."
                    },
                    "metadata": {}
                },
                {
                    "output_type": "display_data",
                    "data": {
                        "text/html": "Table 'AdventureWorks2014.Purchasing.ProductVendor': No columns without statistics found."
                    },
                    "metadata": {}
                },
                {
                    "output_type": "display_data",
                    "data": {
                        "text/html": "Table 'AdventureWorks2014.Person.BusinessEntityContact': No columns without statistics found."
                    },
                    "metadata": {}
                },
                {
                    "output_type": "display_data",
                    "data": {
                        "text/html": "Table 'AdventureWorks2014.sys.plan_persist_query_template_parameterization': No columns without statistics found."
                    },
                    "metadata": {}
                },
                {
                    "output_type": "display_data",
                    "data": {
                        "text/html": "Table 'AdventureWorks2014.Production.UnitMeasure': No columns without statistics found."
                    },
                    "metadata": {}
                },
                {
                    "output_type": "display_data",
                    "data": {
                        "text/html": "Table 'AdventureWorks2014.sys.plan_persist_wait_stats': No columns without statistics found."
                    },
                    "metadata": {}
                },
                {
                    "output_type": "display_data",
                    "data": {
                        "text/html": "Table 'AdventureWorks2014.Purchasing.Vendor': No columns without statistics found."
                    },
                    "metadata": {}
                },
                {
                    "output_type": "display_data",
                    "data": {
                        "text/html": "Table 'AdventureWorks2014.Person.ContactType': No columns without statistics found."
                    },
                    "metadata": {}
                },
                {
                    "output_type": "display_data",
                    "data": {
                        "text/html": "Table 'AdventureWorks2014.sys.wpr_bucket_table': No columns without statistics found."
                    },
                    "metadata": {}
                },
                {
                    "output_type": "display_data",
                    "data": {
                        "text/html": "Table 'AdventureWorks2014.Sales.CountryRegionCurrency': No columns without statistics found."
                    },
                    "metadata": {}
                },
                {
                    "output_type": "display_data",
                    "data": {
                        "text/html": "Table 'AdventureWorks2014.Person.CountryRegion': No columns without statistics found."
                    },
                    "metadata": {}
                },
                {
                    "output_type": "display_data",
                    "data": {
                        "text/html": "Table 'AdventureWorks2014.Production.WorkOrder': No columns without statistics found."
                    },
                    "metadata": {}
                },
                {
                    "output_type": "display_data",
                    "data": {
                        "text/html": "Table 'AdventureWorks2014.Purchasing.PurchaseOrderDetail': No columns without statistics found."
                    },
                    "metadata": {}
                },
                {
                    "output_type": "display_data",
                    "data": {
                        "text/html": "Table 'AdventureWorks2014.Sales.CreditCard': No columns without statistics found."
                    },
                    "metadata": {}
                },
                {
                    "output_type": "display_data",
                    "data": {
                        "text/html": "Table 'AdventureWorks2014.Production.Culture': No columns without statistics found."
                    },
                    "metadata": {}
                },
                {
                    "output_type": "display_data",
                    "data": {
                        "text/html": "Table 'AdventureWorks2014.Production.WorkOrderRouting': No columns without statistics found."
                    },
                    "metadata": {}
                },
                {
                    "output_type": "display_data",
                    "data": {
                        "text/html": "Table 'AdventureWorks2014.Sales.Currency': No columns without statistics found."
                    },
                    "metadata": {}
                },
                {
                    "output_type": "display_data",
                    "data": {
                        "text/html": "Table 'AdventureWorks2014.dbo.UntypedXML': No columns without statistics found."
                    },
                    "metadata": {}
                },
                {
                    "output_type": "display_data",
                    "data": {
                        "text/html": "Table 'AdventureWorks2014.Purchasing.PurchaseOrderHeader': No columns without statistics found."
                    },
                    "metadata": {}
                },
                {
                    "output_type": "display_data",
                    "data": {
                        "text/html": "Table 'AdventureWorks2014.Sales.CurrencyRate': No columns without statistics found."
                    },
                    "metadata": {}
                },
                {
                    "output_type": "display_data",
                    "data": {
                        "text/html": "Table 'AdventureWorks2014.dbo.TypedXML_VS': No columns without statistics found."
                    },
                    "metadata": {}
                },
                {
                    "output_type": "display_data",
                    "data": {
                        "text/html": "Table 'AdventureWorks2014.Sales.Customer': No columns without statistics found."
                    },
                    "metadata": {}
                },
                {
                    "output_type": "display_data",
                    "data": {
                        "text/html": "Table 'AdventureWorks2014.HumanResources.Department': No columns without statistics found."
                    },
                    "metadata": {}
                },
                {
                    "output_type": "display_data",
                    "data": {
                        "text/html": "Table 'AdventureWorks2014.dbo.DimProductSalesperson': No columns without statistics found."
                    },
                    "metadata": {}
                },
                {
                    "output_type": "display_data",
                    "data": {
                        "text/html": "Table 'AdventureWorks2014.Production.Document': No columns without statistics found."
                    },
                    "metadata": {}
                },
                {
                    "output_type": "display_data",
                    "data": {
                        "text/html": "Table 'AdventureWorks2014.dbo.Staging_PRODSLSP': No columns without statistics found."
                    },
                    "metadata": {}
                },
                {
                    "output_type": "display_data",
                    "data": {
                        "text/html": "Table 'AdventureWorks2014.Sales.SalesOrderDetail': No columns without statistics found."
                    },
                    "metadata": {}
                },
                {
                    "output_type": "display_data",
                    "data": {
                        "text/html": "Table 'AdventureWorks2014.dbo.InventoryAccount': No columns without statistics found."
                    },
                    "metadata": {}
                },
                {
                    "output_type": "display_data",
                    "data": {
                        "text/html": "Table 'AdventureWorks2014.dbo.CustomerAccount': No columns without statistics found."
                    },
                    "metadata": {}
                },
                {
                    "output_type": "display_data",
                    "data": {
                        "text/html": "Table 'AdventureWorks2014.Person.EmailAddress': No columns without statistics found."
                    },
                    "metadata": {}
                },
                {
                    "output_type": "display_data",
                    "data": {
                        "text/html": "Table 'AdventureWorks2014.HumanResources.Employee': No columns without statistics found."
                    },
                    "metadata": {}
                },
                {
                    "output_type": "display_data",
                    "data": {
                        "text/html": "Table 'AdventureWorks2014.Sales.SalesOrderHeader': No columns without statistics found."
                    },
                    "metadata": {}
                },
                {
                    "output_type": "display_data",
                    "data": {
                        "text/html": "Table 'AdventureWorks2014.HumanResources.EmployeeDepartmentHistory': No columns without statistics found."
                    },
                    "metadata": {}
                },
                {
                    "output_type": "display_data",
                    "data": {
                        "text/html": "Table 'AdventureWorks2014.HumanResources.EmployeePayHistory': No columns without statistics found."
                    },
                    "metadata": {}
                },
                {
                    "output_type": "display_data",
                    "data": {
                        "text/html": "Table 'AdventureWorks2014.Sales.SalesOrderHeaderSalesReason': No columns without statistics found."
                    },
                    "metadata": {}
                },
                {
                    "output_type": "display_data",
                    "data": {
                        "text/html": "Table 'AdventureWorks2014.Sales.SalesPerson': No columns without statistics found."
                    },
                    "metadata": {}
                },
                {
                    "output_type": "display_data",
                    "data": {
                        "text/html": "Table 'AdventureWorks2014.Production.Illustration': No columns without statistics found."
                    },
                    "metadata": {}
                },
                {
                    "output_type": "display_data",
                    "data": {
                        "text/html": "Table 'AdventureWorks2014.HumanResources.JobCandidate': No columns without statistics found."
                    },
                    "metadata": {}
                },
                {
                    "output_type": "display_data",
                    "data": {
                        "text/html": "Table 'AdventureWorks2014.Production.Location': No columns without statistics found."
                    },
                    "metadata": {}
                },
                {
                    "output_type": "display_data",
                    "data": {
                        "text/html": "Table 'AdventureWorks2014.dbo.Heap_Shift': No columns without statistics found."
                    },
                    "metadata": {}
                },
                {
                    "output_type": "display_data",
                    "data": {
                        "text/html": "Table 'AdventureWorks2014.Person.Password': No columns without statistics found."
                    },
                    "metadata": {}
                },
                {
                    "output_type": "display_data",
                    "data": {
                        "text/html": "Table 'AdventureWorks2014.Sales.SalesPersonQuotaHistory': No columns without statistics found."
                    },
                    "metadata": {}
                },
                {
                    "output_type": "display_data",
                    "data": {
                        "text/html": "Table 'AdventureWorks2014.Person.Person': No columns without statistics found."
                    },
                    "metadata": {}
                },
                {
                    "output_type": "display_data",
                    "data": {
                        "text/html": "Table 'AdventureWorks2014.Sales.SalesReason': No columns without statistics found."
                    },
                    "metadata": {}
                },
                {
                    "output_type": "display_data",
                    "data": {
                        "text/html": "Table 'AdventureWorks2014.Sales.SalesTaxRate': No columns without statistics found."
                    },
                    "metadata": {}
                },
                {
                    "output_type": "display_data",
                    "data": {
                        "text/html": "Table 'AdventureWorks2014.Sales.PersonCreditCard': No columns without statistics found."
                    },
                    "metadata": {}
                },
                {
                    "output_type": "display_data",
                    "data": {
                        "text/html": "Table 'AdventureWorks2014.Person.PersonPhone': No columns without statistics found."
                    },
                    "metadata": {}
                },
                {
                    "output_type": "display_data",
                    "data": {
                        "text/html": "Table 'AdventureWorks2014.Sales.SalesTerritory': No columns without statistics found."
                    },
                    "metadata": {}
                },
                {
                    "output_type": "display_data",
                    "data": {
                        "text/html": "Table 'AdventureWorks2014.Person.PhoneNumberType': No columns without statistics found."
                    },
                    "metadata": {}
                },
                {
                    "output_type": "display_data",
                    "data": {
                        "text/html": "Table 'AdventureWorks2014.Production.Product': No columns without statistics found."
                    },
                    "metadata": {}
                },
                {
                    "output_type": "display_data",
                    "data": {
                        "text/html": "Table 'AdventureWorks2014.sys.queue_messages_1977058079': No columns without statistics found."
                    },
                    "metadata": {}
                },
                {
                    "output_type": "display_data",
                    "data": {
                        "text/html": "Table 'AdventureWorks2014.sys.queue_messages_2009058193': No columns without statistics found."
                    },
                    "metadata": {}
                },
                {
                    "output_type": "display_data",
                    "data": {
                        "text/html": "Table 'AdventureWorks2014.sys.queue_messages_2041058307': No columns without statistics found."
                    },
                    "metadata": {}
                },
                {
                    "output_type": "display_data",
                    "data": {
                        "text/html": "Table 'AdventureWorks2014.sys.filestream_tombstone_2073058421': No columns without statistics found."
                    },
                    "metadata": {}
                },
                {
                    "output_type": "display_data",
                    "data": {
                        "text/html": "Table 'AdventureWorks2014.sys.syscommittab': No columns without statistics found."
                    },
                    "metadata": {}
                },
                {
                    "output_type": "display_data",
                    "data": {
                        "text/html": "Table 'AdventureWorks2014.Sales.SalesTerritoryHistory': No columns without statistics found."
                    },
                    "metadata": {}
                },
                {
                    "output_type": "display_data",
                    "data": {
                        "text/html": "Table 'AdventureWorks2014.sys.filetable_updates_2105058535': No columns without statistics found."
                    },
                    "metadata": {}
                },
                {
                    "output_type": "display_data",
                    "data": {
                        "text/html": " "
                    },
                    "metadata": {}
                },
                {
                    "output_type": "display_data",
                    "data": {
                        "text/html": "Statistics have been created for the 0 listed columns of the above tables."
                    },
                    "metadata": {}
                },
                {
                    "output_type": "display_data",
                    "data": {
                        "text/html": "Total execution time: 00:00:00.425"
                    },
                    "metadata": {}
                }
            ],
            "execution_count": 1
        }
    ]
}