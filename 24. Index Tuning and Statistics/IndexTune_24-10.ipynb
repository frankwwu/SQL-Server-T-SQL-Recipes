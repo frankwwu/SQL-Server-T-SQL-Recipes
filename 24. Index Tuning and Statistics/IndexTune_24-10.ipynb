{
    "metadata": {
        "kernelspec": {
            "name": "SQL",
            "display_name": "SQL",
            "language": "sql"
        },
        "language_info": {
            "name": "sql",
            "version": ""
        }
    },
    "nbformat_minor": 2,
    "nbformat": 4,
    "cells": [
        {
            "cell_type": "code",
            "source": [
                "/* 24-10 */\r\n",
                "USE AdventureWorks2014;\r\n",
                "GO\r\n",
                "EXECUTE sp_updatestats;\r\n",
                "GO"
            ],
            "metadata": {
                "azdata_cell_guid": "07b28162-eb81-47d4-a184-9c464bc0457a"
            },
            "outputs": [
                {
                    "output_type": "display_data",
                    "data": {
                        "text/html": "Commands completed successfully."
                    },
                    "metadata": {}
                }
            ],
            "execution_count": null
        }
    ]
}