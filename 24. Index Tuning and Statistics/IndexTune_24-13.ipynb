{
    "metadata": {
        "kernelspec": {
            "name": "SQL",
            "display_name": "SQL",
            "language": "sql"
        },
        "language_info": {
            "name": "sql",
            "version": ""
        }
    },
    "nbformat_minor": 2,
    "nbformat": 4,
    "cells": [
        {
            "cell_type": "code",
            "source": [
                "/* 24-13 */\r\n",
                "-- Create database and turn auto create statistics off\r\n",
                "USE master;\r\n",
                "GO"
            ],
            "metadata": {
                "azdata_cell_guid": "bbaadb92-e28c-4089-98ea-f7e871031e64"
            },
            "outputs": [
                {
                    "output_type": "display_data",
                    "data": {
                        "text/html": "Commands completed successfully."
                    },
                    "metadata": {}
                },
                {
                    "output_type": "display_data",
                    "data": {
                        "text/html": "Total execution time: 00:00:00.001"
                    },
                    "metadata": {}
                }
            ],
            "execution_count": 1
        },
        {
            "cell_type": "code",
            "source": [
                "ALTER DATABASE AdventureWorks2014 \r\n",
                "SET AUTO_CREATE_STATISTICS OFF WITH NO_WAIT\r\n",
                "GO"
            ],
            "metadata": {
                "azdata_cell_guid": "78b0fd18-e8d2-4fbe-af14-d6e49a2a1994"
            },
            "outputs": [
                {
                    "output_type": "display_data",
                    "data": {
                        "text/html": "Commands completed successfully."
                    },
                    "metadata": {}
                },
                {
                    "output_type": "display_data",
                    "data": {
                        "text/html": "Total execution time: 00:00:00.002"
                    },
                    "metadata": {}
                }
            ],
            "execution_count": 2
        },
        {
            "cell_type": "code",
            "source": [
                "USE master;\r\n",
                "GO\r\n",
                "-- Create the Event Session\r\n",
                "IF EXISTS(SELECT * \r\n",
                "          FROM sys.server_event_sessions \r\n",
                "          WHERE name='MissingColumnStats')\r\n",
                "    DROP EVENT SESSION MissingColumnStats \r\n",
                "    ON SERVER;\r\n",
                "GO"
            ],
            "metadata": {
                "azdata_cell_guid": "215ca213-c1f6-4f0a-8480-cf5b8e1b025d"
            },
            "outputs": [
                {
                    "output_type": "display_data",
                    "data": {
                        "text/html": "Commands completed successfully."
                    },
                    "metadata": {}
                },
                {
                    "output_type": "display_data",
                    "data": {
                        "text/html": "Commands completed successfully."
                    },
                    "metadata": {}
                },
                {
                    "output_type": "display_data",
                    "data": {
                        "text/html": "Total execution time: 00:00:00.005"
                    },
                    "metadata": {}
                }
            ],
            "execution_count": 3
        },
        {
            "cell_type": "code",
            "source": [
                "-- Create XEvent session\r\n",
                "CREATE EVENT SESSION [MissingColumnStats] ON SERVER \r\n",
                "ADD EVENT sqlserver.missing_column_statistics(SET collect_column_list=(1)\r\n",
                "ACTION(sqlserver.sql_text, sqlserver.database_name)) \r\n",
                "ADD TARGET package0.event_file(SET filename=N'C:\\Database\\XE\\MissingColumnStats.xel')\r\n",
                "GO"
            ],
            "metadata": {
                "azdata_cell_guid": "283945c3-e075-4cec-9cb1-82c39d2af558"
            },
            "outputs": [
                {
                    "output_type": "display_data",
                    "data": {
                        "text/html": "Commands completed successfully."
                    },
                    "metadata": {}
                },
                {
                    "output_type": "display_data",
                    "data": {
                        "text/html": "Total execution time: 00:00:00.009"
                    },
                    "metadata": {}
                }
            ],
            "execution_count": 4
        },
        {
            "cell_type": "code",
            "source": [
                "--Start XEvent session\r\n",
                "ALTER EVENT SESSION [MissingColumnStats]\r\n",
                "ON SERVER\r\n",
                "STATE = START\r\n",
                "GO"
            ],
            "metadata": {
                "azdata_cell_guid": "82bd52cc-43a2-46c8-b7f0-447b28fd0d98"
            },
            "outputs": [
                {
                    "output_type": "error",
                    "evalue": "Msg 25602, Level 17, State 0, Line 2\r\nThe target, \"5B2DA06D-898A-43C8-9309-39BBBE93EBBD.package0.event_file\", encountered a configuration error during initialization. Object cannot be added to the event session. The operating system returned error 3: 'The system cannot find the path specified.\r\n' while creating the file 'C:\\Database\\XE\\MissingColumnStats_0_132477023748090000.xel'.",
                    "ename": "",
                    "traceback": []
                },
                {
                    "output_type": "display_data",
                    "data": {
                        "text/html": "Total execution time: 00:00:00.008"
                    },
                    "metadata": {}
                }
            ],
            "execution_count": 5
        },
        {
            "cell_type": "code",
            "source": [
                "/* baseline our stats */\r\n",
                "USE AdventureWorks2014;\r\n",
                "GO\r\n",
                "SELECT *\r\n",
                "\tFROM sys.stats\r\n",
                "\tWHERE OBJECT_NAME(object_id) = 'SalesOrderDetail';\r\n",
                "GO"
            ],
            "metadata": {
                "azdata_cell_guid": "b2e43360-f2d3-4bf4-93fe-d67ae7407c91"
            },
            "outputs": [
                {
                    "output_type": "display_data",
                    "data": {
                        "text/html": "Commands completed successfully."
                    },
                    "metadata": {}
                },
                {
                    "output_type": "display_data",
                    "data": {
                        "text/html": "(13 rows affected)"
                    },
                    "metadata": {}
                },
                {
                    "output_type": "display_data",
                    "data": {
                        "text/html": "Total execution time: 00:00:00.033"
                    },
                    "metadata": {}
                },
                {
                    "output_type": "execute_result",
                    "metadata": {},
                    "execution_count": 6,
                    "data": {
                        "application/vnd.dataresource+json": {
                            "schema": {
                                "fields": [
                                    {
                                        "name": "object_id"
                                    },
                                    {
                                        "name": "name"
                                    },
                                    {
                                        "name": "stats_id"
                                    },
                                    {
                                        "name": "auto_created"
                                    },
                                    {
                                        "name": "user_created"
                                    },
                                    {
                                        "name": "no_recompute"
                                    },
                                    {
                                        "name": "has_filter"
                                    },
                                    {
                                        "name": "filter_definition"
                                    },
                                    {
                                        "name": "is_temporary"
                                    },
                                    {
                                        "name": "is_incremental"
                                    },
                                    {
                                        "name": "has_persisted_sample"
                                    },
                                    {
                                        "name": "stats_generation_method"
                                    },
                                    {
                                        "name": "stats_generation_method_desc"
                                    }
                                ]
                            },
                            "data": [
                                {
                                    "0": "1154103152",
                                    "1": "PK_SalesOrderDetail_SalesOrderID_SalesOrderDetailID",
                                    "2": "1",
                                    "3": "0",
                                    "4": "0",
                                    "5": "0",
                                    "6": "0",
                                    "7": "NULL",
                                    "8": "0",
                                    "9": "0",
                                    "10": "0",
                                    "11": "0",
                                    "12": "Sort based statistics"
                                },
                                {
                                    "0": "1154103152",
                                    "1": "AK_SalesOrderDetail_rowguid",
                                    "2": "2",
                                    "3": "0",
                                    "4": "0",
                                    "5": "0",
                                    "6": "0",
                                    "7": "NULL",
                                    "8": "0",
                                    "9": "0",
                                    "10": "0",
                                    "11": "0",
                                    "12": "Sort based statistics"
                                },
                                {
                                    "0": "1154103152",
                                    "1": "IX_SalesOrderDetail_ProductID",
                                    "2": "3",
                                    "3": "0",
                                    "4": "0",
                                    "5": "0",
                                    "6": "0",
                                    "7": "NULL",
                                    "8": "0",
                                    "9": "0",
                                    "10": "0",
                                    "11": "0",
                                    "12": "Sort based statistics"
                                },
                                {
                                    "0": "1154103152",
                                    "1": "_WA_Sys_00000006_44CA3770",
                                    "2": "4",
                                    "3": "1",
                                    "4": "0",
                                    "5": "0",
                                    "6": "0",
                                    "7": "NULL",
                                    "8": "0",
                                    "9": "0",
                                    "10": "0",
                                    "11": "0",
                                    "12": "Sort based statistics"
                                },
                                {
                                    "0": "1154103152",
                                    "1": "_WA_Sys_00000007_44CA3770",
                                    "2": "5",
                                    "3": "1",
                                    "4": "0",
                                    "5": "0",
                                    "6": "0",
                                    "7": "NULL",
                                    "8": "0",
                                    "9": "0",
                                    "10": "0",
                                    "11": "0",
                                    "12": "Sort based statistics"
                                },
                                {
                                    "0": "1154103152",
                                    "1": "NCI_UnitPrice_SalesOrderDetail",
                                    "2": "6",
                                    "3": "0",
                                    "4": "0",
                                    "5": "0",
                                    "6": "1",
                                    "7": "([UnitPrice]>=(150.00) AND [UnitPrice]<=(175.00))",
                                    "8": "0",
                                    "9": "0",
                                    "10": "0",
                                    "11": "0",
                                    "12": "Sort based statistics"
                                },
                                {
                                    "0": "1154103152",
                                    "1": "_WA_Sys_00000004_44CA3770",
                                    "2": "7",
                                    "3": "1",
                                    "4": "0",
                                    "5": "0",
                                    "6": "0",
                                    "7": "NULL",
                                    "8": "0",
                                    "9": "0",
                                    "10": "0",
                                    "11": "0",
                                    "12": "Sort based statistics"
                                },
                                {
                                    "0": "1154103152",
                                    "1": "NCI_ProductID_SalesOrderDetail",
                                    "2": "8",
                                    "3": "0",
                                    "4": "0",
                                    "5": "0",
                                    "6": "1",
                                    "7": "([ProductID] IN ((776), (777)))",
                                    "8": "0",
                                    "9": "0",
                                    "10": "0",
                                    "11": "0",
                                    "12": "Sort based statistics"
                                },
                                {
                                    "0": "1154103152",
                                    "1": "NCI_SalesOrderDetail_CarrierTrackingNumber",
                                    "2": "9",
                                    "3": "0",
                                    "4": "0",
                                    "5": "0",
                                    "6": "0",
                                    "7": "NULL",
                                    "8": "0",
                                    "9": "0",
                                    "10": "0",
                                    "11": "0",
                                    "12": "Sort based statistics"
                                },
                                {
                                    "0": "1154103152",
                                    "1": "SalesOrderDetailID",
                                    "2": "11",
                                    "3": "0",
                                    "4": "1",
                                    "5": "0",
                                    "6": "0",
                                    "7": "NULL",
                                    "8": "0",
                                    "9": "0",
                                    "10": "0",
                                    "11": "0",
                                    "12": "Sort based statistics"
                                },
                                {
                                    "0": "1154103152",
                                    "1": "UnitPriceDiscount",
                                    "2": "12",
                                    "3": "0",
                                    "4": "1",
                                    "5": "0",
                                    "6": "0",
                                    "7": "NULL",
                                    "8": "0",
                                    "9": "0",
                                    "10": "0",
                                    "11": "0",
                                    "12": "Sort based statistics"
                                },
                                {
                                    "0": "1154103152",
                                    "1": "LineTotal",
                                    "2": "13",
                                    "3": "0",
                                    "4": "1",
                                    "5": "0",
                                    "6": "0",
                                    "7": "NULL",
                                    "8": "0",
                                    "9": "0",
                                    "10": "0",
                                    "11": "0",
                                    "12": "Sort based statistics"
                                },
                                {
                                    "0": "1154103152",
                                    "1": "ModifiedDate",
                                    "2": "14",
                                    "3": "0",
                                    "4": "1",
                                    "5": "0",
                                    "6": "0",
                                    "7": "NULL",
                                    "8": "0",
                                    "9": "0",
                                    "10": "0",
                                    "11": "0",
                                    "12": "Sort based statistics"
                                }
                            ]
                        },
                        "text/html": [
                            "<table>",
                            "<tr><th>object_id</th><th>name</th><th>stats_id</th><th>auto_created</th><th>user_created</th><th>no_recompute</th><th>has_filter</th><th>filter_definition</th><th>is_temporary</th><th>is_incremental</th><th>has_persisted_sample</th><th>stats_generation_method</th><th>stats_generation_method_desc</th></tr>",
                            "<tr><td>1154103152</td><td>PK_SalesOrderDetail_SalesOrderID_SalesOrderDetailID</td><td>1</td><td>0</td><td>0</td><td>0</td><td>0</td><td>NULL</td><td>0</td><td>0</td><td>0</td><td>0</td><td>Sort based statistics</td></tr>",
                            "<tr><td>1154103152</td><td>AK_SalesOrderDetail_rowguid</td><td>2</td><td>0</td><td>0</td><td>0</td><td>0</td><td>NULL</td><td>0</td><td>0</td><td>0</td><td>0</td><td>Sort based statistics</td></tr>",
                            "<tr><td>1154103152</td><td>IX_SalesOrderDetail_ProductID</td><td>3</td><td>0</td><td>0</td><td>0</td><td>0</td><td>NULL</td><td>0</td><td>0</td><td>0</td><td>0</td><td>Sort based statistics</td></tr>",
                            "<tr><td>1154103152</td><td>_WA_Sys_00000006_44CA3770</td><td>4</td><td>1</td><td>0</td><td>0</td><td>0</td><td>NULL</td><td>0</td><td>0</td><td>0</td><td>0</td><td>Sort based statistics</td></tr>",
                            "<tr><td>1154103152</td><td>_WA_Sys_00000007_44CA3770</td><td>5</td><td>1</td><td>0</td><td>0</td><td>0</td><td>NULL</td><td>0</td><td>0</td><td>0</td><td>0</td><td>Sort based statistics</td></tr>",
                            "<tr><td>1154103152</td><td>NCI_UnitPrice_SalesOrderDetail</td><td>6</td><td>0</td><td>0</td><td>0</td><td>1</td><td>([UnitPrice]&gt;=(150.00) AND [UnitPrice]&lt;=(175.00))</td><td>0</td><td>0</td><td>0</td><td>0</td><td>Sort based statistics</td></tr>",
                            "<tr><td>1154103152</td><td>_WA_Sys_00000004_44CA3770</td><td>7</td><td>1</td><td>0</td><td>0</td><td>0</td><td>NULL</td><td>0</td><td>0</td><td>0</td><td>0</td><td>Sort based statistics</td></tr>",
                            "<tr><td>1154103152</td><td>NCI_ProductID_SalesOrderDetail</td><td>8</td><td>0</td><td>0</td><td>0</td><td>1</td><td>([ProductID] IN ((776), (777)))</td><td>0</td><td>0</td><td>0</td><td>0</td><td>Sort based statistics</td></tr>",
                            "<tr><td>1154103152</td><td>NCI_SalesOrderDetail_CarrierTrackingNumber</td><td>9</td><td>0</td><td>0</td><td>0</td><td>0</td><td>NULL</td><td>0</td><td>0</td><td>0</td><td>0</td><td>Sort based statistics</td></tr>",
                            "<tr><td>1154103152</td><td>SalesOrderDetailID</td><td>11</td><td>0</td><td>1</td><td>0</td><td>0</td><td>NULL</td><td>0</td><td>0</td><td>0</td><td>0</td><td>Sort based statistics</td></tr>",
                            "<tr><td>1154103152</td><td>UnitPriceDiscount</td><td>12</td><td>0</td><td>1</td><td>0</td><td>0</td><td>NULL</td><td>0</td><td>0</td><td>0</td><td>0</td><td>Sort based statistics</td></tr>",
                            "<tr><td>1154103152</td><td>LineTotal</td><td>13</td><td>0</td><td>1</td><td>0</td><td>0</td><td>NULL</td><td>0</td><td>0</td><td>0</td><td>0</td><td>Sort based statistics</td></tr>",
                            "<tr><td>1154103152</td><td>ModifiedDate</td><td>14</td><td>0</td><td>1</td><td>0</td><td>0</td><td>NULL</td><td>0</td><td>0</td><td>0</td><td>0</td><td>Sort based statistics</td></tr>",
                            "</table>"
                        ]
                    }
                }
            ],
            "execution_count": 6
        },
        {
            "cell_type": "code",
            "source": [
                "/* Run a query that should generate some statistics need */\r\n",
                "USE AdventureWorks2014;\r\n",
                "GO\r\n",
                "Select Unitprice\r\n",
                "\tFrom Sales.SalesOrderDetail \r\n",
                "\tWHERE UnitPrice >= 1000.00 AND UnitPrice <= 1500.00;\r\n",
                "GO"
            ],
            "metadata": {
                "azdata_cell_guid": "a272e6e3-42ec-44a0-99b7-4f95216ac3bc"
            },
            "outputs": [
                {
                    "output_type": "display_data",
                    "data": {
                        "text/html": "Commands completed successfully."
                    },
                    "metadata": {}
                },
                {
                    "output_type": "display_data",
                    "data": {
                        "text/html": "(9582 rows affected)"
                    },
                    "metadata": {}
                },
                {
                    "output_type": "display_data",
                    "data": {
                        "text/html": "Displaying Top 5000 rows."
                    },
                    "metadata": {}
                },
                {
                    "output_type": "display_data",
                    "data": {
                        "text/html": "Total execution time: 00:00:00.119"
                    },
                    "metadata": {}
                },
                {
                    "output_type": "execute_result",
                    "metadata": {},
                    "execution_count": 7,
                    "data": {
                        "application/vnd.dataresource+json": {
                            "schema": {
                                "fields": [
                                    {
                                        "name": "Unitprice"
                                    }
                                ]
                            },
                            "data": [
                                {
                                    "0": "1229.4589"
                                },
                                {
                                    "0": "1229.4589"
                                },
                                {
                                    "0": "1242.8518"
                                },
                                {
                                    "0": "1242.8518"
                                },
                                {
                                    "0": "1242.8518"
                                },
                                {
                                    "0": "1466.0100"
                                },
                                {
                                    "0": "1308.9375"
                                },
                                {
                                    "0": "1466.0100"
                                },
                                {
                                    "0": "1308.9375"
                                },
                                {
                                    "0": "1466.0100"
                                },
                                {
                                    "0": "1308.9375"
                                },
                                {
                                    "0": "1242.8518"
                                },
                                {
                                    "0": "1229.4589"
                                },
                                {
                                    "0": "1229.4589"
                                },
                                {
                                    "0": "1242.8518"
                                },
                                {
                                    "0": "1229.4589"
                                },
                                {
                                    "0": "1242.8518"
                                },
                                {
                                    "0": "1229.4589"
                                },
                                {
                                    "0": "1242.8518"
                                },
                                {
                                    "0": "1242.8518"
                                },
                                {
                                    "0": "1242.8518"
                                },
                                {
                                    "0": "1188.4770"
                                },
                                {
                                    "0": "1229.4589"
                                },
                                {
                                    "0": "1229.4589"
                                },
                                {
                                    "0": "1242.8518"
                                },
                                {
                                    "0": "1242.8518"
                                },
                                {
                                    "0": "1308.9375"
                                },
                                {
                                    "0": "1466.0100"
                                },
                                {
                                    "0": "1308.9375"
                                },
                                {
                                    "0": "1466.0100"
                                },
                                {
                                    "0": "1466.0100"
                                },
                                {
                                    "0": "1308.9375"
                                },
                                {
                                    "0": "1466.0100"
                                },
                                {
                                    "0": "1265.3063"
                                },
                                {
                                    "0": "1308.9375"
                                },
                                {
                                    "0": "1466.0100"
                                },
                                {
                                    "0": "1308.9375"
                                },
                                {
                                    "0": "1466.0100"
                                },
                                {
                                    "0": "1466.0100"
                                },
                                {
                                    "0": "1308.9375"
                                },
                                {
                                    "0": "1308.9375"
                                },
                                {
                                    "0": "1308.9375"
                                },
                                {
                                    "0": "1308.9375"
                                },
                                {
                                    "0": "1466.0100"
                                },
                                {
                                    "0": "1466.0100"
                                },
                                {
                                    "0": "1229.4589"
                                },
                                {
                                    "0": "1229.4589"
                                },
                                {
                                    "0": "1242.8518"
                                },
                                {
                                    "0": "1242.8518"
                                },
                                {
                                    "0": "1229.4589"
                                },
                                {
                                    "0": "1242.8518"
                                },
                                {
                                    "0": "1242.8518"
                                },
                                {
                                    "0": "1229.4589"
                                },
                                {
                                    "0": "1229.4589"
                                },
                                {
                                    "0": "1229.4589"
                                },
                                {
                                    "0": "1229.4589"
                                },
                                {
                                    "0": "1229.4589"
                                },
                                {
                                    "0": "1242.8518"
                                },
                                {
                                    "0": "1242.8518"
                                },
                                {
                                    "0": "1229.4589"
                                },
                                {
                                    "0": "1229.4589"
                                },
                                {
                                    "0": "1229.4589"
                                },
                                {
                                    "0": "1242.8518"
                                },
                                {
                                    "0": "1229.4589"
                                },
                                {
                                    "0": "1229.4589"
                                },
                                {
                                    "0": "1242.8518"
                                },
                                {
                                    "0": "1229.4589"
                                },
                                {
                                    "0": "1242.8518"
                                },
                                {
                                    "0": "1308.9375"
                                },
                                {
                                    "0": "1308.9375"
                                },
                                {
                                    "0": "1466.0100"
                                },
                                {
                                    "0": "1308.9375"
                                },
                                {
                                    "0": "1308.9375"
                                },
                                {
                                    "0": "1308.9375"
                                },
                                {
                                    "0": "1466.0100"
                                },
                                {
                                    "0": "1466.0100"
                                },
                                {
                                    "0": "1242.8518"
                                },
                                {
                                    "0": "1229.4589"
                                },
                                {
                                    "0": "1242.8518"
                                },
                                {
                                    "0": "1229.4589"
                                },
                                {
                                    "0": "1242.8518"
                                },
                                {
                                    "0": "1229.4589"
                                },
                                {
                                    "0": "1229.4589"
                                },
                                {
                                    "0": "1229.4589"
                                },
                                {
                                    "0": "1242.8518"
                                },
                                {
                                    "0": "1242.8518"
                                },
                                {
                                    "0": "1242.8518"
                                },
                                {
                                    "0": "1466.0100"
                                },
                                {
                                    "0": "1308.9375"
                                },
                                {
                                    "0": "1308.9375"
                                },
                                {
                                    "0": "1466.0100"
                                },
                                {
                                    "0": "1466.0100"
                                },
                                {
                                    "0": "1308.9375"
                                },
                                {
                                    "0": "1308.9375"
                                },
                                {
                                    "0": "1242.8518"
                                },
                                {
                                    "0": "1229.4589"
                                },
                                {
                                    "0": "1229.4589"
                                },
                                {
                                    "0": "1229.4589"
                                },
                                {
                                    "0": "1242.8518"
                                },
                                {
                                    "0": "1308.9375"
                                },
                                {
                                    "0": "1308.9375"
                                },
                                {
                                    "0": "1308.9375"
                                },
                                {
                                    "0": "1308.9375"
                                },
                                {
                                    "0": "1466.0100"
                                },
                                {
                                    "0": "1466.0100"
                                },
                                {
                                    "0": "1466.0100"
                                },
                                {
                                    "0": "1308.9375"
                                },
                                {
                                    "0": "1308.9375"
                                },
                                {
                                    "0": "1466.0100"
                                },
                                {
                                    "0": "1308.9375"
                                },
                                {
                                    "0": "1308.9375"
                                },
                                {
                                    "0": "1417.1430"
                                },
                                {
                                    "0": "1466.0100"
                                },
                                {
                                    "0": "1308.9375"
                                },
                                {
                                    "0": "1229.4589"
                                },
                                {
                                    "0": "1242.8518"
                                },
                                {
                                    "0": "1229.4589"
                                },
                                {
                                    "0": "1242.8518"
                                },
                                {
                                    "0": "1229.4589"
                                },
                                {
                                    "0": "1242.8518"
                                },
                                {
                                    "0": "1229.4589"
                                },
                                {
                                    "0": "1201.4234"
                                },
                                {
                                    "0": "1229.4589"
                                },
                                {
                                    "0": "1229.4589"
                                },
                                {
                                    "0": "1242.8518"
                                },
                                {
                                    "0": "1242.8518"
                                },
                                {
                                    "0": "1242.8518"
                                },
                                {
                                    "0": "1229.4589"
                                },
                                {
                                    "0": "1242.8518"
                                },
                                {
                                    "0": "1229.4589"
                                },
                                {
                                    "0": "1242.8518"
                                },
                                {
                                    "0": "1229.4589"
                                },
                                {
                                    "0": "1229.4589"
                                },
                                {
                                    "0": "1242.8518"
                                },
                                {
                                    "0": "1242.8518"
                                },
                                {
                                    "0": "1242.8518"
                                },
                                {
                                    "0": "1229.4589"
                                },
                                {
                                    "0": "1242.8518"
                                },
                                {
                                    "0": "1308.9375"
                                },
                                {
                                    "0": "1466.0100"
                                },
                                {
                                    "0": "1229.4589"
                                },
                                {
                                    "0": "1242.8518"
                                },
                                {
                                    "0": "1229.4589"
                                },
                                {
                                    "0": "1229.4589"
                                },
                                {
                                    "0": "1242.8518"
                                },
                                {
                                    "0": "1242.8518"
                                },
                                {
                                    "0": "1229.4589"
                                },
                                {
                                    "0": "1242.8518"
                                },
                                {
                                    "0": "1229.4589"
                                },
                                {
                                    "0": "1229.4589"
                                },
                                {
                                    "0": "1242.8518"
                                },
                                {
                                    "0": "1242.8518"
                                },
                                {
                                    "0": "1242.8518"
                                },
                                {
                                    "0": "1229.4589"
                                },
                                {
                                    "0": "1466.0100"
                                },
                                {
                                    "0": "1466.0100"
                                },
                                {
                                    "0": "1308.9375"
                                },
                                {
                                    "0": "1308.9375"
                                },
                                {
                                    "0": "1466.0100"
                                },
                                {
                                    "0": "1308.9375"
                                },
                                {
                                    "0": "1308.9375"
                                },
                                {
                                    "0": "1308.9375"
                                },
                                {
                                    "0": "1466.0100"
                                },
                                {
                                    "0": "1308.9375"
                                },
                                {
                                    "0": "1466.0100"
                                },
                                {
                                    "0": "1466.0100"
                                },
                                {
                                    "0": "1466.0100"
                                },
                                {
                                    "0": "1308.9375"
                                },
                                {
                                    "0": "1308.9375"
                                },
                                {
                                    "0": "1308.9375"
                                },
                                {
                                    "0": "1308.9375"
                                },
                                {
                                    "0": "1466.0100"
                                },
                                {
                                    "0": "1466.0100"
                                },
                                {
                                    "0": "1308.9375"
                                },
                                {
                                    "0": "1466.0100"
                                },
                                {
                                    "0": "1308.9375"
                                },
                                {
                                    "0": "1466.0100"
                                },
                                {
                                    "0": "1466.0100"
                                },
                                {
                                    "0": "1466.0100"
                                },
                                {
                                    "0": "1466.0100"
                                },
                                {
                                    "0": "1308.9375"
                                },
                                {
                                    "0": "1466.0100"
                                },
                                {
                                    "0": "1308.9375"
                                },
                                {
                                    "0": "1466.0100"
                                },
                                {
                                    "0": "1466.0100"
                                },
                                {
                                    "0": "1308.9375"
                                },
                                {
                                    "0": "1308.9375"
                                },
                                {
                                    "0": "1308.9375"
                                },
                                {
                                    "0": "1466.0100"
                                },
                                {
                                    "0": "1229.4589"
                                },
                                {
                                    "0": "1229.4589"
                                },
                                {
                                    "0": "1242.8518"
                                },
                                {
                                    "0": "1242.8518"
                                },
                                {
                                    "0": "1000.4375"
                                },
                                {
                                    "0": "1000.4375"
                                },
                                {
                                    "0": "1000.4375"
                                },
                                {
                                    "0": "1000.4375"
                                },
                                {
                                    "0": "1000.4375"
                                },
                                {
                                    "0": "1000.4375"
                                },
                                {
                                    "0": "1000.4375"
                                },
                                {
                                    "0": "1000.4375"
                                },
                                {
                                    "0": "1000.4375"
                                },
                                {
                                    "0": "1000.4375"
                                },
                                {
                                    "0": "1000.4375"
                                },
                                {
                                    "0": "1000.4375"
                                },
                                {
                                    "0": "1000.4375"
                                },
                                {
                                    "0": "1000.4375"
                                },
                                {
                                    "0": "1000.4375"
                                },
                                {
                                    "0": "1000.4375"
                                },
                                {
                                    "0": "1000.4375"
                                },
                                {
                                    "0": "1242.8518"
                                },
                                {
                                    "0": "1229.4589"
                                },
                                {
                                    "0": "1242.8518"
                                },
                                {
                                    "0": "1229.4589"
                                },
                                {
                                    "0": "1229.4589"
                                },
                                {
                                    "0": "1242.8518"
                                },
                                {
                                    "0": "1242.8518"
                                },
                                {
                                    "0": "1229.4589"
                                },
                                {
                                    "0": "1229.4589"
                                },
                                {
                                    "0": "1242.8518"
                                },
                                {
                                    "0": "1308.9375"
                                },
                                {
                                    "0": "1466.0100"
                                },
                                {
                                    "0": "1308.9375"
                                },
                                {
                                    "0": "1308.9375"
                                },
                                {
                                    "0": "1466.0100"
                                },
                                {
                                    "0": "1308.9375"
                                },
                                {
                                    "0": "1466.0100"
                                },
                                {
                                    "0": "1229.4589"
                                },
                                {
                                    "0": "1229.4589"
                                },
                                {
                                    "0": "1242.8518"
                                },
                                {
                                    "0": "1242.8518"
                                },
                                {
                                    "0": "1242.8518"
                                },
                                {
                                    "0": "1308.9375"
                                },
                                {
                                    "0": "1308.9375"
                                },
                                {
                                    "0": "1308.9375"
                                },
                                {
                                    "0": "1308.9375"
                                },
                                {
                                    "0": "1466.0100"
                                },
                                {
                                    "0": "1466.0100"
                                },
                                {
                                    "0": "1308.9375"
                                },
                                {
                                    "0": "1466.0100"
                                },
                                {
                                    "0": "1229.4589"
                                },
                                {
                                    "0": "1242.8518"
                                },
                                {
                                    "0": "1229.4589"
                                },
                                {
                                    "0": "1242.8518"
                                },
                                {
                                    "0": "1242.8518"
                                },
                                {
                                    "0": "1229.4589"
                                },
                                {
                                    "0": "1229.4589"
                                },
                                {
                                    "0": "1242.8518"
                                },
                                {
                                    "0": "1229.4589"
                                },
                                {
                                    "0": "1242.8518"
                                },
                                {
                                    "0": "1201.4234"
                                },
                                {
                                    "0": "1242.8518"
                                },
                                {
                                    "0": "1229.4589"
                                },
                                {
                                    "0": "1242.8518"
                                },
                                {
                                    "0": "1229.4589"
                                },
                                {
                                    "0": "1308.9375"
                                },
                                {
                                    "0": "1308.9375"
                                },
                                {
                                    "0": "1308.9375"
                                },
                                {
                                    "0": "1308.9375"
                                },
                                {
                                    "0": "1308.9375"
                                },
                                {
                                    "0": "1466.0100"
                                },
                                {
                                    "0": "1466.0100"
                                },
                                {
                                    "0": "1466.0100"
                                },
                                {
                                    "0": "1466.0100"
                                },
                                {
                                    "0": "1308.9375"
                                },
                                {
                                    "0": "1466.0100"
                                },
                                {
                                    "0": "1466.0100"
                                },
                                {
                                    "0": "1308.9375"
                                },
                                {
                                    "0": "1466.0100"
                                },
                                {
                                    "0": "1242.8518"
                                },
                                {
                                    "0": "1229.4589"
                                },
                                {
                                    "0": "1242.8518"
                                },
                                {
                                    "0": "1242.8518"
                                },
                                {
                                    "0": "1229.4589"
                                },
                                {
                                    "0": "1242.8518"
                                },
                                {
                                    "0": "1229.4589"
                                },
                                {
                                    "0": "1242.8518"
                                },
                                {
                                    "0": "1242.8518"
                                },
                                {
                                    "0": "1229.4589"
                                },
                                {
                                    "0": "1229.4589"
                                },
                                {
                                    "0": "1466.0100"
                                },
                                {
                                    "0": "1308.9375"
                                },
                                {
                                    "0": "1308.9375"
                                },
                                {
                                    "0": "1466.0100"
                                },
                                {
                                    "0": "1308.9375"
                                },
                                {
                                    "0": "1308.9375"
                                },
                                {
                                    "0": "1308.9375"
                                },
                                {
                                    "0": "1466.0100"
                                },
                                {
                                    "0": "1242.8518"
                                },
                                {
                                    "0": "1466.0100"
                                },
                                {
                                    "0": "1308.9375"
                                },
                                {
                                    "0": "1308.9375"
                                },
                                {
                                    "0": "1466.0100"
                                },
                                {
                                    "0": "1466.0100"
                                },
                                {
                                    "0": "1308.9375"
                                },
                                {
                                    "0": "1308.9375"
                                },
                                {
                                    "0": "1308.9375"
                                },
                                {
                                    "0": "1242.8518"
                                },
                                {
                                    "0": "1229.4589"
                                },
                                {
                                    "0": "1242.8518"
                                },
                                {
                                    "0": "1229.4589"
                                },
                                {
                                    "0": "1242.8518"
                                },
                                {
                                    "0": "1242.8518"
                                },
                                {
                                    "0": "1229.4589"
                                },
                                {
                                    "0": "1242.8518"
                                },
                                {
                                    "0": "1229.4589"
                                },
                                {
                                    "0": "1242.8518"
                                },
                                {
                                    "0": "1229.4589"
                                },
                                {
                                    "0": "1229.4589"
                                },
                                {
                                    "0": "1242.8518"
                                },
                                {
                                    "0": "1242.8518"
                                },
                                {
                                    "0": "1242.8518"
                                },
                                {
                                    "0": "1466.0100"
                                },
                                {
                                    "0": "1308.9375"
                                },
                                {
                                    "0": "1308.9375"
                                },
                                {
                                    "0": "1466.0100"
                                },
                                {
                                    "0": "1308.9375"
                                },
                                {
                                    "0": "1308.9375"
                                },
                                {
                                    "0": "1466.0100"
                                },
                                {
                                    "0": "1229.4589"
                                },
                                {
                                    "0": "1242.8518"
                                },
                                {
                                    "0": "1229.4589"
                                },
                                {
                                    "0": "1242.8518"
                                },
                                {
                                    "0": "1242.8518"
                                },
                                {
                                    "0": "1242.8518"
                                },
                                {
                                    "0": "1229.4589"
                                },
                                {
                                    "0": "1229.4589"
                                },
                                {
                                    "0": "1242.8518"
                                },
                                {
                                    "0": "1242.8518"
                                },
                                {
                                    "0": "1229.4589"
                                },
                                {
                                    "0": "1242.8518"
                                },
                                {
                                    "0": "1229.4589"
                                },
                                {
                                    "0": "1242.8518"
                                },
                                {
                                    "0": "1229.4589"
                                },
                                {
                                    "0": "1229.4589"
                                },
                                {
                                    "0": "1242.8518"
                                },
                                {
                                    "0": "1242.8518"
                                },
                                {
                                    "0": "1242.8518"
                                },
                                {
                                    "0": "1242.8518"
                                },
                                {
                                    "0": "1229.4589"
                                },
                                {
                                    "0": "1466.0100"
                                },
                                {
                                    "0": "1466.0100"
                                },
                                {
                                    "0": "1466.0100"
                                },
                                {
                                    "0": "1308.9375"
                                },
                                {
                                    "0": "1308.9375"
                                },
                                {
                                    "0": "1308.9375"
                                },
                                {
                                    "0": "1308.9375"
                                },
                                {
                                    "0": "1308.9375"
                                },
                                {
                                    "0": "1343.8425"
                                },
                                {
                                    "0": "1308.9375"
                                },
                                {
                                    "0": "1466.0100"
                                },
                                {
                                    "0": "1466.0100"
                                },
                                {
                                    "0": "1229.4589"
                                },
                                {
                                    "0": "1242.8518"
                                },
                                {
                                    "0": "1242.8518"
                                },
                                {
                                    "0": "1229.4589"
                                },
                                {
                                    "0": "1242.8518"
                                },
                                {
                                    "0": "1242.8518"
                                },
                                {
                                    "0": "1242.8518"
                                },
                                {
                                    "0": "1229.4589"
                                },
                                {
                                    "0": "1229.4589"
                                },
                                {
                                    "0": "1308.9375"
                                },
                                {
                                    "0": "1308.9375"
                                },
                                {
                                    "0": "1466.0100"
                                },
                                {
                                    "0": "1308.9375"
                                },
                                {
                                    "0": "1466.0100"
                                },
                                {
                                    "0": "1242.8518"
                                },
                                {
                                    "0": "1242.8518"
                                },
                                {
                                    "0": "1229.4589"
                                },
                                {
                                    "0": "1466.0100"
                                },
                                {
                                    "0": "1308.9375"
                                },
                                {
                                    "0": "1308.9375"
                                },
                                {
                                    "0": "1466.0100"
                                },
                                {
                                    "0": "1308.9375"
                                },
                                {
                                    "0": "1308.9375"
                                },
                                {
                                    "0": "1308.9375"
                                },
                                {
                                    "0": "1229.4589"
                                },
                                {
                                    "0": "1229.4589"
                                },
                                {
                                    "0": "1242.8518"
                                },
                                {
                                    "0": "1242.8518"
                                },
                                {
                                    "0": "1242.8518"
                                },
                                {
                                    "0": "1242.8518"
                                },
                                {
                                    "0": "1229.4589"
                                },
                                {
                                    "0": "1242.8518"
                                },
                                {
                                    "0": "1229.4589"
                                },
                                {
                                    "0": "1242.8518"
                                },
                                {
                                    "0": "1229.4589"
                                },
                                {
                                    "0": "1466.0100"
                                },
                                {
                                    "0": "1308.9375"
                                },
                                {
                                    "0": "1308.9375"
                                },
                                {
                                    "0": "1308.9375"
                                },
                                {
                                    "0": "1466.0100"
                                },
                                {
                                    "0": "1466.0100"
                                },
                                {
                                    "0": "1308.9375"
                                },
                                {
                                    "0": "1466.0100"
                                },
                                {
                                    "0": "1466.0100"
                                },
                                {
                                    "0": "1308.9375"
                                },
                                {
                                    "0": "1242.8518"
                                },
                                {
                                    "0": "1229.4589"
                                },
                                {
                                    "0": "1229.4589"
                                },
                                {
                                    "0": "1466.0100"
                                },
                                {
                                    "0": "1466.0100"
                                },
                                {
                                    "0": "1466.0100"
                                },
                                {
                                    "0": "1308.9375"
                                },
                                {
                                    "0": "1308.9375"
                                },
                                {
                                    "0": "1229.4589"
                                },
                                {
                                    "0": "1229.4589"
                                },
                                {
                                    "0": "1242.8518"
                                },
                                {
                                    "0": "1242.8518"
                                },
                                {
                                    "0": "1242.8518"
                                },
                                {
                                    "0": "1229.4589"
                                },
                                {
                                    "0": "1242.8518"
                                },
                                {
                                    "0": "1229.4589"
                                },
                                {
                                    "0": "1229.4589"
                                },
                                {
                                    "0": "1229.4589"
                                },
                                {
                                    "0": "1242.8518"
                                },
                                {
                                    "0": "1229.4589"
                                },
                                {
                                    "0": "1229.4589"
                                },
                                {
                                    "0": "1242.8518"
                                },
                                {
                                    "0": "1308.9375"
                                },
                                {
                                    "0": "1466.0100"
                                },
                                {
                                    "0": "1308.9375"
                                },
                                {
                                    "0": "1466.0100"
                                },
                                {
                                    "0": "1308.9375"
                                },
                                {
                                    "0": "1466.0100"
                                },
                                {
                                    "0": "1466.0100"
                                },
                                {
                                    "0": "1466.0100"
                                },
                                {
                                    "0": "1466.0100"
                                },
                                {
                                    "0": "1308.9375"
                                },
                                {
                                    "0": "1308.9375"
                                },
                                {
                                    "0": "1308.9375"
                                },
                                {
                                    "0": "1308.9375"
                                },
                                {
                                    "0": "1308.9375"
                                },
                                {
                                    "0": "1466.0100"
                                },
                                {
                                    "0": "1466.0100"
                                },
                                {
                                    "0": "1308.9375"
                                },
                                {
                                    "0": "1466.0100"
                                },
                                {
                                    "0": "1229.4589"
                                },
                                {
                                    "0": "1229.4589"
                                },
                                {
                                    "0": "1242.8518"
                                },
                                {
                                    "0": "1242.8518"
                                },
                                {
                                    "0": "1242.8518"
                                },
                                {
                                    "0": "1466.0100"
                                },
                                {
                                    "0": "1308.9375"
                                },
                                {
                                    "0": "1308.9375"
                                },
                                {
                                    "0": "1308.9375"
                                },
                                {
                                    "0": "1308.9375"
                                },
                                {
                                    "0": "1466.0100"
                                },
                                {
                                    "0": "1308.9375"
                                },
                                {
                                    "0": "1466.0100"
                                },
                                {
                                    "0": "1466.0100"
                                },
                                {
                                    "0": "1308.9375"
                                },
                                {
                                    "0": "1242.8518"
                                },
                                {
                                    "0": "1242.8518"
                                },
                                {
                                    "0": "1229.4589"
                                },
                                {
                                    "0": "1229.4589"
                                },
                                {
                                    "0": "1242.8518"
                                },
                                {
                                    "0": "1229.4589"
                                },
                                {
                                    "0": "1308.9375"
                                },
                                {
                                    "0": "1466.0100"
                                },
                                {
                                    "0": "1229.4589"
                                },
                                {
                                    "0": "1242.8518"
                                },
                                {
                                    "0": "1242.8518"
                                },
                                {
                                    "0": "1229.4589"
                                },
                                {
                                    "0": "1242.8518"
                                },
                                {
                                    "0": "1466.0100"
                                },
                                {
                                    "0": "1308.9375"
                                },
                                {
                                    "0": "1308.9375"
                                },
                                {
                                    "0": "1466.0100"
                                },
                                {
                                    "0": "1466.0100"
                                },
                                {
                                    "0": "1308.9375"
                                },
                                {
                                    "0": "1308.9375"
                                },
                                {
                                    "0": "1308.9375"
                                },
                                {
                                    "0": "1242.8518"
                                },
                                {
                                    "0": "1242.8518"
                                },
                                {
                                    "0": "1229.4589"
                                },
                                {
                                    "0": "1229.4589"
                                },
                                {
                                    "0": "1242.8518"
                                },
                                {
                                    "0": "1229.4589"
                                },
                                {
                                    "0": "1242.8518"
                                },
                                {
                                    "0": "1229.4589"
                                },
                                {
                                    "0": "1242.8518"
                                },
                                {
                                    "0": "1308.9375"
                                },
                                {
                                    "0": "1308.9375"
                                },
                                {
                                    "0": "1466.0100"
                                },
                                {
                                    "0": "1466.0100"
                                },
                                {
                                    "0": "1466.0100"
                                },
                                {
                                    "0": "1308.9375"
                                },
                                {
                                    "0": "1308.9375"
                                },
                                {
                                    "0": "1308.9375"
                                },
                                {
                                    "0": "1466.0100"
                                },
                                {
                                    "0": "1308.9375"
                                },
                                {
                                    "0": "1466.0100"
                                },
                                {
                                    "0": "1308.9375"
                                },
                                {
                                    "0": "1242.8518"
                                },
                                {
                                    "0": "1308.9375"
                                },
                                {
                                    "0": "1308.9375"
                                },
                                {
                                    "0": "1466.0100"
                                },
                                {
                                    "0": "1466.0100"
                                },
                                {
                                    "0": "1308.9375"
                                },
                                {
                                    "0": "1242.8518"
                                },
                                {
                                    "0": "1229.4589"
                                },
                                {
                                    "0": "1229.4589"
                                },
                                {
                                    "0": "1229.4589"
                                },
                                {
                                    "0": "1242.8518"
                                },
                                {
                                    "0": "1242.8518"
                                },
                                {
                                    "0": "1229.4589"
                                },
                                {
                                    "0": "1229.4589"
                                },
                                {
                                    "0": "1242.8518"
                                },
                                {
                                    "0": "1242.8518"
                                },
                                {
                                    "0": "1308.9375"
                                },
                                {
                                    "0": "1466.0100"
                                },
                                {
                                    "0": "1308.9375"
                                },
                                {
                                    "0": "1308.9375"
                                },
                                {
                                    "0": "1466.0100"
                                },
                                {
                                    "0": "1466.0100"
                                },
                                {
                                    "0": "1308.9375"
                                },
                                {
                                    "0": "1308.9375"
                                },
                                {
                                    "0": "1242.8518"
                                },
                                {
                                    "0": "1242.8518"
                                },
                                {
                                    "0": "1229.4589"
                                },
                                {
                                    "0": "1229.4589"
                                },
                                {
                                    "0": "1242.8518"
                                },
                                {
                                    "0": "1229.4589"
                                },
                                {
                                    "0": "1242.8518"
                                },
                                {
                                    "0": "1242.8518"
                                },
                                {
                                    "0": "1242.8518"
                                },
                                {
                                    "0": "1229.4589"
                                },
                                {
                                    "0": "1229.4589"
                                },
                                {
                                    "0": "1229.4589"
                                },
                                {
                                    "0": "1308.9375"
                                },
                                {
                                    "0": "1242.8518"
                                },
                                {
                                    "0": "1229.4589"
                                },
                                {
                                    "0": "1242.8518"
                                },
                                {
                                    "0": "1229.4589"
                                },
                                {
                                    "0": "1242.8518"
                                },
                                {
                                    "0": "1229.4589"
                                },
                                {
                                    "0": "1229.4589"
                                },
                                {
                                    "0": "1242.8518"
                                },
                                {
                                    "0": "1229.4589"
                                },
                                {
                                    "0": "1242.8518"
                                },
                                {
                                    "0": "1242.8518"
                                },
                                {
                                    "0": "1242.8518"
                                },
                                {
                                    "0": "1242.8518"
                                },
                                {
                                    "0": "1229.4589"
                                },
                                {
                                    "0": "1229.4589"
                                },
                                {
                                    "0": "1242.8518"
                                },
                                {
                                    "0": "1466.0100"
                                },
                                {
                                    "0": "1308.9375"
                                },
                                {
                                    "0": "1466.0100"
                                },
                                {
                                    "0": "1308.9375"
                                },
                                {
                                    "0": "1308.9375"
                                },
                                {
                                    "0": "1466.0100"
                                },
                                {
                                    "0": "1308.9375"
                                },
                                {
                                    "0": "1466.0100"
                                },
                                {
                                    "0": "1308.9375"
                                },
                                {
                                    "0": "1308.9375"
                                },
                                {
                                    "0": "1466.0100"
                                },
                                {
                                    "0": "1466.0100"
                                },
                                {
                                    "0": "1308.9375"
                                },
                                {
                                    "0": "1308.9375"
                                },
                                {
                                    "0": "1308.9375"
                                },
                                {
                                    "0": "1308.9375"
                                },
                                {
                                    "0": "1466.0100"
                                },
                                {
                                    "0": "1308.9375"
                                },
                                {
                                    "0": "1308.9375"
                                },
                                {
                                    "0": "1466.0100"
                                },
                                {
                                    "0": "1466.0100"
                                },
                                {
                                    "0": "1242.8518"
                                },
                                {
                                    "0": "1229.4589"
                                },
                                {
                                    "0": "1229.4589"
                                },
                                {
                                    "0": "1242.8518"
                                },
                                {
                                    "0": "1242.8518"
                                },
                                {
                                    "0": "1242.8518"
                                },
                                {
                                    "0": "1242.8518"
                                },
                                {
                                    "0": "1229.4589"
                                },
                                {
                                    "0": "1229.4589"
                                },
                                {
                                    "0": "1229.4589"
                                },
                                {
                                    "0": "1229.4589"
                                },
                                {
                                    "0": "1229.4589"
                                },
                                {
                                    "0": "1229.4589"
                                },
                                {
                                    "0": "1242.8518"
                                },
                                {
                                    "0": "1242.8518"
                                },
                                {
                                    "0": "1308.9375"
                                },
                                {
                                    "0": "1466.0100"
                                },
                                {
                                    "0": "1466.0100"
                                },
                                {
                                    "0": "1466.0100"
                                },
                                {
                                    "0": "1308.9375"
                                },
                                {
                                    "0": "1308.9375"
                                },
                                {
                                    "0": "1308.9375"
                                },
                                {
                                    "0": "1308.9375"
                                },
                                {
                                    "0": "1000.4375"
                                },
                                {
                                    "0": "1000.4375"
                                },
                                {
                                    "0": "1000.4375"
                                },
                                {
                                    "0": "1000.4375"
                                },
                                {
                                    "0": "1000.4375"
                                },
                                {
                                    "0": "1000.4375"
                                },
                                {
                                    "0": "1000.4375"
                                },
                                {
                                    "0": "1000.4375"
                                },
                                {
                                    "0": "1000.4375"
                                },
                                {
                                    "0": "1000.4375"
                                },
                                {
                                    "0": "1000.4375"
                                },
                                {
                                    "0": "1000.4375"
                                },
                                {
                                    "0": "1000.4375"
                                },
                                {
                                    "0": "1000.4375"
                                },
                                {
                                    "0": "1000.4375"
                                },
                                {
                                    "0": "1000.4375"
                                },
                                {
                                    "0": "1000.4375"
                                },
                                {
                                    "0": "1000.4375"
                                },
                                {
                                    "0": "1000.4375"
                                },
                                {
                                    "0": "1000.4375"
                                },
                                {
                                    "0": "1000.4375"
                                },
                                {
                                    "0": "1000.4375"
                                },
                                {
                                    "0": "1000.4375"
                                },
                                {
                                    "0": "1229.4589"
                                },
                                {
                                    "0": "1242.8518"
                                },
                                {
                                    "0": "1229.4589"
                                },
                                {
                                    "0": "1242.8518"
                                },
                                {
                                    "0": "1242.8518"
                                },
                                {
                                    "0": "1229.4589"
                                },
                                {
                                    "0": "1229.4589"
                                },
                                {
                                    "0": "1242.8518"
                                },
                                {
                                    "0": "1308.9375"
                                },
                                {
                                    "0": "1308.9375"
                                },
                                {
                                    "0": "1466.0100"
                                },
                                {
                                    "0": "1308.9375"
                                },
                                {
                                    "0": "1308.9375"
                                },
                                {
                                    "0": "1466.0100"
                                },
                                {
                                    "0": "1308.9375"
                                },
                                {
                                    "0": "1466.0100"
                                },
                                {
                                    "0": "1308.9375"
                                },
                                {
                                    "0": "1308.9375"
                                },
                                {
                                    "0": "1265.3063"
                                },
                                {
                                    "0": "1466.0100"
                                },
                                {
                                    "0": "1466.0100"
                                },
                                {
                                    "0": "1466.0100"
                                },
                                {
                                    "0": "1229.4589"
                                },
                                {
                                    "0": "1242.8518"
                                },
                                {
                                    "0": "1242.8518"
                                },
                                {
                                    "0": "1242.8518"
                                },
                                {
                                    "0": "1229.4589"
                                },
                                {
                                    "0": "1229.4589"
                                },
                                {
                                    "0": "1242.8518"
                                },
                                {
                                    "0": "1229.4589"
                                },
                                {
                                    "0": "1229.4589"
                                },
                                {
                                    "0": "1242.8518"
                                },
                                {
                                    "0": "1242.8518"
                                },
                                {
                                    "0": "1242.8518"
                                },
                                {
                                    "0": "1229.4589"
                                },
                                {
                                    "0": "1188.4770"
                                },
                                {
                                    "0": "1229.4589"
                                },
                                {
                                    "0": "1242.8518"
                                },
                                {
                                    "0": "1242.8518"
                                },
                                {
                                    "0": "1242.8518"
                                },
                                {
                                    "0": "1229.4589"
                                },
                                {
                                    "0": "1308.9375"
                                },
                                {
                                    "0": "1308.9375"
                                },
                                {
                                    "0": "1308.9375"
                                },
                                {
                                    "0": "1466.0100"
                                },
                                {
                                    "0": "1308.9375"
                                },
                                {
                                    "0": "1466.0100"
                                },
                                {
                                    "0": "1308.9375"
                                },
                                {
                                    "0": "1466.0100"
                                },
                                {
                                    "0": "1466.0100"
                                },
                                {
                                    "0": "1308.9375"
                                },
                                {
                                    "0": "1466.0100"
                                },
                                {
                                    "0": "1308.9375"
                                },
                                {
                                    "0": "1308.9375"
                                },
                                {
                                    "0": "1417.1430"
                                },
                                {
                                    "0": "1308.9375"
                                },
                                {
                                    "0": "1466.0100"
                                },
                                {
                                    "0": "1417.1430"
                                },
                                {
                                    "0": "1229.4589"
                                },
                                {
                                    "0": "1242.8518"
                                },
                                {
                                    "0": "1229.4589"
                                },
                                {
                                    "0": "1242.8518"
                                },
                                {
                                    "0": "1242.8518"
                                },
                                {
                                    "0": "1466.0100"
                                },
                                {
                                    "0": "1466.0100"
                                },
                                {
                                    "0": "1308.9375"
                                },
                                {
                                    "0": "1308.9375"
                                },
                                {
                                    "0": "1466.0100"
                                },
                                {
                                    "0": "1229.4589"
                                },
                                {
                                    "0": "1229.4589"
                                },
                                {
                                    "0": "1242.8518"
                                },
                                {
                                    "0": "1242.8518"
                                },
                                {
                                    "0": "1242.8518"
                                },
                                {
                                    "0": "1229.4589"
                                },
                                {
                                    "0": "1229.4589"
                                },
                                {
                                    "0": "1229.4589"
                                },
                                {
                                    "0": "1242.8518"
                                },
                                {
                                    "0": "1242.8518"
                                },
                                {
                                    "0": "1308.9375"
                                },
                                {
                                    "0": "1466.0100"
                                },
                                {
                                    "0": "1466.0100"
                                },
                                {
                                    "0": "1308.9375"
                                },
                                {
                                    "0": "1308.9375"
                                },
                                {
                                    "0": "1308.9375"
                                },
                                {
                                    "0": "1466.0100"
                                },
                                {
                                    "0": "1242.8518"
                                },
                                {
                                    "0": "1229.4589"
                                },
                                {
                                    "0": "1229.4589"
                                },
                                {
                                    "0": "1242.8518"
                                },
                                {
                                    "0": "1229.4589"
                                },
                                {
                                    "0": "1308.9375"
                                },
                                {
                                    "0": "1466.0100"
                                },
                                {
                                    "0": "1308.9375"
                                },
                                {
                                    "0": "1466.0100"
                                },
                                {
                                    "0": "1466.0100"
                                },
                                {
                                    "0": "1308.9375"
                                },
                                {
                                    "0": "1242.8518"
                                },
                                {
                                    "0": "1242.8518"
                                },
                                {
                                    "0": "1242.8518"
                                },
                                {
                                    "0": "1229.4589"
                                },
                                {
                                    "0": "1265.3063"
                                },
                                {
                                    "0": "1466.0100"
                                },
                                {
                                    "0": "1466.0100"
                                },
                                {
                                    "0": "1466.0100"
                                },
                                {
                                    "0": "1308.9375"
                                },
                                {
                                    "0": "1308.9375"
                                },
                                {
                                    "0": "1242.8518"
                                },
                                {
                                    "0": "1242.8518"
                                },
                                {
                                    "0": "1229.4589"
                                },
                                {
                                    "0": "1242.8518"
                                },
                                {
                                    "0": "1229.4589"
                                },
                                {
                                    "0": "1466.0100"
                                },
                                {
                                    "0": "1308.9375"
                                },
                                {
                                    "0": "1308.9375"
                                },
                                {
                                    "0": "1466.0100"
                                },
                                {
                                    "0": "1308.9375"
                                },
                                {
                                    "0": "1466.0100"
                                },
                                {
                                    "0": "1308.9375"
                                },
                                {
                                    "0": "1229.4589"
                                },
                                {
                                    "0": "1242.8518"
                                },
                                {
                                    "0": "1242.8518"
                                },
                                {
                                    "0": "1242.8518"
                                },
                                {
                                    "0": "1229.4589"
                                },
                                {
                                    "0": "1242.8518"
                                },
                                {
                                    "0": "1229.4589"
                                },
                                {
                                    "0": "1242.8518"
                                },
                                {
                                    "0": "1229.4589"
                                },
                                {
                                    "0": "1229.4589"
                                },
                                {
                                    "0": "1242.8518"
                                },
                                {
                                    "0": "1229.4589"
                                },
                                {
                                    "0": "1242.8518"
                                },
                                {
                                    "0": "1229.4589"
                                },
                                {
                                    "0": "1242.8518"
                                },
                                {
                                    "0": "1242.8518"
                                },
                                {
                                    "0": "1229.4589"
                                },
                                {
                                    "0": "1229.4589"
                                },
                                {
                                    "0": "1229.4589"
                                },
                                {
                                    "0": "1466.0100"
                                },
                                {
                                    "0": "1242.8518"
                                },
                                {
                                    "0": "1242.8518"
                                },
                                {
                                    "0": "1308.9375"
                                },
                                {
                                    "0": "1308.9375"
                                },
                                {
                                    "0": "1466.0100"
                                },
                                {
                                    "0": "1466.0100"
                                },
                                {
                                    "0": "1308.9375"
                                },
                                {
                                    "0": "1308.9375"
                                },
                                {
                                    "0": "1308.9375"
                                },
                                {
                                    "0": "1242.8518"
                                },
                                {
                                    "0": "1229.4589"
                                },
                                {
                                    "0": "1242.8518"
                                },
                                {
                                    "0": "1229.4589"
                                },
                                {
                                    "0": "1242.8518"
                                },
                                {
                                    "0": "1242.8518"
                                },
                                {
                                    "0": "1229.4589"
                                },
                                {
                                    "0": "1229.4589"
                                },
                                {
                                    "0": "1242.8518"
                                },
                                {
                                    "0": "1229.4589"
                                },
                                {
                                    "0": "1242.8518"
                                },
                                {
                                    "0": "1229.4589"
                                },
                                {
                                    "0": "1229.4589"
                                },
                                {
                                    "0": "1229.4589"
                                },
                                {
                                    "0": "1242.8518"
                                },
                                {
                                    "0": "1308.9375"
                                },
                                {
                                    "0": "1466.0100"
                                },
                                {
                                    "0": "1265.3063"
                                },
                                {
                                    "0": "1466.0100"
                                },
                                {
                                    "0": "1229.4589"
                                },
                                {
                                    "0": "1229.4589"
                                },
                                {
                                    "0": "1242.8518"
                                },
                                {
                                    "0": "1242.8518"
                                },
                                {
                                    "0": "1229.4589"
                                },
                                {
                                    "0": "1242.8518"
                                },
                                {
                                    "0": "1466.0100"
                                },
                                {
                                    "0": "1308.9375"
                                },
                                {
                                    "0": "1308.9375"
                                },
                                {
                                    "0": "1308.9375"
                                },
                                {
                                    "0": "1466.0100"
                                },
                                {
                                    "0": "1466.0100"
                                },
                                {
                                    "0": "1242.8518"
                                },
                                {
                                    "0": "1242.8518"
                                },
                                {
                                    "0": "1242.8518"
                                },
                                {
                                    "0": "1229.4589"
                                },
                                {
                                    "0": "1229.4589"
                                },
                                {
                                    "0": "1308.9375"
                                },
                                {
                                    "0": "1229.4589"
                                },
                                {
                                    "0": "1229.4589"
                                },
                                {
                                    "0": "1242.8518"
                                },
                                {
                                    "0": "1242.8518"
                                },
                                {
                                    "0": "1229.4589"
                                },
                                {
                                    "0": "1242.8518"
                                },
                                {
                                    "0": "1229.4589"
                                },
                                {
                                    "0": "1229.4589"
                                },
                                {
                                    "0": "1242.8518"
                                },
                                {
                                    "0": "1242.8518"
                                },
                                {
                                    "0": "1229.4589"
                                },
                                {
                                    "0": "1229.4589"
                                },
                                {
                                    "0": "1229.4589"
                                },
                                {
                                    "0": "1242.8518"
                                },
                                {
                                    "0": "1242.8518"
                                },
                                {
                                    "0": "1242.8518"
                                },
                                {
                                    "0": "1229.4589"
                                },
                                {
                                    "0": "1242.8518"
                                },
                                {
                                    "0": "1229.4589"
                                },
                                {
                                    "0": "1229.4589"
                                },
                                {
                                    "0": "1242.8518"
                                },
                                {
                                    "0": "1308.9375"
                                },
                                {
                                    "0": "1466.0100"
                                },
                                {
                                    "0": "1308.9375"
                                },
                                {
                                    "0": "1308.9375"
                                },
                                {
                                    "0": "1466.0100"
                                },
                                {
                                    "0": "1242.8518"
                                },
                                {
                                    "0": "1242.8518"
                                },
                                {
                                    "0": "1229.4589"
                                },
                                {
                                    "0": "1188.4770"
                                },
                                {
                                    "0": "1188.4770"
                                },
                                {
                                    "0": "1242.8518"
                                },
                                {
                                    "0": "1242.8518"
                                },
                                {
                                    "0": "1127.0040"
                                },
                                {
                                    "0": "1242.8518"
                                },
                                {
                                    "0": "1242.8518"
                                },
                                {
                                    "0": "1242.8518"
                                },
                                {
                                    "0": "1229.4589"
                                },
                                {
                                    "0": "1466.0100"
                                },
                                {
                                    "0": "1308.9375"
                                },
                                {
                                    "0": "1308.9375"
                                },
                                {
                                    "0": "1466.0100"
                                },
                                {
                                    "0": "1466.0100"
                                },
                                {
                                    "0": "1308.9375"
                                },
                                {
                                    "0": "1308.9375"
                                },
                                {
                                    "0": "1308.9375"
                                },
                                {
                                    "0": "1242.8518"
                                },
                                {
                                    "0": "1229.4589"
                                },
                                {
                                    "0": "1242.8518"
                                },
                                {
                                    "0": "1242.8518"
                                },
                                {
                                    "0": "1308.9375"
                                },
                                {
                                    "0": "1466.0100"
                                },
                                {
                                    "0": "1466.0100"
                                },
                                {
                                    "0": "1308.9375"
                                },
                                {
                                    "0": "1308.9375"
                                },
                                {
                                    "0": "1201.4234"
                                },
                                {
                                    "0": "1242.8518"
                                },
                                {
                                    "0": "1229.4589"
                                },
                                {
                                    "0": "1229.4589"
                                },
                                {
                                    "0": "1201.4234"
                                },
                                {
                                    "0": "1229.4589"
                                },
                                {
                                    "0": "1242.8518"
                                },
                                {
                                    "0": "1229.4589"
                                },
                                {
                                    "0": "1229.4589"
                                },
                                {
                                    "0": "1308.9375"
                                },
                                {
                                    "0": "1466.0100"
                                },
                                {
                                    "0": "1308.9375"
                                },
                                {
                                    "0": "1308.9375"
                                },
                                {
                                    "0": "1466.0100"
                                },
                                {
                                    "0": "1466.0100"
                                },
                                {
                                    "0": "1308.9375"
                                },
                                {
                                    "0": "1308.9375"
                                },
                                {
                                    "0": "1242.8518"
                                },
                                {
                                    "0": "1242.8518"
                                },
                                {
                                    "0": "1229.4589"
                                },
                                {
                                    "0": "1229.4589"
                                },
                                {
                                    "0": "1229.4589"
                                },
                                {
                                    "0": "1242.8518"
                                },
                                {
                                    "0": "1242.8518"
                                },
                                {
                                    "0": "1242.8518"
                                },
                                {
                                    "0": "1242.8518"
                                },
                                {
                                    "0": "1229.4589"
                                },
                                {
                                    "0": "1242.8518"
                                },
                                {
                                    "0": "1229.4589"
                                },
                                {
                                    "0": "1242.8518"
                                },
                                {
                                    "0": "1229.4589"
                                },
                                {
                                    "0": "1242.8518"
                                },
                                {
                                    "0": "1000.4375"
                                },
                                {
                                    "0": "1000.4375"
                                },
                                {
                                    "0": "1000.4375"
                                },
                                {
                                    "0": "1000.4375"
                                },
                                {
                                    "0": "1000.4375"
                                },
                                {
                                    "0": "1000.4375"
                                },
                                {
                                    "0": "1000.4375"
                                },
                                {
                                    "0": "1000.4375"
                                },
                                {
                                    "0": "1000.4375"
                                },
                                {
                                    "0": "1000.4375"
                                },
                                {
                                    "0": "1000.4375"
                                },
                                {
                                    "0": "1000.4375"
                                },
                                {
                                    "0": "1000.4375"
                                },
                                {
                                    "0": "1000.4375"
                                },
                                {
                                    "0": "1000.4375"
                                },
                                {
                                    "0": "1000.4375"
                                },
                                {
                                    "0": "1000.4375"
                                },
                                {
                                    "0": "1000.4375"
                                },
                                {
                                    "0": "1000.4375"
                                },
                                {
                                    "0": "1000.4375"
                                },
                                {
                                    "0": "1000.4375"
                                },
                                {
                                    "0": "1000.4375"
                                },
                                {
                                    "0": "1308.9375"
                                },
                                {
                                    "0": "1308.9375"
                                },
                                {
                                    "0": "1308.9375"
                                },
                                {
                                    "0": "1308.9375"
                                },
                                {
                                    "0": "1466.0100"
                                },
                                {
                                    "0": "1466.0100"
                                },
                                {
                                    "0": "1466.0100"
                                },
                                {
                                    "0": "1308.9375"
                                },
                                {
                                    "0": "1229.4589"
                                },
                                {
                                    "0": "1229.4589"
                                },
                                {
                                    "0": "1242.8518"
                                },
                                {
                                    "0": "1242.8518"
                                },
                                {
                                    "0": "1229.4589"
                                },
                                {
                                    "0": "1308.9375"
                                },
                                {
                                    "0": "1466.0100"
                                },
                                {
                                    "0": "1466.0100"
                                },
                                {
                                    "0": "1308.9375"
                                },
                                {
                                    "0": "1229.4589"
                                },
                                {
                                    "0": "1242.8518"
                                },
                                {
                                    "0": "1229.4589"
                                },
                                {
                                    "0": "1229.4589"
                                },
                                {
                                    "0": "1242.8518"
                                },
                                {
                                    "0": "1242.8518"
                                },
                                {
                                    "0": "1229.4589"
                                },
                                {
                                    "0": "1242.8518"
                                },
                                {
                                    "0": "1188.4770"
                                },
                                {
                                    "0": "1229.4589"
                                },
                                {
                                    "0": "1242.8518"
                                },
                                {
                                    "0": "1229.4589"
                                },
                                {
                                    "0": "1308.9375"
                                },
                                {
                                    "0": "1466.0100"
                                },
                                {
                                    "0": "1308.9375"
                                },
                                {
                                    "0": "1466.0100"
                                },
                                {
                                    "0": "1466.0100"
                                },
                                {
                                    "0": "1466.0100"
                                },
                                {
                                    "0": "1308.9375"
                                },
                                {
                                    "0": "1308.9375"
                                },
                                {
                                    "0": "1466.0100"
                                },
                                {
                                    "0": "1308.9375"
                                },
                                {
                                    "0": "1242.8518"
                                },
                                {
                                    "0": "1229.4589"
                                },
                                {
                                    "0": "1229.4589"
                                },
                                {
                                    "0": "1242.8518"
                                },
                                {
                                    "0": "1308.9375"
                                },
                                {
                                    "0": "1466.0100"
                                },
                                {
                                    "0": "1308.9375"
                                },
                                {
                                    "0": "1466.0100"
                                },
                                {
                                    "0": "1308.9375"
                                },
                                {
                                    "0": "1308.9375"
                                },
                                {
                                    "0": "1308.9375"
                                },
                                {
                                    "0": "1229.4589"
                                },
                                {
                                    "0": "1242.8518"
                                },
                                {
                                    "0": "1242.8518"
                                },
                                {
                                    "0": "1242.8518"
                                },
                                {
                                    "0": "1242.8518"
                                },
                                {
                                    "0": "1242.8518"
                                },
                                {
                                    "0": "1229.4589"
                                },
                                {
                                    "0": "1229.4589"
                                },
                                {
                                    "0": "1229.4589"
                                },
                                {
                                    "0": "1242.8518"
                                },
                                {
                                    "0": "1229.4589"
                                },
                                {
                                    "0": "1229.4589"
                                },
                                {
                                    "0": "1242.8518"
                                },
                                {
                                    "0": "1242.8518"
                                },
                                {
                                    "0": "1229.4589"
                                },
                                {
                                    "0": "1229.4589"
                                },
                                {
                                    "0": "1242.8518"
                                },
                                {
                                    "0": "1229.4589"
                                },
                                {
                                    "0": "1229.4589"
                                },
                                {
                                    "0": "1229.4589"
                                },
                                {
                                    "0": "1242.8518"
                                },
                                {
                                    "0": "1242.8518"
                                },
                                {
                                    "0": "1242.8518"
                                },
                                {
                                    "0": "1308.9375"
                                },
                                {
                                    "0": "1308.9375"
                                },
                                {
                                    "0": "1466.0100"
                                },
                                {
                                    "0": "1466.0100"
                                },
                                {
                                    "0": "1308.9375"
                                },
                                {
                                    "0": "1466.0100"
                                },
                                {
                                    "0": "1308.9375"
                                },
                                {
                                    "0": "1308.9375"
                                },
                                {
                                    "0": "1229.4589"
                                },
                                {
                                    "0": "1242.8518"
                                },
                                {
                                    "0": "1229.4589"
                                },
                                {
                                    "0": "1229.4589"
                                },
                                {
                                    "0": "1242.8518"
                                },
                                {
                                    "0": "1229.4589"
                                },
                                {
                                    "0": "1242.8518"
                                },
                                {
                                    "0": "1466.0100"
                                },
                                {
                                    "0": "1308.9375"
                                },
                                {
                                    "0": "1466.0100"
                                },
                                {
                                    "0": "1308.9375"
                                },
                                {
                                    "0": "1308.9375"
                                },
                                {
                                    "0": "1466.0100"
                                },
                                {
                                    "0": "1242.8518"
                                },
                                {
                                    "0": "1229.4589"
                                },
                                {
                                    "0": "1229.4589"
                                },
                                {
                                    "0": "1242.8518"
                                },
                                {
                                    "0": "1242.8518"
                                },
                                {
                                    "0": "1242.8518"
                                },
                                {
                                    "0": "1308.9375"
                                },
                                {
                                    "0": "1466.0100"
                                },
                                {
                                    "0": "1466.0100"
                                },
                                {
                                    "0": "1308.9375"
                                },
                                {
                                    "0": "1242.8518"
                                },
                                {
                                    "0": "1242.8518"
                                },
                                {
                                    "0": "1242.8518"
                                },
                                {
                                    "0": "1229.4589"
                                },
                                {
                                    "0": "1229.4589"
                                },
                                {
                                    "0": "1229.4589"
                                },
                                {
                                    "0": "1242.8518"
                                },
                                {
                                    "0": "1229.4589"
                                },
                                {
                                    "0": "1242.8518"
                                },
                                {
                                    "0": "1229.4589"
                                },
                                {
                                    "0": "1229.4589"
                                },
                                {
                                    "0": "1242.8518"
                                },
                                {
                                    "0": "1229.4589"
                                },
                                {
                                    "0": "1242.8518"
                                },
                                {
                                    "0": "1242.8518"
                                },
                                {
                                    "0": "1242.8518"
                                },
                                {
                                    "0": "1229.4589"
                                },
                                {
                                    "0": "1229.4589"
                                },
                                {
                                    "0": "1242.8518"
                                },
                                {
                                    "0": "1242.8518"
                                },
                                {
                                    "0": "1229.4589"
                                },
                                {
                                    "0": "1229.4589"
                                },
                                {
                                    "0": "1229.4589"
                                },
                                {
                                    "0": "1242.8518"
                                },
                                {
                                    "0": "1242.8518"
                                },
                                {
                                    "0": "1229.4589"
                                },
                                {
                                    "0": "1229.4589"
                                },
                                {
                                    "0": "1242.8518"
                                },
                                {
                                    "0": "1229.4589"
                                },
                                {
                                    "0": "1242.8518"
                                },
                                {
                                    "0": "1229.4589"
                                },
                                {
                                    "0": "1242.8518"
                                },
                                {
                                    "0": "1229.4589"
                                },
                                {
                                    "0": "1242.8518"
                                },
                                {
                                    "0": "1229.4589"
                                },
                                {
                                    "0": "1229.4589"
                                },
                                {
                                    "0": "1242.8518"
                                },
                                {
                                    "0": "1466.0100"
                                },
                                {
                                    "0": "1466.0100"
                                },
                                {
                                    "0": "1308.9375"
                                },
                                {
                                    "0": "1308.9375"
                                },
                                {
                                    "0": "1265.3063"
                                },
                                {
                                    "0": "1466.0100"
                                },
                                {
                                    "0": "1466.0100"
                                },
                                {
                                    "0": "1308.9375"
                                },
                                {
                                    "0": "1466.0100"
                                },
                                {
                                    "0": "1308.9375"
                                },
                                {
                                    "0": "1466.0100"
                                },
                                {
                                    "0": "1308.9375"
                                },
                                {
                                    "0": "1466.0100"
                                },
                                {
                                    "0": "1308.9375"
                                },
                                {
                                    "0": "1308.9375"
                                },
                                {
                                    "0": "1308.9375"
                                },
                                {
                                    "0": "1308.9375"
                                },
                                {
                                    "0": "1308.9375"
                                },
                                {
                                    "0": "1466.0100"
                                },
                                {
                                    "0": "1466.0100"
                                },
                                {
                                    "0": "1466.0100"
                                },
                                {
                                    "0": "1308.9375"
                                },
                                {
                                    "0": "1466.0100"
                                },
                                {
                                    "0": "1308.9375"
                                },
                                {
                                    "0": "1308.9375"
                                },
                                {
                                    "0": "1466.0100"
                                },
                                {
                                    "0": "1466.0100"
                                },
                                {
                                    "0": "1308.9375"
                                },
                                {
                                    "0": "1466.0100"
                                },
                                {
                                    "0": "1308.9375"
                                },
                                {
                                    "0": "1308.9375"
                                },
                                {
                                    "0": "1308.9375"
                                },
                                {
                                    "0": "1466.0100"
                                },
                                {
                                    "0": "1466.0100"
                                },
                                {
                                    "0": "1308.9375"
                                },
                                {
                                    "0": "1308.9375"
                                },
                                {
                                    "0": "1466.0100"
                                },
                                {
                                    "0": "1466.0100"
                                },
                                {
                                    "0": "1308.9375"
                                },
                                {
                                    "0": "1308.9375"
                                },
                                {
                                    "0": "1466.0100"
                                },
                                {
                                    "0": "1242.8518"
                                },
                                {
                                    "0": "1242.8518"
                                },
                                {
                                    "0": "1242.8518"
                                },
                                {
                                    "0": "1229.4589"
                                },
                                {
                                    "0": "1229.4589"
                                },
                                {
                                    "0": "1308.9375"
                                },
                                {
                                    "0": "1229.4589"
                                },
                                {
                                    "0": "1242.8518"
                                },
                                {
                                    "0": "1229.4589"
                                },
                                {
                                    "0": "1242.8518"
                                },
                                {
                                    "0": "1229.4589"
                                },
                                {
                                    "0": "1000.4375"
                                },
                                {
                                    "0": "1000.4375"
                                },
                                {
                                    "0": "1000.4375"
                                },
                                {
                                    "0": "1000.4375"
                                },
                                {
                                    "0": "1000.4375"
                                },
                                {
                                    "0": "1000.4375"
                                },
                                {
                                    "0": "1000.4375"
                                },
                                {
                                    "0": "1000.4375"
                                },
                                {
                                    "0": "1000.4375"
                                },
                                {
                                    "0": "1000.4375"
                                },
                                {
                                    "0": "1000.4375"
                                },
                                {
                                    "0": "1000.4375"
                                },
                                {
                                    "0": "1000.4375"
                                },
                                {
                                    "0": "1000.4375"
                                },
                                {
                                    "0": "1000.4375"
                                },
                                {
                                    "0": "1000.4375"
                                },
                                {
                                    "0": "1000.4375"
                                },
                                {
                                    "0": "1000.4375"
                                },
                                {
                                    "0": "1000.4375"
                                },
                                {
                                    "0": "1000.4375"
                                },
                                {
                                    "0": "1000.4375"
                                },
                                {
                                    "0": "1229.4589"
                                },
                                {
                                    "0": "1242.8518"
                                },
                                {
                                    "0": "1242.8518"
                                },
                                {
                                    "0": "1242.8518"
                                },
                                {
                                    "0": "1242.8518"
                                },
                                {
                                    "0": "1229.4589"
                                },
                                {
                                    "0": "1242.8518"
                                },
                                {
                                    "0": "1229.4589"
                                },
                                {
                                    "0": "1229.4589"
                                },
                                {
                                    "0": "1229.4589"
                                },
                                {
                                    "0": "1229.4589"
                                },
                                {
                                    "0": "1466.0100"
                                },
                                {
                                    "0": "1308.9375"
                                },
                                {
                                    "0": "1308.9375"
                                },
                                {
                                    "0": "1308.9375"
                                },
                                {
                                    "0": "1466.0100"
                                },
                                {
                                    "0": "1308.9375"
                                },
                                {
                                    "0": "1308.9375"
                                },
                                {
                                    "0": "1466.0100"
                                },
                                {
                                    "0": "1466.0100"
                                },
                                {
                                    "0": "1229.4589"
                                },
                                {
                                    "0": "1229.4589"
                                },
                                {
                                    "0": "1242.8518"
                                },
                                {
                                    "0": "1229.4589"
                                },
                                {
                                    "0": "1242.8518"
                                },
                                {
                                    "0": "1242.8518"
                                },
                                {
                                    "0": "1229.4589"
                                },
                                {
                                    "0": "1242.8518"
                                },
                                {
                                    "0": "1229.4589"
                                },
                                {
                                    "0": "1229.4589"
                                },
                                {
                                    "0": "1242.8518"
                                },
                                {
                                    "0": "1242.8518"
                                },
                                {
                                    "0": "1229.4589"
                                },
                                {
                                    "0": "1229.4589"
                                },
                                {
                                    "0": "1242.8518"
                                },
                                {
                                    "0": "1229.4589"
                                },
                                {
                                    "0": "1308.9375"
                                },
                                {
                                    "0": "1308.9375"
                                },
                                {
                                    "0": "1466.0100"
                                },
                                {
                                    "0": "1308.9375"
                                },
                                {
                                    "0": "1308.9375"
                                },
                                {
                                    "0": "1466.0100"
                                },
                                {
                                    "0": "1466.0100"
                                },
                                {
                                    "0": "1308.9375"
                                },
                                {
                                    "0": "1308.9375"
                                },
                                {
                                    "0": "1308.9375"
                                },
                                {
                                    "0": "1466.0100"
                                },
                                {
                                    "0": "1308.9375"
                                },
                                {
                                    "0": "1466.0100"
                                },
                                {
                                    "0": "1308.9375"
                                },
                                {
                                    "0": "1308.9375"
                                },
                                {
                                    "0": "1466.0100"
                                },
                                {
                                    "0": "1229.4589"
                                },
                                {
                                    "0": "1242.8518"
                                },
                                {
                                    "0": "1242.8518"
                                },
                                {
                                    "0": "1242.8518"
                                },
                                {
                                    "0": "1229.4589"
                                },
                                {
                                    "0": "1466.0100"
                                },
                                {
                                    "0": "1466.0100"
                                },
                                {
                                    "0": "1466.0100"
                                },
                                {
                                    "0": "1308.9375"
                                },
                                {
                                    "0": "1308.9375"
                                },
                                {
                                    "0": "1229.4589"
                                },
                                {
                                    "0": "1229.4589"
                                },
                                {
                                    "0": "1229.4589"
                                },
                                {
                                    "0": "1242.8518"
                                },
                                {
                                    "0": "1229.4589"
                                },
                                {
                                    "0": "1201.4234"
                                },
                                {
                                    "0": "1229.4589"
                                },
                                {
                                    "0": "1242.8518"
                                },
                                {
                                    "0": "1466.0100"
                                },
                                {
                                    "0": "1466.0100"
                                },
                                {
                                    "0": "1308.9375"
                                },
                                {
                                    "0": "1308.9375"
                                },
                                {
                                    "0": "1308.9375"
                                },
                                {
                                    "0": "1308.9375"
                                },
                                {
                                    "0": "1466.0100"
                                },
                                {
                                    "0": "1308.9375"
                                },
                                {
                                    "0": "1308.9375"
                                },
                                {
                                    "0": "1466.0100"
                                },
                                {
                                    "0": "1308.9375"
                                },
                                {
                                    "0": "1308.9375"
                                },
                                {
                                    "0": "1308.9375"
                                },
                                {
                                    "0": "1308.9375"
                                },
                                {
                                    "0": "1466.0100"
                                },
                                {
                                    "0": "1466.0100"
                                },
                                {
                                    "0": "1242.8518"
                                },
                                {
                                    "0": "1229.4589"
                                },
                                {
                                    "0": "1229.4589"
                                },
                                {
                                    "0": "1229.4589"
                                },
                                {
                                    "0": "1229.4589"
                                },
                                {
                                    "0": "1242.8518"
                                },
                                {
                                    "0": "1229.4589"
                                },
                                {
                                    "0": "1242.8518"
                                },
                                {
                                    "0": "1229.4589"
                                },
                                {
                                    "0": "1242.8518"
                                },
                                {
                                    "0": "1229.4589"
                                },
                                {
                                    "0": "1229.4589"
                                },
                                {
                                    "0": "1242.8518"
                                },
                                {
                                    "0": "1466.0100"
                                },
                                {
                                    "0": "1308.9375"
                                },
                                {
                                    "0": "1466.0100"
                                },
                                {
                                    "0": "1308.9375"
                                },
                                {
                                    "0": "1308.9375"
                                },
                                {
                                    "0": "1466.0100"
                                },
                                {
                                    "0": "1242.8518"
                                },
                                {
                                    "0": "1229.4589"
                                },
                                {
                                    "0": "1229.4589"
                                },
                                {
                                    "0": "1229.4589"
                                },
                                {
                                    "0": "1242.8518"
                                },
                                {
                                    "0": "1242.8518"
                                },
                                {
                                    "0": "1229.4589"
                                },
                                {
                                    "0": "1242.8518"
                                },
                                {
                                    "0": "1229.4589"
                                },
                                {
                                    "0": "1229.4589"
                                },
                                {
                                    "0": "1242.8518"
                                },
                                {
                                    "0": "1229.4589"
                                },
                                {
                                    "0": "1229.4589"
                                },
                                {
                                    "0": "1229.4589"
                                },
                                {
                                    "0": "1242.8518"
                                },
                                {
                                    "0": "1242.8518"
                                },
                                {
                                    "0": "1242.8518"
                                },
                                {
                                    "0": "1229.4589"
                                },
                                {
                                    "0": "1242.8518"
                                },
                                {
                                    "0": "1242.8518"
                                },
                                {
                                    "0": "1229.4589"
                                },
                                {
                                    "0": "1242.8518"
                                },
                                {
                                    "0": "1229.4589"
                                },
                                {
                                    "0": "1308.9375"
                                },
                                {
                                    "0": "1308.9375"
                                },
                                {
                                    "0": "1308.9375"
                                },
                                {
                                    "0": "1308.9375"
                                },
                                {
                                    "0": "1466.0100"
                                },
                                {
                                    "0": "1466.0100"
                                },
                                {
                                    "0": "1308.9375"
                                },
                                {
                                    "0": "1466.0100"
                                },
                                {
                                    "0": "1466.0100"
                                },
                                {
                                    "0": "1308.9375"
                                },
                                {
                                    "0": "1466.0100"
                                },
                                {
                                    "0": "1308.9375"
                                },
                                {
                                    "0": "1242.8518"
                                },
                                {
                                    "0": "1242.8518"
                                },
                                {
                                    "0": "1242.8518"
                                },
                                {
                                    "0": "1242.8518"
                                },
                                {
                                    "0": "1229.4589"
                                },
                                {
                                    "0": "1229.4589"
                                },
                                {
                                    "0": "1242.8518"
                                },
                                {
                                    "0": "1229.4589"
                                },
                                {
                                    "0": "1308.9375"
                                },
                                {
                                    "0": "1308.9375"
                                },
                                {
                                    "0": "1466.0100"
                                },
                                {
                                    "0": "1308.9375"
                                },
                                {
                                    "0": "1229.4589"
                                },
                                {
                                    "0": "1229.4589"
                                },
                                {
                                    "0": "1466.0100"
                                },
                                {
                                    "0": "1308.9375"
                                },
                                {
                                    "0": "1466.0100"
                                },
                                {
                                    "0": "1308.9375"
                                },
                                {
                                    "0": "1308.9375"
                                },
                                {
                                    "0": "1308.9375"
                                },
                                {
                                    "0": "1242.8518"
                                },
                                {
                                    "0": "1229.4589"
                                },
                                {
                                    "0": "1242.8518"
                                },
                                {
                                    "0": "1229.4589"
                                },
                                {
                                    "0": "1229.4589"
                                },
                                {
                                    "0": "1242.8518"
                                },
                                {
                                    "0": "1466.0100"
                                },
                                {
                                    "0": "1466.0100"
                                },
                                {
                                    "0": "1308.9375"
                                },
                                {
                                    "0": "1308.9375"
                                },
                                {
                                    "0": "1308.9375"
                                },
                                {
                                    "0": "1466.0100"
                                },
                                {
                                    "0": "1242.8518"
                                },
                                {
                                    "0": "1229.4589"
                                },
                                {
                                    "0": "1242.8518"
                                },
                                {
                                    "0": "1242.8518"
                                },
                                {
                                    "0": "1229.4589"
                                },
                                {
                                    "0": "1229.4589"
                                },
                                {
                                    "0": "1242.8518"
                                },
                                {
                                    "0": "1242.8518"
                                },
                                {
                                    "0": "1466.0100"
                                },
                                {
                                    "0": "1229.4589"
                                },
                                {
                                    "0": "1466.0100"
                                },
                                {
                                    "0": "1308.9375"
                                },
                                {
                                    "0": "1466.0100"
                                },
                                {
                                    "0": "1466.0100"
                                },
                                {
                                    "0": "1242.8518"
                                },
                                {
                                    "0": "1229.4589"
                                },
                                {
                                    "0": "1242.8518"
                                },
                                {
                                    "0": "1242.8518"
                                },
                                {
                                    "0": "1229.4589"
                                },
                                {
                                    "0": "1229.4589"
                                },
                                {
                                    "0": "1229.4589"
                                },
                                {
                                    "0": "1229.4589"
                                },
                                {
                                    "0": "1229.4589"
                                },
                                {
                                    "0": "1242.8518"
                                },
                                {
                                    "0": "1242.8518"
                                },
                                {
                                    "0": "1242.8518"
                                },
                                {
                                    "0": "1466.0100"
                                },
                                {
                                    "0": "1466.0100"
                                },
                                {
                                    "0": "1308.9375"
                                },
                                {
                                    "0": "1308.9375"
                                },
                                {
                                    "0": "1308.9375"
                                },
                                {
                                    "0": "1308.9375"
                                },
                                {
                                    "0": "1308.9375"
                                },
                                {
                                    "0": "1466.0100"
                                },
                                {
                                    "0": "1466.0100"
                                },
                                {
                                    "0": "1308.9375"
                                },
                                {
                                    "0": "1308.9375"
                                },
                                {
                                    "0": "1466.0100"
                                },
                                {
                                    "0": "1308.9375"
                                },
                                {
                                    "0": "1466.0100"
                                },
                                {
                                    "0": "1308.9375"
                                },
                                {
                                    "0": "1308.9375"
                                },
                                {
                                    "0": "1466.0100"
                                },
                                {
                                    "0": "1466.0100"
                                },
                                {
                                    "0": "1242.8518"
                                },
                                {
                                    "0": "1229.4589"
                                },
                                {
                                    "0": "1229.4589"
                                },
                                {
                                    "0": "1308.9375"
                                },
                                {
                                    "0": "1308.9375"
                                },
                                {
                                    "0": "1466.0100"
                                },
                                {
                                    "0": "1466.0100"
                                },
                                {
                                    "0": "1308.9375"
                                },
                                {
                                    "0": "1308.9375"
                                },
                                {
                                    "0": "1466.0100"
                                },
                                {
                                    "0": "1308.9375"
                                },
                                {
                                    "0": "1308.9375"
                                },
                                {
                                    "0": "1308.9375"
                                },
                                {
                                    "0": "1466.0100"
                                },
                                {
                                    "0": "1308.9375"
                                },
                                {
                                    "0": "1308.9375"
                                },
                                {
                                    "0": "1466.0100"
                                },
                                {
                                    "0": "1308.9375"
                                },
                                {
                                    "0": "1308.9375"
                                },
                                {
                                    "0": "1466.0100"
                                },
                                {
                                    "0": "1242.8518"
                                },
                                {
                                    "0": "1229.4589"
                                },
                                {
                                    "0": "1229.4589"
                                },
                                {
                                    "0": "1242.8518"
                                },
                                {
                                    "0": "1229.4589"
                                },
                                {
                                    "0": "1242.8518"
                                },
                                {
                                    "0": "1466.0100"
                                },
                                {
                                    "0": "1308.9375"
                                },
                                {
                                    "0": "1466.0100"
                                },
                                {
                                    "0": "1308.9375"
                                },
                                {
                                    "0": "1466.0100"
                                },
                                {
                                    "0": "1242.8518"
                                },
                                {
                                    "0": "1242.8518"
                                },
                                {
                                    "0": "1242.8518"
                                },
                                {
                                    "0": "1229.4589"
                                },
                                {
                                    "0": "1229.4589"
                                },
                                {
                                    "0": "1229.4589"
                                },
                                {
                                    "0": "1242.8518"
                                },
                                {
                                    "0": "1229.4589"
                                },
                                {
                                    "0": "1242.8518"
                                },
                                {
                                    "0": "1229.4589"
                                },
                                {
                                    "0": "1242.8518"
                                },
                                {
                                    "0": "1229.4589"
                                },
                                {
                                    "0": "1229.4589"
                                },
                                {
                                    "0": "1242.8518"
                                },
                                {
                                    "0": "1242.8518"
                                },
                                {
                                    "0": "1242.8518"
                                },
                                {
                                    "0": "1466.0100"
                                },
                                {
                                    "0": "1466.0100"
                                },
                                {
                                    "0": "1308.9375"
                                },
                                {
                                    "0": "1308.9375"
                                },
                                {
                                    "0": "1308.9375"
                                },
                                {
                                    "0": "1308.9375"
                                },
                                {
                                    "0": "1466.0100"
                                },
                                {
                                    "0": "1308.9375"
                                },
                                {
                                    "0": "1308.9375"
                                },
                                {
                                    "0": "1308.9375"
                                },
                                {
                                    "0": "1466.0100"
                                },
                                {
                                    "0": "1308.9375"
                                },
                                {
                                    "0": "1466.0100"
                                },
                                {
                                    "0": "1308.9375"
                                },
                                {
                                    "0": "1466.0100"
                                },
                                {
                                    "0": "1466.0100"
                                },
                                {
                                    "0": "1308.9375"
                                },
                                {
                                    "0": "1242.8518"
                                },
                                {
                                    "0": "1229.4589"
                                },
                                {
                                    "0": "1229.4589"
                                },
                                {
                                    "0": "1229.4589"
                                },
                                {
                                    "0": "1229.4589"
                                },
                                {
                                    "0": "1229.4589"
                                },
                                {
                                    "0": "1242.8518"
                                },
                                {
                                    "0": "1308.9375"
                                },
                                {
                                    "0": "1466.0100"
                                },
                                {
                                    "0": "1308.9375"
                                },
                                {
                                    "0": "1308.9375"
                                },
                                {
                                    "0": "1308.9375"
                                },
                                {
                                    "0": "1466.0100"
                                },
                                {
                                    "0": "1308.9375"
                                },
                                {
                                    "0": "1466.0100"
                                },
                                {
                                    "0": "1229.4589"
                                },
                                {
                                    "0": "1242.8518"
                                },
                                {
                                    "0": "1229.4589"
                                },
                                {
                                    "0": "1242.8518"
                                },
                                {
                                    "0": "1229.4589"
                                },
                                {
                                    "0": "1242.8518"
                                },
                                {
                                    "0": "1229.4589"
                                },
                                {
                                    "0": "1242.8518"
                                },
                                {
                                    "0": "1229.4589"
                                },
                                {
                                    "0": "1229.4589"
                                },
                                {
                                    "0": "1242.8518"
                                },
                                {
                                    "0": "1242.8518"
                                },
                                {
                                    "0": "1229.4589"
                                },
                                {
                                    "0": "1242.8518"
                                },
                                {
                                    "0": "1229.4589"
                                },
                                {
                                    "0": "1229.4589"
                                },
                                {
                                    "0": "1242.8518"
                                },
                                {
                                    "0": "1229.4589"
                                },
                                {
                                    "0": "1466.0100"
                                },
                                {
                                    "0": "1308.9375"
                                },
                                {
                                    "0": "1308.9375"
                                },
                                {
                                    "0": "1466.0100"
                                },
                                {
                                    "0": "1308.9375"
                                },
                                {
                                    "0": "1466.0100"
                                },
                                {
                                    "0": "1229.4589"
                                },
                                {
                                    "0": "1242.8518"
                                },
                                {
                                    "0": "1229.4589"
                                },
                                {
                                    "0": "1229.4589"
                                },
                                {
                                    "0": "1242.8518"
                                },
                                {
                                    "0": "1242.8518"
                                },
                                {
                                    "0": "1466.0100"
                                },
                                {
                                    "0": "1308.9375"
                                },
                                {
                                    "0": "1229.4589"
                                },
                                {
                                    "0": "1308.9375"
                                },
                                {
                                    "0": "1308.9375"
                                },
                                {
                                    "0": "1466.0100"
                                },
                                {
                                    "0": "1308.9375"
                                },
                                {
                                    "0": "1308.9375"
                                },
                                {
                                    "0": "1466.0100"
                                },
                                {
                                    "0": "1308.9375"
                                },
                                {
                                    "0": "1308.9375"
                                },
                                {
                                    "0": "1308.9375"
                                },
                                {
                                    "0": "1308.9375"
                                },
                                {
                                    "0": "1308.9375"
                                },
                                {
                                    "0": "1466.0100"
                                },
                                {
                                    "0": "1466.0100"
                                },
                                {
                                    "0": "1308.9375"
                                },
                                {
                                    "0": "1466.0100"
                                },
                                {
                                    "0": "1229.4589"
                                },
                                {
                                    "0": "1229.4589"
                                },
                                {
                                    "0": "1242.8518"
                                },
                                {
                                    "0": "1229.4589"
                                },
                                {
                                    "0": "1308.9375"
                                },
                                {
                                    "0": "1466.0100"
                                },
                                {
                                    "0": "1308.9375"
                                },
                                {
                                    "0": "1308.9375"
                                },
                                {
                                    "0": "1466.0100"
                                },
                                {
                                    "0": "1466.0100"
                                },
                                {
                                    "0": "1308.9375"
                                },
                                {
                                    "0": "1229.4589"
                                },
                                {
                                    "0": "1242.8518"
                                },
                                {
                                    "0": "1229.4589"
                                },
                                {
                                    "0": "1242.8518"
                                },
                                {
                                    "0": "1229.4589"
                                },
                                {
                                    "0": "1242.8518"
                                },
                                {
                                    "0": "1229.4589"
                                },
                                {
                                    "0": "1242.8518"
                                },
                                {
                                    "0": "1229.4589"
                                },
                                {
                                    "0": "1308.9375"
                                },
                                {
                                    "0": "1000.4375"
                                },
                                {
                                    "0": "1000.4375"
                                },
                                {
                                    "0": "1000.4375"
                                },
                                {
                                    "0": "1000.4375"
                                },
                                {
                                    "0": "1000.4375"
                                },
                                {
                                    "0": "1000.4375"
                                },
                                {
                                    "0": "1000.4375"
                                },
                                {
                                    "0": "1000.4375"
                                },
                                {
                                    "0": "1000.4375"
                                },
                                {
                                    "0": "1000.4375"
                                },
                                {
                                    "0": "1000.4375"
                                },
                                {
                                    "0": "1000.4375"
                                },
                                {
                                    "0": "1000.4375"
                                },
                                {
                                    "0": "1000.4375"
                                },
                                {
                                    "0": "1000.4375"
                                },
                                {
                                    "0": "1000.4375"
                                },
                                {
                                    "0": "1000.4375"
                                },
                                {
                                    "0": "1000.4375"
                                },
                                {
                                    "0": "1000.4375"
                                },
                                {
                                    "0": "1000.4375"
                                },
                                {
                                    "0": "1000.4375"
                                },
                                {
                                    "0": "1242.8518"
                                },
                                {
                                    "0": "1229.4589"
                                },
                                {
                                    "0": "1242.8518"
                                },
                                {
                                    "0": "1242.8518"
                                },
                                {
                                    "0": "1229.4589"
                                },
                                {
                                    "0": "1242.8518"
                                },
                                {
                                    "0": "1229.4589"
                                },
                                {
                                    "0": "1229.4589"
                                },
                                {
                                    "0": "1229.4589"
                                },
                                {
                                    "0": "1242.8518"
                                },
                                {
                                    "0": "1242.8518"
                                },
                                {
                                    "0": "1242.8518"
                                },
                                {
                                    "0": "1308.9375"
                                },
                                {
                                    "0": "1308.9375"
                                },
                                {
                                    "0": "1466.0100"
                                },
                                {
                                    "0": "1466.0100"
                                },
                                {
                                    "0": "1308.9375"
                                },
                                {
                                    "0": "1466.0100"
                                },
                                {
                                    "0": "1308.9375"
                                },
                                {
                                    "0": "1308.9375"
                                },
                                {
                                    "0": "1308.9375"
                                },
                                {
                                    "0": "1466.0100"
                                },
                                {
                                    "0": "1308.9375"
                                },
                                {
                                    "0": "1308.9375"
                                },
                                {
                                    "0": "1242.8518"
                                },
                                {
                                    "0": "1242.8518"
                                },
                                {
                                    "0": "1229.4589"
                                },
                                {
                                    "0": "1229.4589"
                                },
                                {
                                    "0": "1229.4589"
                                },
                                {
                                    "0": "1242.8518"
                                },
                                {
                                    "0": "1242.8518"
                                },
                                {
                                    "0": "1229.4589"
                                },
                                {
                                    "0": "1242.8518"
                                },
                                {
                                    "0": "1229.4589"
                                },
                                {
                                    "0": "1229.4589"
                                },
                                {
                                    "0": "1229.4589"
                                },
                                {
                                    "0": "1201.4234"
                                },
                                {
                                    "0": "1201.4234"
                                },
                                {
                                    "0": "1229.4589"
                                },
                                {
                                    "0": "1242.8518"
                                },
                                {
                                    "0": "1308.9375"
                                },
                                {
                                    "0": "1466.0100"
                                },
                                {
                                    "0": "1308.9375"
                                },
                                {
                                    "0": "1466.0100"
                                },
                                {
                                    "0": "1308.9375"
                                },
                                {
                                    "0": "1308.9375"
                                },
                                {
                                    "0": "1466.0100"
                                },
                                {
                                    "0": "1308.9375"
                                },
                                {
                                    "0": "1308.9375"
                                },
                                {
                                    "0": "1308.9375"
                                },
                                {
                                    "0": "1466.0100"
                                },
                                {
                                    "0": "1466.0100"
                                },
                                {
                                    "0": "1466.0100"
                                },
                                {
                                    "0": "1308.9375"
                                },
                                {
                                    "0": "1308.9375"
                                },
                                {
                                    "0": "1466.0100"
                                },
                                {
                                    "0": "1466.0100"
                                },
                                {
                                    "0": "1308.9375"
                                },
                                {
                                    "0": "1466.0100"
                                },
                                {
                                    "0": "1242.8518"
                                },
                                {
                                    "0": "1242.8518"
                                },
                                {
                                    "0": "1229.4589"
                                },
                                {
                                    "0": "1229.4589"
                                },
                                {
                                    "0": "1308.9375"
                                },
                                {
                                    "0": "1308.9375"
                                },
                                {
                                    "0": "1466.0100"
                                },
                                {
                                    "0": "1308.9375"
                                },
                                {
                                    "0": "1466.0100"
                                },
                                {
                                    "0": "1229.4589"
                                },
                                {
                                    "0": "1229.4589"
                                },
                                {
                                    "0": "1229.4589"
                                },
                                {
                                    "0": "1242.8518"
                                },
                                {
                                    "0": "1242.8518"
                                },
                                {
                                    "0": "1242.8518"
                                },
                                {
                                    "0": "1242.8518"
                                },
                                {
                                    "0": "1242.8518"
                                },
                                {
                                    "0": "1229.4589"
                                },
                                {
                                    "0": "1242.8518"
                                },
                                {
                                    "0": "1466.0100"
                                },
                                {
                                    "0": "1466.0100"
                                },
                                {
                                    "0": "1308.9375"
                                },
                                {
                                    "0": "1308.9375"
                                },
                                {
                                    "0": "1308.9375"
                                },
                                {
                                    "0": "1308.9375"
                                },
                                {
                                    "0": "1466.0100"
                                },
                                {
                                    "0": "1466.0100"
                                },
                                {
                                    "0": "1229.4589"
                                },
                                {
                                    "0": "1242.8518"
                                },
                                {
                                    "0": "1242.8518"
                                },
                                {
                                    "0": "1229.4589"
                                },
                                {
                                    "0": "1242.8518"
                                },
                                {
                                    "0": "1308.9375"
                                },
                                {
                                    "0": "1466.0100"
                                },
                                {
                                    "0": "1466.0100"
                                },
                                {
                                    "0": "1308.9375"
                                },
                                {
                                    "0": "1308.9375"
                                },
                                {
                                    "0": "1229.4589"
                                },
                                {
                                    "0": "1229.4589"
                                },
                                {
                                    "0": "1229.4589"
                                },
                                {
                                    "0": "1242.8518"
                                },
                                {
                                    "0": "1242.8518"
                                },
                                {
                                    "0": "1242.8518"
                                },
                                {
                                    "0": "1229.4589"
                                },
                                {
                                    "0": "1308.9375"
                                },
                                {
                                    "0": "1308.9375"
                                },
                                {
                                    "0": "1466.0100"
                                },
                                {
                                    "0": "1265.3063"
                                },
                                {
                                    "0": "1466.0100"
                                },
                                {
                                    "0": "1466.0100"
                                },
                                {
                                    "0": "1229.4589"
                                },
                                {
                                    "0": "1242.8518"
                                },
                                {
                                    "0": "1229.4589"
                                },
                                {
                                    "0": "1308.9375"
                                },
                                {
                                    "0": "1466.0100"
                                },
                                {
                                    "0": "1308.9375"
                                },
                                {
                                    "0": "1308.9375"
                                },
                                {
                                    "0": "1308.9375"
                                },
                                {
                                    "0": "1466.0100"
                                },
                                {
                                    "0": "1466.0100"
                                },
                                {
                                    "0": "1242.8518"
                                },
                                {
                                    "0": "1229.4589"
                                },
                                {
                                    "0": "1242.8518"
                                },
                                {
                                    "0": "1229.4589"
                                },
                                {
                                    "0": "1229.4589"
                                },
                                {
                                    "0": "1229.4589"
                                },
                                {
                                    "0": "1242.8518"
                                },
                                {
                                    "0": "1242.8518"
                                },
                                {
                                    "0": "1229.4589"
                                },
                                {
                                    "0": "1242.8518"
                                },
                                {
                                    "0": "1229.4589"
                                },
                                {
                                    "0": "1242.8518"
                                },
                                {
                                    "0": "1242.8518"
                                },
                                {
                                    "0": "1242.8518"
                                },
                                {
                                    "0": "1308.9375"
                                },
                                {
                                    "0": "1229.4589"
                                },
                                {
                                    "0": "1229.4589"
                                },
                                {
                                    "0": "1242.8518"
                                },
                                {
                                    "0": "1229.4589"
                                },
                                {
                                    "0": "1229.4589"
                                },
                                {
                                    "0": "1242.8518"
                                },
                                {
                                    "0": "1242.8518"
                                },
                                {
                                    "0": "1229.4589"
                                },
                                {
                                    "0": "1242.8518"
                                },
                                {
                                    "0": "1308.9375"
                                },
                                {
                                    "0": "1466.0100"
                                },
                                {
                                    "0": "1466.0100"
                                },
                                {
                                    "0": "1308.9375"
                                },
                                {
                                    "0": "1308.9375"
                                },
                                {
                                    "0": "1466.0100"
                                },
                                {
                                    "0": "1308.9375"
                                },
                                {
                                    "0": "1229.4589"
                                },
                                {
                                    "0": "1229.4589"
                                },
                                {
                                    "0": "1242.8518"
                                },
                                {
                                    "0": "1229.4589"
                                },
                                {
                                    "0": "1242.8518"
                                },
                                {
                                    "0": "1229.4589"
                                },
                                {
                                    "0": "1242.8518"
                                },
                                {
                                    "0": "1229.4589"
                                },
                                {
                                    "0": "1242.8518"
                                },
                                {
                                    "0": "1229.4589"
                                },
                                {
                                    "0": "1242.8518"
                                },
                                {
                                    "0": "1229.4589"
                                },
                                {
                                    "0": "1242.8518"
                                },
                                {
                                    "0": "1229.4589"
                                },
                                {
                                    "0": "1242.8518"
                                },
                                {
                                    "0": "1229.4589"
                                },
                                {
                                    "0": "1308.9375"
                                },
                                {
                                    "0": "1308.9375"
                                },
                                {
                                    "0": "1466.0100"
                                },
                                {
                                    "0": "1466.0100"
                                },
                                {
                                    "0": "1308.9375"
                                },
                                {
                                    "0": "1466.0100"
                                },
                                {
                                    "0": "1466.0100"
                                },
                                {
                                    "0": "1308.9375"
                                },
                                {
                                    "0": "1466.0100"
                                },
                                {
                                    "0": "1308.9375"
                                },
                                {
                                    "0": "1466.0100"
                                },
                                {
                                    "0": "1308.9375"
                                },
                                {
                                    "0": "1229.4589"
                                },
                                {
                                    "0": "1229.4589"
                                },
                                {
                                    "0": "1242.8518"
                                },
                                {
                                    "0": "1242.8518"
                                },
                                {
                                    "0": "1308.9375"
                                },
                                {
                                    "0": "1242.8518"
                                },
                                {
                                    "0": "1242.8518"
                                },
                                {
                                    "0": "1229.4589"
                                },
                                {
                                    "0": "1229.4589"
                                },
                                {
                                    "0": "1242.8518"
                                },
                                {
                                    "0": "1242.8518"
                                },
                                {
                                    "0": "1229.4589"
                                },
                                {
                                    "0": "1229.4589"
                                },
                                {
                                    "0": "1242.8518"
                                },
                                {
                                    "0": "1242.8518"
                                },
                                {
                                    "0": "1229.4589"
                                },
                                {
                                    "0": "1242.8518"
                                },
                                {
                                    "0": "1229.4589"
                                },
                                {
                                    "0": "1242.8518"
                                },
                                {
                                    "0": "1308.9375"
                                },
                                {
                                    "0": "1466.0100"
                                },
                                {
                                    "0": "1308.9375"
                                },
                                {
                                    "0": "1466.0100"
                                },
                                {
                                    "0": "1229.4589"
                                },
                                {
                                    "0": "1229.4589"
                                },
                                {
                                    "0": "1229.4589"
                                },
                                {
                                    "0": "1229.4589"
                                },
                                {
                                    "0": "1242.8518"
                                },
                                {
                                    "0": "1242.8518"
                                },
                                {
                                    "0": "1242.8518"
                                },
                                {
                                    "0": "1242.8518"
                                },
                                {
                                    "0": "1242.8518"
                                },
                                {
                                    "0": "1242.8518"
                                },
                                {
                                    "0": "1229.4589"
                                },
                                {
                                    "0": "1229.4589"
                                },
                                {
                                    "0": "1242.8518"
                                },
                                {
                                    "0": "1242.8518"
                                },
                                {
                                    "0": "1229.4589"
                                },
                                {
                                    "0": "1308.9375"
                                },
                                {
                                    "0": "1308.9375"
                                },
                                {
                                    "0": "1308.9375"
                                },
                                {
                                    "0": "1466.0100"
                                },
                                {
                                    "0": "1466.0100"
                                },
                                {
                                    "0": "1308.9375"
                                },
                                {
                                    "0": "1308.9375"
                                },
                                {
                                    "0": "1229.4589"
                                },
                                {
                                    "0": "1242.8518"
                                },
                                {
                                    "0": "1229.4589"
                                },
                                {
                                    "0": "1242.8518"
                                },
                                {
                                    "0": "1229.4589"
                                },
                                {
                                    "0": "1242.8518"
                                },
                                {
                                    "0": "1229.4589"
                                },
                                {
                                    "0": "1229.4589"
                                },
                                {
                                    "0": "1229.4589"
                                },
                                {
                                    "0": "1466.0100"
                                },
                                {
                                    "0": "1466.0100"
                                },
                                {
                                    "0": "1308.9375"
                                },
                                {
                                    "0": "1308.9375"
                                },
                                {
                                    "0": "1308.9375"
                                },
                                {
                                    "0": "1466.0100"
                                },
                                {
                                    "0": "1466.0100"
                                },
                                {
                                    "0": "1308.9375"
                                },
                                {
                                    "0": "1308.9375"
                                },
                                {
                                    "0": "1466.0100"
                                },
                                {
                                    "0": "1308.9375"
                                },
                                {
                                    "0": "1308.9375"
                                },
                                {
                                    "0": "1466.0100"
                                },
                                {
                                    "0": "1308.9375"
                                },
                                {
                                    "0": "1242.8518"
                                },
                                {
                                    "0": "1229.4589"
                                },
                                {
                                    "0": "1229.4589"
                                },
                                {
                                    "0": "1242.8518"
                                },
                                {
                                    "0": "1242.8518"
                                },
                                {
                                    "0": "1242.8518"
                                },
                                {
                                    "0": "1229.4589"
                                },
                                {
                                    "0": "1242.8518"
                                },
                                {
                                    "0": "1242.8518"
                                },
                                {
                                    "0": "1229.4589"
                                },
                                {
                                    "0": "1242.8518"
                                },
                                {
                                    "0": "1229.4589"
                                },
                                {
                                    "0": "1242.8518"
                                },
                                {
                                    "0": "1229.4589"
                                },
                                {
                                    "0": "1242.8518"
                                },
                                {
                                    "0": "1229.4589"
                                },
                                {
                                    "0": "1229.4589"
                                },
                                {
                                    "0": "1242.8518"
                                },
                                {
                                    "0": "1229.4589"
                                },
                                {
                                    "0": "1229.4589"
                                },
                                {
                                    "0": "1229.4589"
                                },
                                {
                                    "0": "1229.4589"
                                },
                                {
                                    "0": "1000.4375"
                                },
                                {
                                    "0": "1000.4375"
                                },
                                {
                                    "0": "1000.4375"
                                },
                                {
                                    "0": "1000.4375"
                                },
                                {
                                    "0": "1000.4375"
                                },
                                {
                                    "0": "1000.4375"
                                },
                                {
                                    "0": "1000.4375"
                                },
                                {
                                    "0": "1000.4375"
                                },
                                {
                                    "0": "1000.4375"
                                },
                                {
                                    "0": "1000.4375"
                                },
                                {
                                    "0": "1000.4375"
                                },
                                {
                                    "0": "1000.4375"
                                },
                                {
                                    "0": "1000.4375"
                                },
                                {
                                    "0": "1000.4375"
                                },
                                {
                                    "0": "1000.4375"
                                },
                                {
                                    "0": "1000.4375"
                                },
                                {
                                    "0": "1000.4375"
                                },
                                {
                                    "0": "1000.4375"
                                },
                                {
                                    "0": "1000.4375"
                                },
                                {
                                    "0": "1000.4375"
                                },
                                {
                                    "0": "1000.4375"
                                },
                                {
                                    "0": "1000.4375"
                                },
                                {
                                    "0": "1000.4375"
                                },
                                {
                                    "0": "1000.4375"
                                },
                                {
                                    "0": "1000.4375"
                                },
                                {
                                    "0": "1000.4375"
                                },
                                {
                                    "0": "1000.4375"
                                },
                                {
                                    "0": "1000.4375"
                                },
                                {
                                    "0": "1000.4375"
                                },
                                {
                                    "0": "1000.4375"
                                },
                                {
                                    "0": "1000.4375"
                                },
                                {
                                    "0": "1000.4375"
                                },
                                {
                                    "0": "1000.4375"
                                },
                                {
                                    "0": "1000.4375"
                                },
                                {
                                    "0": "1000.4375"
                                },
                                {
                                    "0": "1000.4375"
                                },
                                {
                                    "0": "1000.4375"
                                },
                                {
                                    "0": "1000.4375"
                                },
                                {
                                    "0": "1000.4375"
                                },
                                {
                                    "0": "1000.4375"
                                },
                                {
                                    "0": "1000.4375"
                                },
                                {
                                    "0": "1000.4375"
                                },
                                {
                                    "0": "1229.4589"
                                },
                                {
                                    "0": "1229.4589"
                                },
                                {
                                    "0": "1229.4589"
                                },
                                {
                                    "0": "1242.8518"
                                },
                                {
                                    "0": "1242.8518"
                                },
                                {
                                    "0": "1242.8518"
                                },
                                {
                                    "0": "1242.8518"
                                },
                                {
                                    "0": "1242.8518"
                                },
                                {
                                    "0": "1229.4589"
                                },
                                {
                                    "0": "1229.4589"
                                },
                                {
                                    "0": "1308.9375"
                                },
                                {
                                    "0": "1466.0100"
                                },
                                {
                                    "0": "1466.0100"
                                },
                                {
                                    "0": "1308.9375"
                                },
                                {
                                    "0": "1466.0100"
                                },
                                {
                                    "0": "1308.9375"
                                },
                                {
                                    "0": "1308.9375"
                                },
                                {
                                    "0": "1308.9375"
                                },
                                {
                                    "0": "1242.8518"
                                },
                                {
                                    "0": "1229.4589"
                                },
                                {
                                    "0": "1242.8518"
                                },
                                {
                                    "0": "1229.4589"
                                },
                                {
                                    "0": "1308.9375"
                                },
                                {
                                    "0": "1308.9375"
                                },
                                {
                                    "0": "1308.9375"
                                },
                                {
                                    "0": "1308.9375"
                                },
                                {
                                    "0": "1466.0100"
                                },
                                {
                                    "0": "1466.0100"
                                },
                                {
                                    "0": "1466.0100"
                                },
                                {
                                    "0": "1308.9375"
                                },
                                {
                                    "0": "1308.9375"
                                },
                                {
                                    "0": "1466.0100"
                                },
                                {
                                    "0": "1229.4589"
                                },
                                {
                                    "0": "1242.8518"
                                },
                                {
                                    "0": "1229.4589"
                                },
                                {
                                    "0": "1229.4589"
                                },
                                {
                                    "0": "1229.4589"
                                },
                                {
                                    "0": "1229.4589"
                                },
                                {
                                    "0": "1242.8518"
                                },
                                {
                                    "0": "1242.8518"
                                },
                                {
                                    "0": "1229.4589"
                                },
                                {
                                    "0": "1201.4234"
                                },
                                {
                                    "0": "1229.4589"
                                },
                                {
                                    "0": "1229.4589"
                                },
                                {
                                    "0": "1229.4589"
                                },
                                {
                                    "0": "1466.0100"
                                },
                                {
                                    "0": "1308.9375"
                                },
                                {
                                    "0": "1466.0100"
                                },
                                {
                                    "0": "1308.9375"
                                },
                                {
                                    "0": "1466.0100"
                                },
                                {
                                    "0": "1466.0100"
                                },
                                {
                                    "0": "1466.0100"
                                },
                                {
                                    "0": "1308.9375"
                                },
                                {
                                    "0": "1308.9375"
                                },
                                {
                                    "0": "1308.9375"
                                },
                                {
                                    "0": "1308.9375"
                                },
                                {
                                    "0": "1229.4589"
                                },
                                {
                                    "0": "1242.8518"
                                },
                                {
                                    "0": "1229.4589"
                                },
                                {
                                    "0": "1242.8518"
                                },
                                {
                                    "0": "1229.4589"
                                },
                                {
                                    "0": "1242.8518"
                                },
                                {
                                    "0": "1229.4589"
                                },
                                {
                                    "0": "1242.8518"
                                },
                                {
                                    "0": "1242.8518"
                                },
                                {
                                    "0": "1229.4589"
                                },
                                {
                                    "0": "1242.8518"
                                },
                                {
                                    "0": "1229.4589"
                                },
                                {
                                    "0": "1229.4589"
                                },
                                {
                                    "0": "1242.8518"
                                },
                                {
                                    "0": "1229.4589"
                                },
                                {
                                    "0": "1242.8518"
                                },
                                {
                                    "0": "1229.4589"
                                },
                                {
                                    "0": "1242.8518"
                                },
                                {
                                    "0": "1229.4589"
                                },
                                {
                                    "0": "1229.4589"
                                },
                                {
                                    "0": "1242.8518"
                                },
                                {
                                    "0": "1242.8518"
                                },
                                {
                                    "0": "1229.4589"
                                },
                                {
                                    "0": "1229.4589"
                                },
                                {
                                    "0": "1242.8518"
                                },
                                {
                                    "0": "1229.4589"
                                },
                                {
                                    "0": "1242.8518"
                                },
                                {
                                    "0": "1242.8518"
                                },
                                {
                                    "0": "1229.4589"
                                },
                                {
                                    "0": "1229.4589"
                                },
                                {
                                    "0": "1466.0100"
                                },
                                {
                                    "0": "1466.0100"
                                },
                                {
                                    "0": "1308.9375"
                                },
                                {
                                    "0": "1308.9375"
                                },
                                {
                                    "0": "1466.0100"
                                },
                                {
                                    "0": "1466.0100"
                                },
                                {
                                    "0": "1242.8518"
                                },
                                {
                                    "0": "1466.0100"
                                },
                                {
                                    "0": "1308.9375"
                                },
                                {
                                    "0": "1308.9375"
                                },
                                {
                                    "0": "1466.0100"
                                },
                                {
                                    "0": "1242.8518"
                                },
                                {
                                    "0": "1242.8518"
                                },
                                {
                                    "0": "1229.4589"
                                },
                                {
                                    "0": "1229.4589"
                                },
                                {
                                    "0": "1229.4589"
                                },
                                {
                                    "0": "1229.4589"
                                },
                                {
                                    "0": "1242.8518"
                                },
                                {
                                    "0": "1229.4589"
                                },
                                {
                                    "0": "1229.4589"
                                },
                                {
                                    "0": "1242.8518"
                                },
                                {
                                    "0": "1242.8518"
                                },
                                {
                                    "0": "1308.9375"
                                },
                                {
                                    "0": "1308.9375"
                                },
                                {
                                    "0": "1242.8518"
                                },
                                {
                                    "0": "1229.4589"
                                },
                                {
                                    "0": "1229.4589"
                                },
                                {
                                    "0": "1229.4589"
                                },
                                {
                                    "0": "1242.8518"
                                },
                                {
                                    "0": "1242.8518"
                                },
                                {
                                    "0": "1308.9375"
                                },
                                {
                                    "0": "1308.9375"
                                },
                                {
                                    "0": "1466.0100"
                                },
                                {
                                    "0": "1229.4589"
                                },
                                {
                                    "0": "1229.4589"
                                },
                                {
                                    "0": "1466.0100"
                                },
                                {
                                    "0": "1308.9375"
                                },
                                {
                                    "0": "1308.9375"
                                },
                                {
                                    "0": "1466.0100"
                                },
                                {
                                    "0": "1308.9375"
                                },
                                {
                                    "0": "1308.9375"
                                },
                                {
                                    "0": "1308.9375"
                                },
                                {
                                    "0": "1466.0100"
                                },
                                {
                                    "0": "1229.4589"
                                },
                                {
                                    "0": "1242.8518"
                                },
                                {
                                    "0": "1242.8518"
                                },
                                {
                                    "0": "1242.8518"
                                },
                                {
                                    "0": "1229.4589"
                                },
                                {
                                    "0": "1229.4589"
                                },
                                {
                                    "0": "1229.4589"
                                },
                                {
                                    "0": "1229.4589"
                                },
                                {
                                    "0": "1229.4589"
                                },
                                {
                                    "0": "1242.8518"
                                },
                                {
                                    "0": "1242.8518"
                                },
                                {
                                    "0": "1242.8518"
                                },
                                {
                                    "0": "1242.8518"
                                },
                                {
                                    "0": "1229.4589"
                                },
                                {
                                    "0": "1308.9375"
                                },
                                {
                                    "0": "1466.0100"
                                },
                                {
                                    "0": "1466.0100"
                                },
                                {
                                    "0": "1308.9375"
                                },
                                {
                                    "0": "1308.9375"
                                },
                                {
                                    "0": "1466.0100"
                                },
                                {
                                    "0": "1308.9375"
                                },
                                {
                                    "0": "1466.0100"
                                },
                                {
                                    "0": "1466.0100"
                                },
                                {
                                    "0": "1466.0100"
                                },
                                {
                                    "0": "1308.9375"
                                },
                                {
                                    "0": "1308.9375"
                                },
                                {
                                    "0": "1308.9375"
                                },
                                {
                                    "0": "1308.9375"
                                },
                                {
                                    "0": "1466.0100"
                                },
                                {
                                    "0": "1466.0100"
                                },
                                {
                                    "0": "1308.9375"
                                },
                                {
                                    "0": "1000.4375"
                                },
                                {
                                    "0": "1000.4375"
                                },
                                {
                                    "0": "1000.4375"
                                },
                                {
                                    "0": "1000.4375"
                                },
                                {
                                    "0": "1000.4375"
                                },
                                {
                                    "0": "1000.4375"
                                },
                                {
                                    "0": "1000.4375"
                                },
                                {
                                    "0": "1000.4375"
                                },
                                {
                                    "0": "1000.4375"
                                },
                                {
                                    "0": "1000.4375"
                                },
                                {
                                    "0": "1000.4375"
                                },
                                {
                                    "0": "1000.4375"
                                },
                                {
                                    "0": "1000.4375"
                                },
                                {
                                    "0": "1000.4375"
                                },
                                {
                                    "0": "1000.4375"
                                },
                                {
                                    "0": "1000.4375"
                                },
                                {
                                    "0": "1000.4375"
                                },
                                {
                                    "0": "1000.4375"
                                },
                                {
                                    "0": "1000.4375"
                                },
                                {
                                    "0": "1000.4375"
                                },
                                {
                                    "0": "1000.4375"
                                },
                                {
                                    "0": "1000.4375"
                                },
                                {
                                    "0": "1000.4375"
                                },
                                {
                                    "0": "1000.4375"
                                },
                                {
                                    "0": "1000.4375"
                                },
                                {
                                    "0": "1229.4589"
                                },
                                {
                                    "0": "1229.4589"
                                },
                                {
                                    "0": "1242.8518"
                                },
                                {
                                    "0": "1229.4589"
                                },
                                {
                                    "0": "1229.4589"
                                },
                                {
                                    "0": "1242.8518"
                                },
                                {
                                    "0": "1308.9375"
                                },
                                {
                                    "0": "1229.4589"
                                },
                                {
                                    "0": "1242.8518"
                                },
                                {
                                    "0": "1308.9375"
                                },
                                {
                                    "0": "1466.0100"
                                },
                                {
                                    "0": "1308.9375"
                                },
                                {
                                    "0": "1466.0100"
                                },
                                {
                                    "0": "1466.0100"
                                },
                                {
                                    "0": "1308.9375"
                                },
                                {
                                    "0": "1308.9375"
                                },
                                {
                                    "0": "1308.9375"
                                },
                                {
                                    "0": "1229.4589"
                                },
                                {
                                    "0": "1242.8518"
                                },
                                {
                                    "0": "1242.8518"
                                },
                                {
                                    "0": "1229.4589"
                                },
                                {
                                    "0": "1242.8518"
                                },
                                {
                                    "0": "1229.4589"
                                },
                                {
                                    "0": "1229.4589"
                                },
                                {
                                    "0": "1308.9375"
                                },
                                {
                                    "0": "1466.0100"
                                },
                                {
                                    "0": "1308.9375"
                                },
                                {
                                    "0": "1466.0100"
                                },
                                {
                                    "0": "1229.4589"
                                },
                                {
                                    "0": "1229.4589"
                                },
                                {
                                    "0": "1229.4589"
                                },
                                {
                                    "0": "1242.8518"
                                },
                                {
                                    "0": "1229.4589"
                                },
                                {
                                    "0": "1242.8518"
                                },
                                {
                                    "0": "1242.8518"
                                },
                                {
                                    "0": "1229.4589"
                                },
                                {
                                    "0": "1229.4589"
                                },
                                {
                                    "0": "1242.8518"
                                },
                                {
                                    "0": "1242.8518"
                                },
                                {
                                    "0": "1242.8518"
                                },
                                {
                                    "0": "1242.8518"
                                },
                                {
                                    "0": "1242.8518"
                                },
                                {
                                    "0": "1308.9375"
                                },
                                {
                                    "0": "1466.0100"
                                },
                                {
                                    "0": "1308.9375"
                                },
                                {
                                    "0": "1466.0100"
                                },
                                {
                                    "0": "1308.9375"
                                },
                                {
                                    "0": "1466.0100"
                                },
                                {
                                    "0": "1466.0100"
                                },
                                {
                                    "0": "1308.9375"
                                },
                                {
                                    "0": "1242.8518"
                                },
                                {
                                    "0": "1466.0100"
                                },
                                {
                                    "0": "1466.0100"
                                },
                                {
                                    "0": "1308.9375"
                                },
                                {
                                    "0": "1308.9375"
                                },
                                {
                                    "0": "1242.8518"
                                },
                                {
                                    "0": "1242.8518"
                                },
                                {
                                    "0": "1229.4589"
                                },
                                {
                                    "0": "1308.9375"
                                },
                                {
                                    "0": "1466.0100"
                                },
                                {
                                    "0": "1308.9375"
                                },
                                {
                                    "0": "1466.0100"
                                },
                                {
                                    "0": "1466.0100"
                                },
                                {
                                    "0": "1308.9375"
                                },
                                {
                                    "0": "1308.9375"
                                },
                                {
                                    "0": "1466.0100"
                                },
                                {
                                    "0": "1308.9375"
                                },
                                {
                                    "0": "1308.9375"
                                },
                                {
                                    "0": "1466.0100"
                                },
                                {
                                    "0": "1242.8518"
                                },
                                {
                                    "0": "1229.4589"
                                },
                                {
                                    "0": "1229.4589"
                                },
                                {
                                    "0": "1242.8518"
                                },
                                {
                                    "0": "1242.8518"
                                },
                                {
                                    "0": "1229.4589"
                                },
                                {
                                    "0": "1229.4589"
                                },
                                {
                                    "0": "1229.4589"
                                },
                                {
                                    "0": "1242.8518"
                                },
                                {
                                    "0": "1242.8518"
                                },
                                {
                                    "0": "1242.8518"
                                },
                                {
                                    "0": "1229.4589"
                                },
                                {
                                    "0": "1229.4589"
                                },
                                {
                                    "0": "1242.8518"
                                },
                                {
                                    "0": "1242.8518"
                                },
                                {
                                    "0": "1229.4589"
                                },
                                {
                                    "0": "1308.9375"
                                },
                                {
                                    "0": "1308.9375"
                                },
                                {
                                    "0": "1308.9375"
                                },
                                {
                                    "0": "1466.0100"
                                },
                                {
                                    "0": "1308.9375"
                                },
                                {
                                    "0": "1466.0100"
                                },
                                {
                                    "0": "1308.9375"
                                },
                                {
                                    "0": "1229.4589"
                                },
                                {
                                    "0": "1308.9375"
                                },
                                {
                                    "0": "1466.0100"
                                },
                                {
                                    "0": "1308.9375"
                                },
                                {
                                    "0": "1466.0100"
                                },
                                {
                                    "0": "1308.9375"
                                },
                                {
                                    "0": "1466.0100"
                                },
                                {
                                    "0": "1308.9375"
                                },
                                {
                                    "0": "1308.9375"
                                },
                                {
                                    "0": "1466.0100"
                                },
                                {
                                    "0": "1308.9375"
                                },
                                {
                                    "0": "1466.0100"
                                },
                                {
                                    "0": "1308.9375"
                                },
                                {
                                    "0": "1308.9375"
                                },
                                {
                                    "0": "1308.9375"
                                },
                                {
                                    "0": "1308.9375"
                                },
                                {
                                    "0": "1242.8518"
                                },
                                {
                                    "0": "1229.4589"
                                },
                                {
                                    "0": "1242.8518"
                                },
                                {
                                    "0": "1242.8518"
                                },
                                {
                                    "0": "1242.8518"
                                },
                                {
                                    "0": "1229.4589"
                                },
                                {
                                    "0": "1229.4589"
                                },
                                {
                                    "0": "1308.9375"
                                },
                                {
                                    "0": "1466.0100"
                                },
                                {
                                    "0": "1466.0100"
                                },
                                {
                                    "0": "1308.9375"
                                },
                                {
                                    "0": "1308.9375"
                                },
                                {
                                    "0": "1466.0100"
                                },
                                {
                                    "0": "1308.9375"
                                },
                                {
                                    "0": "1229.4589"
                                },
                                {
                                    "0": "1242.8518"
                                },
                                {
                                    "0": "1242.8518"
                                },
                                {
                                    "0": "1242.8518"
                                },
                                {
                                    "0": "1229.4589"
                                },
                                {
                                    "0": "1229.4589"
                                },
                                {
                                    "0": "1229.4589"
                                },
                                {
                                    "0": "1242.8518"
                                },
                                {
                                    "0": "1229.4589"
                                },
                                {
                                    "0": "1242.8518"
                                },
                                {
                                    "0": "1308.9375"
                                },
                                {
                                    "0": "1308.9375"
                                },
                                {
                                    "0": "1466.0100"
                                },
                                {
                                    "0": "1466.0100"
                                },
                                {
                                    "0": "1308.9375"
                                },
                                {
                                    "0": "1466.0100"
                                },
                                {
                                    "0": "1308.9375"
                                },
                                {
                                    "0": "1308.9375"
                                },
                                {
                                    "0": "1242.8518"
                                },
                                {
                                    "0": "1229.4589"
                                },
                                {
                                    "0": "1229.4589"
                                },
                                {
                                    "0": "1229.4589"
                                },
                                {
                                    "0": "1308.9375"
                                },
                                {
                                    "0": "1308.9375"
                                },
                                {
                                    "0": "1466.0100"
                                },
                                {
                                    "0": "1308.9375"
                                },
                                {
                                    "0": "1308.9375"
                                },
                                {
                                    "0": "1308.9375"
                                },
                                {
                                    "0": "1308.9375"
                                },
                                {
                                    "0": "1466.0100"
                                },
                                {
                                    "0": "1308.9375"
                                },
                                {
                                    "0": "1466.0100"
                                },
                                {
                                    "0": "1466.0100"
                                },
                                {
                                    "0": "1242.8518"
                                },
                                {
                                    "0": "1242.8518"
                                },
                                {
                                    "0": "1229.4589"
                                },
                                {
                                    "0": "1229.4589"
                                },
                                {
                                    "0": "1229.4589"
                                },
                                {
                                    "0": "1229.4589"
                                },
                                {
                                    "0": "1229.4589"
                                },
                                {
                                    "0": "1242.8518"
                                },
                                {
                                    "0": "1242.8518"
                                },
                                {
                                    "0": "1229.4589"
                                },
                                {
                                    "0": "1242.8518"
                                },
                                {
                                    "0": "1242.8518"
                                },
                                {
                                    "0": "1229.4589"
                                },
                                {
                                    "0": "1229.4589"
                                },
                                {
                                    "0": "1229.4589"
                                },
                                {
                                    "0": "1242.8518"
                                },
                                {
                                    "0": "1242.8518"
                                },
                                {
                                    "0": "1308.9375"
                                },
                                {
                                    "0": "1466.0100"
                                },
                                {
                                    "0": "1466.0100"
                                },
                                {
                                    "0": "1308.9375"
                                },
                                {
                                    "0": "1466.0100"
                                },
                                {
                                    "0": "1466.0100"
                                },
                                {
                                    "0": "1308.9375"
                                },
                                {
                                    "0": "1308.9375"
                                },
                                {
                                    "0": "1308.9375"
                                },
                                {
                                    "0": "1466.0100"
                                },
                                {
                                    "0": "1229.4589"
                                },
                                {
                                    "0": "1242.8518"
                                },
                                {
                                    "0": "1229.4589"
                                },
                                {
                                    "0": "1229.4589"
                                },
                                {
                                    "0": "1242.8518"
                                },
                                {
                                    "0": "1242.8518"
                                },
                                {
                                    "0": "1308.9375"
                                },
                                {
                                    "0": "1308.9375"
                                },
                                {
                                    "0": "1466.0100"
                                },
                                {
                                    "0": "1466.0100"
                                },
                                {
                                    "0": "1229.4589"
                                },
                                {
                                    "0": "1308.9375"
                                },
                                {
                                    "0": "1308.9375"
                                },
                                {
                                    "0": "1308.9375"
                                },
                                {
                                    "0": "1466.0100"
                                },
                                {
                                    "0": "1466.0100"
                                },
                                {
                                    "0": "1308.9375"
                                },
                                {
                                    "0": "1466.0100"
                                },
                                {
                                    "0": "1229.4589"
                                },
                                {
                                    "0": "1229.4589"
                                },
                                {
                                    "0": "1242.8518"
                                },
                                {
                                    "0": "1242.8518"
                                },
                                {
                                    "0": "1229.4589"
                                },
                                {
                                    "0": "1242.8518"
                                },
                                {
                                    "0": "1242.8518"
                                },
                                {
                                    "0": "1242.8518"
                                },
                                {
                                    "0": "1229.4589"
                                },
                                {
                                    "0": "1229.4589"
                                },
                                {
                                    "0": "1229.4589"
                                },
                                {
                                    "0": "1242.8518"
                                },
                                {
                                    "0": "1308.9375"
                                },
                                {
                                    "0": "1308.9375"
                                },
                                {
                                    "0": "1308.9375"
                                },
                                {
                                    "0": "1308.9375"
                                },
                                {
                                    "0": "1308.9375"
                                },
                                {
                                    "0": "1466.0100"
                                },
                                {
                                    "0": "1466.0100"
                                },
                                {
                                    "0": "1242.8518"
                                },
                                {
                                    "0": "1242.8518"
                                },
                                {
                                    "0": "1229.4589"
                                },
                                {
                                    "0": "1242.8518"
                                },
                                {
                                    "0": "1229.4589"
                                },
                                {
                                    "0": "1229.4589"
                                },
                                {
                                    "0": "1308.9375"
                                },
                                {
                                    "0": "1229.4589"
                                },
                                {
                                    "0": "1229.4589"
                                },
                                {
                                    "0": "1242.8518"
                                },
                                {
                                    "0": "1242.8518"
                                },
                                {
                                    "0": "1229.4589"
                                },
                                {
                                    "0": "1242.8518"
                                },
                                {
                                    "0": "1229.4589"
                                },
                                {
                                    "0": "1229.4589"
                                },
                                {
                                    "0": "1308.9375"
                                },
                                {
                                    "0": "1466.0100"
                                },
                                {
                                    "0": "1308.9375"
                                },
                                {
                                    "0": "1466.0100"
                                },
                                {
                                    "0": "1466.0100"
                                },
                                {
                                    "0": "1308.9375"
                                },
                                {
                                    "0": "1308.9375"
                                },
                                {
                                    "0": "1242.8518"
                                },
                                {
                                    "0": "1242.8518"
                                },
                                {
                                    "0": "1242.8518"
                                },
                                {
                                    "0": "1229.4589"
                                },
                                {
                                    "0": "1229.4589"
                                },
                                {
                                    "0": "1466.0100"
                                },
                                {
                                    "0": "1308.9375"
                                },
                                {
                                    "0": "1308.9375"
                                },
                                {
                                    "0": "1308.9375"
                                },
                                {
                                    "0": "1308.9375"
                                },
                                {
                                    "0": "1466.0100"
                                },
                                {
                                    "0": "1229.4589"
                                },
                                {
                                    "0": "1229.4589"
                                },
                                {
                                    "0": "1229.4589"
                                },
                                {
                                    "0": "1242.8518"
                                },
                                {
                                    "0": "1229.4589"
                                },
                                {
                                    "0": "1229.4589"
                                },
                                {
                                    "0": "1242.8518"
                                },
                                {
                                    "0": "1308.9375"
                                },
                                {
                                    "0": "1308.9375"
                                },
                                {
                                    "0": "1308.9375"
                                },
                                {
                                    "0": "1466.0100"
                                },
                                {
                                    "0": "1466.0100"
                                },
                                {
                                    "0": "1308.9375"
                                },
                                {
                                    "0": "1466.0100"
                                },
                                {
                                    "0": "1308.9375"
                                },
                                {
                                    "0": "1242.8518"
                                },
                                {
                                    "0": "1242.8518"
                                },
                                {
                                    "0": "1242.8518"
                                },
                                {
                                    "0": "1229.4589"
                                },
                                {
                                    "0": "1229.4589"
                                },
                                {
                                    "0": "1229.4589"
                                },
                                {
                                    "0": "1242.8518"
                                },
                                {
                                    "0": "1242.8518"
                                },
                                {
                                    "0": "1229.4589"
                                },
                                {
                                    "0": "1242.8518"
                                },
                                {
                                    "0": "1229.4589"
                                },
                                {
                                    "0": "1229.4589"
                                },
                                {
                                    "0": "1242.8518"
                                },
                                {
                                    "0": "1229.4589"
                                },
                                {
                                    "0": "1242.8518"
                                },
                                {
                                    "0": "1242.8518"
                                },
                                {
                                    "0": "1229.4589"
                                },
                                {
                                    "0": "1308.9375"
                                },
                                {
                                    "0": "1242.8518"
                                },
                                {
                                    "0": "1242.8518"
                                },
                                {
                                    "0": "1242.8518"
                                },
                                {
                                    "0": "1229.4589"
                                },
                                {
                                    "0": "1229.4589"
                                },
                                {
                                    "0": "1229.4589"
                                },
                                {
                                    "0": "1308.9375"
                                },
                                {
                                    "0": "1466.0100"
                                },
                                {
                                    "0": "1466.0100"
                                },
                                {
                                    "0": "1308.9375"
                                },
                                {
                                    "0": "1308.9375"
                                },
                                {
                                    "0": "1308.9375"
                                },
                                {
                                    "0": "1466.0100"
                                },
                                {
                                    "0": "1308.9375"
                                },
                                {
                                    "0": "1466.0100"
                                },
                                {
                                    "0": "1308.9375"
                                },
                                {
                                    "0": "1308.9375"
                                },
                                {
                                    "0": "1466.0100"
                                },
                                {
                                    "0": "1308.9375"
                                },
                                {
                                    "0": "1308.9375"
                                },
                                {
                                    "0": "1308.9375"
                                },
                                {
                                    "0": "1466.0100"
                                },
                                {
                                    "0": "1308.9375"
                                },
                                {
                                    "0": "1466.0100"
                                },
                                {
                                    "0": "1229.4589"
                                },
                                {
                                    "0": "1242.8518"
                                },
                                {
                                    "0": "1229.4589"
                                },
                                {
                                    "0": "1229.4589"
                                },
                                {
                                    "0": "1242.8518"
                                },
                                {
                                    "0": "1242.8518"
                                },
                                {
                                    "0": "1229.4589"
                                },
                                {
                                    "0": "1242.8518"
                                },
                                {
                                    "0": "1188.4770"
                                },
                                {
                                    "0": "1229.4589"
                                },
                                {
                                    "0": "1308.9375"
                                },
                                {
                                    "0": "1466.0100"
                                },
                                {
                                    "0": "1466.0100"
                                },
                                {
                                    "0": "1308.9375"
                                },
                                {
                                    "0": "1466.0100"
                                },
                                {
                                    "0": "1308.9375"
                                },
                                {
                                    "0": "1308.9375"
                                },
                                {
                                    "0": "1308.9375"
                                },
                                {
                                    "0": "1466.0100"
                                },
                                {
                                    "0": "1308.9375"
                                },
                                {
                                    "0": "1466.0100"
                                },
                                {
                                    "0": "1308.9375"
                                },
                                {
                                    "0": "1229.4589"
                                },
                                {
                                    "0": "1000.4375"
                                },
                                {
                                    "0": "1000.4375"
                                },
                                {
                                    "0": "1000.4375"
                                },
                                {
                                    "0": "1000.4375"
                                },
                                {
                                    "0": "1000.4375"
                                },
                                {
                                    "0": "1000.4375"
                                },
                                {
                                    "0": "1000.4375"
                                },
                                {
                                    "0": "1000.4375"
                                },
                                {
                                    "0": "1000.4375"
                                },
                                {
                                    "0": "1000.4375"
                                },
                                {
                                    "0": "1000.4375"
                                },
                                {
                                    "0": "1000.4375"
                                },
                                {
                                    "0": "1000.4375"
                                },
                                {
                                    "0": "1000.4375"
                                },
                                {
                                    "0": "1000.4375"
                                },
                                {
                                    "0": "1000.4375"
                                },
                                {
                                    "0": "1000.4375"
                                },
                                {
                                    "0": "1000.4375"
                                },
                                {
                                    "0": "1000.4375"
                                },
                                {
                                    "0": "1000.4375"
                                },
                                {
                                    "0": "1000.4375"
                                },
                                {
                                    "0": "1000.4375"
                                },
                                {
                                    "0": "1000.4375"
                                },
                                {
                                    "0": "1000.4375"
                                },
                                {
                                    "0": "1000.4375"
                                },
                                {
                                    "0": "1000.4375"
                                },
                                {
                                    "0": "1000.4375"
                                },
                                {
                                    "0": "1000.4375"
                                },
                                {
                                    "0": "1308.9375"
                                },
                                {
                                    "0": "1229.4589"
                                },
                                {
                                    "0": "1242.8518"
                                },
                                {
                                    "0": "1229.4589"
                                },
                                {
                                    "0": "1242.8518"
                                },
                                {
                                    "0": "1229.4589"
                                },
                                {
                                    "0": "1229.4589"
                                },
                                {
                                    "0": "1229.4589"
                                },
                                {
                                    "0": "1308.9375"
                                },
                                {
                                    "0": "1242.8518"
                                },
                                {
                                    "0": "1229.4589"
                                },
                                {
                                    "0": "1466.0100"
                                },
                                {
                                    "0": "1229.4589"
                                },
                                {
                                    "0": "1242.8518"
                                },
                                {
                                    "0": "1229.4589"
                                },
                                {
                                    "0": "1242.8518"
                                },
                                {
                                    "0": "1229.4589"
                                },
                                {
                                    "0": "1466.0100"
                                },
                                {
                                    "0": "1308.9375"
                                },
                                {
                                    "0": "1308.9375"
                                },
                                {
                                    "0": "1466.0100"
                                },
                                {
                                    "0": "1308.9375"
                                },
                                {
                                    "0": "1466.0100"
                                },
                                {
                                    "0": "1229.4589"
                                },
                                {
                                    "0": "1229.4589"
                                },
                                {
                                    "0": "1242.8518"
                                },
                                {
                                    "0": "1229.4589"
                                },
                                {
                                    "0": "1229.4589"
                                },
                                {
                                    "0": "1242.8518"
                                },
                                {
                                    "0": "1242.8518"
                                },
                                {
                                    "0": "1229.4589"
                                },
                                {
                                    "0": "1242.8518"
                                },
                                {
                                    "0": "1229.4589"
                                },
                                {
                                    "0": "1242.8518"
                                },
                                {
                                    "0": "1229.4589"
                                },
                                {
                                    "0": "1229.4589"
                                },
                                {
                                    "0": "1242.8518"
                                },
                                {
                                    "0": "1229.4589"
                                },
                                {
                                    "0": "1242.8518"
                                },
                                {
                                    "0": "1242.8518"
                                },
                                {
                                    "0": "1229.4589"
                                },
                                {
                                    "0": "1229.4589"
                                },
                                {
                                    "0": "1242.8518"
                                },
                                {
                                    "0": "1242.8518"
                                },
                                {
                                    "0": "1229.4589"
                                },
                                {
                                    "0": "1308.9375"
                                },
                                {
                                    "0": "1466.0100"
                                },
                                {
                                    "0": "1308.9375"
                                },
                                {
                                    "0": "1466.0100"
                                },
                                {
                                    "0": "1466.0100"
                                },
                                {
                                    "0": "1308.9375"
                                },
                                {
                                    "0": "1308.9375"
                                },
                                {
                                    "0": "1466.0100"
                                },
                                {
                                    "0": "1466.0100"
                                },
                                {
                                    "0": "1466.0100"
                                },
                                {
                                    "0": "1308.9375"
                                },
                                {
                                    "0": "1308.9375"
                                },
                                {
                                    "0": "1466.0100"
                                },
                                {
                                    "0": "1308.9375"
                                },
                                {
                                    "0": "1308.9375"
                                },
                                {
                                    "0": "1308.9375"
                                },
                                {
                                    "0": "1242.8518"
                                },
                                {
                                    "0": "1229.4589"
                                },
                                {
                                    "0": "1242.8518"
                                },
                                {
                                    "0": "1242.8518"
                                },
                                {
                                    "0": "1229.4589"
                                },
                                {
                                    "0": "1229.4589"
                                },
                                {
                                    "0": "1229.4589"
                                },
                                {
                                    "0": "1229.4589"
                                },
                                {
                                    "0": "1229.4589"
                                },
                                {
                                    "0": "1242.8518"
                                },
                                {
                                    "0": "1242.8518"
                                },
                                {
                                    "0": "1242.8518"
                                },
                                {
                                    "0": "1229.4589"
                                },
                                {
                                    "0": "1229.4589"
                                },
                                {
                                    "0": "1308.9375"
                                },
                                {
                                    "0": "1466.0100"
                                },
                                {
                                    "0": "1308.9375"
                                },
                                {
                                    "0": "1308.9375"
                                },
                                {
                                    "0": "1466.0100"
                                },
                                {
                                    "0": "1308.9375"
                                },
                                {
                                    "0": "1466.0100"
                                },
                                {
                                    "0": "1308.9375"
                                },
                                {
                                    "0": "1229.4589"
                                },
                                {
                                    "0": "1466.0100"
                                },
                                {
                                    "0": "1308.9375"
                                },
                                {
                                    "0": "1466.0100"
                                },
                                {
                                    "0": "1308.9375"
                                },
                                {
                                    "0": "1229.4589"
                                },
                                {
                                    "0": "1242.8518"
                                },
                                {
                                    "0": "1229.4589"
                                },
                                {
                                    "0": "1466.0100"
                                },
                                {
                                    "0": "1308.9375"
                                },
                                {
                                    "0": "1229.4589"
                                },
                                {
                                    "0": "1242.8518"
                                },
                                {
                                    "0": "1229.4589"
                                },
                                {
                                    "0": "1242.8518"
                                },
                                {
                                    "0": "1229.4589"
                                },
                                {
                                    "0": "1466.0100"
                                },
                                {
                                    "0": "1308.9375"
                                },
                                {
                                    "0": "1308.9375"
                                },
                                {
                                    "0": "1242.8518"
                                },
                                {
                                    "0": "1242.8518"
                                },
                                {
                                    "0": "1229.4589"
                                },
                                {
                                    "0": "1229.4589"
                                },
                                {
                                    "0": "1466.0100"
                                },
                                {
                                    "0": "1308.9375"
                                },
                                {
                                    "0": "1466.0100"
                                },
                                {
                                    "0": "1308.9375"
                                },
                                {
                                    "0": "1466.0100"
                                },
                                {
                                    "0": "1308.9375"
                                },
                                {
                                    "0": "1308.9375"
                                },
                                {
                                    "0": "1308.9375"
                                },
                                {
                                    "0": "1466.0100"
                                },
                                {
                                    "0": "1466.0100"
                                },
                                {
                                    "0": "1308.9375"
                                },
                                {
                                    "0": "1308.9375"
                                },
                                {
                                    "0": "1229.4589"
                                },
                                {
                                    "0": "1242.8518"
                                },
                                {
                                    "0": "1242.8518"
                                },
                                {
                                    "0": "1229.4589"
                                },
                                {
                                    "0": "1229.4589"
                                },
                                {
                                    "0": "1242.8518"
                                },
                                {
                                    "0": "1242.8518"
                                },
                                {
                                    "0": "1229.4589"
                                },
                                {
                                    "0": "1229.4589"
                                },
                                {
                                    "0": "1229.4589"
                                },
                                {
                                    "0": "1242.8518"
                                },
                                {
                                    "0": "1308.9375"
                                },
                                {
                                    "0": "1466.0100"
                                },
                                {
                                    "0": "1308.9375"
                                },
                                {
                                    "0": "1308.9375"
                                },
                                {
                                    "0": "1308.9375"
                                },
                                {
                                    "0": "1466.0100"
                                },
                                {
                                    "0": "1308.9375"
                                },
                                {
                                    "0": "1466.0100"
                                },
                                {
                                    "0": "1308.9375"
                                },
                                {
                                    "0": "1229.4589"
                                },
                                {
                                    "0": "1242.8518"
                                },
                                {
                                    "0": "1229.4589"
                                },
                                {
                                    "0": "1229.4589"
                                },
                                {
                                    "0": "1242.8518"
                                },
                                {
                                    "0": "1308.9375"
                                },
                                {
                                    "0": "1308.9375"
                                },
                                {
                                    "0": "1308.9375"
                                },
                                {
                                    "0": "1466.0100"
                                },
                                {
                                    "0": "1466.0100"
                                },
                                {
                                    "0": "1308.9375"
                                },
                                {
                                    "0": "1308.9375"
                                },
                                {
                                    "0": "1308.9375"
                                },
                                {
                                    "0": "1466.0100"
                                },
                                {
                                    "0": "1466.0100"
                                },
                                {
                                    "0": "1466.0100"
                                },
                                {
                                    "0": "1308.9375"
                                },
                                {
                                    "0": "1466.0100"
                                },
                                {
                                    "0": "1308.9375"
                                },
                                {
                                    "0": "1308.9375"
                                },
                                {
                                    "0": "1308.9375"
                                },
                                {
                                    "0": "1308.9375"
                                },
                                {
                                    "0": "1242.8518"
                                },
                                {
                                    "0": "1242.8518"
                                },
                                {
                                    "0": "1229.4589"
                                },
                                {
                                    "0": "1229.4589"
                                },
                                {
                                    "0": "1229.4589"
                                },
                                {
                                    "0": "1242.8518"
                                },
                                {
                                    "0": "1242.8518"
                                },
                                {
                                    "0": "1229.4589"
                                },
                                {
                                    "0": "1242.8518"
                                },
                                {
                                    "0": "1242.8518"
                                },
                                {
                                    "0": "1229.4589"
                                },
                                {
                                    "0": "1242.8518"
                                },
                                {
                                    "0": "1229.4589"
                                },
                                {
                                    "0": "1242.8518"
                                },
                                {
                                    "0": "1242.8518"
                                },
                                {
                                    "0": "1466.0100"
                                },
                                {
                                    "0": "1466.0100"
                                },
                                {
                                    "0": "1308.9375"
                                },
                                {
                                    "0": "1308.9375"
                                },
                                {
                                    "0": "1229.4589"
                                },
                                {
                                    "0": "1229.4589"
                                },
                                {
                                    "0": "1229.4589"
                                },
                                {
                                    "0": "1242.8518"
                                },
                                {
                                    "0": "1242.8518"
                                },
                                {
                                    "0": "1229.4589"
                                },
                                {
                                    "0": "1242.8518"
                                },
                                {
                                    "0": "1466.0100"
                                },
                                {
                                    "0": "1466.0100"
                                },
                                {
                                    "0": "1308.9375"
                                },
                                {
                                    "0": "1229.4589"
                                },
                                {
                                    "0": "1229.4589"
                                },
                                {
                                    "0": "1242.8518"
                                },
                                {
                                    "0": "1242.8518"
                                },
                                {
                                    "0": "1229.4589"
                                },
                                {
                                    "0": "1242.8518"
                                },
                                {
                                    "0": "1229.4589"
                                },
                                {
                                    "0": "1308.9375"
                                },
                                {
                                    "0": "1242.8518"
                                },
                                {
                                    "0": "1229.4589"
                                },
                                {
                                    "0": "1242.8518"
                                },
                                {
                                    "0": "1242.8518"
                                },
                                {
                                    "0": "1229.4589"
                                },
                                {
                                    "0": "1242.8518"
                                },
                                {
                                    "0": "1229.4589"
                                },
                                {
                                    "0": "1242.8518"
                                },
                                {
                                    "0": "1242.8518"
                                },
                                {
                                    "0": "1466.0100"
                                },
                                {
                                    "0": "1308.9375"
                                },
                                {
                                    "0": "1242.8518"
                                },
                                {
                                    "0": "1229.4589"
                                },
                                {
                                    "0": "1229.4589"
                                },
                                {
                                    "0": "1229.4589"
                                },
                                {
                                    "0": "1242.8518"
                                },
                                {
                                    "0": "1229.4589"
                                },
                                {
                                    "0": "1242.8518"
                                },
                                {
                                    "0": "1242.8518"
                                },
                                {
                                    "0": "1242.8518"
                                },
                                {
                                    "0": "1242.8518"
                                },
                                {
                                    "0": "1229.4589"
                                },
                                {
                                    "0": "1229.4589"
                                },
                                {
                                    "0": "1229.4589"
                                },
                                {
                                    "0": "1229.4589"
                                },
                                {
                                    "0": "1242.8518"
                                },
                                {
                                    "0": "1000.4375"
                                },
                                {
                                    "0": "1000.4375"
                                },
                                {
                                    "0": "1000.4375"
                                },
                                {
                                    "0": "1000.4375"
                                },
                                {
                                    "0": "1000.4375"
                                },
                                {
                                    "0": "1000.4375"
                                },
                                {
                                    "0": "1000.4375"
                                },
                                {
                                    "0": "1000.4375"
                                },
                                {
                                    "0": "1000.4375"
                                },
                                {
                                    "0": "1000.4375"
                                },
                                {
                                    "0": "1000.4375"
                                },
                                {
                                    "0": "1000.4375"
                                },
                                {
                                    "0": "1000.4375"
                                },
                                {
                                    "0": "1000.4375"
                                },
                                {
                                    "0": "1000.4375"
                                },
                                {
                                    "0": "1000.4375"
                                },
                                {
                                    "0": "1000.4375"
                                },
                                {
                                    "0": "1000.4375"
                                },
                                {
                                    "0": "1000.4375"
                                },
                                {
                                    "0": "1000.4375"
                                },
                                {
                                    "0": "1000.4375"
                                },
                                {
                                    "0": "1000.4375"
                                },
                                {
                                    "0": "1000.4375"
                                },
                                {
                                    "0": "1000.4375"
                                },
                                {
                                    "0": "1000.4375"
                                },
                                {
                                    "0": "1000.4375"
                                },
                                {
                                    "0": "1000.4375"
                                },
                                {
                                    "0": "1000.4375"
                                },
                                {
                                    "0": "1308.9375"
                                },
                                {
                                    "0": "1308.9375"
                                },
                                {
                                    "0": "1466.0100"
                                },
                                {
                                    "0": "1308.9375"
                                },
                                {
                                    "0": "1308.9375"
                                },
                                {
                                    "0": "1466.0100"
                                },
                                {
                                    "0": "1308.9375"
                                },
                                {
                                    "0": "1466.0100"
                                },
                                {
                                    "0": "1242.8518"
                                },
                                {
                                    "0": "1229.4589"
                                },
                                {
                                    "0": "1229.4589"
                                },
                                {
                                    "0": "1242.8518"
                                },
                                {
                                    "0": "1229.4589"
                                },
                                {
                                    "0": "1242.8518"
                                },
                                {
                                    "0": "1229.4589"
                                },
                                {
                                    "0": "1229.4589"
                                },
                                {
                                    "0": "1242.8518"
                                },
                                {
                                    "0": "1242.8518"
                                },
                                {
                                    "0": "1242.8518"
                                },
                                {
                                    "0": "1242.8518"
                                },
                                {
                                    "0": "1229.4589"
                                },
                                {
                                    "0": "1229.4589"
                                },
                                {
                                    "0": "1229.4589"
                                },
                                {
                                    "0": "1242.8518"
                                },
                                {
                                    "0": "1242.8518"
                                },
                                {
                                    "0": "1308.9375"
                                },
                                {
                                    "0": "1466.0100"
                                },
                                {
                                    "0": "1308.9375"
                                },
                                {
                                    "0": "1466.0100"
                                },
                                {
                                    "0": "1308.9375"
                                },
                                {
                                    "0": "1308.9375"
                                },
                                {
                                    "0": "1308.9375"
                                },
                                {
                                    "0": "1466.0100"
                                },
                                {
                                    "0": "1466.0100"
                                },
                                {
                                    "0": "1242.8518"
                                },
                                {
                                    "0": "1229.4589"
                                },
                                {
                                    "0": "1229.4589"
                                },
                                {
                                    "0": "1229.4589"
                                },
                                {
                                    "0": "1242.8518"
                                },
                                {
                                    "0": "1242.8518"
                                },
                                {
                                    "0": "1229.4589"
                                },
                                {
                                    "0": "1229.4589"
                                },
                                {
                                    "0": "1229.4589"
                                },
                                {
                                    "0": "1242.8518"
                                },
                                {
                                    "0": "1242.8518"
                                },
                                {
                                    "0": "1242.8518"
                                },
                                {
                                    "0": "1242.8518"
                                },
                                {
                                    "0": "1229.4589"
                                },
                                {
                                    "0": "1229.4589"
                                },
                                {
                                    "0": "1229.4589"
                                },
                                {
                                    "0": "1242.8518"
                                },
                                {
                                    "0": "1242.8518"
                                },
                                {
                                    "0": "1229.4589"
                                },
                                {
                                    "0": "1229.4589"
                                },
                                {
                                    "0": "1229.4589"
                                },
                                {
                                    "0": "1229.4589"
                                },
                                {
                                    "0": "1242.8518"
                                },
                                {
                                    "0": "1242.8518"
                                },
                                {
                                    "0": "1242.8518"
                                },
                                {
                                    "0": "1229.4589"
                                },
                                {
                                    "0": "1308.9375"
                                },
                                {
                                    "0": "1466.0100"
                                },
                                {
                                    "0": "1308.9375"
                                },
                                {
                                    "0": "1308.9375"
                                },
                                {
                                    "0": "1466.0100"
                                },
                                {
                                    "0": "1308.9375"
                                },
                                {
                                    "0": "1466.0100"
                                },
                                {
                                    "0": "1308.9375"
                                },
                                {
                                    "0": "1466.0100"
                                },
                                {
                                    "0": "1308.9375"
                                },
                                {
                                    "0": "1308.9375"
                                },
                                {
                                    "0": "1308.9375"
                                },
                                {
                                    "0": "1308.9375"
                                },
                                {
                                    "0": "1466.0100"
                                },
                                {
                                    "0": "1229.4589"
                                },
                                {
                                    "0": "1229.4589"
                                },
                                {
                                    "0": "1242.8518"
                                },
                                {
                                    "0": "1242.8518"
                                },
                                {
                                    "0": "1242.8518"
                                },
                                {
                                    "0": "1229.4589"
                                },
                                {
                                    "0": "1308.9375"
                                },
                                {
                                    "0": "1466.0100"
                                },
                                {
                                    "0": "1466.0100"
                                },
                                {
                                    "0": "1308.9375"
                                },
                                {
                                    "0": "1242.8518"
                                },
                                {
                                    "0": "1229.4589"
                                },
                                {
                                    "0": "1229.4589"
                                },
                                {
                                    "0": "1242.8518"
                                },
                                {
                                    "0": "1229.4589"
                                },
                                {
                                    "0": "1242.8518"
                                },
                                {
                                    "0": "1229.4589"
                                },
                                {
                                    "0": "1242.8518"
                                },
                                {
                                    "0": "1229.4589"
                                },
                                {
                                    "0": "1242.8518"
                                },
                                {
                                    "0": "1242.8518"
                                },
                                {
                                    "0": "1229.4589"
                                },
                                {
                                    "0": "1242.8518"
                                },
                                {
                                    "0": "1229.4589"
                                },
                                {
                                    "0": "1242.8518"
                                },
                                {
                                    "0": "1229.4589"
                                },
                                {
                                    "0": "1242.8518"
                                },
                                {
                                    "0": "1229.4589"
                                },
                                {
                                    "0": "1229.4589"
                                },
                                {
                                    "0": "1242.8518"
                                },
                                {
                                    "0": "1229.4589"
                                },
                                {
                                    "0": "1229.4589"
                                },
                                {
                                    "0": "1242.8518"
                                },
                                {
                                    "0": "1229.4589"
                                },
                                {
                                    "0": "1308.9375"
                                },
                                {
                                    "0": "1466.0100"
                                },
                                {
                                    "0": "1308.9375"
                                },
                                {
                                    "0": "1308.9375"
                                },
                                {
                                    "0": "1466.0100"
                                },
                                {
                                    "0": "1466.0100"
                                },
                                {
                                    "0": "1242.8518"
                                },
                                {
                                    "0": "1229.4589"
                                },
                                {
                                    "0": "1229.4589"
                                },
                                {
                                    "0": "1229.4589"
                                },
                                {
                                    "0": "1242.8518"
                                },
                                {
                                    "0": "1242.8518"
                                },
                                {
                                    "0": "1308.9375"
                                },
                                {
                                    "0": "1308.9375"
                                },
                                {
                                    "0": "1308.9375"
                                },
                                {
                                    "0": "1466.0100"
                                },
                                {
                                    "0": "1466.0100"
                                },
                                {
                                    "0": "1466.0100"
                                },
                                {
                                    "0": "1466.0100"
                                },
                                {
                                    "0": "1466.0100"
                                },
                                {
                                    "0": "1308.9375"
                                },
                                {
                                    "0": "1229.4589"
                                },
                                {
                                    "0": "1242.8518"
                                },
                                {
                                    "0": "1242.8518"
                                },
                                {
                                    "0": "1229.4589"
                                },
                                {
                                    "0": "1229.4589"
                                },
                                {
                                    "0": "1229.4589"
                                },
                                {
                                    "0": "1242.8518"
                                },
                                {
                                    "0": "1466.0100"
                                },
                                {
                                    "0": "1466.0100"
                                },
                                {
                                    "0": "1466.0100"
                                },
                                {
                                    "0": "1308.9375"
                                },
                                {
                                    "0": "1308.9375"
                                },
                                {
                                    "0": "1229.4589"
                                },
                                {
                                    "0": "1229.4589"
                                },
                                {
                                    "0": "1242.8518"
                                },
                                {
                                    "0": "1229.4589"
                                },
                                {
                                    "0": "1229.4589"
                                },
                                {
                                    "0": "1242.8518"
                                },
                                {
                                    "0": "1242.8518"
                                },
                                {
                                    "0": "1229.4589"
                                },
                                {
                                    "0": "1229.4589"
                                },
                                {
                                    "0": "1229.4589"
                                },
                                {
                                    "0": "1229.4589"
                                },
                                {
                                    "0": "1229.4589"
                                },
                                {
                                    "0": "1242.8518"
                                },
                                {
                                    "0": "1242.8518"
                                },
                                {
                                    "0": "1242.8518"
                                },
                                {
                                    "0": "1308.9375"
                                },
                                {
                                    "0": "1466.0100"
                                },
                                {
                                    "0": "1308.9375"
                                },
                                {
                                    "0": "1466.0100"
                                },
                                {
                                    "0": "1308.9375"
                                },
                                {
                                    "0": "1466.0100"
                                },
                                {
                                    "0": "1308.9375"
                                },
                                {
                                    "0": "1466.0100"
                                },
                                {
                                    "0": "1308.9375"
                                },
                                {
                                    "0": "1308.9375"
                                },
                                {
                                    "0": "1466.0100"
                                },
                                {
                                    "0": "1308.9375"
                                },
                                {
                                    "0": "1466.0100"
                                },
                                {
                                    "0": "1308.9375"
                                },
                                {
                                    "0": "1308.9375"
                                },
                                {
                                    "0": "1466.0100"
                                },
                                {
                                    "0": "1466.0100"
                                },
                                {
                                    "0": "1308.9375"
                                },
                                {
                                    "0": "1308.9375"
                                },
                                {
                                    "0": "1466.0100"
                                },
                                {
                                    "0": "1308.9375"
                                },
                                {
                                    "0": "1308.9375"
                                },
                                {
                                    "0": "1308.9375"
                                },
                                {
                                    "0": "1466.0100"
                                },
                                {
                                    "0": "1466.0100"
                                },
                                {
                                    "0": "1308.9375"
                                },
                                {
                                    "0": "1242.8518"
                                },
                                {
                                    "0": "1229.4589"
                                },
                                {
                                    "0": "1242.8518"
                                },
                                {
                                    "0": "1229.4589"
                                },
                                {
                                    "0": "1242.8518"
                                },
                                {
                                    "0": "1229.4589"
                                },
                                {
                                    "0": "1000.4375"
                                },
                                {
                                    "0": "1000.4375"
                                },
                                {
                                    "0": "1000.4375"
                                },
                                {
                                    "0": "1000.4375"
                                },
                                {
                                    "0": "1000.4375"
                                },
                                {
                                    "0": "1000.4375"
                                },
                                {
                                    "0": "1000.4375"
                                },
                                {
                                    "0": "1000.4375"
                                },
                                {
                                    "0": "1000.4375"
                                },
                                {
                                    "0": "1000.4375"
                                },
                                {
                                    "0": "1000.4375"
                                },
                                {
                                    "0": "1000.4375"
                                },
                                {
                                    "0": "1000.4375"
                                },
                                {
                                    "0": "1000.4375"
                                },
                                {
                                    "0": "1000.4375"
                                },
                                {
                                    "0": "1000.4375"
                                },
                                {
                                    "0": "1000.4375"
                                },
                                {
                                    "0": "1000.4375"
                                },
                                {
                                    "0": "1000.4375"
                                },
                                {
                                    "0": "1000.4375"
                                },
                                {
                                    "0": "1000.4375"
                                },
                                {
                                    "0": "1000.4375"
                                },
                                {
                                    "0": "1000.4375"
                                },
                                {
                                    "0": "1000.4375"
                                },
                                {
                                    "0": "1000.4375"
                                },
                                {
                                    "0": "1000.4375"
                                },
                                {
                                    "0": "1000.4375"
                                },
                                {
                                    "0": "1000.4375"
                                },
                                {
                                    "0": "1000.4375"
                                },
                                {
                                    "0": "1000.4375"
                                },
                                {
                                    "0": "1000.4375"
                                },
                                {
                                    "0": "1000.4375"
                                },
                                {
                                    "0": "1000.4375"
                                },
                                {
                                    "0": "1000.4375"
                                },
                                {
                                    "0": "1000.4375"
                                },
                                {
                                    "0": "1000.4375"
                                },
                                {
                                    "0": "1000.4375"
                                },
                                {
                                    "0": "1229.4589"
                                },
                                {
                                    "0": "1242.8518"
                                },
                                {
                                    "0": "1242.8518"
                                },
                                {
                                    "0": "1242.8518"
                                },
                                {
                                    "0": "1229.4589"
                                },
                                {
                                    "0": "1229.4589"
                                },
                                {
                                    "0": "1308.9375"
                                },
                                {
                                    "0": "1466.0100"
                                },
                                {
                                    "0": "1308.9375"
                                },
                                {
                                    "0": "1308.9375"
                                },
                                {
                                    "0": "1466.0100"
                                },
                                {
                                    "0": "1466.0100"
                                },
                                {
                                    "0": "1308.9375"
                                },
                                {
                                    "0": "1229.4589"
                                },
                                {
                                    "0": "1242.8518"
                                },
                                {
                                    "0": "1229.4589"
                                },
                                {
                                    "0": "1242.8518"
                                },
                                {
                                    "0": "1242.8518"
                                },
                                {
                                    "0": "1242.8518"
                                },
                                {
                                    "0": "1229.4589"
                                },
                                {
                                    "0": "1308.9375"
                                },
                                {
                                    "0": "1242.8518"
                                },
                                {
                                    "0": "1229.4589"
                                },
                                {
                                    "0": "1466.0100"
                                },
                                {
                                    "0": "1466.0100"
                                },
                                {
                                    "0": "1308.9375"
                                },
                                {
                                    "0": "1229.4589"
                                },
                                {
                                    "0": "1466.0100"
                                },
                                {
                                    "0": "1308.9375"
                                },
                                {
                                    "0": "1308.9375"
                                },
                                {
                                    "0": "1308.9375"
                                },
                                {
                                    "0": "1308.9375"
                                },
                                {
                                    "0": "1466.0100"
                                },
                                {
                                    "0": "1466.0100"
                                },
                                {
                                    "0": "1308.9375"
                                },
                                {
                                    "0": "1242.8518"
                                },
                                {
                                    "0": "1229.4589"
                                },
                                {
                                    "0": "1229.4589"
                                },
                                {
                                    "0": "1229.4589"
                                },
                                {
                                    "0": "1242.8518"
                                },
                                {
                                    "0": "1242.8518"
                                },
                                {
                                    "0": "1308.9375"
                                },
                                {
                                    "0": "1308.9375"
                                },
                                {
                                    "0": "1308.9375"
                                },
                                {
                                    "0": "1466.0100"
                                },
                                {
                                    "0": "1308.9375"
                                },
                                {
                                    "0": "1466.0100"
                                },
                                {
                                    "0": "1308.9375"
                                },
                                {
                                    "0": "1466.0100"
                                },
                                {
                                    "0": "1242.8518"
                                },
                                {
                                    "0": "1242.8518"
                                },
                                {
                                    "0": "1229.4589"
                                },
                                {
                                    "0": "1229.4589"
                                },
                                {
                                    "0": "1229.4589"
                                },
                                {
                                    "0": "1242.8518"
                                },
                                {
                                    "0": "1242.8518"
                                },
                                {
                                    "0": "1229.4589"
                                },
                                {
                                    "0": "1229.4589"
                                },
                                {
                                    "0": "1242.8518"
                                },
                                {
                                    "0": "1229.4589"
                                },
                                {
                                    "0": "1229.4589"
                                },
                                {
                                    "0": "1242.8518"
                                },
                                {
                                    "0": "1242.8518"
                                },
                                {
                                    "0": "1242.8518"
                                },
                                {
                                    "0": "1229.4589"
                                },
                                {
                                    "0": "1466.0100"
                                },
                                {
                                    "0": "1308.9375"
                                },
                                {
                                    "0": "1308.9375"
                                },
                                {
                                    "0": "1466.0100"
                                },
                                {
                                    "0": "1308.9375"
                                },
                                {
                                    "0": "1308.9375"
                                },
                                {
                                    "0": "1466.0100"
                                },
                                {
                                    "0": "1229.4589"
                                },
                                {
                                    "0": "1229.4589"
                                },
                                {
                                    "0": "1242.8518"
                                },
                                {
                                    "0": "1229.4589"
                                },
                                {
                                    "0": "1242.8518"
                                },
                                {
                                    "0": "1229.4589"
                                },
                                {
                                    "0": "1229.4589"
                                },
                                {
                                    "0": "1242.8518"
                                },
                                {
                                    "0": "1229.4589"
                                },
                                {
                                    "0": "1229.4589"
                                },
                                {
                                    "0": "1242.8518"
                                },
                                {
                                    "0": "1242.8518"
                                },
                                {
                                    "0": "1308.9375"
                                },
                                {
                                    "0": "1308.9375"
                                },
                                {
                                    "0": "1308.9375"
                                },
                                {
                                    "0": "1466.0100"
                                },
                                {
                                    "0": "1466.0100"
                                },
                                {
                                    "0": "1308.9375"
                                },
                                {
                                    "0": "1308.9375"
                                },
                                {
                                    "0": "1466.0100"
                                },
                                {
                                    "0": "1308.9375"
                                },
                                {
                                    "0": "1466.0100"
                                },
                                {
                                    "0": "1308.9375"
                                },
                                {
                                    "0": "1466.0100"
                                },
                                {
                                    "0": "1229.4589"
                                },
                                {
                                    "0": "1242.8518"
                                },
                                {
                                    "0": "1229.4589"
                                },
                                {
                                    "0": "1242.8518"
                                },
                                {
                                    "0": "1229.4589"
                                },
                                {
                                    "0": "1229.4589"
                                },
                                {
                                    "0": "1229.4589"
                                },
                                {
                                    "0": "1242.8518"
                                },
                                {
                                    "0": "1242.8518"
                                },
                                {
                                    "0": "1308.9375"
                                },
                                {
                                    "0": "1308.9375"
                                },
                                {
                                    "0": "1466.0100"
                                },
                                {
                                    "0": "1466.0100"
                                },
                                {
                                    "0": "1308.9375"
                                },
                                {
                                    "0": "1242.8518"
                                },
                                {
                                    "0": "1242.8518"
                                },
                                {
                                    "0": "1242.8518"
                                },
                                {
                                    "0": "1229.4589"
                                },
                                {
                                    "0": "1229.4589"
                                },
                                {
                                    "0": "1229.4589"
                                },
                                {
                                    "0": "1308.9375"
                                },
                                {
                                    "0": "1308.9375"
                                },
                                {
                                    "0": "1308.9375"
                                },
                                {
                                    "0": "1466.0100"
                                },
                                {
                                    "0": "1308.9375"
                                },
                                {
                                    "0": "1466.0100"
                                },
                                {
                                    "0": "1308.9375"
                                },
                                {
                                    "0": "1229.4589"
                                },
                                {
                                    "0": "1308.9375"
                                },
                                {
                                    "0": "1308.9375"
                                },
                                {
                                    "0": "1466.0100"
                                },
                                {
                                    "0": "1242.8518"
                                },
                                {
                                    "0": "1229.4589"
                                },
                                {
                                    "0": "1242.8518"
                                },
                                {
                                    "0": "1229.4589"
                                },
                                {
                                    "0": "1229.4589"
                                },
                                {
                                    "0": "1242.8518"
                                },
                                {
                                    "0": "1229.4589"
                                },
                                {
                                    "0": "1242.8518"
                                },
                                {
                                    "0": "1229.4589"
                                },
                                {
                                    "0": "1242.8518"
                                },
                                {
                                    "0": "1242.8518"
                                },
                                {
                                    "0": "1229.4589"
                                },
                                {
                                    "0": "1308.9375"
                                },
                                {
                                    "0": "1466.0100"
                                },
                                {
                                    "0": "1466.0100"
                                },
                                {
                                    "0": "1308.9375"
                                },
                                {
                                    "0": "1308.9375"
                                },
                                {
                                    "0": "1308.9375"
                                },
                                {
                                    "0": "1308.9375"
                                },
                                {
                                    "0": "1466.0100"
                                },
                                {
                                    "0": "1308.9375"
                                },
                                {
                                    "0": "1308.9375"
                                },
                                {
                                    "0": "1466.0100"
                                },
                                {
                                    "0": "1466.0100"
                                },
                                {
                                    "0": "1308.9375"
                                },
                                {
                                    "0": "1308.9375"
                                },
                                {
                                    "0": "1466.0100"
                                },
                                {
                                    "0": "1466.0100"
                                },
                                {
                                    "0": "1308.9375"
                                },
                                {
                                    "0": "1229.4589"
                                },
                                {
                                    "0": "1466.0100"
                                },
                                {
                                    "0": "1308.9375"
                                },
                                {
                                    "0": "1466.0100"
                                },
                                {
                                    "0": "1308.9375"
                                },
                                {
                                    "0": "1242.8518"
                                },
                                {
                                    "0": "1466.0100"
                                },
                                {
                                    "0": "1466.0100"
                                },
                                {
                                    "0": "1308.9375"
                                },
                                {
                                    "0": "1308.9375"
                                },
                                {
                                    "0": "1308.9375"
                                },
                                {
                                    "0": "1308.9375"
                                },
                                {
                                    "0": "1308.9375"
                                },
                                {
                                    "0": "1466.0100"
                                },
                                {
                                    "0": "1229.4589"
                                },
                                {
                                    "0": "1308.9375"
                                },
                                {
                                    "0": "1466.0100"
                                },
                                {
                                    "0": "1308.9375"
                                },
                                {
                                    "0": "1308.9375"
                                },
                                {
                                    "0": "1466.0100"
                                },
                                {
                                    "0": "1308.9375"
                                },
                                {
                                    "0": "1466.0100"
                                },
                                {
                                    "0": "1308.9375"
                                },
                                {
                                    "0": "1229.4589"
                                },
                                {
                                    "0": "1229.4589"
                                },
                                {
                                    "0": "1242.8518"
                                },
                                {
                                    "0": "1242.8518"
                                },
                                {
                                    "0": "1229.4589"
                                },
                                {
                                    "0": "1242.8518"
                                },
                                {
                                    "0": "1229.4589"
                                },
                                {
                                    "0": "1308.9375"
                                },
                                {
                                    "0": "1308.9375"
                                },
                                {
                                    "0": "1308.9375"
                                },
                                {
                                    "0": "1466.0100"
                                },
                                {
                                    "0": "1308.9375"
                                },
                                {
                                    "0": "1466.0100"
                                },
                                {
                                    "0": "1466.0100"
                                },
                                {
                                    "0": "1308.9375"
                                },
                                {
                                    "0": "1229.4589"
                                },
                                {
                                    "0": "1229.4589"
                                },
                                {
                                    "0": "1242.8518"
                                },
                                {
                                    "0": "1242.8518"
                                },
                                {
                                    "0": "1229.4589"
                                },
                                {
                                    "0": "1229.4589"
                                },
                                {
                                    "0": "1242.8518"
                                },
                                {
                                    "0": "1229.4589"
                                },
                                {
                                    "0": "1466.0100"
                                },
                                {
                                    "0": "1308.9375"
                                },
                                {
                                    "0": "1308.9375"
                                },
                                {
                                    "0": "1308.9375"
                                },
                                {
                                    "0": "1308.9375"
                                },
                                {
                                    "0": "1466.0100"
                                },
                                {
                                    "0": "1229.4589"
                                },
                                {
                                    "0": "1229.4589"
                                },
                                {
                                    "0": "1242.8518"
                                },
                                {
                                    "0": "1229.4589"
                                },
                                {
                                    "0": "1229.4589"
                                },
                                {
                                    "0": "1229.4589"
                                },
                                {
                                    "0": "1242.8518"
                                },
                                {
                                    "0": "1242.8518"
                                },
                                {
                                    "0": "1242.8518"
                                },
                                {
                                    "0": "1229.4589"
                                },
                                {
                                    "0": "1229.4589"
                                },
                                {
                                    "0": "1242.8518"
                                },
                                {
                                    "0": "1229.4589"
                                },
                                {
                                    "0": "1242.8518"
                                },
                                {
                                    "0": "1466.0100"
                                },
                                {
                                    "0": "1466.0100"
                                },
                                {
                                    "0": "1308.9375"
                                },
                                {
                                    "0": "1308.9375"
                                },
                                {
                                    "0": "1308.9375"
                                },
                                {
                                    "0": "1308.9375"
                                },
                                {
                                    "0": "1308.9375"
                                },
                                {
                                    "0": "1466.0100"
                                },
                                {
                                    "0": "1466.0100"
                                },
                                {
                                    "0": "1308.9375"
                                },
                                {
                                    "0": "1466.0100"
                                },
                                {
                                    "0": "1466.0100"
                                },
                                {
                                    "0": "1466.0100"
                                },
                                {
                                    "0": "1308.9375"
                                },
                                {
                                    "0": "1466.0100"
                                },
                                {
                                    "0": "1308.9375"
                                },
                                {
                                    "0": "1308.9375"
                                },
                                {
                                    "0": "1229.4589"
                                },
                                {
                                    "0": "1229.4589"
                                },
                                {
                                    "0": "1242.8518"
                                },
                                {
                                    "0": "1242.8518"
                                },
                                {
                                    "0": "1229.4589"
                                },
                                {
                                    "0": "1229.4589"
                                },
                                {
                                    "0": "1229.4589"
                                },
                                {
                                    "0": "1242.8518"
                                },
                                {
                                    "0": "1242.8518"
                                },
                                {
                                    "0": "1242.8518"
                                },
                                {
                                    "0": "1229.4589"
                                },
                                {
                                    "0": "1229.4589"
                                },
                                {
                                    "0": "1229.4589"
                                },
                                {
                                    "0": "1229.4589"
                                },
                                {
                                    "0": "1242.8518"
                                },
                                {
                                    "0": "1229.4589"
                                },
                                {
                                    "0": "1229.4589"
                                },
                                {
                                    "0": "1308.9375"
                                },
                                {
                                    "0": "1308.9375"
                                },
                                {
                                    "0": "1308.9375"
                                },
                                {
                                    "0": "1308.9375"
                                },
                                {
                                    "0": "1466.0100"
                                },
                                {
                                    "0": "1466.0100"
                                },
                                {
                                    "0": "1308.9375"
                                },
                                {
                                    "0": "1466.0100"
                                },
                                {
                                    "0": "1308.9375"
                                },
                                {
                                    "0": "1466.0100"
                                },
                                {
                                    "0": "1466.0100"
                                },
                                {
                                    "0": "1308.9375"
                                },
                                {
                                    "0": "1242.8518"
                                },
                                {
                                    "0": "1242.8518"
                                },
                                {
                                    "0": "1229.4589"
                                },
                                {
                                    "0": "1229.4589"
                                },
                                {
                                    "0": "1242.8518"
                                },
                                {
                                    "0": "1229.4589"
                                },
                                {
                                    "0": "1242.8518"
                                },
                                {
                                    "0": "1229.4589"
                                },
                                {
                                    "0": "1308.9375"
                                },
                                {
                                    "0": "1308.9375"
                                },
                                {
                                    "0": "1466.0100"
                                },
                                {
                                    "0": "1308.9375"
                                },
                                {
                                    "0": "1466.0100"
                                },
                                {
                                    "0": "1308.9375"
                                },
                                {
                                    "0": "1308.9375"
                                },
                                {
                                    "0": "1466.0100"
                                },
                                {
                                    "0": "1242.8518"
                                },
                                {
                                    "0": "1229.4589"
                                },
                                {
                                    "0": "1229.4589"
                                },
                                {
                                    "0": "1242.8518"
                                },
                                {
                                    "0": "1229.4589"
                                },
                                {
                                    "0": "1242.8518"
                                },
                                {
                                    "0": "1229.4589"
                                },
                                {
                                    "0": "1229.4589"
                                },
                                {
                                    "0": "1242.8518"
                                },
                                {
                                    "0": "1201.4234"
                                },
                                {
                                    "0": "1229.4589"
                                },
                                {
                                    "0": "1229.4589"
                                },
                                {
                                    "0": "1242.8518"
                                },
                                {
                                    "0": "1229.4589"
                                },
                                {
                                    "0": "1308.9375"
                                },
                                {
                                    "0": "1229.4589"
                                },
                                {
                                    "0": "1242.8518"
                                },
                                {
                                    "0": "1229.4589"
                                },
                                {
                                    "0": "1229.4589"
                                },
                                {
                                    "0": "1242.8518"
                                },
                                {
                                    "0": "1242.8518"
                                },
                                {
                                    "0": "1466.0100"
                                },
                                {
                                    "0": "1466.0100"
                                },
                                {
                                    "0": "1308.9375"
                                },
                                {
                                    "0": "1308.9375"
                                },
                                {
                                    "0": "1466.0100"
                                },
                                {
                                    "0": "1308.9375"
                                },
                                {
                                    "0": "1308.9375"
                                },
                                {
                                    "0": "1466.0100"
                                },
                                {
                                    "0": "1466.0100"
                                },
                                {
                                    "0": "1308.9375"
                                },
                                {
                                    "0": "1308.9375"
                                },
                                {
                                    "0": "1466.0100"
                                },
                                {
                                    "0": "1308.9375"
                                },
                                {
                                    "0": "1308.9375"
                                },
                                {
                                    "0": "1466.0100"
                                },
                                {
                                    "0": "1466.0100"
                                },
                                {
                                    "0": "1308.9375"
                                },
                                {
                                    "0": "1242.8518"
                                },
                                {
                                    "0": "1229.4589"
                                },
                                {
                                    "0": "1308.9375"
                                },
                                {
                                    "0": "1308.9375"
                                },
                                {
                                    "0": "1308.9375"
                                },
                                {
                                    "0": "1466.0100"
                                },
                                {
                                    "0": "1308.9375"
                                },
                                {
                                    "0": "1466.0100"
                                },
                                {
                                    "0": "1229.4589"
                                },
                                {
                                    "0": "1242.8518"
                                },
                                {
                                    "0": "1242.8518"
                                },
                                {
                                    "0": "1229.4589"
                                },
                                {
                                    "0": "1229.4589"
                                },
                                {
                                    "0": "1242.8518"
                                },
                                {
                                    "0": "1000.4375"
                                },
                                {
                                    "0": "1000.4375"
                                },
                                {
                                    "0": "1000.4375"
                                },
                                {
                                    "0": "1000.4375"
                                },
                                {
                                    "0": "1000.4375"
                                },
                                {
                                    "0": "1000.4375"
                                },
                                {
                                    "0": "1000.4375"
                                },
                                {
                                    "0": "1000.4375"
                                },
                                {
                                    "0": "1000.4375"
                                },
                                {
                                    "0": "1000.4375"
                                },
                                {
                                    "0": "1000.4375"
                                },
                                {
                                    "0": "1000.4375"
                                },
                                {
                                    "0": "1000.4375"
                                },
                                {
                                    "0": "1000.4375"
                                },
                                {
                                    "0": "1000.4375"
                                },
                                {
                                    "0": "1000.4375"
                                },
                                {
                                    "0": "1000.4375"
                                },
                                {
                                    "0": "1000.4375"
                                },
                                {
                                    "0": "1000.4375"
                                },
                                {
                                    "0": "1000.4375"
                                },
                                {
                                    "0": "1000.4375"
                                },
                                {
                                    "0": "1000.4375"
                                },
                                {
                                    "0": "1000.4375"
                                },
                                {
                                    "0": "1000.4375"
                                },
                                {
                                    "0": "1000.4375"
                                },
                                {
                                    "0": "1000.4375"
                                },
                                {
                                    "0": "1000.4375"
                                },
                                {
                                    "0": "1000.4375"
                                },
                                {
                                    "0": "1000.4375"
                                },
                                {
                                    "0": "1000.4375"
                                },
                                {
                                    "0": "1000.4375"
                                },
                                {
                                    "0": "1000.4375"
                                },
                                {
                                    "0": "1000.4375"
                                },
                                {
                                    "0": "1000.4375"
                                },
                                {
                                    "0": "1000.4375"
                                },
                                {
                                    "0": "1000.4375"
                                },
                                {
                                    "0": "1000.4375"
                                },
                                {
                                    "0": "1000.4375"
                                },
                                {
                                    "0": "1000.4375"
                                },
                                {
                                    "0": "1000.4375"
                                },
                                {
                                    "0": "1000.4375"
                                },
                                {
                                    "0": "1000.4375"
                                },
                                {
                                    "0": "1000.4375"
                                },
                                {
                                    "0": "1000.4375"
                                },
                                {
                                    "0": "1000.4375"
                                },
                                {
                                    "0": "1000.4375"
                                },
                                {
                                    "0": "1000.4375"
                                },
                                {
                                    "0": "1000.4375"
                                },
                                {
                                    "0": "1000.4375"
                                },
                                {
                                    "0": "1000.4375"
                                },
                                {
                                    "0": "1000.4375"
                                },
                                {
                                    "0": "1000.4375"
                                },
                                {
                                    "0": "1000.4375"
                                },
                                {
                                    "0": "1229.4589"
                                },
                                {
                                    "0": "1242.8518"
                                },
                                {
                                    "0": "1229.4589"
                                },
                                {
                                    "0": "1242.8518"
                                },
                                {
                                    "0": "1229.4589"
                                },
                                {
                                    "0": "1242.8518"
                                },
                                {
                                    "0": "1229.4589"
                                },
                                {
                                    "0": "1242.8518"
                                },
                                {
                                    "0": "1229.4589"
                                },
                                {
                                    "0": "1229.4589"
                                },
                                {
                                    "0": "1229.4589"
                                },
                                {
                                    "0": "1242.8518"
                                },
                                {
                                    "0": "1308.9375"
                                },
                                {
                                    "0": "1466.0100"
                                },
                                {
                                    "0": "1308.9375"
                                },
                                {
                                    "0": "1466.0100"
                                },
                                {
                                    "0": "1308.9375"
                                },
                                {
                                    "0": "1466.0100"
                                },
                                {
                                    "0": "1308.9375"
                                },
                                {
                                    "0": "1466.0100"
                                },
                                {
                                    "0": "1308.9375"
                                },
                                {
                                    "0": "1308.9375"
                                },
                                {
                                    "0": "1466.0100"
                                },
                                {
                                    "0": "1308.9375"
                                },
                                {
                                    "0": "1466.0100"
                                },
                                {
                                    "0": "1229.4589"
                                },
                                {
                                    "0": "1242.8518"
                                },
                                {
                                    "0": "1229.4589"
                                },
                                {
                                    "0": "1242.8518"
                                },
                                {
                                    "0": "1229.4589"
                                },
                                {
                                    "0": "1229.4589"
                                },
                                {
                                    "0": "1242.8518"
                                },
                                {
                                    "0": "1242.8518"
                                },
                                {
                                    "0": "1229.4589"
                                },
                                {
                                    "0": "1308.9375"
                                },
                                {
                                    "0": "1466.0100"
                                },
                                {
                                    "0": "1466.0100"
                                },
                                {
                                    "0": "1466.0100"
                                },
                                {
                                    "0": "1466.0100"
                                },
                                {
                                    "0": "1308.9375"
                                },
                                {
                                    "0": "1466.0100"
                                },
                                {
                                    "0": "1466.0100"
                                },
                                {
                                    "0": "1308.9375"
                                },
                                {
                                    "0": "1308.9375"
                                },
                                {
                                    "0": "1308.9375"
                                },
                                {
                                    "0": "1308.9375"
                                },
                                {
                                    "0": "1466.0100"
                                },
                                {
                                    "0": "1466.0100"
                                },
                                {
                                    "0": "1242.8518"
                                },
                                {
                                    "0": "1242.8518"
                                },
                                {
                                    "0": "1229.4589"
                                },
                                {
                                    "0": "1229.4589"
                                },
                                {
                                    "0": "1229.4589"
                                },
                                {
                                    "0": "1242.8518"
                                },
                                {
                                    "0": "1229.4589"
                                },
                                {
                                    "0": "1229.4589"
                                },
                                {
                                    "0": "1229.4589"
                                },
                                {
                                    "0": "1242.8518"
                                },
                                {
                                    "0": "1242.8518"
                                },
                                {
                                    "0": "1242.8518"
                                },
                                {
                                    "0": "1229.4589"
                                },
                                {
                                    "0": "1242.8518"
                                },
                                {
                                    "0": "1466.0100"
                                },
                                {
                                    "0": "1466.0100"
                                },
                                {
                                    "0": "1308.9375"
                                },
                                {
                                    "0": "1229.4589"
                                },
                                {
                                    "0": "1242.8518"
                                },
                                {
                                    "0": "1229.4589"
                                },
                                {
                                    "0": "1229.4589"
                                },
                                {
                                    "0": "1242.8518"
                                },
                                {
                                    "0": "1242.8518"
                                },
                                {
                                    "0": "1466.0100"
                                },
                                {
                                    "0": "1466.0100"
                                },
                                {
                                    "0": "1466.0100"
                                },
                                {
                                    "0": "1308.9375"
                                },
                                {
                                    "0": "1308.9375"
                                },
                                {
                                    "0": "1242.8518"
                                },
                                {
                                    "0": "1229.4589"
                                },
                                {
                                    "0": "1229.4589"
                                },
                                {
                                    "0": "1229.4589"
                                },
                                {
                                    "0": "1242.8518"
                                },
                                {
                                    "0": "1229.4589"
                                },
                                {
                                    "0": "1242.8518"
                                },
                                {
                                    "0": "1229.4589"
                                },
                                {
                                    "0": "1229.4589"
                                },
                                {
                                    "0": "1242.8518"
                                },
                                {
                                    "0": "1229.4589"
                                },
                                {
                                    "0": "1229.4589"
                                },
                                {
                                    "0": "1242.8518"
                                },
                                {
                                    "0": "1242.8518"
                                },
                                {
                                    "0": "1229.4589"
                                },
                                {
                                    "0": "1242.8518"
                                },
                                {
                                    "0": "1308.9375"
                                },
                                {
                                    "0": "1308.9375"
                                },
                                {
                                    "0": "1466.0100"
                                },
                                {
                                    "0": "1466.0100"
                                },
                                {
                                    "0": "1466.0100"
                                },
                                {
                                    "0": "1308.9375"
                                },
                                {
                                    "0": "1229.4589"
                                },
                                {
                                    "0": "1229.4589"
                                },
                                {
                                    "0": "1242.8518"
                                },
                                {
                                    "0": "1229.4589"
                                },
                                {
                                    "0": "1242.8518"
                                },
                                {
                                    "0": "1242.8518"
                                },
                                {
                                    "0": "1229.4589"
                                },
                                {
                                    "0": "1242.8518"
                                },
                                {
                                    "0": "1466.0100"
                                },
                                {
                                    "0": "1308.9375"
                                },
                                {
                                    "0": "1308.9375"
                                },
                                {
                                    "0": "1466.0100"
                                },
                                {
                                    "0": "1466.0100"
                                },
                                {
                                    "0": "1308.9375"
                                },
                                {
                                    "0": "1308.9375"
                                },
                                {
                                    "0": "1308.9375"
                                },
                                {
                                    "0": "1308.9375"
                                },
                                {
                                    "0": "1466.0100"
                                },
                                {
                                    "0": "1308.9375"
                                },
                                {
                                    "0": "1308.9375"
                                },
                                {
                                    "0": "1308.9375"
                                },
                                {
                                    "0": "1308.9375"
                                },
                                {
                                    "0": "1466.0100"
                                },
                                {
                                    "0": "1229.4589"
                                },
                                {
                                    "0": "1229.4589"
                                },
                                {
                                    "0": "1229.4589"
                                },
                                {
                                    "0": "1242.8518"
                                },
                                {
                                    "0": "1229.4589"
                                },
                                {
                                    "0": "1242.8518"
                                },
                                {
                                    "0": "1242.8518"
                                },
                                {
                                    "0": "1229.4589"
                                },
                                {
                                    "0": "1242.8518"
                                },
                                {
                                    "0": "1242.8518"
                                },
                                {
                                    "0": "1229.4589"
                                },
                                {
                                    "0": "1242.8518"
                                },
                                {
                                    "0": "1229.4589"
                                },
                                {
                                    "0": "1229.4589"
                                },
                                {
                                    "0": "1229.4589"
                                },
                                {
                                    "0": "1242.8518"
                                },
                                {
                                    "0": "1242.8518"
                                },
                                {
                                    "0": "1229.4589"
                                },
                                {
                                    "0": "1466.0100"
                                },
                                {
                                    "0": "1308.9375"
                                },
                                {
                                    "0": "1466.0100"
                                },
                                {
                                    "0": "1308.9375"
                                },
                                {
                                    "0": "1308.9375"
                                },
                                {
                                    "0": "1242.8518"
                                },
                                {
                                    "0": "1229.4589"
                                },
                                {
                                    "0": "1308.9375"
                                },
                                {
                                    "0": "1466.0100"
                                },
                                {
                                    "0": "1308.9375"
                                },
                                {
                                    "0": "1466.0100"
                                },
                                {
                                    "0": "1308.9375"
                                },
                                {
                                    "0": "1308.9375"
                                },
                                {
                                    "0": "1308.9375"
                                },
                                {
                                    "0": "1242.8518"
                                },
                                {
                                    "0": "1242.8518"
                                },
                                {
                                    "0": "1229.4589"
                                },
                                {
                                    "0": "1229.4589"
                                },
                                {
                                    "0": "1229.4589"
                                },
                                {
                                    "0": "1308.9375"
                                },
                                {
                                    "0": "1308.9375"
                                },
                                {
                                    "0": "1242.8518"
                                },
                                {
                                    "0": "1229.4589"
                                },
                                {
                                    "0": "1229.4589"
                                },
                                {
                                    "0": "1229.4589"
                                },
                                {
                                    "0": "1229.4589"
                                },
                                {
                                    "0": "1242.8518"
                                },
                                {
                                    "0": "1229.4589"
                                },
                                {
                                    "0": "1466.0100"
                                },
                                {
                                    "0": "1466.0100"
                                },
                                {
                                    "0": "1308.9375"
                                },
                                {
                                    "0": "1466.0100"
                                },
                                {
                                    "0": "1308.9375"
                                },
                                {
                                    "0": "1308.9375"
                                },
                                {
                                    "0": "1308.9375"
                                },
                                {
                                    "0": "1308.9375"
                                },
                                {
                                    "0": "1242.8518"
                                },
                                {
                                    "0": "1229.4589"
                                },
                                {
                                    "0": "1229.4589"
                                },
                                {
                                    "0": "1466.0100"
                                },
                                {
                                    "0": "1308.9375"
                                },
                                {
                                    "0": "1308.9375"
                                },
                                {
                                    "0": "1466.0100"
                                },
                                {
                                    "0": "1308.9375"
                                },
                                {
                                    "0": "1308.9375"
                                },
                                {
                                    "0": "1308.9375"
                                },
                                {
                                    "0": "1466.0100"
                                },
                                {
                                    "0": "1466.0100"
                                },
                                {
                                    "0": "1466.0100"
                                },
                                {
                                    "0": "1466.0100"
                                },
                                {
                                    "0": "1466.0100"
                                },
                                {
                                    "0": "1308.9375"
                                },
                                {
                                    "0": "1229.4589"
                                },
                                {
                                    "0": "1242.8518"
                                },
                                {
                                    "0": "1242.8518"
                                },
                                {
                                    "0": "1229.4589"
                                },
                                {
                                    "0": "1242.8518"
                                },
                                {
                                    "0": "1229.4589"
                                },
                                {
                                    "0": "1466.0100"
                                },
                                {
                                    "0": "1466.0100"
                                },
                                {
                                    "0": "1466.0100"
                                },
                                {
                                    "0": "1308.9375"
                                },
                                {
                                    "0": "1308.9375"
                                },
                                {
                                    "0": "1308.9375"
                                },
                                {
                                    "0": "1466.0100"
                                },
                                {
                                    "0": "1229.4589"
                                },
                                {
                                    "0": "1229.4589"
                                },
                                {
                                    "0": "1242.8518"
                                },
                                {
                                    "0": "1229.4589"
                                },
                                {
                                    "0": "1229.4589"
                                },
                                {
                                    "0": "1242.8518"
                                },
                                {
                                    "0": "1229.4589"
                                },
                                {
                                    "0": "1242.8518"
                                },
                                {
                                    "0": "1242.8518"
                                },
                                {
                                    "0": "1229.4589"
                                },
                                {
                                    "0": "1229.4589"
                                },
                                {
                                    "0": "1242.8518"
                                },
                                {
                                    "0": "1242.8518"
                                },
                                {
                                    "0": "1229.4589"
                                },
                                {
                                    "0": "1242.8518"
                                },
                                {
                                    "0": "1242.8518"
                                },
                                {
                                    "0": "1242.8518"
                                },
                                {
                                    "0": "1229.4589"
                                },
                                {
                                    "0": "1229.4589"
                                },
                                {
                                    "0": "1308.9375"
                                },
                                {
                                    "0": "1466.0100"
                                },
                                {
                                    "0": "1466.0100"
                                },
                                {
                                    "0": "1242.8518"
                                },
                                {
                                    "0": "1242.8518"
                                },
                                {
                                    "0": "1229.4589"
                                },
                                {
                                    "0": "1242.8518"
                                },
                                {
                                    "0": "1229.4589"
                                },
                                {
                                    "0": "1229.4589"
                                },
                                {
                                    "0": "1242.8518"
                                },
                                {
                                    "0": "1229.4589"
                                },
                                {
                                    "0": "1242.8518"
                                },
                                {
                                    "0": "1229.4589"
                                },
                                {
                                    "0": "1242.8518"
                                },
                                {
                                    "0": "1229.4589"
                                },
                                {
                                    "0": "1242.8518"
                                },
                                {
                                    "0": "1229.4589"
                                },
                                {
                                    "0": "1229.4589"
                                },
                                {
                                    "0": "1242.8518"
                                },
                                {
                                    "0": "1242.8518"
                                },
                                {
                                    "0": "1229.4589"
                                },
                                {
                                    "0": "1242.8518"
                                },
                                {
                                    "0": "1229.4589"
                                },
                                {
                                    "0": "1229.4589"
                                },
                                {
                                    "0": "1000.4375"
                                },
                                {
                                    "0": "1000.4375"
                                },
                                {
                                    "0": "1000.4375"
                                },
                                {
                                    "0": "1000.4375"
                                },
                                {
                                    "0": "1000.4375"
                                },
                                {
                                    "0": "1000.4375"
                                },
                                {
                                    "0": "1000.4375"
                                },
                                {
                                    "0": "1000.4375"
                                },
                                {
                                    "0": "1000.4375"
                                },
                                {
                                    "0": "1000.4375"
                                },
                                {
                                    "0": "1000.4375"
                                },
                                {
                                    "0": "1000.4375"
                                },
                                {
                                    "0": "1000.4375"
                                },
                                {
                                    "0": "1000.4375"
                                },
                                {
                                    "0": "1000.4375"
                                },
                                {
                                    "0": "1000.4375"
                                },
                                {
                                    "0": "1000.4375"
                                },
                                {
                                    "0": "1000.4375"
                                },
                                {
                                    "0": "1000.4375"
                                },
                                {
                                    "0": "1000.4375"
                                },
                                {
                                    "0": "1000.4375"
                                },
                                {
                                    "0": "1000.4375"
                                },
                                {
                                    "0": "1000.4375"
                                },
                                {
                                    "0": "1000.4375"
                                },
                                {
                                    "0": "1000.4375"
                                },
                                {
                                    "0": "1000.4375"
                                },
                                {
                                    "0": "1000.4375"
                                },
                                {
                                    "0": "1000.4375"
                                },
                                {
                                    "0": "1000.4375"
                                },
                                {
                                    "0": "1000.4375"
                                },
                                {
                                    "0": "1000.4375"
                                },
                                {
                                    "0": "1000.4375"
                                },
                                {
                                    "0": "1000.4375"
                                },
                                {
                                    "0": "1000.4375"
                                },
                                {
                                    "0": "1000.4375"
                                },
                                {
                                    "0": "1000.4375"
                                },
                                {
                                    "0": "1000.4375"
                                },
                                {
                                    "0": "1000.4375"
                                },
                                {
                                    "0": "1000.4375"
                                },
                                {
                                    "0": "1000.4375"
                                },
                                {
                                    "0": "1376.9940"
                                },
                                {
                                    "0": "1391.9940"
                                },
                                {
                                    "0": "1391.9940"
                                },
                                {
                                    "0": "1430.4420"
                                },
                                {
                                    "0": "1430.4420"
                                },
                                {
                                    "0": "1430.4420"
                                },
                                {
                                    "0": "1430.4420"
                                },
                                {
                                    "0": "1020.5940"
                                },
                                {
                                    "0": "1376.9940"
                                },
                                {
                                    "0": "1391.9940"
                                },
                                {
                                    "0": "1391.9940"
                                },
                                {
                                    "0": "1376.9940"
                                },
                                {
                                    "0": "1391.9940"
                                },
                                {
                                    "0": "1391.9940"
                                },
                                {
                                    "0": "1376.9940"
                                },
                                {
                                    "0": "1391.9940"
                                },
                                {
                                    "0": "1376.9940"
                                },
                                {
                                    "0": "1391.9940"
                                },
                                {
                                    "0": "1376.9940"
                                },
                                {
                                    "0": "1391.9940"
                                },
                                {
                                    "0": "1376.9940"
                                },
                                {
                                    "0": "1376.9940"
                                },
                                {
                                    "0": "1376.9940"
                                },
                                {
                                    "0": "1391.9940"
                                },
                                {
                                    "0": "1391.9940"
                                },
                                {
                                    "0": "1430.4420"
                                },
                                {
                                    "0": "1020.5940"
                                },
                                {
                                    "0": "1020.5940"
                                },
                                {
                                    "0": "1466.0100"
                                },
                                {
                                    "0": "1466.0100"
                                },
                                {
                                    "0": "1020.5940"
                                },
                                {
                                    "0": "1466.0100"
                                },
                                {
                                    "0": "1430.4420"
                                },
                                {
                                    "0": "1020.5940"
                                },
                                {
                                    "0": "1466.0100"
                                },
                                {
                                    "0": "1466.0100"
                                },
                                {
                                    "0": "1020.5940"
                                },
                                {
                                    "0": "1020.5940"
                                },
                                {
                                    "0": "1020.5940"
                                },
                                {
                                    "0": "1466.0100"
                                },
                                {
                                    "0": "1376.9940"
                                },
                                {
                                    "0": "1376.9940"
                                },
                                {
                                    "0": "1376.9940"
                                },
                                {
                                    "0": "1391.9940"
                                },
                                {
                                    "0": "1376.9940"
                                },
                                {
                                    "0": "1020.5940"
                                },
                                {
                                    "0": "1466.0100"
                                },
                                {
                                    "0": "1466.0100"
                                },
                                {
                                    "0": "1466.0100"
                                },
                                {
                                    "0": "1020.5940"
                                },
                                {
                                    "0": "1020.5940"
                                },
                                {
                                    "0": "1020.5940"
                                },
                                {
                                    "0": "1466.0100"
                                },
                                {
                                    "0": "1466.0100"
                                },
                                {
                                    "0": "1391.9940"
                                },
                                {
                                    "0": "1376.9940"
                                },
                                {
                                    "0": "1376.9940"
                                },
                                {
                                    "0": "1376.9940"
                                },
                                {
                                    "0": "1391.9940"
                                },
                                {
                                    "0": "1391.9940"
                                },
                                {
                                    "0": "1020.5940"
                                },
                                {
                                    "0": "1466.0100"
                                },
                                {
                                    "0": "1466.0100"
                                },
                                {
                                    "0": "1020.5940"
                                },
                                {
                                    "0": "1020.5940"
                                },
                                {
                                    "0": "1020.5940"
                                },
                                {
                                    "0": "1466.0100"
                                },
                                {
                                    "0": "1466.0100"
                                },
                                {
                                    "0": "1466.0100"
                                },
                                {
                                    "0": "1430.4420"
                                },
                                {
                                    "0": "1430.4420"
                                },
                                {
                                    "0": "1430.4420"
                                },
                                {
                                    "0": "1430.4420"
                                },
                                {
                                    "0": "1391.9940"
                                },
                                {
                                    "0": "1391.9940"
                                },
                                {
                                    "0": "1430.4420"
                                },
                                {
                                    "0": "1430.4420"
                                },
                                {
                                    "0": "1376.9940"
                                },
                                {
                                    "0": "1391.9940"
                                },
                                {
                                    "0": "1391.9940"
                                },
                                {
                                    "0": "1376.9940"
                                },
                                {
                                    "0": "1376.9940"
                                },
                                {
                                    "0": "1430.4420"
                                },
                                {
                                    "0": "1430.4420"
                                },
                                {
                                    "0": "1430.4420"
                                },
                                {
                                    "0": "1430.4420"
                                },
                                {
                                    "0": "1430.4420"
                                },
                                {
                                    "0": "1430.4420"
                                },
                                {
                                    "0": "1391.9940"
                                },
                                {
                                    "0": "1020.5940"
                                },
                                {
                                    "0": "1020.5940"
                                },
                                {
                                    "0": "1020.5940"
                                },
                                {
                                    "0": "1376.9940"
                                },
                                {
                                    "0": "1376.9940"
                                },
                                {
                                    "0": "1376.9940"
                                },
                                {
                                    "0": "1391.9940"
                                },
                                {
                                    "0": "1391.9940"
                                },
                                {
                                    "0": "1391.9940"
                                },
                                {
                                    "0": "1020.5940"
                                },
                                {
                                    "0": "1466.0100"
                                },
                                {
                                    "0": "1466.0100"
                                },
                                {
                                    "0": "1466.0100"
                                },
                                {
                                    "0": "1020.5940"
                                },
                                {
                                    "0": "1020.5940"
                                },
                                {
                                    "0": "1466.0100"
                                },
                                {
                                    "0": "1020.5940"
                                },
                                {
                                    "0": "1466.0100"
                                },
                                {
                                    "0": "1020.5940"
                                },
                                {
                                    "0": "1020.5940"
                                },
                                {
                                    "0": "1020.5940"
                                },
                                {
                                    "0": "1466.0100"
                                },
                                {
                                    "0": "1466.0100"
                                },
                                {
                                    "0": "1466.0100"
                                },
                                {
                                    "0": "1466.0100"
                                },
                                {
                                    "0": "1466.0100"
                                },
                                {
                                    "0": "1020.5940"
                                },
                                {
                                    "0": "1020.5940"
                                },
                                {
                                    "0": "1466.0100"
                                },
                                {
                                    "0": "1466.0100"
                                },
                                {
                                    "0": "1020.5940"
                                },
                                {
                                    "0": "1020.5940"
                                },
                                {
                                    "0": "1417.1430"
                                },
                                {
                                    "0": "1391.9940"
                                },
                                {
                                    "0": "1376.9940"
                                },
                                {
                                    "0": "1376.9940"
                                },
                                {
                                    "0": "1391.9940"
                                },
                                {
                                    "0": "1345.5942"
                                },
                                {
                                    "0": "1430.4420"
                                },
                                {
                                    "0": "1382.7606"
                                },
                                {
                                    "0": "1430.4420"
                                },
                                {
                                    "0": "1391.9940"
                                },
                                {
                                    "0": "1391.9940"
                                },
                                {
                                    "0": "1391.9940"
                                },
                                {
                                    "0": "1376.9940"
                                },
                                {
                                    "0": "1376.9940"
                                },
                                {
                                    "0": "1376.9940"
                                },
                                {
                                    "0": "1376.9940"
                                },
                                {
                                    "0": "1376.9940"
                                },
                                {
                                    "0": "1391.9940"
                                },
                                {
                                    "0": "1376.9940"
                                },
                                {
                                    "0": "1376.9940"
                                },
                                {
                                    "0": "1391.9940"
                                },
                                {
                                    "0": "1430.4420"
                                },
                                {
                                    "0": "1311.2385"
                                },
                                {
                                    "0": "1430.4420"
                                },
                                {
                                    "0": "1311.2385"
                                },
                                {
                                    "0": "1466.0100"
                                },
                                {
                                    "0": "1466.0100"
                                },
                                {
                                    "0": "1020.5940"
                                },
                                {
                                    "0": "1466.0100"
                                },
                                {
                                    "0": "1020.5940"
                                },
                                {
                                    "0": "1020.5940"
                                },
                                {
                                    "0": "1430.4420"
                                },
                                {
                                    "0": "1020.5940"
                                },
                                {
                                    "0": "1020.5940"
                                },
                                {
                                    "0": "1376.9940"
                                },
                                {
                                    "0": "1391.9940"
                                },
                                {
                                    "0": "1376.9940"
                                },
                                {
                                    "0": "1391.9940"
                                },
                                {
                                    "0": "1376.9940"
                                },
                                {
                                    "0": "1430.4420"
                                },
                                {
                                    "0": "1020.5940"
                                },
                                {
                                    "0": "1466.0100"
                                },
                                {
                                    "0": "1020.5940"
                                },
                                {
                                    "0": "1020.5940"
                                },
                                {
                                    "0": "1466.0100"
                                },
                                {
                                    "0": "1376.9940"
                                },
                                {
                                    "0": "1430.4420"
                                },
                                {
                                    "0": "1020.5940"
                                },
                                {
                                    "0": "1466.0100"
                                },
                                {
                                    "0": "1466.0100"
                                },
                                {
                                    "0": "1020.5940"
                                },
                                {
                                    "0": "1466.0100"
                                },
                                {
                                    "0": "1020.5940"
                                },
                                {
                                    "0": "1020.5940"
                                },
                                {
                                    "0": "1020.5940"
                                },
                                {
                                    "0": "1020.5940"
                                },
                                {
                                    "0": "1020.5940"
                                },
                                {
                                    "0": "1430.4420"
                                },
                                {
                                    "0": "1430.4420"
                                },
                                {
                                    "0": "1430.4420"
                                },
                                {
                                    "0": "1466.0100"
                                },
                                {
                                    "0": "1020.5940"
                                },
                                {
                                    "0": "1020.5940"
                                },
                                {
                                    "0": "1466.0100"
                                },
                                {
                                    "0": "1466.0100"
                                },
                                {
                                    "0": "1020.5940"
                                },
                                {
                                    "0": "1430.4420"
                                },
                                {
                                    "0": "1430.4420"
                                },
                                {
                                    "0": "1430.4420"
                                },
                                {
                                    "0": "1020.5940"
                                },
                                {
                                    "0": "1020.5940"
                                },
                                {
                                    "0": "1430.4420"
                                },
                                {
                                    "0": "1430.4420"
                                },
                                {
                                    "0": "1430.4420"
                                },
                                {
                                    "0": "1466.0100"
                                },
                                {
                                    "0": "1020.5940"
                                },
                                {
                                    "0": "1466.0100"
                                },
                                {
                                    "0": "1020.5940"
                                },
                                {
                                    "0": "1466.0100"
                                },
                                {
                                    "0": "1430.4420"
                                },
                                {
                                    "0": "1466.0100"
                                },
                                {
                                    "0": "1020.5940"
                                },
                                {
                                    "0": "1466.0100"
                                },
                                {
                                    "0": "1466.0100"
                                },
                                {
                                    "0": "1020.5940"
                                },
                                {
                                    "0": "1466.0100"
                                },
                                {
                                    "0": "1020.5940"
                                },
                                {
                                    "0": "1020.5940"
                                },
                                {
                                    "0": "1466.0100"
                                },
                                {
                                    "0": "1466.0100"
                                },
                                {
                                    "0": "1020.5940"
                                },
                                {
                                    "0": "1020.5940"
                                },
                                {
                                    "0": "1466.0100"
                                },
                                {
                                    "0": "1466.0100"
                                },
                                {
                                    "0": "1466.0100"
                                },
                                {
                                    "0": "1020.5940"
                                },
                                {
                                    "0": "1466.0100"
                                },
                                {
                                    "0": "1020.5940"
                                },
                                {
                                    "0": "1020.5940"
                                },
                                {
                                    "0": "1376.9940"
                                },
                                {
                                    "0": "1391.9940"
                                },
                                {
                                    "0": "1376.9940"
                                },
                                {
                                    "0": "1391.9940"
                                },
                                {
                                    "0": "1376.9940"
                                },
                                {
                                    "0": "1020.5940"
                                },
                                {
                                    "0": "1376.9940"
                                },
                                {
                                    "0": "1391.9940"
                                },
                                {
                                    "0": "1376.9940"
                                },
                                {
                                    "0": "1391.9940"
                                },
                                {
                                    "0": "1376.9940"
                                },
                                {
                                    "0": "1391.9940"
                                },
                                {
                                    "0": "1430.4420"
                                },
                                {
                                    "0": "1430.4420"
                                },
                                {
                                    "0": "1020.5940"
                                },
                                {
                                    "0": "1430.4420"
                                },
                                {
                                    "0": "1382.7606"
                                },
                                {
                                    "0": "1466.0100"
                                },
                                {
                                    "0": "1214.8500"
                                },
                                {
                                    "0": "1120.4900"
                                },
                                {
                                    "0": "1214.8500"
                                },
                                {
                                    "0": "1120.4900"
                                },
                                {
                                    "0": "1214.8500"
                                },
                                {
                                    "0": "1120.4900"
                                },
                                {
                                    "0": "1214.8500"
                                },
                                {
                                    "0": "1120.4900"
                                },
                                {
                                    "0": "1120.4900"
                                },
                                {
                                    "0": "1120.4900"
                                },
                                {
                                    "0": "1120.4900"
                                },
                                {
                                    "0": "1214.8500"
                                },
                                {
                                    "0": "1120.4900"
                                },
                                {
                                    "0": "1120.4900"
                                },
                                {
                                    "0": "1214.8500"
                                },
                                {
                                    "0": "1120.4900"
                                },
                                {
                                    "0": "1120.4900"
                                },
                                {
                                    "0": "1214.8500"
                                },
                                {
                                    "0": "1120.4900"
                                },
                                {
                                    "0": "1120.4900"
                                },
                                {
                                    "0": "1120.4900"
                                },
                                {
                                    "0": "1120.4900"
                                },
                                {
                                    "0": "1214.8500"
                                },
                                {
                                    "0": "1120.4900"
                                },
                                {
                                    "0": "1214.8500"
                                },
                                {
                                    "0": "1120.4900"
                                },
                                {
                                    "0": "1214.8500"
                                },
                                {
                                    "0": "1120.4900"
                                },
                                {
                                    "0": "1120.4900"
                                },
                                {
                                    "0": "1120.4900"
                                },
                                {
                                    "0": "1214.8500"
                                },
                                {
                                    "0": "1120.4900"
                                },
                                {
                                    "0": "1120.4900"
                                },
                                {
                                    "0": "1214.8500"
                                },
                                {
                                    "0": "1120.4900"
                                },
                                {
                                    "0": "1214.8500"
                                },
                                {
                                    "0": "1120.4900"
                                },
                                {
                                    "0": "1120.4900"
                                },
                                {
                                    "0": "1214.8500"
                                },
                                {
                                    "0": "1120.4900"
                                },
                                {
                                    "0": "1120.4900"
                                },
                                {
                                    "0": "1120.4900"
                                },
                                {
                                    "0": "1214.8500"
                                },
                                {
                                    "0": "1120.4900"
                                },
                                {
                                    "0": "1120.4900"
                                },
                                {
                                    "0": "1120.4900"
                                },
                                {
                                    "0": "1120.4900"
                                },
                                {
                                    "0": "1120.4900"
                                },
                                {
                                    "0": "1120.4900"
                                },
                                {
                                    "0": "1120.4900"
                                },
                                {
                                    "0": "1120.4900"
                                },
                                {
                                    "0": "1214.8500"
                                },
                                {
                                    "0": "1214.8500"
                                },
                                {
                                    "0": "1120.4900"
                                },
                                {
                                    "0": "1214.8500"
                                },
                                {
                                    "0": "1214.8500"
                                },
                                {
                                    "0": "1120.4900"
                                },
                                {
                                    "0": "1120.4900"
                                },
                                {
                                    "0": "1120.4900"
                                },
                                {
                                    "0": "1120.4900"
                                },
                                {
                                    "0": "1120.4900"
                                },
                                {
                                    "0": "1120.4900"
                                },
                                {
                                    "0": "1214.8500"
                                },
                                {
                                    "0": "1214.8500"
                                },
                                {
                                    "0": "1376.9940"
                                },
                                {
                                    "0": "1376.9940"
                                },
                                {
                                    "0": "1376.9940"
                                },
                                {
                                    "0": "1391.9940"
                                },
                                {
                                    "0": "1391.9940"
                                },
                                {
                                    "0": "1466.0100"
                                },
                                {
                                    "0": "1020.5940"
                                },
                                {
                                    "0": "1466.0100"
                                },
                                {
                                    "0": "1466.0100"
                                },
                                {
                                    "0": "1020.5940"
                                },
                                {
                                    "0": "1020.5940"
                                },
                                {
                                    "0": "1466.0100"
                                },
                                {
                                    "0": "1020.5940"
                                },
                                {
                                    "0": "1376.9940"
                                },
                                {
                                    "0": "1376.9940"
                                },
                                {
                                    "0": "1020.5940"
                                },
                                {
                                    "0": "1430.4420"
                                },
                                {
                                    "0": "1430.4420"
                                },
                                {
                                    "0": "1430.4420"
                                },
                                {
                                    "0": "1020.5940"
                                },
                                {
                                    "0": "1430.4420"
                                },
                                {
                                    "0": "1020.5940"
                                },
                                {
                                    "0": "1430.4420"
                                },
                                {
                                    "0": "1430.4420"
                                },
                                {
                                    "0": "1430.4420"
                                },
                                {
                                    "0": "1020.5940"
                                },
                                {
                                    "0": "1020.5940"
                                },
                                {
                                    "0": "1020.5940"
                                },
                                {
                                    "0": "1020.5940"
                                },
                                {
                                    "0": "1376.9940"
                                },
                                {
                                    "0": "1430.4420"
                                },
                                {
                                    "0": "1430.4420"
                                },
                                {
                                    "0": "1391.9940"
                                },
                                {
                                    "0": "1376.9940"
                                },
                                {
                                    "0": "1391.9940"
                                },
                                {
                                    "0": "1376.9940"
                                },
                                {
                                    "0": "1391.9940"
                                },
                                {
                                    "0": "1376.9940"
                                },
                                {
                                    "0": "1430.4420"
                                },
                                {
                                    "0": "1430.4420"
                                },
                                {
                                    "0": "1430.4420"
                                },
                                {
                                    "0": "1430.4420"
                                },
                                {
                                    "0": "1466.0100"
                                },
                                {
                                    "0": "1020.5940"
                                },
                                {
                                    "0": "1020.5940"
                                },
                                {
                                    "0": "1466.0100"
                                },
                                {
                                    "0": "1466.0100"
                                },
                                {
                                    "0": "1466.0100"
                                },
                                {
                                    "0": "1466.0100"
                                },
                                {
                                    "0": "1020.5940"
                                },
                                {
                                    "0": "1020.5940"
                                },
                                {
                                    "0": "1376.9940"
                                },
                                {
                                    "0": "1391.9940"
                                },
                                {
                                    "0": "1376.9940"
                                },
                                {
                                    "0": "1391.9940"
                                },
                                {
                                    "0": "1376.9940"
                                },
                                {
                                    "0": "1391.9940"
                                },
                                {
                                    "0": "1430.4420"
                                },
                                {
                                    "0": "1430.4420"
                                },
                                {
                                    "0": "1430.4420"
                                },
                                {
                                    "0": "1020.5940"
                                },
                                {
                                    "0": "1020.5940"
                                },
                                {
                                    "0": "1376.9940"
                                },
                                {
                                    "0": "1376.9940"
                                },
                                {
                                    "0": "1376.9940"
                                },
                                {
                                    "0": "1391.9940"
                                },
                                {
                                    "0": "1391.9940"
                                },
                                {
                                    "0": "1391.9940"
                                },
                                {
                                    "0": "1376.9940"
                                },
                                {
                                    "0": "1331.0942"
                                },
                                {
                                    "0": "1391.9940"
                                },
                                {
                                    "0": "1391.9940"
                                },
                                {
                                    "0": "1376.9940"
                                },
                                {
                                    "0": "1376.9940"
                                },
                                {
                                    "0": "1391.9940"
                                },
                                {
                                    "0": "1466.0100"
                                },
                                {
                                    "0": "1466.0100"
                                },
                                {
                                    "0": "1020.5940"
                                },
                                {
                                    "0": "1466.0100"
                                },
                                {
                                    "0": "1466.0100"
                                },
                                {
                                    "0": "1020.5940"
                                },
                                {
                                    "0": "1020.5940"
                                },
                                {
                                    "0": "1466.0100"
                                },
                                {
                                    "0": "1020.5940"
                                },
                                {
                                    "0": "1376.9940"
                                },
                                {
                                    "0": "1430.4420"
                                },
                                {
                                    "0": "1430.4420"
                                },
                                {
                                    "0": "1430.4420"
                                },
                                {
                                    "0": "1430.4420"
                                },
                                {
                                    "0": "1430.4420"
                                },
                                {
                                    "0": "1376.9940"
                                },
                                {
                                    "0": "1466.0100"
                                },
                                {
                                    "0": "1466.0100"
                                },
                                {
                                    "0": "1020.5940"
                                },
                                {
                                    "0": "1020.5940"
                                },
                                {
                                    "0": "1020.5940"
                                },
                                {
                                    "0": "1466.0100"
                                },
                                {
                                    "0": "1020.5940"
                                },
                                {
                                    "0": "1466.0100"
                                },
                                {
                                    "0": "1466.0100"
                                },
                                {
                                    "0": "1430.4420"
                                },
                                {
                                    "0": "1430.4420"
                                },
                                {
                                    "0": "1430.4420"
                                },
                                {
                                    "0": "1020.5940"
                                },
                                {
                                    "0": "1466.0100"
                                },
                                {
                                    "0": "1466.0100"
                                },
                                {
                                    "0": "1466.0100"
                                },
                                {
                                    "0": "1020.5940"
                                },
                                {
                                    "0": "1020.5940"
                                },
                                {
                                    "0": "1430.4420"
                                },
                                {
                                    "0": "1430.4420"
                                },
                                {
                                    "0": "1376.9940"
                                },
                                {
                                    "0": "1020.5940"
                                },
                                {
                                    "0": "1020.5940"
                                },
                                {
                                    "0": "1391.9940"
                                },
                                {
                                    "0": "1376.9940"
                                },
                                {
                                    "0": "1331.0942"
                                },
                                {
                                    "0": "1391.9940"
                                },
                                {
                                    "0": "1391.9940"
                                },
                                {
                                    "0": "1376.9940"
                                },
                                {
                                    "0": "1376.9940"
                                },
                                {
                                    "0": "1020.5940"
                                },
                                {
                                    "0": "1376.9940"
                                },
                                {
                                    "0": "1466.0100"
                                },
                                {
                                    "0": "1466.0100"
                                },
                                {
                                    "0": "1020.5940"
                                },
                                {
                                    "0": "1020.5940"
                                },
                                {
                                    "0": "1020.5940"
                                },
                                {
                                    "0": "1466.0100"
                                },
                                {
                                    "0": "1020.5940"
                                },
                                {
                                    "0": "1466.0100"
                                },
                                {
                                    "0": "1466.0100"
                                },
                                {
                                    "0": "1020.5940"
                                },
                                {
                                    "0": "1391.9940"
                                },
                                {
                                    "0": "1376.9940"
                                },
                                {
                                    "0": "1376.9940"
                                },
                                {
                                    "0": "1391.9940"
                                },
                                {
                                    "0": "1391.9940"
                                },
                                {
                                    "0": "1376.9940"
                                },
                                {
                                    "0": "1391.9940"
                                },
                                {
                                    "0": "1376.9940"
                                },
                                {
                                    "0": "1391.9940"
                                },
                                {
                                    "0": "1376.9940"
                                },
                                {
                                    "0": "1391.9940"
                                },
                                {
                                    "0": "1376.9940"
                                },
                                {
                                    "0": "1376.9940"
                                },
                                {
                                    "0": "1376.9940"
                                },
                                {
                                    "0": "1391.9940"
                                },
                                {
                                    "0": "1391.9940"
                                },
                                {
                                    "0": "1020.5940"
                                },
                                {
                                    "0": "1020.5940"
                                },
                                {
                                    "0": "1466.0100"
                                },
                                {
                                    "0": "1020.5940"
                                },
                                {
                                    "0": "1020.5940"
                                },
                                {
                                    "0": "1466.0100"
                                },
                                {
                                    "0": "1020.5940"
                                },
                                {
                                    "0": "1430.4420"
                                },
                                {
                                    "0": "1430.4420"
                                },
                                {
                                    "0": "1430.4420"
                                },
                                {
                                    "0": "1430.4420"
                                },
                                {
                                    "0": "1430.4420"
                                },
                                {
                                    "0": "1430.4420"
                                },
                                {
                                    "0": "1020.5940"
                                },
                                {
                                    "0": "1466.0100"
                                },
                                {
                                    "0": "1466.0100"
                                },
                                {
                                    "0": "1466.0100"
                                },
                                {
                                    "0": "1020.5940"
                                },
                                {
                                    "0": "1391.9940"
                                },
                                {
                                    "0": "1391.9940"
                                },
                                {
                                    "0": "1376.9940"
                                },
                                {
                                    "0": "1376.9940"
                                },
                                {
                                    "0": "1376.9940"
                                },
                                {
                                    "0": "1376.9940"
                                },
                                {
                                    "0": "1020.5940"
                                },
                                {
                                    "0": "1466.0100"
                                },
                                {
                                    "0": "1466.0100"
                                },
                                {
                                    "0": "1020.5940"
                                },
                                {
                                    "0": "1020.5940"
                                },
                                {
                                    "0": "1020.5940"
                                },
                                {
                                    "0": "1466.0100"
                                },
                                {
                                    "0": "1020.5940"
                                },
                                {
                                    "0": "1020.5940"
                                },
                                {
                                    "0": "1466.0100"
                                },
                                {
                                    "0": "1020.5940"
                                },
                                {
                                    "0": "1466.0100"
                                },
                                {
                                    "0": "1020.5940"
                                },
                                {
                                    "0": "1466.0100"
                                },
                                {
                                    "0": "1466.0100"
                                },
                                {
                                    "0": "1020.5940"
                                },
                                {
                                    "0": "1020.5940"
                                },
                                {
                                    "0": "1466.0100"
                                },
                                {
                                    "0": "1020.5940"
                                },
                                {
                                    "0": "1466.0100"
                                },
                                {
                                    "0": "1466.0100"
                                },
                                {
                                    "0": "1466.0100"
                                },
                                {
                                    "0": "1466.0100"
                                },
                                {
                                    "0": "1466.0100"
                                },
                                {
                                    "0": "1020.5940"
                                },
                                {
                                    "0": "1020.5940"
                                },
                                {
                                    "0": "1020.5940"
                                },
                                {
                                    "0": "1466.0100"
                                },
                                {
                                    "0": "1376.9940"
                                },
                                {
                                    "0": "1391.9940"
                                },
                                {
                                    "0": "1376.9940"
                                },
                                {
                                    "0": "1391.9940"
                                },
                                {
                                    "0": "1466.0100"
                                },
                                {
                                    "0": "1020.5940"
                                },
                                {
                                    "0": "1466.0100"
                                },
                                {
                                    "0": "1466.0100"
                                },
                                {
                                    "0": "1466.0100"
                                },
                                {
                                    "0": "1466.0100"
                                },
                                {
                                    "0": "1020.5940"
                                },
                                {
                                    "0": "1020.5940"
                                },
                                {
                                    "0": "1430.4420"
                                },
                                {
                                    "0": "1020.5940"
                                },
                                {
                                    "0": "1020.5940"
                                },
                                {
                                    "0": "1376.9940"
                                },
                                {
                                    "0": "1391.9940"
                                },
                                {
                                    "0": "1391.9940"
                                },
                                {
                                    "0": "1345.5942"
                                },
                                {
                                    "0": "1376.9940"
                                },
                                {
                                    "0": "1376.9940"
                                },
                                {
                                    "0": "1376.9940"
                                },
                                {
                                    "0": "1466.0100"
                                },
                                {
                                    "0": "1430.4420"
                                },
                                {
                                    "0": "1430.4420"
                                },
                                {
                                    "0": "1430.4420"
                                },
                                {
                                    "0": "1430.4420"
                                },
                                {
                                    "0": "1430.4420"
                                },
                                {
                                    "0": "1376.9940"
                                },
                                {
                                    "0": "1466.0100"
                                },
                                {
                                    "0": "1466.0100"
                                },
                                {
                                    "0": "1020.5940"
                                },
                                {
                                    "0": "1020.5940"
                                },
                                {
                                    "0": "1466.0100"
                                },
                                {
                                    "0": "1466.0100"
                                },
                                {
                                    "0": "1020.5940"
                                },
                                {
                                    "0": "1020.5940"
                                },
                                {
                                    "0": "1466.0100"
                                },
                                {
                                    "0": "1466.0100"
                                },
                                {
                                    "0": "1020.5940"
                                },
                                {
                                    "0": "1020.5940"
                                },
                                {
                                    "0": "1466.0100"
                                },
                                {
                                    "0": "1020.5940"
                                },
                                {
                                    "0": "1020.5940"
                                },
                                {
                                    "0": "1376.9940"
                                },
                                {
                                    "0": "1020.5940"
                                },
                                {
                                    "0": "1020.5940"
                                },
                                {
                                    "0": "1430.4420"
                                },
                                {
                                    "0": "1430.4420"
                                },
                                {
                                    "0": "1391.9940"
                                },
                                {
                                    "0": "1376.9940"
                                },
                                {
                                    "0": "1376.9940"
                                },
                                {
                                    "0": "1376.9940"
                                },
                                {
                                    "0": "1391.9940"
                                },
                                {
                                    "0": "1391.9940"
                                },
                                {
                                    "0": "1020.5940"
                                },
                                {
                                    "0": "1020.5940"
                                },
                                {
                                    "0": "1020.5940"
                                },
                                {
                                    "0": "1466.0100"
                                },
                                {
                                    "0": "1376.9940"
                                },
                                {
                                    "0": "1430.4420"
                                },
                                {
                                    "0": "1382.7606"
                                },
                                {
                                    "0": "1430.4420"
                                },
                                {
                                    "0": "1430.4420"
                                },
                                {
                                    "0": "1430.4420"
                                },
                                {
                                    "0": "1466.0100"
                                },
                                {
                                    "0": "1376.9940"
                                },
                                {
                                    "0": "1376.9940"
                                },
                                {
                                    "0": "1391.9940"
                                },
                                {
                                    "0": "1376.9940"
                                },
                                {
                                    "0": "1391.9940"
                                },
                                {
                                    "0": "1376.9940"
                                },
                                {
                                    "0": "1020.5940"
                                },
                                {
                                    "0": "1376.9940"
                                },
                                {
                                    "0": "1376.9940"
                                },
                                {
                                    "0": "1376.9940"
                                },
                                {
                                    "0": "1391.9940"
                                },
                                {
                                    "0": "1345.5942"
                                },
                                {
                                    "0": "1391.9940"
                                },
                                {
                                    "0": "1262.2445"
                                },
                                {
                                    "0": "1311.2385"
                                },
                                {
                                    "0": "1430.4420"
                                },
                                {
                                    "0": "1430.4420"
                                },
                                {
                                    "0": "1430.4420"
                                },
                                {
                                    "0": "1376.9940"
                                },
                                {
                                    "0": "1331.0942"
                                },
                                {
                                    "0": "1376.9940"
                                },
                                {
                                    "0": "1391.9940"
                                },
                                {
                                    "0": "1376.9940"
                                },
                                {
                                    "0": "1391.9940"
                                },
                                {
                                    "0": "1376.9940"
                                },
                                {
                                    "0": "1391.9940"
                                },
                                {
                                    "0": "1376.9940"
                                },
                                {
                                    "0": "1430.4420"
                                },
                                {
                                    "0": "1430.4420"
                                },
                                {
                                    "0": "1382.7606"
                                },
                                {
                                    "0": "1430.4420"
                                },
                                {
                                    "0": "1430.4420"
                                },
                                {
                                    "0": "1430.4420"
                                },
                                {
                                    "0": "1020.5940"
                                },
                                {
                                    "0": "1466.0100"
                                },
                                {
                                    "0": "1466.0100"
                                },
                                {
                                    "0": "1020.5940"
                                },
                                {
                                    "0": "1466.0100"
                                },
                                {
                                    "0": "1466.0100"
                                },
                                {
                                    "0": "1020.5940"
                                },
                                {
                                    "0": "1020.5940"
                                },
                                {
                                    "0": "1466.0100"
                                },
                                {
                                    "0": "1430.4420"
                                },
                                {
                                    "0": "1466.0100"
                                },
                                {
                                    "0": "1020.5940"
                                },
                                {
                                    "0": "1466.0100"
                                },
                                {
                                    "0": "1020.5940"
                                },
                                {
                                    "0": "1020.5940"
                                },
                                {
                                    "0": "1466.0100"
                                },
                                {
                                    "0": "1466.0100"
                                },
                                {
                                    "0": "1020.5940"
                                },
                                {
                                    "0": "1466.0100"
                                },
                                {
                                    "0": "1466.0100"
                                },
                                {
                                    "0": "1020.5940"
                                },
                                {
                                    "0": "1020.5940"
                                },
                                {
                                    "0": "1466.0100"
                                },
                                {
                                    "0": "1391.9940"
                                },
                                {
                                    "0": "1376.9940"
                                },
                                {
                                    "0": "1376.9940"
                                },
                                {
                                    "0": "1376.9940"
                                },
                                {
                                    "0": "1391.9940"
                                },
                                {
                                    "0": "1376.9940"
                                },
                                {
                                    "0": "1391.9940"
                                },
                                {
                                    "0": "1391.9940"
                                },
                                {
                                    "0": "1376.9940"
                                },
                                {
                                    "0": "1391.9940"
                                },
                                {
                                    "0": "1376.9940"
                                },
                                {
                                    "0": "1376.9940"
                                },
                                {
                                    "0": "1430.4420"
                                },
                                {
                                    "0": "1430.4420"
                                },
                                {
                                    "0": "1020.5940"
                                },
                                {
                                    "0": "1466.0100"
                                },
                                {
                                    "0": "1020.5940"
                                },
                                {
                                    "0": "1466.0100"
                                },
                                {
                                    "0": "1466.0100"
                                },
                                {
                                    "0": "1020.5940"
                                },
                                {
                                    "0": "1020.5940"
                                },
                                {
                                    "0": "1466.0100"
                                },
                                {
                                    "0": "1430.4420"
                                },
                                {
                                    "0": "1382.7606"
                                },
                                {
                                    "0": "1430.4420"
                                },
                                {
                                    "0": "1020.5940"
                                },
                                {
                                    "0": "1466.0100"
                                },
                                {
                                    "0": "1466.0100"
                                },
                                {
                                    "0": "1020.5940"
                                },
                                {
                                    "0": "1466.0100"
                                },
                                {
                                    "0": "1466.0100"
                                },
                                {
                                    "0": "1020.5940"
                                },
                                {
                                    "0": "1466.0100"
                                },
                                {
                                    "0": "1466.0100"
                                },
                                {
                                    "0": "1020.5940"
                                },
                                {
                                    "0": "1466.0100"
                                },
                                {
                                    "0": "1020.5940"
                                },
                                {
                                    "0": "1466.0100"
                                },
                                {
                                    "0": "1020.5940"
                                },
                                {
                                    "0": "1020.5940"
                                },
                                {
                                    "0": "1466.0100"
                                },
                                {
                                    "0": "1466.0100"
                                },
                                {
                                    "0": "1376.9940"
                                },
                                {
                                    "0": "1020.5940"
                                },
                                {
                                    "0": "1391.9940"
                                },
                                {
                                    "0": "1376.9940"
                                },
                                {
                                    "0": "1376.9940"
                                },
                                {
                                    "0": "1391.9940"
                                },
                                {
                                    "0": "1376.9940"
                                },
                                {
                                    "0": "1466.0100"
                                },
                                {
                                    "0": "1020.5940"
                                },
                                {
                                    "0": "1020.5940"
                                },
                                {
                                    "0": "1466.0100"
                                },
                                {
                                    "0": "1430.4420"
                                },
                                {
                                    "0": "1382.7606"
                                },
                                {
                                    "0": "1430.4420"
                                },
                                {
                                    "0": "1430.4420"
                                },
                                {
                                    "0": "1430.4420"
                                },
                                {
                                    "0": "1391.9940"
                                },
                                {
                                    "0": "1376.9940"
                                },
                                {
                                    "0": "1391.9940"
                                },
                                {
                                    "0": "1376.9940"
                                },
                                {
                                    "0": "1466.0100"
                                },
                                {
                                    "0": "1020.5940"
                                },
                                {
                                    "0": "1466.0100"
                                },
                                {
                                    "0": "1466.0100"
                                },
                                {
                                    "0": "1020.5940"
                                },
                                {
                                    "0": "1020.5940"
                                },
                                {
                                    "0": "1466.0100"
                                },
                                {
                                    "0": "1466.0100"
                                },
                                {
                                    "0": "1020.5940"
                                },
                                {
                                    "0": "1376.9940"
                                },
                                {
                                    "0": "1376.9940"
                                },
                                {
                                    "0": "1391.9940"
                                },
                                {
                                    "0": "1430.4420"
                                },
                                {
                                    "0": "1430.4420"
                                },
                                {
                                    "0": "1430.4420"
                                },
                                {
                                    "0": "1430.4420"
                                },
                                {
                                    "0": "1430.4420"
                                },
                                {
                                    "0": "1382.7606"
                                },
                                {
                                    "0": "1430.4420"
                                },
                                {
                                    "0": "1430.4420"
                                },
                                {
                                    "0": "1430.4420"
                                },
                                {
                                    "0": "1466.0100"
                                },
                                {
                                    "0": "1020.5940"
                                },
                                {
                                    "0": "1020.5940"
                                },
                                {
                                    "0": "1466.0100"
                                },
                                {
                                    "0": "1466.0100"
                                },
                                {
                                    "0": "1020.5940"
                                },
                                {
                                    "0": "1020.5940"
                                },
                                {
                                    "0": "1376.9940"
                                },
                                {
                                    "0": "1430.4420"
                                },
                                {
                                    "0": "1430.4420"
                                },
                                {
                                    "0": "1430.4420"
                                },
                                {
                                    "0": "1430.4420"
                                },
                                {
                                    "0": "1430.4420"
                                },
                                {
                                    "0": "1120.4900"
                                },
                                {
                                    "0": "1214.8500"
                                },
                                {
                                    "0": "1120.4900"
                                },
                                {
                                    "0": "1214.8500"
                                },
                                {
                                    "0": "1120.4900"
                                },
                                {
                                    "0": "1120.4900"
                                },
                                {
                                    "0": "1214.8500"
                                },
                                {
                                    "0": "1120.4900"
                                },
                                {
                                    "0": "1214.8500"
                                },
                                {
                                    "0": "1120.4900"
                                },
                                {
                                    "0": "1120.4900"
                                },
                                {
                                    "0": "1120.4900"
                                },
                                {
                                    "0": "1120.4900"
                                },
                                {
                                    "0": "1120.4900"
                                },
                                {
                                    "0": "1214.8500"
                                },
                                {
                                    "0": "1214.8500"
                                },
                                {
                                    "0": "1120.4900"
                                },
                                {
                                    "0": "1120.4900"
                                },
                                {
                                    "0": "1120.4900"
                                },
                                {
                                    "0": "1214.8500"
                                },
                                {
                                    "0": "1120.4900"
                                },
                                {
                                    "0": "1120.4900"
                                },
                                {
                                    "0": "1120.4900"
                                },
                                {
                                    "0": "1214.8500"
                                },
                                {
                                    "0": "1214.8500"
                                },
                                {
                                    "0": "1120.4900"
                                },
                                {
                                    "0": "1120.4900"
                                },
                                {
                                    "0": "1120.4900"
                                },
                                {
                                    "0": "1120.4900"
                                },
                                {
                                    "0": "1120.4900"
                                },
                                {
                                    "0": "1120.4900"
                                },
                                {
                                    "0": "1120.4900"
                                },
                                {
                                    "0": "1214.8500"
                                },
                                {
                                    "0": "1214.8500"
                                },
                                {
                                    "0": "1214.8500"
                                },
                                {
                                    "0": "1120.4900"
                                },
                                {
                                    "0": "1120.4900"
                                },
                                {
                                    "0": "1214.8500"
                                },
                                {
                                    "0": "1214.8500"
                                },
                                {
                                    "0": "1120.4900"
                                },
                                {
                                    "0": "1120.4900"
                                },
                                {
                                    "0": "1120.4900"
                                },
                                {
                                    "0": "1120.4900"
                                },
                                {
                                    "0": "1214.8500"
                                },
                                {
                                    "0": "1120.4900"
                                },
                                {
                                    "0": "1120.4900"
                                },
                                {
                                    "0": "1120.4900"
                                },
                                {
                                    "0": "1120.4900"
                                },
                                {
                                    "0": "1120.4900"
                                },
                                {
                                    "0": "1214.8500"
                                },
                                {
                                    "0": "1214.8500"
                                },
                                {
                                    "0": "1120.4900"
                                },
                                {
                                    "0": "1214.8500"
                                },
                                {
                                    "0": "1120.4900"
                                },
                                {
                                    "0": "1120.4900"
                                },
                                {
                                    "0": "1120.4900"
                                },
                                {
                                    "0": "1120.4900"
                                },
                                {
                                    "0": "1120.4900"
                                },
                                {
                                    "0": "1120.4900"
                                },
                                {
                                    "0": "1120.4900"
                                },
                                {
                                    "0": "1120.4900"
                                },
                                {
                                    "0": "1120.4900"
                                },
                                {
                                    "0": "1120.4900"
                                },
                                {
                                    "0": "1214.8500"
                                },
                                {
                                    "0": "1214.8500"
                                },
                                {
                                    "0": "1120.4900"
                                },
                                {
                                    "0": "1120.4900"
                                },
                                {
                                    "0": "1120.4900"
                                },
                                {
                                    "0": "1120.4900"
                                },
                                {
                                    "0": "1214.8500"
                                },
                                {
                                    "0": "1120.4900"
                                },
                                {
                                    "0": "1214.8500"
                                },
                                {
                                    "0": "1120.4900"
                                },
                                {
                                    "0": "1120.4900"
                                },
                                {
                                    "0": "1120.4900"
                                },
                                {
                                    "0": "1120.4900"
                                },
                                {
                                    "0": "1120.4900"
                                },
                                {
                                    "0": "1120.4900"
                                },
                                {
                                    "0": "1120.4900"
                                },
                                {
                                    "0": "1120.4900"
                                },
                                {
                                    "0": "1120.4900"
                                },
                                {
                                    "0": "1430.4420"
                                },
                                {
                                    "0": "1430.4420"
                                },
                                {
                                    "0": "1430.4420"
                                },
                                {
                                    "0": "1430.4420"
                                },
                                {
                                    "0": "1391.9940"
                                },
                                {
                                    "0": "1376.9940"
                                },
                                {
                                    "0": "1391.9940"
                                },
                                {
                                    "0": "1376.9940"
                                },
                                {
                                    "0": "1391.9940"
                                },
                                {
                                    "0": "1376.9940"
                                },
                                {
                                    "0": "1466.0100"
                                },
                                {
                                    "0": "1466.0100"
                                },
                                {
                                    "0": "1466.0100"
                                },
                                {
                                    "0": "1020.5940"
                                },
                                {
                                    "0": "1466.0100"
                                },
                                {
                                    "0": "1466.0100"
                                },
                                {
                                    "0": "1020.5940"
                                },
                                {
                                    "0": "1020.5940"
                                },
                                {
                                    "0": "1391.9940"
                                },
                                {
                                    "0": "1391.9940"
                                },
                                {
                                    "0": "1391.9940"
                                },
                                {
                                    "0": "1376.9940"
                                },
                                {
                                    "0": "1331.0942"
                                },
                                {
                                    "0": "1430.4420"
                                },
                                {
                                    "0": "1430.4420"
                                },
                                {
                                    "0": "1430.4420"
                                },
                                {
                                    "0": "1430.4420"
                                },
                                {
                                    "0": "1430.4420"
                                },
                                {
                                    "0": "1466.0100"
                                },
                                {
                                    "0": "1466.0100"
                                },
                                {
                                    "0": "1020.5940"
                                },
                                {
                                    "0": "1020.5940"
                                },
                                {
                                    "0": "1466.0100"
                                },
                                {
                                    "0": "1466.0100"
                                },
                                {
                                    "0": "1376.9940"
                                },
                                {
                                    "0": "1020.5940"
                                },
                                {
                                    "0": "1020.5940"
                                },
                                {
                                    "0": "1466.0100"
                                },
                                {
                                    "0": "1466.0100"
                                },
                                {
                                    "0": "1020.5940"
                                },
                                {
                                    "0": "1020.5940"
                                },
                                {
                                    "0": "1466.0100"
                                },
                                {
                                    "0": "1466.0100"
                                },
                                {
                                    "0": "1466.0100"
                                },
                                {
                                    "0": "1391.9940"
                                },
                                {
                                    "0": "1391.9940"
                                },
                                {
                                    "0": "1376.9940"
                                },
                                {
                                    "0": "1376.9940"
                                },
                                {
                                    "0": "1391.9940"
                                },
                                {
                                    "0": "1376.9940"
                                },
                                {
                                    "0": "1020.5940"
                                },
                                {
                                    "0": "1430.4420"
                                },
                                {
                                    "0": "1430.4420"
                                },
                                {
                                    "0": "1430.4420"
                                },
                                {
                                    "0": "1466.0100"
                                },
                                {
                                    "0": "1466.0100"
                                },
                                {
                                    "0": "1020.5940"
                                },
                                {
                                    "0": "1430.4420"
                                },
                                {
                                    "0": "1430.4420"
                                },
                                {
                                    "0": "1020.5940"
                                },
                                {
                                    "0": "1466.0100"
                                },
                                {
                                    "0": "1466.0100"
                                },
                                {
                                    "0": "1020.5940"
                                },
                                {
                                    "0": "1466.0100"
                                },
                                {
                                    "0": "1466.0100"
                                },
                                {
                                    "0": "1466.0100"
                                },
                                {
                                    "0": "1020.5940"
                                },
                                {
                                    "0": "1020.5940"
                                },
                                {
                                    "0": "1466.0100"
                                },
                                {
                                    "0": "1466.0100"
                                },
                                {
                                    "0": "1466.0100"
                                },
                                {
                                    "0": "1020.5940"
                                },
                                {
                                    "0": "1020.5940"
                                },
                                {
                                    "0": "1430.4420"
                                },
                                {
                                    "0": "1430.4420"
                                },
                                {
                                    "0": "1430.4420"
                                },
                                {
                                    "0": "1430.4420"
                                },
                                {
                                    "0": "1466.0100"
                                },
                                {
                                    "0": "1466.0100"
                                },
                                {
                                    "0": "1020.5940"
                                },
                                {
                                    "0": "1466.0100"
                                },
                                {
                                    "0": "1430.4420"
                                },
                                {
                                    "0": "1430.4420"
                                },
                                {
                                    "0": "1430.4420"
                                },
                                {
                                    "0": "1430.4420"
                                },
                                {
                                    "0": "1430.4420"
                                },
                                {
                                    "0": "1430.4420"
                                },
                                {
                                    "0": "1391.9940"
                                },
                                {
                                    "0": "1376.9940"
                                },
                                {
                                    "0": "1391.9940"
                                },
                                {
                                    "0": "1391.9940"
                                },
                                {
                                    "0": "1376.9940"
                                },
                                {
                                    "0": "1376.9940"
                                },
                                {
                                    "0": "1391.9940"
                                },
                                {
                                    "0": "1376.9940"
                                },
                                {
                                    "0": "1376.9940"
                                },
                                {
                                    "0": "1391.9940"
                                },
                                {
                                    "0": "1430.4420"
                                },
                                {
                                    "0": "1430.4420"
                                },
                                {
                                    "0": "1430.4420"
                                },
                                {
                                    "0": "1376.9940"
                                },
                                {
                                    "0": "1376.9940"
                                },
                                {
                                    "0": "1376.9940"
                                },
                                {
                                    "0": "1430.4420"
                                },
                                {
                                    "0": "1430.4420"
                                },
                                {
                                    "0": "1430.4420"
                                },
                                {
                                    "0": "1430.4420"
                                },
                                {
                                    "0": "1376.9940"
                                },
                                {
                                    "0": "1466.0100"
                                },
                                {
                                    "0": "1430.4420"
                                },
                                {
                                    "0": "1430.4420"
                                },
                                {
                                    "0": "1376.9940"
                                },
                                {
                                    "0": "1020.5940"
                                },
                                {
                                    "0": "1466.0100"
                                },
                                {
                                    "0": "1466.0100"
                                },
                                {
                                    "0": "1020.5940"
                                },
                                {
                                    "0": "1466.0100"
                                },
                                {
                                    "0": "1376.9940"
                                },
                                {
                                    "0": "1391.9940"
                                },
                                {
                                    "0": "1391.9940"
                                },
                                {
                                    "0": "1430.4420"
                                },
                                {
                                    "0": "1430.4420"
                                },
                                {
                                    "0": "1430.4420"
                                },
                                {
                                    "0": "1430.4420"
                                },
                                {
                                    "0": "1430.4420"
                                },
                                {
                                    "0": "1376.9940"
                                },
                                {
                                    "0": "1430.4420"
                                },
                                {
                                    "0": "1391.9940"
                                },
                                {
                                    "0": "1391.9940"
                                },
                                {
                                    "0": "1376.9940"
                                },
                                {
                                    "0": "1376.9940"
                                },
                                {
                                    "0": "1391.9940"
                                },
                                {
                                    "0": "1466.0100"
                                },
                                {
                                    "0": "1020.5940"
                                },
                                {
                                    "0": "1466.0100"
                                },
                                {
                                    "0": "1020.5940"
                                },
                                {
                                    "0": "1020.5940"
                                },
                                {
                                    "0": "1466.0100"
                                },
                                {
                                    "0": "1430.4420"
                                },
                                {
                                    "0": "1430.4420"
                                },
                                {
                                    "0": "1430.4420"
                                },
                                {
                                    "0": "1020.5940"
                                },
                                {
                                    "0": "1376.9940"
                                },
                                {
                                    "0": "1391.9940"
                                },
                                {
                                    "0": "1391.9940"
                                },
                                {
                                    "0": "1391.9940"
                                },
                                {
                                    "0": "1376.9940"
                                },
                                {
                                    "0": "1391.9940"
                                },
                                {
                                    "0": "1376.9940"
                                },
                                {
                                    "0": "1391.9940"
                                },
                                {
                                    "0": "1376.9940"
                                },
                                {
                                    "0": "1391.9940"
                                },
                                {
                                    "0": "1430.4420"
                                },
                                {
                                    "0": "1430.4420"
                                },
                                {
                                    "0": "1430.4420"
                                },
                                {
                                    "0": "1430.4420"
                                },
                                {
                                    "0": "1430.4420"
                                },
                                {
                                    "0": "1430.4420"
                                },
                                {
                                    "0": "1430.4420"
                                },
                                {
                                    "0": "1391.9940"
                                },
                                {
                                    "0": "1331.0942"
                                },
                                {
                                    "0": "1391.9940"
                                },
                                {
                                    "0": "1391.9940"
                                },
                                {
                                    "0": "1376.9940"
                                },
                                {
                                    "0": "1376.9940"
                                },
                                {
                                    "0": "1430.4420"
                                },
                                {
                                    "0": "1430.4420"
                                },
                                {
                                    "0": "1430.4420"
                                },
                                {
                                    "0": "1020.5940"
                                },
                                {
                                    "0": "1430.4420"
                                },
                                {
                                    "0": "1430.4420"
                                },
                                {
                                    "0": "1430.4420"
                                },
                                {
                                    "0": "1430.4420"
                                },
                                {
                                    "0": "1430.4420"
                                },
                                {
                                    "0": "1020.5940"
                                },
                                {
                                    "0": "1020.5940"
                                },
                                {
                                    "0": "1020.5940"
                                },
                                {
                                    "0": "1466.0100"
                                },
                                {
                                    "0": "1466.0100"
                                },
                                {
                                    "0": "1466.0100"
                                },
                                {
                                    "0": "1020.5940"
                                },
                                {
                                    "0": "1391.9940"
                                },
                                {
                                    "0": "1376.9940"
                                },
                                {
                                    "0": "1391.9940"
                                },
                                {
                                    "0": "1376.9940"
                                },
                                {
                                    "0": "1376.9940"
                                },
                                {
                                    "0": "1020.5940"
                                },
                                {
                                    "0": "1466.0100"
                                },
                                {
                                    "0": "1466.0100"
                                },
                                {
                                    "0": "1020.5940"
                                },
                                {
                                    "0": "1376.9940"
                                },
                                {
                                    "0": "1391.9940"
                                },
                                {
                                    "0": "1376.9940"
                                },
                                {
                                    "0": "1376.9940"
                                },
                                {
                                    "0": "1430.4420"
                                },
                                {
                                    "0": "1430.4420"
                                },
                                {
                                    "0": "1020.5940"
                                },
                                {
                                    "0": "1020.5940"
                                },
                                {
                                    "0": "1430.4420"
                                },
                                {
                                    "0": "1430.4420"
                                },
                                {
                                    "0": "1430.4420"
                                },
                                {
                                    "0": "1430.4420"
                                },
                                {
                                    "0": "1391.9940"
                                },
                                {
                                    "0": "1376.9940"
                                },
                                {
                                    "0": "1376.9940"
                                },
                                {
                                    "0": "1391.9940"
                                },
                                {
                                    "0": "1376.9940"
                                },
                                {
                                    "0": "1466.0100"
                                },
                                {
                                    "0": "1020.5940"
                                },
                                {
                                    "0": "1466.0100"
                                },
                                {
                                    "0": "1430.4420"
                                },
                                {
                                    "0": "1430.4420"
                                },
                                {
                                    "0": "1430.4420"
                                },
                                {
                                    "0": "1430.4420"
                                },
                                {
                                    "0": "1430.4420"
                                },
                                {
                                    "0": "1430.4420"
                                },
                                {
                                    "0": "1376.9940"
                                },
                                {
                                    "0": "1430.4420"
                                },
                                {
                                    "0": "1020.5940"
                                },
                                {
                                    "0": "1020.5940"
                                },
                                {
                                    "0": "1020.5940"
                                },
                                {
                                    "0": "1466.0100"
                                },
                                {
                                    "0": "1466.0100"
                                },
                                {
                                    "0": "1466.0100"
                                },
                                {
                                    "0": "1020.5940"
                                },
                                {
                                    "0": "1020.5940"
                                },
                                {
                                    "0": "1466.0100"
                                },
                                {
                                    "0": "1020.5940"
                                },
                                {
                                    "0": "1466.0100"
                                },
                                {
                                    "0": "1020.5940"
                                },
                                {
                                    "0": "1020.5940"
                                },
                                {
                                    "0": "1466.0100"
                                },
                                {
                                    "0": "1466.0100"
                                },
                                {
                                    "0": "1466.0100"
                                },
                                {
                                    "0": "1466.0100"
                                },
                                {
                                    "0": "1020.5940"
                                },
                                {
                                    "0": "1020.5940"
                                },
                                {
                                    "0": "1430.4420"
                                },
                                {
                                    "0": "1430.4420"
                                },
                                {
                                    "0": "1430.4420"
                                },
                                {
                                    "0": "1376.9940"
                                },
                                {
                                    "0": "1376.9940"
                                },
                                {
                                    "0": "1430.4420"
                                },
                                {
                                    "0": "1020.5940"
                                },
                                {
                                    "0": "1430.4420"
                                },
                                {
                                    "0": "1430.4420"
                                },
                                {
                                    "0": "1430.4420"
                                },
                                {
                                    "0": "1430.4420"
                                },
                                {
                                    "0": "1391.9940"
                                },
                                {
                                    "0": "1376.9940"
                                },
                                {
                                    "0": "1391.9940"
                                },
                                {
                                    "0": "1376.9940"
                                },
                                {
                                    "0": "1391.9940"
                                },
                                {
                                    "0": "1020.5940"
                                },
                                {
                                    "0": "1466.0100"
                                },
                                {
                                    "0": "1466.0100"
                                },
                                {
                                    "0": "1466.0100"
                                },
                                {
                                    "0": "1466.0100"
                                },
                                {
                                    "0": "1020.5940"
                                },
                                {
                                    "0": "1020.5940"
                                },
                                {
                                    "0": "1020.5940"
                                },
                                {
                                    "0": "1466.0100"
                                },
                                {
                                    "0": "1466.0100"
                                },
                                {
                                    "0": "1020.5940"
                                },
                                {
                                    "0": "1020.5940"
                                },
                                {
                                    "0": "1466.0100"
                                },
                                {
                                    "0": "1466.0100"
                                },
                                {
                                    "0": "1020.5940"
                                },
                                {
                                    "0": "1466.0100"
                                },
                                {
                                    "0": "1466.0100"
                                },
                                {
                                    "0": "1020.5940"
                                },
                                {
                                    "0": "1430.4420"
                                },
                                {
                                    "0": "1430.4420"
                                },
                                {
                                    "0": "1376.9940"
                                },
                                {
                                    "0": "1391.9940"
                                },
                                {
                                    "0": "1376.9940"
                                },
                                {
                                    "0": "1376.9940"
                                },
                                {
                                    "0": "1391.9940"
                                },
                                {
                                    "0": "1391.9940"
                                },
                                {
                                    "0": "1430.4420"
                                },
                                {
                                    "0": "1430.4420"
                                },
                                {
                                    "0": "1430.4420"
                                },
                                {
                                    "0": "1430.4420"
                                },
                                {
                                    "0": "1020.5940"
                                },
                                {
                                    "0": "1430.4420"
                                },
                                {
                                    "0": "1430.4420"
                                },
                                {
                                    "0": "1430.4420"
                                },
                                {
                                    "0": "1466.0100"
                                },
                                {
                                    "0": "1020.5940"
                                },
                                {
                                    "0": "1466.0100"
                                },
                                {
                                    "0": "1020.5940"
                                },
                                {
                                    "0": "1020.5940"
                                },
                                {
                                    "0": "1466.0100"
                                },
                                {
                                    "0": "1020.5940"
                                },
                                {
                                    "0": "1430.4420"
                                },
                                {
                                    "0": "1430.4420"
                                },
                                {
                                    "0": "1430.4420"
                                },
                                {
                                    "0": "1391.9940"
                                },
                                {
                                    "0": "1376.9940"
                                },
                                {
                                    "0": "1376.9940"
                                },
                                {
                                    "0": "1391.9940"
                                },
                                {
                                    "0": "1345.5942"
                                },
                                {
                                    "0": "1262.2445"
                                },
                                {
                                    "0": "1430.4420"
                                },
                                {
                                    "0": "1391.9940"
                                },
                                {
                                    "0": "1391.9940"
                                },
                                {
                                    "0": "1391.9940"
                                },
                                {
                                    "0": "1376.9940"
                                },
                                {
                                    "0": "1376.9940"
                                },
                                {
                                    "0": "1430.4420"
                                },
                                {
                                    "0": "1430.4420"
                                },
                                {
                                    "0": "1430.4420"
                                },
                                {
                                    "0": "1020.5940"
                                },
                                {
                                    "0": "1020.5940"
                                },
                                {
                                    "0": "1391.9940"
                                },
                                {
                                    "0": "1376.9940"
                                },
                                {
                                    "0": "1376.9940"
                                },
                                {
                                    "0": "1391.9940"
                                },
                                {
                                    "0": "1376.9940"
                                },
                                {
                                    "0": "1430.4420"
                                },
                                {
                                    "0": "1430.4420"
                                },
                                {
                                    "0": "1391.9940"
                                },
                                {
                                    "0": "1376.9940"
                                },
                                {
                                    "0": "1376.9940"
                                },
                                {
                                    "0": "1391.9940"
                                },
                                {
                                    "0": "1376.9940"
                                },
                                {
                                    "0": "1020.5940"
                                },
                                {
                                    "0": "1020.5940"
                                },
                                {
                                    "0": "1376.9940"
                                },
                                {
                                    "0": "1430.4420"
                                },
                                {
                                    "0": "1430.4420"
                                },
                                {
                                    "0": "1430.4420"
                                },
                                {
                                    "0": "1020.5940"
                                },
                                {
                                    "0": "1376.9940"
                                },
                                {
                                    "0": "1020.5940"
                                },
                                {
                                    "0": "1020.5940"
                                },
                                {
                                    "0": "1020.5940"
                                },
                                {
                                    "0": "1020.5940"
                                },
                                {
                                    "0": "1382.7606"
                                },
                                {
                                    "0": "1430.4420"
                                },
                                {
                                    "0": "1376.9940"
                                },
                                {
                                    "0": "1391.9940"
                                },
                                {
                                    "0": "1376.9940"
                                },
                                {
                                    "0": "1391.9940"
                                },
                                {
                                    "0": "1376.9940"
                                },
                                {
                                    "0": "1020.5940"
                                },
                                {
                                    "0": "1020.5940"
                                },
                                {
                                    "0": "1376.9940"
                                },
                                {
                                    "0": "1430.4420"
                                },
                                {
                                    "0": "1376.9940"
                                },
                                {
                                    "0": "1391.9940"
                                },
                                {
                                    "0": "1391.9940"
                                },
                                {
                                    "0": "1391.9940"
                                },
                                {
                                    "0": "1376.9940"
                                },
                                {
                                    "0": "1376.9940"
                                },
                                {
                                    "0": "1376.9940"
                                },
                                {
                                    "0": "1391.9940"
                                },
                                {
                                    "0": "1376.9940"
                                },
                                {
                                    "0": "1376.9940"
                                },
                                {
                                    "0": "1391.9940"
                                },
                                {
                                    "0": "1430.4420"
                                },
                                {
                                    "0": "1466.0100"
                                },
                                {
                                    "0": "1466.0100"
                                },
                                {
                                    "0": "1466.0100"
                                },
                                {
                                    "0": "1020.5940"
                                },
                                {
                                    "0": "1430.4420"
                                },
                                {
                                    "0": "1391.9940"
                                },
                                {
                                    "0": "1376.9940"
                                },
                                {
                                    "0": "1376.9940"
                                },
                                {
                                    "0": "1391.9940"
                                },
                                {
                                    "0": "1376.9940"
                                },
                                {
                                    "0": "1391.9940"
                                },
                                {
                                    "0": "1020.5940"
                                },
                                {
                                    "0": "1020.5940"
                                },
                                {
                                    "0": "1376.9940"
                                },
                                {
                                    "0": "1214.8500"
                                },
                                {
                                    "0": "1120.4900"
                                },
                                {
                                    "0": "1120.4900"
                                },
                                {
                                    "0": "1120.4900"
                                },
                                {
                                    "0": "1120.4900"
                                },
                                {
                                    "0": "1120.4900"
                                },
                                {
                                    "0": "1120.4900"
                                },
                                {
                                    "0": "1120.4900"
                                },
                                {
                                    "0": "1120.4900"
                                },
                                {
                                    "0": "1120.4900"
                                },
                                {
                                    "0": "1120.4900"
                                },
                                {
                                    "0": "1120.4900"
                                },
                                {
                                    "0": "1120.4900"
                                },
                                {
                                    "0": "1214.8500"
                                },
                                {
                                    "0": "1214.8500"
                                },
                                {
                                    "0": "1120.4900"
                                },
                                {
                                    "0": "1120.4900"
                                },
                                {
                                    "0": "1214.8500"
                                },
                                {
                                    "0": "1214.8500"
                                },
                                {
                                    "0": "1120.4900"
                                },
                                {
                                    "0": "1120.4900"
                                },
                                {
                                    "0": "1120.4900"
                                },
                                {
                                    "0": "1120.4900"
                                },
                                {
                                    "0": "1120.4900"
                                },
                                {
                                    "0": "1120.4900"
                                },
                                {
                                    "0": "1120.4900"
                                },
                                {
                                    "0": "1120.4900"
                                },
                                {
                                    "0": "1214.8500"
                                },
                                {
                                    "0": "1214.8500"
                                },
                                {
                                    "0": "1120.4900"
                                },
                                {
                                    "0": "1120.4900"
                                },
                                {
                                    "0": "1120.4900"
                                },
                                {
                                    "0": "1120.4900"
                                },
                                {
                                    "0": "1120.4900"
                                },
                                {
                                    "0": "1214.8500"
                                },
                                {
                                    "0": "1214.8500"
                                },
                                {
                                    "0": "1120.4900"
                                },
                                {
                                    "0": "1120.4900"
                                },
                                {
                                    "0": "1120.4900"
                                },
                                {
                                    "0": "1120.4900"
                                },
                                {
                                    "0": "1214.8500"
                                },
                                {
                                    "0": "1214.8500"
                                },
                                {
                                    "0": "1214.8500"
                                },
                                {
                                    "0": "1214.8500"
                                },
                                {
                                    "0": "1120.4900"
                                },
                                {
                                    "0": "1120.4900"
                                },
                                {
                                    "0": "1120.4900"
                                },
                                {
                                    "0": "1120.4900"
                                },
                                {
                                    "0": "1120.4900"
                                },
                                {
                                    "0": "1120.4900"
                                },
                                {
                                    "0": "1120.4900"
                                },
                                {
                                    "0": "1214.8500"
                                },
                                {
                                    "0": "1120.4900"
                                },
                                {
                                    "0": "1120.4900"
                                },
                                {
                                    "0": "1120.4900"
                                },
                                {
                                    "0": "1120.4900"
                                },
                                {
                                    "0": "1214.8500"
                                },
                                {
                                    "0": "1120.4900"
                                },
                                {
                                    "0": "1120.4900"
                                },
                                {
                                    "0": "1120.4900"
                                },
                                {
                                    "0": "1214.8500"
                                },
                                {
                                    "0": "1214.8500"
                                },
                                {
                                    "0": "1120.4900"
                                },
                                {
                                    "0": "1120.4900"
                                },
                                {
                                    "0": "1120.4900"
                                },
                                {
                                    "0": "1214.8500"
                                },
                                {
                                    "0": "1120.4900"
                                },
                                {
                                    "0": "1120.4900"
                                },
                                {
                                    "0": "1214.8500"
                                },
                                {
                                    "0": "1120.4900"
                                },
                                {
                                    "0": "1120.4900"
                                },
                                {
                                    "0": "1120.4900"
                                },
                                {
                                    "0": "1120.4900"
                                },
                                {
                                    "0": "1120.4900"
                                },
                                {
                                    "0": "1120.4900"
                                },
                                {
                                    "0": "1214.8500"
                                },
                                {
                                    "0": "1120.4900"
                                },
                                {
                                    "0": "1120.4900"
                                },
                                {
                                    "0": "1120.4900"
                                },
                                {
                                    "0": "1120.4900"
                                },
                                {
                                    "0": "1214.8500"
                                },
                                {
                                    "0": "1120.4900"
                                },
                                {
                                    "0": "1120.4900"
                                },
                                {
                                    "0": "1214.8500"
                                },
                                {
                                    "0": "1214.8500"
                                },
                                {
                                    "0": "1120.4900"
                                },
                                {
                                    "0": "1120.4900"
                                },
                                {
                                    "0": "1120.4900"
                                },
                                {
                                    "0": "1120.4900"
                                },
                                {
                                    "0": "1120.4900"
                                },
                                {
                                    "0": "1120.4900"
                                },
                                {
                                    "0": "1214.8500"
                                },
                                {
                                    "0": "1120.4900"
                                },
                                {
                                    "0": "1020.5940"
                                },
                                {
                                    "0": "1020.5940"
                                },
                                {
                                    "0": "1466.0100"
                                },
                                {
                                    "0": "1466.0100"
                                },
                                {
                                    "0": "1466.0100"
                                },
                                {
                                    "0": "1020.5940"
                                },
                                {
                                    "0": "1466.0100"
                                },
                                {
                                    "0": "1466.0100"
                                },
                                {
                                    "0": "1020.5940"
                                },
                                {
                                    "0": "1376.9940"
                                },
                                {
                                    "0": "1376.9940"
                                },
                                {
                                    "0": "1391.9940"
                                },
                                {
                                    "0": "1391.9940"
                                },
                                {
                                    "0": "1376.9940"
                                },
                                {
                                    "0": "1391.9940"
                                },
                                {
                                    "0": "1430.4420"
                                },
                                {
                                    "0": "1430.4420"
                                },
                                {
                                    "0": "1430.4420"
                                },
                                {
                                    "0": "1430.4420"
                                },
                                {
                                    "0": "1430.4420"
                                },
                                {
                                    "0": "1430.4420"
                                },
                                {
                                    "0": "1430.4420"
                                },
                                {
                                    "0": "1020.5940"
                                },
                                {
                                    "0": "1020.5940"
                                },
                                {
                                    "0": "1020.5940"
                                },
                                {
                                    "0": "1376.9940"
                                },
                                {
                                    "0": "1376.9940"
                                },
                                {
                                    "0": "1391.9940"
                                },
                                {
                                    "0": "1376.9940"
                                },
                                {
                                    "0": "1391.9940"
                                },
                                {
                                    "0": "1376.9940"
                                },
                                {
                                    "0": "1376.9940"
                                },
                                {
                                    "0": "1391.9940"
                                },
                                {
                                    "0": "1391.9940"
                                },
                                {
                                    "0": "1376.9940"
                                },
                                {
                                    "0": "1430.4420"
                                },
                                {
                                    "0": "1020.5940"
                                },
                                {
                                    "0": "1020.5940"
                                },
                                {
                                    "0": "1466.0100"
                                },
                                {
                                    "0": "1430.4420"
                                },
                                {
                                    "0": "1430.4420"
                                },
                                {
                                    "0": "1020.5940"
                                },
                                {
                                    "0": "1466.0100"
                                },
                                {
                                    "0": "1466.0100"
                                },
                                {
                                    "0": "1466.0100"
                                },
                                {
                                    "0": "1430.4420"
                                },
                                {
                                    "0": "1430.4420"
                                },
                                {
                                    "0": "1466.0100"
                                },
                                {
                                    "0": "1466.0100"
                                },
                                {
                                    "0": "1466.0100"
                                },
                                {
                                    "0": "1466.0100"
                                },
                                {
                                    "0": "1020.5940"
                                },
                                {
                                    "0": "1020.5940"
                                },
                                {
                                    "0": "1466.0100"
                                },
                                {
                                    "0": "1020.5940"
                                },
                                {
                                    "0": "1391.9940"
                                },
                                {
                                    "0": "1376.9940"
                                },
                                {
                                    "0": "1391.9940"
                                },
                                {
                                    "0": "1391.9940"
                                },
                                {
                                    "0": "1376.9940"
                                },
                                {
                                    "0": "1376.9940"
                                },
                                {
                                    "0": "1376.9940"
                                },
                                {
                                    "0": "1376.9940"
                                },
                                {
                                    "0": "1376.9940"
                                },
                                {
                                    "0": "1391.9940"
                                },
                                {
                                    "0": "1391.9940"
                                },
                                {
                                    "0": "1376.9940"
                                },
                                {
                                    "0": "1376.9940"
                                },
                                {
                                    "0": "1376.9940"
                                },
                                {
                                    "0": "1391.9940"
                                },
                                {
                                    "0": "1391.9940"
                                },
                                {
                                    "0": "1376.9940"
                                },
                                {
                                    "0": "1376.9940"
                                },
                                {
                                    "0": "1311.2385"
                                },
                                {
                                    "0": "1430.4420"
                                },
                                {
                                    "0": "1430.4420"
                                },
                                {
                                    "0": "1430.4420"
                                },
                                {
                                    "0": "1430.4420"
                                },
                                {
                                    "0": "1430.4420"
                                },
                                {
                                    "0": "1430.4420"
                                },
                                {
                                    "0": "1430.4420"
                                },
                                {
                                    "0": "1430.4420"
                                },
                                {
                                    "0": "1430.4420"
                                },
                                {
                                    "0": "1430.4420"
                                },
                                {
                                    "0": "1430.4420"
                                },
                                {
                                    "0": "1430.4420"
                                },
                                {
                                    "0": "1430.4420"
                                },
                                {
                                    "0": "1020.5940"
                                },
                                {
                                    "0": "1020.5940"
                                },
                                {
                                    "0": "1466.0100"
                                },
                                {
                                    "0": "1466.0100"
                                },
                                {
                                    "0": "1020.5940"
                                },
                                {
                                    "0": "1020.5940"
                                },
                                {
                                    "0": "1466.0100"
                                },
                                {
                                    "0": "1466.0100"
                                },
                                {
                                    "0": "1466.0100"
                                },
                                {
                                    "0": "1430.4420"
                                },
                                {
                                    "0": "1430.4420"
                                },
                                {
                                    "0": "1430.4420"
                                },
                                {
                                    "0": "1430.4420"
                                },
                                {
                                    "0": "1430.4420"
                                },
                                {
                                    "0": "1430.4420"
                                },
                                {
                                    "0": "1430.4420"
                                },
                                {
                                    "0": "1430.4420"
                                },
                                {
                                    "0": "1430.4420"
                                },
                                {
                                    "0": "1376.9940"
                                },
                                {
                                    "0": "1376.9940"
                                },
                                {
                                    "0": "1391.9940"
                                },
                                {
                                    "0": "1391.9940"
                                },
                                {
                                    "0": "1391.9940"
                                },
                                {
                                    "0": "1430.4420"
                                },
                                {
                                    "0": "1430.4420"
                                },
                                {
                                    "0": "1466.0100"
                                },
                                {
                                    "0": "1466.0100"
                                },
                                {
                                    "0": "1020.5940"
                                },
                                {
                                    "0": "1466.0100"
                                },
                                {
                                    "0": "1020.5940"
                                },
                                {
                                    "0": "1020.5940"
                                },
                                {
                                    "0": "1466.0100"
                                },
                                {
                                    "0": "1466.0100"
                                },
                                {
                                    "0": "1020.5940"
                                },
                                {
                                    "0": "1020.5940"
                                },
                                {
                                    "0": "1020.5940"
                                },
                                {
                                    "0": "1391.9940"
                                },
                                {
                                    "0": "1376.9940"
                                },
                                {
                                    "0": "1391.9940"
                                },
                                {
                                    "0": "1391.9940"
                                },
                                {
                                    "0": "1466.0100"
                                },
                                {
                                    "0": "1466.0100"
                                },
                                {
                                    "0": "1020.5940"
                                },
                                {
                                    "0": "1020.5940"
                                },
                                {
                                    "0": "1430.4420"
                                },
                                {
                                    "0": "1430.4420"
                                },
                                {
                                    "0": "1391.9940"
                                },
                                {
                                    "0": "1391.9940"
                                },
                                {
                                    "0": "1391.9940"
                                },
                                {
                                    "0": "1376.9940"
                                },
                                {
                                    "0": "1376.9940"
                                },
                                {
                                    "0": "1391.9940"
                                },
                                {
                                    "0": "1376.9940"
                                },
                                {
                                    "0": "1430.4420"
                                },
                                {
                                    "0": "1430.4420"
                                },
                                {
                                    "0": "1430.4420"
                                },
                                {
                                    "0": "1430.4420"
                                },
                                {
                                    "0": "1430.4420"
                                },
                                {
                                    "0": "1430.4420"
                                },
                                {
                                    "0": "1391.9940"
                                },
                                {
                                    "0": "1376.9940"
                                },
                                {
                                    "0": "1391.9940"
                                },
                                {
                                    "0": "1391.9940"
                                },
                                {
                                    "0": "1376.9940"
                                },
                                {
                                    "0": "1376.9940"
                                },
                                {
                                    "0": "1376.9940"
                                },
                                {
                                    "0": "1466.0100"
                                },
                                {
                                    "0": "1466.0100"
                                },
                                {
                                    "0": "1466.0100"
                                },
                                {
                                    "0": "1020.5940"
                                },
                                {
                                    "0": "1020.5940"
                                },
                                {
                                    "0": "1020.5940"
                                },
                                {
                                    "0": "1430.4420"
                                },
                                {
                                    "0": "1430.4420"
                                },
                                {
                                    "0": "1311.2385"
                                },
                                {
                                    "0": "1311.2385"
                                },
                                {
                                    "0": "1192.0350"
                                },
                                {
                                    "0": "1311.2385"
                                },
                                {
                                    "0": "1376.9940"
                                },
                                {
                                    "0": "1391.9940"
                                },
                                {
                                    "0": "1391.9940"
                                },
                                {
                                    "0": "1376.9940"
                                },
                                {
                                    "0": "1391.9940"
                                },
                                {
                                    "0": "1020.5940"
                                },
                                {
                                    "0": "1391.9940"
                                },
                                {
                                    "0": "1376.9940"
                                },
                                {
                                    "0": "1391.9940"
                                },
                                {
                                    "0": "1376.9940"
                                },
                                {
                                    "0": "1391.9940"
                                },
                                {
                                    "0": "1020.5940"
                                },
                                {
                                    "0": "1020.5940"
                                },
                                {
                                    "0": "1430.4420"
                                },
                                {
                                    "0": "1382.7606"
                                },
                                {
                                    "0": "1430.4420"
                                },
                                {
                                    "0": "1430.4420"
                                },
                                {
                                    "0": "1430.4420"
                                },
                                {
                                    "0": "1430.4420"
                                },
                                {
                                    "0": "1466.0100"
                                },
                                {
                                    "0": "1466.0100"
                                },
                                {
                                    "0": "1020.5940"
                                },
                                {
                                    "0": "1466.0100"
                                },
                                {
                                    "0": "1020.5940"
                                },
                                {
                                    "0": "1020.5940"
                                },
                                {
                                    "0": "1020.5940"
                                },
                                {
                                    "0": "1430.4420"
                                },
                                {
                                    "0": "1391.9940"
                                },
                                {
                                    "0": "1376.9940"
                                },
                                {
                                    "0": "1391.9940"
                                },
                                {
                                    "0": "1376.9940"
                                },
                                {
                                    "0": "1391.9940"
                                },
                                {
                                    "0": "1376.9940"
                                },
                                {
                                    "0": "1430.4420"
                                },
                                {
                                    "0": "1430.4420"
                                },
                                {
                                    "0": "1430.4420"
                                },
                                {
                                    "0": "1430.4420"
                                },
                                {
                                    "0": "1430.4420"
                                },
                                {
                                    "0": "1430.4420"
                                },
                                {
                                    "0": "1430.4420"
                                },
                                {
                                    "0": "1430.4420"
                                },
                                {
                                    "0": "1430.4420"
                                },
                                {
                                    "0": "1430.4420"
                                },
                                {
                                    "0": "1430.4420"
                                },
                                {
                                    "0": "1430.4420"
                                },
                                {
                                    "0": "1430.4420"
                                },
                                {
                                    "0": "1391.9940"
                                },
                                {
                                    "0": "1391.9940"
                                },
                                {
                                    "0": "1376.9940"
                                },
                                {
                                    "0": "1391.9940"
                                },
                                {
                                    "0": "1376.9940"
                                },
                                {
                                    "0": "1376.9940"
                                },
                                {
                                    "0": "1020.5940"
                                }
                            ]
                        },
                        "text/html": [
                            "<table>",
                            "<tr><th>Unitprice</th></tr>",
                            "<tr><td>1229.4589</td></tr>",
                            "<tr><td>1229.4589</td></tr>",
                            "<tr><td>1242.8518</td></tr>",
                            "<tr><td>1242.8518</td></tr>",
                            "<tr><td>1242.8518</td></tr>",
                            "<tr><td>1466.0100</td></tr>",
                            "<tr><td>1308.9375</td></tr>",
                            "<tr><td>1466.0100</td></tr>",
                            "<tr><td>1308.9375</td></tr>",
                            "<tr><td>1466.0100</td></tr>",
                            "<tr><td>1308.9375</td></tr>",
                            "<tr><td>1242.8518</td></tr>",
                            "<tr><td>1229.4589</td></tr>",
                            "<tr><td>1229.4589</td></tr>",
                            "<tr><td>1242.8518</td></tr>",
                            "<tr><td>1229.4589</td></tr>",
                            "<tr><td>1242.8518</td></tr>",
                            "<tr><td>1229.4589</td></tr>",
                            "<tr><td>1242.8518</td></tr>",
                            "<tr><td>1242.8518</td></tr>",
                            "<tr><td>1242.8518</td></tr>",
                            "<tr><td>1188.4770</td></tr>",
                            "<tr><td>1229.4589</td></tr>",
                            "<tr><td>1229.4589</td></tr>",
                            "<tr><td>1242.8518</td></tr>",
                            "<tr><td>1242.8518</td></tr>",
                            "<tr><td>1308.9375</td></tr>",
                            "<tr><td>1466.0100</td></tr>",
                            "<tr><td>1308.9375</td></tr>",
                            "<tr><td>1466.0100</td></tr>",
                            "<tr><td>1466.0100</td></tr>",
                            "<tr><td>1308.9375</td></tr>",
                            "<tr><td>1466.0100</td></tr>",
                            "<tr><td>1265.3063</td></tr>",
                            "<tr><td>1308.9375</td></tr>",
                            "<tr><td>1466.0100</td></tr>",
                            "<tr><td>1308.9375</td></tr>",
                            "<tr><td>1466.0100</td></tr>",
                            "<tr><td>1466.0100</td></tr>",
                            "<tr><td>1308.9375</td></tr>",
                            "<tr><td>1308.9375</td></tr>",
                            "<tr><td>1308.9375</td></tr>",
                            "<tr><td>1308.9375</td></tr>",
                            "<tr><td>1466.0100</td></tr>",
                            "<tr><td>1466.0100</td></tr>",
                            "<tr><td>1229.4589</td></tr>",
                            "<tr><td>1229.4589</td></tr>",
                            "<tr><td>1242.8518</td></tr>",
                            "<tr><td>1242.8518</td></tr>",
                            "<tr><td>1229.4589</td></tr>",
                            "<tr><td>1242.8518</td></tr>",
                            "<tr><td>1242.8518</td></tr>",
                            "<tr><td>1229.4589</td></tr>",
                            "<tr><td>1229.4589</td></tr>",
                            "<tr><td>1229.4589</td></tr>",
                            "<tr><td>1229.4589</td></tr>",
                            "<tr><td>1229.4589</td></tr>",
                            "<tr><td>1242.8518</td></tr>",
                            "<tr><td>1242.8518</td></tr>",
                            "<tr><td>1229.4589</td></tr>",
                            "<tr><td>1229.4589</td></tr>",
                            "<tr><td>1229.4589</td></tr>",
                            "<tr><td>1242.8518</td></tr>",
                            "<tr><td>1229.4589</td></tr>",
                            "<tr><td>1229.4589</td></tr>",
                            "<tr><td>1242.8518</td></tr>",
                            "<tr><td>1229.4589</td></tr>",
                            "<tr><td>1242.8518</td></tr>",
                            "<tr><td>1308.9375</td></tr>",
                            "<tr><td>1308.9375</td></tr>",
                            "<tr><td>1466.0100</td></tr>",
                            "<tr><td>1308.9375</td></tr>",
                            "<tr><td>1308.9375</td></tr>",
                            "<tr><td>1308.9375</td></tr>",
                            "<tr><td>1466.0100</td></tr>",
                            "<tr><td>1466.0100</td></tr>",
                            "<tr><td>1242.8518</td></tr>",
                            "<tr><td>1229.4589</td></tr>",
                            "<tr><td>1242.8518</td></tr>",
                            "<tr><td>1229.4589</td></tr>",
                            "<tr><td>1242.8518</td></tr>",
                            "<tr><td>1229.4589</td></tr>",
                            "<tr><td>1229.4589</td></tr>",
                            "<tr><td>1229.4589</td></tr>",
                            "<tr><td>1242.8518</td></tr>",
                            "<tr><td>1242.8518</td></tr>",
                            "<tr><td>1242.8518</td></tr>",
                            "<tr><td>1466.0100</td></tr>",
                            "<tr><td>1308.9375</td></tr>",
                            "<tr><td>1308.9375</td></tr>",
                            "<tr><td>1466.0100</td></tr>",
                            "<tr><td>1466.0100</td></tr>",
                            "<tr><td>1308.9375</td></tr>",
                            "<tr><td>1308.9375</td></tr>",
                            "<tr><td>1242.8518</td></tr>",
                            "<tr><td>1229.4589</td></tr>",
                            "<tr><td>1229.4589</td></tr>",
                            "<tr><td>1229.4589</td></tr>",
                            "<tr><td>1242.8518</td></tr>",
                            "<tr><td>1308.9375</td></tr>",
                            "<tr><td>1308.9375</td></tr>",
                            "<tr><td>1308.9375</td></tr>",
                            "<tr><td>1308.9375</td></tr>",
                            "<tr><td>1466.0100</td></tr>",
                            "<tr><td>1466.0100</td></tr>",
                            "<tr><td>1466.0100</td></tr>",
                            "<tr><td>1308.9375</td></tr>",
                            "<tr><td>1308.9375</td></tr>",
                            "<tr><td>1466.0100</td></tr>",
                            "<tr><td>1308.9375</td></tr>",
                            "<tr><td>1308.9375</td></tr>",
                            "<tr><td>1417.1430</td></tr>",
                            "<tr><td>1466.0100</td></tr>",
                            "<tr><td>1308.9375</td></tr>",
                            "<tr><td>1229.4589</td></tr>",
                            "<tr><td>1242.8518</td></tr>",
                            "<tr><td>1229.4589</td></tr>",
                            "<tr><td>1242.8518</td></tr>",
                            "<tr><td>1229.4589</td></tr>",
                            "<tr><td>1242.8518</td></tr>",
                            "<tr><td>1229.4589</td></tr>",
                            "<tr><td>1201.4234</td></tr>",
                            "<tr><td>1229.4589</td></tr>",
                            "<tr><td>1229.4589</td></tr>",
                            "<tr><td>1242.8518</td></tr>",
                            "<tr><td>1242.8518</td></tr>",
                            "<tr><td>1242.8518</td></tr>",
                            "<tr><td>1229.4589</td></tr>",
                            "<tr><td>1242.8518</td></tr>",
                            "<tr><td>1229.4589</td></tr>",
                            "<tr><td>1242.8518</td></tr>",
                            "<tr><td>1229.4589</td></tr>",
                            "<tr><td>1229.4589</td></tr>",
                            "<tr><td>1242.8518</td></tr>",
                            "<tr><td>1242.8518</td></tr>",
                            "<tr><td>1242.8518</td></tr>",
                            "<tr><td>1229.4589</td></tr>",
                            "<tr><td>1242.8518</td></tr>",
                            "<tr><td>1308.9375</td></tr>",
                            "<tr><td>1466.0100</td></tr>",
                            "<tr><td>1229.4589</td></tr>",
                            "<tr><td>1242.8518</td></tr>",
                            "<tr><td>1229.4589</td></tr>",
                            "<tr><td>1229.4589</td></tr>",
                            "<tr><td>1242.8518</td></tr>",
                            "<tr><td>1242.8518</td></tr>",
                            "<tr><td>1229.4589</td></tr>",
                            "<tr><td>1242.8518</td></tr>",
                            "<tr><td>1229.4589</td></tr>",
                            "<tr><td>1229.4589</td></tr>",
                            "<tr><td>1242.8518</td></tr>",
                            "<tr><td>1242.8518</td></tr>",
                            "<tr><td>1242.8518</td></tr>",
                            "<tr><td>1229.4589</td></tr>",
                            "<tr><td>1466.0100</td></tr>",
                            "<tr><td>1466.0100</td></tr>",
                            "<tr><td>1308.9375</td></tr>",
                            "<tr><td>1308.9375</td></tr>",
                            "<tr><td>1466.0100</td></tr>",
                            "<tr><td>1308.9375</td></tr>",
                            "<tr><td>1308.9375</td></tr>",
                            "<tr><td>1308.9375</td></tr>",
                            "<tr><td>1466.0100</td></tr>",
                            "<tr><td>1308.9375</td></tr>",
                            "<tr><td>1466.0100</td></tr>",
                            "<tr><td>1466.0100</td></tr>",
                            "<tr><td>1466.0100</td></tr>",
                            "<tr><td>1308.9375</td></tr>",
                            "<tr><td>1308.9375</td></tr>",
                            "<tr><td>1308.9375</td></tr>",
                            "<tr><td>1308.9375</td></tr>",
                            "<tr><td>1466.0100</td></tr>",
                            "<tr><td>1466.0100</td></tr>",
                            "<tr><td>1308.9375</td></tr>",
                            "<tr><td>1466.0100</td></tr>",
                            "<tr><td>1308.9375</td></tr>",
                            "<tr><td>1466.0100</td></tr>",
                            "<tr><td>1466.0100</td></tr>",
                            "<tr><td>1466.0100</td></tr>",
                            "<tr><td>1466.0100</td></tr>",
                            "<tr><td>1308.9375</td></tr>",
                            "<tr><td>1466.0100</td></tr>",
                            "<tr><td>1308.9375</td></tr>",
                            "<tr><td>1466.0100</td></tr>",
                            "<tr><td>1466.0100</td></tr>",
                            "<tr><td>1308.9375</td></tr>",
                            "<tr><td>1308.9375</td></tr>",
                            "<tr><td>1308.9375</td></tr>",
                            "<tr><td>1466.0100</td></tr>",
                            "<tr><td>1229.4589</td></tr>",
                            "<tr><td>1229.4589</td></tr>",
                            "<tr><td>1242.8518</td></tr>",
                            "<tr><td>1242.8518</td></tr>",
                            "<tr><td>1000.4375</td></tr>",
                            "<tr><td>1000.4375</td></tr>",
                            "<tr><td>1000.4375</td></tr>",
                            "<tr><td>1000.4375</td></tr>",
                            "<tr><td>1000.4375</td></tr>",
                            "<tr><td>1000.4375</td></tr>",
                            "<tr><td>1000.4375</td></tr>",
                            "<tr><td>1000.4375</td></tr>",
                            "<tr><td>1000.4375</td></tr>",
                            "<tr><td>1000.4375</td></tr>",
                            "<tr><td>1000.4375</td></tr>",
                            "<tr><td>1000.4375</td></tr>",
                            "<tr><td>1000.4375</td></tr>",
                            "<tr><td>1000.4375</td></tr>",
                            "<tr><td>1000.4375</td></tr>",
                            "<tr><td>1000.4375</td></tr>",
                            "<tr><td>1000.4375</td></tr>",
                            "<tr><td>1242.8518</td></tr>",
                            "<tr><td>1229.4589</td></tr>",
                            "<tr><td>1242.8518</td></tr>",
                            "<tr><td>1229.4589</td></tr>",
                            "<tr><td>1229.4589</td></tr>",
                            "<tr><td>1242.8518</td></tr>",
                            "<tr><td>1242.8518</td></tr>",
                            "<tr><td>1229.4589</td></tr>",
                            "<tr><td>1229.4589</td></tr>",
                            "<tr><td>1242.8518</td></tr>",
                            "<tr><td>1308.9375</td></tr>",
                            "<tr><td>1466.0100</td></tr>",
                            "<tr><td>1308.9375</td></tr>",
                            "<tr><td>1308.9375</td></tr>",
                            "<tr><td>1466.0100</td></tr>",
                            "<tr><td>1308.9375</td></tr>",
                            "<tr><td>1466.0100</td></tr>",
                            "<tr><td>1229.4589</td></tr>",
                            "<tr><td>1229.4589</td></tr>",
                            "<tr><td>1242.8518</td></tr>",
                            "<tr><td>1242.8518</td></tr>",
                            "<tr><td>1242.8518</td></tr>",
                            "<tr><td>1308.9375</td></tr>",
                            "<tr><td>1308.9375</td></tr>",
                            "<tr><td>1308.9375</td></tr>",
                            "<tr><td>1308.9375</td></tr>",
                            "<tr><td>1466.0100</td></tr>",
                            "<tr><td>1466.0100</td></tr>",
                            "<tr><td>1308.9375</td></tr>",
                            "<tr><td>1466.0100</td></tr>",
                            "<tr><td>1229.4589</td></tr>",
                            "<tr><td>1242.8518</td></tr>",
                            "<tr><td>1229.4589</td></tr>",
                            "<tr><td>1242.8518</td></tr>",
                            "<tr><td>1242.8518</td></tr>",
                            "<tr><td>1229.4589</td></tr>",
                            "<tr><td>1229.4589</td></tr>",
                            "<tr><td>1242.8518</td></tr>",
                            "<tr><td>1229.4589</td></tr>",
                            "<tr><td>1242.8518</td></tr>",
                            "<tr><td>1201.4234</td></tr>",
                            "<tr><td>1242.8518</td></tr>",
                            "<tr><td>1229.4589</td></tr>",
                            "<tr><td>1242.8518</td></tr>",
                            "<tr><td>1229.4589</td></tr>",
                            "<tr><td>1308.9375</td></tr>",
                            "<tr><td>1308.9375</td></tr>",
                            "<tr><td>1308.9375</td></tr>",
                            "<tr><td>1308.9375</td></tr>",
                            "<tr><td>1308.9375</td></tr>",
                            "<tr><td>1466.0100</td></tr>",
                            "<tr><td>1466.0100</td></tr>",
                            "<tr><td>1466.0100</td></tr>",
                            "<tr><td>1466.0100</td></tr>",
                            "<tr><td>1308.9375</td></tr>",
                            "<tr><td>1466.0100</td></tr>",
                            "<tr><td>1466.0100</td></tr>",
                            "<tr><td>1308.9375</td></tr>",
                            "<tr><td>1466.0100</td></tr>",
                            "<tr><td>1242.8518</td></tr>",
                            "<tr><td>1229.4589</td></tr>",
                            "<tr><td>1242.8518</td></tr>",
                            "<tr><td>1242.8518</td></tr>",
                            "<tr><td>1229.4589</td></tr>",
                            "<tr><td>1242.8518</td></tr>",
                            "<tr><td>1229.4589</td></tr>",
                            "<tr><td>1242.8518</td></tr>",
                            "<tr><td>1242.8518</td></tr>",
                            "<tr><td>1229.4589</td></tr>",
                            "<tr><td>1229.4589</td></tr>",
                            "<tr><td>1466.0100</td></tr>",
                            "<tr><td>1308.9375</td></tr>",
                            "<tr><td>1308.9375</td></tr>",
                            "<tr><td>1466.0100</td></tr>",
                            "<tr><td>1308.9375</td></tr>",
                            "<tr><td>1308.9375</td></tr>",
                            "<tr><td>1308.9375</td></tr>",
                            "<tr><td>1466.0100</td></tr>",
                            "<tr><td>1242.8518</td></tr>",
                            "<tr><td>1466.0100</td></tr>",
                            "<tr><td>1308.9375</td></tr>",
                            "<tr><td>1308.9375</td></tr>",
                            "<tr><td>1466.0100</td></tr>",
                            "<tr><td>1466.0100</td></tr>",
                            "<tr><td>1308.9375</td></tr>",
                            "<tr><td>1308.9375</td></tr>",
                            "<tr><td>1308.9375</td></tr>",
                            "<tr><td>1242.8518</td></tr>",
                            "<tr><td>1229.4589</td></tr>",
                            "<tr><td>1242.8518</td></tr>",
                            "<tr><td>1229.4589</td></tr>",
                            "<tr><td>1242.8518</td></tr>",
                            "<tr><td>1242.8518</td></tr>",
                            "<tr><td>1229.4589</td></tr>",
                            "<tr><td>1242.8518</td></tr>",
                            "<tr><td>1229.4589</td></tr>",
                            "<tr><td>1242.8518</td></tr>",
                            "<tr><td>1229.4589</td></tr>",
                            "<tr><td>1229.4589</td></tr>",
                            "<tr><td>1242.8518</td></tr>",
                            "<tr><td>1242.8518</td></tr>",
                            "<tr><td>1242.8518</td></tr>",
                            "<tr><td>1466.0100</td></tr>",
                            "<tr><td>1308.9375</td></tr>",
                            "<tr><td>1308.9375</td></tr>",
                            "<tr><td>1466.0100</td></tr>",
                            "<tr><td>1308.9375</td></tr>",
                            "<tr><td>1308.9375</td></tr>",
                            "<tr><td>1466.0100</td></tr>",
                            "<tr><td>1229.4589</td></tr>",
                            "<tr><td>1242.8518</td></tr>",
                            "<tr><td>1229.4589</td></tr>",
                            "<tr><td>1242.8518</td></tr>",
                            "<tr><td>1242.8518</td></tr>",
                            "<tr><td>1242.8518</td></tr>",
                            "<tr><td>1229.4589</td></tr>",
                            "<tr><td>1229.4589</td></tr>",
                            "<tr><td>1242.8518</td></tr>",
                            "<tr><td>1242.8518</td></tr>",
                            "<tr><td>1229.4589</td></tr>",
                            "<tr><td>1242.8518</td></tr>",
                            "<tr><td>1229.4589</td></tr>",
                            "<tr><td>1242.8518</td></tr>",
                            "<tr><td>1229.4589</td></tr>",
                            "<tr><td>1229.4589</td></tr>",
                            "<tr><td>1242.8518</td></tr>",
                            "<tr><td>1242.8518</td></tr>",
                            "<tr><td>1242.8518</td></tr>",
                            "<tr><td>1242.8518</td></tr>",
                            "<tr><td>1229.4589</td></tr>",
                            "<tr><td>1466.0100</td></tr>",
                            "<tr><td>1466.0100</td></tr>",
                            "<tr><td>1466.0100</td></tr>",
                            "<tr><td>1308.9375</td></tr>",
                            "<tr><td>1308.9375</td></tr>",
                            "<tr><td>1308.9375</td></tr>",
                            "<tr><td>1308.9375</td></tr>",
                            "<tr><td>1308.9375</td></tr>",
                            "<tr><td>1343.8425</td></tr>",
                            "<tr><td>1308.9375</td></tr>",
                            "<tr><td>1466.0100</td></tr>",
                            "<tr><td>1466.0100</td></tr>",
                            "<tr><td>1229.4589</td></tr>",
                            "<tr><td>1242.8518</td></tr>",
                            "<tr><td>1242.8518</td></tr>",
                            "<tr><td>1229.4589</td></tr>",
                            "<tr><td>1242.8518</td></tr>",
                            "<tr><td>1242.8518</td></tr>",
                            "<tr><td>1242.8518</td></tr>",
                            "<tr><td>1229.4589</td></tr>",
                            "<tr><td>1229.4589</td></tr>",
                            "<tr><td>1308.9375</td></tr>",
                            "<tr><td>1308.9375</td></tr>",
                            "<tr><td>1466.0100</td></tr>",
                            "<tr><td>1308.9375</td></tr>",
                            "<tr><td>1466.0100</td></tr>",
                            "<tr><td>1242.8518</td></tr>",
                            "<tr><td>1242.8518</td></tr>",
                            "<tr><td>1229.4589</td></tr>",
                            "<tr><td>1466.0100</td></tr>",
                            "<tr><td>1308.9375</td></tr>",
                            "<tr><td>1308.9375</td></tr>",
                            "<tr><td>1466.0100</td></tr>",
                            "<tr><td>1308.9375</td></tr>",
                            "<tr><td>1308.9375</td></tr>",
                            "<tr><td>1308.9375</td></tr>",
                            "<tr><td>1229.4589</td></tr>",
                            "<tr><td>1229.4589</td></tr>",
                            "<tr><td>1242.8518</td></tr>",
                            "<tr><td>1242.8518</td></tr>",
                            "<tr><td>1242.8518</td></tr>",
                            "<tr><td>1242.8518</td></tr>",
                            "<tr><td>1229.4589</td></tr>",
                            "<tr><td>1242.8518</td></tr>",
                            "<tr><td>1229.4589</td></tr>",
                            "<tr><td>1242.8518</td></tr>",
                            "<tr><td>1229.4589</td></tr>",
                            "<tr><td>1466.0100</td></tr>",
                            "<tr><td>1308.9375</td></tr>",
                            "<tr><td>1308.9375</td></tr>",
                            "<tr><td>1308.9375</td></tr>",
                            "<tr><td>1466.0100</td></tr>",
                            "<tr><td>1466.0100</td></tr>",
                            "<tr><td>1308.9375</td></tr>",
                            "<tr><td>1466.0100</td></tr>",
                            "<tr><td>1466.0100</td></tr>",
                            "<tr><td>1308.9375</td></tr>",
                            "<tr><td>1242.8518</td></tr>",
                            "<tr><td>1229.4589</td></tr>",
                            "<tr><td>1229.4589</td></tr>",
                            "<tr><td>1466.0100</td></tr>",
                            "<tr><td>1466.0100</td></tr>",
                            "<tr><td>1466.0100</td></tr>",
                            "<tr><td>1308.9375</td></tr>",
                            "<tr><td>1308.9375</td></tr>",
                            "<tr><td>1229.4589</td></tr>",
                            "<tr><td>1229.4589</td></tr>",
                            "<tr><td>1242.8518</td></tr>",
                            "<tr><td>1242.8518</td></tr>",
                            "<tr><td>1242.8518</td></tr>",
                            "<tr><td>1229.4589</td></tr>",
                            "<tr><td>1242.8518</td></tr>",
                            "<tr><td>1229.4589</td></tr>",
                            "<tr><td>1229.4589</td></tr>",
                            "<tr><td>1229.4589</td></tr>",
                            "<tr><td>1242.8518</td></tr>",
                            "<tr><td>1229.4589</td></tr>",
                            "<tr><td>1229.4589</td></tr>",
                            "<tr><td>1242.8518</td></tr>",
                            "<tr><td>1308.9375</td></tr>",
                            "<tr><td>1466.0100</td></tr>",
                            "<tr><td>1308.9375</td></tr>",
                            "<tr><td>1466.0100</td></tr>",
                            "<tr><td>1308.9375</td></tr>",
                            "<tr><td>1466.0100</td></tr>",
                            "<tr><td>1466.0100</td></tr>",
                            "<tr><td>1466.0100</td></tr>",
                            "<tr><td>1466.0100</td></tr>",
                            "<tr><td>1308.9375</td></tr>",
                            "<tr><td>1308.9375</td></tr>",
                            "<tr><td>1308.9375</td></tr>",
                            "<tr><td>1308.9375</td></tr>",
                            "<tr><td>1308.9375</td></tr>",
                            "<tr><td>1466.0100</td></tr>",
                            "<tr><td>1466.0100</td></tr>",
                            "<tr><td>1308.9375</td></tr>",
                            "<tr><td>1466.0100</td></tr>",
                            "<tr><td>1229.4589</td></tr>",
                            "<tr><td>1229.4589</td></tr>",
                            "<tr><td>1242.8518</td></tr>",
                            "<tr><td>1242.8518</td></tr>",
                            "<tr><td>1242.8518</td></tr>",
                            "<tr><td>1466.0100</td></tr>",
                            "<tr><td>1308.9375</td></tr>",
                            "<tr><td>1308.9375</td></tr>",
                            "<tr><td>1308.9375</td></tr>",
                            "<tr><td>1308.9375</td></tr>",
                            "<tr><td>1466.0100</td></tr>",
                            "<tr><td>1308.9375</td></tr>",
                            "<tr><td>1466.0100</td></tr>",
                            "<tr><td>1466.0100</td></tr>",
                            "<tr><td>1308.9375</td></tr>",
                            "<tr><td>1242.8518</td></tr>",
                            "<tr><td>1242.8518</td></tr>",
                            "<tr><td>1229.4589</td></tr>",
                            "<tr><td>1229.4589</td></tr>",
                            "<tr><td>1242.8518</td></tr>",
                            "<tr><td>1229.4589</td></tr>",
                            "<tr><td>1308.9375</td></tr>",
                            "<tr><td>1466.0100</td></tr>",
                            "<tr><td>1229.4589</td></tr>",
                            "<tr><td>1242.8518</td></tr>",
                            "<tr><td>1242.8518</td></tr>",
                            "<tr><td>1229.4589</td></tr>",
                            "<tr><td>1242.8518</td></tr>",
                            "<tr><td>1466.0100</td></tr>",
                            "<tr><td>1308.9375</td></tr>",
                            "<tr><td>1308.9375</td></tr>",
                            "<tr><td>1466.0100</td></tr>",
                            "<tr><td>1466.0100</td></tr>",
                            "<tr><td>1308.9375</td></tr>",
                            "<tr><td>1308.9375</td></tr>",
                            "<tr><td>1308.9375</td></tr>",
                            "<tr><td>1242.8518</td></tr>",
                            "<tr><td>1242.8518</td></tr>",
                            "<tr><td>1229.4589</td></tr>",
                            "<tr><td>1229.4589</td></tr>",
                            "<tr><td>1242.8518</td></tr>",
                            "<tr><td>1229.4589</td></tr>",
                            "<tr><td>1242.8518</td></tr>",
                            "<tr><td>1229.4589</td></tr>",
                            "<tr><td>1242.8518</td></tr>",
                            "<tr><td>1308.9375</td></tr>",
                            "<tr><td>1308.9375</td></tr>",
                            "<tr><td>1466.0100</td></tr>",
                            "<tr><td>1466.0100</td></tr>",
                            "<tr><td>1466.0100</td></tr>",
                            "<tr><td>1308.9375</td></tr>",
                            "<tr><td>1308.9375</td></tr>",
                            "<tr><td>1308.9375</td></tr>",
                            "<tr><td>1466.0100</td></tr>",
                            "<tr><td>1308.9375</td></tr>",
                            "<tr><td>1466.0100</td></tr>",
                            "<tr><td>1308.9375</td></tr>",
                            "<tr><td>1242.8518</td></tr>",
                            "<tr><td>1308.9375</td></tr>",
                            "<tr><td>1308.9375</td></tr>",
                            "<tr><td>1466.0100</td></tr>",
                            "<tr><td>1466.0100</td></tr>",
                            "<tr><td>1308.9375</td></tr>",
                            "<tr><td>1242.8518</td></tr>",
                            "<tr><td>1229.4589</td></tr>",
                            "<tr><td>1229.4589</td></tr>",
                            "<tr><td>1229.4589</td></tr>",
                            "<tr><td>1242.8518</td></tr>",
                            "<tr><td>1242.8518</td></tr>",
                            "<tr><td>1229.4589</td></tr>",
                            "<tr><td>1229.4589</td></tr>",
                            "<tr><td>1242.8518</td></tr>",
                            "<tr><td>1242.8518</td></tr>",
                            "<tr><td>1308.9375</td></tr>",
                            "<tr><td>1466.0100</td></tr>",
                            "<tr><td>1308.9375</td></tr>",
                            "<tr><td>1308.9375</td></tr>",
                            "<tr><td>1466.0100</td></tr>",
                            "<tr><td>1466.0100</td></tr>",
                            "<tr><td>1308.9375</td></tr>",
                            "<tr><td>1308.9375</td></tr>",
                            "<tr><td>1242.8518</td></tr>",
                            "<tr><td>1242.8518</td></tr>",
                            "<tr><td>1229.4589</td></tr>",
                            "<tr><td>1229.4589</td></tr>",
                            "<tr><td>1242.8518</td></tr>",
                            "<tr><td>1229.4589</td></tr>",
                            "<tr><td>1242.8518</td></tr>",
                            "<tr><td>1242.8518</td></tr>",
                            "<tr><td>1242.8518</td></tr>",
                            "<tr><td>1229.4589</td></tr>",
                            "<tr><td>1229.4589</td></tr>",
                            "<tr><td>1229.4589</td></tr>",
                            "<tr><td>1308.9375</td></tr>",
                            "<tr><td>1242.8518</td></tr>",
                            "<tr><td>1229.4589</td></tr>",
                            "<tr><td>1242.8518</td></tr>",
                            "<tr><td>1229.4589</td></tr>",
                            "<tr><td>1242.8518</td></tr>",
                            "<tr><td>1229.4589</td></tr>",
                            "<tr><td>1229.4589</td></tr>",
                            "<tr><td>1242.8518</td></tr>",
                            "<tr><td>1229.4589</td></tr>",
                            "<tr><td>1242.8518</td></tr>",
                            "<tr><td>1242.8518</td></tr>",
                            "<tr><td>1242.8518</td></tr>",
                            "<tr><td>1242.8518</td></tr>",
                            "<tr><td>1229.4589</td></tr>",
                            "<tr><td>1229.4589</td></tr>",
                            "<tr><td>1242.8518</td></tr>",
                            "<tr><td>1466.0100</td></tr>",
                            "<tr><td>1308.9375</td></tr>",
                            "<tr><td>1466.0100</td></tr>",
                            "<tr><td>1308.9375</td></tr>",
                            "<tr><td>1308.9375</td></tr>",
                            "<tr><td>1466.0100</td></tr>",
                            "<tr><td>1308.9375</td></tr>",
                            "<tr><td>1466.0100</td></tr>",
                            "<tr><td>1308.9375</td></tr>",
                            "<tr><td>1308.9375</td></tr>",
                            "<tr><td>1466.0100</td></tr>",
                            "<tr><td>1466.0100</td></tr>",
                            "<tr><td>1308.9375</td></tr>",
                            "<tr><td>1308.9375</td></tr>",
                            "<tr><td>1308.9375</td></tr>",
                            "<tr><td>1308.9375</td></tr>",
                            "<tr><td>1466.0100</td></tr>",
                            "<tr><td>1308.9375</td></tr>",
                            "<tr><td>1308.9375</td></tr>",
                            "<tr><td>1466.0100</td></tr>",
                            "<tr><td>1466.0100</td></tr>",
                            "<tr><td>1242.8518</td></tr>",
                            "<tr><td>1229.4589</td></tr>",
                            "<tr><td>1229.4589</td></tr>",
                            "<tr><td>1242.8518</td></tr>",
                            "<tr><td>1242.8518</td></tr>",
                            "<tr><td>1242.8518</td></tr>",
                            "<tr><td>1242.8518</td></tr>",
                            "<tr><td>1229.4589</td></tr>",
                            "<tr><td>1229.4589</td></tr>",
                            "<tr><td>1229.4589</td></tr>",
                            "<tr><td>1229.4589</td></tr>",
                            "<tr><td>1229.4589</td></tr>",
                            "<tr><td>1229.4589</td></tr>",
                            "<tr><td>1242.8518</td></tr>",
                            "<tr><td>1242.8518</td></tr>",
                            "<tr><td>1308.9375</td></tr>",
                            "<tr><td>1466.0100</td></tr>",
                            "<tr><td>1466.0100</td></tr>",
                            "<tr><td>1466.0100</td></tr>",
                            "<tr><td>1308.9375</td></tr>",
                            "<tr><td>1308.9375</td></tr>",
                            "<tr><td>1308.9375</td></tr>",
                            "<tr><td>1308.9375</td></tr>",
                            "<tr><td>1000.4375</td></tr>",
                            "<tr><td>1000.4375</td></tr>",
                            "<tr><td>1000.4375</td></tr>",
                            "<tr><td>1000.4375</td></tr>",
                            "<tr><td>1000.4375</td></tr>",
                            "<tr><td>1000.4375</td></tr>",
                            "<tr><td>1000.4375</td></tr>",
                            "<tr><td>1000.4375</td></tr>",
                            "<tr><td>1000.4375</td></tr>",
                            "<tr><td>1000.4375</td></tr>",
                            "<tr><td>1000.4375</td></tr>",
                            "<tr><td>1000.4375</td></tr>",
                            "<tr><td>1000.4375</td></tr>",
                            "<tr><td>1000.4375</td></tr>",
                            "<tr><td>1000.4375</td></tr>",
                            "<tr><td>1000.4375</td></tr>",
                            "<tr><td>1000.4375</td></tr>",
                            "<tr><td>1000.4375</td></tr>",
                            "<tr><td>1000.4375</td></tr>",
                            "<tr><td>1000.4375</td></tr>",
                            "<tr><td>1000.4375</td></tr>",
                            "<tr><td>1000.4375</td></tr>",
                            "<tr><td>1000.4375</td></tr>",
                            "<tr><td>1229.4589</td></tr>",
                            "<tr><td>1242.8518</td></tr>",
                            "<tr><td>1229.4589</td></tr>",
                            "<tr><td>1242.8518</td></tr>",
                            "<tr><td>1242.8518</td></tr>",
                            "<tr><td>1229.4589</td></tr>",
                            "<tr><td>1229.4589</td></tr>",
                            "<tr><td>1242.8518</td></tr>",
                            "<tr><td>1308.9375</td></tr>",
                            "<tr><td>1308.9375</td></tr>",
                            "<tr><td>1466.0100</td></tr>",
                            "<tr><td>1308.9375</td></tr>",
                            "<tr><td>1308.9375</td></tr>",
                            "<tr><td>1466.0100</td></tr>",
                            "<tr><td>1308.9375</td></tr>",
                            "<tr><td>1466.0100</td></tr>",
                            "<tr><td>1308.9375</td></tr>",
                            "<tr><td>1308.9375</td></tr>",
                            "<tr><td>1265.3063</td></tr>",
                            "<tr><td>1466.0100</td></tr>",
                            "<tr><td>1466.0100</td></tr>",
                            "<tr><td>1466.0100</td></tr>",
                            "<tr><td>1229.4589</td></tr>",
                            "<tr><td>1242.8518</td></tr>",
                            "<tr><td>1242.8518</td></tr>",
                            "<tr><td>1242.8518</td></tr>",
                            "<tr><td>1229.4589</td></tr>",
                            "<tr><td>1229.4589</td></tr>",
                            "<tr><td>1242.8518</td></tr>",
                            "<tr><td>1229.4589</td></tr>",
                            "<tr><td>1229.4589</td></tr>",
                            "<tr><td>1242.8518</td></tr>",
                            "<tr><td>1242.8518</td></tr>",
                            "<tr><td>1242.8518</td></tr>",
                            "<tr><td>1229.4589</td></tr>",
                            "<tr><td>1188.4770</td></tr>",
                            "<tr><td>1229.4589</td></tr>",
                            "<tr><td>1242.8518</td></tr>",
                            "<tr><td>1242.8518</td></tr>",
                            "<tr><td>1242.8518</td></tr>",
                            "<tr><td>1229.4589</td></tr>",
                            "<tr><td>1308.9375</td></tr>",
                            "<tr><td>1308.9375</td></tr>",
                            "<tr><td>1308.9375</td></tr>",
                            "<tr><td>1466.0100</td></tr>",
                            "<tr><td>1308.9375</td></tr>",
                            "<tr><td>1466.0100</td></tr>",
                            "<tr><td>1308.9375</td></tr>",
                            "<tr><td>1466.0100</td></tr>",
                            "<tr><td>1466.0100</td></tr>",
                            "<tr><td>1308.9375</td></tr>",
                            "<tr><td>1466.0100</td></tr>",
                            "<tr><td>1308.9375</td></tr>",
                            "<tr><td>1308.9375</td></tr>",
                            "<tr><td>1417.1430</td></tr>",
                            "<tr><td>1308.9375</td></tr>",
                            "<tr><td>1466.0100</td></tr>",
                            "<tr><td>1417.1430</td></tr>",
                            "<tr><td>1229.4589</td></tr>",
                            "<tr><td>1242.8518</td></tr>",
                            "<tr><td>1229.4589</td></tr>",
                            "<tr><td>1242.8518</td></tr>",
                            "<tr><td>1242.8518</td></tr>",
                            "<tr><td>1466.0100</td></tr>",
                            "<tr><td>1466.0100</td></tr>",
                            "<tr><td>1308.9375</td></tr>",
                            "<tr><td>1308.9375</td></tr>",
                            "<tr><td>1466.0100</td></tr>",
                            "<tr><td>1229.4589</td></tr>",
                            "<tr><td>1229.4589</td></tr>",
                            "<tr><td>1242.8518</td></tr>",
                            "<tr><td>1242.8518</td></tr>",
                            "<tr><td>1242.8518</td></tr>",
                            "<tr><td>1229.4589</td></tr>",
                            "<tr><td>1229.4589</td></tr>",
                            "<tr><td>1229.4589</td></tr>",
                            "<tr><td>1242.8518</td></tr>",
                            "<tr><td>1242.8518</td></tr>",
                            "<tr><td>1308.9375</td></tr>",
                            "<tr><td>1466.0100</td></tr>",
                            "<tr><td>1466.0100</td></tr>",
                            "<tr><td>1308.9375</td></tr>",
                            "<tr><td>1308.9375</td></tr>",
                            "<tr><td>1308.9375</td></tr>",
                            "<tr><td>1466.0100</td></tr>",
                            "<tr><td>1242.8518</td></tr>",
                            "<tr><td>1229.4589</td></tr>",
                            "<tr><td>1229.4589</td></tr>",
                            "<tr><td>1242.8518</td></tr>",
                            "<tr><td>1229.4589</td></tr>",
                            "<tr><td>1308.9375</td></tr>",
                            "<tr><td>1466.0100</td></tr>",
                            "<tr><td>1308.9375</td></tr>",
                            "<tr><td>1466.0100</td></tr>",
                            "<tr><td>1466.0100</td></tr>",
                            "<tr><td>1308.9375</td></tr>",
                            "<tr><td>1242.8518</td></tr>",
                            "<tr><td>1242.8518</td></tr>",
                            "<tr><td>1242.8518</td></tr>",
                            "<tr><td>1229.4589</td></tr>",
                            "<tr><td>1265.3063</td></tr>",
                            "<tr><td>1466.0100</td></tr>",
                            "<tr><td>1466.0100</td></tr>",
                            "<tr><td>1466.0100</td></tr>",
                            "<tr><td>1308.9375</td></tr>",
                            "<tr><td>1308.9375</td></tr>",
                            "<tr><td>1242.8518</td></tr>",
                            "<tr><td>1242.8518</td></tr>",
                            "<tr><td>1229.4589</td></tr>",
                            "<tr><td>1242.8518</td></tr>",
                            "<tr><td>1229.4589</td></tr>",
                            "<tr><td>1466.0100</td></tr>",
                            "<tr><td>1308.9375</td></tr>",
                            "<tr><td>1308.9375</td></tr>",
                            "<tr><td>1466.0100</td></tr>",
                            "<tr><td>1308.9375</td></tr>",
                            "<tr><td>1466.0100</td></tr>",
                            "<tr><td>1308.9375</td></tr>",
                            "<tr><td>1229.4589</td></tr>",
                            "<tr><td>1242.8518</td></tr>",
                            "<tr><td>1242.8518</td></tr>",
                            "<tr><td>1242.8518</td></tr>",
                            "<tr><td>1229.4589</td></tr>",
                            "<tr><td>1242.8518</td></tr>",
                            "<tr><td>1229.4589</td></tr>",
                            "<tr><td>1242.8518</td></tr>",
                            "<tr><td>1229.4589</td></tr>",
                            "<tr><td>1229.4589</td></tr>",
                            "<tr><td>1242.8518</td></tr>",
                            "<tr><td>1229.4589</td></tr>",
                            "<tr><td>1242.8518</td></tr>",
                            "<tr><td>1229.4589</td></tr>",
                            "<tr><td>1242.8518</td></tr>",
                            "<tr><td>1242.8518</td></tr>",
                            "<tr><td>1229.4589</td></tr>",
                            "<tr><td>1229.4589</td></tr>",
                            "<tr><td>1229.4589</td></tr>",
                            "<tr><td>1466.0100</td></tr>",
                            "<tr><td>1242.8518</td></tr>",
                            "<tr><td>1242.8518</td></tr>",
                            "<tr><td>1308.9375</td></tr>",
                            "<tr><td>1308.9375</td></tr>",
                            "<tr><td>1466.0100</td></tr>",
                            "<tr><td>1466.0100</td></tr>",
                            "<tr><td>1308.9375</td></tr>",
                            "<tr><td>1308.9375</td></tr>",
                            "<tr><td>1308.9375</td></tr>",
                            "<tr><td>1242.8518</td></tr>",
                            "<tr><td>1229.4589</td></tr>",
                            "<tr><td>1242.8518</td></tr>",
                            "<tr><td>1229.4589</td></tr>",
                            "<tr><td>1242.8518</td></tr>",
                            "<tr><td>1242.8518</td></tr>",
                            "<tr><td>1229.4589</td></tr>",
                            "<tr><td>1229.4589</td></tr>",
                            "<tr><td>1242.8518</td></tr>",
                            "<tr><td>1229.4589</td></tr>",
                            "<tr><td>1242.8518</td></tr>",
                            "<tr><td>1229.4589</td></tr>",
                            "<tr><td>1229.4589</td></tr>",
                            "<tr><td>1229.4589</td></tr>",
                            "<tr><td>1242.8518</td></tr>",
                            "<tr><td>1308.9375</td></tr>",
                            "<tr><td>1466.0100</td></tr>",
                            "<tr><td>1265.3063</td></tr>",
                            "<tr><td>1466.0100</td></tr>",
                            "<tr><td>1229.4589</td></tr>",
                            "<tr><td>1229.4589</td></tr>",
                            "<tr><td>1242.8518</td></tr>",
                            "<tr><td>1242.8518</td></tr>",
                            "<tr><td>1229.4589</td></tr>",
                            "<tr><td>1242.8518</td></tr>",
                            "<tr><td>1466.0100</td></tr>",
                            "<tr><td>1308.9375</td></tr>",
                            "<tr><td>1308.9375</td></tr>",
                            "<tr><td>1308.9375</td></tr>",
                            "<tr><td>1466.0100</td></tr>",
                            "<tr><td>1466.0100</td></tr>",
                            "<tr><td>1242.8518</td></tr>",
                            "<tr><td>1242.8518</td></tr>",
                            "<tr><td>1242.8518</td></tr>",
                            "<tr><td>1229.4589</td></tr>",
                            "<tr><td>1229.4589</td></tr>",
                            "<tr><td>1308.9375</td></tr>",
                            "<tr><td>1229.4589</td></tr>",
                            "<tr><td>1229.4589</td></tr>",
                            "<tr><td>1242.8518</td></tr>",
                            "<tr><td>1242.8518</td></tr>",
                            "<tr><td>1229.4589</td></tr>",
                            "<tr><td>1242.8518</td></tr>",
                            "<tr><td>1229.4589</td></tr>",
                            "<tr><td>1229.4589</td></tr>",
                            "<tr><td>1242.8518</td></tr>",
                            "<tr><td>1242.8518</td></tr>",
                            "<tr><td>1229.4589</td></tr>",
                            "<tr><td>1229.4589</td></tr>",
                            "<tr><td>1229.4589</td></tr>",
                            "<tr><td>1242.8518</td></tr>",
                            "<tr><td>1242.8518</td></tr>",
                            "<tr><td>1242.8518</td></tr>",
                            "<tr><td>1229.4589</td></tr>",
                            "<tr><td>1242.8518</td></tr>",
                            "<tr><td>1229.4589</td></tr>",
                            "<tr><td>1229.4589</td></tr>",
                            "<tr><td>1242.8518</td></tr>",
                            "<tr><td>1308.9375</td></tr>",
                            "<tr><td>1466.0100</td></tr>",
                            "<tr><td>1308.9375</td></tr>",
                            "<tr><td>1308.9375</td></tr>",
                            "<tr><td>1466.0100</td></tr>",
                            "<tr><td>1242.8518</td></tr>",
                            "<tr><td>1242.8518</td></tr>",
                            "<tr><td>1229.4589</td></tr>",
                            "<tr><td>1188.4770</td></tr>",
                            "<tr><td>1188.4770</td></tr>",
                            "<tr><td>1242.8518</td></tr>",
                            "<tr><td>1242.8518</td></tr>",
                            "<tr><td>1127.0040</td></tr>",
                            "<tr><td>1242.8518</td></tr>",
                            "<tr><td>1242.8518</td></tr>",
                            "<tr><td>1242.8518</td></tr>",
                            "<tr><td>1229.4589</td></tr>",
                            "<tr><td>1466.0100</td></tr>",
                            "<tr><td>1308.9375</td></tr>",
                            "<tr><td>1308.9375</td></tr>",
                            "<tr><td>1466.0100</td></tr>",
                            "<tr><td>1466.0100</td></tr>",
                            "<tr><td>1308.9375</td></tr>",
                            "<tr><td>1308.9375</td></tr>",
                            "<tr><td>1308.9375</td></tr>",
                            "<tr><td>1242.8518</td></tr>",
                            "<tr><td>1229.4589</td></tr>",
                            "<tr><td>1242.8518</td></tr>",
                            "<tr><td>1242.8518</td></tr>",
                            "<tr><td>1308.9375</td></tr>",
                            "<tr><td>1466.0100</td></tr>",
                            "<tr><td>1466.0100</td></tr>",
                            "<tr><td>1308.9375</td></tr>",
                            "<tr><td>1308.9375</td></tr>",
                            "<tr><td>1201.4234</td></tr>",
                            "<tr><td>1242.8518</td></tr>",
                            "<tr><td>1229.4589</td></tr>",
                            "<tr><td>1229.4589</td></tr>",
                            "<tr><td>1201.4234</td></tr>",
                            "<tr><td>1229.4589</td></tr>",
                            "<tr><td>1242.8518</td></tr>",
                            "<tr><td>1229.4589</td></tr>",
                            "<tr><td>1229.4589</td></tr>",
                            "<tr><td>1308.9375</td></tr>",
                            "<tr><td>1466.0100</td></tr>",
                            "<tr><td>1308.9375</td></tr>",
                            "<tr><td>1308.9375</td></tr>",
                            "<tr><td>1466.0100</td></tr>",
                            "<tr><td>1466.0100</td></tr>",
                            "<tr><td>1308.9375</td></tr>",
                            "<tr><td>1308.9375</td></tr>",
                            "<tr><td>1242.8518</td></tr>",
                            "<tr><td>1242.8518</td></tr>",
                            "<tr><td>1229.4589</td></tr>",
                            "<tr><td>1229.4589</td></tr>",
                            "<tr><td>1229.4589</td></tr>",
                            "<tr><td>1242.8518</td></tr>",
                            "<tr><td>1242.8518</td></tr>",
                            "<tr><td>1242.8518</td></tr>",
                            "<tr><td>1242.8518</td></tr>",
                            "<tr><td>1229.4589</td></tr>",
                            "<tr><td>1242.8518</td></tr>",
                            "<tr><td>1229.4589</td></tr>",
                            "<tr><td>1242.8518</td></tr>",
                            "<tr><td>1229.4589</td></tr>",
                            "<tr><td>1242.8518</td></tr>",
                            "<tr><td>1000.4375</td></tr>",
                            "<tr><td>1000.4375</td></tr>",
                            "<tr><td>1000.4375</td></tr>",
                            "<tr><td>1000.4375</td></tr>",
                            "<tr><td>1000.4375</td></tr>",
                            "<tr><td>1000.4375</td></tr>",
                            "<tr><td>1000.4375</td></tr>",
                            "<tr><td>1000.4375</td></tr>",
                            "<tr><td>1000.4375</td></tr>",
                            "<tr><td>1000.4375</td></tr>",
                            "<tr><td>1000.4375</td></tr>",
                            "<tr><td>1000.4375</td></tr>",
                            "<tr><td>1000.4375</td></tr>",
                            "<tr><td>1000.4375</td></tr>",
                            "<tr><td>1000.4375</td></tr>",
                            "<tr><td>1000.4375</td></tr>",
                            "<tr><td>1000.4375</td></tr>",
                            "<tr><td>1000.4375</td></tr>",
                            "<tr><td>1000.4375</td></tr>",
                            "<tr><td>1000.4375</td></tr>",
                            "<tr><td>1000.4375</td></tr>",
                            "<tr><td>1000.4375</td></tr>",
                            "<tr><td>1308.9375</td></tr>",
                            "<tr><td>1308.9375</td></tr>",
                            "<tr><td>1308.9375</td></tr>",
                            "<tr><td>1308.9375</td></tr>",
                            "<tr><td>1466.0100</td></tr>",
                            "<tr><td>1466.0100</td></tr>",
                            "<tr><td>1466.0100</td></tr>",
                            "<tr><td>1308.9375</td></tr>",
                            "<tr><td>1229.4589</td></tr>",
                            "<tr><td>1229.4589</td></tr>",
                            "<tr><td>1242.8518</td></tr>",
                            "<tr><td>1242.8518</td></tr>",
                            "<tr><td>1229.4589</td></tr>",
                            "<tr><td>1308.9375</td></tr>",
                            "<tr><td>1466.0100</td></tr>",
                            "<tr><td>1466.0100</td></tr>",
                            "<tr><td>1308.9375</td></tr>",
                            "<tr><td>1229.4589</td></tr>",
                            "<tr><td>1242.8518</td></tr>",
                            "<tr><td>1229.4589</td></tr>",
                            "<tr><td>1229.4589</td></tr>",
                            "<tr><td>1242.8518</td></tr>",
                            "<tr><td>1242.8518</td></tr>",
                            "<tr><td>1229.4589</td></tr>",
                            "<tr><td>1242.8518</td></tr>",
                            "<tr><td>1188.4770</td></tr>",
                            "<tr><td>1229.4589</td></tr>",
                            "<tr><td>1242.8518</td></tr>",
                            "<tr><td>1229.4589</td></tr>",
                            "<tr><td>1308.9375</td></tr>",
                            "<tr><td>1466.0100</td></tr>",
                            "<tr><td>1308.9375</td></tr>",
                            "<tr><td>1466.0100</td></tr>",
                            "<tr><td>1466.0100</td></tr>",
                            "<tr><td>1466.0100</td></tr>",
                            "<tr><td>1308.9375</td></tr>",
                            "<tr><td>1308.9375</td></tr>",
                            "<tr><td>1466.0100</td></tr>",
                            "<tr><td>1308.9375</td></tr>",
                            "<tr><td>1242.8518</td></tr>",
                            "<tr><td>1229.4589</td></tr>",
                            "<tr><td>1229.4589</td></tr>",
                            "<tr><td>1242.8518</td></tr>",
                            "<tr><td>1308.9375</td></tr>",
                            "<tr><td>1466.0100</td></tr>",
                            "<tr><td>1308.9375</td></tr>",
                            "<tr><td>1466.0100</td></tr>",
                            "<tr><td>1308.9375</td></tr>",
                            "<tr><td>1308.9375</td></tr>",
                            "<tr><td>1308.9375</td></tr>",
                            "<tr><td>1229.4589</td></tr>",
                            "<tr><td>1242.8518</td></tr>",
                            "<tr><td>1242.8518</td></tr>",
                            "<tr><td>1242.8518</td></tr>",
                            "<tr><td>1242.8518</td></tr>",
                            "<tr><td>1242.8518</td></tr>",
                            "<tr><td>1229.4589</td></tr>",
                            "<tr><td>1229.4589</td></tr>",
                            "<tr><td>1229.4589</td></tr>",
                            "<tr><td>1242.8518</td></tr>",
                            "<tr><td>1229.4589</td></tr>",
                            "<tr><td>1229.4589</td></tr>",
                            "<tr><td>1242.8518</td></tr>",
                            "<tr><td>1242.8518</td></tr>",
                            "<tr><td>1229.4589</td></tr>",
                            "<tr><td>1229.4589</td></tr>",
                            "<tr><td>1242.8518</td></tr>",
                            "<tr><td>1229.4589</td></tr>",
                            "<tr><td>1229.4589</td></tr>",
                            "<tr><td>1229.4589</td></tr>",
                            "<tr><td>1242.8518</td></tr>",
                            "<tr><td>1242.8518</td></tr>",
                            "<tr><td>1242.8518</td></tr>",
                            "<tr><td>1308.9375</td></tr>",
                            "<tr><td>1308.9375</td></tr>",
                            "<tr><td>1466.0100</td></tr>",
                            "<tr><td>1466.0100</td></tr>",
                            "<tr><td>1308.9375</td></tr>",
                            "<tr><td>1466.0100</td></tr>",
                            "<tr><td>1308.9375</td></tr>",
                            "<tr><td>1308.9375</td></tr>",
                            "<tr><td>1229.4589</td></tr>",
                            "<tr><td>1242.8518</td></tr>",
                            "<tr><td>1229.4589</td></tr>",
                            "<tr><td>1229.4589</td></tr>",
                            "<tr><td>1242.8518</td></tr>",
                            "<tr><td>1229.4589</td></tr>",
                            "<tr><td>1242.8518</td></tr>",
                            "<tr><td>1466.0100</td></tr>",
                            "<tr><td>1308.9375</td></tr>",
                            "<tr><td>1466.0100</td></tr>",
                            "<tr><td>1308.9375</td></tr>",
                            "<tr><td>1308.9375</td></tr>",
                            "<tr><td>1466.0100</td></tr>",
                            "<tr><td>1242.8518</td></tr>",
                            "<tr><td>1229.4589</td></tr>",
                            "<tr><td>1229.4589</td></tr>",
                            "<tr><td>1242.8518</td></tr>",
                            "<tr><td>1242.8518</td></tr>",
                            "<tr><td>1242.8518</td></tr>",
                            "<tr><td>1308.9375</td></tr>",
                            "<tr><td>1466.0100</td></tr>",
                            "<tr><td>1466.0100</td></tr>",
                            "<tr><td>1308.9375</td></tr>",
                            "<tr><td>1242.8518</td></tr>",
                            "<tr><td>1242.8518</td></tr>",
                            "<tr><td>1242.8518</td></tr>",
                            "<tr><td>1229.4589</td></tr>",
                            "<tr><td>1229.4589</td></tr>",
                            "<tr><td>1229.4589</td></tr>",
                            "<tr><td>1242.8518</td></tr>",
                            "<tr><td>1229.4589</td></tr>",
                            "<tr><td>1242.8518</td></tr>",
                            "<tr><td>1229.4589</td></tr>",
                            "<tr><td>1229.4589</td></tr>",
                            "<tr><td>1242.8518</td></tr>",
                            "<tr><td>1229.4589</td></tr>",
                            "<tr><td>1242.8518</td></tr>",
                            "<tr><td>1242.8518</td></tr>",
                            "<tr><td>1242.8518</td></tr>",
                            "<tr><td>1229.4589</td></tr>",
                            "<tr><td>1229.4589</td></tr>",
                            "<tr><td>1242.8518</td></tr>",
                            "<tr><td>1242.8518</td></tr>",
                            "<tr><td>1229.4589</td></tr>",
                            "<tr><td>1229.4589</td></tr>",
                            "<tr><td>1229.4589</td></tr>",
                            "<tr><td>1242.8518</td></tr>",
                            "<tr><td>1242.8518</td></tr>",
                            "<tr><td>1229.4589</td></tr>",
                            "<tr><td>1229.4589</td></tr>",
                            "<tr><td>1242.8518</td></tr>",
                            "<tr><td>1229.4589</td></tr>",
                            "<tr><td>1242.8518</td></tr>",
                            "<tr><td>1229.4589</td></tr>",
                            "<tr><td>1242.8518</td></tr>",
                            "<tr><td>1229.4589</td></tr>",
                            "<tr><td>1242.8518</td></tr>",
                            "<tr><td>1229.4589</td></tr>",
                            "<tr><td>1229.4589</td></tr>",
                            "<tr><td>1242.8518</td></tr>",
                            "<tr><td>1466.0100</td></tr>",
                            "<tr><td>1466.0100</td></tr>",
                            "<tr><td>1308.9375</td></tr>",
                            "<tr><td>1308.9375</td></tr>",
                            "<tr><td>1265.3063</td></tr>",
                            "<tr><td>1466.0100</td></tr>",
                            "<tr><td>1466.0100</td></tr>",
                            "<tr><td>1308.9375</td></tr>",
                            "<tr><td>1466.0100</td></tr>",
                            "<tr><td>1308.9375</td></tr>",
                            "<tr><td>1466.0100</td></tr>",
                            "<tr><td>1308.9375</td></tr>",
                            "<tr><td>1466.0100</td></tr>",
                            "<tr><td>1308.9375</td></tr>",
                            "<tr><td>1308.9375</td></tr>",
                            "<tr><td>1308.9375</td></tr>",
                            "<tr><td>1308.9375</td></tr>",
                            "<tr><td>1308.9375</td></tr>",
                            "<tr><td>1466.0100</td></tr>",
                            "<tr><td>1466.0100</td></tr>",
                            "<tr><td>1466.0100</td></tr>",
                            "<tr><td>1308.9375</td></tr>",
                            "<tr><td>1466.0100</td></tr>",
                            "<tr><td>1308.9375</td></tr>",
                            "<tr><td>1308.9375</td></tr>",
                            "<tr><td>1466.0100</td></tr>",
                            "<tr><td>1466.0100</td></tr>",
                            "<tr><td>1308.9375</td></tr>",
                            "<tr><td>1466.0100</td></tr>",
                            "<tr><td>1308.9375</td></tr>",
                            "<tr><td>1308.9375</td></tr>",
                            "<tr><td>1308.9375</td></tr>",
                            "<tr><td>1466.0100</td></tr>",
                            "<tr><td>1466.0100</td></tr>",
                            "<tr><td>1308.9375</td></tr>",
                            "<tr><td>1308.9375</td></tr>",
                            "<tr><td>1466.0100</td></tr>",
                            "<tr><td>1466.0100</td></tr>",
                            "<tr><td>1308.9375</td></tr>",
                            "<tr><td>1308.9375</td></tr>",
                            "<tr><td>1466.0100</td></tr>",
                            "<tr><td>1242.8518</td></tr>",
                            "<tr><td>1242.8518</td></tr>",
                            "<tr><td>1242.8518</td></tr>",
                            "<tr><td>1229.4589</td></tr>",
                            "<tr><td>1229.4589</td></tr>",
                            "<tr><td>1308.9375</td></tr>",
                            "<tr><td>1229.4589</td></tr>",
                            "<tr><td>1242.8518</td></tr>",
                            "<tr><td>1229.4589</td></tr>",
                            "<tr><td>1242.8518</td></tr>",
                            "<tr><td>1229.4589</td></tr>",
                            "<tr><td>1000.4375</td></tr>",
                            "<tr><td>1000.4375</td></tr>",
                            "<tr><td>1000.4375</td></tr>",
                            "<tr><td>1000.4375</td></tr>",
                            "<tr><td>1000.4375</td></tr>",
                            "<tr><td>1000.4375</td></tr>",
                            "<tr><td>1000.4375</td></tr>",
                            "<tr><td>1000.4375</td></tr>",
                            "<tr><td>1000.4375</td></tr>",
                            "<tr><td>1000.4375</td></tr>",
                            "<tr><td>1000.4375</td></tr>",
                            "<tr><td>1000.4375</td></tr>",
                            "<tr><td>1000.4375</td></tr>",
                            "<tr><td>1000.4375</td></tr>",
                            "<tr><td>1000.4375</td></tr>",
                            "<tr><td>1000.4375</td></tr>",
                            "<tr><td>1000.4375</td></tr>",
                            "<tr><td>1000.4375</td></tr>",
                            "<tr><td>1000.4375</td></tr>",
                            "<tr><td>1000.4375</td></tr>",
                            "<tr><td>1000.4375</td></tr>",
                            "<tr><td>1229.4589</td></tr>",
                            "<tr><td>1242.8518</td></tr>",
                            "<tr><td>1242.8518</td></tr>",
                            "<tr><td>1242.8518</td></tr>",
                            "<tr><td>1242.8518</td></tr>",
                            "<tr><td>1229.4589</td></tr>",
                            "<tr><td>1242.8518</td></tr>",
                            "<tr><td>1229.4589</td></tr>",
                            "<tr><td>1229.4589</td></tr>",
                            "<tr><td>1229.4589</td></tr>",
                            "<tr><td>1229.4589</td></tr>",
                            "<tr><td>1466.0100</td></tr>",
                            "<tr><td>1308.9375</td></tr>",
                            "<tr><td>1308.9375</td></tr>",
                            "<tr><td>1308.9375</td></tr>",
                            "<tr><td>1466.0100</td></tr>",
                            "<tr><td>1308.9375</td></tr>",
                            "<tr><td>1308.9375</td></tr>",
                            "<tr><td>1466.0100</td></tr>",
                            "<tr><td>1466.0100</td></tr>",
                            "<tr><td>1229.4589</td></tr>",
                            "<tr><td>1229.4589</td></tr>",
                            "<tr><td>1242.8518</td></tr>",
                            "<tr><td>1229.4589</td></tr>",
                            "<tr><td>1242.8518</td></tr>",
                            "<tr><td>1242.8518</td></tr>",
                            "<tr><td>1229.4589</td></tr>",
                            "<tr><td>1242.8518</td></tr>",
                            "<tr><td>1229.4589</td></tr>",
                            "<tr><td>1229.4589</td></tr>",
                            "<tr><td>1242.8518</td></tr>",
                            "<tr><td>1242.8518</td></tr>",
                            "<tr><td>1229.4589</td></tr>",
                            "<tr><td>1229.4589</td></tr>",
                            "<tr><td>1242.8518</td></tr>",
                            "<tr><td>1229.4589</td></tr>",
                            "<tr><td>1308.9375</td></tr>",
                            "<tr><td>1308.9375</td></tr>",
                            "<tr><td>1466.0100</td></tr>",
                            "<tr><td>1308.9375</td></tr>",
                            "<tr><td>1308.9375</td></tr>",
                            "<tr><td>1466.0100</td></tr>",
                            "<tr><td>1466.0100</td></tr>",
                            "<tr><td>1308.9375</td></tr>",
                            "<tr><td>1308.9375</td></tr>",
                            "<tr><td>1308.9375</td></tr>",
                            "<tr><td>1466.0100</td></tr>",
                            "<tr><td>1308.9375</td></tr>",
                            "<tr><td>1466.0100</td></tr>",
                            "<tr><td>1308.9375</td></tr>",
                            "<tr><td>1308.9375</td></tr>",
                            "<tr><td>1466.0100</td></tr>",
                            "<tr><td>1229.4589</td></tr>",
                            "<tr><td>1242.8518</td></tr>",
                            "<tr><td>1242.8518</td></tr>",
                            "<tr><td>1242.8518</td></tr>",
                            "<tr><td>1229.4589</td></tr>",
                            "<tr><td>1466.0100</td></tr>",
                            "<tr><td>1466.0100</td></tr>",
                            "<tr><td>1466.0100</td></tr>",
                            "<tr><td>1308.9375</td></tr>",
                            "<tr><td>1308.9375</td></tr>",
                            "<tr><td>1229.4589</td></tr>",
                            "<tr><td>1229.4589</td></tr>",
                            "<tr><td>1229.4589</td></tr>",
                            "<tr><td>1242.8518</td></tr>",
                            "<tr><td>1229.4589</td></tr>",
                            "<tr><td>1201.4234</td></tr>",
                            "<tr><td>1229.4589</td></tr>",
                            "<tr><td>1242.8518</td></tr>",
                            "<tr><td>1466.0100</td></tr>",
                            "<tr><td>1466.0100</td></tr>",
                            "<tr><td>1308.9375</td></tr>",
                            "<tr><td>1308.9375</td></tr>",
                            "<tr><td>1308.9375</td></tr>",
                            "<tr><td>1308.9375</td></tr>",
                            "<tr><td>1466.0100</td></tr>",
                            "<tr><td>1308.9375</td></tr>",
                            "<tr><td>1308.9375</td></tr>",
                            "<tr><td>1466.0100</td></tr>",
                            "<tr><td>1308.9375</td></tr>",
                            "<tr><td>1308.9375</td></tr>",
                            "<tr><td>1308.9375</td></tr>",
                            "<tr><td>1308.9375</td></tr>",
                            "<tr><td>1466.0100</td></tr>",
                            "<tr><td>1466.0100</td></tr>",
                            "<tr><td>1242.8518</td></tr>",
                            "<tr><td>1229.4589</td></tr>",
                            "<tr><td>1229.4589</td></tr>",
                            "<tr><td>1229.4589</td></tr>",
                            "<tr><td>1229.4589</td></tr>",
                            "<tr><td>1242.8518</td></tr>",
                            "<tr><td>1229.4589</td></tr>",
                            "<tr><td>1242.8518</td></tr>",
                            "<tr><td>1229.4589</td></tr>",
                            "<tr><td>1242.8518</td></tr>",
                            "<tr><td>1229.4589</td></tr>",
                            "<tr><td>1229.4589</td></tr>",
                            "<tr><td>1242.8518</td></tr>",
                            "<tr><td>1466.0100</td></tr>",
                            "<tr><td>1308.9375</td></tr>",
                            "<tr><td>1466.0100</td></tr>",
                            "<tr><td>1308.9375</td></tr>",
                            "<tr><td>1308.9375</td></tr>",
                            "<tr><td>1466.0100</td></tr>",
                            "<tr><td>1242.8518</td></tr>",
                            "<tr><td>1229.4589</td></tr>",
                            "<tr><td>1229.4589</td></tr>",
                            "<tr><td>1229.4589</td></tr>",
                            "<tr><td>1242.8518</td></tr>",
                            "<tr><td>1242.8518</td></tr>",
                            "<tr><td>1229.4589</td></tr>",
                            "<tr><td>1242.8518</td></tr>",
                            "<tr><td>1229.4589</td></tr>",
                            "<tr><td>1229.4589</td></tr>",
                            "<tr><td>1242.8518</td></tr>",
                            "<tr><td>1229.4589</td></tr>",
                            "<tr><td>1229.4589</td></tr>",
                            "<tr><td>1229.4589</td></tr>",
                            "<tr><td>1242.8518</td></tr>",
                            "<tr><td>1242.8518</td></tr>",
                            "<tr><td>1242.8518</td></tr>",
                            "<tr><td>1229.4589</td></tr>",
                            "<tr><td>1242.8518</td></tr>",
                            "<tr><td>1242.8518</td></tr>",
                            "<tr><td>1229.4589</td></tr>",
                            "<tr><td>1242.8518</td></tr>",
                            "<tr><td>1229.4589</td></tr>",
                            "<tr><td>1308.9375</td></tr>",
                            "<tr><td>1308.9375</td></tr>",
                            "<tr><td>1308.9375</td></tr>",
                            "<tr><td>1308.9375</td></tr>",
                            "<tr><td>1466.0100</td></tr>",
                            "<tr><td>1466.0100</td></tr>",
                            "<tr><td>1308.9375</td></tr>",
                            "<tr><td>1466.0100</td></tr>",
                            "<tr><td>1466.0100</td></tr>",
                            "<tr><td>1308.9375</td></tr>",
                            "<tr><td>1466.0100</td></tr>",
                            "<tr><td>1308.9375</td></tr>",
                            "<tr><td>1242.8518</td></tr>",
                            "<tr><td>1242.8518</td></tr>",
                            "<tr><td>1242.8518</td></tr>",
                            "<tr><td>1242.8518</td></tr>",
                            "<tr><td>1229.4589</td></tr>",
                            "<tr><td>1229.4589</td></tr>",
                            "<tr><td>1242.8518</td></tr>",
                            "<tr><td>1229.4589</td></tr>",
                            "<tr><td>1308.9375</td></tr>",
                            "<tr><td>1308.9375</td></tr>",
                            "<tr><td>1466.0100</td></tr>",
                            "<tr><td>1308.9375</td></tr>",
                            "<tr><td>1229.4589</td></tr>",
                            "<tr><td>1229.4589</td></tr>",
                            "<tr><td>1466.0100</td></tr>",
                            "<tr><td>1308.9375</td></tr>",
                            "<tr><td>1466.0100</td></tr>",
                            "<tr><td>1308.9375</td></tr>",
                            "<tr><td>1308.9375</td></tr>",
                            "<tr><td>1308.9375</td></tr>",
                            "<tr><td>1242.8518</td></tr>",
                            "<tr><td>1229.4589</td></tr>",
                            "<tr><td>1242.8518</td></tr>",
                            "<tr><td>1229.4589</td></tr>",
                            "<tr><td>1229.4589</td></tr>",
                            "<tr><td>1242.8518</td></tr>",
                            "<tr><td>1466.0100</td></tr>",
                            "<tr><td>1466.0100</td></tr>",
                            "<tr><td>1308.9375</td></tr>",
                            "<tr><td>1308.9375</td></tr>",
                            "<tr><td>1308.9375</td></tr>",
                            "<tr><td>1466.0100</td></tr>",
                            "<tr><td>1242.8518</td></tr>",
                            "<tr><td>1229.4589</td></tr>",
                            "<tr><td>1242.8518</td></tr>",
                            "<tr><td>1242.8518</td></tr>",
                            "<tr><td>1229.4589</td></tr>",
                            "<tr><td>1229.4589</td></tr>",
                            "<tr><td>1242.8518</td></tr>",
                            "<tr><td>1242.8518</td></tr>",
                            "<tr><td>1466.0100</td></tr>",
                            "<tr><td>1229.4589</td></tr>",
                            "<tr><td>1466.0100</td></tr>",
                            "<tr><td>1308.9375</td></tr>",
                            "<tr><td>1466.0100</td></tr>",
                            "<tr><td>1466.0100</td></tr>",
                            "<tr><td>1242.8518</td></tr>",
                            "<tr><td>1229.4589</td></tr>",
                            "<tr><td>1242.8518</td></tr>",
                            "<tr><td>1242.8518</td></tr>",
                            "<tr><td>1229.4589</td></tr>",
                            "<tr><td>1229.4589</td></tr>",
                            "<tr><td>1229.4589</td></tr>",
                            "<tr><td>1229.4589</td></tr>",
                            "<tr><td>1229.4589</td></tr>",
                            "<tr><td>1242.8518</td></tr>",
                            "<tr><td>1242.8518</td></tr>",
                            "<tr><td>1242.8518</td></tr>",
                            "<tr><td>1466.0100</td></tr>",
                            "<tr><td>1466.0100</td></tr>",
                            "<tr><td>1308.9375</td></tr>",
                            "<tr><td>1308.9375</td></tr>",
                            "<tr><td>1308.9375</td></tr>",
                            "<tr><td>1308.9375</td></tr>",
                            "<tr><td>1308.9375</td></tr>",
                            "<tr><td>1466.0100</td></tr>",
                            "<tr><td>1466.0100</td></tr>",
                            "<tr><td>1308.9375</td></tr>",
                            "<tr><td>1308.9375</td></tr>",
                            "<tr><td>1466.0100</td></tr>",
                            "<tr><td>1308.9375</td></tr>",
                            "<tr><td>1466.0100</td></tr>",
                            "<tr><td>1308.9375</td></tr>",
                            "<tr><td>1308.9375</td></tr>",
                            "<tr><td>1466.0100</td></tr>",
                            "<tr><td>1466.0100</td></tr>",
                            "<tr><td>1242.8518</td></tr>",
                            "<tr><td>1229.4589</td></tr>",
                            "<tr><td>1229.4589</td></tr>",
                            "<tr><td>1308.9375</td></tr>",
                            "<tr><td>1308.9375</td></tr>",
                            "<tr><td>1466.0100</td></tr>",
                            "<tr><td>1466.0100</td></tr>",
                            "<tr><td>1308.9375</td></tr>",
                            "<tr><td>1308.9375</td></tr>",
                            "<tr><td>1466.0100</td></tr>",
                            "<tr><td>1308.9375</td></tr>",
                            "<tr><td>1308.9375</td></tr>",
                            "<tr><td>1308.9375</td></tr>",
                            "<tr><td>1466.0100</td></tr>",
                            "<tr><td>1308.9375</td></tr>",
                            "<tr><td>1308.9375</td></tr>",
                            "<tr><td>1466.0100</td></tr>",
                            "<tr><td>1308.9375</td></tr>",
                            "<tr><td>1308.9375</td></tr>",
                            "<tr><td>1466.0100</td></tr>",
                            "<tr><td>1242.8518</td></tr>",
                            "<tr><td>1229.4589</td></tr>",
                            "<tr><td>1229.4589</td></tr>",
                            "<tr><td>1242.8518</td></tr>",
                            "<tr><td>1229.4589</td></tr>",
                            "<tr><td>1242.8518</td></tr>",
                            "<tr><td>1466.0100</td></tr>",
                            "<tr><td>1308.9375</td></tr>",
                            "<tr><td>1466.0100</td></tr>",
                            "<tr><td>1308.9375</td></tr>",
                            "<tr><td>1466.0100</td></tr>",
                            "<tr><td>1242.8518</td></tr>",
                            "<tr><td>1242.8518</td></tr>",
                            "<tr><td>1242.8518</td></tr>",
                            "<tr><td>1229.4589</td></tr>",
                            "<tr><td>1229.4589</td></tr>",
                            "<tr><td>1229.4589</td></tr>",
                            "<tr><td>1242.8518</td></tr>",
                            "<tr><td>1229.4589</td></tr>",
                            "<tr><td>1242.8518</td></tr>",
                            "<tr><td>1229.4589</td></tr>",
                            "<tr><td>1242.8518</td></tr>",
                            "<tr><td>1229.4589</td></tr>",
                            "<tr><td>1229.4589</td></tr>",
                            "<tr><td>1242.8518</td></tr>",
                            "<tr><td>1242.8518</td></tr>",
                            "<tr><td>1242.8518</td></tr>",
                            "<tr><td>1466.0100</td></tr>",
                            "<tr><td>1466.0100</td></tr>",
                            "<tr><td>1308.9375</td></tr>",
                            "<tr><td>1308.9375</td></tr>",
                            "<tr><td>1308.9375</td></tr>",
                            "<tr><td>1308.9375</td></tr>",
                            "<tr><td>1466.0100</td></tr>",
                            "<tr><td>1308.9375</td></tr>",
                            "<tr><td>1308.9375</td></tr>",
                            "<tr><td>1308.9375</td></tr>",
                            "<tr><td>1466.0100</td></tr>",
                            "<tr><td>1308.9375</td></tr>",
                            "<tr><td>1466.0100</td></tr>",
                            "<tr><td>1308.9375</td></tr>",
                            "<tr><td>1466.0100</td></tr>",
                            "<tr><td>1466.0100</td></tr>",
                            "<tr><td>1308.9375</td></tr>",
                            "<tr><td>1242.8518</td></tr>",
                            "<tr><td>1229.4589</td></tr>",
                            "<tr><td>1229.4589</td></tr>",
                            "<tr><td>1229.4589</td></tr>",
                            "<tr><td>1229.4589</td></tr>",
                            "<tr><td>1229.4589</td></tr>",
                            "<tr><td>1242.8518</td></tr>",
                            "<tr><td>1308.9375</td></tr>",
                            "<tr><td>1466.0100</td></tr>",
                            "<tr><td>1308.9375</td></tr>",
                            "<tr><td>1308.9375</td></tr>",
                            "<tr><td>1308.9375</td></tr>",
                            "<tr><td>1466.0100</td></tr>",
                            "<tr><td>1308.9375</td></tr>",
                            "<tr><td>1466.0100</td></tr>",
                            "<tr><td>1229.4589</td></tr>",
                            "<tr><td>1242.8518</td></tr>",
                            "<tr><td>1229.4589</td></tr>",
                            "<tr><td>1242.8518</td></tr>",
                            "<tr><td>1229.4589</td></tr>",
                            "<tr><td>1242.8518</td></tr>",
                            "<tr><td>1229.4589</td></tr>",
                            "<tr><td>1242.8518</td></tr>",
                            "<tr><td>1229.4589</td></tr>",
                            "<tr><td>1229.4589</td></tr>",
                            "<tr><td>1242.8518</td></tr>",
                            "<tr><td>1242.8518</td></tr>",
                            "<tr><td>1229.4589</td></tr>",
                            "<tr><td>1242.8518</td></tr>",
                            "<tr><td>1229.4589</td></tr>",
                            "<tr><td>1229.4589</td></tr>",
                            "<tr><td>1242.8518</td></tr>",
                            "<tr><td>1229.4589</td></tr>",
                            "<tr><td>1466.0100</td></tr>",
                            "<tr><td>1308.9375</td></tr>",
                            "<tr><td>1308.9375</td></tr>",
                            "<tr><td>1466.0100</td></tr>",
                            "<tr><td>1308.9375</td></tr>",
                            "<tr><td>1466.0100</td></tr>",
                            "<tr><td>1229.4589</td></tr>",
                            "<tr><td>1242.8518</td></tr>",
                            "<tr><td>1229.4589</td></tr>",
                            "<tr><td>1229.4589</td></tr>",
                            "<tr><td>1242.8518</td></tr>",
                            "<tr><td>1242.8518</td></tr>",
                            "<tr><td>1466.0100</td></tr>",
                            "<tr><td>1308.9375</td></tr>",
                            "<tr><td>1229.4589</td></tr>",
                            "<tr><td>1308.9375</td></tr>",
                            "<tr><td>1308.9375</td></tr>",
                            "<tr><td>1466.0100</td></tr>",
                            "<tr><td>1308.9375</td></tr>",
                            "<tr><td>1308.9375</td></tr>",
                            "<tr><td>1466.0100</td></tr>",
                            "<tr><td>1308.9375</td></tr>",
                            "<tr><td>1308.9375</td></tr>",
                            "<tr><td>1308.9375</td></tr>",
                            "<tr><td>1308.9375</td></tr>",
                            "<tr><td>1308.9375</td></tr>",
                            "<tr><td>1466.0100</td></tr>",
                            "<tr><td>1466.0100</td></tr>",
                            "<tr><td>1308.9375</td></tr>",
                            "<tr><td>1466.0100</td></tr>",
                            "<tr><td>1229.4589</td></tr>",
                            "<tr><td>1229.4589</td></tr>",
                            "<tr><td>1242.8518</td></tr>",
                            "<tr><td>1229.4589</td></tr>",
                            "<tr><td>1308.9375</td></tr>",
                            "<tr><td>1466.0100</td></tr>",
                            "<tr><td>1308.9375</td></tr>",
                            "<tr><td>1308.9375</td></tr>",
                            "<tr><td>1466.0100</td></tr>",
                            "<tr><td>1466.0100</td></tr>",
                            "<tr><td>1308.9375</td></tr>",
                            "<tr><td>1229.4589</td></tr>",
                            "<tr><td>1242.8518</td></tr>",
                            "<tr><td>1229.4589</td></tr>",
                            "<tr><td>1242.8518</td></tr>",
                            "<tr><td>1229.4589</td></tr>",
                            "<tr><td>1242.8518</td></tr>",
                            "<tr><td>1229.4589</td></tr>",
                            "<tr><td>1242.8518</td></tr>",
                            "<tr><td>1229.4589</td></tr>",
                            "<tr><td>1308.9375</td></tr>",
                            "<tr><td>1000.4375</td></tr>",
                            "<tr><td>1000.4375</td></tr>",
                            "<tr><td>1000.4375</td></tr>",
                            "<tr><td>1000.4375</td></tr>",
                            "<tr><td>1000.4375</td></tr>",
                            "<tr><td>1000.4375</td></tr>",
                            "<tr><td>1000.4375</td></tr>",
                            "<tr><td>1000.4375</td></tr>",
                            "<tr><td>1000.4375</td></tr>",
                            "<tr><td>1000.4375</td></tr>",
                            "<tr><td>1000.4375</td></tr>",
                            "<tr><td>1000.4375</td></tr>",
                            "<tr><td>1000.4375</td></tr>",
                            "<tr><td>1000.4375</td></tr>",
                            "<tr><td>1000.4375</td></tr>",
                            "<tr><td>1000.4375</td></tr>",
                            "<tr><td>1000.4375</td></tr>",
                            "<tr><td>1000.4375</td></tr>",
                            "<tr><td>1000.4375</td></tr>",
                            "<tr><td>1000.4375</td></tr>",
                            "<tr><td>1000.4375</td></tr>",
                            "<tr><td>1242.8518</td></tr>",
                            "<tr><td>1229.4589</td></tr>",
                            "<tr><td>1242.8518</td></tr>",
                            "<tr><td>1242.8518</td></tr>",
                            "<tr><td>1229.4589</td></tr>",
                            "<tr><td>1242.8518</td></tr>",
                            "<tr><td>1229.4589</td></tr>",
                            "<tr><td>1229.4589</td></tr>",
                            "<tr><td>1229.4589</td></tr>",
                            "<tr><td>1242.8518</td></tr>",
                            "<tr><td>1242.8518</td></tr>",
                            "<tr><td>1242.8518</td></tr>",
                            "<tr><td>1308.9375</td></tr>",
                            "<tr><td>1308.9375</td></tr>",
                            "<tr><td>1466.0100</td></tr>",
                            "<tr><td>1466.0100</td></tr>",
                            "<tr><td>1308.9375</td></tr>",
                            "<tr><td>1466.0100</td></tr>",
                            "<tr><td>1308.9375</td></tr>",
                            "<tr><td>1308.9375</td></tr>",
                            "<tr><td>1308.9375</td></tr>",
                            "<tr><td>1466.0100</td></tr>",
                            "<tr><td>1308.9375</td></tr>",
                            "<tr><td>1308.9375</td></tr>",
                            "<tr><td>1242.8518</td></tr>",
                            "<tr><td>1242.8518</td></tr>",
                            "<tr><td>1229.4589</td></tr>",
                            "<tr><td>1229.4589</td></tr>",
                            "<tr><td>1229.4589</td></tr>",
                            "<tr><td>1242.8518</td></tr>",
                            "<tr><td>1242.8518</td></tr>",
                            "<tr><td>1229.4589</td></tr>",
                            "<tr><td>1242.8518</td></tr>",
                            "<tr><td>1229.4589</td></tr>",
                            "<tr><td>1229.4589</td></tr>",
                            "<tr><td>1229.4589</td></tr>",
                            "<tr><td>1201.4234</td></tr>",
                            "<tr><td>1201.4234</td></tr>",
                            "<tr><td>1229.4589</td></tr>",
                            "<tr><td>1242.8518</td></tr>",
                            "<tr><td>1308.9375</td></tr>",
                            "<tr><td>1466.0100</td></tr>",
                            "<tr><td>1308.9375</td></tr>",
                            "<tr><td>1466.0100</td></tr>",
                            "<tr><td>1308.9375</td></tr>",
                            "<tr><td>1308.9375</td></tr>",
                            "<tr><td>1466.0100</td></tr>",
                            "<tr><td>1308.9375</td></tr>",
                            "<tr><td>1308.9375</td></tr>",
                            "<tr><td>1308.9375</td></tr>",
                            "<tr><td>1466.0100</td></tr>",
                            "<tr><td>1466.0100</td></tr>",
                            "<tr><td>1466.0100</td></tr>",
                            "<tr><td>1308.9375</td></tr>",
                            "<tr><td>1308.9375</td></tr>",
                            "<tr><td>1466.0100</td></tr>",
                            "<tr><td>1466.0100</td></tr>",
                            "<tr><td>1308.9375</td></tr>",
                            "<tr><td>1466.0100</td></tr>",
                            "<tr><td>1242.8518</td></tr>",
                            "<tr><td>1242.8518</td></tr>",
                            "<tr><td>1229.4589</td></tr>",
                            "<tr><td>1229.4589</td></tr>",
                            "<tr><td>1308.9375</td></tr>",
                            "<tr><td>1308.9375</td></tr>",
                            "<tr><td>1466.0100</td></tr>",
                            "<tr><td>1308.9375</td></tr>",
                            "<tr><td>1466.0100</td></tr>",
                            "<tr><td>1229.4589</td></tr>",
                            "<tr><td>1229.4589</td></tr>",
                            "<tr><td>1229.4589</td></tr>",
                            "<tr><td>1242.8518</td></tr>",
                            "<tr><td>1242.8518</td></tr>",
                            "<tr><td>1242.8518</td></tr>",
                            "<tr><td>1242.8518</td></tr>",
                            "<tr><td>1242.8518</td></tr>",
                            "<tr><td>1229.4589</td></tr>",
                            "<tr><td>1242.8518</td></tr>",
                            "<tr><td>1466.0100</td></tr>",
                            "<tr><td>1466.0100</td></tr>",
                            "<tr><td>1308.9375</td></tr>",
                            "<tr><td>1308.9375</td></tr>",
                            "<tr><td>1308.9375</td></tr>",
                            "<tr><td>1308.9375</td></tr>",
                            "<tr><td>1466.0100</td></tr>",
                            "<tr><td>1466.0100</td></tr>",
                            "<tr><td>1229.4589</td></tr>",
                            "<tr><td>1242.8518</td></tr>",
                            "<tr><td>1242.8518</td></tr>",
                            "<tr><td>1229.4589</td></tr>",
                            "<tr><td>1242.8518</td></tr>",
                            "<tr><td>1308.9375</td></tr>",
                            "<tr><td>1466.0100</td></tr>",
                            "<tr><td>1466.0100</td></tr>",
                            "<tr><td>1308.9375</td></tr>",
                            "<tr><td>1308.9375</td></tr>",
                            "<tr><td>1229.4589</td></tr>",
                            "<tr><td>1229.4589</td></tr>",
                            "<tr><td>1229.4589</td></tr>",
                            "<tr><td>1242.8518</td></tr>",
                            "<tr><td>1242.8518</td></tr>",
                            "<tr><td>1242.8518</td></tr>",
                            "<tr><td>1229.4589</td></tr>",
                            "<tr><td>1308.9375</td></tr>",
                            "<tr><td>1308.9375</td></tr>",
                            "<tr><td>1466.0100</td></tr>",
                            "<tr><td>1265.3063</td></tr>",
                            "<tr><td>1466.0100</td></tr>",
                            "<tr><td>1466.0100</td></tr>",
                            "<tr><td>1229.4589</td></tr>",
                            "<tr><td>1242.8518</td></tr>",
                            "<tr><td>1229.4589</td></tr>",
                            "<tr><td>1308.9375</td></tr>",
                            "<tr><td>1466.0100</td></tr>",
                            "<tr><td>1308.9375</td></tr>",
                            "<tr><td>1308.9375</td></tr>",
                            "<tr><td>1308.9375</td></tr>",
                            "<tr><td>1466.0100</td></tr>",
                            "<tr><td>1466.0100</td></tr>",
                            "<tr><td>1242.8518</td></tr>",
                            "<tr><td>1229.4589</td></tr>",
                            "<tr><td>1242.8518</td></tr>",
                            "<tr><td>1229.4589</td></tr>",
                            "<tr><td>1229.4589</td></tr>",
                            "<tr><td>1229.4589</td></tr>",
                            "<tr><td>1242.8518</td></tr>",
                            "<tr><td>1242.8518</td></tr>",
                            "<tr><td>1229.4589</td></tr>",
                            "<tr><td>1242.8518</td></tr>",
                            "<tr><td>1229.4589</td></tr>",
                            "<tr><td>1242.8518</td></tr>",
                            "<tr><td>1242.8518</td></tr>",
                            "<tr><td>1242.8518</td></tr>",
                            "<tr><td>1308.9375</td></tr>",
                            "<tr><td>1229.4589</td></tr>",
                            "<tr><td>1229.4589</td></tr>",
                            "<tr><td>1242.8518</td></tr>",
                            "<tr><td>1229.4589</td></tr>",
                            "<tr><td>1229.4589</td></tr>",
                            "<tr><td>1242.8518</td></tr>",
                            "<tr><td>1242.8518</td></tr>",
                            "<tr><td>1229.4589</td></tr>",
                            "<tr><td>1242.8518</td></tr>",
                            "<tr><td>1308.9375</td></tr>",
                            "<tr><td>1466.0100</td></tr>",
                            "<tr><td>1466.0100</td></tr>",
                            "<tr><td>1308.9375</td></tr>",
                            "<tr><td>1308.9375</td></tr>",
                            "<tr><td>1466.0100</td></tr>",
                            "<tr><td>1308.9375</td></tr>",
                            "<tr><td>1229.4589</td></tr>",
                            "<tr><td>1229.4589</td></tr>",
                            "<tr><td>1242.8518</td></tr>",
                            "<tr><td>1229.4589</td></tr>",
                            "<tr><td>1242.8518</td></tr>",
                            "<tr><td>1229.4589</td></tr>",
                            "<tr><td>1242.8518</td></tr>",
                            "<tr><td>1229.4589</td></tr>",
                            "<tr><td>1242.8518</td></tr>",
                            "<tr><td>1229.4589</td></tr>",
                            "<tr><td>1242.8518</td></tr>",
                            "<tr><td>1229.4589</td></tr>",
                            "<tr><td>1242.8518</td></tr>",
                            "<tr><td>1229.4589</td></tr>",
                            "<tr><td>1242.8518</td></tr>",
                            "<tr><td>1229.4589</td></tr>",
                            "<tr><td>1308.9375</td></tr>",
                            "<tr><td>1308.9375</td></tr>",
                            "<tr><td>1466.0100</td></tr>",
                            "<tr><td>1466.0100</td></tr>",
                            "<tr><td>1308.9375</td></tr>",
                            "<tr><td>1466.0100</td></tr>",
                            "<tr><td>1466.0100</td></tr>",
                            "<tr><td>1308.9375</td></tr>",
                            "<tr><td>1466.0100</td></tr>",
                            "<tr><td>1308.9375</td></tr>",
                            "<tr><td>1466.0100</td></tr>",
                            "<tr><td>1308.9375</td></tr>",
                            "<tr><td>1229.4589</td></tr>",
                            "<tr><td>1229.4589</td></tr>",
                            "<tr><td>1242.8518</td></tr>",
                            "<tr><td>1242.8518</td></tr>",
                            "<tr><td>1308.9375</td></tr>",
                            "<tr><td>1242.8518</td></tr>",
                            "<tr><td>1242.8518</td></tr>",
                            "<tr><td>1229.4589</td></tr>",
                            "<tr><td>1229.4589</td></tr>",
                            "<tr><td>1242.8518</td></tr>",
                            "<tr><td>1242.8518</td></tr>",
                            "<tr><td>1229.4589</td></tr>",
                            "<tr><td>1229.4589</td></tr>",
                            "<tr><td>1242.8518</td></tr>",
                            "<tr><td>1242.8518</td></tr>",
                            "<tr><td>1229.4589</td></tr>",
                            "<tr><td>1242.8518</td></tr>",
                            "<tr><td>1229.4589</td></tr>",
                            "<tr><td>1242.8518</td></tr>",
                            "<tr><td>1308.9375</td></tr>",
                            "<tr><td>1466.0100</td></tr>",
                            "<tr><td>1308.9375</td></tr>",
                            "<tr><td>1466.0100</td></tr>",
                            "<tr><td>1229.4589</td></tr>",
                            "<tr><td>1229.4589</td></tr>",
                            "<tr><td>1229.4589</td></tr>",
                            "<tr><td>1229.4589</td></tr>",
                            "<tr><td>1242.8518</td></tr>",
                            "<tr><td>1242.8518</td></tr>",
                            "<tr><td>1242.8518</td></tr>",
                            "<tr><td>1242.8518</td></tr>",
                            "<tr><td>1242.8518</td></tr>",
                            "<tr><td>1242.8518</td></tr>",
                            "<tr><td>1229.4589</td></tr>",
                            "<tr><td>1229.4589</td></tr>",
                            "<tr><td>1242.8518</td></tr>",
                            "<tr><td>1242.8518</td></tr>",
                            "<tr><td>1229.4589</td></tr>",
                            "<tr><td>1308.9375</td></tr>",
                            "<tr><td>1308.9375</td></tr>",
                            "<tr><td>1308.9375</td></tr>",
                            "<tr><td>1466.0100</td></tr>",
                            "<tr><td>1466.0100</td></tr>",
                            "<tr><td>1308.9375</td></tr>",
                            "<tr><td>1308.9375</td></tr>",
                            "<tr><td>1229.4589</td></tr>",
                            "<tr><td>1242.8518</td></tr>",
                            "<tr><td>1229.4589</td></tr>",
                            "<tr><td>1242.8518</td></tr>",
                            "<tr><td>1229.4589</td></tr>",
                            "<tr><td>1242.8518</td></tr>",
                            "<tr><td>1229.4589</td></tr>",
                            "<tr><td>1229.4589</td></tr>",
                            "<tr><td>1229.4589</td></tr>",
                            "<tr><td>1466.0100</td></tr>",
                            "<tr><td>1466.0100</td></tr>",
                            "<tr><td>1308.9375</td></tr>",
                            "<tr><td>1308.9375</td></tr>",
                            "<tr><td>1308.9375</td></tr>",
                            "<tr><td>1466.0100</td></tr>",
                            "<tr><td>1466.0100</td></tr>",
                            "<tr><td>1308.9375</td></tr>",
                            "<tr><td>1308.9375</td></tr>",
                            "<tr><td>1466.0100</td></tr>",
                            "<tr><td>1308.9375</td></tr>",
                            "<tr><td>1308.9375</td></tr>",
                            "<tr><td>1466.0100</td></tr>",
                            "<tr><td>1308.9375</td></tr>",
                            "<tr><td>1242.8518</td></tr>",
                            "<tr><td>1229.4589</td></tr>",
                            "<tr><td>1229.4589</td></tr>",
                            "<tr><td>1242.8518</td></tr>",
                            "<tr><td>1242.8518</td></tr>",
                            "<tr><td>1242.8518</td></tr>",
                            "<tr><td>1229.4589</td></tr>",
                            "<tr><td>1242.8518</td></tr>",
                            "<tr><td>1242.8518</td></tr>",
                            "<tr><td>1229.4589</td></tr>",
                            "<tr><td>1242.8518</td></tr>",
                            "<tr><td>1229.4589</td></tr>",
                            "<tr><td>1242.8518</td></tr>",
                            "<tr><td>1229.4589</td></tr>",
                            "<tr><td>1242.8518</td></tr>",
                            "<tr><td>1229.4589</td></tr>",
                            "<tr><td>1229.4589</td></tr>",
                            "<tr><td>1242.8518</td></tr>",
                            "<tr><td>1229.4589</td></tr>",
                            "<tr><td>1229.4589</td></tr>",
                            "<tr><td>1229.4589</td></tr>",
                            "<tr><td>1229.4589</td></tr>",
                            "<tr><td>1000.4375</td></tr>",
                            "<tr><td>1000.4375</td></tr>",
                            "<tr><td>1000.4375</td></tr>",
                            "<tr><td>1000.4375</td></tr>",
                            "<tr><td>1000.4375</td></tr>",
                            "<tr><td>1000.4375</td></tr>",
                            "<tr><td>1000.4375</td></tr>",
                            "<tr><td>1000.4375</td></tr>",
                            "<tr><td>1000.4375</td></tr>",
                            "<tr><td>1000.4375</td></tr>",
                            "<tr><td>1000.4375</td></tr>",
                            "<tr><td>1000.4375</td></tr>",
                            "<tr><td>1000.4375</td></tr>",
                            "<tr><td>1000.4375</td></tr>",
                            "<tr><td>1000.4375</td></tr>",
                            "<tr><td>1000.4375</td></tr>",
                            "<tr><td>1000.4375</td></tr>",
                            "<tr><td>1000.4375</td></tr>",
                            "<tr><td>1000.4375</td></tr>",
                            "<tr><td>1000.4375</td></tr>",
                            "<tr><td>1000.4375</td></tr>",
                            "<tr><td>1000.4375</td></tr>",
                            "<tr><td>1000.4375</td></tr>",
                            "<tr><td>1000.4375</td></tr>",
                            "<tr><td>1000.4375</td></tr>",
                            "<tr><td>1000.4375</td></tr>",
                            "<tr><td>1000.4375</td></tr>",
                            "<tr><td>1000.4375</td></tr>",
                            "<tr><td>1000.4375</td></tr>",
                            "<tr><td>1000.4375</td></tr>",
                            "<tr><td>1000.4375</td></tr>",
                            "<tr><td>1000.4375</td></tr>",
                            "<tr><td>1000.4375</td></tr>",
                            "<tr><td>1000.4375</td></tr>",
                            "<tr><td>1000.4375</td></tr>",
                            "<tr><td>1000.4375</td></tr>",
                            "<tr><td>1000.4375</td></tr>",
                            "<tr><td>1000.4375</td></tr>",
                            "<tr><td>1000.4375</td></tr>",
                            "<tr><td>1000.4375</td></tr>",
                            "<tr><td>1000.4375</td></tr>",
                            "<tr><td>1000.4375</td></tr>",
                            "<tr><td>1229.4589</td></tr>",
                            "<tr><td>1229.4589</td></tr>",
                            "<tr><td>1229.4589</td></tr>",
                            "<tr><td>1242.8518</td></tr>",
                            "<tr><td>1242.8518</td></tr>",
                            "<tr><td>1242.8518</td></tr>",
                            "<tr><td>1242.8518</td></tr>",
                            "<tr><td>1242.8518</td></tr>",
                            "<tr><td>1229.4589</td></tr>",
                            "<tr><td>1229.4589</td></tr>",
                            "<tr><td>1308.9375</td></tr>",
                            "<tr><td>1466.0100</td></tr>",
                            "<tr><td>1466.0100</td></tr>",
                            "<tr><td>1308.9375</td></tr>",
                            "<tr><td>1466.0100</td></tr>",
                            "<tr><td>1308.9375</td></tr>",
                            "<tr><td>1308.9375</td></tr>",
                            "<tr><td>1308.9375</td></tr>",
                            "<tr><td>1242.8518</td></tr>",
                            "<tr><td>1229.4589</td></tr>",
                            "<tr><td>1242.8518</td></tr>",
                            "<tr><td>1229.4589</td></tr>",
                            "<tr><td>1308.9375</td></tr>",
                            "<tr><td>1308.9375</td></tr>",
                            "<tr><td>1308.9375</td></tr>",
                            "<tr><td>1308.9375</td></tr>",
                            "<tr><td>1466.0100</td></tr>",
                            "<tr><td>1466.0100</td></tr>",
                            "<tr><td>1466.0100</td></tr>",
                            "<tr><td>1308.9375</td></tr>",
                            "<tr><td>1308.9375</td></tr>",
                            "<tr><td>1466.0100</td></tr>",
                            "<tr><td>1229.4589</td></tr>",
                            "<tr><td>1242.8518</td></tr>",
                            "<tr><td>1229.4589</td></tr>",
                            "<tr><td>1229.4589</td></tr>",
                            "<tr><td>1229.4589</td></tr>",
                            "<tr><td>1229.4589</td></tr>",
                            "<tr><td>1242.8518</td></tr>",
                            "<tr><td>1242.8518</td></tr>",
                            "<tr><td>1229.4589</td></tr>",
                            "<tr><td>1201.4234</td></tr>",
                            "<tr><td>1229.4589</td></tr>",
                            "<tr><td>1229.4589</td></tr>",
                            "<tr><td>1229.4589</td></tr>",
                            "<tr><td>1466.0100</td></tr>",
                            "<tr><td>1308.9375</td></tr>",
                            "<tr><td>1466.0100</td></tr>",
                            "<tr><td>1308.9375</td></tr>",
                            "<tr><td>1466.0100</td></tr>",
                            "<tr><td>1466.0100</td></tr>",
                            "<tr><td>1466.0100</td></tr>",
                            "<tr><td>1308.9375</td></tr>",
                            "<tr><td>1308.9375</td></tr>",
                            "<tr><td>1308.9375</td></tr>",
                            "<tr><td>1308.9375</td></tr>",
                            "<tr><td>1229.4589</td></tr>",
                            "<tr><td>1242.8518</td></tr>",
                            "<tr><td>1229.4589</td></tr>",
                            "<tr><td>1242.8518</td></tr>",
                            "<tr><td>1229.4589</td></tr>",
                            "<tr><td>1242.8518</td></tr>",
                            "<tr><td>1229.4589</td></tr>",
                            "<tr><td>1242.8518</td></tr>",
                            "<tr><td>1242.8518</td></tr>",
                            "<tr><td>1229.4589</td></tr>",
                            "<tr><td>1242.8518</td></tr>",
                            "<tr><td>1229.4589</td></tr>",
                            "<tr><td>1229.4589</td></tr>",
                            "<tr><td>1242.8518</td></tr>",
                            "<tr><td>1229.4589</td></tr>",
                            "<tr><td>1242.8518</td></tr>",
                            "<tr><td>1229.4589</td></tr>",
                            "<tr><td>1242.8518</td></tr>",
                            "<tr><td>1229.4589</td></tr>",
                            "<tr><td>1229.4589</td></tr>",
                            "<tr><td>1242.8518</td></tr>",
                            "<tr><td>1242.8518</td></tr>",
                            "<tr><td>1229.4589</td></tr>",
                            "<tr><td>1229.4589</td></tr>",
                            "<tr><td>1242.8518</td></tr>",
                            "<tr><td>1229.4589</td></tr>",
                            "<tr><td>1242.8518</td></tr>",
                            "<tr><td>1242.8518</td></tr>",
                            "<tr><td>1229.4589</td></tr>",
                            "<tr><td>1229.4589</td></tr>",
                            "<tr><td>1466.0100</td></tr>",
                            "<tr><td>1466.0100</td></tr>",
                            "<tr><td>1308.9375</td></tr>",
                            "<tr><td>1308.9375</td></tr>",
                            "<tr><td>1466.0100</td></tr>",
                            "<tr><td>1466.0100</td></tr>",
                            "<tr><td>1242.8518</td></tr>",
                            "<tr><td>1466.0100</td></tr>",
                            "<tr><td>1308.9375</td></tr>",
                            "<tr><td>1308.9375</td></tr>",
                            "<tr><td>1466.0100</td></tr>",
                            "<tr><td>1242.8518</td></tr>",
                            "<tr><td>1242.8518</td></tr>",
                            "<tr><td>1229.4589</td></tr>",
                            "<tr><td>1229.4589</td></tr>",
                            "<tr><td>1229.4589</td></tr>",
                            "<tr><td>1229.4589</td></tr>",
                            "<tr><td>1242.8518</td></tr>",
                            "<tr><td>1229.4589</td></tr>",
                            "<tr><td>1229.4589</td></tr>",
                            "<tr><td>1242.8518</td></tr>",
                            "<tr><td>1242.8518</td></tr>",
                            "<tr><td>1308.9375</td></tr>",
                            "<tr><td>1308.9375</td></tr>",
                            "<tr><td>1242.8518</td></tr>",
                            "<tr><td>1229.4589</td></tr>",
                            "<tr><td>1229.4589</td></tr>",
                            "<tr><td>1229.4589</td></tr>",
                            "<tr><td>1242.8518</td></tr>",
                            "<tr><td>1242.8518</td></tr>",
                            "<tr><td>1308.9375</td></tr>",
                            "<tr><td>1308.9375</td></tr>",
                            "<tr><td>1466.0100</td></tr>",
                            "<tr><td>1229.4589</td></tr>",
                            "<tr><td>1229.4589</td></tr>",
                            "<tr><td>1466.0100</td></tr>",
                            "<tr><td>1308.9375</td></tr>",
                            "<tr><td>1308.9375</td></tr>",
                            "<tr><td>1466.0100</td></tr>",
                            "<tr><td>1308.9375</td></tr>",
                            "<tr><td>1308.9375</td></tr>",
                            "<tr><td>1308.9375</td></tr>",
                            "<tr><td>1466.0100</td></tr>",
                            "<tr><td>1229.4589</td></tr>",
                            "<tr><td>1242.8518</td></tr>",
                            "<tr><td>1242.8518</td></tr>",
                            "<tr><td>1242.8518</td></tr>",
                            "<tr><td>1229.4589</td></tr>",
                            "<tr><td>1229.4589</td></tr>",
                            "<tr><td>1229.4589</td></tr>",
                            "<tr><td>1229.4589</td></tr>",
                            "<tr><td>1229.4589</td></tr>",
                            "<tr><td>1242.8518</td></tr>",
                            "<tr><td>1242.8518</td></tr>",
                            "<tr><td>1242.8518</td></tr>",
                            "<tr><td>1242.8518</td></tr>",
                            "<tr><td>1229.4589</td></tr>",
                            "<tr><td>1308.9375</td></tr>",
                            "<tr><td>1466.0100</td></tr>",
                            "<tr><td>1466.0100</td></tr>",
                            "<tr><td>1308.9375</td></tr>",
                            "<tr><td>1308.9375</td></tr>",
                            "<tr><td>1466.0100</td></tr>",
                            "<tr><td>1308.9375</td></tr>",
                            "<tr><td>1466.0100</td></tr>",
                            "<tr><td>1466.0100</td></tr>",
                            "<tr><td>1466.0100</td></tr>",
                            "<tr><td>1308.9375</td></tr>",
                            "<tr><td>1308.9375</td></tr>",
                            "<tr><td>1308.9375</td></tr>",
                            "<tr><td>1308.9375</td></tr>",
                            "<tr><td>1466.0100</td></tr>",
                            "<tr><td>1466.0100</td></tr>",
                            "<tr><td>1308.9375</td></tr>",
                            "<tr><td>1000.4375</td></tr>",
                            "<tr><td>1000.4375</td></tr>",
                            "<tr><td>1000.4375</td></tr>",
                            "<tr><td>1000.4375</td></tr>",
                            "<tr><td>1000.4375</td></tr>",
                            "<tr><td>1000.4375</td></tr>",
                            "<tr><td>1000.4375</td></tr>",
                            "<tr><td>1000.4375</td></tr>",
                            "<tr><td>1000.4375</td></tr>",
                            "<tr><td>1000.4375</td></tr>",
                            "<tr><td>1000.4375</td></tr>",
                            "<tr><td>1000.4375</td></tr>",
                            "<tr><td>1000.4375</td></tr>",
                            "<tr><td>1000.4375</td></tr>",
                            "<tr><td>1000.4375</td></tr>",
                            "<tr><td>1000.4375</td></tr>",
                            "<tr><td>1000.4375</td></tr>",
                            "<tr><td>1000.4375</td></tr>",
                            "<tr><td>1000.4375</td></tr>",
                            "<tr><td>1000.4375</td></tr>",
                            "<tr><td>1000.4375</td></tr>",
                            "<tr><td>1000.4375</td></tr>",
                            "<tr><td>1000.4375</td></tr>",
                            "<tr><td>1000.4375</td></tr>",
                            "<tr><td>1000.4375</td></tr>",
                            "<tr><td>1229.4589</td></tr>",
                            "<tr><td>1229.4589</td></tr>",
                            "<tr><td>1242.8518</td></tr>",
                            "<tr><td>1229.4589</td></tr>",
                            "<tr><td>1229.4589</td></tr>",
                            "<tr><td>1242.8518</td></tr>",
                            "<tr><td>1308.9375</td></tr>",
                            "<tr><td>1229.4589</td></tr>",
                            "<tr><td>1242.8518</td></tr>",
                            "<tr><td>1308.9375</td></tr>",
                            "<tr><td>1466.0100</td></tr>",
                            "<tr><td>1308.9375</td></tr>",
                            "<tr><td>1466.0100</td></tr>",
                            "<tr><td>1466.0100</td></tr>",
                            "<tr><td>1308.9375</td></tr>",
                            "<tr><td>1308.9375</td></tr>",
                            "<tr><td>1308.9375</td></tr>",
                            "<tr><td>1229.4589</td></tr>",
                            "<tr><td>1242.8518</td></tr>",
                            "<tr><td>1242.8518</td></tr>",
                            "<tr><td>1229.4589</td></tr>",
                            "<tr><td>1242.8518</td></tr>",
                            "<tr><td>1229.4589</td></tr>",
                            "<tr><td>1229.4589</td></tr>",
                            "<tr><td>1308.9375</td></tr>",
                            "<tr><td>1466.0100</td></tr>",
                            "<tr><td>1308.9375</td></tr>",
                            "<tr><td>1466.0100</td></tr>",
                            "<tr><td>1229.4589</td></tr>",
                            "<tr><td>1229.4589</td></tr>",
                            "<tr><td>1229.4589</td></tr>",
                            "<tr><td>1242.8518</td></tr>",
                            "<tr><td>1229.4589</td></tr>",
                            "<tr><td>1242.8518</td></tr>",
                            "<tr><td>1242.8518</td></tr>",
                            "<tr><td>1229.4589</td></tr>",
                            "<tr><td>1229.4589</td></tr>",
                            "<tr><td>1242.8518</td></tr>",
                            "<tr><td>1242.8518</td></tr>",
                            "<tr><td>1242.8518</td></tr>",
                            "<tr><td>1242.8518</td></tr>",
                            "<tr><td>1242.8518</td></tr>",
                            "<tr><td>1308.9375</td></tr>",
                            "<tr><td>1466.0100</td></tr>",
                            "<tr><td>1308.9375</td></tr>",
                            "<tr><td>1466.0100</td></tr>",
                            "<tr><td>1308.9375</td></tr>",
                            "<tr><td>1466.0100</td></tr>",
                            "<tr><td>1466.0100</td></tr>",
                            "<tr><td>1308.9375</td></tr>",
                            "<tr><td>1242.8518</td></tr>",
                            "<tr><td>1466.0100</td></tr>",
                            "<tr><td>1466.0100</td></tr>",
                            "<tr><td>1308.9375</td></tr>",
                            "<tr><td>1308.9375</td></tr>",
                            "<tr><td>1242.8518</td></tr>",
                            "<tr><td>1242.8518</td></tr>",
                            "<tr><td>1229.4589</td></tr>",
                            "<tr><td>1308.9375</td></tr>",
                            "<tr><td>1466.0100</td></tr>",
                            "<tr><td>1308.9375</td></tr>",
                            "<tr><td>1466.0100</td></tr>",
                            "<tr><td>1466.0100</td></tr>",
                            "<tr><td>1308.9375</td></tr>",
                            "<tr><td>1308.9375</td></tr>",
                            "<tr><td>1466.0100</td></tr>",
                            "<tr><td>1308.9375</td></tr>",
                            "<tr><td>1308.9375</td></tr>",
                            "<tr><td>1466.0100</td></tr>",
                            "<tr><td>1242.8518</td></tr>",
                            "<tr><td>1229.4589</td></tr>",
                            "<tr><td>1229.4589</td></tr>",
                            "<tr><td>1242.8518</td></tr>",
                            "<tr><td>1242.8518</td></tr>",
                            "<tr><td>1229.4589</td></tr>",
                            "<tr><td>1229.4589</td></tr>",
                            "<tr><td>1229.4589</td></tr>",
                            "<tr><td>1242.8518</td></tr>",
                            "<tr><td>1242.8518</td></tr>",
                            "<tr><td>1242.8518</td></tr>",
                            "<tr><td>1229.4589</td></tr>",
                            "<tr><td>1229.4589</td></tr>",
                            "<tr><td>1242.8518</td></tr>",
                            "<tr><td>1242.8518</td></tr>",
                            "<tr><td>1229.4589</td></tr>",
                            "<tr><td>1308.9375</td></tr>",
                            "<tr><td>1308.9375</td></tr>",
                            "<tr><td>1308.9375</td></tr>",
                            "<tr><td>1466.0100</td></tr>",
                            "<tr><td>1308.9375</td></tr>",
                            "<tr><td>1466.0100</td></tr>",
                            "<tr><td>1308.9375</td></tr>",
                            "<tr><td>1229.4589</td></tr>",
                            "<tr><td>1308.9375</td></tr>",
                            "<tr><td>1466.0100</td></tr>",
                            "<tr><td>1308.9375</td></tr>",
                            "<tr><td>1466.0100</td></tr>",
                            "<tr><td>1308.9375</td></tr>",
                            "<tr><td>1466.0100</td></tr>",
                            "<tr><td>1308.9375</td></tr>",
                            "<tr><td>1308.9375</td></tr>",
                            "<tr><td>1466.0100</td></tr>",
                            "<tr><td>1308.9375</td></tr>",
                            "<tr><td>1466.0100</td></tr>",
                            "<tr><td>1308.9375</td></tr>",
                            "<tr><td>1308.9375</td></tr>",
                            "<tr><td>1308.9375</td></tr>",
                            "<tr><td>1308.9375</td></tr>",
                            "<tr><td>1242.8518</td></tr>",
                            "<tr><td>1229.4589</td></tr>",
                            "<tr><td>1242.8518</td></tr>",
                            "<tr><td>1242.8518</td></tr>",
                            "<tr><td>1242.8518</td></tr>",
                            "<tr><td>1229.4589</td></tr>",
                            "<tr><td>1229.4589</td></tr>",
                            "<tr><td>1308.9375</td></tr>",
                            "<tr><td>1466.0100</td></tr>",
                            "<tr><td>1466.0100</td></tr>",
                            "<tr><td>1308.9375</td></tr>",
                            "<tr><td>1308.9375</td></tr>",
                            "<tr><td>1466.0100</td></tr>",
                            "<tr><td>1308.9375</td></tr>",
                            "<tr><td>1229.4589</td></tr>",
                            "<tr><td>1242.8518</td></tr>",
                            "<tr><td>1242.8518</td></tr>",
                            "<tr><td>1242.8518</td></tr>",
                            "<tr><td>1229.4589</td></tr>",
                            "<tr><td>1229.4589</td></tr>",
                            "<tr><td>1229.4589</td></tr>",
                            "<tr><td>1242.8518</td></tr>",
                            "<tr><td>1229.4589</td></tr>",
                            "<tr><td>1242.8518</td></tr>",
                            "<tr><td>1308.9375</td></tr>",
                            "<tr><td>1308.9375</td></tr>",
                            "<tr><td>1466.0100</td></tr>",
                            "<tr><td>1466.0100</td></tr>",
                            "<tr><td>1308.9375</td></tr>",
                            "<tr><td>1466.0100</td></tr>",
                            "<tr><td>1308.9375</td></tr>",
                            "<tr><td>1308.9375</td></tr>",
                            "<tr><td>1242.8518</td></tr>",
                            "<tr><td>1229.4589</td></tr>",
                            "<tr><td>1229.4589</td></tr>",
                            "<tr><td>1229.4589</td></tr>",
                            "<tr><td>1308.9375</td></tr>",
                            "<tr><td>1308.9375</td></tr>",
                            "<tr><td>1466.0100</td></tr>",
                            "<tr><td>1308.9375</td></tr>",
                            "<tr><td>1308.9375</td></tr>",
                            "<tr><td>1308.9375</td></tr>",
                            "<tr><td>1308.9375</td></tr>",
                            "<tr><td>1466.0100</td></tr>",
                            "<tr><td>1308.9375</td></tr>",
                            "<tr><td>1466.0100</td></tr>",
                            "<tr><td>1466.0100</td></tr>",
                            "<tr><td>1242.8518</td></tr>",
                            "<tr><td>1242.8518</td></tr>",
                            "<tr><td>1229.4589</td></tr>",
                            "<tr><td>1229.4589</td></tr>",
                            "<tr><td>1229.4589</td></tr>",
                            "<tr><td>1229.4589</td></tr>",
                            "<tr><td>1229.4589</td></tr>",
                            "<tr><td>1242.8518</td></tr>",
                            "<tr><td>1242.8518</td></tr>",
                            "<tr><td>1229.4589</td></tr>",
                            "<tr><td>1242.8518</td></tr>",
                            "<tr><td>1242.8518</td></tr>",
                            "<tr><td>1229.4589</td></tr>",
                            "<tr><td>1229.4589</td></tr>",
                            "<tr><td>1229.4589</td></tr>",
                            "<tr><td>1242.8518</td></tr>",
                            "<tr><td>1242.8518</td></tr>",
                            "<tr><td>1308.9375</td></tr>",
                            "<tr><td>1466.0100</td></tr>",
                            "<tr><td>1466.0100</td></tr>",
                            "<tr><td>1308.9375</td></tr>",
                            "<tr><td>1466.0100</td></tr>",
                            "<tr><td>1466.0100</td></tr>",
                            "<tr><td>1308.9375</td></tr>",
                            "<tr><td>1308.9375</td></tr>",
                            "<tr><td>1308.9375</td></tr>",
                            "<tr><td>1466.0100</td></tr>",
                            "<tr><td>1229.4589</td></tr>",
                            "<tr><td>1242.8518</td></tr>",
                            "<tr><td>1229.4589</td></tr>",
                            "<tr><td>1229.4589</td></tr>",
                            "<tr><td>1242.8518</td></tr>",
                            "<tr><td>1242.8518</td></tr>",
                            "<tr><td>1308.9375</td></tr>",
                            "<tr><td>1308.9375</td></tr>",
                            "<tr><td>1466.0100</td></tr>",
                            "<tr><td>1466.0100</td></tr>",
                            "<tr><td>1229.4589</td></tr>",
                            "<tr><td>1308.9375</td></tr>",
                            "<tr><td>1308.9375</td></tr>",
                            "<tr><td>1308.9375</td></tr>",
                            "<tr><td>1466.0100</td></tr>",
                            "<tr><td>1466.0100</td></tr>",
                            "<tr><td>1308.9375</td></tr>",
                            "<tr><td>1466.0100</td></tr>",
                            "<tr><td>1229.4589</td></tr>",
                            "<tr><td>1229.4589</td></tr>",
                            "<tr><td>1242.8518</td></tr>",
                            "<tr><td>1242.8518</td></tr>",
                            "<tr><td>1229.4589</td></tr>",
                            "<tr><td>1242.8518</td></tr>",
                            "<tr><td>1242.8518</td></tr>",
                            "<tr><td>1242.8518</td></tr>",
                            "<tr><td>1229.4589</td></tr>",
                            "<tr><td>1229.4589</td></tr>",
                            "<tr><td>1229.4589</td></tr>",
                            "<tr><td>1242.8518</td></tr>",
                            "<tr><td>1308.9375</td></tr>",
                            "<tr><td>1308.9375</td></tr>",
                            "<tr><td>1308.9375</td></tr>",
                            "<tr><td>1308.9375</td></tr>",
                            "<tr><td>1308.9375</td></tr>",
                            "<tr><td>1466.0100</td></tr>",
                            "<tr><td>1466.0100</td></tr>",
                            "<tr><td>1242.8518</td></tr>",
                            "<tr><td>1242.8518</td></tr>",
                            "<tr><td>1229.4589</td></tr>",
                            "<tr><td>1242.8518</td></tr>",
                            "<tr><td>1229.4589</td></tr>",
                            "<tr><td>1229.4589</td></tr>",
                            "<tr><td>1308.9375</td></tr>",
                            "<tr><td>1229.4589</td></tr>",
                            "<tr><td>1229.4589</td></tr>",
                            "<tr><td>1242.8518</td></tr>",
                            "<tr><td>1242.8518</td></tr>",
                            "<tr><td>1229.4589</td></tr>",
                            "<tr><td>1242.8518</td></tr>",
                            "<tr><td>1229.4589</td></tr>",
                            "<tr><td>1229.4589</td></tr>",
                            "<tr><td>1308.9375</td></tr>",
                            "<tr><td>1466.0100</td></tr>",
                            "<tr><td>1308.9375</td></tr>",
                            "<tr><td>1466.0100</td></tr>",
                            "<tr><td>1466.0100</td></tr>",
                            "<tr><td>1308.9375</td></tr>",
                            "<tr><td>1308.9375</td></tr>",
                            "<tr><td>1242.8518</td></tr>",
                            "<tr><td>1242.8518</td></tr>",
                            "<tr><td>1242.8518</td></tr>",
                            "<tr><td>1229.4589</td></tr>",
                            "<tr><td>1229.4589</td></tr>",
                            "<tr><td>1466.0100</td></tr>",
                            "<tr><td>1308.9375</td></tr>",
                            "<tr><td>1308.9375</td></tr>",
                            "<tr><td>1308.9375</td></tr>",
                            "<tr><td>1308.9375</td></tr>",
                            "<tr><td>1466.0100</td></tr>",
                            "<tr><td>1229.4589</td></tr>",
                            "<tr><td>1229.4589</td></tr>",
                            "<tr><td>1229.4589</td></tr>",
                            "<tr><td>1242.8518</td></tr>",
                            "<tr><td>1229.4589</td></tr>",
                            "<tr><td>1229.4589</td></tr>",
                            "<tr><td>1242.8518</td></tr>",
                            "<tr><td>1308.9375</td></tr>",
                            "<tr><td>1308.9375</td></tr>",
                            "<tr><td>1308.9375</td></tr>",
                            "<tr><td>1466.0100</td></tr>",
                            "<tr><td>1466.0100</td></tr>",
                            "<tr><td>1308.9375</td></tr>",
                            "<tr><td>1466.0100</td></tr>",
                            "<tr><td>1308.9375</td></tr>",
                            "<tr><td>1242.8518</td></tr>",
                            "<tr><td>1242.8518</td></tr>",
                            "<tr><td>1242.8518</td></tr>",
                            "<tr><td>1229.4589</td></tr>",
                            "<tr><td>1229.4589</td></tr>",
                            "<tr><td>1229.4589</td></tr>",
                            "<tr><td>1242.8518</td></tr>",
                            "<tr><td>1242.8518</td></tr>",
                            "<tr><td>1229.4589</td></tr>",
                            "<tr><td>1242.8518</td></tr>",
                            "<tr><td>1229.4589</td></tr>",
                            "<tr><td>1229.4589</td></tr>",
                            "<tr><td>1242.8518</td></tr>",
                            "<tr><td>1229.4589</td></tr>",
                            "<tr><td>1242.8518</td></tr>",
                            "<tr><td>1242.8518</td></tr>",
                            "<tr><td>1229.4589</td></tr>",
                            "<tr><td>1308.9375</td></tr>",
                            "<tr><td>1242.8518</td></tr>",
                            "<tr><td>1242.8518</td></tr>",
                            "<tr><td>1242.8518</td></tr>",
                            "<tr><td>1229.4589</td></tr>",
                            "<tr><td>1229.4589</td></tr>",
                            "<tr><td>1229.4589</td></tr>",
                            "<tr><td>1308.9375</td></tr>",
                            "<tr><td>1466.0100</td></tr>",
                            "<tr><td>1466.0100</td></tr>",
                            "<tr><td>1308.9375</td></tr>",
                            "<tr><td>1308.9375</td></tr>",
                            "<tr><td>1308.9375</td></tr>",
                            "<tr><td>1466.0100</td></tr>",
                            "<tr><td>1308.9375</td></tr>",
                            "<tr><td>1466.0100</td></tr>",
                            "<tr><td>1308.9375</td></tr>",
                            "<tr><td>1308.9375</td></tr>",
                            "<tr><td>1466.0100</td></tr>",
                            "<tr><td>1308.9375</td></tr>",
                            "<tr><td>1308.9375</td></tr>",
                            "<tr><td>1308.9375</td></tr>",
                            "<tr><td>1466.0100</td></tr>",
                            "<tr><td>1308.9375</td></tr>",
                            "<tr><td>1466.0100</td></tr>",
                            "<tr><td>1229.4589</td></tr>",
                            "<tr><td>1242.8518</td></tr>",
                            "<tr><td>1229.4589</td></tr>",
                            "<tr><td>1229.4589</td></tr>",
                            "<tr><td>1242.8518</td></tr>",
                            "<tr><td>1242.8518</td></tr>",
                            "<tr><td>1229.4589</td></tr>",
                            "<tr><td>1242.8518</td></tr>",
                            "<tr><td>1188.4770</td></tr>",
                            "<tr><td>1229.4589</td></tr>",
                            "<tr><td>1308.9375</td></tr>",
                            "<tr><td>1466.0100</td></tr>",
                            "<tr><td>1466.0100</td></tr>",
                            "<tr><td>1308.9375</td></tr>",
                            "<tr><td>1466.0100</td></tr>",
                            "<tr><td>1308.9375</td></tr>",
                            "<tr><td>1308.9375</td></tr>",
                            "<tr><td>1308.9375</td></tr>",
                            "<tr><td>1466.0100</td></tr>",
                            "<tr><td>1308.9375</td></tr>",
                            "<tr><td>1466.0100</td></tr>",
                            "<tr><td>1308.9375</td></tr>",
                            "<tr><td>1229.4589</td></tr>",
                            "<tr><td>1000.4375</td></tr>",
                            "<tr><td>1000.4375</td></tr>",
                            "<tr><td>1000.4375</td></tr>",
                            "<tr><td>1000.4375</td></tr>",
                            "<tr><td>1000.4375</td></tr>",
                            "<tr><td>1000.4375</td></tr>",
                            "<tr><td>1000.4375</td></tr>",
                            "<tr><td>1000.4375</td></tr>",
                            "<tr><td>1000.4375</td></tr>",
                            "<tr><td>1000.4375</td></tr>",
                            "<tr><td>1000.4375</td></tr>",
                            "<tr><td>1000.4375</td></tr>",
                            "<tr><td>1000.4375</td></tr>",
                            "<tr><td>1000.4375</td></tr>",
                            "<tr><td>1000.4375</td></tr>",
                            "<tr><td>1000.4375</td></tr>",
                            "<tr><td>1000.4375</td></tr>",
                            "<tr><td>1000.4375</td></tr>",
                            "<tr><td>1000.4375</td></tr>",
                            "<tr><td>1000.4375</td></tr>",
                            "<tr><td>1000.4375</td></tr>",
                            "<tr><td>1000.4375</td></tr>",
                            "<tr><td>1000.4375</td></tr>",
                            "<tr><td>1000.4375</td></tr>",
                            "<tr><td>1000.4375</td></tr>",
                            "<tr><td>1000.4375</td></tr>",
                            "<tr><td>1000.4375</td></tr>",
                            "<tr><td>1000.4375</td></tr>",
                            "<tr><td>1308.9375</td></tr>",
                            "<tr><td>1229.4589</td></tr>",
                            "<tr><td>1242.8518</td></tr>",
                            "<tr><td>1229.4589</td></tr>",
                            "<tr><td>1242.8518</td></tr>",
                            "<tr><td>1229.4589</td></tr>",
                            "<tr><td>1229.4589</td></tr>",
                            "<tr><td>1229.4589</td></tr>",
                            "<tr><td>1308.9375</td></tr>",
                            "<tr><td>1242.8518</td></tr>",
                            "<tr><td>1229.4589</td></tr>",
                            "<tr><td>1466.0100</td></tr>",
                            "<tr><td>1229.4589</td></tr>",
                            "<tr><td>1242.8518</td></tr>",
                            "<tr><td>1229.4589</td></tr>",
                            "<tr><td>1242.8518</td></tr>",
                            "<tr><td>1229.4589</td></tr>",
                            "<tr><td>1466.0100</td></tr>",
                            "<tr><td>1308.9375</td></tr>",
                            "<tr><td>1308.9375</td></tr>",
                            "<tr><td>1466.0100</td></tr>",
                            "<tr><td>1308.9375</td></tr>",
                            "<tr><td>1466.0100</td></tr>",
                            "<tr><td>1229.4589</td></tr>",
                            "<tr><td>1229.4589</td></tr>",
                            "<tr><td>1242.8518</td></tr>",
                            "<tr><td>1229.4589</td></tr>",
                            "<tr><td>1229.4589</td></tr>",
                            "<tr><td>1242.8518</td></tr>",
                            "<tr><td>1242.8518</td></tr>",
                            "<tr><td>1229.4589</td></tr>",
                            "<tr><td>1242.8518</td></tr>",
                            "<tr><td>1229.4589</td></tr>",
                            "<tr><td>1242.8518</td></tr>",
                            "<tr><td>1229.4589</td></tr>",
                            "<tr><td>1229.4589</td></tr>",
                            "<tr><td>1242.8518</td></tr>",
                            "<tr><td>1229.4589</td></tr>",
                            "<tr><td>1242.8518</td></tr>",
                            "<tr><td>1242.8518</td></tr>",
                            "<tr><td>1229.4589</td></tr>",
                            "<tr><td>1229.4589</td></tr>",
                            "<tr><td>1242.8518</td></tr>",
                            "<tr><td>1242.8518</td></tr>",
                            "<tr><td>1229.4589</td></tr>",
                            "<tr><td>1308.9375</td></tr>",
                            "<tr><td>1466.0100</td></tr>",
                            "<tr><td>1308.9375</td></tr>",
                            "<tr><td>1466.0100</td></tr>",
                            "<tr><td>1466.0100</td></tr>",
                            "<tr><td>1308.9375</td></tr>",
                            "<tr><td>1308.9375</td></tr>",
                            "<tr><td>1466.0100</td></tr>",
                            "<tr><td>1466.0100</td></tr>",
                            "<tr><td>1466.0100</td></tr>",
                            "<tr><td>1308.9375</td></tr>",
                            "<tr><td>1308.9375</td></tr>",
                            "<tr><td>1466.0100</td></tr>",
                            "<tr><td>1308.9375</td></tr>",
                            "<tr><td>1308.9375</td></tr>",
                            "<tr><td>1308.9375</td></tr>",
                            "<tr><td>1242.8518</td></tr>",
                            "<tr><td>1229.4589</td></tr>",
                            "<tr><td>1242.8518</td></tr>",
                            "<tr><td>1242.8518</td></tr>",
                            "<tr><td>1229.4589</td></tr>",
                            "<tr><td>1229.4589</td></tr>",
                            "<tr><td>1229.4589</td></tr>",
                            "<tr><td>1229.4589</td></tr>",
                            "<tr><td>1229.4589</td></tr>",
                            "<tr><td>1242.8518</td></tr>",
                            "<tr><td>1242.8518</td></tr>",
                            "<tr><td>1242.8518</td></tr>",
                            "<tr><td>1229.4589</td></tr>",
                            "<tr><td>1229.4589</td></tr>",
                            "<tr><td>1308.9375</td></tr>",
                            "<tr><td>1466.0100</td></tr>",
                            "<tr><td>1308.9375</td></tr>",
                            "<tr><td>1308.9375</td></tr>",
                            "<tr><td>1466.0100</td></tr>",
                            "<tr><td>1308.9375</td></tr>",
                            "<tr><td>1466.0100</td></tr>",
                            "<tr><td>1308.9375</td></tr>",
                            "<tr><td>1229.4589</td></tr>",
                            "<tr><td>1466.0100</td></tr>",
                            "<tr><td>1308.9375</td></tr>",
                            "<tr><td>1466.0100</td></tr>",
                            "<tr><td>1308.9375</td></tr>",
                            "<tr><td>1229.4589</td></tr>",
                            "<tr><td>1242.8518</td></tr>",
                            "<tr><td>1229.4589</td></tr>",
                            "<tr><td>1466.0100</td></tr>",
                            "<tr><td>1308.9375</td></tr>",
                            "<tr><td>1229.4589</td></tr>",
                            "<tr><td>1242.8518</td></tr>",
                            "<tr><td>1229.4589</td></tr>",
                            "<tr><td>1242.8518</td></tr>",
                            "<tr><td>1229.4589</td></tr>",
                            "<tr><td>1466.0100</td></tr>",
                            "<tr><td>1308.9375</td></tr>",
                            "<tr><td>1308.9375</td></tr>",
                            "<tr><td>1242.8518</td></tr>",
                            "<tr><td>1242.8518</td></tr>",
                            "<tr><td>1229.4589</td></tr>",
                            "<tr><td>1229.4589</td></tr>",
                            "<tr><td>1466.0100</td></tr>",
                            "<tr><td>1308.9375</td></tr>",
                            "<tr><td>1466.0100</td></tr>",
                            "<tr><td>1308.9375</td></tr>",
                            "<tr><td>1466.0100</td></tr>",
                            "<tr><td>1308.9375</td></tr>",
                            "<tr><td>1308.9375</td></tr>",
                            "<tr><td>1308.9375</td></tr>",
                            "<tr><td>1466.0100</td></tr>",
                            "<tr><td>1466.0100</td></tr>",
                            "<tr><td>1308.9375</td></tr>",
                            "<tr><td>1308.9375</td></tr>",
                            "<tr><td>1229.4589</td></tr>",
                            "<tr><td>1242.8518</td></tr>",
                            "<tr><td>1242.8518</td></tr>",
                            "<tr><td>1229.4589</td></tr>",
                            "<tr><td>1229.4589</td></tr>",
                            "<tr><td>1242.8518</td></tr>",
                            "<tr><td>1242.8518</td></tr>",
                            "<tr><td>1229.4589</td></tr>",
                            "<tr><td>1229.4589</td></tr>",
                            "<tr><td>1229.4589</td></tr>",
                            "<tr><td>1242.8518</td></tr>",
                            "<tr><td>1308.9375</td></tr>",
                            "<tr><td>1466.0100</td></tr>",
                            "<tr><td>1308.9375</td></tr>",
                            "<tr><td>1308.9375</td></tr>",
                            "<tr><td>1308.9375</td></tr>",
                            "<tr><td>1466.0100</td></tr>",
                            "<tr><td>1308.9375</td></tr>",
                            "<tr><td>1466.0100</td></tr>",
                            "<tr><td>1308.9375</td></tr>",
                            "<tr><td>1229.4589</td></tr>",
                            "<tr><td>1242.8518</td></tr>",
                            "<tr><td>1229.4589</td></tr>",
                            "<tr><td>1229.4589</td></tr>",
                            "<tr><td>1242.8518</td></tr>",
                            "<tr><td>1308.9375</td></tr>",
                            "<tr><td>1308.9375</td></tr>",
                            "<tr><td>1308.9375</td></tr>",
                            "<tr><td>1466.0100</td></tr>",
                            "<tr><td>1466.0100</td></tr>",
                            "<tr><td>1308.9375</td></tr>",
                            "<tr><td>1308.9375</td></tr>",
                            "<tr><td>1308.9375</td></tr>",
                            "<tr><td>1466.0100</td></tr>",
                            "<tr><td>1466.0100</td></tr>",
                            "<tr><td>1466.0100</td></tr>",
                            "<tr><td>1308.9375</td></tr>",
                            "<tr><td>1466.0100</td></tr>",
                            "<tr><td>1308.9375</td></tr>",
                            "<tr><td>1308.9375</td></tr>",
                            "<tr><td>1308.9375</td></tr>",
                            "<tr><td>1308.9375</td></tr>",
                            "<tr><td>1242.8518</td></tr>",
                            "<tr><td>1242.8518</td></tr>",
                            "<tr><td>1229.4589</td></tr>",
                            "<tr><td>1229.4589</td></tr>",
                            "<tr><td>1229.4589</td></tr>",
                            "<tr><td>1242.8518</td></tr>",
                            "<tr><td>1242.8518</td></tr>",
                            "<tr><td>1229.4589</td></tr>",
                            "<tr><td>1242.8518</td></tr>",
                            "<tr><td>1242.8518</td></tr>",
                            "<tr><td>1229.4589</td></tr>",
                            "<tr><td>1242.8518</td></tr>",
                            "<tr><td>1229.4589</td></tr>",
                            "<tr><td>1242.8518</td></tr>",
                            "<tr><td>1242.8518</td></tr>",
                            "<tr><td>1466.0100</td></tr>",
                            "<tr><td>1466.0100</td></tr>",
                            "<tr><td>1308.9375</td></tr>",
                            "<tr><td>1308.9375</td></tr>",
                            "<tr><td>1229.4589</td></tr>",
                            "<tr><td>1229.4589</td></tr>",
                            "<tr><td>1229.4589</td></tr>",
                            "<tr><td>1242.8518</td></tr>",
                            "<tr><td>1242.8518</td></tr>",
                            "<tr><td>1229.4589</td></tr>",
                            "<tr><td>1242.8518</td></tr>",
                            "<tr><td>1466.0100</td></tr>",
                            "<tr><td>1466.0100</td></tr>",
                            "<tr><td>1308.9375</td></tr>",
                            "<tr><td>1229.4589</td></tr>",
                            "<tr><td>1229.4589</td></tr>",
                            "<tr><td>1242.8518</td></tr>",
                            "<tr><td>1242.8518</td></tr>",
                            "<tr><td>1229.4589</td></tr>",
                            "<tr><td>1242.8518</td></tr>",
                            "<tr><td>1229.4589</td></tr>",
                            "<tr><td>1308.9375</td></tr>",
                            "<tr><td>1242.8518</td></tr>",
                            "<tr><td>1229.4589</td></tr>",
                            "<tr><td>1242.8518</td></tr>",
                            "<tr><td>1242.8518</td></tr>",
                            "<tr><td>1229.4589</td></tr>",
                            "<tr><td>1242.8518</td></tr>",
                            "<tr><td>1229.4589</td></tr>",
                            "<tr><td>1242.8518</td></tr>",
                            "<tr><td>1242.8518</td></tr>",
                            "<tr><td>1466.0100</td></tr>",
                            "<tr><td>1308.9375</td></tr>",
                            "<tr><td>1242.8518</td></tr>",
                            "<tr><td>1229.4589</td></tr>",
                            "<tr><td>1229.4589</td></tr>",
                            "<tr><td>1229.4589</td></tr>",
                            "<tr><td>1242.8518</td></tr>",
                            "<tr><td>1229.4589</td></tr>",
                            "<tr><td>1242.8518</td></tr>",
                            "<tr><td>1242.8518</td></tr>",
                            "<tr><td>1242.8518</td></tr>",
                            "<tr><td>1242.8518</td></tr>",
                            "<tr><td>1229.4589</td></tr>",
                            "<tr><td>1229.4589</td></tr>",
                            "<tr><td>1229.4589</td></tr>",
                            "<tr><td>1229.4589</td></tr>",
                            "<tr><td>1242.8518</td></tr>",
                            "<tr><td>1000.4375</td></tr>",
                            "<tr><td>1000.4375</td></tr>",
                            "<tr><td>1000.4375</td></tr>",
                            "<tr><td>1000.4375</td></tr>",
                            "<tr><td>1000.4375</td></tr>",
                            "<tr><td>1000.4375</td></tr>",
                            "<tr><td>1000.4375</td></tr>",
                            "<tr><td>1000.4375</td></tr>",
                            "<tr><td>1000.4375</td></tr>",
                            "<tr><td>1000.4375</td></tr>",
                            "<tr><td>1000.4375</td></tr>",
                            "<tr><td>1000.4375</td></tr>",
                            "<tr><td>1000.4375</td></tr>",
                            "<tr><td>1000.4375</td></tr>",
                            "<tr><td>1000.4375</td></tr>",
                            "<tr><td>1000.4375</td></tr>",
                            "<tr><td>1000.4375</td></tr>",
                            "<tr><td>1000.4375</td></tr>",
                            "<tr><td>1000.4375</td></tr>",
                            "<tr><td>1000.4375</td></tr>",
                            "<tr><td>1000.4375</td></tr>",
                            "<tr><td>1000.4375</td></tr>",
                            "<tr><td>1000.4375</td></tr>",
                            "<tr><td>1000.4375</td></tr>",
                            "<tr><td>1000.4375</td></tr>",
                            "<tr><td>1000.4375</td></tr>",
                            "<tr><td>1000.4375</td></tr>",
                            "<tr><td>1000.4375</td></tr>",
                            "<tr><td>1308.9375</td></tr>",
                            "<tr><td>1308.9375</td></tr>",
                            "<tr><td>1466.0100</td></tr>",
                            "<tr><td>1308.9375</td></tr>",
                            "<tr><td>1308.9375</td></tr>",
                            "<tr><td>1466.0100</td></tr>",
                            "<tr><td>1308.9375</td></tr>",
                            "<tr><td>1466.0100</td></tr>",
                            "<tr><td>1242.8518</td></tr>",
                            "<tr><td>1229.4589</td></tr>",
                            "<tr><td>1229.4589</td></tr>",
                            "<tr><td>1242.8518</td></tr>",
                            "<tr><td>1229.4589</td></tr>",
                            "<tr><td>1242.8518</td></tr>",
                            "<tr><td>1229.4589</td></tr>",
                            "<tr><td>1229.4589</td></tr>",
                            "<tr><td>1242.8518</td></tr>",
                            "<tr><td>1242.8518</td></tr>",
                            "<tr><td>1242.8518</td></tr>",
                            "<tr><td>1242.8518</td></tr>",
                            "<tr><td>1229.4589</td></tr>",
                            "<tr><td>1229.4589</td></tr>",
                            "<tr><td>1229.4589</td></tr>",
                            "<tr><td>1242.8518</td></tr>",
                            "<tr><td>1242.8518</td></tr>",
                            "<tr><td>1308.9375</td></tr>",
                            "<tr><td>1466.0100</td></tr>",
                            "<tr><td>1308.9375</td></tr>",
                            "<tr><td>1466.0100</td></tr>",
                            "<tr><td>1308.9375</td></tr>",
                            "<tr><td>1308.9375</td></tr>",
                            "<tr><td>1308.9375</td></tr>",
                            "<tr><td>1466.0100</td></tr>",
                            "<tr><td>1466.0100</td></tr>",
                            "<tr><td>1242.8518</td></tr>",
                            "<tr><td>1229.4589</td></tr>",
                            "<tr><td>1229.4589</td></tr>",
                            "<tr><td>1229.4589</td></tr>",
                            "<tr><td>1242.8518</td></tr>",
                            "<tr><td>1242.8518</td></tr>",
                            "<tr><td>1229.4589</td></tr>",
                            "<tr><td>1229.4589</td></tr>",
                            "<tr><td>1229.4589</td></tr>",
                            "<tr><td>1242.8518</td></tr>",
                            "<tr><td>1242.8518</td></tr>",
                            "<tr><td>1242.8518</td></tr>",
                            "<tr><td>1242.8518</td></tr>",
                            "<tr><td>1229.4589</td></tr>",
                            "<tr><td>1229.4589</td></tr>",
                            "<tr><td>1229.4589</td></tr>",
                            "<tr><td>1242.8518</td></tr>",
                            "<tr><td>1242.8518</td></tr>",
                            "<tr><td>1229.4589</td></tr>",
                            "<tr><td>1229.4589</td></tr>",
                            "<tr><td>1229.4589</td></tr>",
                            "<tr><td>1229.4589</td></tr>",
                            "<tr><td>1242.8518</td></tr>",
                            "<tr><td>1242.8518</td></tr>",
                            "<tr><td>1242.8518</td></tr>",
                            "<tr><td>1229.4589</td></tr>",
                            "<tr><td>1308.9375</td></tr>",
                            "<tr><td>1466.0100</td></tr>",
                            "<tr><td>1308.9375</td></tr>",
                            "<tr><td>1308.9375</td></tr>",
                            "<tr><td>1466.0100</td></tr>",
                            "<tr><td>1308.9375</td></tr>",
                            "<tr><td>1466.0100</td></tr>",
                            "<tr><td>1308.9375</td></tr>",
                            "<tr><td>1466.0100</td></tr>",
                            "<tr><td>1308.9375</td></tr>",
                            "<tr><td>1308.9375</td></tr>",
                            "<tr><td>1308.9375</td></tr>",
                            "<tr><td>1308.9375</td></tr>",
                            "<tr><td>1466.0100</td></tr>",
                            "<tr><td>1229.4589</td></tr>",
                            "<tr><td>1229.4589</td></tr>",
                            "<tr><td>1242.8518</td></tr>",
                            "<tr><td>1242.8518</td></tr>",
                            "<tr><td>1242.8518</td></tr>",
                            "<tr><td>1229.4589</td></tr>",
                            "<tr><td>1308.9375</td></tr>",
                            "<tr><td>1466.0100</td></tr>",
                            "<tr><td>1466.0100</td></tr>",
                            "<tr><td>1308.9375</td></tr>",
                            "<tr><td>1242.8518</td></tr>",
                            "<tr><td>1229.4589</td></tr>",
                            "<tr><td>1229.4589</td></tr>",
                            "<tr><td>1242.8518</td></tr>",
                            "<tr><td>1229.4589</td></tr>",
                            "<tr><td>1242.8518</td></tr>",
                            "<tr><td>1229.4589</td></tr>",
                            "<tr><td>1242.8518</td></tr>",
                            "<tr><td>1229.4589</td></tr>",
                            "<tr><td>1242.8518</td></tr>",
                            "<tr><td>1242.8518</td></tr>",
                            "<tr><td>1229.4589</td></tr>",
                            "<tr><td>1242.8518</td></tr>",
                            "<tr><td>1229.4589</td></tr>",
                            "<tr><td>1242.8518</td></tr>",
                            "<tr><td>1229.4589</td></tr>",
                            "<tr><td>1242.8518</td></tr>",
                            "<tr><td>1229.4589</td></tr>",
                            "<tr><td>1229.4589</td></tr>",
                            "<tr><td>1242.8518</td></tr>",
                            "<tr><td>1229.4589</td></tr>",
                            "<tr><td>1229.4589</td></tr>",
                            "<tr><td>1242.8518</td></tr>",
                            "<tr><td>1229.4589</td></tr>",
                            "<tr><td>1308.9375</td></tr>",
                            "<tr><td>1466.0100</td></tr>",
                            "<tr><td>1308.9375</td></tr>",
                            "<tr><td>1308.9375</td></tr>",
                            "<tr><td>1466.0100</td></tr>",
                            "<tr><td>1466.0100</td></tr>",
                            "<tr><td>1242.8518</td></tr>",
                            "<tr><td>1229.4589</td></tr>",
                            "<tr><td>1229.4589</td></tr>",
                            "<tr><td>1229.4589</td></tr>",
                            "<tr><td>1242.8518</td></tr>",
                            "<tr><td>1242.8518</td></tr>",
                            "<tr><td>1308.9375</td></tr>",
                            "<tr><td>1308.9375</td></tr>",
                            "<tr><td>1308.9375</td></tr>",
                            "<tr><td>1466.0100</td></tr>",
                            "<tr><td>1466.0100</td></tr>",
                            "<tr><td>1466.0100</td></tr>",
                            "<tr><td>1466.0100</td></tr>",
                            "<tr><td>1466.0100</td></tr>",
                            "<tr><td>1308.9375</td></tr>",
                            "<tr><td>1229.4589</td></tr>",
                            "<tr><td>1242.8518</td></tr>",
                            "<tr><td>1242.8518</td></tr>",
                            "<tr><td>1229.4589</td></tr>",
                            "<tr><td>1229.4589</td></tr>",
                            "<tr><td>1229.4589</td></tr>",
                            "<tr><td>1242.8518</td></tr>",
                            "<tr><td>1466.0100</td></tr>",
                            "<tr><td>1466.0100</td></tr>",
                            "<tr><td>1466.0100</td></tr>",
                            "<tr><td>1308.9375</td></tr>",
                            "<tr><td>1308.9375</td></tr>",
                            "<tr><td>1229.4589</td></tr>",
                            "<tr><td>1229.4589</td></tr>",
                            "<tr><td>1242.8518</td></tr>",
                            "<tr><td>1229.4589</td></tr>",
                            "<tr><td>1229.4589</td></tr>",
                            "<tr><td>1242.8518</td></tr>",
                            "<tr><td>1242.8518</td></tr>",
                            "<tr><td>1229.4589</td></tr>",
                            "<tr><td>1229.4589</td></tr>",
                            "<tr><td>1229.4589</td></tr>",
                            "<tr><td>1229.4589</td></tr>",
                            "<tr><td>1229.4589</td></tr>",
                            "<tr><td>1242.8518</td></tr>",
                            "<tr><td>1242.8518</td></tr>",
                            "<tr><td>1242.8518</td></tr>",
                            "<tr><td>1308.9375</td></tr>",
                            "<tr><td>1466.0100</td></tr>",
                            "<tr><td>1308.9375</td></tr>",
                            "<tr><td>1466.0100</td></tr>",
                            "<tr><td>1308.9375</td></tr>",
                            "<tr><td>1466.0100</td></tr>",
                            "<tr><td>1308.9375</td></tr>",
                            "<tr><td>1466.0100</td></tr>",
                            "<tr><td>1308.9375</td></tr>",
                            "<tr><td>1308.9375</td></tr>",
                            "<tr><td>1466.0100</td></tr>",
                            "<tr><td>1308.9375</td></tr>",
                            "<tr><td>1466.0100</td></tr>",
                            "<tr><td>1308.9375</td></tr>",
                            "<tr><td>1308.9375</td></tr>",
                            "<tr><td>1466.0100</td></tr>",
                            "<tr><td>1466.0100</td></tr>",
                            "<tr><td>1308.9375</td></tr>",
                            "<tr><td>1308.9375</td></tr>",
                            "<tr><td>1466.0100</td></tr>",
                            "<tr><td>1308.9375</td></tr>",
                            "<tr><td>1308.9375</td></tr>",
                            "<tr><td>1308.9375</td></tr>",
                            "<tr><td>1466.0100</td></tr>",
                            "<tr><td>1466.0100</td></tr>",
                            "<tr><td>1308.9375</td></tr>",
                            "<tr><td>1242.8518</td></tr>",
                            "<tr><td>1229.4589</td></tr>",
                            "<tr><td>1242.8518</td></tr>",
                            "<tr><td>1229.4589</td></tr>",
                            "<tr><td>1242.8518</td></tr>",
                            "<tr><td>1229.4589</td></tr>",
                            "<tr><td>1000.4375</td></tr>",
                            "<tr><td>1000.4375</td></tr>",
                            "<tr><td>1000.4375</td></tr>",
                            "<tr><td>1000.4375</td></tr>",
                            "<tr><td>1000.4375</td></tr>",
                            "<tr><td>1000.4375</td></tr>",
                            "<tr><td>1000.4375</td></tr>",
                            "<tr><td>1000.4375</td></tr>",
                            "<tr><td>1000.4375</td></tr>",
                            "<tr><td>1000.4375</td></tr>",
                            "<tr><td>1000.4375</td></tr>",
                            "<tr><td>1000.4375</td></tr>",
                            "<tr><td>1000.4375</td></tr>",
                            "<tr><td>1000.4375</td></tr>",
                            "<tr><td>1000.4375</td></tr>",
                            "<tr><td>1000.4375</td></tr>",
                            "<tr><td>1000.4375</td></tr>",
                            "<tr><td>1000.4375</td></tr>",
                            "<tr><td>1000.4375</td></tr>",
                            "<tr><td>1000.4375</td></tr>",
                            "<tr><td>1000.4375</td></tr>",
                            "<tr><td>1000.4375</td></tr>",
                            "<tr><td>1000.4375</td></tr>",
                            "<tr><td>1000.4375</td></tr>",
                            "<tr><td>1000.4375</td></tr>",
                            "<tr><td>1000.4375</td></tr>",
                            "<tr><td>1000.4375</td></tr>",
                            "<tr><td>1000.4375</td></tr>",
                            "<tr><td>1000.4375</td></tr>",
                            "<tr><td>1000.4375</td></tr>",
                            "<tr><td>1000.4375</td></tr>",
                            "<tr><td>1000.4375</td></tr>",
                            "<tr><td>1000.4375</td></tr>",
                            "<tr><td>1000.4375</td></tr>",
                            "<tr><td>1000.4375</td></tr>",
                            "<tr><td>1000.4375</td></tr>",
                            "<tr><td>1000.4375</td></tr>",
                            "<tr><td>1229.4589</td></tr>",
                            "<tr><td>1242.8518</td></tr>",
                            "<tr><td>1242.8518</td></tr>",
                            "<tr><td>1242.8518</td></tr>",
                            "<tr><td>1229.4589</td></tr>",
                            "<tr><td>1229.4589</td></tr>",
                            "<tr><td>1308.9375</td></tr>",
                            "<tr><td>1466.0100</td></tr>",
                            "<tr><td>1308.9375</td></tr>",
                            "<tr><td>1308.9375</td></tr>",
                            "<tr><td>1466.0100</td></tr>",
                            "<tr><td>1466.0100</td></tr>",
                            "<tr><td>1308.9375</td></tr>",
                            "<tr><td>1229.4589</td></tr>",
                            "<tr><td>1242.8518</td></tr>",
                            "<tr><td>1229.4589</td></tr>",
                            "<tr><td>1242.8518</td></tr>",
                            "<tr><td>1242.8518</td></tr>",
                            "<tr><td>1242.8518</td></tr>",
                            "<tr><td>1229.4589</td></tr>",
                            "<tr><td>1308.9375</td></tr>",
                            "<tr><td>1242.8518</td></tr>",
                            "<tr><td>1229.4589</td></tr>",
                            "<tr><td>1466.0100</td></tr>",
                            "<tr><td>1466.0100</td></tr>",
                            "<tr><td>1308.9375</td></tr>",
                            "<tr><td>1229.4589</td></tr>",
                            "<tr><td>1466.0100</td></tr>",
                            "<tr><td>1308.9375</td></tr>",
                            "<tr><td>1308.9375</td></tr>",
                            "<tr><td>1308.9375</td></tr>",
                            "<tr><td>1308.9375</td></tr>",
                            "<tr><td>1466.0100</td></tr>",
                            "<tr><td>1466.0100</td></tr>",
                            "<tr><td>1308.9375</td></tr>",
                            "<tr><td>1242.8518</td></tr>",
                            "<tr><td>1229.4589</td></tr>",
                            "<tr><td>1229.4589</td></tr>",
                            "<tr><td>1229.4589</td></tr>",
                            "<tr><td>1242.8518</td></tr>",
                            "<tr><td>1242.8518</td></tr>",
                            "<tr><td>1308.9375</td></tr>",
                            "<tr><td>1308.9375</td></tr>",
                            "<tr><td>1308.9375</td></tr>",
                            "<tr><td>1466.0100</td></tr>",
                            "<tr><td>1308.9375</td></tr>",
                            "<tr><td>1466.0100</td></tr>",
                            "<tr><td>1308.9375</td></tr>",
                            "<tr><td>1466.0100</td></tr>",
                            "<tr><td>1242.8518</td></tr>",
                            "<tr><td>1242.8518</td></tr>",
                            "<tr><td>1229.4589</td></tr>",
                            "<tr><td>1229.4589</td></tr>",
                            "<tr><td>1229.4589</td></tr>",
                            "<tr><td>1242.8518</td></tr>",
                            "<tr><td>1242.8518</td></tr>",
                            "<tr><td>1229.4589</td></tr>",
                            "<tr><td>1229.4589</td></tr>",
                            "<tr><td>1242.8518</td></tr>",
                            "<tr><td>1229.4589</td></tr>",
                            "<tr><td>1229.4589</td></tr>",
                            "<tr><td>1242.8518</td></tr>",
                            "<tr><td>1242.8518</td></tr>",
                            "<tr><td>1242.8518</td></tr>",
                            "<tr><td>1229.4589</td></tr>",
                            "<tr><td>1466.0100</td></tr>",
                            "<tr><td>1308.9375</td></tr>",
                            "<tr><td>1308.9375</td></tr>",
                            "<tr><td>1466.0100</td></tr>",
                            "<tr><td>1308.9375</td></tr>",
                            "<tr><td>1308.9375</td></tr>",
                            "<tr><td>1466.0100</td></tr>",
                            "<tr><td>1229.4589</td></tr>",
                            "<tr><td>1229.4589</td></tr>",
                            "<tr><td>1242.8518</td></tr>",
                            "<tr><td>1229.4589</td></tr>",
                            "<tr><td>1242.8518</td></tr>",
                            "<tr><td>1229.4589</td></tr>",
                            "<tr><td>1229.4589</td></tr>",
                            "<tr><td>1242.8518</td></tr>",
                            "<tr><td>1229.4589</td></tr>",
                            "<tr><td>1229.4589</td></tr>",
                            "<tr><td>1242.8518</td></tr>",
                            "<tr><td>1242.8518</td></tr>",
                            "<tr><td>1308.9375</td></tr>",
                            "<tr><td>1308.9375</td></tr>",
                            "<tr><td>1308.9375</td></tr>",
                            "<tr><td>1466.0100</td></tr>",
                            "<tr><td>1466.0100</td></tr>",
                            "<tr><td>1308.9375</td></tr>",
                            "<tr><td>1308.9375</td></tr>",
                            "<tr><td>1466.0100</td></tr>",
                            "<tr><td>1308.9375</td></tr>",
                            "<tr><td>1466.0100</td></tr>",
                            "<tr><td>1308.9375</td></tr>",
                            "<tr><td>1466.0100</td></tr>",
                            "<tr><td>1229.4589</td></tr>",
                            "<tr><td>1242.8518</td></tr>",
                            "<tr><td>1229.4589</td></tr>",
                            "<tr><td>1242.8518</td></tr>",
                            "<tr><td>1229.4589</td></tr>",
                            "<tr><td>1229.4589</td></tr>",
                            "<tr><td>1229.4589</td></tr>",
                            "<tr><td>1242.8518</td></tr>",
                            "<tr><td>1242.8518</td></tr>",
                            "<tr><td>1308.9375</td></tr>",
                            "<tr><td>1308.9375</td></tr>",
                            "<tr><td>1466.0100</td></tr>",
                            "<tr><td>1466.0100</td></tr>",
                            "<tr><td>1308.9375</td></tr>",
                            "<tr><td>1242.8518</td></tr>",
                            "<tr><td>1242.8518</td></tr>",
                            "<tr><td>1242.8518</td></tr>",
                            "<tr><td>1229.4589</td></tr>",
                            "<tr><td>1229.4589</td></tr>",
                            "<tr><td>1229.4589</td></tr>",
                            "<tr><td>1308.9375</td></tr>",
                            "<tr><td>1308.9375</td></tr>",
                            "<tr><td>1308.9375</td></tr>",
                            "<tr><td>1466.0100</td></tr>",
                            "<tr><td>1308.9375</td></tr>",
                            "<tr><td>1466.0100</td></tr>",
                            "<tr><td>1308.9375</td></tr>",
                            "<tr><td>1229.4589</td></tr>",
                            "<tr><td>1308.9375</td></tr>",
                            "<tr><td>1308.9375</td></tr>",
                            "<tr><td>1466.0100</td></tr>",
                            "<tr><td>1242.8518</td></tr>",
                            "<tr><td>1229.4589</td></tr>",
                            "<tr><td>1242.8518</td></tr>",
                            "<tr><td>1229.4589</td></tr>",
                            "<tr><td>1229.4589</td></tr>",
                            "<tr><td>1242.8518</td></tr>",
                            "<tr><td>1229.4589</td></tr>",
                            "<tr><td>1242.8518</td></tr>",
                            "<tr><td>1229.4589</td></tr>",
                            "<tr><td>1242.8518</td></tr>",
                            "<tr><td>1242.8518</td></tr>",
                            "<tr><td>1229.4589</td></tr>",
                            "<tr><td>1308.9375</td></tr>",
                            "<tr><td>1466.0100</td></tr>",
                            "<tr><td>1466.0100</td></tr>",
                            "<tr><td>1308.9375</td></tr>",
                            "<tr><td>1308.9375</td></tr>",
                            "<tr><td>1308.9375</td></tr>",
                            "<tr><td>1308.9375</td></tr>",
                            "<tr><td>1466.0100</td></tr>",
                            "<tr><td>1308.9375</td></tr>",
                            "<tr><td>1308.9375</td></tr>",
                            "<tr><td>1466.0100</td></tr>",
                            "<tr><td>1466.0100</td></tr>",
                            "<tr><td>1308.9375</td></tr>",
                            "<tr><td>1308.9375</td></tr>",
                            "<tr><td>1466.0100</td></tr>",
                            "<tr><td>1466.0100</td></tr>",
                            "<tr><td>1308.9375</td></tr>",
                            "<tr><td>1229.4589</td></tr>",
                            "<tr><td>1466.0100</td></tr>",
                            "<tr><td>1308.9375</td></tr>",
                            "<tr><td>1466.0100</td></tr>",
                            "<tr><td>1308.9375</td></tr>",
                            "<tr><td>1242.8518</td></tr>",
                            "<tr><td>1466.0100</td></tr>",
                            "<tr><td>1466.0100</td></tr>",
                            "<tr><td>1308.9375</td></tr>",
                            "<tr><td>1308.9375</td></tr>",
                            "<tr><td>1308.9375</td></tr>",
                            "<tr><td>1308.9375</td></tr>",
                            "<tr><td>1308.9375</td></tr>",
                            "<tr><td>1466.0100</td></tr>",
                            "<tr><td>1229.4589</td></tr>",
                            "<tr><td>1308.9375</td></tr>",
                            "<tr><td>1466.0100</td></tr>",
                            "<tr><td>1308.9375</td></tr>",
                            "<tr><td>1308.9375</td></tr>",
                            "<tr><td>1466.0100</td></tr>",
                            "<tr><td>1308.9375</td></tr>",
                            "<tr><td>1466.0100</td></tr>",
                            "<tr><td>1308.9375</td></tr>",
                            "<tr><td>1229.4589</td></tr>",
                            "<tr><td>1229.4589</td></tr>",
                            "<tr><td>1242.8518</td></tr>",
                            "<tr><td>1242.8518</td></tr>",
                            "<tr><td>1229.4589</td></tr>",
                            "<tr><td>1242.8518</td></tr>",
                            "<tr><td>1229.4589</td></tr>",
                            "<tr><td>1308.9375</td></tr>",
                            "<tr><td>1308.9375</td></tr>",
                            "<tr><td>1308.9375</td></tr>",
                            "<tr><td>1466.0100</td></tr>",
                            "<tr><td>1308.9375</td></tr>",
                            "<tr><td>1466.0100</td></tr>",
                            "<tr><td>1466.0100</td></tr>",
                            "<tr><td>1308.9375</td></tr>",
                            "<tr><td>1229.4589</td></tr>",
                            "<tr><td>1229.4589</td></tr>",
                            "<tr><td>1242.8518</td></tr>",
                            "<tr><td>1242.8518</td></tr>",
                            "<tr><td>1229.4589</td></tr>",
                            "<tr><td>1229.4589</td></tr>",
                            "<tr><td>1242.8518</td></tr>",
                            "<tr><td>1229.4589</td></tr>",
                            "<tr><td>1466.0100</td></tr>",
                            "<tr><td>1308.9375</td></tr>",
                            "<tr><td>1308.9375</td></tr>",
                            "<tr><td>1308.9375</td></tr>",
                            "<tr><td>1308.9375</td></tr>",
                            "<tr><td>1466.0100</td></tr>",
                            "<tr><td>1229.4589</td></tr>",
                            "<tr><td>1229.4589</td></tr>",
                            "<tr><td>1242.8518</td></tr>",
                            "<tr><td>1229.4589</td></tr>",
                            "<tr><td>1229.4589</td></tr>",
                            "<tr><td>1229.4589</td></tr>",
                            "<tr><td>1242.8518</td></tr>",
                            "<tr><td>1242.8518</td></tr>",
                            "<tr><td>1242.8518</td></tr>",
                            "<tr><td>1229.4589</td></tr>",
                            "<tr><td>1229.4589</td></tr>",
                            "<tr><td>1242.8518</td></tr>",
                            "<tr><td>1229.4589</td></tr>",
                            "<tr><td>1242.8518</td></tr>",
                            "<tr><td>1466.0100</td></tr>",
                            "<tr><td>1466.0100</td></tr>",
                            "<tr><td>1308.9375</td></tr>",
                            "<tr><td>1308.9375</td></tr>",
                            "<tr><td>1308.9375</td></tr>",
                            "<tr><td>1308.9375</td></tr>",
                            "<tr><td>1308.9375</td></tr>",
                            "<tr><td>1466.0100</td></tr>",
                            "<tr><td>1466.0100</td></tr>",
                            "<tr><td>1308.9375</td></tr>",
                            "<tr><td>1466.0100</td></tr>",
                            "<tr><td>1466.0100</td></tr>",
                            "<tr><td>1466.0100</td></tr>",
                            "<tr><td>1308.9375</td></tr>",
                            "<tr><td>1466.0100</td></tr>",
                            "<tr><td>1308.9375</td></tr>",
                            "<tr><td>1308.9375</td></tr>",
                            "<tr><td>1229.4589</td></tr>",
                            "<tr><td>1229.4589</td></tr>",
                            "<tr><td>1242.8518</td></tr>",
                            "<tr><td>1242.8518</td></tr>",
                            "<tr><td>1229.4589</td></tr>",
                            "<tr><td>1229.4589</td></tr>",
                            "<tr><td>1229.4589</td></tr>",
                            "<tr><td>1242.8518</td></tr>",
                            "<tr><td>1242.8518</td></tr>",
                            "<tr><td>1242.8518</td></tr>",
                            "<tr><td>1229.4589</td></tr>",
                            "<tr><td>1229.4589</td></tr>",
                            "<tr><td>1229.4589</td></tr>",
                            "<tr><td>1229.4589</td></tr>",
                            "<tr><td>1242.8518</td></tr>",
                            "<tr><td>1229.4589</td></tr>",
                            "<tr><td>1229.4589</td></tr>",
                            "<tr><td>1308.9375</td></tr>",
                            "<tr><td>1308.9375</td></tr>",
                            "<tr><td>1308.9375</td></tr>",
                            "<tr><td>1308.9375</td></tr>",
                            "<tr><td>1466.0100</td></tr>",
                            "<tr><td>1466.0100</td></tr>",
                            "<tr><td>1308.9375</td></tr>",
                            "<tr><td>1466.0100</td></tr>",
                            "<tr><td>1308.9375</td></tr>",
                            "<tr><td>1466.0100</td></tr>",
                            "<tr><td>1466.0100</td></tr>",
                            "<tr><td>1308.9375</td></tr>",
                            "<tr><td>1242.8518</td></tr>",
                            "<tr><td>1242.8518</td></tr>",
                            "<tr><td>1229.4589</td></tr>",
                            "<tr><td>1229.4589</td></tr>",
                            "<tr><td>1242.8518</td></tr>",
                            "<tr><td>1229.4589</td></tr>",
                            "<tr><td>1242.8518</td></tr>",
                            "<tr><td>1229.4589</td></tr>",
                            "<tr><td>1308.9375</td></tr>",
                            "<tr><td>1308.9375</td></tr>",
                            "<tr><td>1466.0100</td></tr>",
                            "<tr><td>1308.9375</td></tr>",
                            "<tr><td>1466.0100</td></tr>",
                            "<tr><td>1308.9375</td></tr>",
                            "<tr><td>1308.9375</td></tr>",
                            "<tr><td>1466.0100</td></tr>",
                            "<tr><td>1242.8518</td></tr>",
                            "<tr><td>1229.4589</td></tr>",
                            "<tr><td>1229.4589</td></tr>",
                            "<tr><td>1242.8518</td></tr>",
                            "<tr><td>1229.4589</td></tr>",
                            "<tr><td>1242.8518</td></tr>",
                            "<tr><td>1229.4589</td></tr>",
                            "<tr><td>1229.4589</td></tr>",
                            "<tr><td>1242.8518</td></tr>",
                            "<tr><td>1201.4234</td></tr>",
                            "<tr><td>1229.4589</td></tr>",
                            "<tr><td>1229.4589</td></tr>",
                            "<tr><td>1242.8518</td></tr>",
                            "<tr><td>1229.4589</td></tr>",
                            "<tr><td>1308.9375</td></tr>",
                            "<tr><td>1229.4589</td></tr>",
                            "<tr><td>1242.8518</td></tr>",
                            "<tr><td>1229.4589</td></tr>",
                            "<tr><td>1229.4589</td></tr>",
                            "<tr><td>1242.8518</td></tr>",
                            "<tr><td>1242.8518</td></tr>",
                            "<tr><td>1466.0100</td></tr>",
                            "<tr><td>1466.0100</td></tr>",
                            "<tr><td>1308.9375</td></tr>",
                            "<tr><td>1308.9375</td></tr>",
                            "<tr><td>1466.0100</td></tr>",
                            "<tr><td>1308.9375</td></tr>",
                            "<tr><td>1308.9375</td></tr>",
                            "<tr><td>1466.0100</td></tr>",
                            "<tr><td>1466.0100</td></tr>",
                            "<tr><td>1308.9375</td></tr>",
                            "<tr><td>1308.9375</td></tr>",
                            "<tr><td>1466.0100</td></tr>",
                            "<tr><td>1308.9375</td></tr>",
                            "<tr><td>1308.9375</td></tr>",
                            "<tr><td>1466.0100</td></tr>",
                            "<tr><td>1466.0100</td></tr>",
                            "<tr><td>1308.9375</td></tr>",
                            "<tr><td>1242.8518</td></tr>",
                            "<tr><td>1229.4589</td></tr>",
                            "<tr><td>1308.9375</td></tr>",
                            "<tr><td>1308.9375</td></tr>",
                            "<tr><td>1308.9375</td></tr>",
                            "<tr><td>1466.0100</td></tr>",
                            "<tr><td>1308.9375</td></tr>",
                            "<tr><td>1466.0100</td></tr>",
                            "<tr><td>1229.4589</td></tr>",
                            "<tr><td>1242.8518</td></tr>",
                            "<tr><td>1242.8518</td></tr>",
                            "<tr><td>1229.4589</td></tr>",
                            "<tr><td>1229.4589</td></tr>",
                            "<tr><td>1242.8518</td></tr>",
                            "<tr><td>1000.4375</td></tr>",
                            "<tr><td>1000.4375</td></tr>",
                            "<tr><td>1000.4375</td></tr>",
                            "<tr><td>1000.4375</td></tr>",
                            "<tr><td>1000.4375</td></tr>",
                            "<tr><td>1000.4375</td></tr>",
                            "<tr><td>1000.4375</td></tr>",
                            "<tr><td>1000.4375</td></tr>",
                            "<tr><td>1000.4375</td></tr>",
                            "<tr><td>1000.4375</td></tr>",
                            "<tr><td>1000.4375</td></tr>",
                            "<tr><td>1000.4375</td></tr>",
                            "<tr><td>1000.4375</td></tr>",
                            "<tr><td>1000.4375</td></tr>",
                            "<tr><td>1000.4375</td></tr>",
                            "<tr><td>1000.4375</td></tr>",
                            "<tr><td>1000.4375</td></tr>",
                            "<tr><td>1000.4375</td></tr>",
                            "<tr><td>1000.4375</td></tr>",
                            "<tr><td>1000.4375</td></tr>",
                            "<tr><td>1000.4375</td></tr>",
                            "<tr><td>1000.4375</td></tr>",
                            "<tr><td>1000.4375</td></tr>",
                            "<tr><td>1000.4375</td></tr>",
                            "<tr><td>1000.4375</td></tr>",
                            "<tr><td>1000.4375</td></tr>",
                            "<tr><td>1000.4375</td></tr>",
                            "<tr><td>1000.4375</td></tr>",
                            "<tr><td>1000.4375</td></tr>",
                            "<tr><td>1000.4375</td></tr>",
                            "<tr><td>1000.4375</td></tr>",
                            "<tr><td>1000.4375</td></tr>",
                            "<tr><td>1000.4375</td></tr>",
                            "<tr><td>1000.4375</td></tr>",
                            "<tr><td>1000.4375</td></tr>",
                            "<tr><td>1000.4375</td></tr>",
                            "<tr><td>1000.4375</td></tr>",
                            "<tr><td>1000.4375</td></tr>",
                            "<tr><td>1000.4375</td></tr>",
                            "<tr><td>1000.4375</td></tr>",
                            "<tr><td>1000.4375</td></tr>",
                            "<tr><td>1000.4375</td></tr>",
                            "<tr><td>1000.4375</td></tr>",
                            "<tr><td>1000.4375</td></tr>",
                            "<tr><td>1000.4375</td></tr>",
                            "<tr><td>1000.4375</td></tr>",
                            "<tr><td>1000.4375</td></tr>",
                            "<tr><td>1000.4375</td></tr>",
                            "<tr><td>1000.4375</td></tr>",
                            "<tr><td>1000.4375</td></tr>",
                            "<tr><td>1000.4375</td></tr>",
                            "<tr><td>1000.4375</td></tr>",
                            "<tr><td>1000.4375</td></tr>",
                            "<tr><td>1229.4589</td></tr>",
                            "<tr><td>1242.8518</td></tr>",
                            "<tr><td>1229.4589</td></tr>",
                            "<tr><td>1242.8518</td></tr>",
                            "<tr><td>1229.4589</td></tr>",
                            "<tr><td>1242.8518</td></tr>",
                            "<tr><td>1229.4589</td></tr>",
                            "<tr><td>1242.8518</td></tr>",
                            "<tr><td>1229.4589</td></tr>",
                            "<tr><td>1229.4589</td></tr>",
                            "<tr><td>1229.4589</td></tr>",
                            "<tr><td>1242.8518</td></tr>",
                            "<tr><td>1308.9375</td></tr>",
                            "<tr><td>1466.0100</td></tr>",
                            "<tr><td>1308.9375</td></tr>",
                            "<tr><td>1466.0100</td></tr>",
                            "<tr><td>1308.9375</td></tr>",
                            "<tr><td>1466.0100</td></tr>",
                            "<tr><td>1308.9375</td></tr>",
                            "<tr><td>1466.0100</td></tr>",
                            "<tr><td>1308.9375</td></tr>",
                            "<tr><td>1308.9375</td></tr>",
                            "<tr><td>1466.0100</td></tr>",
                            "<tr><td>1308.9375</td></tr>",
                            "<tr><td>1466.0100</td></tr>",
                            "<tr><td>1229.4589</td></tr>",
                            "<tr><td>1242.8518</td></tr>",
                            "<tr><td>1229.4589</td></tr>",
                            "<tr><td>1242.8518</td></tr>",
                            "<tr><td>1229.4589</td></tr>",
                            "<tr><td>1229.4589</td></tr>",
                            "<tr><td>1242.8518</td></tr>",
                            "<tr><td>1242.8518</td></tr>",
                            "<tr><td>1229.4589</td></tr>",
                            "<tr><td>1308.9375</td></tr>",
                            "<tr><td>1466.0100</td></tr>",
                            "<tr><td>1466.0100</td></tr>",
                            "<tr><td>1466.0100</td></tr>",
                            "<tr><td>1466.0100</td></tr>",
                            "<tr><td>1308.9375</td></tr>",
                            "<tr><td>1466.0100</td></tr>",
                            "<tr><td>1466.0100</td></tr>",
                            "<tr><td>1308.9375</td></tr>",
                            "<tr><td>1308.9375</td></tr>",
                            "<tr><td>1308.9375</td></tr>",
                            "<tr><td>1308.9375</td></tr>",
                            "<tr><td>1466.0100</td></tr>",
                            "<tr><td>1466.0100</td></tr>",
                            "<tr><td>1242.8518</td></tr>",
                            "<tr><td>1242.8518</td></tr>",
                            "<tr><td>1229.4589</td></tr>",
                            "<tr><td>1229.4589</td></tr>",
                            "<tr><td>1229.4589</td></tr>",
                            "<tr><td>1242.8518</td></tr>",
                            "<tr><td>1229.4589</td></tr>",
                            "<tr><td>1229.4589</td></tr>",
                            "<tr><td>1229.4589</td></tr>",
                            "<tr><td>1242.8518</td></tr>",
                            "<tr><td>1242.8518</td></tr>",
                            "<tr><td>1242.8518</td></tr>",
                            "<tr><td>1229.4589</td></tr>",
                            "<tr><td>1242.8518</td></tr>",
                            "<tr><td>1466.0100</td></tr>",
                            "<tr><td>1466.0100</td></tr>",
                            "<tr><td>1308.9375</td></tr>",
                            "<tr><td>1229.4589</td></tr>",
                            "<tr><td>1242.8518</td></tr>",
                            "<tr><td>1229.4589</td></tr>",
                            "<tr><td>1229.4589</td></tr>",
                            "<tr><td>1242.8518</td></tr>",
                            "<tr><td>1242.8518</td></tr>",
                            "<tr><td>1466.0100</td></tr>",
                            "<tr><td>1466.0100</td></tr>",
                            "<tr><td>1466.0100</td></tr>",
                            "<tr><td>1308.9375</td></tr>",
                            "<tr><td>1308.9375</td></tr>",
                            "<tr><td>1242.8518</td></tr>",
                            "<tr><td>1229.4589</td></tr>",
                            "<tr><td>1229.4589</td></tr>",
                            "<tr><td>1229.4589</td></tr>",
                            "<tr><td>1242.8518</td></tr>",
                            "<tr><td>1229.4589</td></tr>",
                            "<tr><td>1242.8518</td></tr>",
                            "<tr><td>1229.4589</td></tr>",
                            "<tr><td>1229.4589</td></tr>",
                            "<tr><td>1242.8518</td></tr>",
                            "<tr><td>1229.4589</td></tr>",
                            "<tr><td>1229.4589</td></tr>",
                            "<tr><td>1242.8518</td></tr>",
                            "<tr><td>1242.8518</td></tr>",
                            "<tr><td>1229.4589</td></tr>",
                            "<tr><td>1242.8518</td></tr>",
                            "<tr><td>1308.9375</td></tr>",
                            "<tr><td>1308.9375</td></tr>",
                            "<tr><td>1466.0100</td></tr>",
                            "<tr><td>1466.0100</td></tr>",
                            "<tr><td>1466.0100</td></tr>",
                            "<tr><td>1308.9375</td></tr>",
                            "<tr><td>1229.4589</td></tr>",
                            "<tr><td>1229.4589</td></tr>",
                            "<tr><td>1242.8518</td></tr>",
                            "<tr><td>1229.4589</td></tr>",
                            "<tr><td>1242.8518</td></tr>",
                            "<tr><td>1242.8518</td></tr>",
                            "<tr><td>1229.4589</td></tr>",
                            "<tr><td>1242.8518</td></tr>",
                            "<tr><td>1466.0100</td></tr>",
                            "<tr><td>1308.9375</td></tr>",
                            "<tr><td>1308.9375</td></tr>",
                            "<tr><td>1466.0100</td></tr>",
                            "<tr><td>1466.0100</td></tr>",
                            "<tr><td>1308.9375</td></tr>",
                            "<tr><td>1308.9375</td></tr>",
                            "<tr><td>1308.9375</td></tr>",
                            "<tr><td>1308.9375</td></tr>",
                            "<tr><td>1466.0100</td></tr>",
                            "<tr><td>1308.9375</td></tr>",
                            "<tr><td>1308.9375</td></tr>",
                            "<tr><td>1308.9375</td></tr>",
                            "<tr><td>1308.9375</td></tr>",
                            "<tr><td>1466.0100</td></tr>",
                            "<tr><td>1229.4589</td></tr>",
                            "<tr><td>1229.4589</td></tr>",
                            "<tr><td>1229.4589</td></tr>",
                            "<tr><td>1242.8518</td></tr>",
                            "<tr><td>1229.4589</td></tr>",
                            "<tr><td>1242.8518</td></tr>",
                            "<tr><td>1242.8518</td></tr>",
                            "<tr><td>1229.4589</td></tr>",
                            "<tr><td>1242.8518</td></tr>",
                            "<tr><td>1242.8518</td></tr>",
                            "<tr><td>1229.4589</td></tr>",
                            "<tr><td>1242.8518</td></tr>",
                            "<tr><td>1229.4589</td></tr>",
                            "<tr><td>1229.4589</td></tr>",
                            "<tr><td>1229.4589</td></tr>",
                            "<tr><td>1242.8518</td></tr>",
                            "<tr><td>1242.8518</td></tr>",
                            "<tr><td>1229.4589</td></tr>",
                            "<tr><td>1466.0100</td></tr>",
                            "<tr><td>1308.9375</td></tr>",
                            "<tr><td>1466.0100</td></tr>",
                            "<tr><td>1308.9375</td></tr>",
                            "<tr><td>1308.9375</td></tr>",
                            "<tr><td>1242.8518</td></tr>",
                            "<tr><td>1229.4589</td></tr>",
                            "<tr><td>1308.9375</td></tr>",
                            "<tr><td>1466.0100</td></tr>",
                            "<tr><td>1308.9375</td></tr>",
                            "<tr><td>1466.0100</td></tr>",
                            "<tr><td>1308.9375</td></tr>",
                            "<tr><td>1308.9375</td></tr>",
                            "<tr><td>1308.9375</td></tr>",
                            "<tr><td>1242.8518</td></tr>",
                            "<tr><td>1242.8518</td></tr>",
                            "<tr><td>1229.4589</td></tr>",
                            "<tr><td>1229.4589</td></tr>",
                            "<tr><td>1229.4589</td></tr>",
                            "<tr><td>1308.9375</td></tr>",
                            "<tr><td>1308.9375</td></tr>",
                            "<tr><td>1242.8518</td></tr>",
                            "<tr><td>1229.4589</td></tr>",
                            "<tr><td>1229.4589</td></tr>",
                            "<tr><td>1229.4589</td></tr>",
                            "<tr><td>1229.4589</td></tr>",
                            "<tr><td>1242.8518</td></tr>",
                            "<tr><td>1229.4589</td></tr>",
                            "<tr><td>1466.0100</td></tr>",
                            "<tr><td>1466.0100</td></tr>",
                            "<tr><td>1308.9375</td></tr>",
                            "<tr><td>1466.0100</td></tr>",
                            "<tr><td>1308.9375</td></tr>",
                            "<tr><td>1308.9375</td></tr>",
                            "<tr><td>1308.9375</td></tr>",
                            "<tr><td>1308.9375</td></tr>",
                            "<tr><td>1242.8518</td></tr>",
                            "<tr><td>1229.4589</td></tr>",
                            "<tr><td>1229.4589</td></tr>",
                            "<tr><td>1466.0100</td></tr>",
                            "<tr><td>1308.9375</td></tr>",
                            "<tr><td>1308.9375</td></tr>",
                            "<tr><td>1466.0100</td></tr>",
                            "<tr><td>1308.9375</td></tr>",
                            "<tr><td>1308.9375</td></tr>",
                            "<tr><td>1308.9375</td></tr>",
                            "<tr><td>1466.0100</td></tr>",
                            "<tr><td>1466.0100</td></tr>",
                            "<tr><td>1466.0100</td></tr>",
                            "<tr><td>1466.0100</td></tr>",
                            "<tr><td>1466.0100</td></tr>",
                            "<tr><td>1308.9375</td></tr>",
                            "<tr><td>1229.4589</td></tr>",
                            "<tr><td>1242.8518</td></tr>",
                            "<tr><td>1242.8518</td></tr>",
                            "<tr><td>1229.4589</td></tr>",
                            "<tr><td>1242.8518</td></tr>",
                            "<tr><td>1229.4589</td></tr>",
                            "<tr><td>1466.0100</td></tr>",
                            "<tr><td>1466.0100</td></tr>",
                            "<tr><td>1466.0100</td></tr>",
                            "<tr><td>1308.9375</td></tr>",
                            "<tr><td>1308.9375</td></tr>",
                            "<tr><td>1308.9375</td></tr>",
                            "<tr><td>1466.0100</td></tr>",
                            "<tr><td>1229.4589</td></tr>",
                            "<tr><td>1229.4589</td></tr>",
                            "<tr><td>1242.8518</td></tr>",
                            "<tr><td>1229.4589</td></tr>",
                            "<tr><td>1229.4589</td></tr>",
                            "<tr><td>1242.8518</td></tr>",
                            "<tr><td>1229.4589</td></tr>",
                            "<tr><td>1242.8518</td></tr>",
                            "<tr><td>1242.8518</td></tr>",
                            "<tr><td>1229.4589</td></tr>",
                            "<tr><td>1229.4589</td></tr>",
                            "<tr><td>1242.8518</td></tr>",
                            "<tr><td>1242.8518</td></tr>",
                            "<tr><td>1229.4589</td></tr>",
                            "<tr><td>1242.8518</td></tr>",
                            "<tr><td>1242.8518</td></tr>",
                            "<tr><td>1242.8518</td></tr>",
                            "<tr><td>1229.4589</td></tr>",
                            "<tr><td>1229.4589</td></tr>",
                            "<tr><td>1308.9375</td></tr>",
                            "<tr><td>1466.0100</td></tr>",
                            "<tr><td>1466.0100</td></tr>",
                            "<tr><td>1242.8518</td></tr>",
                            "<tr><td>1242.8518</td></tr>",
                            "<tr><td>1229.4589</td></tr>",
                            "<tr><td>1242.8518</td></tr>",
                            "<tr><td>1229.4589</td></tr>",
                            "<tr><td>1229.4589</td></tr>",
                            "<tr><td>1242.8518</td></tr>",
                            "<tr><td>1229.4589</td></tr>",
                            "<tr><td>1242.8518</td></tr>",
                            "<tr><td>1229.4589</td></tr>",
                            "<tr><td>1242.8518</td></tr>",
                            "<tr><td>1229.4589</td></tr>",
                            "<tr><td>1242.8518</td></tr>",
                            "<tr><td>1229.4589</td></tr>",
                            "<tr><td>1229.4589</td></tr>",
                            "<tr><td>1242.8518</td></tr>",
                            "<tr><td>1242.8518</td></tr>",
                            "<tr><td>1229.4589</td></tr>",
                            "<tr><td>1242.8518</td></tr>",
                            "<tr><td>1229.4589</td></tr>",
                            "<tr><td>1229.4589</td></tr>",
                            "<tr><td>1000.4375</td></tr>",
                            "<tr><td>1000.4375</td></tr>",
                            "<tr><td>1000.4375</td></tr>",
                            "<tr><td>1000.4375</td></tr>",
                            "<tr><td>1000.4375</td></tr>",
                            "<tr><td>1000.4375</td></tr>",
                            "<tr><td>1000.4375</td></tr>",
                            "<tr><td>1000.4375</td></tr>",
                            "<tr><td>1000.4375</td></tr>",
                            "<tr><td>1000.4375</td></tr>",
                            "<tr><td>1000.4375</td></tr>",
                            "<tr><td>1000.4375</td></tr>",
                            "<tr><td>1000.4375</td></tr>",
                            "<tr><td>1000.4375</td></tr>",
                            "<tr><td>1000.4375</td></tr>",
                            "<tr><td>1000.4375</td></tr>",
                            "<tr><td>1000.4375</td></tr>",
                            "<tr><td>1000.4375</td></tr>",
                            "<tr><td>1000.4375</td></tr>",
                            "<tr><td>1000.4375</td></tr>",
                            "<tr><td>1000.4375</td></tr>",
                            "<tr><td>1000.4375</td></tr>",
                            "<tr><td>1000.4375</td></tr>",
                            "<tr><td>1000.4375</td></tr>",
                            "<tr><td>1000.4375</td></tr>",
                            "<tr><td>1000.4375</td></tr>",
                            "<tr><td>1000.4375</td></tr>",
                            "<tr><td>1000.4375</td></tr>",
                            "<tr><td>1000.4375</td></tr>",
                            "<tr><td>1000.4375</td></tr>",
                            "<tr><td>1000.4375</td></tr>",
                            "<tr><td>1000.4375</td></tr>",
                            "<tr><td>1000.4375</td></tr>",
                            "<tr><td>1000.4375</td></tr>",
                            "<tr><td>1000.4375</td></tr>",
                            "<tr><td>1000.4375</td></tr>",
                            "<tr><td>1000.4375</td></tr>",
                            "<tr><td>1000.4375</td></tr>",
                            "<tr><td>1000.4375</td></tr>",
                            "<tr><td>1000.4375</td></tr>",
                            "<tr><td>1376.9940</td></tr>",
                            "<tr><td>1391.9940</td></tr>",
                            "<tr><td>1391.9940</td></tr>",
                            "<tr><td>1430.4420</td></tr>",
                            "<tr><td>1430.4420</td></tr>",
                            "<tr><td>1430.4420</td></tr>",
                            "<tr><td>1430.4420</td></tr>",
                            "<tr><td>1020.5940</td></tr>",
                            "<tr><td>1376.9940</td></tr>",
                            "<tr><td>1391.9940</td></tr>",
                            "<tr><td>1391.9940</td></tr>",
                            "<tr><td>1376.9940</td></tr>",
                            "<tr><td>1391.9940</td></tr>",
                            "<tr><td>1391.9940</td></tr>",
                            "<tr><td>1376.9940</td></tr>",
                            "<tr><td>1391.9940</td></tr>",
                            "<tr><td>1376.9940</td></tr>",
                            "<tr><td>1391.9940</td></tr>",
                            "<tr><td>1376.9940</td></tr>",
                            "<tr><td>1391.9940</td></tr>",
                            "<tr><td>1376.9940</td></tr>",
                            "<tr><td>1376.9940</td></tr>",
                            "<tr><td>1376.9940</td></tr>",
                            "<tr><td>1391.9940</td></tr>",
                            "<tr><td>1391.9940</td></tr>",
                            "<tr><td>1430.4420</td></tr>",
                            "<tr><td>1020.5940</td></tr>",
                            "<tr><td>1020.5940</td></tr>",
                            "<tr><td>1466.0100</td></tr>",
                            "<tr><td>1466.0100</td></tr>",
                            "<tr><td>1020.5940</td></tr>",
                            "<tr><td>1466.0100</td></tr>",
                            "<tr><td>1430.4420</td></tr>",
                            "<tr><td>1020.5940</td></tr>",
                            "<tr><td>1466.0100</td></tr>",
                            "<tr><td>1466.0100</td></tr>",
                            "<tr><td>1020.5940</td></tr>",
                            "<tr><td>1020.5940</td></tr>",
                            "<tr><td>1020.5940</td></tr>",
                            "<tr><td>1466.0100</td></tr>",
                            "<tr><td>1376.9940</td></tr>",
                            "<tr><td>1376.9940</td></tr>",
                            "<tr><td>1376.9940</td></tr>",
                            "<tr><td>1391.9940</td></tr>",
                            "<tr><td>1376.9940</td></tr>",
                            "<tr><td>1020.5940</td></tr>",
                            "<tr><td>1466.0100</td></tr>",
                            "<tr><td>1466.0100</td></tr>",
                            "<tr><td>1466.0100</td></tr>",
                            "<tr><td>1020.5940</td></tr>",
                            "<tr><td>1020.5940</td></tr>",
                            "<tr><td>1020.5940</td></tr>",
                            "<tr><td>1466.0100</td></tr>",
                            "<tr><td>1466.0100</td></tr>",
                            "<tr><td>1391.9940</td></tr>",
                            "<tr><td>1376.9940</td></tr>",
                            "<tr><td>1376.9940</td></tr>",
                            "<tr><td>1376.9940</td></tr>",
                            "<tr><td>1391.9940</td></tr>",
                            "<tr><td>1391.9940</td></tr>",
                            "<tr><td>1020.5940</td></tr>",
                            "<tr><td>1466.0100</td></tr>",
                            "<tr><td>1466.0100</td></tr>",
                            "<tr><td>1020.5940</td></tr>",
                            "<tr><td>1020.5940</td></tr>",
                            "<tr><td>1020.5940</td></tr>",
                            "<tr><td>1466.0100</td></tr>",
                            "<tr><td>1466.0100</td></tr>",
                            "<tr><td>1466.0100</td></tr>",
                            "<tr><td>1430.4420</td></tr>",
                            "<tr><td>1430.4420</td></tr>",
                            "<tr><td>1430.4420</td></tr>",
                            "<tr><td>1430.4420</td></tr>",
                            "<tr><td>1391.9940</td></tr>",
                            "<tr><td>1391.9940</td></tr>",
                            "<tr><td>1430.4420</td></tr>",
                            "<tr><td>1430.4420</td></tr>",
                            "<tr><td>1376.9940</td></tr>",
                            "<tr><td>1391.9940</td></tr>",
                            "<tr><td>1391.9940</td></tr>",
                            "<tr><td>1376.9940</td></tr>",
                            "<tr><td>1376.9940</td></tr>",
                            "<tr><td>1430.4420</td></tr>",
                            "<tr><td>1430.4420</td></tr>",
                            "<tr><td>1430.4420</td></tr>",
                            "<tr><td>1430.4420</td></tr>",
                            "<tr><td>1430.4420</td></tr>",
                            "<tr><td>1430.4420</td></tr>",
                            "<tr><td>1391.9940</td></tr>",
                            "<tr><td>1020.5940</td></tr>",
                            "<tr><td>1020.5940</td></tr>",
                            "<tr><td>1020.5940</td></tr>",
                            "<tr><td>1376.9940</td></tr>",
                            "<tr><td>1376.9940</td></tr>",
                            "<tr><td>1376.9940</td></tr>",
                            "<tr><td>1391.9940</td></tr>",
                            "<tr><td>1391.9940</td></tr>",
                            "<tr><td>1391.9940</td></tr>",
                            "<tr><td>1020.5940</td></tr>",
                            "<tr><td>1466.0100</td></tr>",
                            "<tr><td>1466.0100</td></tr>",
                            "<tr><td>1466.0100</td></tr>",
                            "<tr><td>1020.5940</td></tr>",
                            "<tr><td>1020.5940</td></tr>",
                            "<tr><td>1466.0100</td></tr>",
                            "<tr><td>1020.5940</td></tr>",
                            "<tr><td>1466.0100</td></tr>",
                            "<tr><td>1020.5940</td></tr>",
                            "<tr><td>1020.5940</td></tr>",
                            "<tr><td>1020.5940</td></tr>",
                            "<tr><td>1466.0100</td></tr>",
                            "<tr><td>1466.0100</td></tr>",
                            "<tr><td>1466.0100</td></tr>",
                            "<tr><td>1466.0100</td></tr>",
                            "<tr><td>1466.0100</td></tr>",
                            "<tr><td>1020.5940</td></tr>",
                            "<tr><td>1020.5940</td></tr>",
                            "<tr><td>1466.0100</td></tr>",
                            "<tr><td>1466.0100</td></tr>",
                            "<tr><td>1020.5940</td></tr>",
                            "<tr><td>1020.5940</td></tr>",
                            "<tr><td>1417.1430</td></tr>",
                            "<tr><td>1391.9940</td></tr>",
                            "<tr><td>1376.9940</td></tr>",
                            "<tr><td>1376.9940</td></tr>",
                            "<tr><td>1391.9940</td></tr>",
                            "<tr><td>1345.5942</td></tr>",
                            "<tr><td>1430.4420</td></tr>",
                            "<tr><td>1382.7606</td></tr>",
                            "<tr><td>1430.4420</td></tr>",
                            "<tr><td>1391.9940</td></tr>",
                            "<tr><td>1391.9940</td></tr>",
                            "<tr><td>1391.9940</td></tr>",
                            "<tr><td>1376.9940</td></tr>",
                            "<tr><td>1376.9940</td></tr>",
                            "<tr><td>1376.9940</td></tr>",
                            "<tr><td>1376.9940</td></tr>",
                            "<tr><td>1376.9940</td></tr>",
                            "<tr><td>1391.9940</td></tr>",
                            "<tr><td>1376.9940</td></tr>",
                            "<tr><td>1376.9940</td></tr>",
                            "<tr><td>1391.9940</td></tr>",
                            "<tr><td>1430.4420</td></tr>",
                            "<tr><td>1311.2385</td></tr>",
                            "<tr><td>1430.4420</td></tr>",
                            "<tr><td>1311.2385</td></tr>",
                            "<tr><td>1466.0100</td></tr>",
                            "<tr><td>1466.0100</td></tr>",
                            "<tr><td>1020.5940</td></tr>",
                            "<tr><td>1466.0100</td></tr>",
                            "<tr><td>1020.5940</td></tr>",
                            "<tr><td>1020.5940</td></tr>",
                            "<tr><td>1430.4420</td></tr>",
                            "<tr><td>1020.5940</td></tr>",
                            "<tr><td>1020.5940</td></tr>",
                            "<tr><td>1376.9940</td></tr>",
                            "<tr><td>1391.9940</td></tr>",
                            "<tr><td>1376.9940</td></tr>",
                            "<tr><td>1391.9940</td></tr>",
                            "<tr><td>1376.9940</td></tr>",
                            "<tr><td>1430.4420</td></tr>",
                            "<tr><td>1020.5940</td></tr>",
                            "<tr><td>1466.0100</td></tr>",
                            "<tr><td>1020.5940</td></tr>",
                            "<tr><td>1020.5940</td></tr>",
                            "<tr><td>1466.0100</td></tr>",
                            "<tr><td>1376.9940</td></tr>",
                            "<tr><td>1430.4420</td></tr>",
                            "<tr><td>1020.5940</td></tr>",
                            "<tr><td>1466.0100</td></tr>",
                            "<tr><td>1466.0100</td></tr>",
                            "<tr><td>1020.5940</td></tr>",
                            "<tr><td>1466.0100</td></tr>",
                            "<tr><td>1020.5940</td></tr>",
                            "<tr><td>1020.5940</td></tr>",
                            "<tr><td>1020.5940</td></tr>",
                            "<tr><td>1020.5940</td></tr>",
                            "<tr><td>1020.5940</td></tr>",
                            "<tr><td>1430.4420</td></tr>",
                            "<tr><td>1430.4420</td></tr>",
                            "<tr><td>1430.4420</td></tr>",
                            "<tr><td>1466.0100</td></tr>",
                            "<tr><td>1020.5940</td></tr>",
                            "<tr><td>1020.5940</td></tr>",
                            "<tr><td>1466.0100</td></tr>",
                            "<tr><td>1466.0100</td></tr>",
                            "<tr><td>1020.5940</td></tr>",
                            "<tr><td>1430.4420</td></tr>",
                            "<tr><td>1430.4420</td></tr>",
                            "<tr><td>1430.4420</td></tr>",
                            "<tr><td>1020.5940</td></tr>",
                            "<tr><td>1020.5940</td></tr>",
                            "<tr><td>1430.4420</td></tr>",
                            "<tr><td>1430.4420</td></tr>",
                            "<tr><td>1430.4420</td></tr>",
                            "<tr><td>1466.0100</td></tr>",
                            "<tr><td>1020.5940</td></tr>",
                            "<tr><td>1466.0100</td></tr>",
                            "<tr><td>1020.5940</td></tr>",
                            "<tr><td>1466.0100</td></tr>",
                            "<tr><td>1430.4420</td></tr>",
                            "<tr><td>1466.0100</td></tr>",
                            "<tr><td>1020.5940</td></tr>",
                            "<tr><td>1466.0100</td></tr>",
                            "<tr><td>1466.0100</td></tr>",
                            "<tr><td>1020.5940</td></tr>",
                            "<tr><td>1466.0100</td></tr>",
                            "<tr><td>1020.5940</td></tr>",
                            "<tr><td>1020.5940</td></tr>",
                            "<tr><td>1466.0100</td></tr>",
                            "<tr><td>1466.0100</td></tr>",
                            "<tr><td>1020.5940</td></tr>",
                            "<tr><td>1020.5940</td></tr>",
                            "<tr><td>1466.0100</td></tr>",
                            "<tr><td>1466.0100</td></tr>",
                            "<tr><td>1466.0100</td></tr>",
                            "<tr><td>1020.5940</td></tr>",
                            "<tr><td>1466.0100</td></tr>",
                            "<tr><td>1020.5940</td></tr>",
                            "<tr><td>1020.5940</td></tr>",
                            "<tr><td>1376.9940</td></tr>",
                            "<tr><td>1391.9940</td></tr>",
                            "<tr><td>1376.9940</td></tr>",
                            "<tr><td>1391.9940</td></tr>",
                            "<tr><td>1376.9940</td></tr>",
                            "<tr><td>1020.5940</td></tr>",
                            "<tr><td>1376.9940</td></tr>",
                            "<tr><td>1391.9940</td></tr>",
                            "<tr><td>1376.9940</td></tr>",
                            "<tr><td>1391.9940</td></tr>",
                            "<tr><td>1376.9940</td></tr>",
                            "<tr><td>1391.9940</td></tr>",
                            "<tr><td>1430.4420</td></tr>",
                            "<tr><td>1430.4420</td></tr>",
                            "<tr><td>1020.5940</td></tr>",
                            "<tr><td>1430.4420</td></tr>",
                            "<tr><td>1382.7606</td></tr>",
                            "<tr><td>1466.0100</td></tr>",
                            "<tr><td>1214.8500</td></tr>",
                            "<tr><td>1120.4900</td></tr>",
                            "<tr><td>1214.8500</td></tr>",
                            "<tr><td>1120.4900</td></tr>",
                            "<tr><td>1214.8500</td></tr>",
                            "<tr><td>1120.4900</td></tr>",
                            "<tr><td>1214.8500</td></tr>",
                            "<tr><td>1120.4900</td></tr>",
                            "<tr><td>1120.4900</td></tr>",
                            "<tr><td>1120.4900</td></tr>",
                            "<tr><td>1120.4900</td></tr>",
                            "<tr><td>1214.8500</td></tr>",
                            "<tr><td>1120.4900</td></tr>",
                            "<tr><td>1120.4900</td></tr>",
                            "<tr><td>1214.8500</td></tr>",
                            "<tr><td>1120.4900</td></tr>",
                            "<tr><td>1120.4900</td></tr>",
                            "<tr><td>1214.8500</td></tr>",
                            "<tr><td>1120.4900</td></tr>",
                            "<tr><td>1120.4900</td></tr>",
                            "<tr><td>1120.4900</td></tr>",
                            "<tr><td>1120.4900</td></tr>",
                            "<tr><td>1214.8500</td></tr>",
                            "<tr><td>1120.4900</td></tr>",
                            "<tr><td>1214.8500</td></tr>",
                            "<tr><td>1120.4900</td></tr>",
                            "<tr><td>1214.8500</td></tr>",
                            "<tr><td>1120.4900</td></tr>",
                            "<tr><td>1120.4900</td></tr>",
                            "<tr><td>1120.4900</td></tr>",
                            "<tr><td>1214.8500</td></tr>",
                            "<tr><td>1120.4900</td></tr>",
                            "<tr><td>1120.4900</td></tr>",
                            "<tr><td>1214.8500</td></tr>",
                            "<tr><td>1120.4900</td></tr>",
                            "<tr><td>1214.8500</td></tr>",
                            "<tr><td>1120.4900</td></tr>",
                            "<tr><td>1120.4900</td></tr>",
                            "<tr><td>1214.8500</td></tr>",
                            "<tr><td>1120.4900</td></tr>",
                            "<tr><td>1120.4900</td></tr>",
                            "<tr><td>1120.4900</td></tr>",
                            "<tr><td>1214.8500</td></tr>",
                            "<tr><td>1120.4900</td></tr>",
                            "<tr><td>1120.4900</td></tr>",
                            "<tr><td>1120.4900</td></tr>",
                            "<tr><td>1120.4900</td></tr>",
                            "<tr><td>1120.4900</td></tr>",
                            "<tr><td>1120.4900</td></tr>",
                            "<tr><td>1120.4900</td></tr>",
                            "<tr><td>1120.4900</td></tr>",
                            "<tr><td>1214.8500</td></tr>",
                            "<tr><td>1214.8500</td></tr>",
                            "<tr><td>1120.4900</td></tr>",
                            "<tr><td>1214.8500</td></tr>",
                            "<tr><td>1214.8500</td></tr>",
                            "<tr><td>1120.4900</td></tr>",
                            "<tr><td>1120.4900</td></tr>",
                            "<tr><td>1120.4900</td></tr>",
                            "<tr><td>1120.4900</td></tr>",
                            "<tr><td>1120.4900</td></tr>",
                            "<tr><td>1120.4900</td></tr>",
                            "<tr><td>1214.8500</td></tr>",
                            "<tr><td>1214.8500</td></tr>",
                            "<tr><td>1376.9940</td></tr>",
                            "<tr><td>1376.9940</td></tr>",
                            "<tr><td>1376.9940</td></tr>",
                            "<tr><td>1391.9940</td></tr>",
                            "<tr><td>1391.9940</td></tr>",
                            "<tr><td>1466.0100</td></tr>",
                            "<tr><td>1020.5940</td></tr>",
                            "<tr><td>1466.0100</td></tr>",
                            "<tr><td>1466.0100</td></tr>",
                            "<tr><td>1020.5940</td></tr>",
                            "<tr><td>1020.5940</td></tr>",
                            "<tr><td>1466.0100</td></tr>",
                            "<tr><td>1020.5940</td></tr>",
                            "<tr><td>1376.9940</td></tr>",
                            "<tr><td>1376.9940</td></tr>",
                            "<tr><td>1020.5940</td></tr>",
                            "<tr><td>1430.4420</td></tr>",
                            "<tr><td>1430.4420</td></tr>",
                            "<tr><td>1430.4420</td></tr>",
                            "<tr><td>1020.5940</td></tr>",
                            "<tr><td>1430.4420</td></tr>",
                            "<tr><td>1020.5940</td></tr>",
                            "<tr><td>1430.4420</td></tr>",
                            "<tr><td>1430.4420</td></tr>",
                            "<tr><td>1430.4420</td></tr>",
                            "<tr><td>1020.5940</td></tr>",
                            "<tr><td>1020.5940</td></tr>",
                            "<tr><td>1020.5940</td></tr>",
                            "<tr><td>1020.5940</td></tr>",
                            "<tr><td>1376.9940</td></tr>",
                            "<tr><td>1430.4420</td></tr>",
                            "<tr><td>1430.4420</td></tr>",
                            "<tr><td>1391.9940</td></tr>",
                            "<tr><td>1376.9940</td></tr>",
                            "<tr><td>1391.9940</td></tr>",
                            "<tr><td>1376.9940</td></tr>",
                            "<tr><td>1391.9940</td></tr>",
                            "<tr><td>1376.9940</td></tr>",
                            "<tr><td>1430.4420</td></tr>",
                            "<tr><td>1430.4420</td></tr>",
                            "<tr><td>1430.4420</td></tr>",
                            "<tr><td>1430.4420</td></tr>",
                            "<tr><td>1466.0100</td></tr>",
                            "<tr><td>1020.5940</td></tr>",
                            "<tr><td>1020.5940</td></tr>",
                            "<tr><td>1466.0100</td></tr>",
                            "<tr><td>1466.0100</td></tr>",
                            "<tr><td>1466.0100</td></tr>",
                            "<tr><td>1466.0100</td></tr>",
                            "<tr><td>1020.5940</td></tr>",
                            "<tr><td>1020.5940</td></tr>",
                            "<tr><td>1376.9940</td></tr>",
                            "<tr><td>1391.9940</td></tr>",
                            "<tr><td>1376.9940</td></tr>",
                            "<tr><td>1391.9940</td></tr>",
                            "<tr><td>1376.9940</td></tr>",
                            "<tr><td>1391.9940</td></tr>",
                            "<tr><td>1430.4420</td></tr>",
                            "<tr><td>1430.4420</td></tr>",
                            "<tr><td>1430.4420</td></tr>",
                            "<tr><td>1020.5940</td></tr>",
                            "<tr><td>1020.5940</td></tr>",
                            "<tr><td>1376.9940</td></tr>",
                            "<tr><td>1376.9940</td></tr>",
                            "<tr><td>1376.9940</td></tr>",
                            "<tr><td>1391.9940</td></tr>",
                            "<tr><td>1391.9940</td></tr>",
                            "<tr><td>1391.9940</td></tr>",
                            "<tr><td>1376.9940</td></tr>",
                            "<tr><td>1331.0942</td></tr>",
                            "<tr><td>1391.9940</td></tr>",
                            "<tr><td>1391.9940</td></tr>",
                            "<tr><td>1376.9940</td></tr>",
                            "<tr><td>1376.9940</td></tr>",
                            "<tr><td>1391.9940</td></tr>",
                            "<tr><td>1466.0100</td></tr>",
                            "<tr><td>1466.0100</td></tr>",
                            "<tr><td>1020.5940</td></tr>",
                            "<tr><td>1466.0100</td></tr>",
                            "<tr><td>1466.0100</td></tr>",
                            "<tr><td>1020.5940</td></tr>",
                            "<tr><td>1020.5940</td></tr>",
                            "<tr><td>1466.0100</td></tr>",
                            "<tr><td>1020.5940</td></tr>",
                            "<tr><td>1376.9940</td></tr>",
                            "<tr><td>1430.4420</td></tr>",
                            "<tr><td>1430.4420</td></tr>",
                            "<tr><td>1430.4420</td></tr>",
                            "<tr><td>1430.4420</td></tr>",
                            "<tr><td>1430.4420</td></tr>",
                            "<tr><td>1376.9940</td></tr>",
                            "<tr><td>1466.0100</td></tr>",
                            "<tr><td>1466.0100</td></tr>",
                            "<tr><td>1020.5940</td></tr>",
                            "<tr><td>1020.5940</td></tr>",
                            "<tr><td>1020.5940</td></tr>",
                            "<tr><td>1466.0100</td></tr>",
                            "<tr><td>1020.5940</td></tr>",
                            "<tr><td>1466.0100</td></tr>",
                            "<tr><td>1466.0100</td></tr>",
                            "<tr><td>1430.4420</td></tr>",
                            "<tr><td>1430.4420</td></tr>",
                            "<tr><td>1430.4420</td></tr>",
                            "<tr><td>1020.5940</td></tr>",
                            "<tr><td>1466.0100</td></tr>",
                            "<tr><td>1466.0100</td></tr>",
                            "<tr><td>1466.0100</td></tr>",
                            "<tr><td>1020.5940</td></tr>",
                            "<tr><td>1020.5940</td></tr>",
                            "<tr><td>1430.4420</td></tr>",
                            "<tr><td>1430.4420</td></tr>",
                            "<tr><td>1376.9940</td></tr>",
                            "<tr><td>1020.5940</td></tr>",
                            "<tr><td>1020.5940</td></tr>",
                            "<tr><td>1391.9940</td></tr>",
                            "<tr><td>1376.9940</td></tr>",
                            "<tr><td>1331.0942</td></tr>",
                            "<tr><td>1391.9940</td></tr>",
                            "<tr><td>1391.9940</td></tr>",
                            "<tr><td>1376.9940</td></tr>",
                            "<tr><td>1376.9940</td></tr>",
                            "<tr><td>1020.5940</td></tr>",
                            "<tr><td>1376.9940</td></tr>",
                            "<tr><td>1466.0100</td></tr>",
                            "<tr><td>1466.0100</td></tr>",
                            "<tr><td>1020.5940</td></tr>",
                            "<tr><td>1020.5940</td></tr>",
                            "<tr><td>1020.5940</td></tr>",
                            "<tr><td>1466.0100</td></tr>",
                            "<tr><td>1020.5940</td></tr>",
                            "<tr><td>1466.0100</td></tr>",
                            "<tr><td>1466.0100</td></tr>",
                            "<tr><td>1020.5940</td></tr>",
                            "<tr><td>1391.9940</td></tr>",
                            "<tr><td>1376.9940</td></tr>",
                            "<tr><td>1376.9940</td></tr>",
                            "<tr><td>1391.9940</td></tr>",
                            "<tr><td>1391.9940</td></tr>",
                            "<tr><td>1376.9940</td></tr>",
                            "<tr><td>1391.9940</td></tr>",
                            "<tr><td>1376.9940</td></tr>",
                            "<tr><td>1391.9940</td></tr>",
                            "<tr><td>1376.9940</td></tr>",
                            "<tr><td>1391.9940</td></tr>",
                            "<tr><td>1376.9940</td></tr>",
                            "<tr><td>1376.9940</td></tr>",
                            "<tr><td>1376.9940</td></tr>",
                            "<tr><td>1391.9940</td></tr>",
                            "<tr><td>1391.9940</td></tr>",
                            "<tr><td>1020.5940</td></tr>",
                            "<tr><td>1020.5940</td></tr>",
                            "<tr><td>1466.0100</td></tr>",
                            "<tr><td>1020.5940</td></tr>",
                            "<tr><td>1020.5940</td></tr>",
                            "<tr><td>1466.0100</td></tr>",
                            "<tr><td>1020.5940</td></tr>",
                            "<tr><td>1430.4420</td></tr>",
                            "<tr><td>1430.4420</td></tr>",
                            "<tr><td>1430.4420</td></tr>",
                            "<tr><td>1430.4420</td></tr>",
                            "<tr><td>1430.4420</td></tr>",
                            "<tr><td>1430.4420</td></tr>",
                            "<tr><td>1020.5940</td></tr>",
                            "<tr><td>1466.0100</td></tr>",
                            "<tr><td>1466.0100</td></tr>",
                            "<tr><td>1466.0100</td></tr>",
                            "<tr><td>1020.5940</td></tr>",
                            "<tr><td>1391.9940</td></tr>",
                            "<tr><td>1391.9940</td></tr>",
                            "<tr><td>1376.9940</td></tr>",
                            "<tr><td>1376.9940</td></tr>",
                            "<tr><td>1376.9940</td></tr>",
                            "<tr><td>1376.9940</td></tr>",
                            "<tr><td>1020.5940</td></tr>",
                            "<tr><td>1466.0100</td></tr>",
                            "<tr><td>1466.0100</td></tr>",
                            "<tr><td>1020.5940</td></tr>",
                            "<tr><td>1020.5940</td></tr>",
                            "<tr><td>1020.5940</td></tr>",
                            "<tr><td>1466.0100</td></tr>",
                            "<tr><td>1020.5940</td></tr>",
                            "<tr><td>1020.5940</td></tr>",
                            "<tr><td>1466.0100</td></tr>",
                            "<tr><td>1020.5940</td></tr>",
                            "<tr><td>1466.0100</td></tr>",
                            "<tr><td>1020.5940</td></tr>",
                            "<tr><td>1466.0100</td></tr>",
                            "<tr><td>1466.0100</td></tr>",
                            "<tr><td>1020.5940</td></tr>",
                            "<tr><td>1020.5940</td></tr>",
                            "<tr><td>1466.0100</td></tr>",
                            "<tr><td>1020.5940</td></tr>",
                            "<tr><td>1466.0100</td></tr>",
                            "<tr><td>1466.0100</td></tr>",
                            "<tr><td>1466.0100</td></tr>",
                            "<tr><td>1466.0100</td></tr>",
                            "<tr><td>1466.0100</td></tr>",
                            "<tr><td>1020.5940</td></tr>",
                            "<tr><td>1020.5940</td></tr>",
                            "<tr><td>1020.5940</td></tr>",
                            "<tr><td>1466.0100</td></tr>",
                            "<tr><td>1376.9940</td></tr>",
                            "<tr><td>1391.9940</td></tr>",
                            "<tr><td>1376.9940</td></tr>",
                            "<tr><td>1391.9940</td></tr>",
                            "<tr><td>1466.0100</td></tr>",
                            "<tr><td>1020.5940</td></tr>",
                            "<tr><td>1466.0100</td></tr>",
                            "<tr><td>1466.0100</td></tr>",
                            "<tr><td>1466.0100</td></tr>",
                            "<tr><td>1466.0100</td></tr>",
                            "<tr><td>1020.5940</td></tr>",
                            "<tr><td>1020.5940</td></tr>",
                            "<tr><td>1430.4420</td></tr>",
                            "<tr><td>1020.5940</td></tr>",
                            "<tr><td>1020.5940</td></tr>",
                            "<tr><td>1376.9940</td></tr>",
                            "<tr><td>1391.9940</td></tr>",
                            "<tr><td>1391.9940</td></tr>",
                            "<tr><td>1345.5942</td></tr>",
                            "<tr><td>1376.9940</td></tr>",
                            "<tr><td>1376.9940</td></tr>",
                            "<tr><td>1376.9940</td></tr>",
                            "<tr><td>1466.0100</td></tr>",
                            "<tr><td>1430.4420</td></tr>",
                            "<tr><td>1430.4420</td></tr>",
                            "<tr><td>1430.4420</td></tr>",
                            "<tr><td>1430.4420</td></tr>",
                            "<tr><td>1430.4420</td></tr>",
                            "<tr><td>1376.9940</td></tr>",
                            "<tr><td>1466.0100</td></tr>",
                            "<tr><td>1466.0100</td></tr>",
                            "<tr><td>1020.5940</td></tr>",
                            "<tr><td>1020.5940</td></tr>",
                            "<tr><td>1466.0100</td></tr>",
                            "<tr><td>1466.0100</td></tr>",
                            "<tr><td>1020.5940</td></tr>",
                            "<tr><td>1020.5940</td></tr>",
                            "<tr><td>1466.0100</td></tr>",
                            "<tr><td>1466.0100</td></tr>",
                            "<tr><td>1020.5940</td></tr>",
                            "<tr><td>1020.5940</td></tr>",
                            "<tr><td>1466.0100</td></tr>",
                            "<tr><td>1020.5940</td></tr>",
                            "<tr><td>1020.5940</td></tr>",
                            "<tr><td>1376.9940</td></tr>",
                            "<tr><td>1020.5940</td></tr>",
                            "<tr><td>1020.5940</td></tr>",
                            "<tr><td>1430.4420</td></tr>",
                            "<tr><td>1430.4420</td></tr>",
                            "<tr><td>1391.9940</td></tr>",
                            "<tr><td>1376.9940</td></tr>",
                            "<tr><td>1376.9940</td></tr>",
                            "<tr><td>1376.9940</td></tr>",
                            "<tr><td>1391.9940</td></tr>",
                            "<tr><td>1391.9940</td></tr>",
                            "<tr><td>1020.5940</td></tr>",
                            "<tr><td>1020.5940</td></tr>",
                            "<tr><td>1020.5940</td></tr>",
                            "<tr><td>1466.0100</td></tr>",
                            "<tr><td>1376.9940</td></tr>",
                            "<tr><td>1430.4420</td></tr>",
                            "<tr><td>1382.7606</td></tr>",
                            "<tr><td>1430.4420</td></tr>",
                            "<tr><td>1430.4420</td></tr>",
                            "<tr><td>1430.4420</td></tr>",
                            "<tr><td>1466.0100</td></tr>",
                            "<tr><td>1376.9940</td></tr>",
                            "<tr><td>1376.9940</td></tr>",
                            "<tr><td>1391.9940</td></tr>",
                            "<tr><td>1376.9940</td></tr>",
                            "<tr><td>1391.9940</td></tr>",
                            "<tr><td>1376.9940</td></tr>",
                            "<tr><td>1020.5940</td></tr>",
                            "<tr><td>1376.9940</td></tr>",
                            "<tr><td>1376.9940</td></tr>",
                            "<tr><td>1376.9940</td></tr>",
                            "<tr><td>1391.9940</td></tr>",
                            "<tr><td>1345.5942</td></tr>",
                            "<tr><td>1391.9940</td></tr>",
                            "<tr><td>1262.2445</td></tr>",
                            "<tr><td>1311.2385</td></tr>",
                            "<tr><td>1430.4420</td></tr>",
                            "<tr><td>1430.4420</td></tr>",
                            "<tr><td>1430.4420</td></tr>",
                            "<tr><td>1376.9940</td></tr>",
                            "<tr><td>1331.0942</td></tr>",
                            "<tr><td>1376.9940</td></tr>",
                            "<tr><td>1391.9940</td></tr>",
                            "<tr><td>1376.9940</td></tr>",
                            "<tr><td>1391.9940</td></tr>",
                            "<tr><td>1376.9940</td></tr>",
                            "<tr><td>1391.9940</td></tr>",
                            "<tr><td>1376.9940</td></tr>",
                            "<tr><td>1430.4420</td></tr>",
                            "<tr><td>1430.4420</td></tr>",
                            "<tr><td>1382.7606</td></tr>",
                            "<tr><td>1430.4420</td></tr>",
                            "<tr><td>1430.4420</td></tr>",
                            "<tr><td>1430.4420</td></tr>",
                            "<tr><td>1020.5940</td></tr>",
                            "<tr><td>1466.0100</td></tr>",
                            "<tr><td>1466.0100</td></tr>",
                            "<tr><td>1020.5940</td></tr>",
                            "<tr><td>1466.0100</td></tr>",
                            "<tr><td>1466.0100</td></tr>",
                            "<tr><td>1020.5940</td></tr>",
                            "<tr><td>1020.5940</td></tr>",
                            "<tr><td>1466.0100</td></tr>",
                            "<tr><td>1430.4420</td></tr>",
                            "<tr><td>1466.0100</td></tr>",
                            "<tr><td>1020.5940</td></tr>",
                            "<tr><td>1466.0100</td></tr>",
                            "<tr><td>1020.5940</td></tr>",
                            "<tr><td>1020.5940</td></tr>",
                            "<tr><td>1466.0100</td></tr>",
                            "<tr><td>1466.0100</td></tr>",
                            "<tr><td>1020.5940</td></tr>",
                            "<tr><td>1466.0100</td></tr>",
                            "<tr><td>1466.0100</td></tr>",
                            "<tr><td>1020.5940</td></tr>",
                            "<tr><td>1020.5940</td></tr>",
                            "<tr><td>1466.0100</td></tr>",
                            "<tr><td>1391.9940</td></tr>",
                            "<tr><td>1376.9940</td></tr>",
                            "<tr><td>1376.9940</td></tr>",
                            "<tr><td>1376.9940</td></tr>",
                            "<tr><td>1391.9940</td></tr>",
                            "<tr><td>1376.9940</td></tr>",
                            "<tr><td>1391.9940</td></tr>",
                            "<tr><td>1391.9940</td></tr>",
                            "<tr><td>1376.9940</td></tr>",
                            "<tr><td>1391.9940</td></tr>",
                            "<tr><td>1376.9940</td></tr>",
                            "<tr><td>1376.9940</td></tr>",
                            "<tr><td>1430.4420</td></tr>",
                            "<tr><td>1430.4420</td></tr>",
                            "<tr><td>1020.5940</td></tr>",
                            "<tr><td>1466.0100</td></tr>",
                            "<tr><td>1020.5940</td></tr>",
                            "<tr><td>1466.0100</td></tr>",
                            "<tr><td>1466.0100</td></tr>",
                            "<tr><td>1020.5940</td></tr>",
                            "<tr><td>1020.5940</td></tr>",
                            "<tr><td>1466.0100</td></tr>",
                            "<tr><td>1430.4420</td></tr>",
                            "<tr><td>1382.7606</td></tr>",
                            "<tr><td>1430.4420</td></tr>",
                            "<tr><td>1020.5940</td></tr>",
                            "<tr><td>1466.0100</td></tr>",
                            "<tr><td>1466.0100</td></tr>",
                            "<tr><td>1020.5940</td></tr>",
                            "<tr><td>1466.0100</td></tr>",
                            "<tr><td>1466.0100</td></tr>",
                            "<tr><td>1020.5940</td></tr>",
                            "<tr><td>1466.0100</td></tr>",
                            "<tr><td>1466.0100</td></tr>",
                            "<tr><td>1020.5940</td></tr>",
                            "<tr><td>1466.0100</td></tr>",
                            "<tr><td>1020.5940</td></tr>",
                            "<tr><td>1466.0100</td></tr>",
                            "<tr><td>1020.5940</td></tr>",
                            "<tr><td>1020.5940</td></tr>",
                            "<tr><td>1466.0100</td></tr>",
                            "<tr><td>1466.0100</td></tr>",
                            "<tr><td>1376.9940</td></tr>",
                            "<tr><td>1020.5940</td></tr>",
                            "<tr><td>1391.9940</td></tr>",
                            "<tr><td>1376.9940</td></tr>",
                            "<tr><td>1376.9940</td></tr>",
                            "<tr><td>1391.9940</td></tr>",
                            "<tr><td>1376.9940</td></tr>",
                            "<tr><td>1466.0100</td></tr>",
                            "<tr><td>1020.5940</td></tr>",
                            "<tr><td>1020.5940</td></tr>",
                            "<tr><td>1466.0100</td></tr>",
                            "<tr><td>1430.4420</td></tr>",
                            "<tr><td>1382.7606</td></tr>",
                            "<tr><td>1430.4420</td></tr>",
                            "<tr><td>1430.4420</td></tr>",
                            "<tr><td>1430.4420</td></tr>",
                            "<tr><td>1391.9940</td></tr>",
                            "<tr><td>1376.9940</td></tr>",
                            "<tr><td>1391.9940</td></tr>",
                            "<tr><td>1376.9940</td></tr>",
                            "<tr><td>1466.0100</td></tr>",
                            "<tr><td>1020.5940</td></tr>",
                            "<tr><td>1466.0100</td></tr>",
                            "<tr><td>1466.0100</td></tr>",
                            "<tr><td>1020.5940</td></tr>",
                            "<tr><td>1020.5940</td></tr>",
                            "<tr><td>1466.0100</td></tr>",
                            "<tr><td>1466.0100</td></tr>",
                            "<tr><td>1020.5940</td></tr>",
                            "<tr><td>1376.9940</td></tr>",
                            "<tr><td>1376.9940</td></tr>",
                            "<tr><td>1391.9940</td></tr>",
                            "<tr><td>1430.4420</td></tr>",
                            "<tr><td>1430.4420</td></tr>",
                            "<tr><td>1430.4420</td></tr>",
                            "<tr><td>1430.4420</td></tr>",
                            "<tr><td>1430.4420</td></tr>",
                            "<tr><td>1382.7606</td></tr>",
                            "<tr><td>1430.4420</td></tr>",
                            "<tr><td>1430.4420</td></tr>",
                            "<tr><td>1430.4420</td></tr>",
                            "<tr><td>1466.0100</td></tr>",
                            "<tr><td>1020.5940</td></tr>",
                            "<tr><td>1020.5940</td></tr>",
                            "<tr><td>1466.0100</td></tr>",
                            "<tr><td>1466.0100</td></tr>",
                            "<tr><td>1020.5940</td></tr>",
                            "<tr><td>1020.5940</td></tr>",
                            "<tr><td>1376.9940</td></tr>",
                            "<tr><td>1430.4420</td></tr>",
                            "<tr><td>1430.4420</td></tr>",
                            "<tr><td>1430.4420</td></tr>",
                            "<tr><td>1430.4420</td></tr>",
                            "<tr><td>1430.4420</td></tr>",
                            "<tr><td>1120.4900</td></tr>",
                            "<tr><td>1214.8500</td></tr>",
                            "<tr><td>1120.4900</td></tr>",
                            "<tr><td>1214.8500</td></tr>",
                            "<tr><td>1120.4900</td></tr>",
                            "<tr><td>1120.4900</td></tr>",
                            "<tr><td>1214.8500</td></tr>",
                            "<tr><td>1120.4900</td></tr>",
                            "<tr><td>1214.8500</td></tr>",
                            "<tr><td>1120.4900</td></tr>",
                            "<tr><td>1120.4900</td></tr>",
                            "<tr><td>1120.4900</td></tr>",
                            "<tr><td>1120.4900</td></tr>",
                            "<tr><td>1120.4900</td></tr>",
                            "<tr><td>1214.8500</td></tr>",
                            "<tr><td>1214.8500</td></tr>",
                            "<tr><td>1120.4900</td></tr>",
                            "<tr><td>1120.4900</td></tr>",
                            "<tr><td>1120.4900</td></tr>",
                            "<tr><td>1214.8500</td></tr>",
                            "<tr><td>1120.4900</td></tr>",
                            "<tr><td>1120.4900</td></tr>",
                            "<tr><td>1120.4900</td></tr>",
                            "<tr><td>1214.8500</td></tr>",
                            "<tr><td>1214.8500</td></tr>",
                            "<tr><td>1120.4900</td></tr>",
                            "<tr><td>1120.4900</td></tr>",
                            "<tr><td>1120.4900</td></tr>",
                            "<tr><td>1120.4900</td></tr>",
                            "<tr><td>1120.4900</td></tr>",
                            "<tr><td>1120.4900</td></tr>",
                            "<tr><td>1120.4900</td></tr>",
                            "<tr><td>1214.8500</td></tr>",
                            "<tr><td>1214.8500</td></tr>",
                            "<tr><td>1214.8500</td></tr>",
                            "<tr><td>1120.4900</td></tr>",
                            "<tr><td>1120.4900</td></tr>",
                            "<tr><td>1214.8500</td></tr>",
                            "<tr><td>1214.8500</td></tr>",
                            "<tr><td>1120.4900</td></tr>",
                            "<tr><td>1120.4900</td></tr>",
                            "<tr><td>1120.4900</td></tr>",
                            "<tr><td>1120.4900</td></tr>",
                            "<tr><td>1214.8500</td></tr>",
                            "<tr><td>1120.4900</td></tr>",
                            "<tr><td>1120.4900</td></tr>",
                            "<tr><td>1120.4900</td></tr>",
                            "<tr><td>1120.4900</td></tr>",
                            "<tr><td>1120.4900</td></tr>",
                            "<tr><td>1214.8500</td></tr>",
                            "<tr><td>1214.8500</td></tr>",
                            "<tr><td>1120.4900</td></tr>",
                            "<tr><td>1214.8500</td></tr>",
                            "<tr><td>1120.4900</td></tr>",
                            "<tr><td>1120.4900</td></tr>",
                            "<tr><td>1120.4900</td></tr>",
                            "<tr><td>1120.4900</td></tr>",
                            "<tr><td>1120.4900</td></tr>",
                            "<tr><td>1120.4900</td></tr>",
                            "<tr><td>1120.4900</td></tr>",
                            "<tr><td>1120.4900</td></tr>",
                            "<tr><td>1120.4900</td></tr>",
                            "<tr><td>1120.4900</td></tr>",
                            "<tr><td>1214.8500</td></tr>",
                            "<tr><td>1214.8500</td></tr>",
                            "<tr><td>1120.4900</td></tr>",
                            "<tr><td>1120.4900</td></tr>",
                            "<tr><td>1120.4900</td></tr>",
                            "<tr><td>1120.4900</td></tr>",
                            "<tr><td>1214.8500</td></tr>",
                            "<tr><td>1120.4900</td></tr>",
                            "<tr><td>1214.8500</td></tr>",
                            "<tr><td>1120.4900</td></tr>",
                            "<tr><td>1120.4900</td></tr>",
                            "<tr><td>1120.4900</td></tr>",
                            "<tr><td>1120.4900</td></tr>",
                            "<tr><td>1120.4900</td></tr>",
                            "<tr><td>1120.4900</td></tr>",
                            "<tr><td>1120.4900</td></tr>",
                            "<tr><td>1120.4900</td></tr>",
                            "<tr><td>1120.4900</td></tr>",
                            "<tr><td>1430.4420</td></tr>",
                            "<tr><td>1430.4420</td></tr>",
                            "<tr><td>1430.4420</td></tr>",
                            "<tr><td>1430.4420</td></tr>",
                            "<tr><td>1391.9940</td></tr>",
                            "<tr><td>1376.9940</td></tr>",
                            "<tr><td>1391.9940</td></tr>",
                            "<tr><td>1376.9940</td></tr>",
                            "<tr><td>1391.9940</td></tr>",
                            "<tr><td>1376.9940</td></tr>",
                            "<tr><td>1466.0100</td></tr>",
                            "<tr><td>1466.0100</td></tr>",
                            "<tr><td>1466.0100</td></tr>",
                            "<tr><td>1020.5940</td></tr>",
                            "<tr><td>1466.0100</td></tr>",
                            "<tr><td>1466.0100</td></tr>",
                            "<tr><td>1020.5940</td></tr>",
                            "<tr><td>1020.5940</td></tr>",
                            "<tr><td>1391.9940</td></tr>",
                            "<tr><td>1391.9940</td></tr>",
                            "<tr><td>1391.9940</td></tr>",
                            "<tr><td>1376.9940</td></tr>",
                            "<tr><td>1331.0942</td></tr>",
                            "<tr><td>1430.4420</td></tr>",
                            "<tr><td>1430.4420</td></tr>",
                            "<tr><td>1430.4420</td></tr>",
                            "<tr><td>1430.4420</td></tr>",
                            "<tr><td>1430.4420</td></tr>",
                            "<tr><td>1466.0100</td></tr>",
                            "<tr><td>1466.0100</td></tr>",
                            "<tr><td>1020.5940</td></tr>",
                            "<tr><td>1020.5940</td></tr>",
                            "<tr><td>1466.0100</td></tr>",
                            "<tr><td>1466.0100</td></tr>",
                            "<tr><td>1376.9940</td></tr>",
                            "<tr><td>1020.5940</td></tr>",
                            "<tr><td>1020.5940</td></tr>",
                            "<tr><td>1466.0100</td></tr>",
                            "<tr><td>1466.0100</td></tr>",
                            "<tr><td>1020.5940</td></tr>",
                            "<tr><td>1020.5940</td></tr>",
                            "<tr><td>1466.0100</td></tr>",
                            "<tr><td>1466.0100</td></tr>",
                            "<tr><td>1466.0100</td></tr>",
                            "<tr><td>1391.9940</td></tr>",
                            "<tr><td>1391.9940</td></tr>",
                            "<tr><td>1376.9940</td></tr>",
                            "<tr><td>1376.9940</td></tr>",
                            "<tr><td>1391.9940</td></tr>",
                            "<tr><td>1376.9940</td></tr>",
                            "<tr><td>1020.5940</td></tr>",
                            "<tr><td>1430.4420</td></tr>",
                            "<tr><td>1430.4420</td></tr>",
                            "<tr><td>1430.4420</td></tr>",
                            "<tr><td>1466.0100</td></tr>",
                            "<tr><td>1466.0100</td></tr>",
                            "<tr><td>1020.5940</td></tr>",
                            "<tr><td>1430.4420</td></tr>",
                            "<tr><td>1430.4420</td></tr>",
                            "<tr><td>1020.5940</td></tr>",
                            "<tr><td>1466.0100</td></tr>",
                            "<tr><td>1466.0100</td></tr>",
                            "<tr><td>1020.5940</td></tr>",
                            "<tr><td>1466.0100</td></tr>",
                            "<tr><td>1466.0100</td></tr>",
                            "<tr><td>1466.0100</td></tr>",
                            "<tr><td>1020.5940</td></tr>",
                            "<tr><td>1020.5940</td></tr>",
                            "<tr><td>1466.0100</td></tr>",
                            "<tr><td>1466.0100</td></tr>",
                            "<tr><td>1466.0100</td></tr>",
                            "<tr><td>1020.5940</td></tr>",
                            "<tr><td>1020.5940</td></tr>",
                            "<tr><td>1430.4420</td></tr>",
                            "<tr><td>1430.4420</td></tr>",
                            "<tr><td>1430.4420</td></tr>",
                            "<tr><td>1430.4420</td></tr>",
                            "<tr><td>1466.0100</td></tr>",
                            "<tr><td>1466.0100</td></tr>",
                            "<tr><td>1020.5940</td></tr>",
                            "<tr><td>1466.0100</td></tr>",
                            "<tr><td>1430.4420</td></tr>",
                            "<tr><td>1430.4420</td></tr>",
                            "<tr><td>1430.4420</td></tr>",
                            "<tr><td>1430.4420</td></tr>",
                            "<tr><td>1430.4420</td></tr>",
                            "<tr><td>1430.4420</td></tr>",
                            "<tr><td>1391.9940</td></tr>",
                            "<tr><td>1376.9940</td></tr>",
                            "<tr><td>1391.9940</td></tr>",
                            "<tr><td>1391.9940</td></tr>",
                            "<tr><td>1376.9940</td></tr>",
                            "<tr><td>1376.9940</td></tr>",
                            "<tr><td>1391.9940</td></tr>",
                            "<tr><td>1376.9940</td></tr>",
                            "<tr><td>1376.9940</td></tr>",
                            "<tr><td>1391.9940</td></tr>",
                            "<tr><td>1430.4420</td></tr>",
                            "<tr><td>1430.4420</td></tr>",
                            "<tr><td>1430.4420</td></tr>",
                            "<tr><td>1376.9940</td></tr>",
                            "<tr><td>1376.9940</td></tr>",
                            "<tr><td>1376.9940</td></tr>",
                            "<tr><td>1430.4420</td></tr>",
                            "<tr><td>1430.4420</td></tr>",
                            "<tr><td>1430.4420</td></tr>",
                            "<tr><td>1430.4420</td></tr>",
                            "<tr><td>1376.9940</td></tr>",
                            "<tr><td>1466.0100</td></tr>",
                            "<tr><td>1430.4420</td></tr>",
                            "<tr><td>1430.4420</td></tr>",
                            "<tr><td>1376.9940</td></tr>",
                            "<tr><td>1020.5940</td></tr>",
                            "<tr><td>1466.0100</td></tr>",
                            "<tr><td>1466.0100</td></tr>",
                            "<tr><td>1020.5940</td></tr>",
                            "<tr><td>1466.0100</td></tr>",
                            "<tr><td>1376.9940</td></tr>",
                            "<tr><td>1391.9940</td></tr>",
                            "<tr><td>1391.9940</td></tr>",
                            "<tr><td>1430.4420</td></tr>",
                            "<tr><td>1430.4420</td></tr>",
                            "<tr><td>1430.4420</td></tr>",
                            "<tr><td>1430.4420</td></tr>",
                            "<tr><td>1430.4420</td></tr>",
                            "<tr><td>1376.9940</td></tr>",
                            "<tr><td>1430.4420</td></tr>",
                            "<tr><td>1391.9940</td></tr>",
                            "<tr><td>1391.9940</td></tr>",
                            "<tr><td>1376.9940</td></tr>",
                            "<tr><td>1376.9940</td></tr>",
                            "<tr><td>1391.9940</td></tr>",
                            "<tr><td>1466.0100</td></tr>",
                            "<tr><td>1020.5940</td></tr>",
                            "<tr><td>1466.0100</td></tr>",
                            "<tr><td>1020.5940</td></tr>",
                            "<tr><td>1020.5940</td></tr>",
                            "<tr><td>1466.0100</td></tr>",
                            "<tr><td>1430.4420</td></tr>",
                            "<tr><td>1430.4420</td></tr>",
                            "<tr><td>1430.4420</td></tr>",
                            "<tr><td>1020.5940</td></tr>",
                            "<tr><td>1376.9940</td></tr>",
                            "<tr><td>1391.9940</td></tr>",
                            "<tr><td>1391.9940</td></tr>",
                            "<tr><td>1391.9940</td></tr>",
                            "<tr><td>1376.9940</td></tr>",
                            "<tr><td>1391.9940</td></tr>",
                            "<tr><td>1376.9940</td></tr>",
                            "<tr><td>1391.9940</td></tr>",
                            "<tr><td>1376.9940</td></tr>",
                            "<tr><td>1391.9940</td></tr>",
                            "<tr><td>1430.4420</td></tr>",
                            "<tr><td>1430.4420</td></tr>",
                            "<tr><td>1430.4420</td></tr>",
                            "<tr><td>1430.4420</td></tr>",
                            "<tr><td>1430.4420</td></tr>",
                            "<tr><td>1430.4420</td></tr>",
                            "<tr><td>1430.4420</td></tr>",
                            "<tr><td>1391.9940</td></tr>",
                            "<tr><td>1331.0942</td></tr>",
                            "<tr><td>1391.9940</td></tr>",
                            "<tr><td>1391.9940</td></tr>",
                            "<tr><td>1376.9940</td></tr>",
                            "<tr><td>1376.9940</td></tr>",
                            "<tr><td>1430.4420</td></tr>",
                            "<tr><td>1430.4420</td></tr>",
                            "<tr><td>1430.4420</td></tr>",
                            "<tr><td>1020.5940</td></tr>",
                            "<tr><td>1430.4420</td></tr>",
                            "<tr><td>1430.4420</td></tr>",
                            "<tr><td>1430.4420</td></tr>",
                            "<tr><td>1430.4420</td></tr>",
                            "<tr><td>1430.4420</td></tr>",
                            "<tr><td>1020.5940</td></tr>",
                            "<tr><td>1020.5940</td></tr>",
                            "<tr><td>1020.5940</td></tr>",
                            "<tr><td>1466.0100</td></tr>",
                            "<tr><td>1466.0100</td></tr>",
                            "<tr><td>1466.0100</td></tr>",
                            "<tr><td>1020.5940</td></tr>",
                            "<tr><td>1391.9940</td></tr>",
                            "<tr><td>1376.9940</td></tr>",
                            "<tr><td>1391.9940</td></tr>",
                            "<tr><td>1376.9940</td></tr>",
                            "<tr><td>1376.9940</td></tr>",
                            "<tr><td>1020.5940</td></tr>",
                            "<tr><td>1466.0100</td></tr>",
                            "<tr><td>1466.0100</td></tr>",
                            "<tr><td>1020.5940</td></tr>",
                            "<tr><td>1376.9940</td></tr>",
                            "<tr><td>1391.9940</td></tr>",
                            "<tr><td>1376.9940</td></tr>",
                            "<tr><td>1376.9940</td></tr>",
                            "<tr><td>1430.4420</td></tr>",
                            "<tr><td>1430.4420</td></tr>",
                            "<tr><td>1020.5940</td></tr>",
                            "<tr><td>1020.5940</td></tr>",
                            "<tr><td>1430.4420</td></tr>",
                            "<tr><td>1430.4420</td></tr>",
                            "<tr><td>1430.4420</td></tr>",
                            "<tr><td>1430.4420</td></tr>",
                            "<tr><td>1391.9940</td></tr>",
                            "<tr><td>1376.9940</td></tr>",
                            "<tr><td>1376.9940</td></tr>",
                            "<tr><td>1391.9940</td></tr>",
                            "<tr><td>1376.9940</td></tr>",
                            "<tr><td>1466.0100</td></tr>",
                            "<tr><td>1020.5940</td></tr>",
                            "<tr><td>1466.0100</td></tr>",
                            "<tr><td>1430.4420</td></tr>",
                            "<tr><td>1430.4420</td></tr>",
                            "<tr><td>1430.4420</td></tr>",
                            "<tr><td>1430.4420</td></tr>",
                            "<tr><td>1430.4420</td></tr>",
                            "<tr><td>1430.4420</td></tr>",
                            "<tr><td>1376.9940</td></tr>",
                            "<tr><td>1430.4420</td></tr>",
                            "<tr><td>1020.5940</td></tr>",
                            "<tr><td>1020.5940</td></tr>",
                            "<tr><td>1020.5940</td></tr>",
                            "<tr><td>1466.0100</td></tr>",
                            "<tr><td>1466.0100</td></tr>",
                            "<tr><td>1466.0100</td></tr>",
                            "<tr><td>1020.5940</td></tr>",
                            "<tr><td>1020.5940</td></tr>",
                            "<tr><td>1466.0100</td></tr>",
                            "<tr><td>1020.5940</td></tr>",
                            "<tr><td>1466.0100</td></tr>",
                            "<tr><td>1020.5940</td></tr>",
                            "<tr><td>1020.5940</td></tr>",
                            "<tr><td>1466.0100</td></tr>",
                            "<tr><td>1466.0100</td></tr>",
                            "<tr><td>1466.0100</td></tr>",
                            "<tr><td>1466.0100</td></tr>",
                            "<tr><td>1020.5940</td></tr>",
                            "<tr><td>1020.5940</td></tr>",
                            "<tr><td>1430.4420</td></tr>",
                            "<tr><td>1430.4420</td></tr>",
                            "<tr><td>1430.4420</td></tr>",
                            "<tr><td>1376.9940</td></tr>",
                            "<tr><td>1376.9940</td></tr>",
                            "<tr><td>1430.4420</td></tr>",
                            "<tr><td>1020.5940</td></tr>",
                            "<tr><td>1430.4420</td></tr>",
                            "<tr><td>1430.4420</td></tr>",
                            "<tr><td>1430.4420</td></tr>",
                            "<tr><td>1430.4420</td></tr>",
                            "<tr><td>1391.9940</td></tr>",
                            "<tr><td>1376.9940</td></tr>",
                            "<tr><td>1391.9940</td></tr>",
                            "<tr><td>1376.9940</td></tr>",
                            "<tr><td>1391.9940</td></tr>",
                            "<tr><td>1020.5940</td></tr>",
                            "<tr><td>1466.0100</td></tr>",
                            "<tr><td>1466.0100</td></tr>",
                            "<tr><td>1466.0100</td></tr>",
                            "<tr><td>1466.0100</td></tr>",
                            "<tr><td>1020.5940</td></tr>",
                            "<tr><td>1020.5940</td></tr>",
                            "<tr><td>1020.5940</td></tr>",
                            "<tr><td>1466.0100</td></tr>",
                            "<tr><td>1466.0100</td></tr>",
                            "<tr><td>1020.5940</td></tr>",
                            "<tr><td>1020.5940</td></tr>",
                            "<tr><td>1466.0100</td></tr>",
                            "<tr><td>1466.0100</td></tr>",
                            "<tr><td>1020.5940</td></tr>",
                            "<tr><td>1466.0100</td></tr>",
                            "<tr><td>1466.0100</td></tr>",
                            "<tr><td>1020.5940</td></tr>",
                            "<tr><td>1430.4420</td></tr>",
                            "<tr><td>1430.4420</td></tr>",
                            "<tr><td>1376.9940</td></tr>",
                            "<tr><td>1391.9940</td></tr>",
                            "<tr><td>1376.9940</td></tr>",
                            "<tr><td>1376.9940</td></tr>",
                            "<tr><td>1391.9940</td></tr>",
                            "<tr><td>1391.9940</td></tr>",
                            "<tr><td>1430.4420</td></tr>",
                            "<tr><td>1430.4420</td></tr>",
                            "<tr><td>1430.4420</td></tr>",
                            "<tr><td>1430.4420</td></tr>",
                            "<tr><td>1020.5940</td></tr>",
                            "<tr><td>1430.4420</td></tr>",
                            "<tr><td>1430.4420</td></tr>",
                            "<tr><td>1430.4420</td></tr>",
                            "<tr><td>1466.0100</td></tr>",
                            "<tr><td>1020.5940</td></tr>",
                            "<tr><td>1466.0100</td></tr>",
                            "<tr><td>1020.5940</td></tr>",
                            "<tr><td>1020.5940</td></tr>",
                            "<tr><td>1466.0100</td></tr>",
                            "<tr><td>1020.5940</td></tr>",
                            "<tr><td>1430.4420</td></tr>",
                            "<tr><td>1430.4420</td></tr>",
                            "<tr><td>1430.4420</td></tr>",
                            "<tr><td>1391.9940</td></tr>",
                            "<tr><td>1376.9940</td></tr>",
                            "<tr><td>1376.9940</td></tr>",
                            "<tr><td>1391.9940</td></tr>",
                            "<tr><td>1345.5942</td></tr>",
                            "<tr><td>1262.2445</td></tr>",
                            "<tr><td>1430.4420</td></tr>",
                            "<tr><td>1391.9940</td></tr>",
                            "<tr><td>1391.9940</td></tr>",
                            "<tr><td>1391.9940</td></tr>",
                            "<tr><td>1376.9940</td></tr>",
                            "<tr><td>1376.9940</td></tr>",
                            "<tr><td>1430.4420</td></tr>",
                            "<tr><td>1430.4420</td></tr>",
                            "<tr><td>1430.4420</td></tr>",
                            "<tr><td>1020.5940</td></tr>",
                            "<tr><td>1020.5940</td></tr>",
                            "<tr><td>1391.9940</td></tr>",
                            "<tr><td>1376.9940</td></tr>",
                            "<tr><td>1376.9940</td></tr>",
                            "<tr><td>1391.9940</td></tr>",
                            "<tr><td>1376.9940</td></tr>",
                            "<tr><td>1430.4420</td></tr>",
                            "<tr><td>1430.4420</td></tr>",
                            "<tr><td>1391.9940</td></tr>",
                            "<tr><td>1376.9940</td></tr>",
                            "<tr><td>1376.9940</td></tr>",
                            "<tr><td>1391.9940</td></tr>",
                            "<tr><td>1376.9940</td></tr>",
                            "<tr><td>1020.5940</td></tr>",
                            "<tr><td>1020.5940</td></tr>",
                            "<tr><td>1376.9940</td></tr>",
                            "<tr><td>1430.4420</td></tr>",
                            "<tr><td>1430.4420</td></tr>",
                            "<tr><td>1430.4420</td></tr>",
                            "<tr><td>1020.5940</td></tr>",
                            "<tr><td>1376.9940</td></tr>",
                            "<tr><td>1020.5940</td></tr>",
                            "<tr><td>1020.5940</td></tr>",
                            "<tr><td>1020.5940</td></tr>",
                            "<tr><td>1020.5940</td></tr>",
                            "<tr><td>1382.7606</td></tr>",
                            "<tr><td>1430.4420</td></tr>",
                            "<tr><td>1376.9940</td></tr>",
                            "<tr><td>1391.9940</td></tr>",
                            "<tr><td>1376.9940</td></tr>",
                            "<tr><td>1391.9940</td></tr>",
                            "<tr><td>1376.9940</td></tr>",
                            "<tr><td>1020.5940</td></tr>",
                            "<tr><td>1020.5940</td></tr>",
                            "<tr><td>1376.9940</td></tr>",
                            "<tr><td>1430.4420</td></tr>",
                            "<tr><td>1376.9940</td></tr>",
                            "<tr><td>1391.9940</td></tr>",
                            "<tr><td>1391.9940</td></tr>",
                            "<tr><td>1391.9940</td></tr>",
                            "<tr><td>1376.9940</td></tr>",
                            "<tr><td>1376.9940</td></tr>",
                            "<tr><td>1376.9940</td></tr>",
                            "<tr><td>1391.9940</td></tr>",
                            "<tr><td>1376.9940</td></tr>",
                            "<tr><td>1376.9940</td></tr>",
                            "<tr><td>1391.9940</td></tr>",
                            "<tr><td>1430.4420</td></tr>",
                            "<tr><td>1466.0100</td></tr>",
                            "<tr><td>1466.0100</td></tr>",
                            "<tr><td>1466.0100</td></tr>",
                            "<tr><td>1020.5940</td></tr>",
                            "<tr><td>1430.4420</td></tr>",
                            "<tr><td>1391.9940</td></tr>",
                            "<tr><td>1376.9940</td></tr>",
                            "<tr><td>1376.9940</td></tr>",
                            "<tr><td>1391.9940</td></tr>",
                            "<tr><td>1376.9940</td></tr>",
                            "<tr><td>1391.9940</td></tr>",
                            "<tr><td>1020.5940</td></tr>",
                            "<tr><td>1020.5940</td></tr>",
                            "<tr><td>1376.9940</td></tr>",
                            "<tr><td>1214.8500</td></tr>",
                            "<tr><td>1120.4900</td></tr>",
                            "<tr><td>1120.4900</td></tr>",
                            "<tr><td>1120.4900</td></tr>",
                            "<tr><td>1120.4900</td></tr>",
                            "<tr><td>1120.4900</td></tr>",
                            "<tr><td>1120.4900</td></tr>",
                            "<tr><td>1120.4900</td></tr>",
                            "<tr><td>1120.4900</td></tr>",
                            "<tr><td>1120.4900</td></tr>",
                            "<tr><td>1120.4900</td></tr>",
                            "<tr><td>1120.4900</td></tr>",
                            "<tr><td>1120.4900</td></tr>",
                            "<tr><td>1214.8500</td></tr>",
                            "<tr><td>1214.8500</td></tr>",
                            "<tr><td>1120.4900</td></tr>",
                            "<tr><td>1120.4900</td></tr>",
                            "<tr><td>1214.8500</td></tr>",
                            "<tr><td>1214.8500</td></tr>",
                            "<tr><td>1120.4900</td></tr>",
                            "<tr><td>1120.4900</td></tr>",
                            "<tr><td>1120.4900</td></tr>",
                            "<tr><td>1120.4900</td></tr>",
                            "<tr><td>1120.4900</td></tr>",
                            "<tr><td>1120.4900</td></tr>",
                            "<tr><td>1120.4900</td></tr>",
                            "<tr><td>1120.4900</td></tr>",
                            "<tr><td>1214.8500</td></tr>",
                            "<tr><td>1214.8500</td></tr>",
                            "<tr><td>1120.4900</td></tr>",
                            "<tr><td>1120.4900</td></tr>",
                            "<tr><td>1120.4900</td></tr>",
                            "<tr><td>1120.4900</td></tr>",
                            "<tr><td>1120.4900</td></tr>",
                            "<tr><td>1214.8500</td></tr>",
                            "<tr><td>1214.8500</td></tr>",
                            "<tr><td>1120.4900</td></tr>",
                            "<tr><td>1120.4900</td></tr>",
                            "<tr><td>1120.4900</td></tr>",
                            "<tr><td>1120.4900</td></tr>",
                            "<tr><td>1214.8500</td></tr>",
                            "<tr><td>1214.8500</td></tr>",
                            "<tr><td>1214.8500</td></tr>",
                            "<tr><td>1214.8500</td></tr>",
                            "<tr><td>1120.4900</td></tr>",
                            "<tr><td>1120.4900</td></tr>",
                            "<tr><td>1120.4900</td></tr>",
                            "<tr><td>1120.4900</td></tr>",
                            "<tr><td>1120.4900</td></tr>",
                            "<tr><td>1120.4900</td></tr>",
                            "<tr><td>1120.4900</td></tr>",
                            "<tr><td>1214.8500</td></tr>",
                            "<tr><td>1120.4900</td></tr>",
                            "<tr><td>1120.4900</td></tr>",
                            "<tr><td>1120.4900</td></tr>",
                            "<tr><td>1120.4900</td></tr>",
                            "<tr><td>1214.8500</td></tr>",
                            "<tr><td>1120.4900</td></tr>",
                            "<tr><td>1120.4900</td></tr>",
                            "<tr><td>1120.4900</td></tr>",
                            "<tr><td>1214.8500</td></tr>",
                            "<tr><td>1214.8500</td></tr>",
                            "<tr><td>1120.4900</td></tr>",
                            "<tr><td>1120.4900</td></tr>",
                            "<tr><td>1120.4900</td></tr>",
                            "<tr><td>1214.8500</td></tr>",
                            "<tr><td>1120.4900</td></tr>",
                            "<tr><td>1120.4900</td></tr>",
                            "<tr><td>1214.8500</td></tr>",
                            "<tr><td>1120.4900</td></tr>",
                            "<tr><td>1120.4900</td></tr>",
                            "<tr><td>1120.4900</td></tr>",
                            "<tr><td>1120.4900</td></tr>",
                            "<tr><td>1120.4900</td></tr>",
                            "<tr><td>1120.4900</td></tr>",
                            "<tr><td>1214.8500</td></tr>",
                            "<tr><td>1120.4900</td></tr>",
                            "<tr><td>1120.4900</td></tr>",
                            "<tr><td>1120.4900</td></tr>",
                            "<tr><td>1120.4900</td></tr>",
                            "<tr><td>1214.8500</td></tr>",
                            "<tr><td>1120.4900</td></tr>",
                            "<tr><td>1120.4900</td></tr>",
                            "<tr><td>1214.8500</td></tr>",
                            "<tr><td>1214.8500</td></tr>",
                            "<tr><td>1120.4900</td></tr>",
                            "<tr><td>1120.4900</td></tr>",
                            "<tr><td>1120.4900</td></tr>",
                            "<tr><td>1120.4900</td></tr>",
                            "<tr><td>1120.4900</td></tr>",
                            "<tr><td>1120.4900</td></tr>",
                            "<tr><td>1214.8500</td></tr>",
                            "<tr><td>1120.4900</td></tr>",
                            "<tr><td>1020.5940</td></tr>",
                            "<tr><td>1020.5940</td></tr>",
                            "<tr><td>1466.0100</td></tr>",
                            "<tr><td>1466.0100</td></tr>",
                            "<tr><td>1466.0100</td></tr>",
                            "<tr><td>1020.5940</td></tr>",
                            "<tr><td>1466.0100</td></tr>",
                            "<tr><td>1466.0100</td></tr>",
                            "<tr><td>1020.5940</td></tr>",
                            "<tr><td>1376.9940</td></tr>",
                            "<tr><td>1376.9940</td></tr>",
                            "<tr><td>1391.9940</td></tr>",
                            "<tr><td>1391.9940</td></tr>",
                            "<tr><td>1376.9940</td></tr>",
                            "<tr><td>1391.9940</td></tr>",
                            "<tr><td>1430.4420</td></tr>",
                            "<tr><td>1430.4420</td></tr>",
                            "<tr><td>1430.4420</td></tr>",
                            "<tr><td>1430.4420</td></tr>",
                            "<tr><td>1430.4420</td></tr>",
                            "<tr><td>1430.4420</td></tr>",
                            "<tr><td>1430.4420</td></tr>",
                            "<tr><td>1020.5940</td></tr>",
                            "<tr><td>1020.5940</td></tr>",
                            "<tr><td>1020.5940</td></tr>",
                            "<tr><td>1376.9940</td></tr>",
                            "<tr><td>1376.9940</td></tr>",
                            "<tr><td>1391.9940</td></tr>",
                            "<tr><td>1376.9940</td></tr>",
                            "<tr><td>1391.9940</td></tr>",
                            "<tr><td>1376.9940</td></tr>",
                            "<tr><td>1376.9940</td></tr>",
                            "<tr><td>1391.9940</td></tr>",
                            "<tr><td>1391.9940</td></tr>",
                            "<tr><td>1376.9940</td></tr>",
                            "<tr><td>1430.4420</td></tr>",
                            "<tr><td>1020.5940</td></tr>",
                            "<tr><td>1020.5940</td></tr>",
                            "<tr><td>1466.0100</td></tr>",
                            "<tr><td>1430.4420</td></tr>",
                            "<tr><td>1430.4420</td></tr>",
                            "<tr><td>1020.5940</td></tr>",
                            "<tr><td>1466.0100</td></tr>",
                            "<tr><td>1466.0100</td></tr>",
                            "<tr><td>1466.0100</td></tr>",
                            "<tr><td>1430.4420</td></tr>",
                            "<tr><td>1430.4420</td></tr>",
                            "<tr><td>1466.0100</td></tr>",
                            "<tr><td>1466.0100</td></tr>",
                            "<tr><td>1466.0100</td></tr>",
                            "<tr><td>1466.0100</td></tr>",
                            "<tr><td>1020.5940</td></tr>",
                            "<tr><td>1020.5940</td></tr>",
                            "<tr><td>1466.0100</td></tr>",
                            "<tr><td>1020.5940</td></tr>",
                            "<tr><td>1391.9940</td></tr>",
                            "<tr><td>1376.9940</td></tr>",
                            "<tr><td>1391.9940</td></tr>",
                            "<tr><td>1391.9940</td></tr>",
                            "<tr><td>1376.9940</td></tr>",
                            "<tr><td>1376.9940</td></tr>",
                            "<tr><td>1376.9940</td></tr>",
                            "<tr><td>1376.9940</td></tr>",
                            "<tr><td>1376.9940</td></tr>",
                            "<tr><td>1391.9940</td></tr>",
                            "<tr><td>1391.9940</td></tr>",
                            "<tr><td>1376.9940</td></tr>",
                            "<tr><td>1376.9940</td></tr>",
                            "<tr><td>1376.9940</td></tr>",
                            "<tr><td>1391.9940</td></tr>",
                            "<tr><td>1391.9940</td></tr>",
                            "<tr><td>1376.9940</td></tr>",
                            "<tr><td>1376.9940</td></tr>",
                            "<tr><td>1311.2385</td></tr>",
                            "<tr><td>1430.4420</td></tr>",
                            "<tr><td>1430.4420</td></tr>",
                            "<tr><td>1430.4420</td></tr>",
                            "<tr><td>1430.4420</td></tr>",
                            "<tr><td>1430.4420</td></tr>",
                            "<tr><td>1430.4420</td></tr>",
                            "<tr><td>1430.4420</td></tr>",
                            "<tr><td>1430.4420</td></tr>",
                            "<tr><td>1430.4420</td></tr>",
                            "<tr><td>1430.4420</td></tr>",
                            "<tr><td>1430.4420</td></tr>",
                            "<tr><td>1430.4420</td></tr>",
                            "<tr><td>1430.4420</td></tr>",
                            "<tr><td>1020.5940</td></tr>",
                            "<tr><td>1020.5940</td></tr>",
                            "<tr><td>1466.0100</td></tr>",
                            "<tr><td>1466.0100</td></tr>",
                            "<tr><td>1020.5940</td></tr>",
                            "<tr><td>1020.5940</td></tr>",
                            "<tr><td>1466.0100</td></tr>",
                            "<tr><td>1466.0100</td></tr>",
                            "<tr><td>1466.0100</td></tr>",
                            "<tr><td>1430.4420</td></tr>",
                            "<tr><td>1430.4420</td></tr>",
                            "<tr><td>1430.4420</td></tr>",
                            "<tr><td>1430.4420</td></tr>",
                            "<tr><td>1430.4420</td></tr>",
                            "<tr><td>1430.4420</td></tr>",
                            "<tr><td>1430.4420</td></tr>",
                            "<tr><td>1430.4420</td></tr>",
                            "<tr><td>1430.4420</td></tr>",
                            "<tr><td>1376.9940</td></tr>",
                            "<tr><td>1376.9940</td></tr>",
                            "<tr><td>1391.9940</td></tr>",
                            "<tr><td>1391.9940</td></tr>",
                            "<tr><td>1391.9940</td></tr>",
                            "<tr><td>1430.4420</td></tr>",
                            "<tr><td>1430.4420</td></tr>",
                            "<tr><td>1466.0100</td></tr>",
                            "<tr><td>1466.0100</td></tr>",
                            "<tr><td>1020.5940</td></tr>",
                            "<tr><td>1466.0100</td></tr>",
                            "<tr><td>1020.5940</td></tr>",
                            "<tr><td>1020.5940</td></tr>",
                            "<tr><td>1466.0100</td></tr>",
                            "<tr><td>1466.0100</td></tr>",
                            "<tr><td>1020.5940</td></tr>",
                            "<tr><td>1020.5940</td></tr>",
                            "<tr><td>1020.5940</td></tr>",
                            "<tr><td>1391.9940</td></tr>",
                            "<tr><td>1376.9940</td></tr>",
                            "<tr><td>1391.9940</td></tr>",
                            "<tr><td>1391.9940</td></tr>",
                            "<tr><td>1466.0100</td></tr>",
                            "<tr><td>1466.0100</td></tr>",
                            "<tr><td>1020.5940</td></tr>",
                            "<tr><td>1020.5940</td></tr>",
                            "<tr><td>1430.4420</td></tr>",
                            "<tr><td>1430.4420</td></tr>",
                            "<tr><td>1391.9940</td></tr>",
                            "<tr><td>1391.9940</td></tr>",
                            "<tr><td>1391.9940</td></tr>",
                            "<tr><td>1376.9940</td></tr>",
                            "<tr><td>1376.9940</td></tr>",
                            "<tr><td>1391.9940</td></tr>",
                            "<tr><td>1376.9940</td></tr>",
                            "<tr><td>1430.4420</td></tr>",
                            "<tr><td>1430.4420</td></tr>",
                            "<tr><td>1430.4420</td></tr>",
                            "<tr><td>1430.4420</td></tr>",
                            "<tr><td>1430.4420</td></tr>",
                            "<tr><td>1430.4420</td></tr>",
                            "<tr><td>1391.9940</td></tr>",
                            "<tr><td>1376.9940</td></tr>",
                            "<tr><td>1391.9940</td></tr>",
                            "<tr><td>1391.9940</td></tr>",
                            "<tr><td>1376.9940</td></tr>",
                            "<tr><td>1376.9940</td></tr>",
                            "<tr><td>1376.9940</td></tr>",
                            "<tr><td>1466.0100</td></tr>",
                            "<tr><td>1466.0100</td></tr>",
                            "<tr><td>1466.0100</td></tr>",
                            "<tr><td>1020.5940</td></tr>",
                            "<tr><td>1020.5940</td></tr>",
                            "<tr><td>1020.5940</td></tr>",
                            "<tr><td>1430.4420</td></tr>",
                            "<tr><td>1430.4420</td></tr>",
                            "<tr><td>1311.2385</td></tr>",
                            "<tr><td>1311.2385</td></tr>",
                            "<tr><td>1192.0350</td></tr>",
                            "<tr><td>1311.2385</td></tr>",
                            "<tr><td>1376.9940</td></tr>",
                            "<tr><td>1391.9940</td></tr>",
                            "<tr><td>1391.9940</td></tr>",
                            "<tr><td>1376.9940</td></tr>",
                            "<tr><td>1391.9940</td></tr>",
                            "<tr><td>1020.5940</td></tr>",
                            "<tr><td>1391.9940</td></tr>",
                            "<tr><td>1376.9940</td></tr>",
                            "<tr><td>1391.9940</td></tr>",
                            "<tr><td>1376.9940</td></tr>",
                            "<tr><td>1391.9940</td></tr>",
                            "<tr><td>1020.5940</td></tr>",
                            "<tr><td>1020.5940</td></tr>",
                            "<tr><td>1430.4420</td></tr>",
                            "<tr><td>1382.7606</td></tr>",
                            "<tr><td>1430.4420</td></tr>",
                            "<tr><td>1430.4420</td></tr>",
                            "<tr><td>1430.4420</td></tr>",
                            "<tr><td>1430.4420</td></tr>",
                            "<tr><td>1466.0100</td></tr>",
                            "<tr><td>1466.0100</td></tr>",
                            "<tr><td>1020.5940</td></tr>",
                            "<tr><td>1466.0100</td></tr>",
                            "<tr><td>1020.5940</td></tr>",
                            "<tr><td>1020.5940</td></tr>",
                            "<tr><td>1020.5940</td></tr>",
                            "<tr><td>1430.4420</td></tr>",
                            "<tr><td>1391.9940</td></tr>",
                            "<tr><td>1376.9940</td></tr>",
                            "<tr><td>1391.9940</td></tr>",
                            "<tr><td>1376.9940</td></tr>",
                            "<tr><td>1391.9940</td></tr>",
                            "<tr><td>1376.9940</td></tr>",
                            "<tr><td>1430.4420</td></tr>",
                            "<tr><td>1430.4420</td></tr>",
                            "<tr><td>1430.4420</td></tr>",
                            "<tr><td>1430.4420</td></tr>",
                            "<tr><td>1430.4420</td></tr>",
                            "<tr><td>1430.4420</td></tr>",
                            "<tr><td>1430.4420</td></tr>",
                            "<tr><td>1430.4420</td></tr>",
                            "<tr><td>1430.4420</td></tr>",
                            "<tr><td>1430.4420</td></tr>",
                            "<tr><td>1430.4420</td></tr>",
                            "<tr><td>1430.4420</td></tr>",
                            "<tr><td>1430.4420</td></tr>",
                            "<tr><td>1391.9940</td></tr>",
                            "<tr><td>1391.9940</td></tr>",
                            "<tr><td>1376.9940</td></tr>",
                            "<tr><td>1391.9940</td></tr>",
                            "<tr><td>1376.9940</td></tr>",
                            "<tr><td>1376.9940</td></tr>",
                            "<tr><td>1020.5940</td></tr>",
                            "</table>"
                        ]
                    }
                }
            ],
            "execution_count": 7
        },
        {
            "cell_type": "code",
            "source": [
                "/* Confirm no new stats */\r\n",
                "SELECT *\r\n",
                "\tFROM sys.stats\r\n",
                "\tWHERE OBJECT_NAME(object_id) = 'SalesOrderDetail';\r\n",
                "GO"
            ],
            "metadata": {
                "azdata_cell_guid": "a6f57434-ed1e-4cc7-b296-6742e12efee0"
            },
            "outputs": [
                {
                    "output_type": "display_data",
                    "data": {
                        "text/html": "(13 rows affected)"
                    },
                    "metadata": {}
                },
                {
                    "output_type": "display_data",
                    "data": {
                        "text/html": "Total execution time: 00:00:00.043"
                    },
                    "metadata": {}
                },
                {
                    "output_type": "execute_result",
                    "metadata": {},
                    "execution_count": 8,
                    "data": {
                        "application/vnd.dataresource+json": {
                            "schema": {
                                "fields": [
                                    {
                                        "name": "object_id"
                                    },
                                    {
                                        "name": "name"
                                    },
                                    {
                                        "name": "stats_id"
                                    },
                                    {
                                        "name": "auto_created"
                                    },
                                    {
                                        "name": "user_created"
                                    },
                                    {
                                        "name": "no_recompute"
                                    },
                                    {
                                        "name": "has_filter"
                                    },
                                    {
                                        "name": "filter_definition"
                                    },
                                    {
                                        "name": "is_temporary"
                                    },
                                    {
                                        "name": "is_incremental"
                                    },
                                    {
                                        "name": "has_persisted_sample"
                                    },
                                    {
                                        "name": "stats_generation_method"
                                    },
                                    {
                                        "name": "stats_generation_method_desc"
                                    }
                                ]
                            },
                            "data": [
                                {
                                    "0": "1154103152",
                                    "1": "PK_SalesOrderDetail_SalesOrderID_SalesOrderDetailID",
                                    "2": "1",
                                    "3": "0",
                                    "4": "0",
                                    "5": "0",
                                    "6": "0",
                                    "7": "NULL",
                                    "8": "0",
                                    "9": "0",
                                    "10": "0",
                                    "11": "0",
                                    "12": "Sort based statistics"
                                },
                                {
                                    "0": "1154103152",
                                    "1": "AK_SalesOrderDetail_rowguid",
                                    "2": "2",
                                    "3": "0",
                                    "4": "0",
                                    "5": "0",
                                    "6": "0",
                                    "7": "NULL",
                                    "8": "0",
                                    "9": "0",
                                    "10": "0",
                                    "11": "0",
                                    "12": "Sort based statistics"
                                },
                                {
                                    "0": "1154103152",
                                    "1": "IX_SalesOrderDetail_ProductID",
                                    "2": "3",
                                    "3": "0",
                                    "4": "0",
                                    "5": "0",
                                    "6": "0",
                                    "7": "NULL",
                                    "8": "0",
                                    "9": "0",
                                    "10": "0",
                                    "11": "0",
                                    "12": "Sort based statistics"
                                },
                                {
                                    "0": "1154103152",
                                    "1": "_WA_Sys_00000006_44CA3770",
                                    "2": "4",
                                    "3": "1",
                                    "4": "0",
                                    "5": "0",
                                    "6": "0",
                                    "7": "NULL",
                                    "8": "0",
                                    "9": "0",
                                    "10": "0",
                                    "11": "0",
                                    "12": "Sort based statistics"
                                },
                                {
                                    "0": "1154103152",
                                    "1": "_WA_Sys_00000007_44CA3770",
                                    "2": "5",
                                    "3": "1",
                                    "4": "0",
                                    "5": "0",
                                    "6": "0",
                                    "7": "NULL",
                                    "8": "0",
                                    "9": "0",
                                    "10": "0",
                                    "11": "0",
                                    "12": "Sort based statistics"
                                },
                                {
                                    "0": "1154103152",
                                    "1": "NCI_UnitPrice_SalesOrderDetail",
                                    "2": "6",
                                    "3": "0",
                                    "4": "0",
                                    "5": "0",
                                    "6": "1",
                                    "7": "([UnitPrice]>=(150.00) AND [UnitPrice]<=(175.00))",
                                    "8": "0",
                                    "9": "0",
                                    "10": "0",
                                    "11": "0",
                                    "12": "Sort based statistics"
                                },
                                {
                                    "0": "1154103152",
                                    "1": "_WA_Sys_00000004_44CA3770",
                                    "2": "7",
                                    "3": "1",
                                    "4": "0",
                                    "5": "0",
                                    "6": "0",
                                    "7": "NULL",
                                    "8": "0",
                                    "9": "0",
                                    "10": "0",
                                    "11": "0",
                                    "12": "Sort based statistics"
                                },
                                {
                                    "0": "1154103152",
                                    "1": "NCI_ProductID_SalesOrderDetail",
                                    "2": "8",
                                    "3": "0",
                                    "4": "0",
                                    "5": "0",
                                    "6": "1",
                                    "7": "([ProductID] IN ((776), (777)))",
                                    "8": "0",
                                    "9": "0",
                                    "10": "0",
                                    "11": "0",
                                    "12": "Sort based statistics"
                                },
                                {
                                    "0": "1154103152",
                                    "1": "NCI_SalesOrderDetail_CarrierTrackingNumber",
                                    "2": "9",
                                    "3": "0",
                                    "4": "0",
                                    "5": "0",
                                    "6": "0",
                                    "7": "NULL",
                                    "8": "0",
                                    "9": "0",
                                    "10": "0",
                                    "11": "0",
                                    "12": "Sort based statistics"
                                },
                                {
                                    "0": "1154103152",
                                    "1": "SalesOrderDetailID",
                                    "2": "11",
                                    "3": "0",
                                    "4": "1",
                                    "5": "0",
                                    "6": "0",
                                    "7": "NULL",
                                    "8": "0",
                                    "9": "0",
                                    "10": "0",
                                    "11": "0",
                                    "12": "Sort based statistics"
                                },
                                {
                                    "0": "1154103152",
                                    "1": "UnitPriceDiscount",
                                    "2": "12",
                                    "3": "0",
                                    "4": "1",
                                    "5": "0",
                                    "6": "0",
                                    "7": "NULL",
                                    "8": "0",
                                    "9": "0",
                                    "10": "0",
                                    "11": "0",
                                    "12": "Sort based statistics"
                                },
                                {
                                    "0": "1154103152",
                                    "1": "LineTotal",
                                    "2": "13",
                                    "3": "0",
                                    "4": "1",
                                    "5": "0",
                                    "6": "0",
                                    "7": "NULL",
                                    "8": "0",
                                    "9": "0",
                                    "10": "0",
                                    "11": "0",
                                    "12": "Sort based statistics"
                                },
                                {
                                    "0": "1154103152",
                                    "1": "ModifiedDate",
                                    "2": "14",
                                    "3": "0",
                                    "4": "1",
                                    "5": "0",
                                    "6": "0",
                                    "7": "NULL",
                                    "8": "0",
                                    "9": "0",
                                    "10": "0",
                                    "11": "0",
                                    "12": "Sort based statistics"
                                }
                            ]
                        },
                        "text/html": [
                            "<table>",
                            "<tr><th>object_id</th><th>name</th><th>stats_id</th><th>auto_created</th><th>user_created</th><th>no_recompute</th><th>has_filter</th><th>filter_definition</th><th>is_temporary</th><th>is_incremental</th><th>has_persisted_sample</th><th>stats_generation_method</th><th>stats_generation_method_desc</th></tr>",
                            "<tr><td>1154103152</td><td>PK_SalesOrderDetail_SalesOrderID_SalesOrderDetailID</td><td>1</td><td>0</td><td>0</td><td>0</td><td>0</td><td>NULL</td><td>0</td><td>0</td><td>0</td><td>0</td><td>Sort based statistics</td></tr>",
                            "<tr><td>1154103152</td><td>AK_SalesOrderDetail_rowguid</td><td>2</td><td>0</td><td>0</td><td>0</td><td>0</td><td>NULL</td><td>0</td><td>0</td><td>0</td><td>0</td><td>Sort based statistics</td></tr>",
                            "<tr><td>1154103152</td><td>IX_SalesOrderDetail_ProductID</td><td>3</td><td>0</td><td>0</td><td>0</td><td>0</td><td>NULL</td><td>0</td><td>0</td><td>0</td><td>0</td><td>Sort based statistics</td></tr>",
                            "<tr><td>1154103152</td><td>_WA_Sys_00000006_44CA3770</td><td>4</td><td>1</td><td>0</td><td>0</td><td>0</td><td>NULL</td><td>0</td><td>0</td><td>0</td><td>0</td><td>Sort based statistics</td></tr>",
                            "<tr><td>1154103152</td><td>_WA_Sys_00000007_44CA3770</td><td>5</td><td>1</td><td>0</td><td>0</td><td>0</td><td>NULL</td><td>0</td><td>0</td><td>0</td><td>0</td><td>Sort based statistics</td></tr>",
                            "<tr><td>1154103152</td><td>NCI_UnitPrice_SalesOrderDetail</td><td>6</td><td>0</td><td>0</td><td>0</td><td>1</td><td>([UnitPrice]&gt;=(150.00) AND [UnitPrice]&lt;=(175.00))</td><td>0</td><td>0</td><td>0</td><td>0</td><td>Sort based statistics</td></tr>",
                            "<tr><td>1154103152</td><td>_WA_Sys_00000004_44CA3770</td><td>7</td><td>1</td><td>0</td><td>0</td><td>0</td><td>NULL</td><td>0</td><td>0</td><td>0</td><td>0</td><td>Sort based statistics</td></tr>",
                            "<tr><td>1154103152</td><td>NCI_ProductID_SalesOrderDetail</td><td>8</td><td>0</td><td>0</td><td>0</td><td>1</td><td>([ProductID] IN ((776), (777)))</td><td>0</td><td>0</td><td>0</td><td>0</td><td>Sort based statistics</td></tr>",
                            "<tr><td>1154103152</td><td>NCI_SalesOrderDetail_CarrierTrackingNumber</td><td>9</td><td>0</td><td>0</td><td>0</td><td>0</td><td>NULL</td><td>0</td><td>0</td><td>0</td><td>0</td><td>Sort based statistics</td></tr>",
                            "<tr><td>1154103152</td><td>SalesOrderDetailID</td><td>11</td><td>0</td><td>1</td><td>0</td><td>0</td><td>NULL</td><td>0</td><td>0</td><td>0</td><td>0</td><td>Sort based statistics</td></tr>",
                            "<tr><td>1154103152</td><td>UnitPriceDiscount</td><td>12</td><td>0</td><td>1</td><td>0</td><td>0</td><td>NULL</td><td>0</td><td>0</td><td>0</td><td>0</td><td>Sort based statistics</td></tr>",
                            "<tr><td>1154103152</td><td>LineTotal</td><td>13</td><td>0</td><td>1</td><td>0</td><td>0</td><td>NULL</td><td>0</td><td>0</td><td>0</td><td>0</td><td>Sort based statistics</td></tr>",
                            "<tr><td>1154103152</td><td>ModifiedDate</td><td>14</td><td>0</td><td>1</td><td>0</td><td>0</td><td>NULL</td><td>0</td><td>0</td><td>0</td><td>0</td><td>Sort based statistics</td></tr>",
                            "</table>"
                        ]
                    }
                }
            ],
            "execution_count": 8
        },
        {
            "cell_type": "code",
            "source": [
                "/* parse the event data */\r\n",
                "use master;\r\n",
                "GO\r\n",
                "\r\n",
                "SELECT\r\n",
                "event_data.value('(event/@name)[1]', 'varchar(50)') AS event_name,\r\n",
                "    event_data.value('(event/@timestamp)[1]', 'varchar(50)') AS [TIMESTAMP],\r\n",
                "\tevent_data.value('(event/action[@name=\"database_name\"]/value)[1]', 'varchar(max)') AS DBName\r\n",
                "\t,event_data.value('(event/action[@name=\"sql_text\"]/value)[1]', 'varchar(max)') AS SQLText\r\n",
                "\t,event_data.value('(event/data[@name=\"column_list\"]/value)[1]', 'varchar(max)') AS AffectedColumn\r\n",
                "FROM(\r\n",
                "SELECT CONVERT(XML, t2.event_data) AS event_data\r\n",
                " FROM (\r\n",
                "  SELECT target_data = convert(XML, target_data)\r\n",
                "   FROM sys.dm_xe_session_targets t\r\n",
                "    INNER JOIN sys.dm_xe_sessions s \r\n",
                "        ON t.event_session_address = s.address\r\n",
                "   WHERE t.target_name = 'event_file'\r\n",
                "    AND s.name = 'MissingColumnStats') cte1\r\n",
                "   CROSS APPLY cte1.target_data.nodes('//EventFileTarget/File') FileEvent(FileTarget)\r\n",
                "   CROSS APPLY  sys.fn_xe_file_target_read_file(FileEvent.FileTarget.value('@name', 'varchar(1000)'), NULL, NULL, NULL) t2)\r\n",
                "    AS evts(event_data);"
            ],
            "metadata": {
                "azdata_cell_guid": "3636605e-8768-4326-94b4-a238441c9104"
            },
            "outputs": [
                {
                    "output_type": "display_data",
                    "data": {
                        "text/html": "Commands completed successfully."
                    },
                    "metadata": {}
                },
                {
                    "output_type": "display_data",
                    "data": {
                        "text/html": "(0 rows affected)"
                    },
                    "metadata": {}
                },
                {
                    "output_type": "display_data",
                    "data": {
                        "text/html": "Total execution time: 00:00:00.153"
                    },
                    "metadata": {}
                },
                {
                    "output_type": "execute_result",
                    "metadata": {},
                    "execution_count": 9,
                    "data": {
                        "application/vnd.dataresource+json": {
                            "schema": {
                                "fields": [
                                    {
                                        "name": "event_name"
                                    },
                                    {
                                        "name": "TIMESTAMP"
                                    },
                                    {
                                        "name": "DBName"
                                    },
                                    {
                                        "name": "SQLText"
                                    },
                                    {
                                        "name": "AffectedColumn"
                                    }
                                ]
                            },
                            "data": []
                        },
                        "text/html": [
                            "<table>",
                            "<tr><th>event_name</th><th>TIMESTAMP</th><th>DBName</th><th>SQLText</th><th>AffectedColumn</th></tr>",
                            "</table>"
                        ]
                    }
                }
            ],
            "execution_count": 9
        }
    ]
}