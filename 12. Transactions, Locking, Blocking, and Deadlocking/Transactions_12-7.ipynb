{
    "metadata": {
        "kernelspec": {
            "name": "SQL",
            "display_name": "SQL",
            "language": "sql"
        },
        "language_info": {
            "name": "sql",
            "version": ""
        }
    },
    "nbformat_minor": 2,
    "nbformat": 4,
    "cells": [
        {
            "cell_type": "code",
            "source": [
                "/* 12-7 */\r\n",
                "\r\n",
                "USE AdventureWorks2014;\r\n",
                "GO\r\n",
                "BEGIN TRAN\r\n",
                "UPDATE Production.ProductInventory \r\n",
                "SET Quantity = 400 \r\n",
                "WHERE ProductID = 1 AND LocationID = 1;"
            ],
            "metadata": {
                "azdata_cell_guid": "a2c393c6-243c-4645-8732-b5cff355a8d3"
            },
            "outputs": [
                {
                    "output_type": "display_data",
                    "data": {
                        "text/html": "Commands completed successfully."
                    },
                    "metadata": {}
                },
                {
                    "output_type": "display_data",
                    "data": {
                        "text/html": "(1 row affected)"
                    },
                    "metadata": {}
                },
                {
                    "output_type": "display_data",
                    "data": {
                        "text/html": "Total execution time: 00:00:00.014"
                    },
                    "metadata": {}
                }
            ],
            "execution_count": 1
        },
        {
            "cell_type": "code",
            "source": [
                "/* Next, in a second query editor window, the following query is executed. */\r\n",
                "USE AdventureWorks2014;\r\n",
                "GO\r\n",
                "BEGIN TRAN\r\n",
                "UPDATE Production.ProductInventory \r\n",
                "SET Quantity = 406 \r\n",
                "WHERE ProductID = 1 AND LocationID = 1;"
            ],
            "metadata": {
                "azdata_cell_guid": "95cbd50d-4040-4c71-8c6c-c36fa0ad24ac"
            },
            "outputs": [
                {
                    "output_type": "display_data",
                    "data": {
                        "text/html": "Commands completed successfully."
                    },
                    "metadata": {}
                },
                {
                    "output_type": "display_data",
                    "data": {
                        "text/html": "(1 row affected)"
                    },
                    "metadata": {}
                },
                {
                    "output_type": "display_data",
                    "data": {
                        "text/html": "Total execution time: 00:00:00.010"
                    },
                    "metadata": {}
                }
            ],
            "execution_count": 2
        },
        {
            "cell_type": "code",
            "source": [
                "/*Now in a third query editor window, I’ll execute the followingthis next query. */\r\n",
                "SELECT blocking_session_id, wait_duration_ms, session_id\r\n",
                "FROM sys.dm_os_waiting_tasks\r\n",
                "WHERE blocking_session_id IS NOT NULL;\r\n",
                "GO"
            ],
            "metadata": {
                "azdata_cell_guid": "84e9cac2-7b5c-4d37-b1c2-86055fbbab41"
            },
            "outputs": [
                {
                    "output_type": "display_data",
                    "data": {
                        "text/html": "(0 rows affected)"
                    },
                    "metadata": {}
                },
                {
                    "output_type": "display_data",
                    "data": {
                        "text/html": "Total execution time: 00:00:00.020"
                    },
                    "metadata": {}
                },
                {
                    "output_type": "execute_result",
                    "metadata": {},
                    "execution_count": 3,
                    "data": {
                        "application/vnd.dataresource+json": {
                            "schema": {
                                "fields": [
                                    {
                                        "name": "blocking_session_id"
                                    },
                                    {
                                        "name": "wait_duration_ms"
                                    },
                                    {
                                        "name": "session_id"
                                    }
                                ]
                            },
                            "data": []
                        },
                        "text/html": [
                            "<table>",
                            "<tr><th>blocking_session_id</th><th>wait_duration_ms</th><th>session_id</th></tr>",
                            "</table>"
                        ]
                    }
                }
            ],
            "execution_count": 3
        },
        {
            "cell_type": "code",
            "source": [
                "SELECT t.text\r\n",
                "FROM sys.dm_exec_connections c\r\n",
                "CROSS APPLY sys.dm_exec_sql_text (c.most_recent_sql_handle) t\r\n",
                "WHERE c.session_id = 53; --use the blocking_session_id from the previous query\r\n",
                "GO"
            ],
            "metadata": {
                "azdata_cell_guid": "1f1e58be-8698-442c-b453-1a0a1ae5ed06"
            },
            "outputs": [
                {
                    "output_type": "display_data",
                    "data": {
                        "text/html": "(1 row affected)"
                    },
                    "metadata": {}
                },
                {
                    "output_type": "display_data",
                    "data": {
                        "text/html": "Total execution time: 00:00:00.030"
                    },
                    "metadata": {}
                },
                {
                    "output_type": "execute_result",
                    "metadata": {},
                    "execution_count": 4,
                    "data": {
                        "application/vnd.dataresource+json": {
                            "schema": {
                                "fields": [
                                    {
                                        "name": "text"
                                    }
                                ]
                            },
                            "data": [
                                {
                                    "0": "SELECT t.text\r\nFROM sys.dm_exec_connections c\r\nCROSS APPLY sys.dm_exec_sql_text (c.most_recent_sql_handle) t\r\nWHERE c.session_id = 53; --use the blocking_session_id from the previous query\r\n"
                                }
                            ]
                        },
                        "text/html": [
                            "<table>",
                            "<tr><th>text</th></tr>",
                            "<tr><td>SELECT t.text\r\nFROM sys.dm_exec_connections c\r\nCROSS APPLY sys.dm_exec_sql_text (c.most_recent_sql_handle) t\r\nWHERE c.session_id = 53; --use the blocking_session_id from the previous query\r\n</td></tr>",
                            "</table>"
                        ]
                    }
                }
            ],
            "execution_count": 4
        }
    ]
}