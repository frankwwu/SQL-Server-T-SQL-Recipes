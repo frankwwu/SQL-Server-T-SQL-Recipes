{
    "metadata": {
        "kernelspec": {
            "name": "SQL",
            "display_name": "SQL",
            "language": "sql"
        },
        "language_info": {
            "name": "sql",
            "version": ""
        }
    },
    "nbformat_minor": 2,
    "nbformat": 4,
    "cells": [
        {
            "cell_type": "code",
            "source": [
                "/* 12-2 */\r\n",
                "USE AdventureWorks2014;\r\n",
                "GO\r\n",
                "BEGIN TRANSACTION\r\n",
                "DELETE Production.ProductProductPhoto \r\n",
                "WHERE ProductID = 317;\r\n",
                "\r\n",
                "DBCC OPENTRAN('AdventureWorks2014');\r\n",
                "\r\n",
                "ROLLBACK TRANSACTION;\r\n",
                "GO "
            ],
            "metadata": {
                "azdata_cell_guid": "da6e7c9f-2704-4a25-87f3-7690c6544962"
            },
            "outputs": [],
            "execution_count": null
        }
    ]
}