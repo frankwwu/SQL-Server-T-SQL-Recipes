{
    "metadata": {
        "kernelspec": {
            "name": "SQL",
            "display_name": "SQL",
            "language": "sql"
        },
        "language_info": {
            "name": "sql",
            "version": ""
        }
    },
    "nbformat_minor": 2,
    "nbformat": 4,
    "cells": [
        {
            "cell_type": "code",
            "source": [
                "/* 12-8 */\r\n",
                "\r\n",
                "USE AdventureWorks2014;\r\n",
                "GO\r\n",
                "BEGIN TRAN\r\n",
                "UPDATE Production.ProductInventory \r\n",
                "SET Quantity = 400 \r\n",
                "WHERE ProductID = 1 AND LocationID = 1;"
            ],
            "metadata": {
                "azdata_cell_guid": "04b1c09c-2dd3-4757-ac5d-e52bb3d086bd",
                "tags": []
            },
            "outputs": [
                {
                    "output_type": "display_data",
                    "data": {
                        "text/html": "Commands completed successfully."
                    },
                    "metadata": {}
                },
                {
                    "output_type": "display_data",
                    "data": {
                        "text/html": "(1 row affected)"
                    },
                    "metadata": {}
                },
                {
                    "output_type": "display_data",
                    "data": {
                        "text/html": "Total execution time: 00:00:00.007"
                    },
                    "metadata": {}
                }
            ],
            "execution_count": 1
        },
        {
            "cell_type": "code",
            "source": [
                "/*In a second query window, this example demonstrates\r\n",
                " setting up a lock timeout period of one second (1,000 milliseconds).\r\n",
                " */\r\n",
                "\r\n",
                "USE AdventureWorks2014;\r\n",
                "GO\r\n",
                "SET LOCK_TIMEOUT 1000;\r\n",
                "UPDATE Production.ProductInventory \r\n",
                "SET Quantity = 406 \r\n",
                "WHERE ProductID = 1 AND LocationID = 1;\r\n",
                "\r\n",
                "/* From the original query window */\r\n",
                "ROLLBACK TRANSACTION;"
            ],
            "metadata": {
                "azdata_cell_guid": "7fa17da1-5f9e-4fd9-b5b2-d2a2bd3acad6"
            },
            "outputs": [
                {
                    "output_type": "display_data",
                    "data": {
                        "text/html": "Commands completed successfully."
                    },
                    "metadata": {}
                },
                {
                    "output_type": "display_data",
                    "data": {
                        "text/html": "(1 row affected)"
                    },
                    "metadata": {}
                },
                {
                    "output_type": "display_data",
                    "data": {
                        "text/html": "Total execution time: 00:00:00.007"
                    },
                    "metadata": {}
                }
            ],
            "execution_count": 2
        }
    ]
}