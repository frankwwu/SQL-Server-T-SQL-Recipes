{
    "metadata": {
        "kernelspec": {
            "name": "SQL",
            "display_name": "SQL",
            "language": "sql"
        },
        "language_info": {
            "name": "sql",
            "version": ""
        }
    },
    "nbformat_minor": 2,
    "nbformat": 4,
    "cells": [
        {
            "cell_type": "code",
            "source": [
                "/* 12-4 */\r\n",
                "USE AdventureWorks2014;\r\n",
                "BEGIN TRAN\r\n",
                "SELECT ProductID, ModifiedDate \r\n",
                "FROM Production.ProductDocument WITH (TABLOCKX);"
            ],
            "metadata": {
                "azdata_cell_guid": "50bcd318-7cef-4b01-bd7b-e8d4b51295bd"
            },
            "outputs": [
                {
                    "output_type": "display_data",
                    "data": {
                        "text/html": "(32 rows affected)"
                    },
                    "metadata": {}
                },
                {
                    "output_type": "display_data",
                    "data": {
                        "text/html": "Total execution time: 00:00:00.023"
                    },
                    "metadata": {}
                },
                {
                    "output_type": "execute_result",
                    "metadata": {},
                    "execution_count": 1,
                    "data": {
                        "application/vnd.dataresource+json": {
                            "schema": {
                                "fields": [
                                    {
                                        "name": "ProductID"
                                    },
                                    {
                                        "name": "ModifiedDate"
                                    }
                                ]
                            },
                            "data": [
                                {
                                    "0": "317",
                                    "1": "2013-12-29 13:51:58.103"
                                },
                                {
                                    "0": "318",
                                    "1": "2013-12-29 13:51:58.103"
                                },
                                {
                                    "0": "319",
                                    "1": "2013-12-29 13:51:58.103"
                                },
                                {
                                    "0": "506",
                                    "1": "2013-12-29 13:51:58.103"
                                },
                                {
                                    "0": "506",
                                    "1": "2013-12-29 13:51:58.103"
                                },
                                {
                                    "0": "514",
                                    "1": "2013-12-29 13:51:58.120"
                                },
                                {
                                    "0": "515",
                                    "1": "2013-12-29 13:51:58.120"
                                },
                                {
                                    "0": "516",
                                    "1": "2013-12-29 13:51:58.120"
                                },
                                {
                                    "0": "517",
                                    "1": "2013-12-29 13:51:58.120"
                                },
                                {
                                    "0": "518",
                                    "1": "2013-12-29 13:51:58.120"
                                },
                                {
                                    "0": "519",
                                    "1": "2013-12-29 13:51:58.120"
                                },
                                {
                                    "0": "520",
                                    "1": "2013-12-29 13:51:58.120"
                                },
                                {
                                    "0": "521",
                                    "1": "2013-12-29 13:51:58.120"
                                },
                                {
                                    "0": "522",
                                    "1": "2013-12-29 13:51:58.120"
                                },
                                {
                                    "0": "928",
                                    "1": "2013-12-29 13:51:58.103"
                                },
                                {
                                    "0": "929",
                                    "1": "2013-12-29 13:51:58.103"
                                },
                                {
                                    "0": "930",
                                    "1": "2013-12-29 13:51:58.103"
                                },
                                {
                                    "0": "931",
                                    "1": "2013-12-29 13:51:58.103"
                                },
                                {
                                    "0": "932",
                                    "1": "2013-12-29 13:51:58.103"
                                },
                                {
                                    "0": "933",
                                    "1": "2013-12-29 13:51:58.103"
                                },
                                {
                                    "0": "934",
                                    "1": "2013-12-29 13:51:58.103"
                                },
                                {
                                    "0": "935",
                                    "1": "2013-12-29 13:51:58.103"
                                },
                                {
                                    "0": "936",
                                    "1": "2013-12-29 13:51:58.103"
                                },
                                {
                                    "0": "937",
                                    "1": "2013-12-29 13:51:58.103"
                                },
                                {
                                    "0": "938",
                                    "1": "2013-12-29 13:51:58.103"
                                },
                                {
                                    "0": "939",
                                    "1": "2013-12-29 13:51:58.103"
                                },
                                {
                                    "0": "940",
                                    "1": "2013-12-29 13:51:58.103"
                                },
                                {
                                    "0": "941",
                                    "1": "2013-12-29 13:51:58.103"
                                },
                                {
                                    "0": "977",
                                    "1": "2013-12-29 13:51:58.103"
                                },
                                {
                                    "0": "997",
                                    "1": "2013-12-29 13:51:58.103"
                                },
                                {
                                    "0": "998",
                                    "1": "2013-12-29 13:51:58.103"
                                },
                                {
                                    "0": "999",
                                    "1": "2013-12-29 13:51:58.120"
                                }
                            ]
                        },
                        "text/html": [
                            "<table>",
                            "<tr><th>ProductID</th><th>ModifiedDate</th></tr>",
                            "<tr><td>317</td><td>2013-12-29 13:51:58.103</td></tr>",
                            "<tr><td>318</td><td>2013-12-29 13:51:58.103</td></tr>",
                            "<tr><td>319</td><td>2013-12-29 13:51:58.103</td></tr>",
                            "<tr><td>506</td><td>2013-12-29 13:51:58.103</td></tr>",
                            "<tr><td>506</td><td>2013-12-29 13:51:58.103</td></tr>",
                            "<tr><td>514</td><td>2013-12-29 13:51:58.120</td></tr>",
                            "<tr><td>515</td><td>2013-12-29 13:51:58.120</td></tr>",
                            "<tr><td>516</td><td>2013-12-29 13:51:58.120</td></tr>",
                            "<tr><td>517</td><td>2013-12-29 13:51:58.120</td></tr>",
                            "<tr><td>518</td><td>2013-12-29 13:51:58.120</td></tr>",
                            "<tr><td>519</td><td>2013-12-29 13:51:58.120</td></tr>",
                            "<tr><td>520</td><td>2013-12-29 13:51:58.120</td></tr>",
                            "<tr><td>521</td><td>2013-12-29 13:51:58.120</td></tr>",
                            "<tr><td>522</td><td>2013-12-29 13:51:58.120</td></tr>",
                            "<tr><td>928</td><td>2013-12-29 13:51:58.103</td></tr>",
                            "<tr><td>929</td><td>2013-12-29 13:51:58.103</td></tr>",
                            "<tr><td>930</td><td>2013-12-29 13:51:58.103</td></tr>",
                            "<tr><td>931</td><td>2013-12-29 13:51:58.103</td></tr>",
                            "<tr><td>932</td><td>2013-12-29 13:51:58.103</td></tr>",
                            "<tr><td>933</td><td>2013-12-29 13:51:58.103</td></tr>",
                            "<tr><td>934</td><td>2013-12-29 13:51:58.103</td></tr>",
                            "<tr><td>935</td><td>2013-12-29 13:51:58.103</td></tr>",
                            "<tr><td>936</td><td>2013-12-29 13:51:58.103</td></tr>",
                            "<tr><td>937</td><td>2013-12-29 13:51:58.103</td></tr>",
                            "<tr><td>938</td><td>2013-12-29 13:51:58.103</td></tr>",
                            "<tr><td>939</td><td>2013-12-29 13:51:58.103</td></tr>",
                            "<tr><td>940</td><td>2013-12-29 13:51:58.103</td></tr>",
                            "<tr><td>941</td><td>2013-12-29 13:51:58.103</td></tr>",
                            "<tr><td>977</td><td>2013-12-29 13:51:58.103</td></tr>",
                            "<tr><td>997</td><td>2013-12-29 13:51:58.103</td></tr>",
                            "<tr><td>998</td><td>2013-12-29 13:51:58.103</td></tr>",
                            "<tr><td>999</td><td>2013-12-29 13:51:58.120</td></tr>",
                            "</table>"
                        ]
                    }
                }
            ],
            "execution_count": 1
        },
        {
            "cell_type": "code",
            "source": [
                "/*\r\n",
                "In a second query editor window, the following query is executed:\r\n",
                "*/\r\n",
                "SELECT sessionid = request_session_id ,\r\n",
                "ResType = resource_type ,\r\n",
                "ResDBID = resource_database_id ,\r\n",
                "ObjectName = OBJECT_NAME(resource_associated_entity_id, resource_database_id) ,\r\n",
                "RMode = request_mode ,\r\n",
                "RStatus = request_status  \r\n",
                "FROM sys.dm_tran_locks \r\n",
                "WHERE resource_type IN ('DATABASE', 'OBJECT');\r\n",
                "GO"
            ],
            "metadata": {
                "azdata_cell_guid": "3d1f1a1d-f281-40a8-b85b-e6544651e7b8"
            },
            "outputs": [
                {
                    "output_type": "display_data",
                    "data": {
                        "text/html": "(2 rows affected)"
                    },
                    "metadata": {}
                },
                {
                    "output_type": "display_data",
                    "data": {
                        "text/html": "Total execution time: 00:00:00.062"
                    },
                    "metadata": {}
                },
                {
                    "output_type": "execute_result",
                    "metadata": {},
                    "execution_count": 2,
                    "data": {
                        "application/vnd.dataresource+json": {
                            "schema": {
                                "fields": [
                                    {
                                        "name": "sessionid"
                                    },
                                    {
                                        "name": "ResType"
                                    },
                                    {
                                        "name": "ResDBID"
                                    },
                                    {
                                        "name": "ObjectName"
                                    },
                                    {
                                        "name": "RMode"
                                    },
                                    {
                                        "name": "RStatus"
                                    }
                                ]
                            },
                            "data": [
                                {
                                    "0": "62",
                                    "1": "DATABASE",
                                    "2": "5",
                                    "3": "NULL",
                                    "4": "S",
                                    "5": "GRANT"
                                },
                                {
                                    "0": "62",
                                    "1": "OBJECT",
                                    "2": "5",
                                    "3": "ProductDocument",
                                    "4": "X",
                                    "5": "GRANT"
                                }
                            ]
                        },
                        "text/html": [
                            "<table>",
                            "<tr><th>sessionid</th><th>ResType</th><th>ResDBID</th><th>ObjectName</th><th>RMode</th><th>RStatus</th></tr>",
                            "<tr><td>62</td><td>DATABASE</td><td>5</td><td>NULL</td><td>S</td><td>GRANT</td></tr>",
                            "<tr><td>62</td><td>OBJECT</td><td>5</td><td>ProductDocument</td><td>X</td><td>GRANT</td></tr>",
                            "</table>"
                        ]
                    }
                }
            ],
            "execution_count": 2
        },
        {
            "cell_type": "code",
            "source": [
                "\r\n",
                "/* in the original query window */\r\n",
                "ROLLBACK TRAN;"
            ],
            "metadata": {
                "azdata_cell_guid": "7c6b79eb-d17c-412e-bdd1-8c21231c1b5e"
            },
            "outputs": [
                {
                    "output_type": "display_data",
                    "data": {
                        "text/html": "Commands completed successfully."
                    },
                    "metadata": {}
                },
                {
                    "output_type": "display_data",
                    "data": {
                        "text/html": "Total execution time: 00:00:00.007"
                    },
                    "metadata": {}
                }
            ],
            "execution_count": 3
        }
    ]
}