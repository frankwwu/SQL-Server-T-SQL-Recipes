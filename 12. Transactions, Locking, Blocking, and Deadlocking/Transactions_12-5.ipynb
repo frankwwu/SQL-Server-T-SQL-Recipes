{
    "metadata": {
        "kernelspec": {
            "name": "SQL",
            "display_name": "SQL",
            "language": "sql"
        },
        "language_info": {
            "name": "sql",
            "version": ""
        }
    },
    "nbformat_minor": 2,
    "nbformat": 4,
    "cells": [
        {
            "cell_type": "code",
            "source": [
                "/* 12-5 */\r\n",
                "USE AdventureWorks2014;\r\n",
                "GO\r\n",
                "ALTER TABLE Person.Address \r\n",
                "    SET ( LOCK_ESCALATION = AUTO );\r\n",
                "\r\n",
                "SELECT lock_escalation,lock_escalation_desc \r\n",
                "FROM sys.tables WHERE name='Address';\r\n",
                "GO"
            ],
            "metadata": {
                "azdata_cell_guid": "50fec116-a6b1-484c-a48c-2c8f1e8d063b",
                "tags": []
            },
            "outputs": [
                {
                    "output_type": "display_data",
                    "data": {
                        "text/html": "Commands completed successfully."
                    },
                    "metadata": {}
                },
                {
                    "output_type": "display_data",
                    "data": {
                        "text/html": "(1 row affected)"
                    },
                    "metadata": {}
                },
                {
                    "output_type": "display_data",
                    "data": {
                        "text/html": "Total execution time: 00:00:00.163"
                    },
                    "metadata": {}
                },
                {
                    "output_type": "execute_result",
                    "metadata": {},
                    "execution_count": 1,
                    "data": {
                        "application/vnd.dataresource+json": {
                            "schema": {
                                "fields": [
                                    {
                                        "name": "lock_escalation"
                                    },
                                    {
                                        "name": "lock_escalation_desc"
                                    }
                                ]
                            },
                            "data": [
                                {
                                    "0": "2",
                                    "1": "AUTO"
                                }
                            ]
                        },
                        "text/html": [
                            "<table>",
                            "<tr><th>lock_escalation</th><th>lock_escalation_desc</th></tr>",
                            "<tr><td>2</td><td>AUTO</td></tr>",
                            "</table>"
                        ]
                    }
                }
            ],
            "execution_count": 1
        },
        {
            "cell_type": "code",
            "source": [
                "/* Disable Lock Escalation */\r\n",
                "USE AdventureWorks2014;\r\n",
                "GO\r\n",
                "ALTER TABLE Person.Address\r\n",
                "SET ( LOCK_ESCALATION = DISABLE);\r\n",
                "\r\n",
                "SELECT lock_escalation,lock_escalation_desc \r\n",
                "FROM sys.tables WHERE name='Address';\r\n",
                "GO\r\n",
                "\r\n",
                "/*You may want to revert the Lock_Escalation back to the original setting \r\n",
                "after completing this example.\r\n",
                "*/"
            ],
            "metadata": {
                "azdata_cell_guid": "e55318d3-cad9-4a80-897a-ef56a5139fa1"
            },
            "outputs": [
                {
                    "output_type": "display_data",
                    "data": {
                        "text/html": "Commands completed successfully."
                    },
                    "metadata": {}
                },
                {
                    "output_type": "display_data",
                    "data": {
                        "text/html": "(1 row affected)"
                    },
                    "metadata": {}
                },
                {
                    "output_type": "display_data",
                    "data": {
                        "text/html": "Commands completed successfully."
                    },
                    "metadata": {}
                },
                {
                    "output_type": "display_data",
                    "data": {
                        "text/html": "Total execution time: 00:00:00.081"
                    },
                    "metadata": {}
                },
                {
                    "output_type": "execute_result",
                    "metadata": {},
                    "execution_count": 2,
                    "data": {
                        "application/vnd.dataresource+json": {
                            "schema": {
                                "fields": [
                                    {
                                        "name": "lock_escalation"
                                    },
                                    {
                                        "name": "lock_escalation_desc"
                                    }
                                ]
                            },
                            "data": [
                                {
                                    "0": "1",
                                    "1": "DISABLE"
                                }
                            ]
                        },
                        "text/html": [
                            "<table>",
                            "<tr><th>lock_escalation</th><th>lock_escalation_desc</th></tr>",
                            "<tr><td>1</td><td>DISABLE</td></tr>",
                            "</table>"
                        ]
                    }
                }
            ],
            "execution_count": 2
        }
    ]
}