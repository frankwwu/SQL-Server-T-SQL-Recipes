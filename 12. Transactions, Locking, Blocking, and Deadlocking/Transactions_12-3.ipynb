{
    "metadata": {
        "kernelspec": {
            "name": "SQL",
            "display_name": "SQL",
            "language": "sql"
        },
        "language_info": {
            "name": "sql",
            "version": ""
        }
    },
    "nbformat_minor": 2,
    "nbformat": 4,
    "cells": [
        {
            "cell_type": "code",
            "source": [
                "/* 12-3 */\r\n",
                "SET TRANSACTION ISOLATION LEVEL SERIALIZABLE;\r\n",
                "GO\r\n",
                "USE AdventureWorks2014;\r\n",
                "GO\r\n",
                "BEGIN TRAN\r\n",
                "SELECT *\r\n",
                "FROM  HumanResources.Department\r\n",
                "INSERT INTO HumanResources.Department (Name, GroupName) \r\n",
                "    VALUES ('Test', 'QA');"
            ],
            "metadata": {
                "azdata_cell_guid": "d5745570-7952-4049-8de5-1096408a9c3e"
            },
            "outputs": [
                {
                    "output_type": "display_data",
                    "data": {
                        "text/html": "Commands completed successfully."
                    },
                    "metadata": {}
                },
                {
                    "output_type": "display_data",
                    "data": {
                        "text/html": "Commands completed successfully."
                    },
                    "metadata": {}
                },
                {
                    "output_type": "display_data",
                    "data": {
                        "text/html": "(17 rows affected)"
                    },
                    "metadata": {}
                },
                {
                    "output_type": "display_data",
                    "data": {
                        "text/html": "(1 row affected)"
                    },
                    "metadata": {}
                },
                {
                    "output_type": "display_data",
                    "data": {
                        "text/html": "Total execution time: 00:00:00.025"
                    },
                    "metadata": {}
                },
                {
                    "output_type": "execute_result",
                    "metadata": {},
                    "execution_count": 1,
                    "data": {
                        "application/vnd.dataresource+json": {
                            "schema": {
                                "fields": [
                                    {
                                        "name": "DepartmentID"
                                    },
                                    {
                                        "name": "Name"
                                    },
                                    {
                                        "name": "GroupName"
                                    },
                                    {
                                        "name": "ModifiedDate"
                                    }
                                ]
                            },
                            "data": [
                                {
                                    "0": "1",
                                    "1": "Engineering",
                                    "2": "Research and Development",
                                    "3": "2008-04-30 00:00:00.000"
                                },
                                {
                                    "0": "2",
                                    "1": "Tool Design",
                                    "2": "Research and Development",
                                    "3": "2008-04-30 00:00:00.000"
                                },
                                {
                                    "0": "3",
                                    "1": "Sales",
                                    "2": "Sales and Marketing",
                                    "3": "2008-04-30 00:00:00.000"
                                },
                                {
                                    "0": "4",
                                    "1": "Marketing",
                                    "2": "Sales and Marketing",
                                    "3": "2008-04-30 00:00:00.000"
                                },
                                {
                                    "0": "5",
                                    "1": "Purchasing",
                                    "2": "Inventory Management",
                                    "3": "2008-04-30 00:00:00.000"
                                },
                                {
                                    "0": "6",
                                    "1": "Research and Development",
                                    "2": "Research and Development",
                                    "3": "2008-04-30 00:00:00.000"
                                },
                                {
                                    "0": "7",
                                    "1": "Production",
                                    "2": "Manufacturing",
                                    "3": "2008-04-30 00:00:00.000"
                                },
                                {
                                    "0": "8",
                                    "1": "Production Control",
                                    "2": "Manufacturing",
                                    "3": "2008-04-30 00:00:00.000"
                                },
                                {
                                    "0": "9",
                                    "1": "Human Resources",
                                    "2": "Executive General and Administration",
                                    "3": "2008-04-30 00:00:00.000"
                                },
                                {
                                    "0": "10",
                                    "1": "Finance",
                                    "2": "Executive General and Administration",
                                    "3": "2008-04-30 00:00:00.000"
                                },
                                {
                                    "0": "11",
                                    "1": "Information Services",
                                    "2": "Executive General and Administration",
                                    "3": "2008-04-30 00:00:00.000"
                                },
                                {
                                    "0": "12",
                                    "1": "Document Control",
                                    "2": "Quality Assurance",
                                    "3": "2008-04-30 00:00:00.000"
                                },
                                {
                                    "0": "13",
                                    "1": "Quality Assurance",
                                    "2": "Quality Assurance",
                                    "3": "2008-04-30 00:00:00.000"
                                },
                                {
                                    "0": "14",
                                    "1": "Facilities and Maintenance",
                                    "2": "Executive General and Administration",
                                    "3": "2008-04-30 00:00:00.000"
                                },
                                {
                                    "0": "15",
                                    "1": "Shipping and Receiving",
                                    "2": "Inventory Management",
                                    "3": "2008-04-30 00:00:00.000"
                                },
                                {
                                    "0": "16",
                                    "1": "Executive",
                                    "2": "Executive General and Administration",
                                    "3": "2008-04-30 00:00:00.000"
                                },
                                {
                                    "0": "17",
                                    "1": "Database Services",
                                    "2": "Information Technology",
                                    "3": "2020-09-13 08:21:28.060"
                                }
                            ]
                        },
                        "text/html": [
                            "<table>",
                            "<tr><th>DepartmentID</th><th>Name</th><th>GroupName</th><th>ModifiedDate</th></tr>",
                            "<tr><td>1</td><td>Engineering</td><td>Research and Development</td><td>2008-04-30 00:00:00.000</td></tr>",
                            "<tr><td>2</td><td>Tool Design</td><td>Research and Development</td><td>2008-04-30 00:00:00.000</td></tr>",
                            "<tr><td>3</td><td>Sales</td><td>Sales and Marketing</td><td>2008-04-30 00:00:00.000</td></tr>",
                            "<tr><td>4</td><td>Marketing</td><td>Sales and Marketing</td><td>2008-04-30 00:00:00.000</td></tr>",
                            "<tr><td>5</td><td>Purchasing</td><td>Inventory Management</td><td>2008-04-30 00:00:00.000</td></tr>",
                            "<tr><td>6</td><td>Research and Development</td><td>Research and Development</td><td>2008-04-30 00:00:00.000</td></tr>",
                            "<tr><td>7</td><td>Production</td><td>Manufacturing</td><td>2008-04-30 00:00:00.000</td></tr>",
                            "<tr><td>8</td><td>Production Control</td><td>Manufacturing</td><td>2008-04-30 00:00:00.000</td></tr>",
                            "<tr><td>9</td><td>Human Resources</td><td>Executive General and Administration</td><td>2008-04-30 00:00:00.000</td></tr>",
                            "<tr><td>10</td><td>Finance</td><td>Executive General and Administration</td><td>2008-04-30 00:00:00.000</td></tr>",
                            "<tr><td>11</td><td>Information Services</td><td>Executive General and Administration</td><td>2008-04-30 00:00:00.000</td></tr>",
                            "<tr><td>12</td><td>Document Control</td><td>Quality Assurance</td><td>2008-04-30 00:00:00.000</td></tr>",
                            "<tr><td>13</td><td>Quality Assurance</td><td>Quality Assurance</td><td>2008-04-30 00:00:00.000</td></tr>",
                            "<tr><td>14</td><td>Facilities and Maintenance</td><td>Executive General and Administration</td><td>2008-04-30 00:00:00.000</td></tr>",
                            "<tr><td>15</td><td>Shipping and Receiving</td><td>Inventory Management</td><td>2008-04-30 00:00:00.000</td></tr>",
                            "<tr><td>16</td><td>Executive</td><td>Executive General and Administration</td><td>2008-04-30 00:00:00.000</td></tr>",
                            "<tr><td>17</td><td>Database Services</td><td>Information Technology</td><td>2020-09-13 08:21:28.060</td></tr>",
                            "</table>"
                        ]
                    }
                }
            ],
            "execution_count": 1
        },
        {
            "cell_type": "code",
            "source": [
                "/*\r\n",
                "In a new SQL Server Management Studio query window\r\n",
                "*/\r\n",
                "\r\n",
                "SELECT session_id, transaction_id, is_user_transaction, is_local \r\n",
                "FROM sys.dm_tran_session_transactions \r\n",
                "WHERE is_user_transaction = 1;\r\n",
                "GO"
            ],
            "metadata": {
                "azdata_cell_guid": "e9bdc713-c19c-41cd-a938-d5afa507d47c"
            },
            "outputs": [
                {
                    "output_type": "display_data",
                    "data": {
                        "text/html": "(1 row affected)"
                    },
                    "metadata": {}
                },
                {
                    "output_type": "display_data",
                    "data": {
                        "text/html": "Total execution time: 00:00:00.024"
                    },
                    "metadata": {}
                },
                {
                    "output_type": "execute_result",
                    "metadata": {},
                    "execution_count": 2,
                    "data": {
                        "application/vnd.dataresource+json": {
                            "schema": {
                                "fields": [
                                    {
                                        "name": "session_id"
                                    },
                                    {
                                        "name": "transaction_id"
                                    },
                                    {
                                        "name": "is_user_transaction"
                                    },
                                    {
                                        "name": "is_local"
                                    }
                                ]
                            },
                            "data": [
                                {
                                    "0": "54",
                                    "1": "205586",
                                    "2": "1",
                                    "3": "1"
                                }
                            ]
                        },
                        "text/html": [
                            "<table>",
                            "<tr><th>session_id</th><th>transaction_id</th><th>is_user_transaction</th><th>is_local</th></tr>",
                            "<tr><td>54</td><td>205586</td><td>1</td><td>1</td></tr>",
                            "</table>"
                        ]
                    }
                }
            ],
            "execution_count": 2
        },
        {
            "cell_type": "code",
            "source": [
                "SELECT s.text\r\n",
                "FROM sys.dm_exec_connections c\r\n",
                "CROSS APPLY sys.dm_exec_sql_text(c.most_recent_sql_handle) s\r\n",
                "WHERE c.most_recent_session_id = 57;--use the session_id returned by the previous query\r\n",
                "GO"
            ],
            "metadata": {
                "azdata_cell_guid": "44c156f1-61a6-4590-8bca-013a53d2fdf8"
            },
            "outputs": [
                {
                    "output_type": "display_data",
                    "data": {
                        "text/html": "(0 rows affected)"
                    },
                    "metadata": {}
                },
                {
                    "output_type": "execute_result",
                    "metadata": {},
                    "execution_count": 3,
                    "data": {
                        "application/vnd.dataresource+json": {
                            "schema": {
                                "fields": [
                                    {
                                        "name": "text"
                                    }
                                ]
                            },
                            "data": []
                        },
                        "text/html": [
                            "<table>",
                            "<tr><th>text</th></tr>",
                            "</table>"
                        ]
                    }
                },
                {
                    "output_type": "display_data",
                    "data": {
                        "text/html": "Total execution time: 00:00:00.012"
                    },
                    "metadata": {}
                }
            ],
            "execution_count": 3
        },
        {
            "cell_type": "code",
            "source": [
                "SELECT transaction_begin_time\r\n",
                ",tran_type = CASE transaction_type\r\n",
                "    WHEN 1 THEN 'Read/write transaction'\r\n",
                "    WHEN 2 THEN 'Read-only transaction'\r\n",
                "    WHEN 3 THEN 'System transaction'\r\n",
                "    WHEN 4 THEN 'Distributed transaction' \r\n",
                "    END \r\n",
                ",tran_state = CASE transaction_state\r\n",
                "    WHEN 0 THEN 'not been completely initialized yet'\r\n",
                "    WHEN 1 THEN 'initialized but has not started'\r\n",
                "    WHEN 2 THEN 'active'\r\n",
                "    WHEN 3 THEN 'ended (read-only transaction)'\r\n",
                "    WHEN 4 THEN 'commit initiated for distributed transaction'\r\n",
                "    WHEN 5 THEN 'transaction prepared and waiting resolution'\r\n",
                "    WHEN 6 THEN 'committed'\r\n",
                "    WHEN 7 THEN 'being rolled back'\r\n",
                "    WHEN 8 THEN 'been rolled back' \r\n",
                "    END  \r\n",
                "FROM sys.dm_tran_active_transactions \r\n",
                "WHERE transaction_id = 12969598; -- change this value to the transaction_id returned in the first \r\n",
                "--query of this recipe\r\n",
                "GO"
            ],
            "metadata": {
                "azdata_cell_guid": "8f59cc65-c2ff-49dc-964b-a55000d591ee"
            },
            "outputs": [
                {
                    "output_type": "display_data",
                    "data": {
                        "text/html": "(0 rows affected)"
                    },
                    "metadata": {}
                },
                {
                    "output_type": "display_data",
                    "data": {
                        "text/html": "Total execution time: 00:00:00.016"
                    },
                    "metadata": {}
                },
                {
                    "output_type": "execute_result",
                    "metadata": {},
                    "execution_count": 4,
                    "data": {
                        "application/vnd.dataresource+json": {
                            "schema": {
                                "fields": [
                                    {
                                        "name": "transaction_begin_time"
                                    },
                                    {
                                        "name": "tran_type"
                                    },
                                    {
                                        "name": "tran_state"
                                    }
                                ]
                            },
                            "data": []
                        },
                        "text/html": [
                            "<table>",
                            "<tr><th>transaction_begin_time</th><th>tran_type</th><th>tran_state</th></tr>",
                            "</table>"
                        ]
                    }
                }
            ],
            "execution_count": 4
        }
    ]
}