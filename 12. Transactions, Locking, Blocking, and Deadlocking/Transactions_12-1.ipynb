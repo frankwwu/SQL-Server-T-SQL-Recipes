{
    "metadata": {
        "kernelspec": {
            "name": "SQL",
            "display_name": "SQL",
            "language": "sql"
        },
        "language_info": {
            "name": "sql",
            "version": ""
        }
    },
    "nbformat_minor": 2,
    "nbformat": 4,
    "cells": [
        {
            "cell_type": "code",
            "source": [
                "/* 12-1 */\r\n",
                "USE AdventureWorks2014;\r\n",
                "GO\r\n",
                "/* -- Before count */\r\n",
                "SELECT BeforeCount = COUNT(*)  \r\n",
                "FROM HumanResources.Department;\r\n",
                "/* -- Variable to hold the latest error integer value */\r\n",
                "DECLARE @Error int;\r\n",
                "BEGIN TRANSACTION\r\n",
                "INSERT INTO HumanResources.Department (Name, GroupName)\r\n",
                "    VALUES ('Accounts Payable', 'Accounting');\r\n",
                "SET @Error = @@ERROR;\r\n",
                "IF (@Error<> 0) \r\n",
                "    GOTO Error_Handler;\r\n",
                "INSERT INTO HumanResources.Department (Name, GroupName)\r\n",
                "    VALUES ('Engineering', 'Research and Development');\r\n",
                "SET @Error = @@ERROR;\r\n",
                "IF (@Error <> 0) \r\n",
                "    GOTO Error_Handler;\r\n",
                "COMMIT TRANSACTION\r\n",
                "Error_Handler: \r\n",
                "IF @Error <> 0 \r\n",
                "BEGIN\r\n",
                "ROLLBACK TRANSACTION;\r\n",
                "END\r\n",
                "/* -- After count */\r\n",
                "SELECT AfterCount = COUNT(*) \r\n",
                "FROM HumanResources.Department;  \r\n",
                "GO"
            ],
            "metadata": {
                "azdata_cell_guid": "eb467880-6cf1-4623-860f-4de551b4f09e"
            },
            "outputs": [
                {
                    "output_type": "display_data",
                    "data": {
                        "text/html": "Commands completed successfully."
                    },
                    "metadata": {}
                },
                {
                    "output_type": "display_data",
                    "data": {
                        "text/html": "(1 row affected)"
                    },
                    "metadata": {}
                },
                {
                    "output_type": "display_data",
                    "data": {
                        "text/html": "(1 row affected)"
                    },
                    "metadata": {}
                },
                {
                    "output_type": "error",
                    "evalue": "Msg 2601, Level 14, State 1, Line 15\r\nCannot insert duplicate key row in object 'HumanResources.Department' with unique index 'AK_Department_Name'. The duplicate key value is (Engineering).",
                    "ename": "",
                    "traceback": []
                },
                {
                    "output_type": "display_data",
                    "data": {
                        "text/html": "The statement has been terminated."
                    },
                    "metadata": {}
                },
                {
                    "output_type": "display_data",
                    "data": {
                        "text/html": "(1 row affected)"
                    },
                    "metadata": {}
                },
                {
                    "output_type": "display_data",
                    "data": {
                        "text/html": "Total execution time: 00:00:00.267"
                    },
                    "metadata": {}
                },
                {
                    "output_type": "execute_result",
                    "metadata": {},
                    "execution_count": 1,
                    "data": {
                        "application/vnd.dataresource+json": {
                            "schema": {
                                "fields": [
                                    {
                                        "name": "BeforeCount"
                                    }
                                ]
                            },
                            "data": [
                                {
                                    "0": "16"
                                }
                            ]
                        },
                        "text/html": [
                            "<table>",
                            "<tr><th>BeforeCount</th></tr>",
                            "<tr><td>16</td></tr>",
                            "</table>"
                        ]
                    }
                },
                {
                    "output_type": "execute_result",
                    "metadata": {},
                    "execution_count": 1,
                    "data": {
                        "application/vnd.dataresource+json": {
                            "schema": {
                                "fields": [
                                    {
                                        "name": "AfterCount"
                                    }
                                ]
                            },
                            "data": [
                                {
                                    "0": "16"
                                }
                            ]
                        },
                        "text/html": [
                            "<table>",
                            "<tr><th>AfterCount</th></tr>",
                            "<tr><td>16</td></tr>",
                            "</table>"
                        ]
                    }
                }
            ],
            "execution_count": 1
        }
    ]
}