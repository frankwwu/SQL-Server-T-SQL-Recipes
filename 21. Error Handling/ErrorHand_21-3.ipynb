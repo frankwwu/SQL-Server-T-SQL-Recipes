{
    "metadata": {
        "kernelspec": {
            "name": "SQL",
            "display_name": "SQL",
            "language": "sql"
        },
        "language_info": {
            "name": "sql",
            "version": ""
        }
    },
    "nbformat_minor": 2,
    "nbformat": 4,
    "cells": [
        {
            "cell_type": "code",
            "source": [
                "/* 21-3 */\r\n",
                "USE tempdb;\r\n",
                "GO\r\n",
                "\r\n",
                "BEGIN TRY\r\n",
                " SELECT 1/0  --This will raise a divide by zero error if not handled\r\n",
                "END TRY\r\n",
                "BEGIN CATCH\r\n",
                "END CATCH;\r\n",
                "GO"
            ],
            "metadata": {
                "azdata_cell_guid": "fe4baed3-be0e-4ba4-8ceb-f48d538b2e20"
            },
            "outputs": [
                {
                    "output_type": "display_data",
                    "data": {
                        "text/html": "Commands completed successfully."
                    },
                    "metadata": {}
                },
                {
                    "output_type": "display_data",
                    "data": {
                        "text/html": "(0 rows affected)"
                    },
                    "metadata": {}
                },
                {
                    "output_type": "execute_result",
                    "metadata": {},
                    "execution_count": 1,
                    "data": {
                        "application/vnd.dataresource+json": {
                            "schema": {
                                "fields": [
                                    {
                                        "name": "(No column name)"
                                    }
                                ]
                            },
                            "data": []
                        },
                        "text/html": [
                            "<table>",
                            "<tr><th>(No column name)</th></tr>",
                            "</table>"
                        ]
                    }
                },
                {
                    "output_type": "display_data",
                    "data": {
                        "text/html": "Total execution time: 00:00:00.136"
                    },
                    "metadata": {}
                }
            ],
            "execution_count": 1
        },
        {
            "cell_type": "code",
            "source": [
                "/* return structured error information */\r\n",
                "USE tempdb;\r\n",
                "GO\r\n",
                "BEGIN TRY\r\n",
                "  SELECT 1/0 --This will raise a divide by zero error if not handled\r\n",
                "END TRY\r\n",
                "BEGIN CATCH\r\n",
                "  SELECT ERROR_LINE() AS 'Line',\r\n",
                "\t\t ERROR_MESSAGE() AS 'Message',\r\n",
                "\t\t ERROR_NUMBER() AS 'Number',\r\n",
                "\t\t ERROR_PROCEDURE() AS 'Procedure',\r\n",
                "\t\t ERROR_SEVERITY() AS 'Severity',\r\n",
                "\t\t ERROR_STATE() AS 'State'\r\n",
                "END CATCH;"
            ],
            "metadata": {
                "azdata_cell_guid": "4db133d9-20de-4ac3-a0ea-733322083446"
            },
            "outputs": [
                {
                    "output_type": "display_data",
                    "data": {
                        "text/html": "Commands completed successfully."
                    },
                    "metadata": {}
                },
                {
                    "output_type": "display_data",
                    "data": {
                        "text/html": "(0 rows affected)"
                    },
                    "metadata": {}
                },
                {
                    "output_type": "display_data",
                    "data": {
                        "text/html": "(1 row affected)"
                    },
                    "metadata": {}
                },
                {
                    "output_type": "execute_result",
                    "metadata": {},
                    "execution_count": 2,
                    "data": {
                        "application/vnd.dataresource+json": {
                            "schema": {
                                "fields": [
                                    {
                                        "name": "(No column name)"
                                    }
                                ]
                            },
                            "data": []
                        },
                        "text/html": [
                            "<table>",
                            "<tr><th>(No column name)</th></tr>",
                            "</table>"
                        ]
                    }
                },
                {
                    "output_type": "display_data",
                    "data": {
                        "text/html": "Total execution time: 00:00:00.082"
                    },
                    "metadata": {}
                },
                {
                    "output_type": "execute_result",
                    "metadata": {},
                    "execution_count": 2,
                    "data": {
                        "application/vnd.dataresource+json": {
                            "schema": {
                                "fields": [
                                    {
                                        "name": "Line"
                                    },
                                    {
                                        "name": "Message"
                                    },
                                    {
                                        "name": "Number"
                                    },
                                    {
                                        "name": "Procedure"
                                    },
                                    {
                                        "name": "Severity"
                                    },
                                    {
                                        "name": "State"
                                    }
                                ]
                            },
                            "data": [
                                {
                                    "0": "2",
                                    "1": "Divide by zero error encountered.",
                                    "2": "8134",
                                    "3": "NULL",
                                    "4": "16",
                                    "5": "1"
                                }
                            ]
                        },
                        "text/html": [
                            "<table>",
                            "<tr><th>Line</th><th>Message</th><th>Number</th><th>Procedure</th><th>Severity</th><th>State</th></tr>",
                            "<tr><td>2</td><td>Divide by zero error encountered.</td><td>8134</td><td>NULL</td><td>16</td><td>1</td></tr>",
                            "</table>"
                        ]
                    }
                }
            ],
            "execution_count": 2
        },
        {
            "cell_type": "code",
            "source": [
                "/* poor syntax errors */\r\n",
                "USE tempdb;\r\n",
                "GO\r\n",
                "\r\n",
                "BEGIN TRY\r\n",
                "  SELCT\r\n",
                "END TRY\r\n",
                "BEGIN CATCH\r\n",
                "END CATCH;\r\n",
                "GO"
            ],
            "metadata": {
                "azdata_cell_guid": "678b6f0b-dc4d-4eb9-ad7a-b23f4dda54ff"
            },
            "outputs": [
                {
                    "output_type": "display_data",
                    "data": {
                        "text/html": "Commands completed successfully."
                    },
                    "metadata": {}
                },
                {
                    "output_type": "error",
                    "evalue": "Msg 102, Level 15, State 1, Line 6\r\nIncorrect syntax near 'SELCT'.",
                    "ename": "",
                    "traceback": []
                },
                {
                    "output_type": "display_data",
                    "data": {
                        "text/html": "Total execution time: 00:00:00.012"
                    },
                    "metadata": {}
                }
            ],
            "execution_count": 3
        },
        {
            "cell_type": "code",
            "source": [
                "/* binding errors */\r\n",
                "USE tempdb;\r\n",
                "GO\r\n",
                "\r\n",
                "BEGIN TRY\r\n",
                "  SELECT NoSuchTable\r\n",
                "END TRY\r\n",
                "BEGIN CATCH\r\n",
                "END CATCH;\r\n",
                "GO"
            ],
            "metadata": {
                "azdata_cell_guid": "b0709407-a3fd-41fb-9f68-2362b35f518c"
            },
            "outputs": [
                {
                    "output_type": "display_data",
                    "data": {
                        "text/html": "Commands completed successfully."
                    },
                    "metadata": {}
                },
                {
                    "output_type": "error",
                    "evalue": "Msg 207, Level 16, State 1, Line 6\r\nInvalid column name 'NoSuchTable'.",
                    "ename": "",
                    "traceback": []
                },
                {
                    "output_type": "display_data",
                    "data": {
                        "text/html": "Total execution time: 00:00:00.002"
                    },
                    "metadata": {}
                }
            ],
            "execution_count": 4
        },
        {
            "cell_type": "code",
            "source": [
                "/* informational messages */\r\n",
                "USE tempdb;\r\n",
                "GO\r\n",
                "\r\n",
                "BEGIN TRY\r\n",
                "  RAISERROR('Information ONLY', 10, 1)\r\n",
                "END TRY\r\n",
                "BEGIN CATCH\r\n",
                "END CATCH;\r\n",
                "GO"
            ],
            "metadata": {
                "azdata_cell_guid": "6a6b9b5e-fb8e-4f8c-98ec-ad49d4d53e16"
            },
            "outputs": [
                {
                    "output_type": "display_data",
                    "data": {
                        "text/html": "Commands completed successfully."
                    },
                    "metadata": {}
                },
                {
                    "output_type": "display_data",
                    "data": {
                        "text/html": "Information ONLY"
                    },
                    "metadata": {}
                },
                {
                    "output_type": "display_data",
                    "data": {
                        "text/html": "Total execution time: 00:00:00.017"
                    },
                    "metadata": {}
                }
            ],
            "execution_count": 5
        }
    ]
}