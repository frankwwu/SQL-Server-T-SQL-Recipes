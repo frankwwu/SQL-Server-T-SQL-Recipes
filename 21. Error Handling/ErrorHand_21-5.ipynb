{
    "metadata": {
        "kernelspec": {
            "name": "SQL",
            "display_name": "SQL",
            "language": "sql"
        },
        "language_info": {
            "name": "sql",
            "version": ""
        }
    },
    "nbformat_minor": 2,
    "nbformat": 4,
    "cells": [
        {
            "cell_type": "code",
            "source": [
                "/* 21-5 */\r\n",
                "USE tempdb;\r\n",
                "GO\r\n",
                "\r\n",
                "BEGIN TRY\r\n",
                "  SELECT 1/0 --This will raise a divide by zero error if not handled\r\n",
                "\tBEGIN TRY\r\n",
                "\t \tPRINT 'Inner Try'\r\n",
                "\tEND TRY\r\n",
                "    \tBEGIN CATCH\r\n",
                "\t\tPRINT CONVERT(CHAR(5), ERROR_NUMBER()) + 'Inner Catch' \r\n",
                "   \tEND CATCH\r\n",
                "END TRY\r\n",
                "BEGIN CATCH \r\n",
                "  PRINT CONVERT(CHAR(5), ERROR_NUMBER()) + 'Outer Catch' \r\n",
                "END CATCH;\t\r\n",
                "GO"
            ],
            "metadata": {
                "azdata_cell_guid": "c4ab32cd-888a-4492-8d0f-e4b73e41d682"
            },
            "outputs": [
                {
                    "output_type": "display_data",
                    "data": {
                        "text/html": "Commands completed successfully."
                    },
                    "metadata": {}
                },
                {
                    "output_type": "display_data",
                    "data": {
                        "text/html": "(0 rows affected)"
                    },
                    "metadata": {}
                },
                {
                    "output_type": "display_data",
                    "data": {
                        "text/html": "8134 Outer Catch"
                    },
                    "metadata": {}
                },
                {
                    "output_type": "display_data",
                    "data": {
                        "text/html": "Total execution time: 00:00:00.007"
                    },
                    "metadata": {}
                },
                {
                    "output_type": "execute_result",
                    "metadata": {},
                    "execution_count": 1,
                    "data": {
                        "application/vnd.dataresource+json": {
                            "schema": {
                                "fields": [
                                    {
                                        "name": "(No column name)"
                                    }
                                ]
                            },
                            "data": []
                        },
                        "text/html": [
                            "<table>",
                            "<tr><th>(No column name)</th></tr>",
                            "</table>"
                        ]
                    }
                }
            ],
            "execution_count": 1
        },
        {
            "cell_type": "code",
            "source": [
                "/* reversal of inner and outer */\r\n",
                "USE tempdb;\r\n",
                "GO\r\n",
                "\r\n",
                "BEGIN TRY\r\n",
                "  PRINT 'Outer Try'\r\n",
                "    BEGIN TRY\r\n",
                "\t \tSELECT 1/0 --This will raise a divide by zero error if not handled\r\n",
                "    END TRY\r\n",
                "    BEGIN CATCH\r\n",
                "\t\tPRINT CONVERT(CHAR(5), ERROR_NUMBER()) + 'Inner Catch' \r\n",
                "    END CATCH\r\n",
                "END TRY\r\n",
                "BEGIN CATCH \r\n",
                "  PRINT CONVERT(CHAR(5), ERROR_NUMBER()) + 'Outer Catch' \r\n",
                "END CATCH;\t\r\n",
                "GO"
            ],
            "metadata": {
                "azdata_cell_guid": "9e73d035-e492-481b-9a89-af031daccbc5"
            },
            "outputs": [
                {
                    "output_type": "display_data",
                    "data": {
                        "text/html": "Commands completed successfully."
                    },
                    "metadata": {}
                },
                {
                    "output_type": "display_data",
                    "data": {
                        "text/html": "Outer Try"
                    },
                    "metadata": {}
                },
                {
                    "output_type": "display_data",
                    "data": {
                        "text/html": "(0 rows affected)"
                    },
                    "metadata": {}
                },
                {
                    "output_type": "display_data",
                    "data": {
                        "text/html": "8134 Inner Catch"
                    },
                    "metadata": {}
                },
                {
                    "output_type": "display_data",
                    "data": {
                        "text/html": "Total execution time: 00:00:00.008"
                    },
                    "metadata": {}
                },
                {
                    "output_type": "execute_result",
                    "metadata": {},
                    "execution_count": 2,
                    "data": {
                        "application/vnd.dataresource+json": {
                            "schema": {
                                "fields": [
                                    {
                                        "name": "(No column name)"
                                    }
                                ]
                            },
                            "data": []
                        },
                        "text/html": [
                            "<table>",
                            "<tr><th>(No column name)</th></tr>",
                            "</table>"
                        ]
                    }
                }
            ],
            "execution_count": 2
        },
        {
            "cell_type": "code",
            "source": [
                "/* more complex */\r\n",
                "USE tempdb;\r\n",
                "GO\r\n",
                "\r\n",
                "BEGIN TRY\r\n",
                "  PRINT 'Outer Try'\r\n",
                "    BEGIN TRY\r\n",
                "\t \tPRINT ERROR_NUMBER() + ' Inner try'\r\n",
                "    END TRY\r\n",
                "    BEGIN CATCH\r\n",
                "        IF ERROR_NUMBER() = 8134\r\n",
                "\t\t   PRINT CONVERT(CHAR(5), ERROR_NUMBER()) + ' Inner Catch Divide by zero'\r\n",
                "        ELSE \r\n",
                "            BEGIN\r\n",
                "            PRINT CONVERT(CHAR(6), ERROR_NUMBER()) + ' '\r\n",
                "\t\t\t + ERROR_MESSAGE() +\r\n",
                "              CONVERT(CHAR(2), ERROR_SEVERITY()) + ' ' +\r\n",
                "              CONVERT(CHAR(2), ERROR_STATE()) + ' INITIAL Catch';\r\n",
                "            END\r\n",
                "    END CATCH;\r\n",
                "END TRY\r\n",
                "BEGIN CATCH\r\n",
                "    IF ERROR_NUMBER() = 8134\r\n",
                "        PRINT CONVERT(CHAR(5), ERROR_NUMBER()) + ' Outer Catch Divide by zero' \r\n",
                "    ELSE \r\n",
                "        BEGIN\r\n",
                "        PRINT CONVERT(CHAR(6), ERROR_NUMBER()) + ' ' + ERROR_MESSAGE() +\r\n",
                "              CONVERT(CHAR(2), ERROR_SEVERITY()) + ' ' + \r\n",
                "              CONVERT(CHAR(2), ERROR_STATE()) + ' OUTER Catch';\r\n",
                "        THROW\r\n",
                "        END\r\n",
                "END CATCH;"
            ],
            "metadata": {
                "azdata_cell_guid": "7f2905d9-e0cb-41dc-a2fb-a28e1747b16a"
            },
            "outputs": [
                {
                    "output_type": "display_data",
                    "data": {
                        "text/html": "Commands completed successfully."
                    },
                    "metadata": {}
                },
                {
                    "output_type": "display_data",
                    "data": {
                        "text/html": "Outer Try"
                    },
                    "metadata": {}
                },
                {
                    "output_type": "display_data",
                    "data": {
                        "text/html": "245    Conversion failed when converting the varchar value ' Inner try' to data type int.16 1  INITIAL Catch"
                    },
                    "metadata": {}
                },
                {
                    "output_type": "display_data",
                    "data": {
                        "text/html": "Total execution time: 00:00:00.010"
                    },
                    "metadata": {}
                }
            ],
            "execution_count": 3
        },
        {
            "cell_type": "code",
            "source": [
                "/* one more tweak */\r\n",
                "USE tempdb;\r\n",
                "GO\r\n",
                "\r\n",
                "BEGIN TRY\r\n",
                "  PRINT 'Outer Try'\r\n",
                "    BEGIN TRY\r\n",
                "\t \tPRINT ERROR_NUMBER() + ' Inner try'\r\n",
                "    END TRY\r\n",
                "    BEGIN CATCH\r\n",
                "        IF ERROR_NUMBER() = 8134\r\n",
                "\t\t   PRINT CONVERT(CHAR(5), ERROR_NUMBER()) + ' Inner Catch Divide by zero'\r\n",
                "        ELSE \r\n",
                "            BEGIN\r\n",
                "            PRINT CONVERT(CHAR(6), ERROR_NUMBER()) + ' '\r\n",
                "\t\t\t + ERROR_MESSAGE() +\r\n",
                "              CONVERT(CHAR(2), ERROR_SEVERITY()) + ' ' +\r\n",
                "              CONVERT(CHAR(2), ERROR_STATE()) + ' INITIAL Catch';\r\n",
                "           THROW --This THROW is added in the initial CATCH\r\n",
                "           END\r\n",
                "    END CATCH;\r\n",
                "END TRY\r\n",
                "BEGIN CATCH\r\n",
                "    IF ERROR_NUMBER() = 8134\r\n",
                "        PRINT CONVERT(CHAR(5), ERROR_NUMBER()) + ' Outer Catch Divide by zero' \r\n",
                "    ELSE \r\n",
                "        BEGIN\r\n",
                "        PRINT CONVERT(CHAR(6), ERROR_NUMBER()) + ' ' + ERROR_MESSAGE() +\r\n",
                "              CONVERT(CHAR(2), ERROR_SEVERITY()) + ' ' + \r\n",
                "              CONVERT(CHAR(2), ERROR_STATE()) + ' OUTER Catch';\r\n",
                "        THROW\r\n",
                "        END\r\n",
                "END CATCH;"
            ],
            "metadata": {
                "azdata_cell_guid": "cc405519-0a2d-48f8-bac1-b097ec5ff8b3"
            },
            "outputs": [
                {
                    "output_type": "display_data",
                    "data": {
                        "text/html": "Commands completed successfully."
                    },
                    "metadata": {}
                },
                {
                    "output_type": "display_data",
                    "data": {
                        "text/html": "Outer Try"
                    },
                    "metadata": {}
                },
                {
                    "output_type": "display_data",
                    "data": {
                        "text/html": "245    Conversion failed when converting the varchar value ' Inner try' to data type int.16 1  INITIAL Catch"
                    },
                    "metadata": {}
                },
                {
                    "output_type": "display_data",
                    "data": {
                        "text/html": "245    Conversion failed when converting the varchar value ' Inner try' to data type int.16 1  OUTER Catch"
                    },
                    "metadata": {}
                },
                {
                    "output_type": "error",
                    "evalue": "Msg 245, Level 16, State 1, Line 8\r\nConversion failed when converting the varchar value ' Inner try' to data type int.",
                    "ename": "",
                    "traceback": []
                },
                {
                    "output_type": "display_data",
                    "data": {
                        "text/html": "Total execution time: 00:00:00.003"
                    },
                    "metadata": {}
                }
            ],
            "execution_count": 4
        }
    ]
}