{
    "metadata": {
        "kernelspec": {
            "name": "SQL",
            "display_name": "SQL",
            "language": "sql"
        },
        "language_info": {
            "name": "sql",
            "version": ""
        }
    },
    "nbformat_minor": 2,
    "nbformat": 4,
    "cells": [
        {
            "cell_type": "code",
            "source": [
                "/* 21-1 */\r\n",
                "USE master;\r\n",
                "GO\r\n",
                "\r\n",
                "IF EXISTS(SELECT 1/0 FROM sys.databases WHERE name = 'Errors')\r\n",
                "BEGIN\r\n",
                "\tDROP DATABASE Errors;\r\n",
                "\tCREATE DATABASE Errors;\r\n",
                "END\r\n",
                "ELSE \r\n",
                "BEGIN\r\n",
                "\tCREATE DATABASE Errors;\r\n",
                "END\r\n",
                "\r\n",
                "USE Errors;\r\n",
                "GO\r\n",
                "\r\n",
                "CREATE TABLE Works(\r\n",
                "number\tINT);\r\n",
                "\r\n",
                "INSERT INTO Works\r\n",
                "VALUES(1), \r\n",
                "\t('A'),\r\n",
                "\t(3);\r\n",
                "\r\n",
                "SELECT *\r\n",
                "FROM Works;"
            ],
            "metadata": {
                "azdata_cell_guid": "3190d59a-4342-4d0f-a3a1-40f952c66e53"
            },
            "outputs": [
                {
                    "output_type": "display_data",
                    "data": {
                        "text/html": "Commands completed successfully."
                    },
                    "metadata": {}
                },
                {
                    "output_type": "error",
                    "evalue": "Msg 911, Level 16, State 1, Line 15\r\nDatabase 'Errors' does not exist. Make sure that the name is entered correctly.",
                    "ename": "",
                    "traceback": []
                },
                {
                    "output_type": "error",
                    "evalue": "Msg 245, Level 16, State 1, Line 21\r\nConversion failed when converting the varchar value 'A' to data type int.",
                    "ename": "",
                    "traceback": []
                },
                {
                    "output_type": "display_data",
                    "data": {
                        "text/html": "Total execution time: 00:00:00.014"
                    },
                    "metadata": {}
                }
            ],
            "execution_count": 1
        },
        {
            "cell_type": "code",
            "source": [
                "/* and a working version */\n",
                "USE master;\n",
                "GO\n",
                "IF EXISTS(SELECT 1/0 FROM sys.databases WHERE name = 'Errors')\n",
                "BEGIN\n",
                "\tDROP DATABASE Errors;\n",
                "\tCREATE DATABASE Errors;\n",
                "END\n",
                "ELSE \n",
                "BEGIN\n",
                "\tCREATE DATABASE Errors;\n",
                "END\n",
                "GO\n",
                "USE Errors;\n",
                "GO\n",
                "CREATE TABLE Works(number INT);\n",
                "GO\n",
                "INSERT INTO Works\n",
                "VALUES(1), \n",
                "\t('A'),\n",
                "\t(3);\n",
                "GO\n",
                "INSERT INTO Works\n",
                "VALUES(1), \n",
                "\t(2),\n",
                "\t(3);\n",
                "GO\n",
                "SELECT *\n",
                "FROM Works;\n",
                ""
            ],
            "metadata": {
                "azdata_cell_guid": "953d2bd3-7869-4c58-8423-68c373bfd179"
            },
            "outputs": [
                {
                    "output_type": "display_data",
                    "data": {
                        "text/html": "Commands completed successfully."
                    },
                    "metadata": {}
                },
                {
                    "output_type": "display_data",
                    "data": {
                        "text/html": "Commands completed successfully."
                    },
                    "metadata": {}
                },
                {
                    "output_type": "display_data",
                    "data": {
                        "text/html": "Commands completed successfully."
                    },
                    "metadata": {}
                },
                {
                    "output_type": "display_data",
                    "data": {
                        "text/html": "Commands completed successfully."
                    },
                    "metadata": {}
                },
                {
                    "output_type": "error",
                    "evalue": "Msg 245, Level 16, State 1, Line 18\r\nConversion failed when converting the varchar value 'A' to data type int.",
                    "ename": "",
                    "traceback": []
                },
                {
                    "output_type": "display_data",
                    "data": {
                        "text/html": "(3 rows affected)"
                    },
                    "metadata": {}
                },
                {
                    "output_type": "display_data",
                    "data": {
                        "text/html": "(3 rows affected)"
                    },
                    "metadata": {}
                },
                {
                    "output_type": "display_data",
                    "data": {
                        "text/html": "Total execution time: 00:00:00.348"
                    },
                    "metadata": {}
                },
                {
                    "output_type": "execute_result",
                    "metadata": {},
                    "execution_count": 2,
                    "data": {
                        "application/vnd.dataresource+json": {
                            "schema": {
                                "fields": [
                                    {
                                        "name": "number"
                                    }
                                ]
                            },
                            "data": [
                                {
                                    "0": "1"
                                },
                                {
                                    "0": "2"
                                },
                                {
                                    "0": "3"
                                }
                            ]
                        },
                        "text/html": [
                            "<table>",
                            "<tr><th>number</th></tr>",
                            "<tr><td>1</td></tr>",
                            "<tr><td>2</td></tr>",
                            "<tr><td>3</td></tr>",
                            "</table>"
                        ]
                    }
                }
            ],
            "execution_count": 2
        }
    ]
}