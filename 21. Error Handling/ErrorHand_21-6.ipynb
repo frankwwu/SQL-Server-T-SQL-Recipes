{
    "metadata": {
        "kernelspec": {
            "name": "SQL",
            "display_name": "SQL",
            "language": "sql"
        },
        "language_info": {
            "name": "sql",
            "version": ""
        }
    },
    "nbformat_minor": 2,
    "nbformat": 4,
    "cells": [
        {
            "cell_type": "code",
            "source": [
                "/* 21-6 */\r\n",
                "USE tempdb;\r\n",
                "GO"
            ],
            "metadata": {
                "azdata_cell_guid": "076ac0d5-c9f7-416b-b907-46950750f41b"
            },
            "outputs": [
                {
                    "output_type": "display_data",
                    "data": {
                        "text/html": "Commands completed successfully."
                    },
                    "metadata": {}
                },
                {
                    "output_type": "display_data",
                    "data": {
                        "text/html": "Total execution time: 00:00:00.002"
                    },
                    "metadata": {}
                }
            ],
            "execution_count": 1
        },
        {
            "cell_type": "code",
            "source": [
                "CREATE TABLE Creditor(\r\n",
                "CreditorID\t\tINT IDENTITY PRIMARY KEY,\r\n",
                "CreditorName\tVARCHAR(50)\r\n",
                ");\r\n",
                "GO"
            ],
            "metadata": {
                "azdata_cell_guid": "a0d5b966-58e4-411f-9de6-d505be241375"
            },
            "outputs": [
                {
                    "output_type": "display_data",
                    "data": {
                        "text/html": "Commands completed successfully."
                    },
                    "metadata": {}
                },
                {
                    "output_type": "display_data",
                    "data": {
                        "text/html": "Total execution time: 00:00:00.011"
                    },
                    "metadata": {}
                }
            ],
            "execution_count": 2
        },
        {
            "cell_type": "code",
            "source": [
                "INSERT INTO Creditor\r\n",
                "VALUES('You Owe Me'), \r\n",
                "\t('You Owe Me More');\r\n",
                "GO"
            ],
            "metadata": {
                "azdata_cell_guid": "5f728b01-51df-46c5-9da7-20bc638401bc"
            },
            "outputs": [
                {
                    "output_type": "display_data",
                    "data": {
                        "text/html": "(2 rows affected)"
                    },
                    "metadata": {}
                },
                {
                    "output_type": "display_data",
                    "data": {
                        "text/html": "Total execution time: 00:00:00.006"
                    },
                    "metadata": {}
                }
            ],
            "execution_count": 3
        },
        {
            "cell_type": "code",
            "source": [
                "SELECT *\r\n",
                "FROM Creditor;\r\n",
                "GO"
            ],
            "metadata": {
                "azdata_cell_guid": "6d532ed9-5f63-4071-b44b-0509d17f7636"
            },
            "outputs": [
                {
                    "output_type": "display_data",
                    "data": {
                        "text/html": "(2 rows affected)"
                    },
                    "metadata": {}
                },
                {
                    "output_type": "display_data",
                    "data": {
                        "text/html": "Total execution time: 00:00:00.020"
                    },
                    "metadata": {}
                },
                {
                    "output_type": "execute_result",
                    "metadata": {},
                    "execution_count": 4,
                    "data": {
                        "application/vnd.dataresource+json": {
                            "schema": {
                                "fields": [
                                    {
                                        "name": "CreditorID"
                                    },
                                    {
                                        "name": "CreditorName"
                                    }
                                ]
                            },
                            "data": [
                                {
                                    "0": "1",
                                    "1": "You Owe Me"
                                },
                                {
                                    "0": "2",
                                    "1": "You Owe Me More"
                                }
                            ]
                        },
                        "text/html": [
                            "<table>",
                            "<tr><th>CreditorID</th><th>CreditorName</th></tr>",
                            "<tr><td>1</td><td>You Owe Me</td></tr>",
                            "<tr><td>2</td><td>You Owe Me More</td></tr>",
                            "</table>"
                        ]
                    },
                    "batchId": 0,
                    "id": 0,
                    "queryRunnerUri": "queryRunner-untitled:notebook-editor-22"
                }
            ],
            "execution_count": 4
        },
        {
            "cell_type": "code",
            "source": [
                "/* Create a trigger and test */\r\n",
                "USE tempdb;\r\n",
                "GO\r\n",
                "\r\n",
                "CREATE TRIGGER Deny_Delete\r\n",
                "ON Creditor\r\n",
                "FOR DELETE\r\n",
                "AS\r\n",
                "RAISERROR('Deletions are not permitted', 16, 1)\r\n",
                "ROLLBACK TRANSACTION;\r\n",
                "GO"
            ],
            "metadata": {
                "azdata_cell_guid": "51d38aa6-679f-4a1f-a2f3-bbaf4dbb9af9"
            },
            "outputs": [
                {
                    "output_type": "display_data",
                    "data": {
                        "text/html": "Commands completed successfully."
                    },
                    "metadata": {}
                },
                {
                    "output_type": "error",
                    "evalue": "Msg 8197, Level 16, State 4, Procedure Deny_Delete, Line 2\r\nThe object 'Creditor' does not exist or is invalid for this operation.",
                    "ename": "",
                    "traceback": []
                },
                {
                    "output_type": "display_data",
                    "data": {
                        "text/html": "Total execution time: 00:00:00.011"
                    },
                    "metadata": {}
                }
            ],
            "execution_count": 5
        },
        {
            "cell_type": "code",
            "source": [
                "DELETE \r\n",
                "FROM Creditor\r\n",
                "WHERE CreditorID = 1;\r\n",
                "GO"
            ],
            "metadata": {
                "azdata_cell_guid": "ae7b7389-ed3d-4324-8631-0292236cad08"
            },
            "outputs": [
                {
                    "output_type": "display_data",
                    "data": {
                        "text/html": "(1 row affected)"
                    },
                    "metadata": {}
                },
                {
                    "output_type": "display_data",
                    "data": {
                        "text/html": "Total execution time: 00:00:00.007"
                    },
                    "metadata": {}
                }
            ],
            "execution_count": 6
        },
        {
            "cell_type": "code",
            "source": [
                "/* solution 2 */\r\n",
                "THROW 50000, 'User defined error', 1;"
            ],
            "metadata": {
                "azdata_cell_guid": "bd62b9b5-29c7-4bee-afc3-7c904fb1a58e"
            },
            "outputs": [
                {
                    "output_type": "error",
                    "evalue": "Msg 50000, Level 16, State 1, Line 2\r\nUser defined error",
                    "ename": "",
                    "traceback": []
                },
                {
                    "output_type": "display_data",
                    "data": {
                        "text/html": "Total execution time: 00:00:00.007"
                    },
                    "metadata": {}
                }
            ],
            "execution_count": 7
        },
        {
            "cell_type": "code",
            "source": [
                "/* improperly declared raiserror */\r\n",
                "\r\n",
                "USE tempdb;\r\n",
                "GO\r\n",
                "\r\n",
                "BEGIN TRY\r\n",
                "  PRINT 'Outer Try'\r\n",
                "    BEGIN TRY\r\n",
                "\t \tPRINT ERROR_NUMBER() + ' Inner try'\r\n",
                "    END TRY\r\n",
                "    BEGIN CATCH\r\n",
                "        IF ERROR_NUMBER() = 8134\r\n",
                "\t\t   PRINT CONVERT(CHAR(5), ERROR_NUMBER()) + ' Inner Catch Divide by zero'\r\n",
                "        ELSE \r\n",
                "            BEGIN\r\n",
                "            PRINT CONVERT(CHAR(6), ERROR_NUMBER()) + ' '\r\n",
                "\t\t\t + ERROR_MESSAGE() +\r\n",
                "              CONVERT(CHAR(2), ERROR_SEVERITY()) + ' ' +\r\n",
                "              CONVERT(CHAR(2), ERROR_STATE()) + ' INITIAL Catch';\r\n",
                "           RAISERROR --This THROW is added in the initial CATCH\r\n",
                "           END\r\n",
                "    END CATCH;\r\n",
                "END TRY\r\n",
                "BEGIN CATCH\r\n",
                "    IF ERROR_NUMBER() = 8134\r\n",
                "        PRINT CONVERT(CHAR(5), ERROR_NUMBER()) + ' Outer Catch Divide by zero' \r\n",
                "    ELSE \r\n",
                "        BEGIN\r\n",
                "        PRINT CONVERT(CHAR(6), ERROR_NUMBER()) + ' ' + ERROR_MESSAGE() +\r\n",
                "              CONVERT(CHAR(2), ERROR_SEVERITY()) + ' ' + \r\n",
                "              CONVERT(CHAR(2), ERROR_STATE()) + ' OUTER Catch';\r\n",
                "        RAISERROR\r\n",
                "        END\r\n",
                "END CATCH;"
            ],
            "metadata": {
                "azdata_cell_guid": "6ec3cff6-86ff-4a41-b89a-87887b90b9d0"
            },
            "outputs": [
                {
                    "output_type": "display_data",
                    "data": {
                        "text/html": "Commands completed successfully."
                    },
                    "metadata": {}
                },
                {
                    "output_type": "error",
                    "evalue": "Msg 156, Level 15, State 1, Line 21\r\nIncorrect syntax near the keyword 'END'.",
                    "ename": "",
                    "traceback": []
                },
                {
                    "output_type": "error",
                    "evalue": "Msg 156, Level 15, State 1, Line 33\r\nIncorrect syntax near the keyword 'END'.",
                    "ename": "",
                    "traceback": []
                },
                {
                    "output_type": "display_data",
                    "data": {
                        "text/html": "Total execution time: 00:00:00.008"
                    },
                    "metadata": {}
                }
            ],
            "execution_count": 8
        },
        {
            "cell_type": "code",
            "source": [
                "/* properly defined RAISERROR */\r\n",
                "USE tempdb;\r\n",
                "GO\r\n",
                "\r\n",
                "BEGIN TRY\r\n",
                "  PRINT 'Outer Try'\r\n",
                "    BEGIN TRY\r\n",
                "\t \tPRINT ERROR_NUMBER() + ' Inner try'\r\n",
                "    END TRY\r\n",
                "    BEGIN CATCH\r\n",
                "        DECLARE @error_message AS VARCHAR(500) = ERROR_MESSAGE()\r\n",
                "        DECLARE @error_severity AS INT = ERROR_SEVERITY()\r\n",
                "        DECLARE @error_state AS INT = ERROR_STATE()\r\n",
                "\r\n",
                "        IF ERROR_NUMBER() = 8134\r\n",
                "\t\t   PRINT CONVERT(CHAR(5), ERROR_NUMBER()) + ' Inner Catch Divide by zero'\r\n",
                "        ELSE \r\n",
                "            BEGIN\r\n",
                "            PRINT CONVERT(CHAR(6), ERROR_NUMBER()) + ' '\r\n",
                "\t\t\t + ERROR_MESSAGE() +\r\n",
                "              CONVERT(CHAR(2), ERROR_SEVERITY()) + ' ' +\r\n",
                "              CONVERT(CHAR(2), ERROR_STATE()) + ' INITIAL Catch';\r\n",
                "           RAISERROR(@error_message,@error_severity,@error_state); \r\n",
                "           END\r\n",
                "    END CATCH;\r\n",
                "END TRY\r\n",
                "BEGIN CATCH\r\n",
                "    IF ERROR_NUMBER() = 8134\r\n",
                "        PRINT CONVERT(CHAR(5), ERROR_NUMBER()) + ' Outer Catch Divide by zero' \r\n",
                "    ELSE \r\n",
                "        BEGIN\r\n",
                "        PRINT CONVERT(CHAR(6), ERROR_NUMBER()) + ' ' + ERROR_MESSAGE() +\r\n",
                "              CONVERT(CHAR(2), ERROR_SEVERITY()) + ' ' + \r\n",
                "              CONVERT(CHAR(2), ERROR_STATE()) + ' OUTER Catch';\r\n",
                "        RAISERROR(@error_message,@error_severity,@error_state);\r\n",
                "\r\n",
                "        END\r\n",
                "END CATCH;"
            ],
            "metadata": {
                "azdata_cell_guid": "97fc204b-38e1-4ad9-9019-d77dbf126505"
            },
            "outputs": [
                {
                    "output_type": "display_data",
                    "data": {
                        "text/html": "Commands completed successfully."
                    },
                    "metadata": {}
                },
                {
                    "output_type": "display_data",
                    "data": {
                        "text/html": "Outer Try"
                    },
                    "metadata": {}
                },
                {
                    "output_type": "display_data",
                    "data": {
                        "text/html": "245    Conversion failed when converting the varchar value ' Inner try' to data type int.16 1  INITIAL Catch"
                    },
                    "metadata": {}
                },
                {
                    "output_type": "display_data",
                    "data": {
                        "text/html": "50000  Conversion failed when converting the varchar value ' Inner try' to data type int.16 1  OUTER Catch"
                    },
                    "metadata": {}
                },
                {
                    "output_type": "error",
                    "evalue": "Msg 50000, Level 16, State 1, Line 35\r\nConversion failed when converting the varchar value ' Inner try' to data type int.",
                    "ename": "",
                    "traceback": []
                },
                {
                    "output_type": "display_data",
                    "data": {
                        "text/html": "Total execution time: 00:00:00.014"
                    },
                    "metadata": {}
                }
            ],
            "execution_count": 9
        }
    ]
}