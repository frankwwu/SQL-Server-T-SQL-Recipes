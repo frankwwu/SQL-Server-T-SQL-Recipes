{
    "metadata": {
        "kernelspec": {
            "name": "SQL",
            "display_name": "SQL",
            "language": "sql"
        },
        "language_info": {
            "name": "sql",
            "version": ""
        }
    },
    "nbformat_minor": 2,
    "nbformat": 4,
    "cells": [
        {
            "cell_type": "code",
            "source": [
                "/* 21-8 */\r\n",
                "USE master\r\n",
                "GO\r\n",
                "\r\n",
                "IF EXISTS ( SELECT 1/0 FROM sys.messages WHERE message_id = 50001)\r\n",
                "BEGIN\r\n",
                "  EXEC sp_dropmessage 50001;\r\n",
                "END\r\n",
                "GO "
            ],
            "metadata": {
                "azdata_cell_guid": "f5cae4a4-333d-4d0b-84d3-5c37316c70cd",
                "tags": []
            },
            "outputs": [
                {
                    "output_type": "display_data",
                    "data": {
                        "text/html": "Commands completed successfully."
                    },
                    "metadata": {}
                },
                {
                    "output_type": "display_data",
                    "data": {
                        "text/html": "Commands completed successfully."
                    },
                    "metadata": {}
                },
                {
                    "output_type": "display_data",
                    "data": {
                        "text/html": "Total execution time: 00:00:00.022"
                    },
                    "metadata": {}
                }
            ],
            "execution_count": 1
        },
        {
            "cell_type": "code",
            "source": [
                "/* Confirm the error has been deleted */\r\n",
                "SELECT message_id,\t\r\n",
                "\t text\r\n",
                "FROM sys.messages\r\n",
                "WHERE message_id = 50001;\r\n",
                "GO"
            ],
            "metadata": {
                "azdata_cell_guid": "13217c8b-4528-4902-b558-861ae5957f7e",
                "tags": []
            },
            "outputs": [
                {
                    "output_type": "display_data",
                    "data": {
                        "text/html": "(0 rows affected)"
                    },
                    "metadata": {}
                },
                {
                    "output_type": "display_data",
                    "data": {
                        "text/html": "Total execution time: 00:00:00.008"
                    },
                    "metadata": {}
                },
                {
                    "output_type": "execute_result",
                    "metadata": {},
                    "execution_count": 2,
                    "data": {
                        "application/vnd.dataresource+json": {
                            "schema": {
                                "fields": [
                                    {
                                        "name": "message_id"
                                    },
                                    {
                                        "name": "text"
                                    }
                                ]
                            },
                            "data": []
                        },
                        "text/html": [
                            "<table>",
                            "<tr><th>message_id</th><th>text</th></tr>",
                            "</table>"
                        ]
                    },
                    "batchId": 0,
                    "id": 0,
                    "queryRunnerUri": "queryRunner-untitled:notebook-editor-35"
                }
            ],
            "execution_count": 2
        },
        {
            "cell_type": "code",
            "source": [
                "/* Now try to use that error */\r\n",
                "RAISERROR(50001,16,1);\r\n",
                "GO"
            ],
            "metadata": {
                "azdata_cell_guid": "e096d12d-81f7-4b4d-879d-f6841100334c"
            },
            "outputs": [
                {
                    "output_type": "error",
                    "evalue": "Msg 18054, Level 16, State 1, Line 2\r\nError 50001, severity 16, state 1 was raised, but no message with that error number was found in sys.messages. If error is larger than 50000, make sure the user-defined message is added using sp_addmessage.",
                    "ename": "",
                    "traceback": []
                },
                {
                    "output_type": "display_data",
                    "data": {
                        "text/html": "Total execution time: 00:00:00.004"
                    },
                    "metadata": {}
                }
            ],
            "execution_count": 3
        }
    ]
}