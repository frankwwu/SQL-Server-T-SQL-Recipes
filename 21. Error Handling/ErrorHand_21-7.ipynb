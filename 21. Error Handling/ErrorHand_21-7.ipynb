{
    "metadata": {
        "kernelspec": {
            "name": "SQL",
            "display_name": "SQL",
            "language": "sql"
        },
        "language_info": {
            "name": "sql",
            "version": ""
        }
    },
    "nbformat_minor": 2,
    "nbformat": 4,
    "cells": [
        {
            "cell_type": "code",
            "source": [
                "/* 21-7 */\r\n",
                "USE master\r\n",
                "GO\r\n",
                "EXEC sp_addmessage 50001, 16, \r\n",
                "   N'This is a user defined error that can be corrected by the user';\r\n",
                "GO "
            ],
            "metadata": {
                "azdata_cell_guid": "3b34a2a0-204d-4329-bebf-4e366f24b902"
            },
            "outputs": [
                {
                    "output_type": "display_data",
                    "data": {
                        "text/html": "Commands completed successfully."
                    },
                    "metadata": {}
                },
                {
                    "output_type": "display_data",
                    "data": {
                        "text/html": "Commands completed successfully."
                    },
                    "metadata": {}
                },
                {
                    "output_type": "display_data",
                    "data": {
                        "text/html": "Total execution time: 00:00:00.026"
                    },
                    "metadata": {}
                }
            ],
            "execution_count": 1
        },
        {
            "cell_type": "code",
            "source": [
                "/* query sys.messages for the new message */\r\n",
                "SELECT message_id,\t\r\n",
                "\t text\r\n",
                "FROM sys.messages\r\n",
                "WHERE message_id = 50001;\r\n",
                "GO"
            ],
            "metadata": {
                "azdata_cell_guid": "3f187874-1e8b-4abf-be44-ecc6d0a93c67"
            },
            "outputs": [
                {
                    "output_type": "display_data",
                    "data": {
                        "text/html": "(1 row affected)"
                    },
                    "metadata": {}
                },
                {
                    "output_type": "display_data",
                    "data": {
                        "text/html": "Total execution time: 00:00:00.029"
                    },
                    "metadata": {}
                },
                {
                    "output_type": "execute_result",
                    "metadata": {},
                    "execution_count": 2,
                    "data": {
                        "application/vnd.dataresource+json": {
                            "schema": {
                                "fields": [
                                    {
                                        "name": "message_id"
                                    },
                                    {
                                        "name": "text"
                                    }
                                ]
                            },
                            "data": [
                                {
                                    "0": "50001",
                                    "1": "This is a user defined error that can be corrected by the user"
                                }
                            ]
                        },
                        "text/html": [
                            "<table>",
                            "<tr><th>message_id</th><th>text</th></tr>",
                            "<tr><td>50001</td><td>This is a user defined error that can be corrected by the user</td></tr>",
                            "</table>"
                        ]
                    },
                    "batchId": 0,
                    "id": 0,
                    "queryRunnerUri": "queryRunner-untitled:notebook-editor-32"
                }
            ],
            "execution_count": 2
        },
        {
            "cell_type": "code",
            "source": [
                "/* use the new message */\r\n",
                "RAISERROR (50001,16,1);\r\n",
                "GO"
            ],
            "metadata": {
                "azdata_cell_guid": "330ad11c-4f5e-43f4-b1bc-922bdf9c2671"
            },
            "outputs": [
                {
                    "output_type": "error",
                    "evalue": "Msg 50001, Level 16, State 1, Line 2\r\nThis is a user defined error that can be corrected by the user",
                    "ename": "",
                    "traceback": []
                },
                {
                    "output_type": "display_data",
                    "data": {
                        "text/html": "Total execution time: 00:00:00.001"
                    },
                    "metadata": {}
                }
            ],
            "execution_count": 3
        },
        {
            "cell_type": "code",
            "source": [
                "/* adding another message */\r\n",
                "USE master\r\n",
                "GO\r\n",
                "sp_addmessage @msgnum = 50002 , \r\n",
                "        @severity = 16 , \r\n",
                "        @msgtext = 'User error that IS logged', \r\n",
                "        @with_log = 'TRUE';\r\n",
                "GO"
            ],
            "metadata": {
                "azdata_cell_guid": "295a975b-add7-426a-91ee-d5934bab9165"
            },
            "outputs": [
                {
                    "output_type": "display_data",
                    "data": {
                        "text/html": "Commands completed successfully."
                    },
                    "metadata": {}
                },
                {
                    "output_type": "display_data",
                    "data": {
                        "text/html": "Commands completed successfully."
                    },
                    "metadata": {}
                },
                {
                    "output_type": "display_data",
                    "data": {
                        "text/html": "Total execution time: 00:00:00.006"
                    },
                    "metadata": {}
                }
            ],
            "execution_count": 4
        },
        {
            "cell_type": "code",
            "source": [
                "RAISERROR (50002,16,1);\r\n",
                "GO"
            ],
            "metadata": {
                "azdata_cell_guid": "96020e5d-dcc0-44c6-b56d-0fbab406f9b6"
            },
            "outputs": [
                {
                    "output_type": "error",
                    "evalue": "Msg 50002, Level 16, State 1, Line 1\r\nUser error that IS logged",
                    "ename": "",
                    "traceback": []
                },
                {
                    "output_type": "display_data",
                    "data": {
                        "text/html": "Total execution time: 00:00:00.004"
                    },
                    "metadata": {}
                }
            ],
            "execution_count": 5
        }
    ]
}