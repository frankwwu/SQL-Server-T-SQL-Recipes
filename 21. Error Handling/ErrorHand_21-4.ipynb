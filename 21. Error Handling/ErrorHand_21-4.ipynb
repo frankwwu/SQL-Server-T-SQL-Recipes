{
    "metadata": {
        "kernelspec": {
            "name": "SQL",
            "display_name": "SQL",
            "language": "sql"
        },
        "language_info": {
            "name": "sql",
            "version": ""
        }
    },
    "nbformat_minor": 2,
    "nbformat": 4,
    "cells": [
        {
            "cell_type": "code",
            "source": [
                "/* 21-4 */\r\n",
                "USE tempdb;\r\n",
                "GO\r\n",
                "\r\n",
                "BEGIN TRY\r\n",
                "   SELECT 1/0\r\n",
                "END TRY\r\n",
                "BEGIN CATCH\r\n",
                "    PRINT 'In catch block.';\r\n",
                "    THROW;\r\n",
                "END CATCH; "
            ],
            "metadata": {
                "azdata_cell_guid": "ef013332-bb57-4dcd-b750-64b2bf53d2d8"
            },
            "outputs": [
                {
                    "output_type": "display_data",
                    "data": {
                        "text/html": "Commands completed successfully."
                    },
                    "metadata": {}
                },
                {
                    "output_type": "display_data",
                    "data": {
                        "text/html": "(0 rows affected)"
                    },
                    "metadata": {}
                },
                {
                    "output_type": "display_data",
                    "data": {
                        "text/html": "In catch block."
                    },
                    "metadata": {}
                },
                {
                    "output_type": "error",
                    "evalue": "Msg 8134, Level 16, State 1, Line 6\r\nDivide by zero error encountered.",
                    "ename": "",
                    "traceback": []
                },
                {
                    "output_type": "display_data",
                    "data": {
                        "text/html": "Total execution time: 00:00:00.010"
                    },
                    "metadata": {}
                },
                {
                    "output_type": "execute_result",
                    "metadata": {},
                    "execution_count": 1,
                    "data": {
                        "application/vnd.dataresource+json": {
                            "schema": {
                                "fields": [
                                    {
                                        "name": "(No column name)"
                                    }
                                ]
                            },
                            "data": []
                        },
                        "text/html": [
                            "<table>",
                            "<tr><th>(No column name)</th></tr>",
                            "</table>"
                        ]
                    }
                }
            ],
            "execution_count": 1
        },
        {
            "cell_type": "code",
            "source": [
                "/* custom error with THROW */\r\n",
                "USE tempdb;\r\n",
                "GO\r\n",
                "\r\n",
                "BEGIN TRY\r\n",
                "   SELECT 1/0\r\n",
                "END TRY\r\n",
                "BEGIN CATCH\r\n",
                "\tIF (SELECT @@ERROR) = 8134\r\n",
                "\tBEGIN;\r\n",
                "\tTHROW 51000, 'Divide by zero error occurred', 10;\r\n",
                "\t  END \r\n",
                "\t  ELSE\r\n",
                "\tTHROW 52000, 'Unknown error occurred', 10;\r\n",
                "END CATCH;\r\n",
                ""
            ],
            "metadata": {
                "azdata_cell_guid": "1a926fdc-afc4-44e2-8901-0234b2fce399"
            },
            "outputs": [
                {
                    "output_type": "display_data",
                    "data": {
                        "text/html": "Commands completed successfully."
                    },
                    "metadata": {}
                },
                {
                    "output_type": "display_data",
                    "data": {
                        "text/html": "(0 rows affected)"
                    },
                    "metadata": {}
                },
                {
                    "output_type": "error",
                    "evalue": "Msg 51000, Level 16, State 10, Line 11\r\nDivide by zero error occurred",
                    "ename": "",
                    "traceback": []
                },
                {
                    "output_type": "display_data",
                    "data": {
                        "text/html": "Total execution time: 00:00:00.015"
                    },
                    "metadata": {}
                },
                {
                    "output_type": "execute_result",
                    "metadata": {},
                    "execution_count": 2,
                    "data": {
                        "application/vnd.dataresource+json": {
                            "schema": {
                                "fields": [
                                    {
                                        "name": "(No column name)"
                                    }
                                ]
                            },
                            "data": []
                        },
                        "text/html": [
                            "<table>",
                            "<tr><th>(No column name)</th></tr>",
                            "</table>"
                        ]
                    }
                }
            ],
            "execution_count": 2
        }
    ]
}