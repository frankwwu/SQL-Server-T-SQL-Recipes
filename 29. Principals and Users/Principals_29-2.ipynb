{
    "metadata": {
        "kernelspec": {
            "name": "SQL",
            "display_name": "SQL",
            "language": "sql"
        },
        "language_info": {
            "name": "sql",
            "version": ""
        }
    },
    "nbformat_minor": 2,
    "nbformat": 4,
    "cells": [
        {
            "cell_type": "code",
            "source": [
                "/* 29-2 */\r\n",
                "USE master;\r\n",
                "GO\r\n",
                "SELECT name, sid\r\n",
                "FROM sys.server_principals\r\n",
                "WHERE type_desc IN ('WINDOWS_LOGIN', 'WINDOWS_GROUP')\r\n",
                "ORDER BY type_desc;\r\n",
                "GO"
            ],
            "metadata": {
                "azdata_cell_guid": "8dc568db-3fe6-4cce-bac7-84e9c268824f"
            },
            "outputs": [
                {
                    "output_type": "display_data",
                    "data": {
                        "text/html": "Commands completed successfully."
                    },
                    "metadata": {}
                },
                {
                    "output_type": "display_data",
                    "data": {
                        "text/html": "(7 rows affected)"
                    },
                    "metadata": {}
                },
                {
                    "output_type": "display_data",
                    "data": {
                        "text/html": "Total execution time: 00:00:00.037"
                    },
                    "metadata": {}
                },
                {
                    "output_type": "execute_result",
                    "metadata": {},
                    "execution_count": 1,
                    "data": {
                        "application/vnd.dataresource+json": {
                            "schema": {
                                "fields": [
                                    {
                                        "name": "name"
                                    },
                                    {
                                        "name": "sid"
                                    }
                                ]
                            },
                            "data": [
                                {
                                    "0": "CATALPA\\frank",
                                    "1": "0x0105000000000005150000006422608AC98E56FAA71A6E40E9030000"
                                },
                                {
                                    "0": "NT SERVICE\\SQLWriter",
                                    "1": "0x010600000000000550000000732B9753646EF90356745CB675C3AA6CD6B4D28B"
                                },
                                {
                                    "0": "NT SERVICE\\Winmgmt",
                                    "1": "0x0106000000000005500000005A048DDFF9C7430AB450D4E7477A2172AB4170F4"
                                },
                                {
                                    "0": "NT Service\\MSSQLSERVER",
                                    "1": "0x010600000000000550000000E20F4FE7B15874E48E19026478C2DC9AC307B83E"
                                },
                                {
                                    "0": "NT AUTHORITY\\SYSTEM",
                                    "1": "0x010100000000000512000000"
                                },
                                {
                                    "0": "NT SERVICE\\SQLSERVERAGENT",
                                    "1": "0x010600000000000550000000DCA88F14B79FD47A992A3D8943F829A726066357"
                                },
                                {
                                    "0": "NT SERVICE\\SQLTELEMETRY",
                                    "1": "0x010600000000000550000000447A1A9EE0235381234A54AA9BD0549C4FCC0642"
                                }
                            ]
                        },
                        "text/html": [
                            "<table>",
                            "<tr><th>name</th><th>sid</th></tr>",
                            "<tr><td>CATALPA\\frank</td><td>0x0105000000000005150000006422608AC98E56FAA71A6E40E9030000</td></tr>",
                            "<tr><td>NT SERVICE\\SQLWriter</td><td>0x010600000000000550000000732B9753646EF90356745CB675C3AA6CD6B4D28B</td></tr>",
                            "<tr><td>NT SERVICE\\Winmgmt</td><td>0x0106000000000005500000005A048DDFF9C7430AB450D4E7477A2172AB4170F4</td></tr>",
                            "<tr><td>NT Service\\MSSQLSERVER</td><td>0x010600000000000550000000E20F4FE7B15874E48E19026478C2DC9AC307B83E</td></tr>",
                            "<tr><td>NT AUTHORITY\\SYSTEM</td><td>0x010100000000000512000000</td></tr>",
                            "<tr><td>NT SERVICE\\SQLSERVERAGENT</td><td>0x010600000000000550000000DCA88F14B79FD47A992A3D8943F829A726066357</td></tr>",
                            "<tr><td>NT SERVICE\\SQLTELEMETRY</td><td>0x010600000000000550000000447A1A9EE0235381234A54AA9BD0549C4FCC0642</td></tr>",
                            "</table>"
                        ]
                    }
                }
            ],
            "execution_count": 1
        }
    ]
}