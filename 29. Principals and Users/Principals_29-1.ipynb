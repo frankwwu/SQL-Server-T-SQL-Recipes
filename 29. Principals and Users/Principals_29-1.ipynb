{
    "metadata": {
        "kernelspec": {
            "name": "SQL",
            "display_name": "SQL",
            "language": "sql"
        },
        "language_info": {
            "name": "sql",
            "version": ""
        }
    },
    "nbformat_minor": 2,
    "nbformat": 4,
    "cells": [
        {
            "cell_type": "code",
            "source": [
                "/* 29 - 1 */\r\n",
                "/* create login from local windows or domain user */\r\n",
                "USE master;\r\n",
                "GO\r\n",
                "CREATE LOGIN [PetitMot\\JeanLouis]\r\n",
                "FROM WINDOWS\r\n",
                "WITH DEFAULT_DATABASE = AdventureWorks2014,\r\n",
                "DEFAULT_LANGUAGE = English;\r\n",
                "GO"
            ],
            "metadata": {
                "azdata_cell_guid": "d2439989-efbf-4b78-ae44-c1905d0e497e"
            },
            "outputs": [
                {
                    "output_type": "display_data",
                    "data": {
                        "text/html": "Commands completed successfully."
                    },
                    "metadata": {}
                },
                {
                    "output_type": "error",
                    "evalue": "Msg 15401, Level 16, State 1, Line 5\r\nWindows NT user or group 'PetitMot\\JeanLouis' not found. Check the name again.",
                    "ename": "",
                    "traceback": []
                },
                {
                    "output_type": "display_data",
                    "data": {
                        "text/html": "Total execution time: 00:00:00.008"
                    },
                    "metadata": {}
                }
            ],
            "execution_count": 1
        },
        {
            "cell_type": "code",
            "source": [
                "/* create from windows or domain group */\r\n",
                "USE master;\r\n",
                "GO\r\n",
                "CREATE LOGIN [PetitMot\\Contenu]\r\n",
                "FROM WINDOWS\r\n",
                "WITH DEFAULT_DATABASE= AdventureWorks2014;\r\n",
                "GO"
            ],
            "metadata": {
                "azdata_cell_guid": "fef9ab7d-992b-41fb-a3c0-602f41b64582"
            },
            "outputs": [
                {
                    "output_type": "display_data",
                    "data": {
                        "text/html": "Commands completed successfully."
                    },
                    "metadata": {}
                },
                {
                    "output_type": "error",
                    "evalue": "Msg 15401, Level 16, State 1, Line 4\r\nWindows NT user or group 'PetitMot\\Contenu' not found. Check the name again.",
                    "ename": "",
                    "traceback": []
                },
                {
                    "output_type": "display_data",
                    "data": {
                        "text/html": "Total execution time: 00:00:00.001"
                    },
                    "metadata": {}
                }
            ],
            "execution_count": 2
        }
    ]
}