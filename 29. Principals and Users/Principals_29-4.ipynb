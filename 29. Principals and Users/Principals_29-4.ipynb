{
    "metadata": {
        "kernelspec": {
            "name": "SQL",
            "display_name": "SQL",
            "language": "sql"
        },
        "language_info": {
            "name": "sql",
            "version": ""
        }
    },
    "nbformat_minor": 2,
    "nbformat": 4,
    "cells": [
        {
            "cell_type": "code",
            "source": [
                "/* 29-4 */\r\n",
                "USE master;\r\n",
                "GO\r\n",
                "-- Windows Group login\r\n",
                "DROP LOGIN [PETITMOT\\Contenu];\r\n",
                "-- Windows user login \r\n",
                "DROP LOGIN [PETITMOT\\JeanLouis];\r\n",
                "GO"
            ],
            "metadata": {
                "azdata_cell_guid": "92707f56-2f70-496e-8ff6-d423b004372f"
            },
            "outputs": [
                {
                    "output_type": "display_data",
                    "data": {
                        "text/html": "Commands completed successfully."
                    },
                    "metadata": {}
                },
                {
                    "output_type": "error",
                    "evalue": "Msg 15401, Level 16, State 1, Line 5\r\nWindows NT user or group 'PETITMOT\\Contenu' not found. Check the name again.",
                    "ename": "",
                    "traceback": []
                },
                {
                    "output_type": "error",
                    "evalue": "Msg 15401, Level 16, State 1, Line 7\r\nWindows NT user or group 'PETITMOT\\JeanLouis' not found. Check the name again.",
                    "ename": "",
                    "traceback": []
                },
                {
                    "output_type": "display_data",
                    "data": {
                        "text/html": "Total execution time: 00:00:00.002"
                    },
                    "metadata": {}
                }
            ],
            "execution_count": 1
        }
    ]
}