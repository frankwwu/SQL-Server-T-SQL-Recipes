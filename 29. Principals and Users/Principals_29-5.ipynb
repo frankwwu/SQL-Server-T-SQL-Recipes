{
    "metadata": {
        "kernelspec": {
            "name": "SQL",
            "display_name": "SQL",
            "language": "sql"
        },
        "language_info": {
            "name": "sql",
            "version": ""
        }
    },
    "nbformat_minor": 2,
    "nbformat": 4,
    "cells": [
        {
            "cell_type": "code",
            "source": [
                "/* 29-5 */\r\n",
                "USE master;\r\n",
                "GO\r\n",
                "DENY CONNECT SQL TO [PETITMOT\\Geraud];\r\n",
                "GO"
            ],
            "metadata": {
                "azdata_cell_guid": "ba98bca5-5650-4f6a-be91-4f0c6c60a051"
            },
            "outputs": [
                {
                    "output_type": "display_data",
                    "data": {
                        "text/html": "Commands completed successfully."
                    },
                    "metadata": {}
                },
                {
                    "output_type": "error",
                    "evalue": "Msg 15151, Level 16, State 1, Line 4\r\nCannot find the login 'PETITMOT\\Geraud', because it does not exist or you do not have permission.",
                    "ename": "",
                    "traceback": []
                },
                {
                    "output_type": "display_data",
                    "data": {
                        "text/html": "Total execution time: 00:00:00.004"
                    },
                    "metadata": {}
                }
            ],
            "execution_count": 1
        },
        {
            "cell_type": "code",
            "source": [
                "USE master;\r\n",
                "GO\r\n",
                "GRANT CONNECT SQL TO [PETITMOT\\Geraud];\r\n",
                "GO"
            ],
            "metadata": {
                "azdata_cell_guid": "e6350cd7-e10c-4f26-b6a7-7c785d8ea77e"
            },
            "outputs": [
                {
                    "output_type": "display_data",
                    "data": {
                        "text/html": "Commands completed successfully."
                    },
                    "metadata": {}
                },
                {
                    "output_type": "error",
                    "evalue": "Msg 15151, Level 16, State 1, Line 3\r\nCannot find the login 'PETITMOT\\Geraud', because it does not exist or you do not have permission.",
                    "ename": "",
                    "traceback": []
                },
                {
                    "output_type": "display_data",
                    "data": {
                        "text/html": "Total execution time: 00:00:00.003"
                    },
                    "metadata": {}
                }
            ],
            "execution_count": 2
        }
    ]
}