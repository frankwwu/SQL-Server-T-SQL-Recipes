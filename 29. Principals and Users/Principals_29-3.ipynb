{
    "metadata": {
        "kernelspec": {
            "name": "SQL",
            "display_name": "SQL",
            "language": "sql"
        },
        "language_info": {
            "name": "sql",
            "version": ""
        }
    },
    "nbformat_minor": 2,
    "nbformat": 4,
    "cells": [
        {
            "cell_type": "code",
            "source": [
                "/* 29-3 */\r\n",
                "USE master;\r\n",
                "GO\r\n",
                "ALTER LOGIN [ROIS\\PETITMOT\\FredericJeanLouis] DISABLE;\r\n",
                "GO"
            ],
            "metadata": {
                "azdata_cell_guid": "f5b7dc5c-68fe-43c9-ba56-fc95ba10d4c3"
            },
            "outputs": [
                {
                    "output_type": "display_data",
                    "data": {
                        "text/html": "Commands completed successfully."
                    },
                    "metadata": {}
                },
                {
                    "output_type": "error",
                    "evalue": "Msg 15151, Level 16, State 1, Line 4\r\nCannot alter the login 'ROIS\\PETITMOT\\FredericJeanLouis', because it does not exist or you do not have permission.",
                    "ename": "",
                    "traceback": []
                },
                {
                    "output_type": "display_data",
                    "data": {
                        "text/html": "Total execution time: 00:00:00.001"
                    },
                    "metadata": {}
                }
            ],
            "execution_count": 1
        },
        {
            "cell_type": "code",
            "source": [
                "USE master;\r\n",
                "GO\r\n",
                "ALTER LOGIN [ROIS\\PETITMOT\\FredericJeanLouis] ENABLE;\r\n",
                "GO"
            ],
            "metadata": {
                "azdata_cell_guid": "0ab96939-2ca2-47db-99f1-2dd1cdf403fe"
            },
            "outputs": [
                {
                    "output_type": "display_data",
                    "data": {
                        "text/html": "Commands completed successfully."
                    },
                    "metadata": {}
                },
                {
                    "output_type": "error",
                    "evalue": "Msg 15151, Level 16, State 1, Line 3\r\nCannot alter the login 'ROIS\\PETITMOT\\FredericJeanLouis', because it does not exist or you do not have permission.",
                    "ename": "",
                    "traceback": []
                },
                {
                    "output_type": "display_data",
                    "data": {
                        "text/html": "Total execution time: 00:00:00.010"
                    },
                    "metadata": {}
                }
            ],
            "execution_count": 2
        },
        {
            "cell_type": "code",
            "source": [
                "USE master;\r\n",
                "GO\r\n",
                "ALTER LOGIN [ROIS\\PETITMOT\\DuMondeContenu] \r\n",
                "    WITH DEFAULT_DATABASE = master;\r\n",
                "GO"
            ],
            "metadata": {
                "azdata_cell_guid": "57fb20e1-1798-4165-8cfc-f1e2708c21f6"
            },
            "outputs": [
                {
                    "output_type": "display_data",
                    "data": {
                        "text/html": "Commands completed successfully."
                    },
                    "metadata": {}
                },
                {
                    "output_type": "error",
                    "evalue": "Msg 15151, Level 16, State 1, Line 3\r\nCannot alter the login 'ROIS\\PETITMOT\\DuMondeContenu', because it does not exist or you do not have permission.",
                    "ename": "",
                    "traceback": []
                },
                {
                    "output_type": "display_data",
                    "data": {
                        "text/html": "Total execution time: 00:00:00.001"
                    },
                    "metadata": {}
                }
            ],
            "execution_count": 3
        }
    ]
}