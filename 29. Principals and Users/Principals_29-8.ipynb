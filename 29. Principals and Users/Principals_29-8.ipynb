{
    "metadata": {
        "kernelspec": {
            "name": "SQL",
            "display_name": "SQL",
            "language": "sql"
        },
        "language_info": {
            "name": "sql",
            "version": ""
        }
    },
    "nbformat_minor": 2,
    "nbformat": 4,
    "cells": [
        {
            "cell_type": "code",
            "source": [
                "/* 29-8 */\r\n",
                "USE master;\r\n",
                "GO\r\n",
                "ALTER LOGIN PipoGaston\r\n",
                "WITH PASSWORD = 'Chuch0t3r'\r\n",
                "OLD_PASSWORD = ' Tr0isM0ts';\r\n",
                "GO"
            ],
            "metadata": {
                "azdata_cell_guid": "8c709126-c568-4fbc-9074-73ef6db96191"
            },
            "outputs": [
                {
                    "output_type": "display_data",
                    "data": {
                        "text/html": "Commands completed successfully."
                    },
                    "metadata": {}
                },
                {
                    "output_type": "error",
                    "evalue": "Msg 15151, Level 16, State 1, Line 4\r\nCannot alter the login 'PipoGaston', because it does not exist or you do not have permission.",
                    "ename": "",
                    "traceback": []
                },
                {
                    "output_type": "display_data",
                    "data": {
                        "text/html": "Total execution time: 00:00:00"
                    },
                    "metadata": {}
                }
            ],
            "execution_count": 1
        },
        {
            "cell_type": "code",
            "source": [
                "USE master;\r\n",
                "GO\r\n",
                "ALTER LOGIN Gaston\r\n",
                "WITH DEFAULT_DATABASE = [AdventureWorks2014];\r\n",
                "GO"
            ],
            "metadata": {
                "azdata_cell_guid": "99be13b8-976e-49f5-af61-c23ab15bd6f6"
            },
            "outputs": [
                {
                    "output_type": "display_data",
                    "data": {
                        "text/html": "Commands completed successfully."
                    },
                    "metadata": {}
                },
                {
                    "output_type": "display_data",
                    "data": {
                        "text/html": "Commands completed successfully."
                    },
                    "metadata": {}
                },
                {
                    "output_type": "display_data",
                    "data": {
                        "text/html": "Total execution time: 00:00:00.008"
                    },
                    "metadata": {}
                }
            ],
            "execution_count": 2
        },
        {
            "cell_type": "code",
            "source": [
                "USE master;\r\n",
                "GO\r\n",
                "ALTER LOGIN Gaston\r\n",
                "WITH NAME = HyBrasil, PASSWORD = 'UC@ntCMe';\r\n",
                "GO"
            ],
            "metadata": {
                "azdata_cell_guid": "50138fb1-663e-4c3f-80fa-80b5fbd9733e"
            },
            "outputs": [
                {
                    "output_type": "display_data",
                    "data": {
                        "text/html": "Commands completed successfully."
                    },
                    "metadata": {}
                },
                {
                    "output_type": "display_data",
                    "data": {
                        "text/html": "Commands completed successfully."
                    },
                    "metadata": {}
                },
                {
                    "output_type": "display_data",
                    "data": {
                        "text/html": "Total execution time: 00:00:00.010"
                    },
                    "metadata": {}
                }
            ],
            "execution_count": 3
        }
    ]
}