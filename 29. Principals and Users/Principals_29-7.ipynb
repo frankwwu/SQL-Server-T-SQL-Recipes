{
    "metadata": {
        "kernelspec": {
            "name": "SQL",
            "display_name": "SQL",
            "language": "sql"
        },
        "language_info": {
            "name": "sql",
            "version": ""
        }
    },
    "nbformat_minor": 2,
    "nbformat": 4,
    "cells": [
        {
            "cell_type": "code",
            "source": [
                "/* 29-7 */\r\n",
                "USE master;\r\n",
                "GO\r\n",
                "SELECT name, sid \r\n",
                "FROM sys.server_principals \r\n",
                "WHERE type_desc IN ('SQL_LOGIN') \r\n",
                "ORDER BY name;\r\n",
                "GO"
            ],
            "metadata": {
                "azdata_cell_guid": "b9a7c811-b3c7-4564-bb02-66c840fde9dd"
            },
            "outputs": [
                {
                    "output_type": "display_data",
                    "data": {
                        "text/html": "Commands completed successfully."
                    },
                    "metadata": {}
                },
                {
                    "output_type": "display_data",
                    "data": {
                        "text/html": "(9 rows affected)"
                    },
                    "metadata": {}
                },
                {
                    "output_type": "display_data",
                    "data": {
                        "text/html": "Total execution time: 00:00:00.037"
                    },
                    "metadata": {}
                },
                {
                    "output_type": "execute_result",
                    "metadata": {},
                    "execution_count": 1,
                    "data": {
                        "application/vnd.dataresource+json": {
                            "schema": {
                                "fields": [
                                    {
                                        "name": "name"
                                    },
                                    {
                                        "name": "sid"
                                    }
                                ]
                            },
                            "data": [
                                {
                                    "0": "##MS_PolicyEventProcessingLogin##",
                                    "1": "0x1F555D8BA671EA4796E8FD88D4E88483"
                                },
                                {
                                    "0": "##MS_PolicyTsqlExecutionLogin##",
                                    "1": "0x27578D8516843E4094EFA2CEED085C82"
                                },
                                {
                                    "0": "Aurora",
                                    "1": "0xB741921753BC474985F8C80CFE027F23"
                                },
                                {
                                    "0": "Gargouille",
                                    "1": "0x8D6CCC45F8D4724D95396FB1065C7AF1"
                                },
                                {
                                    "0": "Gaston",
                                    "1": "0x22885FEC5DDF194A8BA0406F5FDDA62E"
                                },
                                {
                                    "0": "Phantom",
                                    "1": "0xE89DB2C270E2BF4D9042F80C45429796"
                                },
                                {
                                    "0": "sa",
                                    "1": "0x01"
                                },
                                {
                                    "0": "TestUser",
                                    "1": "0x1AE3CAE8D3102049BC6A084CC4F52D95"
                                },
                                {
                                    "0": "TestUser2",
                                    "1": "0x546F13ED19FE0540BCAE76B273B6806E"
                                }
                            ]
                        },
                        "text/html": [
                            "<table>",
                            "<tr><th>name</th><th>sid</th></tr>",
                            "<tr><td>##MS_PolicyEventProcessingLogin##</td><td>0x1F555D8BA671EA4796E8FD88D4E88483</td></tr>",
                            "<tr><td>##MS_PolicyTsqlExecutionLogin##</td><td>0x27578D8516843E4094EFA2CEED085C82</td></tr>",
                            "<tr><td>Aurora</td><td>0xB741921753BC474985F8C80CFE027F23</td></tr>",
                            "<tr><td>Gargouille</td><td>0x8D6CCC45F8D4724D95396FB1065C7AF1</td></tr>",
                            "<tr><td>Gaston</td><td>0x22885FEC5DDF194A8BA0406F5FDDA62E</td></tr>",
                            "<tr><td>Phantom</td><td>0xE89DB2C270E2BF4D9042F80C45429796</td></tr>",
                            "<tr><td>sa</td><td>0x01</td></tr>",
                            "<tr><td>TestUser</td><td>0x1AE3CAE8D3102049BC6A084CC4F52D95</td></tr>",
                            "<tr><td>TestUser2</td><td>0x546F13ED19FE0540BCAE76B273B6806E</td></tr>",
                            "</table>"
                        ]
                    }
                }
            ],
            "execution_count": 1
        }
    ]
}