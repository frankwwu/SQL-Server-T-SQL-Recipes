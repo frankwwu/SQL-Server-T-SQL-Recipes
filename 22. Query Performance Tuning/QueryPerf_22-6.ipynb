{
    "metadata": {
        "kernelspec": {
            "name": "SQL",
            "display_name": "SQL",
            "language": "sql"
        },
        "language_info": {
            "name": "sql",
            "version": ""
        }
    },
    "nbformat_minor": 2,
    "nbformat": 4,
    "cells": [
        {
            "cell_type": "code",
            "source": [
                "/* 22-6 */\r\n",
                "USE AdventureWorks2014;\r\n",
                "GO\r\n",
                "SELECT BusinessEntityID\r\n",
                "FROM Purchasing.vVendorWithContacts\r\n",
                "WHERE EmailAddress = 'cheryl1@adventure-works.com';\r\n",
                "GO\r\n",
                "SELECT BusinessEntityID\r\n",
                "FROM Purchasing.vVendorWithContacts\r\n",
                "WHERE EmailAddress = 'stuart2@adventure-works.com';\r\n",
                "GO\r\n",
                "SELECT BusinessEntityID\r\n",
                "FROM Purchasing.vVendorWithContacts\r\n",
                "WHERE EmailAddress = 'suzanne0@adventure-works.com';\r\n",
                "GO"
            ],
            "metadata": {
                "azdata_cell_guid": "d90b6f3c-2f7f-4789-ad98-9310cd9e825a"
            },
            "outputs": [
                {
                    "output_type": "display_data",
                    "data": {
                        "text/html": "Commands completed successfully."
                    },
                    "metadata": {}
                },
                {
                    "output_type": "display_data",
                    "data": {
                        "text/html": "(1 row affected)"
                    },
                    "metadata": {}
                },
                {
                    "output_type": "display_data",
                    "data": {
                        "text/html": "(1 row affected)"
                    },
                    "metadata": {}
                },
                {
                    "output_type": "execute_result",
                    "metadata": {},
                    "execution_count": 1,
                    "data": {
                        "application/vnd.dataresource+json": {
                            "schema": {
                                "fields": [
                                    {
                                        "name": "BusinessEntityID"
                                    }
                                ]
                            },
                            "data": [
                                {
                                    "0": "1520"
                                }
                            ]
                        },
                        "text/html": [
                            "<table>",
                            "<tr><th>BusinessEntityID</th></tr>",
                            "<tr><td>1520</td></tr>",
                            "</table>"
                        ]
                    }
                },
                {
                    "output_type": "display_data",
                    "data": {
                        "text/html": "(1 row affected)"
                    },
                    "metadata": {}
                },
                {
                    "output_type": "display_data",
                    "data": {
                        "text/html": "Total execution time: 00:00:00.123"
                    },
                    "metadata": {}
                },
                {
                    "output_type": "execute_result",
                    "metadata": {},
                    "execution_count": 1,
                    "data": {
                        "application/vnd.dataresource+json": {
                            "schema": {
                                "fields": [
                                    {
                                        "name": "BusinessEntityID"
                                    }
                                ]
                            },
                            "data": [
                                {
                                    "0": "1528"
                                }
                            ]
                        },
                        "text/html": [
                            "<table>",
                            "<tr><th>BusinessEntityID</th></tr>",
                            "<tr><td>1528</td></tr>",
                            "</table>"
                        ]
                    }
                }
            ],
            "execution_count": 1
        },
        {
            "cell_type": "code",
            "source": [
                "USE AdventureWorks2014;\r\n",
                "GO\r\n",
                "SELECT  t.text,\r\n",
                "st.total_logical_reads \r\n",
                "FROM sys.dm_exec_query_stats st \r\n",
                "CROSS APPLY sys.dm_exec_sql_text(st.sql_handle) t \r\n",
                "WHERE t.text LIKE '%Purchasing.vVendorWithContacts%';"
            ],
            "metadata": {
                "azdata_cell_guid": "470a82d6-9dc7-4480-8e15-0195caff8134"
            },
            "outputs": [
                {
                    "output_type": "display_data",
                    "data": {
                        "text/html": "Commands completed successfully."
                    },
                    "metadata": {}
                },
                {
                    "output_type": "display_data",
                    "data": {
                        "text/html": "(3 rows affected)"
                    },
                    "metadata": {}
                },
                {
                    "output_type": "display_data",
                    "data": {
                        "text/html": "Total execution time: 00:00:00.030"
                    },
                    "metadata": {}
                },
                {
                    "output_type": "execute_result",
                    "metadata": {},
                    "execution_count": 2,
                    "data": {
                        "application/vnd.dataresource+json": {
                            "schema": {
                                "fields": [
                                    {
                                        "name": "text"
                                    },
                                    {
                                        "name": "total_logical_reads"
                                    }
                                ]
                            },
                            "data": [
                                {
                                    "0": "SELECT BusinessEntityID\r\nFROM Purchasing.vVendorWithContacts\r\nWHERE EmailAddress = 'suzanne0@adventure-works.com';\r\n",
                                    "1": "12"
                                },
                                {
                                    "0": "SELECT BusinessEntityID\r\nFROM Purchasing.vVendorWithContacts\r\nWHERE EmailAddress = 'cheryl1@adventure-works.com';\r\n",
                                    "1": "12"
                                },
                                {
                                    "0": "SELECT BusinessEntityID\r\nFROM Purchasing.vVendorWithContacts\r\nWHERE EmailAddress = 'stuart2@adventure-works.com';\r\n",
                                    "1": "12"
                                }
                            ]
                        },
                        "text/html": [
                            "<table>",
                            "<tr><th>text</th><th>total_logical_reads</th></tr>",
                            "<tr><td>SELECT BusinessEntityID\r\nFROM Purchasing.vVendorWithContacts\r\nWHERE EmailAddress = 'suzanne0@adventure-works.com';\r\n</td><td>12</td></tr>",
                            "<tr><td>SELECT BusinessEntityID\r\nFROM Purchasing.vVendorWithContacts\r\nWHERE EmailAddress = 'cheryl1@adventure-works.com';\r\n</td><td>12</td></tr>",
                            "<tr><td>SELECT BusinessEntityID\r\nFROM Purchasing.vVendorWithContacts\r\nWHERE EmailAddress = 'stuart2@adventure-works.com';\r\n</td><td>12</td></tr>",
                            "</table>"
                        ]
                    }
                }
            ],
            "execution_count": 2
        },
        {
            "cell_type": "code",
            "source": [
                "/* aggregate the adhocs */\r\n",
                "\r\n",
                "USE AdventureWorks2014;\r\n",
                "GO\r\n",
                "SELECT \r\n",
                "MAX(t.text) as query_text,\r\n",
                "COUNT(t.text) query_count,\r\n",
                "SUM(st.total_logical_reads) total_logical_reads \r\n",
                "FROM sys.dm_exec_query_stats st \r\n",
                "CROSS APPLY sys.dm_exec_sql_text(st.sql_handle) t \r\n",
                "WHERE text LIKE '%Purchasing.vVendorWithContacts%'\r\n",
                "GROUP BY st.query_hash;"
            ],
            "metadata": {
                "azdata_cell_guid": "542c9036-286a-468b-93aa-f3e5d642c17f"
            },
            "outputs": [
                {
                    "output_type": "display_data",
                    "data": {
                        "text/html": "Commands completed successfully."
                    },
                    "metadata": {}
                },
                {
                    "output_type": "display_data",
                    "data": {
                        "text/html": "(2 rows affected)"
                    },
                    "metadata": {}
                },
                {
                    "output_type": "display_data",
                    "data": {
                        "text/html": "Total execution time: 00:00:00.053"
                    },
                    "metadata": {}
                },
                {
                    "output_type": "execute_result",
                    "metadata": {},
                    "execution_count": 3,
                    "data": {
                        "application/vnd.dataresource+json": {
                            "schema": {
                                "fields": [
                                    {
                                        "name": "query_text"
                                    },
                                    {
                                        "name": "query_count"
                                    },
                                    {
                                        "name": "total_logical_reads"
                                    }
                                ]
                            },
                            "data": [
                                {
                                    "0": "SELECT  t.text,\r\nst.total_logical_reads \r\nFROM sys.dm_exec_query_stats st \r\nCROSS APPLY sys.dm_exec_sql_text(st.sql_handle) t \r\nWHERE t.text LIKE '%Purchasing.vVendorWithContacts%';",
                                    "1": "1",
                                    "2": "0"
                                },
                                {
                                    "0": "SELECT BusinessEntityID\r\nFROM Purchasing.vVendorWithContacts\r\nWHERE EmailAddress = 'suzanne0@adventure-works.com';\r\n",
                                    "1": "3",
                                    "2": "36"
                                }
                            ]
                        },
                        "text/html": [
                            "<table>",
                            "<tr><th>query_text</th><th>query_count</th><th>total_logical_reads</th></tr>",
                            "<tr><td>SELECT  t.text,\r\nst.total_logical_reads \r\nFROM sys.dm_exec_query_stats st \r\nCROSS APPLY sys.dm_exec_sql_text(st.sql_handle) t \r\nWHERE t.text LIKE '%Purchasing.vVendorWithContacts%';</td><td>1</td><td>0</td></tr>",
                            "<tr><td>SELECT BusinessEntityID\r\nFROM Purchasing.vVendorWithContacts\r\nWHERE EmailAddress = 'suzanne0@adventure-works.com';\r\n</td><td>3</td><td>36</td></tr>",
                            "</table>"
                        ]
                    }
                }
            ],
            "execution_count": 3
        }
    ]
}