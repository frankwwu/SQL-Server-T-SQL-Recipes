{
    "metadata": {
        "kernelspec": {
            "name": "SQL",
            "display_name": "SQL",
            "language": "sql"
        },
        "language_info": {
            "name": "sql",
            "version": ""
        }
    },
    "nbformat_minor": 2,
    "nbformat": 4,
    "cells": [
        {
            "cell_type": "code",
            "source": [
                "/* 22-1 */\r\n",
                "\r\n",
                "SELECT r.session_id, r.status, r.start_time, r.command, s.text\r\n",
                "FROM sys.dm_exec_requests r\r\n",
                "CROSS APPLY sys.dm_exec_sql_text(r.sql_handle) s\r\n",
                "WHERE r.status = 'running';"
            ],
            "metadata": {
                "azdata_cell_guid": "810b6fe5-f938-4cf4-9560-5d5e2cb527ce"
            },
            "outputs": [
                {
                    "output_type": "display_data",
                    "data": {
                        "text/html": "(2 rows affected)"
                    },
                    "metadata": {}
                },
                {
                    "output_type": "display_data",
                    "data": {
                        "text/html": "Total execution time: 00:00:00.356"
                    },
                    "metadata": {}
                },
                {
                    "output_type": "execute_result",
                    "metadata": {},
                    "execution_count": 1,
                    "data": {
                        "application/vnd.dataresource+json": {
                            "schema": {
                                "fields": [
                                    {
                                        "name": "session_id"
                                    },
                                    {
                                        "name": "status"
                                    },
                                    {
                                        "name": "start_time"
                                    },
                                    {
                                        "name": "command"
                                    },
                                    {
                                        "name": "text"
                                    }
                                ]
                            },
                            "data": [
                                {
                                    "0": "52",
                                    "1": "running",
                                    "2": "2020-09-11 19:51:39.693",
                                    "3": "EXECUTE",
                                    "4": "\n        declare @MasterPath nvarchar(512)\n        declare @LogPath nvarchar(512)\n        declare @ErrorLog nvarchar(512)\n        declare @ErrorLogPath nvarchar(512)\n        declare @Slash varchar = convert(varchar, serverproperty('PathSeparator'))\n        if (SERVERPROPERTY('EngineEdition') = 8 /* SQL Managed Instance */)\n        begin\n          select @MasterPath=substring(physical_name, 1, len(physical_name) - charindex(@Slash, reverse(physical_name))) from master.sys.database_files where file_id = 1\n          select @LogPath=substring(physical_name, 1, len(physical_name) - charindex(@Slash, reverse(physical_name))) from master.sys.database_files where file_id = 2\n        end\n        else\n        begin\n          select @MasterPath=substring(physical_name, 1, len(physical_name) - charindex(@Slash, reverse(physical_name))) from master.sys.database_files where name=N'master'\n          select @LogPath=substring(physical_name, 1, len(physical_name) - charindex(@Slash, reverse(physical_name))) from master.sys.database_files where name=N'mastlog'\n        end\n        select @ErrorLog=cast(SERVERPROPERTY(N'errorlogfilename') as nvarchar(512))\n        select @ErrorLogPath=IIF(@ErrorLog IS NULL, N'', substring(@ErrorLog, 1, len(@ErrorLog) - charindex(@Slash, reverse(@ErrorLog))))\n      \n\n\n        declare @SmoRoot nvarchar(512)\n        exec master.dbo.xp_instance_regread N'HKEY_LOCAL_MACHINE', N'SOFTWARE\\Microsoft\\MSSQLServer\\Setup', N'SQLPath', @SmoRoot OUTPUT\n      \n\n\nSELECT\nCAST(case when 'a' <> 'A' then 1 else 0 end AS bit) AS [IsCaseSensitive],\n@@MAX_PRECISION AS [MaxPrecision],\n@ErrorLogPath AS [ErrorLogPath],\n@SmoRoot AS [RootDirectory],\nSERVERPROPERTY('PathSeparator') AS [PathSeparator],\nCAST(FULLTEXTSERVICEPROPERTY('IsFullTextInstalled') AS bit) AS [IsFullTextInstalled],\n@LogPath AS [MasterDBLogPath],\n@MasterPath AS [MasterDBPath],\nSERVERPROPERTY(N'ProductVersion') AS [VersionString],\nCAST(SERVERPROPERTY(N'Edition') AS sysname) AS [Edition],\nCAST(SERVERPROPERTY(N'ProductLevel') AS sysname) AS [ProductLevel],\nCAST(SERVERPROPERTY('IsSingleUser') AS bit) AS [IsSingleUser],\nCAST(SERVERPROPERTY('EngineEdition') AS int) AS [EngineEdition],\nconvert(sysname, serverproperty(N'collation')) AS [Collation],\nCAST(ISNULL(SERVERPROPERTY(N'MachineName'),N'') AS sysname) AS [NetName],\nCAST(ISNULL(SERVERPROPERTY('IsClustered'),N'') AS bit) AS [IsClustered],\nSERVERPROPERTY(N'ResourceVersion') AS [ResourceVersionString],\nSERVERPROPERTY(N'ResourceLastUpdateDateTime') AS [ResourceLastUpdateDateTime],\nSERVERPROPERTY(N'CollationID') AS [CollationID],\nSERVERPROPERTY(N'ComparisonStyle') AS [ComparisonStyle],\nSERVERPROPERTY(N'SqlCharSet') AS [SqlCharSet],\nSERVERPROPERTY(N'SqlCharSetName') AS [SqlCharSetName],\nSERVERPROPERTY(N'SqlSortOrder') AS [SqlSortOrder],\nSERVERPROPERTY(N'SqlSortOrderName') AS [SqlSortOrderName],\nSERVERPROPERTY(N'BuildClrVersion') AS [BuildClrVersionString],\nISNULL(SERVERPROPERTY(N'ComputerNamePhysicalNetBIOS'),N'') AS [ComputerNamePhysicalNetBIOS],\nCAST(SERVERPROPERTY('IsPolyBaseInstalled') AS bit) AS [IsPolyBaseInstalled]"
                                },
                                {
                                    "0": "53",
                                    "1": "running",
                                    "2": "2020-09-11 19:51:39.763",
                                    "3": "SELECT",
                                    "4": "/* 22-1 */\r\n\r\nSELECT r.session_id, r.status, r.start_time, r.command, s.text\r\nFROM sys.dm_exec_requests r\r\nCROSS APPLY sys.dm_exec_sql_text(r.sql_handle) s\r\nWHERE r.status = 'running';"
                                }
                            ]
                        },
                        "text/html": [
                            "<table>",
                            "<tr><th>session_id</th><th>status</th><th>start_time</th><th>command</th><th>text</th></tr>",
                            "<tr><td>52</td><td>running</td><td>2020-09-11 19:51:39.693</td><td>EXECUTE</td><td>\n        declare @MasterPath nvarchar(512)\n        declare @LogPath nvarchar(512)\n        declare @ErrorLog nvarchar(512)\n        declare @ErrorLogPath nvarchar(512)\n        declare @Slash varchar = convert(varchar, serverproperty('PathSeparator'))\n        if (SERVERPROPERTY('EngineEdition') = 8 /* SQL Managed Instance */)\n        begin\n          select @MasterPath=substring(physical_name, 1, len(physical_name) - charindex(@Slash, reverse(physical_name))) from master.sys.database_files where file_id = 1\n          select @LogPath=substring(physical_name, 1, len(physical_name) - charindex(@Slash, reverse(physical_name))) from master.sys.database_files where file_id = 2\n        end\n        else\n        begin\n          select @MasterPath=substring(physical_name, 1, len(physical_name) - charindex(@Slash, reverse(physical_name))) from master.sys.database_files where name=N'master'\n          select @LogPath=substring(physical_name, 1, len(physical_name) - charindex(@Slash, reverse(physical_name))) from master.sys.database_files where name=N'mastlog'\n        end\n        select @ErrorLog=cast(SERVERPROPERTY(N'errorlogfilename') as nvarchar(512))\n        select @ErrorLogPath=IIF(@ErrorLog IS NULL, N'', substring(@ErrorLog, 1, len(@ErrorLog) - charindex(@Slash, reverse(@ErrorLog))))\n      \n\n\n        declare @SmoRoot nvarchar(512)\n        exec master.dbo.xp_instance_regread N'HKEY_LOCAL_MACHINE', N'SOFTWARE\\Microsoft\\MSSQLServer\\Setup', N'SQLPath', @SmoRoot OUTPUT\n      \n\n\nSELECT\nCAST(case when 'a' &lt;&gt; 'A' then 1 else 0 end AS bit) AS [IsCaseSensitive],\n@@MAX_PRECISION AS [MaxPrecision],\n@ErrorLogPath AS [ErrorLogPath],\n@SmoRoot AS [RootDirectory],\nSERVERPROPERTY('PathSeparator') AS [PathSeparator],\nCAST(FULLTEXTSERVICEPROPERTY('IsFullTextInstalled') AS bit) AS [IsFullTextInstalled],\n@LogPath AS [MasterDBLogPath],\n@MasterPath AS [MasterDBPath],\nSERVERPROPERTY(N'ProductVersion') AS [VersionString],\nCAST(SERVERPROPERTY(N'Edition') AS sysname) AS [Edition],\nCAST(SERVERPROPERTY(N'ProductLevel') AS sysname) AS [ProductLevel],\nCAST(SERVERPROPERTY('IsSingleUser') AS bit) AS [IsSingleUser],\nCAST(SERVERPROPERTY('EngineEdition') AS int) AS [EngineEdition],\nconvert(sysname, serverproperty(N'collation')) AS [Collation],\nCAST(ISNULL(SERVERPROPERTY(N'MachineName'),N'') AS sysname) AS [NetName],\nCAST(ISNULL(SERVERPROPERTY('IsClustered'),N'') AS bit) AS [IsClustered],\nSERVERPROPERTY(N'ResourceVersion') AS [ResourceVersionString],\nSERVERPROPERTY(N'ResourceLastUpdateDateTime') AS [ResourceLastUpdateDateTime],\nSERVERPROPERTY(N'CollationID') AS [CollationID],\nSERVERPROPERTY(N'ComparisonStyle') AS [ComparisonStyle],\nSERVERPROPERTY(N'SqlCharSet') AS [SqlCharSet],\nSERVERPROPERTY(N'SqlCharSetName') AS [SqlCharSetName],\nSERVERPROPERTY(N'SqlSortOrder') AS [SqlSortOrder],\nSERVERPROPERTY(N'SqlSortOrderName') AS [SqlSortOrderName],\nSERVERPROPERTY(N'BuildClrVersion') AS [BuildClrVersionString],\nISNULL(SERVERPROPERTY(N'ComputerNamePhysicalNetBIOS'),N'') AS [ComputerNamePhysicalNetBIOS],\nCAST(SERVERPROPERTY('IsPolyBaseInstalled') AS bit) AS [IsPolyBaseInstalled]</td></tr>",
                            "<tr><td>53</td><td>running</td><td>2020-09-11 19:51:39.763</td><td>SELECT</td><td>/* 22-1 */\r\n\r\nSELECT r.session_id, r.status, r.start_time, r.command, s.text\r\nFROM sys.dm_exec_requests r\r\nCROSS APPLY sys.dm_exec_sql_text(r.sql_handle) s\r\nWHERE r.status = 'running';</td></tr>",
                            "</table>"
                        ]
                    }
                }
            ],
            "execution_count": 1
        },
        {
            "cell_type": "code",
            "source": [
                "/* Solution 2 */\r\n",
                "USE master;\r\n",
                "GO\r\n",
                "-- Create the Event Session\r\n",
                "IF EXISTS(SELECT * \r\n",
                "          FROM sys.server_event_sessions \r\n",
                "          WHERE name='TraceIncomingQueries')\r\n",
                "    DROP EVENT SESSION TraceIncomingQueries \r\n",
                "    ON SERVER;\r\n",
                "GO\r\n",
                "CREATE EVENT SESSION TraceIncomingQueries\r\n",
                "ON SERVER\r\n",
                "ADD EVENT sqlserver.sql_statement_starting(\r\n",
                "    ACTION(sqlserver.database_name,sqlserver.nt_username,sqlserver.session_id,sqlserver.client_hostname,sqlserver.client_app_name)\r\n",
                "WHERE sqlserver.database_name='AdventureWorks2014'\r\n",
                "\tAND sqlserver.client_app_name <> 'Microsoft SQL Server Management Studio - Transact-SQL IntelliSense'\r\n",
                "\t)\r\n",
                "ADD TARGET package0.event_file(SET filename=N'C:\\Database\\XE\\TraceIncomingQueries.xel')\r\n",
                "\r\n",
                "/* start the session */\r\n",
                "ALTER EVENT SESSION TraceIncomingQueries \r\n",
                "ON SERVER \r\n",
                "STATE = START;\r\n",
                "GO"
            ],
            "metadata": {
                "azdata_cell_guid": "6cf471bb-e70a-4cd4-982b-4f553dcc0048"
            },
            "outputs": [
                {
                    "output_type": "display_data",
                    "data": {
                        "text/html": "Commands completed successfully."
                    },
                    "metadata": {}
                },
                {
                    "output_type": "display_data",
                    "data": {
                        "text/html": "Commands completed successfully."
                    },
                    "metadata": {}
                },
                {
                    "output_type": "error",
                    "evalue": "Msg 25602, Level 17, State 0, Line 21\r\nThe target, \"5B2DA06D-898A-43C8-9309-39BBBE93EBBD.package0.event_file\", encountered a configuration error during initialization. Object cannot be added to the event session. The operating system returned error 3: 'The system cannot find the path specified.\r\n' while creating the file 'C:\\Database\\XE\\TraceIncomingQueries_0_132443419043740000.xel'.",
                    "ename": "",
                    "traceback": []
                },
                {
                    "output_type": "display_data",
                    "data": {
                        "text/html": "Total execution time: 00:00:00.910"
                    },
                    "metadata": {}
                }
            ],
            "execution_count": 2
        },
        {
            "cell_type": "code",
            "source": [
                "/* now run a query */\r\n",
                "USE AdventureWorks2014;\r\n",
                "GO\r\n",
                "\r\n",
                "SELECT r.session_id, r.status, r.start_time, r.command, s.text\r\n",
                "FROM sys.dm_exec_requests r\r\n",
                "CROSS APPLY sys.dm_exec_sql_text(r.sql_handle) s\r\n",
                "WHERE r.status = 'running';"
            ],
            "metadata": {
                "azdata_cell_guid": "473d0823-d09d-4bb8-a0f9-cdf451c0e10e"
            },
            "outputs": [
                {
                    "output_type": "display_data",
                    "data": {
                        "text/html": "Commands completed successfully."
                    },
                    "metadata": {}
                },
                {
                    "output_type": "display_data",
                    "data": {
                        "text/html": "(1 row affected)"
                    },
                    "metadata": {}
                },
                {
                    "output_type": "display_data",
                    "data": {
                        "text/html": "Total execution time: 00:00:00.168"
                    },
                    "metadata": {}
                },
                {
                    "output_type": "execute_result",
                    "metadata": {},
                    "execution_count": 3,
                    "data": {
                        "application/vnd.dataresource+json": {
                            "schema": {
                                "fields": [
                                    {
                                        "name": "session_id"
                                    },
                                    {
                                        "name": "status"
                                    },
                                    {
                                        "name": "start_time"
                                    },
                                    {
                                        "name": "command"
                                    },
                                    {
                                        "name": "text"
                                    }
                                ]
                            },
                            "data": [
                                {
                                    "0": "53",
                                    "1": "running",
                                    "2": "2020-09-11 19:51:51.917",
                                    "3": "SELECT",
                                    "4": "\r\nSELECT r.session_id, r.status, r.start_time, r.command, s.text\r\nFROM sys.dm_exec_requests r\r\nCROSS APPLY sys.dm_exec_sql_text(r.sql_handle) s\r\nWHERE r.status = 'running';"
                                }
                            ]
                        },
                        "text/html": [
                            "<table>",
                            "<tr><th>session_id</th><th>status</th><th>start_time</th><th>command</th><th>text</th></tr>",
                            "<tr><td>53</td><td>running</td><td>2020-09-11 19:51:51.917</td><td>SELECT</td><td>\r\nSELECT r.session_id, r.status, r.start_time, r.command, s.text\r\nFROM sys.dm_exec_requests r\r\nCROSS APPLY sys.dm_exec_sql_text(r.sql_handle) s\r\nWHERE r.status = 'running';</td></tr>",
                            "</table>"
                        ]
                    }
                }
            ],
            "execution_count": 3
        },
        {
            "cell_type": "code",
            "source": [
                "/* Parse the event data */\r\n",
                "\r\n",
                "use master;\r\n",
                "GO\r\n",
                "\r\n",
                "SELECT\r\n",
                "event_data.value('(event/@name)[1]', 'varchar(50)') AS event_name,\r\n",
                "    event_data.value('(event/@timestamp)[1]', 'varchar(50)') AS [TIMESTAMP],\r\n",
                "\tevent_data.value('(event/action[@name=\"database_name\"]/value)[1]', 'varchar(max)') AS DBName\r\n",
                "\t,event_data.value('(event/data[@name=\"statement\"]/value)[1]', 'varchar(max)') AS SQLText\r\n",
                "\t,event_data.value('(event/action[@name=\"session_id\"]/value)[1]', 'varchar(max)') AS SessionID\r\n",
                "\t,event_data.value('(event/action[@name=\"nt_username\"]/value)[1]', 'varchar(max)') AS ExecUser\r\n",
                "\t,event_data.value('(event/action[@name=\"client_hostname\"]/value)[1]', 'varchar(max)') AS Client_HostName,\r\n",
                "\tevent_data.value('(event/action[@name=\"client_app_name\"]/value)[1]', 'varchar(max)') AS Client_AppName\r\n",
                "FROM(\r\n",
                "SELECT CONVERT(XML, t2.event_data) AS event_data\r\n",
                " FROM (\r\n",
                "  SELECT target_data = convert(XML, target_data)\r\n",
                "   FROM sys.dm_xe_session_targets t\r\n",
                "    INNER JOIN sys.dm_xe_sessions s \r\n",
                "        ON t.event_session_address = s.address\r\n",
                "   WHERE t.target_name = 'event_file'\r\n",
                "    AND s.name = 'TraceIncomingQueries') cte1\r\n",
                "   CROSS APPLY cte1.target_data.nodes('//EventFileTarget/File') FileEvent(FileTarget)\r\n",
                "   CROSS APPLY  sys.fn_xe_file_target_read_file(FileEvent.FileTarget.value('@name', 'varchar(1000)'), NULL, NULL, NULL) t2)\r\n",
                "    AS evts(event_data);"
            ],
            "metadata": {
                "azdata_cell_guid": "042764d3-3f1b-46dd-814c-41263a37a937"
            },
            "outputs": [
                {
                    "output_type": "display_data",
                    "data": {
                        "text/html": "Commands completed successfully."
                    },
                    "metadata": {}
                },
                {
                    "output_type": "display_data",
                    "data": {
                        "text/html": "(0 rows affected)"
                    },
                    "metadata": {}
                },
                {
                    "output_type": "execute_result",
                    "metadata": {},
                    "execution_count": 4,
                    "data": {
                        "application/vnd.dataresource+json": {
                            "schema": {
                                "fields": [
                                    {
                                        "name": "event_name"
                                    },
                                    {
                                        "name": "TIMESTAMP"
                                    },
                                    {
                                        "name": "DBName"
                                    },
                                    {
                                        "name": "SQLText"
                                    },
                                    {
                                        "name": "SessionID"
                                    },
                                    {
                                        "name": "ExecUser"
                                    },
                                    {
                                        "name": "Client_HostName"
                                    },
                                    {
                                        "name": "Client_AppName"
                                    }
                                ]
                            },
                            "data": []
                        },
                        "text/html": [
                            "<table>",
                            "<tr><th>event_name</th><th>TIMESTAMP</th><th>DBName</th><th>SQLText</th><th>SessionID</th><th>ExecUser</th><th>Client_HostName</th><th>Client_AppName</th></tr>",
                            "</table>"
                        ]
                    }
                },
                {
                    "output_type": "display_data",
                    "data": {
                        "text/html": "Total execution time: 00:01:53.253"
                    },
                    "metadata": {}
                }
            ],
            "execution_count": 4
        }
    ]
}