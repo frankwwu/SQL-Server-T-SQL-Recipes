{
    "metadata": {
        "kernelspec": {
            "name": "SQL",
            "display_name": "SQL",
            "language": "sql"
        },
        "language_info": {
            "name": "sql",
            "version": ""
        }
    },
    "nbformat_minor": 2,
    "nbformat": 4,
    "cells": [
        {
            "cell_type": "code",
            "source": [
                "/* 22-3 */\r\n",
                "USE AdventureWorks2014;\r\n",
                "GO\r\n",
                "SET STATISTICS IO ON;\r\n",
                "GO\r\n",
                "SELECT t.Name TerritoryNM,\r\n",
                "SUM(TotalDue) TotalDue \r\n",
                "FROM Sales.SalesOrderHeader h \r\n",
                "INNER JOIN Sales.SalesTerritory t \r\n",
                "ON h.TerritoryID = t.TerritoryID \r\n",
                "WHERE OrderDate BETWEEN '1/1/2014' AND '12/31/2014' \r\n",
                "GROUP BY t.Name \r\n",
                "ORDER BY t.Name\r\n",
                "SET STATISTICS IO OFF;\r\n",
                "GO"
            ],
            "metadata": {
                "azdata_cell_guid": "3a02f7af-11ee-4a88-be39-c48136db2c7b"
            },
            "outputs": [
                {
                    "output_type": "display_data",
                    "data": {
                        "text/html": "Commands completed successfully."
                    },
                    "metadata": {}
                },
                {
                    "output_type": "display_data",
                    "data": {
                        "text/html": "Commands completed successfully."
                    },
                    "metadata": {}
                },
                {
                    "output_type": "display_data",
                    "data": {
                        "text/html": "(10 rows affected)"
                    },
                    "metadata": {}
                },
                {
                    "output_type": "display_data",
                    "data": {
                        "text/html": "Table 'Worktable'. Scan count 1, logical reads 39, physical reads 0, page server reads 0, read-ahead reads 0, page server read-ahead reads 0, lob logical reads 0, lob physical reads 0, lob page server reads 0, lob read-ahead reads 0, lob page server read-ahead reads 0."
                    },
                    "metadata": {}
                },
                {
                    "output_type": "display_data",
                    "data": {
                        "text/html": "Table 'Workfile'. Scan count 0, logical reads 0, physical reads 0, page server reads 0, read-ahead reads 0, page server read-ahead reads 0, lob logical reads 0, lob physical reads 0, lob page server reads 0, lob read-ahead reads 0, lob page server read-ahead reads 0."
                    },
                    "metadata": {}
                },
                {
                    "output_type": "display_data",
                    "data": {
                        "text/html": "Table 'SalesOrderHeader'. Scan count 1, logical reads 689, physical reads 688, page server reads 0, read-ahead reads 685, page server read-ahead reads 0, lob logical reads 0, lob physical reads 0, lob page server reads 0, lob read-ahead reads 0, lob page server read-ahead reads 0."
                    },
                    "metadata": {}
                },
                {
                    "output_type": "display_data",
                    "data": {
                        "text/html": "Table 'SalesTerritory'. Scan count 1, logical reads 2, physical reads 1, page server reads 0, read-ahead reads 0, page server read-ahead reads 0, lob logical reads 0, lob physical reads 0, lob page server reads 0, lob read-ahead reads 0, lob page server read-ahead reads 0."
                    },
                    "metadata": {}
                },
                {
                    "output_type": "display_data",
                    "data": {
                        "text/html": "Total execution time: 00:00:07.843"
                    },
                    "metadata": {}
                },
                {
                    "output_type": "execute_result",
                    "metadata": {},
                    "execution_count": 1,
                    "data": {
                        "application/vnd.dataresource+json": {
                            "schema": {
                                "fields": [
                                    {
                                        "name": "TerritoryNM"
                                    },
                                    {
                                        "name": "TotalDue"
                                    }
                                ]
                            },
                            "data": [
                                {
                                    "0": "Australia",
                                    "1": "3071053.8419"
                                },
                                {
                                    "0": "Canada",
                                    "1": "2681602.5941"
                                },
                                {
                                    "0": "Central",
                                    "1": "1077449.2196"
                                },
                                {
                                    "0": "France",
                                    "1": "1868973.7989"
                                },
                                {
                                    "0": "Germany",
                                    "1": "1729718.5224"
                                },
                                {
                                    "0": "Northeast",
                                    "1": "876730.6057"
                                },
                                {
                                    "0": "Northwest",
                                    "1": "3355402.8175"
                                },
                                {
                                    "0": "Southeast",
                                    "1": "985940.2109"
                                },
                                {
                                    "0": "Southwest",
                                    "1": "4437517.8076"
                                },
                                {
                                    "0": "United Kingdom",
                                    "1": "2335108.8971"
                                }
                            ]
                        },
                        "text/html": [
                            "<table>",
                            "<tr><th>TerritoryNM</th><th>TotalDue</th></tr>",
                            "<tr><td>Australia</td><td>3071053.8419</td></tr>",
                            "<tr><td>Canada</td><td>2681602.5941</td></tr>",
                            "<tr><td>Central</td><td>1077449.2196</td></tr>",
                            "<tr><td>France</td><td>1868973.7989</td></tr>",
                            "<tr><td>Germany</td><td>1729718.5224</td></tr>",
                            "<tr><td>Northeast</td><td>876730.6057</td></tr>",
                            "<tr><td>Northwest</td><td>3355402.8175</td></tr>",
                            "<tr><td>Southeast</td><td>985940.2109</td></tr>",
                            "<tr><td>Southwest</td><td>4437517.8076</td></tr>",
                            "<tr><td>United Kingdom</td><td>2335108.8971</td></tr>",
                            "</table>"
                        ]
                    }
                }
            ],
            "execution_count": 1
        },
        {
            "cell_type": "code",
            "source": [
                "/* try with statistics time now */\r\n",
                "USE AdventureWorks2014;\r\n",
                "GO\r\n",
                "SET STATISTICS TIME ON;\r\n",
                "GO\r\n",
                "SELECT t.Name TerritoryNM,\r\n",
                "SUM(TotalDue) TotalDue \r\n",
                "FROM Sales.SalesOrderHeader h \r\n",
                "INNER JOIN Sales.SalesTerritory t \r\n",
                "ON h.TerritoryID = t.TerritoryID \r\n",
                "WHERE OrderDate BETWEEN '1/1/2014' AND '12/31/2014' \r\n",
                "GROUP BY t.Name \r\n",
                "ORDER BY t.Name\r\n",
                "SET STATISTICS TIME OFF;\r\n",
                "GO"
            ],
            "metadata": {
                "azdata_cell_guid": "262a5dc3-54eb-4527-baac-3da0a00f8753"
            },
            "outputs": [
                {
                    "output_type": "display_data",
                    "data": {
                        "text/html": "Commands completed successfully."
                    },
                    "metadata": {}
                },
                {
                    "output_type": "display_data",
                    "data": {
                        "text/html": "Commands completed successfully."
                    },
                    "metadata": {}
                },
                {
                    "output_type": "display_data",
                    "data": {
                        "text/html": "SQL Server parse and compile time: \n   CPU time = 0 ms, elapsed time = 194 ms."
                    },
                    "metadata": {}
                },
                {
                    "output_type": "display_data",
                    "data": {
                        "text/html": "(10 rows affected)"
                    },
                    "metadata": {}
                },
                {
                    "output_type": "display_data",
                    "data": {
                        "text/html": "\n SQL Server Execution Times:\n   CPU time = 47 ms,  elapsed time = 12288 ms."
                    },
                    "metadata": {}
                },
                {
                    "output_type": "display_data",
                    "data": {
                        "text/html": "Total execution time: 00:00:12.510"
                    },
                    "metadata": {}
                },
                {
                    "output_type": "execute_result",
                    "metadata": {},
                    "execution_count": 2,
                    "data": {
                        "application/vnd.dataresource+json": {
                            "schema": {
                                "fields": [
                                    {
                                        "name": "TerritoryNM"
                                    },
                                    {
                                        "name": "TotalDue"
                                    }
                                ]
                            },
                            "data": [
                                {
                                    "0": "Australia",
                                    "1": "3071053.8419"
                                },
                                {
                                    "0": "Canada",
                                    "1": "2681602.5941"
                                },
                                {
                                    "0": "Central",
                                    "1": "1077449.2196"
                                },
                                {
                                    "0": "France",
                                    "1": "1868973.7989"
                                },
                                {
                                    "0": "Germany",
                                    "1": "1729718.5224"
                                },
                                {
                                    "0": "Northeast",
                                    "1": "876730.6057"
                                },
                                {
                                    "0": "Northwest",
                                    "1": "3355402.8175"
                                },
                                {
                                    "0": "Southeast",
                                    "1": "985940.2109"
                                },
                                {
                                    "0": "Southwest",
                                    "1": "4437517.8076"
                                },
                                {
                                    "0": "United Kingdom",
                                    "1": "2335108.8971"
                                }
                            ]
                        },
                        "text/html": [
                            "<table>",
                            "<tr><th>TerritoryNM</th><th>TotalDue</th></tr>",
                            "<tr><td>Australia</td><td>3071053.8419</td></tr>",
                            "<tr><td>Canada</td><td>2681602.5941</td></tr>",
                            "<tr><td>Central</td><td>1077449.2196</td></tr>",
                            "<tr><td>France</td><td>1868973.7989</td></tr>",
                            "<tr><td>Germany</td><td>1729718.5224</td></tr>",
                            "<tr><td>Northeast</td><td>876730.6057</td></tr>",
                            "<tr><td>Northwest</td><td>3355402.8175</td></tr>",
                            "<tr><td>Southeast</td><td>985940.2109</td></tr>",
                            "<tr><td>Southwest</td><td>4437517.8076</td></tr>",
                            "<tr><td>United Kingdom</td><td>2335108.8971</td></tr>",
                            "</table>"
                        ]
                    }
                }
            ],
            "execution_count": 2
        }
    ]
}