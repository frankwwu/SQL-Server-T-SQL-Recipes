{
    "metadata": {
        "kernelspec": {
            "name": "SQL",
            "display_name": "SQL",
            "language": "sql"
        },
        "language_info": {
            "name": "sql",
            "version": ""
        }
    },
    "nbformat_minor": 2,
    "nbformat": 4,
    "cells": [
        {
            "cell_type": "code",
            "source": [
                "/* 22-10 */\r\n",
                "\r\n",
                "SET STATISTICS XML ON;\r\n",
                "GO\r\n",
                "USE AdventureWorks2014;\r\n",
                "GO \r\n",
                "SELECT TOP 10 Rate\r\n",
                "FROM HumanResources.EmployeePayHistory\r\n",
                "ORDER BY Rate DESC\r\n",
                "SET STATISTICS XML OFF;"
            ],
            "metadata": {
                "azdata_cell_guid": "e1f711f8-bfff-499b-9c4b-35921c039493"
            },
            "outputs": [
                {
                    "output_type": "display_data",
                    "data": {
                        "text/html": "Commands completed successfully."
                    },
                    "metadata": {}
                },
                {
                    "output_type": "display_data",
                    "data": {
                        "text/html": "Commands completed successfully."
                    },
                    "metadata": {}
                },
                {
                    "output_type": "display_data",
                    "data": {
                        "text/html": "(10 rows affected)"
                    },
                    "metadata": {}
                },
                {
                    "output_type": "display_data",
                    "data": {
                        "text/html": "(1 row affected)"
                    },
                    "metadata": {}
                },
                {
                    "output_type": "display_data",
                    "data": {
                        "text/html": "Total execution time: 00:00:00.065"
                    },
                    "metadata": {}
                },
                {
                    "output_type": "execute_result",
                    "metadata": {},
                    "execution_count": 1,
                    "data": {
                        "application/vnd.dataresource+json": {
                            "schema": {
                                "fields": [
                                    {
                                        "name": "Rate"
                                    }
                                ]
                            },
                            "data": [
                                {
                                    "0": "125.5000"
                                },
                                {
                                    "0": "84.1346"
                                },
                                {
                                    "0": "72.1154"
                                },
                                {
                                    "0": "63.4615"
                                },
                                {
                                    "0": "60.0962"
                                },
                                {
                                    "0": "50.4808"
                                },
                                {
                                    "0": "50.4808"
                                },
                                {
                                    "0": "48.5577"
                                },
                                {
                                    "0": "48.1010"
                                },
                                {
                                    "0": "48.1010"
                                }
                            ]
                        },
                        "text/html": [
                            "<table>",
                            "<tr><th>Rate</th></tr>",
                            "<tr><td>125.5000</td></tr>",
                            "<tr><td>84.1346</td></tr>",
                            "<tr><td>72.1154</td></tr>",
                            "<tr><td>63.4615</td></tr>",
                            "<tr><td>60.0962</td></tr>",
                            "<tr><td>50.4808</td></tr>",
                            "<tr><td>50.4808</td></tr>",
                            "<tr><td>48.5577</td></tr>",
                            "<tr><td>48.1010</td></tr>",
                            "<tr><td>48.1010</td></tr>",
                            "</table>"
                        ]
                    }
                },
                {
                    "output_type": "execute_result",
                    "metadata": {},
                    "execution_count": 1,
                    "data": {
                        "application/vnd.dataresource+json": {
                            "schema": {
                                "fields": [
                                    {
                                        "name": "Microsoft SQL Server 2005 XML Showplan"
                                    }
                                ]
                            },
                            "data": [
                                {
                                    "0": "<ShowPlanXML xmlns=\"http://schemas.microsoft.com/sqlserver/2004/07/showplan\" Version=\"1.539\" Build=\"15.0.2070.41\"><BatchSequence><Batch><Statements><StmtSimple StatementText=\"SELECT TOP 10 Rate&#xd;&#xa;FROM HumanResources.EmployeePayHistory&#xd;&#xa;ORDER BY Rate DESC\" StatementId=\"1\" StatementCompId=\"1\" StatementType=\"SELECT\" RetrievedFromCache=\"true\" StatementSubTreeCost=\"0.019825\" StatementEstRows=\"10\" SecurityPolicyApplied=\"false\" StatementOptmLevel=\"TRIVIAL\" QueryHash=\"0xF837F06798E85035\" QueryPlanHash=\"0x30F3C912997E2992\" CardinalityEstimationModelVersion=\"120\"><StatementSetOptions QUOTED_IDENTIFIER=\"true\" ARITHABORT=\"true\" CONCAT_NULL_YIELDS_NULL=\"true\" ANSI_NULLS=\"true\" ANSI_PADDING=\"true\" ANSI_WARNINGS=\"true\" NUMERIC_ROUNDABORT=\"false\"></StatementSetOptions><QueryPlan DegreeOfParallelism=\"1\" MemoryGrant=\"1024\" CachedPlanSize=\"16\" CompileTime=\"9\" CompileCPU=\"4\" CompileMemory=\"112\"><MemoryGrantInfo SerialRequiredMemory=\"16\" SerialDesiredMemory=\"24\" RequiredMemory=\"16\" DesiredMemory=\"24\" RequestedMemory=\"1024\" GrantWaitTime=\"0\" MaxQueryMemory=\"374200\" GrantedMemory=\"1024\" MaxUsedMemory=\"16\"></MemoryGrantInfo><OptimizerHardwareDependentProperties EstimatedAvailableMemoryGrant=\"201719\" EstimatedPagesCached=\"50429\" EstimatedAvailableDegreeOfParallelism=\"2\" MaxCompileMemory=\"1389648\"></OptimizerHardwareDependentProperties><WaitStats><Wait WaitType=\"PAGEIOLATCH_SH\" WaitTimeMs=\"1\" WaitCount=\"2\"></Wait></WaitStats><QueryTimeStats ElapsedTime=\"2\" CpuTime=\"1\"></QueryTimeStats><RelOp NodeId=\"0\" PhysicalOp=\"Sort\" LogicalOp=\"TopN Sort\" EstimateRows=\"10\" EstimateRowsWithoutRowGoal=\"316\" EstimateIO=\"0.0112613\" EstimateCPU=\"0.00419345\" AvgRowSize=\"15\" EstimatedTotalSubtreeCost=\"0.019825\" Parallel=\"0\" EstimateRebinds=\"0\" EstimateRewinds=\"0\" EstimatedExecutionMode=\"Row\"><OutputList><ColumnReference Database=\"[AdventureWorks2014]\" Schema=\"[HumanResources]\" Table=\"[EmployeePayHistory]\" Column=\"Rate\"></ColumnReference></OutputList><MemoryFractions Input=\"1\" Output=\"1\"></MemoryFractions><RunTimeInformation><RunTimeCountersPerThread Thread=\"0\" ActualRows=\"10\" Batches=\"0\" ActualExecutionMode=\"Row\" ActualElapsedms=\"1\" ActualCPUms=\"0\" ActualScans=\"0\" ActualLogicalReads=\"0\" ActualPhysicalReads=\"0\" ActualReadAheads=\"0\" ActualLobLogicalReads=\"0\" ActualLobPhysicalReads=\"0\" ActualLobReadAheads=\"0\" ActualRebinds=\"1\" ActualRewinds=\"0\" ActualEndOfScans=\"1\" ActualExecutions=\"1\" InputMemoryGrant=\"1024\" OutputMemoryGrant=\"1024\" UsedMemoryGrant=\"16\"></RunTimeCountersPerThread></RunTimeInformation><TopSort Distinct=\"0\" Rows=\"10\"><OrderBy><OrderByColumn Ascending=\"0\"><ColumnReference Database=\"[AdventureWorks2014]\" Schema=\"[HumanResources]\" Table=\"[EmployeePayHistory]\" Column=\"Rate\"></ColumnReference></OrderByColumn></OrderBy><RelOp NodeId=\"1\" PhysicalOp=\"Clustered Index Scan\" LogicalOp=\"Clustered Index Scan\" EstimateRows=\"316\" EstimateRowsWithoutRowGoal=\"316\" EstimatedRowsRead=\"316\" EstimateIO=\"0.00386574\" EstimateCPU=\"0.0005046\" AvgRowSize=\"15\" EstimatedTotalSubtreeCost=\"0.00437034\" TableCardinality=\"316\" Parallel=\"0\" EstimateRebinds=\"0\" EstimateRewinds=\"0\" EstimatedExecutionMode=\"Row\"><OutputList><ColumnReference Database=\"[AdventureWorks2014]\" Schema=\"[HumanResources]\" Table=\"[EmployeePayHistory]\" Column=\"Rate\"></ColumnReference></OutputList><RunTimeInformation><RunTimeCountersPerThread Thread=\"0\" ActualRows=\"316\" Batches=\"0\" ActualExecutionMode=\"Row\" ActualElapsedms=\"1\" ActualCPUms=\"0\" ActualScans=\"1\" ActualLogicalReads=\"4\" ActualPhysicalReads=\"1\" ActualReadAheads=\"8\" ActualLobLogicalReads=\"0\" ActualLobPhysicalReads=\"0\" ActualLobReadAheads=\"0\" ActualRowsRead=\"316\" ActualEndOfScans=\"1\" ActualExecutions=\"1\"></RunTimeCountersPerThread></RunTimeInformation><IndexScan Ordered=\"0\" ForcedIndex=\"0\" ForceScan=\"0\" NoExpandHint=\"0\" Storage=\"RowStore\"><DefinedValues><DefinedValue><ColumnReference Database=\"[AdventureWorks2014]\" Schema=\"[HumanResources]\" Table=\"[EmployeePayHistory]\" Column=\"Rate\"></ColumnReference></DefinedValue></DefinedValues><Object Database=\"[AdventureWorks2014]\" Schema=\"[HumanResources]\" Table=\"[EmployeePayHistory]\" Index=\"[PK_EmployeePayHistory_BusinessEntityID_RateChangeDate]\" IndexKind=\"Clustered\" Storage=\"RowStore\"></Object></IndexScan></RelOp></TopSort></RelOp></QueryPlan></StmtSimple></Statements></Batch></BatchSequence></ShowPlanXML>"
                                }
                            ]
                        },
                        "text/html": [
                            "<table>",
                            "<tr><th>Microsoft SQL Server 2005 XML Showplan</th></tr>",
                            "<tr><td>&lt;ShowPlanXML xmlns=&quot;http://schemas.microsoft.com/sqlserver/2004/07/showplan&quot; Version=&quot;1.539&quot; Build=&quot;15.0.2070.41&quot;&gt;&lt;BatchSequence&gt;&lt;Batch&gt;&lt;Statements&gt;&lt;StmtSimple StatementText=&quot;SELECT TOP 10 Rate&amp;#xd;&amp;#xa;FROM HumanResources.EmployeePayHistory&amp;#xd;&amp;#xa;ORDER BY Rate DESC&quot; StatementId=&quot;1&quot; StatementCompId=&quot;1&quot; StatementType=&quot;SELECT&quot; RetrievedFromCache=&quot;true&quot; StatementSubTreeCost=&quot;0.019825&quot; StatementEstRows=&quot;10&quot; SecurityPolicyApplied=&quot;false&quot; StatementOptmLevel=&quot;TRIVIAL&quot; QueryHash=&quot;0xF837F06798E85035&quot; QueryPlanHash=&quot;0x30F3C912997E2992&quot; CardinalityEstimationModelVersion=&quot;120&quot;&gt;&lt;StatementSetOptions QUOTED_IDENTIFIER=&quot;true&quot; ARITHABORT=&quot;true&quot; CONCAT_NULL_YIELDS_NULL=&quot;true&quot; ANSI_NULLS=&quot;true&quot; ANSI_PADDING=&quot;true&quot; ANSI_WARNINGS=&quot;true&quot; NUMERIC_ROUNDABORT=&quot;false&quot;&gt;&lt;/StatementSetOptions&gt;&lt;QueryPlan DegreeOfParallelism=&quot;1&quot; MemoryGrant=&quot;1024&quot; CachedPlanSize=&quot;16&quot; CompileTime=&quot;9&quot; CompileCPU=&quot;4&quot; CompileMemory=&quot;112&quot;&gt;&lt;MemoryGrantInfo SerialRequiredMemory=&quot;16&quot; SerialDesiredMemory=&quot;24&quot; RequiredMemory=&quot;16&quot; DesiredMemory=&quot;24&quot; RequestedMemory=&quot;1024&quot; GrantWaitTime=&quot;0&quot; MaxQueryMemory=&quot;374200&quot; GrantedMemory=&quot;1024&quot; MaxUsedMemory=&quot;16&quot;&gt;&lt;/MemoryGrantInfo&gt;&lt;OptimizerHardwareDependentProperties EstimatedAvailableMemoryGrant=&quot;201719&quot; EstimatedPagesCached=&quot;50429&quot; EstimatedAvailableDegreeOfParallelism=&quot;2&quot; MaxCompileMemory=&quot;1389648&quot;&gt;&lt;/OptimizerHardwareDependentProperties&gt;&lt;WaitStats&gt;&lt;Wait WaitType=&quot;PAGEIOLATCH_SH&quot; WaitTimeMs=&quot;1&quot; WaitCount=&quot;2&quot;&gt;&lt;/Wait&gt;&lt;/WaitStats&gt;&lt;QueryTimeStats ElapsedTime=&quot;2&quot; CpuTime=&quot;1&quot;&gt;&lt;/QueryTimeStats&gt;&lt;RelOp NodeId=&quot;0&quot; PhysicalOp=&quot;Sort&quot; LogicalOp=&quot;TopN Sort&quot; EstimateRows=&quot;10&quot; EstimateRowsWithoutRowGoal=&quot;316&quot; EstimateIO=&quot;0.0112613&quot; EstimateCPU=&quot;0.00419345&quot; AvgRowSize=&quot;15&quot; EstimatedTotalSubtreeCost=&quot;0.019825&quot; Parallel=&quot;0&quot; EstimateRebinds=&quot;0&quot; EstimateRewinds=&quot;0&quot; EstimatedExecutionMode=&quot;Row&quot;&gt;&lt;OutputList&gt;&lt;ColumnReference Database=&quot;[AdventureWorks2014]&quot; Schema=&quot;[HumanResources]&quot; Table=&quot;[EmployeePayHistory]&quot; Column=&quot;Rate&quot;&gt;&lt;/ColumnReference&gt;&lt;/OutputList&gt;&lt;MemoryFractions Input=&quot;1&quot; Output=&quot;1&quot;&gt;&lt;/MemoryFractions&gt;&lt;RunTimeInformation&gt;&lt;RunTimeCountersPerThread Thread=&quot;0&quot; ActualRows=&quot;10&quot; Batches=&quot;0&quot; ActualExecutionMode=&quot;Row&quot; ActualElapsedms=&quot;1&quot; ActualCPUms=&quot;0&quot; ActualScans=&quot;0&quot; ActualLogicalReads=&quot;0&quot; ActualPhysicalReads=&quot;0&quot; ActualReadAheads=&quot;0&quot; ActualLobLogicalReads=&quot;0&quot; ActualLobPhysicalReads=&quot;0&quot; ActualLobReadAheads=&quot;0&quot; ActualRebinds=&quot;1&quot; ActualRewinds=&quot;0&quot; ActualEndOfScans=&quot;1&quot; ActualExecutions=&quot;1&quot; InputMemoryGrant=&quot;1024&quot; OutputMemoryGrant=&quot;1024&quot; UsedMemoryGrant=&quot;16&quot;&gt;&lt;/RunTimeCountersPerThread&gt;&lt;/RunTimeInformation&gt;&lt;TopSort Distinct=&quot;0&quot; Rows=&quot;10&quot;&gt;&lt;OrderBy&gt;&lt;OrderByColumn Ascending=&quot;0&quot;&gt;&lt;ColumnReference Database=&quot;[AdventureWorks2014]&quot; Schema=&quot;[HumanResources]&quot; Table=&quot;[EmployeePayHistory]&quot; Column=&quot;Rate&quot;&gt;&lt;/ColumnReference&gt;&lt;/OrderByColumn&gt;&lt;/OrderBy&gt;&lt;RelOp NodeId=&quot;1&quot; PhysicalOp=&quot;Clustered Index Scan&quot; LogicalOp=&quot;Clustered Index Scan&quot; EstimateRows=&quot;316&quot; EstimateRowsWithoutRowGoal=&quot;316&quot; EstimatedRowsRead=&quot;316&quot; EstimateIO=&quot;0.00386574&quot; EstimateCPU=&quot;0.0005046&quot; AvgRowSize=&quot;15&quot; EstimatedTotalSubtreeCost=&quot;0.00437034&quot; TableCardinality=&quot;316&quot; Parallel=&quot;0&quot; EstimateRebinds=&quot;0&quot; EstimateRewinds=&quot;0&quot; EstimatedExecutionMode=&quot;Row&quot;&gt;&lt;OutputList&gt;&lt;ColumnReference Database=&quot;[AdventureWorks2014]&quot; Schema=&quot;[HumanResources]&quot; Table=&quot;[EmployeePayHistory]&quot; Column=&quot;Rate&quot;&gt;&lt;/ColumnReference&gt;&lt;/OutputList&gt;&lt;RunTimeInformation&gt;&lt;RunTimeCountersPerThread Thread=&quot;0&quot; ActualRows=&quot;316&quot; Batches=&quot;0&quot; ActualExecutionMode=&quot;Row&quot; ActualElapsedms=&quot;1&quot; ActualCPUms=&quot;0&quot; ActualScans=&quot;1&quot; ActualLogicalReads=&quot;4&quot; ActualPhysicalReads=&quot;1&quot; ActualReadAheads=&quot;8&quot; ActualLobLogicalReads=&quot;0&quot; ActualLobPhysicalReads=&quot;0&quot; ActualLobReadAheads=&quot;0&quot; ActualRowsRead=&quot;316&quot; ActualEndOfScans=&quot;1&quot; ActualExecutions=&quot;1&quot;&gt;&lt;/RunTimeCountersPerThread&gt;&lt;/RunTimeInformation&gt;&lt;IndexScan Ordered=&quot;0&quot; ForcedIndex=&quot;0&quot; ForceScan=&quot;0&quot; NoExpandHint=&quot;0&quot; Storage=&quot;RowStore&quot;&gt;&lt;DefinedValues&gt;&lt;DefinedValue&gt;&lt;ColumnReference Database=&quot;[AdventureWorks2014]&quot; Schema=&quot;[HumanResources]&quot; Table=&quot;[EmployeePayHistory]&quot; Column=&quot;Rate&quot;&gt;&lt;/ColumnReference&gt;&lt;/DefinedValue&gt;&lt;/DefinedValues&gt;&lt;Object Database=&quot;[AdventureWorks2014]&quot; Schema=&quot;[HumanResources]&quot; Table=&quot;[EmployeePayHistory]&quot; Index=&quot;[PK_EmployeePayHistory_BusinessEntityID_RateChangeDate]&quot; IndexKind=&quot;Clustered&quot; Storage=&quot;RowStore&quot;&gt;&lt;/Object&gt;&lt;/IndexScan&gt;&lt;/RelOp&gt;&lt;/TopSort&gt;&lt;/RelOp&gt;&lt;/QueryPlan&gt;&lt;/StmtSimple&gt;&lt;/Statements&gt;&lt;/Batch&gt;&lt;/BatchSequence&gt;&lt;/ShowPlanXML&gt;</td></tr>",
                            "</table>"
                        ]
                    }
                }
            ],
            "execution_count": 1
        },
        {
            "cell_type": "code",
            "source": [
                "USE AdventureWorks2014;\r\n",
                "GO \r\n",
                "SELECT TOP 10 Rate\r\n",
                "FROM HumanResources.EmployeePayHistory\r\n",
                "ORDER BY Rate DESC\r\n",
                "OPTION (USE PLAN\r\n",
                "'<ShowPlanXML xmlns=\"http://schemas.microsoft.com/sqlserver/2004/07/showplan\" Version=\"1.2\" Build=\"12.0.2000.8\">\r\n",
                "  <BatchSequence>\r\n",
                "    <Batch>\r\n",
                "      <Statements>\r\n",
                "        <StmtSimple StatementText=\"SELECT TOP 10 Rate&#xD;&#xA;FROM HumanResources.EmployeePayHistory&#xD;&#xA;ORDER BY Rate DESC\" StatementId=\"1\" StatementCompId=\"1\" StatementType=\"SELECT\" RetrievedFromCache=\"true\" StatementSubTreeCost=\"0.019825\" StatementEstRows=\"10\" StatementOptmLevel=\"TRIVIAL\" QueryHash=\"0xF837F06798E85035\" QueryPlanHash=\"0x65B8DEE1A2B5457C\" CardinalityEstimationModelVersion=\"120\">\r\n",
                "          <StatementSetOptions QUOTED_IDENTIFIER=\"true\" ARITHABORT=\"true\" CONCAT_NULL_YIELDS_NULL=\"true\" ANSI_NULLS=\"true\" ANSI_PADDING=\"true\" ANSI_WARNINGS=\"true\" NUMERIC_ROUNDABORT=\"false\" />\r\n",
                "          <QueryPlan DegreeOfParallelism=\"1\" MemoryGrant=\"1024\" CachedPlanSize=\"16\" CompileTime=\"0\" CompileCPU=\"0\" CompileMemory=\"96\">\r\n",
                "            <MemoryGrantInfo SerialRequiredMemory=\"16\" SerialDesiredMemory=\"24\" RequiredMemory=\"16\" DesiredMemory=\"24\" RequestedMemory=\"1024\" GrantWaitTime=\"0\" GrantedMemory=\"1024\" MaxUsedMemory=\"16\" />\r\n",
                "            <OptimizerHardwareDependentProperties EstimatedAvailableMemoryGrant=\"30720\" EstimatedPagesCached=\"15360\" EstimatedAvailableDegreeOfParallelism=\"4\" />\r\n",
                "            <RelOp NodeId=\"0\" PhysicalOp=\"Sort\" LogicalOp=\"TopN Sort\" EstimateRows=\"10\" EstimateIO=\"0.0112613\" EstimateCPU=\"0.00419345\" AvgRowSize=\"15\" EstimatedTotalSubtreeCost=\"0.019825\" Parallel=\"0\" EstimateRebinds=\"0\" EstimateRewinds=\"0\" EstimatedExecutionMode=\"Row\">\r\n",
                "              <OutputList>\r\n",
                "                <ColumnReference Database=\"[AdventureWorks2014]\" Schema=\"[HumanResources]\" Table=\"[EmployeePayHistory]\" Column=\"Rate\" />\r\n",
                "              </OutputList>\r\n",
                "              <MemoryFractions Input=\"1\" Output=\"1\" />\r\n",
                "              <RunTimeInformation>\r\n",
                "                <RunTimeCountersPerThread Thread=\"0\" ActualRows=\"10\" ActualRebinds=\"1\" ActualRewinds=\"0\" ActualEndOfScans=\"1\" ActualExecutions=\"1\" />\r\n",
                "              </RunTimeInformation>\r\n",
                "              <TopSort Distinct=\"0\" Rows=\"10\">\r\n",
                "                <OrderBy>\r\n",
                "                  <OrderByColumn Ascending=\"0\">\r\n",
                "                    <ColumnReference Database=\"[AdventureWorks2014]\" Schema=\"[HumanResources]\" Table=\"[EmployeePayHistory]\" Column=\"Rate\" />\r\n",
                "                  </OrderByColumn>\r\n",
                "                </OrderBy>\r\n",
                "                <RelOp NodeId=\"1\" PhysicalOp=\"Clustered Index Scan\" LogicalOp=\"Clustered Index Scan\" EstimateRows=\"316\" EstimateIO=\"0.00386574\" EstimateCPU=\"0.0005046\" AvgRowSize=\"15\" EstimatedTotalSubtreeCost=\"0.00437034\" TableCardinality=\"316\" Parallel=\"0\" EstimateRebinds=\"0\" EstimateRewinds=\"0\" EstimatedExecutionMode=\"Row\">\r\n",
                "                  <OutputList>\r\n",
                "                    <ColumnReference Database=\"[AdventureWorks2014]\" Schema=\"[HumanResources]\" Table=\"[EmployeePayHistory]\" Column=\"Rate\" />\r\n",
                "                  </OutputList>\r\n",
                "                  <RunTimeInformation>\r\n",
                "                    <RunTimeCountersPerThread Thread=\"0\" ActualRows=\"316\" ActualEndOfScans=\"1\" ActualExecutions=\"1\" />\r\n",
                "                  </RunTimeInformation>\r\n",
                "                  <IndexScan Ordered=\"0\" ForcedIndex=\"0\" ForceScan=\"0\" NoExpandHint=\"0\" Storage=\"RowStore\">\r\n",
                "                    <DefinedValues>\r\n",
                "                      <DefinedValue>\r\n",
                "                        <ColumnReference Database=\"[AdventureWorks2014]\" Schema=\"[HumanResources]\" Table=\"[EmployeePayHistory]\" Column=\"Rate\" />\r\n",
                "                      </DefinedValue>\r\n",
                "                    </DefinedValues>\r\n",
                "                    <Object Database=\"[AdventureWorks2014]\" Schema=\"[HumanResources]\" Table=\"[EmployeePayHistory]\" Index=\"[PK_EmployeePayHistory_BusinessEntityID_RateChangeDate]\" IndexKind=\"Clustered\" Storage=\"RowStore\" />\r\n",
                "                  </IndexScan>\r\n",
                "                </RelOp>\r\n",
                "              </TopSort>\r\n",
                "            </RelOp>\r\n",
                "          </QueryPlan>\r\n",
                "        </StmtSimple>\r\n",
                "      </Statements>\r\n",
                "    </Batch>\r\n",
                "  </BatchSequence>\r\n",
                "</ShowPlanXML>');\r\n",
                ""
            ],
            "metadata": {
                "azdata_cell_guid": "326f0116-751e-4390-919b-a9e126bb57e0"
            },
            "outputs": [
                {
                    "output_type": "display_data",
                    "data": {
                        "text/html": "Commands completed successfully."
                    },
                    "metadata": {}
                },
                {
                    "output_type": "display_data",
                    "data": {
                        "text/html": "(10 rows affected)"
                    },
                    "metadata": {}
                },
                {
                    "output_type": "display_data",
                    "data": {
                        "text/html": "Total execution time: 00:00:00.312"
                    },
                    "metadata": {}
                },
                {
                    "output_type": "execute_result",
                    "metadata": {},
                    "execution_count": 2,
                    "data": {
                        "application/vnd.dataresource+json": {
                            "schema": {
                                "fields": [
                                    {
                                        "name": "Rate"
                                    }
                                ]
                            },
                            "data": [
                                {
                                    "0": "125.5000"
                                },
                                {
                                    "0": "84.1346"
                                },
                                {
                                    "0": "72.1154"
                                },
                                {
                                    "0": "63.4615"
                                },
                                {
                                    "0": "60.0962"
                                },
                                {
                                    "0": "50.4808"
                                },
                                {
                                    "0": "50.4808"
                                },
                                {
                                    "0": "48.5577"
                                },
                                {
                                    "0": "48.1010"
                                },
                                {
                                    "0": "48.1010"
                                }
                            ]
                        },
                        "text/html": [
                            "<table>",
                            "<tr><th>Rate</th></tr>",
                            "<tr><td>125.5000</td></tr>",
                            "<tr><td>84.1346</td></tr>",
                            "<tr><td>72.1154</td></tr>",
                            "<tr><td>63.4615</td></tr>",
                            "<tr><td>60.0962</td></tr>",
                            "<tr><td>50.4808</td></tr>",
                            "<tr><td>50.4808</td></tr>",
                            "<tr><td>48.5577</td></tr>",
                            "<tr><td>48.1010</td></tr>",
                            "<tr><td>48.1010</td></tr>",
                            "</table>"
                        ]
                    }
                }
            ],
            "execution_count": 2
        }
    ]
}