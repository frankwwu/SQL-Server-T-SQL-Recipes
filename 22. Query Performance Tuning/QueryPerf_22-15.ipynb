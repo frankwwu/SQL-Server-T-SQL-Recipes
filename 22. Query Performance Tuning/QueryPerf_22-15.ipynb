{
    "metadata": {
        "kernelspec": {
            "name": "SQL",
            "display_name": "SQL",
            "language": "sql"
        },
        "language_info": {
            "name": "sql",
            "version": ""
        }
    },
    "nbformat_minor": 2,
    "nbformat": 4,
    "cells": [
        {
            "cell_type": "code",
            "source": [
                "/* 22-15 */\r\n",
                "USE master;\r\n",
                "GO\r\n",
                "CREATE RESOURCE POOL priority_app_queries WITH ( MIN_CPU_PERCENT = 25,\r\n",
                "MAX_CPU_PERCENT = 75,\r\n",
                "MIN_MEMORY_PERCENT = 25,\r\n",
                "MAX_MEMORY_PERCENT = 75);\r\n",
                "GO"
            ],
            "metadata": {
                "azdata_cell_guid": "3378e348-be82-4d38-9118-69b998be4919"
            },
            "outputs": [
                {
                    "output_type": "display_data",
                    "data": {
                        "text/html": "Commands completed successfully."
                    },
                    "metadata": {}
                },
                {
                    "output_type": "display_data",
                    "data": {
                        "text/html": "Commands completed successfully."
                    },
                    "metadata": {}
                },
                {
                    "output_type": "display_data",
                    "data": {
                        "text/html": "Total execution time: 00:00:00.004"
                    },
                    "metadata": {}
                }
            ],
            "execution_count": 1
        },
        {
            "cell_type": "code",
            "source": [
                "/* second resource group */\r\n",
                "USE master;\r\n",
                "GO\r\n",
                "CREATE RESOURCE POOL ad_hoc_queries WITH ( MIN_CPU_PERCENT = 5,\r\n",
                "MAX_CPU_PERCENT = 25,\r\n",
                "MIN_MEMORY_PERCENT = 5,\r\n",
                "MAX_MEMORY_PERCENT = 25,\r\n",
                "MAX_IOPS_PER_VOLUME = 50);\r\n",
                "GO"
            ],
            "metadata": {
                "azdata_cell_guid": "dbd5204f-ca49-4d0a-81bc-de5ef25b5a74"
            },
            "outputs": [
                {
                    "output_type": "display_data",
                    "data": {
                        "text/html": "Commands completed successfully."
                    },
                    "metadata": {}
                },
                {
                    "output_type": "display_data",
                    "data": {
                        "text/html": "Commands completed successfully."
                    },
                    "metadata": {}
                },
                {
                    "output_type": "display_data",
                    "data": {
                        "text/html": "Total execution time: 00:00:00.008"
                    },
                    "metadata": {}
                }
            ],
            "execution_count": 2
        },
        {
            "cell_type": "code",
            "source": [
                "/* alter the resource pool */\r\n",
                "USE master;\r\n",
                "GO\r\n",
                "ALTER RESOURCE POOL ad_hoc_queries \r\n",
                "WITH ( MIN_MEMORY_PERCENT = 10, MAX_MEMORY_PERCENT = 50, MAX_IOPS_PER_VOLUME = 75);\r\n",
                "GO"
            ],
            "metadata": {
                "azdata_cell_guid": "39e8b5aa-0a97-439e-8c66-2bdbec2f0a9c"
            },
            "outputs": [
                {
                    "output_type": "display_data",
                    "data": {
                        "text/html": "Commands completed successfully."
                    },
                    "metadata": {}
                },
                {
                    "output_type": "display_data",
                    "data": {
                        "text/html": "Commands completed successfully."
                    },
                    "metadata": {}
                },
                {
                    "output_type": "display_data",
                    "data": {
                        "text/html": "Total execution time: 00:00:00.010"
                    },
                    "metadata": {}
                }
            ],
            "execution_count": 3
        },
        {
            "cell_type": "code",
            "source": [
                "USE master;\r\n",
                "GO\r\n",
                "SELECT pool_id,name AS PoolName\r\n",
                ",min_cpu_percent,max_cpu_percent\r\n",
                ",min_memory_percent,max_memory_percent, max_iops_per_volume\r\n",
                "FROM sys.resource_governor_resource_pools rp\r\n",
                "WHERE rp.pool_id > 2;\r\n",
                "GO"
            ],
            "metadata": {
                "azdata_cell_guid": "2899eb0f-4808-4087-9c9b-b45f9961fb20"
            },
            "outputs": [
                {
                    "output_type": "display_data",
                    "data": {
                        "text/html": "Commands completed successfully."
                    },
                    "metadata": {}
                },
                {
                    "output_type": "display_data",
                    "data": {
                        "text/html": "(2 rows affected)"
                    },
                    "metadata": {}
                },
                {
                    "output_type": "display_data",
                    "data": {
                        "text/html": "Total execution time: 00:00:00.042"
                    },
                    "metadata": {}
                },
                {
                    "output_type": "execute_result",
                    "metadata": {},
                    "execution_count": 4,
                    "data": {
                        "application/vnd.dataresource+json": {
                            "schema": {
                                "fields": [
                                    {
                                        "name": "pool_id"
                                    },
                                    {
                                        "name": "PoolName"
                                    },
                                    {
                                        "name": "min_cpu_percent"
                                    },
                                    {
                                        "name": "max_cpu_percent"
                                    },
                                    {
                                        "name": "min_memory_percent"
                                    },
                                    {
                                        "name": "max_memory_percent"
                                    },
                                    {
                                        "name": "max_iops_per_volume"
                                    }
                                ]
                            },
                            "data": [
                                {
                                    "0": "256",
                                    "1": "priority_app_queries",
                                    "2": "25",
                                    "3": "75",
                                    "4": "25",
                                    "5": "75",
                                    "6": "0"
                                },
                                {
                                    "0": "257",
                                    "1": "ad_hoc_queries",
                                    "2": "5",
                                    "3": "25",
                                    "4": "10",
                                    "5": "50",
                                    "6": "75"
                                }
                            ]
                        },
                        "text/html": [
                            "<table>",
                            "<tr><th>pool_id</th><th>PoolName</th><th>min_cpu_percent</th><th>max_cpu_percent</th><th>min_memory_percent</th><th>max_memory_percent</th><th>max_iops_per_volume</th></tr>",
                            "<tr><td>256</td><td>priority_app_queries</td><td>25</td><td>75</td><td>25</td><td>75</td><td>0</td></tr>",
                            "<tr><td>257</td><td>ad_hoc_queries</td><td>5</td><td>25</td><td>10</td><td>50</td><td>75</td></tr>",
                            "</table>"
                        ]
                    }
                }
            ],
            "execution_count": 4
        },
        {
            "cell_type": "code",
            "source": [
                "/* create some workload groups now */\r\n",
                "USE master;\r\n",
                "GO\r\n",
                "CREATE WORKLOAD GROUP application_alpha \r\n",
                "WITH ( IMPORTANCE = HIGH,\r\n",
                "REQUEST_MAX_MEMORY_GRANT_PERCENT = 75,\r\n",
                "REQUEST_MAX_CPU_TIME_SEC = 75,\r\n",
                "REQUEST_MEMORY_GRANT_TIMEOUT_SEC = 120,\r\n",
                "MAX_DOP = 8,\r\n",
                "GROUP_MAX_REQUESTS = 8 ) \r\n",
                "USING priority_app_queries;\r\n",
                "GO"
            ],
            "metadata": {
                "azdata_cell_guid": "cd95777c-d52e-4138-82be-a69694e896a7"
            },
            "outputs": [
                {
                    "output_type": "display_data",
                    "data": {
                        "text/html": "Commands completed successfully."
                    },
                    "metadata": {}
                },
                {
                    "output_type": "display_data",
                    "data": {
                        "text/html": "Commands completed successfully."
                    },
                    "metadata": {}
                },
                {
                    "output_type": "display_data",
                    "data": {
                        "text/html": "Total execution time: 00:00:00.013"
                    },
                    "metadata": {}
                }
            ],
            "execution_count": 5
        },
        {
            "cell_type": "code",
            "source": [
                "/* second workload group */\r\n",
                "USE master;\r\n",
                "GO\r\n",
                "CREATE WORKLOAD GROUP application_beta \r\n",
                "WITH ( IMPORTANCE = LOW,\r\n",
                "REQUEST_MAX_MEMORY_GRANT_PERCENT = 50,\r\n",
                "REQUEST_MAX_CPU_TIME_SEC = 50,\r\n",
                "REQUEST_MEMORY_GRANT_TIMEOUT_SEC = 360,\r\n",
                "MAX_DOP = 1,\r\n",
                "GROUP_MAX_REQUESTS = 4 ) \r\n",
                "USING priority_app_queries;\r\n",
                "GO"
            ],
            "metadata": {
                "azdata_cell_guid": "ea0ffe9b-404f-4619-b358-d7420d280a88"
            },
            "outputs": [
                {
                    "output_type": "display_data",
                    "data": {
                        "text/html": "Commands completed successfully."
                    },
                    "metadata": {}
                },
                {
                    "output_type": "display_data",
                    "data": {
                        "text/html": "Commands completed successfully."
                    },
                    "metadata": {}
                },
                {
                    "output_type": "display_data",
                    "data": {
                        "text/html": "Total execution time: 00:00:00.010"
                    },
                    "metadata": {}
                }
            ],
            "execution_count": 6
        },
        {
            "cell_type": "code",
            "source": [
                "/* Alter a workload */\r\n",
                "USE master;\r\n",
                "GO\r\n",
                "ALTER WORKLOAD GROUP application_beta WITH ( IMPORTANCE = MEDIUM);\r\n",
                "GO"
            ],
            "metadata": {
                "azdata_cell_guid": "d8fe576b-a317-4bae-a4c1-dbc54dc7fb90"
            },
            "outputs": [
                {
                    "output_type": "display_data",
                    "data": {
                        "text/html": "Commands completed successfully."
                    },
                    "metadata": {}
                },
                {
                    "output_type": "display_data",
                    "data": {
                        "text/html": "Commands completed successfully."
                    },
                    "metadata": {}
                },
                {
                    "output_type": "display_data",
                    "data": {
                        "text/html": "Total execution time: 00:00:00.004"
                    },
                    "metadata": {}
                }
            ],
            "execution_count": 7
        },
        {
            "cell_type": "code",
            "source": [
                "/* workload group for the adhoc pool */\r\n",
                "USE master;\r\n",
                "GO\r\n",
                "CREATE WORKLOAD GROUP adhoc_users \r\n",
                "WITH ( IMPORTANCE = LOW,\r\n",
                "REQUEST_MAX_MEMORY_GRANT_PERCENT = 100,\r\n",
                "REQUEST_MAX_CPU_TIME_SEC = 120,\r\n",
                "REQUEST_MEMORY_GRANT_TIMEOUT_SEC = 360,\r\n",
                "MAX_DOP = 1,\r\n",
                "GROUP_MAX_REQUESTS = 5 ) \r\n",
                "USING ad_hoc_queries;\r\n",
                "GO"
            ],
            "metadata": {
                "azdata_cell_guid": "a1b91235-d3eb-49c0-95ea-1fca2e87343b"
            },
            "outputs": [
                {
                    "output_type": "display_data",
                    "data": {
                        "text/html": "Commands completed successfully."
                    },
                    "metadata": {}
                },
                {
                    "output_type": "display_data",
                    "data": {
                        "text/html": "Commands completed successfully."
                    },
                    "metadata": {}
                },
                {
                    "output_type": "display_data",
                    "data": {
                        "text/html": "Total execution time: 00:00:00.011"
                    },
                    "metadata": {}
                }
            ],
            "execution_count": 8
        },
        {
            "cell_type": "code",
            "source": [
                "/* confirm the setup */\r\n",
                "USE master;\r\n",
                "GO\r\n",
                "SELECT name AS GrpName,\r\n",
                "Importance AS impt,\r\n",
                "request_max_memory_grant_percent AS max_m_g,\r\n",
                "request_max_cpu_time_sec AS max_cpu_sec,\r\n",
                "request_memory_grant_timeout_sec AS m_g_to,\r\n",
                "max_dop,\r\n",
                "group_max_requests AS max_req,\r\n",
                "pool_id\r\n",
                "FROM sys.resource_governor_workload_groups\r\n",
                "WHERE pool_id > 2;"
            ],
            "metadata": {
                "azdata_cell_guid": "316aef26-9779-4101-b53c-9003ff60d820"
            },
            "outputs": [
                {
                    "output_type": "display_data",
                    "data": {
                        "text/html": "Commands completed successfully."
                    },
                    "metadata": {}
                },
                {
                    "output_type": "display_data",
                    "data": {
                        "text/html": "(3 rows affected)"
                    },
                    "metadata": {}
                },
                {
                    "output_type": "display_data",
                    "data": {
                        "text/html": "Total execution time: 00:00:00.064"
                    },
                    "metadata": {}
                },
                {
                    "output_type": "execute_result",
                    "metadata": {},
                    "execution_count": 9,
                    "data": {
                        "application/vnd.dataresource+json": {
                            "schema": {
                                "fields": [
                                    {
                                        "name": "GrpName"
                                    },
                                    {
                                        "name": "impt"
                                    },
                                    {
                                        "name": "max_m_g"
                                    },
                                    {
                                        "name": "max_cpu_sec"
                                    },
                                    {
                                        "name": "m_g_to"
                                    },
                                    {
                                        "name": "max_dop"
                                    },
                                    {
                                        "name": "max_req"
                                    },
                                    {
                                        "name": "pool_id"
                                    }
                                ]
                            },
                            "data": [
                                {
                                    "0": "application_alpha",
                                    "1": "High",
                                    "2": "75",
                                    "3": "75",
                                    "4": "120",
                                    "5": "8",
                                    "6": "8",
                                    "7": "256"
                                },
                                {
                                    "0": "application_beta",
                                    "1": "Medium",
                                    "2": "50",
                                    "3": "50",
                                    "4": "360",
                                    "5": "1",
                                    "6": "4",
                                    "7": "256"
                                },
                                {
                                    "0": "adhoc_users",
                                    "1": "Low",
                                    "2": "100",
                                    "3": "120",
                                    "4": "360",
                                    "5": "1",
                                    "6": "5",
                                    "7": "257"
                                }
                            ]
                        },
                        "text/html": [
                            "<table>",
                            "<tr><th>GrpName</th><th>impt</th><th>max_m_g</th><th>max_cpu_sec</th><th>m_g_to</th><th>max_dop</th><th>max_req</th><th>pool_id</th></tr>",
                            "<tr><td>application_alpha</td><td>High</td><td>75</td><td>75</td><td>120</td><td>8</td><td>8</td><td>256</td></tr>",
                            "<tr><td>application_beta</td><td>Medium</td><td>50</td><td>50</td><td>360</td><td>1</td><td>4</td><td>256</td></tr>",
                            "<tr><td>adhoc_users</td><td>Low</td><td>100</td><td>120</td><td>360</td><td>1</td><td>5</td><td>257</td></tr>",
                            "</table>"
                        ]
                    }
                }
            ],
            "execution_count": 9
        },
        {
            "cell_type": "code",
            "source": [
                "/* classifier function */\r\n",
                "USE master;\r\n",
                "GO\r\n",
                "CREATE FUNCTION dbo.RECIPES_classifier()\r\n",
                "RETURNS sysname\r\n",
                "WITH SCHEMABINDING\r\n",
                "AS\r\n",
                "BEGIN\r\n",
                "DECLARE @resource_group_name sysname;\r\n",
                "IF SUSER_SNAME() IN ('AppLoginl', 'AppLogin2') \r\n",
                "    SET @resource_group_name = 'application_alpha';\r\n",
                "IF SUSER_SNAME() IN ('AppLogin3', 'AppLogin4') \r\n",
                "    SET @resource_group_name = 'application_beta';\r\n",
                "IF HOST_NAME() IN ('Workstationl234', 'Workstation4235') \r\n",
                "    SET @resource_group_name = 'adhoc_users';\r\n",
                "-- If the resource group is still unassigned, use default \r\n",
                "IF @resource_group_name IS NULL \r\n",
                "    SET @resource_group_name = 'default';\r\n",
                "RETURN @resource_group_name;\r\n",
                "END\r\n",
                "GO"
            ],
            "metadata": {
                "azdata_cell_guid": "78ff5e93-fbba-4c51-ac36-daaae4f31a9c"
            },
            "outputs": [
                {
                    "output_type": "display_data",
                    "data": {
                        "text/html": "Commands completed successfully."
                    },
                    "metadata": {}
                },
                {
                    "output_type": "display_data",
                    "data": {
                        "text/html": "Commands completed successfully."
                    },
                    "metadata": {}
                },
                {
                    "output_type": "display_data",
                    "data": {
                        "text/html": "Total execution time: 00:00:00.012"
                    },
                    "metadata": {}
                }
            ],
            "execution_count": 10
        },
        {
            "cell_type": "code",
            "source": [
                "/* activate the classifier function */\r\n",
                "USE master;\r\n",
                "GO\r\n",
                "-- Assign the classifier function\r\n",
                "ALTER RESOURCE GOVERNOR\r\n",
                "WITH (CLASSIFIER_FUNCTION = dbo.RECIPES_classifier);\r\n",
                "GO"
            ],
            "metadata": {
                "azdata_cell_guid": "288d981e-36d5-49c1-8234-a2791cf3daf2"
            },
            "outputs": [
                {
                    "output_type": "display_data",
                    "data": {
                        "text/html": "Commands completed successfully."
                    },
                    "metadata": {}
                },
                {
                    "output_type": "display_data",
                    "data": {
                        "text/html": "Commands completed successfully."
                    },
                    "metadata": {}
                },
                {
                    "output_type": "display_data",
                    "data": {
                        "text/html": "Total execution time: 00:00:00.011"
                    },
                    "metadata": {}
                }
            ],
            "execution_count": 11
        },
        {
            "cell_type": "code",
            "source": [
                "/* enable the RG configuration */\r\n",
                "USE master;\r\n",
                "GO\r\n",
                "ALTER RESOURCE GOVERNOR RECONFIGURE;\r\n",
                "GO"
            ],
            "metadata": {
                "azdata_cell_guid": "089ae2e9-fcbf-40ec-803f-10152e9369ad"
            },
            "outputs": [
                {
                    "output_type": "display_data",
                    "data": {
                        "text/html": "Commands completed successfully."
                    },
                    "metadata": {}
                },
                {
                    "output_type": "display_data",
                    "data": {
                        "text/html": "Commands completed successfully."
                    },
                    "metadata": {}
                },
                {
                    "output_type": "display_data",
                    "data": {
                        "text/html": "Total execution time: 00:00:00.039"
                    },
                    "metadata": {}
                }
            ],
            "execution_count": 12
        },
        {
            "cell_type": "code",
            "source": [
                "/* confirm the setup is complete */\r\n",
                "USE master;\r\n",
                "GO\r\n",
                "SELECT OBJECT_NAME(classifier_function_id,DB_ID('master')) FuncName,\r\n",
                "is_enabled \r\n",
                "FROM sys.resource_governor_configuration;"
            ],
            "metadata": {
                "azdata_cell_guid": "b54abc68-576f-4430-8397-aa7750332775"
            },
            "outputs": [
                {
                    "output_type": "display_data",
                    "data": {
                        "text/html": "Commands completed successfully."
                    },
                    "metadata": {}
                },
                {
                    "output_type": "display_data",
                    "data": {
                        "text/html": "(1 row affected)"
                    },
                    "metadata": {}
                },
                {
                    "output_type": "display_data",
                    "data": {
                        "text/html": "Total execution time: 00:00:00.048"
                    },
                    "metadata": {}
                },
                {
                    "output_type": "execute_result",
                    "metadata": {},
                    "execution_count": 13,
                    "data": {
                        "application/vnd.dataresource+json": {
                            "schema": {
                                "fields": [
                                    {
                                        "name": "FuncName"
                                    },
                                    {
                                        "name": "is_enabled"
                                    }
                                ]
                            },
                            "data": [
                                {
                                    "0": "RECIPES_classifier",
                                    "1": "1"
                                }
                            ]
                        },
                        "text/html": [
                            "<table>",
                            "<tr><th>FuncName</th><th>is_enabled</th></tr>",
                            "<tr><td>RECIPES_classifier</td><td>1</td></tr>",
                            "</table>"
                        ]
                    }
                }
            ],
            "execution_count": 13
        },
        {
            "cell_type": "code",
            "source": [
                "/* disable the settings */\r\n",
                "USE master;\r\n",
                "GO\r\n",
                "ALTER RESOURCE GOVERNOR DISABLE;\r\n",
                "GO"
            ],
            "metadata": {
                "azdata_cell_guid": "e81c453a-40c5-4799-9052-c5a88d4afbe1"
            },
            "outputs": [
                {
                    "output_type": "display_data",
                    "data": {
                        "text/html": "Commands completed successfully."
                    },
                    "metadata": {}
                },
                {
                    "output_type": "display_data",
                    "data": {
                        "text/html": "Commands completed successfully."
                    },
                    "metadata": {}
                },
                {
                    "output_type": "display_data",
                    "data": {
                        "text/html": "Total execution time: 00:00:00.009"
                    },
                    "metadata": {}
                }
            ],
            "execution_count": 14
        },
        {
            "cell_type": "code",
            "source": [
                "/* remove the workgroups and pools */\r\n",
                "USE master;\r\n",
                "GO\r\n",
                "DROP WORKLOAD GROUP application_alpha;\r\n",
                "DROP WORKLOAD GROUP application_beta;\r\n",
                "DROP WORKLOAD GROUP adhoc_users;\r\n",
                "DROP RESOURCE POOL ad_hoc_queries;\r\n",
                "DROP RESOURCE POOL priority_app_queries;"
            ],
            "metadata": {
                "azdata_cell_guid": "e382e05f-9cdb-4cf7-b5a3-6a8b7e662d9a"
            },
            "outputs": [
                {
                    "output_type": "display_data",
                    "data": {
                        "text/html": "Commands completed successfully."
                    },
                    "metadata": {}
                },
                {
                    "output_type": "display_data",
                    "data": {
                        "text/html": "Commands completed successfully."
                    },
                    "metadata": {}
                },
                {
                    "output_type": "display_data",
                    "data": {
                        "text/html": "Total execution time: 00:00:00.022"
                    },
                    "metadata": {}
                }
            ],
            "execution_count": 15
        },
        {
            "cell_type": "code",
            "source": [
                "/* drop the classifier function */\r\n",
                "USE master;\r\n",
                "GO\r\n",
                "ALTER RESOURCE GOVERNOR\r\n",
                "WITH (CLASSIFIER_FUNCTION = NULL);\r\n",
                "DROP FUNCTION dbo.RECIPES_classifier;\r\n",
                "GO"
            ],
            "metadata": {
                "azdata_cell_guid": "20c323ae-0691-462d-9964-272b9b74f152"
            },
            "outputs": [
                {
                    "output_type": "display_data",
                    "data": {
                        "text/html": "Commands completed successfully."
                    },
                    "metadata": {}
                },
                {
                    "output_type": "display_data",
                    "data": {
                        "text/html": "Commands completed successfully."
                    },
                    "metadata": {}
                },
                {
                    "output_type": "display_data",
                    "data": {
                        "text/html": "Total execution time: 00:00:00.012"
                    },
                    "metadata": {}
                }
            ],
            "execution_count": 16
        }
    ]
}