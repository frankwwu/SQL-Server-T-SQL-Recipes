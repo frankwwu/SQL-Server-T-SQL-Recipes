{
    "metadata": {
        "kernelspec": {
            "name": "SQL",
            "display_name": "SQL",
            "language": "sql"
        },
        "language_info": {
            "name": "sql",
            "version": ""
        }
    },
    "nbformat_minor": 2,
    "nbformat": 4,
    "cells": [
        {
            "cell_type": "code",
            "source": [
                "/* 22-14 */\r\n",
                "\r\n",
                "USE AdventureWorks2014;\r\n",
                "GO\r\n",
                "SELECT cp.objtype, AdHocText\r\n",
                "FROM sys.dm_exec_cached_plans cp\r\n",
                "CROSS APPLY (SELECT text AS [processing-instruction(definition)]\r\n",
                "            FROM sys.dm_exec_sql_text(cp.plan_handle) st\r\n",
                "            WHERE st.text LIKE 'SELECT BusinessEntityID%'\r\n",
                "            FOR XML PATH(''), TYPE\r\n",
                "      ) AS st(AdHocText)\r\n",
                "WHERE st.AdHocText IS NOT NULL;\r\n",
                "GO"
            ],
            "metadata": {
                "azdata_cell_guid": "2c333aac-bdc5-4072-8cbe-dd89ea105bf9"
            },
            "outputs": [
                {
                    "output_type": "display_data",
                    "data": {
                        "text/html": "Commands completed successfully."
                    },
                    "metadata": {}
                },
                {
                    "output_type": "display_data",
                    "data": {
                        "text/html": "(0 rows affected)"
                    },
                    "metadata": {}
                },
                {
                    "output_type": "display_data",
                    "data": {
                        "text/html": "Total execution time: 00:00:00.013"
                    },
                    "metadata": {}
                },
                {
                    "output_type": "execute_result",
                    "metadata": {},
                    "execution_count": 1,
                    "data": {
                        "application/vnd.dataresource+json": {
                            "schema": {
                                "fields": [
                                    {
                                        "name": "objtype"
                                    },
                                    {
                                        "name": "AdHocText"
                                    }
                                ]
                            },
                            "data": []
                        },
                        "text/html": [
                            "<table>",
                            "<tr><th>objtype</th><th>AdHocText</th></tr>",
                            "</table>"
                        ]
                    }
                }
            ],
            "execution_count": 1
        },
        {
            "cell_type": "code",
            "source": [
                "/* Now let's create a template */\r\n",
                "DECLARE @sql  nvarchar(max) DECLARE @parms nvarchar(max)\r\n",
                "EXEC sp_get_query_template\r\n",
                "N'SELECT BusinessEntityID FROM HumanResources.Employee WHERE NationalIDNumber = 295847284',\r\n",
                "@sql OUTPUT,\r\n",
                "@parms OUTPUT;\r\n",
                "\r\n",
                "EXEC sp_create_plan_guide N'PG_Employee_Contact_Ouery', @sql,\r\n",
                "N'TEMPLATE', NULL, @parms, N'OPTION(PARAMETERIZATION FORCED)';"
            ],
            "metadata": {
                "azdata_cell_guid": "11eec6b1-a05c-4fbf-9614-7725fefab38c"
            },
            "outputs": [
                {
                    "output_type": "display_data",
                    "data": {
                        "text/html": "Commands completed successfully."
                    },
                    "metadata": {}
                },
                {
                    "output_type": "display_data",
                    "data": {
                        "text/html": "Total execution time: 00:00:00.025"
                    },
                    "metadata": {}
                }
            ],
            "execution_count": 2
        },
        {
            "cell_type": "code",
            "source": [
                "/* Now try those queries again */\r\n",
                "USE AdventureWorks2014;\r\n",
                "GO\r\n",
                "SELECT BusinessEntityID\r\n",
                "        FROM HumanResources.Employee\r\n",
                "        WHERE NationalIDNumber = 509647174;\r\n",
                "GO\r\n",
                "SELECT BusinessEntityID\r\n",
                "        FROM HumanResources.Employee\r\n",
                "        WHERE NationalIDNumber = 245797967;\r\n",
                "GO\r\n",
                "SELECT BusinessEntityID\r\n",
                "        FROM HumanResources.Employee\r\n",
                "        WHERE NationalIDNumber = 295847284;\r\n",
                "GO"
            ],
            "metadata": {
                "azdata_cell_guid": "deb23caf-59de-4b2a-ac4a-216b77be4fe5"
            },
            "outputs": [
                {
                    "output_type": "display_data",
                    "data": {
                        "text/html": "Commands completed successfully."
                    },
                    "metadata": {}
                },
                {
                    "output_type": "display_data",
                    "data": {
                        "text/html": "(1 row affected)"
                    },
                    "metadata": {}
                },
                {
                    "output_type": "display_data",
                    "data": {
                        "text/html": "(1 row affected)"
                    },
                    "metadata": {}
                },
                {
                    "output_type": "display_data",
                    "data": {
                        "text/html": "(1 row affected)"
                    },
                    "metadata": {}
                },
                {
                    "output_type": "display_data",
                    "data": {
                        "text/html": "Total execution time: 00:00:00.062"
                    },
                    "metadata": {}
                },
                {
                    "output_type": "execute_result",
                    "metadata": {},
                    "execution_count": 3,
                    "data": {
                        "application/vnd.dataresource+json": {
                            "schema": {
                                "fields": [
                                    {
                                        "name": "BusinessEntityID"
                                    }
                                ]
                            },
                            "data": [
                                {
                                    "0": "3"
                                }
                            ]
                        },
                        "text/html": [
                            "<table>",
                            "<tr><th>BusinessEntityID</th></tr>",
                            "<tr><td>3</td></tr>",
                            "</table>"
                        ]
                    }
                },
                {
                    "output_type": "execute_result",
                    "metadata": {},
                    "execution_count": 3,
                    "data": {
                        "application/vnd.dataresource+json": {
                            "schema": {
                                "fields": [
                                    {
                                        "name": "BusinessEntityID"
                                    }
                                ]
                            },
                            "data": [
                                {
                                    "0": "1"
                                }
                            ]
                        },
                        "text/html": [
                            "<table>",
                            "<tr><th>BusinessEntityID</th></tr>",
                            "<tr><td>1</td></tr>",
                            "</table>"
                        ]
                    }
                }
            ],
            "execution_count": 3
        },
        {
            "cell_type": "code",
            "source": [
                "/* check for a prepared plan now */\r\n",
                "USE AdventureWorks2014;\r\n",
                "GO\r\n",
                "SELECT usecounts,objtype,PreparedText \r\n",
                "FROM sys.dm_exec_cached_plans cp \r\n",
                "CROSS APPLY (SELECT text AS [processing-instruction(definition)]\r\n",
                "            FROM sys.dm_exec_sql_text(cp.plan_handle) st\r\n",
                "            WHERE st.text LIKE '%SELECT BusinessEntityID%'\r\n",
                "            FOR XML PATH(''), TYPE\r\n",
                "      ) AS st(PreparedText) \r\n",
                "WHERE st.PreparedText IS NOT NULL\r\n",
                "AND objtype = 'Prepared';"
            ],
            "metadata": {
                "azdata_cell_guid": "89cc227b-bf83-47d9-92dc-399d3f4fa06f"
            },
            "outputs": [
                {
                    "output_type": "display_data",
                    "data": {
                        "text/html": "Commands completed successfully."
                    },
                    "metadata": {}
                },
                {
                    "output_type": "display_data",
                    "data": {
                        "text/html": "(1 row affected)"
                    },
                    "metadata": {}
                },
                {
                    "output_type": "display_data",
                    "data": {
                        "text/html": "Total execution time: 00:00:00.702"
                    },
                    "metadata": {}
                },
                {
                    "output_type": "execute_result",
                    "metadata": {},
                    "execution_count": 4,
                    "data": {
                        "application/vnd.dataresource+json": {
                            "schema": {
                                "fields": [
                                    {
                                        "name": "usecounts"
                                    },
                                    {
                                        "name": "objtype"
                                    },
                                    {
                                        "name": "PreparedText"
                                    }
                                ]
                            },
                            "data": [
                                {
                                    "0": "3",
                                    "1": "Prepared",
                                    "2": "<?definition (@0 int)select BusinessEntityID from HumanResources . Employee where NationalIDNumber = @0?>"
                                }
                            ]
                        },
                        "text/html": [
                            "<table>",
                            "<tr><th>usecounts</th><th>objtype</th><th>PreparedText</th></tr>",
                            "<tr><td>3</td><td>Prepared</td><td>&lt;?definition (@0 int)select BusinessEntityID from HumanResources . Employee where NationalIDNumber = @0?&gt;</td></tr>",
                            "</table>"
                        ]
                    }
                }
            ],
            "execution_count": 4
        }
    ]
}