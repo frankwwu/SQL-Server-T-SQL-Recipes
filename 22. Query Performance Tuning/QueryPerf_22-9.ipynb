{
    "metadata": {
        "kernelspec": {
            "name": "SQL",
            "display_name": "SQL",
            "language": "sql"
        },
        "language_info": {
            "name": "sql",
            "version": ""
        }
    },
    "nbformat_minor": 2,
    "nbformat": 4,
    "cells": [
        {
            "cell_type": "code",
            "source": [
                "/* 22-9 */\r\n",
                "USE AdventureWorks2014;\r\n",
                "GO \r\n",
                "EXECUTE sp_executesql N'SELECT TransactionID, ProductID, TransactionType, Quantity FROM   Production.TransactionHistoryArchive WHERE   ProductID = @ProductID AND\r\n",
                "TransactionType = @TransactionType AND Quantity > @Quantity', N'@ProductID int, @TransactionType char(1), @Quantity int', @ProductID =813, @TransactionType = 'S', @Quantity = 5"
            ],
            "metadata": {
                "azdata_cell_guid": "a1632b99-0dcc-4571-92a8-c6ec14274dcf"
            },
            "outputs": [
                {
                    "output_type": "display_data",
                    "data": {
                        "text/html": "Commands completed successfully."
                    },
                    "metadata": {}
                },
                {
                    "output_type": "display_data",
                    "data": {
                        "text/html": "(8 rows affected)"
                    },
                    "metadata": {}
                },
                {
                    "output_type": "display_data",
                    "data": {
                        "text/html": "Total execution time: 00:00:00.432"
                    },
                    "metadata": {}
                },
                {
                    "output_type": "execute_result",
                    "metadata": {},
                    "execution_count": 1,
                    "data": {
                        "application/vnd.dataresource+json": {
                            "schema": {
                                "fields": [
                                    {
                                        "name": "TransactionID"
                                    },
                                    {
                                        "name": "ProductID"
                                    },
                                    {
                                        "name": "TransactionType"
                                    },
                                    {
                                        "name": "Quantity"
                                    }
                                ]
                            },
                            "data": [
                                {
                                    "0": "28345",
                                    "1": "813",
                                    "2": "S",
                                    "3": "7"
                                },
                                {
                                    "0": "31177",
                                    "1": "813",
                                    "2": "S",
                                    "3": "9"
                                },
                                {
                                    "0": "35796",
                                    "1": "813",
                                    "2": "S",
                                    "3": "6"
                                },
                                {
                                    "0": "36112",
                                    "1": "813",
                                    "2": "S",
                                    "3": "7"
                                },
                                {
                                    "0": "40765",
                                    "1": "813",
                                    "2": "S",
                                    "3": "6"
                                },
                                {
                                    "0": "47843",
                                    "1": "813",
                                    "2": "S",
                                    "3": "7"
                                },
                                {
                                    "0": "69114",
                                    "1": "813",
                                    "2": "S",
                                    "3": "6"
                                },
                                {
                                    "0": "73432",
                                    "1": "813",
                                    "2": "S",
                                    "3": "6"
                                }
                            ]
                        },
                        "text/html": [
                            "<table>",
                            "<tr><th>TransactionID</th><th>ProductID</th><th>TransactionType</th><th>Quantity</th></tr>",
                            "<tr><td>28345</td><td>813</td><td>S</td><td>7</td></tr>",
                            "<tr><td>31177</td><td>813</td><td>S</td><td>9</td></tr>",
                            "<tr><td>35796</td><td>813</td><td>S</td><td>6</td></tr>",
                            "<tr><td>36112</td><td>813</td><td>S</td><td>7</td></tr>",
                            "<tr><td>40765</td><td>813</td><td>S</td><td>6</td></tr>",
                            "<tr><td>47843</td><td>813</td><td>S</td><td>7</td></tr>",
                            "<tr><td>69114</td><td>813</td><td>S</td><td>6</td></tr>",
                            "<tr><td>73432</td><td>813</td><td>S</td><td>6</td></tr>",
                            "</table>"
                        ]
                    }
                }
            ],
            "execution_count": 1
        }
    ]
}