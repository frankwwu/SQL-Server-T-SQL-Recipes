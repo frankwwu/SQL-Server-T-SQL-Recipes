{
    "metadata": {
        "kernelspec": {
            "name": "SQL",
            "display_name": "SQL",
            "language": "sql"
        },
        "language_info": {
            "name": "sql",
            "version": ""
        }
    },
    "nbformat_minor": 2,
    "nbformat": 4,
    "cells": [
        {
            "cell_type": "code",
            "source": [
                "/* 22-11 */\r\n",
                "USE AdventureWorks2014;\r\n",
                "GO\r\n",
                "EXEC sp_executesql\r\n",
                "N'SELECT v.Name ,a.City \r\n",
                "FROM Purchasing.Vendor v \r\n",
                "INNER JOIN [Person].BusinessEntityAddress bea\r\n",
                "ON bea.BusinessEntityID = v.BusinessEntityID \r\n",
                "INNER JOIN Person.Address a\r\n",
                "ON a.AddressID = bea.AddressID';"
            ],
            "metadata": {
                "azdata_cell_guid": "e24aa5fb-8fea-4986-849b-fbd0a64b9cfd"
            },
            "outputs": [
                {
                    "output_type": "display_data",
                    "data": {
                        "text/html": "Commands completed successfully."
                    },
                    "metadata": {}
                },
                {
                    "output_type": "display_data",
                    "data": {
                        "text/html": "(104 rows affected)"
                    },
                    "metadata": {}
                },
                {
                    "output_type": "display_data",
                    "data": {
                        "text/html": "Total execution time: 00:00:00.062"
                    },
                    "metadata": {}
                },
                {
                    "output_type": "execute_result",
                    "metadata": {},
                    "execution_count": 1,
                    "data": {
                        "application/vnd.dataresource+json": {
                            "schema": {
                                "fields": [
                                    {
                                        "name": "Name"
                                    },
                                    {
                                        "name": "City"
                                    }
                                ]
                            },
                            "data": [
                                {
                                    "0": "Integrated Sport Products",
                                    "1": "Chula Vista"
                                },
                                {
                                    "0": "GMA Ski & Bike",
                                    "1": "Bremerton"
                                },
                                {
                                    "0": "Sport Fan Co.",
                                    "1": "Burien"
                                },
                                {
                                    "0": "Indiana Bicycle Center",
                                    "1": "Novato"
                                },
                                {
                                    "0": "Bicycle Specialists",
                                    "1": "Lake Oswego"
                                },
                                {
                                    "0": "Hill Bicycle Center",
                                    "1": "Oakland"
                                },
                                {
                                    "0": "Competition Bike Training Systems",
                                    "1": "Atlanta"
                                },
                                {
                                    "0": "Speed Corporation",
                                    "1": "Anacortes"
                                },
                                {
                                    "0": "Lakewood Bicycle",
                                    "1": "Imperial Beach"
                                },
                                {
                                    "0": "Metro Sport Equipment",
                                    "1": "Lebanon"
                                },
                                {
                                    "0": "Aurora Bike Center",
                                    "1": "Port Orchard"
                                },
                                {
                                    "0": "Reliance Fitness, Inc.",
                                    "1": "Ballard"
                                },
                                {
                                    "0": "Midwest Sport, Inc.",
                                    "1": "Detroit"
                                },
                                {
                                    "0": "Hybrid Bicycle Center",
                                    "1": "Daly City"
                                },
                                {
                                    "0": "Sport Playground",
                                    "1": "Palo Alto"
                                },
                                {
                                    "0": "Northwind Traders",
                                    "1": "Phoenix"
                                },
                                {
                                    "0": "Bike Satellite Inc.",
                                    "1": "Downey"
                                },
                                {
                                    "0": "Beaumont Bikes",
                                    "1": "West Covina"
                                },
                                {
                                    "0": "Federal Sport",
                                    "1": "Burlingame"
                                },
                                {
                                    "0": "Continental Pro Cycles",
                                    "1": "Long Beach"
                                },
                                {
                                    "0": "A. Datum Corporation",
                                    "1": "New York"
                                },
                                {
                                    "0": "Fitness Association",
                                    "1": "Bellevue"
                                },
                                {
                                    "0": "Lindell",
                                    "1": "Lebanon"
                                },
                                {
                                    "0": "SUPERSALES INC.",
                                    "1": "Lakewood"
                                },
                                {
                                    "0": "Signature Cycles",
                                    "1": "Coronado"
                                },
                                {
                                    "0": "Mitchell Sports",
                                    "1": "Everett"
                                },
                                {
                                    "0": "Trey Research",
                                    "1": "Palo Alto"
                                },
                                {
                                    "0": "Inner City Bikes",
                                    "1": "W. Linn"
                                },
                                {
                                    "0": "Litware, Inc.",
                                    "1": "Santa Cruz"
                                },
                                {
                                    "0": "Vision Cycles, Inc.",
                                    "1": "Glendale"
                                },
                                {
                                    "0": "Superior Bicycles",
                                    "1": "Lynnwood"
                                },
                                {
                                    "0": "Jeff's Sporting Goods",
                                    "1": "Glendale"
                                },
                                {
                                    "0": "Inline Accessories",
                                    "1": "Concord"
                                },
                                {
                                    "0": "Legend Cycles",
                                    "1": "San Francisco"
                                },
                                {
                                    "0": "Electronic Bike Co.",
                                    "1": "Anacortes"
                                },
                                {
                                    "0": "International Sport Assoc.",
                                    "1": "Salt Lake City"
                                },
                                {
                                    "0": "Electronic Bike Repair & Supplies",
                                    "1": "Tacoma"
                                },
                                {
                                    "0": "Wide World Importers",
                                    "1": "Concord"
                                },
                                {
                                    "0": "American Bicycles and Wheels",
                                    "1": "West Covina"
                                },
                                {
                                    "0": "Victory Bikes",
                                    "1": "Issaquah"
                                },
                                {
                                    "0": "American Bikes",
                                    "1": "Torrance"
                                },
                                {
                                    "0": "Mountain Works",
                                    "1": "Everett"
                                },
                                {
                                    "0": "Crowley Sport",
                                    "1": "Chicago"
                                },
                                {
                                    "0": "Magic Cycles",
                                    "1": "Burlingame"
                                },
                                {
                                    "0": "Northern Bike Travel",
                                    "1": "Anacortes"
                                },
                                {
                                    "0": "Anderson's Custom Bikes",
                                    "1": "Burbank"
                                },
                                {
                                    "0": "Leaf River Terrain",
                                    "1": "Albany"
                                },
                                {
                                    "0": "Touring Equipment Center",
                                    "1": "St. Louis"
                                },
                                {
                                    "0": "Holiday Skate & Cycle",
                                    "1": "Lemon Grove"
                                },
                                {
                                    "0": "Expert Bike Co",
                                    "1": "Santa Cruz"
                                },
                                {
                                    "0": "Varsity Sport Co.",
                                    "1": "Spokane"
                                },
                                {
                                    "0": "Team Athletic Co.",
                                    "1": "Spokane"
                                },
                                {
                                    "0": "Proseware, Inc.",
                                    "1": "Lebanon"
                                },
                                {
                                    "0": "Jackson Authority",
                                    "1": "Long Beach"
                                },
                                {
                                    "0": "Premier Sport, Inc.",
                                    "1": "Boston"
                                },
                                {
                                    "0": "Professional Athletic Consultants",
                                    "1": "Burbank"
                                },
                                {
                                    "0": "Pro Sport Industries",
                                    "1": "Coronado"
                                },
                                {
                                    "0": "Wood Fitness",
                                    "1": "Philadelphia"
                                },
                                {
                                    "0": "Bloomington Multisport",
                                    "1": "West Covina"
                                },
                                {
                                    "0": "Carlson Specialties",
                                    "1": "Missoula"
                                },
                                {
                                    "0": "Compete, Inc.",
                                    "1": "Dallas"
                                },
                                {
                                    "0": "Chicago City Saddles",
                                    "1": "Daly City"
                                },
                                {
                                    "0": "Business Equipment Center",
                                    "1": "Everett"
                                },
                                {
                                    "0": "National Bike Association",
                                    "1": "Sedro Woolley"
                                },
                                {
                                    "0": "First Rate Bicycles",
                                    "1": "La Mesa"
                                },
                                {
                                    "0": "Custom Frames, Inc.",
                                    "1": "Lakewood"
                                },
                                {
                                    "0": "Burnett Road Warriors",
                                    "1": "Corvallis"
                                },
                                {
                                    "0": "Illinois Trek & Clothing",
                                    "1": "Mill Valley"
                                },
                                {
                                    "0": "Norstan Bike Hut",
                                    "1": "Beaverton"
                                },
                                {
                                    "0": "Capital Road Cycles",
                                    "1": "Los Angeles"
                                },
                                {
                                    "0": "Marsh",
                                    "1": "Woodburn"
                                },
                                {
                                    "0": "West Junction Cycles",
                                    "1": "Olympia"
                                },
                                {
                                    "0": "WestAmerica Bicycle Co.",
                                    "1": "Houston"
                                },
                                {
                                    "0": "Sports House",
                                    "1": "Burien"
                                },
                                {
                                    "0": "Merit Bikes",
                                    "1": "Bremerton"
                                },
                                {
                                    "0": "Consumer Cycles",
                                    "1": "Torrance"
                                },
                                {
                                    "0": "Green Lake Bike Company",
                                    "1": "Denver"
                                },
                                {
                                    "0": "Circuit Cycles",
                                    "1": "Portland"
                                },
                                {
                                    "0": "Hill's Bicycle Service",
                                    "1": "Richmond"
                                },
                                {
                                    "0": "Bergeron Off-Roads",
                                    "1": "Mill Valley"
                                },
                                {
                                    "0": "Vista Road Bikes",
                                    "1": "Salem"
                                },
                                {
                                    "0": "Cruger Bike Company",
                                    "1": "Berkeley"
                                },
                                {
                                    "0": "Ready Rentals",
                                    "1": "Kirkland"
                                },
                                {
                                    "0": "Knopfler Cycles",
                                    "1": "Salem"
                                },
                                {
                                    "0": "Comfort Road Bicycles",
                                    "1": "Los Angeles"
                                },
                                {
                                    "0": "Image Makers Bike Center",
                                    "1": "Burlingame"
                                },
                                {
                                    "0": "International Bicycles",
                                    "1": "West Covina"
                                },
                                {
                                    "0": "Recreation Place",
                                    "1": "Salem"
                                },
                                {
                                    "0": "First National Sport Co.",
                                    "1": "Boise"
                                },
                                {
                                    "0": "G & K Bicycle Corp.",
                                    "1": "W. Linn"
                                },
                                {
                                    "0": "International Trek Center",
                                    "1": "West Covina"
                                },
                                {
                                    "0": "Gardner Touring Cycles",
                                    "1": "Altadena"
                                },
                                {
                                    "0": "Training Systems",
                                    "1": "Burien"
                                },
                                {
                                    "0": "Light Speed",
                                    "1": "Spring Valley"
                                },
                                {
                                    "0": "International",
                                    "1": "Salt Lake City"
                                },
                                {
                                    "0": "Compete Enterprises, Inc",
                                    "1": "Lynnwood"
                                },
                                {
                                    "0": "Greenwood Athletic Company",
                                    "1": "Lemon Grove"
                                },
                                {
                                    "0": "Chicago Rent-All",
                                    "1": "Newport Beach"
                                },
                                {
                                    "0": "Cycling Master",
                                    "1": "Walla Walla"
                                },
                                {
                                    "0": "Morgan Bike Accessories",
                                    "1": "Albany"
                                },
                                {
                                    "0": "Trikes, Inc.",
                                    "1": "Berkeley"
                                },
                                {
                                    "0": "Advanced Bicycles",
                                    "1": "Lynnwood"
                                },
                                {
                                    "0": "Allenson Cycles",
                                    "1": "Altadena"
                                },
                                {
                                    "0": "Australia Bike Retailer",
                                    "1": "Bellingham"
                                }
                            ]
                        },
                        "text/html": [
                            "<table>",
                            "<tr><th>Name</th><th>City</th></tr>",
                            "<tr><td>Integrated Sport Products</td><td>Chula Vista</td></tr>",
                            "<tr><td>GMA Ski &amp; Bike</td><td>Bremerton</td></tr>",
                            "<tr><td>Sport Fan Co.</td><td>Burien</td></tr>",
                            "<tr><td>Indiana Bicycle Center</td><td>Novato</td></tr>",
                            "<tr><td>Bicycle Specialists</td><td>Lake Oswego</td></tr>",
                            "<tr><td>Hill Bicycle Center</td><td>Oakland</td></tr>",
                            "<tr><td>Competition Bike Training Systems</td><td>Atlanta</td></tr>",
                            "<tr><td>Speed Corporation</td><td>Anacortes</td></tr>",
                            "<tr><td>Lakewood Bicycle</td><td>Imperial Beach</td></tr>",
                            "<tr><td>Metro Sport Equipment</td><td>Lebanon</td></tr>",
                            "<tr><td>Aurora Bike Center</td><td>Port Orchard</td></tr>",
                            "<tr><td>Reliance Fitness, Inc.</td><td>Ballard</td></tr>",
                            "<tr><td>Midwest Sport, Inc.</td><td>Detroit</td></tr>",
                            "<tr><td>Hybrid Bicycle Center</td><td>Daly City</td></tr>",
                            "<tr><td>Sport Playground</td><td>Palo Alto</td></tr>",
                            "<tr><td>Northwind Traders</td><td>Phoenix</td></tr>",
                            "<tr><td>Bike Satellite Inc.</td><td>Downey</td></tr>",
                            "<tr><td>Beaumont Bikes</td><td>West Covina</td></tr>",
                            "<tr><td>Federal Sport</td><td>Burlingame</td></tr>",
                            "<tr><td>Continental Pro Cycles</td><td>Long Beach</td></tr>",
                            "<tr><td>A. Datum Corporation</td><td>New York</td></tr>",
                            "<tr><td>Fitness Association</td><td>Bellevue</td></tr>",
                            "<tr><td>Lindell</td><td>Lebanon</td></tr>",
                            "<tr><td>SUPERSALES INC.</td><td>Lakewood</td></tr>",
                            "<tr><td>Signature Cycles</td><td>Coronado</td></tr>",
                            "<tr><td>Mitchell Sports</td><td>Everett</td></tr>",
                            "<tr><td>Trey Research</td><td>Palo Alto</td></tr>",
                            "<tr><td>Inner City Bikes</td><td>W. Linn</td></tr>",
                            "<tr><td>Litware, Inc.</td><td>Santa Cruz</td></tr>",
                            "<tr><td>Vision Cycles, Inc.</td><td>Glendale</td></tr>",
                            "<tr><td>Superior Bicycles</td><td>Lynnwood</td></tr>",
                            "<tr><td>Jeff's Sporting Goods</td><td>Glendale</td></tr>",
                            "<tr><td>Inline Accessories</td><td>Concord</td></tr>",
                            "<tr><td>Legend Cycles</td><td>San Francisco</td></tr>",
                            "<tr><td>Electronic Bike Co.</td><td>Anacortes</td></tr>",
                            "<tr><td>International Sport Assoc.</td><td>Salt Lake City</td></tr>",
                            "<tr><td>Electronic Bike Repair &amp; Supplies</td><td>Tacoma</td></tr>",
                            "<tr><td>Wide World Importers</td><td>Concord</td></tr>",
                            "<tr><td>American Bicycles and Wheels</td><td>West Covina</td></tr>",
                            "<tr><td>Victory Bikes</td><td>Issaquah</td></tr>",
                            "<tr><td>American Bikes</td><td>Torrance</td></tr>",
                            "<tr><td>Mountain Works</td><td>Everett</td></tr>",
                            "<tr><td>Crowley Sport</td><td>Chicago</td></tr>",
                            "<tr><td>Magic Cycles</td><td>Burlingame</td></tr>",
                            "<tr><td>Northern Bike Travel</td><td>Anacortes</td></tr>",
                            "<tr><td>Anderson's Custom Bikes</td><td>Burbank</td></tr>",
                            "<tr><td>Leaf River Terrain</td><td>Albany</td></tr>",
                            "<tr><td>Touring Equipment Center</td><td>St. Louis</td></tr>",
                            "<tr><td>Holiday Skate &amp; Cycle</td><td>Lemon Grove</td></tr>",
                            "<tr><td>Expert Bike Co</td><td>Santa Cruz</td></tr>",
                            "<tr><td>Varsity Sport Co.</td><td>Spokane</td></tr>",
                            "<tr><td>Team Athletic Co.</td><td>Spokane</td></tr>",
                            "<tr><td>Proseware, Inc.</td><td>Lebanon</td></tr>",
                            "<tr><td>Jackson Authority</td><td>Long Beach</td></tr>",
                            "<tr><td>Premier Sport, Inc.</td><td>Boston</td></tr>",
                            "<tr><td>Professional Athletic Consultants</td><td>Burbank</td></tr>",
                            "<tr><td>Pro Sport Industries</td><td>Coronado</td></tr>",
                            "<tr><td>Wood Fitness</td><td>Philadelphia</td></tr>",
                            "<tr><td>Bloomington Multisport</td><td>West Covina</td></tr>",
                            "<tr><td>Carlson Specialties</td><td>Missoula</td></tr>",
                            "<tr><td>Compete, Inc.</td><td>Dallas</td></tr>",
                            "<tr><td>Chicago City Saddles</td><td>Daly City</td></tr>",
                            "<tr><td>Business Equipment Center</td><td>Everett</td></tr>",
                            "<tr><td>National Bike Association</td><td>Sedro Woolley</td></tr>",
                            "<tr><td>First Rate Bicycles</td><td>La Mesa</td></tr>",
                            "<tr><td>Custom Frames, Inc.</td><td>Lakewood</td></tr>",
                            "<tr><td>Burnett Road Warriors</td><td>Corvallis</td></tr>",
                            "<tr><td>Illinois Trek &amp; Clothing</td><td>Mill Valley</td></tr>",
                            "<tr><td>Norstan Bike Hut</td><td>Beaverton</td></tr>",
                            "<tr><td>Capital Road Cycles</td><td>Los Angeles</td></tr>",
                            "<tr><td>Marsh</td><td>Woodburn</td></tr>",
                            "<tr><td>West Junction Cycles</td><td>Olympia</td></tr>",
                            "<tr><td>WestAmerica Bicycle Co.</td><td>Houston</td></tr>",
                            "<tr><td>Sports House</td><td>Burien</td></tr>",
                            "<tr><td>Merit Bikes</td><td>Bremerton</td></tr>",
                            "<tr><td>Consumer Cycles</td><td>Torrance</td></tr>",
                            "<tr><td>Green Lake Bike Company</td><td>Denver</td></tr>",
                            "<tr><td>Circuit Cycles</td><td>Portland</td></tr>",
                            "<tr><td>Hill's Bicycle Service</td><td>Richmond</td></tr>",
                            "<tr><td>Bergeron Off-Roads</td><td>Mill Valley</td></tr>",
                            "<tr><td>Vista Road Bikes</td><td>Salem</td></tr>",
                            "<tr><td>Cruger Bike Company</td><td>Berkeley</td></tr>",
                            "<tr><td>Ready Rentals</td><td>Kirkland</td></tr>",
                            "<tr><td>Knopfler Cycles</td><td>Salem</td></tr>",
                            "<tr><td>Comfort Road Bicycles</td><td>Los Angeles</td></tr>",
                            "<tr><td>Image Makers Bike Center</td><td>Burlingame</td></tr>",
                            "<tr><td>International Bicycles</td><td>West Covina</td></tr>",
                            "<tr><td>Recreation Place</td><td>Salem</td></tr>",
                            "<tr><td>First National Sport Co.</td><td>Boise</td></tr>",
                            "<tr><td>G &amp; K Bicycle Corp.</td><td>W. Linn</td></tr>",
                            "<tr><td>International Trek Center</td><td>West Covina</td></tr>",
                            "<tr><td>Gardner Touring Cycles</td><td>Altadena</td></tr>",
                            "<tr><td>Training Systems</td><td>Burien</td></tr>",
                            "<tr><td>Light Speed</td><td>Spring Valley</td></tr>",
                            "<tr><td>International</td><td>Salt Lake City</td></tr>",
                            "<tr><td>Compete Enterprises, Inc</td><td>Lynnwood</td></tr>",
                            "<tr><td>Greenwood Athletic Company</td><td>Lemon Grove</td></tr>",
                            "<tr><td>Chicago Rent-All</td><td>Newport Beach</td></tr>",
                            "<tr><td>Cycling Master</td><td>Walla Walla</td></tr>",
                            "<tr><td>Morgan Bike Accessories</td><td>Albany</td></tr>",
                            "<tr><td>Trikes, Inc.</td><td>Berkeley</td></tr>",
                            "<tr><td>Advanced Bicycles</td><td>Lynnwood</td></tr>",
                            "<tr><td>Allenson Cycles</td><td>Altadena</td></tr>",
                            "<tr><td>Australia Bike Retailer</td><td>Bellingham</td></tr>",
                            "</table>"
                        ]
                    }
                }
            ],
            "execution_count": 1
        },
        {
            "cell_type": "code",
            "source": [
                "/* force join */\r\n",
                "USE AdventureWorks2014;\r\n",
                "GO\r\n",
                "EXEC sp_create_plan_guide\r\n",
                "@name = N'Vendor_Query_Loop_to_Merge', \r\n",
                "@stmt = \r\n",
                "N'SELECT v.Name ,a.City \r\n",
                "FROM Purchasing.Vendor v \r\n",
                "INNER JOIN [Person].BusinessEntityAddress bea\r\n",
                "ON bea.BusinessEntityID = v.BusinessEntityID \r\n",
                "INNER JOIN Person.Address a\r\n",
                "ON a.AddressID = bea.AddressID',\r\n",
                "@type = N'SQL', @module_or_batch = NULL, @params = NULL, @hints = N'OPTION (MERGE JOIN)';"
            ],
            "metadata": {
                "azdata_cell_guid": "b8e57225-6e52-4339-bda6-cc7862f0ed1a"
            },
            "outputs": [
                {
                    "output_type": "display_data",
                    "data": {
                        "text/html": "Commands completed successfully."
                    },
                    "metadata": {}
                },
                {
                    "output_type": "display_data",
                    "data": {
                        "text/html": "Commands completed successfully."
                    },
                    "metadata": {}
                },
                {
                    "output_type": "display_data",
                    "data": {
                        "text/html": "Total execution time: 00:00:00.796"
                    },
                    "metadata": {}
                }
            ],
            "execution_count": 2
        },
        {
            "cell_type": "code",
            "source": [
                "/* check the plan guide */\r\n",
                "USE AdventureWorks2014;\r\n",
                "GO\r\n",
                "SELECT name, is_disabled, scope_type_desc, hints \r\n",
                "FROM sys.plan_guides;"
            ],
            "metadata": {
                "azdata_cell_guid": "6aa537f7-bab5-45ca-b6c8-95fbd60b040c"
            },
            "outputs": [
                {
                    "output_type": "display_data",
                    "data": {
                        "text/html": "Commands completed successfully."
                    },
                    "metadata": {}
                },
                {
                    "output_type": "display_data",
                    "data": {
                        "text/html": "(1 row affected)"
                    },
                    "metadata": {}
                },
                {
                    "output_type": "display_data",
                    "data": {
                        "text/html": "Total execution time: 00:00:00.043"
                    },
                    "metadata": {}
                },
                {
                    "output_type": "execute_result",
                    "metadata": {},
                    "execution_count": 3,
                    "data": {
                        "application/vnd.dataresource+json": {
                            "schema": {
                                "fields": [
                                    {
                                        "name": "name"
                                    },
                                    {
                                        "name": "is_disabled"
                                    },
                                    {
                                        "name": "scope_type_desc"
                                    },
                                    {
                                        "name": "hints"
                                    }
                                ]
                            },
                            "data": [
                                {
                                    "0": "Vendor_Query_Loop_to_Merge",
                                    "1": "0",
                                    "2": "SQL",
                                    "3": "OPTION (MERGE JOIN)"
                                }
                            ]
                        },
                        "text/html": [
                            "<table>",
                            "<tr><th>name</th><th>is_disabled</th><th>scope_type_desc</th><th>hints</th></tr>",
                            "<tr><td>Vendor_Query_Loop_to_Merge</td><td>0</td><td>SQL</td><td>OPTION (MERGE JOIN)</td></tr>",
                            "</table>"
                        ]
                    }
                }
            ],
            "execution_count": 3
        },
        {
            "cell_type": "code",
            "source": [
                "/* drop the plan guide */\r\n",
                "USE AdventureWorks2014;\r\n",
                "GO\r\n",
                "EXEC sp_control_plan_guide N'DROP', N'Vendor_Query_Loop_to_Merge';"
            ],
            "metadata": {
                "azdata_cell_guid": "71c63dbd-76d6-4ffe-be6a-7289c02af27a"
            },
            "outputs": [
                {
                    "output_type": "display_data",
                    "data": {
                        "text/html": "Commands completed successfully."
                    },
                    "metadata": {}
                },
                {
                    "output_type": "display_data",
                    "data": {
                        "text/html": "Commands completed successfully."
                    },
                    "metadata": {}
                },
                {
                    "output_type": "display_data",
                    "data": {
                        "text/html": "Total execution time: 00:00:00.017"
                    },
                    "metadata": {}
                }
            ],
            "execution_count": 4
        }
    ]
}