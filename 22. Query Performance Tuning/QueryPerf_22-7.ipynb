{
    "metadata": {
        "kernelspec": {
            "name": "SQL",
            "display_name": "SQL",
            "language": "sql"
        },
        "language_info": {
            "name": "sql",
            "version": ""
        }
    },
    "nbformat_minor": 2,
    "nbformat": 4,
    "cells": [
        {
            "cell_type": "code",
            "source": [
                "/* 22-7 */\r\n",
                "USE AdventureWorks2014;\r\n",
                "GO \r\n",
                "SELECT  TOP 2\r\n",
                "wait_type, wait_time_ms \r\n",
                "FROM sys.dm_os_wait_stats \r\n",
                "WHERE wait_type NOT IN\r\n",
                "('LAZYWRITER_SLEEP', 'SQLTRACE_BUFFER_FLUSH', 'REQUEST_FOR_DEADLOCK_SEARCH', 'LOGMGR_QUEUE'\r\n",
                ", 'CHECKPOINT_QUEUE', 'CLR_AUTO_EVENT','WAITFOR', 'BROKER_TASK_STOP', 'SLEEP_TASK', 'BROKER_TO_FLUSH'\r\n",
                ",'HADR_FILESTREAM_IOMGR_IOCOMPLETION','SQLTRACE_INCREMENTAL_FLUSH_SLEEP','QDS_CLEANUP_STALE_QUERIES_TASK_MAIN_LOOP_SLEEP'\r\n",
                ",'DIRTY_PAGE_POLL','XE_TIMER_EVENT','QDS_PERSIST_TASK_MAIN_LOOP_SLEEP') \r\n",
                "ORDER BY wait_time_ms DESC;"
            ],
            "metadata": {
                "azdata_cell_guid": "9d910ada-e7a5-4d56-a293-0aa749d1f509"
            },
            "outputs": [
                {
                    "output_type": "display_data",
                    "data": {
                        "text/html": "Commands completed successfully."
                    },
                    "metadata": {}
                },
                {
                    "output_type": "display_data",
                    "data": {
                        "text/html": "(2 rows affected)"
                    },
                    "metadata": {}
                },
                {
                    "output_type": "display_data",
                    "data": {
                        "text/html": "Total execution time: 00:00:00.075"
                    },
                    "metadata": {}
                },
                {
                    "output_type": "execute_result",
                    "metadata": {},
                    "execution_count": 1,
                    "data": {
                        "application/vnd.dataresource+json": {
                            "schema": {
                                "fields": [
                                    {
                                        "name": "wait_type"
                                    },
                                    {
                                        "name": "wait_time_ms"
                                    }
                                ]
                            },
                            "data": [
                                {
                                    "0": "SOS_WORK_DISPATCHER",
                                    "1": "1089829216"
                                },
                                {
                                    "0": "XE_DISPATCHER_WAIT",
                                    "1": "91073011"
                                }
                            ]
                        },
                        "text/html": [
                            "<table>",
                            "<tr><th>wait_type</th><th>wait_time_ms</th></tr>",
                            "<tr><td>SOS_WORK_DISPATCHER</td><td>1089829216</td></tr>",
                            "<tr><td>XE_DISPATCHER_WAIT</td><td>91073011</td></tr>",
                            "</table>"
                        ]
                    }
                }
            ],
            "execution_count": 1
        }
    ]
}