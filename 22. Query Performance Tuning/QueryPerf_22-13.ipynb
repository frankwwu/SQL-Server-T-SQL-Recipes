{
    "metadata": {
        "kernelspec": {
            "name": "SQL",
            "display_name": "SQL",
            "language": "sql"
        },
        "language_info": {
            "name": "sql",
            "version": ""
        }
    },
    "nbformat_minor": 2,
    "nbformat": 4,
    "cells": [
        {
            "cell_type": "code",
            "source": [
                "/* 22-13 */\r\n",
                "USE AdventureWorks2014;\r\n",
                "GO\r\n",
                "SELECT pg.plan_guide_id, pg.name, v.msgnum,\r\n",
                "v.severity, v.state, v.message \r\n",
                "FROM sys.plan_guides pg \r\n",
                "CROSS APPLY sys.fn_validate_plan_guide(pg.plan_guide_id) v;"
            ],
            "metadata": {
                "azdata_cell_guid": "81daabb7-0cac-4366-a506-050e31d058c9"
            },
            "outputs": [
                {
                    "output_type": "display_data",
                    "data": {
                        "text/html": "Commands completed successfully."
                    },
                    "metadata": {}
                },
                {
                    "output_type": "display_data",
                    "data": {
                        "text/html": "(0 rows affected)"
                    },
                    "metadata": {}
                },
                {
                    "output_type": "display_data",
                    "data": {
                        "text/html": "Total execution time: 00:00:00.016"
                    },
                    "metadata": {}
                },
                {
                    "output_type": "execute_result",
                    "metadata": {},
                    "execution_count": 1,
                    "data": {
                        "application/vnd.dataresource+json": {
                            "schema": {
                                "fields": [
                                    {
                                        "name": "plan_guide_id"
                                    },
                                    {
                                        "name": "name"
                                    },
                                    {
                                        "name": "msgnum"
                                    },
                                    {
                                        "name": "severity"
                                    },
                                    {
                                        "name": "state"
                                    },
                                    {
                                        "name": "message"
                                    }
                                ]
                            },
                            "data": []
                        },
                        "text/html": [
                            "<table>",
                            "<tr><th>plan_guide_id</th><th>name</th><th>msgnum</th><th>severity</th><th>state</th><th>message</th></tr>",
                            "</table>"
                        ]
                    }
                }
            ],
            "execution_count": 1
        }
    ]
}