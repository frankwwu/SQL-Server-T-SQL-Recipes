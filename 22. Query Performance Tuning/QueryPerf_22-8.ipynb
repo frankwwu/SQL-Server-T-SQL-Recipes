{
    "metadata": {
        "kernelspec": {
            "name": "SQL",
            "display_name": "SQL",
            "language": "sql"
        },
        "language_info": {
            "name": "sql",
            "version": ""
        }
    },
    "nbformat_minor": 2,
    "nbformat": 4,
    "cells": [
        {
            "cell_type": "code",
            "source": [
                "/* 22-8 */\r\n",
                "USE master;\r\n",
                "GO \r\n",
                "SELECT DB_NAME(ifs.database_id) AS DBName,\r\n",
                "ifs.file_id AS FileID,\r\n",
                "mf.type_desc AS FileType,\r\n",
                "io_stall AS IOStallsMs,\r\n",
                "size_on_disk_bytes AS FileBytes,\r\n",
                "num_of_bytes_written AS BytesWritten,\r\n",
                "num_of_bytes_read AS BytesRead,\r\n",
                "io_stall_queued_read_ms AS RGStallReadMS,\r\n",
                "io_stall_queued_write_ms AS RGStallWriteMS\r\n",
                "FROM sys.dm_io_virtual_file_stats(NULL, NULL) ifs\r\n",
                "    Inner Join sys.master_files mf\r\n",
                "        On ifs.database_id = mf.database_id\r\n",
                "        And ifs.file_id = mf.file_id\r\n",
                "ORDER BY io_stall DESC;"
            ],
            "metadata": {
                "azdata_cell_guid": "38e6c0ca-a9a2-4519-81a1-40b3b8f3de6a"
            },
            "outputs": [
                {
                    "output_type": "display_data",
                    "data": {
                        "text/html": "Commands completed successfully."
                    },
                    "metadata": {}
                },
                {
                    "output_type": "display_data",
                    "data": {
                        "text/html": "(22 rows affected)"
                    },
                    "metadata": {}
                },
                {
                    "output_type": "display_data",
                    "data": {
                        "text/html": "Total execution time: 00:00:00.088"
                    },
                    "metadata": {}
                },
                {
                    "output_type": "execute_result",
                    "metadata": {},
                    "execution_count": 1,
                    "data": {
                        "application/vnd.dataresource+json": {
                            "schema": {
                                "fields": [
                                    {
                                        "name": "DBName"
                                    },
                                    {
                                        "name": "FileID"
                                    },
                                    {
                                        "name": "FileType"
                                    },
                                    {
                                        "name": "IOStallsMs"
                                    },
                                    {
                                        "name": "FileBytes"
                                    },
                                    {
                                        "name": "BytesWritten"
                                    },
                                    {
                                        "name": "BytesRead"
                                    },
                                    {
                                        "name": "RGStallReadMS"
                                    },
                                    {
                                        "name": "RGStallWriteMS"
                                    }
                                ]
                            },
                            "data": [
                                {
                                    "0": "TSQLRecipe_A",
                                    "1": "1",
                                    "2": "ROWS",
                                    "3": "2990",
                                    "4": "8388608",
                                    "5": "0",
                                    "6": "13737984",
                                    "7": "0",
                                    "8": "0"
                                },
                                {
                                    "0": "msdb",
                                    "1": "1",
                                    "2": "ROWS",
                                    "3": "1389",
                                    "4": "18743296",
                                    "5": "8192",
                                    "6": "18530304",
                                    "7": "0",
                                    "8": "0"
                                },
                                {
                                    "0": "AdventureWorks2014",
                                    "1": "1",
                                    "2": "ROWS",
                                    "3": "511",
                                    "4": "215220224",
                                    "5": "8192",
                                    "6": "27197440",
                                    "7": "0",
                                    "8": "0"
                                },
                                {
                                    "0": "master",
                                    "1": "1",
                                    "2": "ROWS",
                                    "3": "485",
                                    "4": "4653056",
                                    "5": "524288",
                                    "6": "21676032",
                                    "7": "0",
                                    "8": "0"
                                },
                                {
                                    "0": "Errors",
                                    "1": "1",
                                    "2": "ROWS",
                                    "3": "137",
                                    "4": "8388608",
                                    "5": "8192",
                                    "6": "8011776",
                                    "7": "0",
                                    "8": "0"
                                },
                                {
                                    "0": "AdventureWorks2014",
                                    "1": "2",
                                    "2": "LOG",
                                    "3": "115",
                                    "4": "18874368",
                                    "5": "20992",
                                    "6": "1024000",
                                    "7": "0",
                                    "8": "0"
                                },
                                {
                                    "0": "InMemory",
                                    "1": "1",
                                    "2": "ROWS",
                                    "3": "113",
                                    "4": "8388608",
                                    "5": "0",
                                    "6": "8175616",
                                    "7": "0",
                                    "8": "0"
                                },
                                {
                                    "0": "InMemory",
                                    "1": "2",
                                    "2": "LOG",
                                    "3": "108",
                                    "4": "8388608",
                                    "5": "7680",
                                    "6": "1007616",
                                    "7": "0",
                                    "8": "0"
                                },
                                {
                                    "0": "Errors",
                                    "1": "2",
                                    "2": "LOG",
                                    "3": "57",
                                    "4": "8388608",
                                    "5": "22528",
                                    "6": "1007616",
                                    "7": "0",
                                    "8": "0"
                                },
                                {
                                    "0": "tempdb",
                                    "1": "1",
                                    "2": "ROWS",
                                    "3": "57",
                                    "4": "8388608",
                                    "5": "458752",
                                    "6": "2400256",
                                    "7": "0",
                                    "8": "0"
                                },
                                {
                                    "0": "master",
                                    "1": "2",
                                    "2": "LOG",
                                    "3": "53",
                                    "4": "2097152",
                                    "5": "445952",
                                    "6": "455680",
                                    "7": "0",
                                    "8": "0"
                                },
                                {
                                    "0": "model",
                                    "1": "1",
                                    "2": "ROWS",
                                    "3": "52",
                                    "4": "8388608",
                                    "5": "8192",
                                    "6": "9404416",
                                    "7": "0",
                                    "8": "0"
                                },
                                {
                                    "0": "TSQLRecipe_A",
                                    "1": "2",
                                    "2": "LOG",
                                    "3": "34",
                                    "4": "8388608",
                                    "5": "9216",
                                    "6": "1007616",
                                    "7": "0",
                                    "8": "0"
                                },
                                {
                                    "0": "tempdb",
                                    "1": "5",
                                    "2": "ROWS",
                                    "3": "25",
                                    "4": "8388608",
                                    "5": "311296",
                                    "6": "835584",
                                    "7": "0",
                                    "8": "0"
                                },
                                {
                                    "0": "tempdb",
                                    "1": "4",
                                    "2": "ROWS",
                                    "3": "23",
                                    "4": "8388608",
                                    "5": "188416",
                                    "6": "573440",
                                    "7": "0",
                                    "8": "0"
                                },
                                {
                                    "0": "tempdb",
                                    "1": "3",
                                    "2": "ROWS",
                                    "3": "19",
                                    "4": "8388608",
                                    "5": "188416",
                                    "6": "565248",
                                    "7": "0",
                                    "8": "0"
                                },
                                {
                                    "0": "msdb",
                                    "1": "2",
                                    "2": "LOG",
                                    "3": "18",
                                    "4": "22675456",
                                    "5": "13312",
                                    "6": "344576",
                                    "7": "0",
                                    "8": "0"
                                },
                                {
                                    "0": "model",
                                    "1": "2",
                                    "2": "LOG",
                                    "3": "16",
                                    "4": "8388608",
                                    "5": "44032",
                                    "6": "102912",
                                    "7": "0",
                                    "8": "0"
                                },
                                {
                                    "0": "tempdb",
                                    "1": "2",
                                    "2": "LOG",
                                    "3": "4",
                                    "4": "8388608",
                                    "5": "86016",
                                    "6": "1007616",
                                    "7": "0",
                                    "8": "0"
                                },
                                {
                                    "0": "BookStoreArchive",
                                    "1": "1",
                                    "2": "ROWS",
                                    "3": "0",
                                    "4": "0",
                                    "5": "0",
                                    "6": "0",
                                    "7": "0",
                                    "8": "0"
                                },
                                {
                                    "0": "BookStoreArchive",
                                    "1": "2",
                                    "2": "LOG",
                                    "3": "0",
                                    "4": "0",
                                    "5": "0",
                                    "6": "0",
                                    "7": "0",
                                    "8": "0"
                                },
                                {
                                    "0": "BookStoreArchive",
                                    "1": "4",
                                    "2": "LOG",
                                    "3": "0",
                                    "4": "0",
                                    "5": "0",
                                    "6": "0",
                                    "7": "0",
                                    "8": "0"
                                }
                            ]
                        },
                        "text/html": [
                            "<table>",
                            "<tr><th>DBName</th><th>FileID</th><th>FileType</th><th>IOStallsMs</th><th>FileBytes</th><th>BytesWritten</th><th>BytesRead</th><th>RGStallReadMS</th><th>RGStallWriteMS</th></tr>",
                            "<tr><td>TSQLRecipe_A</td><td>1</td><td>ROWS</td><td>2990</td><td>8388608</td><td>0</td><td>13737984</td><td>0</td><td>0</td></tr>",
                            "<tr><td>msdb</td><td>1</td><td>ROWS</td><td>1389</td><td>18743296</td><td>8192</td><td>18530304</td><td>0</td><td>0</td></tr>",
                            "<tr><td>AdventureWorks2014</td><td>1</td><td>ROWS</td><td>511</td><td>215220224</td><td>8192</td><td>27197440</td><td>0</td><td>0</td></tr>",
                            "<tr><td>master</td><td>1</td><td>ROWS</td><td>485</td><td>4653056</td><td>524288</td><td>21676032</td><td>0</td><td>0</td></tr>",
                            "<tr><td>Errors</td><td>1</td><td>ROWS</td><td>137</td><td>8388608</td><td>8192</td><td>8011776</td><td>0</td><td>0</td></tr>",
                            "<tr><td>AdventureWorks2014</td><td>2</td><td>LOG</td><td>115</td><td>18874368</td><td>20992</td><td>1024000</td><td>0</td><td>0</td></tr>",
                            "<tr><td>InMemory</td><td>1</td><td>ROWS</td><td>113</td><td>8388608</td><td>0</td><td>8175616</td><td>0</td><td>0</td></tr>",
                            "<tr><td>InMemory</td><td>2</td><td>LOG</td><td>108</td><td>8388608</td><td>7680</td><td>1007616</td><td>0</td><td>0</td></tr>",
                            "<tr><td>Errors</td><td>2</td><td>LOG</td><td>57</td><td>8388608</td><td>22528</td><td>1007616</td><td>0</td><td>0</td></tr>",
                            "<tr><td>tempdb</td><td>1</td><td>ROWS</td><td>57</td><td>8388608</td><td>458752</td><td>2400256</td><td>0</td><td>0</td></tr>",
                            "<tr><td>master</td><td>2</td><td>LOG</td><td>53</td><td>2097152</td><td>445952</td><td>455680</td><td>0</td><td>0</td></tr>",
                            "<tr><td>model</td><td>1</td><td>ROWS</td><td>52</td><td>8388608</td><td>8192</td><td>9404416</td><td>0</td><td>0</td></tr>",
                            "<tr><td>TSQLRecipe_A</td><td>2</td><td>LOG</td><td>34</td><td>8388608</td><td>9216</td><td>1007616</td><td>0</td><td>0</td></tr>",
                            "<tr><td>tempdb</td><td>5</td><td>ROWS</td><td>25</td><td>8388608</td><td>311296</td><td>835584</td><td>0</td><td>0</td></tr>",
                            "<tr><td>tempdb</td><td>4</td><td>ROWS</td><td>23</td><td>8388608</td><td>188416</td><td>573440</td><td>0</td><td>0</td></tr>",
                            "<tr><td>tempdb</td><td>3</td><td>ROWS</td><td>19</td><td>8388608</td><td>188416</td><td>565248</td><td>0</td><td>0</td></tr>",
                            "<tr><td>msdb</td><td>2</td><td>LOG</td><td>18</td><td>22675456</td><td>13312</td><td>344576</td><td>0</td><td>0</td></tr>",
                            "<tr><td>model</td><td>2</td><td>LOG</td><td>16</td><td>8388608</td><td>44032</td><td>102912</td><td>0</td><td>0</td></tr>",
                            "<tr><td>tempdb</td><td>2</td><td>LOG</td><td>4</td><td>8388608</td><td>86016</td><td>1007616</td><td>0</td><td>0</td></tr>",
                            "<tr><td>BookStoreArchive</td><td>1</td><td>ROWS</td><td>0</td><td>0</td><td>0</td><td>0</td><td>0</td><td>0</td></tr>",
                            "<tr><td>BookStoreArchive</td><td>2</td><td>LOG</td><td>0</td><td>0</td><td>0</td><td>0</td><td>0</td><td>0</td></tr>",
                            "<tr><td>BookStoreArchive</td><td>4</td><td>LOG</td><td>0</td><td>0</td><td>0</td><td>0</td><td>0</td><td>0</td></tr>",
                            "</table>"
                        ]
                    }
                }
            ],
            "execution_count": 1
        }
    ]
}