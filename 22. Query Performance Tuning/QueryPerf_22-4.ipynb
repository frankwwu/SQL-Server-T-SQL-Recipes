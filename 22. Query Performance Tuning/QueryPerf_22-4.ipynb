{
    "metadata": {
        "kernelspec": {
            "name": "SQL",
            "display_name": "SQL",
            "language": "sql"
        },
        "language_info": {
            "name": "sql",
            "version": ""
        }
    },
    "nbformat_minor": 2,
    "nbformat": 4,
    "cells": [
        {
            "cell_type": "code",
            "source": [
                "/* 22-4 */\r\n",
                "DBCC FREEPROCCACHE;\r\n",
                "GO\r\n",
                "USE AdventureWorks2014;\r\n",
                "GO\r\n",
                "SELECT BusinessEntityID, TerritoryID, SalesQuota\r\n",
                "FROM Sales.SalesPerson;"
            ],
            "metadata": {
                "azdata_cell_guid": "fa690e15-2619-46e9-ab09-3ddf96cdc897"
            },
            "outputs": [
                {
                    "output_type": "display_data",
                    "data": {
                        "text/html": "DBCC execution completed. If DBCC printed error messages, contact your system administrator."
                    },
                    "metadata": {}
                },
                {
                    "output_type": "display_data",
                    "data": {
                        "text/html": "Commands completed successfully."
                    },
                    "metadata": {}
                },
                {
                    "output_type": "display_data",
                    "data": {
                        "text/html": "(17 rows affected)"
                    },
                    "metadata": {}
                },
                {
                    "output_type": "display_data",
                    "data": {
                        "text/html": "Total execution time: 00:00:00.305"
                    },
                    "metadata": {}
                },
                {
                    "output_type": "execute_result",
                    "metadata": {},
                    "execution_count": 1,
                    "data": {
                        "application/vnd.dataresource+json": {
                            "schema": {
                                "fields": [
                                    {
                                        "name": "BusinessEntityID"
                                    },
                                    {
                                        "name": "TerritoryID"
                                    },
                                    {
                                        "name": "SalesQuota"
                                    }
                                ]
                            },
                            "data": [
                                {
                                    "0": "274",
                                    "1": "NULL",
                                    "2": "NULL"
                                },
                                {
                                    "0": "275",
                                    "1": "2",
                                    "2": "300000.0000"
                                },
                                {
                                    "0": "276",
                                    "1": "4",
                                    "2": "250000.0000"
                                },
                                {
                                    "0": "277",
                                    "1": "3",
                                    "2": "250000.0000"
                                },
                                {
                                    "0": "278",
                                    "1": "6",
                                    "2": "250000.0000"
                                },
                                {
                                    "0": "279",
                                    "1": "5",
                                    "2": "300000.0000"
                                },
                                {
                                    "0": "280",
                                    "1": "1",
                                    "2": "250000.0000"
                                },
                                {
                                    "0": "281",
                                    "1": "4",
                                    "2": "250000.0000"
                                },
                                {
                                    "0": "282",
                                    "1": "6",
                                    "2": "250000.0000"
                                },
                                {
                                    "0": "283",
                                    "1": "1",
                                    "2": "250000.0000"
                                },
                                {
                                    "0": "284",
                                    "1": "1",
                                    "2": "300000.0000"
                                },
                                {
                                    "0": "285",
                                    "1": "NULL",
                                    "2": "NULL"
                                },
                                {
                                    "0": "286",
                                    "1": "9",
                                    "2": "250000.0000"
                                },
                                {
                                    "0": "287",
                                    "1": "NULL",
                                    "2": "NULL"
                                },
                                {
                                    "0": "288",
                                    "1": "8",
                                    "2": "250000.0000"
                                },
                                {
                                    "0": "289",
                                    "1": "10",
                                    "2": "250000.0000"
                                },
                                {
                                    "0": "290",
                                    "1": "7",
                                    "2": "250000.0000"
                                }
                            ]
                        },
                        "text/html": [
                            "<table>",
                            "<tr><th>BusinessEntityID</th><th>TerritoryID</th><th>SalesQuota</th></tr>",
                            "<tr><td>274</td><td>NULL</td><td>NULL</td></tr>",
                            "<tr><td>275</td><td>2</td><td>300000.0000</td></tr>",
                            "<tr><td>276</td><td>4</td><td>250000.0000</td></tr>",
                            "<tr><td>277</td><td>3</td><td>250000.0000</td></tr>",
                            "<tr><td>278</td><td>6</td><td>250000.0000</td></tr>",
                            "<tr><td>279</td><td>5</td><td>300000.0000</td></tr>",
                            "<tr><td>280</td><td>1</td><td>250000.0000</td></tr>",
                            "<tr><td>281</td><td>4</td><td>250000.0000</td></tr>",
                            "<tr><td>282</td><td>6</td><td>250000.0000</td></tr>",
                            "<tr><td>283</td><td>1</td><td>250000.0000</td></tr>",
                            "<tr><td>284</td><td>1</td><td>300000.0000</td></tr>",
                            "<tr><td>285</td><td>NULL</td><td>NULL</td></tr>",
                            "<tr><td>286</td><td>9</td><td>250000.0000</td></tr>",
                            "<tr><td>287</td><td>NULL</td><td>NULL</td></tr>",
                            "<tr><td>288</td><td>8</td><td>250000.0000</td></tr>",
                            "<tr><td>289</td><td>10</td><td>250000.0000</td></tr>",
                            "<tr><td>290</td><td>7</td><td>250000.0000</td></tr>",
                            "</table>"
                        ]
                    }
                }
            ],
            "execution_count": 1
        },
        {
            "cell_type": "code",
            "source": [
                "USE AdventureWorks2014;\r\n",
                "GO\r\n",
                "SELECT  t.text,\r\n",
                "st.total_logical_reads,\r\n",
                "st.total_physical_reads,\r\n",
                "st.total_elapsed_time/1000000 Total_Time_Secs,\r\n",
                "st.total_logical_writes \r\n",
                "FROM sys.dm_exec_query_stats st \r\n",
                "CROSS APPLY sys.dm_exec_sql_text(st.sql_handle) t;"
            ],
            "metadata": {
                "azdata_cell_guid": "8c1373dd-e1b8-48d3-979a-6b32d82a3ac3"
            },
            "outputs": [
                {
                    "output_type": "display_data",
                    "data": {
                        "text/html": "Commands completed successfully."
                    },
                    "metadata": {}
                },
                {
                    "output_type": "display_data",
                    "data": {
                        "text/html": "(0 rows affected)"
                    },
                    "metadata": {}
                },
                {
                    "output_type": "execute_result",
                    "metadata": {},
                    "execution_count": 2,
                    "data": {
                        "application/vnd.dataresource+json": {
                            "schema": {
                                "fields": [
                                    {
                                        "name": "text"
                                    },
                                    {
                                        "name": "total_logical_reads"
                                    },
                                    {
                                        "name": "total_physical_reads"
                                    },
                                    {
                                        "name": "Total_Time_Secs"
                                    },
                                    {
                                        "name": "total_logical_writes"
                                    }
                                ]
                            },
                            "data": []
                        },
                        "text/html": [
                            "<table>",
                            "<tr><th>text</th><th>total_logical_reads</th><th>total_physical_reads</th><th>Total_Time_Secs</th><th>total_logical_writes</th></tr>",
                            "</table>"
                        ]
                    }
                },
                {
                    "output_type": "display_data",
                    "data": {
                        "text/html": "Total execution time: 00:00:00.117"
                    },
                    "metadata": {}
                }
            ],
            "execution_count": 2
        }
    ]
}