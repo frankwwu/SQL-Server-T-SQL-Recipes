{
    "metadata": {
        "kernelspec": {
            "name": "SQL",
            "display_name": "SQL",
            "language": "sql"
        },
        "language_info": {
            "name": "sql",
            "version": ""
        }
    },
    "nbformat_minor": 2,
    "nbformat": 4,
    "cells": [
        {
            "cell_type": "code",
            "source": [
                "/* 22-12 */\r\n",
                "USE AdventureWorks2014;\r\n",
                "GO\r\n",
                "SELECT\r\n",
                "p.Title,\r\n",
                "p.FirstName,\r\n",
                "p.MiddleName,\r\n",
                "p.LastName \r\n",
                "FROM HumanResources.Employee e \r\n",
                "INNER JOIN Person.Person p\r\n",
                "ON p.BusinessEntityID = e.BusinessEntityID \r\n",
                "WHERE Title = 'Ms.';\r\n",
                "GO"
            ],
            "metadata": {
                "azdata_cell_guid": "9f401fdd-da62-4293-bd9c-acc6ab0fe20a"
            },
            "outputs": [
                {
                    "output_type": "display_data",
                    "data": {
                        "text/html": "Commands completed successfully."
                    },
                    "metadata": {}
                },
                {
                    "output_type": "display_data",
                    "data": {
                        "text/html": "(3 rows affected)"
                    },
                    "metadata": {}
                },
                {
                    "output_type": "display_data",
                    "data": {
                        "text/html": "Total execution time: 00:00:00.420"
                    },
                    "metadata": {}
                },
                {
                    "output_type": "execute_result",
                    "metadata": {},
                    "execution_count": 1,
                    "data": {
                        "application/vnd.dataresource+json": {
                            "schema": {
                                "fields": [
                                    {
                                        "name": "Title"
                                    },
                                    {
                                        "name": "FirstName"
                                    },
                                    {
                                        "name": "MiddleName"
                                    },
                                    {
                                        "name": "LastName"
                                    }
                                ]
                            },
                            "data": [
                                {
                                    "0": "Ms.",
                                    "1": "Jill",
                                    "2": "A",
                                    "3": "Williams"
                                },
                                {
                                    "0": "Ms.",
                                    "1": "Janice",
                                    "2": "M",
                                    "3": "Galvin"
                                },
                                {
                                    "0": "Ms.",
                                    "1": "Gail",
                                    "2": "A",
                                    "3": "Erickson"
                                }
                            ]
                        },
                        "text/html": [
                            "<table>",
                            "<tr><th>Title</th><th>FirstName</th><th>MiddleName</th><th>LastName</th></tr>",
                            "<tr><td>Ms.</td><td>Jill</td><td>A</td><td>Williams</td></tr>",
                            "<tr><td>Ms.</td><td>Janice</td><td>M</td><td>Galvin</td></tr>",
                            "<tr><td>Ms.</td><td>Gail</td><td>A</td><td>Erickson</td></tr>",
                            "</table>"
                        ]
                    }
                }
            ],
            "execution_count": 1
        },
        {
            "cell_type": "code",
            "source": [
                "/* get the plan_handle */\r\n",
                "USE AdventureWorks2014;\r\n",
                "GO\r\n",
                "SELECT plan_handle \r\n",
                "FROM sys.dm_exec_query_stats qs \r\n",
                "CROSS APPLY sys.dm_exec_sql_text(plan_handle) t \r\n",
                "WHERE t.text LIKE 'SELECT%p.Title%' \r\n",
                "AND t.text LIKE '%Ms%';"
            ],
            "metadata": {
                "azdata_cell_guid": "78ae7b11-1433-4c6f-8e63-e9df19851f51"
            },
            "outputs": [
                {
                    "output_type": "display_data",
                    "data": {
                        "text/html": "Commands completed successfully."
                    },
                    "metadata": {}
                },
                {
                    "output_type": "display_data",
                    "data": {
                        "text/html": "(1 row affected)"
                    },
                    "metadata": {}
                },
                {
                    "output_type": "display_data",
                    "data": {
                        "text/html": "Total execution time: 00:00:00.995"
                    },
                    "metadata": {}
                },
                {
                    "output_type": "execute_result",
                    "metadata": {},
                    "execution_count": 2,
                    "data": {
                        "application/vnd.dataresource+json": {
                            "schema": {
                                "fields": [
                                    {
                                        "name": "plan_handle"
                                    }
                                ]
                            },
                            "data": [
                                {
                                    "0": "0x06000500AEC42626D062DA6A8701000001000000000000000000000000000000000000000000000000000000"
                                }
                            ]
                        },
                        "text/html": [
                            "<table>",
                            "<tr><th>plan_handle</th></tr>",
                            "<tr><td>0x06000500AEC42626D062DA6A8701000001000000000000000000000000000000000000000000000000000000</td></tr>",
                            "</table>"
                        ]
                    }
                }
            ],
            "execution_count": 2
        },
        {
            "cell_type": "code",
            "source": [
                "/* Now create the plan guide */\r\n",
                "EXEC sp_create_plan_guide_from_handle 'PlanGuide_EmployeeContact', \r\n",
                "@plan_handle = 0x06000800AEC42626F0F03B020100000001000000000000000000000000000000000000000000000000000000, \r\n",
                "@statement_start_offset = NULL;"
            ],
            "metadata": {
                "azdata_cell_guid": "0d29a036-247c-488a-af3d-e885db3ba8b0"
            },
            "outputs": [
                {
                    "output_type": "error",
                    "evalue": "Msg 10535, Level 16, State 1, Procedure sp_create_plan_guide_from_handle, Line 9\r\nCannot create plan guide 'PlanGuide_EmployeeContact' because a plan was not found in the plan cache that corresponds to the specified plan handle. Specify a cached plan handle. For a list of cached plan handles, query the sys.dm_exec_query_stats dynamic management view.",
                    "ename": "",
                    "traceback": []
                },
                {
                    "output_type": "display_data",
                    "data": {
                        "text/html": "Total execution time: 00:00:00.031"
                    },
                    "metadata": {}
                }
            ],
            "execution_count": 3
        },
        {
            "cell_type": "code",
            "source": [
                "/* confirm it was created */\r\n",
                "USE AdventureWorks2014;\r\n",
                "GO\r\n",
                "SELECT name, query_text, hints \r\n",
                "FROM sys.plan_guides;"
            ],
            "metadata": {
                "azdata_cell_guid": "579af712-8bd8-4aeb-867b-7898cea6e5c3"
            },
            "outputs": [
                {
                    "output_type": "display_data",
                    "data": {
                        "text/html": "Commands completed successfully."
                    },
                    "metadata": {}
                },
                {
                    "output_type": "display_data",
                    "data": {
                        "text/html": "(0 rows affected)"
                    },
                    "metadata": {}
                },
                {
                    "output_type": "display_data",
                    "data": {
                        "text/html": "Total execution time: 00:00:00.023"
                    },
                    "metadata": {}
                },
                {
                    "output_type": "execute_result",
                    "metadata": {},
                    "execution_count": 4,
                    "data": {
                        "application/vnd.dataresource+json": {
                            "schema": {
                                "fields": [
                                    {
                                        "name": "name"
                                    },
                                    {
                                        "name": "query_text"
                                    },
                                    {
                                        "name": "hints"
                                    }
                                ]
                            },
                            "data": []
                        },
                        "text/html": [
                            "<table>",
                            "<tr><th>name</th><th>query_text</th><th>hints</th></tr>",
                            "</table>"
                        ]
                    }
                }
            ],
            "execution_count": 4
        }
    ]
}