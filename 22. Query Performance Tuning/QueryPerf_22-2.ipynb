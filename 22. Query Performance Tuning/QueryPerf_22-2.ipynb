{
    "metadata": {
        "kernelspec": {
            "name": "SQL",
            "display_name": "SQL",
            "language": "sql"
        },
        "language_info": {
            "name": "sql",
            "version": ""
        }
    },
    "nbformat_minor": 2,
    "nbformat": 4,
    "cells": [
        {
            "cell_type": "code",
            "source": [
                "/* 22-2 */\r\n",
                "USE AdventureWorks2014;\r\n",
                "GO\r\n",
                "SET SHOWPLAN_TEXT ON;\r\n",
                "GO\r\n",
                "SELECT p.Name, p.ProductNumber, r.ReviewerName\r\n",
                "FROM Production.Product p\r\n",
                "INNER JOIN Production.ProductReview r \r\n",
                "ON p.ProductID = r.ProductID \r\n",
                "WHERE r.Rating > 2;\r\n",
                "GO\r\n",
                "SET SHOWPLAN_TEXT OFF;\r\n",
                "GO"
            ],
            "metadata": {
                "azdata_cell_guid": "de755749-468e-4178-9f60-96bf984cfee8"
            },
            "outputs": [
                {
                    "output_type": "display_data",
                    "data": {
                        "text/html": "Commands completed successfully."
                    },
                    "metadata": {}
                },
                {
                    "output_type": "display_data",
                    "data": {
                        "text/html": "Commands completed successfully."
                    },
                    "metadata": {}
                },
                {
                    "output_type": "display_data",
                    "data": {
                        "text/html": "(1 row affected)"
                    },
                    "metadata": {}
                },
                {
                    "output_type": "display_data",
                    "data": {
                        "text/html": "(3 rows affected)"
                    },
                    "metadata": {}
                },
                {
                    "output_type": "display_data",
                    "data": {
                        "text/html": "Commands completed successfully."
                    },
                    "metadata": {}
                },
                {
                    "output_type": "display_data",
                    "data": {
                        "text/html": "Total execution time: 00:00:00.191"
                    },
                    "metadata": {}
                },
                {
                    "output_type": "execute_result",
                    "metadata": {},
                    "execution_count": 1,
                    "data": {
                        "application/vnd.dataresource+json": {
                            "schema": {
                                "fields": [
                                    {
                                        "name": "StmtText"
                                    }
                                ]
                            },
                            "data": [
                                {
                                    "0": "SELECT p.Name, p.ProductNumber, r.ReviewerName\r\nFROM Production.Product p\r\nINNER JOIN Production.ProductReview r \r\nON p.ProductID = r.ProductID \r\nWHERE r.Rating > 2;"
                                }
                            ]
                        },
                        "text/html": [
                            "<table>",
                            "<tr><th>StmtText</th></tr>",
                            "<tr><td>SELECT p.Name, p.ProductNumber, r.ReviewerName\r\nFROM Production.Product p\r\nINNER JOIN Production.ProductReview r \r\nON p.ProductID = r.ProductID \r\nWHERE r.Rating &gt; 2;</td></tr>",
                            "</table>"
                        ]
                    }
                },
                {
                    "output_type": "execute_result",
                    "metadata": {},
                    "execution_count": 1,
                    "data": {
                        "application/vnd.dataresource+json": {
                            "schema": {
                                "fields": [
                                    {
                                        "name": "StmtText"
                                    }
                                ]
                            },
                            "data": [
                                {
                                    "0": "  |--Nested Loops(Inner Join, OUTER REFERENCES:([r].[ProductID]))"
                                },
                                {
                                    "0": "       |--Clustered Index Scan(OBJECT:([AdventureWorks2014].[Production].[ProductReview].[PK_ProductReview_ProductReviewID] AS [r]), WHERE:([AdventureWorks2014].[Production].[ProductReview].[Rating] as [r].[Rating]>(2)))"
                                },
                                {
                                    "0": "       |--Clustered Index Seek(OBJECT:([AdventureWorks2014].[Production].[Product].[PK_Product_ProductID] AS [p]), SEEK:([p].[ProductID]=[AdventureWorks2014].[Production].[ProductReview].[ProductID] as [r].[ProductID]) ORDERED FORWARD)"
                                }
                            ]
                        },
                        "text/html": [
                            "<table>",
                            "<tr><th>StmtText</th></tr>",
                            "<tr><td>  |--Nested Loops(Inner Join, OUTER REFERENCES:([r].[ProductID]))</td></tr>",
                            "<tr><td>       |--Clustered Index Scan(OBJECT:([AdventureWorks2014].[Production].[ProductReview].[PK_ProductReview_ProductReviewID] AS [r]), WHERE:([AdventureWorks2014].[Production].[ProductReview].[Rating] as [r].[Rating]&gt;(2)))</td></tr>",
                            "<tr><td>       |--Clustered Index Seek(OBJECT:([AdventureWorks2014].[Production].[Product].[PK_Product_ProductID] AS [p]), SEEK:([p].[ProductID]=[AdventureWorks2014].[Production].[ProductReview].[ProductID] as [r].[ProductID]) ORDERED FORWARD)</td></tr>",
                            "</table>"
                        ]
                    }
                }
            ],
            "execution_count": 1
        },
        {
            "cell_type": "code",
            "source": [
                "/* XML Format */\r\n",
                "USE AdventureWorks2014;\r\n",
                "GO\r\n",
                "SET SHOWPLAN_XML ON;\r\n",
                "GO\r\n",
                "SELECT p.Name, p.ProductNumber, r.ReviewerName\r\n",
                "FROM Production.Product p\r\n",
                "INNER JOIN Production.ProductReview r \r\n",
                "ON p.ProductID = r.ProductID \r\n",
                "WHERE r.Rating > 2;\r\n",
                "GO\r\n",
                "SET SHOWPLAN_XML OFF;\r\n",
                "GO"
            ],
            "metadata": {
                "azdata_cell_guid": "8bced9e7-cce8-4d95-ab8f-2b0c3896a6c1"
            },
            "outputs": [
                {
                    "output_type": "display_data",
                    "data": {
                        "text/html": "Commands completed successfully."
                    },
                    "metadata": {}
                },
                {
                    "output_type": "display_data",
                    "data": {
                        "text/html": "Commands completed successfully."
                    },
                    "metadata": {}
                },
                {
                    "output_type": "display_data",
                    "data": {
                        "text/html": "(1 row affected)"
                    },
                    "metadata": {}
                },
                {
                    "output_type": "display_data",
                    "data": {
                        "text/html": "Commands completed successfully."
                    },
                    "metadata": {}
                },
                {
                    "output_type": "display_data",
                    "data": {
                        "text/html": "Total execution time: 00:00:00.041"
                    },
                    "metadata": {}
                },
                {
                    "output_type": "execute_result",
                    "metadata": {},
                    "execution_count": 2,
                    "data": {
                        "application/vnd.dataresource+json": {
                            "schema": {
                                "fields": [
                                    {
                                        "name": "Microsoft SQL Server 2005 XML Showplan"
                                    }
                                ]
                            },
                            "data": [
                                {
                                    "0": "<ShowPlanXML xmlns=\"http://schemas.microsoft.com/sqlserver/2004/07/showplan\" Version=\"1.539\" Build=\"15.0.2070.41\"><BatchSequence><Batch><Statements><StmtSimple StatementText=\"SELECT p.Name, p.ProductNumber, r.ReviewerName&#xd;&#xa;FROM Production.Product p&#xd;&#xa;INNER JOIN Production.ProductReview r &#xd;&#xa;ON p.ProductID = r.ProductID &#xd;&#xa;WHERE r.Rating &gt; 2\" StatementId=\"1\" StatementCompId=\"1\" StatementType=\"SELECT\" RetrievedFromCache=\"false\" StatementSubTreeCost=\"0.0099657\" StatementEstRows=\"3\" SecurityPolicyApplied=\"false\" StatementOptmLevel=\"FULL\" QueryHash=\"0x52A878847A9FF8C5\" QueryPlanHash=\"0x8C66F4D03E9343EF\" StatementOptmEarlyAbortReason=\"GoodEnoughPlanFound\" CardinalityEstimationModelVersion=\"120\"><StatementSetOptions QUOTED_IDENTIFIER=\"true\" ARITHABORT=\"true\" CONCAT_NULL_YIELDS_NULL=\"true\" ANSI_NULLS=\"true\" ANSI_PADDING=\"true\" ANSI_WARNINGS=\"true\" NUMERIC_ROUNDABORT=\"false\"></StatementSetOptions><QueryPlan CachedPlanSize=\"24\" CompileTime=\"5\" CompileCPU=\"5\" CompileMemory=\"328\"><MemoryGrantInfo SerialRequiredMemory=\"0\" SerialDesiredMemory=\"0\" GrantedMemory=\"0\" MaxUsedMemory=\"0\"></MemoryGrantInfo><OptimizerHardwareDependentProperties EstimatedAvailableMemoryGrant=\"201719\" EstimatedPagesCached=\"50429\" EstimatedAvailableDegreeOfParallelism=\"2\" MaxCompileMemory=\"1238368\"></OptimizerHardwareDependentProperties><OptimizerStatsUsage><StatisticsInfo LastUpdate=\"2014-07-17T16:11:30.19\" ModificationCount=\"0\" SamplingPercent=\"100\" Statistics=\"[PK_Product_ProductID]\" Table=\"[Product]\" Schema=\"[Production]\" Database=\"[AdventureWorks2014]\"></StatisticsInfo><StatisticsInfo LastUpdate=\"2014-07-17T16:11:31.88\" ModificationCount=\"0\" SamplingPercent=\"100\" Statistics=\"[IX_ProductReview_ProductID_Name]\" Table=\"[ProductReview]\" Schema=\"[Production]\" Database=\"[AdventureWorks2014]\"></StatisticsInfo><StatisticsInfo LastUpdate=\"2020-09-22T19:44:13.09\" ModificationCount=\"0\" SamplingPercent=\"100\" Statistics=\"[_WA_Sys_00000006_245D67DE]\" Table=\"[ProductReview]\" Schema=\"[Production]\" Database=\"[AdventureWorks2014]\"></StatisticsInfo><StatisticsInfo LastUpdate=\"2014-07-17T16:11:30.30\" ModificationCount=\"0\" SamplingPercent=\"100\" Statistics=\"[PK_ProductReview_ProductReviewID]\" Table=\"[ProductReview]\" Schema=\"[Production]\" Database=\"[AdventureWorks2014]\"></StatisticsInfo></OptimizerStatsUsage><RelOp NodeId=\"0\" PhysicalOp=\"Nested Loops\" LogicalOp=\"Inner Join\" EstimateRows=\"3\" EstimateIO=\"0\" EstimateCPU=\"1.254e-05\" AvgRowSize=\"140\" EstimatedTotalSubtreeCost=\"0.0099657\" Parallel=\"0\" EstimateRebinds=\"0\" EstimateRewinds=\"0\" EstimatedExecutionMode=\"Row\"><OutputList><ColumnReference Database=\"[AdventureWorks2014]\" Schema=\"[Production]\" Table=\"[Product]\" Alias=\"[p]\" Column=\"Name\"></ColumnReference><ColumnReference Database=\"[AdventureWorks2014]\" Schema=\"[Production]\" Table=\"[Product]\" Alias=\"[p]\" Column=\"ProductNumber\"></ColumnReference><ColumnReference Database=\"[AdventureWorks2014]\" Schema=\"[Production]\" Table=\"[ProductReview]\" Alias=\"[r]\" Column=\"ReviewerName\"></ColumnReference></OutputList><NestedLoops Optimized=\"0\"><OuterReferences><ColumnReference Database=\"[AdventureWorks2014]\" Schema=\"[Production]\" Table=\"[ProductReview]\" Alias=\"[r]\" Column=\"ProductID\"></ColumnReference></OuterReferences><RelOp NodeId=\"1\" PhysicalOp=\"Clustered Index Scan\" LogicalOp=\"Clustered Index Scan\" EstimateRows=\"3\" EstimatedRowsRead=\"4\" EstimateIO=\"0.00386574\" EstimateCPU=\"0.0001614\" AvgRowSize=\"69\" EstimatedTotalSubtreeCost=\"0.00402714\" TableCardinality=\"4\" Parallel=\"0\" EstimateRebinds=\"0\" EstimateRewinds=\"0\" EstimatedExecutionMode=\"Row\"><OutputList><ColumnReference Database=\"[AdventureWorks2014]\" Schema=\"[Production]\" Table=\"[ProductReview]\" Alias=\"[r]\" Column=\"ProductID\"></ColumnReference><ColumnReference Database=\"[AdventureWorks2014]\" Schema=\"[Production]\" Table=\"[ProductReview]\" Alias=\"[r]\" Column=\"ReviewerName\"></ColumnReference></OutputList><IndexScan Ordered=\"0\" ForcedIndex=\"0\" ForceScan=\"0\" NoExpandHint=\"0\" Storage=\"RowStore\"><DefinedValues><DefinedValue><ColumnReference Database=\"[AdventureWorks2014]\" Schema=\"[Production]\" Table=\"[ProductReview]\" Alias=\"[r]\" Column=\"ProductID\"></ColumnReference></DefinedValue><DefinedValue><ColumnReference Database=\"[AdventureWorks2014]\" Schema=\"[Production]\" Table=\"[ProductReview]\" Alias=\"[r]\" Column=\"ReviewerName\"></ColumnReference></DefinedValue></DefinedValues><Object Database=\"[AdventureWorks2014]\" Schema=\"[Production]\" Table=\"[ProductReview]\" Index=\"[PK_ProductReview_ProductReviewID]\" Alias=\"[r]\" IndexKind=\"Clustered\" Storage=\"RowStore\"></Object><Predicate><ScalarOperator ScalarString=\"[AdventureWorks2014].[Production].[ProductReview].[Rating] as [r].[Rating]&gt;(2)\"><Compare CompareOp=\"GT\"><ScalarOperator><Identifier><ColumnReference Database=\"[AdventureWorks2014]\" Schema=\"[Production]\" Table=\"[ProductReview]\" Alias=\"[r]\" Column=\"Rating\"></ColumnReference></Identifier></ScalarOperator><ScalarOperator><Const ConstValue=\"(2)\"></Const></ScalarOperator></Compare></ScalarOperator></Predicate></IndexScan></RelOp><RelOp NodeId=\"2\" PhysicalOp=\"Clustered Index Seek\" LogicalOp=\"Clustered Index Seek\" EstimateRows=\"1\" EstimatedRowsRead=\"1\" EstimateIO=\"0.003125\" EstimateCPU=\"0.0001581\" AvgRowSize=\"88\" EstimatedTotalSubtreeCost=\"0.0059241\" TableCardinality=\"504\" Parallel=\"0\" EstimateRebinds=\"1.75\" EstimateRewinds=\"0.25\" EstimatedExecutionMode=\"Row\"><OutputList><ColumnReference Database=\"[AdventureWorks2014]\" Schema=\"[Production]\" Table=\"[Product]\" Alias=\"[p]\" Column=\"Name\"></ColumnReference><ColumnReference Database=\"[AdventureWorks2014]\" Schema=\"[Production]\" Table=\"[Product]\" Alias=\"[p]\" Column=\"ProductNumber\"></ColumnReference></OutputList><IndexScan Ordered=\"1\" ScanDirection=\"FORWARD\" ForcedIndex=\"0\" ForceSeek=\"0\" ForceScan=\"0\" NoExpandHint=\"0\" Storage=\"RowStore\"><DefinedValues><DefinedValue><ColumnReference Database=\"[AdventureWorks2014]\" Schema=\"[Production]\" Table=\"[Product]\" Alias=\"[p]\" Column=\"Name\"></ColumnReference></DefinedValue><DefinedValue><ColumnReference Database=\"[AdventureWorks2014]\" Schema=\"[Production]\" Table=\"[Product]\" Alias=\"[p]\" Column=\"ProductNumber\"></ColumnReference></DefinedValue></DefinedValues><Object Database=\"[AdventureWorks2014]\" Schema=\"[Production]\" Table=\"[Product]\" Index=\"[PK_Product_ProductID]\" Alias=\"[p]\" IndexKind=\"Clustered\" Storage=\"RowStore\"></Object><SeekPredicates><SeekPredicateNew><SeekKeys><Prefix ScanType=\"EQ\"><RangeColumns><ColumnReference Database=\"[AdventureWorks2014]\" Schema=\"[Production]\" Table=\"[Product]\" Alias=\"[p]\" Column=\"ProductID\"></ColumnReference></RangeColumns><RangeExpressions><ScalarOperator ScalarString=\"[AdventureWorks2014].[Production].[ProductReview].[ProductID] as [r].[ProductID]\"><Identifier><ColumnReference Database=\"[AdventureWorks2014]\" Schema=\"[Production]\" Table=\"[ProductReview]\" Alias=\"[r]\" Column=\"ProductID\"></ColumnReference></Identifier></ScalarOperator></RangeExpressions></Prefix></SeekKeys></SeekPredicateNew></SeekPredicates></IndexScan></RelOp></NestedLoops></RelOp></QueryPlan></StmtSimple></Statements></Batch></BatchSequence></ShowPlanXML>"
                                }
                            ]
                        },
                        "text/html": [
                            "<table>",
                            "<tr><th>Microsoft SQL Server 2005 XML Showplan</th></tr>",
                            "<tr><td>&lt;ShowPlanXML xmlns=&quot;http://schemas.microsoft.com/sqlserver/2004/07/showplan&quot; Version=&quot;1.539&quot; Build=&quot;15.0.2070.41&quot;&gt;&lt;BatchSequence&gt;&lt;Batch&gt;&lt;Statements&gt;&lt;StmtSimple StatementText=&quot;SELECT p.Name, p.ProductNumber, r.ReviewerName&amp;#xd;&amp;#xa;FROM Production.Product p&amp;#xd;&amp;#xa;INNER JOIN Production.ProductReview r &amp;#xd;&amp;#xa;ON p.ProductID = r.ProductID &amp;#xd;&amp;#xa;WHERE r.Rating &amp;gt; 2&quot; StatementId=&quot;1&quot; StatementCompId=&quot;1&quot; StatementType=&quot;SELECT&quot; RetrievedFromCache=&quot;false&quot; StatementSubTreeCost=&quot;0.0099657&quot; StatementEstRows=&quot;3&quot; SecurityPolicyApplied=&quot;false&quot; StatementOptmLevel=&quot;FULL&quot; QueryHash=&quot;0x52A878847A9FF8C5&quot; QueryPlanHash=&quot;0x8C66F4D03E9343EF&quot; StatementOptmEarlyAbortReason=&quot;GoodEnoughPlanFound&quot; CardinalityEstimationModelVersion=&quot;120&quot;&gt;&lt;StatementSetOptions QUOTED_IDENTIFIER=&quot;true&quot; ARITHABORT=&quot;true&quot; CONCAT_NULL_YIELDS_NULL=&quot;true&quot; ANSI_NULLS=&quot;true&quot; ANSI_PADDING=&quot;true&quot; ANSI_WARNINGS=&quot;true&quot; NUMERIC_ROUNDABORT=&quot;false&quot;&gt;&lt;/StatementSetOptions&gt;&lt;QueryPlan CachedPlanSize=&quot;24&quot; CompileTime=&quot;5&quot; CompileCPU=&quot;5&quot; CompileMemory=&quot;328&quot;&gt;&lt;MemoryGrantInfo SerialRequiredMemory=&quot;0&quot; SerialDesiredMemory=&quot;0&quot; GrantedMemory=&quot;0&quot; MaxUsedMemory=&quot;0&quot;&gt;&lt;/MemoryGrantInfo&gt;&lt;OptimizerHardwareDependentProperties EstimatedAvailableMemoryGrant=&quot;201719&quot; EstimatedPagesCached=&quot;50429&quot; EstimatedAvailableDegreeOfParallelism=&quot;2&quot; MaxCompileMemory=&quot;1238368&quot;&gt;&lt;/OptimizerHardwareDependentProperties&gt;&lt;OptimizerStatsUsage&gt;&lt;StatisticsInfo LastUpdate=&quot;2014-07-17T16:11:30.19&quot; ModificationCount=&quot;0&quot; SamplingPercent=&quot;100&quot; Statistics=&quot;[PK_Product_ProductID]&quot; Table=&quot;[Product]&quot; Schema=&quot;[Production]&quot; Database=&quot;[AdventureWorks2014]&quot;&gt;&lt;/StatisticsInfo&gt;&lt;StatisticsInfo LastUpdate=&quot;2014-07-17T16:11:31.88&quot; ModificationCount=&quot;0&quot; SamplingPercent=&quot;100&quot; Statistics=&quot;[IX_ProductReview_ProductID_Name]&quot; Table=&quot;[ProductReview]&quot; Schema=&quot;[Production]&quot; Database=&quot;[AdventureWorks2014]&quot;&gt;&lt;/StatisticsInfo&gt;&lt;StatisticsInfo LastUpdate=&quot;2020-09-22T19:44:13.09&quot; ModificationCount=&quot;0&quot; SamplingPercent=&quot;100&quot; Statistics=&quot;[_WA_Sys_00000006_245D67DE]&quot; Table=&quot;[ProductReview]&quot; Schema=&quot;[Production]&quot; Database=&quot;[AdventureWorks2014]&quot;&gt;&lt;/StatisticsInfo&gt;&lt;StatisticsInfo LastUpdate=&quot;2014-07-17T16:11:30.30&quot; ModificationCount=&quot;0&quot; SamplingPercent=&quot;100&quot; Statistics=&quot;[PK_ProductReview_ProductReviewID]&quot; Table=&quot;[ProductReview]&quot; Schema=&quot;[Production]&quot; Database=&quot;[AdventureWorks2014]&quot;&gt;&lt;/StatisticsInfo&gt;&lt;/OptimizerStatsUsage&gt;&lt;RelOp NodeId=&quot;0&quot; PhysicalOp=&quot;Nested Loops&quot; LogicalOp=&quot;Inner Join&quot; EstimateRows=&quot;3&quot; EstimateIO=&quot;0&quot; EstimateCPU=&quot;1.254e-05&quot; AvgRowSize=&quot;140&quot; EstimatedTotalSubtreeCost=&quot;0.0099657&quot; Parallel=&quot;0&quot; EstimateRebinds=&quot;0&quot; EstimateRewinds=&quot;0&quot; EstimatedExecutionMode=&quot;Row&quot;&gt;&lt;OutputList&gt;&lt;ColumnReference Database=&quot;[AdventureWorks2014]&quot; Schema=&quot;[Production]&quot; Table=&quot;[Product]&quot; Alias=&quot;[p]&quot; Column=&quot;Name&quot;&gt;&lt;/ColumnReference&gt;&lt;ColumnReference Database=&quot;[AdventureWorks2014]&quot; Schema=&quot;[Production]&quot; Table=&quot;[Product]&quot; Alias=&quot;[p]&quot; Column=&quot;ProductNumber&quot;&gt;&lt;/ColumnReference&gt;&lt;ColumnReference Database=&quot;[AdventureWorks2014]&quot; Schema=&quot;[Production]&quot; Table=&quot;[ProductReview]&quot; Alias=&quot;[r]&quot; Column=&quot;ReviewerName&quot;&gt;&lt;/ColumnReference&gt;&lt;/OutputList&gt;&lt;NestedLoops Optimized=&quot;0&quot;&gt;&lt;OuterReferences&gt;&lt;ColumnReference Database=&quot;[AdventureWorks2014]&quot; Schema=&quot;[Production]&quot; Table=&quot;[ProductReview]&quot; Alias=&quot;[r]&quot; Column=&quot;ProductID&quot;&gt;&lt;/ColumnReference&gt;&lt;/OuterReferences&gt;&lt;RelOp NodeId=&quot;1&quot; PhysicalOp=&quot;Clustered Index Scan&quot; LogicalOp=&quot;Clustered Index Scan&quot; EstimateRows=&quot;3&quot; EstimatedRowsRead=&quot;4&quot; EstimateIO=&quot;0.00386574&quot; EstimateCPU=&quot;0.0001614&quot; AvgRowSize=&quot;69&quot; EstimatedTotalSubtreeCost=&quot;0.00402714&quot; TableCardinality=&quot;4&quot; Parallel=&quot;0&quot; EstimateRebinds=&quot;0&quot; EstimateRewinds=&quot;0&quot; EstimatedExecutionMode=&quot;Row&quot;&gt;&lt;OutputList&gt;&lt;ColumnReference Database=&quot;[AdventureWorks2014]&quot; Schema=&quot;[Production]&quot; Table=&quot;[ProductReview]&quot; Alias=&quot;[r]&quot; Column=&quot;ProductID&quot;&gt;&lt;/ColumnReference&gt;&lt;ColumnReference Database=&quot;[AdventureWorks2014]&quot; Schema=&quot;[Production]&quot; Table=&quot;[ProductReview]&quot; Alias=&quot;[r]&quot; Column=&quot;ReviewerName&quot;&gt;&lt;/ColumnReference&gt;&lt;/OutputList&gt;&lt;IndexScan Ordered=&quot;0&quot; ForcedIndex=&quot;0&quot; ForceScan=&quot;0&quot; NoExpandHint=&quot;0&quot; Storage=&quot;RowStore&quot;&gt;&lt;DefinedValues&gt;&lt;DefinedValue&gt;&lt;ColumnReference Database=&quot;[AdventureWorks2014]&quot; Schema=&quot;[Production]&quot; Table=&quot;[ProductReview]&quot; Alias=&quot;[r]&quot; Column=&quot;ProductID&quot;&gt;&lt;/ColumnReference&gt;&lt;/DefinedValue&gt;&lt;DefinedValue&gt;&lt;ColumnReference Database=&quot;[AdventureWorks2014]&quot; Schema=&quot;[Production]&quot; Table=&quot;[ProductReview]&quot; Alias=&quot;[r]&quot; Column=&quot;ReviewerName&quot;&gt;&lt;/ColumnReference&gt;&lt;/DefinedValue&gt;&lt;/DefinedValues&gt;&lt;Object Database=&quot;[AdventureWorks2014]&quot; Schema=&quot;[Production]&quot; Table=&quot;[ProductReview]&quot; Index=&quot;[PK_ProductReview_ProductReviewID]&quot; Alias=&quot;[r]&quot; IndexKind=&quot;Clustered&quot; Storage=&quot;RowStore&quot;&gt;&lt;/Object&gt;&lt;Predicate&gt;&lt;ScalarOperator ScalarString=&quot;[AdventureWorks2014].[Production].[ProductReview].[Rating] as [r].[Rating]&amp;gt;(2)&quot;&gt;&lt;Compare CompareOp=&quot;GT&quot;&gt;&lt;ScalarOperator&gt;&lt;Identifier&gt;&lt;ColumnReference Database=&quot;[AdventureWorks2014]&quot; Schema=&quot;[Production]&quot; Table=&quot;[ProductReview]&quot; Alias=&quot;[r]&quot; Column=&quot;Rating&quot;&gt;&lt;/ColumnReference&gt;&lt;/Identifier&gt;&lt;/ScalarOperator&gt;&lt;ScalarOperator&gt;&lt;Const ConstValue=&quot;(2)&quot;&gt;&lt;/Const&gt;&lt;/ScalarOperator&gt;&lt;/Compare&gt;&lt;/ScalarOperator&gt;&lt;/Predicate&gt;&lt;/IndexScan&gt;&lt;/RelOp&gt;&lt;RelOp NodeId=&quot;2&quot; PhysicalOp=&quot;Clustered Index Seek&quot; LogicalOp=&quot;Clustered Index Seek&quot; EstimateRows=&quot;1&quot; EstimatedRowsRead=&quot;1&quot; EstimateIO=&quot;0.003125&quot; EstimateCPU=&quot;0.0001581&quot; AvgRowSize=&quot;88&quot; EstimatedTotalSubtreeCost=&quot;0.0059241&quot; TableCardinality=&quot;504&quot; Parallel=&quot;0&quot; EstimateRebinds=&quot;1.75&quot; EstimateRewinds=&quot;0.25&quot; EstimatedExecutionMode=&quot;Row&quot;&gt;&lt;OutputList&gt;&lt;ColumnReference Database=&quot;[AdventureWorks2014]&quot; Schema=&quot;[Production]&quot; Table=&quot;[Product]&quot; Alias=&quot;[p]&quot; Column=&quot;Name&quot;&gt;&lt;/ColumnReference&gt;&lt;ColumnReference Database=&quot;[AdventureWorks2014]&quot; Schema=&quot;[Production]&quot; Table=&quot;[Product]&quot; Alias=&quot;[p]&quot; Column=&quot;ProductNumber&quot;&gt;&lt;/ColumnReference&gt;&lt;/OutputList&gt;&lt;IndexScan Ordered=&quot;1&quot; ScanDirection=&quot;FORWARD&quot; ForcedIndex=&quot;0&quot; ForceSeek=&quot;0&quot; ForceScan=&quot;0&quot; NoExpandHint=&quot;0&quot; Storage=&quot;RowStore&quot;&gt;&lt;DefinedValues&gt;&lt;DefinedValue&gt;&lt;ColumnReference Database=&quot;[AdventureWorks2014]&quot; Schema=&quot;[Production]&quot; Table=&quot;[Product]&quot; Alias=&quot;[p]&quot; Column=&quot;Name&quot;&gt;&lt;/ColumnReference&gt;&lt;/DefinedValue&gt;&lt;DefinedValue&gt;&lt;ColumnReference Database=&quot;[AdventureWorks2014]&quot; Schema=&quot;[Production]&quot; Table=&quot;[Product]&quot; Alias=&quot;[p]&quot; Column=&quot;ProductNumber&quot;&gt;&lt;/ColumnReference&gt;&lt;/DefinedValue&gt;&lt;/DefinedValues&gt;&lt;Object Database=&quot;[AdventureWorks2014]&quot; Schema=&quot;[Production]&quot; Table=&quot;[Product]&quot; Index=&quot;[PK_Product_ProductID]&quot; Alias=&quot;[p]&quot; IndexKind=&quot;Clustered&quot; Storage=&quot;RowStore&quot;&gt;&lt;/Object&gt;&lt;SeekPredicates&gt;&lt;SeekPredicateNew&gt;&lt;SeekKeys&gt;&lt;Prefix ScanType=&quot;EQ&quot;&gt;&lt;RangeColumns&gt;&lt;ColumnReference Database=&quot;[AdventureWorks2014]&quot; Schema=&quot;[Production]&quot; Table=&quot;[Product]&quot; Alias=&quot;[p]&quot; Column=&quot;ProductID&quot;&gt;&lt;/ColumnReference&gt;&lt;/RangeColumns&gt;&lt;RangeExpressions&gt;&lt;ScalarOperator ScalarString=&quot;[AdventureWorks2014].[Production].[ProductReview].[ProductID] as [r].[ProductID]&quot;&gt;&lt;Identifier&gt;&lt;ColumnReference Database=&quot;[AdventureWorks2014]&quot; Schema=&quot;[Production]&quot; Table=&quot;[ProductReview]&quot; Alias=&quot;[r]&quot; Column=&quot;ProductID&quot;&gt;&lt;/ColumnReference&gt;&lt;/Identifier&gt;&lt;/ScalarOperator&gt;&lt;/RangeExpressions&gt;&lt;/Prefix&gt;&lt;/SeekKeys&gt;&lt;/SeekPredicateNew&gt;&lt;/SeekPredicates&gt;&lt;/IndexScan&gt;&lt;/RelOp&gt;&lt;/NestedLoops&gt;&lt;/RelOp&gt;&lt;/QueryPlan&gt;&lt;/StmtSimple&gt;&lt;/Statements&gt;&lt;/Batch&gt;&lt;/BatchSequence&gt;&lt;/ShowPlanXML&gt;</td></tr>",
                            "</table>"
                        ]
                    }
                }
            ],
            "execution_count": 2
        }
    ]
}