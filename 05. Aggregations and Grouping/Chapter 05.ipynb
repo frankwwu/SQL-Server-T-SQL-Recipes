{
    "metadata": {
        "kernelspec": {
            "name": "SQL",
            "display_name": "SQL",
            "language": "sql"
        },
        "language_info": {
            "name": "sql",
            "version": ""
        }
    },
    "nbformat_minor": 2,
    "nbformat": 4,
    "cells": [
        {
            "cell_type": "code",
            "source": [
                "-- 5-1. Summarizing a Result Set\r\n",
                "\r\n",
                "USE AdventureWorks2014;\r\n",
                "GO"
            ],
            "metadata": {
                "azdata_cell_guid": "79dc388b-e5ad-40b1-8826-a01494f72139"
            },
            "outputs": [
                {
                    "output_type": "display_data",
                    "data": {
                        "text/html": "Commands completed successfully."
                    },
                    "metadata": {}
                },
                {
                    "output_type": "display_data",
                    "data": {
                        "text/html": "Total execution time: 00:00:00.032"
                    },
                    "metadata": {}
                }
            ],
            "execution_count": 1
        },
        {
            "cell_type": "code",
            "source": [
                "SELECT SUM(i.Quantity) AS Total\r\n",
                "FROM Production.ProductInventory i;"
            ],
            "metadata": {
                "azdata_cell_guid": "26cf06e3-764a-421d-af58-7617e9aceb9b"
            },
            "outputs": [
                {
                    "output_type": "display_data",
                    "data": {
                        "text/html": "(1 row affected)"
                    },
                    "metadata": {}
                },
                {
                    "output_type": "display_data",
                    "data": {
                        "text/html": "Total execution time: 00:00:00.132"
                    },
                    "metadata": {}
                },
                {
                    "output_type": "execute_result",
                    "metadata": {},
                    "execution_count": 2,
                    "data": {
                        "application/vnd.dataresource+json": {
                            "schema": {
                                "fields": [
                                    {
                                        "name": "Total"
                                    }
                                ]
                            },
                            "data": [
                                {
                                    "0": "335974"
                                }
                            ]
                        },
                        "text/html": [
                            "<table>",
                            "<tr><th>Total</th></tr>",
                            "<tr><td>335974</td></tr>",
                            "</table>"
                        ]
                    }
                }
            ],
            "execution_count": 2
        },
        {
            "cell_type": "code",
            "source": [
                "-- 5-2. Creating Summary Groups\r\n",
                "\r\n",
                "SELECT OrderDate,\r\n",
                "    SUM(TotalDue) AS TotalDueByOrderDate\r\n",
                "FROM Sales.SalesOrderHeader\r\n",
                "WHERE OrderDate >= '2005-07-01T00:00:00'\r\n",
                "    AND OrderDate < '2005-08-01T00:00:00'\r\n",
                "GROUP BY OrderDate;"
            ],
            "metadata": {
                "azdata_cell_guid": "0e1bd7a1-9ff8-48fa-aa8e-1905722917ab"
            },
            "outputs": [
                {
                    "output_type": "display_data",
                    "data": {
                        "text/html": "(0 rows affected)"
                    },
                    "metadata": {}
                },
                {
                    "output_type": "display_data",
                    "data": {
                        "text/html": "Total execution time: 00:00:00.103"
                    },
                    "metadata": {}
                },
                {
                    "output_type": "execute_result",
                    "metadata": {},
                    "execution_count": 3,
                    "data": {
                        "application/vnd.dataresource+json": {
                            "schema": {
                                "fields": [
                                    {
                                        "name": "OrderDate"
                                    },
                                    {
                                        "name": "TotalDueByOrderDate"
                                    }
                                ]
                            },
                            "data": []
                        },
                        "text/html": [
                            "<table>",
                            "<tr><th>OrderDate</th><th>TotalDueByOrderDate</th></tr>",
                            "</table>"
                        ]
                    }
                }
            ],
            "execution_count": 3
        },
        {
            "cell_type": "code",
            "source": [
                "-- 5-3. Restricting a Result Set to Groups of Interest\r\n",
                "\r\n",
                "SELECT s.Name,\r\n",
                "    COUNT(w.WorkOrderID) AS Cnt\r\n",
                "FROM Production.ScrapReason s\r\n",
                "    INNER JOIN Production.WorkOrder w\r\n",
                "        ON s.ScrapReasonID = w.ScrapReasonID\r\n",
                "GROUP BY s.Name\r\n",
                "HAVING COUNT(*) > 50;"
            ],
            "metadata": {
                "azdata_cell_guid": "bdf4175d-e21f-42b5-9b34-b9d9eaa423c1"
            },
            "outputs": [
                {
                    "output_type": "display_data",
                    "data": {
                        "text/html": "(5 rows affected)"
                    },
                    "metadata": {}
                },
                {
                    "output_type": "display_data",
                    "data": {
                        "text/html": "Total execution time: 00:00:00.056"
                    },
                    "metadata": {}
                },
                {
                    "output_type": "execute_result",
                    "metadata": {},
                    "execution_count": 4,
                    "data": {
                        "application/vnd.dataresource+json": {
                            "schema": {
                                "fields": [
                                    {
                                        "name": "Name"
                                    },
                                    {
                                        "name": "Cnt"
                                    }
                                ]
                            },
                            "data": [
                                {
                                    "0": "Gouge in metal",
                                    "1": "54"
                                },
                                {
                                    "0": "Stress test failed",
                                    "1": "52"
                                },
                                {
                                    "0": "Thermoform temperature too low",
                                    "1": "63"
                                },
                                {
                                    "0": "Trim length too long",
                                    "1": "52"
                                },
                                {
                                    "0": "Wheel misaligned",
                                    "1": "51"
                                }
                            ]
                        },
                        "text/html": [
                            "<table>",
                            "<tr><th>Name</th><th>Cnt</th></tr>",
                            "<tr><td>Gouge in metal</td><td>54</td></tr>",
                            "<tr><td>Stress test failed</td><td>52</td></tr>",
                            "<tr><td>Thermoform temperature too low</td><td>63</td></tr>",
                            "<tr><td>Trim length too long</td><td>52</td></tr>",
                            "<tr><td>Wheel misaligned</td><td>51</td></tr>",
                            "</table>"
                        ]
                    }
                }
            ],
            "execution_count": 4
        },
        {
            "cell_type": "code",
            "source": [
                "-- 5-4. Removing Duplicates from the Detailed Results\r\n",
                "\r\n",
                "SELECT [RateChangeDate],\r\n",
                "    COUNT([Rate]) AS [Count],\r\n",
                "    COUNT(DISTINCT Rate) AS [DistinctCount]\r\n",
                "FROM [HumanResources].[EmployeePayHistory]\r\n",
                "WHERE RateChangeDate >= '2003-01-01T00:00:00.000'\r\n",
                "    AND RateChangeDate < '2003-01-10T00:00:00.000'\r\n",
                "GROUP BY RateChangeDate;"
            ],
            "metadata": {
                "azdata_cell_guid": "104350a6-cf66-4128-9e90-930a88a9ab6e"
            },
            "outputs": [
                {
                    "output_type": "display_data",
                    "data": {
                        "text/html": "(0 rows affected)"
                    },
                    "metadata": {}
                },
                {
                    "output_type": "display_data",
                    "data": {
                        "text/html": "Total execution time: 00:00:00.051"
                    },
                    "metadata": {}
                },
                {
                    "output_type": "execute_result",
                    "metadata": {},
                    "execution_count": 5,
                    "data": {
                        "application/vnd.dataresource+json": {
                            "schema": {
                                "fields": [
                                    {
                                        "name": "RateChangeDate"
                                    },
                                    {
                                        "name": "Count"
                                    },
                                    {
                                        "name": "DistinctCount"
                                    }
                                ]
                            },
                            "data": []
                        },
                        "text/html": [
                            "<table>",
                            "<tr><th>RateChangeDate</th><th>Count</th><th>DistinctCount</th></tr>",
                            "</table>"
                        ]
                    }
                }
            ],
            "execution_count": 5
        },
        {
            "cell_type": "code",
            "source": [
                "-- 5-5. Creating Summary Cubes\r\n",
                "\r\n",
                "SELECT i.Shelf,\r\n",
                "    i.LocationID,\r\n",
                "    SUM(i.Quantity) AS Total\r\n",
                "FROM Production.ProductInventory i\r\n",
                "GROUP BY CUBE(i.Shelf, i.LocationID);"
            ],
            "metadata": {
                "azdata_cell_guid": "8ba09c9c-3200-4d1f-bb98-f05f671d49a0"
            },
            "outputs": [
                {
                    "output_type": "display_data",
                    "data": {
                        "text/html": "(112 rows affected)"
                    },
                    "metadata": {}
                },
                {
                    "output_type": "display_data",
                    "data": {
                        "text/html": "Total execution time: 00:00:02.181"
                    },
                    "metadata": {}
                },
                {
                    "output_type": "execute_result",
                    "metadata": {},
                    "execution_count": 6,
                    "data": {
                        "application/vnd.dataresource+json": {
                            "schema": {
                                "fields": [
                                    {
                                        "name": "Shelf"
                                    },
                                    {
                                        "name": "LocationID"
                                    },
                                    {
                                        "name": "Total"
                                    }
                                ]
                            },
                            "data": [
                                {
                                    "0": "A",
                                    "1": "1",
                                    "2": "2727"
                                },
                                {
                                    "0": "C",
                                    "1": "1",
                                    "2": "13777"
                                },
                                {
                                    "0": "D",
                                    "1": "1",
                                    "2": "6551"
                                },
                                {
                                    "0": "E",
                                    "1": "1",
                                    "2": "8032"
                                },
                                {
                                    "0": "F",
                                    "1": "1",
                                    "2": "7614"
                                },
                                {
                                    "0": "G",
                                    "1": "1",
                                    "2": "3954"
                                },
                                {
                                    "0": "H",
                                    "1": "1",
                                    "2": "10905"
                                },
                                {
                                    "0": "J",
                                    "1": "1",
                                    "2": "5051"
                                },
                                {
                                    "0": "K",
                                    "1": "1",
                                    "2": "6751"
                                },
                                {
                                    "0": "L",
                                    "1": "1",
                                    "2": "7537"
                                },
                                {
                                    "0": "NULL",
                                    "1": "1",
                                    "2": "72899"
                                },
                                {
                                    "0": "B",
                                    "1": "2",
                                    "2": "900"
                                },
                                {
                                    "0": "C",
                                    "1": "2",
                                    "2": "1557"
                                },
                                {
                                    "0": "D",
                                    "1": "2",
                                    "2": "3092"
                                },
                                {
                                    "0": "NULL",
                                    "1": "2",
                                    "2": "5549"
                                },
                                {
                                    "0": "A",
                                    "1": "3",
                                    "2": "186"
                                },
                                {
                                    "0": "NULL",
                                    "1": "3",
                                    "2": "186"
                                },
                                {
                                    "0": "A",
                                    "1": "4",
                                    "2": "110"
                                },
                                {
                                    "0": "NULL",
                                    "1": "4",
                                    "2": "110"
                                },
                                {
                                    "0": "A",
                                    "1": "5",
                                    "2": "6572"
                                },
                                {
                                    "0": "B",
                                    "1": "5",
                                    "2": "1281"
                                },
                                {
                                    "0": "D",
                                    "1": "5",
                                    "2": "1215"
                                },
                                {
                                    "0": "E",
                                    "1": "5",
                                    "2": "1279"
                                },
                                {
                                    "0": "J",
                                    "1": "5",
                                    "2": "3782"
                                },
                                {
                                    "0": "K",
                                    "1": "5",
                                    "2": "408"
                                },
                                {
                                    "0": "R",
                                    "1": "5",
                                    "2": "2929"
                                },
                                {
                                    "0": "T",
                                    "1": "5",
                                    "2": "2829"
                                },
                                {
                                    "0": "NULL",
                                    "1": "5",
                                    "2": "20295"
                                },
                                {
                                    "0": "A",
                                    "1": "6",
                                    "2": "2734"
                                },
                                {
                                    "0": "B",
                                    "1": "6",
                                    "2": "4780"
                                },
                                {
                                    "0": "D",
                                    "1": "6",
                                    "2": "4768"
                                },
                                {
                                    "0": "F",
                                    "1": "6",
                                    "2": "4909"
                                },
                                {
                                    "0": "G",
                                    "1": "6",
                                    "2": "28527"
                                },
                                {
                                    "0": "H",
                                    "1": "6",
                                    "2": "9150"
                                },
                                {
                                    "0": "K",
                                    "1": "6",
                                    "2": "164"
                                },
                                {
                                    "0": "L",
                                    "1": "6",
                                    "2": "3784"
                                },
                                {
                                    "0": "M",
                                    "1": "6",
                                    "2": "3567"
                                },
                                {
                                    "0": "N",
                                    "1": "6",
                                    "2": "3813"
                                },
                                {
                                    "0": "R",
                                    "1": "6",
                                    "2": "16977"
                                },
                                {
                                    "0": "NULL",
                                    "1": "6",
                                    "2": "83173"
                                },
                                {
                                    "0": "N/A",
                                    "1": "7",
                                    "2": "17319"
                                },
                                {
                                    "0": "NULL",
                                    "1": "7",
                                    "2": "17319"
                                },
                                {
                                    "0": "A",
                                    "1": "10",
                                    "2": "1379"
                                },
                                {
                                    "0": "B",
                                    "1": "10",
                                    "2": "1648"
                                },
                                {
                                    "0": "C",
                                    "1": "10",
                                    "2": "3464"
                                },
                                {
                                    "0": "D",
                                    "1": "10",
                                    "2": "1727"
                                },
                                {
                                    "0": "E",
                                    "1": "10",
                                    "2": "2045"
                                },
                                {
                                    "0": "F",
                                    "1": "10",
                                    "2": "443"
                                },
                                {
                                    "0": "L",
                                    "1": "10",
                                    "2": "2093"
                                },
                                {
                                    "0": "N/A",
                                    "1": "10",
                                    "2": "785"
                                },
                                {
                                    "0": "NULL",
                                    "1": "10",
                                    "2": "13584"
                                },
                                {
                                    "0": "A",
                                    "1": "20",
                                    "2": "1680"
                                },
                                {
                                    "0": "B",
                                    "1": "20",
                                    "2": "355"
                                },
                                {
                                    "0": "N/A",
                                    "1": "20",
                                    "2": "1009"
                                },
                                {
                                    "0": "S",
                                    "1": "20",
                                    "2": "2121"
                                },
                                {
                                    "0": "NULL",
                                    "1": "20",
                                    "2": "5165"
                                },
                                {
                                    "0": "N/A",
                                    "1": "30",
                                    "2": "958"
                                },
                                {
                                    "0": "NULL",
                                    "1": "30",
                                    "2": "958"
                                },
                                {
                                    "0": "B",
                                    "1": "40",
                                    "2": "117"
                                },
                                {
                                    "0": "N/A",
                                    "1": "40",
                                    "2": "391"
                                },
                                {
                                    "0": "NULL",
                                    "1": "40",
                                    "2": "508"
                                },
                                {
                                    "0": "N/A",
                                    "1": "45",
                                    "2": "332"
                                },
                                {
                                    "0": "NULL",
                                    "1": "45",
                                    "2": "332"
                                },
                                {
                                    "0": "A",
                                    "1": "50",
                                    "2": "10329"
                                },
                                {
                                    "0": "B",
                                    "1": "50",
                                    "2": "3591"
                                },
                                {
                                    "0": "C",
                                    "1": "50",
                                    "2": "1070"
                                },
                                {
                                    "0": "E",
                                    "1": "50",
                                    "2": "17775"
                                },
                                {
                                    "0": "F",
                                    "1": "50",
                                    "2": "4386"
                                },
                                {
                                    "0": "G",
                                    "1": "50",
                                    "2": "6664"
                                },
                                {
                                    "0": "J",
                                    "1": "50",
                                    "2": "3321"
                                },
                                {
                                    "0": "K",
                                    "1": "50",
                                    "2": "8881"
                                },
                                {
                                    "0": "N",
                                    "1": "50",
                                    "2": "1441"
                                },
                                {
                                    "0": "N/A",
                                    "1": "50",
                                    "2": "984"
                                },
                                {
                                    "0": "R",
                                    "1": "50",
                                    "2": "3217"
                                },
                                {
                                    "0": "S",
                                    "1": "50",
                                    "2": "1333"
                                },
                                {
                                    "0": "T",
                                    "1": "50",
                                    "2": "7805"
                                },
                                {
                                    "0": "U",
                                    "1": "50",
                                    "2": "18700"
                                },
                                {
                                    "0": "V",
                                    "1": "50",
                                    "2": "2635"
                                },
                                {
                                    "0": "W",
                                    "1": "50",
                                    "2": "2908"
                                },
                                {
                                    "0": "Y",
                                    "1": "50",
                                    "2": "437"
                                },
                                {
                                    "0": "NULL",
                                    "1": "50",
                                    "2": "95477"
                                },
                                {
                                    "0": "A",
                                    "1": "60",
                                    "2": "1116"
                                },
                                {
                                    "0": "E",
                                    "1": "60",
                                    "2": "2848"
                                },
                                {
                                    "0": "F",
                                    "1": "60",
                                    "2": "3897"
                                },
                                {
                                    "0": "G",
                                    "1": "60",
                                    "2": "1050"
                                },
                                {
                                    "0": "K",
                                    "1": "60",
                                    "2": "107"
                                },
                                {
                                    "0": "L",
                                    "1": "60",
                                    "2": "139"
                                },
                                {
                                    "0": "N/A",
                                    "1": "60",
                                    "2": "8804"
                                },
                                {
                                    "0": "S",
                                    "1": "60",
                                    "2": "2458"
                                },
                                {
                                    "0": "NULL",
                                    "1": "60",
                                    "2": "20419"
                                },
                                {
                                    "0": "NULL",
                                    "1": "NULL",
                                    "2": "335974"
                                },
                                {
                                    "0": "A",
                                    "1": "NULL",
                                    "2": "26833"
                                },
                                {
                                    "0": "B",
                                    "1": "NULL",
                                    "2": "12672"
                                },
                                {
                                    "0": "C",
                                    "1": "NULL",
                                    "2": "19868"
                                },
                                {
                                    "0": "D",
                                    "1": "NULL",
                                    "2": "17353"
                                },
                                {
                                    "0": "E",
                                    "1": "NULL",
                                    "2": "31979"
                                },
                                {
                                    "0": "F",
                                    "1": "NULL",
                                    "2": "21249"
                                },
                                {
                                    "0": "G",
                                    "1": "NULL",
                                    "2": "40195"
                                },
                                {
                                    "0": "H",
                                    "1": "NULL",
                                    "2": "20055"
                                },
                                {
                                    "0": "J",
                                    "1": "NULL",
                                    "2": "12154"
                                },
                                {
                                    "0": "K",
                                    "1": "NULL",
                                    "2": "16311"
                                },
                                {
                                    "0": "L",
                                    "1": "NULL",
                                    "2": "13553"
                                },
                                {
                                    "0": "M",
                                    "1": "NULL",
                                    "2": "3567"
                                },
                                {
                                    "0": "N",
                                    "1": "NULL",
                                    "2": "5254"
                                },
                                {
                                    "0": "N/A",
                                    "1": "NULL",
                                    "2": "30582"
                                },
                                {
                                    "0": "R",
                                    "1": "NULL",
                                    "2": "23123"
                                },
                                {
                                    "0": "S",
                                    "1": "NULL",
                                    "2": "5912"
                                },
                                {
                                    "0": "T",
                                    "1": "NULL",
                                    "2": "10634"
                                },
                                {
                                    "0": "U",
                                    "1": "NULL",
                                    "2": "18700"
                                },
                                {
                                    "0": "V",
                                    "1": "NULL",
                                    "2": "2635"
                                },
                                {
                                    "0": "W",
                                    "1": "NULL",
                                    "2": "2908"
                                },
                                {
                                    "0": "Y",
                                    "1": "NULL",
                                    "2": "437"
                                }
                            ]
                        },
                        "text/html": [
                            "<table>",
                            "<tr><th>Shelf</th><th>LocationID</th><th>Total</th></tr>",
                            "<tr><td>A</td><td>1</td><td>2727</td></tr>",
                            "<tr><td>C</td><td>1</td><td>13777</td></tr>",
                            "<tr><td>D</td><td>1</td><td>6551</td></tr>",
                            "<tr><td>E</td><td>1</td><td>8032</td></tr>",
                            "<tr><td>F</td><td>1</td><td>7614</td></tr>",
                            "<tr><td>G</td><td>1</td><td>3954</td></tr>",
                            "<tr><td>H</td><td>1</td><td>10905</td></tr>",
                            "<tr><td>J</td><td>1</td><td>5051</td></tr>",
                            "<tr><td>K</td><td>1</td><td>6751</td></tr>",
                            "<tr><td>L</td><td>1</td><td>7537</td></tr>",
                            "<tr><td>NULL</td><td>1</td><td>72899</td></tr>",
                            "<tr><td>B</td><td>2</td><td>900</td></tr>",
                            "<tr><td>C</td><td>2</td><td>1557</td></tr>",
                            "<tr><td>D</td><td>2</td><td>3092</td></tr>",
                            "<tr><td>NULL</td><td>2</td><td>5549</td></tr>",
                            "<tr><td>A</td><td>3</td><td>186</td></tr>",
                            "<tr><td>NULL</td><td>3</td><td>186</td></tr>",
                            "<tr><td>A</td><td>4</td><td>110</td></tr>",
                            "<tr><td>NULL</td><td>4</td><td>110</td></tr>",
                            "<tr><td>A</td><td>5</td><td>6572</td></tr>",
                            "<tr><td>B</td><td>5</td><td>1281</td></tr>",
                            "<tr><td>D</td><td>5</td><td>1215</td></tr>",
                            "<tr><td>E</td><td>5</td><td>1279</td></tr>",
                            "<tr><td>J</td><td>5</td><td>3782</td></tr>",
                            "<tr><td>K</td><td>5</td><td>408</td></tr>",
                            "<tr><td>R</td><td>5</td><td>2929</td></tr>",
                            "<tr><td>T</td><td>5</td><td>2829</td></tr>",
                            "<tr><td>NULL</td><td>5</td><td>20295</td></tr>",
                            "<tr><td>A</td><td>6</td><td>2734</td></tr>",
                            "<tr><td>B</td><td>6</td><td>4780</td></tr>",
                            "<tr><td>D</td><td>6</td><td>4768</td></tr>",
                            "<tr><td>F</td><td>6</td><td>4909</td></tr>",
                            "<tr><td>G</td><td>6</td><td>28527</td></tr>",
                            "<tr><td>H</td><td>6</td><td>9150</td></tr>",
                            "<tr><td>K</td><td>6</td><td>164</td></tr>",
                            "<tr><td>L</td><td>6</td><td>3784</td></tr>",
                            "<tr><td>M</td><td>6</td><td>3567</td></tr>",
                            "<tr><td>N</td><td>6</td><td>3813</td></tr>",
                            "<tr><td>R</td><td>6</td><td>16977</td></tr>",
                            "<tr><td>NULL</td><td>6</td><td>83173</td></tr>",
                            "<tr><td>N/A</td><td>7</td><td>17319</td></tr>",
                            "<tr><td>NULL</td><td>7</td><td>17319</td></tr>",
                            "<tr><td>A</td><td>10</td><td>1379</td></tr>",
                            "<tr><td>B</td><td>10</td><td>1648</td></tr>",
                            "<tr><td>C</td><td>10</td><td>3464</td></tr>",
                            "<tr><td>D</td><td>10</td><td>1727</td></tr>",
                            "<tr><td>E</td><td>10</td><td>2045</td></tr>",
                            "<tr><td>F</td><td>10</td><td>443</td></tr>",
                            "<tr><td>L</td><td>10</td><td>2093</td></tr>",
                            "<tr><td>N/A</td><td>10</td><td>785</td></tr>",
                            "<tr><td>NULL</td><td>10</td><td>13584</td></tr>",
                            "<tr><td>A</td><td>20</td><td>1680</td></tr>",
                            "<tr><td>B</td><td>20</td><td>355</td></tr>",
                            "<tr><td>N/A</td><td>20</td><td>1009</td></tr>",
                            "<tr><td>S</td><td>20</td><td>2121</td></tr>",
                            "<tr><td>NULL</td><td>20</td><td>5165</td></tr>",
                            "<tr><td>N/A</td><td>30</td><td>958</td></tr>",
                            "<tr><td>NULL</td><td>30</td><td>958</td></tr>",
                            "<tr><td>B</td><td>40</td><td>117</td></tr>",
                            "<tr><td>N/A</td><td>40</td><td>391</td></tr>",
                            "<tr><td>NULL</td><td>40</td><td>508</td></tr>",
                            "<tr><td>N/A</td><td>45</td><td>332</td></tr>",
                            "<tr><td>NULL</td><td>45</td><td>332</td></tr>",
                            "<tr><td>A</td><td>50</td><td>10329</td></tr>",
                            "<tr><td>B</td><td>50</td><td>3591</td></tr>",
                            "<tr><td>C</td><td>50</td><td>1070</td></tr>",
                            "<tr><td>E</td><td>50</td><td>17775</td></tr>",
                            "<tr><td>F</td><td>50</td><td>4386</td></tr>",
                            "<tr><td>G</td><td>50</td><td>6664</td></tr>",
                            "<tr><td>J</td><td>50</td><td>3321</td></tr>",
                            "<tr><td>K</td><td>50</td><td>8881</td></tr>",
                            "<tr><td>N</td><td>50</td><td>1441</td></tr>",
                            "<tr><td>N/A</td><td>50</td><td>984</td></tr>",
                            "<tr><td>R</td><td>50</td><td>3217</td></tr>",
                            "<tr><td>S</td><td>50</td><td>1333</td></tr>",
                            "<tr><td>T</td><td>50</td><td>7805</td></tr>",
                            "<tr><td>U</td><td>50</td><td>18700</td></tr>",
                            "<tr><td>V</td><td>50</td><td>2635</td></tr>",
                            "<tr><td>W</td><td>50</td><td>2908</td></tr>",
                            "<tr><td>Y</td><td>50</td><td>437</td></tr>",
                            "<tr><td>NULL</td><td>50</td><td>95477</td></tr>",
                            "<tr><td>A</td><td>60</td><td>1116</td></tr>",
                            "<tr><td>E</td><td>60</td><td>2848</td></tr>",
                            "<tr><td>F</td><td>60</td><td>3897</td></tr>",
                            "<tr><td>G</td><td>60</td><td>1050</td></tr>",
                            "<tr><td>K</td><td>60</td><td>107</td></tr>",
                            "<tr><td>L</td><td>60</td><td>139</td></tr>",
                            "<tr><td>N/A</td><td>60</td><td>8804</td></tr>",
                            "<tr><td>S</td><td>60</td><td>2458</td></tr>",
                            "<tr><td>NULL</td><td>60</td><td>20419</td></tr>",
                            "<tr><td>NULL</td><td>NULL</td><td>335974</td></tr>",
                            "<tr><td>A</td><td>NULL</td><td>26833</td></tr>",
                            "<tr><td>B</td><td>NULL</td><td>12672</td></tr>",
                            "<tr><td>C</td><td>NULL</td><td>19868</td></tr>",
                            "<tr><td>D</td><td>NULL</td><td>17353</td></tr>",
                            "<tr><td>E</td><td>NULL</td><td>31979</td></tr>",
                            "<tr><td>F</td><td>NULL</td><td>21249</td></tr>",
                            "<tr><td>G</td><td>NULL</td><td>40195</td></tr>",
                            "<tr><td>H</td><td>NULL</td><td>20055</td></tr>",
                            "<tr><td>J</td><td>NULL</td><td>12154</td></tr>",
                            "<tr><td>K</td><td>NULL</td><td>16311</td></tr>",
                            "<tr><td>L</td><td>NULL</td><td>13553</td></tr>",
                            "<tr><td>M</td><td>NULL</td><td>3567</td></tr>",
                            "<tr><td>N</td><td>NULL</td><td>5254</td></tr>",
                            "<tr><td>N/A</td><td>NULL</td><td>30582</td></tr>",
                            "<tr><td>R</td><td>NULL</td><td>23123</td></tr>",
                            "<tr><td>S</td><td>NULL</td><td>5912</td></tr>",
                            "<tr><td>T</td><td>NULL</td><td>10634</td></tr>",
                            "<tr><td>U</td><td>NULL</td><td>18700</td></tr>",
                            "<tr><td>V</td><td>NULL</td><td>2635</td></tr>",
                            "<tr><td>W</td><td>NULL</td><td>2908</td></tr>",
                            "<tr><td>Y</td><td>NULL</td><td>437</td></tr>",
                            "</table>"
                        ]
                    }
                }
            ],
            "execution_count": 6
        },
        {
            "cell_type": "code",
            "source": [
                "-- 5-6. Creating Hierarchical Summaries\r\n",
                "\r\n",
                "SELECT i.Shelf,\r\n",
                "    p.Name,\r\n",
                "    SUM(i.Quantity) AS Total\r\n",
                "FROM Production.ProductInventory i\r\n",
                "    INNER JOIN Production.Product p\r\n",
                "        ON i.ProductID = p.ProductID\r\n",
                "GROUP BY ROLLUP(i.Shelf, p.Name);"
            ],
            "metadata": {
                "azdata_cell_guid": "d6c45160-89dc-47a1-b7d2-29d2055e934d"
            },
            "outputs": [
                {
                    "output_type": "display_data",
                    "data": {
                        "text/html": "(918 rows affected)"
                    },
                    "metadata": {}
                },
                {
                    "output_type": "display_data",
                    "data": {
                        "text/html": "Total execution time: 00:00:00.083"
                    },
                    "metadata": {}
                },
                {
                    "output_type": "execute_result",
                    "metadata": {},
                    "execution_count": 7,
                    "data": {
                        "application/vnd.dataresource+json": {
                            "schema": {
                                "fields": [
                                    {
                                        "name": "Shelf"
                                    },
                                    {
                                        "name": "Name"
                                    },
                                    {
                                        "name": "Total"
                                    }
                                ]
                            },
                            "data": [
                                {
                                    "0": "A",
                                    "1": "Adjustable Race",
                                    "2": "761"
                                },
                                {
                                    "0": "A",
                                    "1": "BB Ball Bearing",
                                    "2": "909"
                                },
                                {
                                    "0": "A",
                                    "1": "Bearing Ball",
                                    "2": "791"
                                },
                                {
                                    "0": "A",
                                    "1": "Blade",
                                    "2": "532"
                                },
                                {
                                    "0": "A",
                                    "1": "Chain",
                                    "2": "353"
                                },
                                {
                                    "0": "A",
                                    "1": "Chain Stays",
                                    "2": "1044"
                                },
                                {
                                    "0": "A",
                                    "1": "Chainring",
                                    "2": "1062"
                                },
                                {
                                    "0": "A",
                                    "1": "Chainring Bolts",
                                    "2": "655"
                                },
                                {
                                    "0": "A",
                                    "1": "Chainring Nut",
                                    "2": "1181"
                                },
                                {
                                    "0": "A",
                                    "1": "Crown Race",
                                    "2": "1081"
                                },
                                {
                                    "0": "A",
                                    "1": "Decal 1",
                                    "2": "641"
                                },
                                {
                                    "0": "A",
                                    "1": "Decal 2",
                                    "2": "475"
                                },
                                {
                                    "0": "A",
                                    "1": "Fork Crown",
                                    "2": "313"
                                },
                                {
                                    "0": "A",
                                    "1": "Fork End",
                                    "2": "390"
                                },
                                {
                                    "0": "A",
                                    "1": "Freewheel",
                                    "2": "267"
                                },
                                {
                                    "0": "A",
                                    "1": "Front Brakes",
                                    "2": "420"
                                },
                                {
                                    "0": "A",
                                    "1": "Front Derailleur",
                                    "2": "270"
                                },
                                {
                                    "0": "A",
                                    "1": "Front Derailleur Cage",
                                    "2": "145"
                                },
                                {
                                    "0": "A",
                                    "1": "Front Derailleur Linkage",
                                    "2": "195"
                                },
                                {
                                    "0": "A",
                                    "1": "Handlebar Tube",
                                    "2": "550"
                                },
                                {
                                    "0": "A",
                                    "1": "Head Tube",
                                    "2": "544"
                                },
                                {
                                    "0": "A",
                                    "1": "Headset Ball Bearings",
                                    "2": "900"
                                },
                                {
                                    "0": "A",
                                    "1": "HL Bottom Bracket",
                                    "2": "495"
                                },
                                {
                                    "0": "A",
                                    "1": "HL Crankarm",
                                    "2": "489"
                                },
                                {
                                    "0": "A",
                                    "1": "HL Crankset",
                                    "2": "645"
                                },
                                {
                                    "0": "A",
                                    "1": "HL Fork",
                                    "2": "286"
                                },
                                {
                                    "0": "A",
                                    "1": "HL Hub",
                                    "2": "302"
                                },
                                {
                                    "0": "A",
                                    "1": "HL Mountain Rear Wheel",
                                    "2": "396"
                                },
                                {
                                    "0": "A",
                                    "1": "HL Road Rear Wheel",
                                    "2": "432"
                                },
                                {
                                    "0": "A",
                                    "1": "LL Bottom Bracket",
                                    "2": "456"
                                },
                                {
                                    "0": "A",
                                    "1": "LL Crankarm",
                                    "2": "310"
                                },
                                {
                                    "0": "A",
                                    "1": "LL Crankset",
                                    "2": "620"
                                },
                                {
                                    "0": "A",
                                    "1": "LL Fork",
                                    "2": "273"
                                },
                                {
                                    "0": "A",
                                    "1": "LL Hub",
                                    "2": "284"
                                },
                                {
                                    "0": "A",
                                    "1": "LL Mountain Rear Wheel",
                                    "2": "425"
                                },
                                {
                                    "0": "A",
                                    "1": "LL Road Rear Wheel",
                                    "2": "393"
                                },
                                {
                                    "0": "A",
                                    "1": "Metal Angle",
                                    "2": "404"
                                },
                                {
                                    "0": "A",
                                    "1": "Metal Bar 1",
                                    "2": "353"
                                },
                                {
                                    "0": "A",
                                    "1": "Metal Bar 2",
                                    "2": "622"
                                },
                                {
                                    "0": "A",
                                    "1": "ML Bottom Bracket",
                                    "2": "495"
                                },
                                {
                                    "0": "A",
                                    "1": "ML Crankarm",
                                    "2": "303"
                                },
                                {
                                    "0": "A",
                                    "1": "ML Crankset",
                                    "2": "633"
                                },
                                {
                                    "0": "A",
                                    "1": "ML Fork",
                                    "2": "280"
                                },
                                {
                                    "0": "A",
                                    "1": "ML Mountain Rear Wheel",
                                    "2": "411"
                                },
                                {
                                    "0": "A",
                                    "1": "ML Road Rear Wheel",
                                    "2": "412"
                                },
                                {
                                    "0": "A",
                                    "1": "Mountain End Caps",
                                    "2": "1044"
                                },
                                {
                                    "0": "A",
                                    "1": "Paint - Black",
                                    "2": "31"
                                },
                                {
                                    "0": "A",
                                    "1": "Paint - Blue",
                                    "2": "84"
                                },
                                {
                                    "0": "A",
                                    "1": "Paint - Red",
                                    "2": "65"
                                },
                                {
                                    "0": "A",
                                    "1": "Paint - Silver",
                                    "2": "61"
                                },
                                {
                                    "0": "A",
                                    "1": "Paint - Yellow",
                                    "2": "55"
                                },
                                {
                                    "0": "A",
                                    "1": "Road End Caps",
                                    "2": "1025"
                                },
                                {
                                    "0": "A",
                                    "1": "Touring End Caps",
                                    "2": "1005"
                                },
                                {
                                    "0": "A",
                                    "1": "Touring Rear Wheel",
                                    "2": "265"
                                },
                                {
                                    "0": "A",
                                    "1": "NULL",
                                    "2": "26833"
                                },
                                {
                                    "0": "B",
                                    "1": "Adjustable Race",
                                    "2": "324"
                                },
                                {
                                    "0": "B",
                                    "1": "BB Ball Bearing",
                                    "2": "443"
                                },
                                {
                                    "0": "B",
                                    "1": "Bearing Ball",
                                    "2": "318"
                                },
                                {
                                    "0": "B",
                                    "1": "Blade",
                                    "2": "829"
                                },
                                {
                                    "0": "B",
                                    "1": "Down Tube",
                                    "2": "513"
                                },
                                {
                                    "0": "B",
                                    "1": "Handlebar Tube",
                                    "2": "776"
                                },
                                {
                                    "0": "B",
                                    "1": "Head Tube",
                                    "2": "764"
                                },
                                {
                                    "0": "B",
                                    "1": "Headset Ball Bearings",
                                    "2": "422"
                                },
                                {
                                    "0": "B",
                                    "1": "HL Bottom Bracket",
                                    "2": "475"
                                },
                                {
                                    "0": "B",
                                    "1": "HL Hub",
                                    "2": "495"
                                },
                                {
                                    "0": "B",
                                    "1": "HL Mountain Front Wheel",
                                    "2": "388"
                                },
                                {
                                    "0": "B",
                                    "1": "HL Road Front Wheel",
                                    "2": "232"
                                },
                                {
                                    "0": "B",
                                    "1": "HL Shell",
                                    "2": "587"
                                },
                                {
                                    "0": "B",
                                    "1": "LL Bottom Bracket",
                                    "2": "358"
                                },
                                {
                                    "0": "B",
                                    "1": "LL Hub",
                                    "2": "506"
                                },
                                {
                                    "0": "B",
                                    "1": "LL Mountain Front Wheel",
                                    "2": "457"
                                },
                                {
                                    "0": "B",
                                    "1": "LL Road Front Wheel",
                                    "2": "460"
                                },
                                {
                                    "0": "B",
                                    "1": "LL Shell",
                                    "2": "644"
                                },
                                {
                                    "0": "B",
                                    "1": "Metal Angle",
                                    "2": "355"
                                },
                                {
                                    "0": "B",
                                    "1": "Metal Bar 1",
                                    "2": "403"
                                },
                                {
                                    "0": "B",
                                    "1": "Metal Bar 2",
                                    "2": "497"
                                },
                                {
                                    "0": "B",
                                    "1": "ML Bottom Bracket",
                                    "2": "321"
                                },
                                {
                                    "0": "B",
                                    "1": "ML Mountain Front Wheel",
                                    "2": "412"
                                },
                                {
                                    "0": "B",
                                    "1": "ML Road Front Wheel",
                                    "2": "384"
                                },
                                {
                                    "0": "B",
                                    "1": "Paint - Black",
                                    "2": "16"
                                },
                                {
                                    "0": "B",
                                    "1": "Paint - Blue",
                                    "2": "25"
                                },
                                {
                                    "0": "B",
                                    "1": "Paint - Red",
                                    "2": "28"
                                },
                                {
                                    "0": "B",
                                    "1": "Paint - Silver",
                                    "2": "4"
                                },
                                {
                                    "0": "B",
                                    "1": "Paint - Yellow",
                                    "2": "44"
                                },
                                {
                                    "0": "B",
                                    "1": "Spokes",
                                    "2": "888"
                                },
                                {
                                    "0": "B",
                                    "1": "Touring Front Wheel",
                                    "2": "304"
                                },
                                {
                                    "0": "B",
                                    "1": "NULL",
                                    "2": "12672"
                                },
                                {
                                    "0": "C",
                                    "1": "Chain",
                                    "2": "236"
                                },
                                {
                                    "0": "C",
                                    "1": "Chain Stays",
                                    "2": "585"
                                },
                                {
                                    "0": "C",
                                    "1": "Chainring",
                                    "2": "622"
                                },
                                {
                                    "0": "C",
                                    "1": "Chainring Bolts",
                                    "2": "481"
                                },
                                {
                                    "0": "C",
                                    "1": "Chainring Nut",
                                    "2": "569"
                                },
                                {
                                    "0": "C",
                                    "1": "Crown Race",
                                    "2": "603"
                                },
                                {
                                    "0": "C",
                                    "1": "Fork Crown",
                                    "2": "406"
                                },
                                {
                                    "0": "C",
                                    "1": "Fork End",
                                    "2": "441"
                                },
                                {
                                    "0": "C",
                                    "1": "Freewheel",
                                    "2": "233"
                                },
                                {
                                    "0": "C",
                                    "1": "Front Derailleur",
                                    "2": "236"
                                },
                                {
                                    "0": "C",
                                    "1": "Front Derailleur Cage",
                                    "2": "281"
                                },
                                {
                                    "0": "C",
                                    "1": "Front Derailleur Linkage",
                                    "2": "278"
                                },
                                {
                                    "0": "C",
                                    "1": "Guide Pulley",
                                    "2": "289"
                                },
                                {
                                    "0": "C",
                                    "1": "Hex Nut 12",
                                    "2": "299"
                                },
                                {
                                    "0": "C",
                                    "1": "Hex Nut 13",
                                    "2": "619"
                                },
                                {
                                    "0": "C",
                                    "1": "Hex Nut 16",
                                    "2": "249"
                                },
                                {
                                    "0": "C",
                                    "1": "Hex Nut 17",
                                    "2": "244"
                                },
                                {
                                    "0": "C",
                                    "1": "Hex Nut 22",
                                    "2": "169"
                                },
                                {
                                    "0": "C",
                                    "1": "Hex Nut 23",
                                    "2": "587"
                                },
                                {
                                    "0": "C",
                                    "1": "Hex Nut 5",
                                    "2": "291"
                                },
                                {
                                    "0": "C",
                                    "1": "Hex Nut 6",
                                    "2": "585"
                                },
                                {
                                    "0": "C",
                                    "1": "Hex Nut 7",
                                    "2": "323"
                                },
                                {
                                    "0": "C",
                                    "1": "Hex Nut 8",
                                    "2": "156"
                                },
                                {
                                    "0": "C",
                                    "1": "Hex Nut 9",
                                    "2": "163"
                                },
                                {
                                    "0": "C",
                                    "1": "HL Crankarm",
                                    "2": "308"
                                },
                                {
                                    "0": "C",
                                    "1": "HL Fork",
                                    "2": "252"
                                },
                                {
                                    "0": "C",
                                    "1": "HL Grip Tape",
                                    "2": "246"
                                },
                                {
                                    "0": "C",
                                    "1": "LL Crankarm",
                                    "2": "283"
                                },
                                {
                                    "0": "C",
                                    "1": "LL Fork",
                                    "2": "240"
                                },
                                {
                                    "0": "C",
                                    "1": "LL Grip Tape",
                                    "2": "275"
                                },
                                {
                                    "0": "C",
                                    "1": "Metal Plate 1",
                                    "2": "1146"
                                },
                                {
                                    "0": "C",
                                    "1": "Metal Plate 2",
                                    "2": "639"
                                },
                                {
                                    "0": "C",
                                    "1": "Metal Plate 3",
                                    "2": "623"
                                },
                                {
                                    "0": "C",
                                    "1": "ML Crankarm",
                                    "2": "136"
                                },
                                {
                                    "0": "C",
                                    "1": "ML Fork",
                                    "2": "246"
                                },
                                {
                                    "0": "C",
                                    "1": "ML Grip Tape",
                                    "2": "260"
                                },
                                {
                                    "0": "C",
                                    "1": "Thin-Jam Hex Nut 1",
                                    "2": "499"
                                },
                                {
                                    "0": "C",
                                    "1": "Thin-Jam Hex Nut 10",
                                    "2": "363"
                                },
                                {
                                    "0": "C",
                                    "1": "Thin-Jam Hex Nut 11",
                                    "2": "288"
                                },
                                {
                                    "0": "C",
                                    "1": "Thin-Jam Hex Nut 12",
                                    "2": "284"
                                },
                                {
                                    "0": "C",
                                    "1": "Thin-Jam Hex Nut 13",
                                    "2": "363"
                                },
                                {
                                    "0": "C",
                                    "1": "Thin-Jam Hex Nut 14",
                                    "2": "252"
                                },
                                {
                                    "0": "C",
                                    "1": "Thin-Jam Hex Nut 15",
                                    "2": "499"
                                },
                                {
                                    "0": "C",
                                    "1": "Thin-Jam Hex Nut 16",
                                    "2": "368"
                                },
                                {
                                    "0": "C",
                                    "1": "Thin-Jam Hex Nut 2",
                                    "2": "377"
                                },
                                {
                                    "0": "C",
                                    "1": "Thin-Jam Hex Nut 3",
                                    "2": "643"
                                },
                                {
                                    "0": "C",
                                    "1": "Thin-Jam Hex Nut 4",
                                    "2": "369"
                                },
                                {
                                    "0": "C",
                                    "1": "Thin-Jam Hex Nut 5",
                                    "2": "411"
                                },
                                {
                                    "0": "C",
                                    "1": "Thin-Jam Hex Nut 6",
                                    "2": "318"
                                },
                                {
                                    "0": "C",
                                    "1": "Thin-Jam Hex Nut 7",
                                    "2": "585"
                                },
                                {
                                    "0": "C",
                                    "1": "Thin-Jam Hex Nut 8",
                                    "2": "281"
                                },
                                {
                                    "0": "C",
                                    "1": "Thin-Jam Hex Nut 9",
                                    "2": "369"
                                },
                                {
                                    "0": "C",
                                    "1": "NULL",
                                    "2": "19868"
                                },
                                {
                                    "0": "D",
                                    "1": "Guide Pulley",
                                    "2": "276"
                                },
                                {
                                    "0": "D",
                                    "1": "Hex Nut 1",
                                    "2": "148"
                                },
                                {
                                    "0": "D",
                                    "1": "Hex Nut 10",
                                    "2": "524"
                                },
                                {
                                    "0": "D",
                                    "1": "Hex Nut 11",
                                    "2": "292"
                                },
                                {
                                    "0": "D",
                                    "1": "Hex Nut 14",
                                    "2": "603"
                                },
                                {
                                    "0": "D",
                                    "1": "Hex Nut 15",
                                    "2": "302"
                                },
                                {
                                    "0": "D",
                                    "1": "Hex Nut 18",
                                    "2": "636"
                                },
                                {
                                    "0": "D",
                                    "1": "Hex Nut 19",
                                    "2": "339"
                                },
                                {
                                    "0": "D",
                                    "1": "Hex Nut 2",
                                    "2": "657"
                                },
                                {
                                    "0": "D",
                                    "1": "Hex Nut 20",
                                    "2": "292"
                                },
                                {
                                    "0": "D",
                                    "1": "Hex Nut 21",
                                    "2": "296"
                                },
                                {
                                    "0": "D",
                                    "1": "Hex Nut 3",
                                    "2": "299"
                                },
                                {
                                    "0": "D",
                                    "1": "Hex Nut 4",
                                    "2": "281"
                                },
                                {
                                    "0": "D",
                                    "1": "HL Grip Tape",
                                    "2": "233"
                                },
                                {
                                    "0": "D",
                                    "1": "HL Headset",
                                    "2": "291"
                                },
                                {
                                    "0": "D",
                                    "1": "HL Mountain Seat Assembly",
                                    "2": "270"
                                },
                                {
                                    "0": "D",
                                    "1": "HL Mountain Seat/Saddle",
                                    "2": "91"
                                },
                                {
                                    "0": "D",
                                    "1": "HL Road Seat Assembly",
                                    "2": "275"
                                },
                                {
                                    "0": "D",
                                    "1": "HL Road Seat/Saddle",
                                    "2": "169"
                                },
                                {
                                    "0": "D",
                                    "1": "HL Touring Seat Assembly",
                                    "2": "280"
                                },
                                {
                                    "0": "D",
                                    "1": "HL Touring Seat/Saddle",
                                    "2": "425"
                                },
                                {
                                    "0": "D",
                                    "1": "LL Grip Tape",
                                    "2": "262"
                                },
                                {
                                    "0": "D",
                                    "1": "LL Headset",
                                    "2": "284"
                                },
                                {
                                    "0": "D",
                                    "1": "LL Mountain Seat Assembly",
                                    "2": "267"
                                },
                                {
                                    "0": "D",
                                    "1": "LL Mountain Seat/Saddle",
                                    "2": "400"
                                },
                                {
                                    "0": "D",
                                    "1": "LL Road Seat Assembly",
                                    "2": "272"
                                },
                                {
                                    "0": "D",
                                    "1": "LL Road Seat/Saddle",
                                    "2": "283"
                                },
                                {
                                    "0": "D",
                                    "1": "LL Touring Seat Assembly",
                                    "2": "276"
                                },
                                {
                                    "0": "D",
                                    "1": "LL Touring Seat/Saddle",
                                    "2": "248"
                                },
                                {
                                    "0": "D",
                                    "1": "Metal Angle",
                                    "2": "324"
                                },
                                {
                                    "0": "D",
                                    "1": "Metal Bar 1",
                                    "2": "323"
                                },
                                {
                                    "0": "D",
                                    "1": "Metal Bar 2",
                                    "2": "568"
                                },
                                {
                                    "0": "D",
                                    "1": "Metal Sheet 1",
                                    "2": "312"
                                },
                                {
                                    "0": "D",
                                    "1": "Metal Sheet 2",
                                    "2": "321"
                                },
                                {
                                    "0": "D",
                                    "1": "Metal Sheet 3",
                                    "2": "691"
                                },
                                {
                                    "0": "D",
                                    "1": "Metal Sheet 4",
                                    "2": "321"
                                },
                                {
                                    "0": "D",
                                    "1": "Metal Sheet 5",
                                    "2": "689"
                                },
                                {
                                    "0": "D",
                                    "1": "Metal Sheet 6",
                                    "2": "331"
                                },
                                {
                                    "0": "D",
                                    "1": "Metal Sheet 7",
                                    "2": "427"
                                },
                                {
                                    "0": "D",
                                    "1": "ML Grip Tape",
                                    "2": "248"
                                },
                                {
                                    "0": "D",
                                    "1": "ML Headset",
                                    "2": "288"
                                },
                                {
                                    "0": "D",
                                    "1": "ML Mountain Seat Assembly",
                                    "2": "268"
                                },
                                {
                                    "0": "D",
                                    "1": "ML Mountain Seat/Saddle",
                                    "2": "230"
                                },
                                {
                                    "0": "D",
                                    "1": "ML Road Seat Assembly",
                                    "2": "273"
                                },
                                {
                                    "0": "D",
                                    "1": "ML Road Seat/Saddle",
                                    "2": "302"
                                },
                                {
                                    "0": "D",
                                    "1": "ML Touring Seat Assembly",
                                    "2": "278"
                                },
                                {
                                    "0": "D",
                                    "1": "ML Touring Seat/Saddle",
                                    "2": "161"
                                },
                                {
                                    "0": "D",
                                    "1": "Mountain End Caps",
                                    "2": "585"
                                },
                                {
                                    "0": "D",
                                    "1": "Road End Caps",
                                    "2": "576"
                                },
                                {
                                    "0": "D",
                                    "1": "Touring End Caps",
                                    "2": "566"
                                },
                                {
                                    "0": "D",
                                    "1": "NULL",
                                    "2": "17353"
                                },
                                {
                                    "0": "E",
                                    "1": "Cone-Shaped Race",
                                    "2": "388"
                                },
                                {
                                    "0": "E",
                                    "1": "Cup-Shaped Race",
                                    "2": "392"
                                },
                                {
                                    "0": "E",
                                    "1": "Flat Washer 1",
                                    "2": "372"
                                },
                                {
                                    "0": "E",
                                    "1": "Flat Washer 2",
                                    "2": "568"
                                },
                                {
                                    "0": "E",
                                    "1": "Flat Washer 3",
                                    "2": "585"
                                },
                                {
                                    "0": "E",
                                    "1": "Flat Washer 4",
                                    "2": "321"
                                },
                                {
                                    "0": "E",
                                    "1": "Flat Washer 5",
                                    "2": "323"
                                },
                                {
                                    "0": "E",
                                    "1": "Flat Washer 6",
                                    "2": "369"
                                },
                                {
                                    "0": "E",
                                    "1": "Flat Washer 7",
                                    "2": "328"
                                },
                                {
                                    "0": "E",
                                    "1": "Flat Washer 8",
                                    "2": "318"
                                },
                                {
                                    "0": "E",
                                    "1": "Flat Washer 9",
                                    "2": "358"
                                },
                                {
                                    "0": "E",
                                    "1": "Hex Nut 1",
                                    "2": "385"
                                },
                                {
                                    "0": "E",
                                    "1": "Hex Nut 10",
                                    "2": "654"
                                },
                                {
                                    "0": "E",
                                    "1": "Hex Nut 11",
                                    "2": "366"
                                },
                                {
                                    "0": "E",
                                    "1": "Hex Nut 12",
                                    "2": "304"
                                },
                                {
                                    "0": "E",
                                    "1": "Hex Nut 13",
                                    "2": "633"
                                },
                                {
                                    "0": "E",
                                    "1": "Hex Nut 14",
                                    "2": "497"
                                },
                                {
                                    "0": "E",
                                    "1": "Hex Nut 15",
                                    "2": "459"
                                },
                                {
                                    "0": "E",
                                    "1": "Hex Nut 16",
                                    "2": "393"
                                },
                                {
                                    "0": "E",
                                    "1": "Hex Nut 17",
                                    "2": "388"
                                },
                                {
                                    "0": "E",
                                    "1": "Hex Nut 18",
                                    "2": "603"
                                },
                                {
                                    "0": "E",
                                    "1": "Hex Nut 19",
                                    "2": "763"
                                },
                                {
                                    "0": "E",
                                    "1": "Hex Nut 2",
                                    "2": "460"
                                },
                                {
                                    "0": "E",
                                    "1": "Hex Nut 20",
                                    "2": "366"
                                },
                                {
                                    "0": "E",
                                    "1": "Hex Nut 21",
                                    "2": "369"
                                },
                                {
                                    "0": "E",
                                    "1": "Hex Nut 22",
                                    "2": "363"
                                },
                                {
                                    "0": "E",
                                    "1": "Hex Nut 23",
                                    "2": "638"
                                },
                                {
                                    "0": "E",
                                    "1": "Hex Nut 3",
                                    "2": "372"
                                },
                                {
                                    "0": "E",
                                    "1": "Hex Nut 4",
                                    "2": "148"
                                },
                                {
                                    "0": "E",
                                    "1": "Hex Nut 5",
                                    "2": "281"
                                },
                                {
                                    "0": "E",
                                    "1": "Hex Nut 6",
                                    "2": "547"
                                },
                                {
                                    "0": "E",
                                    "1": "Hex Nut 7",
                                    "2": "691"
                                },
                                {
                                    "0": "E",
                                    "1": "Hex Nut 8",
                                    "2": "350"
                                },
                                {
                                    "0": "E",
                                    "1": "Hex Nut 9",
                                    "2": "356"
                                },
                                {
                                    "0": "E",
                                    "1": "HL Crankset",
                                    "2": "278"
                                },
                                {
                                    "0": "E",
                                    "1": "HL Headset",
                                    "2": "219"
                                },
                                {
                                    "0": "E",
                                    "1": "HL Mountain Handlebars",
                                    "2": "260"
                                },
                                {
                                    "0": "E",
                                    "1": "HL Mountain Pedal",
                                    "2": "171"
                                },
                                {
                                    "0": "E",
                                    "1": "HL Road Handlebars",
                                    "2": "251"
                                },
                                {
                                    "0": "E",
                                    "1": "HL Road Pedal",
                                    "2": "316"
                                },
                                {
                                    "0": "E",
                                    "1": "HL Touring Handlebars",
                                    "2": "244"
                                },
                                {
                                    "0": "E",
                                    "1": "LL Crankset",
                                    "2": "265"
                                },
                                {
                                    "0": "E",
                                    "1": "LL Headset",
                                    "2": "212"
                                },
                                {
                                    "0": "E",
                                    "1": "LL Mountain Handlebars",
                                    "2": "267"
                                },
                                {
                                    "0": "E",
                                    "1": "LL Mountain Pedal",
                                    "2": "174"
                                },
                                {
                                    "0": "E",
                                    "1": "LL Road Handlebars",
                                    "2": "257"
                                },
                                {
                                    "0": "E",
                                    "1": "LL Road Pedal",
                                    "2": "169"
                                },
                                {
                                    "0": "E",
                                    "1": "LL Touring Handlebars",
                                    "2": "248"
                                },
                                {
                                    "0": "E",
                                    "1": "Metal Plate 1",
                                    "2": "515"
                                },
                                {
                                    "0": "E",
                                    "1": "Metal Plate 2",
                                    "2": "390"
                                },
                                {
                                    "0": "E",
                                    "1": "Metal Plate 3",
                                    "2": "374"
                                },
                                {
                                    "0": "E",
                                    "1": "ML Crankset",
                                    "2": "272"
                                },
                                {
                                    "0": "E",
                                    "1": "ML Headset",
                                    "2": "216"
                                },
                                {
                                    "0": "E",
                                    "1": "ML Mountain Handlebars",
                                    "2": "264"
                                },
                                {
                                    "0": "E",
                                    "1": "ML Mountain Pedal",
                                    "2": "172"
                                },
                                {
                                    "0": "E",
                                    "1": "ML Road Handlebars",
                                    "2": "254"
                                },
                                {
                                    "0": "E",
                                    "1": "ML Road Pedal",
                                    "2": "168"
                                },
                                {
                                    "0": "E",
                                    "1": "Pinch Bolt",
                                    "2": "336"
                                },
                                {
                                    "0": "E",
                                    "1": "Rear Brakes",
                                    "2": "337"
                                },
                                {
                                    "0": "E",
                                    "1": "Rear Derailleur",
                                    "2": "337"
                                },
                                {
                                    "0": "E",
                                    "1": "Rear Derailleur Cage",
                                    "2": "164"
                                },
                                {
                                    "0": "E",
                                    "1": "Reflector",
                                    "2": "316"
                                },
                                {
                                    "0": "E",
                                    "1": "Seat Lug",
                                    "2": "729"
                                },
                                {
                                    "0": "E",
                                    "1": "Seat Post",
                                    "2": "444"
                                },
                                {
                                    "0": "E",
                                    "1": "Seat Stays",
                                    "2": "542"
                                },
                                {
                                    "0": "E",
                                    "1": "Seat Tube",
                                    "2": "388"
                                },
                                {
                                    "0": "E",
                                    "1": "Steerer",
                                    "2": "374"
                                },
                                {
                                    "0": "E",
                                    "1": "Stem",
                                    "2": "371"
                                },
                                {
                                    "0": "E",
                                    "1": "Thin-Jam Hex Nut 1",
                                    "2": "531"
                                },
                                {
                                    "0": "E",
                                    "1": "Thin-Jam Hex Nut 10",
                                    "2": "368"
                                },
                                {
                                    "0": "E",
                                    "1": "Thin-Jam Hex Nut 11",
                                    "2": "278"
                                },
                                {
                                    "0": "E",
                                    "1": "Thin-Jam Hex Nut 12",
                                    "2": "275"
                                },
                                {
                                    "0": "E",
                                    "1": "Thin-Jam Hex Nut 13",
                                    "2": "368"
                                },
                                {
                                    "0": "E",
                                    "1": "Thin-Jam Hex Nut 14",
                                    "2": "476"
                                },
                                {
                                    "0": "E",
                                    "1": "Thin-Jam Hex Nut 15",
                                    "2": "619"
                                },
                                {
                                    "0": "E",
                                    "1": "Thin-Jam Hex Nut 16",
                                    "2": "326"
                                },
                                {
                                    "0": "E",
                                    "1": "Thin-Jam Hex Nut 2",
                                    "2": "334"
                                },
                                {
                                    "0": "E",
                                    "1": "Thin-Jam Hex Nut 3",
                                    "2": "569"
                                },
                                {
                                    "0": "E",
                                    "1": "Thin-Jam Hex Nut 4",
                                    "2": "374"
                                },
                                {
                                    "0": "E",
                                    "1": "Thin-Jam Hex Nut 5",
                                    "2": "619"
                                },
                                {
                                    "0": "E",
                                    "1": "Thin-Jam Hex Nut 6",
                                    "2": "412"
                                },
                                {
                                    "0": "E",
                                    "1": "Thin-Jam Hex Nut 7",
                                    "2": "547"
                                },
                                {
                                    "0": "E",
                                    "1": "Thin-Jam Hex Nut 8",
                                    "2": "272"
                                },
                                {
                                    "0": "E",
                                    "1": "Thin-Jam Hex Nut 9",
                                    "2": "374"
                                },
                                {
                                    "0": "E",
                                    "1": "Touring Pedal",
                                    "2": "235"
                                },
                                {
                                    "0": "E",
                                    "1": "NULL",
                                    "2": "31979"
                                },
                                {
                                    "0": "F",
                                    "1": "Down Tube",
                                    "2": "443"
                                },
                                {
                                    "0": "F",
                                    "1": "External Lock Washer 1",
                                    "2": "414"
                                },
                                {
                                    "0": "F",
                                    "1": "External Lock Washer 2",
                                    "2": "603"
                                },
                                {
                                    "0": "F",
                                    "1": "External Lock Washer 3",
                                    "2": "313"
                                },
                                {
                                    "0": "F",
                                    "1": "External Lock Washer 4",
                                    "2": "310"
                                },
                                {
                                    "0": "F",
                                    "1": "External Lock Washer 5",
                                    "2": "304"
                                },
                                {
                                    "0": "F",
                                    "1": "External Lock Washer 6",
                                    "2": "417"
                                },
                                {
                                    "0": "F",
                                    "1": "External Lock Washer 7",
                                    "2": "460"
                                },
                                {
                                    "0": "F",
                                    "1": "External Lock Washer 8",
                                    "2": "411"
                                },
                                {
                                    "0": "F",
                                    "1": "External Lock Washer 9",
                                    "2": "307"
                                },
                                {
                                    "0": "F",
                                    "1": "HL Mountain Handlebars",
                                    "2": "310"
                                },
                                {
                                    "0": "F",
                                    "1": "HL Mountain Seat Assembly",
                                    "2": "216"
                                },
                                {
                                    "0": "F",
                                    "1": "HL Mountain Seat/Saddle",
                                    "2": "96"
                                },
                                {
                                    "0": "F",
                                    "1": "HL Nipple",
                                    "2": "420"
                                },
                                {
                                    "0": "F",
                                    "1": "HL Road Handlebars",
                                    "2": "300"
                                },
                                {
                                    "0": "F",
                                    "1": "HL Road Seat Assembly",
                                    "2": "220"
                                },
                                {
                                    "0": "F",
                                    "1": "HL Road Seat/Saddle",
                                    "2": "153"
                                },
                                {
                                    "0": "F",
                                    "1": "HL Shell",
                                    "2": "624"
                                },
                                {
                                    "0": "F",
                                    "1": "HL Touring Handlebars",
                                    "2": "294"
                                },
                                {
                                    "0": "F",
                                    "1": "HL Touring Seat Assembly",
                                    "2": "225"
                                },
                                {
                                    "0": "F",
                                    "1": "HL Touring Seat/Saddle",
                                    "2": "276"
                                },
                                {
                                    "0": "F",
                                    "1": "Internal Lock Washer 1",
                                    "2": "246"
                                },
                                {
                                    "0": "F",
                                    "1": "Internal Lock Washer 10",
                                    "2": "248"
                                },
                                {
                                    "0": "F",
                                    "1": "Internal Lock Washer 2",
                                    "2": "243"
                                },
                                {
                                    "0": "F",
                                    "1": "Internal Lock Washer 3",
                                    "2": "299"
                                },
                                {
                                    "0": "F",
                                    "1": "Internal Lock Washer 4",
                                    "2": "641"
                                },
                                {
                                    "0": "F",
                                    "1": "Internal Lock Washer 5",
                                    "2": "422"
                                },
                                {
                                    "0": "F",
                                    "1": "Internal Lock Washer 6",
                                    "2": "572"
                                },
                                {
                                    "0": "F",
                                    "1": "Internal Lock Washer 7",
                                    "2": "417"
                                },
                                {
                                    "0": "F",
                                    "1": "Internal Lock Washer 8",
                                    "2": "244"
                                },
                                {
                                    "0": "F",
                                    "1": "Internal Lock Washer 9",
                                    "2": "427"
                                },
                                {
                                    "0": "F",
                                    "1": "Keyed Washer",
                                    "2": "316"
                                },
                                {
                                    "0": "F",
                                    "1": "LL Mountain Handlebars",
                                    "2": "316"
                                },
                                {
                                    "0": "F",
                                    "1": "LL Mountain Seat Assembly",
                                    "2": "212"
                                },
                                {
                                    "0": "F",
                                    "1": "LL Mountain Seat/Saddle",
                                    "2": "195"
                                },
                                {
                                    "0": "F",
                                    "1": "LL Nipple",
                                    "2": "600"
                                },
                                {
                                    "0": "F",
                                    "1": "LL Road Handlebars",
                                    "2": "307"
                                },
                                {
                                    "0": "F",
                                    "1": "LL Road Seat Assembly",
                                    "2": "217"
                                },
                                {
                                    "0": "F",
                                    "1": "LL Road Seat/Saddle",
                                    "2": "302"
                                },
                                {
                                    "0": "F",
                                    "1": "LL Shell",
                                    "2": "619"
                                },
                                {
                                    "0": "F",
                                    "1": "LL Touring Handlebars",
                                    "2": "297"
                                },
                                {
                                    "0": "F",
                                    "1": "LL Touring Seat Assembly",
                                    "2": "222"
                                },
                                {
                                    "0": "F",
                                    "1": "LL Touring Seat/Saddle",
                                    "2": "382"
                                },
                                {
                                    "0": "F",
                                    "1": "Metal Tread Plate",
                                    "2": "619"
                                },
                                {
                                    "0": "F",
                                    "1": "ML Mountain Handlebars",
                                    "2": "313"
                                },
                                {
                                    "0": "F",
                                    "1": "ML Mountain Seat Assembly",
                                    "2": "214"
                                },
                                {
                                    "0": "F",
                                    "1": "ML Mountain Seat/Saddle",
                                    "2": "120"
                                },
                                {
                                    "0": "F",
                                    "1": "ML Road Handlebars",
                                    "2": "304"
                                },
                                {
                                    "0": "F",
                                    "1": "ML Road Seat Assembly",
                                    "2": "219"
                                },
                                {
                                    "0": "F",
                                    "1": "ML Road Seat/Saddle",
                                    "2": "246"
                                },
                                {
                                    "0": "F",
                                    "1": "ML Touring Seat Assembly",
                                    "2": "224"
                                },
                                {
                                    "0": "F",
                                    "1": "ML Touring Seat/Saddle",
                                    "2": "158"
                                },
                                {
                                    "0": "F",
                                    "1": "Seat Lug",
                                    "2": "924"
                                },
                                {
                                    "0": "F",
                                    "1": "Seat Post",
                                    "2": "336"
                                },
                                {
                                    "0": "F",
                                    "1": "Seat Stays",
                                    "2": "715"
                                },
                                {
                                    "0": "F",
                                    "1": "Seat Tube",
                                    "2": "443"
                                },
                                {
                                    "0": "F",
                                    "1": "Spokes",
                                    "2": "702"
                                },
                                {
                                    "0": "F",
                                    "1": "Steerer",
                                    "2": "427"
                                },
                                {
                                    "0": "F",
                                    "1": "Stem",
                                    "2": "425"
                                },
                                {
                                    "0": "F",
                                    "1": "NULL",
                                    "2": "21249"
                                },
                                {
                                    "0": "G",
                                    "1": "Decal 1",
                                    "2": "540"
                                },
                                {
                                    "0": "G",
                                    "1": "Decal 2",
                                    "2": "587"
                                },
                                {
                                    "0": "G",
                                    "1": "External Lock Washer 1",
                                    "2": "340"
                                },
                                {
                                    "0": "G",
                                    "1": "External Lock Washer 2",
                                    "2": "552"
                                },
                                {
                                    "0": "G",
                                    "1": "External Lock Washer 3",
                                    "2": "350"
                                },
                                {
                                    "0": "G",
                                    "1": "External Lock Washer 4",
                                    "2": "347"
                                },
                                {
                                    "0": "G",
                                    "1": "External Lock Washer 5",
                                    "2": "340"
                                },
                                {
                                    "0": "G",
                                    "1": "External Lock Washer 6",
                                    "2": "344"
                                },
                                {
                                    "0": "G",
                                    "1": "External Lock Washer 7",
                                    "2": "587"
                                },
                                {
                                    "0": "G",
                                    "1": "External Lock Washer 8",
                                    "2": "337"
                                },
                                {
                                    "0": "G",
                                    "1": "External Lock Washer 9",
                                    "2": "344"
                                },
                                {
                                    "0": "G",
                                    "1": "Flat Washer 1",
                                    "2": "392"
                                },
                                {
                                    "0": "G",
                                    "1": "Flat Washer 4",
                                    "2": "315"
                                },
                                {
                                    "0": "G",
                                    "1": "Flat Washer 6",
                                    "2": "724"
                                },
                                {
                                    "0": "G",
                                    "1": "Flat Washer 7",
                                    "2": "256"
                                },
                                {
                                    "0": "G",
                                    "1": "Flat Washer 8",
                                    "2": "578"
                                },
                                {
                                    "0": "G",
                                    "1": "Flat Washer 9",
                                    "2": "714"
                                },
                                {
                                    "0": "G",
                                    "1": "HL Mountain Seat Assembly",
                                    "2": "321"
                                },
                                {
                                    "0": "G",
                                    "1": "HL Mountain Seat/Saddle",
                                    "2": "168"
                                },
                                {
                                    "0": "G",
                                    "1": "HL Road Seat Assembly",
                                    "2": "326"
                                },
                                {
                                    "0": "G",
                                    "1": "HL Road Seat/Saddle",
                                    "2": "145"
                                },
                                {
                                    "0": "G",
                                    "1": "HL Touring Seat Assembly",
                                    "2": "331"
                                },
                                {
                                    "0": "G",
                                    "1": "HL Touring Seat/Saddle",
                                    "2": "288"
                                },
                                {
                                    "0": "G",
                                    "1": "Internal Lock Washer 1",
                                    "2": "281"
                                },
                                {
                                    "0": "G",
                                    "1": "Internal Lock Washer 10",
                                    "2": "283"
                                },
                                {
                                    "0": "G",
                                    "1": "Internal Lock Washer 2",
                                    "2": "278"
                                },
                                {
                                    "0": "G",
                                    "1": "Internal Lock Washer 3",
                                    "2": "321"
                                },
                                {
                                    "0": "G",
                                    "1": "Internal Lock Washer 4",
                                    "2": "603"
                                },
                                {
                                    "0": "G",
                                    "1": "Internal Lock Washer 5",
                                    "2": "316"
                                },
                                {
                                    "0": "G",
                                    "1": "Internal Lock Washer 6",
                                    "2": "627"
                                },
                                {
                                    "0": "G",
                                    "1": "Internal Lock Washer 7",
                                    "2": "312"
                                },
                                {
                                    "0": "G",
                                    "1": "Internal Lock Washer 8",
                                    "2": "280"
                                },
                                {
                                    "0": "G",
                                    "1": "Internal Lock Washer 9",
                                    "2": "321"
                                },
                                {
                                    "0": "G",
                                    "1": "Keyed Washer",
                                    "2": "353"
                                },
                                {
                                    "0": "G",
                                    "1": "LL Mountain Seat Assembly",
                                    "2": "318"
                                },
                                {
                                    "0": "G",
                                    "1": "LL Mountain Seat/Saddle",
                                    "2": "214"
                                },
                                {
                                    "0": "G",
                                    "1": "LL Road Seat Assembly",
                                    "2": "323"
                                },
                                {
                                    "0": "G",
                                    "1": "LL Road Seat/Saddle",
                                    "2": "321"
                                },
                                {
                                    "0": "G",
                                    "1": "LL Touring Seat Assembly",
                                    "2": "328"
                                },
                                {
                                    "0": "G",
                                    "1": "LL Touring Seat/Saddle",
                                    "2": "171"
                                },
                                {
                                    "0": "G",
                                    "1": "Lock Nut 1",
                                    "2": "491"
                                },
                                {
                                    "0": "G",
                                    "1": "Lock Nut 10",
                                    "2": "486"
                                },
                                {
                                    "0": "G",
                                    "1": "Lock Nut 11",
                                    "2": "489"
                                },
                                {
                                    "0": "G",
                                    "1": "Lock Nut 12",
                                    "2": "500"
                                },
                                {
                                    "0": "G",
                                    "1": "Lock Nut 13",
                                    "2": "496"
                                },
                                {
                                    "0": "G",
                                    "1": "Lock Nut 14",
                                    "2": "505"
                                },
                                {
                                    "0": "G",
                                    "1": "Lock Nut 15",
                                    "2": "508"
                                },
                                {
                                    "0": "G",
                                    "1": "Lock Nut 16",
                                    "2": "534"
                                },
                                {
                                    "0": "G",
                                    "1": "Lock Nut 17",
                                    "2": "529"
                                },
                                {
                                    "0": "G",
                                    "1": "Lock Nut 18",
                                    "2": "518"
                                },
                                {
                                    "0": "G",
                                    "1": "Lock Nut 19",
                                    "2": "515"
                                },
                                {
                                    "0": "G",
                                    "1": "Lock Nut 2",
                                    "2": "492"
                                },
                                {
                                    "0": "G",
                                    "1": "Lock Nut 20",
                                    "2": "496"
                                },
                                {
                                    "0": "G",
                                    "1": "Lock Nut 21",
                                    "2": "499"
                                },
                                {
                                    "0": "G",
                                    "1": "Lock Nut 22",
                                    "2": "510"
                                },
                                {
                                    "0": "G",
                                    "1": "Lock Nut 23",
                                    "2": "505"
                                },
                                {
                                    "0": "G",
                                    "1": "Lock Nut 3",
                                    "2": "502"
                                },
                                {
                                    "0": "G",
                                    "1": "Lock Nut 4",
                                    "2": "512"
                                },
                                {
                                    "0": "G",
                                    "1": "Lock Nut 5",
                                    "2": "528"
                                },
                                {
                                    "0": "G",
                                    "1": "Lock Nut 6",
                                    "2": "531"
                                },
                                {
                                    "0": "G",
                                    "1": "Lock Nut 7",
                                    "2": "524"
                                },
                                {
                                    "0": "G",
                                    "1": "Lock Nut 8",
                                    "2": "520"
                                },
                                {
                                    "0": "G",
                                    "1": "Lock Nut 9",
                                    "2": "515"
                                },
                                {
                                    "0": "G",
                                    "1": "Lock Ring",
                                    "2": "627"
                                },
                                {
                                    "0": "G",
                                    "1": "Lock Washer 10",
                                    "2": "502"
                                },
                                {
                                    "0": "G",
                                    "1": "Lock Washer 13",
                                    "2": "505"
                                },
                                {
                                    "0": "G",
                                    "1": "Lock Washer 4",
                                    "2": "499"
                                },
                                {
                                    "0": "G",
                                    "1": "Lock Washer 5",
                                    "2": "500"
                                },
                                {
                                    "0": "G",
                                    "1": "Lock Washer 6",
                                    "2": "504"
                                },
                                {
                                    "0": "G",
                                    "1": "Lock Washer 8",
                                    "2": "507"
                                },
                                {
                                    "0": "G",
                                    "1": "Lower Head Race",
                                    "2": "310"
                                },
                                {
                                    "0": "G",
                                    "1": "ML Mountain Seat Assembly",
                                    "2": "320"
                                },
                                {
                                    "0": "G",
                                    "1": "ML Mountain Seat/Saddle",
                                    "2": "72"
                                },
                                {
                                    "0": "G",
                                    "1": "ML Road Seat Assembly",
                                    "2": "324"
                                },
                                {
                                    "0": "G",
                                    "1": "ML Road Seat/Saddle",
                                    "2": "353"
                                },
                                {
                                    "0": "G",
                                    "1": "ML Touring Seat Assembly",
                                    "2": "329"
                                },
                                {
                                    "0": "G",
                                    "1": "ML Touring Seat/Saddle",
                                    "2": "83"
                                },
                                {
                                    "0": "G",
                                    "1": "Thin-Jam Lock Nut 1",
                                    "2": "512"
                                },
                                {
                                    "0": "G",
                                    "1": "Thin-Jam Lock Nut 10",
                                    "2": "513"
                                },
                                {
                                    "0": "G",
                                    "1": "Thin-Jam Lock Nut 11",
                                    "2": "524"
                                },
                                {
                                    "0": "G",
                                    "1": "Thin-Jam Lock Nut 12",
                                    "2": "521"
                                },
                                {
                                    "0": "G",
                                    "1": "Thin-Jam Lock Nut 13",
                                    "2": "508"
                                },
                                {
                                    "0": "G",
                                    "1": "Thin-Jam Lock Nut 14",
                                    "2": "512"
                                },
                                {
                                    "0": "G",
                                    "1": "Thin-Jam Lock Nut 15",
                                    "2": "508"
                                },
                                {
                                    "0": "G",
                                    "1": "Thin-Jam Lock Nut 16",
                                    "2": "507"
                                },
                                {
                                    "0": "G",
                                    "1": "Thin-Jam Lock Nut 2",
                                    "2": "510"
                                },
                                {
                                    "0": "G",
                                    "1": "Thin-Jam Lock Nut 3",
                                    "2": "502"
                                },
                                {
                                    "0": "G",
                                    "1": "Thin-Jam Lock Nut 4",
                                    "2": "505"
                                },
                                {
                                    "0": "G",
                                    "1": "Thin-Jam Lock Nut 5",
                                    "2": "505"
                                },
                                {
                                    "0": "G",
                                    "1": "Thin-Jam Lock Nut 6",
                                    "2": "504"
                                },
                                {
                                    "0": "G",
                                    "1": "Thin-Jam Lock Nut 7",
                                    "2": "515"
                                },
                                {
                                    "0": "G",
                                    "1": "Thin-Jam Lock Nut 8",
                                    "2": "518"
                                },
                                {
                                    "0": "G",
                                    "1": "Thin-Jam Lock Nut 9",
                                    "2": "515"
                                },
                                {
                                    "0": "G",
                                    "1": "NULL",
                                    "2": "40195"
                                },
                                {
                                    "0": "H",
                                    "1": "Decal 1",
                                    "2": "569"
                                },
                                {
                                    "0": "H",
                                    "1": "Decal 2",
                                    "2": "622"
                                },
                                {
                                    "0": "H",
                                    "1": "Guide Pulley",
                                    "2": "257"
                                },
                                {
                                    "0": "H",
                                    "1": "HL Grip Tape",
                                    "2": "214"
                                },
                                {
                                    "0": "H",
                                    "1": "LL Grip Tape",
                                    "2": "243"
                                },
                                {
                                    "0": "H",
                                    "1": "Lock Nut 1",
                                    "2": "596"
                                },
                                {
                                    "0": "H",
                                    "1": "Lock Nut 10",
                                    "2": "592"
                                },
                                {
                                    "0": "H",
                                    "1": "Lock Nut 11",
                                    "2": "595"
                                },
                                {
                                    "0": "H",
                                    "1": "Lock Nut 12",
                                    "2": "606"
                                },
                                {
                                    "0": "H",
                                    "1": "Lock Nut 13",
                                    "2": "601"
                                },
                                {
                                    "0": "H",
                                    "1": "Lock Nut 14",
                                    "2": "611"
                                },
                                {
                                    "0": "H",
                                    "1": "Lock Nut 15",
                                    "2": "614"
                                },
                                {
                                    "0": "H",
                                    "1": "Lock Nut 18",
                                    "2": "624"
                                },
                                {
                                    "0": "H",
                                    "1": "Lock Nut 19",
                                    "2": "620"
                                },
                                {
                                    "0": "H",
                                    "1": "Lock Nut 2",
                                    "2": "598"
                                },
                                {
                                    "0": "H",
                                    "1": "Lock Nut 20",
                                    "2": "601"
                                },
                                {
                                    "0": "H",
                                    "1": "Lock Nut 21",
                                    "2": "604"
                                },
                                {
                                    "0": "H",
                                    "1": "Lock Nut 22",
                                    "2": "616"
                                },
                                {
                                    "0": "H",
                                    "1": "Lock Nut 23",
                                    "2": "611"
                                },
                                {
                                    "0": "H",
                                    "1": "Lock Nut 3",
                                    "2": "608"
                                },
                                {
                                    "0": "H",
                                    "1": "Lock Nut 4",
                                    "2": "617"
                                },
                                {
                                    "0": "H",
                                    "1": "Lock Ring",
                                    "2": "521"
                                },
                                {
                                    "0": "H",
                                    "1": "Lock Washer 1",
                                    "2": "576"
                                },
                                {
                                    "0": "H",
                                    "1": "Lock Washer 10",
                                    "2": "569"
                                },
                                {
                                    "0": "H",
                                    "1": "Lock Washer 11",
                                    "2": "585"
                                },
                                {
                                    "0": "H",
                                    "1": "Lock Washer 12",
                                    "2": "579"
                                },
                                {
                                    "0": "H",
                                    "1": "Lock Washer 13",
                                    "2": "572"
                                },
                                {
                                    "0": "H",
                                    "1": "Lock Washer 2",
                                    "2": "580"
                                },
                                {
                                    "0": "H",
                                    "1": "Lock Washer 3",
                                    "2": "584"
                                },
                                {
                                    "0": "H",
                                    "1": "Lock Washer 4",
                                    "2": "566"
                                },
                                {
                                    "0": "H",
                                    "1": "Lock Washer 5",
                                    "2": "568"
                                },
                                {
                                    "0": "H",
                                    "1": "Lock Washer 6",
                                    "2": "571"
                                },
                                {
                                    "0": "H",
                                    "1": "Lock Washer 7",
                                    "2": "577"
                                },
                                {
                                    "0": "H",
                                    "1": "Lock Washer 8",
                                    "2": "574"
                                },
                                {
                                    "0": "H",
                                    "1": "Lock Washer 9",
                                    "2": "582"
                                },
                                {
                                    "0": "H",
                                    "1": "Lower Head Race",
                                    "2": "204"
                                },
                                {
                                    "0": "H",
                                    "1": "ML Grip Tape",
                                    "2": "228"
                                },
                                {
                                    "0": "H",
                                    "1": "NULL",
                                    "2": "20055"
                                },
                                {
                                    "0": "J",
                                    "1": "Fork Crown",
                                    "2": "622"
                                },
                                {
                                    "0": "J",
                                    "1": "Fork End",
                                    "2": "574"
                                },
                                {
                                    "0": "J",
                                    "1": "Freewheel",
                                    "2": "344"
                                },
                                {
                                    "0": "J",
                                    "1": "Front Brakes",
                                    "2": "347"
                                },
                                {
                                    "0": "J",
                                    "1": "Front Derailleur",
                                    "2": "347"
                                },
                                {
                                    "0": "J",
                                    "1": "Front Derailleur Cage",
                                    "2": "179"
                                },
                                {
                                    "0": "J",
                                    "1": "Front Derailleur Linkage",
                                    "2": "300"
                                },
                                {
                                    "0": "J",
                                    "1": "HL Fork",
                                    "2": "363"
                                },
                                {
                                    "0": "J",
                                    "1": "HL Mountain Rim",
                                    "2": "558"
                                },
                                {
                                    "0": "J",
                                    "1": "HL Nipple",
                                    "2": "254"
                                },
                                {
                                    "0": "J",
                                    "1": "HL Road Rim",
                                    "2": "281"
                                },
                                {
                                    "0": "J",
                                    "1": "LL Fork",
                                    "2": "350"
                                },
                                {
                                    "0": "J",
                                    "1": "LL Mountain Rim",
                                    "2": "542"
                                },
                                {
                                    "0": "J",
                                    "1": "LL Nipple",
                                    "2": "593"
                                },
                                {
                                    "0": "J",
                                    "1": "LL Road Rim",
                                    "2": "316"
                                },
                                {
                                    "0": "J",
                                    "1": "Lock Washer 1",
                                    "2": "508"
                                },
                                {
                                    "0": "J",
                                    "1": "Lock Washer 11",
                                    "2": "518"
                                },
                                {
                                    "0": "J",
                                    "1": "Lock Washer 12",
                                    "2": "512"
                                },
                                {
                                    "0": "J",
                                    "1": "Lock Washer 2",
                                    "2": "513"
                                },
                                {
                                    "0": "J",
                                    "1": "Lock Washer 3",
                                    "2": "516"
                                },
                                {
                                    "0": "J",
                                    "1": "Lock Washer 7",
                                    "2": "510"
                                },
                                {
                                    "0": "J",
                                    "1": "Lock Washer 9",
                                    "2": "515"
                                },
                                {
                                    "0": "J",
                                    "1": "Metal Tread Plate",
                                    "2": "612"
                                },
                                {
                                    "0": "J",
                                    "1": "ML Fork",
                                    "2": "356"
                                },
                                {
                                    "0": "J",
                                    "1": "ML Mountain Rim",
                                    "2": "550"
                                },
                                {
                                    "0": "J",
                                    "1": "ML Road Rim",
                                    "2": "350"
                                },
                                {
                                    "0": "J",
                                    "1": "Touring Rim",
                                    "2": "724"
                                },
                                {
                                    "0": "J",
                                    "1": "NULL",
                                    "2": "12154"
                                },
                                {
                                    "0": "K",
                                    "1": "Down Tube",
                                    "2": "408"
                                },
                                {
                                    "0": "K",
                                    "1": "HL Spindle/Axle",
                                    "2": "107"
                                },
                                {
                                    "0": "K",
                                    "1": "LL Spindle/Axle",
                                    "2": "164"
                                },
                                {
                                    "0": "K",
                                    "1": "Lock Ring",
                                    "2": "504"
                                },
                                {
                                    "0": "K",
                                    "1": "Lock Washer 1",
                                    "2": "630"
                                },
                                {
                                    "0": "K",
                                    "1": "Lock Washer 10",
                                    "2": "624"
                                },
                                {
                                    "0": "K",
                                    "1": "Lock Washer 11",
                                    "2": "640"
                                },
                                {
                                    "0": "K",
                                    "1": "Lock Washer 12",
                                    "2": "633"
                                },
                                {
                                    "0": "K",
                                    "1": "Lock Washer 13",
                                    "2": "627"
                                },
                                {
                                    "0": "K",
                                    "1": "Lock Washer 2",
                                    "2": "635"
                                },
                                {
                                    "0": "K",
                                    "1": "Lock Washer 3",
                                    "2": "638"
                                },
                                {
                                    "0": "K",
                                    "1": "Lock Washer 4",
                                    "2": "620"
                                },
                                {
                                    "0": "K",
                                    "1": "Lock Washer 5",
                                    "2": "622"
                                },
                                {
                                    "0": "K",
                                    "1": "Lock Washer 6",
                                    "2": "625"
                                },
                                {
                                    "0": "K",
                                    "1": "Lock Washer 7",
                                    "2": "632"
                                },
                                {
                                    "0": "K",
                                    "1": "Lock Washer 8",
                                    "2": "628"
                                },
                                {
                                    "0": "K",
                                    "1": "Lock Washer 9",
                                    "2": "636"
                                },
                                {
                                    "0": "K",
                                    "1": "Lower Head Race",
                                    "2": "187"
                                },
                                {
                                    "0": "K",
                                    "1": "Thin-Jam Lock Nut 1",
                                    "2": "617"
                                },
                                {
                                    "0": "K",
                                    "1": "Thin-Jam Lock Nut 10",
                                    "2": "619"
                                },
                                {
                                    "0": "K",
                                    "1": "Thin-Jam Lock Nut 13",
                                    "2": "614"
                                },
                                {
                                    "0": "K",
                                    "1": "Thin-Jam Lock Nut 15",
                                    "2": "614"
                                },
                                {
                                    "0": "K",
                                    "1": "Thin-Jam Lock Nut 16",
                                    "2": "612"
                                },
                                {
                                    "0": "K",
                                    "1": "Thin-Jam Lock Nut 2",
                                    "2": "616"
                                },
                                {
                                    "0": "K",
                                    "1": "Thin-Jam Lock Nut 3",
                                    "2": "608"
                                },
                                {
                                    "0": "K",
                                    "1": "Thin-Jam Lock Nut 4",
                                    "2": "611"
                                },
                                {
                                    "0": "K",
                                    "1": "Thin-Jam Lock Nut 5",
                                    "2": "611"
                                },
                                {
                                    "0": "K",
                                    "1": "Thin-Jam Lock Nut 6",
                                    "2": "609"
                                },
                                {
                                    "0": "K",
                                    "1": "Thin-Jam Lock Nut 9",
                                    "2": "620"
                                },
                                {
                                    "0": "K",
                                    "1": "NULL",
                                    "2": "16311"
                                },
                                {
                                    "0": "L",
                                    "1": "HL Mountain Tire",
                                    "2": "267"
                                },
                                {
                                    "0": "L",
                                    "1": "HL Road Tire",
                                    "2": "299"
                                },
                                {
                                    "0": "L",
                                    "1": "HL Spindle/Axle",
                                    "2": "124"
                                },
                                {
                                    "0": "L",
                                    "1": "LL Mountain Tire",
                                    "2": "240"
                                },
                                {
                                    "0": "L",
                                    "1": "LL Road Tire",
                                    "2": "236"
                                },
                                {
                                    "0": "L",
                                    "1": "LL Spindle/Axle",
                                    "2": "139"
                                },
                                {
                                    "0": "L",
                                    "1": "Lock Nut 16",
                                    "2": "640"
                                },
                                {
                                    "0": "L",
                                    "1": "Lock Nut 17",
                                    "2": "635"
                                },
                                {
                                    "0": "L",
                                    "1": "Lock Nut 5",
                                    "2": "633"
                                },
                                {
                                    "0": "L",
                                    "1": "Lock Nut 6",
                                    "2": "636"
                                },
                                {
                                    "0": "L",
                                    "1": "Lock Nut 7",
                                    "2": "630"
                                },
                                {
                                    "0": "L",
                                    "1": "Lock Nut 8",
                                    "2": "625"
                                },
                                {
                                    "0": "L",
                                    "1": "Lock Nut 9",
                                    "2": "620"
                                },
                                {
                                    "0": "L",
                                    "1": "Metal Sheet 1",
                                    "2": "305"
                                },
                                {
                                    "0": "L",
                                    "1": "Metal Sheet 2",
                                    "2": "176"
                                },
                                {
                                    "0": "L",
                                    "1": "Metal Sheet 3",
                                    "2": "459"
                                },
                                {
                                    "0": "L",
                                    "1": "Metal Sheet 4",
                                    "2": "176"
                                },
                                {
                                    "0": "L",
                                    "1": "Metal Sheet 5",
                                    "2": "457"
                                },
                                {
                                    "0": "L",
                                    "1": "Metal Sheet 6",
                                    "2": "324"
                                },
                                {
                                    "0": "L",
                                    "1": "Metal Sheet 7",
                                    "2": "196"
                                },
                                {
                                    "0": "L",
                                    "1": "ML Mountain Tire",
                                    "2": "385"
                                },
                                {
                                    "0": "L",
                                    "1": "ML Road Tire",
                                    "2": "382"
                                },
                                {
                                    "0": "L",
                                    "1": "Mountain Tire Tube",
                                    "2": "286"
                                },
                                {
                                    "0": "L",
                                    "1": "Road Tire Tube",
                                    "2": "264"
                                },
                                {
                                    "0": "L",
                                    "1": "Tension Pulley",
                                    "2": "427"
                                },
                                {
                                    "0": "L",
                                    "1": "Thin-Jam Lock Nut 11",
                                    "2": "630"
                                },
                                {
                                    "0": "L",
                                    "1": "Thin-Jam Lock Nut 12",
                                    "2": "627"
                                },
                                {
                                    "0": "L",
                                    "1": "Thin-Jam Lock Nut 14",
                                    "2": "617"
                                },
                                {
                                    "0": "L",
                                    "1": "Thin-Jam Lock Nut 7",
                                    "2": "620"
                                },
                                {
                                    "0": "L",
                                    "1": "Thin-Jam Lock Nut 8",
                                    "2": "624"
                                },
                                {
                                    "0": "L",
                                    "1": "Top Tube",
                                    "2": "379"
                                },
                                {
                                    "0": "L",
                                    "1": "Touring Tire",
                                    "2": "233"
                                },
                                {
                                    "0": "L",
                                    "1": "Touring Tire Tube",
                                    "2": "262"
                                },
                                {
                                    "0": "L",
                                    "1": "NULL",
                                    "2": "13553"
                                },
                                {
                                    "0": "M",
                                    "1": "Cone-Shaped Race",
                                    "2": "299"
                                },
                                {
                                    "0": "M",
                                    "1": "Cup-Shaped Race",
                                    "2": "372"
                                },
                                {
                                    "0": "M",
                                    "1": "HL Mountain Pedal",
                                    "2": "179"
                                },
                                {
                                    "0": "M",
                                    "1": "HL Road Pedal",
                                    "2": "267"
                                },
                                {
                                    "0": "M",
                                    "1": "LL Mountain Pedal",
                                    "2": "182"
                                },
                                {
                                    "0": "M",
                                    "1": "LL Road Pedal",
                                    "2": "177"
                                },
                                {
                                    "0": "M",
                                    "1": "ML Mountain Pedal",
                                    "2": "180"
                                },
                                {
                                    "0": "M",
                                    "1": "ML Road Pedal",
                                    "2": "176"
                                },
                                {
                                    "0": "M",
                                    "1": "Pinch Bolt",
                                    "2": "364"
                                },
                                {
                                    "0": "M",
                                    "1": "Rear Brakes",
                                    "2": "228"
                                },
                                {
                                    "0": "M",
                                    "1": "Rear Derailleur",
                                    "2": "355"
                                },
                                {
                                    "0": "M",
                                    "1": "Rear Derailleur Cage",
                                    "2": "136"
                                },
                                {
                                    "0": "M",
                                    "1": "Reflector",
                                    "2": "390"
                                },
                                {
                                    "0": "M",
                                    "1": "Touring Pedal",
                                    "2": "262"
                                },
                                {
                                    "0": "M",
                                    "1": "NULL",
                                    "2": "3567"
                                },
                                {
                                    "0": "N",
                                    "1": "HL Mountain Rim",
                                    "2": "689"
                                },
                                {
                                    "0": "N",
                                    "1": "HL Nipple",
                                    "2": "248"
                                },
                                {
                                    "0": "N",
                                    "1": "HL Road Rim",
                                    "2": "334"
                                },
                                {
                                    "0": "N",
                                    "1": "LL Mountain Rim",
                                    "2": "673"
                                },
                                {
                                    "0": "N",
                                    "1": "LL Nipple",
                                    "2": "587"
                                },
                                {
                                    "0": "N",
                                    "1": "LL Road Rim",
                                    "2": "406"
                                },
                                {
                                    "0": "N",
                                    "1": "Metal Tread Plate",
                                    "2": "606"
                                },
                                {
                                    "0": "N",
                                    "1": "ML Mountain Rim",
                                    "2": "681"
                                },
                                {
                                    "0": "N",
                                    "1": "ML Road Rim",
                                    "2": "390"
                                },
                                {
                                    "0": "N",
                                    "1": "Touring Rim",
                                    "2": "640"
                                },
                                {
                                    "0": "N",
                                    "1": "NULL",
                                    "2": "5254"
                                },
                                {
                                    "0": "N/A",
                                    "1": "All-Purpose Bike Stand",
                                    "2": "144"
                                },
                                {
                                    "0": "N/A",
                                    "1": "AWC Logo Cap",
                                    "2": "288"
                                },
                                {
                                    "0": "N/A",
                                    "1": "Bike Wash - Dissolver",
                                    "2": "36"
                                },
                                {
                                    "0": "N/A",
                                    "1": "Cable Lock",
                                    "2": "252"
                                },
                                {
                                    "0": "N/A",
                                    "1": "Classic Vest, L",
                                    "2": "252"
                                },
                                {
                                    "0": "N/A",
                                    "1": "Classic Vest, M",
                                    "2": "216"
                                },
                                {
                                    "0": "N/A",
                                    "1": "Classic Vest, S",
                                    "2": "180"
                                },
                                {
                                    "0": "N/A",
                                    "1": "Fender Set - Mountain",
                                    "2": "108"
                                },
                                {
                                    "0": "N/A",
                                    "1": "Full-Finger Gloves, L",
                                    "2": "144"
                                },
                                {
                                    "0": "N/A",
                                    "1": "Full-Finger Gloves, M",
                                    "2": "108"
                                },
                                {
                                    "0": "N/A",
                                    "1": "Full-Finger Gloves, S",
                                    "2": "72"
                                },
                                {
                                    "0": "N/A",
                                    "1": "Half-Finger Gloves, L",
                                    "2": "36"
                                },
                                {
                                    "0": "N/A",
                                    "1": "Half-Finger Gloves, M",
                                    "2": "0"
                                },
                                {
                                    "0": "N/A",
                                    "1": "Half-Finger Gloves, S",
                                    "2": "324"
                                },
                                {
                                    "0": "N/A",
                                    "1": "Headlights - Dual-Beam",
                                    "2": "180"
                                },
                                {
                                    "0": "N/A",
                                    "1": "Headlights - Weatherproof",
                                    "2": "216"
                                },
                                {
                                    "0": "N/A",
                                    "1": "Hitch Rack - 4-Bike",
                                    "2": "0"
                                },
                                {
                                    "0": "N/A",
                                    "1": "HL Mountain Frame - Black, 38",
                                    "2": "834"
                                },
                                {
                                    "0": "N/A",
                                    "1": "HL Mountain Frame - Silver, 38",
                                    "2": "738"
                                },
                                {
                                    "0": "N/A",
                                    "1": "Hydration Pack - 70 oz.",
                                    "2": "108"
                                },
                                {
                                    "0": "N/A",
                                    "1": "LL Mountain Frame - Black, 40",
                                    "2": "719"
                                },
                                {
                                    "0": "N/A",
                                    "1": "LL Mountain Frame - Silver, 40",
                                    "2": "682"
                                },
                                {
                                    "0": "N/A",
                                    "1": "Long-Sleeve Logo Jersey, L",
                                    "2": "216"
                                },
                                {
                                    "0": "N/A",
                                    "1": "Long-Sleeve Logo Jersey, M",
                                    "2": "180"
                                },
                                {
                                    "0": "N/A",
                                    "1": "Long-Sleeve Logo Jersey, S",
                                    "2": "144"
                                },
                                {
                                    "0": "N/A",
                                    "1": "Long-Sleeve Logo Jersey, XL",
                                    "2": "252"
                                },
                                {
                                    "0": "N/A",
                                    "1": "Men's Bib-Shorts, L",
                                    "2": "144"
                                },
                                {
                                    "0": "N/A",
                                    "1": "Men's Bib-Shorts, M",
                                    "2": "108"
                                },
                                {
                                    "0": "N/A",
                                    "1": "Men's Bib-Shorts, S",
                                    "2": "72"
                                },
                                {
                                    "0": "N/A",
                                    "1": "Men's Sports Shorts, L",
                                    "2": "144"
                                },
                                {
                                    "0": "N/A",
                                    "1": "Men's Sports Shorts, M",
                                    "2": "108"
                                },
                                {
                                    "0": "N/A",
                                    "1": "Men's Sports Shorts, S",
                                    "2": "288"
                                },
                                {
                                    "0": "N/A",
                                    "1": "Men's Sports Shorts, XL",
                                    "2": "180"
                                },
                                {
                                    "0": "N/A",
                                    "1": "Minipump",
                                    "2": "288"
                                },
                                {
                                    "0": "N/A",
                                    "1": "ML Mountain Frame - Black, 38",
                                    "2": "767"
                                },
                                {
                                    "0": "N/A",
                                    "1": "ML Mountain Frame-W - Silver, 38",
                                    "2": "826"
                                },
                                {
                                    "0": "N/A",
                                    "1": "ML Road Frame-W - Yellow, 38",
                                    "2": "796"
                                },
                                {
                                    "0": "N/A",
                                    "1": "Mountain Bike Socks, L",
                                    "2": "216"
                                },
                                {
                                    "0": "N/A",
                                    "1": "Mountain Bike Socks, M",
                                    "2": "180"
                                },
                                {
                                    "0": "N/A",
                                    "1": "Mountain Bottle Cage",
                                    "2": "288"
                                },
                                {
                                    "0": "N/A",
                                    "1": "Mountain Pump",
                                    "2": "324"
                                },
                                {
                                    "0": "N/A",
                                    "1": "Mountain-100 Black, 38",
                                    "2": "155"
                                },
                                {
                                    "0": "N/A",
                                    "1": "Mountain-100 Black, 42",
                                    "2": "194"
                                },
                                {
                                    "0": "N/A",
                                    "1": "Mountain-100 Black, 44",
                                    "2": "149"
                                },
                                {
                                    "0": "N/A",
                                    "1": "Mountain-100 Black, 48",
                                    "2": "153"
                                },
                                {
                                    "0": "N/A",
                                    "1": "Mountain-100 Silver, 38",
                                    "2": "149"
                                },
                                {
                                    "0": "N/A",
                                    "1": "Mountain-100 Silver, 42",
                                    "2": "153"
                                },
                                {
                                    "0": "N/A",
                                    "1": "Mountain-100 Silver, 44",
                                    "2": "158"
                                },
                                {
                                    "0": "N/A",
                                    "1": "Mountain-100 Silver, 48",
                                    "2": "164"
                                },
                                {
                                    "0": "N/A",
                                    "1": "Mountain-200 Black, 38",
                                    "2": "188"
                                },
                                {
                                    "0": "N/A",
                                    "1": "Mountain-200 Black, 42",
                                    "2": "148"
                                },
                                {
                                    "0": "N/A",
                                    "1": "Mountain-200 Black, 46",
                                    "2": "137"
                                },
                                {
                                    "0": "N/A",
                                    "1": "Mountain-200 Silver, 38",
                                    "2": "137"
                                },
                                {
                                    "0": "N/A",
                                    "1": "Mountain-200 Silver, 42",
                                    "2": "223"
                                },
                                {
                                    "0": "N/A",
                                    "1": "Mountain-200 Silver, 46",
                                    "2": "140"
                                },
                                {
                                    "0": "N/A",
                                    "1": "Mountain-300 Black, 38",
                                    "2": "137"
                                },
                                {
                                    "0": "N/A",
                                    "1": "Mountain-300 Black, 40",
                                    "2": "223"
                                },
                                {
                                    "0": "N/A",
                                    "1": "Mountain-300 Black, 44",
                                    "2": "140"
                                },
                                {
                                    "0": "N/A",
                                    "1": "Mountain-300 Black, 48",
                                    "2": "128"
                                },
                                {
                                    "0": "N/A",
                                    "1": "Mountain-400-W Silver, 38",
                                    "2": "150"
                                },
                                {
                                    "0": "N/A",
                                    "1": "Mountain-400-W Silver, 40",
                                    "2": "153"
                                },
                                {
                                    "0": "N/A",
                                    "1": "Mountain-400-W Silver, 42",
                                    "2": "154"
                                },
                                {
                                    "0": "N/A",
                                    "1": "Mountain-400-W Silver, 46",
                                    "2": "164"
                                },
                                {
                                    "0": "N/A",
                                    "1": "Mountain-500 Black, 40",
                                    "2": "150"
                                },
                                {
                                    "0": "N/A",
                                    "1": "Mountain-500 Black, 42",
                                    "2": "153"
                                },
                                {
                                    "0": "N/A",
                                    "1": "Mountain-500 Black, 44",
                                    "2": "154"
                                },
                                {
                                    "0": "N/A",
                                    "1": "Mountain-500 Black, 48",
                                    "2": "164"
                                },
                                {
                                    "0": "N/A",
                                    "1": "Mountain-500 Black, 52",
                                    "2": "153"
                                },
                                {
                                    "0": "N/A",
                                    "1": "Mountain-500 Silver, 40",
                                    "2": "154"
                                },
                                {
                                    "0": "N/A",
                                    "1": "Mountain-500 Silver, 42",
                                    "2": "164"
                                },
                                {
                                    "0": "N/A",
                                    "1": "Mountain-500 Silver, 44",
                                    "2": "153"
                                },
                                {
                                    "0": "N/A",
                                    "1": "Mountain-500 Silver, 48",
                                    "2": "155"
                                },
                                {
                                    "0": "N/A",
                                    "1": "Mountain-500 Silver, 52",
                                    "2": "194"
                                },
                                {
                                    "0": "N/A",
                                    "1": "Patch Kit/8 Patches",
                                    "2": "180"
                                },
                                {
                                    "0": "N/A",
                                    "1": "Racing Socks, L",
                                    "2": "288"
                                },
                                {
                                    "0": "N/A",
                                    "1": "Racing Socks, M",
                                    "2": "252"
                                },
                                {
                                    "0": "N/A",
                                    "1": "Road Bottle Cage",
                                    "2": "324"
                                },
                                {
                                    "0": "N/A",
                                    "1": "Road-150 Red, 44",
                                    "2": "223"
                                },
                                {
                                    "0": "N/A",
                                    "1": "Road-150 Red, 48",
                                    "2": "140"
                                },
                                {
                                    "0": "N/A",
                                    "1": "Road-150 Red, 52",
                                    "2": "128"
                                },
                                {
                                    "0": "N/A",
                                    "1": "Road-150 Red, 56",
                                    "2": "163"
                                },
                                {
                                    "0": "N/A",
                                    "1": "Road-150 Red, 62",
                                    "2": "133"
                                },
                                {
                                    "0": "N/A",
                                    "1": "Road-250 Black, 44",
                                    "2": "134"
                                },
                                {
                                    "0": "N/A",
                                    "1": "Road-250 Black, 48",
                                    "2": "165"
                                },
                                {
                                    "0": "N/A",
                                    "1": "Road-250 Black, 52",
                                    "2": "188"
                                },
                                {
                                    "0": "N/A",
                                    "1": "Road-250 Black, 58",
                                    "2": "148"
                                },
                                {
                                    "0": "N/A",
                                    "1": "Road-250 Red, 44",
                                    "2": "163"
                                },
                                {
                                    "0": "N/A",
                                    "1": "Road-250 Red, 48",
                                    "2": "185"
                                },
                                {
                                    "0": "N/A",
                                    "1": "Road-250 Red, 52",
                                    "2": "148"
                                },
                                {
                                    "0": "N/A",
                                    "1": "Road-250 Red, 58",
                                    "2": "227"
                                },
                                {
                                    "0": "N/A",
                                    "1": "Road-350-W Yellow, 40",
                                    "2": "185"
                                },
                                {
                                    "0": "N/A",
                                    "1": "Road-350-W Yellow, 42",
                                    "2": "148"
                                },
                                {
                                    "0": "N/A",
                                    "1": "Road-350-W Yellow, 44",
                                    "2": "133"
                                },
                                {
                                    "0": "N/A",
                                    "1": "Road-350-W Yellow, 48",
                                    "2": "227"
                                },
                                {
                                    "0": "N/A",
                                    "1": "Road-450 Red, 44",
                                    "2": "129"
                                },
                                {
                                    "0": "N/A",
                                    "1": "Road-450 Red, 48",
                                    "2": "134"
                                },
                                {
                                    "0": "N/A",
                                    "1": "Road-450 Red, 52",
                                    "2": "165"
                                },
                                {
                                    "0": "N/A",
                                    "1": "Road-450 Red, 58",
                                    "2": "148"
                                },
                                {
                                    "0": "N/A",
                                    "1": "Road-450 Red, 60",
                                    "2": "137"
                                },
                                {
                                    "0": "N/A",
                                    "1": "Road-550-W Yellow, 38",
                                    "2": "148"
                                },
                                {
                                    "0": "N/A",
                                    "1": "Road-550-W Yellow, 40",
                                    "2": "133"
                                },
                                {
                                    "0": "N/A",
                                    "1": "Road-550-W Yellow, 42",
                                    "2": "227"
                                },
                                {
                                    "0": "N/A",
                                    "1": "Road-550-W Yellow, 44",
                                    "2": "129"
                                },
                                {
                                    "0": "N/A",
                                    "1": "Road-550-W Yellow, 48",
                                    "2": "134"
                                },
                                {
                                    "0": "N/A",
                                    "1": "Road-650 Black, 44",
                                    "2": "148"
                                },
                                {
                                    "0": "N/A",
                                    "1": "Road-650 Black, 48",
                                    "2": "133"
                                },
                                {
                                    "0": "N/A",
                                    "1": "Road-650 Black, 52",
                                    "2": "227"
                                },
                                {
                                    "0": "N/A",
                                    "1": "Road-650 Black, 58",
                                    "2": "134"
                                },
                                {
                                    "0": "N/A",
                                    "1": "Road-650 Black, 60",
                                    "2": "165"
                                },
                                {
                                    "0": "N/A",
                                    "1": "Road-650 Black, 62",
                                    "2": "188"
                                },
                                {
                                    "0": "N/A",
                                    "1": "Road-650 Red, 44",
                                    "2": "137"
                                },
                                {
                                    "0": "N/A",
                                    "1": "Road-650 Red, 48",
                                    "2": "223"
                                },
                                {
                                    "0": "N/A",
                                    "1": "Road-650 Red, 52",
                                    "2": "140"
                                },
                                {
                                    "0": "N/A",
                                    "1": "Road-650 Red, 58",
                                    "2": "163"
                                },
                                {
                                    "0": "N/A",
                                    "1": "Road-650 Red, 60",
                                    "2": "185"
                                },
                                {
                                    "0": "N/A",
                                    "1": "Road-650 Red, 62",
                                    "2": "148"
                                },
                                {
                                    "0": "N/A",
                                    "1": "Road-750 Black, 44",
                                    "2": "153"
                                },
                                {
                                    "0": "N/A",
                                    "1": "Road-750 Black, 48",
                                    "2": "155"
                                },
                                {
                                    "0": "N/A",
                                    "1": "Road-750 Black, 52",
                                    "2": "194"
                                },
                                {
                                    "0": "N/A",
                                    "1": "Road-750 Black, 58",
                                    "2": "153"
                                },
                                {
                                    "0": "N/A",
                                    "1": "Short-Sleeve Classic Jersey, L",
                                    "2": "36"
                                },
                                {
                                    "0": "N/A",
                                    "1": "Short-Sleeve Classic Jersey, M",
                                    "2": "0"
                                },
                                {
                                    "0": "N/A",
                                    "1": "Short-Sleeve Classic Jersey, S",
                                    "2": "324"
                                },
                                {
                                    "0": "N/A",
                                    "1": "Short-Sleeve Classic Jersey, XL",
                                    "2": "72"
                                },
                                {
                                    "0": "N/A",
                                    "1": "Sport-100 Helmet, Black",
                                    "2": "324"
                                },
                                {
                                    "0": "N/A",
                                    "1": "Sport-100 Helmet, Blue",
                                    "2": "216"
                                },
                                {
                                    "0": "N/A",
                                    "1": "Sport-100 Helmet, Red",
                                    "2": "288"
                                },
                                {
                                    "0": "N/A",
                                    "1": "Taillights - Battery-Powered",
                                    "2": "144"
                                },
                                {
                                    "0": "N/A",
                                    "1": "Touring-1000 Blue, 46",
                                    "2": "185"
                                },
                                {
                                    "0": "N/A",
                                    "1": "Touring-1000 Blue, 50",
                                    "2": "148"
                                },
                                {
                                    "0": "N/A",
                                    "1": "Touring-1000 Blue, 54",
                                    "2": "133"
                                },
                                {
                                    "0": "N/A",
                                    "1": "Touring-1000 Blue, 60",
                                    "2": "129"
                                },
                                {
                                    "0": "N/A",
                                    "1": "Touring-1000 Yellow, 46",
                                    "2": "148"
                                },
                                {
                                    "0": "N/A",
                                    "1": "Touring-1000 Yellow, 50",
                                    "2": "137"
                                },
                                {
                                    "0": "N/A",
                                    "1": "Touring-1000 Yellow, 54",
                                    "2": "75"
                                },
                                {
                                    "0": "N/A",
                                    "1": "Touring-1000 Yellow, 60",
                                    "2": "151"
                                },
                                {
                                    "0": "N/A",
                                    "1": "Touring-2000 Blue, 46",
                                    "2": "133"
                                },
                                {
                                    "0": "N/A",
                                    "1": "Touring-2000 Blue, 50",
                                    "2": "227"
                                },
                                {
                                    "0": "N/A",
                                    "1": "Touring-2000 Blue, 54",
                                    "2": "129"
                                },
                                {
                                    "0": "N/A",
                                    "1": "Touring-2000 Blue, 60",
                                    "2": "165"
                                },
                                {
                                    "0": "N/A",
                                    "1": "Touring-3000 Blue, 44",
                                    "2": "163"
                                },
                                {
                                    "0": "N/A",
                                    "1": "Touring-3000 Blue, 50",
                                    "2": "164"
                                },
                                {
                                    "0": "N/A",
                                    "1": "Touring-3000 Blue, 54",
                                    "2": "163"
                                },
                                {
                                    "0": "N/A",
                                    "1": "Touring-3000 Blue, 58",
                                    "2": "204"
                                },
                                {
                                    "0": "N/A",
                                    "1": "Touring-3000 Blue, 62",
                                    "2": "159"
                                },
                                {
                                    "0": "N/A",
                                    "1": "Touring-3000 Yellow, 44",
                                    "2": "168"
                                },
                                {
                                    "0": "N/A",
                                    "1": "Touring-3000 Yellow, 50",
                                    "2": "174"
                                },
                                {
                                    "0": "N/A",
                                    "1": "Touring-3000 Yellow, 54",
                                    "2": "162"
                                },
                                {
                                    "0": "N/A",
                                    "1": "Touring-3000 Yellow, 58",
                                    "2": "197"
                                },
                                {
                                    "0": "N/A",
                                    "1": "Touring-3000 Yellow, 62",
                                    "2": "163"
                                },
                                {
                                    "0": "N/A",
                                    "1": "Touring-Panniers, Large",
                                    "2": "72"
                                },
                                {
                                    "0": "N/A",
                                    "1": "Water Bottle - 30 oz.",
                                    "2": "252"
                                },
                                {
                                    "0": "N/A",
                                    "1": "Women's Mountain Shorts, L",
                                    "2": "288"
                                },
                                {
                                    "0": "N/A",
                                    "1": "Women's Mountain Shorts, M",
                                    "2": "252"
                                },
                                {
                                    "0": "N/A",
                                    "1": "Women's Mountain Shorts, S",
                                    "2": "216"
                                },
                                {
                                    "0": "N/A",
                                    "1": "Women's Tights, L",
                                    "2": "36"
                                },
                                {
                                    "0": "N/A",
                                    "1": "Women's Tights, M",
                                    "2": "0"
                                },
                                {
                                    "0": "N/A",
                                    "1": "Women's Tights, S",
                                    "2": "324"
                                },
                                {
                                    "0": "N/A",
                                    "1": "NULL",
                                    "2": "30582"
                                },
                                {
                                    "0": "R",
                                    "1": "Hex Nut 1",
                                    "2": "192"
                                },
                                {
                                    "0": "R",
                                    "1": "Hex Nut 10",
                                    "2": "710"
                                },
                                {
                                    "0": "R",
                                    "1": "Hex Nut 11",
                                    "2": "140"
                                },
                                {
                                    "0": "R",
                                    "1": "Hex Nut 12",
                                    "2": "217"
                                },
                                {
                                    "0": "R",
                                    "1": "Hex Nut 13",
                                    "2": "526"
                                },
                                {
                                    "0": "R",
                                    "1": "Hex Nut 14",
                                    "2": "780"
                                },
                                {
                                    "0": "R",
                                    "1": "Hex Nut 15",
                                    "2": "150"
                                },
                                {
                                    "0": "R",
                                    "1": "Hex Nut 16",
                                    "2": "299"
                                },
                                {
                                    "0": "R",
                                    "1": "Hex Nut 17",
                                    "2": "294"
                                },
                                {
                                    "0": "R",
                                    "1": "Hex Nut 18",
                                    "2": "585"
                                },
                                {
                                    "0": "R",
                                    "1": "Hex Nut 19",
                                    "2": "550"
                                },
                                {
                                    "0": "R",
                                    "1": "Hex Nut 2",
                                    "2": "691"
                                },
                                {
                                    "0": "R",
                                    "1": "Hex Nut 20",
                                    "2": "140"
                                },
                                {
                                    "0": "R",
                                    "1": "Hex Nut 21",
                                    "2": "144"
                                },
                                {
                                    "0": "R",
                                    "1": "Hex Nut 22",
                                    "2": "276"
                                },
                                {
                                    "0": "R",
                                    "1": "Hex Nut 23",
                                    "2": "676"
                                },
                                {
                                    "0": "R",
                                    "1": "Hex Nut 3",
                                    "2": "147"
                                },
                                {
                                    "0": "R",
                                    "1": "Hex Nut 4",
                                    "2": "355"
                                },
                                {
                                    "0": "R",
                                    "1": "Hex Nut 5",
                                    "2": "353"
                                },
                                {
                                    "0": "R",
                                    "1": "Hex Nut 6",
                                    "2": "649"
                                },
                                {
                                    "0": "R",
                                    "1": "Hex Nut 7",
                                    "2": "897"
                                },
                                {
                                    "0": "R",
                                    "1": "Hex Nut 8",
                                    "2": "264"
                                },
                                {
                                    "0": "R",
                                    "1": "Hex Nut 9",
                                    "2": "270"
                                },
                                {
                                    "0": "R",
                                    "1": "HL Headset",
                                    "2": "272"
                                },
                                {
                                    "0": "R",
                                    "1": "HL Mountain Tire",
                                    "2": "232"
                                },
                                {
                                    "0": "R",
                                    "1": "HL Road Tire",
                                    "2": "228"
                                },
                                {
                                    "0": "R",
                                    "1": "LL Headset",
                                    "2": "265"
                                },
                                {
                                    "0": "R",
                                    "1": "LL Mountain Tire",
                                    "2": "369"
                                },
                                {
                                    "0": "R",
                                    "1": "LL Road Tire",
                                    "2": "252"
                                },
                                {
                                    "0": "R",
                                    "1": "Metal Sheet 1",
                                    "2": "318"
                                },
                                {
                                    "0": "R",
                                    "1": "Metal Sheet 2",
                                    "2": "427"
                                },
                                {
                                    "0": "R",
                                    "1": "Metal Sheet 3",
                                    "2": "531"
                                },
                                {
                                    "0": "R",
                                    "1": "Metal Sheet 4",
                                    "2": "427"
                                },
                                {
                                    "0": "R",
                                    "1": "Metal Sheet 5",
                                    "2": "515"
                                },
                                {
                                    "0": "R",
                                    "1": "Metal Sheet 6",
                                    "2": "337"
                                },
                                {
                                    "0": "R",
                                    "1": "Metal Sheet 7",
                                    "2": "374"
                                },
                                {
                                    "0": "R",
                                    "1": "ML Headset",
                                    "2": "268"
                                },
                                {
                                    "0": "R",
                                    "1": "ML Mountain Tire",
                                    "2": "284"
                                },
                                {
                                    "0": "R",
                                    "1": "ML Road Tire",
                                    "2": "192"
                                },
                                {
                                    "0": "R",
                                    "1": "Mountain Tire Tube",
                                    "2": "243"
                                },
                                {
                                    "0": "R",
                                    "1": "Road Tire Tube",
                                    "2": "241"
                                },
                                {
                                    "0": "R",
                                    "1": "Tension Pulley",
                                    "2": "409"
                                },
                                {
                                    "0": "R",
                                    "1": "Thin-Jam Hex Nut 1",
                                    "2": "601"
                                },
                                {
                                    "0": "R",
                                    "1": "Thin-Jam Hex Nut 10",
                                    "2": "353"
                                },
                                {
                                    "0": "R",
                                    "1": "Thin-Jam Hex Nut 11",
                                    "2": "350"
                                },
                                {
                                    "0": "R",
                                    "1": "Thin-Jam Hex Nut 12",
                                    "2": "347"
                                },
                                {
                                    "0": "R",
                                    "1": "Thin-Jam Hex Nut 13",
                                    "2": "353"
                                },
                                {
                                    "0": "R",
                                    "1": "Thin-Jam Hex Nut 14",
                                    "2": "155"
                                },
                                {
                                    "0": "R",
                                    "1": "Thin-Jam Hex Nut 15",
                                    "2": "643"
                                },
                                {
                                    "0": "R",
                                    "1": "Thin-Jam Hex Nut 16",
                                    "2": "358"
                                },
                                {
                                    "0": "R",
                                    "1": "Thin-Jam Hex Nut 2",
                                    "2": "315"
                                },
                                {
                                    "0": "R",
                                    "1": "Thin-Jam Hex Nut 3",
                                    "2": "689"
                                },
                                {
                                    "0": "R",
                                    "1": "Thin-Jam Hex Nut 4",
                                    "2": "360"
                                },
                                {
                                    "0": "R",
                                    "1": "Thin-Jam Hex Nut 5",
                                    "2": "691"
                                },
                                {
                                    "0": "R",
                                    "1": "Thin-Jam Hex Nut 6",
                                    "2": "299"
                                },
                                {
                                    "0": "R",
                                    "1": "Thin-Jam Hex Nut 7",
                                    "2": "649"
                                },
                                {
                                    "0": "R",
                                    "1": "Thin-Jam Hex Nut 8",
                                    "2": "344"
                                },
                                {
                                    "0": "R",
                                    "1": "Thin-Jam Hex Nut 9",
                                    "2": "360"
                                },
                                {
                                    "0": "R",
                                    "1": "Top Tube",
                                    "2": "278"
                                },
                                {
                                    "0": "R",
                                    "1": "Touring Tire",
                                    "2": "249"
                                },
                                {
                                    "0": "R",
                                    "1": "Touring Tire Tube",
                                    "2": "240"
                                },
                                {
                                    "0": "R",
                                    "1": "NULL",
                                    "2": "23123"
                                },
                                {
                                    "0": "S",
                                    "1": "Flat Washer 1",
                                    "2": "339"
                                },
                                {
                                    "0": "S",
                                    "1": "Flat Washer 2",
                                    "2": "1105"
                                },
                                {
                                    "0": "S",
                                    "1": "Flat Washer 3",
                                    "2": "1117"
                                },
                                {
                                    "0": "S",
                                    "1": "Flat Washer 4",
                                    "2": "300"
                                },
                                {
                                    "0": "S",
                                    "1": "Flat Washer 5",
                                    "2": "588"
                                },
                                {
                                    "0": "S",
                                    "1": "Flat Washer 7",
                                    "2": "342"
                                },
                                {
                                    "0": "S",
                                    "1": "HL Mountain Handlebars",
                                    "2": "270"
                                },
                                {
                                    "0": "S",
                                    "1": "HL Road Handlebars",
                                    "2": "260"
                                },
                                {
                                    "0": "S",
                                    "1": "HL Touring Handlebars",
                                    "2": "254"
                                },
                                {
                                    "0": "S",
                                    "1": "LL Mountain Handlebars",
                                    "2": "276"
                                },
                                {
                                    "0": "S",
                                    "1": "LL Road Handlebars",
                                    "2": "267"
                                },
                                {
                                    "0": "S",
                                    "1": "LL Touring Handlebars",
                                    "2": "257"
                                },
                                {
                                    "0": "S",
                                    "1": "ML Mountain Handlebars",
                                    "2": "273"
                                },
                                {
                                    "0": "S",
                                    "1": "ML Road Handlebars",
                                    "2": "264"
                                },
                                {
                                    "0": "S",
                                    "1": "NULL",
                                    "2": "5912"
                                },
                                {
                                    "0": "T",
                                    "1": "External Lock Washer 1",
                                    "2": "292"
                                },
                                {
                                    "0": "T",
                                    "1": "External Lock Washer 2",
                                    "2": "459"
                                },
                                {
                                    "0": "T",
                                    "1": "External Lock Washer 3",
                                    "2": "318"
                                },
                                {
                                    "0": "T",
                                    "1": "External Lock Washer 4",
                                    "2": "315"
                                },
                                {
                                    "0": "T",
                                    "1": "External Lock Washer 5",
                                    "2": "308"
                                },
                                {
                                    "0": "T",
                                    "1": "External Lock Washer 6",
                                    "2": "296"
                                },
                                {
                                    "0": "T",
                                    "1": "External Lock Washer 7",
                                    "2": "625"
                                },
                                {
                                    "0": "T",
                                    "1": "External Lock Washer 8",
                                    "2": "289"
                                },
                                {
                                    "0": "T",
                                    "1": "External Lock Washer 9",
                                    "2": "312"
                                },
                                {
                                    "0": "T",
                                    "1": "HL Mountain Front Wheel",
                                    "2": "443"
                                },
                                {
                                    "0": "T",
                                    "1": "HL Road Front Wheel",
                                    "2": "446"
                                },
                                {
                                    "0": "T",
                                    "1": "Internal Lock Washer 1",
                                    "2": "387"
                                },
                                {
                                    "0": "T",
                                    "1": "Internal Lock Washer 10",
                                    "2": "388"
                                },
                                {
                                    "0": "T",
                                    "1": "Internal Lock Washer 2",
                                    "2": "384"
                                },
                                {
                                    "0": "T",
                                    "1": "Internal Lock Washer 3",
                                    "2": "156"
                                },
                                {
                                    "0": "T",
                                    "1": "Internal Lock Washer 4",
                                    "2": "459"
                                },
                                {
                                    "0": "T",
                                    "1": "Internal Lock Washer 5",
                                    "2": "366"
                                },
                                {
                                    "0": "T",
                                    "1": "Internal Lock Washer 6",
                                    "2": "516"
                                },
                                {
                                    "0": "T",
                                    "1": "Internal Lock Washer 7",
                                    "2": "361"
                                },
                                {
                                    "0": "T",
                                    "1": "Internal Lock Washer 8",
                                    "2": "385"
                                },
                                {
                                    "0": "T",
                                    "1": "Internal Lock Washer 9",
                                    "2": "371"
                                },
                                {
                                    "0": "T",
                                    "1": "Keyed Washer",
                                    "2": "321"
                                },
                                {
                                    "0": "T",
                                    "1": "LL Mountain Front Wheel",
                                    "2": "265"
                                },
                                {
                                    "0": "T",
                                    "1": "LL Road Front Wheel",
                                    "2": "428"
                                },
                                {
                                    "0": "T",
                                    "1": "ML Mountain Front Wheel",
                                    "2": "406"
                                },
                                {
                                    "0": "T",
                                    "1": "ML Road Front Wheel",
                                    "2": "409"
                                },
                                {
                                    "0": "T",
                                    "1": "Thin-Jam Lock Nut 9",
                                    "2": "497"
                                },
                                {
                                    "0": "T",
                                    "1": "Touring Front Wheel",
                                    "2": "432"
                                },
                                {
                                    "0": "T",
                                    "1": "NULL",
                                    "2": "10634"
                                },
                                {
                                    "0": "U",
                                    "1": "Lock Nut 1",
                                    "2": "473"
                                },
                                {
                                    "0": "U",
                                    "1": "Lock Nut 10",
                                    "2": "468"
                                },
                                {
                                    "0": "U",
                                    "1": "Lock Nut 11",
                                    "2": "472"
                                },
                                {
                                    "0": "U",
                                    "1": "Lock Nut 12",
                                    "2": "483"
                                },
                                {
                                    "0": "U",
                                    "1": "Lock Nut 13",
                                    "2": "478"
                                },
                                {
                                    "0": "U",
                                    "1": "Lock Nut 14",
                                    "2": "488"
                                },
                                {
                                    "0": "U",
                                    "1": "Lock Nut 15",
                                    "2": "491"
                                },
                                {
                                    "0": "U",
                                    "1": "Lock Nut 16",
                                    "2": "516"
                                },
                                {
                                    "0": "U",
                                    "1": "Lock Nut 17",
                                    "2": "512"
                                },
                                {
                                    "0": "U",
                                    "1": "Lock Nut 18",
                                    "2": "500"
                                },
                                {
                                    "0": "U",
                                    "1": "Lock Nut 19",
                                    "2": "497"
                                },
                                {
                                    "0": "U",
                                    "1": "Lock Nut 2",
                                    "2": "475"
                                },
                                {
                                    "0": "U",
                                    "1": "Lock Nut 20",
                                    "2": "478"
                                },
                                {
                                    "0": "U",
                                    "1": "Lock Nut 21",
                                    "2": "481"
                                },
                                {
                                    "0": "U",
                                    "1": "Lock Nut 22",
                                    "2": "492"
                                },
                                {
                                    "0": "U",
                                    "1": "Lock Nut 23",
                                    "2": "488"
                                },
                                {
                                    "0": "U",
                                    "1": "Lock Nut 3",
                                    "2": "484"
                                },
                                {
                                    "0": "U",
                                    "1": "Lock Nut 4",
                                    "2": "494"
                                },
                                {
                                    "0": "U",
                                    "1": "Lock Nut 5",
                                    "2": "510"
                                },
                                {
                                    "0": "U",
                                    "1": "Lock Nut 6",
                                    "2": "513"
                                },
                                {
                                    "0": "U",
                                    "1": "Lock Nut 7",
                                    "2": "507"
                                },
                                {
                                    "0": "U",
                                    "1": "Lock Nut 8",
                                    "2": "502"
                                },
                                {
                                    "0": "U",
                                    "1": "Lock Nut 9",
                                    "2": "497"
                                },
                                {
                                    "0": "U",
                                    "1": "Thin-Jam Lock Nut 1",
                                    "2": "494"
                                },
                                {
                                    "0": "U",
                                    "1": "Thin-Jam Lock Nut 10",
                                    "2": "496"
                                },
                                {
                                    "0": "U",
                                    "1": "Thin-Jam Lock Nut 11",
                                    "2": "507"
                                },
                                {
                                    "0": "U",
                                    "1": "Thin-Jam Lock Nut 12",
                                    "2": "504"
                                },
                                {
                                    "0": "U",
                                    "1": "Thin-Jam Lock Nut 13",
                                    "2": "491"
                                },
                                {
                                    "0": "U",
                                    "1": "Thin-Jam Lock Nut 14",
                                    "2": "494"
                                },
                                {
                                    "0": "U",
                                    "1": "Thin-Jam Lock Nut 15",
                                    "2": "491"
                                },
                                {
                                    "0": "U",
                                    "1": "Thin-Jam Lock Nut 16",
                                    "2": "489"
                                },
                                {
                                    "0": "U",
                                    "1": "Thin-Jam Lock Nut 2",
                                    "2": "492"
                                },
                                {
                                    "0": "U",
                                    "1": "Thin-Jam Lock Nut 3",
                                    "2": "484"
                                },
                                {
                                    "0": "U",
                                    "1": "Thin-Jam Lock Nut 4",
                                    "2": "488"
                                },
                                {
                                    "0": "U",
                                    "1": "Thin-Jam Lock Nut 5",
                                    "2": "488"
                                },
                                {
                                    "0": "U",
                                    "1": "Thin-Jam Lock Nut 6",
                                    "2": "486"
                                },
                                {
                                    "0": "U",
                                    "1": "Thin-Jam Lock Nut 7",
                                    "2": "497"
                                },
                                {
                                    "0": "U",
                                    "1": "Thin-Jam Lock Nut 8",
                                    "2": "500"
                                },
                                {
                                    "0": "U",
                                    "1": "NULL",
                                    "2": "18700"
                                },
                                {
                                    "0": "V",
                                    "1": "HL Mountain Rear Wheel",
                                    "2": "387"
                                },
                                {
                                    "0": "V",
                                    "1": "HL Road Rear Wheel",
                                    "2": "284"
                                },
                                {
                                    "0": "V",
                                    "1": "LL Mountain Rear Wheel",
                                    "2": "256"
                                },
                                {
                                    "0": "V",
                                    "1": "LL Road Rear Wheel",
                                    "2": "406"
                                },
                                {
                                    "0": "V",
                                    "1": "ML Mountain Rear Wheel",
                                    "2": "401"
                                },
                                {
                                    "0": "V",
                                    "1": "ML Road Rear Wheel",
                                    "2": "425"
                                },
                                {
                                    "0": "V",
                                    "1": "Touring Rear Wheel",
                                    "2": "476"
                                },
                                {
                                    "0": "V",
                                    "1": "NULL",
                                    "2": "2635"
                                },
                                {
                                    "0": "W",
                                    "1": "Cone-Shaped Race",
                                    "2": "283"
                                },
                                {
                                    "0": "W",
                                    "1": "Cup-Shaped Race",
                                    "2": "320"
                                },
                                {
                                    "0": "W",
                                    "1": "HL Mountain Pedal",
                                    "2": "153"
                                },
                                {
                                    "0": "W",
                                    "1": "HL Road Pedal",
                                    "2": "323"
                                },
                                {
                                    "0": "W",
                                    "1": "LL Mountain Pedal",
                                    "2": "156"
                                },
                                {
                                    "0": "W",
                                    "1": "LL Road Pedal",
                                    "2": "152"
                                },
                                {
                                    "0": "W",
                                    "1": "ML Mountain Pedal",
                                    "2": "155"
                                },
                                {
                                    "0": "W",
                                    "1": "ML Road Pedal",
                                    "2": "150"
                                },
                                {
                                    "0": "W",
                                    "1": "Pinch Bolt",
                                    "2": "273"
                                },
                                {
                                    "0": "W",
                                    "1": "Rear Brakes",
                                    "2": "158"
                                },
                                {
                                    "0": "W",
                                    "1": "Rear Derailleur",
                                    "2": "155"
                                },
                                {
                                    "0": "W",
                                    "1": "Rear Derailleur Cage",
                                    "2": "121"
                                },
                                {
                                    "0": "W",
                                    "1": "Reflector",
                                    "2": "121"
                                },
                                {
                                    "0": "W",
                                    "1": "Touring Pedal",
                                    "2": "388"
                                },
                                {
                                    "0": "W",
                                    "1": "NULL",
                                    "2": "2908"
                                },
                                {
                                    "0": "Y",
                                    "1": "HL Spindle/Axle",
                                    "2": "228"
                                },
                                {
                                    "0": "Y",
                                    "1": "LL Spindle/Axle",
                                    "2": "209"
                                },
                                {
                                    "0": "Y",
                                    "1": "NULL",
                                    "2": "437"
                                },
                                {
                                    "0": "NULL",
                                    "1": "NULL",
                                    "2": "335974"
                                }
                            ]
                        },
                        "text/html": [
                            "<table>",
                            "<tr><th>Shelf</th><th>Name</th><th>Total</th></tr>",
                            "<tr><td>A</td><td>Adjustable Race</td><td>761</td></tr>",
                            "<tr><td>A</td><td>BB Ball Bearing</td><td>909</td></tr>",
                            "<tr><td>A</td><td>Bearing Ball</td><td>791</td></tr>",
                            "<tr><td>A</td><td>Blade</td><td>532</td></tr>",
                            "<tr><td>A</td><td>Chain</td><td>353</td></tr>",
                            "<tr><td>A</td><td>Chain Stays</td><td>1044</td></tr>",
                            "<tr><td>A</td><td>Chainring</td><td>1062</td></tr>",
                            "<tr><td>A</td><td>Chainring Bolts</td><td>655</td></tr>",
                            "<tr><td>A</td><td>Chainring Nut</td><td>1181</td></tr>",
                            "<tr><td>A</td><td>Crown Race</td><td>1081</td></tr>",
                            "<tr><td>A</td><td>Decal 1</td><td>641</td></tr>",
                            "<tr><td>A</td><td>Decal 2</td><td>475</td></tr>",
                            "<tr><td>A</td><td>Fork Crown</td><td>313</td></tr>",
                            "<tr><td>A</td><td>Fork End</td><td>390</td></tr>",
                            "<tr><td>A</td><td>Freewheel</td><td>267</td></tr>",
                            "<tr><td>A</td><td>Front Brakes</td><td>420</td></tr>",
                            "<tr><td>A</td><td>Front Derailleur</td><td>270</td></tr>",
                            "<tr><td>A</td><td>Front Derailleur Cage</td><td>145</td></tr>",
                            "<tr><td>A</td><td>Front Derailleur Linkage</td><td>195</td></tr>",
                            "<tr><td>A</td><td>Handlebar Tube</td><td>550</td></tr>",
                            "<tr><td>A</td><td>Head Tube</td><td>544</td></tr>",
                            "<tr><td>A</td><td>Headset Ball Bearings</td><td>900</td></tr>",
                            "<tr><td>A</td><td>HL Bottom Bracket</td><td>495</td></tr>",
                            "<tr><td>A</td><td>HL Crankarm</td><td>489</td></tr>",
                            "<tr><td>A</td><td>HL Crankset</td><td>645</td></tr>",
                            "<tr><td>A</td><td>HL Fork</td><td>286</td></tr>",
                            "<tr><td>A</td><td>HL Hub</td><td>302</td></tr>",
                            "<tr><td>A</td><td>HL Mountain Rear Wheel</td><td>396</td></tr>",
                            "<tr><td>A</td><td>HL Road Rear Wheel</td><td>432</td></tr>",
                            "<tr><td>A</td><td>LL Bottom Bracket</td><td>456</td></tr>",
                            "<tr><td>A</td><td>LL Crankarm</td><td>310</td></tr>",
                            "<tr><td>A</td><td>LL Crankset</td><td>620</td></tr>",
                            "<tr><td>A</td><td>LL Fork</td><td>273</td></tr>",
                            "<tr><td>A</td><td>LL Hub</td><td>284</td></tr>",
                            "<tr><td>A</td><td>LL Mountain Rear Wheel</td><td>425</td></tr>",
                            "<tr><td>A</td><td>LL Road Rear Wheel</td><td>393</td></tr>",
                            "<tr><td>A</td><td>Metal Angle</td><td>404</td></tr>",
                            "<tr><td>A</td><td>Metal Bar 1</td><td>353</td></tr>",
                            "<tr><td>A</td><td>Metal Bar 2</td><td>622</td></tr>",
                            "<tr><td>A</td><td>ML Bottom Bracket</td><td>495</td></tr>",
                            "<tr><td>A</td><td>ML Crankarm</td><td>303</td></tr>",
                            "<tr><td>A</td><td>ML Crankset</td><td>633</td></tr>",
                            "<tr><td>A</td><td>ML Fork</td><td>280</td></tr>",
                            "<tr><td>A</td><td>ML Mountain Rear Wheel</td><td>411</td></tr>",
                            "<tr><td>A</td><td>ML Road Rear Wheel</td><td>412</td></tr>",
                            "<tr><td>A</td><td>Mountain End Caps</td><td>1044</td></tr>",
                            "<tr><td>A</td><td>Paint - Black</td><td>31</td></tr>",
                            "<tr><td>A</td><td>Paint - Blue</td><td>84</td></tr>",
                            "<tr><td>A</td><td>Paint - Red</td><td>65</td></tr>",
                            "<tr><td>A</td><td>Paint - Silver</td><td>61</td></tr>",
                            "<tr><td>A</td><td>Paint - Yellow</td><td>55</td></tr>",
                            "<tr><td>A</td><td>Road End Caps</td><td>1025</td></tr>",
                            "<tr><td>A</td><td>Touring End Caps</td><td>1005</td></tr>",
                            "<tr><td>A</td><td>Touring Rear Wheel</td><td>265</td></tr>",
                            "<tr><td>A</td><td>NULL</td><td>26833</td></tr>",
                            "<tr><td>B</td><td>Adjustable Race</td><td>324</td></tr>",
                            "<tr><td>B</td><td>BB Ball Bearing</td><td>443</td></tr>",
                            "<tr><td>B</td><td>Bearing Ball</td><td>318</td></tr>",
                            "<tr><td>B</td><td>Blade</td><td>829</td></tr>",
                            "<tr><td>B</td><td>Down Tube</td><td>513</td></tr>",
                            "<tr><td>B</td><td>Handlebar Tube</td><td>776</td></tr>",
                            "<tr><td>B</td><td>Head Tube</td><td>764</td></tr>",
                            "<tr><td>B</td><td>Headset Ball Bearings</td><td>422</td></tr>",
                            "<tr><td>B</td><td>HL Bottom Bracket</td><td>475</td></tr>",
                            "<tr><td>B</td><td>HL Hub</td><td>495</td></tr>",
                            "<tr><td>B</td><td>HL Mountain Front Wheel</td><td>388</td></tr>",
                            "<tr><td>B</td><td>HL Road Front Wheel</td><td>232</td></tr>",
                            "<tr><td>B</td><td>HL Shell</td><td>587</td></tr>",
                            "<tr><td>B</td><td>LL Bottom Bracket</td><td>358</td></tr>",
                            "<tr><td>B</td><td>LL Hub</td><td>506</td></tr>",
                            "<tr><td>B</td><td>LL Mountain Front Wheel</td><td>457</td></tr>",
                            "<tr><td>B</td><td>LL Road Front Wheel</td><td>460</td></tr>",
                            "<tr><td>B</td><td>LL Shell</td><td>644</td></tr>",
                            "<tr><td>B</td><td>Metal Angle</td><td>355</td></tr>",
                            "<tr><td>B</td><td>Metal Bar 1</td><td>403</td></tr>",
                            "<tr><td>B</td><td>Metal Bar 2</td><td>497</td></tr>",
                            "<tr><td>B</td><td>ML Bottom Bracket</td><td>321</td></tr>",
                            "<tr><td>B</td><td>ML Mountain Front Wheel</td><td>412</td></tr>",
                            "<tr><td>B</td><td>ML Road Front Wheel</td><td>384</td></tr>",
                            "<tr><td>B</td><td>Paint - Black</td><td>16</td></tr>",
                            "<tr><td>B</td><td>Paint - Blue</td><td>25</td></tr>",
                            "<tr><td>B</td><td>Paint - Red</td><td>28</td></tr>",
                            "<tr><td>B</td><td>Paint - Silver</td><td>4</td></tr>",
                            "<tr><td>B</td><td>Paint - Yellow</td><td>44</td></tr>",
                            "<tr><td>B</td><td>Spokes</td><td>888</td></tr>",
                            "<tr><td>B</td><td>Touring Front Wheel</td><td>304</td></tr>",
                            "<tr><td>B</td><td>NULL</td><td>12672</td></tr>",
                            "<tr><td>C</td><td>Chain</td><td>236</td></tr>",
                            "<tr><td>C</td><td>Chain Stays</td><td>585</td></tr>",
                            "<tr><td>C</td><td>Chainring</td><td>622</td></tr>",
                            "<tr><td>C</td><td>Chainring Bolts</td><td>481</td></tr>",
                            "<tr><td>C</td><td>Chainring Nut</td><td>569</td></tr>",
                            "<tr><td>C</td><td>Crown Race</td><td>603</td></tr>",
                            "<tr><td>C</td><td>Fork Crown</td><td>406</td></tr>",
                            "<tr><td>C</td><td>Fork End</td><td>441</td></tr>",
                            "<tr><td>C</td><td>Freewheel</td><td>233</td></tr>",
                            "<tr><td>C</td><td>Front Derailleur</td><td>236</td></tr>",
                            "<tr><td>C</td><td>Front Derailleur Cage</td><td>281</td></tr>",
                            "<tr><td>C</td><td>Front Derailleur Linkage</td><td>278</td></tr>",
                            "<tr><td>C</td><td>Guide Pulley</td><td>289</td></tr>",
                            "<tr><td>C</td><td>Hex Nut 12</td><td>299</td></tr>",
                            "<tr><td>C</td><td>Hex Nut 13</td><td>619</td></tr>",
                            "<tr><td>C</td><td>Hex Nut 16</td><td>249</td></tr>",
                            "<tr><td>C</td><td>Hex Nut 17</td><td>244</td></tr>",
                            "<tr><td>C</td><td>Hex Nut 22</td><td>169</td></tr>",
                            "<tr><td>C</td><td>Hex Nut 23</td><td>587</td></tr>",
                            "<tr><td>C</td><td>Hex Nut 5</td><td>291</td></tr>",
                            "<tr><td>C</td><td>Hex Nut 6</td><td>585</td></tr>",
                            "<tr><td>C</td><td>Hex Nut 7</td><td>323</td></tr>",
                            "<tr><td>C</td><td>Hex Nut 8</td><td>156</td></tr>",
                            "<tr><td>C</td><td>Hex Nut 9</td><td>163</td></tr>",
                            "<tr><td>C</td><td>HL Crankarm</td><td>308</td></tr>",
                            "<tr><td>C</td><td>HL Fork</td><td>252</td></tr>",
                            "<tr><td>C</td><td>HL Grip Tape</td><td>246</td></tr>",
                            "<tr><td>C</td><td>LL Crankarm</td><td>283</td></tr>",
                            "<tr><td>C</td><td>LL Fork</td><td>240</td></tr>",
                            "<tr><td>C</td><td>LL Grip Tape</td><td>275</td></tr>",
                            "<tr><td>C</td><td>Metal Plate 1</td><td>1146</td></tr>",
                            "<tr><td>C</td><td>Metal Plate 2</td><td>639</td></tr>",
                            "<tr><td>C</td><td>Metal Plate 3</td><td>623</td></tr>",
                            "<tr><td>C</td><td>ML Crankarm</td><td>136</td></tr>",
                            "<tr><td>C</td><td>ML Fork</td><td>246</td></tr>",
                            "<tr><td>C</td><td>ML Grip Tape</td><td>260</td></tr>",
                            "<tr><td>C</td><td>Thin-Jam Hex Nut 1</td><td>499</td></tr>",
                            "<tr><td>C</td><td>Thin-Jam Hex Nut 10</td><td>363</td></tr>",
                            "<tr><td>C</td><td>Thin-Jam Hex Nut 11</td><td>288</td></tr>",
                            "<tr><td>C</td><td>Thin-Jam Hex Nut 12</td><td>284</td></tr>",
                            "<tr><td>C</td><td>Thin-Jam Hex Nut 13</td><td>363</td></tr>",
                            "<tr><td>C</td><td>Thin-Jam Hex Nut 14</td><td>252</td></tr>",
                            "<tr><td>C</td><td>Thin-Jam Hex Nut 15</td><td>499</td></tr>",
                            "<tr><td>C</td><td>Thin-Jam Hex Nut 16</td><td>368</td></tr>",
                            "<tr><td>C</td><td>Thin-Jam Hex Nut 2</td><td>377</td></tr>",
                            "<tr><td>C</td><td>Thin-Jam Hex Nut 3</td><td>643</td></tr>",
                            "<tr><td>C</td><td>Thin-Jam Hex Nut 4</td><td>369</td></tr>",
                            "<tr><td>C</td><td>Thin-Jam Hex Nut 5</td><td>411</td></tr>",
                            "<tr><td>C</td><td>Thin-Jam Hex Nut 6</td><td>318</td></tr>",
                            "<tr><td>C</td><td>Thin-Jam Hex Nut 7</td><td>585</td></tr>",
                            "<tr><td>C</td><td>Thin-Jam Hex Nut 8</td><td>281</td></tr>",
                            "<tr><td>C</td><td>Thin-Jam Hex Nut 9</td><td>369</td></tr>",
                            "<tr><td>C</td><td>NULL</td><td>19868</td></tr>",
                            "<tr><td>D</td><td>Guide Pulley</td><td>276</td></tr>",
                            "<tr><td>D</td><td>Hex Nut 1</td><td>148</td></tr>",
                            "<tr><td>D</td><td>Hex Nut 10</td><td>524</td></tr>",
                            "<tr><td>D</td><td>Hex Nut 11</td><td>292</td></tr>",
                            "<tr><td>D</td><td>Hex Nut 14</td><td>603</td></tr>",
                            "<tr><td>D</td><td>Hex Nut 15</td><td>302</td></tr>",
                            "<tr><td>D</td><td>Hex Nut 18</td><td>636</td></tr>",
                            "<tr><td>D</td><td>Hex Nut 19</td><td>339</td></tr>",
                            "<tr><td>D</td><td>Hex Nut 2</td><td>657</td></tr>",
                            "<tr><td>D</td><td>Hex Nut 20</td><td>292</td></tr>",
                            "<tr><td>D</td><td>Hex Nut 21</td><td>296</td></tr>",
                            "<tr><td>D</td><td>Hex Nut 3</td><td>299</td></tr>",
                            "<tr><td>D</td><td>Hex Nut 4</td><td>281</td></tr>",
                            "<tr><td>D</td><td>HL Grip Tape</td><td>233</td></tr>",
                            "<tr><td>D</td><td>HL Headset</td><td>291</td></tr>",
                            "<tr><td>D</td><td>HL Mountain Seat Assembly</td><td>270</td></tr>",
                            "<tr><td>D</td><td>HL Mountain Seat/Saddle</td><td>91</td></tr>",
                            "<tr><td>D</td><td>HL Road Seat Assembly</td><td>275</td></tr>",
                            "<tr><td>D</td><td>HL Road Seat/Saddle</td><td>169</td></tr>",
                            "<tr><td>D</td><td>HL Touring Seat Assembly</td><td>280</td></tr>",
                            "<tr><td>D</td><td>HL Touring Seat/Saddle</td><td>425</td></tr>",
                            "<tr><td>D</td><td>LL Grip Tape</td><td>262</td></tr>",
                            "<tr><td>D</td><td>LL Headset</td><td>284</td></tr>",
                            "<tr><td>D</td><td>LL Mountain Seat Assembly</td><td>267</td></tr>",
                            "<tr><td>D</td><td>LL Mountain Seat/Saddle</td><td>400</td></tr>",
                            "<tr><td>D</td><td>LL Road Seat Assembly</td><td>272</td></tr>",
                            "<tr><td>D</td><td>LL Road Seat/Saddle</td><td>283</td></tr>",
                            "<tr><td>D</td><td>LL Touring Seat Assembly</td><td>276</td></tr>",
                            "<tr><td>D</td><td>LL Touring Seat/Saddle</td><td>248</td></tr>",
                            "<tr><td>D</td><td>Metal Angle</td><td>324</td></tr>",
                            "<tr><td>D</td><td>Metal Bar 1</td><td>323</td></tr>",
                            "<tr><td>D</td><td>Metal Bar 2</td><td>568</td></tr>",
                            "<tr><td>D</td><td>Metal Sheet 1</td><td>312</td></tr>",
                            "<tr><td>D</td><td>Metal Sheet 2</td><td>321</td></tr>",
                            "<tr><td>D</td><td>Metal Sheet 3</td><td>691</td></tr>",
                            "<tr><td>D</td><td>Metal Sheet 4</td><td>321</td></tr>",
                            "<tr><td>D</td><td>Metal Sheet 5</td><td>689</td></tr>",
                            "<tr><td>D</td><td>Metal Sheet 6</td><td>331</td></tr>",
                            "<tr><td>D</td><td>Metal Sheet 7</td><td>427</td></tr>",
                            "<tr><td>D</td><td>ML Grip Tape</td><td>248</td></tr>",
                            "<tr><td>D</td><td>ML Headset</td><td>288</td></tr>",
                            "<tr><td>D</td><td>ML Mountain Seat Assembly</td><td>268</td></tr>",
                            "<tr><td>D</td><td>ML Mountain Seat/Saddle</td><td>230</td></tr>",
                            "<tr><td>D</td><td>ML Road Seat Assembly</td><td>273</td></tr>",
                            "<tr><td>D</td><td>ML Road Seat/Saddle</td><td>302</td></tr>",
                            "<tr><td>D</td><td>ML Touring Seat Assembly</td><td>278</td></tr>",
                            "<tr><td>D</td><td>ML Touring Seat/Saddle</td><td>161</td></tr>",
                            "<tr><td>D</td><td>Mountain End Caps</td><td>585</td></tr>",
                            "<tr><td>D</td><td>Road End Caps</td><td>576</td></tr>",
                            "<tr><td>D</td><td>Touring End Caps</td><td>566</td></tr>",
                            "<tr><td>D</td><td>NULL</td><td>17353</td></tr>",
                            "<tr><td>E</td><td>Cone-Shaped Race</td><td>388</td></tr>",
                            "<tr><td>E</td><td>Cup-Shaped Race</td><td>392</td></tr>",
                            "<tr><td>E</td><td>Flat Washer 1</td><td>372</td></tr>",
                            "<tr><td>E</td><td>Flat Washer 2</td><td>568</td></tr>",
                            "<tr><td>E</td><td>Flat Washer 3</td><td>585</td></tr>",
                            "<tr><td>E</td><td>Flat Washer 4</td><td>321</td></tr>",
                            "<tr><td>E</td><td>Flat Washer 5</td><td>323</td></tr>",
                            "<tr><td>E</td><td>Flat Washer 6</td><td>369</td></tr>",
                            "<tr><td>E</td><td>Flat Washer 7</td><td>328</td></tr>",
                            "<tr><td>E</td><td>Flat Washer 8</td><td>318</td></tr>",
                            "<tr><td>E</td><td>Flat Washer 9</td><td>358</td></tr>",
                            "<tr><td>E</td><td>Hex Nut 1</td><td>385</td></tr>",
                            "<tr><td>E</td><td>Hex Nut 10</td><td>654</td></tr>",
                            "<tr><td>E</td><td>Hex Nut 11</td><td>366</td></tr>",
                            "<tr><td>E</td><td>Hex Nut 12</td><td>304</td></tr>",
                            "<tr><td>E</td><td>Hex Nut 13</td><td>633</td></tr>",
                            "<tr><td>E</td><td>Hex Nut 14</td><td>497</td></tr>",
                            "<tr><td>E</td><td>Hex Nut 15</td><td>459</td></tr>",
                            "<tr><td>E</td><td>Hex Nut 16</td><td>393</td></tr>",
                            "<tr><td>E</td><td>Hex Nut 17</td><td>388</td></tr>",
                            "<tr><td>E</td><td>Hex Nut 18</td><td>603</td></tr>",
                            "<tr><td>E</td><td>Hex Nut 19</td><td>763</td></tr>",
                            "<tr><td>E</td><td>Hex Nut 2</td><td>460</td></tr>",
                            "<tr><td>E</td><td>Hex Nut 20</td><td>366</td></tr>",
                            "<tr><td>E</td><td>Hex Nut 21</td><td>369</td></tr>",
                            "<tr><td>E</td><td>Hex Nut 22</td><td>363</td></tr>",
                            "<tr><td>E</td><td>Hex Nut 23</td><td>638</td></tr>",
                            "<tr><td>E</td><td>Hex Nut 3</td><td>372</td></tr>",
                            "<tr><td>E</td><td>Hex Nut 4</td><td>148</td></tr>",
                            "<tr><td>E</td><td>Hex Nut 5</td><td>281</td></tr>",
                            "<tr><td>E</td><td>Hex Nut 6</td><td>547</td></tr>",
                            "<tr><td>E</td><td>Hex Nut 7</td><td>691</td></tr>",
                            "<tr><td>E</td><td>Hex Nut 8</td><td>350</td></tr>",
                            "<tr><td>E</td><td>Hex Nut 9</td><td>356</td></tr>",
                            "<tr><td>E</td><td>HL Crankset</td><td>278</td></tr>",
                            "<tr><td>E</td><td>HL Headset</td><td>219</td></tr>",
                            "<tr><td>E</td><td>HL Mountain Handlebars</td><td>260</td></tr>",
                            "<tr><td>E</td><td>HL Mountain Pedal</td><td>171</td></tr>",
                            "<tr><td>E</td><td>HL Road Handlebars</td><td>251</td></tr>",
                            "<tr><td>E</td><td>HL Road Pedal</td><td>316</td></tr>",
                            "<tr><td>E</td><td>HL Touring Handlebars</td><td>244</td></tr>",
                            "<tr><td>E</td><td>LL Crankset</td><td>265</td></tr>",
                            "<tr><td>E</td><td>LL Headset</td><td>212</td></tr>",
                            "<tr><td>E</td><td>LL Mountain Handlebars</td><td>267</td></tr>",
                            "<tr><td>E</td><td>LL Mountain Pedal</td><td>174</td></tr>",
                            "<tr><td>E</td><td>LL Road Handlebars</td><td>257</td></tr>",
                            "<tr><td>E</td><td>LL Road Pedal</td><td>169</td></tr>",
                            "<tr><td>E</td><td>LL Touring Handlebars</td><td>248</td></tr>",
                            "<tr><td>E</td><td>Metal Plate 1</td><td>515</td></tr>",
                            "<tr><td>E</td><td>Metal Plate 2</td><td>390</td></tr>",
                            "<tr><td>E</td><td>Metal Plate 3</td><td>374</td></tr>",
                            "<tr><td>E</td><td>ML Crankset</td><td>272</td></tr>",
                            "<tr><td>E</td><td>ML Headset</td><td>216</td></tr>",
                            "<tr><td>E</td><td>ML Mountain Handlebars</td><td>264</td></tr>",
                            "<tr><td>E</td><td>ML Mountain Pedal</td><td>172</td></tr>",
                            "<tr><td>E</td><td>ML Road Handlebars</td><td>254</td></tr>",
                            "<tr><td>E</td><td>ML Road Pedal</td><td>168</td></tr>",
                            "<tr><td>E</td><td>Pinch Bolt</td><td>336</td></tr>",
                            "<tr><td>E</td><td>Rear Brakes</td><td>337</td></tr>",
                            "<tr><td>E</td><td>Rear Derailleur</td><td>337</td></tr>",
                            "<tr><td>E</td><td>Rear Derailleur Cage</td><td>164</td></tr>",
                            "<tr><td>E</td><td>Reflector</td><td>316</td></tr>",
                            "<tr><td>E</td><td>Seat Lug</td><td>729</td></tr>",
                            "<tr><td>E</td><td>Seat Post</td><td>444</td></tr>",
                            "<tr><td>E</td><td>Seat Stays</td><td>542</td></tr>",
                            "<tr><td>E</td><td>Seat Tube</td><td>388</td></tr>",
                            "<tr><td>E</td><td>Steerer</td><td>374</td></tr>",
                            "<tr><td>E</td><td>Stem</td><td>371</td></tr>",
                            "<tr><td>E</td><td>Thin-Jam Hex Nut 1</td><td>531</td></tr>",
                            "<tr><td>E</td><td>Thin-Jam Hex Nut 10</td><td>368</td></tr>",
                            "<tr><td>E</td><td>Thin-Jam Hex Nut 11</td><td>278</td></tr>",
                            "<tr><td>E</td><td>Thin-Jam Hex Nut 12</td><td>275</td></tr>",
                            "<tr><td>E</td><td>Thin-Jam Hex Nut 13</td><td>368</td></tr>",
                            "<tr><td>E</td><td>Thin-Jam Hex Nut 14</td><td>476</td></tr>",
                            "<tr><td>E</td><td>Thin-Jam Hex Nut 15</td><td>619</td></tr>",
                            "<tr><td>E</td><td>Thin-Jam Hex Nut 16</td><td>326</td></tr>",
                            "<tr><td>E</td><td>Thin-Jam Hex Nut 2</td><td>334</td></tr>",
                            "<tr><td>E</td><td>Thin-Jam Hex Nut 3</td><td>569</td></tr>",
                            "<tr><td>E</td><td>Thin-Jam Hex Nut 4</td><td>374</td></tr>",
                            "<tr><td>E</td><td>Thin-Jam Hex Nut 5</td><td>619</td></tr>",
                            "<tr><td>E</td><td>Thin-Jam Hex Nut 6</td><td>412</td></tr>",
                            "<tr><td>E</td><td>Thin-Jam Hex Nut 7</td><td>547</td></tr>",
                            "<tr><td>E</td><td>Thin-Jam Hex Nut 8</td><td>272</td></tr>",
                            "<tr><td>E</td><td>Thin-Jam Hex Nut 9</td><td>374</td></tr>",
                            "<tr><td>E</td><td>Touring Pedal</td><td>235</td></tr>",
                            "<tr><td>E</td><td>NULL</td><td>31979</td></tr>",
                            "<tr><td>F</td><td>Down Tube</td><td>443</td></tr>",
                            "<tr><td>F</td><td>External Lock Washer 1</td><td>414</td></tr>",
                            "<tr><td>F</td><td>External Lock Washer 2</td><td>603</td></tr>",
                            "<tr><td>F</td><td>External Lock Washer 3</td><td>313</td></tr>",
                            "<tr><td>F</td><td>External Lock Washer 4</td><td>310</td></tr>",
                            "<tr><td>F</td><td>External Lock Washer 5</td><td>304</td></tr>",
                            "<tr><td>F</td><td>External Lock Washer 6</td><td>417</td></tr>",
                            "<tr><td>F</td><td>External Lock Washer 7</td><td>460</td></tr>",
                            "<tr><td>F</td><td>External Lock Washer 8</td><td>411</td></tr>",
                            "<tr><td>F</td><td>External Lock Washer 9</td><td>307</td></tr>",
                            "<tr><td>F</td><td>HL Mountain Handlebars</td><td>310</td></tr>",
                            "<tr><td>F</td><td>HL Mountain Seat Assembly</td><td>216</td></tr>",
                            "<tr><td>F</td><td>HL Mountain Seat/Saddle</td><td>96</td></tr>",
                            "<tr><td>F</td><td>HL Nipple</td><td>420</td></tr>",
                            "<tr><td>F</td><td>HL Road Handlebars</td><td>300</td></tr>",
                            "<tr><td>F</td><td>HL Road Seat Assembly</td><td>220</td></tr>",
                            "<tr><td>F</td><td>HL Road Seat/Saddle</td><td>153</td></tr>",
                            "<tr><td>F</td><td>HL Shell</td><td>624</td></tr>",
                            "<tr><td>F</td><td>HL Touring Handlebars</td><td>294</td></tr>",
                            "<tr><td>F</td><td>HL Touring Seat Assembly</td><td>225</td></tr>",
                            "<tr><td>F</td><td>HL Touring Seat/Saddle</td><td>276</td></tr>",
                            "<tr><td>F</td><td>Internal Lock Washer 1</td><td>246</td></tr>",
                            "<tr><td>F</td><td>Internal Lock Washer 10</td><td>248</td></tr>",
                            "<tr><td>F</td><td>Internal Lock Washer 2</td><td>243</td></tr>",
                            "<tr><td>F</td><td>Internal Lock Washer 3</td><td>299</td></tr>",
                            "<tr><td>F</td><td>Internal Lock Washer 4</td><td>641</td></tr>",
                            "<tr><td>F</td><td>Internal Lock Washer 5</td><td>422</td></tr>",
                            "<tr><td>F</td><td>Internal Lock Washer 6</td><td>572</td></tr>",
                            "<tr><td>F</td><td>Internal Lock Washer 7</td><td>417</td></tr>",
                            "<tr><td>F</td><td>Internal Lock Washer 8</td><td>244</td></tr>",
                            "<tr><td>F</td><td>Internal Lock Washer 9</td><td>427</td></tr>",
                            "<tr><td>F</td><td>Keyed Washer</td><td>316</td></tr>",
                            "<tr><td>F</td><td>LL Mountain Handlebars</td><td>316</td></tr>",
                            "<tr><td>F</td><td>LL Mountain Seat Assembly</td><td>212</td></tr>",
                            "<tr><td>F</td><td>LL Mountain Seat/Saddle</td><td>195</td></tr>",
                            "<tr><td>F</td><td>LL Nipple</td><td>600</td></tr>",
                            "<tr><td>F</td><td>LL Road Handlebars</td><td>307</td></tr>",
                            "<tr><td>F</td><td>LL Road Seat Assembly</td><td>217</td></tr>",
                            "<tr><td>F</td><td>LL Road Seat/Saddle</td><td>302</td></tr>",
                            "<tr><td>F</td><td>LL Shell</td><td>619</td></tr>",
                            "<tr><td>F</td><td>LL Touring Handlebars</td><td>297</td></tr>",
                            "<tr><td>F</td><td>LL Touring Seat Assembly</td><td>222</td></tr>",
                            "<tr><td>F</td><td>LL Touring Seat/Saddle</td><td>382</td></tr>",
                            "<tr><td>F</td><td>Metal Tread Plate</td><td>619</td></tr>",
                            "<tr><td>F</td><td>ML Mountain Handlebars</td><td>313</td></tr>",
                            "<tr><td>F</td><td>ML Mountain Seat Assembly</td><td>214</td></tr>",
                            "<tr><td>F</td><td>ML Mountain Seat/Saddle</td><td>120</td></tr>",
                            "<tr><td>F</td><td>ML Road Handlebars</td><td>304</td></tr>",
                            "<tr><td>F</td><td>ML Road Seat Assembly</td><td>219</td></tr>",
                            "<tr><td>F</td><td>ML Road Seat/Saddle</td><td>246</td></tr>",
                            "<tr><td>F</td><td>ML Touring Seat Assembly</td><td>224</td></tr>",
                            "<tr><td>F</td><td>ML Touring Seat/Saddle</td><td>158</td></tr>",
                            "<tr><td>F</td><td>Seat Lug</td><td>924</td></tr>",
                            "<tr><td>F</td><td>Seat Post</td><td>336</td></tr>",
                            "<tr><td>F</td><td>Seat Stays</td><td>715</td></tr>",
                            "<tr><td>F</td><td>Seat Tube</td><td>443</td></tr>",
                            "<tr><td>F</td><td>Spokes</td><td>702</td></tr>",
                            "<tr><td>F</td><td>Steerer</td><td>427</td></tr>",
                            "<tr><td>F</td><td>Stem</td><td>425</td></tr>",
                            "<tr><td>F</td><td>NULL</td><td>21249</td></tr>",
                            "<tr><td>G</td><td>Decal 1</td><td>540</td></tr>",
                            "<tr><td>G</td><td>Decal 2</td><td>587</td></tr>",
                            "<tr><td>G</td><td>External Lock Washer 1</td><td>340</td></tr>",
                            "<tr><td>G</td><td>External Lock Washer 2</td><td>552</td></tr>",
                            "<tr><td>G</td><td>External Lock Washer 3</td><td>350</td></tr>",
                            "<tr><td>G</td><td>External Lock Washer 4</td><td>347</td></tr>",
                            "<tr><td>G</td><td>External Lock Washer 5</td><td>340</td></tr>",
                            "<tr><td>G</td><td>External Lock Washer 6</td><td>344</td></tr>",
                            "<tr><td>G</td><td>External Lock Washer 7</td><td>587</td></tr>",
                            "<tr><td>G</td><td>External Lock Washer 8</td><td>337</td></tr>",
                            "<tr><td>G</td><td>External Lock Washer 9</td><td>344</td></tr>",
                            "<tr><td>G</td><td>Flat Washer 1</td><td>392</td></tr>",
                            "<tr><td>G</td><td>Flat Washer 4</td><td>315</td></tr>",
                            "<tr><td>G</td><td>Flat Washer 6</td><td>724</td></tr>",
                            "<tr><td>G</td><td>Flat Washer 7</td><td>256</td></tr>",
                            "<tr><td>G</td><td>Flat Washer 8</td><td>578</td></tr>",
                            "<tr><td>G</td><td>Flat Washer 9</td><td>714</td></tr>",
                            "<tr><td>G</td><td>HL Mountain Seat Assembly</td><td>321</td></tr>",
                            "<tr><td>G</td><td>HL Mountain Seat/Saddle</td><td>168</td></tr>",
                            "<tr><td>G</td><td>HL Road Seat Assembly</td><td>326</td></tr>",
                            "<tr><td>G</td><td>HL Road Seat/Saddle</td><td>145</td></tr>",
                            "<tr><td>G</td><td>HL Touring Seat Assembly</td><td>331</td></tr>",
                            "<tr><td>G</td><td>HL Touring Seat/Saddle</td><td>288</td></tr>",
                            "<tr><td>G</td><td>Internal Lock Washer 1</td><td>281</td></tr>",
                            "<tr><td>G</td><td>Internal Lock Washer 10</td><td>283</td></tr>",
                            "<tr><td>G</td><td>Internal Lock Washer 2</td><td>278</td></tr>",
                            "<tr><td>G</td><td>Internal Lock Washer 3</td><td>321</td></tr>",
                            "<tr><td>G</td><td>Internal Lock Washer 4</td><td>603</td></tr>",
                            "<tr><td>G</td><td>Internal Lock Washer 5</td><td>316</td></tr>",
                            "<tr><td>G</td><td>Internal Lock Washer 6</td><td>627</td></tr>",
                            "<tr><td>G</td><td>Internal Lock Washer 7</td><td>312</td></tr>",
                            "<tr><td>G</td><td>Internal Lock Washer 8</td><td>280</td></tr>",
                            "<tr><td>G</td><td>Internal Lock Washer 9</td><td>321</td></tr>",
                            "<tr><td>G</td><td>Keyed Washer</td><td>353</td></tr>",
                            "<tr><td>G</td><td>LL Mountain Seat Assembly</td><td>318</td></tr>",
                            "<tr><td>G</td><td>LL Mountain Seat/Saddle</td><td>214</td></tr>",
                            "<tr><td>G</td><td>LL Road Seat Assembly</td><td>323</td></tr>",
                            "<tr><td>G</td><td>LL Road Seat/Saddle</td><td>321</td></tr>",
                            "<tr><td>G</td><td>LL Touring Seat Assembly</td><td>328</td></tr>",
                            "<tr><td>G</td><td>LL Touring Seat/Saddle</td><td>171</td></tr>",
                            "<tr><td>G</td><td>Lock Nut 1</td><td>491</td></tr>",
                            "<tr><td>G</td><td>Lock Nut 10</td><td>486</td></tr>",
                            "<tr><td>G</td><td>Lock Nut 11</td><td>489</td></tr>",
                            "<tr><td>G</td><td>Lock Nut 12</td><td>500</td></tr>",
                            "<tr><td>G</td><td>Lock Nut 13</td><td>496</td></tr>",
                            "<tr><td>G</td><td>Lock Nut 14</td><td>505</td></tr>",
                            "<tr><td>G</td><td>Lock Nut 15</td><td>508</td></tr>",
                            "<tr><td>G</td><td>Lock Nut 16</td><td>534</td></tr>",
                            "<tr><td>G</td><td>Lock Nut 17</td><td>529</td></tr>",
                            "<tr><td>G</td><td>Lock Nut 18</td><td>518</td></tr>",
                            "<tr><td>G</td><td>Lock Nut 19</td><td>515</td></tr>",
                            "<tr><td>G</td><td>Lock Nut 2</td><td>492</td></tr>",
                            "<tr><td>G</td><td>Lock Nut 20</td><td>496</td></tr>",
                            "<tr><td>G</td><td>Lock Nut 21</td><td>499</td></tr>",
                            "<tr><td>G</td><td>Lock Nut 22</td><td>510</td></tr>",
                            "<tr><td>G</td><td>Lock Nut 23</td><td>505</td></tr>",
                            "<tr><td>G</td><td>Lock Nut 3</td><td>502</td></tr>",
                            "<tr><td>G</td><td>Lock Nut 4</td><td>512</td></tr>",
                            "<tr><td>G</td><td>Lock Nut 5</td><td>528</td></tr>",
                            "<tr><td>G</td><td>Lock Nut 6</td><td>531</td></tr>",
                            "<tr><td>G</td><td>Lock Nut 7</td><td>524</td></tr>",
                            "<tr><td>G</td><td>Lock Nut 8</td><td>520</td></tr>",
                            "<tr><td>G</td><td>Lock Nut 9</td><td>515</td></tr>",
                            "<tr><td>G</td><td>Lock Ring</td><td>627</td></tr>",
                            "<tr><td>G</td><td>Lock Washer 10</td><td>502</td></tr>",
                            "<tr><td>G</td><td>Lock Washer 13</td><td>505</td></tr>",
                            "<tr><td>G</td><td>Lock Washer 4</td><td>499</td></tr>",
                            "<tr><td>G</td><td>Lock Washer 5</td><td>500</td></tr>",
                            "<tr><td>G</td><td>Lock Washer 6</td><td>504</td></tr>",
                            "<tr><td>G</td><td>Lock Washer 8</td><td>507</td></tr>",
                            "<tr><td>G</td><td>Lower Head Race</td><td>310</td></tr>",
                            "<tr><td>G</td><td>ML Mountain Seat Assembly</td><td>320</td></tr>",
                            "<tr><td>G</td><td>ML Mountain Seat/Saddle</td><td>72</td></tr>",
                            "<tr><td>G</td><td>ML Road Seat Assembly</td><td>324</td></tr>",
                            "<tr><td>G</td><td>ML Road Seat/Saddle</td><td>353</td></tr>",
                            "<tr><td>G</td><td>ML Touring Seat Assembly</td><td>329</td></tr>",
                            "<tr><td>G</td><td>ML Touring Seat/Saddle</td><td>83</td></tr>",
                            "<tr><td>G</td><td>Thin-Jam Lock Nut 1</td><td>512</td></tr>",
                            "<tr><td>G</td><td>Thin-Jam Lock Nut 10</td><td>513</td></tr>",
                            "<tr><td>G</td><td>Thin-Jam Lock Nut 11</td><td>524</td></tr>",
                            "<tr><td>G</td><td>Thin-Jam Lock Nut 12</td><td>521</td></tr>",
                            "<tr><td>G</td><td>Thin-Jam Lock Nut 13</td><td>508</td></tr>",
                            "<tr><td>G</td><td>Thin-Jam Lock Nut 14</td><td>512</td></tr>",
                            "<tr><td>G</td><td>Thin-Jam Lock Nut 15</td><td>508</td></tr>",
                            "<tr><td>G</td><td>Thin-Jam Lock Nut 16</td><td>507</td></tr>",
                            "<tr><td>G</td><td>Thin-Jam Lock Nut 2</td><td>510</td></tr>",
                            "<tr><td>G</td><td>Thin-Jam Lock Nut 3</td><td>502</td></tr>",
                            "<tr><td>G</td><td>Thin-Jam Lock Nut 4</td><td>505</td></tr>",
                            "<tr><td>G</td><td>Thin-Jam Lock Nut 5</td><td>505</td></tr>",
                            "<tr><td>G</td><td>Thin-Jam Lock Nut 6</td><td>504</td></tr>",
                            "<tr><td>G</td><td>Thin-Jam Lock Nut 7</td><td>515</td></tr>",
                            "<tr><td>G</td><td>Thin-Jam Lock Nut 8</td><td>518</td></tr>",
                            "<tr><td>G</td><td>Thin-Jam Lock Nut 9</td><td>515</td></tr>",
                            "<tr><td>G</td><td>NULL</td><td>40195</td></tr>",
                            "<tr><td>H</td><td>Decal 1</td><td>569</td></tr>",
                            "<tr><td>H</td><td>Decal 2</td><td>622</td></tr>",
                            "<tr><td>H</td><td>Guide Pulley</td><td>257</td></tr>",
                            "<tr><td>H</td><td>HL Grip Tape</td><td>214</td></tr>",
                            "<tr><td>H</td><td>LL Grip Tape</td><td>243</td></tr>",
                            "<tr><td>H</td><td>Lock Nut 1</td><td>596</td></tr>",
                            "<tr><td>H</td><td>Lock Nut 10</td><td>592</td></tr>",
                            "<tr><td>H</td><td>Lock Nut 11</td><td>595</td></tr>",
                            "<tr><td>H</td><td>Lock Nut 12</td><td>606</td></tr>",
                            "<tr><td>H</td><td>Lock Nut 13</td><td>601</td></tr>",
                            "<tr><td>H</td><td>Lock Nut 14</td><td>611</td></tr>",
                            "<tr><td>H</td><td>Lock Nut 15</td><td>614</td></tr>",
                            "<tr><td>H</td><td>Lock Nut 18</td><td>624</td></tr>",
                            "<tr><td>H</td><td>Lock Nut 19</td><td>620</td></tr>",
                            "<tr><td>H</td><td>Lock Nut 2</td><td>598</td></tr>",
                            "<tr><td>H</td><td>Lock Nut 20</td><td>601</td></tr>",
                            "<tr><td>H</td><td>Lock Nut 21</td><td>604</td></tr>",
                            "<tr><td>H</td><td>Lock Nut 22</td><td>616</td></tr>",
                            "<tr><td>H</td><td>Lock Nut 23</td><td>611</td></tr>",
                            "<tr><td>H</td><td>Lock Nut 3</td><td>608</td></tr>",
                            "<tr><td>H</td><td>Lock Nut 4</td><td>617</td></tr>",
                            "<tr><td>H</td><td>Lock Ring</td><td>521</td></tr>",
                            "<tr><td>H</td><td>Lock Washer 1</td><td>576</td></tr>",
                            "<tr><td>H</td><td>Lock Washer 10</td><td>569</td></tr>",
                            "<tr><td>H</td><td>Lock Washer 11</td><td>585</td></tr>",
                            "<tr><td>H</td><td>Lock Washer 12</td><td>579</td></tr>",
                            "<tr><td>H</td><td>Lock Washer 13</td><td>572</td></tr>",
                            "<tr><td>H</td><td>Lock Washer 2</td><td>580</td></tr>",
                            "<tr><td>H</td><td>Lock Washer 3</td><td>584</td></tr>",
                            "<tr><td>H</td><td>Lock Washer 4</td><td>566</td></tr>",
                            "<tr><td>H</td><td>Lock Washer 5</td><td>568</td></tr>",
                            "<tr><td>H</td><td>Lock Washer 6</td><td>571</td></tr>",
                            "<tr><td>H</td><td>Lock Washer 7</td><td>577</td></tr>",
                            "<tr><td>H</td><td>Lock Washer 8</td><td>574</td></tr>",
                            "<tr><td>H</td><td>Lock Washer 9</td><td>582</td></tr>",
                            "<tr><td>H</td><td>Lower Head Race</td><td>204</td></tr>",
                            "<tr><td>H</td><td>ML Grip Tape</td><td>228</td></tr>",
                            "<tr><td>H</td><td>NULL</td><td>20055</td></tr>",
                            "<tr><td>J</td><td>Fork Crown</td><td>622</td></tr>",
                            "<tr><td>J</td><td>Fork End</td><td>574</td></tr>",
                            "<tr><td>J</td><td>Freewheel</td><td>344</td></tr>",
                            "<tr><td>J</td><td>Front Brakes</td><td>347</td></tr>",
                            "<tr><td>J</td><td>Front Derailleur</td><td>347</td></tr>",
                            "<tr><td>J</td><td>Front Derailleur Cage</td><td>179</td></tr>",
                            "<tr><td>J</td><td>Front Derailleur Linkage</td><td>300</td></tr>",
                            "<tr><td>J</td><td>HL Fork</td><td>363</td></tr>",
                            "<tr><td>J</td><td>HL Mountain Rim</td><td>558</td></tr>",
                            "<tr><td>J</td><td>HL Nipple</td><td>254</td></tr>",
                            "<tr><td>J</td><td>HL Road Rim</td><td>281</td></tr>",
                            "<tr><td>J</td><td>LL Fork</td><td>350</td></tr>",
                            "<tr><td>J</td><td>LL Mountain Rim</td><td>542</td></tr>",
                            "<tr><td>J</td><td>LL Nipple</td><td>593</td></tr>",
                            "<tr><td>J</td><td>LL Road Rim</td><td>316</td></tr>",
                            "<tr><td>J</td><td>Lock Washer 1</td><td>508</td></tr>",
                            "<tr><td>J</td><td>Lock Washer 11</td><td>518</td></tr>",
                            "<tr><td>J</td><td>Lock Washer 12</td><td>512</td></tr>",
                            "<tr><td>J</td><td>Lock Washer 2</td><td>513</td></tr>",
                            "<tr><td>J</td><td>Lock Washer 3</td><td>516</td></tr>",
                            "<tr><td>J</td><td>Lock Washer 7</td><td>510</td></tr>",
                            "<tr><td>J</td><td>Lock Washer 9</td><td>515</td></tr>",
                            "<tr><td>J</td><td>Metal Tread Plate</td><td>612</td></tr>",
                            "<tr><td>J</td><td>ML Fork</td><td>356</td></tr>",
                            "<tr><td>J</td><td>ML Mountain Rim</td><td>550</td></tr>",
                            "<tr><td>J</td><td>ML Road Rim</td><td>350</td></tr>",
                            "<tr><td>J</td><td>Touring Rim</td><td>724</td></tr>",
                            "<tr><td>J</td><td>NULL</td><td>12154</td></tr>",
                            "<tr><td>K</td><td>Down Tube</td><td>408</td></tr>",
                            "<tr><td>K</td><td>HL Spindle/Axle</td><td>107</td></tr>",
                            "<tr><td>K</td><td>LL Spindle/Axle</td><td>164</td></tr>",
                            "<tr><td>K</td><td>Lock Ring</td><td>504</td></tr>",
                            "<tr><td>K</td><td>Lock Washer 1</td><td>630</td></tr>",
                            "<tr><td>K</td><td>Lock Washer 10</td><td>624</td></tr>",
                            "<tr><td>K</td><td>Lock Washer 11</td><td>640</td></tr>",
                            "<tr><td>K</td><td>Lock Washer 12</td><td>633</td></tr>",
                            "<tr><td>K</td><td>Lock Washer 13</td><td>627</td></tr>",
                            "<tr><td>K</td><td>Lock Washer 2</td><td>635</td></tr>",
                            "<tr><td>K</td><td>Lock Washer 3</td><td>638</td></tr>",
                            "<tr><td>K</td><td>Lock Washer 4</td><td>620</td></tr>",
                            "<tr><td>K</td><td>Lock Washer 5</td><td>622</td></tr>",
                            "<tr><td>K</td><td>Lock Washer 6</td><td>625</td></tr>",
                            "<tr><td>K</td><td>Lock Washer 7</td><td>632</td></tr>",
                            "<tr><td>K</td><td>Lock Washer 8</td><td>628</td></tr>",
                            "<tr><td>K</td><td>Lock Washer 9</td><td>636</td></tr>",
                            "<tr><td>K</td><td>Lower Head Race</td><td>187</td></tr>",
                            "<tr><td>K</td><td>Thin-Jam Lock Nut 1</td><td>617</td></tr>",
                            "<tr><td>K</td><td>Thin-Jam Lock Nut 10</td><td>619</td></tr>",
                            "<tr><td>K</td><td>Thin-Jam Lock Nut 13</td><td>614</td></tr>",
                            "<tr><td>K</td><td>Thin-Jam Lock Nut 15</td><td>614</td></tr>",
                            "<tr><td>K</td><td>Thin-Jam Lock Nut 16</td><td>612</td></tr>",
                            "<tr><td>K</td><td>Thin-Jam Lock Nut 2</td><td>616</td></tr>",
                            "<tr><td>K</td><td>Thin-Jam Lock Nut 3</td><td>608</td></tr>",
                            "<tr><td>K</td><td>Thin-Jam Lock Nut 4</td><td>611</td></tr>",
                            "<tr><td>K</td><td>Thin-Jam Lock Nut 5</td><td>611</td></tr>",
                            "<tr><td>K</td><td>Thin-Jam Lock Nut 6</td><td>609</td></tr>",
                            "<tr><td>K</td><td>Thin-Jam Lock Nut 9</td><td>620</td></tr>",
                            "<tr><td>K</td><td>NULL</td><td>16311</td></tr>",
                            "<tr><td>L</td><td>HL Mountain Tire</td><td>267</td></tr>",
                            "<tr><td>L</td><td>HL Road Tire</td><td>299</td></tr>",
                            "<tr><td>L</td><td>HL Spindle/Axle</td><td>124</td></tr>",
                            "<tr><td>L</td><td>LL Mountain Tire</td><td>240</td></tr>",
                            "<tr><td>L</td><td>LL Road Tire</td><td>236</td></tr>",
                            "<tr><td>L</td><td>LL Spindle/Axle</td><td>139</td></tr>",
                            "<tr><td>L</td><td>Lock Nut 16</td><td>640</td></tr>",
                            "<tr><td>L</td><td>Lock Nut 17</td><td>635</td></tr>",
                            "<tr><td>L</td><td>Lock Nut 5</td><td>633</td></tr>",
                            "<tr><td>L</td><td>Lock Nut 6</td><td>636</td></tr>",
                            "<tr><td>L</td><td>Lock Nut 7</td><td>630</td></tr>",
                            "<tr><td>L</td><td>Lock Nut 8</td><td>625</td></tr>",
                            "<tr><td>L</td><td>Lock Nut 9</td><td>620</td></tr>",
                            "<tr><td>L</td><td>Metal Sheet 1</td><td>305</td></tr>",
                            "<tr><td>L</td><td>Metal Sheet 2</td><td>176</td></tr>",
                            "<tr><td>L</td><td>Metal Sheet 3</td><td>459</td></tr>",
                            "<tr><td>L</td><td>Metal Sheet 4</td><td>176</td></tr>",
                            "<tr><td>L</td><td>Metal Sheet 5</td><td>457</td></tr>",
                            "<tr><td>L</td><td>Metal Sheet 6</td><td>324</td></tr>",
                            "<tr><td>L</td><td>Metal Sheet 7</td><td>196</td></tr>",
                            "<tr><td>L</td><td>ML Mountain Tire</td><td>385</td></tr>",
                            "<tr><td>L</td><td>ML Road Tire</td><td>382</td></tr>",
                            "<tr><td>L</td><td>Mountain Tire Tube</td><td>286</td></tr>",
                            "<tr><td>L</td><td>Road Tire Tube</td><td>264</td></tr>",
                            "<tr><td>L</td><td>Tension Pulley</td><td>427</td></tr>",
                            "<tr><td>L</td><td>Thin-Jam Lock Nut 11</td><td>630</td></tr>",
                            "<tr><td>L</td><td>Thin-Jam Lock Nut 12</td><td>627</td></tr>",
                            "<tr><td>L</td><td>Thin-Jam Lock Nut 14</td><td>617</td></tr>",
                            "<tr><td>L</td><td>Thin-Jam Lock Nut 7</td><td>620</td></tr>",
                            "<tr><td>L</td><td>Thin-Jam Lock Nut 8</td><td>624</td></tr>",
                            "<tr><td>L</td><td>Top Tube</td><td>379</td></tr>",
                            "<tr><td>L</td><td>Touring Tire</td><td>233</td></tr>",
                            "<tr><td>L</td><td>Touring Tire Tube</td><td>262</td></tr>",
                            "<tr><td>L</td><td>NULL</td><td>13553</td></tr>",
                            "<tr><td>M</td><td>Cone-Shaped Race</td><td>299</td></tr>",
                            "<tr><td>M</td><td>Cup-Shaped Race</td><td>372</td></tr>",
                            "<tr><td>M</td><td>HL Mountain Pedal</td><td>179</td></tr>",
                            "<tr><td>M</td><td>HL Road Pedal</td><td>267</td></tr>",
                            "<tr><td>M</td><td>LL Mountain Pedal</td><td>182</td></tr>",
                            "<tr><td>M</td><td>LL Road Pedal</td><td>177</td></tr>",
                            "<tr><td>M</td><td>ML Mountain Pedal</td><td>180</td></tr>",
                            "<tr><td>M</td><td>ML Road Pedal</td><td>176</td></tr>",
                            "<tr><td>M</td><td>Pinch Bolt</td><td>364</td></tr>",
                            "<tr><td>M</td><td>Rear Brakes</td><td>228</td></tr>",
                            "<tr><td>M</td><td>Rear Derailleur</td><td>355</td></tr>",
                            "<tr><td>M</td><td>Rear Derailleur Cage</td><td>136</td></tr>",
                            "<tr><td>M</td><td>Reflector</td><td>390</td></tr>",
                            "<tr><td>M</td><td>Touring Pedal</td><td>262</td></tr>",
                            "<tr><td>M</td><td>NULL</td><td>3567</td></tr>",
                            "<tr><td>N</td><td>HL Mountain Rim</td><td>689</td></tr>",
                            "<tr><td>N</td><td>HL Nipple</td><td>248</td></tr>",
                            "<tr><td>N</td><td>HL Road Rim</td><td>334</td></tr>",
                            "<tr><td>N</td><td>LL Mountain Rim</td><td>673</td></tr>",
                            "<tr><td>N</td><td>LL Nipple</td><td>587</td></tr>",
                            "<tr><td>N</td><td>LL Road Rim</td><td>406</td></tr>",
                            "<tr><td>N</td><td>Metal Tread Plate</td><td>606</td></tr>",
                            "<tr><td>N</td><td>ML Mountain Rim</td><td>681</td></tr>",
                            "<tr><td>N</td><td>ML Road Rim</td><td>390</td></tr>",
                            "<tr><td>N</td><td>Touring Rim</td><td>640</td></tr>",
                            "<tr><td>N</td><td>NULL</td><td>5254</td></tr>",
                            "<tr><td>N/A</td><td>All-Purpose Bike Stand</td><td>144</td></tr>",
                            "<tr><td>N/A</td><td>AWC Logo Cap</td><td>288</td></tr>",
                            "<tr><td>N/A</td><td>Bike Wash - Dissolver</td><td>36</td></tr>",
                            "<tr><td>N/A</td><td>Cable Lock</td><td>252</td></tr>",
                            "<tr><td>N/A</td><td>Classic Vest, L</td><td>252</td></tr>",
                            "<tr><td>N/A</td><td>Classic Vest, M</td><td>216</td></tr>",
                            "<tr><td>N/A</td><td>Classic Vest, S</td><td>180</td></tr>",
                            "<tr><td>N/A</td><td>Fender Set - Mountain</td><td>108</td></tr>",
                            "<tr><td>N/A</td><td>Full-Finger Gloves, L</td><td>144</td></tr>",
                            "<tr><td>N/A</td><td>Full-Finger Gloves, M</td><td>108</td></tr>",
                            "<tr><td>N/A</td><td>Full-Finger Gloves, S</td><td>72</td></tr>",
                            "<tr><td>N/A</td><td>Half-Finger Gloves, L</td><td>36</td></tr>",
                            "<tr><td>N/A</td><td>Half-Finger Gloves, M</td><td>0</td></tr>",
                            "<tr><td>N/A</td><td>Half-Finger Gloves, S</td><td>324</td></tr>",
                            "<tr><td>N/A</td><td>Headlights - Dual-Beam</td><td>180</td></tr>",
                            "<tr><td>N/A</td><td>Headlights - Weatherproof</td><td>216</td></tr>",
                            "<tr><td>N/A</td><td>Hitch Rack - 4-Bike</td><td>0</td></tr>",
                            "<tr><td>N/A</td><td>HL Mountain Frame - Black, 38</td><td>834</td></tr>",
                            "<tr><td>N/A</td><td>HL Mountain Frame - Silver, 38</td><td>738</td></tr>",
                            "<tr><td>N/A</td><td>Hydration Pack - 70 oz.</td><td>108</td></tr>",
                            "<tr><td>N/A</td><td>LL Mountain Frame - Black, 40</td><td>719</td></tr>",
                            "<tr><td>N/A</td><td>LL Mountain Frame - Silver, 40</td><td>682</td></tr>",
                            "<tr><td>N/A</td><td>Long-Sleeve Logo Jersey, L</td><td>216</td></tr>",
                            "<tr><td>N/A</td><td>Long-Sleeve Logo Jersey, M</td><td>180</td></tr>",
                            "<tr><td>N/A</td><td>Long-Sleeve Logo Jersey, S</td><td>144</td></tr>",
                            "<tr><td>N/A</td><td>Long-Sleeve Logo Jersey, XL</td><td>252</td></tr>",
                            "<tr><td>N/A</td><td>Men's Bib-Shorts, L</td><td>144</td></tr>",
                            "<tr><td>N/A</td><td>Men's Bib-Shorts, M</td><td>108</td></tr>",
                            "<tr><td>N/A</td><td>Men's Bib-Shorts, S</td><td>72</td></tr>",
                            "<tr><td>N/A</td><td>Men's Sports Shorts, L</td><td>144</td></tr>",
                            "<tr><td>N/A</td><td>Men's Sports Shorts, M</td><td>108</td></tr>",
                            "<tr><td>N/A</td><td>Men's Sports Shorts, S</td><td>288</td></tr>",
                            "<tr><td>N/A</td><td>Men's Sports Shorts, XL</td><td>180</td></tr>",
                            "<tr><td>N/A</td><td>Minipump</td><td>288</td></tr>",
                            "<tr><td>N/A</td><td>ML Mountain Frame - Black, 38</td><td>767</td></tr>",
                            "<tr><td>N/A</td><td>ML Mountain Frame-W - Silver, 38</td><td>826</td></tr>",
                            "<tr><td>N/A</td><td>ML Road Frame-W - Yellow, 38</td><td>796</td></tr>",
                            "<tr><td>N/A</td><td>Mountain Bike Socks, L</td><td>216</td></tr>",
                            "<tr><td>N/A</td><td>Mountain Bike Socks, M</td><td>180</td></tr>",
                            "<tr><td>N/A</td><td>Mountain Bottle Cage</td><td>288</td></tr>",
                            "<tr><td>N/A</td><td>Mountain Pump</td><td>324</td></tr>",
                            "<tr><td>N/A</td><td>Mountain-100 Black, 38</td><td>155</td></tr>",
                            "<tr><td>N/A</td><td>Mountain-100 Black, 42</td><td>194</td></tr>",
                            "<tr><td>N/A</td><td>Mountain-100 Black, 44</td><td>149</td></tr>",
                            "<tr><td>N/A</td><td>Mountain-100 Black, 48</td><td>153</td></tr>",
                            "<tr><td>N/A</td><td>Mountain-100 Silver, 38</td><td>149</td></tr>",
                            "<tr><td>N/A</td><td>Mountain-100 Silver, 42</td><td>153</td></tr>",
                            "<tr><td>N/A</td><td>Mountain-100 Silver, 44</td><td>158</td></tr>",
                            "<tr><td>N/A</td><td>Mountain-100 Silver, 48</td><td>164</td></tr>",
                            "<tr><td>N/A</td><td>Mountain-200 Black, 38</td><td>188</td></tr>",
                            "<tr><td>N/A</td><td>Mountain-200 Black, 42</td><td>148</td></tr>",
                            "<tr><td>N/A</td><td>Mountain-200 Black, 46</td><td>137</td></tr>",
                            "<tr><td>N/A</td><td>Mountain-200 Silver, 38</td><td>137</td></tr>",
                            "<tr><td>N/A</td><td>Mountain-200 Silver, 42</td><td>223</td></tr>",
                            "<tr><td>N/A</td><td>Mountain-200 Silver, 46</td><td>140</td></tr>",
                            "<tr><td>N/A</td><td>Mountain-300 Black, 38</td><td>137</td></tr>",
                            "<tr><td>N/A</td><td>Mountain-300 Black, 40</td><td>223</td></tr>",
                            "<tr><td>N/A</td><td>Mountain-300 Black, 44</td><td>140</td></tr>",
                            "<tr><td>N/A</td><td>Mountain-300 Black, 48</td><td>128</td></tr>",
                            "<tr><td>N/A</td><td>Mountain-400-W Silver, 38</td><td>150</td></tr>",
                            "<tr><td>N/A</td><td>Mountain-400-W Silver, 40</td><td>153</td></tr>",
                            "<tr><td>N/A</td><td>Mountain-400-W Silver, 42</td><td>154</td></tr>",
                            "<tr><td>N/A</td><td>Mountain-400-W Silver, 46</td><td>164</td></tr>",
                            "<tr><td>N/A</td><td>Mountain-500 Black, 40</td><td>150</td></tr>",
                            "<tr><td>N/A</td><td>Mountain-500 Black, 42</td><td>153</td></tr>",
                            "<tr><td>N/A</td><td>Mountain-500 Black, 44</td><td>154</td></tr>",
                            "<tr><td>N/A</td><td>Mountain-500 Black, 48</td><td>164</td></tr>",
                            "<tr><td>N/A</td><td>Mountain-500 Black, 52</td><td>153</td></tr>",
                            "<tr><td>N/A</td><td>Mountain-500 Silver, 40</td><td>154</td></tr>",
                            "<tr><td>N/A</td><td>Mountain-500 Silver, 42</td><td>164</td></tr>",
                            "<tr><td>N/A</td><td>Mountain-500 Silver, 44</td><td>153</td></tr>",
                            "<tr><td>N/A</td><td>Mountain-500 Silver, 48</td><td>155</td></tr>",
                            "<tr><td>N/A</td><td>Mountain-500 Silver, 52</td><td>194</td></tr>",
                            "<tr><td>N/A</td><td>Patch Kit/8 Patches</td><td>180</td></tr>",
                            "<tr><td>N/A</td><td>Racing Socks, L</td><td>288</td></tr>",
                            "<tr><td>N/A</td><td>Racing Socks, M</td><td>252</td></tr>",
                            "<tr><td>N/A</td><td>Road Bottle Cage</td><td>324</td></tr>",
                            "<tr><td>N/A</td><td>Road-150 Red, 44</td><td>223</td></tr>",
                            "<tr><td>N/A</td><td>Road-150 Red, 48</td><td>140</td></tr>",
                            "<tr><td>N/A</td><td>Road-150 Red, 52</td><td>128</td></tr>",
                            "<tr><td>N/A</td><td>Road-150 Red, 56</td><td>163</td></tr>",
                            "<tr><td>N/A</td><td>Road-150 Red, 62</td><td>133</td></tr>",
                            "<tr><td>N/A</td><td>Road-250 Black, 44</td><td>134</td></tr>",
                            "<tr><td>N/A</td><td>Road-250 Black, 48</td><td>165</td></tr>",
                            "<tr><td>N/A</td><td>Road-250 Black, 52</td><td>188</td></tr>",
                            "<tr><td>N/A</td><td>Road-250 Black, 58</td><td>148</td></tr>",
                            "<tr><td>N/A</td><td>Road-250 Red, 44</td><td>163</td></tr>",
                            "<tr><td>N/A</td><td>Road-250 Red, 48</td><td>185</td></tr>",
                            "<tr><td>N/A</td><td>Road-250 Red, 52</td><td>148</td></tr>",
                            "<tr><td>N/A</td><td>Road-250 Red, 58</td><td>227</td></tr>",
                            "<tr><td>N/A</td><td>Road-350-W Yellow, 40</td><td>185</td></tr>",
                            "<tr><td>N/A</td><td>Road-350-W Yellow, 42</td><td>148</td></tr>",
                            "<tr><td>N/A</td><td>Road-350-W Yellow, 44</td><td>133</td></tr>",
                            "<tr><td>N/A</td><td>Road-350-W Yellow, 48</td><td>227</td></tr>",
                            "<tr><td>N/A</td><td>Road-450 Red, 44</td><td>129</td></tr>",
                            "<tr><td>N/A</td><td>Road-450 Red, 48</td><td>134</td></tr>",
                            "<tr><td>N/A</td><td>Road-450 Red, 52</td><td>165</td></tr>",
                            "<tr><td>N/A</td><td>Road-450 Red, 58</td><td>148</td></tr>",
                            "<tr><td>N/A</td><td>Road-450 Red, 60</td><td>137</td></tr>",
                            "<tr><td>N/A</td><td>Road-550-W Yellow, 38</td><td>148</td></tr>",
                            "<tr><td>N/A</td><td>Road-550-W Yellow, 40</td><td>133</td></tr>",
                            "<tr><td>N/A</td><td>Road-550-W Yellow, 42</td><td>227</td></tr>",
                            "<tr><td>N/A</td><td>Road-550-W Yellow, 44</td><td>129</td></tr>",
                            "<tr><td>N/A</td><td>Road-550-W Yellow, 48</td><td>134</td></tr>",
                            "<tr><td>N/A</td><td>Road-650 Black, 44</td><td>148</td></tr>",
                            "<tr><td>N/A</td><td>Road-650 Black, 48</td><td>133</td></tr>",
                            "<tr><td>N/A</td><td>Road-650 Black, 52</td><td>227</td></tr>",
                            "<tr><td>N/A</td><td>Road-650 Black, 58</td><td>134</td></tr>",
                            "<tr><td>N/A</td><td>Road-650 Black, 60</td><td>165</td></tr>",
                            "<tr><td>N/A</td><td>Road-650 Black, 62</td><td>188</td></tr>",
                            "<tr><td>N/A</td><td>Road-650 Red, 44</td><td>137</td></tr>",
                            "<tr><td>N/A</td><td>Road-650 Red, 48</td><td>223</td></tr>",
                            "<tr><td>N/A</td><td>Road-650 Red, 52</td><td>140</td></tr>",
                            "<tr><td>N/A</td><td>Road-650 Red, 58</td><td>163</td></tr>",
                            "<tr><td>N/A</td><td>Road-650 Red, 60</td><td>185</td></tr>",
                            "<tr><td>N/A</td><td>Road-650 Red, 62</td><td>148</td></tr>",
                            "<tr><td>N/A</td><td>Road-750 Black, 44</td><td>153</td></tr>",
                            "<tr><td>N/A</td><td>Road-750 Black, 48</td><td>155</td></tr>",
                            "<tr><td>N/A</td><td>Road-750 Black, 52</td><td>194</td></tr>",
                            "<tr><td>N/A</td><td>Road-750 Black, 58</td><td>153</td></tr>",
                            "<tr><td>N/A</td><td>Short-Sleeve Classic Jersey, L</td><td>36</td></tr>",
                            "<tr><td>N/A</td><td>Short-Sleeve Classic Jersey, M</td><td>0</td></tr>",
                            "<tr><td>N/A</td><td>Short-Sleeve Classic Jersey, S</td><td>324</td></tr>",
                            "<tr><td>N/A</td><td>Short-Sleeve Classic Jersey, XL</td><td>72</td></tr>",
                            "<tr><td>N/A</td><td>Sport-100 Helmet, Black</td><td>324</td></tr>",
                            "<tr><td>N/A</td><td>Sport-100 Helmet, Blue</td><td>216</td></tr>",
                            "<tr><td>N/A</td><td>Sport-100 Helmet, Red</td><td>288</td></tr>",
                            "<tr><td>N/A</td><td>Taillights - Battery-Powered</td><td>144</td></tr>",
                            "<tr><td>N/A</td><td>Touring-1000 Blue, 46</td><td>185</td></tr>",
                            "<tr><td>N/A</td><td>Touring-1000 Blue, 50</td><td>148</td></tr>",
                            "<tr><td>N/A</td><td>Touring-1000 Blue, 54</td><td>133</td></tr>",
                            "<tr><td>N/A</td><td>Touring-1000 Blue, 60</td><td>129</td></tr>",
                            "<tr><td>N/A</td><td>Touring-1000 Yellow, 46</td><td>148</td></tr>",
                            "<tr><td>N/A</td><td>Touring-1000 Yellow, 50</td><td>137</td></tr>",
                            "<tr><td>N/A</td><td>Touring-1000 Yellow, 54</td><td>75</td></tr>",
                            "<tr><td>N/A</td><td>Touring-1000 Yellow, 60</td><td>151</td></tr>",
                            "<tr><td>N/A</td><td>Touring-2000 Blue, 46</td><td>133</td></tr>",
                            "<tr><td>N/A</td><td>Touring-2000 Blue, 50</td><td>227</td></tr>",
                            "<tr><td>N/A</td><td>Touring-2000 Blue, 54</td><td>129</td></tr>",
                            "<tr><td>N/A</td><td>Touring-2000 Blue, 60</td><td>165</td></tr>",
                            "<tr><td>N/A</td><td>Touring-3000 Blue, 44</td><td>163</td></tr>",
                            "<tr><td>N/A</td><td>Touring-3000 Blue, 50</td><td>164</td></tr>",
                            "<tr><td>N/A</td><td>Touring-3000 Blue, 54</td><td>163</td></tr>",
                            "<tr><td>N/A</td><td>Touring-3000 Blue, 58</td><td>204</td></tr>",
                            "<tr><td>N/A</td><td>Touring-3000 Blue, 62</td><td>159</td></tr>",
                            "<tr><td>N/A</td><td>Touring-3000 Yellow, 44</td><td>168</td></tr>",
                            "<tr><td>N/A</td><td>Touring-3000 Yellow, 50</td><td>174</td></tr>",
                            "<tr><td>N/A</td><td>Touring-3000 Yellow, 54</td><td>162</td></tr>",
                            "<tr><td>N/A</td><td>Touring-3000 Yellow, 58</td><td>197</td></tr>",
                            "<tr><td>N/A</td><td>Touring-3000 Yellow, 62</td><td>163</td></tr>",
                            "<tr><td>N/A</td><td>Touring-Panniers, Large</td><td>72</td></tr>",
                            "<tr><td>N/A</td><td>Water Bottle - 30 oz.</td><td>252</td></tr>",
                            "<tr><td>N/A</td><td>Women's Mountain Shorts, L</td><td>288</td></tr>",
                            "<tr><td>N/A</td><td>Women's Mountain Shorts, M</td><td>252</td></tr>",
                            "<tr><td>N/A</td><td>Women's Mountain Shorts, S</td><td>216</td></tr>",
                            "<tr><td>N/A</td><td>Women's Tights, L</td><td>36</td></tr>",
                            "<tr><td>N/A</td><td>Women's Tights, M</td><td>0</td></tr>",
                            "<tr><td>N/A</td><td>Women's Tights, S</td><td>324</td></tr>",
                            "<tr><td>N/A</td><td>NULL</td><td>30582</td></tr>",
                            "<tr><td>R</td><td>Hex Nut 1</td><td>192</td></tr>",
                            "<tr><td>R</td><td>Hex Nut 10</td><td>710</td></tr>",
                            "<tr><td>R</td><td>Hex Nut 11</td><td>140</td></tr>",
                            "<tr><td>R</td><td>Hex Nut 12</td><td>217</td></tr>",
                            "<tr><td>R</td><td>Hex Nut 13</td><td>526</td></tr>",
                            "<tr><td>R</td><td>Hex Nut 14</td><td>780</td></tr>",
                            "<tr><td>R</td><td>Hex Nut 15</td><td>150</td></tr>",
                            "<tr><td>R</td><td>Hex Nut 16</td><td>299</td></tr>",
                            "<tr><td>R</td><td>Hex Nut 17</td><td>294</td></tr>",
                            "<tr><td>R</td><td>Hex Nut 18</td><td>585</td></tr>",
                            "<tr><td>R</td><td>Hex Nut 19</td><td>550</td></tr>",
                            "<tr><td>R</td><td>Hex Nut 2</td><td>691</td></tr>",
                            "<tr><td>R</td><td>Hex Nut 20</td><td>140</td></tr>",
                            "<tr><td>R</td><td>Hex Nut 21</td><td>144</td></tr>",
                            "<tr><td>R</td><td>Hex Nut 22</td><td>276</td></tr>",
                            "<tr><td>R</td><td>Hex Nut 23</td><td>676</td></tr>",
                            "<tr><td>R</td><td>Hex Nut 3</td><td>147</td></tr>",
                            "<tr><td>R</td><td>Hex Nut 4</td><td>355</td></tr>",
                            "<tr><td>R</td><td>Hex Nut 5</td><td>353</td></tr>",
                            "<tr><td>R</td><td>Hex Nut 6</td><td>649</td></tr>",
                            "<tr><td>R</td><td>Hex Nut 7</td><td>897</td></tr>",
                            "<tr><td>R</td><td>Hex Nut 8</td><td>264</td></tr>",
                            "<tr><td>R</td><td>Hex Nut 9</td><td>270</td></tr>",
                            "<tr><td>R</td><td>HL Headset</td><td>272</td></tr>",
                            "<tr><td>R</td><td>HL Mountain Tire</td><td>232</td></tr>",
                            "<tr><td>R</td><td>HL Road Tire</td><td>228</td></tr>",
                            "<tr><td>R</td><td>LL Headset</td><td>265</td></tr>",
                            "<tr><td>R</td><td>LL Mountain Tire</td><td>369</td></tr>",
                            "<tr><td>R</td><td>LL Road Tire</td><td>252</td></tr>",
                            "<tr><td>R</td><td>Metal Sheet 1</td><td>318</td></tr>",
                            "<tr><td>R</td><td>Metal Sheet 2</td><td>427</td></tr>",
                            "<tr><td>R</td><td>Metal Sheet 3</td><td>531</td></tr>",
                            "<tr><td>R</td><td>Metal Sheet 4</td><td>427</td></tr>",
                            "<tr><td>R</td><td>Metal Sheet 5</td><td>515</td></tr>",
                            "<tr><td>R</td><td>Metal Sheet 6</td><td>337</td></tr>",
                            "<tr><td>R</td><td>Metal Sheet 7</td><td>374</td></tr>",
                            "<tr><td>R</td><td>ML Headset</td><td>268</td></tr>",
                            "<tr><td>R</td><td>ML Mountain Tire</td><td>284</td></tr>",
                            "<tr><td>R</td><td>ML Road Tire</td><td>192</td></tr>",
                            "<tr><td>R</td><td>Mountain Tire Tube</td><td>243</td></tr>",
                            "<tr><td>R</td><td>Road Tire Tube</td><td>241</td></tr>",
                            "<tr><td>R</td><td>Tension Pulley</td><td>409</td></tr>",
                            "<tr><td>R</td><td>Thin-Jam Hex Nut 1</td><td>601</td></tr>",
                            "<tr><td>R</td><td>Thin-Jam Hex Nut 10</td><td>353</td></tr>",
                            "<tr><td>R</td><td>Thin-Jam Hex Nut 11</td><td>350</td></tr>",
                            "<tr><td>R</td><td>Thin-Jam Hex Nut 12</td><td>347</td></tr>",
                            "<tr><td>R</td><td>Thin-Jam Hex Nut 13</td><td>353</td></tr>",
                            "<tr><td>R</td><td>Thin-Jam Hex Nut 14</td><td>155</td></tr>",
                            "<tr><td>R</td><td>Thin-Jam Hex Nut 15</td><td>643</td></tr>",
                            "<tr><td>R</td><td>Thin-Jam Hex Nut 16</td><td>358</td></tr>",
                            "<tr><td>R</td><td>Thin-Jam Hex Nut 2</td><td>315</td></tr>",
                            "<tr><td>R</td><td>Thin-Jam Hex Nut 3</td><td>689</td></tr>",
                            "<tr><td>R</td><td>Thin-Jam Hex Nut 4</td><td>360</td></tr>",
                            "<tr><td>R</td><td>Thin-Jam Hex Nut 5</td><td>691</td></tr>",
                            "<tr><td>R</td><td>Thin-Jam Hex Nut 6</td><td>299</td></tr>",
                            "<tr><td>R</td><td>Thin-Jam Hex Nut 7</td><td>649</td></tr>",
                            "<tr><td>R</td><td>Thin-Jam Hex Nut 8</td><td>344</td></tr>",
                            "<tr><td>R</td><td>Thin-Jam Hex Nut 9</td><td>360</td></tr>",
                            "<tr><td>R</td><td>Top Tube</td><td>278</td></tr>",
                            "<tr><td>R</td><td>Touring Tire</td><td>249</td></tr>",
                            "<tr><td>R</td><td>Touring Tire Tube</td><td>240</td></tr>",
                            "<tr><td>R</td><td>NULL</td><td>23123</td></tr>",
                            "<tr><td>S</td><td>Flat Washer 1</td><td>339</td></tr>",
                            "<tr><td>S</td><td>Flat Washer 2</td><td>1105</td></tr>",
                            "<tr><td>S</td><td>Flat Washer 3</td><td>1117</td></tr>",
                            "<tr><td>S</td><td>Flat Washer 4</td><td>300</td></tr>",
                            "<tr><td>S</td><td>Flat Washer 5</td><td>588</td></tr>",
                            "<tr><td>S</td><td>Flat Washer 7</td><td>342</td></tr>",
                            "<tr><td>S</td><td>HL Mountain Handlebars</td><td>270</td></tr>",
                            "<tr><td>S</td><td>HL Road Handlebars</td><td>260</td></tr>",
                            "<tr><td>S</td><td>HL Touring Handlebars</td><td>254</td></tr>",
                            "<tr><td>S</td><td>LL Mountain Handlebars</td><td>276</td></tr>",
                            "<tr><td>S</td><td>LL Road Handlebars</td><td>267</td></tr>",
                            "<tr><td>S</td><td>LL Touring Handlebars</td><td>257</td></tr>",
                            "<tr><td>S</td><td>ML Mountain Handlebars</td><td>273</td></tr>",
                            "<tr><td>S</td><td>ML Road Handlebars</td><td>264</td></tr>",
                            "<tr><td>S</td><td>NULL</td><td>5912</td></tr>",
                            "<tr><td>T</td><td>External Lock Washer 1</td><td>292</td></tr>",
                            "<tr><td>T</td><td>External Lock Washer 2</td><td>459</td></tr>",
                            "<tr><td>T</td><td>External Lock Washer 3</td><td>318</td></tr>",
                            "<tr><td>T</td><td>External Lock Washer 4</td><td>315</td></tr>",
                            "<tr><td>T</td><td>External Lock Washer 5</td><td>308</td></tr>",
                            "<tr><td>T</td><td>External Lock Washer 6</td><td>296</td></tr>",
                            "<tr><td>T</td><td>External Lock Washer 7</td><td>625</td></tr>",
                            "<tr><td>T</td><td>External Lock Washer 8</td><td>289</td></tr>",
                            "<tr><td>T</td><td>External Lock Washer 9</td><td>312</td></tr>",
                            "<tr><td>T</td><td>HL Mountain Front Wheel</td><td>443</td></tr>",
                            "<tr><td>T</td><td>HL Road Front Wheel</td><td>446</td></tr>",
                            "<tr><td>T</td><td>Internal Lock Washer 1</td><td>387</td></tr>",
                            "<tr><td>T</td><td>Internal Lock Washer 10</td><td>388</td></tr>",
                            "<tr><td>T</td><td>Internal Lock Washer 2</td><td>384</td></tr>",
                            "<tr><td>T</td><td>Internal Lock Washer 3</td><td>156</td></tr>",
                            "<tr><td>T</td><td>Internal Lock Washer 4</td><td>459</td></tr>",
                            "<tr><td>T</td><td>Internal Lock Washer 5</td><td>366</td></tr>",
                            "<tr><td>T</td><td>Internal Lock Washer 6</td><td>516</td></tr>",
                            "<tr><td>T</td><td>Internal Lock Washer 7</td><td>361</td></tr>",
                            "<tr><td>T</td><td>Internal Lock Washer 8</td><td>385</td></tr>",
                            "<tr><td>T</td><td>Internal Lock Washer 9</td><td>371</td></tr>",
                            "<tr><td>T</td><td>Keyed Washer</td><td>321</td></tr>",
                            "<tr><td>T</td><td>LL Mountain Front Wheel</td><td>265</td></tr>",
                            "<tr><td>T</td><td>LL Road Front Wheel</td><td>428</td></tr>",
                            "<tr><td>T</td><td>ML Mountain Front Wheel</td><td>406</td></tr>",
                            "<tr><td>T</td><td>ML Road Front Wheel</td><td>409</td></tr>",
                            "<tr><td>T</td><td>Thin-Jam Lock Nut 9</td><td>497</td></tr>",
                            "<tr><td>T</td><td>Touring Front Wheel</td><td>432</td></tr>",
                            "<tr><td>T</td><td>NULL</td><td>10634</td></tr>",
                            "<tr><td>U</td><td>Lock Nut 1</td><td>473</td></tr>",
                            "<tr><td>U</td><td>Lock Nut 10</td><td>468</td></tr>",
                            "<tr><td>U</td><td>Lock Nut 11</td><td>472</td></tr>",
                            "<tr><td>U</td><td>Lock Nut 12</td><td>483</td></tr>",
                            "<tr><td>U</td><td>Lock Nut 13</td><td>478</td></tr>",
                            "<tr><td>U</td><td>Lock Nut 14</td><td>488</td></tr>",
                            "<tr><td>U</td><td>Lock Nut 15</td><td>491</td></tr>",
                            "<tr><td>U</td><td>Lock Nut 16</td><td>516</td></tr>",
                            "<tr><td>U</td><td>Lock Nut 17</td><td>512</td></tr>",
                            "<tr><td>U</td><td>Lock Nut 18</td><td>500</td></tr>",
                            "<tr><td>U</td><td>Lock Nut 19</td><td>497</td></tr>",
                            "<tr><td>U</td><td>Lock Nut 2</td><td>475</td></tr>",
                            "<tr><td>U</td><td>Lock Nut 20</td><td>478</td></tr>",
                            "<tr><td>U</td><td>Lock Nut 21</td><td>481</td></tr>",
                            "<tr><td>U</td><td>Lock Nut 22</td><td>492</td></tr>",
                            "<tr><td>U</td><td>Lock Nut 23</td><td>488</td></tr>",
                            "<tr><td>U</td><td>Lock Nut 3</td><td>484</td></tr>",
                            "<tr><td>U</td><td>Lock Nut 4</td><td>494</td></tr>",
                            "<tr><td>U</td><td>Lock Nut 5</td><td>510</td></tr>",
                            "<tr><td>U</td><td>Lock Nut 6</td><td>513</td></tr>",
                            "<tr><td>U</td><td>Lock Nut 7</td><td>507</td></tr>",
                            "<tr><td>U</td><td>Lock Nut 8</td><td>502</td></tr>",
                            "<tr><td>U</td><td>Lock Nut 9</td><td>497</td></tr>",
                            "<tr><td>U</td><td>Thin-Jam Lock Nut 1</td><td>494</td></tr>",
                            "<tr><td>U</td><td>Thin-Jam Lock Nut 10</td><td>496</td></tr>",
                            "<tr><td>U</td><td>Thin-Jam Lock Nut 11</td><td>507</td></tr>",
                            "<tr><td>U</td><td>Thin-Jam Lock Nut 12</td><td>504</td></tr>",
                            "<tr><td>U</td><td>Thin-Jam Lock Nut 13</td><td>491</td></tr>",
                            "<tr><td>U</td><td>Thin-Jam Lock Nut 14</td><td>494</td></tr>",
                            "<tr><td>U</td><td>Thin-Jam Lock Nut 15</td><td>491</td></tr>",
                            "<tr><td>U</td><td>Thin-Jam Lock Nut 16</td><td>489</td></tr>",
                            "<tr><td>U</td><td>Thin-Jam Lock Nut 2</td><td>492</td></tr>",
                            "<tr><td>U</td><td>Thin-Jam Lock Nut 3</td><td>484</td></tr>",
                            "<tr><td>U</td><td>Thin-Jam Lock Nut 4</td><td>488</td></tr>",
                            "<tr><td>U</td><td>Thin-Jam Lock Nut 5</td><td>488</td></tr>",
                            "<tr><td>U</td><td>Thin-Jam Lock Nut 6</td><td>486</td></tr>",
                            "<tr><td>U</td><td>Thin-Jam Lock Nut 7</td><td>497</td></tr>",
                            "<tr><td>U</td><td>Thin-Jam Lock Nut 8</td><td>500</td></tr>",
                            "<tr><td>U</td><td>NULL</td><td>18700</td></tr>",
                            "<tr><td>V</td><td>HL Mountain Rear Wheel</td><td>387</td></tr>",
                            "<tr><td>V</td><td>HL Road Rear Wheel</td><td>284</td></tr>",
                            "<tr><td>V</td><td>LL Mountain Rear Wheel</td><td>256</td></tr>",
                            "<tr><td>V</td><td>LL Road Rear Wheel</td><td>406</td></tr>",
                            "<tr><td>V</td><td>ML Mountain Rear Wheel</td><td>401</td></tr>",
                            "<tr><td>V</td><td>ML Road Rear Wheel</td><td>425</td></tr>",
                            "<tr><td>V</td><td>Touring Rear Wheel</td><td>476</td></tr>",
                            "<tr><td>V</td><td>NULL</td><td>2635</td></tr>",
                            "<tr><td>W</td><td>Cone-Shaped Race</td><td>283</td></tr>",
                            "<tr><td>W</td><td>Cup-Shaped Race</td><td>320</td></tr>",
                            "<tr><td>W</td><td>HL Mountain Pedal</td><td>153</td></tr>",
                            "<tr><td>W</td><td>HL Road Pedal</td><td>323</td></tr>",
                            "<tr><td>W</td><td>LL Mountain Pedal</td><td>156</td></tr>",
                            "<tr><td>W</td><td>LL Road Pedal</td><td>152</td></tr>",
                            "<tr><td>W</td><td>ML Mountain Pedal</td><td>155</td></tr>",
                            "<tr><td>W</td><td>ML Road Pedal</td><td>150</td></tr>",
                            "<tr><td>W</td><td>Pinch Bolt</td><td>273</td></tr>",
                            "<tr><td>W</td><td>Rear Brakes</td><td>158</td></tr>",
                            "<tr><td>W</td><td>Rear Derailleur</td><td>155</td></tr>",
                            "<tr><td>W</td><td>Rear Derailleur Cage</td><td>121</td></tr>",
                            "<tr><td>W</td><td>Reflector</td><td>121</td></tr>",
                            "<tr><td>W</td><td>Touring Pedal</td><td>388</td></tr>",
                            "<tr><td>W</td><td>NULL</td><td>2908</td></tr>",
                            "<tr><td>Y</td><td>HL Spindle/Axle</td><td>228</td></tr>",
                            "<tr><td>Y</td><td>LL Spindle/Axle</td><td>209</td></tr>",
                            "<tr><td>Y</td><td>NULL</td><td>437</td></tr>",
                            "<tr><td>NULL</td><td>NULL</td><td>335974</td></tr>",
                            "</table>"
                        ]
                    }
                }
            ],
            "execution_count": 7
        },
        {
            "cell_type": "code",
            "source": [
                "-- 5-7. Creating Custom Summaries\r\n",
                "\r\n",
                "-- Use the UNION ALL operator\r\n",
                "SELECT NULL AS Shelf,\r\n",
                "    i.LocationID,\r\n",
                "    p.Name,\r\n",
                "    SUM(i.Quantity) AS Total\r\n",
                "FROM Production.ProductInventory i\r\n",
                "    INNER JOIN Production.Product p\r\n",
                "        ON i.ProductID = p.ProductID\r\n",
                "WHERE Shelf IN ('A', 'C')\r\n",
                "AND Name IN ('Chain', 'Decal', 'Head Tube')\r\n",
                "GROUP BY i.LocationID,\r\n",
                "    p.Name\r\n",
                "UNION ALL\r\n",
                "SELECT i.Shelf,\r\n",
                "    NULL,\r\n",
                "    NULL,\r\n",
                "    SUM(i.Quantity) AS Total\r\n",
                "FROM Production.ProductInventory i\r\n",
                "    INNER JOIN Production.Product p\r\n",
                "        ON i.ProductID = p.ProductID\r\n",
                "WHERE Shelf IN ('A', 'C')\r\n",
                "    AND Name IN ('Chain', 'Decal', 'Head Tube')\r\n",
                "GROUP BY i.Shelf\r\n",
                "UNION ALL\r\n",
                "SELECT i.Shelf,\r\n",
                "    NULL,\r\n",
                "    p.Name,\r\n",
                "    SUM(i.Quantity) AS Total\r\n",
                "FROM Production.ProductInventory i\r\n",
                "    INNER JOIN Production.Product p\r\n",
                "        ON i.ProductID = p.ProductID\r\n",
                "WHERE Shelf IN ('A', 'C')\r\n",
                "    AND Name IN ('Chain', 'Decal', 'Head Tube')\r\n",
                "GROUP BY i.Shelf,\r\n",
                "    p.Name;"
            ],
            "metadata": {
                "azdata_cell_guid": "4a290380-4744-4ba2-a827-ae671074cf27"
            },
            "outputs": [
                {
                    "output_type": "display_data",
                    "data": {
                        "text/html": "(9 rows affected)"
                    },
                    "metadata": {}
                },
                {
                    "output_type": "display_data",
                    "data": {
                        "text/html": "Total execution time: 00:00:00.066"
                    },
                    "metadata": {}
                },
                {
                    "output_type": "execute_result",
                    "metadata": {},
                    "execution_count": 8,
                    "data": {
                        "application/vnd.dataresource+json": {
                            "schema": {
                                "fields": [
                                    {
                                        "name": "Shelf"
                                    },
                                    {
                                        "name": "LocationID"
                                    },
                                    {
                                        "name": "Name"
                                    },
                                    {
                                        "name": "Total"
                                    }
                                ]
                            },
                            "data": [
                                {
                                    "0": "NULL",
                                    "1": "1",
                                    "2": "Chain",
                                    "3": "236"
                                },
                                {
                                    "0": "NULL",
                                    "1": "5",
                                    "2": "Chain",
                                    "3": "192"
                                },
                                {
                                    "0": "NULL",
                                    "1": "50",
                                    "2": "Chain",
                                    "3": "161"
                                },
                                {
                                    "0": "NULL",
                                    "1": "20",
                                    "2": "Head Tube",
                                    "3": "544"
                                },
                                {
                                    "0": "A",
                                    "1": "NULL",
                                    "2": "NULL",
                                    "3": "897"
                                },
                                {
                                    "0": "C",
                                    "1": "NULL",
                                    "2": "NULL",
                                    "3": "236"
                                },
                                {
                                    "0": "A",
                                    "1": "NULL",
                                    "2": "Chain",
                                    "3": "353"
                                },
                                {
                                    "0": "C",
                                    "1": "NULL",
                                    "2": "Chain",
                                    "3": "236"
                                },
                                {
                                    "0": "A",
                                    "1": "NULL",
                                    "2": "Head Tube",
                                    "3": "544"
                                }
                            ]
                        },
                        "text/html": [
                            "<table>",
                            "<tr><th>Shelf</th><th>LocationID</th><th>Name</th><th>Total</th></tr>",
                            "<tr><td>NULL</td><td>1</td><td>Chain</td><td>236</td></tr>",
                            "<tr><td>NULL</td><td>5</td><td>Chain</td><td>192</td></tr>",
                            "<tr><td>NULL</td><td>50</td><td>Chain</td><td>161</td></tr>",
                            "<tr><td>NULL</td><td>20</td><td>Head Tube</td><td>544</td></tr>",
                            "<tr><td>A</td><td>NULL</td><td>NULL</td><td>897</td></tr>",
                            "<tr><td>C</td><td>NULL</td><td>NULL</td><td>236</td></tr>",
                            "<tr><td>A</td><td>NULL</td><td>Chain</td><td>353</td></tr>",
                            "<tr><td>C</td><td>NULL</td><td>Chain</td><td>236</td></tr>",
                            "<tr><td>A</td><td>NULL</td><td>Head Tube</td><td>544</td></tr>",
                            "</table>"
                        ]
                    }
                }
            ],
            "execution_count": 8
        },
        {
            "cell_type": "code",
            "source": [
                "-- Save code by using the GROUPING SETS operator to define the various\r\n",
                "aggregations\r\n",
                "SELECT i.Shelf,\r\n",
                "    i.LocationID,\r\n",
                "    p.Name,\r\n",
                "    SUM(i.Quantity) AS Total\r\n",
                "FROM Production.ProductInventory i\r\n",
                "    INNER JOIN Production.Product p\r\n",
                "        ON i.ProductID = p.ProductID\r\n",
                "WHERE Shelf IN ('A', 'C')\r\n",
                "    AND Name IN ('Chain', 'Decal', 'Head Tube')\r\n",
                "GROUP BY GROUPING SETS((i.Shelf),\r\n",
                "(i.Shelf, p.Name),\r\n",
                "(i.LocationID, p.Name));"
            ],
            "metadata": {
                "azdata_cell_guid": "d408e8a5-912b-459d-9970-175ed9b37bc1"
            },
            "outputs": [
                {
                    "output_type": "error",
                    "evalue": "Msg 2812, Level 16, State 62, Line 1\r\nCould not find stored procedure 'aggregations'.",
                    "ename": "",
                    "traceback": []
                },
                {
                    "output_type": "display_data",
                    "data": {
                        "text/html": "(9 rows affected)"
                    },
                    "metadata": {}
                },
                {
                    "output_type": "display_data",
                    "data": {
                        "text/html": "Total execution time: 00:00:00.060"
                    },
                    "metadata": {}
                },
                {
                    "output_type": "execute_result",
                    "metadata": {},
                    "execution_count": 9,
                    "data": {
                        "application/vnd.dataresource+json": {
                            "schema": {
                                "fields": [
                                    {
                                        "name": "Shelf"
                                    },
                                    {
                                        "name": "LocationID"
                                    },
                                    {
                                        "name": "Name"
                                    },
                                    {
                                        "name": "Total"
                                    }
                                ]
                            },
                            "data": [
                                {
                                    "0": "NULL",
                                    "1": "1",
                                    "2": "Chain",
                                    "3": "236"
                                },
                                {
                                    "0": "NULL",
                                    "1": "5",
                                    "2": "Chain",
                                    "3": "192"
                                },
                                {
                                    "0": "NULL",
                                    "1": "50",
                                    "2": "Chain",
                                    "3": "161"
                                },
                                {
                                    "0": "NULL",
                                    "1": "20",
                                    "2": "Head Tube",
                                    "3": "544"
                                },
                                {
                                    "0": "A",
                                    "1": "NULL",
                                    "2": "Chain",
                                    "3": "353"
                                },
                                {
                                    "0": "A",
                                    "1": "NULL",
                                    "2": "Head Tube",
                                    "3": "544"
                                },
                                {
                                    "0": "A",
                                    "1": "NULL",
                                    "2": "NULL",
                                    "3": "897"
                                },
                                {
                                    "0": "C",
                                    "1": "NULL",
                                    "2": "Chain",
                                    "3": "236"
                                },
                                {
                                    "0": "C",
                                    "1": "NULL",
                                    "2": "NULL",
                                    "3": "236"
                                }
                            ]
                        },
                        "text/html": [
                            "<table>",
                            "<tr><th>Shelf</th><th>LocationID</th><th>Name</th><th>Total</th></tr>",
                            "<tr><td>NULL</td><td>1</td><td>Chain</td><td>236</td></tr>",
                            "<tr><td>NULL</td><td>5</td><td>Chain</td><td>192</td></tr>",
                            "<tr><td>NULL</td><td>50</td><td>Chain</td><td>161</td></tr>",
                            "<tr><td>NULL</td><td>20</td><td>Head Tube</td><td>544</td></tr>",
                            "<tr><td>A</td><td>NULL</td><td>Chain</td><td>353</td></tr>",
                            "<tr><td>A</td><td>NULL</td><td>Head Tube</td><td>544</td></tr>",
                            "<tr><td>A</td><td>NULL</td><td>NULL</td><td>897</td></tr>",
                            "<tr><td>C</td><td>NULL</td><td>Chain</td><td>236</td></tr>",
                            "<tr><td>C</td><td>NULL</td><td>NULL</td><td>236</td></tr>",
                            "</table>"
                        ]
                    }
                }
            ],
            "execution_count": 9
        },
        {
            "cell_type": "code",
            "source": [
                "-- 5-8. Identifying Rows Generated by the GROUP BY Arguments\r\n",
                "\r\n",
                "SELECT i.Shelf,\r\n",
                "    i.LocationID,\r\n",
                "    CASE WHEN GROUPING(i.Shelf) = 0\r\n",
                "            AND GROUPING(i.LocationID) = 1 THEN 'Shelf Total'\r\n",
                "        WHEN GROUPING(i.Shelf) = 1\r\n",
                "            AND GROUPING(i.LocationID) = 0 THEN 'Location Total'\r\n",
                "        WHEN GROUPING(i.Shelf) = 1\r\n",
                "            AND GROUPING(i.LocationID) = 1 THEN 'Grand Total'\r\n",
                "        ELSE 'Regular Row'\r\n",
                "    END AS RowType,\r\n",
                "    SUM(i.Quantity) AS Total\r\n",
                "FROM Production.ProductInventory i\r\n",
                "WHERE LocationID = 2\r\n",
                "GROUP BY CUBE(i.Shelf, i.LocationID);"
            ],
            "metadata": {
                "azdata_cell_guid": "143c95ea-9252-422a-bfc5-6dee4f4b38ff"
            },
            "outputs": [
                {
                    "output_type": "display_data",
                    "data": {
                        "text/html": "(8 rows affected)"
                    },
                    "metadata": {}
                },
                {
                    "output_type": "display_data",
                    "data": {
                        "text/html": "Total execution time: 00:00:00.694"
                    },
                    "metadata": {}
                },
                {
                    "output_type": "execute_result",
                    "metadata": {},
                    "execution_count": 10,
                    "data": {
                        "application/vnd.dataresource+json": {
                            "schema": {
                                "fields": [
                                    {
                                        "name": "Shelf"
                                    },
                                    {
                                        "name": "LocationID"
                                    },
                                    {
                                        "name": "RowType"
                                    },
                                    {
                                        "name": "Total"
                                    }
                                ]
                            },
                            "data": [
                                {
                                    "0": "B",
                                    "1": "2",
                                    "2": "Regular Row",
                                    "3": "900"
                                },
                                {
                                    "0": "C",
                                    "1": "2",
                                    "2": "Regular Row",
                                    "3": "1557"
                                },
                                {
                                    "0": "D",
                                    "1": "2",
                                    "2": "Regular Row",
                                    "3": "3092"
                                },
                                {
                                    "0": "NULL",
                                    "1": "2",
                                    "2": "Location Total",
                                    "3": "5549"
                                },
                                {
                                    "0": "NULL",
                                    "1": "NULL",
                                    "2": "Grand Total",
                                    "3": "5549"
                                },
                                {
                                    "0": "B",
                                    "1": "NULL",
                                    "2": "Shelf Total",
                                    "3": "900"
                                },
                                {
                                    "0": "C",
                                    "1": "NULL",
                                    "2": "Shelf Total",
                                    "3": "1557"
                                },
                                {
                                    "0": "D",
                                    "1": "NULL",
                                    "2": "Shelf Total",
                                    "3": "3092"
                                }
                            ]
                        },
                        "text/html": [
                            "<table>",
                            "<tr><th>Shelf</th><th>LocationID</th><th>RowType</th><th>Total</th></tr>",
                            "<tr><td>B</td><td>2</td><td>Regular Row</td><td>900</td></tr>",
                            "<tr><td>C</td><td>2</td><td>Regular Row</td><td>1557</td></tr>",
                            "<tr><td>D</td><td>2</td><td>Regular Row</td><td>3092</td></tr>",
                            "<tr><td>NULL</td><td>2</td><td>Location Total</td><td>5549</td></tr>",
                            "<tr><td>NULL</td><td>NULL</td><td>Grand Total</td><td>5549</td></tr>",
                            "<tr><td>B</td><td>NULL</td><td>Shelf Total</td><td>900</td></tr>",
                            "<tr><td>C</td><td>NULL</td><td>Shelf Total</td><td>1557</td></tr>",
                            "<tr><td>D</td><td>NULL</td><td>Shelf Total</td><td>3092</td></tr>",
                            "</table>"
                        ]
                    }
                }
            ],
            "execution_count": 10
        },
        {
            "cell_type": "code",
            "source": [
                "-- 5-9. Identifying Summary Levels\r\n",
                "\r\n",
                "SELECT i.Shelf,\r\n",
                "    i.LocationID,\r\n",
                "    i.Bin,\r\n",
                "    CASE GROUPING_ID(i.Shelf, i.LocationID, i.Bin)\r\n",
                "        WHEN 1 THEN 'Shelf/Location Total'\r\n",
                "        WHEN 2 THEN 'Shelf/Bin Total'\r\n",
                "        WHEN 3 THEN 'Shelf Total'\r\n",
                "        WHEN 4 THEN 'Location/Bin Total'\r\n",
                "        WHEN 5 THEN 'Location Total'\r\n",
                "        WHEN 6 THEN 'Bin Total'\r\n",
                "        WHEN 7 THEN 'Grand Total'\r\n",
                "        ELSE 'Regular Row'\r\n",
                "    END AS GroupingType,\r\n",
                "    SUM(i.Quantity) AS Total\r\n",
                "FROM Production.ProductInventory i\r\n",
                "WHERE i.LocationID IN (3)\r\n",
                "    AND i.Bin IN (1, 2)\r\n",
                "GROUP BY CUBE(i.Shelf, i.LocationID, i.Bin)\r\n",
                "ORDER BY i.Shelf,\r\n",
                "    i.LocationID,\r\n",
                "    i.Bin;"
            ],
            "metadata": {
                "azdata_cell_guid": "bfacf49e-cc35-411a-be4e-a4cf8436dcdb"
            },
            "outputs": [
                {
                    "output_type": "display_data",
                    "data": {
                        "text/html": "(12 rows affected)"
                    },
                    "metadata": {}
                },
                {
                    "output_type": "display_data",
                    "data": {
                        "text/html": "Total execution time: 00:00:00.058"
                    },
                    "metadata": {}
                },
                {
                    "output_type": "execute_result",
                    "metadata": {},
                    "execution_count": 11,
                    "data": {
                        "application/vnd.dataresource+json": {
                            "schema": {
                                "fields": [
                                    {
                                        "name": "Shelf"
                                    },
                                    {
                                        "name": "LocationID"
                                    },
                                    {
                                        "name": "Bin"
                                    },
                                    {
                                        "name": "GroupingType"
                                    },
                                    {
                                        "name": "Total"
                                    }
                                ]
                            },
                            "data": [
                                {
                                    "0": "NULL",
                                    "1": "NULL",
                                    "2": "NULL",
                                    "3": "Grand Total",
                                    "4": "90"
                                },
                                {
                                    "0": "NULL",
                                    "1": "NULL",
                                    "2": "1",
                                    "3": "Bin Total",
                                    "4": "49"
                                },
                                {
                                    "0": "NULL",
                                    "1": "NULL",
                                    "2": "2",
                                    "3": "Bin Total",
                                    "4": "41"
                                },
                                {
                                    "0": "NULL",
                                    "1": "3",
                                    "2": "NULL",
                                    "3": "Location Total",
                                    "4": "90"
                                },
                                {
                                    "0": "NULL",
                                    "1": "3",
                                    "2": "1",
                                    "3": "Location/Bin Total",
                                    "4": "49"
                                },
                                {
                                    "0": "NULL",
                                    "1": "3",
                                    "2": "2",
                                    "3": "Location/Bin Total",
                                    "4": "41"
                                },
                                {
                                    "0": "A",
                                    "1": "NULL",
                                    "2": "NULL",
                                    "3": "Shelf Total",
                                    "4": "90"
                                },
                                {
                                    "0": "A",
                                    "1": "NULL",
                                    "2": "1",
                                    "3": "Shelf/Bin Total",
                                    "4": "49"
                                },
                                {
                                    "0": "A",
                                    "1": "NULL",
                                    "2": "2",
                                    "3": "Shelf/Bin Total",
                                    "4": "41"
                                },
                                {
                                    "0": "A",
                                    "1": "3",
                                    "2": "NULL",
                                    "3": "Shelf/Location Total",
                                    "4": "90"
                                },
                                {
                                    "0": "A",
                                    "1": "3",
                                    "2": "1",
                                    "3": "Regular Row",
                                    "4": "49"
                                },
                                {
                                    "0": "A",
                                    "1": "3",
                                    "2": "2",
                                    "3": "Regular Row",
                                    "4": "41"
                                }
                            ]
                        },
                        "text/html": [
                            "<table>",
                            "<tr><th>Shelf</th><th>LocationID</th><th>Bin</th><th>GroupingType</th><th>Total</th></tr>",
                            "<tr><td>NULL</td><td>NULL</td><td>NULL</td><td>Grand Total</td><td>90</td></tr>",
                            "<tr><td>NULL</td><td>NULL</td><td>1</td><td>Bin Total</td><td>49</td></tr>",
                            "<tr><td>NULL</td><td>NULL</td><td>2</td><td>Bin Total</td><td>41</td></tr>",
                            "<tr><td>NULL</td><td>3</td><td>NULL</td><td>Location Total</td><td>90</td></tr>",
                            "<tr><td>NULL</td><td>3</td><td>1</td><td>Location/Bin Total</td><td>49</td></tr>",
                            "<tr><td>NULL</td><td>3</td><td>2</td><td>Location/Bin Total</td><td>41</td></tr>",
                            "<tr><td>A</td><td>NULL</td><td>NULL</td><td>Shelf Total</td><td>90</td></tr>",
                            "<tr><td>A</td><td>NULL</td><td>1</td><td>Shelf/Bin Total</td><td>49</td></tr>",
                            "<tr><td>A</td><td>NULL</td><td>2</td><td>Shelf/Bin Total</td><td>41</td></tr>",
                            "<tr><td>A</td><td>3</td><td>NULL</td><td>Shelf/Location Total</td><td>90</td></tr>",
                            "<tr><td>A</td><td>3</td><td>1</td><td>Regular Row</td><td>49</td></tr>",
                            "<tr><td>A</td><td>3</td><td>2</td><td>Regular Row</td><td>41</td></tr>",
                            "</table>"
                        ]
                    }
                }
            ],
            "execution_count": 11
        }
    ]
}