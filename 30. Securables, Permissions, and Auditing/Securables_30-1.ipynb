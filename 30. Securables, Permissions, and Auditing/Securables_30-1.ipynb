{
    "metadata": {
        "kernelspec": {
            "name": "SQL",
            "display_name": "SQL",
            "language": "sql"
        },
        "language_info": {
            "name": "sql",
            "version": ""
        }
    },
    "nbformat_minor": 2,
    "nbformat": 4,
    "cells": [
        {
            "cell_type": "code",
            "source": [
                "/* 30-1 */\r\n",
                "USE master;\r\n",
                "GO\r\n",
                "\r\n",
                "SELECT class_desc, permission_name, covering_permission_name, parent_class_desc, parent_covering_permission_name \r\n",
                "    FROM sys.fn_builtin_permissions(DEFAULT) \r\n",
                "    ORDER BY class_desc, permission_name; \r\n",
                "GO"
            ],
            "metadata": {
                "azdata_cell_guid": "f77d26aa-80b8-4f03-a4c9-30d1e087da93"
            },
            "outputs": [
                {
                    "output_type": "display_data",
                    "data": {
                        "text/html": "Commands completed successfully."
                    },
                    "metadata": {}
                },
                {
                    "output_type": "display_data",
                    "data": {
                        "text/html": "(248 rows affected)"
                    },
                    "metadata": {}
                },
                {
                    "output_type": "display_data",
                    "data": {
                        "text/html": "Total execution time: 00:00:00.177"
                    },
                    "metadata": {}
                },
                {
                    "output_type": "execute_result",
                    "metadata": {},
                    "execution_count": 1,
                    "data": {
                        "application/vnd.dataresource+json": {
                            "schema": {
                                "fields": [
                                    {
                                        "name": "class_desc"
                                    },
                                    {
                                        "name": "permission_name"
                                    },
                                    {
                                        "name": "covering_permission_name"
                                    },
                                    {
                                        "name": "parent_class_desc"
                                    },
                                    {
                                        "name": "parent_covering_permission_name"
                                    }
                                ]
                            },
                            "data": [
                                {
                                    "0": "APPLICATION ROLE",
                                    "1": "ALTER",
                                    "2": "CONTROL",
                                    "3": "DATABASE",
                                    "4": "ALTER ANY APPLICATION ROLE"
                                },
                                {
                                    "0": "APPLICATION ROLE",
                                    "1": "CONTROL",
                                    "2": "",
                                    "3": "DATABASE",
                                    "4": "CONTROL"
                                },
                                {
                                    "0": "APPLICATION ROLE",
                                    "1": "VIEW DEFINITION",
                                    "2": "CONTROL",
                                    "3": "DATABASE",
                                    "4": "VIEW DEFINITION"
                                },
                                {
                                    "0": "ASSEMBLY",
                                    "1": "ALTER",
                                    "2": "CONTROL",
                                    "3": "DATABASE",
                                    "4": "ALTER ANY ASSEMBLY"
                                },
                                {
                                    "0": "ASSEMBLY",
                                    "1": "CONTROL",
                                    "2": "",
                                    "3": "DATABASE",
                                    "4": "CONTROL"
                                },
                                {
                                    "0": "ASSEMBLY",
                                    "1": "REFERENCES",
                                    "2": "CONTROL",
                                    "3": "DATABASE",
                                    "4": "REFERENCES"
                                },
                                {
                                    "0": "ASSEMBLY",
                                    "1": "TAKE OWNERSHIP",
                                    "2": "CONTROL",
                                    "3": "DATABASE",
                                    "4": "CONTROL"
                                },
                                {
                                    "0": "ASSEMBLY",
                                    "1": "VIEW DEFINITION",
                                    "2": "CONTROL",
                                    "3": "DATABASE",
                                    "4": "VIEW DEFINITION"
                                },
                                {
                                    "0": "ASYMMETRIC KEY",
                                    "1": "ALTER",
                                    "2": "CONTROL",
                                    "3": "DATABASE",
                                    "4": "ALTER ANY ASYMMETRIC KEY"
                                },
                                {
                                    "0": "ASYMMETRIC KEY",
                                    "1": "CONTROL",
                                    "2": "",
                                    "3": "DATABASE",
                                    "4": "CONTROL"
                                },
                                {
                                    "0": "ASYMMETRIC KEY",
                                    "1": "REFERENCES",
                                    "2": "CONTROL",
                                    "3": "DATABASE",
                                    "4": "REFERENCES"
                                },
                                {
                                    "0": "ASYMMETRIC KEY",
                                    "1": "TAKE OWNERSHIP",
                                    "2": "CONTROL",
                                    "3": "DATABASE",
                                    "4": "CONTROL"
                                },
                                {
                                    "0": "ASYMMETRIC KEY",
                                    "1": "VIEW DEFINITION",
                                    "2": "CONTROL",
                                    "3": "DATABASE",
                                    "4": "VIEW DEFINITION"
                                },
                                {
                                    "0": "AVAILABILITY GROUP",
                                    "1": "ALTER",
                                    "2": "CONTROL",
                                    "3": "SERVER",
                                    "4": "ALTER ANY AVAILABILITY GROUP"
                                },
                                {
                                    "0": "AVAILABILITY GROUP",
                                    "1": "CONTROL",
                                    "2": "",
                                    "3": "SERVER",
                                    "4": "CONTROL SERVER"
                                },
                                {
                                    "0": "AVAILABILITY GROUP",
                                    "1": "TAKE OWNERSHIP",
                                    "2": "CONTROL",
                                    "3": "SERVER",
                                    "4": "CONTROL SERVER"
                                },
                                {
                                    "0": "AVAILABILITY GROUP",
                                    "1": "VIEW DEFINITION",
                                    "2": "CONTROL",
                                    "3": "SERVER",
                                    "4": "VIEW ANY DEFINITION"
                                },
                                {
                                    "0": "CERTIFICATE",
                                    "1": "ALTER",
                                    "2": "CONTROL",
                                    "3": "DATABASE",
                                    "4": "ALTER ANY CERTIFICATE"
                                },
                                {
                                    "0": "CERTIFICATE",
                                    "1": "CONTROL",
                                    "2": "",
                                    "3": "DATABASE",
                                    "4": "CONTROL"
                                },
                                {
                                    "0": "CERTIFICATE",
                                    "1": "REFERENCES",
                                    "2": "CONTROL",
                                    "3": "DATABASE",
                                    "4": "REFERENCES"
                                },
                                {
                                    "0": "CERTIFICATE",
                                    "1": "TAKE OWNERSHIP",
                                    "2": "CONTROL",
                                    "3": "DATABASE",
                                    "4": "CONTROL"
                                },
                                {
                                    "0": "CERTIFICATE",
                                    "1": "VIEW DEFINITION",
                                    "2": "CONTROL",
                                    "3": "DATABASE",
                                    "4": "VIEW DEFINITION"
                                },
                                {
                                    "0": "CONTRACT",
                                    "1": "ALTER",
                                    "2": "CONTROL",
                                    "3": "DATABASE",
                                    "4": "ALTER ANY CONTRACT"
                                },
                                {
                                    "0": "CONTRACT",
                                    "1": "CONTROL",
                                    "2": "",
                                    "3": "DATABASE",
                                    "4": "CONTROL"
                                },
                                {
                                    "0": "CONTRACT",
                                    "1": "REFERENCES",
                                    "2": "CONTROL",
                                    "3": "DATABASE",
                                    "4": "REFERENCES"
                                },
                                {
                                    "0": "CONTRACT",
                                    "1": "TAKE OWNERSHIP",
                                    "2": "CONTROL",
                                    "3": "DATABASE",
                                    "4": "CONTROL"
                                },
                                {
                                    "0": "CONTRACT",
                                    "1": "VIEW DEFINITION",
                                    "2": "CONTROL",
                                    "3": "DATABASE",
                                    "4": "VIEW DEFINITION"
                                },
                                {
                                    "0": "DATABASE",
                                    "1": "ADMINISTER DATABASE BULK OPERATIONS",
                                    "2": "CONTROL",
                                    "3": "SERVER",
                                    "4": "CONTROL SERVER"
                                },
                                {
                                    "0": "DATABASE",
                                    "1": "ALTER",
                                    "2": "CONTROL",
                                    "3": "SERVER",
                                    "4": "ALTER ANY DATABASE"
                                },
                                {
                                    "0": "DATABASE",
                                    "1": "ALTER ANY APPLICATION ROLE",
                                    "2": "ALTER",
                                    "3": "SERVER",
                                    "4": "CONTROL SERVER"
                                },
                                {
                                    "0": "DATABASE",
                                    "1": "ALTER ANY ASSEMBLY",
                                    "2": "ALTER",
                                    "3": "SERVER",
                                    "4": "CONTROL SERVER"
                                },
                                {
                                    "0": "DATABASE",
                                    "1": "ALTER ANY ASYMMETRIC KEY",
                                    "2": "ALTER",
                                    "3": "SERVER",
                                    "4": "CONTROL SERVER"
                                },
                                {
                                    "0": "DATABASE",
                                    "1": "ALTER ANY CERTIFICATE",
                                    "2": "ALTER",
                                    "3": "SERVER",
                                    "4": "CONTROL SERVER"
                                },
                                {
                                    "0": "DATABASE",
                                    "1": "ALTER ANY COLUMN ENCRYPTION KEY",
                                    "2": "ALTER",
                                    "3": "SERVER",
                                    "4": "CONTROL SERVER"
                                },
                                {
                                    "0": "DATABASE",
                                    "1": "ALTER ANY COLUMN MASTER KEY",
                                    "2": "ALTER",
                                    "3": "SERVER",
                                    "4": "CONTROL SERVER"
                                },
                                {
                                    "0": "DATABASE",
                                    "1": "ALTER ANY CONTRACT",
                                    "2": "ALTER",
                                    "3": "SERVER",
                                    "4": "CONTROL SERVER"
                                },
                                {
                                    "0": "DATABASE",
                                    "1": "ALTER ANY DATABASE AUDIT",
                                    "2": "ALTER",
                                    "3": "SERVER",
                                    "4": "ALTER ANY SERVER AUDIT"
                                },
                                {
                                    "0": "DATABASE",
                                    "1": "ALTER ANY DATABASE DDL TRIGGER",
                                    "2": "ALTER",
                                    "3": "SERVER",
                                    "4": "CONTROL SERVER"
                                },
                                {
                                    "0": "DATABASE",
                                    "1": "ALTER ANY DATABASE EVENT NOTIFICATION",
                                    "2": "ALTER",
                                    "3": "SERVER",
                                    "4": "ALTER ANY EVENT NOTIFICATION"
                                },
                                {
                                    "0": "DATABASE",
                                    "1": "ALTER ANY DATABASE EVENT SESSION",
                                    "2": "ALTER",
                                    "3": "SERVER",
                                    "4": "ALTER ANY EVENT SESSION"
                                },
                                {
                                    "0": "DATABASE",
                                    "1": "ALTER ANY DATABASE SCOPED CONFIGURATION",
                                    "2": "CONTROL",
                                    "3": "SERVER",
                                    "4": "CONTROL SERVER"
                                },
                                {
                                    "0": "DATABASE",
                                    "1": "ALTER ANY DATASPACE",
                                    "2": "ALTER",
                                    "3": "SERVER",
                                    "4": "CONTROL SERVER"
                                },
                                {
                                    "0": "DATABASE",
                                    "1": "ALTER ANY EXTERNAL DATA SOURCE",
                                    "2": "ALTER",
                                    "3": "SERVER",
                                    "4": "CONTROL SERVER"
                                },
                                {
                                    "0": "DATABASE",
                                    "1": "ALTER ANY EXTERNAL FILE FORMAT",
                                    "2": "ALTER",
                                    "3": "SERVER",
                                    "4": "CONTROL SERVER"
                                },
                                {
                                    "0": "DATABASE",
                                    "1": "ALTER ANY EXTERNAL LANGUAGE",
                                    "2": "ALTER",
                                    "3": "SERVER",
                                    "4": "CONTROL SERVER"
                                },
                                {
                                    "0": "DATABASE",
                                    "1": "ALTER ANY EXTERNAL LIBRARY",
                                    "2": "ALTER",
                                    "3": "SERVER",
                                    "4": "CONTROL SERVER"
                                },
                                {
                                    "0": "DATABASE",
                                    "1": "ALTER ANY FULLTEXT CATALOG",
                                    "2": "ALTER",
                                    "3": "SERVER",
                                    "4": "CONTROL SERVER"
                                },
                                {
                                    "0": "DATABASE",
                                    "1": "ALTER ANY MASK",
                                    "2": "CONTROL",
                                    "3": "SERVER",
                                    "4": "CONTROL SERVER"
                                },
                                {
                                    "0": "DATABASE",
                                    "1": "ALTER ANY MESSAGE TYPE",
                                    "2": "ALTER",
                                    "3": "SERVER",
                                    "4": "CONTROL SERVER"
                                },
                                {
                                    "0": "DATABASE",
                                    "1": "ALTER ANY REMOTE SERVICE BINDING",
                                    "2": "ALTER",
                                    "3": "SERVER",
                                    "4": "CONTROL SERVER"
                                },
                                {
                                    "0": "DATABASE",
                                    "1": "ALTER ANY ROLE",
                                    "2": "ALTER",
                                    "3": "SERVER",
                                    "4": "CONTROL SERVER"
                                },
                                {
                                    "0": "DATABASE",
                                    "1": "ALTER ANY ROUTE",
                                    "2": "ALTER",
                                    "3": "SERVER",
                                    "4": "CONTROL SERVER"
                                },
                                {
                                    "0": "DATABASE",
                                    "1": "ALTER ANY SCHEMA",
                                    "2": "ALTER",
                                    "3": "SERVER",
                                    "4": "CONTROL SERVER"
                                },
                                {
                                    "0": "DATABASE",
                                    "1": "ALTER ANY SECURITY POLICY",
                                    "2": "CONTROL",
                                    "3": "SERVER",
                                    "4": "CONTROL SERVER"
                                },
                                {
                                    "0": "DATABASE",
                                    "1": "ALTER ANY SENSITIVITY CLASSIFICATION",
                                    "2": "CONTROL",
                                    "3": "SERVER",
                                    "4": "CONTROL SERVER"
                                },
                                {
                                    "0": "DATABASE",
                                    "1": "ALTER ANY SERVICE",
                                    "2": "ALTER",
                                    "3": "SERVER",
                                    "4": "CONTROL SERVER"
                                },
                                {
                                    "0": "DATABASE",
                                    "1": "ALTER ANY SYMMETRIC KEY",
                                    "2": "ALTER",
                                    "3": "SERVER",
                                    "4": "CONTROL SERVER"
                                },
                                {
                                    "0": "DATABASE",
                                    "1": "ALTER ANY USER",
                                    "2": "ALTER",
                                    "3": "SERVER",
                                    "4": "CONTROL SERVER"
                                },
                                {
                                    "0": "DATABASE",
                                    "1": "AUTHENTICATE",
                                    "2": "CONTROL",
                                    "3": "SERVER",
                                    "4": "AUTHENTICATE SERVER"
                                },
                                {
                                    "0": "DATABASE",
                                    "1": "BACKUP DATABASE",
                                    "2": "CONTROL",
                                    "3": "SERVER",
                                    "4": "CONTROL SERVER"
                                },
                                {
                                    "0": "DATABASE",
                                    "1": "BACKUP LOG",
                                    "2": "CONTROL",
                                    "3": "SERVER",
                                    "4": "CONTROL SERVER"
                                },
                                {
                                    "0": "DATABASE",
                                    "1": "CHECKPOINT",
                                    "2": "CONTROL",
                                    "3": "SERVER",
                                    "4": "CONTROL SERVER"
                                },
                                {
                                    "0": "DATABASE",
                                    "1": "CONNECT",
                                    "2": "CONNECT REPLICATION",
                                    "3": "SERVER",
                                    "4": "CONNECT ANY DATABASE"
                                },
                                {
                                    "0": "DATABASE",
                                    "1": "CONNECT REPLICATION",
                                    "2": "CONTROL",
                                    "3": "SERVER",
                                    "4": "CONTROL SERVER"
                                },
                                {
                                    "0": "DATABASE",
                                    "1": "CONTROL",
                                    "2": "",
                                    "3": "SERVER",
                                    "4": "CONTROL SERVER"
                                },
                                {
                                    "0": "DATABASE",
                                    "1": "CREATE AGGREGATE",
                                    "2": "ALTER",
                                    "3": "SERVER",
                                    "4": "CONTROL SERVER"
                                },
                                {
                                    "0": "DATABASE",
                                    "1": "CREATE ASSEMBLY",
                                    "2": "ALTER ANY ASSEMBLY",
                                    "3": "SERVER",
                                    "4": "CONTROL SERVER"
                                },
                                {
                                    "0": "DATABASE",
                                    "1": "CREATE ASYMMETRIC KEY",
                                    "2": "ALTER ANY ASYMMETRIC KEY",
                                    "3": "SERVER",
                                    "4": "CONTROL SERVER"
                                },
                                {
                                    "0": "DATABASE",
                                    "1": "CREATE CERTIFICATE",
                                    "2": "ALTER ANY CERTIFICATE",
                                    "3": "SERVER",
                                    "4": "CONTROL SERVER"
                                },
                                {
                                    "0": "DATABASE",
                                    "1": "CREATE CONTRACT",
                                    "2": "ALTER ANY CONTRACT",
                                    "3": "SERVER",
                                    "4": "CONTROL SERVER"
                                },
                                {
                                    "0": "DATABASE",
                                    "1": "CREATE DATABASE",
                                    "2": "",
                                    "3": "SERVER",
                                    "4": "CREATE ANY DATABASE"
                                },
                                {
                                    "0": "DATABASE",
                                    "1": "CREATE DATABASE DDL EVENT NOTIFICATION",
                                    "2": "ALTER ANY DATABASE EVENT NOTIFICATION",
                                    "3": "SERVER",
                                    "4": "CREATE DDL EVENT NOTIFICATION"
                                },
                                {
                                    "0": "DATABASE",
                                    "1": "CREATE DEFAULT",
                                    "2": "ALTER",
                                    "3": "SERVER",
                                    "4": "CONTROL SERVER"
                                },
                                {
                                    "0": "DATABASE",
                                    "1": "CREATE EXTERNAL LANGUAGE",
                                    "2": "ALTER ANY EXTERNAL LANGUAGE",
                                    "3": "SERVER",
                                    "4": "CONTROL SERVER"
                                },
                                {
                                    "0": "DATABASE",
                                    "1": "CREATE EXTERNAL LIBRARY",
                                    "2": "ALTER ANY EXTERNAL LIBRARY",
                                    "3": "SERVER",
                                    "4": "CONTROL SERVER"
                                },
                                {
                                    "0": "DATABASE",
                                    "1": "CREATE FULLTEXT CATALOG",
                                    "2": "ALTER ANY FULLTEXT CATALOG",
                                    "3": "SERVER",
                                    "4": "CONTROL SERVER"
                                },
                                {
                                    "0": "DATABASE",
                                    "1": "CREATE FUNCTION",
                                    "2": "ALTER",
                                    "3": "SERVER",
                                    "4": "CONTROL SERVER"
                                },
                                {
                                    "0": "DATABASE",
                                    "1": "CREATE MESSAGE TYPE",
                                    "2": "ALTER ANY MESSAGE TYPE",
                                    "3": "SERVER",
                                    "4": "CONTROL SERVER"
                                },
                                {
                                    "0": "DATABASE",
                                    "1": "CREATE PROCEDURE",
                                    "2": "ALTER",
                                    "3": "SERVER",
                                    "4": "CONTROL SERVER"
                                },
                                {
                                    "0": "DATABASE",
                                    "1": "CREATE QUEUE",
                                    "2": "ALTER",
                                    "3": "SERVER",
                                    "4": "CONTROL SERVER"
                                },
                                {
                                    "0": "DATABASE",
                                    "1": "CREATE REMOTE SERVICE BINDING",
                                    "2": "ALTER ANY REMOTE SERVICE BINDING",
                                    "3": "SERVER",
                                    "4": "CONTROL SERVER"
                                },
                                {
                                    "0": "DATABASE",
                                    "1": "CREATE ROLE",
                                    "2": "ALTER ANY ROLE",
                                    "3": "SERVER",
                                    "4": "CONTROL SERVER"
                                },
                                {
                                    "0": "DATABASE",
                                    "1": "CREATE ROUTE",
                                    "2": "ALTER ANY ROUTE",
                                    "3": "SERVER",
                                    "4": "CONTROL SERVER"
                                },
                                {
                                    "0": "DATABASE",
                                    "1": "CREATE RULE",
                                    "2": "ALTER",
                                    "3": "SERVER",
                                    "4": "CONTROL SERVER"
                                },
                                {
                                    "0": "DATABASE",
                                    "1": "CREATE SCHEMA",
                                    "2": "ALTER ANY SCHEMA",
                                    "3": "SERVER",
                                    "4": "CONTROL SERVER"
                                },
                                {
                                    "0": "DATABASE",
                                    "1": "CREATE SERVICE",
                                    "2": "ALTER ANY SERVICE",
                                    "3": "SERVER",
                                    "4": "CONTROL SERVER"
                                },
                                {
                                    "0": "DATABASE",
                                    "1": "CREATE SYMMETRIC KEY",
                                    "2": "ALTER ANY SYMMETRIC KEY",
                                    "3": "SERVER",
                                    "4": "CONTROL SERVER"
                                },
                                {
                                    "0": "DATABASE",
                                    "1": "CREATE SYNONYM",
                                    "2": "ALTER",
                                    "3": "SERVER",
                                    "4": "CONTROL SERVER"
                                },
                                {
                                    "0": "DATABASE",
                                    "1": "CREATE TABLE",
                                    "2": "ALTER",
                                    "3": "SERVER",
                                    "4": "CONTROL SERVER"
                                },
                                {
                                    "0": "DATABASE",
                                    "1": "CREATE TYPE",
                                    "2": "ALTER",
                                    "3": "SERVER",
                                    "4": "CONTROL SERVER"
                                },
                                {
                                    "0": "DATABASE",
                                    "1": "CREATE VIEW",
                                    "2": "ALTER",
                                    "3": "SERVER",
                                    "4": "CONTROL SERVER"
                                },
                                {
                                    "0": "DATABASE",
                                    "1": "CREATE XML SCHEMA COLLECTION",
                                    "2": "ALTER",
                                    "3": "SERVER",
                                    "4": "CONTROL SERVER"
                                },
                                {
                                    "0": "DATABASE",
                                    "1": "DELETE",
                                    "2": "CONTROL",
                                    "3": "SERVER",
                                    "4": "CONTROL SERVER"
                                },
                                {
                                    "0": "DATABASE",
                                    "1": "EXECUTE",
                                    "2": "CONTROL",
                                    "3": "SERVER",
                                    "4": "CONTROL SERVER"
                                },
                                {
                                    "0": "DATABASE",
                                    "1": "EXECUTE ANY EXTERNAL SCRIPT",
                                    "2": "CONTROL",
                                    "3": "SERVER",
                                    "4": "CONTROL SERVER"
                                },
                                {
                                    "0": "DATABASE",
                                    "1": "INSERT",
                                    "2": "CONTROL",
                                    "3": "SERVER",
                                    "4": "CONTROL SERVER"
                                },
                                {
                                    "0": "DATABASE",
                                    "1": "KILL DATABASE CONNECTION",
                                    "2": "CONTROL",
                                    "3": "SERVER",
                                    "4": "ALTER ANY CONNECTION"
                                },
                                {
                                    "0": "DATABASE",
                                    "1": "REFERENCES",
                                    "2": "CONTROL",
                                    "3": "SERVER",
                                    "4": "CONTROL SERVER"
                                },
                                {
                                    "0": "DATABASE",
                                    "1": "SELECT",
                                    "2": "CONTROL",
                                    "3": "SERVER",
                                    "4": "CONTROL SERVER"
                                },
                                {
                                    "0": "DATABASE",
                                    "1": "SHOWPLAN",
                                    "2": "CONTROL",
                                    "3": "SERVER",
                                    "4": "ALTER TRACE"
                                },
                                {
                                    "0": "DATABASE",
                                    "1": "SUBSCRIBE QUERY NOTIFICATIONS",
                                    "2": "CONTROL",
                                    "3": "SERVER",
                                    "4": "CONTROL SERVER"
                                },
                                {
                                    "0": "DATABASE",
                                    "1": "TAKE OWNERSHIP",
                                    "2": "CONTROL",
                                    "3": "SERVER",
                                    "4": "CONTROL SERVER"
                                },
                                {
                                    "0": "DATABASE",
                                    "1": "UNMASK",
                                    "2": "CONTROL",
                                    "3": "SERVER",
                                    "4": "CONTROL SERVER"
                                },
                                {
                                    "0": "DATABASE",
                                    "1": "UPDATE",
                                    "2": "CONTROL",
                                    "3": "SERVER",
                                    "4": "CONTROL SERVER"
                                },
                                {
                                    "0": "DATABASE",
                                    "1": "VIEW ANY COLUMN ENCRYPTION KEY DEFINITION",
                                    "2": "CONTROL",
                                    "3": "SERVER",
                                    "4": "VIEW ANY DEFINITION"
                                },
                                {
                                    "0": "DATABASE",
                                    "1": "VIEW ANY COLUMN MASTER KEY DEFINITION",
                                    "2": "CONTROL",
                                    "3": "SERVER",
                                    "4": "VIEW ANY DEFINITION"
                                },
                                {
                                    "0": "DATABASE",
                                    "1": "VIEW ANY SENSITIVITY CLASSIFICATION",
                                    "2": "CONTROL",
                                    "3": "SERVER",
                                    "4": "CONTROL SERVER"
                                },
                                {
                                    "0": "DATABASE",
                                    "1": "VIEW DATABASE STATE",
                                    "2": "CONTROL",
                                    "3": "SERVER",
                                    "4": "VIEW SERVER STATE"
                                },
                                {
                                    "0": "DATABASE",
                                    "1": "VIEW DEFINITION",
                                    "2": "CONTROL",
                                    "3": "SERVER",
                                    "4": "VIEW ANY DEFINITION"
                                },
                                {
                                    "0": "DATABASE SCOPED CREDENTIAL",
                                    "1": "ALTER",
                                    "2": "CONTROL",
                                    "3": "DATABASE",
                                    "4": "CONTROL"
                                },
                                {
                                    "0": "DATABASE SCOPED CREDENTIAL",
                                    "1": "CONTROL",
                                    "2": "",
                                    "3": "DATABASE",
                                    "4": "CONTROL"
                                },
                                {
                                    "0": "DATABASE SCOPED CREDENTIAL",
                                    "1": "REFERENCES",
                                    "2": "CONTROL",
                                    "3": "DATABASE",
                                    "4": "REFERENCES"
                                },
                                {
                                    "0": "DATABASE SCOPED CREDENTIAL",
                                    "1": "TAKE OWNERSHIP",
                                    "2": "CONTROL",
                                    "3": "DATABASE",
                                    "4": "CONTROL"
                                },
                                {
                                    "0": "DATABASE SCOPED CREDENTIAL",
                                    "1": "VIEW DEFINITION",
                                    "2": "CONTROL",
                                    "3": "DATABASE",
                                    "4": "VIEW DEFINITION"
                                },
                                {
                                    "0": "ENDPOINT",
                                    "1": "ALTER",
                                    "2": "CONTROL",
                                    "3": "SERVER",
                                    "4": "ALTER ANY ENDPOINT"
                                },
                                {
                                    "0": "ENDPOINT",
                                    "1": "CONNECT",
                                    "2": "CONTROL",
                                    "3": "SERVER",
                                    "4": "CONTROL SERVER"
                                },
                                {
                                    "0": "ENDPOINT",
                                    "1": "CONTROL",
                                    "2": "",
                                    "3": "SERVER",
                                    "4": "CONTROL SERVER"
                                },
                                {
                                    "0": "ENDPOINT",
                                    "1": "TAKE OWNERSHIP",
                                    "2": "CONTROL",
                                    "3": "SERVER",
                                    "4": "CONTROL SERVER"
                                },
                                {
                                    "0": "ENDPOINT",
                                    "1": "VIEW DEFINITION",
                                    "2": "CONTROL",
                                    "3": "SERVER",
                                    "4": "VIEW ANY DEFINITION"
                                },
                                {
                                    "0": "EXTERNAL LANGUAGE",
                                    "1": "ALTER",
                                    "2": "CONTROL",
                                    "3": "DATABASE",
                                    "4": "ALTER ANY EXTERNAL LANGUAGE"
                                },
                                {
                                    "0": "EXTERNAL LANGUAGE",
                                    "1": "CONTROL",
                                    "2": "",
                                    "3": "DATABASE",
                                    "4": "CONTROL"
                                },
                                {
                                    "0": "EXTERNAL LANGUAGE",
                                    "1": "EXECUTE EXTERNAL SCRIPT",
                                    "2": "CONTROL",
                                    "3": "DATABASE",
                                    "4": "EXECUTE ANY EXTERNAL SCRIPT"
                                },
                                {
                                    "0": "EXTERNAL LANGUAGE",
                                    "1": "REFERENCES",
                                    "2": "CONTROL",
                                    "3": "DATABASE",
                                    "4": "REFERENCES"
                                },
                                {
                                    "0": "EXTERNAL LANGUAGE",
                                    "1": "TAKE OWNERSHIP",
                                    "2": "CONTROL",
                                    "3": "DATABASE",
                                    "4": "CONTROL"
                                },
                                {
                                    "0": "EXTERNAL LANGUAGE",
                                    "1": "VIEW DEFINITION",
                                    "2": "CONTROL",
                                    "3": "DATABASE",
                                    "4": "VIEW DEFINITION"
                                },
                                {
                                    "0": "FULLTEXT CATALOG",
                                    "1": "ALTER",
                                    "2": "CONTROL",
                                    "3": "DATABASE",
                                    "4": "ALTER ANY FULLTEXT CATALOG"
                                },
                                {
                                    "0": "FULLTEXT CATALOG",
                                    "1": "CONTROL",
                                    "2": "",
                                    "3": "DATABASE",
                                    "4": "CONTROL"
                                },
                                {
                                    "0": "FULLTEXT CATALOG",
                                    "1": "REFERENCES",
                                    "2": "CONTROL",
                                    "3": "DATABASE",
                                    "4": "REFERENCES"
                                },
                                {
                                    "0": "FULLTEXT CATALOG",
                                    "1": "TAKE OWNERSHIP",
                                    "2": "CONTROL",
                                    "3": "DATABASE",
                                    "4": "CONTROL"
                                },
                                {
                                    "0": "FULLTEXT CATALOG",
                                    "1": "VIEW DEFINITION",
                                    "2": "CONTROL",
                                    "3": "DATABASE",
                                    "4": "VIEW DEFINITION"
                                },
                                {
                                    "0": "FULLTEXT STOPLIST",
                                    "1": "ALTER",
                                    "2": "CONTROL",
                                    "3": "DATABASE",
                                    "4": "ALTER ANY FULLTEXT CATALOG"
                                },
                                {
                                    "0": "FULLTEXT STOPLIST",
                                    "1": "CONTROL",
                                    "2": "",
                                    "3": "DATABASE",
                                    "4": "CONTROL"
                                },
                                {
                                    "0": "FULLTEXT STOPLIST",
                                    "1": "REFERENCES",
                                    "2": "CONTROL",
                                    "3": "DATABASE",
                                    "4": "REFERENCES"
                                },
                                {
                                    "0": "FULLTEXT STOPLIST",
                                    "1": "TAKE OWNERSHIP",
                                    "2": "CONTROL",
                                    "3": "DATABASE",
                                    "4": "CONTROL"
                                },
                                {
                                    "0": "FULLTEXT STOPLIST",
                                    "1": "VIEW DEFINITION",
                                    "2": "CONTROL",
                                    "3": "DATABASE",
                                    "4": "VIEW DEFINITION"
                                },
                                {
                                    "0": "LOGIN",
                                    "1": "ALTER",
                                    "2": "CONTROL",
                                    "3": "SERVER",
                                    "4": "ALTER ANY LOGIN"
                                },
                                {
                                    "0": "LOGIN",
                                    "1": "CONTROL",
                                    "2": "",
                                    "3": "SERVER",
                                    "4": "CONTROL SERVER"
                                },
                                {
                                    "0": "LOGIN",
                                    "1": "IMPERSONATE",
                                    "2": "CONTROL",
                                    "3": "SERVER",
                                    "4": "IMPERSONATE ANY LOGIN"
                                },
                                {
                                    "0": "LOGIN",
                                    "1": "VIEW DEFINITION",
                                    "2": "CONTROL",
                                    "3": "SERVER",
                                    "4": "VIEW ANY DEFINITION"
                                },
                                {
                                    "0": "MESSAGE TYPE",
                                    "1": "ALTER",
                                    "2": "CONTROL",
                                    "3": "DATABASE",
                                    "4": "ALTER ANY MESSAGE TYPE"
                                },
                                {
                                    "0": "MESSAGE TYPE",
                                    "1": "CONTROL",
                                    "2": "",
                                    "3": "DATABASE",
                                    "4": "CONTROL"
                                },
                                {
                                    "0": "MESSAGE TYPE",
                                    "1": "REFERENCES",
                                    "2": "CONTROL",
                                    "3": "DATABASE",
                                    "4": "REFERENCES"
                                },
                                {
                                    "0": "MESSAGE TYPE",
                                    "1": "TAKE OWNERSHIP",
                                    "2": "CONTROL",
                                    "3": "DATABASE",
                                    "4": "CONTROL"
                                },
                                {
                                    "0": "MESSAGE TYPE",
                                    "1": "VIEW DEFINITION",
                                    "2": "CONTROL",
                                    "3": "DATABASE",
                                    "4": "VIEW DEFINITION"
                                },
                                {
                                    "0": "OBJECT",
                                    "1": "ALTER",
                                    "2": "CONTROL",
                                    "3": "SCHEMA",
                                    "4": "ALTER"
                                },
                                {
                                    "0": "OBJECT",
                                    "1": "CONTROL",
                                    "2": "",
                                    "3": "SCHEMA",
                                    "4": "CONTROL"
                                },
                                {
                                    "0": "OBJECT",
                                    "1": "DELETE",
                                    "2": "CONTROL",
                                    "3": "SCHEMA",
                                    "4": "DELETE"
                                },
                                {
                                    "0": "OBJECT",
                                    "1": "EXECUTE",
                                    "2": "CONTROL",
                                    "3": "SCHEMA",
                                    "4": "EXECUTE"
                                },
                                {
                                    "0": "OBJECT",
                                    "1": "INSERT",
                                    "2": "CONTROL",
                                    "3": "SCHEMA",
                                    "4": "INSERT"
                                },
                                {
                                    "0": "OBJECT",
                                    "1": "RECEIVE",
                                    "2": "CONTROL",
                                    "3": "SCHEMA",
                                    "4": "CONTROL"
                                },
                                {
                                    "0": "OBJECT",
                                    "1": "REFERENCES",
                                    "2": "CONTROL",
                                    "3": "SCHEMA",
                                    "4": "REFERENCES"
                                },
                                {
                                    "0": "OBJECT",
                                    "1": "SELECT",
                                    "2": "RECEIVE",
                                    "3": "SCHEMA",
                                    "4": "SELECT"
                                },
                                {
                                    "0": "OBJECT",
                                    "1": "TAKE OWNERSHIP",
                                    "2": "CONTROL",
                                    "3": "SCHEMA",
                                    "4": "CONTROL"
                                },
                                {
                                    "0": "OBJECT",
                                    "1": "UPDATE",
                                    "2": "CONTROL",
                                    "3": "SCHEMA",
                                    "4": "UPDATE"
                                },
                                {
                                    "0": "OBJECT",
                                    "1": "VIEW CHANGE TRACKING",
                                    "2": "CONTROL",
                                    "3": "SCHEMA",
                                    "4": "VIEW CHANGE TRACKING"
                                },
                                {
                                    "0": "OBJECT",
                                    "1": "VIEW DEFINITION",
                                    "2": "CONTROL",
                                    "3": "SCHEMA",
                                    "4": "VIEW DEFINITION"
                                },
                                {
                                    "0": "REMOTE SERVICE BINDING",
                                    "1": "ALTER",
                                    "2": "CONTROL",
                                    "3": "DATABASE",
                                    "4": "ALTER ANY REMOTE SERVICE BINDING"
                                },
                                {
                                    "0": "REMOTE SERVICE BINDING",
                                    "1": "CONTROL",
                                    "2": "",
                                    "3": "DATABASE",
                                    "4": "CONTROL"
                                },
                                {
                                    "0": "REMOTE SERVICE BINDING",
                                    "1": "TAKE OWNERSHIP",
                                    "2": "CONTROL",
                                    "3": "DATABASE",
                                    "4": "CONTROL"
                                },
                                {
                                    "0": "REMOTE SERVICE BINDING",
                                    "1": "VIEW DEFINITION",
                                    "2": "CONTROL",
                                    "3": "DATABASE",
                                    "4": "VIEW DEFINITION"
                                },
                                {
                                    "0": "ROLE",
                                    "1": "ALTER",
                                    "2": "CONTROL",
                                    "3": "DATABASE",
                                    "4": "ALTER ANY ROLE"
                                },
                                {
                                    "0": "ROLE",
                                    "1": "CONTROL",
                                    "2": "",
                                    "3": "DATABASE",
                                    "4": "CONTROL"
                                },
                                {
                                    "0": "ROLE",
                                    "1": "TAKE OWNERSHIP",
                                    "2": "CONTROL",
                                    "3": "DATABASE",
                                    "4": "CONTROL"
                                },
                                {
                                    "0": "ROLE",
                                    "1": "VIEW DEFINITION",
                                    "2": "CONTROL",
                                    "3": "DATABASE",
                                    "4": "VIEW DEFINITION"
                                },
                                {
                                    "0": "ROUTE",
                                    "1": "ALTER",
                                    "2": "CONTROL",
                                    "3": "DATABASE",
                                    "4": "ALTER ANY ROUTE"
                                },
                                {
                                    "0": "ROUTE",
                                    "1": "CONTROL",
                                    "2": "",
                                    "3": "DATABASE",
                                    "4": "CONTROL"
                                },
                                {
                                    "0": "ROUTE",
                                    "1": "TAKE OWNERSHIP",
                                    "2": "CONTROL",
                                    "3": "DATABASE",
                                    "4": "CONTROL"
                                },
                                {
                                    "0": "ROUTE",
                                    "1": "VIEW DEFINITION",
                                    "2": "CONTROL",
                                    "3": "DATABASE",
                                    "4": "VIEW DEFINITION"
                                },
                                {
                                    "0": "SCHEMA",
                                    "1": "ALTER",
                                    "2": "CONTROL",
                                    "3": "DATABASE",
                                    "4": "ALTER ANY SCHEMA"
                                },
                                {
                                    "0": "SCHEMA",
                                    "1": "CONTROL",
                                    "2": "",
                                    "3": "DATABASE",
                                    "4": "CONTROL"
                                },
                                {
                                    "0": "SCHEMA",
                                    "1": "CREATE SEQUENCE",
                                    "2": "ALTER",
                                    "3": "DATABASE",
                                    "4": "CONTROL"
                                },
                                {
                                    "0": "SCHEMA",
                                    "1": "DELETE",
                                    "2": "CONTROL",
                                    "3": "DATABASE",
                                    "4": "DELETE"
                                },
                                {
                                    "0": "SCHEMA",
                                    "1": "EXECUTE",
                                    "2": "CONTROL",
                                    "3": "DATABASE",
                                    "4": "EXECUTE"
                                },
                                {
                                    "0": "SCHEMA",
                                    "1": "INSERT",
                                    "2": "CONTROL",
                                    "3": "DATABASE",
                                    "4": "INSERT"
                                },
                                {
                                    "0": "SCHEMA",
                                    "1": "REFERENCES",
                                    "2": "CONTROL",
                                    "3": "DATABASE",
                                    "4": "REFERENCES"
                                },
                                {
                                    "0": "SCHEMA",
                                    "1": "SELECT",
                                    "2": "CONTROL",
                                    "3": "DATABASE",
                                    "4": "SELECT"
                                },
                                {
                                    "0": "SCHEMA",
                                    "1": "TAKE OWNERSHIP",
                                    "2": "CONTROL",
                                    "3": "DATABASE",
                                    "4": "CONTROL"
                                },
                                {
                                    "0": "SCHEMA",
                                    "1": "UPDATE",
                                    "2": "CONTROL",
                                    "3": "DATABASE",
                                    "4": "UPDATE"
                                },
                                {
                                    "0": "SCHEMA",
                                    "1": "VIEW CHANGE TRACKING",
                                    "2": "CONTROL",
                                    "3": "DATABASE",
                                    "4": "CONTROL"
                                },
                                {
                                    "0": "SCHEMA",
                                    "1": "VIEW DEFINITION",
                                    "2": "CONTROL",
                                    "3": "DATABASE",
                                    "4": "VIEW DEFINITION"
                                },
                                {
                                    "0": "SEARCH PROPERTY LIST",
                                    "1": "ALTER",
                                    "2": "CONTROL",
                                    "3": "DATABASE",
                                    "4": "ALTER ANY FULLTEXT CATALOG"
                                },
                                {
                                    "0": "SEARCH PROPERTY LIST",
                                    "1": "CONTROL",
                                    "2": "",
                                    "3": "DATABASE",
                                    "4": "CONTROL"
                                },
                                {
                                    "0": "SEARCH PROPERTY LIST",
                                    "1": "REFERENCES",
                                    "2": "CONTROL",
                                    "3": "DATABASE",
                                    "4": "REFERENCES"
                                },
                                {
                                    "0": "SEARCH PROPERTY LIST",
                                    "1": "TAKE OWNERSHIP",
                                    "2": "CONTROL",
                                    "3": "DATABASE",
                                    "4": "CONTROL"
                                },
                                {
                                    "0": "SEARCH PROPERTY LIST",
                                    "1": "VIEW DEFINITION",
                                    "2": "CONTROL",
                                    "3": "DATABASE",
                                    "4": "VIEW DEFINITION"
                                },
                                {
                                    "0": "SERVER",
                                    "1": "ADMINISTER BULK OPERATIONS",
                                    "2": "CONTROL SERVER",
                                    "3": "",
                                    "4": ""
                                },
                                {
                                    "0": "SERVER",
                                    "1": "ALTER ANY AVAILABILITY GROUP",
                                    "2": "CONTROL SERVER",
                                    "3": "",
                                    "4": ""
                                },
                                {
                                    "0": "SERVER",
                                    "1": "ALTER ANY CONNECTION",
                                    "2": "CONTROL SERVER",
                                    "3": "",
                                    "4": ""
                                },
                                {
                                    "0": "SERVER",
                                    "1": "ALTER ANY CREDENTIAL",
                                    "2": "CONTROL SERVER",
                                    "3": "",
                                    "4": ""
                                },
                                {
                                    "0": "SERVER",
                                    "1": "ALTER ANY DATABASE",
                                    "2": "CONTROL SERVER",
                                    "3": "",
                                    "4": ""
                                },
                                {
                                    "0": "SERVER",
                                    "1": "ALTER ANY ENDPOINT",
                                    "2": "CONTROL SERVER",
                                    "3": "",
                                    "4": ""
                                },
                                {
                                    "0": "SERVER",
                                    "1": "ALTER ANY EVENT NOTIFICATION",
                                    "2": "CONTROL SERVER",
                                    "3": "",
                                    "4": ""
                                },
                                {
                                    "0": "SERVER",
                                    "1": "ALTER ANY EVENT SESSION",
                                    "2": "CONTROL SERVER",
                                    "3": "",
                                    "4": ""
                                },
                                {
                                    "0": "SERVER",
                                    "1": "ALTER ANY LINKED SERVER",
                                    "2": "CONTROL SERVER",
                                    "3": "",
                                    "4": ""
                                },
                                {
                                    "0": "SERVER",
                                    "1": "ALTER ANY LOGIN",
                                    "2": "CONTROL SERVER",
                                    "3": "",
                                    "4": ""
                                },
                                {
                                    "0": "SERVER",
                                    "1": "ALTER ANY SERVER AUDIT",
                                    "2": "CONTROL SERVER",
                                    "3": "",
                                    "4": ""
                                },
                                {
                                    "0": "SERVER",
                                    "1": "ALTER ANY SERVER ROLE",
                                    "2": "CONTROL SERVER",
                                    "3": "",
                                    "4": ""
                                },
                                {
                                    "0": "SERVER",
                                    "1": "ALTER RESOURCES",
                                    "2": "CONTROL SERVER",
                                    "3": "",
                                    "4": ""
                                },
                                {
                                    "0": "SERVER",
                                    "1": "ALTER SERVER STATE",
                                    "2": "CONTROL SERVER",
                                    "3": "",
                                    "4": ""
                                },
                                {
                                    "0": "SERVER",
                                    "1": "ALTER SETTINGS",
                                    "2": "CONTROL SERVER",
                                    "3": "",
                                    "4": ""
                                },
                                {
                                    "0": "SERVER",
                                    "1": "ALTER TRACE",
                                    "2": "CONTROL SERVER",
                                    "3": "",
                                    "4": ""
                                },
                                {
                                    "0": "SERVER",
                                    "1": "AUTHENTICATE SERVER",
                                    "2": "CONTROL SERVER",
                                    "3": "",
                                    "4": ""
                                },
                                {
                                    "0": "SERVER",
                                    "1": "CONNECT ANY DATABASE",
                                    "2": "CONTROL SERVER",
                                    "3": "",
                                    "4": ""
                                },
                                {
                                    "0": "SERVER",
                                    "1": "CONNECT SQL",
                                    "2": "CONTROL SERVER",
                                    "3": "",
                                    "4": ""
                                },
                                {
                                    "0": "SERVER",
                                    "1": "CONTROL SERVER",
                                    "2": "",
                                    "3": "",
                                    "4": ""
                                },
                                {
                                    "0": "SERVER",
                                    "1": "CREATE ANY DATABASE",
                                    "2": "ALTER ANY DATABASE",
                                    "3": "",
                                    "4": ""
                                },
                                {
                                    "0": "SERVER",
                                    "1": "CREATE AVAILABILITY GROUP",
                                    "2": "ALTER ANY AVAILABILITY GROUP",
                                    "3": "",
                                    "4": ""
                                },
                                {
                                    "0": "SERVER",
                                    "1": "CREATE DDL EVENT NOTIFICATION",
                                    "2": "ALTER ANY EVENT NOTIFICATION",
                                    "3": "",
                                    "4": ""
                                },
                                {
                                    "0": "SERVER",
                                    "1": "CREATE ENDPOINT",
                                    "2": "ALTER ANY ENDPOINT",
                                    "3": "",
                                    "4": ""
                                },
                                {
                                    "0": "SERVER",
                                    "1": "CREATE SERVER ROLE",
                                    "2": "ALTER ANY SERVER ROLE",
                                    "3": "",
                                    "4": ""
                                },
                                {
                                    "0": "SERVER",
                                    "1": "CREATE TRACE EVENT NOTIFICATION",
                                    "2": "ALTER ANY EVENT NOTIFICATION",
                                    "3": "",
                                    "4": ""
                                },
                                {
                                    "0": "SERVER",
                                    "1": "EXTERNAL ACCESS ASSEMBLY",
                                    "2": "UNSAFE ASSEMBLY",
                                    "3": "",
                                    "4": ""
                                },
                                {
                                    "0": "SERVER",
                                    "1": "IMPERSONATE ANY LOGIN",
                                    "2": "CONTROL SERVER",
                                    "3": "",
                                    "4": ""
                                },
                                {
                                    "0": "SERVER",
                                    "1": "SELECT ALL USER SECURABLES",
                                    "2": "CONTROL SERVER",
                                    "3": "",
                                    "4": ""
                                },
                                {
                                    "0": "SERVER",
                                    "1": "SHUTDOWN",
                                    "2": "CONTROL SERVER",
                                    "3": "",
                                    "4": ""
                                },
                                {
                                    "0": "SERVER",
                                    "1": "UNSAFE ASSEMBLY",
                                    "2": "CONTROL SERVER",
                                    "3": "",
                                    "4": ""
                                },
                                {
                                    "0": "SERVER",
                                    "1": "VIEW ANY DATABASE",
                                    "2": "VIEW ANY DEFINITION",
                                    "3": "",
                                    "4": ""
                                },
                                {
                                    "0": "SERVER",
                                    "1": "VIEW ANY DEFINITION",
                                    "2": "CONTROL SERVER",
                                    "3": "",
                                    "4": ""
                                },
                                {
                                    "0": "SERVER",
                                    "1": "VIEW SERVER STATE",
                                    "2": "ALTER SERVER STATE",
                                    "3": "",
                                    "4": ""
                                },
                                {
                                    "0": "SERVER ROLE",
                                    "1": "ALTER",
                                    "2": "CONTROL",
                                    "3": "SERVER",
                                    "4": "ALTER ANY SERVER ROLE"
                                },
                                {
                                    "0": "SERVER ROLE",
                                    "1": "CONTROL",
                                    "2": "",
                                    "3": "SERVER",
                                    "4": "CONTROL SERVER"
                                },
                                {
                                    "0": "SERVER ROLE",
                                    "1": "TAKE OWNERSHIP",
                                    "2": "CONTROL",
                                    "3": "SERVER",
                                    "4": "CONTROL SERVER"
                                },
                                {
                                    "0": "SERVER ROLE",
                                    "1": "VIEW DEFINITION",
                                    "2": "CONTROL",
                                    "3": "SERVER",
                                    "4": "VIEW ANY DEFINITION"
                                },
                                {
                                    "0": "SERVICE",
                                    "1": "ALTER",
                                    "2": "CONTROL",
                                    "3": "DATABASE",
                                    "4": "ALTER ANY SERVICE"
                                },
                                {
                                    "0": "SERVICE",
                                    "1": "CONTROL",
                                    "2": "",
                                    "3": "DATABASE",
                                    "4": "CONTROL"
                                },
                                {
                                    "0": "SERVICE",
                                    "1": "SEND",
                                    "2": "CONTROL",
                                    "3": "DATABASE",
                                    "4": "CONTROL"
                                },
                                {
                                    "0": "SERVICE",
                                    "1": "TAKE OWNERSHIP",
                                    "2": "CONTROL",
                                    "3": "DATABASE",
                                    "4": "CONTROL"
                                },
                                {
                                    "0": "SERVICE",
                                    "1": "VIEW DEFINITION",
                                    "2": "CONTROL",
                                    "3": "DATABASE",
                                    "4": "VIEW DEFINITION"
                                },
                                {
                                    "0": "SYMMETRIC KEY",
                                    "1": "ALTER",
                                    "2": "CONTROL",
                                    "3": "DATABASE",
                                    "4": "ALTER ANY SYMMETRIC KEY"
                                },
                                {
                                    "0": "SYMMETRIC KEY",
                                    "1": "CONTROL",
                                    "2": "",
                                    "3": "DATABASE",
                                    "4": "CONTROL"
                                },
                                {
                                    "0": "SYMMETRIC KEY",
                                    "1": "REFERENCES",
                                    "2": "CONTROL",
                                    "3": "DATABASE",
                                    "4": "REFERENCES"
                                },
                                {
                                    "0": "SYMMETRIC KEY",
                                    "1": "TAKE OWNERSHIP",
                                    "2": "CONTROL",
                                    "3": "DATABASE",
                                    "4": "CONTROL"
                                },
                                {
                                    "0": "SYMMETRIC KEY",
                                    "1": "VIEW DEFINITION",
                                    "2": "CONTROL",
                                    "3": "DATABASE",
                                    "4": "VIEW DEFINITION"
                                },
                                {
                                    "0": "TYPE",
                                    "1": "CONTROL",
                                    "2": "",
                                    "3": "SCHEMA",
                                    "4": "CONTROL"
                                },
                                {
                                    "0": "TYPE",
                                    "1": "EXECUTE",
                                    "2": "CONTROL",
                                    "3": "SCHEMA",
                                    "4": "EXECUTE"
                                },
                                {
                                    "0": "TYPE",
                                    "1": "REFERENCES",
                                    "2": "CONTROL",
                                    "3": "SCHEMA",
                                    "4": "REFERENCES"
                                },
                                {
                                    "0": "TYPE",
                                    "1": "TAKE OWNERSHIP",
                                    "2": "CONTROL",
                                    "3": "SCHEMA",
                                    "4": "CONTROL"
                                },
                                {
                                    "0": "TYPE",
                                    "1": "VIEW DEFINITION",
                                    "2": "CONTROL",
                                    "3": "SCHEMA",
                                    "4": "VIEW DEFINITION"
                                },
                                {
                                    "0": "USER",
                                    "1": "ALTER",
                                    "2": "CONTROL",
                                    "3": "DATABASE",
                                    "4": "ALTER ANY USER"
                                },
                                {
                                    "0": "USER",
                                    "1": "CONTROL",
                                    "2": "",
                                    "3": "DATABASE",
                                    "4": "CONTROL"
                                },
                                {
                                    "0": "USER",
                                    "1": "IMPERSONATE",
                                    "2": "CONTROL",
                                    "3": "",
                                    "4": ""
                                },
                                {
                                    "0": "USER",
                                    "1": "VIEW DEFINITION",
                                    "2": "CONTROL",
                                    "3": "DATABASE",
                                    "4": "VIEW DEFINITION"
                                },
                                {
                                    "0": "XML SCHEMA COLLECTION",
                                    "1": "ALTER",
                                    "2": "CONTROL",
                                    "3": "SCHEMA",
                                    "4": "ALTER"
                                },
                                {
                                    "0": "XML SCHEMA COLLECTION",
                                    "1": "CONTROL",
                                    "2": "",
                                    "3": "SCHEMA",
                                    "4": "CONTROL"
                                },
                                {
                                    "0": "XML SCHEMA COLLECTION",
                                    "1": "EXECUTE",
                                    "2": "CONTROL",
                                    "3": "SCHEMA",
                                    "4": "EXECUTE"
                                },
                                {
                                    "0": "XML SCHEMA COLLECTION",
                                    "1": "REFERENCES",
                                    "2": "CONTROL",
                                    "3": "SCHEMA",
                                    "4": "REFERENCES"
                                },
                                {
                                    "0": "XML SCHEMA COLLECTION",
                                    "1": "TAKE OWNERSHIP",
                                    "2": "CONTROL",
                                    "3": "SCHEMA",
                                    "4": "CONTROL"
                                },
                                {
                                    "0": "XML SCHEMA COLLECTION",
                                    "1": "VIEW DEFINITION",
                                    "2": "CONTROL",
                                    "3": "SCHEMA",
                                    "4": "VIEW DEFINITION"
                                }
                            ]
                        },
                        "text/html": [
                            "<table>",
                            "<tr><th>class_desc</th><th>permission_name</th><th>covering_permission_name</th><th>parent_class_desc</th><th>parent_covering_permission_name</th></tr>",
                            "<tr><td>APPLICATION ROLE</td><td>ALTER</td><td>CONTROL</td><td>DATABASE</td><td>ALTER ANY APPLICATION ROLE</td></tr>",
                            "<tr><td>APPLICATION ROLE</td><td>CONTROL</td><td></td><td>DATABASE</td><td>CONTROL</td></tr>",
                            "<tr><td>APPLICATION ROLE</td><td>VIEW DEFINITION</td><td>CONTROL</td><td>DATABASE</td><td>VIEW DEFINITION</td></tr>",
                            "<tr><td>ASSEMBLY</td><td>ALTER</td><td>CONTROL</td><td>DATABASE</td><td>ALTER ANY ASSEMBLY</td></tr>",
                            "<tr><td>ASSEMBLY</td><td>CONTROL</td><td></td><td>DATABASE</td><td>CONTROL</td></tr>",
                            "<tr><td>ASSEMBLY</td><td>REFERENCES</td><td>CONTROL</td><td>DATABASE</td><td>REFERENCES</td></tr>",
                            "<tr><td>ASSEMBLY</td><td>TAKE OWNERSHIP</td><td>CONTROL</td><td>DATABASE</td><td>CONTROL</td></tr>",
                            "<tr><td>ASSEMBLY</td><td>VIEW DEFINITION</td><td>CONTROL</td><td>DATABASE</td><td>VIEW DEFINITION</td></tr>",
                            "<tr><td>ASYMMETRIC KEY</td><td>ALTER</td><td>CONTROL</td><td>DATABASE</td><td>ALTER ANY ASYMMETRIC KEY</td></tr>",
                            "<tr><td>ASYMMETRIC KEY</td><td>CONTROL</td><td></td><td>DATABASE</td><td>CONTROL</td></tr>",
                            "<tr><td>ASYMMETRIC KEY</td><td>REFERENCES</td><td>CONTROL</td><td>DATABASE</td><td>REFERENCES</td></tr>",
                            "<tr><td>ASYMMETRIC KEY</td><td>TAKE OWNERSHIP</td><td>CONTROL</td><td>DATABASE</td><td>CONTROL</td></tr>",
                            "<tr><td>ASYMMETRIC KEY</td><td>VIEW DEFINITION</td><td>CONTROL</td><td>DATABASE</td><td>VIEW DEFINITION</td></tr>",
                            "<tr><td>AVAILABILITY GROUP</td><td>ALTER</td><td>CONTROL</td><td>SERVER</td><td>ALTER ANY AVAILABILITY GROUP</td></tr>",
                            "<tr><td>AVAILABILITY GROUP</td><td>CONTROL</td><td></td><td>SERVER</td><td>CONTROL SERVER</td></tr>",
                            "<tr><td>AVAILABILITY GROUP</td><td>TAKE OWNERSHIP</td><td>CONTROL</td><td>SERVER</td><td>CONTROL SERVER</td></tr>",
                            "<tr><td>AVAILABILITY GROUP</td><td>VIEW DEFINITION</td><td>CONTROL</td><td>SERVER</td><td>VIEW ANY DEFINITION</td></tr>",
                            "<tr><td>CERTIFICATE</td><td>ALTER</td><td>CONTROL</td><td>DATABASE</td><td>ALTER ANY CERTIFICATE</td></tr>",
                            "<tr><td>CERTIFICATE</td><td>CONTROL</td><td></td><td>DATABASE</td><td>CONTROL</td></tr>",
                            "<tr><td>CERTIFICATE</td><td>REFERENCES</td><td>CONTROL</td><td>DATABASE</td><td>REFERENCES</td></tr>",
                            "<tr><td>CERTIFICATE</td><td>TAKE OWNERSHIP</td><td>CONTROL</td><td>DATABASE</td><td>CONTROL</td></tr>",
                            "<tr><td>CERTIFICATE</td><td>VIEW DEFINITION</td><td>CONTROL</td><td>DATABASE</td><td>VIEW DEFINITION</td></tr>",
                            "<tr><td>CONTRACT</td><td>ALTER</td><td>CONTROL</td><td>DATABASE</td><td>ALTER ANY CONTRACT</td></tr>",
                            "<tr><td>CONTRACT</td><td>CONTROL</td><td></td><td>DATABASE</td><td>CONTROL</td></tr>",
                            "<tr><td>CONTRACT</td><td>REFERENCES</td><td>CONTROL</td><td>DATABASE</td><td>REFERENCES</td></tr>",
                            "<tr><td>CONTRACT</td><td>TAKE OWNERSHIP</td><td>CONTROL</td><td>DATABASE</td><td>CONTROL</td></tr>",
                            "<tr><td>CONTRACT</td><td>VIEW DEFINITION</td><td>CONTROL</td><td>DATABASE</td><td>VIEW DEFINITION</td></tr>",
                            "<tr><td>DATABASE</td><td>ADMINISTER DATABASE BULK OPERATIONS</td><td>CONTROL</td><td>SERVER</td><td>CONTROL SERVER</td></tr>",
                            "<tr><td>DATABASE</td><td>ALTER</td><td>CONTROL</td><td>SERVER</td><td>ALTER ANY DATABASE</td></tr>",
                            "<tr><td>DATABASE</td><td>ALTER ANY APPLICATION ROLE</td><td>ALTER</td><td>SERVER</td><td>CONTROL SERVER</td></tr>",
                            "<tr><td>DATABASE</td><td>ALTER ANY ASSEMBLY</td><td>ALTER</td><td>SERVER</td><td>CONTROL SERVER</td></tr>",
                            "<tr><td>DATABASE</td><td>ALTER ANY ASYMMETRIC KEY</td><td>ALTER</td><td>SERVER</td><td>CONTROL SERVER</td></tr>",
                            "<tr><td>DATABASE</td><td>ALTER ANY CERTIFICATE</td><td>ALTER</td><td>SERVER</td><td>CONTROL SERVER</td></tr>",
                            "<tr><td>DATABASE</td><td>ALTER ANY COLUMN ENCRYPTION KEY</td><td>ALTER</td><td>SERVER</td><td>CONTROL SERVER</td></tr>",
                            "<tr><td>DATABASE</td><td>ALTER ANY COLUMN MASTER KEY</td><td>ALTER</td><td>SERVER</td><td>CONTROL SERVER</td></tr>",
                            "<tr><td>DATABASE</td><td>ALTER ANY CONTRACT</td><td>ALTER</td><td>SERVER</td><td>CONTROL SERVER</td></tr>",
                            "<tr><td>DATABASE</td><td>ALTER ANY DATABASE AUDIT</td><td>ALTER</td><td>SERVER</td><td>ALTER ANY SERVER AUDIT</td></tr>",
                            "<tr><td>DATABASE</td><td>ALTER ANY DATABASE DDL TRIGGER</td><td>ALTER</td><td>SERVER</td><td>CONTROL SERVER</td></tr>",
                            "<tr><td>DATABASE</td><td>ALTER ANY DATABASE EVENT NOTIFICATION</td><td>ALTER</td><td>SERVER</td><td>ALTER ANY EVENT NOTIFICATION</td></tr>",
                            "<tr><td>DATABASE</td><td>ALTER ANY DATABASE EVENT SESSION</td><td>ALTER</td><td>SERVER</td><td>ALTER ANY EVENT SESSION</td></tr>",
                            "<tr><td>DATABASE</td><td>ALTER ANY DATABASE SCOPED CONFIGURATION</td><td>CONTROL</td><td>SERVER</td><td>CONTROL SERVER</td></tr>",
                            "<tr><td>DATABASE</td><td>ALTER ANY DATASPACE</td><td>ALTER</td><td>SERVER</td><td>CONTROL SERVER</td></tr>",
                            "<tr><td>DATABASE</td><td>ALTER ANY EXTERNAL DATA SOURCE</td><td>ALTER</td><td>SERVER</td><td>CONTROL SERVER</td></tr>",
                            "<tr><td>DATABASE</td><td>ALTER ANY EXTERNAL FILE FORMAT</td><td>ALTER</td><td>SERVER</td><td>CONTROL SERVER</td></tr>",
                            "<tr><td>DATABASE</td><td>ALTER ANY EXTERNAL LANGUAGE</td><td>ALTER</td><td>SERVER</td><td>CONTROL SERVER</td></tr>",
                            "<tr><td>DATABASE</td><td>ALTER ANY EXTERNAL LIBRARY</td><td>ALTER</td><td>SERVER</td><td>CONTROL SERVER</td></tr>",
                            "<tr><td>DATABASE</td><td>ALTER ANY FULLTEXT CATALOG</td><td>ALTER</td><td>SERVER</td><td>CONTROL SERVER</td></tr>",
                            "<tr><td>DATABASE</td><td>ALTER ANY MASK</td><td>CONTROL</td><td>SERVER</td><td>CONTROL SERVER</td></tr>",
                            "<tr><td>DATABASE</td><td>ALTER ANY MESSAGE TYPE</td><td>ALTER</td><td>SERVER</td><td>CONTROL SERVER</td></tr>",
                            "<tr><td>DATABASE</td><td>ALTER ANY REMOTE SERVICE BINDING</td><td>ALTER</td><td>SERVER</td><td>CONTROL SERVER</td></tr>",
                            "<tr><td>DATABASE</td><td>ALTER ANY ROLE</td><td>ALTER</td><td>SERVER</td><td>CONTROL SERVER</td></tr>",
                            "<tr><td>DATABASE</td><td>ALTER ANY ROUTE</td><td>ALTER</td><td>SERVER</td><td>CONTROL SERVER</td></tr>",
                            "<tr><td>DATABASE</td><td>ALTER ANY SCHEMA</td><td>ALTER</td><td>SERVER</td><td>CONTROL SERVER</td></tr>",
                            "<tr><td>DATABASE</td><td>ALTER ANY SECURITY POLICY</td><td>CONTROL</td><td>SERVER</td><td>CONTROL SERVER</td></tr>",
                            "<tr><td>DATABASE</td><td>ALTER ANY SENSITIVITY CLASSIFICATION</td><td>CONTROL</td><td>SERVER</td><td>CONTROL SERVER</td></tr>",
                            "<tr><td>DATABASE</td><td>ALTER ANY SERVICE</td><td>ALTER</td><td>SERVER</td><td>CONTROL SERVER</td></tr>",
                            "<tr><td>DATABASE</td><td>ALTER ANY SYMMETRIC KEY</td><td>ALTER</td><td>SERVER</td><td>CONTROL SERVER</td></tr>",
                            "<tr><td>DATABASE</td><td>ALTER ANY USER</td><td>ALTER</td><td>SERVER</td><td>CONTROL SERVER</td></tr>",
                            "<tr><td>DATABASE</td><td>AUTHENTICATE</td><td>CONTROL</td><td>SERVER</td><td>AUTHENTICATE SERVER</td></tr>",
                            "<tr><td>DATABASE</td><td>BACKUP DATABASE</td><td>CONTROL</td><td>SERVER</td><td>CONTROL SERVER</td></tr>",
                            "<tr><td>DATABASE</td><td>BACKUP LOG</td><td>CONTROL</td><td>SERVER</td><td>CONTROL SERVER</td></tr>",
                            "<tr><td>DATABASE</td><td>CHECKPOINT</td><td>CONTROL</td><td>SERVER</td><td>CONTROL SERVER</td></tr>",
                            "<tr><td>DATABASE</td><td>CONNECT</td><td>CONNECT REPLICATION</td><td>SERVER</td><td>CONNECT ANY DATABASE</td></tr>",
                            "<tr><td>DATABASE</td><td>CONNECT REPLICATION</td><td>CONTROL</td><td>SERVER</td><td>CONTROL SERVER</td></tr>",
                            "<tr><td>DATABASE</td><td>CONTROL</td><td></td><td>SERVER</td><td>CONTROL SERVER</td></tr>",
                            "<tr><td>DATABASE</td><td>CREATE AGGREGATE</td><td>ALTER</td><td>SERVER</td><td>CONTROL SERVER</td></tr>",
                            "<tr><td>DATABASE</td><td>CREATE ASSEMBLY</td><td>ALTER ANY ASSEMBLY</td><td>SERVER</td><td>CONTROL SERVER</td></tr>",
                            "<tr><td>DATABASE</td><td>CREATE ASYMMETRIC KEY</td><td>ALTER ANY ASYMMETRIC KEY</td><td>SERVER</td><td>CONTROL SERVER</td></tr>",
                            "<tr><td>DATABASE</td><td>CREATE CERTIFICATE</td><td>ALTER ANY CERTIFICATE</td><td>SERVER</td><td>CONTROL SERVER</td></tr>",
                            "<tr><td>DATABASE</td><td>CREATE CONTRACT</td><td>ALTER ANY CONTRACT</td><td>SERVER</td><td>CONTROL SERVER</td></tr>",
                            "<tr><td>DATABASE</td><td>CREATE DATABASE</td><td></td><td>SERVER</td><td>CREATE ANY DATABASE</td></tr>",
                            "<tr><td>DATABASE</td><td>CREATE DATABASE DDL EVENT NOTIFICATION</td><td>ALTER ANY DATABASE EVENT NOTIFICATION</td><td>SERVER</td><td>CREATE DDL EVENT NOTIFICATION</td></tr>",
                            "<tr><td>DATABASE</td><td>CREATE DEFAULT</td><td>ALTER</td><td>SERVER</td><td>CONTROL SERVER</td></tr>",
                            "<tr><td>DATABASE</td><td>CREATE EXTERNAL LANGUAGE</td><td>ALTER ANY EXTERNAL LANGUAGE</td><td>SERVER</td><td>CONTROL SERVER</td></tr>",
                            "<tr><td>DATABASE</td><td>CREATE EXTERNAL LIBRARY</td><td>ALTER ANY EXTERNAL LIBRARY</td><td>SERVER</td><td>CONTROL SERVER</td></tr>",
                            "<tr><td>DATABASE</td><td>CREATE FULLTEXT CATALOG</td><td>ALTER ANY FULLTEXT CATALOG</td><td>SERVER</td><td>CONTROL SERVER</td></tr>",
                            "<tr><td>DATABASE</td><td>CREATE FUNCTION</td><td>ALTER</td><td>SERVER</td><td>CONTROL SERVER</td></tr>",
                            "<tr><td>DATABASE</td><td>CREATE MESSAGE TYPE</td><td>ALTER ANY MESSAGE TYPE</td><td>SERVER</td><td>CONTROL SERVER</td></tr>",
                            "<tr><td>DATABASE</td><td>CREATE PROCEDURE</td><td>ALTER</td><td>SERVER</td><td>CONTROL SERVER</td></tr>",
                            "<tr><td>DATABASE</td><td>CREATE QUEUE</td><td>ALTER</td><td>SERVER</td><td>CONTROL SERVER</td></tr>",
                            "<tr><td>DATABASE</td><td>CREATE REMOTE SERVICE BINDING</td><td>ALTER ANY REMOTE SERVICE BINDING</td><td>SERVER</td><td>CONTROL SERVER</td></tr>",
                            "<tr><td>DATABASE</td><td>CREATE ROLE</td><td>ALTER ANY ROLE</td><td>SERVER</td><td>CONTROL SERVER</td></tr>",
                            "<tr><td>DATABASE</td><td>CREATE ROUTE</td><td>ALTER ANY ROUTE</td><td>SERVER</td><td>CONTROL SERVER</td></tr>",
                            "<tr><td>DATABASE</td><td>CREATE RULE</td><td>ALTER</td><td>SERVER</td><td>CONTROL SERVER</td></tr>",
                            "<tr><td>DATABASE</td><td>CREATE SCHEMA</td><td>ALTER ANY SCHEMA</td><td>SERVER</td><td>CONTROL SERVER</td></tr>",
                            "<tr><td>DATABASE</td><td>CREATE SERVICE</td><td>ALTER ANY SERVICE</td><td>SERVER</td><td>CONTROL SERVER</td></tr>",
                            "<tr><td>DATABASE</td><td>CREATE SYMMETRIC KEY</td><td>ALTER ANY SYMMETRIC KEY</td><td>SERVER</td><td>CONTROL SERVER</td></tr>",
                            "<tr><td>DATABASE</td><td>CREATE SYNONYM</td><td>ALTER</td><td>SERVER</td><td>CONTROL SERVER</td></tr>",
                            "<tr><td>DATABASE</td><td>CREATE TABLE</td><td>ALTER</td><td>SERVER</td><td>CONTROL SERVER</td></tr>",
                            "<tr><td>DATABASE</td><td>CREATE TYPE</td><td>ALTER</td><td>SERVER</td><td>CONTROL SERVER</td></tr>",
                            "<tr><td>DATABASE</td><td>CREATE VIEW</td><td>ALTER</td><td>SERVER</td><td>CONTROL SERVER</td></tr>",
                            "<tr><td>DATABASE</td><td>CREATE XML SCHEMA COLLECTION</td><td>ALTER</td><td>SERVER</td><td>CONTROL SERVER</td></tr>",
                            "<tr><td>DATABASE</td><td>DELETE</td><td>CONTROL</td><td>SERVER</td><td>CONTROL SERVER</td></tr>",
                            "<tr><td>DATABASE</td><td>EXECUTE</td><td>CONTROL</td><td>SERVER</td><td>CONTROL SERVER</td></tr>",
                            "<tr><td>DATABASE</td><td>EXECUTE ANY EXTERNAL SCRIPT</td><td>CONTROL</td><td>SERVER</td><td>CONTROL SERVER</td></tr>",
                            "<tr><td>DATABASE</td><td>INSERT</td><td>CONTROL</td><td>SERVER</td><td>CONTROL SERVER</td></tr>",
                            "<tr><td>DATABASE</td><td>KILL DATABASE CONNECTION</td><td>CONTROL</td><td>SERVER</td><td>ALTER ANY CONNECTION</td></tr>",
                            "<tr><td>DATABASE</td><td>REFERENCES</td><td>CONTROL</td><td>SERVER</td><td>CONTROL SERVER</td></tr>",
                            "<tr><td>DATABASE</td><td>SELECT</td><td>CONTROL</td><td>SERVER</td><td>CONTROL SERVER</td></tr>",
                            "<tr><td>DATABASE</td><td>SHOWPLAN</td><td>CONTROL</td><td>SERVER</td><td>ALTER TRACE</td></tr>",
                            "<tr><td>DATABASE</td><td>SUBSCRIBE QUERY NOTIFICATIONS</td><td>CONTROL</td><td>SERVER</td><td>CONTROL SERVER</td></tr>",
                            "<tr><td>DATABASE</td><td>TAKE OWNERSHIP</td><td>CONTROL</td><td>SERVER</td><td>CONTROL SERVER</td></tr>",
                            "<tr><td>DATABASE</td><td>UNMASK</td><td>CONTROL</td><td>SERVER</td><td>CONTROL SERVER</td></tr>",
                            "<tr><td>DATABASE</td><td>UPDATE</td><td>CONTROL</td><td>SERVER</td><td>CONTROL SERVER</td></tr>",
                            "<tr><td>DATABASE</td><td>VIEW ANY COLUMN ENCRYPTION KEY DEFINITION</td><td>CONTROL</td><td>SERVER</td><td>VIEW ANY DEFINITION</td></tr>",
                            "<tr><td>DATABASE</td><td>VIEW ANY COLUMN MASTER KEY DEFINITION</td><td>CONTROL</td><td>SERVER</td><td>VIEW ANY DEFINITION</td></tr>",
                            "<tr><td>DATABASE</td><td>VIEW ANY SENSITIVITY CLASSIFICATION</td><td>CONTROL</td><td>SERVER</td><td>CONTROL SERVER</td></tr>",
                            "<tr><td>DATABASE</td><td>VIEW DATABASE STATE</td><td>CONTROL</td><td>SERVER</td><td>VIEW SERVER STATE</td></tr>",
                            "<tr><td>DATABASE</td><td>VIEW DEFINITION</td><td>CONTROL</td><td>SERVER</td><td>VIEW ANY DEFINITION</td></tr>",
                            "<tr><td>DATABASE SCOPED CREDENTIAL</td><td>ALTER</td><td>CONTROL</td><td>DATABASE</td><td>CONTROL</td></tr>",
                            "<tr><td>DATABASE SCOPED CREDENTIAL</td><td>CONTROL</td><td></td><td>DATABASE</td><td>CONTROL</td></tr>",
                            "<tr><td>DATABASE SCOPED CREDENTIAL</td><td>REFERENCES</td><td>CONTROL</td><td>DATABASE</td><td>REFERENCES</td></tr>",
                            "<tr><td>DATABASE SCOPED CREDENTIAL</td><td>TAKE OWNERSHIP</td><td>CONTROL</td><td>DATABASE</td><td>CONTROL</td></tr>",
                            "<tr><td>DATABASE SCOPED CREDENTIAL</td><td>VIEW DEFINITION</td><td>CONTROL</td><td>DATABASE</td><td>VIEW DEFINITION</td></tr>",
                            "<tr><td>ENDPOINT</td><td>ALTER</td><td>CONTROL</td><td>SERVER</td><td>ALTER ANY ENDPOINT</td></tr>",
                            "<tr><td>ENDPOINT</td><td>CONNECT</td><td>CONTROL</td><td>SERVER</td><td>CONTROL SERVER</td></tr>",
                            "<tr><td>ENDPOINT</td><td>CONTROL</td><td></td><td>SERVER</td><td>CONTROL SERVER</td></tr>",
                            "<tr><td>ENDPOINT</td><td>TAKE OWNERSHIP</td><td>CONTROL</td><td>SERVER</td><td>CONTROL SERVER</td></tr>",
                            "<tr><td>ENDPOINT</td><td>VIEW DEFINITION</td><td>CONTROL</td><td>SERVER</td><td>VIEW ANY DEFINITION</td></tr>",
                            "<tr><td>EXTERNAL LANGUAGE</td><td>ALTER</td><td>CONTROL</td><td>DATABASE</td><td>ALTER ANY EXTERNAL LANGUAGE</td></tr>",
                            "<tr><td>EXTERNAL LANGUAGE</td><td>CONTROL</td><td></td><td>DATABASE</td><td>CONTROL</td></tr>",
                            "<tr><td>EXTERNAL LANGUAGE</td><td>EXECUTE EXTERNAL SCRIPT</td><td>CONTROL</td><td>DATABASE</td><td>EXECUTE ANY EXTERNAL SCRIPT</td></tr>",
                            "<tr><td>EXTERNAL LANGUAGE</td><td>REFERENCES</td><td>CONTROL</td><td>DATABASE</td><td>REFERENCES</td></tr>",
                            "<tr><td>EXTERNAL LANGUAGE</td><td>TAKE OWNERSHIP</td><td>CONTROL</td><td>DATABASE</td><td>CONTROL</td></tr>",
                            "<tr><td>EXTERNAL LANGUAGE</td><td>VIEW DEFINITION</td><td>CONTROL</td><td>DATABASE</td><td>VIEW DEFINITION</td></tr>",
                            "<tr><td>FULLTEXT CATALOG</td><td>ALTER</td><td>CONTROL</td><td>DATABASE</td><td>ALTER ANY FULLTEXT CATALOG</td></tr>",
                            "<tr><td>FULLTEXT CATALOG</td><td>CONTROL</td><td></td><td>DATABASE</td><td>CONTROL</td></tr>",
                            "<tr><td>FULLTEXT CATALOG</td><td>REFERENCES</td><td>CONTROL</td><td>DATABASE</td><td>REFERENCES</td></tr>",
                            "<tr><td>FULLTEXT CATALOG</td><td>TAKE OWNERSHIP</td><td>CONTROL</td><td>DATABASE</td><td>CONTROL</td></tr>",
                            "<tr><td>FULLTEXT CATALOG</td><td>VIEW DEFINITION</td><td>CONTROL</td><td>DATABASE</td><td>VIEW DEFINITION</td></tr>",
                            "<tr><td>FULLTEXT STOPLIST</td><td>ALTER</td><td>CONTROL</td><td>DATABASE</td><td>ALTER ANY FULLTEXT CATALOG</td></tr>",
                            "<tr><td>FULLTEXT STOPLIST</td><td>CONTROL</td><td></td><td>DATABASE</td><td>CONTROL</td></tr>",
                            "<tr><td>FULLTEXT STOPLIST</td><td>REFERENCES</td><td>CONTROL</td><td>DATABASE</td><td>REFERENCES</td></tr>",
                            "<tr><td>FULLTEXT STOPLIST</td><td>TAKE OWNERSHIP</td><td>CONTROL</td><td>DATABASE</td><td>CONTROL</td></tr>",
                            "<tr><td>FULLTEXT STOPLIST</td><td>VIEW DEFINITION</td><td>CONTROL</td><td>DATABASE</td><td>VIEW DEFINITION</td></tr>",
                            "<tr><td>LOGIN</td><td>ALTER</td><td>CONTROL</td><td>SERVER</td><td>ALTER ANY LOGIN</td></tr>",
                            "<tr><td>LOGIN</td><td>CONTROL</td><td></td><td>SERVER</td><td>CONTROL SERVER</td></tr>",
                            "<tr><td>LOGIN</td><td>IMPERSONATE</td><td>CONTROL</td><td>SERVER</td><td>IMPERSONATE ANY LOGIN</td></tr>",
                            "<tr><td>LOGIN</td><td>VIEW DEFINITION</td><td>CONTROL</td><td>SERVER</td><td>VIEW ANY DEFINITION</td></tr>",
                            "<tr><td>MESSAGE TYPE</td><td>ALTER</td><td>CONTROL</td><td>DATABASE</td><td>ALTER ANY MESSAGE TYPE</td></tr>",
                            "<tr><td>MESSAGE TYPE</td><td>CONTROL</td><td></td><td>DATABASE</td><td>CONTROL</td></tr>",
                            "<tr><td>MESSAGE TYPE</td><td>REFERENCES</td><td>CONTROL</td><td>DATABASE</td><td>REFERENCES</td></tr>",
                            "<tr><td>MESSAGE TYPE</td><td>TAKE OWNERSHIP</td><td>CONTROL</td><td>DATABASE</td><td>CONTROL</td></tr>",
                            "<tr><td>MESSAGE TYPE</td><td>VIEW DEFINITION</td><td>CONTROL</td><td>DATABASE</td><td>VIEW DEFINITION</td></tr>",
                            "<tr><td>OBJECT</td><td>ALTER</td><td>CONTROL</td><td>SCHEMA</td><td>ALTER</td></tr>",
                            "<tr><td>OBJECT</td><td>CONTROL</td><td></td><td>SCHEMA</td><td>CONTROL</td></tr>",
                            "<tr><td>OBJECT</td><td>DELETE</td><td>CONTROL</td><td>SCHEMA</td><td>DELETE</td></tr>",
                            "<tr><td>OBJECT</td><td>EXECUTE</td><td>CONTROL</td><td>SCHEMA</td><td>EXECUTE</td></tr>",
                            "<tr><td>OBJECT</td><td>INSERT</td><td>CONTROL</td><td>SCHEMA</td><td>INSERT</td></tr>",
                            "<tr><td>OBJECT</td><td>RECEIVE</td><td>CONTROL</td><td>SCHEMA</td><td>CONTROL</td></tr>",
                            "<tr><td>OBJECT</td><td>REFERENCES</td><td>CONTROL</td><td>SCHEMA</td><td>REFERENCES</td></tr>",
                            "<tr><td>OBJECT</td><td>SELECT</td><td>RECEIVE</td><td>SCHEMA</td><td>SELECT</td></tr>",
                            "<tr><td>OBJECT</td><td>TAKE OWNERSHIP</td><td>CONTROL</td><td>SCHEMA</td><td>CONTROL</td></tr>",
                            "<tr><td>OBJECT</td><td>UPDATE</td><td>CONTROL</td><td>SCHEMA</td><td>UPDATE</td></tr>",
                            "<tr><td>OBJECT</td><td>VIEW CHANGE TRACKING</td><td>CONTROL</td><td>SCHEMA</td><td>VIEW CHANGE TRACKING</td></tr>",
                            "<tr><td>OBJECT</td><td>VIEW DEFINITION</td><td>CONTROL</td><td>SCHEMA</td><td>VIEW DEFINITION</td></tr>",
                            "<tr><td>REMOTE SERVICE BINDING</td><td>ALTER</td><td>CONTROL</td><td>DATABASE</td><td>ALTER ANY REMOTE SERVICE BINDING</td></tr>",
                            "<tr><td>REMOTE SERVICE BINDING</td><td>CONTROL</td><td></td><td>DATABASE</td><td>CONTROL</td></tr>",
                            "<tr><td>REMOTE SERVICE BINDING</td><td>TAKE OWNERSHIP</td><td>CONTROL</td><td>DATABASE</td><td>CONTROL</td></tr>",
                            "<tr><td>REMOTE SERVICE BINDING</td><td>VIEW DEFINITION</td><td>CONTROL</td><td>DATABASE</td><td>VIEW DEFINITION</td></tr>",
                            "<tr><td>ROLE</td><td>ALTER</td><td>CONTROL</td><td>DATABASE</td><td>ALTER ANY ROLE</td></tr>",
                            "<tr><td>ROLE</td><td>CONTROL</td><td></td><td>DATABASE</td><td>CONTROL</td></tr>",
                            "<tr><td>ROLE</td><td>TAKE OWNERSHIP</td><td>CONTROL</td><td>DATABASE</td><td>CONTROL</td></tr>",
                            "<tr><td>ROLE</td><td>VIEW DEFINITION</td><td>CONTROL</td><td>DATABASE</td><td>VIEW DEFINITION</td></tr>",
                            "<tr><td>ROUTE</td><td>ALTER</td><td>CONTROL</td><td>DATABASE</td><td>ALTER ANY ROUTE</td></tr>",
                            "<tr><td>ROUTE</td><td>CONTROL</td><td></td><td>DATABASE</td><td>CONTROL</td></tr>",
                            "<tr><td>ROUTE</td><td>TAKE OWNERSHIP</td><td>CONTROL</td><td>DATABASE</td><td>CONTROL</td></tr>",
                            "<tr><td>ROUTE</td><td>VIEW DEFINITION</td><td>CONTROL</td><td>DATABASE</td><td>VIEW DEFINITION</td></tr>",
                            "<tr><td>SCHEMA</td><td>ALTER</td><td>CONTROL</td><td>DATABASE</td><td>ALTER ANY SCHEMA</td></tr>",
                            "<tr><td>SCHEMA</td><td>CONTROL</td><td></td><td>DATABASE</td><td>CONTROL</td></tr>",
                            "<tr><td>SCHEMA</td><td>CREATE SEQUENCE</td><td>ALTER</td><td>DATABASE</td><td>CONTROL</td></tr>",
                            "<tr><td>SCHEMA</td><td>DELETE</td><td>CONTROL</td><td>DATABASE</td><td>DELETE</td></tr>",
                            "<tr><td>SCHEMA</td><td>EXECUTE</td><td>CONTROL</td><td>DATABASE</td><td>EXECUTE</td></tr>",
                            "<tr><td>SCHEMA</td><td>INSERT</td><td>CONTROL</td><td>DATABASE</td><td>INSERT</td></tr>",
                            "<tr><td>SCHEMA</td><td>REFERENCES</td><td>CONTROL</td><td>DATABASE</td><td>REFERENCES</td></tr>",
                            "<tr><td>SCHEMA</td><td>SELECT</td><td>CONTROL</td><td>DATABASE</td><td>SELECT</td></tr>",
                            "<tr><td>SCHEMA</td><td>TAKE OWNERSHIP</td><td>CONTROL</td><td>DATABASE</td><td>CONTROL</td></tr>",
                            "<tr><td>SCHEMA</td><td>UPDATE</td><td>CONTROL</td><td>DATABASE</td><td>UPDATE</td></tr>",
                            "<tr><td>SCHEMA</td><td>VIEW CHANGE TRACKING</td><td>CONTROL</td><td>DATABASE</td><td>CONTROL</td></tr>",
                            "<tr><td>SCHEMA</td><td>VIEW DEFINITION</td><td>CONTROL</td><td>DATABASE</td><td>VIEW DEFINITION</td></tr>",
                            "<tr><td>SEARCH PROPERTY LIST</td><td>ALTER</td><td>CONTROL</td><td>DATABASE</td><td>ALTER ANY FULLTEXT CATALOG</td></tr>",
                            "<tr><td>SEARCH PROPERTY LIST</td><td>CONTROL</td><td></td><td>DATABASE</td><td>CONTROL</td></tr>",
                            "<tr><td>SEARCH PROPERTY LIST</td><td>REFERENCES</td><td>CONTROL</td><td>DATABASE</td><td>REFERENCES</td></tr>",
                            "<tr><td>SEARCH PROPERTY LIST</td><td>TAKE OWNERSHIP</td><td>CONTROL</td><td>DATABASE</td><td>CONTROL</td></tr>",
                            "<tr><td>SEARCH PROPERTY LIST</td><td>VIEW DEFINITION</td><td>CONTROL</td><td>DATABASE</td><td>VIEW DEFINITION</td></tr>",
                            "<tr><td>SERVER</td><td>ADMINISTER BULK OPERATIONS</td><td>CONTROL SERVER</td><td></td><td></td></tr>",
                            "<tr><td>SERVER</td><td>ALTER ANY AVAILABILITY GROUP</td><td>CONTROL SERVER</td><td></td><td></td></tr>",
                            "<tr><td>SERVER</td><td>ALTER ANY CONNECTION</td><td>CONTROL SERVER</td><td></td><td></td></tr>",
                            "<tr><td>SERVER</td><td>ALTER ANY CREDENTIAL</td><td>CONTROL SERVER</td><td></td><td></td></tr>",
                            "<tr><td>SERVER</td><td>ALTER ANY DATABASE</td><td>CONTROL SERVER</td><td></td><td></td></tr>",
                            "<tr><td>SERVER</td><td>ALTER ANY ENDPOINT</td><td>CONTROL SERVER</td><td></td><td></td></tr>",
                            "<tr><td>SERVER</td><td>ALTER ANY EVENT NOTIFICATION</td><td>CONTROL SERVER</td><td></td><td></td></tr>",
                            "<tr><td>SERVER</td><td>ALTER ANY EVENT SESSION</td><td>CONTROL SERVER</td><td></td><td></td></tr>",
                            "<tr><td>SERVER</td><td>ALTER ANY LINKED SERVER</td><td>CONTROL SERVER</td><td></td><td></td></tr>",
                            "<tr><td>SERVER</td><td>ALTER ANY LOGIN</td><td>CONTROL SERVER</td><td></td><td></td></tr>",
                            "<tr><td>SERVER</td><td>ALTER ANY SERVER AUDIT</td><td>CONTROL SERVER</td><td></td><td></td></tr>",
                            "<tr><td>SERVER</td><td>ALTER ANY SERVER ROLE</td><td>CONTROL SERVER</td><td></td><td></td></tr>",
                            "<tr><td>SERVER</td><td>ALTER RESOURCES</td><td>CONTROL SERVER</td><td></td><td></td></tr>",
                            "<tr><td>SERVER</td><td>ALTER SERVER STATE</td><td>CONTROL SERVER</td><td></td><td></td></tr>",
                            "<tr><td>SERVER</td><td>ALTER SETTINGS</td><td>CONTROL SERVER</td><td></td><td></td></tr>",
                            "<tr><td>SERVER</td><td>ALTER TRACE</td><td>CONTROL SERVER</td><td></td><td></td></tr>",
                            "<tr><td>SERVER</td><td>AUTHENTICATE SERVER</td><td>CONTROL SERVER</td><td></td><td></td></tr>",
                            "<tr><td>SERVER</td><td>CONNECT ANY DATABASE</td><td>CONTROL SERVER</td><td></td><td></td></tr>",
                            "<tr><td>SERVER</td><td>CONNECT SQL</td><td>CONTROL SERVER</td><td></td><td></td></tr>",
                            "<tr><td>SERVER</td><td>CONTROL SERVER</td><td></td><td></td><td></td></tr>",
                            "<tr><td>SERVER</td><td>CREATE ANY DATABASE</td><td>ALTER ANY DATABASE</td><td></td><td></td></tr>",
                            "<tr><td>SERVER</td><td>CREATE AVAILABILITY GROUP</td><td>ALTER ANY AVAILABILITY GROUP</td><td></td><td></td></tr>",
                            "<tr><td>SERVER</td><td>CREATE DDL EVENT NOTIFICATION</td><td>ALTER ANY EVENT NOTIFICATION</td><td></td><td></td></tr>",
                            "<tr><td>SERVER</td><td>CREATE ENDPOINT</td><td>ALTER ANY ENDPOINT</td><td></td><td></td></tr>",
                            "<tr><td>SERVER</td><td>CREATE SERVER ROLE</td><td>ALTER ANY SERVER ROLE</td><td></td><td></td></tr>",
                            "<tr><td>SERVER</td><td>CREATE TRACE EVENT NOTIFICATION</td><td>ALTER ANY EVENT NOTIFICATION</td><td></td><td></td></tr>",
                            "<tr><td>SERVER</td><td>EXTERNAL ACCESS ASSEMBLY</td><td>UNSAFE ASSEMBLY</td><td></td><td></td></tr>",
                            "<tr><td>SERVER</td><td>IMPERSONATE ANY LOGIN</td><td>CONTROL SERVER</td><td></td><td></td></tr>",
                            "<tr><td>SERVER</td><td>SELECT ALL USER SECURABLES</td><td>CONTROL SERVER</td><td></td><td></td></tr>",
                            "<tr><td>SERVER</td><td>SHUTDOWN</td><td>CONTROL SERVER</td><td></td><td></td></tr>",
                            "<tr><td>SERVER</td><td>UNSAFE ASSEMBLY</td><td>CONTROL SERVER</td><td></td><td></td></tr>",
                            "<tr><td>SERVER</td><td>VIEW ANY DATABASE</td><td>VIEW ANY DEFINITION</td><td></td><td></td></tr>",
                            "<tr><td>SERVER</td><td>VIEW ANY DEFINITION</td><td>CONTROL SERVER</td><td></td><td></td></tr>",
                            "<tr><td>SERVER</td><td>VIEW SERVER STATE</td><td>ALTER SERVER STATE</td><td></td><td></td></tr>",
                            "<tr><td>SERVER ROLE</td><td>ALTER</td><td>CONTROL</td><td>SERVER</td><td>ALTER ANY SERVER ROLE</td></tr>",
                            "<tr><td>SERVER ROLE</td><td>CONTROL</td><td></td><td>SERVER</td><td>CONTROL SERVER</td></tr>",
                            "<tr><td>SERVER ROLE</td><td>TAKE OWNERSHIP</td><td>CONTROL</td><td>SERVER</td><td>CONTROL SERVER</td></tr>",
                            "<tr><td>SERVER ROLE</td><td>VIEW DEFINITION</td><td>CONTROL</td><td>SERVER</td><td>VIEW ANY DEFINITION</td></tr>",
                            "<tr><td>SERVICE</td><td>ALTER</td><td>CONTROL</td><td>DATABASE</td><td>ALTER ANY SERVICE</td></tr>",
                            "<tr><td>SERVICE</td><td>CONTROL</td><td></td><td>DATABASE</td><td>CONTROL</td></tr>",
                            "<tr><td>SERVICE</td><td>SEND</td><td>CONTROL</td><td>DATABASE</td><td>CONTROL</td></tr>",
                            "<tr><td>SERVICE</td><td>TAKE OWNERSHIP</td><td>CONTROL</td><td>DATABASE</td><td>CONTROL</td></tr>",
                            "<tr><td>SERVICE</td><td>VIEW DEFINITION</td><td>CONTROL</td><td>DATABASE</td><td>VIEW DEFINITION</td></tr>",
                            "<tr><td>SYMMETRIC KEY</td><td>ALTER</td><td>CONTROL</td><td>DATABASE</td><td>ALTER ANY SYMMETRIC KEY</td></tr>",
                            "<tr><td>SYMMETRIC KEY</td><td>CONTROL</td><td></td><td>DATABASE</td><td>CONTROL</td></tr>",
                            "<tr><td>SYMMETRIC KEY</td><td>REFERENCES</td><td>CONTROL</td><td>DATABASE</td><td>REFERENCES</td></tr>",
                            "<tr><td>SYMMETRIC KEY</td><td>TAKE OWNERSHIP</td><td>CONTROL</td><td>DATABASE</td><td>CONTROL</td></tr>",
                            "<tr><td>SYMMETRIC KEY</td><td>VIEW DEFINITION</td><td>CONTROL</td><td>DATABASE</td><td>VIEW DEFINITION</td></tr>",
                            "<tr><td>TYPE</td><td>CONTROL</td><td></td><td>SCHEMA</td><td>CONTROL</td></tr>",
                            "<tr><td>TYPE</td><td>EXECUTE</td><td>CONTROL</td><td>SCHEMA</td><td>EXECUTE</td></tr>",
                            "<tr><td>TYPE</td><td>REFERENCES</td><td>CONTROL</td><td>SCHEMA</td><td>REFERENCES</td></tr>",
                            "<tr><td>TYPE</td><td>TAKE OWNERSHIP</td><td>CONTROL</td><td>SCHEMA</td><td>CONTROL</td></tr>",
                            "<tr><td>TYPE</td><td>VIEW DEFINITION</td><td>CONTROL</td><td>SCHEMA</td><td>VIEW DEFINITION</td></tr>",
                            "<tr><td>USER</td><td>ALTER</td><td>CONTROL</td><td>DATABASE</td><td>ALTER ANY USER</td></tr>",
                            "<tr><td>USER</td><td>CONTROL</td><td></td><td>DATABASE</td><td>CONTROL</td></tr>",
                            "<tr><td>USER</td><td>IMPERSONATE</td><td>CONTROL</td><td></td><td></td></tr>",
                            "<tr><td>USER</td><td>VIEW DEFINITION</td><td>CONTROL</td><td>DATABASE</td><td>VIEW DEFINITION</td></tr>",
                            "<tr><td>XML SCHEMA COLLECTION</td><td>ALTER</td><td>CONTROL</td><td>SCHEMA</td><td>ALTER</td></tr>",
                            "<tr><td>XML SCHEMA COLLECTION</td><td>CONTROL</td><td></td><td>SCHEMA</td><td>CONTROL</td></tr>",
                            "<tr><td>XML SCHEMA COLLECTION</td><td>EXECUTE</td><td>CONTROL</td><td>SCHEMA</td><td>EXECUTE</td></tr>",
                            "<tr><td>XML SCHEMA COLLECTION</td><td>REFERENCES</td><td>CONTROL</td><td>SCHEMA</td><td>REFERENCES</td></tr>",
                            "<tr><td>XML SCHEMA COLLECTION</td><td>TAKE OWNERSHIP</td><td>CONTROL</td><td>SCHEMA</td><td>CONTROL</td></tr>",
                            "<tr><td>XML SCHEMA COLLECTION</td><td>VIEW DEFINITION</td><td>CONTROL</td><td>SCHEMA</td><td>VIEW DEFINITION</td></tr>",
                            "</table>"
                        ]
                    }
                }
            ],
            "execution_count": 1
        },
        {
            "cell_type": "code",
            "source": [
                "/* schema comparable scope */\r\n",
                "USE master;\r\n",
                "GO\r\n",
                "\r\n",
                "SELECT permission_name, covering_permission_name, parent_class_desc \r\n",
                "    FROM sys.fn_builtin_permissions('schema') \r\n",
                "    ORDER BY permission_name;\r\n",
                "GO"
            ],
            "metadata": {
                "azdata_cell_guid": "55653cb8-e9a5-49f1-9e17-2aae9f42cc0f"
            },
            "outputs": [
                {
                    "output_type": "display_data",
                    "data": {
                        "text/html": "Commands completed successfully."
                    },
                    "metadata": {}
                },
                {
                    "output_type": "display_data",
                    "data": {
                        "text/html": "(12 rows affected)"
                    },
                    "metadata": {}
                },
                {
                    "output_type": "display_data",
                    "data": {
                        "text/html": "Total execution time: 00:00:00.038"
                    },
                    "metadata": {}
                },
                {
                    "output_type": "execute_result",
                    "metadata": {},
                    "execution_count": 2,
                    "data": {
                        "application/vnd.dataresource+json": {
                            "schema": {
                                "fields": [
                                    {
                                        "name": "permission_name"
                                    },
                                    {
                                        "name": "covering_permission_name"
                                    },
                                    {
                                        "name": "parent_class_desc"
                                    }
                                ]
                            },
                            "data": [
                                {
                                    "0": "ALTER",
                                    "1": "CONTROL",
                                    "2": "DATABASE"
                                },
                                {
                                    "0": "CONTROL",
                                    "1": "",
                                    "2": "DATABASE"
                                },
                                {
                                    "0": "CREATE SEQUENCE",
                                    "1": "ALTER",
                                    "2": "DATABASE"
                                },
                                {
                                    "0": "DELETE",
                                    "1": "CONTROL",
                                    "2": "DATABASE"
                                },
                                {
                                    "0": "EXECUTE",
                                    "1": "CONTROL",
                                    "2": "DATABASE"
                                },
                                {
                                    "0": "INSERT",
                                    "1": "CONTROL",
                                    "2": "DATABASE"
                                },
                                {
                                    "0": "REFERENCES",
                                    "1": "CONTROL",
                                    "2": "DATABASE"
                                },
                                {
                                    "0": "SELECT",
                                    "1": "CONTROL",
                                    "2": "DATABASE"
                                },
                                {
                                    "0": "TAKE OWNERSHIP",
                                    "1": "CONTROL",
                                    "2": "DATABASE"
                                },
                                {
                                    "0": "UPDATE",
                                    "1": "CONTROL",
                                    "2": "DATABASE"
                                },
                                {
                                    "0": "VIEW CHANGE TRACKING",
                                    "1": "CONTROL",
                                    "2": "DATABASE"
                                },
                                {
                                    "0": "VIEW DEFINITION",
                                    "1": "CONTROL",
                                    "2": "DATABASE"
                                }
                            ]
                        },
                        "text/html": [
                            "<table>",
                            "<tr><th>permission_name</th><th>covering_permission_name</th><th>parent_class_desc</th></tr>",
                            "<tr><td>ALTER</td><td>CONTROL</td><td>DATABASE</td></tr>",
                            "<tr><td>CONTROL</td><td></td><td>DATABASE</td></tr>",
                            "<tr><td>CREATE SEQUENCE</td><td>ALTER</td><td>DATABASE</td></tr>",
                            "<tr><td>DELETE</td><td>CONTROL</td><td>DATABASE</td></tr>",
                            "<tr><td>EXECUTE</td><td>CONTROL</td><td>DATABASE</td></tr>",
                            "<tr><td>INSERT</td><td>CONTROL</td><td>DATABASE</td></tr>",
                            "<tr><td>REFERENCES</td><td>CONTROL</td><td>DATABASE</td></tr>",
                            "<tr><td>SELECT</td><td>CONTROL</td><td>DATABASE</td></tr>",
                            "<tr><td>TAKE OWNERSHIP</td><td>CONTROL</td><td>DATABASE</td></tr>",
                            "<tr><td>UPDATE</td><td>CONTROL</td><td>DATABASE</td></tr>",
                            "<tr><td>VIEW CHANGE TRACKING</td><td>CONTROL</td><td>DATABASE</td></tr>",
                            "<tr><td>VIEW DEFINITION</td><td>CONTROL</td><td>DATABASE</td></tr>",
                            "</table>"
                        ]
                    }
                }
            ],
            "execution_count": 2
        }
    ]
}