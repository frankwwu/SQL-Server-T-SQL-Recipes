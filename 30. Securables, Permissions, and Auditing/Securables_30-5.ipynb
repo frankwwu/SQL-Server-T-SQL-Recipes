{
    "metadata": {
        "kernelspec": {
            "name": "SQL",
            "display_name": "SQL",
            "language": "sql"
        },
        "language_info": {
            "name": "sql",
            "version": ""
        }
    },
    "nbformat_minor": 2,
    "nbformat": 4,
    "cells": [
        {
            "cell_type": "code",
            "source": [
                "/* 30-5 */\r\n",
                "USE master;\r\n",
                "GO\r\n",
                "CREATE LOGIN TestUser WITH PASSWORD = 'abcdelllllll!'\r\n",
                "USE AdventureWorks2014;\r\n",
                "GO\r\n",
                "CREATE USER TestUser FROM LOGIN TestUser;\r\n",
                "GO"
            ],
            "metadata": {
                "azdata_cell_guid": "5b9d4aaa-01d6-42cd-84e0-58e70f9f1849"
            },
            "outputs": [
                {
                    "output_type": "display_data",
                    "data": {
                        "text/html": "Commands completed successfully."
                    },
                    "metadata": {}
                },
                {
                    "output_type": "display_data",
                    "data": {
                        "text/html": "Commands completed successfully."
                    },
                    "metadata": {}
                },
                {
                    "output_type": "display_data",
                    "data": {
                        "text/html": "Commands completed successfully."
                    },
                    "metadata": {}
                },
                {
                    "output_type": "display_data",
                    "data": {
                        "text/html": "Total execution time: 00:00:00.013"
                    },
                    "metadata": {}
                }
            ],
            "execution_count": 1
        },
        {
            "cell_type": "code",
            "source": [
                "/* Next, I’ll grant and deny various permissions. */\r\n",
                "\r\n",
                "USE AdventureWorks2014;\r\n",
                "GO\r\n",
                "GRANT SELECT ON HumanResources.Department TO TestUser;\r\n",
                "DENY SELECT ON Production.ProductPhoto TO TestUser;\r\n",
                "GRANT EXEC ON HumanResources.uspUpdateEmployeeHireInfo TO TestUser;\r\n",
                "GRANT CREATE ASSEMBLY TO TestUser;\r\n",
                "GRANT SELECT ON Schema::Person TO TestUser;\r\n",
                "DENY IMPERSONATE ON USER::dbo TO TestUser;\r\n",
                "DENY SELECT ON HumanResources.Employee(BirthDate) TO TestUser;\r\n",
                "GO"
            ],
            "metadata": {
                "azdata_cell_guid": "5b40491a-72cc-4582-9790-c2aa1b08db2d"
            },
            "outputs": [
                {
                    "output_type": "display_data",
                    "data": {
                        "text/html": "Commands completed successfully."
                    },
                    "metadata": {}
                },
                {
                    "output_type": "display_data",
                    "data": {
                        "text/html": "Commands completed successfully."
                    },
                    "metadata": {}
                },
                {
                    "output_type": "display_data",
                    "data": {
                        "text/html": "Total execution time: 00:00:00.021"
                    },
                    "metadata": {}
                }
            ],
            "execution_count": 2
        },
        {
            "cell_type": "code",
            "source": [
                "/* check principals */\r\n",
                "USE AdventureWorks2014;\r\n",
                "GO\r\n",
                "SELECT principal_id\r\n",
                "FROM sys.database_principals\r\n",
                "WHERE name = 'TestUser';\r\n",
                "GO"
            ],
            "metadata": {
                "azdata_cell_guid": "90d059dc-690e-4fc0-aa16-6647af2e1278"
            },
            "outputs": [
                {
                    "output_type": "display_data",
                    "data": {
                        "text/html": "Commands completed successfully."
                    },
                    "metadata": {}
                },
                {
                    "output_type": "display_data",
                    "data": {
                        "text/html": "(1 row affected)"
                    },
                    "metadata": {}
                },
                {
                    "output_type": "display_data",
                    "data": {
                        "text/html": "Total execution time: 00:00:00.029"
                    },
                    "metadata": {}
                },
                {
                    "output_type": "execute_result",
                    "metadata": {},
                    "execution_count": 3,
                    "data": {
                        "application/vnd.dataresource+json": {
                            "schema": {
                                "fields": [
                                    {
                                        "name": "principal_id"
                                    }
                                ]
                            },
                            "data": [
                                {
                                    "0": "5"
                                }
                            ]
                        },
                        "text/html": [
                            "<table>",
                            "<tr><th>principal_id</th></tr>",
                            "<tr><td>5</td></tr>",
                            "</table>"
                        ]
                    }
                }
            ],
            "execution_count": 3
        },
        {
            "cell_type": "code",
            "source": [
                "USE AdventureWorks2014;\r\n",
                "GO\r\n",
                "SELECT\r\n",
                "    p.class_desc,\r\n",
                "    p.permission_name,\r\n",
                "    p.state_desc,\r\n",
                "    ISNULL(o.type_desc,'') type_desc,\r\n",
                "    CASE p.class_desc\r\n",
                "    WHEN 'SCHEMA'\r\n",
                "    THEN schema_name(major_id)\r\n",
                "    WHEN 'OBJECT_OR_COLUMN'\r\n",
                "    THEN CASE\r\n",
                "        WHEN minor_id = 0\r\n",
                "        THEN object_name(major_id)\r\n",
                "        ELSE (SELECT\r\n",
                "        object_name(object_id) + '.' + name\r\n",
                "        FROM sys.columns\r\n",
                "        WHERE object_id = p.major_id \r\n",
                "        AND column_id = p.minor_id) END\r\n",
                "    ELSE '' END AS object_name\r\n",
                "FROM sys.database_permissions p\r\n",
                "LEFT OUTER JOIN sys.objects o \r\n",
                "    ON o.object_id = p.major_id\r\n",
                "WHERE grantee_principal_id = 7;\r\n",
                "GO"
            ],
            "metadata": {
                "azdata_cell_guid": "9729d052-6b84-445d-8f9d-a6794acfac97"
            },
            "outputs": [
                {
                    "output_type": "display_data",
                    "data": {
                        "text/html": "Commands completed successfully."
                    },
                    "metadata": {}
                },
                {
                    "output_type": "display_data",
                    "data": {
                        "text/html": "(0 rows affected)"
                    },
                    "metadata": {}
                },
                {
                    "output_type": "execute_result",
                    "metadata": {},
                    "execution_count": 4,
                    "data": {
                        "application/vnd.dataresource+json": {
                            "schema": {
                                "fields": [
                                    {
                                        "name": "class_desc"
                                    },
                                    {
                                        "name": "permission_name"
                                    },
                                    {
                                        "name": "state_desc"
                                    },
                                    {
                                        "name": "type_desc"
                                    },
                                    {
                                        "name": "object_name"
                                    }
                                ]
                            },
                            "data": []
                        },
                        "text/html": [
                            "<table>",
                            "<tr><th>class_desc</th><th>permission_name</th><th>state_desc</th><th>type_desc</th><th>object_name</th></tr>",
                            "</table>"
                        ]
                    }
                },
                {
                    "output_type": "display_data",
                    "data": {
                        "text/html": "Total execution time: 00:00:00.081"
                    },
                    "metadata": {}
                }
            ],
            "execution_count": 4
        },
        {
            "cell_type": "code",
            "source": [
                "/* less manual version */\r\n",
                "USE AdventureWorks2014;\r\n",
                "GO\r\n",
                "SELECT\r\n",
                "    p.class_desc,\r\n",
                "    p.permission_name,\r\n",
                "    p.state_desc,\r\n",
                "    ISNULL(o.type_desc,'') type_desc,\r\n",
                "    CASE p.class_desc\r\n",
                "    WHEN 'SCHEMA'\r\n",
                "    THEN schema_name(major_id)\r\n",
                "    WHEN 'OBJECT_OR_COLUMN'\r\n",
                "    THEN CASE\r\n",
                "        WHEN minor_id = 0\r\n",
                "        THEN object_name(major_id)\r\n",
                "        ELSE (SELECT\r\n",
                "        object_name(object_id) + '.' + name\r\n",
                "        FROM sys.columns\r\n",
                "        WHERE object_id = p.major_id \r\n",
                "        AND column_id = p.minor_id) END\r\n",
                "    ELSE '' END AS object_name\r\n",
                "FROM sys.database_permissions p\r\n",
                "LEFT OUTER JOIN sys.objects o \r\n",
                "    ON o.object_id = p.major_id\r\n",
                "INNER JOIN sys.database_principals dp\r\n",
                "\tON dp.principal_id = p.grantee_principal_id\r\n",
                "WHERE dp.name = 'TestUser';\r\n",
                "GO"
            ],
            "metadata": {
                "azdata_cell_guid": "f2cd5bad-230b-4001-a21f-e4205dbd75dd"
            },
            "outputs": [
                {
                    "output_type": "display_data",
                    "data": {
                        "text/html": "Commands completed successfully."
                    },
                    "metadata": {}
                },
                {
                    "output_type": "display_data",
                    "data": {
                        "text/html": "(8 rows affected)"
                    },
                    "metadata": {}
                },
                {
                    "output_type": "display_data",
                    "data": {
                        "text/html": "Total execution time: 00:00:00.118"
                    },
                    "metadata": {}
                },
                {
                    "output_type": "execute_result",
                    "metadata": {},
                    "execution_count": 5,
                    "data": {
                        "application/vnd.dataresource+json": {
                            "schema": {
                                "fields": [
                                    {
                                        "name": "class_desc"
                                    },
                                    {
                                        "name": "permission_name"
                                    },
                                    {
                                        "name": "state_desc"
                                    },
                                    {
                                        "name": "type_desc"
                                    },
                                    {
                                        "name": "object_name"
                                    }
                                ]
                            },
                            "data": [
                                {
                                    "0": "DATABASE",
                                    "1": "CONNECT",
                                    "2": "GRANT",
                                    "3": "",
                                    "4": ""
                                },
                                {
                                    "0": "DATABASE",
                                    "1": "CREATE ASSEMBLY",
                                    "2": "GRANT",
                                    "3": "",
                                    "4": ""
                                },
                                {
                                    "0": "OBJECT_OR_COLUMN",
                                    "1": "EXECUTE",
                                    "2": "GRANT",
                                    "3": "SQL_STORED_PROCEDURE",
                                    "4": "uspUpdateEmployeeHireInfo"
                                },
                                {
                                    "0": "OBJECT_OR_COLUMN",
                                    "1": "SELECT",
                                    "2": "DENY",
                                    "3": "USER_TABLE",
                                    "4": "ProductPhoto"
                                },
                                {
                                    "0": "OBJECT_OR_COLUMN",
                                    "1": "SELECT",
                                    "2": "GRANT",
                                    "3": "USER_TABLE",
                                    "4": "Department"
                                },
                                {
                                    "0": "OBJECT_OR_COLUMN",
                                    "1": "SELECT",
                                    "2": "DENY",
                                    "3": "USER_TABLE",
                                    "4": "Employee.BirthDate"
                                },
                                {
                                    "0": "SCHEMA",
                                    "1": "SELECT",
                                    "2": "GRANT",
                                    "3": "SYSTEM_TABLE",
                                    "4": "Person"
                                },
                                {
                                    "0": "DATABASE_PRINCIPAL",
                                    "1": "IMPERSONATE",
                                    "2": "DENY",
                                    "3": "",
                                    "4": ""
                                }
                            ]
                        },
                        "text/html": [
                            "<table>",
                            "<tr><th>class_desc</th><th>permission_name</th><th>state_desc</th><th>type_desc</th><th>object_name</th></tr>",
                            "<tr><td>DATABASE</td><td>CONNECT</td><td>GRANT</td><td></td><td></td></tr>",
                            "<tr><td>DATABASE</td><td>CREATE ASSEMBLY</td><td>GRANT</td><td></td><td></td></tr>",
                            "<tr><td>OBJECT_OR_COLUMN</td><td>EXECUTE</td><td>GRANT</td><td>SQL_STORED_PROCEDURE</td><td>uspUpdateEmployeeHireInfo</td></tr>",
                            "<tr><td>OBJECT_OR_COLUMN</td><td>SELECT</td><td>DENY</td><td>USER_TABLE</td><td>ProductPhoto</td></tr>",
                            "<tr><td>OBJECT_OR_COLUMN</td><td>SELECT</td><td>GRANT</td><td>USER_TABLE</td><td>Department</td></tr>",
                            "<tr><td>OBJECT_OR_COLUMN</td><td>SELECT</td><td>DENY</td><td>USER_TABLE</td><td>Employee.BirthDate</td></tr>",
                            "<tr><td>SCHEMA</td><td>SELECT</td><td>GRANT</td><td>SYSTEM_TABLE</td><td>Person</td></tr>",
                            "<tr><td>DATABASE_PRINCIPAL</td><td>IMPERSONATE</td><td>DENY</td><td></td><td></td></tr>",
                            "</table>"
                        ]
                    }
                }
            ],
            "execution_count": 5
        }
    ]
}