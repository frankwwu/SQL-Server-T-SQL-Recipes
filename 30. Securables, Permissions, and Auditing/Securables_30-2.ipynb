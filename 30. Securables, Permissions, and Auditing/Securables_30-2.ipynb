{
    "metadata": {
        "kernelspec": {
            "name": "SQL",
            "display_name": "SQL",
            "language": "sql"
        },
        "language_info": {
            "name": "sql",
            "version": ""
        }
    },
    "nbformat_minor": 2,
    "nbformat": 4,
    "cells": [
        {
            "cell_type": "code",
            "source": [
                "/* 30-2 */\r\n",
                "\r\n",
                "USE master;\r\n",
                "GO"
            ],
            "metadata": {
                "azdata_cell_guid": "fe8a7aba-ba41-4c74-88e2-296a6d270872"
            },
            "outputs": [
                {
                    "output_type": "display_data",
                    "data": {
                        "text/html": "Commands completed successfully."
                    },
                    "metadata": {}
                },
                {
                    "output_type": "display_data",
                    "data": {
                        "text/html": "Total execution time: 00:00:00.002"
                    },
                    "metadata": {}
                }
            ],
            "execution_count": 1
        },
        {
            "cell_type": "code",
            "source": [
                "/*\r\n",
                "-- Create recipe login if it doesn't exist \r\n",
                "*/\r\n",
                "IF NOT EXISTS (SELECT name FROM sys.server_principals \r\n",
                "    WHERE name = 'Gargouille') \r\n",
                "BEGIN\r\n",
                "CREATE LOGIN [Gargouille] \r\n",
                "    WITH PASSWORD=N'test!#l'\r\n",
                "    , DEFAULT_DATABASE=[AdventureWorks2014]\r\n",
                "    , CHECK_EXPIRATION=OFF, CHECK_POLICY=OFF;\r\n",
                "END"
            ],
            "metadata": {
                "azdata_cell_guid": "5b14773d-f3e9-46a4-9b8b-88b98a9fe88a"
            },
            "outputs": [
                {
                    "output_type": "display_data",
                    "data": {
                        "text/html": "Commands completed successfully."
                    },
                    "metadata": {}
                },
                {
                    "output_type": "display_data",
                    "data": {
                        "text/html": "Total execution time: 00:00:00.026"
                    },
                    "metadata": {}
                }
            ],
            "execution_count": 2
        },
        {
            "cell_type": "code",
            "source": [
                "--check for the server role\r\n",
                "IF NOT EXISTS (SELECT name FROM sys.server_principals \r\n",
                "    WHERE name = 'hdserverstate'\r\n",
                "        AND type_desc = 'SERVER_ROLE')\r\n",
                "BEGIN\r\n",
                "    CREATE SERVER ROLE hdserverstate AUTHORIZATION securityadmin;\r\n",
                "    GRANT VIEW SERVER STATE TO hdserverstate;\r\n",
                "END"
            ],
            "metadata": {
                "azdata_cell_guid": "36da667c-e83e-4795-befb-1778b79b3a6c"
            },
            "outputs": [
                {
                    "output_type": "display_data",
                    "data": {
                        "text/html": "Commands completed successfully."
                    },
                    "metadata": {}
                },
                {
                    "output_type": "display_data",
                    "data": {
                        "text/html": "Total execution time: 00:00:00.014"
                    },
                    "metadata": {}
                }
            ],
            "execution_count": 3
        },
        {
            "cell_type": "code",
            "source": [
                "--check for the user\r\n",
                "IF NOT EXISTS (SELECT mem.name AS MemberName\r\n",
                "    FROM sys.server_role_members rm\r\n",
                "        INNER JOIN sys.server_principals sp\r\n",
                "            ON rm.role_principal_id = sp.principal_id\r\n",
                "        LEFT OUTER JOIN sys.server_principals mem\r\n",
                "            ON rm.member_principal_id = mem.principal_id\r\n",
                "    WHERE sp.name = 'hdserverstate'\r\n",
                "        AND sp.type_desc = 'SERVER_ROLE'\r\n",
                "        AND mem.name = 'Gargouille')\r\n",
                "\r\n",
                "BEGIN\r\n",
                "    ALTER SERVER ROLE [hdserverstate] ADD MEMBER [Gargouille];\r\n",
                "END"
            ],
            "metadata": {
                "azdata_cell_guid": "d3be37e1-d1c2-4a41-bb64-beb2adc2ade6"
            },
            "outputs": [
                {
                    "output_type": "display_data",
                    "data": {
                        "text/html": "Commands completed successfully."
                    },
                    "metadata": {}
                },
                {
                    "output_type": "display_data",
                    "data": {
                        "text/html": "Total execution time: 00:00:00.058"
                    },
                    "metadata": {}
                }
            ],
            "execution_count": 4
        },
        {
            "cell_type": "code",
            "source": [
                "/* create / view databases */\r\n",
                "USE master;\r\n",
                "GO\r\n",
                "GRANT CREATE ANY DATABASE, VIEW ANY DATABASE TO [ROIS\\Frederic];\r\n",
                "GO"
            ],
            "metadata": {
                "azdata_cell_guid": "98e53b40-0cfa-4336-bc0b-26ab510e474c"
            },
            "outputs": [
                {
                    "output_type": "display_data",
                    "data": {
                        "text/html": "Commands completed successfully."
                    },
                    "metadata": {}
                },
                {
                    "output_type": "error",
                    "evalue": "Msg 15151, Level 16, State 1, Line 4\r\nCannot find the login 'ROIS\\Frederic', because it does not exist or you do not have permission.",
                    "ename": "",
                    "traceback": []
                },
                {
                    "output_type": "display_data",
                    "data": {
                        "text/html": "Total execution time: 00:00:00.007"
                    },
                    "metadata": {}
                }
            ],
            "execution_count": 5
        },
        {
            "cell_type": "code",
            "source": [
                "/* Deny Shutdown */\r\n",
                "USE master;\r\n",
                "GO\r\n",
                "DENY SHUTDOWN TO [ROIS\\Frederic];\r\n",
                "GO"
            ],
            "metadata": {
                "azdata_cell_guid": "fe84235b-218a-4b1a-a2c1-3c6ff05a4178"
            },
            "outputs": [
                {
                    "output_type": "display_data",
                    "data": {
                        "text/html": "Commands completed successfully."
                    },
                    "metadata": {}
                },
                {
                    "output_type": "error",
                    "evalue": "Msg 15151, Level 16, State 1, Line 4\r\nCannot find the login 'ROIS\\Frederic', because it does not exist or you do not have permission.",
                    "ename": "",
                    "traceback": []
                },
                {
                    "output_type": "display_data",
                    "data": {
                        "text/html": "Total execution time: 00:00:00.016"
                    },
                    "metadata": {}
                }
            ],
            "execution_count": 6
        },
        {
            "cell_type": "code",
            "source": [
                "/* revoke view server state permission */\r\n",
                "USE master;\r\n",
                "GO\r\n",
                "REVOKE VIEW SERVER STATE FROM hdserverstate\r\n",
                "CASCADE;\r\n",
                "GO"
            ],
            "metadata": {
                "azdata_cell_guid": "1dfd155d-3e2d-447b-9659-489d486e51fc"
            },
            "outputs": [
                {
                    "output_type": "display_data",
                    "data": {
                        "text/html": "Commands completed successfully."
                    },
                    "metadata": {}
                },
                {
                    "output_type": "display_data",
                    "data": {
                        "text/html": "Commands completed successfully."
                    },
                    "metadata": {}
                },
                {
                    "output_type": "display_data",
                    "data": {
                        "text/html": "Total execution time: 00:00:00.006"
                    },
                    "metadata": {}
                }
            ],
            "execution_count": 7
        }
    ]
}