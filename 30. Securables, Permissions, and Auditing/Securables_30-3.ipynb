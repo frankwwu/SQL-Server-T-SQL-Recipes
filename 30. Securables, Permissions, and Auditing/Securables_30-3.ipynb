{
    "metadata": {
        "kernelspec": {
            "name": "SQL",
            "display_name": "SQL",
            "language": "sql"
        },
        "language_info": {
            "name": "sql",
            "version": ""
        }
    },
    "nbformat_minor": 2,
    "nbformat": 4,
    "cells": [
        {
            "cell_type": "code",
            "source": [
                "/* 30-3 */\r\n",
                "USE master;\r\n",
                "GO\r\n",
                "CREATE LOGIN TestUser2\r\n",
                "WITH PASSWORD = 'abcdelllllll!';\r\n",
                "GO"
            ],
            "metadata": {
                "azdata_cell_guid": "4ce83453-78a8-499c-b43c-e384b4d6d7b3"
            },
            "outputs": [
                {
                    "output_type": "display_data",
                    "data": {
                        "text/html": "Commands completed successfully."
                    },
                    "metadata": {}
                },
                {
                    "output_type": "display_data",
                    "data": {
                        "text/html": "Commands completed successfully."
                    },
                    "metadata": {}
                },
                {
                    "output_type": "display_data",
                    "data": {
                        "text/html": "Total execution time: 00:00:00.065"
                    },
                    "metadata": {}
                }
            ],
            "execution_count": 1
        },
        {
            "cell_type": "code",
            "source": [
                "/* assign some permissions */\r\n",
                "USE master;\r\n",
                "GO\r\n",
                "DENY SHUTDOWN TO TestUser2;\r\n",
                "GRANT CREATE ANY DATABASE TO TestUser2;\r\n",
                "GO"
            ],
            "metadata": {
                "azdata_cell_guid": "e29738f5-87c7-4575-b318-afe5228c5b2e"
            },
            "outputs": [
                {
                    "output_type": "display_data",
                    "data": {
                        "text/html": "Commands completed successfully."
                    },
                    "metadata": {}
                },
                {
                    "output_type": "display_data",
                    "data": {
                        "text/html": "Commands completed successfully."
                    },
                    "metadata": {}
                },
                {
                    "output_type": "display_data",
                    "data": {
                        "text/html": "Total execution time: 00:00:00.015"
                    },
                    "metadata": {}
                }
            ],
            "execution_count": 2
        },
        {
            "cell_type": "code",
            "source": [
                "/* view the assigned permissions */\r\n",
                "USE master;\r\n",
                "GO\r\n",
                "SELECT p.class_desc, p.permission_name, p.state_desc \r\n",
                "    FROM sys.server_permissions p \r\n",
                "    INNER JOIN sys.server_principals s \r\n",
                "        ON p.grantee_principal_id = s.principal_id \r\n",
                "    WHERE s.name = 'TestUser2';\r\n",
                "GO"
            ],
            "metadata": {
                "azdata_cell_guid": "9098fe00-4094-45e4-9547-dca96fe9b561"
            },
            "outputs": [
                {
                    "output_type": "display_data",
                    "data": {
                        "text/html": "Commands completed successfully."
                    },
                    "metadata": {}
                },
                {
                    "output_type": "display_data",
                    "data": {
                        "text/html": "(3 rows affected)"
                    },
                    "metadata": {}
                },
                {
                    "output_type": "display_data",
                    "data": {
                        "text/html": "Total execution time: 00:00:00.158"
                    },
                    "metadata": {}
                },
                {
                    "output_type": "execute_result",
                    "metadata": {},
                    "execution_count": 3,
                    "data": {
                        "application/vnd.dataresource+json": {
                            "schema": {
                                "fields": [
                                    {
                                        "name": "class_desc"
                                    },
                                    {
                                        "name": "permission_name"
                                    },
                                    {
                                        "name": "state_desc"
                                    }
                                ]
                            },
                            "data": [
                                {
                                    "0": "SERVER",
                                    "1": "CONNECT SQL",
                                    "2": "GRANT"
                                },
                                {
                                    "0": "SERVER",
                                    "1": "CREATE ANY DATABASE",
                                    "2": "GRANT"
                                },
                                {
                                    "0": "SERVER",
                                    "1": "SHUTDOWN",
                                    "2": "DENY"
                                }
                            ]
                        },
                        "text/html": [
                            "<table>",
                            "<tr><th>class_desc</th><th>permission_name</th><th>state_desc</th></tr>",
                            "<tr><td>SERVER</td><td>CONNECT SQL</td><td>GRANT</td></tr>",
                            "<tr><td>SERVER</td><td>CREATE ANY DATABASE</td><td>GRANT</td></tr>",
                            "<tr><td>SERVER</td><td>SHUTDOWN</td><td>DENY</td></tr>",
                            "</table>"
                        ]
                    }
                }
            ],
            "execution_count": 3
        }
    ]
}