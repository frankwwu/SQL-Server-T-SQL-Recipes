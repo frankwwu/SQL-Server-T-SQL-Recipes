{
    "metadata": {
        "kernelspec": {
            "name": "SQL",
            "display_name": "SQL",
            "language": "sql"
        },
        "language_info": {
            "name": "sql",
            "version": ""
        }
    },
    "nbformat_minor": 2,
    "nbformat": 4,
    "cells": [
        {
            "cell_type": "code",
            "source": [
                "/* 30-4 */\r\n",
                "USE master;\r\n",
                "GO"
            ],
            "metadata": {
                "azdata_cell_guid": "de91dcca-3ff1-4680-8fab-37002162c9cd"
            },
            "outputs": [
                {
                    "output_type": "display_data",
                    "data": {
                        "text/html": "Commands completed successfully."
                    },
                    "metadata": {}
                },
                {
                    "output_type": "display_data",
                    "data": {
                        "text/html": "Total execution time: 00:00:00.001"
                    },
                    "metadata": {}
                }
            ],
            "execution_count": 1
        },
        {
            "cell_type": "code",
            "source": [
                "/*\r\n",
                "-- Create DB for recipe if it doesn't exist\r\n",
                "*/\r\n",
                "IF NOT EXISTS (SELECT name FROM sys.databases WHERE name = 'TestDB')\r\n",
                "BEGIN\r\n",
                "CREATE DATABASE TestDB \r\n",
                "END \r\n",
                "GO"
            ],
            "metadata": {
                "azdata_cell_guid": "f07384f2-ecbf-43a2-bf40-aa6344919a08"
            },
            "outputs": [
                {
                    "output_type": "display_data",
                    "data": {
                        "text/html": "Commands completed successfully."
                    },
                    "metadata": {}
                },
                {
                    "output_type": "display_data",
                    "data": {
                        "text/html": "Total execution time: 00:00:00.430"
                    },
                    "metadata": {}
                }
            ],
            "execution_count": 2
        },
        {
            "cell_type": "code",
            "source": [
                "/*\r\n",
                "Create recipe login if it doesn't exist \r\n",
                "*/\r\n",
                "IF NOT EXISTS (SELECT name FROM sys.server_principals \r\n",
                "    WHERE name = 'Phantom') \r\n",
                "BEGIN\r\n",
                "CREATE LOGIN [Phantom] \r\n",
                "    WITH PASSWORD=N'test!#23', DEFAULT_DATABASE=[TestDB], CHECK_EXPIRATION=OFF, CHECK_POLICY=OFF \r\n",
                "END;\r\n",
                "GO"
            ],
            "metadata": {
                "azdata_cell_guid": "8157556d-9839-49fe-95a6-c800a46ef26a"
            },
            "outputs": [
                {
                    "output_type": "display_data",
                    "data": {
                        "text/html": "Commands completed successfully."
                    },
                    "metadata": {}
                },
                {
                    "output_type": "display_data",
                    "data": {
                        "text/html": "Total execution time: 00:00:00.011"
                    },
                    "metadata": {}
                }
            ],
            "execution_count": 3
        },
        {
            "cell_type": "code",
            "source": [
                "IF NOT EXISTS (SELECT name FROM sys.server_principals \r\n",
                "    WHERE name = 'Gargouille') \r\n",
                "BEGIN\r\n",
                "CREATE LOGIN [Gargouille] \r\n",
                "    WITH PASSWORD=N'test!#l'\r\n",
                "    , DEFAULT_DATABASE=[AdventureWorks2014]\r\n",
                "    , CHECK_EXPIRATION=OFF, CHECK_POLICY=OFF;\r\n",
                "END\r\n",
                "GO\r\n",
                "\r\n",
                "USE TestDB;\r\n",
                "GO"
            ],
            "metadata": {
                "azdata_cell_guid": "c041f3ab-bfe9-49de-866c-1612dafdbee1"
            },
            "outputs": [
                {
                    "output_type": "display_data",
                    "data": {
                        "text/html": "Commands completed successfully."
                    },
                    "metadata": {}
                },
                {
                    "output_type": "display_data",
                    "data": {
                        "text/html": "Commands completed successfully."
                    },
                    "metadata": {}
                },
                {
                    "output_type": "display_data",
                    "data": {
                        "text/html": "Total execution time: 00:00:00.019"
                    },
                    "metadata": {}
                }
            ],
            "execution_count": 4
        },
        {
            "cell_type": "code",
            "source": [
                "/*\r\n",
                "-- Create db users if they don't already exist\r\n",
                "*/\r\n",
                "IF NOT EXISTS (SELECT name FROM sys.database_principals \r\n",
                "    WHERE name = 'Gargouille')\r\n",
                "BEGIN\r\n",
                "CREATE USER Gargouille FROM LOGIN Gargouille \r\n",
                "END;\r\n",
                "GO\r\n",
                "IF NOT EXISTS (SELECT name FROM sys.database_principals \r\n",
                "    WHERE name = 'Phantom') \r\n",
                "BEGIN\r\n",
                "CREATE USER Phantom FROM LOGIN Phantom \r\n",
                "END;\r\n",
                "GO"
            ],
            "metadata": {
                "azdata_cell_guid": "257a61fe-6f4d-4a81-87c0-64be482f8c8a"
            },
            "outputs": [
                {
                    "output_type": "display_data",
                    "data": {
                        "text/html": "Commands completed successfully."
                    },
                    "metadata": {}
                },
                {
                    "output_type": "display_data",
                    "data": {
                        "text/html": "Commands completed successfully."
                    },
                    "metadata": {}
                },
                {
                    "output_type": "display_data",
                    "data": {
                        "text/html": "Total execution time: 00:00:00.040"
                    },
                    "metadata": {}
                }
            ],
            "execution_count": 5
        },
        {
            "cell_type": "code",
            "source": [
                "/* Grant Perms to Gargouille */\r\n",
                "USE TestDB;\r\n",
                "GO\r\n",
                "GRANT ALTER ANY ASSEMBLY, ALTER ANY CERTIFICATE TO GARGOUILLE;\r\n",
                "GO"
            ],
            "metadata": {
                "azdata_cell_guid": "383d6992-d433-4f9c-adee-3b1b8f81033c"
            },
            "outputs": [
                {
                    "output_type": "display_data",
                    "data": {
                        "text/html": "Commands completed successfully."
                    },
                    "metadata": {}
                },
                {
                    "output_type": "display_data",
                    "data": {
                        "text/html": "Commands completed successfully."
                    },
                    "metadata": {}
                },
                {
                    "output_type": "display_data",
                    "data": {
                        "text/html": "Total execution time: 00:00:00.012"
                    },
                    "metadata": {}
                }
            ],
            "execution_count": 6
        },
        {
            "cell_type": "code",
            "source": [
                "/* Deny Perms to Phantom */\r\n",
                "USE TestDB;\r\n",
                "GO\r\n",
                "DENY ALTER ANY DATABASE DDL TRIGGER TO Phantom;\r\n",
                "GO"
            ],
            "metadata": {
                "azdata_cell_guid": "ffaaaaee-34dc-4f1e-8c39-2495b697c135"
            },
            "outputs": [
                {
                    "output_type": "display_data",
                    "data": {
                        "text/html": "Commands completed successfully."
                    },
                    "metadata": {}
                },
                {
                    "output_type": "display_data",
                    "data": {
                        "text/html": "Commands completed successfully."
                    },
                    "metadata": {}
                },
                {
                    "output_type": "display_data",
                    "data": {
                        "text/html": "Total execution time: 00:00:00.005"
                    },
                    "metadata": {}
                }
            ],
            "execution_count": 7
        },
        {
            "cell_type": "code",
            "source": [
                "/* Revoke Perms */\r\n",
                "USE TestDB;\r\n",
                "GO\r\n",
                "REVOKE CONNECT FROM Phantom;\r\n",
                "GO"
            ],
            "metadata": {
                "azdata_cell_guid": "cab26b48-c576-465b-95ef-7ec1bb644307"
            },
            "outputs": [
                {
                    "output_type": "display_data",
                    "data": {
                        "text/html": "Commands completed successfully."
                    },
                    "metadata": {}
                },
                {
                    "output_type": "display_data",
                    "data": {
                        "text/html": "Commands completed successfully."
                    },
                    "metadata": {}
                },
                {
                    "output_type": "display_data",
                    "data": {
                        "text/html": "Total execution time: 00:00:00.065"
                    },
                    "metadata": {}
                }
            ],
            "execution_count": 8
        }
    ]
}