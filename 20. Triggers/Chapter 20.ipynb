{
    "metadata": {
        "kernelspec": {
            "name": "SQL",
            "display_name": "SQL",
            "language": "sql"
        },
        "language_info": {
            "name": "sql",
            "version": ""
        }
    },
    "nbformat_minor": 2,
    "nbformat": 4,
    "cells": [
        {
            "cell_type": "code",
            "source": [
                "-- 20-1. Creating an AFTER DML Trigger\r\n",
                "\r\n",
                "USE AdventureWorks2014;"
            ],
            "metadata": {
                "azdata_cell_guid": "1e71b3a0-a7da-42e3-a5bb-8c3d833cd7ec"
            },
            "outputs": [
                {
                    "output_type": "display_data",
                    "data": {
                        "text/html": "Commands completed successfully."
                    },
                    "metadata": {}
                },
                {
                    "output_type": "display_data",
                    "data": {
                        "text/html": "Total execution time: 00:00:00.056"
                    },
                    "metadata": {}
                }
            ],
            "execution_count": 1
        },
        {
            "cell_type": "code",
            "source": [
                "-- Create a table to Track all Inserts and Deletes\r\n",
                "CREATE TABLE Production.ProductInventoryAudit\r\n",
                "    (\r\n",
                "    ProductID INT NOT NULL,\r\n",
                "    LocationID SMALLINT NOT NULL,\r\n",
                "    Shelf NVARCHAR(10) NOT NULL,\r\n",
                "    Bin TINYINT NOT NULL,\r\n",
                "    Quantity SMALLINT NOT NULL,\r\n",
                "    rowguid UNIQUEIDENTIFIER NOT NULL,\r\n",
                "    ModifiedDate DATETIME NOT NULL,\r\n",
                "    InsertOrDelete CHAR(1) NOT NULL\r\n",
                "    );\r\n",
                "GO\r\n",
                "-- Create trigger to populate Production.ProductInventoryAudit table\r\n",
                "CREATE TRIGGER Production.trg_id_ProductInventoryAudit ON Production.ProductInventory\r\n",
                "    AFTER INSERT, DELETE\r\n",
                "AS\r\n",
                "BEGIN\r\n",
                "    SET NOCOUNT ON;\r\n",
                "-- Inserted rows\r\n",
                "    INSERT Production.ProductInventoryAudit\r\n",
                "        (ProductID,\r\n",
                "        LocationID,\r\n",
                "        Shelf,\r\n",
                "        Bin,\r\n",
                "        Quantity,\r\n",
                "        rowguid,\r\n",
                "        ModifiedDate,\r\n",
                "        InsertOrDelete)\r\n",
                "        SELECT DISTINCT\r\n",
                "            i.ProductID,\r\n",
                "            i.LocationID,\r\n",
                "            i.Shelf,\r\n",
                "            i.Bin,\r\n",
                "            i.Quantity,\r\n",
                "            i.rowguid,\r\n",
                "            GETDATE(),\r\n",
                "            'I'\r\n",
                "        FROM inserted i\r\n",
                "        UNION ALL\r\n",
                "        SELECT d.ProductID,\r\n",
                "            d.LocationID,\r\n",
                "            d.Shelf,\r\n",
                "            d.Bin,\r\n",
                "            d.Quantity,\r\n",
                "            d.rowguid,\r\n",
                "            GETDATE(),\r\n",
                "            'D'\r\n",
                "        FROM deleted d;\r\n",
                "END\r\n",
                "GO\r\n",
                "-- Insert a new row\r\n",
                "INSERT Production.ProductInventory\r\n",
                "    (ProductID,\r\n",
                "    LocationID,\r\n",
                "    Shelf,\r\n",
                "    Bin,\r\n",
                "    Quantity)\r\n",
                "VALUES (316,\r\n",
                "    6,\r\n",
                "    'A',\r\n",
                "    4,\r\n",
                "    22);\r\n",
                "-- Delete a row\r\n",
                "DELETE Production.ProductInventory\r\n",
                "WHERE ProductID = 316\r\n",
                "    AND LocationID = 6;\r\n",
                "-- Check the audit table\r\n",
                "SELECT ProductID,\r\n",
                "    LocationID,\r\n",
                "    InsertOrDelete\r\n",
                "FROM Production.ProductInventoryAudit;"
            ],
            "metadata": {
                "azdata_cell_guid": "c0a208ec-0f3e-419a-9d5f-eee78b5edd27"
            },
            "outputs": [
                {
                    "output_type": "error",
                    "evalue": "Msg 2714, Level 16, State 6, Line 2\r\nThere is already an object named 'ProductInventoryAudit' in the database.",
                    "ename": "",
                    "traceback": []
                },
                {
                    "output_type": "error",
                    "evalue": "Msg 2714, Level 16, State 2, Procedure trg_id_ProductInventoryAudit, Line 2\r\nThere is already an object named 'trg_id_ProductInventoryAudit' in the database.",
                    "ename": "",
                    "traceback": []
                },
                {
                    "output_type": "display_data",
                    "data": {
                        "text/html": "Shelf 'A' is closed for new inventory."
                    },
                    "metadata": {}
                },
                {
                    "output_type": "error",
                    "evalue": "Msg 3609, Level 16, State 1, Line 53\r\nThe transaction ended in the trigger. The batch has been aborted.",
                    "ename": "",
                    "traceback": []
                },
                {
                    "output_type": "display_data",
                    "data": {
                        "text/html": "Total execution time: 00:00:00.062"
                    },
                    "metadata": {}
                }
            ],
            "execution_count": 2
        },
        {
            "cell_type": "code",
            "source": [
                "-- 20-2. Creating an INSTEAD OF DML Trigger\r\n",
                "\r\n",
                "-- Create Department \"Approval\" table\r\n",
                "CREATE TABLE HumanResources.DepartmentApproval\r\n",
                "    (\r\n",
                "    Name NVARCHAR(50) NOT NULL\r\n",
                "        UNIQUE,\r\n",
                "    GroupName NVARCHAR(50) NOT NULL,\r\n",
                "    ModifiedDate DATETIME NOT NULL\r\n",
                "        DEFAULT GETDATE()\r\n",
                "    ) ;\r\n",
                "GO\r\n",
                "-- Create view to see both approved and pending approval departments\r\n",
                "CREATE VIEW HumanResources.vw_Department\r\n",
                "AS\r\n",
                "    SELECT Name,\r\n",
                "        GroupName,\r\n",
                "        ModifiedDate,\r\n",
                "        'Approved' Status\r\n",
                "    FROM HumanResources.Department\r\n",
                "    UNION\r\n",
                "    SELECT Name,\r\n",
                "        GroupName,\r\n",
                "        ModifiedDate,\r\n",
                "        'Pending Approval' Status\r\n",
                "    FROM HumanResources.DepartmentApproval ;\r\n",
                "GO\r\n",
                "-- Create an INSTEAD OF trigger on the new view\r\n",
                "CREATE TRIGGER HumanResources.trg_vw_Department ON HumanResources.vw_Department\r\n",
                "    INSTEAD OF INSERT\r\n",
                "AS\r\n",
                "    SET NOCOUNT ON\r\n",
                "    INSERT HumanResources.DepartmentApproval\r\n",
                "        (Name,\r\n",
                "        GroupName)\r\n",
                "        SELECT i.Name,\r\n",
                "            i.GroupName\r\n",
                "        FROM inserted i\r\n",
                "        WHERE i.Name NOT IN (\r\n",
                "            SELECT Name\r\n",
                "            FROM HumanResources.DepartmentApproval) ;\r\n",
                "GO\r\n",
                "-- Insert into the new view, even though view is a UNION\r\n",
                "-- of two different tables\r\n",
                "INSERT HumanResources.vw_Department\r\n",
                "    (Name,\r\n",
                "    GroupName)\r\n",
                "VALUES ('Print Production',\r\n",
                "    'Manufacturing') ;\r\n",
                "-- Check the view's contents\r\n",
                "SELECT Status,\r\n",
                "    Name\r\n",
                "FROM HumanResources.vw_Department\r\n",
                "WHERE GroupName = 'Manufacturing' ;    "
            ],
            "metadata": {
                "azdata_cell_guid": "3057cdae-57a6-4a0b-8b31-0dde233383f0"
            },
            "outputs": [
                {
                    "output_type": "error",
                    "evalue": "Msg 2714, Level 16, State 6, Line 4\r\nThere is already an object named 'DepartmentApproval' in the database.",
                    "ename": "",
                    "traceback": []
                },
                {
                    "output_type": "error",
                    "evalue": "Msg 2714, Level 16, State 3, Procedure vw_Department, Line 2\r\nThere is already an object named 'vw_Department' in the database.",
                    "ename": "",
                    "traceback": []
                },
                {
                    "output_type": "error",
                    "evalue": "Msg 2111, Level 16, State 1, Procedure trg_vw_Department, Line 2\r\nCannot create trigger 'trg_vw_Department' on view 'HumanResources.vw_Department' because an INSTEAD OF INSERT trigger already exists on this object.",
                    "ename": "",
                    "traceback": []
                },
                {
                    "output_type": "display_data",
                    "data": {
                        "text/html": "(1 row affected)"
                    },
                    "metadata": {}
                },
                {
                    "output_type": "display_data",
                    "data": {
                        "text/html": "(3 rows affected)"
                    },
                    "metadata": {}
                },
                {
                    "output_type": "display_data",
                    "data": {
                        "text/html": "Total execution time: 00:00:00.116"
                    },
                    "metadata": {}
                },
                {
                    "output_type": "execute_result",
                    "metadata": {
                        "resultSet": {
                            "id": 0,
                            "batchId": 3,
                            "rowCount": 3,
                            "complete": false,
                            "columnInfo": [
                                {
                                    "isBytes": false,
                                    "isChars": true,
                                    "isSqlVariant": false,
                                    "isUdt": false,
                                    "isXml": false,
                                    "isJson": false,
                                    "sqlDbType": 22,
                                    "isHierarchyId": false,
                                    "isSqlXmlType": false,
                                    "isUnknownType": false,
                                    "isUpdatable": true,
                                    "allowDBNull": false,
                                    "baseCatalogName": null,
                                    "baseColumnName": null,
                                    "baseSchemaName": null,
                                    "baseServerName": null,
                                    "baseTableName": null,
                                    "columnName": "Status",
                                    "columnOrdinal": 0,
                                    "columnSize": 16,
                                    "isAliased": null,
                                    "isAutoIncrement": false,
                                    "isExpression": null,
                                    "isHidden": null,
                                    "isIdentity": false,
                                    "isKey": null,
                                    "isLong": false,
                                    "isReadOnly": false,
                                    "isUnique": false,
                                    "numericPrecision": 255,
                                    "numericScale": 255,
                                    "udtAssemblyQualifiedName": null,
                                    "dataType": "System.String, System.Private.CoreLib, Version=4.0.0.0, Culture=neutral, PublicKeyToken=7cec85d7bea7798e",
                                    "dataTypeName": "varchar"
                                },
                                {
                                    "isBytes": false,
                                    "isChars": true,
                                    "isSqlVariant": false,
                                    "isUdt": false,
                                    "isXml": false,
                                    "isJson": false,
                                    "sqlDbType": 12,
                                    "isHierarchyId": false,
                                    "isSqlXmlType": false,
                                    "isUnknownType": false,
                                    "isUpdatable": true,
                                    "allowDBNull": false,
                                    "baseCatalogName": null,
                                    "baseColumnName": null,
                                    "baseSchemaName": null,
                                    "baseServerName": null,
                                    "baseTableName": null,
                                    "columnName": "Name",
                                    "columnOrdinal": 1,
                                    "columnSize": 50,
                                    "isAliased": null,
                                    "isAutoIncrement": false,
                                    "isExpression": null,
                                    "isHidden": null,
                                    "isIdentity": false,
                                    "isKey": null,
                                    "isLong": false,
                                    "isReadOnly": false,
                                    "isUnique": false,
                                    "numericPrecision": 255,
                                    "numericScale": 255,
                                    "udtAssemblyQualifiedName": null,
                                    "dataType": "System.String, System.Private.CoreLib, Version=4.0.0.0, Culture=neutral, PublicKeyToken=7cec85d7bea7798e",
                                    "dataTypeName": "nvarchar"
                                }
                            ],
                            "specialAction": null
                        }
                    },
                    "execution_count": 3,
                    "data": {
                        "application/vnd.dataresource+json": {
                            "schema": {
                                "fields": [
                                    {
                                        "name": "Status"
                                    },
                                    {
                                        "name": "Name"
                                    }
                                ]
                            },
                            "data": [
                                {
                                    "0": "Approved",
                                    "1": "Production"
                                },
                                {
                                    "0": "Approved",
                                    "1": "Production Control"
                                },
                                {
                                    "0": "Pending Approval",
                                    "1": "Print Production"
                                }
                            ]
                        },
                        "text/html": [
                            "<table>",
                            "<tr><th>Status</th><th>Name</th></tr>",
                            "<tr><td>Approved</td><td>Production</td></tr>",
                            "<tr><td>Approved</td><td>Production Control</td></tr>",
                            "<tr><td>Pending Approval</td><td>Print Production</td></tr>",
                            "</table>"
                        ]
                    }
                }
            ],
            "execution_count": 3
        },
        {
            "cell_type": "code",
            "source": [
                "-- 20-3. Handling Transactions in Triggers\r\n",
                "\r\n",
                "ALTER TRIGGER Production.trg_id_ProductInventoryAudit ON Production.ProductInventory\r\n",
                "    AFTER INSERT, DELETE\r\n",
                "AS\r\n",
                "    SET NOCOUNT ON ;\r\n",
                "    IF EXISTS ( SELECT Shelf\r\n",
                "        FROM inserted\r\n",
                "        WHERE Shelf = 'A' )\r\n",
                "    BEGIN\r\n",
                "        PRINT 'Shelf ''A'' is closed for new inventory.' ;\r\n",
                "        ROLLBACK ;\r\n",
                "    END\r\n",
                "-- Inserted rows\r\n",
                "    INSERT Production.ProductInventoryAudit\r\n",
                "        (ProductID,\r\n",
                "        LocationID,\r\n",
                "        Shelf,\r\n",
                "        Bin,\r\n",
                "        Quantity,\r\n",
                "        rowguid,\r\n",
                "        ModifiedDate,\r\n",
                "        InsertOrDelete)\r\n",
                "        SELECT DISTINCT\r\n",
                "            i.ProductID,\r\n",
                "            i.LocationID,\r\n",
                "            i.Shelf,\r\n",
                "            i.Bin,\r\n",
                "            i.Quantity,\r\n",
                "            i.rowguid,\r\n",
                "            GETDATE(),\r\n",
                "            'I'\r\n",
                "        FROM inserted i ;\r\n",
                "-- Deleted rows\r\n",
                "    INSERT Production.ProductInventoryAudit\r\n",
                "        (ProductID,\r\n",
                "        LocationID,\r\n",
                "        Shelf,\r\n",
                "        Bin,\r\n",
                "        Quantity,\r\n",
                "        rowguid,\r\n",
                "        ModifiedDate,\r\n",
                "        InsertOrDelete)\r\n",
                "        SELECT d.ProductID,\r\n",
                "            d.LocationID,\r\n",
                "            d.Shelf,\r\n",
                "            d.Bin,\r\n",
                "            d.Quantity,\r\n",
                "            d.rowguid,\r\n",
                "            GETDATE(),\r\n",
                "            'D'\r\n",
                "        FROM deleted d;        \r\n",
                "    IF EXISTS ( SELECT Quantity\r\n",
                "        FROM deleted\r\n",
                "        WHERE Quantity > 0 )\r\n",
                "    BEGIN\r\n",
                "        PRINT 'You cannot remove positive quantity rows!' ;\r\n",
                "        ROLLBACK ;\r\n",
                "    END\r\n",
                "GO"
            ],
            "metadata": {
                "azdata_cell_guid": "150b19a8-d01c-4a01-b8be-6e7d12b1dcd5"
            },
            "outputs": [
                {
                    "output_type": "display_data",
                    "data": {
                        "text/html": "Commands completed successfully."
                    },
                    "metadata": {}
                },
                {
                    "output_type": "display_data",
                    "data": {
                        "text/html": "Total execution time: 00:00:00.007"
                    },
                    "metadata": {}
                }
            ],
            "execution_count": 4
        },
        {
            "cell_type": "code",
            "source": [
                "INSERT Production.ProductInventory\r\n",
                "    (ProductID,\r\n",
                "    LocationID,\r\n",
                "    Shelf,\r\n",
                "    Bin,\r\n",
                "    Quantity)\r\n",
                "VALUES (316,\r\n",
                "    6,\r\n",
                "    'A',\r\n",
                "    4,\r\n",
                "    22) ;"
            ],
            "metadata": {
                "azdata_cell_guid": "3677132b-4350-47c7-8661-a21ffcb9129d"
            },
            "outputs": [
                {
                    "output_type": "display_data",
                    "data": {
                        "text/html": "Shelf 'A' is closed for new inventory."
                    },
                    "metadata": {}
                },
                {
                    "output_type": "error",
                    "evalue": "Msg 3609, Level 16, State 1, Line 1\r\nThe transaction ended in the trigger. The batch has been aborted.",
                    "ename": "",
                    "traceback": []
                },
                {
                    "output_type": "display_data",
                    "data": {
                        "text/html": "Total execution time: 00:00:00.033"
                    },
                    "metadata": {}
                }
            ],
            "execution_count": 5
        },
        {
            "cell_type": "code",
            "source": [
                "BEGIN TRANSACTION ;\r\n",
                "-- Deleting a row with a zero quantity\r\n",
                "DELETE Production.ProductInventory\r\n",
                "WHERE ProductID = 853\r\n",
                "    AND LocationID = 7 ;\r\n",
                "-- Deleting a row with a non-zero quantity\r\n",
                "DELETE Production.ProductInventory\r\n",
                "WHERE ProductID = 999\r\n",
                "    AND LocationID = 60 ;\r\n",
                "COMMIT TRANSACTION ;"
            ],
            "metadata": {
                "azdata_cell_guid": "5d65b749-e82e-4c4e-8efe-6a427eae095a"
            },
            "outputs": [
                {
                    "output_type": "display_data",
                    "data": {
                        "text/html": "(1 row affected)"
                    },
                    "metadata": {}
                },
                {
                    "output_type": "display_data",
                    "data": {
                        "text/html": "You cannot remove positive quantity rows!"
                    },
                    "metadata": {}
                },
                {
                    "output_type": "error",
                    "evalue": "Msg 3609, Level 16, State 1, Line 7\r\nThe transaction ended in the trigger. The batch has been aborted.",
                    "ename": "",
                    "traceback": []
                },
                {
                    "output_type": "display_data",
                    "data": {
                        "text/html": "Total execution time: 00:00:00.525"
                    },
                    "metadata": {}
                }
            ],
            "execution_count": 6
        },
        {
            "cell_type": "code",
            "source": [
                "SELECT ProductID,\r\n",
                "    LocationID\r\n",
                "FROM Production.ProductInventory\r\n",
                "WHERE (ProductID = 853\r\n",
                "        AND LocationID = 7)\r\n",
                "    OR (ProductID = 999\r\n",
                "        AND LocationID = 60) ;"
            ],
            "metadata": {
                "azdata_cell_guid": "eedba417-be9f-4116-8923-d74e74e270f0"
            },
            "outputs": [
                {
                    "output_type": "display_data",
                    "data": {
                        "text/html": "(2 rows affected)"
                    },
                    "metadata": {}
                },
                {
                    "output_type": "display_data",
                    "data": {
                        "text/html": "Total execution time: 00:00:00.022"
                    },
                    "metadata": {}
                },
                {
                    "output_type": "execute_result",
                    "metadata": {
                        "resultSet": {
                            "id": 0,
                            "batchId": 0,
                            "rowCount": 2,
                            "complete": true,
                            "columnInfo": [
                                {
                                    "isBytes": false,
                                    "isChars": false,
                                    "isSqlVariant": false,
                                    "isUdt": false,
                                    "isXml": false,
                                    "isJson": false,
                                    "sqlDbType": 8,
                                    "isHierarchyId": false,
                                    "isSqlXmlType": false,
                                    "isUnknownType": false,
                                    "isUpdatable": true,
                                    "allowDBNull": false,
                                    "baseCatalogName": null,
                                    "baseColumnName": null,
                                    "baseSchemaName": null,
                                    "baseServerName": null,
                                    "baseTableName": null,
                                    "columnName": "ProductID",
                                    "columnOrdinal": 0,
                                    "columnSize": 4,
                                    "isAliased": null,
                                    "isAutoIncrement": false,
                                    "isExpression": null,
                                    "isHidden": null,
                                    "isIdentity": false,
                                    "isKey": null,
                                    "isLong": false,
                                    "isReadOnly": false,
                                    "isUnique": false,
                                    "numericPrecision": 10,
                                    "numericScale": 255,
                                    "udtAssemblyQualifiedName": null,
                                    "dataType": "System.Int32, System.Private.CoreLib, Version=4.0.0.0, Culture=neutral, PublicKeyToken=7cec85d7bea7798e",
                                    "dataTypeName": "int"
                                },
                                {
                                    "isBytes": false,
                                    "isChars": false,
                                    "isSqlVariant": false,
                                    "isUdt": false,
                                    "isXml": false,
                                    "isJson": false,
                                    "sqlDbType": 16,
                                    "isHierarchyId": false,
                                    "isSqlXmlType": false,
                                    "isUnknownType": false,
                                    "isUpdatable": true,
                                    "allowDBNull": false,
                                    "baseCatalogName": null,
                                    "baseColumnName": null,
                                    "baseSchemaName": null,
                                    "baseServerName": null,
                                    "baseTableName": null,
                                    "columnName": "LocationID",
                                    "columnOrdinal": 1,
                                    "columnSize": 2,
                                    "isAliased": null,
                                    "isAutoIncrement": false,
                                    "isExpression": null,
                                    "isHidden": null,
                                    "isIdentity": false,
                                    "isKey": null,
                                    "isLong": false,
                                    "isReadOnly": false,
                                    "isUnique": false,
                                    "numericPrecision": 5,
                                    "numericScale": 255,
                                    "udtAssemblyQualifiedName": null,
                                    "dataType": "System.Int16, System.Private.CoreLib, Version=4.0.0.0, Culture=neutral, PublicKeyToken=7cec85d7bea7798e",
                                    "dataTypeName": "smallint"
                                }
                            ],
                            "specialAction": {
                                "none": true,
                                "expectYukonXMLShowPlan": false
                            }
                        }
                    },
                    "execution_count": 7,
                    "data": {
                        "application/vnd.dataresource+json": {
                            "schema": {
                                "fields": [
                                    {
                                        "name": "ProductID"
                                    },
                                    {
                                        "name": "LocationID"
                                    }
                                ]
                            },
                            "data": [
                                {
                                    "0": "853",
                                    "1": "7"
                                },
                                {
                                    "0": "999",
                                    "1": "60"
                                }
                            ]
                        },
                        "text/html": [
                            "<table>",
                            "<tr><th>ProductID</th><th>LocationID</th></tr>",
                            "<tr><td>853</td><td>7</td></tr>",
                            "<tr><td>999</td><td>60</td></tr>",
                            "</table>"
                        ]
                    }
                }
            ],
            "execution_count": 7
        },
        {
            "cell_type": "code",
            "source": [
                "-- 20-4. Linking Trigger Execution to Modified Columns\r\n",
                "\r\n",
                "CREATE TRIGGER HumanResources.trg_U_Department ON HumanResources.Department\r\n",
                "    AFTER UPDATE\r\n",
                "AS\r\n",
                "    IF UPDATE(GroupName)\r\n",
                "        BEGIN\r\n",
                "            PRINT 'Updates to GroupName require DBA involvement.' ;\r\n",
                "            ROLLBACK ;\r\n",
                "        END\r\n",
                "GO"
            ],
            "metadata": {
                "azdata_cell_guid": "2a934426-bfbb-41bf-9a87-489ee2ed1b8a"
            },
            "outputs": [
                {
                    "output_type": "display_data",
                    "data": {
                        "text/html": "Commands completed successfully."
                    },
                    "metadata": {}
                },
                {
                    "output_type": "display_data",
                    "data": {
                        "text/html": "Total execution time: 00:00:00.009"
                    },
                    "metadata": {}
                }
            ],
            "execution_count": 8
        },
        {
            "cell_type": "code",
            "source": [
                "-- 20-5. Viewing DML Trigger Metadata\r\n",
                "\r\n",
                "-- Show the DML triggers in the current database\r\n",
                "SELECT OBJECT_NAME(parent_id) Table_or_ViewNM,\r\n",
                "    name TriggerNM,\r\n",
                "    is_instead_of_trigger,\r\n",
                "    is_disabled\r\n",
                "FROM sys.triggers\r\n",
                "WHERE parent_class_desc = 'OBJECT_OR_COLUMN'\r\n",
                "ORDER BY OBJECT_NAME(parent_id),\r\n",
                "    Name ;"
            ],
            "metadata": {
                "azdata_cell_guid": "a0172223-892f-41f1-b5c6-2666ca42f27f"
            },
            "outputs": [
                {
                    "output_type": "display_data",
                    "data": {
                        "text/html": "(13 rows affected)"
                    },
                    "metadata": {}
                },
                {
                    "output_type": "display_data",
                    "data": {
                        "text/html": "Total execution time: 00:00:00.676"
                    },
                    "metadata": {}
                },
                {
                    "output_type": "execute_result",
                    "metadata": {
                        "resultSet": {
                            "id": 0,
                            "batchId": 0,
                            "rowCount": 13,
                            "complete": true,
                            "columnInfo": [
                                {
                                    "isBytes": false,
                                    "isChars": true,
                                    "isSqlVariant": false,
                                    "isUdt": false,
                                    "isXml": false,
                                    "isJson": false,
                                    "sqlDbType": 12,
                                    "isHierarchyId": false,
                                    "isSqlXmlType": false,
                                    "isUnknownType": false,
                                    "isUpdatable": false,
                                    "allowDBNull": true,
                                    "baseCatalogName": null,
                                    "baseColumnName": null,
                                    "baseSchemaName": null,
                                    "baseServerName": null,
                                    "baseTableName": null,
                                    "columnName": "Table_or_ViewNM",
                                    "columnOrdinal": 0,
                                    "columnSize": 128,
                                    "isAliased": null,
                                    "isAutoIncrement": false,
                                    "isExpression": null,
                                    "isHidden": null,
                                    "isIdentity": false,
                                    "isKey": null,
                                    "isLong": false,
                                    "isReadOnly": true,
                                    "isUnique": false,
                                    "numericPrecision": 255,
                                    "numericScale": 255,
                                    "udtAssemblyQualifiedName": null,
                                    "dataType": "System.String, System.Private.CoreLib, Version=4.0.0.0, Culture=neutral, PublicKeyToken=7cec85d7bea7798e",
                                    "dataTypeName": "nvarchar"
                                },
                                {
                                    "isBytes": false,
                                    "isChars": true,
                                    "isSqlVariant": false,
                                    "isUdt": false,
                                    "isXml": false,
                                    "isJson": false,
                                    "sqlDbType": 12,
                                    "isHierarchyId": false,
                                    "isSqlXmlType": false,
                                    "isUnknownType": false,
                                    "isUpdatable": true,
                                    "allowDBNull": false,
                                    "baseCatalogName": null,
                                    "baseColumnName": null,
                                    "baseSchemaName": null,
                                    "baseServerName": null,
                                    "baseTableName": null,
                                    "columnName": "TriggerNM",
                                    "columnOrdinal": 1,
                                    "columnSize": 128,
                                    "isAliased": null,
                                    "isAutoIncrement": false,
                                    "isExpression": null,
                                    "isHidden": null,
                                    "isIdentity": false,
                                    "isKey": null,
                                    "isLong": false,
                                    "isReadOnly": false,
                                    "isUnique": false,
                                    "numericPrecision": 255,
                                    "numericScale": 255,
                                    "udtAssemblyQualifiedName": null,
                                    "dataType": "System.String, System.Private.CoreLib, Version=4.0.0.0, Culture=neutral, PublicKeyToken=7cec85d7bea7798e",
                                    "dataTypeName": "nvarchar"
                                },
                                {
                                    "isBytes": false,
                                    "isChars": false,
                                    "isSqlVariant": false,
                                    "isUdt": false,
                                    "isXml": false,
                                    "isJson": false,
                                    "sqlDbType": 2,
                                    "isHierarchyId": false,
                                    "isSqlXmlType": false,
                                    "isUnknownType": false,
                                    "isUpdatable": false,
                                    "allowDBNull": false,
                                    "baseCatalogName": null,
                                    "baseColumnName": null,
                                    "baseSchemaName": null,
                                    "baseServerName": null,
                                    "baseTableName": null,
                                    "columnName": "is_instead_of_trigger",
                                    "columnOrdinal": 2,
                                    "columnSize": 1,
                                    "isAliased": null,
                                    "isAutoIncrement": false,
                                    "isExpression": null,
                                    "isHidden": null,
                                    "isIdentity": false,
                                    "isKey": null,
                                    "isLong": false,
                                    "isReadOnly": true,
                                    "isUnique": false,
                                    "numericPrecision": 255,
                                    "numericScale": 255,
                                    "udtAssemblyQualifiedName": null,
                                    "dataType": "System.Boolean, System.Private.CoreLib, Version=4.0.0.0, Culture=neutral, PublicKeyToken=7cec85d7bea7798e",
                                    "dataTypeName": "bit"
                                },
                                {
                                    "isBytes": false,
                                    "isChars": false,
                                    "isSqlVariant": false,
                                    "isUdt": false,
                                    "isXml": false,
                                    "isJson": false,
                                    "sqlDbType": 2,
                                    "isHierarchyId": false,
                                    "isSqlXmlType": false,
                                    "isUnknownType": false,
                                    "isUpdatable": false,
                                    "allowDBNull": false,
                                    "baseCatalogName": null,
                                    "baseColumnName": null,
                                    "baseSchemaName": null,
                                    "baseServerName": null,
                                    "baseTableName": null,
                                    "columnName": "is_disabled",
                                    "columnOrdinal": 3,
                                    "columnSize": 1,
                                    "isAliased": null,
                                    "isAutoIncrement": false,
                                    "isExpression": null,
                                    "isHidden": null,
                                    "isIdentity": false,
                                    "isKey": null,
                                    "isLong": false,
                                    "isReadOnly": true,
                                    "isUnique": false,
                                    "numericPrecision": 255,
                                    "numericScale": 255,
                                    "udtAssemblyQualifiedName": null,
                                    "dataType": "System.Boolean, System.Private.CoreLib, Version=4.0.0.0, Culture=neutral, PublicKeyToken=7cec85d7bea7798e",
                                    "dataTypeName": "bit"
                                }
                            ],
                            "specialAction": {
                                "none": true,
                                "expectYukonXMLShowPlan": false
                            }
                        }
                    },
                    "execution_count": 9,
                    "data": {
                        "application/vnd.dataresource+json": {
                            "schema": {
                                "fields": [
                                    {
                                        "name": "Table_or_ViewNM"
                                    },
                                    {
                                        "name": "TriggerNM"
                                    },
                                    {
                                        "name": "is_instead_of_trigger"
                                    },
                                    {
                                        "name": "is_disabled"
                                    }
                                ]
                            },
                            "data": [
                                {
                                    "0": "Department",
                                    "1": "trg_U_Department",
                                    "2": "0",
                                    "3": "0"
                                },
                                {
                                    "0": "Employee",
                                    "1": "dEmployee",
                                    "2": "1",
                                    "3": "0"
                                },
                                {
                                    "0": "Person",
                                    "1": "iuPerson",
                                    "2": "0",
                                    "3": "0"
                                },
                                {
                                    "0": "ProductInventory",
                                    "1": "trg_id_ProductInventoryAudit",
                                    "2": "0",
                                    "3": "0"
                                },
                                {
                                    "0": "PurchaseOrderDetail",
                                    "1": "iPurchaseOrderDetail",
                                    "2": "0",
                                    "3": "0"
                                },
                                {
                                    "0": "PurchaseOrderDetail",
                                    "1": "uPurchaseOrderDetail",
                                    "2": "0",
                                    "3": "0"
                                },
                                {
                                    "0": "PurchaseOrderHeader",
                                    "1": "uPurchaseOrderHeader",
                                    "2": "0",
                                    "3": "0"
                                },
                                {
                                    "0": "SalesOrderDetail",
                                    "1": "iduSalesOrderDetail",
                                    "2": "0",
                                    "3": "0"
                                },
                                {
                                    "0": "SalesOrderHeader",
                                    "1": "uSalesOrderHeader",
                                    "2": "0",
                                    "3": "0"
                                },
                                {
                                    "0": "Vendor",
                                    "1": "dVendor",
                                    "2": "1",
                                    "3": "0"
                                },
                                {
                                    "0": "vw_Department",
                                    "1": "trg_vw_Department",
                                    "2": "1",
                                    "3": "0"
                                },
                                {
                                    "0": "WorkOrder",
                                    "1": "iWorkOrder",
                                    "2": "0",
                                    "3": "0"
                                },
                                {
                                    "0": "WorkOrder",
                                    "1": "uWorkOrder",
                                    "2": "0",
                                    "3": "0"
                                }
                            ]
                        },
                        "text/html": [
                            "<table>",
                            "<tr><th>Table_or_ViewNM</th><th>TriggerNM</th><th>is_instead_of_trigger</th><th>is_disabled</th></tr>",
                            "<tr><td>Department</td><td>trg_U_Department</td><td>0</td><td>0</td></tr>",
                            "<tr><td>Employee</td><td>dEmployee</td><td>1</td><td>0</td></tr>",
                            "<tr><td>Person</td><td>iuPerson</td><td>0</td><td>0</td></tr>",
                            "<tr><td>ProductInventory</td><td>trg_id_ProductInventoryAudit</td><td>0</td><td>0</td></tr>",
                            "<tr><td>PurchaseOrderDetail</td><td>iPurchaseOrderDetail</td><td>0</td><td>0</td></tr>",
                            "<tr><td>PurchaseOrderDetail</td><td>uPurchaseOrderDetail</td><td>0</td><td>0</td></tr>",
                            "<tr><td>PurchaseOrderHeader</td><td>uPurchaseOrderHeader</td><td>0</td><td>0</td></tr>",
                            "<tr><td>SalesOrderDetail</td><td>iduSalesOrderDetail</td><td>0</td><td>0</td></tr>",
                            "<tr><td>SalesOrderHeader</td><td>uSalesOrderHeader</td><td>0</td><td>0</td></tr>",
                            "<tr><td>Vendor</td><td>dVendor</td><td>1</td><td>0</td></tr>",
                            "<tr><td>vw_Department</td><td>trg_vw_Department</td><td>1</td><td>0</td></tr>",
                            "<tr><td>WorkOrder</td><td>iWorkOrder</td><td>0</td><td>0</td></tr>",
                            "<tr><td>WorkOrder</td><td>uWorkOrder</td><td>0</td><td>0</td></tr>",
                            "</table>"
                        ]
                    }
                }
            ],
            "execution_count": 9
        },
        {
            "cell_type": "code",
            "source": [
                "-- Displays the trigger SQL definition --(if the trigger is not encrypted)\r\n",
                "SELECT o.name,\r\n",
                "    m.definition\r\n",
                "FROM sys.sql_modules m\r\n",
                "    INNER JOIN sys.objects o\r\n",
                "        ON m.object_id = o.object_id\r\n",
                "WHERE o.type = 'TR'\r\n",
                "    AND o.name = 'trg_id_ProductInventoryAudit'"
            ],
            "metadata": {
                "azdata_cell_guid": "f72d8835-016e-4b85-9e9a-19e6f1c444a8"
            },
            "outputs": [
                {
                    "output_type": "display_data",
                    "data": {
                        "text/html": "(1 row affected)"
                    },
                    "metadata": {}
                },
                {
                    "output_type": "display_data",
                    "data": {
                        "text/html": "Total execution time: 00:00:00.064"
                    },
                    "metadata": {}
                },
                {
                    "output_type": "execute_result",
                    "metadata": {
                        "resultSet": {
                            "id": 0,
                            "batchId": 0,
                            "rowCount": 1,
                            "complete": true,
                            "columnInfo": [
                                {
                                    "isBytes": false,
                                    "isChars": true,
                                    "isSqlVariant": false,
                                    "isUdt": false,
                                    "isXml": false,
                                    "isJson": false,
                                    "sqlDbType": 12,
                                    "isHierarchyId": false,
                                    "isSqlXmlType": false,
                                    "isUnknownType": false,
                                    "isUpdatable": true,
                                    "allowDBNull": false,
                                    "baseCatalogName": null,
                                    "baseColumnName": null,
                                    "baseSchemaName": null,
                                    "baseServerName": null,
                                    "baseTableName": null,
                                    "columnName": "name",
                                    "columnOrdinal": 0,
                                    "columnSize": 128,
                                    "isAliased": null,
                                    "isAutoIncrement": false,
                                    "isExpression": null,
                                    "isHidden": null,
                                    "isIdentity": false,
                                    "isKey": null,
                                    "isLong": false,
                                    "isReadOnly": false,
                                    "isUnique": false,
                                    "numericPrecision": 255,
                                    "numericScale": 255,
                                    "udtAssemblyQualifiedName": null,
                                    "dataType": "System.String, System.Private.CoreLib, Version=4.0.0.0, Culture=neutral, PublicKeyToken=7cec85d7bea7798e",
                                    "dataTypeName": "nvarchar"
                                },
                                {
                                    "isBytes": false,
                                    "isChars": true,
                                    "isSqlVariant": false,
                                    "isUdt": false,
                                    "isXml": false,
                                    "isJson": false,
                                    "sqlDbType": 12,
                                    "isHierarchyId": false,
                                    "isSqlXmlType": false,
                                    "isUnknownType": false,
                                    "isUpdatable": false,
                                    "allowDBNull": true,
                                    "baseCatalogName": null,
                                    "baseColumnName": null,
                                    "baseSchemaName": null,
                                    "baseServerName": null,
                                    "baseTableName": null,
                                    "columnName": "definition",
                                    "columnOrdinal": 1,
                                    "columnSize": 2147483647,
                                    "isAliased": null,
                                    "isAutoIncrement": false,
                                    "isExpression": null,
                                    "isHidden": null,
                                    "isIdentity": false,
                                    "isKey": null,
                                    "isLong": true,
                                    "isReadOnly": true,
                                    "isUnique": false,
                                    "numericPrecision": 255,
                                    "numericScale": 255,
                                    "udtAssemblyQualifiedName": null,
                                    "dataType": "System.String, System.Private.CoreLib, Version=4.0.0.0, Culture=neutral, PublicKeyToken=7cec85d7bea7798e",
                                    "dataTypeName": "nvarchar"
                                }
                            ],
                            "specialAction": {
                                "none": true,
                                "expectYukonXMLShowPlan": false
                            }
                        }
                    },
                    "execution_count": 10,
                    "data": {
                        "application/vnd.dataresource+json": {
                            "schema": {
                                "fields": [
                                    {
                                        "name": "name"
                                    },
                                    {
                                        "name": "definition"
                                    }
                                ]
                            },
                            "data": [
                                {
                                    "0": "trg_id_ProductInventoryAudit",
                                    "1": "-- 20-3. Handling Transactions in Triggers\r\n\r\nCREATE TRIGGER Production.trg_id_ProductInventoryAudit ON Production.ProductInventory\r\n    AFTER INSERT, DELETE\r\nAS\r\n    SET NOCOUNT ON ;\r\n    IF EXISTS ( SELECT Shelf\r\n        FROM inserted\r\n        WHERE Shelf = 'A' )\r\n    BEGIN\r\n        PRINT 'Shelf ''A'' is closed for new inventory.' ;\r\n        ROLLBACK ;\r\n    END\r\n-- Inserted rows\r\n    INSERT Production.ProductInventoryAudit\r\n        (ProductID,\r\n        LocationID,\r\n        Shelf,\r\n        Bin,\r\n        Quantity,\r\n        rowguid,\r\n        ModifiedDate,\r\n        InsertOrDelete)\r\n        SELECT DISTINCT\r\n            i.ProductID,\r\n            i.LocationID,\r\n            i.Shelf,\r\n            i.Bin,\r\n            i.Quantity,\r\n            i.rowguid,\r\n            GETDATE(),\r\n            'I'\r\n        FROM inserted i ;\r\n-- Deleted rows\r\n    INSERT Production.ProductInventoryAudit\r\n        (ProductID,\r\n        LocationID,\r\n        Shelf,\r\n        Bin,\r\n        Quantity,\r\n        rowguid,\r\n        ModifiedDate,\r\n        InsertOrDelete)\r\n        SELECT d.ProductID,\r\n            d.LocationID,\r\n            d.Shelf,\r\n            d.Bin,\r\n            d.Quantity,\r\n            d.rowguid,\r\n            GETDATE(),\r\n            'D'\r\n        FROM deleted d;        \r\n    IF EXISTS ( SELECT Quantity\r\n        FROM deleted\r\n        WHERE Quantity > 0 )\r\n    BEGIN\r\n        PRINT 'You cannot remove positive quantity rows!' ;\r\n        ROLLBACK ;\r\n    END\r\n"
                                }
                            ]
                        },
                        "text/html": [
                            "<table>",
                            "<tr><th>name</th><th>definition</th></tr>",
                            "<tr><td>trg_id_ProductInventoryAudit</td><td>-- 20-3. Handling Transactions in Triggers\r\n\r\nCREATE TRIGGER Production.trg_id_ProductInventoryAudit ON Production.ProductInventory\r\n    AFTER INSERT, DELETE\r\nAS\r\n    SET NOCOUNT ON ;\r\n    IF EXISTS ( SELECT Shelf\r\n        FROM inserted\r\n        WHERE Shelf = 'A' )\r\n    BEGIN\r\n        PRINT 'Shelf ''A'' is closed for new inventory.' ;\r\n        ROLLBACK ;\r\n    END\r\n-- Inserted rows\r\n    INSERT Production.ProductInventoryAudit\r\n        (ProductID,\r\n        LocationID,\r\n        Shelf,\r\n        Bin,\r\n        Quantity,\r\n        rowguid,\r\n        ModifiedDate,\r\n        InsertOrDelete)\r\n        SELECT DISTINCT\r\n            i.ProductID,\r\n            i.LocationID,\r\n            i.Shelf,\r\n            i.Bin,\r\n            i.Quantity,\r\n            i.rowguid,\r\n            GETDATE(),\r\n            'I'\r\n        FROM inserted i ;\r\n-- Deleted rows\r\n    INSERT Production.ProductInventoryAudit\r\n        (ProductID,\r\n        LocationID,\r\n        Shelf,\r\n        Bin,\r\n        Quantity,\r\n        rowguid,\r\n        ModifiedDate,\r\n        InsertOrDelete)\r\n        SELECT d.ProductID,\r\n            d.LocationID,\r\n            d.Shelf,\r\n            d.Bin,\r\n            d.Quantity,\r\n            d.rowguid,\r\n            GETDATE(),\r\n            'D'\r\n        FROM deleted d;        \r\n    IF EXISTS ( SELECT Quantity\r\n        FROM deleted\r\n        WHERE Quantity &gt; 0 )\r\n    BEGIN\r\n        PRINT 'You cannot remove positive quantity rows!' ;\r\n        ROLLBACK ;\r\n    END\r\n</td></tr>",
                            "</table>"
                        ]
                    }
                }
            ],
            "execution_count": 10
        },
        {
            "cell_type": "code",
            "source": [
                "-- 20-6. Creating a DDL Trigger\r\n",
                "\r\n",
                "CREATE TABLE dbo.DDLAudit\r\n",
                "    (\r\n",
                "    EventData XML NOT NULL,\r\n",
                "    AttemptDate DATETIME NOT NULL\r\n",
                "    DEFAULT GETDATE(),\r\n",
                "    DBUser CHAR(50) NOT NULL\r\n",
                "    ) ;\r\n",
                "GO"
            ],
            "metadata": {
                "azdata_cell_guid": "a2aa1d9e-7af0-4c1b-ba80-b498f44323bd"
            },
            "outputs": [
                {
                    "output_type": "error",
                    "evalue": "Msg 2714, Level 16, State 6, Line 3\r\nThere is already an object named 'DDLAudit' in the database.",
                    "ename": "",
                    "traceback": []
                },
                {
                    "output_type": "display_data",
                    "data": {
                        "text/html": "Total execution time: 00:00:00.007"
                    },
                    "metadata": {}
                }
            ],
            "execution_count": 11
        },
        {
            "cell_type": "code",
            "source": [
                "CREATE TRIGGER db_trg_INDEXChanges ON DATABASE\r\n",
                "    FOR CREATE_INDEX, ALTER_INDEX, DROP_INDEX\r\n",
                "AS\r\n",
                "    SET NOCOUNT ON ;\r\n",
                "    INSERT dbo.DDLAudit\r\n",
                "        (EventData, DBUser)\r\n",
                "    VALUES (EVENTDATA(), USER) ;\r\n",
                "GO"
            ],
            "metadata": {
                "azdata_cell_guid": "0e917e97-e4c4-4578-85c4-c9074140d5cf"
            },
            "outputs": [
                {
                    "output_type": "display_data",
                    "data": {
                        "text/html": "Commands completed successfully."
                    },
                    "metadata": {}
                },
                {
                    "output_type": "display_data",
                    "data": {
                        "text/html": "Total execution time: 00:00:00.090"
                    },
                    "metadata": {}
                }
            ],
            "execution_count": 12
        },
        {
            "cell_type": "code",
            "source": [
                "CREATE NONCLUSTERED INDEX ni_DDLAudit_DBUser ON\r\n",
                "dbo.DDLAudit(DBUser) ;\r\n",
                "GO"
            ],
            "metadata": {
                "azdata_cell_guid": "feb608f6-d299-4844-beec-1d0ee1a771f6"
            },
            "outputs": [
                {
                    "output_type": "error",
                    "evalue": "Msg 1913, Level 16, State 1, Line 1\r\nThe operation failed because an index or statistics with name 'ni_DDLAudit_DBUser' already exists on table 'dbo.DDLAudit'.",
                    "ename": "",
                    "traceback": []
                },
                {
                    "output_type": "display_data",
                    "data": {
                        "text/html": "Total execution time: 00:00:00.003"
                    },
                    "metadata": {}
                }
            ],
            "execution_count": 13
        },
        {
            "cell_type": "code",
            "source": [
                "SELECT EventData\r\n",
                "FROM dbo.DDLAudit"
            ],
            "metadata": {
                "azdata_cell_guid": "ad0b1503-3887-46b2-9ea5-3115934acabf"
            },
            "outputs": [
                {
                    "output_type": "display_data",
                    "data": {
                        "text/html": "(1 row affected)"
                    },
                    "metadata": {}
                },
                {
                    "output_type": "display_data",
                    "data": {
                        "text/html": "Total execution time: 00:00:00.035"
                    },
                    "metadata": {}
                },
                {
                    "output_type": "execute_result",
                    "metadata": {
                        "resultSet": {
                            "id": 0,
                            "batchId": 0,
                            "rowCount": 1,
                            "complete": false,
                            "columnInfo": [
                                {
                                    "isBytes": false,
                                    "isChars": false,
                                    "isSqlVariant": false,
                                    "isUdt": false,
                                    "isXml": true,
                                    "isJson": false,
                                    "sqlDbType": 25,
                                    "isHierarchyId": false,
                                    "isSqlXmlType": true,
                                    "isUnknownType": false,
                                    "isUpdatable": false,
                                    "allowDBNull": false,
                                    "baseCatalogName": null,
                                    "baseColumnName": null,
                                    "baseSchemaName": null,
                                    "baseServerName": null,
                                    "baseTableName": null,
                                    "columnName": "EventData",
                                    "columnOrdinal": 0,
                                    "columnSize": 2147483647,
                                    "isAliased": null,
                                    "isAutoIncrement": false,
                                    "isExpression": null,
                                    "isHidden": null,
                                    "isIdentity": false,
                                    "isKey": null,
                                    "isLong": true,
                                    "isReadOnly": false,
                                    "isUnique": false,
                                    "numericPrecision": 255,
                                    "numericScale": 255,
                                    "udtAssemblyQualifiedName": null,
                                    "dataType": "System.String, System.Private.CoreLib, Version=4.0.0.0, Culture=neutral, PublicKeyToken=7cec85d7bea7798e",
                                    "dataTypeName": "xml"
                                }
                            ],
                            "specialAction": null
                        }
                    },
                    "execution_count": 14,
                    "data": {
                        "application/vnd.dataresource+json": {
                            "schema": {
                                "fields": [
                                    {
                                        "name": "EventData"
                                    }
                                ]
                            },
                            "data": [
                                {
                                    "0": "<EVENT_INSTANCE><EventType>CREATE_INDEX</EventType><PostTime>2020-12-26T16:23:27.593</PostTime><SPID>66</SPID><ServerName>HILL</ServerName><LoginName>HILL\\frank</LoginName><UserName>dbo</UserName><DatabaseName>AdventureWorks2014</DatabaseName><SchemaName>dbo</SchemaName><ObjectName>ni_DDLAudit_DBUser</ObjectName><ObjectType>INDEX</ObjectType><TargetObjectName>DDLAudit</TargetObjectName><TargetObjectType>TABLE</TargetObjectType><TSQLCommand><SetOptions ANSI_NULLS=\"ON\" ANSI_NULL_DEFAULT=\"ON\" ANSI_PADDING=\"ON\" QUOTED_IDENTIFIER=\"ON\" ENCRYPTED=\"FALSE\" /><CommandText>CREATE NONCLUSTERED INDEX ni_DDLAudit_DBUser ON\r\ndbo.DDLAudit(DBUser)</CommandText></TSQLCommand></EVENT_INSTANCE>"
                                }
                            ]
                        },
                        "text/html": [
                            "<table>",
                            "<tr><th>EventData</th></tr>",
                            "<tr><td>&lt;EVENT_INSTANCE&gt;&lt;EventType&gt;CREATE_INDEX&lt;/EventType&gt;&lt;PostTime&gt;2020-12-26T16:23:27.593&lt;/PostTime&gt;&lt;SPID&gt;66&lt;/SPID&gt;&lt;ServerName&gt;HILL&lt;/ServerName&gt;&lt;LoginName&gt;HILL\\frank&lt;/LoginName&gt;&lt;UserName&gt;dbo&lt;/UserName&gt;&lt;DatabaseName&gt;AdventureWorks2014&lt;/DatabaseName&gt;&lt;SchemaName&gt;dbo&lt;/SchemaName&gt;&lt;ObjectName&gt;ni_DDLAudit_DBUser&lt;/ObjectName&gt;&lt;ObjectType&gt;INDEX&lt;/ObjectType&gt;&lt;TargetObjectName&gt;DDLAudit&lt;/TargetObjectName&gt;&lt;TargetObjectType&gt;TABLE&lt;/TargetObjectType&gt;&lt;TSQLCommand&gt;&lt;SetOptions ANSI_NULLS=&quot;ON&quot; ANSI_NULL_DEFAULT=&quot;ON&quot; ANSI_PADDING=&quot;ON&quot; QUOTED_IDENTIFIER=&quot;ON&quot; ENCRYPTED=&quot;FALSE&quot; /&gt;&lt;CommandText&gt;CREATE NONCLUSTERED INDEX ni_DDLAudit_DBUser ON\r\ndbo.DDLAudit(DBUser)&lt;/CommandText&gt;&lt;/TSQLCommand&gt;&lt;/EVENT_INSTANCE&gt;</td></tr>",
                            "</table>"
                        ]
                    }
                }
            ],
            "execution_count": 14
        },
        {
            "cell_type": "code",
            "source": [
                "-- 20-7. Creating a Logon Trigger\r\n",
                "\r\n",
                "CREATE LOGIN nightworker WITH PASSWORD = 'pass@word1' ;\r\n",
                "GO"
            ],
            "metadata": {
                "azdata_cell_guid": "08a19fa4-81e9-4906-8a28-42cfb22c247c"
            },
            "outputs": [
                {
                    "output_type": "error",
                    "evalue": "Msg 15025, Level 16, State 1, Line 3\r\nThe server principal 'nightworker' already exists.",
                    "ename": "",
                    "traceback": []
                },
                {
                    "output_type": "display_data",
                    "data": {
                        "text/html": "Total execution time: 00:00:00.008"
                    },
                    "metadata": {}
                }
            ],
            "execution_count": 15
        },
        {
            "cell_type": "code",
            "source": [
                "CREATE DATABASE ExampleAuditDB ;\r\n",
                "GO\r\n",
                "USE ExampleAuditDB ;\r\n",
                "GO\r\n",
                "CREATE TABLE dbo.RestrictedLogonAttempt\r\n",
                "    (\r\n",
                "    LoginNM SYSNAME NOT NULL,\r\n",
                "    AttemptDT DATETIME NOT NULL\r\n",
                "    ) ;\r\n",
                "GO"
            ],
            "metadata": {
                "azdata_cell_guid": "c924d7f6-5d3b-40cf-b650-dd005cf78d6c"
            },
            "outputs": [
                {
                    "output_type": "error",
                    "evalue": "Msg 1801, Level 16, State 3, Line 1\r\nDatabase 'ExampleAuditDB' already exists. Choose a different database name.",
                    "ename": "",
                    "traceback": []
                },
                {
                    "output_type": "display_data",
                    "data": {
                        "text/html": "Commands completed successfully."
                    },
                    "metadata": {}
                },
                {
                    "output_type": "error",
                    "evalue": "Msg 2714, Level 16, State 6, Line 5\r\nThere is already an object named 'RestrictedLogonAttempt' in the database.",
                    "ename": "",
                    "traceback": []
                },
                {
                    "output_type": "display_data",
                    "data": {
                        "text/html": "Total execution time: 00:00:00.019"
                    },
                    "metadata": {}
                }
            ],
            "execution_count": 16
        },
        {
            "cell_type": "code",
            "source": [
                "USE master ;\r\n",
                "GO"
            ],
            "metadata": {
                "azdata_cell_guid": "e9850caf-731a-4fb0-93b1-4b24a88adc3b"
            },
            "outputs": [
                {
                    "output_type": "display_data",
                    "data": {
                        "text/html": "Commands completed successfully."
                    },
                    "metadata": {}
                },
                {
                    "output_type": "display_data",
                    "data": {
                        "text/html": "Total execution time: 00:00:00.002"
                    },
                    "metadata": {}
                }
            ],
            "execution_count": 17
        },
        {
            "cell_type": "code",
            "source": [
                "CREATE TRIGGER trg_logon_attempt ON ALL SERVER\r\n",
                "    WITH EXECUTE AS 'sa'\r\n",
                "        FOR LOGON\r\n",
                "AS\r\n",
                "    BEGIN\r\n",
                "        IF ORIGINAL_LOGIN() = 'nightworker'\r\n",
                "            AND DATEPART(hh, GETDATE()) BETWEEN 7 AND 18\r\n",
                "            BEGIN\r\n",
                "                ROLLBACK ;\r\n",
                "                INSERT ExampleAuditDB.dbo.RestrictedLogonAttempt\r\n",
                "                    (LoginNM, AttemptDT)\r\n",
                "                VALUES (ORIGINAL_LOGIN(), GETDATE()) ;\r\n",
                "            END\r\n",
                "    END\r\n",
                "GO"
            ],
            "metadata": {
                "azdata_cell_guid": "be3859ed-6072-4f7c-bb30-c9996dfcd8d4"
            },
            "outputs": [
                {
                    "output_type": "error",
                    "evalue": "Msg 2714, Level 16, State 2, Procedure trg_logon_attempt, Line 1\r\nThere is already an object named 'trg_logon_attempt' in the database.",
                    "ename": "",
                    "traceback": []
                },
                {
                    "output_type": "display_data",
                    "data": {
                        "text/html": "Total execution time: 00:00:00.009"
                    },
                    "metadata": {}
                }
            ],
            "execution_count": 18
        },
        {
            "cell_type": "code",
            "source": [
                "-- 20-8. Viewing DDL Trigger Metadata\r\n",
                "\r\n",
                "-- Show the DML triggers in the current database\r\n",
                "SELECT name TriggerNM,\r\n",
                "    is_disabled\r\n",
                "FROM sys.triggers\r\n",
                "WHERE parent_class_desc = 'DATABASE'\r\n",
                "ORDER BY OBJECT_NAME(parent_id),\r\n",
                "    Name ;"
            ],
            "metadata": {
                "azdata_cell_guid": "2a39ac55-5c2a-4181-b1f3-af20d5389b7d"
            },
            "outputs": [
                {
                    "output_type": "display_data",
                    "data": {
                        "text/html": "(0 rows affected)"
                    },
                    "metadata": {}
                },
                {
                    "output_type": "display_data",
                    "data": {
                        "text/html": "Total execution time: 00:00:00.025"
                    },
                    "metadata": {}
                },
                {
                    "output_type": "execute_result",
                    "metadata": {
                        "resultSet": {
                            "id": 0,
                            "batchId": 0,
                            "rowCount": 0,
                            "complete": false,
                            "columnInfo": [
                                {
                                    "isBytes": false,
                                    "isChars": true,
                                    "isSqlVariant": false,
                                    "isUdt": false,
                                    "isXml": false,
                                    "isJson": false,
                                    "sqlDbType": 12,
                                    "isHierarchyId": false,
                                    "isSqlXmlType": false,
                                    "isUnknownType": false,
                                    "isUpdatable": true,
                                    "allowDBNull": false,
                                    "baseCatalogName": null,
                                    "baseColumnName": null,
                                    "baseSchemaName": null,
                                    "baseServerName": null,
                                    "baseTableName": null,
                                    "columnName": "TriggerNM",
                                    "columnOrdinal": 0,
                                    "columnSize": 128,
                                    "isAliased": null,
                                    "isAutoIncrement": false,
                                    "isExpression": null,
                                    "isHidden": null,
                                    "isIdentity": false,
                                    "isKey": null,
                                    "isLong": false,
                                    "isReadOnly": false,
                                    "isUnique": false,
                                    "numericPrecision": 255,
                                    "numericScale": 255,
                                    "udtAssemblyQualifiedName": null,
                                    "dataType": "System.String, System.Private.CoreLib, Version=4.0.0.0, Culture=neutral, PublicKeyToken=7cec85d7bea7798e",
                                    "dataTypeName": "nvarchar"
                                },
                                {
                                    "isBytes": false,
                                    "isChars": false,
                                    "isSqlVariant": false,
                                    "isUdt": false,
                                    "isXml": false,
                                    "isJson": false,
                                    "sqlDbType": 2,
                                    "isHierarchyId": false,
                                    "isSqlXmlType": false,
                                    "isUnknownType": false,
                                    "isUpdatable": true,
                                    "allowDBNull": false,
                                    "baseCatalogName": null,
                                    "baseColumnName": null,
                                    "baseSchemaName": null,
                                    "baseServerName": null,
                                    "baseTableName": null,
                                    "columnName": "is_disabled",
                                    "columnOrdinal": 1,
                                    "columnSize": 1,
                                    "isAliased": null,
                                    "isAutoIncrement": false,
                                    "isExpression": null,
                                    "isHidden": null,
                                    "isIdentity": false,
                                    "isKey": null,
                                    "isLong": false,
                                    "isReadOnly": false,
                                    "isUnique": false,
                                    "numericPrecision": 255,
                                    "numericScale": 255,
                                    "udtAssemblyQualifiedName": null,
                                    "dataType": "System.Boolean, System.Private.CoreLib, Version=4.0.0.0, Culture=neutral, PublicKeyToken=7cec85d7bea7798e",
                                    "dataTypeName": "bit"
                                }
                            ],
                            "specialAction": null
                        }
                    },
                    "execution_count": 19,
                    "data": {
                        "application/vnd.dataresource+json": {
                            "schema": {
                                "fields": [
                                    {
                                        "name": "TriggerNM"
                                    },
                                    {
                                        "name": "is_disabled"
                                    }
                                ]
                            },
                            "data": []
                        },
                        "text/html": [
                            "<table>",
                            "<tr><th>TriggerNM</th><th>is_disabled</th></tr>",
                            "</table>"
                        ]
                    }
                }
            ],
            "execution_count": 19
        },
        {
            "cell_type": "code",
            "source": [
                "SELECT name,\r\n",
                "    s.type_desc S0L_or_CLR,\r\n",
                "    is_disabled,\r\n",
                "    e.type_desc FiringEvents\r\n",
                "FROM sys.server_triggers s\r\n",
                "    INNER JOIN sys.server_trigger_events e\r\n",
                "        ON s.object_id = e.object_id ;"
            ],
            "metadata": {
                "azdata_cell_guid": "448a3fc6-8145-4702-b558-ccb649f84b47"
            },
            "outputs": [
                {
                    "output_type": "display_data",
                    "data": {
                        "text/html": "(1 row affected)"
                    },
                    "metadata": {}
                },
                {
                    "output_type": "display_data",
                    "data": {
                        "text/html": "Total execution time: 00:00:00.052"
                    },
                    "metadata": {}
                },
                {
                    "output_type": "execute_result",
                    "metadata": {
                        "resultSet": {
                            "id": 0,
                            "batchId": 0,
                            "rowCount": 1,
                            "complete": true,
                            "columnInfo": [
                                {
                                    "isBytes": false,
                                    "isChars": true,
                                    "isSqlVariant": false,
                                    "isUdt": false,
                                    "isXml": false,
                                    "isJson": false,
                                    "sqlDbType": 12,
                                    "isHierarchyId": false,
                                    "isSqlXmlType": false,
                                    "isUnknownType": false,
                                    "isUpdatable": true,
                                    "allowDBNull": false,
                                    "baseCatalogName": null,
                                    "baseColumnName": null,
                                    "baseSchemaName": null,
                                    "baseServerName": null,
                                    "baseTableName": null,
                                    "columnName": "name",
                                    "columnOrdinal": 0,
                                    "columnSize": 128,
                                    "isAliased": null,
                                    "isAutoIncrement": false,
                                    "isExpression": null,
                                    "isHidden": null,
                                    "isIdentity": false,
                                    "isKey": null,
                                    "isLong": false,
                                    "isReadOnly": false,
                                    "isUnique": false,
                                    "numericPrecision": 255,
                                    "numericScale": 255,
                                    "udtAssemblyQualifiedName": null,
                                    "dataType": "System.String, System.Private.CoreLib, Version=4.0.0.0, Culture=neutral, PublicKeyToken=7cec85d7bea7798e",
                                    "dataTypeName": "nvarchar"
                                },
                                {
                                    "isBytes": false,
                                    "isChars": true,
                                    "isSqlVariant": false,
                                    "isUdt": false,
                                    "isXml": false,
                                    "isJson": false,
                                    "sqlDbType": 12,
                                    "isHierarchyId": false,
                                    "isSqlXmlType": false,
                                    "isUnknownType": false,
                                    "isUpdatable": true,
                                    "allowDBNull": true,
                                    "baseCatalogName": null,
                                    "baseColumnName": null,
                                    "baseSchemaName": null,
                                    "baseServerName": null,
                                    "baseTableName": null,
                                    "columnName": "S0L_or_CLR",
                                    "columnOrdinal": 1,
                                    "columnSize": 60,
                                    "isAliased": null,
                                    "isAutoIncrement": false,
                                    "isExpression": null,
                                    "isHidden": null,
                                    "isIdentity": false,
                                    "isKey": null,
                                    "isLong": false,
                                    "isReadOnly": false,
                                    "isUnique": false,
                                    "numericPrecision": 255,
                                    "numericScale": 255,
                                    "udtAssemblyQualifiedName": null,
                                    "dataType": "System.String, System.Private.CoreLib, Version=4.0.0.0, Culture=neutral, PublicKeyToken=7cec85d7bea7798e",
                                    "dataTypeName": "nvarchar"
                                },
                                {
                                    "isBytes": false,
                                    "isChars": false,
                                    "isSqlVariant": false,
                                    "isUdt": false,
                                    "isXml": false,
                                    "isJson": false,
                                    "sqlDbType": 2,
                                    "isHierarchyId": false,
                                    "isSqlXmlType": false,
                                    "isUnknownType": false,
                                    "isUpdatable": false,
                                    "allowDBNull": false,
                                    "baseCatalogName": null,
                                    "baseColumnName": null,
                                    "baseSchemaName": null,
                                    "baseServerName": null,
                                    "baseTableName": null,
                                    "columnName": "is_disabled",
                                    "columnOrdinal": 2,
                                    "columnSize": 1,
                                    "isAliased": null,
                                    "isAutoIncrement": false,
                                    "isExpression": null,
                                    "isHidden": null,
                                    "isIdentity": false,
                                    "isKey": null,
                                    "isLong": false,
                                    "isReadOnly": true,
                                    "isUnique": false,
                                    "numericPrecision": 255,
                                    "numericScale": 255,
                                    "udtAssemblyQualifiedName": null,
                                    "dataType": "System.Boolean, System.Private.CoreLib, Version=4.0.0.0, Culture=neutral, PublicKeyToken=7cec85d7bea7798e",
                                    "dataTypeName": "bit"
                                },
                                {
                                    "isBytes": false,
                                    "isChars": true,
                                    "isSqlVariant": false,
                                    "isUdt": false,
                                    "isXml": false,
                                    "isJson": false,
                                    "sqlDbType": 12,
                                    "isHierarchyId": false,
                                    "isSqlXmlType": false,
                                    "isUnknownType": false,
                                    "isUpdatable": true,
                                    "allowDBNull": false,
                                    "baseCatalogName": null,
                                    "baseColumnName": null,
                                    "baseSchemaName": null,
                                    "baseServerName": null,
                                    "baseTableName": null,
                                    "columnName": "FiringEvents",
                                    "columnOrdinal": 3,
                                    "columnSize": 128,
                                    "isAliased": null,
                                    "isAutoIncrement": false,
                                    "isExpression": null,
                                    "isHidden": null,
                                    "isIdentity": false,
                                    "isKey": null,
                                    "isLong": false,
                                    "isReadOnly": false,
                                    "isUnique": false,
                                    "numericPrecision": 255,
                                    "numericScale": 255,
                                    "udtAssemblyQualifiedName": null,
                                    "dataType": "System.String, System.Private.CoreLib, Version=4.0.0.0, Culture=neutral, PublicKeyToken=7cec85d7bea7798e",
                                    "dataTypeName": "nvarchar"
                                }
                            ],
                            "specialAction": {
                                "none": true,
                                "expectYukonXMLShowPlan": false
                            }
                        }
                    },
                    "execution_count": 20,
                    "data": {
                        "application/vnd.dataresource+json": {
                            "schema": {
                                "fields": [
                                    {
                                        "name": "name"
                                    },
                                    {
                                        "name": "S0L_or_CLR"
                                    },
                                    {
                                        "name": "is_disabled"
                                    },
                                    {
                                        "name": "FiringEvents"
                                    }
                                ]
                            },
                            "data": [
                                {
                                    "0": "trg_logon_attempt",
                                    "1": "SQL_TRIGGER",
                                    "2": "0",
                                    "3": "LOGON"
                                }
                            ]
                        },
                        "text/html": [
                            "<table>",
                            "<tr><th>name</th><th>S0L_or_CLR</th><th>is_disabled</th><th>FiringEvents</th></tr>",
                            "<tr><td>trg_logon_attempt</td><td>SQL_TRIGGER</td><td>0</td><td>LOGON</td></tr>",
                            "</table>"
                        ]
                    }
                }
            ],
            "execution_count": 20
        },
        {
            "cell_type": "code",
            "source": [
                "SELECT t.name,\r\n",
                "    m.Definition\r\n",
                "FROM sys.triggers AS t\r\n",
                "    INNER JOIN sys.sql_modules m\r\n",
                "        ON t.object_id = m.object_id\r\n",
                "WHERE t.parent_class_desc = 'DATABASE' ;"
            ],
            "metadata": {
                "azdata_cell_guid": "9c1b1bb6-533c-4761-af11-351244c8c5da"
            },
            "outputs": [
                {
                    "output_type": "display_data",
                    "data": {
                        "text/html": "(0 rows affected)"
                    },
                    "metadata": {}
                },
                {
                    "output_type": "display_data",
                    "data": {
                        "text/html": "Total execution time: 00:00:00.021"
                    },
                    "metadata": {}
                },
                {
                    "output_type": "execute_result",
                    "metadata": {
                        "resultSet": {
                            "id": 0,
                            "batchId": 0,
                            "rowCount": 0,
                            "complete": false,
                            "columnInfo": [
                                {
                                    "isBytes": false,
                                    "isChars": true,
                                    "isSqlVariant": false,
                                    "isUdt": false,
                                    "isXml": false,
                                    "isJson": false,
                                    "sqlDbType": 12,
                                    "isHierarchyId": false,
                                    "isSqlXmlType": false,
                                    "isUnknownType": false,
                                    "isUpdatable": true,
                                    "allowDBNull": false,
                                    "baseCatalogName": null,
                                    "baseColumnName": null,
                                    "baseSchemaName": null,
                                    "baseServerName": null,
                                    "baseTableName": null,
                                    "columnName": "name",
                                    "columnOrdinal": 0,
                                    "columnSize": 128,
                                    "isAliased": null,
                                    "isAutoIncrement": false,
                                    "isExpression": null,
                                    "isHidden": null,
                                    "isIdentity": false,
                                    "isKey": null,
                                    "isLong": false,
                                    "isReadOnly": false,
                                    "isUnique": false,
                                    "numericPrecision": 255,
                                    "numericScale": 255,
                                    "udtAssemblyQualifiedName": null,
                                    "dataType": "System.String, System.Private.CoreLib, Version=4.0.0.0, Culture=neutral, PublicKeyToken=7cec85d7bea7798e",
                                    "dataTypeName": "nvarchar"
                                },
                                {
                                    "isBytes": false,
                                    "isChars": true,
                                    "isSqlVariant": false,
                                    "isUdt": false,
                                    "isXml": false,
                                    "isJson": false,
                                    "sqlDbType": 12,
                                    "isHierarchyId": false,
                                    "isSqlXmlType": false,
                                    "isUnknownType": false,
                                    "isUpdatable": false,
                                    "allowDBNull": true,
                                    "baseCatalogName": null,
                                    "baseColumnName": null,
                                    "baseSchemaName": null,
                                    "baseServerName": null,
                                    "baseTableName": null,
                                    "columnName": "Definition",
                                    "columnOrdinal": 1,
                                    "columnSize": 2147483647,
                                    "isAliased": null,
                                    "isAutoIncrement": false,
                                    "isExpression": null,
                                    "isHidden": null,
                                    "isIdentity": false,
                                    "isKey": null,
                                    "isLong": true,
                                    "isReadOnly": true,
                                    "isUnique": false,
                                    "numericPrecision": 255,
                                    "numericScale": 255,
                                    "udtAssemblyQualifiedName": null,
                                    "dataType": "System.String, System.Private.CoreLib, Version=4.0.0.0, Culture=neutral, PublicKeyToken=7cec85d7bea7798e",
                                    "dataTypeName": "nvarchar"
                                }
                            ],
                            "specialAction": null
                        }
                    },
                    "execution_count": 21,
                    "data": {
                        "application/vnd.dataresource+json": {
                            "schema": {
                                "fields": [
                                    {
                                        "name": "name"
                                    },
                                    {
                                        "name": "Definition"
                                    }
                                ]
                            },
                            "data": []
                        },
                        "text/html": [
                            "<table>",
                            "<tr><th>name</th><th>Definition</th></tr>",
                            "</table>"
                        ]
                    }
                }
            ],
            "execution_count": 21
        },
        {
            "cell_type": "code",
            "source": [
                "SELECT t.name,\r\n",
                "    m.definition\r\n",
                "FROM sys.server_sql_modules m\r\n",
                "    INNER JOIN sys.server_triggers t\r\n",
                "        ON m.object_id = t.object_id ;"
            ],
            "metadata": {
                "azdata_cell_guid": "34e9c476-0f46-4167-b33a-8084cb4d4812"
            },
            "outputs": [
                {
                    "output_type": "display_data",
                    "data": {
                        "text/html": "(1 row affected)"
                    },
                    "metadata": {}
                },
                {
                    "output_type": "display_data",
                    "data": {
                        "text/html": "Total execution time: 00:00:00.039"
                    },
                    "metadata": {}
                },
                {
                    "output_type": "execute_result",
                    "metadata": {
                        "resultSet": {
                            "id": 0,
                            "batchId": 0,
                            "rowCount": 1,
                            "complete": true,
                            "columnInfo": [
                                {
                                    "isBytes": false,
                                    "isChars": true,
                                    "isSqlVariant": false,
                                    "isUdt": false,
                                    "isXml": false,
                                    "isJson": false,
                                    "sqlDbType": 12,
                                    "isHierarchyId": false,
                                    "isSqlXmlType": false,
                                    "isUnknownType": false,
                                    "isUpdatable": true,
                                    "allowDBNull": false,
                                    "baseCatalogName": null,
                                    "baseColumnName": null,
                                    "baseSchemaName": null,
                                    "baseServerName": null,
                                    "baseTableName": null,
                                    "columnName": "name",
                                    "columnOrdinal": 0,
                                    "columnSize": 128,
                                    "isAliased": null,
                                    "isAutoIncrement": false,
                                    "isExpression": null,
                                    "isHidden": null,
                                    "isIdentity": false,
                                    "isKey": null,
                                    "isLong": false,
                                    "isReadOnly": false,
                                    "isUnique": false,
                                    "numericPrecision": 255,
                                    "numericScale": 255,
                                    "udtAssemblyQualifiedName": null,
                                    "dataType": "System.String, System.Private.CoreLib, Version=4.0.0.0, Culture=neutral, PublicKeyToken=7cec85d7bea7798e",
                                    "dataTypeName": "nvarchar"
                                },
                                {
                                    "isBytes": false,
                                    "isChars": true,
                                    "isSqlVariant": false,
                                    "isUdt": false,
                                    "isXml": false,
                                    "isJson": false,
                                    "sqlDbType": 12,
                                    "isHierarchyId": false,
                                    "isSqlXmlType": false,
                                    "isUnknownType": false,
                                    "isUpdatable": false,
                                    "allowDBNull": true,
                                    "baseCatalogName": null,
                                    "baseColumnName": null,
                                    "baseSchemaName": null,
                                    "baseServerName": null,
                                    "baseTableName": null,
                                    "columnName": "definition",
                                    "columnOrdinal": 1,
                                    "columnSize": 2147483647,
                                    "isAliased": null,
                                    "isAutoIncrement": false,
                                    "isExpression": null,
                                    "isHidden": null,
                                    "isIdentity": false,
                                    "isKey": null,
                                    "isLong": true,
                                    "isReadOnly": true,
                                    "isUnique": false,
                                    "numericPrecision": 255,
                                    "numericScale": 255,
                                    "udtAssemblyQualifiedName": null,
                                    "dataType": "System.String, System.Private.CoreLib, Version=4.0.0.0, Culture=neutral, PublicKeyToken=7cec85d7bea7798e",
                                    "dataTypeName": "nvarchar"
                                }
                            ],
                            "specialAction": {
                                "none": true,
                                "expectYukonXMLShowPlan": false
                            }
                        }
                    },
                    "execution_count": 22,
                    "data": {
                        "application/vnd.dataresource+json": {
                            "schema": {
                                "fields": [
                                    {
                                        "name": "name"
                                    },
                                    {
                                        "name": "definition"
                                    }
                                ]
                            },
                            "data": [
                                {
                                    "0": "trg_logon_attempt",
                                    "1": "CREATE TRIGGER trg_logon_attempt ON ALL SERVER\r\n    WITH EXECUTE AS 'sa'\r\n        FOR LOGON\r\nAS\r\n    BEGIN\r\n        IF ORIGINAL_LOGIN() = 'nightworker'\r\n            AND DATEPART(hh, GETDATE()) BETWEEN 7 AND 18\r\n            BEGIN\r\n                --ROLLBACK ;\r\n                INSERT ExampleAuditDB.dbo.RestrictedLogonAttempt\r\n                    (LoginNM, AttemptDT)\r\n                VALUES (ORIGINAL_LOGIN(), GETDATE()) ;\r\n            END\r\n    END\r\n"
                                }
                            ]
                        },
                        "text/html": [
                            "<table>",
                            "<tr><th>name</th><th>definition</th></tr>",
                            "<tr><td>trg_logon_attempt</td><td>CREATE TRIGGER trg_logon_attempt ON ALL SERVER\r\n    WITH EXECUTE AS 'sa'\r\n        FOR LOGON\r\nAS\r\n    BEGIN\r\n        IF ORIGINAL_LOGIN() = 'nightworker'\r\n            AND DATEPART(hh, GETDATE()) BETWEEN 7 AND 18\r\n            BEGIN\r\n                --ROLLBACK ;\r\n                INSERT ExampleAuditDB.dbo.RestrictedLogonAttempt\r\n                    (LoginNM, AttemptDT)\r\n                VALUES (ORIGINAL_LOGIN(), GETDATE()) ;\r\n            END\r\n    END\r\n</td></tr>",
                            "</table>"
                        ]
                    }
                }
            ],
            "execution_count": 22
        },
        {
            "cell_type": "code",
            "source": [
                "-- 20-9. Modifying a Trigger\r\n",
                "\r\n",
                "USE master ;\r\n",
                "GO\r\n",
                "ALTER TRIGGER trg_logon_attempt ON ALL SERVER\r\n",
                "    WITH EXECUTE AS 'sa'\r\n",
                "        FOR LOGON\r\n",
                "AS\r\n",
                "    BEGIN\r\n",
                "        IF ORIGINAL_LOGIN() = 'nightworker'\r\n",
                "            AND DATEPART(hh, GETDATE()) BETWEEN 7 AND 18\r\n",
                "            BEGIN\r\n",
                "                --ROLLBACK ;\r\n",
                "                INSERT ExampleAuditDB.dbo.RestrictedLogonAttempt\r\n",
                "                    (LoginNM, AttemptDT)\r\n",
                "                VALUES (ORIGINAL_LOGIN(), GETDATE()) ;\r\n",
                "            END\r\n",
                "    END\r\n",
                "GO"
            ],
            "metadata": {
                "azdata_cell_guid": "fb33a23e-b40b-4e83-a982-755933cd614b"
            },
            "outputs": [
                {
                    "output_type": "display_data",
                    "data": {
                        "text/html": "Commands completed successfully."
                    },
                    "metadata": {}
                },
                {
                    "output_type": "display_data",
                    "data": {
                        "text/html": "Commands completed successfully."
                    },
                    "metadata": {}
                },
                {
                    "output_type": "display_data",
                    "data": {
                        "text/html": "Total execution time: 00:00:00.011"
                    },
                    "metadata": {}
                }
            ],
            "execution_count": 23
        },
        {
            "cell_type": "code",
            "source": [
                "SELECT LoginNM,\r\n",
                "    AttemptDT\r\n",
                "FROM ExampleAuditDB.dbo.RestrictedLogonAttempt ;"
            ],
            "metadata": {
                "azdata_cell_guid": "fa997c30-257e-4d7d-b36b-54462f758146"
            },
            "outputs": [
                {
                    "output_type": "display_data",
                    "data": {
                        "text/html": "(0 rows affected)"
                    },
                    "metadata": {}
                },
                {
                    "output_type": "display_data",
                    "data": {
                        "text/html": "Total execution time: 00:00:00.017"
                    },
                    "metadata": {}
                },
                {
                    "output_type": "execute_result",
                    "metadata": {
                        "resultSet": {
                            "id": 0,
                            "batchId": 0,
                            "rowCount": 0,
                            "complete": false,
                            "columnInfo": [
                                {
                                    "isBytes": false,
                                    "isChars": true,
                                    "isSqlVariant": false,
                                    "isUdt": false,
                                    "isXml": false,
                                    "isJson": false,
                                    "sqlDbType": 12,
                                    "isHierarchyId": false,
                                    "isSqlXmlType": false,
                                    "isUnknownType": false,
                                    "isUpdatable": true,
                                    "allowDBNull": false,
                                    "baseCatalogName": null,
                                    "baseColumnName": null,
                                    "baseSchemaName": null,
                                    "baseServerName": null,
                                    "baseTableName": null,
                                    "columnName": "LoginNM",
                                    "columnOrdinal": 0,
                                    "columnSize": 128,
                                    "isAliased": null,
                                    "isAutoIncrement": false,
                                    "isExpression": null,
                                    "isHidden": null,
                                    "isIdentity": false,
                                    "isKey": null,
                                    "isLong": false,
                                    "isReadOnly": false,
                                    "isUnique": false,
                                    "numericPrecision": 255,
                                    "numericScale": 255,
                                    "udtAssemblyQualifiedName": null,
                                    "dataType": "System.String, System.Private.CoreLib, Version=4.0.0.0, Culture=neutral, PublicKeyToken=7cec85d7bea7798e",
                                    "dataTypeName": "nvarchar"
                                },
                                {
                                    "isBytes": false,
                                    "isChars": false,
                                    "isSqlVariant": false,
                                    "isUdt": false,
                                    "isXml": false,
                                    "isJson": false,
                                    "sqlDbType": 4,
                                    "isHierarchyId": false,
                                    "isSqlXmlType": false,
                                    "isUnknownType": false,
                                    "isUpdatable": true,
                                    "allowDBNull": false,
                                    "baseCatalogName": null,
                                    "baseColumnName": null,
                                    "baseSchemaName": null,
                                    "baseServerName": null,
                                    "baseTableName": null,
                                    "columnName": "AttemptDT",
                                    "columnOrdinal": 1,
                                    "columnSize": 8,
                                    "isAliased": null,
                                    "isAutoIncrement": false,
                                    "isExpression": null,
                                    "isHidden": null,
                                    "isIdentity": false,
                                    "isKey": null,
                                    "isLong": false,
                                    "isReadOnly": false,
                                    "isUnique": false,
                                    "numericPrecision": 23,
                                    "numericScale": 3,
                                    "udtAssemblyQualifiedName": null,
                                    "dataType": "System.DateTime, System.Private.CoreLib, Version=4.0.0.0, Culture=neutral, PublicKeyToken=7cec85d7bea7798e",
                                    "dataTypeName": "datetime"
                                }
                            ],
                            "specialAction": null
                        }
                    },
                    "execution_count": 24,
                    "data": {
                        "application/vnd.dataresource+json": {
                            "schema": {
                                "fields": [
                                    {
                                        "name": "LoginNM"
                                    },
                                    {
                                        "name": "AttemptDT"
                                    }
                                ]
                            },
                            "data": []
                        },
                        "text/html": [
                            "<table>",
                            "<tr><th>LoginNM</th><th>AttemptDT</th></tr>",
                            "</table>"
                        ]
                    }
                }
            ],
            "execution_count": 24
        },
        {
            "cell_type": "code",
            "source": [
                "-- 20-10. Enabling and Disabling a Trigger\r\n",
                "\r\n",
                "USE AdventureWorks2014;\r\n",
                "\r\n",
                "DISABLE TRIGGER HumanResources.trg_U_Department\r\n",
                "ON HumanResources.Department;"
            ],
            "metadata": {
                "azdata_cell_guid": "8671f8ac-5d90-4828-81b1-00d691c39232"
            },
            "outputs": [
                {
                    "output_type": "display_data",
                    "data": {
                        "text/html": "Commands completed successfully."
                    },
                    "metadata": {}
                },
                {
                    "output_type": "display_data",
                    "data": {
                        "text/html": "Total execution time: 00:00:00.010"
                    },
                    "metadata": {}
                }
            ],
            "execution_count": 25
        },
        {
            "cell_type": "code",
            "source": [
                "INSERT HumanResources.Department\r\n",
                "    (Name,\r\n",
                "    GroupName)\r\n",
                "VALUES ('Construction',\r\n",
                "    'Building Services') ;"
            ],
            "metadata": {
                "azdata_cell_guid": "319d183e-c698-48e7-b7d3-050154527858"
            },
            "outputs": [
                {
                    "output_type": "error",
                    "evalue": "Msg 2601, Level 14, State 1, Line 1\r\nCannot insert duplicate key row in object 'HumanResources.Department' with unique index 'AK_Department_Name'. The duplicate key value is (Construction).",
                    "ename": "",
                    "traceback": []
                },
                {
                    "output_type": "display_data",
                    "data": {
                        "text/html": "The statement has been terminated."
                    },
                    "metadata": {}
                },
                {
                    "output_type": "display_data",
                    "data": {
                        "text/html": "Total execution time: 00:00:00.011"
                    },
                    "metadata": {}
                }
            ],
            "execution_count": 26
        },
        {
            "cell_type": "code",
            "source": [
                "INSERT HumanResources.Department\r\n",
                "    (Name, GroupName)\r\n",
                "VALUES ('Cleaning', 'Building Services') ;"
            ],
            "metadata": {
                "azdata_cell_guid": "ec03908c-f5bc-49cd-aaa2-4311f184b853"
            },
            "outputs": [
                {
                    "output_type": "error",
                    "evalue": "Msg 2601, Level 14, State 1, Line 1\r\nCannot insert duplicate key row in object 'HumanResources.Department' with unique index 'AK_Department_Name'. The duplicate key value is (Cleaning).",
                    "ename": "",
                    "traceback": []
                },
                {
                    "output_type": "display_data",
                    "data": {
                        "text/html": "The statement has been terminated."
                    },
                    "metadata": {}
                },
                {
                    "output_type": "display_data",
                    "data": {
                        "text/html": "Total execution time: 00:00:00.003"
                    },
                    "metadata": {}
                }
            ],
            "execution_count": 27
        },
        {
            "cell_type": "code",
            "source": [
                "-- 20-11. Nesting Triggers\r\n",
                "\r\n",
                "USE master ;\r\n",
                "GO\r\n",
                "-- Disable nesting\r\n",
                "EXEC sp_configure 'nested triggers', 0 ;\r\n",
                "RECONFIGURE WITH OVERRIDE ;\r\n",
                "GO\r\n",
                "-- Enable nesting\r\n",
                "EXEC sp_configure 'nested triggers', 1 ;\r\n",
                "RECONFIGURE WITH OVERRIDE ;\r\n",
                "GO"
            ],
            "metadata": {
                "azdata_cell_guid": "fb8aa015-aa8f-40ba-bf88-af2eac2f6b04"
            },
            "outputs": [
                {
                    "output_type": "display_data",
                    "data": {
                        "text/html": "Commands completed successfully."
                    },
                    "metadata": {}
                },
                {
                    "output_type": "display_data",
                    "data": {
                        "text/html": "Configuration option 'nested triggers' changed from 1 to 0. Run the RECONFIGURE statement to install."
                    },
                    "metadata": {}
                },
                {
                    "output_type": "display_data",
                    "data": {
                        "text/html": "Configuration option 'nested triggers' changed from 0 to 1. Run the RECONFIGURE statement to install."
                    },
                    "metadata": {}
                },
                {
                    "output_type": "display_data",
                    "data": {
                        "text/html": "Total execution time: 00:00:00.068"
                    },
                    "metadata": {}
                }
            ],
            "execution_count": 28
        },
        {
            "cell_type": "code",
            "source": [
                "-- 20-12. Controlling Recursion\r\n",
                "\r\n",
                "-- Allow recursion\r\n",
                "ALTER DATABASE AdventureWorks2014\r\n",
                "SET RECURSIVE_TRIGGERS ON ;\r\n",
                "\r\n",
                "-- View the db setting\r\n",
                "SELECT is_recursive_triggers_on\r\n",
                "FROM sys.databases\r\n",
                "WHERE name = 'AdventureWorks2012' ;\r\n",
                "\r\n",
                "-- Prevents recursion\r\n",
                "ALTER DATABASE AdventureWorks2012\r\n",
                "SET RECURSIVE_TRIGGERS OFF ;\r\n",
                "\r\n",
                "-- View the db setting\r\n",
                "SELECT is_recursive_triggers_on\r\n",
                "FROM sys.databases\r\n",
                "WHERE name = 'AdventureWorks2012' ;"
            ],
            "metadata": {
                "azdata_cell_guid": "966636f1-53d0-4e3b-80e9-738222efda0b"
            },
            "outputs": [
                {
                    "output_type": "display_data",
                    "data": {
                        "text/html": "(0 rows affected)"
                    },
                    "metadata": {}
                },
                {
                    "output_type": "display_data",
                    "data": {
                        "text/html": "(0 rows affected)"
                    },
                    "metadata": {}
                },
                {
                    "output_type": "display_data",
                    "data": {
                        "text/html": "Total execution time: 00:00:00.118"
                    },
                    "metadata": {}
                },
                {
                    "output_type": "execute_result",
                    "metadata": {
                        "resultSet": {
                            "id": 0,
                            "batchId": 0,
                            "rowCount": 0,
                            "complete": false,
                            "columnInfo": [
                                {
                                    "isBytes": false,
                                    "isChars": false,
                                    "isSqlVariant": false,
                                    "isUdt": false,
                                    "isXml": false,
                                    "isJson": false,
                                    "sqlDbType": 2,
                                    "isHierarchyId": false,
                                    "isSqlXmlType": false,
                                    "isUnknownType": false,
                                    "isUpdatable": false,
                                    "allowDBNull": true,
                                    "baseCatalogName": null,
                                    "baseColumnName": null,
                                    "baseSchemaName": null,
                                    "baseServerName": null,
                                    "baseTableName": null,
                                    "columnName": "is_recursive_triggers_on",
                                    "columnOrdinal": 0,
                                    "columnSize": 1,
                                    "isAliased": null,
                                    "isAutoIncrement": false,
                                    "isExpression": null,
                                    "isHidden": null,
                                    "isIdentity": false,
                                    "isKey": null,
                                    "isLong": false,
                                    "isReadOnly": true,
                                    "isUnique": false,
                                    "numericPrecision": 255,
                                    "numericScale": 255,
                                    "udtAssemblyQualifiedName": null,
                                    "dataType": "System.Boolean, System.Private.CoreLib, Version=4.0.0.0, Culture=neutral, PublicKeyToken=7cec85d7bea7798e",
                                    "dataTypeName": "bit"
                                }
                            ],
                            "specialAction": null
                        }
                    },
                    "execution_count": 29,
                    "data": {
                        "application/vnd.dataresource+json": {
                            "schema": {
                                "fields": [
                                    {
                                        "name": "is_recursive_triggers_on"
                                    }
                                ]
                            },
                            "data": []
                        },
                        "text/html": [
                            "<table>",
                            "<tr><th>is_recursive_triggers_on</th></tr>",
                            "</table>"
                        ]
                    }
                },
                {
                    "output_type": "execute_result",
                    "metadata": {
                        "resultSet": {
                            "id": 1,
                            "batchId": 0,
                            "rowCount": 0,
                            "complete": false,
                            "columnInfo": [
                                {
                                    "isBytes": false,
                                    "isChars": false,
                                    "isSqlVariant": false,
                                    "isUdt": false,
                                    "isXml": false,
                                    "isJson": false,
                                    "sqlDbType": 2,
                                    "isHierarchyId": false,
                                    "isSqlXmlType": false,
                                    "isUnknownType": false,
                                    "isUpdatable": false,
                                    "allowDBNull": true,
                                    "baseCatalogName": null,
                                    "baseColumnName": null,
                                    "baseSchemaName": null,
                                    "baseServerName": null,
                                    "baseTableName": null,
                                    "columnName": "is_recursive_triggers_on",
                                    "columnOrdinal": 0,
                                    "columnSize": 1,
                                    "isAliased": null,
                                    "isAutoIncrement": false,
                                    "isExpression": null,
                                    "isHidden": null,
                                    "isIdentity": false,
                                    "isKey": null,
                                    "isLong": false,
                                    "isReadOnly": true,
                                    "isUnique": false,
                                    "numericPrecision": 255,
                                    "numericScale": 255,
                                    "udtAssemblyQualifiedName": null,
                                    "dataType": "System.Boolean, System.Private.CoreLib, Version=4.0.0.0, Culture=neutral, PublicKeyToken=7cec85d7bea7798e",
                                    "dataTypeName": "bit"
                                }
                            ],
                            "specialAction": null
                        }
                    },
                    "execution_count": 29,
                    "data": {
                        "application/vnd.dataresource+json": {
                            "schema": {
                                "fields": [
                                    {
                                        "name": "is_recursive_triggers_on"
                                    }
                                ]
                            },
                            "data": []
                        },
                        "text/html": [
                            "<table>",
                            "<tr><th>is_recursive_triggers_on</th></tr>",
                            "</table>"
                        ]
                    }
                },
                {
                    "output_type": "error",
                    "evalue": "Msg 5011, Level 14, State 5, Line 13\r\nUser does not have permission to alter database 'AdventureWorks2012', the database does not exist, or the database is not in a state that allows access checks.",
                    "ename": "",
                    "traceback": []
                },
                {
                    "output_type": "error",
                    "evalue": "Msg 5069, Level 16, State 1, Line 13\r\nALTER DATABASE statement failed.",
                    "ename": "",
                    "traceback": []
                }
            ],
            "execution_count": 29
        },
        {
            "cell_type": "code",
            "source": [
                "-- 20-13. Specifying the Firing Order\r\n",
                "\r\n",
                "CREATE TABLE dbo.TestTriggerOrder (TestID INT NOT NULL) ;\r\n",
                "GO\r\n",
                "CREATE TRIGGER dbo.trg_i_TestTriggerOrder ON dbo.TestTriggerOrder\r\n",
                "    AFTER INSERT\r\n",
                "AS\r\n",
                "    PRINT 'I will be fired first.' ;\r\n",
                "GO\r\n",
                "\r\n",
                "CREATE TRIGGER dbo.trg_i_TestTriggerOrder2 ON dbo.TestTriggerOrder\r\n",
                "    AFTER INSERT\r\n",
                "AS\r\n",
                "    PRINT 'I will be fired last.' ;\r\n",
                "GO\r\n",
                "\r\n",
                "CREATE TRIGGER dbo.trg_i_TestTriggerOrder3 ON dbo.TestTriggerOrder\r\n",
                "    AFTER INSERT\r\n",
                "AS\r\n",
                "    PRINT 'I will be somewhere in the middle.' ;\r\n",
                "GO\r\n",
                "\r\n",
                "EXEC sp_settriggerorder 'trg_i_TestTriggerOrder', 'First', 'INSERT' ;\r\n",
                "EXEC sp_settriggerorder 'trg_i_TestTriggerOrder2', 'Last', 'INSERT' ;\r\n",
                "\r\n",
                "INSERT dbo.TestTriggerOrder\r\n",
                "    (TestID)\r\n",
                "VALUES (1) ;"
            ],
            "metadata": {
                "azdata_cell_guid": "e43c9b66-5974-46d0-a151-b0606f6e7da5"
            },
            "outputs": [
                {
                    "output_type": "error",
                    "evalue": "Msg 2714, Level 16, State 6, Line 3\r\nThere is already an object named 'TestTriggerOrder' in the database.",
                    "ename": "",
                    "traceback": []
                },
                {
                    "output_type": "error",
                    "evalue": "Msg 2714, Level 16, State 2, Procedure trg_i_TestTriggerOrder, Line 1\r\nThere is already an object named 'trg_i_TestTriggerOrder' in the database.",
                    "ename": "",
                    "traceback": []
                },
                {
                    "output_type": "error",
                    "evalue": "Msg 2714, Level 16, State 2, Procedure trg_i_TestTriggerOrder2, Line 2\r\nThere is already an object named 'trg_i_TestTriggerOrder2' in the database.",
                    "ename": "",
                    "traceback": []
                },
                {
                    "output_type": "error",
                    "evalue": "Msg 2714, Level 16, State 2, Procedure trg_i_TestTriggerOrder3, Line 2\r\nThere is already an object named 'trg_i_TestTriggerOrder3' in the database.",
                    "ename": "",
                    "traceback": []
                },
                {
                    "output_type": "display_data",
                    "data": {
                        "text/html": "I will be fired first."
                    },
                    "metadata": {}
                },
                {
                    "output_type": "display_data",
                    "data": {
                        "text/html": "I will be somewhere in the middle."
                    },
                    "metadata": {}
                },
                {
                    "output_type": "display_data",
                    "data": {
                        "text/html": "I will be fired last."
                    },
                    "metadata": {}
                },
                {
                    "output_type": "display_data",
                    "data": {
                        "text/html": "(1 row affected)"
                    },
                    "metadata": {}
                },
                {
                    "output_type": "display_data",
                    "data": {
                        "text/html": "Total execution time: 00:00:00.118"
                    },
                    "metadata": {}
                }
            ],
            "execution_count": 30
        },
        {
            "cell_type": "code",
            "source": [
                "-- 20-14. Dropping a Trigger\r\n",
                "\r\n",
                "-- Switch context back to the AdventureWorks2012 database\r\n",
                "USE AdventureWorks2014 ;\r\n",
                "GO\r\n",
                "-- Drop a DML trigger\r\n",
                "DROP TRIGGER dbo.trg_i_TestTriggerOrder ;\r\n",
                "-- Drop multiple DML triggers\r\n",
                "DROP TRIGGER dbo.trg_i_TestTriggerOrder2, dbo.trg_i_TestTriggerOrder3 ;\r\n",
                "-- Drop a DDL trigger\r\n",
                "DROP TRIGGER db_trg_INDEXChanges\r\n",
                "ON DATABASE ;"
            ],
            "metadata": {
                "azdata_cell_guid": "ce6bd345-08c4-4658-9166-8b7aefb9692b"
            },
            "outputs": [
                {
                    "output_type": "display_data",
                    "data": {
                        "text/html": "Commands completed successfully."
                    },
                    "metadata": {}
                },
                {
                    "output_type": "error",
                    "evalue": "Msg 3701, Level 11, State 5, Line 7\r\nCannot drop the trigger 'dbo.trg_i_TestTriggerOrder', because it does not exist or you do not have permission.",
                    "ename": "",
                    "traceback": []
                },
                {
                    "output_type": "error",
                    "evalue": "Msg 3701, Level 11, State 5, Line 9\r\nCannot drop the trigger 'dbo.trg_i_TestTriggerOrder2', because it does not exist or you do not have permission.",
                    "ename": "",
                    "traceback": []
                },
                {
                    "output_type": "error",
                    "evalue": "Msg 3701, Level 11, State 5, Line 9\r\nCannot drop the trigger 'dbo.trg_i_TestTriggerOrder3', because it does not exist or you do not have permission.",
                    "ename": "",
                    "traceback": []
                },
                {
                    "output_type": "display_data",
                    "data": {
                        "text/html": "Total execution time: 00:00:00.018"
                    },
                    "metadata": {}
                }
            ],
            "execution_count": 31
        }
    ]
}