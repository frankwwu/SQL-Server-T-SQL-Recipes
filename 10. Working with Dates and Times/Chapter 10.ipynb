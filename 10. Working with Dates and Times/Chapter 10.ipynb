{
    "metadata": {
        "kernelspec": {
            "name": "SQL",
            "display_name": "SQL",
            "language": "sql"
        },
        "language_info": {
            "name": "sql",
            "version": ""
        }
    },
    "nbformat_minor": 2,
    "nbformat": 4,
    "cells": [
        {
            "cell_type": "code",
            "source": [
                "USE AdventureWorks2014\r\n",
                "SET NOCOUNT ON;"
            ],
            "metadata": {
                "azdata_cell_guid": "9c3164f4-e699-46e6-8496-060fef95c52f"
            },
            "outputs": [
                {
                    "output_type": "display_data",
                    "data": {
                        "text/html": "Commands completed successfully."
                    },
                    "metadata": {}
                },
                {
                    "output_type": "display_data",
                    "data": {
                        "text/html": "Total execution time: 00:00:00.051"
                    },
                    "metadata": {}
                }
            ],
            "execution_count": 1
        },
        {
            "cell_type": "code",
            "source": [
                "-- recipe 10.1\r\n",
                "SELECT 'GETDATE()' AS [Function],           GETDATE() AS [Value];\r\n",
                "SELECT 'CURRENT_TIMESTAMP'AS [Function],    CURRENT_TIMESTAMP AS [Value];\r\n",
                "SELECT 'GETUTCDATE()' AS [Function],        GETUTCDATE() AS [Value];\r\n",
                "SELECT 'SYSDATETIME()' AS [Function],       SYSDATETIME() AS [Value];\r\n",
                "SELECT 'SYSUTCDATETIME()' AS [Function],    SYSUTCDATETIME() AS [Value];\r\n",
                "SELECT 'SYSDATETIMEOFFSET()' AS [Function], SYSDATETIMEOFFSET() AS [Value];"
            ],
            "metadata": {
                "azdata_cell_guid": "61cb3359-791c-47d7-9479-467d88711296"
            },
            "outputs": [
                {
                    "output_type": "display_data",
                    "data": {
                        "text/html": "Commands completed successfully."
                    },
                    "metadata": {}
                },
                {
                    "output_type": "display_data",
                    "data": {
                        "text/html": "Total execution time: 00:00:01.432"
                    },
                    "metadata": {}
                },
                {
                    "output_type": "execute_result",
                    "metadata": {},
                    "execution_count": 2,
                    "data": {
                        "application/vnd.dataresource+json": {
                            "schema": {
                                "fields": [
                                    {
                                        "name": "Function"
                                    },
                                    {
                                        "name": "Value"
                                    }
                                ]
                            },
                            "data": [
                                {
                                    "0": "GETDATE()",
                                    "1": "2020-09-13 09:10:52.507"
                                }
                            ]
                        },
                        "text/html": [
                            "<table>",
                            "<tr><th>Function</th><th>Value</th></tr>",
                            "<tr><td>GETDATE()</td><td>2020-09-13 09:10:52.507</td></tr>",
                            "</table>"
                        ]
                    }
                },
                {
                    "output_type": "execute_result",
                    "metadata": {},
                    "execution_count": 2,
                    "data": {
                        "application/vnd.dataresource+json": {
                            "schema": {
                                "fields": [
                                    {
                                        "name": "Function"
                                    },
                                    {
                                        "name": "Value"
                                    }
                                ]
                            },
                            "data": [
                                {
                                    "0": "CURRENT_TIMESTAMP",
                                    "1": "2020-09-13 09:10:52.507"
                                }
                            ]
                        },
                        "text/html": [
                            "<table>",
                            "<tr><th>Function</th><th>Value</th></tr>",
                            "<tr><td>CURRENT_TIMESTAMP</td><td>2020-09-13 09:10:52.507</td></tr>",
                            "</table>"
                        ]
                    }
                },
                {
                    "output_type": "execute_result",
                    "metadata": {},
                    "execution_count": 2,
                    "data": {
                        "application/vnd.dataresource+json": {
                            "schema": {
                                "fields": [
                                    {
                                        "name": "Function"
                                    },
                                    {
                                        "name": "Value"
                                    }
                                ]
                            },
                            "data": [
                                {
                                    "0": "GETUTCDATE()",
                                    "1": "2020-09-13 13:10:52.507"
                                }
                            ]
                        },
                        "text/html": [
                            "<table>",
                            "<tr><th>Function</th><th>Value</th></tr>",
                            "<tr><td>GETUTCDATE()</td><td>2020-09-13 13:10:52.507</td></tr>",
                            "</table>"
                        ]
                    }
                },
                {
                    "output_type": "execute_result",
                    "metadata": {},
                    "execution_count": 2,
                    "data": {
                        "application/vnd.dataresource+json": {
                            "schema": {
                                "fields": [
                                    {
                                        "name": "Function"
                                    },
                                    {
                                        "name": "Value"
                                    }
                                ]
                            },
                            "data": [
                                {
                                    "0": "SYSDATETIME()",
                                    "1": "2020-09-13 09:10:52.5089302"
                                }
                            ]
                        },
                        "text/html": [
                            "<table>",
                            "<tr><th>Function</th><th>Value</th></tr>",
                            "<tr><td>SYSDATETIME()</td><td>2020-09-13 09:10:52.5089302</td></tr>",
                            "</table>"
                        ]
                    }
                },
                {
                    "output_type": "execute_result",
                    "metadata": {},
                    "execution_count": 2,
                    "data": {
                        "application/vnd.dataresource+json": {
                            "schema": {
                                "fields": [
                                    {
                                        "name": "Function"
                                    },
                                    {
                                        "name": "Value"
                                    }
                                ]
                            },
                            "data": [
                                {
                                    "0": "SYSUTCDATETIME()",
                                    "1": "2020-09-13 13:10:52.5089302"
                                }
                            ]
                        },
                        "text/html": [
                            "<table>",
                            "<tr><th>Function</th><th>Value</th></tr>",
                            "<tr><td>SYSUTCDATETIME()</td><td>2020-09-13 13:10:52.5089302</td></tr>",
                            "</table>"
                        ]
                    }
                },
                {
                    "output_type": "execute_result",
                    "metadata": {},
                    "execution_count": 2,
                    "data": {
                        "application/vnd.dataresource+json": {
                            "schema": {
                                "fields": [
                                    {
                                        "name": "Function"
                                    },
                                    {
                                        "name": "Value"
                                    }
                                ]
                            },
                            "data": [
                                {
                                    "0": "SYSDATETIMEOFFSET()",
                                    "1": "2020-09-13 09:10:52.5089302 -04:00"
                                }
                            ]
                        },
                        "text/html": [
                            "<table>",
                            "<tr><th>Function</th><th>Value</th></tr>",
                            "<tr><td>SYSDATETIMEOFFSET()</td><td>2020-09-13 09:10:52.5089302 -04:00</td></tr>",
                            "</table>"
                        ]
                    }
                }
            ],
            "execution_count": 2
        },
        {
            "cell_type": "code",
            "source": [
                "-- recipe 10.2\r\n",
                "SELECT SWITCHOFFSET(SYSDATETIMEOFFSET(), '+03:00');"
            ],
            "metadata": {
                "azdata_cell_guid": "7899753b-d5db-4457-bfe3-f8abe18c02df"
            },
            "outputs": [
                {
                    "output_type": "display_data",
                    "data": {
                        "text/html": "Commands completed successfully."
                    },
                    "metadata": {}
                },
                {
                    "output_type": "display_data",
                    "data": {
                        "text/html": "Total execution time: 00:00:00.015"
                    },
                    "metadata": {}
                },
                {
                    "output_type": "execute_result",
                    "metadata": {},
                    "execution_count": 3,
                    "data": {
                        "application/vnd.dataresource+json": {
                            "schema": {
                                "fields": [
                                    {
                                        "name": "(No column name)"
                                    }
                                ]
                            },
                            "data": [
                                {
                                    "0": "2020-09-13 16:10:56.2829269 +03:00"
                                }
                            ]
                        },
                        "text/html": [
                            "<table>",
                            "<tr><th>(No column name)</th></tr>",
                            "<tr><td>2020-09-13 16:10:56.2829269 +03:00</td></tr>",
                            "</table>"
                        ]
                    }
                }
            ],
            "execution_count": 3
        },
        {
            "cell_type": "code",
            "source": [
                "-- recipe 10.3\r\n",
                "SELECT  TODATETIMEOFFSET(GETDATE(), '-05:00') AS [Eastern Time Zone Time],\r\n",
                "       \tSYSDATETIMEOFFSET() [Current System Time];"
            ],
            "metadata": {
                "azdata_cell_guid": "1786d952-493b-4d87-9315-31353fa9c822"
            },
            "outputs": [
                {
                    "output_type": "display_data",
                    "data": {
                        "text/html": "Commands completed successfully."
                    },
                    "metadata": {}
                },
                {
                    "output_type": "display_data",
                    "data": {
                        "text/html": "Total execution time: 00:00:00.015"
                    },
                    "metadata": {}
                },
                {
                    "output_type": "execute_result",
                    "metadata": {},
                    "execution_count": 4,
                    "data": {
                        "application/vnd.dataresource+json": {
                            "schema": {
                                "fields": [
                                    {
                                        "name": "Eastern Time Zone Time"
                                    },
                                    {
                                        "name": "Current System Time"
                                    }
                                ]
                            },
                            "data": [
                                {
                                    "0": "2020-09-13 09:10:56.7830000 -05:00",
                                    "1": "2020-09-13 09:10:56.7869254 -04:00"
                                }
                            ]
                        },
                        "text/html": [
                            "<table>",
                            "<tr><th>Eastern Time Zone Time</th><th>Current System Time</th></tr>",
                            "<tr><td>2020-09-13 09:10:56.7830000 -05:00</td><td>2020-09-13 09:10:56.7869254 -04:00</td></tr>",
                            "</table>"
                        ]
                    }
                }
            ],
            "execution_count": 4
        },
        {
            "cell_type": "code",
            "source": [
                "-- recipe 10.4\r\n",
                "SELECT DATEADD(YEAR, -1, '2009-04-02T00:00:00');"
            ],
            "metadata": {
                "azdata_cell_guid": "9e495ba7-e720-42d7-a034-97948c1e3136"
            },
            "outputs": [
                {
                    "output_type": "display_data",
                    "data": {
                        "text/html": "Commands completed successfully."
                    },
                    "metadata": {}
                },
                {
                    "output_type": "display_data",
                    "data": {
                        "text/html": "Total execution time: 00:00:00.007"
                    },
                    "metadata": {}
                },
                {
                    "output_type": "execute_result",
                    "metadata": {},
                    "execution_count": 5,
                    "data": {
                        "application/vnd.dataresource+json": {
                            "schema": {
                                "fields": [
                                    {
                                        "name": "(No column name)"
                                    }
                                ]
                            },
                            "data": [
                                {
                                    "0": "2008-04-02 00:00:00.000"
                                }
                            ]
                        },
                        "text/html": [
                            "<table>",
                            "<tr><th>(No column name)</th></tr>",
                            "<tr><td>2008-04-02 00:00:00.000</td></tr>",
                            "</table>"
                        ]
                    }
                }
            ],
            "execution_count": 5
        },
        {
            "cell_type": "code",
            "source": [
                "-- recipe 10.5\r\n",
                "SELECT  TOP (5)\r\n",
                "       \tProductID,\r\n",
                "       \tGETDATE() AS Today,\r\n",
                "       \tEndDate,\r\n",
                "       \tDATEDIFF(MONTH, EndDate, GETDATE()) AS ElapsedMonths\r\n",
                "FROM \tProduction.ProductCostHistory\r\n",
                "WHERE   EndDate IS NOT NULL\r\n",
                "ORDER BY ProductID;\r\n",
                "\r\n",
                "\r\n",
                "WITH cteDates (StartDate, EndDate) AS \r\n",
                "(\r\n",
                "SELECT  CONVERT(DATETIME2, '2010-12-31T23:59:59.9999999'), \r\n",
                "        CONVERT(DATETIME2, '2011-01-01T00:00:00.0000000')\r\n",
                ")\r\n",
                "SELECT  StartDate,\r\n",
                "        EndDate,\r\n",
                "        DATEDIFF(YEAR, StartDate, EndDate) AS Years,\r\n",
                "        DATEDIFF(QUARTER, StartDate, EndDate) AS Quarters,\r\n",
                "        DATEDIFF(MONTH, StartDate, EndDate) AS Months,\r\n",
                "        DATEDIFF(DAY, StartDate, EndDate) AS Days,\r\n",
                "        DATEDIFF(HOUR, StartDate, EndDate) AS Hours,\r\n",
                "        DATEDIFF(MINUTE, StartDate, EndDate) AS Minutes,\r\n",
                "        DATEDIFF(SECOND, StartDate, EndDate) AS Seconds,\r\n",
                "        DATEDIFF(MILLISECOND, StartDate, EndDate) AS Milliseconds,\r\n",
                "        DATEDIFF(MICROSECOND, StartDate, EndDate) AS MicroSeconds\r\n",
                "FROM    cteDates;"
            ],
            "metadata": {
                "azdata_cell_guid": "d655c463-089a-4b15-ae5e-c128bad30813"
            },
            "outputs": [
                {
                    "output_type": "display_data",
                    "data": {
                        "text/html": "Commands completed successfully."
                    },
                    "metadata": {}
                },
                {
                    "output_type": "display_data",
                    "data": {
                        "text/html": "Total execution time: 00:00:00.035"
                    },
                    "metadata": {}
                },
                {
                    "output_type": "execute_result",
                    "metadata": {},
                    "execution_count": 6,
                    "data": {
                        "application/vnd.dataresource+json": {
                            "schema": {
                                "fields": [
                                    {
                                        "name": "ProductID"
                                    },
                                    {
                                        "name": "Today"
                                    },
                                    {
                                        "name": "EndDate"
                                    },
                                    {
                                        "name": "ElapsedMonths"
                                    }
                                ]
                            },
                            "data": [
                                {
                                    "0": "707",
                                    "1": "2020-09-13 09:10:57.737",
                                    "2": "2012-05-29 00:00:00.000",
                                    "3": "100"
                                },
                                {
                                    "0": "707",
                                    "1": "2020-09-13 09:10:57.737",
                                    "2": "2013-05-29 00:00:00.000",
                                    "3": "88"
                                },
                                {
                                    "0": "708",
                                    "1": "2020-09-13 09:10:57.737",
                                    "2": "2012-05-29 00:00:00.000",
                                    "3": "100"
                                },
                                {
                                    "0": "708",
                                    "1": "2020-09-13 09:10:57.737",
                                    "2": "2013-05-29 00:00:00.000",
                                    "3": "88"
                                },
                                {
                                    "0": "709",
                                    "1": "2020-09-13 09:10:57.737",
                                    "2": "2012-05-29 00:00:00.000",
                                    "3": "100"
                                }
                            ]
                        },
                        "text/html": [
                            "<table>",
                            "<tr><th>ProductID</th><th>Today</th><th>EndDate</th><th>ElapsedMonths</th></tr>",
                            "<tr><td>707</td><td>2020-09-13 09:10:57.737</td><td>2012-05-29 00:00:00.000</td><td>100</td></tr>",
                            "<tr><td>707</td><td>2020-09-13 09:10:57.737</td><td>2013-05-29 00:00:00.000</td><td>88</td></tr>",
                            "<tr><td>708</td><td>2020-09-13 09:10:57.737</td><td>2012-05-29 00:00:00.000</td><td>100</td></tr>",
                            "<tr><td>708</td><td>2020-09-13 09:10:57.737</td><td>2013-05-29 00:00:00.000</td><td>88</td></tr>",
                            "<tr><td>709</td><td>2020-09-13 09:10:57.737</td><td>2012-05-29 00:00:00.000</td><td>100</td></tr>",
                            "</table>"
                        ]
                    }
                },
                {
                    "output_type": "execute_result",
                    "metadata": {},
                    "execution_count": 6,
                    "data": {
                        "application/vnd.dataresource+json": {
                            "schema": {
                                "fields": [
                                    {
                                        "name": "StartDate"
                                    },
                                    {
                                        "name": "EndDate"
                                    },
                                    {
                                        "name": "Years"
                                    },
                                    {
                                        "name": "Quarters"
                                    },
                                    {
                                        "name": "Months"
                                    },
                                    {
                                        "name": "Days"
                                    },
                                    {
                                        "name": "Hours"
                                    },
                                    {
                                        "name": "Minutes"
                                    },
                                    {
                                        "name": "Seconds"
                                    },
                                    {
                                        "name": "Milliseconds"
                                    },
                                    {
                                        "name": "MicroSeconds"
                                    }
                                ]
                            },
                            "data": [
                                {
                                    "0": "2010-12-31 23:59:59.9999999",
                                    "1": "2011-01-01 00:00:00.0000000",
                                    "2": "1",
                                    "3": "1",
                                    "4": "1",
                                    "5": "1",
                                    "6": "1",
                                    "7": "1",
                                    "8": "1",
                                    "9": "1",
                                    "10": "1"
                                }
                            ]
                        },
                        "text/html": [
                            "<table>",
                            "<tr><th>StartDate</th><th>EndDate</th><th>Years</th><th>Quarters</th><th>Months</th><th>Days</th><th>Hours</th><th>Minutes</th><th>Seconds</th><th>Milliseconds</th><th>MicroSeconds</th></tr>",
                            "<tr><td>2010-12-31 23:59:59.9999999</td><td>2011-01-01 00:00:00.0000000</td><td>1</td><td>1</td><td>1</td><td>1</td><td>1</td><td>1</td><td>1</td><td>1</td><td>1</td></tr>",
                            "</table>"
                        ]
                    }
                }
            ],
            "execution_count": 6
        },
        {
            "cell_type": "code",
            "source": [
                "-- recipe 10.6\r\n",
                "DECLARE @StartDate DATETIME2 = '2012-01-01T18:25:42.9999999',\r\n",
                "        @EndDate   DATETIME2 = '2012-06-15T13:12:11.8675309';\r\n",
                "\r\n",
                "WITH cte AS\r\n",
                "(\r\n",
                "SELECT  DATEDIFF(SECOND, @StartDate, @EndDate) AS ElapsedSeconds,\r\n",
                "        DATEDIFF(SECOND, @StartDate, @EndDate)/60 AS ElapsedMinutes,\r\n",
                "        DATEDIFF(SECOND, @StartDate, @EndDate)/3600 AS ElapsedHours,\r\n",
                "        DATEDIFF(SECOND, @StartDate, @EndDate)/86400 AS ElapsedDays\r\n",
                ")\r\n",
                "SELECT  @StartDate AS StartDate,\r\n",
                "        @EndDate AS EndDate,\r\n",
                "        CONVERT(VARCHAR(10), ElapsedDays) + ':' +\r\n",
                "        CONVERT(VARCHAR(10), ElapsedHours%24) + ':' +\r\n",
                "        CONVERT(VARCHAR(10), ElapsedMinutes%60) + ':' +\r\n",
                "        CONVERT(VARCHAR(10), ElapsedSeconds%60) AS [ElapsedTime (D:H:M:S)]\r\n",
                "FROM    cte;"
            ],
            "metadata": {
                "azdata_cell_guid": "dc87b178-41c7-409e-9f64-8a79ed33f00f"
            },
            "outputs": [
                {
                    "output_type": "display_data",
                    "data": {
                        "text/html": "Commands completed successfully."
                    },
                    "metadata": {}
                },
                {
                    "output_type": "display_data",
                    "data": {
                        "text/html": "Total execution time: 00:00:00.019"
                    },
                    "metadata": {}
                },
                {
                    "output_type": "execute_result",
                    "metadata": {},
                    "execution_count": 7,
                    "data": {
                        "application/vnd.dataresource+json": {
                            "schema": {
                                "fields": [
                                    {
                                        "name": "StartDate"
                                    },
                                    {
                                        "name": "EndDate"
                                    },
                                    {
                                        "name": "ElapsedTime (D:H:M:S)"
                                    }
                                ]
                            },
                            "data": [
                                {
                                    "0": "2012-01-01 18:25:42.9999999",
                                    "1": "2012-06-15 13:12:11.8675309",
                                    "2": "165:18:46:29"
                                }
                            ]
                        },
                        "text/html": [
                            "<table>",
                            "<tr><th>StartDate</th><th>EndDate</th><th>ElapsedTime (D:H:M:S)</th></tr>",
                            "<tr><td>2012-01-01 18:25:42.9999999</td><td>2012-06-15 13:12:11.8675309</td><td>165:18:46:29</td></tr>",
                            "</table>"
                        ]
                    }
                }
            ],
            "execution_count": 7
        },
        {
            "cell_type": "code",
            "source": [
                "-- recipe 10.7\r\n",
                "SELECT  TOP (5)\r\n",
                "        ProductID,\r\n",
                "        EndDate,\r\n",
                "        DATENAME(MONTH, EndDate) AS MonthName,\r\n",
                "        DATENAME(WEEKDAY, EndDate) AS WeekDayName\r\n",
                "FROM    Production.ProductCostHistory\r\n",
                "WHERE   EndDate IS NOT NULL\r\n",
                "ORDER BY ProductID;"
            ],
            "metadata": {
                "azdata_cell_guid": "91d6b61a-f0ad-4ac1-940f-643ded71b2cc"
            },
            "outputs": [
                {
                    "output_type": "display_data",
                    "data": {
                        "text/html": "Commands completed successfully."
                    },
                    "metadata": {}
                },
                {
                    "output_type": "display_data",
                    "data": {
                        "text/html": "Total execution time: 00:00:00.025"
                    },
                    "metadata": {}
                },
                {
                    "output_type": "execute_result",
                    "metadata": {},
                    "execution_count": 8,
                    "data": {
                        "application/vnd.dataresource+json": {
                            "schema": {
                                "fields": [
                                    {
                                        "name": "ProductID"
                                    },
                                    {
                                        "name": "EndDate"
                                    },
                                    {
                                        "name": "MonthName"
                                    },
                                    {
                                        "name": "WeekDayName"
                                    }
                                ]
                            },
                            "data": [
                                {
                                    "0": "707",
                                    "1": "2012-05-29 00:00:00.000",
                                    "2": "May",
                                    "3": "Tuesday"
                                },
                                {
                                    "0": "707",
                                    "1": "2013-05-29 00:00:00.000",
                                    "2": "May",
                                    "3": "Wednesday"
                                },
                                {
                                    "0": "708",
                                    "1": "2012-05-29 00:00:00.000",
                                    "2": "May",
                                    "3": "Tuesday"
                                },
                                {
                                    "0": "708",
                                    "1": "2013-05-29 00:00:00.000",
                                    "2": "May",
                                    "3": "Wednesday"
                                },
                                {
                                    "0": "709",
                                    "1": "2012-05-29 00:00:00.000",
                                    "2": "May",
                                    "3": "Tuesday"
                                }
                            ]
                        },
                        "text/html": [
                            "<table>",
                            "<tr><th>ProductID</th><th>EndDate</th><th>MonthName</th><th>WeekDayName</th></tr>",
                            "<tr><td>707</td><td>2012-05-29 00:00:00.000</td><td>May</td><td>Tuesday</td></tr>",
                            "<tr><td>707</td><td>2013-05-29 00:00:00.000</td><td>May</td><td>Wednesday</td></tr>",
                            "<tr><td>708</td><td>2012-05-29 00:00:00.000</td><td>May</td><td>Tuesday</td></tr>",
                            "<tr><td>708</td><td>2013-05-29 00:00:00.000</td><td>May</td><td>Wednesday</td></tr>",
                            "<tr><td>709</td><td>2012-05-29 00:00:00.000</td><td>May</td><td>Tuesday</td></tr>",
                            "</table>"
                        ]
                    }
                }
            ],
            "execution_count": 8
        },
        {
            "cell_type": "code",
            "source": [
                "-- recipe 10.8\r\n",
                "SELECT  TOP (5)\r\n",
                "        ProductID,\r\n",
                "        EndDate,\r\n",
                "        DATEPART(YEAR, EndDate) AS [Year],\r\n",
                "        DATEPART(MONTH, EndDate) AS [Month],\r\n",
                "        DATEPART(DAY, EndDate) AS [Day]\r\n",
                "FROM    Production.ProductCostHistory\r\n",
                "WHERE   EndDate IS NOT NULL\r\n",
                "ORDER BY ProductID;"
            ],
            "metadata": {
                "azdata_cell_guid": "4403ae30-7e7f-4a14-af83-066c99276235"
            },
            "outputs": [
                {
                    "output_type": "display_data",
                    "data": {
                        "text/html": "Commands completed successfully."
                    },
                    "metadata": {}
                },
                {
                    "output_type": "display_data",
                    "data": {
                        "text/html": "Total execution time: 00:00:00.011"
                    },
                    "metadata": {}
                },
                {
                    "output_type": "execute_result",
                    "metadata": {},
                    "execution_count": 9,
                    "data": {
                        "application/vnd.dataresource+json": {
                            "schema": {
                                "fields": [
                                    {
                                        "name": "ProductID"
                                    },
                                    {
                                        "name": "EndDate"
                                    },
                                    {
                                        "name": "Year"
                                    },
                                    {
                                        "name": "Month"
                                    },
                                    {
                                        "name": "Day"
                                    }
                                ]
                            },
                            "data": [
                                {
                                    "0": "707",
                                    "1": "2012-05-29 00:00:00.000",
                                    "2": "2012",
                                    "3": "5",
                                    "4": "29"
                                },
                                {
                                    "0": "707",
                                    "1": "2013-05-29 00:00:00.000",
                                    "2": "2013",
                                    "3": "5",
                                    "4": "29"
                                },
                                {
                                    "0": "708",
                                    "1": "2012-05-29 00:00:00.000",
                                    "2": "2012",
                                    "3": "5",
                                    "4": "29"
                                },
                                {
                                    "0": "708",
                                    "1": "2013-05-29 00:00:00.000",
                                    "2": "2013",
                                    "3": "5",
                                    "4": "29"
                                },
                                {
                                    "0": "709",
                                    "1": "2012-05-29 00:00:00.000",
                                    "2": "2012",
                                    "3": "5",
                                    "4": "29"
                                }
                            ]
                        },
                        "text/html": [
                            "<table>",
                            "<tr><th>ProductID</th><th>EndDate</th><th>Year</th><th>Month</th><th>Day</th></tr>",
                            "<tr><td>707</td><td>2012-05-29 00:00:00.000</td><td>2012</td><td>5</td><td>29</td></tr>",
                            "<tr><td>707</td><td>2013-05-29 00:00:00.000</td><td>2013</td><td>5</td><td>29</td></tr>",
                            "<tr><td>708</td><td>2012-05-29 00:00:00.000</td><td>2012</td><td>5</td><td>29</td></tr>",
                            "<tr><td>708</td><td>2013-05-29 00:00:00.000</td><td>2013</td><td>5</td><td>29</td></tr>",
                            "<tr><td>709</td><td>2012-05-29 00:00:00.000</td><td>2012</td><td>5</td><td>29</td></tr>",
                            "</table>"
                        ]
                    }
                }
            ],
            "execution_count": 9
        },
        {
            "cell_type": "code",
            "source": [
                "-- recipe 10.9\r\n",
                "SELECT  MyData,\r\n",
                "        ISDATE(MyData) AS IsADate\r\n",
                "FROM    ( VALUES ( 'IsThisADate'), \r\n",
                "                 ( '2012-02-14'), \r\n",
                "                 ( '2012-01-01T00:00:00'),\r\n",
                "                 ( '2012-12-31T23:59:59.9999999') ) dt (MyData);\r\n",
                ""
            ],
            "metadata": {
                "azdata_cell_guid": "ccc3ffa0-4c88-47eb-a70d-daca6ade01cc"
            },
            "outputs": [
                {
                    "output_type": "display_data",
                    "data": {
                        "text/html": "Commands completed successfully."
                    },
                    "metadata": {}
                },
                {
                    "output_type": "display_data",
                    "data": {
                        "text/html": "Total execution time: 00:00:00.011"
                    },
                    "metadata": {}
                },
                {
                    "output_type": "execute_result",
                    "metadata": {},
                    "execution_count": 10,
                    "data": {
                        "application/vnd.dataresource+json": {
                            "schema": {
                                "fields": [
                                    {
                                        "name": "MyData"
                                    },
                                    {
                                        "name": "IsADate"
                                    }
                                ]
                            },
                            "data": [
                                {
                                    "0": "IsThisADate",
                                    "1": "0"
                                },
                                {
                                    "0": "2012-02-14",
                                    "1": "1"
                                },
                                {
                                    "0": "2012-01-01T00:00:00",
                                    "1": "1"
                                },
                                {
                                    "0": "2012-12-31T23:59:59.9999999",
                                    "1": "0"
                                }
                            ]
                        },
                        "text/html": [
                            "<table>",
                            "<tr><th>MyData</th><th>IsADate</th></tr>",
                            "<tr><td>IsThisADate</td><td>0</td></tr>",
                            "<tr><td>2012-02-14</td><td>1</td></tr>",
                            "<tr><td>2012-01-01T00:00:00</td><td>1</td></tr>",
                            "<tr><td>2012-12-31T23:59:59.9999999</td><td>0</td></tr>",
                            "</table>"
                        ]
                    }
                }
            ],
            "execution_count": 10
        },
        {
            "cell_type": "code",
            "source": [
                "-- recipe 10.10\r\n",
                "SELECT  MyData,\r\n",
                "        EOMONTH(MyData) AS LastDayOfThisMonth,\r\n",
                "        EOMONTH(MyData, 1) AS LastDayOfNextMonth\r\n",
                "FROM    (VALUES ('2012-02-14T00:00:00' ),\r\n",
                "                ('2012-01-01T00:00:00'),\r\n",
                "                ('2012-12-31T23:59:59.9999999')) dt(MyData);\r\n",
                ""
            ],
            "metadata": {
                "azdata_cell_guid": "6e15cd74-2573-49f3-a405-56273cf871a8"
            },
            "outputs": [
                {
                    "output_type": "display_data",
                    "data": {
                        "text/html": "Commands completed successfully."
                    },
                    "metadata": {}
                },
                {
                    "output_type": "display_data",
                    "data": {
                        "text/html": "Total execution time: 00:00:00.015"
                    },
                    "metadata": {}
                },
                {
                    "output_type": "execute_result",
                    "metadata": {},
                    "execution_count": 11,
                    "data": {
                        "application/vnd.dataresource+json": {
                            "schema": {
                                "fields": [
                                    {
                                        "name": "MyData"
                                    },
                                    {
                                        "name": "LastDayOfThisMonth"
                                    },
                                    {
                                        "name": "LastDayOfNextMonth"
                                    }
                                ]
                            },
                            "data": [
                                {
                                    "0": "2012-02-14T00:00:00",
                                    "1": "2012-02-29",
                                    "2": "2012-03-31"
                                },
                                {
                                    "0": "2012-01-01T00:00:00",
                                    "1": "2012-01-31",
                                    "2": "2012-02-29"
                                },
                                {
                                    "0": "2012-12-31T23:59:59.9999999",
                                    "1": "2012-12-31",
                                    "2": "2013-01-31"
                                }
                            ]
                        },
                        "text/html": [
                            "<table>",
                            "<tr><th>MyData</th><th>LastDayOfThisMonth</th><th>LastDayOfNextMonth</th></tr>",
                            "<tr><td>2012-02-14T00:00:00</td><td>2012-02-29</td><td>2012-03-31</td></tr>",
                            "<tr><td>2012-01-01T00:00:00</td><td>2012-01-31</td><td>2012-02-29</td></tr>",
                            "<tr><td>2012-12-31T23:59:59.9999999</td><td>2012-12-31</td><td>2013-01-31</td></tr>",
                            "</table>"
                        ]
                    }
                }
            ],
            "execution_count": 11
        },
        {
            "cell_type": "code",
            "source": [
                "-- recipe 10.11\r\n",
                "SELECT  'DateFromParts' AS ConversionType, \r\n",
                "        DATEFROMPARTS(2012, 8, 15) AS [Value];\r\n",
                "SELECT  'TimeFromParts' AS ConversionType, \r\n",
                "        TIMEFROMPARTS(18, 25, 32, 5, 1) AS [Value];\r\n",
                "SELECT  'SmallDateTimeFromParts' AS ConversionType, \r\n",
                "        SMALLDATETIMEFROMPARTS(2012, 8, 15, 18, 25) AS [Value];\r\n",
                "SELECT  'DateTimeFromParts' AS ConversionType, \r\n",
                "        DATETIMEFROMPARTS(2012, 8, 15, 18, 25, 32, 450) AS [Value];\r\n",
                "SELECT  'DateTime2FromParts' AS ConversionType, \r\n",
                "        DATETIME2FROMPARTS(2012, 8, 15, 18, 25, 32, 5, 7) AS [Value];\r\n",
                "SELECT  'DateTimeOffsetFromParts' AS ConversionType, \r\n",
                "        DATETIMEOFFSETFROMPARTS(2012, 8, 15, 18, 25, 32, 5, 4, 0, 7) AS [Value];\r\n",
                "\r\n",
                "SELECT TIMEFROMPARTS(18, 25, 32, 5, 1);\r\n",
                "SELECT TIMEFROMPARTS(18, 25, 32, 5, 2);\r\n",
                "SELECT TIMEFROMPARTS(18, 25, 32, 5, 3);\r\n",
                "SELECT TIMEFROMPARTS(18, 25, 32, 5, 4);\r\n",
                "SELECT TIMEFROMPARTS(18, 25, 32, 5, 5);\r\n",
                "SELECT TIMEFROMPARTS(18, 25, 32, 5, 6);\r\n",
                "SELECT TIMEFROMPARTS(18, 25, 32, 5, 7);\r\n",
                "SELECT TIMEFROMPARTS(18, 25, 32, 50, 2);\r\n",
                "SELECT TIMEFROMPARTS(18, 25, 32, 500, 3);"
            ],
            "metadata": {
                "azdata_cell_guid": "3701ece3-1dae-48fb-b400-5c4965b729ae"
            },
            "outputs": [
                {
                    "output_type": "display_data",
                    "data": {
                        "text/html": "Commands completed successfully."
                    },
                    "metadata": {}
                },
                {
                    "output_type": "display_data",
                    "data": {
                        "text/html": "Total execution time: 00:00:00.085"
                    },
                    "metadata": {}
                },
                {
                    "output_type": "execute_result",
                    "metadata": {},
                    "execution_count": 12,
                    "data": {
                        "application/vnd.dataresource+json": {
                            "schema": {
                                "fields": [
                                    {
                                        "name": "ConversionType"
                                    },
                                    {
                                        "name": "Value"
                                    }
                                ]
                            },
                            "data": [
                                {
                                    "0": "DateFromParts",
                                    "1": "2012-08-15"
                                }
                            ]
                        },
                        "text/html": [
                            "<table>",
                            "<tr><th>ConversionType</th><th>Value</th></tr>",
                            "<tr><td>DateFromParts</td><td>2012-08-15</td></tr>",
                            "</table>"
                        ]
                    }
                },
                {
                    "output_type": "execute_result",
                    "metadata": {},
                    "execution_count": 12,
                    "data": {
                        "application/vnd.dataresource+json": {
                            "schema": {
                                "fields": [
                                    {
                                        "name": "ConversionType"
                                    },
                                    {
                                        "name": "Value"
                                    }
                                ]
                            },
                            "data": [
                                {
                                    "0": "TimeFromParts",
                                    "1": "18:25:32.5000000"
                                }
                            ]
                        },
                        "text/html": [
                            "<table>",
                            "<tr><th>ConversionType</th><th>Value</th></tr>",
                            "<tr><td>TimeFromParts</td><td>18:25:32.5000000</td></tr>",
                            "</table>"
                        ]
                    }
                },
                {
                    "output_type": "execute_result",
                    "metadata": {},
                    "execution_count": 12,
                    "data": {
                        "application/vnd.dataresource+json": {
                            "schema": {
                                "fields": [
                                    {
                                        "name": "ConversionType"
                                    },
                                    {
                                        "name": "Value"
                                    }
                                ]
                            },
                            "data": [
                                {
                                    "0": "SmallDateTimeFromParts",
                                    "1": "2012-08-15 18:25:00"
                                }
                            ]
                        },
                        "text/html": [
                            "<table>",
                            "<tr><th>ConversionType</th><th>Value</th></tr>",
                            "<tr><td>SmallDateTimeFromParts</td><td>2012-08-15 18:25:00</td></tr>",
                            "</table>"
                        ]
                    }
                },
                {
                    "output_type": "execute_result",
                    "metadata": {},
                    "execution_count": 12,
                    "data": {
                        "application/vnd.dataresource+json": {
                            "schema": {
                                "fields": [
                                    {
                                        "name": "ConversionType"
                                    },
                                    {
                                        "name": "Value"
                                    }
                                ]
                            },
                            "data": [
                                {
                                    "0": "DateTimeFromParts",
                                    "1": "2012-08-15 18:25:32.450"
                                }
                            ]
                        },
                        "text/html": [
                            "<table>",
                            "<tr><th>ConversionType</th><th>Value</th></tr>",
                            "<tr><td>DateTimeFromParts</td><td>2012-08-15 18:25:32.450</td></tr>",
                            "</table>"
                        ]
                    }
                },
                {
                    "output_type": "execute_result",
                    "metadata": {},
                    "execution_count": 12,
                    "data": {
                        "application/vnd.dataresource+json": {
                            "schema": {
                                "fields": [
                                    {
                                        "name": "ConversionType"
                                    },
                                    {
                                        "name": "Value"
                                    }
                                ]
                            },
                            "data": [
                                {
                                    "0": "DateTime2FromParts",
                                    "1": "2012-08-15 18:25:32.0000005"
                                }
                            ]
                        },
                        "text/html": [
                            "<table>",
                            "<tr><th>ConversionType</th><th>Value</th></tr>",
                            "<tr><td>DateTime2FromParts</td><td>2012-08-15 18:25:32.0000005</td></tr>",
                            "</table>"
                        ]
                    }
                },
                {
                    "output_type": "execute_result",
                    "metadata": {},
                    "execution_count": 12,
                    "data": {
                        "application/vnd.dataresource+json": {
                            "schema": {
                                "fields": [
                                    {
                                        "name": "ConversionType"
                                    },
                                    {
                                        "name": "Value"
                                    }
                                ]
                            },
                            "data": [
                                {
                                    "0": "DateTimeOffsetFromParts",
                                    "1": "2012-08-15 18:25:32.0000005 +04:00"
                                }
                            ]
                        },
                        "text/html": [
                            "<table>",
                            "<tr><th>ConversionType</th><th>Value</th></tr>",
                            "<tr><td>DateTimeOffsetFromParts</td><td>2012-08-15 18:25:32.0000005 +04:00</td></tr>",
                            "</table>"
                        ]
                    }
                },
                {
                    "output_type": "execute_result",
                    "metadata": {},
                    "execution_count": 12,
                    "data": {
                        "application/vnd.dataresource+json": {
                            "schema": {
                                "fields": [
                                    {
                                        "name": "(No column name)"
                                    }
                                ]
                            },
                            "data": [
                                {
                                    "0": "18:25:32.5000000"
                                }
                            ]
                        },
                        "text/html": [
                            "<table>",
                            "<tr><th>(No column name)</th></tr>",
                            "<tr><td>18:25:32.5000000</td></tr>",
                            "</table>"
                        ]
                    }
                },
                {
                    "output_type": "execute_result",
                    "metadata": {},
                    "execution_count": 12,
                    "data": {
                        "application/vnd.dataresource+json": {
                            "schema": {
                                "fields": [
                                    {
                                        "name": "(No column name)"
                                    }
                                ]
                            },
                            "data": [
                                {
                                    "0": "18:25:32.0500000"
                                }
                            ]
                        },
                        "text/html": [
                            "<table>",
                            "<tr><th>(No column name)</th></tr>",
                            "<tr><td>18:25:32.0500000</td></tr>",
                            "</table>"
                        ]
                    }
                },
                {
                    "output_type": "execute_result",
                    "metadata": {},
                    "execution_count": 12,
                    "data": {
                        "application/vnd.dataresource+json": {
                            "schema": {
                                "fields": [
                                    {
                                        "name": "(No column name)"
                                    }
                                ]
                            },
                            "data": [
                                {
                                    "0": "18:25:32.0050000"
                                }
                            ]
                        },
                        "text/html": [
                            "<table>",
                            "<tr><th>(No column name)</th></tr>",
                            "<tr><td>18:25:32.0050000</td></tr>",
                            "</table>"
                        ]
                    }
                },
                {
                    "output_type": "execute_result",
                    "metadata": {},
                    "execution_count": 12,
                    "data": {
                        "application/vnd.dataresource+json": {
                            "schema": {
                                "fields": [
                                    {
                                        "name": "(No column name)"
                                    }
                                ]
                            },
                            "data": [
                                {
                                    "0": "18:25:32.0005000"
                                }
                            ]
                        },
                        "text/html": [
                            "<table>",
                            "<tr><th>(No column name)</th></tr>",
                            "<tr><td>18:25:32.0005000</td></tr>",
                            "</table>"
                        ]
                    }
                },
                {
                    "output_type": "execute_result",
                    "metadata": {},
                    "execution_count": 12,
                    "data": {
                        "application/vnd.dataresource+json": {
                            "schema": {
                                "fields": [
                                    {
                                        "name": "(No column name)"
                                    }
                                ]
                            },
                            "data": [
                                {
                                    "0": "18:25:32.0000500"
                                }
                            ]
                        },
                        "text/html": [
                            "<table>",
                            "<tr><th>(No column name)</th></tr>",
                            "<tr><td>18:25:32.0000500</td></tr>",
                            "</table>"
                        ]
                    }
                },
                {
                    "output_type": "execute_result",
                    "metadata": {},
                    "execution_count": 12,
                    "data": {
                        "application/vnd.dataresource+json": {
                            "schema": {
                                "fields": [
                                    {
                                        "name": "(No column name)"
                                    }
                                ]
                            },
                            "data": [
                                {
                                    "0": "18:25:32.0000050"
                                }
                            ]
                        },
                        "text/html": [
                            "<table>",
                            "<tr><th>(No column name)</th></tr>",
                            "<tr><td>18:25:32.0000050</td></tr>",
                            "</table>"
                        ]
                    }
                },
                {
                    "output_type": "execute_result",
                    "metadata": {},
                    "execution_count": 12,
                    "data": {
                        "application/vnd.dataresource+json": {
                            "schema": {
                                "fields": [
                                    {
                                        "name": "(No column name)"
                                    }
                                ]
                            },
                            "data": [
                                {
                                    "0": "18:25:32.0000005"
                                }
                            ]
                        },
                        "text/html": [
                            "<table>",
                            "<tr><th>(No column name)</th></tr>",
                            "<tr><td>18:25:32.0000005</td></tr>",
                            "</table>"
                        ]
                    }
                },
                {
                    "output_type": "execute_result",
                    "metadata": {},
                    "execution_count": 12,
                    "data": {
                        "application/vnd.dataresource+json": {
                            "schema": {
                                "fields": [
                                    {
                                        "name": "(No column name)"
                                    }
                                ]
                            },
                            "data": [
                                {
                                    "0": "18:25:32.5000000"
                                }
                            ]
                        },
                        "text/html": [
                            "<table>",
                            "<tr><th>(No column name)</th></tr>",
                            "<tr><td>18:25:32.5000000</td></tr>",
                            "</table>"
                        ]
                    }
                },
                {
                    "output_type": "execute_result",
                    "metadata": {},
                    "execution_count": 12,
                    "data": {
                        "application/vnd.dataresource+json": {
                            "schema": {
                                "fields": [
                                    {
                                        "name": "(No column name)"
                                    }
                                ]
                            },
                            "data": [
                                {
                                    "0": "18:25:32.5000000"
                                }
                            ]
                        },
                        "text/html": [
                            "<table>",
                            "<tr><th>(No column name)</th></tr>",
                            "<tr><td>18:25:32.5000000</td></tr>",
                            "</table>"
                        ]
                    }
                }
            ],
            "execution_count": 12
        },
        {
            "cell_type": "code",
            "source": [
                "-- recipe 10.12\r\n",
                "DECLARE @MyDate DATETIME2 = '2012-01-01T18:25:42.9999999',\r\n",
                "        @Base   DATETIME =  '1900-01-01T00:00:00',\r\n",
                "        @Base2  DATETIME =  '2000-01-01T00:00:00';\r\n",
                "\r\n",
                "-- Solution 1\r\n",
                "SELECT  MyDate,\r\n",
                "       \tDATEADD(YEAR,   DATEDIFF(YEAR,    @Base, MyDate), @Base) AS [FirstDayOfYear],\r\n",
                "        DATEADD(MONTH,  DATEDIFF(MONTH,   @Base, MyDate), @Base) AS [FirstDayOfMonth],\r\n",
                "        DATEADD(QUARTER,DATEDIFF(QUARTER, @Base, MyDate), @Base) AS [FirstDayOfQuarter]\r\n",
                "FROM    (VALUES ('1981-01-17T00:00:00'),\r\n",
                "                ('1961-11-23T00:00:00'),\r\n",
                "                ('1960-07-09T00:00:00'),\r\n",
                "                ('1980-07-11T00:00:00'),\r\n",
                "                ('1983-01-05T00:00:00'),\r\n",
                "                ('2006-11-27T00:00:00'),\r\n",
                "                ('2013-08-03T00:00:00')) dt (MyDate);\r\n",
                "\r\n",
                "SELECT  'StartOfHour' AS ConversionType, \r\n",
                "        DATEADD(HOUR,   DATEDIFF(HOUR,   @Base, @MyDate), @Base) AS DateResult\r\n",
                "UNION ALL\r\n",
                "SELECT  'StartOfMinute', \r\n",
                "        DATEADD(MINUTE, DATEDIFF(MINUTE, @Base, @MyDate), @Base) \r\n",
                "UNION ALL\r\n",
                "SELECT  'StartOfSecond', \r\n",
                "        DATEADD(SECOND, DATEDIFF(SECOND, @Base2, @MyDate), @Base2);\r\n",
                "\r\n",
                "        -- solution 2\r\n",
                "SELECT  MyDate,\r\n",
                "       \tDATETIMEFROMPARTS(ca.Yr, 1,     1, 0, 0, 0, 0) AS FirstDayOfYear,\r\n",
                "       \tDATETIMEFROMPARTS(ca.Yr, ca.Mn, 1, 0, 0, 0, 0) AS FirstDayOfMonth,\r\n",
                "       \tDATETIMEFROMPARTS(ca.Yr, ca.Qt, 1, 0, 0, 0, 0) AS FirstDayOfQuarter\r\n",
                "FROM    (VALUES ('1981-01-17T00:00:00'),\r\n",
                "                ('1961-11-23T00:00:00'),\r\n",
                "                ('1960-07-09T00:00:00'),\r\n",
                "                ('1980-07-11T00:00:00'),\r\n",
                "                ('1983-01-05T00:00:00'),\r\n",
                "                ('2006-11-27T00:00:00'),\r\n",
                "                ('2013-08-03T00:00:00')) dt (MyDate)\r\n",
                "CROSS APPLY (SELECT DATEPART(YEAR, dt.MyDate) AS Yr,\r\n",
                "                    DATEPART(MONTH, dt.MyDate) AS Mn,\r\n",
                "                    ((CEILING(MONTH(dt.MyDate)/3.0)*3)-2) AS Qt\r\n",
                "             ) ca;\r\n",
                "WITH cte AS\r\n",
                "(\r\n",
                "SELECT  DATEPART(YEAR, @MyDate) AS Yr,\r\n",
                "       \tDATEPART(MONTH, @MyDate) AS Mth,\r\n",
                "       \tDATEPART(DAY, @MyDate) AS Dy,\r\n",
                "      \tDATEPART(HOUR, @MyDate) AS Hr,\r\n",
                "      \tDATEPART(MINUTE, @MyDate) AS Mn,\r\n",
                "      \tDATEPART(SECOND, @MyDate) AS Sec\r\n",
                ")\r\n",
                "SELECT  'StartOfHour' AS ConversionType,\r\n",
                "       \tDATETIMEFROMPARTS(cte.Yr, cte.Mth, cte.Dy, cte.Hr, 0, 0, 0) AS DateResult\r\n",
                "FROM    cte\r\n",
                "UNION ALL\r\n",
                "SELECT  'StartOfMinute', \r\n",
                "        DATETIMEFROMPARTS(cte.Yr, cte.Mth, cte.Dy, cte.Hr, cte.Mn, 0, 0)\r\n",
                "FROM    cte\r\n",
                "UNION ALL\r\n",
                "SELECT  'StartOfSecond', \r\n",
                "       \tDATETIMEFROMPARTS(cte.Yr, cte.Mth, cte.Dy, cte.Hr, cte.Mn, cte.Sec, 0)\r\n",
                "FROM    cte;\r\n",
                "\r\n",
                "-- solution 3\r\n",
                "SELECT  CONVERT(CHAR(10), ca.MyDate, 121) AS MyDate,\r\n",
                "       \tCAST(FORMAT(ca.MyDate, 'yyyy-01-01') AS DATETIME) AS FirstDayOfYear,\r\n",
                "       \tCAST(FORMAT(ca.MyDate, 'yyyy-MM-01') AS DATETIME) AS FirstDayOfMonth\r\n",
                "FROM \t(VALUES ('1981-01-17T00:00:00'),\r\n",
                "                ('1961-11-23T00:00:00'),\r\n",
                "                ('1960-07-09T00:00:00'),\r\n",
                "                ('1980-07-11T00:00:00'),\r\n",
                "                ('1983-01-05T00:00:00'),\r\n",
                "                ('2006-11-27T00:00:00'),\r\n",
                "                ('2013-08-03T00:00:00')) dt (MyDate)\r\n",
                "CROSS APPLY (SELECT CAST(dt.MyDate AS DATE)) AS ca(MyDate);\r\n",
                "\r\n",
                "SELECT  'StartOfHour' AS ConversionType,\r\n",
                "       \tFORMAT(@MyDate, 'yyyy-MM-dd HH:00:00.000') AS DateResult\r\n",
                "UNION ALL\r\n",
                "SELECT  'StartOfMinute',\r\n",
                "        FORMAT(@MyDate, 'yyyy-MM-dd HH:mm:00.000')\r\n",
                "UNION ALL\r\n",
                "SELECT  'StartOfSecond',\r\n",
                "       \tFORMAT(@MyDate, 'yyyy-MM-dd HH:mm:ss.000');"
            ],
            "metadata": {
                "azdata_cell_guid": "f75d7d8f-31a6-4edc-9c3f-1d485775e661"
            },
            "outputs": [
                {
                    "output_type": "display_data",
                    "data": {
                        "text/html": "Commands completed successfully."
                    },
                    "metadata": {}
                },
                {
                    "output_type": "display_data",
                    "data": {
                        "text/html": "Total execution time: 00:00:00.588"
                    },
                    "metadata": {}
                },
                {
                    "output_type": "execute_result",
                    "metadata": {},
                    "execution_count": 13,
                    "data": {
                        "application/vnd.dataresource+json": {
                            "schema": {
                                "fields": [
                                    {
                                        "name": "MyDate"
                                    },
                                    {
                                        "name": "FirstDayOfYear"
                                    },
                                    {
                                        "name": "FirstDayOfMonth"
                                    },
                                    {
                                        "name": "FirstDayOfQuarter"
                                    }
                                ]
                            },
                            "data": [
                                {
                                    "0": "1981-01-17T00:00:00",
                                    "1": "1981-01-01 00:00:00.000",
                                    "2": "1981-01-01 00:00:00.000",
                                    "3": "1981-01-01 00:00:00.000"
                                },
                                {
                                    "0": "1961-11-23T00:00:00",
                                    "1": "1961-01-01 00:00:00.000",
                                    "2": "1961-11-01 00:00:00.000",
                                    "3": "1961-10-01 00:00:00.000"
                                },
                                {
                                    "0": "1960-07-09T00:00:00",
                                    "1": "1960-01-01 00:00:00.000",
                                    "2": "1960-07-01 00:00:00.000",
                                    "3": "1960-07-01 00:00:00.000"
                                },
                                {
                                    "0": "1980-07-11T00:00:00",
                                    "1": "1980-01-01 00:00:00.000",
                                    "2": "1980-07-01 00:00:00.000",
                                    "3": "1980-07-01 00:00:00.000"
                                },
                                {
                                    "0": "1983-01-05T00:00:00",
                                    "1": "1983-01-01 00:00:00.000",
                                    "2": "1983-01-01 00:00:00.000",
                                    "3": "1983-01-01 00:00:00.000"
                                },
                                {
                                    "0": "2006-11-27T00:00:00",
                                    "1": "2006-01-01 00:00:00.000",
                                    "2": "2006-11-01 00:00:00.000",
                                    "3": "2006-10-01 00:00:00.000"
                                },
                                {
                                    "0": "2013-08-03T00:00:00",
                                    "1": "2013-01-01 00:00:00.000",
                                    "2": "2013-08-01 00:00:00.000",
                                    "3": "2013-07-01 00:00:00.000"
                                }
                            ]
                        },
                        "text/html": [
                            "<table>",
                            "<tr><th>MyDate</th><th>FirstDayOfYear</th><th>FirstDayOfMonth</th><th>FirstDayOfQuarter</th></tr>",
                            "<tr><td>1981-01-17T00:00:00</td><td>1981-01-01 00:00:00.000</td><td>1981-01-01 00:00:00.000</td><td>1981-01-01 00:00:00.000</td></tr>",
                            "<tr><td>1961-11-23T00:00:00</td><td>1961-01-01 00:00:00.000</td><td>1961-11-01 00:00:00.000</td><td>1961-10-01 00:00:00.000</td></tr>",
                            "<tr><td>1960-07-09T00:00:00</td><td>1960-01-01 00:00:00.000</td><td>1960-07-01 00:00:00.000</td><td>1960-07-01 00:00:00.000</td></tr>",
                            "<tr><td>1980-07-11T00:00:00</td><td>1980-01-01 00:00:00.000</td><td>1980-07-01 00:00:00.000</td><td>1980-07-01 00:00:00.000</td></tr>",
                            "<tr><td>1983-01-05T00:00:00</td><td>1983-01-01 00:00:00.000</td><td>1983-01-01 00:00:00.000</td><td>1983-01-01 00:00:00.000</td></tr>",
                            "<tr><td>2006-11-27T00:00:00</td><td>2006-01-01 00:00:00.000</td><td>2006-11-01 00:00:00.000</td><td>2006-10-01 00:00:00.000</td></tr>",
                            "<tr><td>2013-08-03T00:00:00</td><td>2013-01-01 00:00:00.000</td><td>2013-08-01 00:00:00.000</td><td>2013-07-01 00:00:00.000</td></tr>",
                            "</table>"
                        ]
                    }
                },
                {
                    "output_type": "execute_result",
                    "metadata": {},
                    "execution_count": 13,
                    "data": {
                        "application/vnd.dataresource+json": {
                            "schema": {
                                "fields": [
                                    {
                                        "name": "ConversionType"
                                    },
                                    {
                                        "name": "DateResult"
                                    }
                                ]
                            },
                            "data": [
                                {
                                    "0": "StartOfHour",
                                    "1": "2012-01-01 18:00:00.000"
                                },
                                {
                                    "0": "StartOfMinute",
                                    "1": "2012-01-01 18:25:00.000"
                                },
                                {
                                    "0": "StartOfSecond",
                                    "1": "2012-01-01 18:25:42.000"
                                }
                            ]
                        },
                        "text/html": [
                            "<table>",
                            "<tr><th>ConversionType</th><th>DateResult</th></tr>",
                            "<tr><td>StartOfHour</td><td>2012-01-01 18:00:00.000</td></tr>",
                            "<tr><td>StartOfMinute</td><td>2012-01-01 18:25:00.000</td></tr>",
                            "<tr><td>StartOfSecond</td><td>2012-01-01 18:25:42.000</td></tr>",
                            "</table>"
                        ]
                    }
                },
                {
                    "output_type": "execute_result",
                    "metadata": {},
                    "execution_count": 13,
                    "data": {
                        "application/vnd.dataresource+json": {
                            "schema": {
                                "fields": [
                                    {
                                        "name": "MyDate"
                                    },
                                    {
                                        "name": "FirstDayOfYear"
                                    },
                                    {
                                        "name": "FirstDayOfMonth"
                                    },
                                    {
                                        "name": "FirstDayOfQuarter"
                                    }
                                ]
                            },
                            "data": [
                                {
                                    "0": "1981-01-17T00:00:00",
                                    "1": "1981-01-01 00:00:00.000",
                                    "2": "1981-01-01 00:00:00.000",
                                    "3": "1981-01-01 00:00:00.000"
                                },
                                {
                                    "0": "1961-11-23T00:00:00",
                                    "1": "1961-01-01 00:00:00.000",
                                    "2": "1961-11-01 00:00:00.000",
                                    "3": "1961-10-01 00:00:00.000"
                                },
                                {
                                    "0": "1960-07-09T00:00:00",
                                    "1": "1960-01-01 00:00:00.000",
                                    "2": "1960-07-01 00:00:00.000",
                                    "3": "1960-07-01 00:00:00.000"
                                },
                                {
                                    "0": "1980-07-11T00:00:00",
                                    "1": "1980-01-01 00:00:00.000",
                                    "2": "1980-07-01 00:00:00.000",
                                    "3": "1980-07-01 00:00:00.000"
                                },
                                {
                                    "0": "1983-01-05T00:00:00",
                                    "1": "1983-01-01 00:00:00.000",
                                    "2": "1983-01-01 00:00:00.000",
                                    "3": "1983-01-01 00:00:00.000"
                                },
                                {
                                    "0": "2006-11-27T00:00:00",
                                    "1": "2006-01-01 00:00:00.000",
                                    "2": "2006-11-01 00:00:00.000",
                                    "3": "2006-10-01 00:00:00.000"
                                },
                                {
                                    "0": "2013-08-03T00:00:00",
                                    "1": "2013-01-01 00:00:00.000",
                                    "2": "2013-08-01 00:00:00.000",
                                    "3": "2013-07-01 00:00:00.000"
                                }
                            ]
                        },
                        "text/html": [
                            "<table>",
                            "<tr><th>MyDate</th><th>FirstDayOfYear</th><th>FirstDayOfMonth</th><th>FirstDayOfQuarter</th></tr>",
                            "<tr><td>1981-01-17T00:00:00</td><td>1981-01-01 00:00:00.000</td><td>1981-01-01 00:00:00.000</td><td>1981-01-01 00:00:00.000</td></tr>",
                            "<tr><td>1961-11-23T00:00:00</td><td>1961-01-01 00:00:00.000</td><td>1961-11-01 00:00:00.000</td><td>1961-10-01 00:00:00.000</td></tr>",
                            "<tr><td>1960-07-09T00:00:00</td><td>1960-01-01 00:00:00.000</td><td>1960-07-01 00:00:00.000</td><td>1960-07-01 00:00:00.000</td></tr>",
                            "<tr><td>1980-07-11T00:00:00</td><td>1980-01-01 00:00:00.000</td><td>1980-07-01 00:00:00.000</td><td>1980-07-01 00:00:00.000</td></tr>",
                            "<tr><td>1983-01-05T00:00:00</td><td>1983-01-01 00:00:00.000</td><td>1983-01-01 00:00:00.000</td><td>1983-01-01 00:00:00.000</td></tr>",
                            "<tr><td>2006-11-27T00:00:00</td><td>2006-01-01 00:00:00.000</td><td>2006-11-01 00:00:00.000</td><td>2006-10-01 00:00:00.000</td></tr>",
                            "<tr><td>2013-08-03T00:00:00</td><td>2013-01-01 00:00:00.000</td><td>2013-08-01 00:00:00.000</td><td>2013-07-01 00:00:00.000</td></tr>",
                            "</table>"
                        ]
                    }
                },
                {
                    "output_type": "execute_result",
                    "metadata": {},
                    "execution_count": 13,
                    "data": {
                        "application/vnd.dataresource+json": {
                            "schema": {
                                "fields": [
                                    {
                                        "name": "ConversionType"
                                    },
                                    {
                                        "name": "DateResult"
                                    }
                                ]
                            },
                            "data": [
                                {
                                    "0": "StartOfHour",
                                    "1": "2012-01-01 18:00:00.000"
                                },
                                {
                                    "0": "StartOfMinute",
                                    "1": "2012-01-01 18:25:00.000"
                                },
                                {
                                    "0": "StartOfSecond",
                                    "1": "2012-01-01 18:25:42.000"
                                }
                            ]
                        },
                        "text/html": [
                            "<table>",
                            "<tr><th>ConversionType</th><th>DateResult</th></tr>",
                            "<tr><td>StartOfHour</td><td>2012-01-01 18:00:00.000</td></tr>",
                            "<tr><td>StartOfMinute</td><td>2012-01-01 18:25:00.000</td></tr>",
                            "<tr><td>StartOfSecond</td><td>2012-01-01 18:25:42.000</td></tr>",
                            "</table>"
                        ]
                    }
                },
                {
                    "output_type": "execute_result",
                    "metadata": {},
                    "execution_count": 13,
                    "data": {
                        "application/vnd.dataresource+json": {
                            "schema": {
                                "fields": [
                                    {
                                        "name": "MyDate"
                                    },
                                    {
                                        "name": "FirstDayOfYear"
                                    },
                                    {
                                        "name": "FirstDayOfMonth"
                                    }
                                ]
                            },
                            "data": [
                                {
                                    "0": "1981-01-17",
                                    "1": "1981-01-01 00:00:00.000",
                                    "2": "1981-01-01 00:00:00.000"
                                },
                                {
                                    "0": "1961-11-23",
                                    "1": "1961-01-01 00:00:00.000",
                                    "2": "1961-11-01 00:00:00.000"
                                },
                                {
                                    "0": "1960-07-09",
                                    "1": "1960-01-01 00:00:00.000",
                                    "2": "1960-07-01 00:00:00.000"
                                },
                                {
                                    "0": "1980-07-11",
                                    "1": "1980-01-01 00:00:00.000",
                                    "2": "1980-07-01 00:00:00.000"
                                },
                                {
                                    "0": "1983-01-05",
                                    "1": "1983-01-01 00:00:00.000",
                                    "2": "1983-01-01 00:00:00.000"
                                },
                                {
                                    "0": "2006-11-27",
                                    "1": "2006-01-01 00:00:00.000",
                                    "2": "2006-11-01 00:00:00.000"
                                },
                                {
                                    "0": "2013-08-03",
                                    "1": "2013-01-01 00:00:00.000",
                                    "2": "2013-08-01 00:00:00.000"
                                }
                            ]
                        },
                        "text/html": [
                            "<table>",
                            "<tr><th>MyDate</th><th>FirstDayOfYear</th><th>FirstDayOfMonth</th></tr>",
                            "<tr><td>1981-01-17</td><td>1981-01-01 00:00:00.000</td><td>1981-01-01 00:00:00.000</td></tr>",
                            "<tr><td>1961-11-23</td><td>1961-01-01 00:00:00.000</td><td>1961-11-01 00:00:00.000</td></tr>",
                            "<tr><td>1960-07-09</td><td>1960-01-01 00:00:00.000</td><td>1960-07-01 00:00:00.000</td></tr>",
                            "<tr><td>1980-07-11</td><td>1980-01-01 00:00:00.000</td><td>1980-07-01 00:00:00.000</td></tr>",
                            "<tr><td>1983-01-05</td><td>1983-01-01 00:00:00.000</td><td>1983-01-01 00:00:00.000</td></tr>",
                            "<tr><td>2006-11-27</td><td>2006-01-01 00:00:00.000</td><td>2006-11-01 00:00:00.000</td></tr>",
                            "<tr><td>2013-08-03</td><td>2013-01-01 00:00:00.000</td><td>2013-08-01 00:00:00.000</td></tr>",
                            "</table>"
                        ]
                    }
                },
                {
                    "output_type": "execute_result",
                    "metadata": {},
                    "execution_count": 13,
                    "data": {
                        "application/vnd.dataresource+json": {
                            "schema": {
                                "fields": [
                                    {
                                        "name": "ConversionType"
                                    },
                                    {
                                        "name": "DateResult"
                                    }
                                ]
                            },
                            "data": [
                                {
                                    "0": "StartOfHour",
                                    "1": "2012-01-01 18:00:00.000"
                                },
                                {
                                    "0": "StartOfMinute",
                                    "1": "2012-01-01 18:25:00.000"
                                },
                                {
                                    "0": "StartOfSecond",
                                    "1": "2012-01-01 18:25:42.000"
                                }
                            ]
                        },
                        "text/html": [
                            "<table>",
                            "<tr><th>ConversionType</th><th>DateResult</th></tr>",
                            "<tr><td>StartOfHour</td><td>2012-01-01 18:00:00.000</td></tr>",
                            "<tr><td>StartOfMinute</td><td>2012-01-01 18:25:00.000</td></tr>",
                            "<tr><td>StartOfSecond</td><td>2012-01-01 18:25:42.000</td></tr>",
                            "</table>"
                        ]
                    }
                }
            ],
            "execution_count": 13
        },
        {
            "cell_type": "code",
            "source": [
                "-- recipe 10.13\r\n",
                "DECLARE @Base DATETIME = '1900-01-01T00:00:00';\r\n",
                "WITH cteExpenses AS \r\n",
                "(\r\n",
                "SELECT  ca.FirstOfMonth,\r\n",
                "        SUM(ExpenseAmount) AS MonthlyExpenses\r\n",
                "FROM    ( VALUES ('2012-01-15T00:00:00', 1250.00),\r\n",
                "                 ('2012-01-28T00:00:00', 750.00), \r\n",
                "                 ('2012-03-01T00:00:00', 1475.00),\r\n",
                "                 ('2012-03-23T00:00:00', 2285.00), \r\n",
                "                 ('2012-04-01T00:00:00', 1650.00),\r\n",
                "                 ('2012-04-22T00:00:00', 1452.00), \r\n",
                "                 ('2012-06-15T00:00:00', 1875.00),\r\n",
                "                 ('2012-07-23T00:00:00', 2125.00) ) dt (ExpenseDate, ExpenseAmount)\r\n",
                "CROSS APPLY (SELECT DATEADD(MONTH, \r\n",
                "                    DATEDIFF(MONTH, @Base, ExpenseDate), @Base) ) ca (FirstOfMonth)\r\n",
                "GROUP BY  ca.FirstOfMonth\r\n",
                "), cteMonths AS \r\n",
                "(\r\n",
                "SELECT  DATEFROMPARTS(2012, M, 1) AS FirstOfMonth\r\n",
                "FROM    ( VALUES (1), (2),  (3),  (4), \r\n",
                "                 (5), (6),  (7),  (8), \r\n",
                "                 (9), (10), (11), (12) ) Months (M)\r\n",
                ")\r\n",
                "SELECT  CAST(FirstOfMonth AS DATE) AS FirstOfMonth,\r\n",
                "       \tMonthlyExpenses\r\n",
                "FROM    cteExpenses\r\n",
                "UNION ALL\r\n",
                "SELECT  m.FirstOfMonth,\r\n",
                "        0\r\n",
                "FROM    cteMonths M\r\n",
                "        LEFT JOIN cteExpenses e\r\n",
                "            ON M.FirstOfMonth = e.FirstOfMonth\r\n",
                "WHERE   e.FirstOfMonth IS NULL\r\n",
                "ORDER BY FirstOfMonth;\r\n",
                ""
            ],
            "metadata": {
                "azdata_cell_guid": "6b2bc6b5-5c8c-476a-8356-4b5cc323d805"
            },
            "outputs": [
                {
                    "output_type": "display_data",
                    "data": {
                        "text/html": "Commands completed successfully."
                    },
                    "metadata": {}
                },
                {
                    "output_type": "display_data",
                    "data": {
                        "text/html": "Total execution time: 00:00:00.020"
                    },
                    "metadata": {}
                },
                {
                    "output_type": "execute_result",
                    "metadata": {},
                    "execution_count": 14,
                    "data": {
                        "application/vnd.dataresource+json": {
                            "schema": {
                                "fields": [
                                    {
                                        "name": "FirstOfMonth"
                                    },
                                    {
                                        "name": "MonthlyExpenses"
                                    }
                                ]
                            },
                            "data": [
                                {
                                    "0": "2012-01-01",
                                    "1": "2000.00"
                                },
                                {
                                    "0": "2012-02-01",
                                    "1": "0.00"
                                },
                                {
                                    "0": "2012-03-01",
                                    "1": "3760.00"
                                },
                                {
                                    "0": "2012-04-01",
                                    "1": "3102.00"
                                },
                                {
                                    "0": "2012-05-01",
                                    "1": "0.00"
                                },
                                {
                                    "0": "2012-06-01",
                                    "1": "1875.00"
                                },
                                {
                                    "0": "2012-07-01",
                                    "1": "2125.00"
                                },
                                {
                                    "0": "2012-08-01",
                                    "1": "0.00"
                                },
                                {
                                    "0": "2012-09-01",
                                    "1": "0.00"
                                },
                                {
                                    "0": "2012-10-01",
                                    "1": "0.00"
                                },
                                {
                                    "0": "2012-11-01",
                                    "1": "0.00"
                                },
                                {
                                    "0": "2012-12-01",
                                    "1": "0.00"
                                }
                            ]
                        },
                        "text/html": [
                            "<table>",
                            "<tr><th>FirstOfMonth</th><th>MonthlyExpenses</th></tr>",
                            "<tr><td>2012-01-01</td><td>2000.00</td></tr>",
                            "<tr><td>2012-02-01</td><td>0.00</td></tr>",
                            "<tr><td>2012-03-01</td><td>3760.00</td></tr>",
                            "<tr><td>2012-04-01</td><td>3102.00</td></tr>",
                            "<tr><td>2012-05-01</td><td>0.00</td></tr>",
                            "<tr><td>2012-06-01</td><td>1875.00</td></tr>",
                            "<tr><td>2012-07-01</td><td>2125.00</td></tr>",
                            "<tr><td>2012-08-01</td><td>0.00</td></tr>",
                            "<tr><td>2012-09-01</td><td>0.00</td></tr>",
                            "<tr><td>2012-10-01</td><td>0.00</td></tr>",
                            "<tr><td>2012-11-01</td><td>0.00</td></tr>",
                            "<tr><td>2012-12-01</td><td>0.00</td></tr>",
                            "</table>"
                        ]
                    }
                }
            ],
            "execution_count": 14
        },
        {
            "cell_type": "code",
            "source": [
                "-- recipe 10.14\r\n",
                "IF OBJECT_ID('dbo.Calendar') IS NULL\r\n",
                "CREATE TABLE dbo.Calendar (\r\n",
                "  \t\t[Date] DATE CONSTRAINT PK_Calendar PRIMARY KEY CLUSTERED,\r\n",
                "  \t\tFirstDayOfYear DATE,\r\n",
                "  \t\tLastDayOfYear DATE,\r\n",
                "  \t\tFirstDayOfMonth DATE,\r\n",
                "  \t\tLastDayOfMonth DATE,\r\n",
                "  \t\tFirstDayOfWeek DATE,\r\n",
                "  \t\tLastDayOfWeek DATE,\r\n",
                "  \t\tDayOfWeekName NVARCHAR(20),\r\n",
                "  \t\tIsWeekDay BIT,\r\n",
                "  \t\tIsWeekEnd BIT);\r\n",
                "GO\r\n",
                "DECLARE @Base  DATETIME = '1900-01-01T00:00:00',\r\n",
                "        @Start DATETIME = '2000-01-01T00:00:00';\r\n",
                "INSERT INTO dbo.Calendar \r\n",
                "SELECT \tTOP (9497)\r\n",
                "       \t\tca.Date,\r\n",
                "       \t\tcy.FirstDayOfYear,\r\n",
                "       \t\tcyl.LastDayOfYear,\r\n",
                "       \t\tcm.FirstDayOfMonth,\r\n",
                "       \t\tcml.LastDayOfMonth,\r\n",
                "       \t\tcw.FirstDayOfWeek,\r\n",
                "       \t\tcwl.LastDayOfWeek,\r\n",
                "       \t\tcd.DayOfWeekName,\r\n",
                "       \t\tcwd.IsWeekDay,\r\n",
                "       \t\tCAST(cwd.IsWeekDay - 1 AS BIT) AS IsWeekEnd\r\n",
                "FROM        (SELECT ROW_NUMBER() OVER (ORDER BY (SELECT 0))\r\n",
                "             FROM sys.all_columns t1\r\n",
                "             CROSS JOIN sys.all_columns t2) dt (RN)\r\n",
                "CROSS APPLY (SELECT DATEADD(DAY, RN-1, @Start)) AS ca(Date)\r\n",
                "CROSS APPLY (SELECT DATEADD(YEAR, DATEDIFF(YEAR, @Base, ca.Date), @Base)) AS cy(FirstDayOfYear)\r\n",
                "CROSS APPLY (SELECT DATEADD(DAY, -1, DATEADD(YEAR, 1, cy.FirstDayOfYear))) AS cyl(LastDayOfYear)\r\n",
                "CROSS APPLY (SELECT DATEADD(MONTH, DATEDIFF(MONTH, @Base, ca.Date), @Base)) AS cm(FirstDayOfMonth)\r\n",
                "CROSS APPLY (SELECT DATEADD(DAY, -1, DATEADD(MONTH, 1, cm.FirstDayOfMonth))) AS cml(LastDayOfMonth)\r\n",
                "CROSS APPLY (SELECT DATEADD(DAY,-(DATEPART(weekday ,ca.Date)-1),ca.Date)) AS cw(FirstDayOfWeek)\r\n",
                "CROSS APPLY (SELECT DATEADD(DAY, 6, cw.FirstDayOfWeek)) AS cwl(LastDayOfWeek)\r\n",
                "CROSS APPLY (SELECT DATENAME(weekday, ca.Date)) AS cd(DayOfWeekName)\r\n",
                "CROSS APPLY (SELECT CASE WHEN cd.DayOfWeekName \r\n",
                "                         IN ('Monday', 'Tuesday', 'Wednesday', 'Thursday', 'Friday')\r\n",
                "                         THEN 1 \r\n",
                "                         ELSE 0 \r\n",
                "                    END) AS cwd(IsWeekDay);\r\n",
                "GO\r\n",
                "\r\n",
                "WITH cte AS\r\n",
                "(\r\n",
                "SELECT  FirstDayOfMonth,\r\n",
                "        Date,\r\n",
                "       \tRN = ROW_NUMBER() OVER (PARTITION BY FirstDayOfMonth ORDER BY Date)\r\n",
                "FROM   \tdbo.Calendar\r\n",
                "WHERE   DayOfWeekName = 'Thursday'\r\n",
                ")\r\n",
                "SELECT \tDate\r\n",
                "FROM   \tcte\r\n",
                "WHERE   RN = 3\r\n",
                "AND     FirstDayOfMonth = '2012-11-01T00:00:00';\r\n",
                "\r\n",
                "SELECT  c1.Date\r\n",
                "FROM    dbo.Calendar c1 -- prior week\r\n",
                "        JOIN dbo.Calendar c2 -- current week\r\n",
                "        \tON c1.FirstDayOfWeek = DATEADD(DAY, -7, c2.FirstDayOfWeek)\r\n",
                "WHERE   c1.DayOfWeekName = 'Friday'\r\n",
                "AND     c2.Date = CAST(GETDATE() AS DATE);"
            ],
            "metadata": {
                "azdata_cell_guid": "be5ad451-3851-43a2-b257-a41bd74e408b"
            },
            "outputs": [
                {
                    "output_type": "display_data",
                    "data": {
                        "text/html": "Commands completed successfully."
                    },
                    "metadata": {}
                },
                {
                    "output_type": "display_data",
                    "data": {
                        "text/html": "Commands completed successfully."
                    },
                    "metadata": {}
                },
                {
                    "output_type": "display_data",
                    "data": {
                        "text/html": "Commands completed successfully."
                    },
                    "metadata": {}
                },
                {
                    "output_type": "display_data",
                    "data": {
                        "text/html": "Total execution time: 00:00:00.203"
                    },
                    "metadata": {}
                },
                {
                    "output_type": "execute_result",
                    "metadata": {},
                    "execution_count": 15,
                    "data": {
                        "application/vnd.dataresource+json": {
                            "schema": {
                                "fields": [
                                    {
                                        "name": "Date"
                                    }
                                ]
                            },
                            "data": [
                                {
                                    "0": "2012-11-15"
                                }
                            ]
                        },
                        "text/html": [
                            "<table>",
                            "<tr><th>Date</th></tr>",
                            "<tr><td>2012-11-15</td></tr>",
                            "</table>"
                        ]
                    }
                },
                {
                    "output_type": "execute_result",
                    "metadata": {},
                    "execution_count": 15,
                    "data": {
                        "application/vnd.dataresource+json": {
                            "schema": {
                                "fields": [
                                    {
                                        "name": "Date"
                                    }
                                ]
                            },
                            "data": [
                                {
                                    "0": "2020-09-11"
                                }
                            ]
                        },
                        "text/html": [
                            "<table>",
                            "<tr><th>Date</th></tr>",
                            "<tr><td>2020-09-11</td></tr>",
                            "</table>"
                        ]
                    }
                }
            ],
            "execution_count": 15
        },
        {
            "cell_type": "code",
            "source": [
                "-- recipe 10.15\r\n",
                "WITH cte AS \r\n",
                "(\r\n",
                "SELECT  edh.BusinessEntityID,\r\n",
                "        c.FirstDayOfMonth\r\n",
                "FROM    HumanResources.EmployeeDepartmentHistory AS edh\r\n",
                "        JOIN dbo.Calendar AS c\r\n",
                "            ON c.Date BETWEEN edh.StartDate\r\n",
                "                AND ISNULL(edh.EndDate, GETDATE())\r\n",
                "GROUP BY edh.BusinessEntityID,\r\n",
                "         c.FirstDayOfMonth\r\n",
                ")\r\n",
                "SELECT  FirstDayOfMonth,\r\n",
                "        COUNT(*) AS EmployeeQty\r\n",
                "FROM    cte\r\n",
                "GROUP BY FirstDayOfMonth\r\n",
                "ORDER BY FirstDayOfMonth;\r\n",
                "\r\n",
                "IF OBJECT_ID('dbo.Calendar') IS NOT NULL DROP TABLE dbo.Calendar;"
            ],
            "metadata": {
                "azdata_cell_guid": "f882e904-0955-4fb7-bb80-74f918e8732e"
            },
            "outputs": [
                {
                    "output_type": "display_data",
                    "data": {
                        "text/html": "Commands completed successfully."
                    },
                    "metadata": {}
                },
                {
                    "output_type": "display_data",
                    "data": {
                        "text/html": "Total execution time: 00:00:00.873"
                    },
                    "metadata": {}
                },
                {
                    "output_type": "execute_result",
                    "metadata": {},
                    "execution_count": 16,
                    "data": {
                        "application/vnd.dataresource+json": {
                            "schema": {
                                "fields": [
                                    {
                                        "name": "FirstDayOfMonth"
                                    },
                                    {
                                        "name": "EmployeeQty"
                                    }
                                ]
                            },
                            "data": [
                                {
                                    "0": "2006-06-01",
                                    "1": "1"
                                },
                                {
                                    "0": "2006-07-01",
                                    "1": "1"
                                },
                                {
                                    "0": "2006-08-01",
                                    "1": "1"
                                },
                                {
                                    "0": "2006-09-01",
                                    "1": "1"
                                },
                                {
                                    "0": "2006-10-01",
                                    "1": "1"
                                },
                                {
                                    "0": "2006-11-01",
                                    "1": "1"
                                },
                                {
                                    "0": "2006-12-01",
                                    "1": "1"
                                },
                                {
                                    "0": "2007-01-01",
                                    "1": "2"
                                },
                                {
                                    "0": "2007-02-01",
                                    "1": "2"
                                },
                                {
                                    "0": "2007-03-01",
                                    "1": "2"
                                },
                                {
                                    "0": "2007-04-01",
                                    "1": "2"
                                },
                                {
                                    "0": "2007-05-01",
                                    "1": "2"
                                },
                                {
                                    "0": "2007-06-01",
                                    "1": "2"
                                },
                                {
                                    "0": "2007-07-01",
                                    "1": "2"
                                },
                                {
                                    "0": "2007-08-01",
                                    "1": "2"
                                },
                                {
                                    "0": "2007-09-01",
                                    "1": "2"
                                },
                                {
                                    "0": "2007-10-01",
                                    "1": "2"
                                },
                                {
                                    "0": "2007-11-01",
                                    "1": "3"
                                },
                                {
                                    "0": "2007-12-01",
                                    "1": "7"
                                },
                                {
                                    "0": "2008-01-01",
                                    "1": "12"
                                },
                                {
                                    "0": "2008-02-01",
                                    "1": "16"
                                },
                                {
                                    "0": "2008-03-01",
                                    "1": "19"
                                },
                                {
                                    "0": "2008-04-01",
                                    "1": "19"
                                },
                                {
                                    "0": "2008-05-01",
                                    "1": "19"
                                },
                                {
                                    "0": "2008-06-01",
                                    "1": "19"
                                },
                                {
                                    "0": "2008-07-01",
                                    "1": "19"
                                },
                                {
                                    "0": "2008-08-01",
                                    "1": "19"
                                },
                                {
                                    "0": "2008-09-01",
                                    "1": "19"
                                },
                                {
                                    "0": "2008-10-01",
                                    "1": "19"
                                },
                                {
                                    "0": "2008-11-01",
                                    "1": "19"
                                },
                                {
                                    "0": "2008-12-01",
                                    "1": "81"
                                },
                                {
                                    "0": "2009-01-01",
                                    "1": "142"
                                },
                                {
                                    "0": "2009-02-01",
                                    "1": "200"
                                },
                                {
                                    "0": "2009-03-01",
                                    "1": "216"
                                },
                                {
                                    "0": "2009-04-01",
                                    "1": "216"
                                },
                                {
                                    "0": "2009-05-01",
                                    "1": "217"
                                },
                                {
                                    "0": "2009-06-01",
                                    "1": "217"
                                },
                                {
                                    "0": "2009-07-01",
                                    "1": "217"
                                },
                                {
                                    "0": "2009-08-01",
                                    "1": "217"
                                },
                                {
                                    "0": "2009-09-01",
                                    "1": "217"
                                },
                                {
                                    "0": "2009-10-01",
                                    "1": "217"
                                },
                                {
                                    "0": "2009-11-01",
                                    "1": "217"
                                },
                                {
                                    "0": "2009-12-01",
                                    "1": "229"
                                },
                                {
                                    "0": "2010-01-01",
                                    "1": "244"
                                },
                                {
                                    "0": "2010-02-01",
                                    "1": "256"
                                },
                                {
                                    "0": "2010-03-01",
                                    "1": "262"
                                },
                                {
                                    "0": "2010-04-01",
                                    "1": "262"
                                },
                                {
                                    "0": "2010-05-01",
                                    "1": "262"
                                },
                                {
                                    "0": "2010-06-01",
                                    "1": "262"
                                },
                                {
                                    "0": "2010-07-01",
                                    "1": "262"
                                },
                                {
                                    "0": "2010-08-01",
                                    "1": "262"
                                },
                                {
                                    "0": "2010-09-01",
                                    "1": "262"
                                },
                                {
                                    "0": "2010-10-01",
                                    "1": "262"
                                },
                                {
                                    "0": "2010-11-01",
                                    "1": "262"
                                },
                                {
                                    "0": "2010-12-01",
                                    "1": "267"
                                },
                                {
                                    "0": "2011-01-01",
                                    "1": "270"
                                },
                                {
                                    "0": "2011-02-01",
                                    "1": "274"
                                },
                                {
                                    "0": "2011-03-01",
                                    "1": "274"
                                },
                                {
                                    "0": "2011-04-01",
                                    "1": "274"
                                },
                                {
                                    "0": "2011-05-01",
                                    "1": "283"
                                },
                                {
                                    "0": "2011-06-01",
                                    "1": "283"
                                },
                                {
                                    "0": "2011-07-01",
                                    "1": "283"
                                },
                                {
                                    "0": "2011-08-01",
                                    "1": "283"
                                },
                                {
                                    "0": "2011-09-01",
                                    "1": "283"
                                },
                                {
                                    "0": "2011-10-01",
                                    "1": "283"
                                },
                                {
                                    "0": "2011-11-01",
                                    "1": "283"
                                },
                                {
                                    "0": "2011-12-01",
                                    "1": "283"
                                },
                                {
                                    "0": "2012-01-01",
                                    "1": "283"
                                },
                                {
                                    "0": "2012-02-01",
                                    "1": "283"
                                },
                                {
                                    "0": "2012-03-01",
                                    "1": "283"
                                },
                                {
                                    "0": "2012-04-01",
                                    "1": "284"
                                },
                                {
                                    "0": "2012-05-01",
                                    "1": "286"
                                },
                                {
                                    "0": "2012-06-01",
                                    "1": "286"
                                },
                                {
                                    "0": "2012-07-01",
                                    "1": "286"
                                },
                                {
                                    "0": "2012-08-01",
                                    "1": "286"
                                },
                                {
                                    "0": "2012-09-01",
                                    "1": "287"
                                },
                                {
                                    "0": "2012-10-01",
                                    "1": "287"
                                },
                                {
                                    "0": "2012-11-01",
                                    "1": "287"
                                },
                                {
                                    "0": "2012-12-01",
                                    "1": "287"
                                },
                                {
                                    "0": "2013-01-01",
                                    "1": "287"
                                },
                                {
                                    "0": "2013-02-01",
                                    "1": "287"
                                },
                                {
                                    "0": "2013-03-01",
                                    "1": "288"
                                },
                                {
                                    "0": "2013-04-01",
                                    "1": "288"
                                },
                                {
                                    "0": "2013-05-01",
                                    "1": "290"
                                },
                                {
                                    "0": "2013-06-01",
                                    "1": "290"
                                },
                                {
                                    "0": "2013-07-01",
                                    "1": "290"
                                },
                                {
                                    "0": "2013-08-01",
                                    "1": "290"
                                },
                                {
                                    "0": "2013-09-01",
                                    "1": "290"
                                },
                                {
                                    "0": "2013-10-01",
                                    "1": "290"
                                },
                                {
                                    "0": "2013-11-01",
                                    "1": "290"
                                },
                                {
                                    "0": "2013-12-01",
                                    "1": "290"
                                },
                                {
                                    "0": "2014-01-01",
                                    "1": "290"
                                },
                                {
                                    "0": "2014-02-01",
                                    "1": "290"
                                },
                                {
                                    "0": "2014-03-01",
                                    "1": "290"
                                },
                                {
                                    "0": "2014-04-01",
                                    "1": "290"
                                },
                                {
                                    "0": "2014-05-01",
                                    "1": "290"
                                },
                                {
                                    "0": "2014-06-01",
                                    "1": "290"
                                },
                                {
                                    "0": "2014-07-01",
                                    "1": "290"
                                },
                                {
                                    "0": "2014-08-01",
                                    "1": "290"
                                },
                                {
                                    "0": "2014-09-01",
                                    "1": "290"
                                },
                                {
                                    "0": "2014-10-01",
                                    "1": "290"
                                },
                                {
                                    "0": "2014-11-01",
                                    "1": "290"
                                },
                                {
                                    "0": "2014-12-01",
                                    "1": "290"
                                },
                                {
                                    "0": "2015-01-01",
                                    "1": "290"
                                },
                                {
                                    "0": "2015-02-01",
                                    "1": "290"
                                },
                                {
                                    "0": "2015-03-01",
                                    "1": "290"
                                },
                                {
                                    "0": "2015-04-01",
                                    "1": "290"
                                },
                                {
                                    "0": "2015-05-01",
                                    "1": "290"
                                },
                                {
                                    "0": "2015-06-01",
                                    "1": "290"
                                },
                                {
                                    "0": "2015-07-01",
                                    "1": "290"
                                },
                                {
                                    "0": "2015-08-01",
                                    "1": "290"
                                },
                                {
                                    "0": "2015-09-01",
                                    "1": "290"
                                },
                                {
                                    "0": "2015-10-01",
                                    "1": "290"
                                },
                                {
                                    "0": "2015-11-01",
                                    "1": "290"
                                },
                                {
                                    "0": "2015-12-01",
                                    "1": "290"
                                },
                                {
                                    "0": "2016-01-01",
                                    "1": "290"
                                },
                                {
                                    "0": "2016-02-01",
                                    "1": "290"
                                },
                                {
                                    "0": "2016-03-01",
                                    "1": "290"
                                },
                                {
                                    "0": "2016-04-01",
                                    "1": "290"
                                },
                                {
                                    "0": "2016-05-01",
                                    "1": "290"
                                },
                                {
                                    "0": "2016-06-01",
                                    "1": "290"
                                },
                                {
                                    "0": "2016-07-01",
                                    "1": "290"
                                },
                                {
                                    "0": "2016-08-01",
                                    "1": "290"
                                },
                                {
                                    "0": "2016-09-01",
                                    "1": "290"
                                },
                                {
                                    "0": "2016-10-01",
                                    "1": "290"
                                },
                                {
                                    "0": "2016-11-01",
                                    "1": "290"
                                },
                                {
                                    "0": "2016-12-01",
                                    "1": "290"
                                },
                                {
                                    "0": "2017-01-01",
                                    "1": "290"
                                },
                                {
                                    "0": "2017-02-01",
                                    "1": "290"
                                },
                                {
                                    "0": "2017-03-01",
                                    "1": "290"
                                },
                                {
                                    "0": "2017-04-01",
                                    "1": "290"
                                },
                                {
                                    "0": "2017-05-01",
                                    "1": "290"
                                },
                                {
                                    "0": "2017-06-01",
                                    "1": "290"
                                },
                                {
                                    "0": "2017-07-01",
                                    "1": "290"
                                },
                                {
                                    "0": "2017-08-01",
                                    "1": "290"
                                },
                                {
                                    "0": "2017-09-01",
                                    "1": "290"
                                },
                                {
                                    "0": "2017-10-01",
                                    "1": "290"
                                },
                                {
                                    "0": "2017-11-01",
                                    "1": "290"
                                },
                                {
                                    "0": "2017-12-01",
                                    "1": "290"
                                },
                                {
                                    "0": "2018-01-01",
                                    "1": "290"
                                },
                                {
                                    "0": "2018-02-01",
                                    "1": "290"
                                },
                                {
                                    "0": "2018-03-01",
                                    "1": "290"
                                },
                                {
                                    "0": "2018-04-01",
                                    "1": "290"
                                },
                                {
                                    "0": "2018-05-01",
                                    "1": "290"
                                },
                                {
                                    "0": "2018-06-01",
                                    "1": "290"
                                },
                                {
                                    "0": "2018-07-01",
                                    "1": "290"
                                },
                                {
                                    "0": "2018-08-01",
                                    "1": "290"
                                },
                                {
                                    "0": "2018-09-01",
                                    "1": "290"
                                },
                                {
                                    "0": "2018-10-01",
                                    "1": "290"
                                },
                                {
                                    "0": "2018-11-01",
                                    "1": "290"
                                },
                                {
                                    "0": "2018-12-01",
                                    "1": "290"
                                },
                                {
                                    "0": "2019-01-01",
                                    "1": "290"
                                },
                                {
                                    "0": "2019-02-01",
                                    "1": "290"
                                },
                                {
                                    "0": "2019-03-01",
                                    "1": "290"
                                },
                                {
                                    "0": "2019-04-01",
                                    "1": "290"
                                },
                                {
                                    "0": "2019-05-01",
                                    "1": "290"
                                },
                                {
                                    "0": "2019-06-01",
                                    "1": "290"
                                },
                                {
                                    "0": "2019-07-01",
                                    "1": "290"
                                },
                                {
                                    "0": "2019-08-01",
                                    "1": "290"
                                },
                                {
                                    "0": "2019-09-01",
                                    "1": "290"
                                },
                                {
                                    "0": "2019-10-01",
                                    "1": "290"
                                },
                                {
                                    "0": "2019-11-01",
                                    "1": "290"
                                },
                                {
                                    "0": "2019-12-01",
                                    "1": "290"
                                },
                                {
                                    "0": "2020-01-01",
                                    "1": "290"
                                },
                                {
                                    "0": "2020-02-01",
                                    "1": "290"
                                },
                                {
                                    "0": "2020-03-01",
                                    "1": "290"
                                },
                                {
                                    "0": "2020-04-01",
                                    "1": "290"
                                },
                                {
                                    "0": "2020-05-01",
                                    "1": "290"
                                },
                                {
                                    "0": "2020-06-01",
                                    "1": "290"
                                },
                                {
                                    "0": "2020-07-01",
                                    "1": "290"
                                },
                                {
                                    "0": "2020-08-01",
                                    "1": "290"
                                },
                                {
                                    "0": "2020-09-01",
                                    "1": "290"
                                }
                            ]
                        },
                        "text/html": [
                            "<table>",
                            "<tr><th>FirstDayOfMonth</th><th>EmployeeQty</th></tr>",
                            "<tr><td>2006-06-01</td><td>1</td></tr>",
                            "<tr><td>2006-07-01</td><td>1</td></tr>",
                            "<tr><td>2006-08-01</td><td>1</td></tr>",
                            "<tr><td>2006-09-01</td><td>1</td></tr>",
                            "<tr><td>2006-10-01</td><td>1</td></tr>",
                            "<tr><td>2006-11-01</td><td>1</td></tr>",
                            "<tr><td>2006-12-01</td><td>1</td></tr>",
                            "<tr><td>2007-01-01</td><td>2</td></tr>",
                            "<tr><td>2007-02-01</td><td>2</td></tr>",
                            "<tr><td>2007-03-01</td><td>2</td></tr>",
                            "<tr><td>2007-04-01</td><td>2</td></tr>",
                            "<tr><td>2007-05-01</td><td>2</td></tr>",
                            "<tr><td>2007-06-01</td><td>2</td></tr>",
                            "<tr><td>2007-07-01</td><td>2</td></tr>",
                            "<tr><td>2007-08-01</td><td>2</td></tr>",
                            "<tr><td>2007-09-01</td><td>2</td></tr>",
                            "<tr><td>2007-10-01</td><td>2</td></tr>",
                            "<tr><td>2007-11-01</td><td>3</td></tr>",
                            "<tr><td>2007-12-01</td><td>7</td></tr>",
                            "<tr><td>2008-01-01</td><td>12</td></tr>",
                            "<tr><td>2008-02-01</td><td>16</td></tr>",
                            "<tr><td>2008-03-01</td><td>19</td></tr>",
                            "<tr><td>2008-04-01</td><td>19</td></tr>",
                            "<tr><td>2008-05-01</td><td>19</td></tr>",
                            "<tr><td>2008-06-01</td><td>19</td></tr>",
                            "<tr><td>2008-07-01</td><td>19</td></tr>",
                            "<tr><td>2008-08-01</td><td>19</td></tr>",
                            "<tr><td>2008-09-01</td><td>19</td></tr>",
                            "<tr><td>2008-10-01</td><td>19</td></tr>",
                            "<tr><td>2008-11-01</td><td>19</td></tr>",
                            "<tr><td>2008-12-01</td><td>81</td></tr>",
                            "<tr><td>2009-01-01</td><td>142</td></tr>",
                            "<tr><td>2009-02-01</td><td>200</td></tr>",
                            "<tr><td>2009-03-01</td><td>216</td></tr>",
                            "<tr><td>2009-04-01</td><td>216</td></tr>",
                            "<tr><td>2009-05-01</td><td>217</td></tr>",
                            "<tr><td>2009-06-01</td><td>217</td></tr>",
                            "<tr><td>2009-07-01</td><td>217</td></tr>",
                            "<tr><td>2009-08-01</td><td>217</td></tr>",
                            "<tr><td>2009-09-01</td><td>217</td></tr>",
                            "<tr><td>2009-10-01</td><td>217</td></tr>",
                            "<tr><td>2009-11-01</td><td>217</td></tr>",
                            "<tr><td>2009-12-01</td><td>229</td></tr>",
                            "<tr><td>2010-01-01</td><td>244</td></tr>",
                            "<tr><td>2010-02-01</td><td>256</td></tr>",
                            "<tr><td>2010-03-01</td><td>262</td></tr>",
                            "<tr><td>2010-04-01</td><td>262</td></tr>",
                            "<tr><td>2010-05-01</td><td>262</td></tr>",
                            "<tr><td>2010-06-01</td><td>262</td></tr>",
                            "<tr><td>2010-07-01</td><td>262</td></tr>",
                            "<tr><td>2010-08-01</td><td>262</td></tr>",
                            "<tr><td>2010-09-01</td><td>262</td></tr>",
                            "<tr><td>2010-10-01</td><td>262</td></tr>",
                            "<tr><td>2010-11-01</td><td>262</td></tr>",
                            "<tr><td>2010-12-01</td><td>267</td></tr>",
                            "<tr><td>2011-01-01</td><td>270</td></tr>",
                            "<tr><td>2011-02-01</td><td>274</td></tr>",
                            "<tr><td>2011-03-01</td><td>274</td></tr>",
                            "<tr><td>2011-04-01</td><td>274</td></tr>",
                            "<tr><td>2011-05-01</td><td>283</td></tr>",
                            "<tr><td>2011-06-01</td><td>283</td></tr>",
                            "<tr><td>2011-07-01</td><td>283</td></tr>",
                            "<tr><td>2011-08-01</td><td>283</td></tr>",
                            "<tr><td>2011-09-01</td><td>283</td></tr>",
                            "<tr><td>2011-10-01</td><td>283</td></tr>",
                            "<tr><td>2011-11-01</td><td>283</td></tr>",
                            "<tr><td>2011-12-01</td><td>283</td></tr>",
                            "<tr><td>2012-01-01</td><td>283</td></tr>",
                            "<tr><td>2012-02-01</td><td>283</td></tr>",
                            "<tr><td>2012-03-01</td><td>283</td></tr>",
                            "<tr><td>2012-04-01</td><td>284</td></tr>",
                            "<tr><td>2012-05-01</td><td>286</td></tr>",
                            "<tr><td>2012-06-01</td><td>286</td></tr>",
                            "<tr><td>2012-07-01</td><td>286</td></tr>",
                            "<tr><td>2012-08-01</td><td>286</td></tr>",
                            "<tr><td>2012-09-01</td><td>287</td></tr>",
                            "<tr><td>2012-10-01</td><td>287</td></tr>",
                            "<tr><td>2012-11-01</td><td>287</td></tr>",
                            "<tr><td>2012-12-01</td><td>287</td></tr>",
                            "<tr><td>2013-01-01</td><td>287</td></tr>",
                            "<tr><td>2013-02-01</td><td>287</td></tr>",
                            "<tr><td>2013-03-01</td><td>288</td></tr>",
                            "<tr><td>2013-04-01</td><td>288</td></tr>",
                            "<tr><td>2013-05-01</td><td>290</td></tr>",
                            "<tr><td>2013-06-01</td><td>290</td></tr>",
                            "<tr><td>2013-07-01</td><td>290</td></tr>",
                            "<tr><td>2013-08-01</td><td>290</td></tr>",
                            "<tr><td>2013-09-01</td><td>290</td></tr>",
                            "<tr><td>2013-10-01</td><td>290</td></tr>",
                            "<tr><td>2013-11-01</td><td>290</td></tr>",
                            "<tr><td>2013-12-01</td><td>290</td></tr>",
                            "<tr><td>2014-01-01</td><td>290</td></tr>",
                            "<tr><td>2014-02-01</td><td>290</td></tr>",
                            "<tr><td>2014-03-01</td><td>290</td></tr>",
                            "<tr><td>2014-04-01</td><td>290</td></tr>",
                            "<tr><td>2014-05-01</td><td>290</td></tr>",
                            "<tr><td>2014-06-01</td><td>290</td></tr>",
                            "<tr><td>2014-07-01</td><td>290</td></tr>",
                            "<tr><td>2014-08-01</td><td>290</td></tr>",
                            "<tr><td>2014-09-01</td><td>290</td></tr>",
                            "<tr><td>2014-10-01</td><td>290</td></tr>",
                            "<tr><td>2014-11-01</td><td>290</td></tr>",
                            "<tr><td>2014-12-01</td><td>290</td></tr>",
                            "<tr><td>2015-01-01</td><td>290</td></tr>",
                            "<tr><td>2015-02-01</td><td>290</td></tr>",
                            "<tr><td>2015-03-01</td><td>290</td></tr>",
                            "<tr><td>2015-04-01</td><td>290</td></tr>",
                            "<tr><td>2015-05-01</td><td>290</td></tr>",
                            "<tr><td>2015-06-01</td><td>290</td></tr>",
                            "<tr><td>2015-07-01</td><td>290</td></tr>",
                            "<tr><td>2015-08-01</td><td>290</td></tr>",
                            "<tr><td>2015-09-01</td><td>290</td></tr>",
                            "<tr><td>2015-10-01</td><td>290</td></tr>",
                            "<tr><td>2015-11-01</td><td>290</td></tr>",
                            "<tr><td>2015-12-01</td><td>290</td></tr>",
                            "<tr><td>2016-01-01</td><td>290</td></tr>",
                            "<tr><td>2016-02-01</td><td>290</td></tr>",
                            "<tr><td>2016-03-01</td><td>290</td></tr>",
                            "<tr><td>2016-04-01</td><td>290</td></tr>",
                            "<tr><td>2016-05-01</td><td>290</td></tr>",
                            "<tr><td>2016-06-01</td><td>290</td></tr>",
                            "<tr><td>2016-07-01</td><td>290</td></tr>",
                            "<tr><td>2016-08-01</td><td>290</td></tr>",
                            "<tr><td>2016-09-01</td><td>290</td></tr>",
                            "<tr><td>2016-10-01</td><td>290</td></tr>",
                            "<tr><td>2016-11-01</td><td>290</td></tr>",
                            "<tr><td>2016-12-01</td><td>290</td></tr>",
                            "<tr><td>2017-01-01</td><td>290</td></tr>",
                            "<tr><td>2017-02-01</td><td>290</td></tr>",
                            "<tr><td>2017-03-01</td><td>290</td></tr>",
                            "<tr><td>2017-04-01</td><td>290</td></tr>",
                            "<tr><td>2017-05-01</td><td>290</td></tr>",
                            "<tr><td>2017-06-01</td><td>290</td></tr>",
                            "<tr><td>2017-07-01</td><td>290</td></tr>",
                            "<tr><td>2017-08-01</td><td>290</td></tr>",
                            "<tr><td>2017-09-01</td><td>290</td></tr>",
                            "<tr><td>2017-10-01</td><td>290</td></tr>",
                            "<tr><td>2017-11-01</td><td>290</td></tr>",
                            "<tr><td>2017-12-01</td><td>290</td></tr>",
                            "<tr><td>2018-01-01</td><td>290</td></tr>",
                            "<tr><td>2018-02-01</td><td>290</td></tr>",
                            "<tr><td>2018-03-01</td><td>290</td></tr>",
                            "<tr><td>2018-04-01</td><td>290</td></tr>",
                            "<tr><td>2018-05-01</td><td>290</td></tr>",
                            "<tr><td>2018-06-01</td><td>290</td></tr>",
                            "<tr><td>2018-07-01</td><td>290</td></tr>",
                            "<tr><td>2018-08-01</td><td>290</td></tr>",
                            "<tr><td>2018-09-01</td><td>290</td></tr>",
                            "<tr><td>2018-10-01</td><td>290</td></tr>",
                            "<tr><td>2018-11-01</td><td>290</td></tr>",
                            "<tr><td>2018-12-01</td><td>290</td></tr>",
                            "<tr><td>2019-01-01</td><td>290</td></tr>",
                            "<tr><td>2019-02-01</td><td>290</td></tr>",
                            "<tr><td>2019-03-01</td><td>290</td></tr>",
                            "<tr><td>2019-04-01</td><td>290</td></tr>",
                            "<tr><td>2019-05-01</td><td>290</td></tr>",
                            "<tr><td>2019-06-01</td><td>290</td></tr>",
                            "<tr><td>2019-07-01</td><td>290</td></tr>",
                            "<tr><td>2019-08-01</td><td>290</td></tr>",
                            "<tr><td>2019-09-01</td><td>290</td></tr>",
                            "<tr><td>2019-10-01</td><td>290</td></tr>",
                            "<tr><td>2019-11-01</td><td>290</td></tr>",
                            "<tr><td>2019-12-01</td><td>290</td></tr>",
                            "<tr><td>2020-01-01</td><td>290</td></tr>",
                            "<tr><td>2020-02-01</td><td>290</td></tr>",
                            "<tr><td>2020-03-01</td><td>290</td></tr>",
                            "<tr><td>2020-04-01</td><td>290</td></tr>",
                            "<tr><td>2020-05-01</td><td>290</td></tr>",
                            "<tr><td>2020-06-01</td><td>290</td></tr>",
                            "<tr><td>2020-07-01</td><td>290</td></tr>",
                            "<tr><td>2020-08-01</td><td>290</td></tr>",
                            "<tr><td>2020-09-01</td><td>290</td></tr>",
                            "</table>"
                        ]
                    }
                }
            ],
            "execution_count": 16
        },
        {
            "cell_type": "code",
            "source": [
                "-- recipe 10.16\r\n",
                "SELECT 'sysdatetime' AS ConversionType, 126 AS Style,\r\n",
                "       \tCONVERT(varchar(30), SYSDATETIME(), 126) AS [Value] UNION ALL\r\n",
                "SELECT 'sysdatetime', 127,\r\n",
                "       \tCONVERT(varchar(30), SYSDATETIME(), 127) UNION ALL\r\n",
                "SELECT 'getdate', 126,\r\n",
                "       \tCONVERT(varchar(30), GETDATE(), 126) UNION ALL\r\n",
                "SELECT 'getdate', 127,\r\n",
                "       \t CONVERT(varchar(30), GETDATE(), 127);"
            ],
            "metadata": {
                "azdata_cell_guid": "31295c0c-b0a7-44a3-b00a-14e3a40f0592"
            },
            "outputs": [
                {
                    "output_type": "display_data",
                    "data": {
                        "text/html": "Commands completed successfully."
                    },
                    "metadata": {}
                },
                {
                    "output_type": "display_data",
                    "data": {
                        "text/html": "Total execution time: 00:00:00.017"
                    },
                    "metadata": {}
                },
                {
                    "output_type": "execute_result",
                    "metadata": {},
                    "execution_count": 17,
                    "data": {
                        "application/vnd.dataresource+json": {
                            "schema": {
                                "fields": [
                                    {
                                        "name": "ConversionType"
                                    },
                                    {
                                        "name": "Style"
                                    },
                                    {
                                        "name": "Value"
                                    }
                                ]
                            },
                            "data": [
                                {
                                    "0": "sysdatetime",
                                    "1": "126",
                                    "2": "2020-09-13T09:11:12.0579278"
                                },
                                {
                                    "0": "sysdatetime",
                                    "1": "127",
                                    "2": "2020-09-13T09:11:12.0579278"
                                },
                                {
                                    "0": "getdate",
                                    "1": "126",
                                    "2": "2020-09-13T09:11:12.057"
                                },
                                {
                                    "0": "getdate",
                                    "1": "127",
                                    "2": "2020-09-13T09:11:12.057"
                                }
                            ]
                        },
                        "text/html": [
                            "<table>",
                            "<tr><th>ConversionType</th><th>Style</th><th>Value</th></tr>",
                            "<tr><td>sysdatetime</td><td>126</td><td>2020-09-13T09:11:12.0579278</td></tr>",
                            "<tr><td>sysdatetime</td><td>127</td><td>2020-09-13T09:11:12.0579278</td></tr>",
                            "<tr><td>getdate</td><td>126</td><td>2020-09-13T09:11:12.057</td></tr>",
                            "<tr><td>getdate</td><td>127</td><td>2020-09-13T09:11:12.057</td></tr>",
                            "</table>"
                        ]
                    }
                }
            ],
            "execution_count": 17
        }
    ]
}