{
    "metadata": {
        "kernelspec": {
            "name": "SQL",
            "display_name": "SQL",
            "language": "sql"
        },
        "language_info": {
            "name": "sql",
            "version": ""
        }
    },
    "nbformat_minor": 2,
    "nbformat": 4,
    "cells": [
        {
            "cell_type": "code",
            "source": [
                "USE AdventureWorks2014;\r\n",
                "GO"
            ],
            "metadata": {
                "azdata_cell_guid": "71d79f6e-b906-4bd3-a8a3-e4c02ccef05d"
            },
            "outputs": [
                {
                    "output_type": "display_data",
                    "data": {
                        "text/html": "Commands completed successfully."
                    },
                    "metadata": {}
                },
                {
                    "output_type": "display_data",
                    "data": {
                        "text/html": "Total execution time: 00:00:00.037"
                    },
                    "metadata": {}
                }
            ],
            "execution_count": 1
        },
        {
            "cell_type": "code",
            "source": [
                "-- recipe 8-1\r\n",
                "BEGIN TRANSACTION;\r\n",
                "\r\n",
                "INSERT  INTO Production.Location\r\n",
                "        (Name, CostRate, Availability)\r\n",
                "VALUES  ('Wheel Storage', 11.25, 80.00) ;\r\n",
                "\r\n",
                "SELECT  Name,\r\n",
                "        CostRate,\r\n",
                "        Availability\r\n",
                "FROM    Production.Location\r\n",
                "WHERE   Name = 'Wheel Storage' ;\r\n",
                "\r\n",
                "ROLLBACK TRANSACTION;"
            ],
            "metadata": {
                "azdata_cell_guid": "f62af11a-bb5a-4359-a1e6-56a8aed52c37"
            },
            "outputs": [
                {
                    "output_type": "display_data",
                    "data": {
                        "text/html": "(1 row affected)"
                    },
                    "metadata": {}
                },
                {
                    "output_type": "display_data",
                    "data": {
                        "text/html": "(1 row affected)"
                    },
                    "metadata": {}
                },
                {
                    "output_type": "display_data",
                    "data": {
                        "text/html": "Total execution time: 00:00:01.535"
                    },
                    "metadata": {}
                },
                {
                    "output_type": "execute_result",
                    "metadata": {},
                    "execution_count": 2,
                    "data": {
                        "application/vnd.dataresource+json": {
                            "schema": {
                                "fields": [
                                    {
                                        "name": "Name"
                                    },
                                    {
                                        "name": "CostRate"
                                    },
                                    {
                                        "name": "Availability"
                                    }
                                ]
                            },
                            "data": [
                                {
                                    "0": "Wheel Storage",
                                    "1": "11.2500",
                                    "2": "80.00"
                                }
                            ]
                        },
                        "text/html": [
                            "<table>",
                            "<tr><th>Name</th><th>CostRate</th><th>Availability</th></tr>",
                            "<tr><td>Wheel Storage</td><td>11.2500</td><td>80.00</td></tr>",
                            "</table>"
                        ]
                    }
                }
            ],
            "execution_count": 2
        },
        {
            "cell_type": "code",
            "source": [
                "-- recipe 8-2\r\n",
                "BEGIN TRANSACTION;\r\n",
                "INSERT  Production.Location\r\n",
                "        (Name,\r\n",
                "         CostRate,\r\n",
                "         Availability,\r\n",
                "         ModifiedDate)\r\n",
                "VALUES  ('Wheel Storage 2',\r\n",
                "         11.25,\r\n",
                "         80.00,\r\n",
                "         '4/1/2012') ;\r\n",
                "\r\n",
                "INSERT  Production.Location\r\n",
                "        (Name,\r\n",
                "         CostRate,\r\n",
                "         Availability,\r\n",
                "         ModifiedDate)\r\n",
                "VALUES  ('Wheel Storage 3',\r\n",
                "         11.25,\r\n",
                "         80.00,\r\n",
                "         DEFAULT) ;\r\n",
                "\r\n",
                "INSERT  INTO Person.Address\r\n",
                "        (AddressLine1,\r\n",
                "         AddressLine2,\r\n",
                "         City,\r\n",
                "         StateProvinceID,\r\n",
                "         PostalCode)\r\n",
                "VALUES  ('15 Wake Robin Rd',\r\n",
                "         DEFAULT,\r\n",
                "         'Sudbury',\r\n",
                "         30,\r\n",
                "         '01776') ;\r\n",
                "\r\n",
                "SELECT * FROM Production.Location WHERE Name LIKE 'Wheel Storage%';\r\n",
                "SELECT * FROM Person.Address WHERE AddressLine1 = '15 Wake Robin Rd';\r\n",
                "ROLLBACK TRANSACTION;\r\n",
                "\r\n",
                "\r\n",
                "IF OBJECT_ID('tempdb.dbo.#ExampleTable') IS NOT NULL DROP TABLE #ExampleTable;\r\n",
                "CREATE TABLE #ExampleTable \r\n",
                "(\r\n",
                "    RowID       INTEGER IDENTITY,\r\n",
                "    RowColID    UNIQUEIDENTIFIER DEFAULT NEWID(),\r\n",
                "    RowDate     DATETIME DEFAULT GETDATE()\r\n",
                ");\r\n",
                "INSERT INTO #ExampleTable DEFAULT VALUES;\r\n",
                "SELECT * FROM #ExampleTable;"
            ],
            "metadata": {
                "azdata_cell_guid": "84b39fac-ea3c-4a3c-af45-fc880d695ca8"
            },
            "outputs": [
                {
                    "output_type": "display_data",
                    "data": {
                        "text/html": "(1 row affected)"
                    },
                    "metadata": {}
                },
                {
                    "output_type": "display_data",
                    "data": {
                        "text/html": "(1 row affected)"
                    },
                    "metadata": {}
                },
                {
                    "output_type": "display_data",
                    "data": {
                        "text/html": "(1 row affected)"
                    },
                    "metadata": {}
                },
                {
                    "output_type": "display_data",
                    "data": {
                        "text/html": "(2 rows affected)"
                    },
                    "metadata": {}
                },
                {
                    "output_type": "display_data",
                    "data": {
                        "text/html": "(1 row affected)"
                    },
                    "metadata": {}
                },
                {
                    "output_type": "display_data",
                    "data": {
                        "text/html": "(1 row affected)"
                    },
                    "metadata": {}
                },
                {
                    "output_type": "display_data",
                    "data": {
                        "text/html": "(1 row affected)"
                    },
                    "metadata": {}
                },
                {
                    "output_type": "display_data",
                    "data": {
                        "text/html": "Total execution time: 00:00:00.441"
                    },
                    "metadata": {}
                },
                {
                    "output_type": "execute_result",
                    "metadata": {},
                    "execution_count": 3,
                    "data": {
                        "application/vnd.dataresource+json": {
                            "schema": {
                                "fields": [
                                    {
                                        "name": "LocationID"
                                    },
                                    {
                                        "name": "Name"
                                    },
                                    {
                                        "name": "CostRate"
                                    },
                                    {
                                        "name": "Availability"
                                    },
                                    {
                                        "name": "ModifiedDate"
                                    }
                                ]
                            },
                            "data": [
                                {
                                    "0": "65",
                                    "1": "Wheel Storage 2",
                                    "2": "11.2500",
                                    "3": "80.00",
                                    "4": "2012-04-01 00:00:00.000"
                                },
                                {
                                    "0": "66",
                                    "1": "Wheel Storage 3",
                                    "2": "11.2500",
                                    "3": "80.00",
                                    "4": "2020-09-13 08:26:13.090"
                                }
                            ]
                        },
                        "text/html": [
                            "<table>",
                            "<tr><th>LocationID</th><th>Name</th><th>CostRate</th><th>Availability</th><th>ModifiedDate</th></tr>",
                            "<tr><td>65</td><td>Wheel Storage 2</td><td>11.2500</td><td>80.00</td><td>2012-04-01 00:00:00.000</td></tr>",
                            "<tr><td>66</td><td>Wheel Storage 3</td><td>11.2500</td><td>80.00</td><td>2020-09-13 08:26:13.090</td></tr>",
                            "</table>"
                        ]
                    }
                },
                {
                    "output_type": "execute_result",
                    "metadata": {},
                    "execution_count": 3,
                    "data": {
                        "application/vnd.dataresource+json": {
                            "schema": {
                                "fields": [
                                    {
                                        "name": "AddressID"
                                    },
                                    {
                                        "name": "AddressLine1"
                                    },
                                    {
                                        "name": "AddressLine2"
                                    },
                                    {
                                        "name": "City"
                                    },
                                    {
                                        "name": "StateProvinceID"
                                    },
                                    {
                                        "name": "PostalCode"
                                    },
                                    {
                                        "name": "SpatialLocation"
                                    },
                                    {
                                        "name": "rowguid"
                                    },
                                    {
                                        "name": "ModifiedDate"
                                    }
                                ]
                            },
                            "data": [
                                {
                                    "0": "32523",
                                    "1": "15 Wake Robin Rd",
                                    "2": "NULL",
                                    "3": "Sudbury",
                                    "4": "30",
                                    "5": "01776",
                                    "6": "NULL",
                                    "7": "23e86df4-b1fa-4e4d-ba3a-5f4c0054862e",
                                    "8": "2020-09-13 08:26:13.090"
                                }
                            ]
                        },
                        "text/html": [
                            "<table>",
                            "<tr><th>AddressID</th><th>AddressLine1</th><th>AddressLine2</th><th>City</th><th>StateProvinceID</th><th>PostalCode</th><th>SpatialLocation</th><th>rowguid</th><th>ModifiedDate</th></tr>",
                            "<tr><td>32523</td><td>15 Wake Robin Rd</td><td>NULL</td><td>Sudbury</td><td>30</td><td>01776</td><td>NULL</td><td>23e86df4-b1fa-4e4d-ba3a-5f4c0054862e</td><td>2020-09-13 08:26:13.090</td></tr>",
                            "</table>"
                        ]
                    }
                },
                {
                    "output_type": "execute_result",
                    "metadata": {},
                    "execution_count": 3,
                    "data": {
                        "application/vnd.dataresource+json": {
                            "schema": {
                                "fields": [
                                    {
                                        "name": "RowID"
                                    },
                                    {
                                        "name": "RowColID"
                                    },
                                    {
                                        "name": "RowDate"
                                    }
                                ]
                            },
                            "data": [
                                {
                                    "0": "1",
                                    "1": "06001a46-d431-4d16-b02f-8685e115b900",
                                    "2": "2020-09-13 08:26:13.453"
                                }
                            ]
                        },
                        "text/html": [
                            "<table>",
                            "<tr><th>RowID</th><th>RowColID</th><th>RowDate</th></tr>",
                            "<tr><td>1</td><td>06001a46-d431-4d16-b02f-8685e115b900</td><td>2020-09-13 08:26:13.453</td></tr>",
                            "</table>"
                        ]
                    }
                }
            ],
            "execution_count": 3
        },
        {
            "cell_type": "code",
            "source": [
                "-- recipe 8-3\r\n",
                "-- generates an error\r\n",
                "INSERT INTO HumanResources.Department (DepartmentID, Name, GroupName)\r\n",
                "VALUES (17, 'Database Services', 'Information Technology');"
            ],
            "metadata": {
                "azdata_cell_guid": "367ddfd6-297c-4510-8969-6912a5bf95bd"
            },
            "outputs": [
                {
                    "output_type": "error",
                    "evalue": "Msg 544, Level 16, State 1, Line 3\r\nCannot insert explicit value for identity column in table 'Department' when IDENTITY_INSERT is set to OFF.",
                    "ename": "",
                    "traceback": []
                },
                {
                    "output_type": "display_data",
                    "data": {
                        "text/html": "Total execution time: 00:00:00.012"
                    },
                    "metadata": {}
                }
            ],
            "execution_count": 4
        },
        {
            "cell_type": "code",
            "source": [
                "-- works when using SET IDENTITY_INSERT ON.\r\n",
                "SET IDENTITY_INSERT HumanResources.Department ON;\r\n",
                "INSERT HumanResources.Department (DepartmentID, Name, GroupName)\r\n",
                "VALUES (17, 'Database Services', 'Information Technology');\r\n",
                "SET IDENTITY_INSERT HumanResources.Department OFF;"
            ],
            "metadata": {
                "azdata_cell_guid": "8f202c02-96ba-4a1e-ae71-4597fbce2bb3"
            },
            "outputs": [
                {
                    "output_type": "error",
                    "evalue": "Msg 2627, Level 14, State 1, Line 3\r\nViolation of PRIMARY KEY constraint 'PK_Department_DepartmentID'. Cannot insert duplicate key in object 'HumanResources.Department'. The duplicate key value is (17).",
                    "ename": "",
                    "traceback": []
                },
                {
                    "output_type": "display_data",
                    "data": {
                        "text/html": "The statement has been terminated."
                    },
                    "metadata": {}
                },
                {
                    "output_type": "display_data",
                    "data": {
                        "text/html": "Total execution time: 00:00:00.009"
                    },
                    "metadata": {}
                }
            ],
            "execution_count": 5
        },
        {
            "cell_type": "code",
            "source": [
                "-- recipe 8-4\r\n",
                "INSERT  Purchasing.ShipMethod\r\n",
                "        (Name,\r\n",
                "         ShipBase,\r\n",
                "         ShipRate,\r\n",
                "         rowguid)\r\n",
                "VALUES  ('MIDDLETON CARGO TS1',\r\n",
                "         8.99,\r\n",
                "         1.22,\r\n",
                "         NEWID()) ;\r\n",
                "\r\n",
                "SELECT  rowguid,\r\n",
                "        Name\r\n",
                "FROM    Purchasing.ShipMethod\r\n",
                "WHERE   Name = 'MIDDLETON CARGO TS1';"
            ],
            "metadata": {
                "azdata_cell_guid": "a81c3f22-e310-458f-9b9b-7b5a94bfecd4"
            },
            "outputs": [
                {
                    "output_type": "error",
                    "evalue": "Msg 2601, Level 14, State 1, Line 2\r\nCannot insert duplicate key row in object 'Purchasing.ShipMethod' with unique index 'AK_ShipMethod_Name'. The duplicate key value is (MIDDLETON CARGO TS1).",
                    "ename": "",
                    "traceback": []
                },
                {
                    "output_type": "display_data",
                    "data": {
                        "text/html": "The statement has been terminated."
                    },
                    "metadata": {}
                },
                {
                    "output_type": "display_data",
                    "data": {
                        "text/html": "(1 row affected)"
                    },
                    "metadata": {}
                },
                {
                    "output_type": "display_data",
                    "data": {
                        "text/html": "Total execution time: 00:00:00.045"
                    },
                    "metadata": {}
                },
                {
                    "output_type": "execute_result",
                    "metadata": {},
                    "execution_count": 6,
                    "data": {
                        "application/vnd.dataresource+json": {
                            "schema": {
                                "fields": [
                                    {
                                        "name": "rowguid"
                                    },
                                    {
                                        "name": "Name"
                                    }
                                ]
                            },
                            "data": [
                                {
                                    "0": "d85cb6af-c6ef-40aa-a2fb-0089bac9305a",
                                    "1": "MIDDLETON CARGO TS1"
                                }
                            ]
                        },
                        "text/html": [
                            "<table>",
                            "<tr><th>rowguid</th><th>Name</th></tr>",
                            "<tr><td>d85cb6af-c6ef-40aa-a2fb-0089bac9305a</td><td>MIDDLETON CARGO TS1</td></tr>",
                            "</table>"
                        ]
                    }
                }
            ],
            "execution_count": 6
        },
        {
            "cell_type": "code",
            "source": [
                "-- recipe 8-5\r\n",
                "CREATE TABLE [dbo].[Shift_Archive]\r\n",
                "       (\r\n",
                "        [ShiftID] [tinyint] NOT NULL,\r\n",
                "        [Name] [dbo].[Name] NOT NULL,\r\n",
                "        [StartTime] [datetime] NOT NULL,\r\n",
                "        [EndTime] [datetime] NOT NULL,\r\n",
                "        [ModifiedDate] [datetime] NOT NULL\r\n",
                "                                  DEFAULT (GETDATE()),\r\n",
                "        CONSTRAINT [PK_Shift_ShiftID] PRIMARY KEY CLUSTERED ([ShiftID] ASC)\r\n",
                "       ) ;\r\n",
                "GO\r\n",
                "INSERT  INTO dbo.Shift_Archive\r\n",
                "        (ShiftID,\r\n",
                "         Name,\r\n",
                "         StartTime,\r\n",
                "         EndTime,\r\n",
                "         ModifiedDate)\r\n",
                "        SELECT  ShiftID,\r\n",
                "                Name,\r\n",
                "                StartTime,\r\n",
                "                EndTime,\r\n",
                "                ModifiedDate\r\n",
                "        FROM    HumanResources.Shift\r\n",
                "        ORDER BY ShiftID ;\r\n",
                "SELECT  ShiftID,\r\n",
                "        Name\r\n",
                "FROM    Shift_Archive ;\r\n",
                "DROP TABLE dbo.Shift_Archive;"
            ],
            "metadata": {
                "azdata_cell_guid": "1fb059d6-e1b6-4303-a11c-dd091019b4bd"
            },
            "outputs": [
                {
                    "output_type": "display_data",
                    "data": {
                        "text/html": "Commands completed successfully."
                    },
                    "metadata": {}
                },
                {
                    "output_type": "display_data",
                    "data": {
                        "text/html": "(3 rows affected)"
                    },
                    "metadata": {}
                },
                {
                    "output_type": "display_data",
                    "data": {
                        "text/html": "(3 rows affected)"
                    },
                    "metadata": {}
                },
                {
                    "output_type": "display_data",
                    "data": {
                        "text/html": "Total execution time: 00:00:00.998"
                    },
                    "metadata": {}
                },
                {
                    "output_type": "execute_result",
                    "metadata": {},
                    "execution_count": 7,
                    "data": {
                        "application/vnd.dataresource+json": {
                            "schema": {
                                "fields": [
                                    {
                                        "name": "ShiftID"
                                    },
                                    {
                                        "name": "Name"
                                    }
                                ]
                            },
                            "data": [
                                {
                                    "0": "1",
                                    "1": "Day"
                                },
                                {
                                    "0": "2",
                                    "1": "Evening"
                                },
                                {
                                    "0": "3",
                                    "1": "Night"
                                }
                            ]
                        },
                        "text/html": [
                            "<table>",
                            "<tr><th>ShiftID</th><th>Name</th></tr>",
                            "<tr><td>1</td><td>Day</td></tr>",
                            "<tr><td>2</td><td>Evening</td></tr>",
                            "<tr><td>3</td><td>Night</td></tr>",
                            "</table>"
                        ]
                    }
                }
            ],
            "execution_count": 7
        },
        {
            "cell_type": "code",
            "source": [
                "-- recipe 8-6\r\n",
                "IF OBJECT_ID('dbo.usp_SEL_Production_TransactionHistory') IS NOT NULL \r\n",
                "    DROP PROCEDURE dbo.usp_SEL_Production_TransactionHistory;\r\n",
                "GO\r\n",
                "CREATE PROCEDURE dbo.usp_SEL_Production_TransactionHistory\r\n",
                "       @ModifiedStartDT DATETIME,\r\n",
                "       @ModifiedEndDT DATETIME\r\n",
                "AS \r\n",
                "       SELECT   TransactionID,\r\n",
                "                ProductID,\r\n",
                "                ReferenceOrderID,\r\n",
                "                ReferenceOrderLineID,\r\n",
                "                TransactionDate,\r\n",
                "                TransactionType,\r\n",
                "                Quantity,\r\n",
                "                ActualCost,\r\n",
                "                ModifiedDate\r\n",
                "       FROM     Production.TransactionHistory\r\n",
                "       WHERE    ModifiedDate BETWEEN @ModifiedStartDT\r\n",
                "                             AND     @ModifiedEndDT\r\n",
                "                AND TransactionID NOT IN (\r\n",
                "                SELECT  TransactionID\r\n",
                "                FROM    Production.TransactionHistoryArchive) ;\r\n",
                "GO\r\n",
                "EXEC dbo.usp_SEL_Production_TransactionHistory '2013-09-01', '2013-09-02';\r\n",
                "\r\n",
                "\r\n",
                "BEGIN TRANSACTION;\r\n",
                "INSERT  Production.TransactionHistoryArchive\r\n",
                "        (TransactionID,\r\n",
                "         ProductID,\r\n",
                "         ReferenceOrderID,\r\n",
                "         ReferenceOrderLineID,\r\n",
                "         TransactionDate,\r\n",
                "         TransactionType,\r\n",
                "         Quantity,\r\n",
                "         ActualCost,\r\n",
                "         ModifiedDate)\r\n",
                "        EXEC dbo.usp_SEL_Production_TransactionHistory '2013-09-01',\r\n",
                "            '2013-09-02' ;\r\n",
                "ROLLBACK TRANSACTION;\r\n",
                ""
            ],
            "metadata": {
                "azdata_cell_guid": "9562e15d-9ec0-451d-b925-6a34b341a46c"
            },
            "outputs": [
                {
                    "output_type": "display_data",
                    "data": {
                        "text/html": "Commands completed successfully."
                    },
                    "metadata": {}
                },
                {
                    "output_type": "display_data",
                    "data": {
                        "text/html": "Commands completed successfully."
                    },
                    "metadata": {}
                },
                {
                    "output_type": "display_data",
                    "data": {
                        "text/html": "(648 rows affected)"
                    },
                    "metadata": {}
                },
                {
                    "output_type": "display_data",
                    "data": {
                        "text/html": "(648 rows affected)"
                    },
                    "metadata": {}
                },
                {
                    "output_type": "display_data",
                    "data": {
                        "text/html": "Total execution time: 00:00:00.171"
                    },
                    "metadata": {}
                },
                {
                    "output_type": "execute_result",
                    "metadata": {},
                    "execution_count": 8,
                    "data": {
                        "application/vnd.dataresource+json": {
                            "schema": {
                                "fields": [
                                    {
                                        "name": "TransactionID"
                                    },
                                    {
                                        "name": "ProductID"
                                    },
                                    {
                                        "name": "ReferenceOrderID"
                                    },
                                    {
                                        "name": "ReferenceOrderLineID"
                                    },
                                    {
                                        "name": "TransactionDate"
                                    },
                                    {
                                        "name": "TransactionType"
                                    },
                                    {
                                        "name": "Quantity"
                                    },
                                    {
                                        "name": "ActualCost"
                                    },
                                    {
                                        "name": "ModifiedDate"
                                    }
                                ]
                            },
                            "data": [
                                {
                                    "0": "113495",
                                    "1": "816",
                                    "2": "44534",
                                    "3": "0",
                                    "4": "2013-09-01 00:00:00.000",
                                    "5": "W",
                                    "6": "2",
                                    "7": "0.0000",
                                    "8": "2013-09-01 00:00:00.000"
                                },
                                {
                                    "0": "113496",
                                    "1": "818",
                                    "2": "44535",
                                    "3": "0",
                                    "4": "2013-09-01 00:00:00.000",
                                    "5": "W",
                                    "6": "3",
                                    "7": "0.0000",
                                    "8": "2013-09-01 00:00:00.000"
                                },
                                {
                                    "0": "113497",
                                    "1": "819",
                                    "2": "44536",
                                    "3": "0",
                                    "4": "2013-09-01 00:00:00.000",
                                    "5": "W",
                                    "6": "2",
                                    "7": "0.0000",
                                    "8": "2013-09-01 00:00:00.000"
                                },
                                {
                                    "0": "113498",
                                    "1": "820",
                                    "2": "44537",
                                    "3": "0",
                                    "4": "2013-09-01 00:00:00.000",
                                    "5": "W",
                                    "6": "5",
                                    "7": "0.0000",
                                    "8": "2013-09-01 00:00:00.000"
                                },
                                {
                                    "0": "113499",
                                    "1": "821",
                                    "2": "44538",
                                    "3": "0",
                                    "4": "2013-09-01 00:00:00.000",
                                    "5": "W",
                                    "6": "3",
                                    "7": "0.0000",
                                    "8": "2013-09-01 00:00:00.000"
                                },
                                {
                                    "0": "113500",
                                    "1": "823",
                                    "2": "44539",
                                    "3": "0",
                                    "4": "2013-09-01 00:00:00.000",
                                    "5": "W",
                                    "6": "2",
                                    "7": "0.0000",
                                    "8": "2013-09-01 00:00:00.000"
                                },
                                {
                                    "0": "113501",
                                    "1": "824",
                                    "2": "44540",
                                    "3": "0",
                                    "4": "2013-09-01 00:00:00.000",
                                    "5": "W",
                                    "6": "2",
                                    "7": "0.0000",
                                    "8": "2013-09-01 00:00:00.000"
                                },
                                {
                                    "0": "113502",
                                    "1": "826",
                                    "2": "44541",
                                    "3": "0",
                                    "4": "2013-09-01 00:00:00.000",
                                    "5": "W",
                                    "6": "3",
                                    "7": "0.0000",
                                    "8": "2013-09-01 00:00:00.000"
                                },
                                {
                                    "0": "113503",
                                    "1": "827",
                                    "2": "44542",
                                    "3": "0",
                                    "4": "2013-09-01 00:00:00.000",
                                    "5": "W",
                                    "6": "2",
                                    "7": "0.0000",
                                    "8": "2013-09-01 00:00:00.000"
                                },
                                {
                                    "0": "113504",
                                    "1": "828",
                                    "2": "44543",
                                    "3": "0",
                                    "4": "2013-09-01 00:00:00.000",
                                    "5": "W",
                                    "6": "5",
                                    "7": "0.0000",
                                    "8": "2013-09-01 00:00:00.000"
                                },
                                {
                                    "0": "113505",
                                    "1": "829",
                                    "2": "44544",
                                    "3": "0",
                                    "4": "2013-09-01 00:00:00.000",
                                    "5": "W",
                                    "6": "3",
                                    "7": "0.0000",
                                    "8": "2013-09-01 00:00:00.000"
                                },
                                {
                                    "0": "113506",
                                    "1": "834",
                                    "2": "44545",
                                    "3": "0",
                                    "4": "2013-09-01 00:00:00.000",
                                    "5": "W",
                                    "6": "1",
                                    "7": "0.0000",
                                    "8": "2013-09-01 00:00:00.000"
                                },
                                {
                                    "0": "113507",
                                    "1": "835",
                                    "2": "44546",
                                    "3": "0",
                                    "4": "2013-09-01 00:00:00.000",
                                    "5": "W",
                                    "6": "1",
                                    "7": "0.0000",
                                    "8": "2013-09-01 00:00:00.000"
                                },
                                {
                                    "0": "113508",
                                    "1": "838",
                                    "2": "44547",
                                    "3": "0",
                                    "4": "2013-09-01 00:00:00.000",
                                    "5": "W",
                                    "6": "1",
                                    "7": "0.0000",
                                    "8": "2013-09-01 00:00:00.000"
                                },
                                {
                                    "0": "113509",
                                    "1": "840",
                                    "2": "44548",
                                    "3": "0",
                                    "4": "2013-09-01 00:00:00.000",
                                    "5": "W",
                                    "6": "2",
                                    "7": "0.0000",
                                    "8": "2013-09-01 00:00:00.000"
                                },
                                {
                                    "0": "113510",
                                    "1": "886",
                                    "2": "44549",
                                    "3": "0",
                                    "4": "2013-09-01 00:00:00.000",
                                    "5": "W",
                                    "6": "1",
                                    "7": "0.0000",
                                    "8": "2013-09-01 00:00:00.000"
                                },
                                {
                                    "0": "113511",
                                    "1": "890",
                                    "2": "44550",
                                    "3": "0",
                                    "4": "2013-09-01 00:00:00.000",
                                    "5": "W",
                                    "6": "1",
                                    "7": "0.0000",
                                    "8": "2013-09-01 00:00:00.000"
                                },
                                {
                                    "0": "113512",
                                    "1": "891",
                                    "2": "44551",
                                    "3": "0",
                                    "4": "2013-09-01 00:00:00.000",
                                    "5": "W",
                                    "6": "1",
                                    "7": "0.0000",
                                    "8": "2013-09-01 00:00:00.000"
                                },
                                {
                                    "0": "113513",
                                    "1": "894",
                                    "2": "44552",
                                    "3": "0",
                                    "4": "2013-09-01 00:00:00.000",
                                    "5": "W",
                                    "6": "17",
                                    "7": "0.0000",
                                    "8": "2013-09-01 00:00:00.000"
                                },
                                {
                                    "0": "113514",
                                    "1": "925",
                                    "2": "44553",
                                    "3": "0",
                                    "4": "2013-09-01 00:00:00.000",
                                    "5": "W",
                                    "6": "1",
                                    "7": "0.0000",
                                    "8": "2013-09-01 00:00:00.000"
                                },
                                {
                                    "0": "113515",
                                    "1": "943",
                                    "2": "44554",
                                    "3": "0",
                                    "4": "2013-09-01 00:00:00.000",
                                    "5": "W",
                                    "6": "1",
                                    "7": "0.0000",
                                    "8": "2013-09-01 00:00:00.000"
                                },
                                {
                                    "0": "113516",
                                    "1": "945",
                                    "2": "44555",
                                    "3": "0",
                                    "4": "2013-09-01 00:00:00.000",
                                    "5": "W",
                                    "6": "17",
                                    "7": "0.0000",
                                    "8": "2013-09-01 00:00:00.000"
                                },
                                {
                                    "0": "113517",
                                    "1": "946",
                                    "2": "44556",
                                    "3": "0",
                                    "4": "2013-09-01 00:00:00.000",
                                    "5": "W",
                                    "6": "1",
                                    "7": "0.0000",
                                    "8": "2013-09-01 00:00:00.000"
                                },
                                {
                                    "0": "113518",
                                    "1": "947",
                                    "2": "44557",
                                    "3": "0",
                                    "4": "2013-09-01 00:00:00.000",
                                    "5": "W",
                                    "6": "2",
                                    "7": "0.0000",
                                    "8": "2013-09-01 00:00:00.000"
                                },
                                {
                                    "0": "113519",
                                    "1": "949",
                                    "2": "44558",
                                    "3": "0",
                                    "4": "2013-09-01 00:00:00.000",
                                    "5": "W",
                                    "6": "6",
                                    "7": "0.0000",
                                    "8": "2013-09-01 00:00:00.000"
                                },
                                {
                                    "0": "113520",
                                    "1": "950",
                                    "2": "44559",
                                    "3": "0",
                                    "4": "2013-09-01 00:00:00.000",
                                    "5": "W",
                                    "6": "9",
                                    "7": "0.0000",
                                    "8": "2013-09-01 00:00:00.000"
                                },
                                {
                                    "0": "113521",
                                    "1": "951",
                                    "2": "44560",
                                    "3": "0",
                                    "4": "2013-09-01 00:00:00.000",
                                    "5": "W",
                                    "6": "2",
                                    "7": "0.0000",
                                    "8": "2013-09-01 00:00:00.000"
                                },
                                {
                                    "0": "113522",
                                    "1": "994",
                                    "2": "44561",
                                    "3": "0",
                                    "4": "2013-09-01 00:00:00.000",
                                    "5": "W",
                                    "6": "7",
                                    "7": "0.0000",
                                    "8": "2013-09-01 00:00:00.000"
                                },
                                {
                                    "0": "113523",
                                    "1": "995",
                                    "2": "44562",
                                    "3": "0",
                                    "4": "2013-09-01 00:00:00.000",
                                    "5": "W",
                                    "6": "3",
                                    "7": "0.0000",
                                    "8": "2013-09-01 00:00:00.000"
                                },
                                {
                                    "0": "113524",
                                    "1": "996",
                                    "2": "44563",
                                    "3": "0",
                                    "4": "2013-09-01 00:00:00.000",
                                    "5": "W",
                                    "6": "7",
                                    "7": "0.0000",
                                    "8": "2013-09-01 00:00:00.000"
                                },
                                {
                                    "0": "113525",
                                    "1": "3",
                                    "2": "44564",
                                    "3": "0",
                                    "4": "2013-09-01 00:00:00.000",
                                    "5": "W",
                                    "6": "170",
                                    "7": "0.0000",
                                    "8": "2013-09-01 00:00:00.000"
                                },
                                {
                                    "0": "113526",
                                    "1": "324",
                                    "2": "44565",
                                    "3": "0",
                                    "4": "2013-09-01 00:00:00.000",
                                    "5": "W",
                                    "6": "34",
                                    "7": "0.0000",
                                    "8": "2013-09-01 00:00:00.000"
                                },
                                {
                                    "0": "113494",
                                    "1": "815",
                                    "2": "44533",
                                    "3": "0",
                                    "4": "2013-09-01 00:00:00.000",
                                    "5": "W",
                                    "6": "2",
                                    "7": "0.0000",
                                    "8": "2013-09-01 00:00:00.000"
                                },
                                {
                                    "0": "113493",
                                    "1": "813",
                                    "2": "44532",
                                    "3": "0",
                                    "4": "2013-09-01 00:00:00.000",
                                    "5": "W",
                                    "6": "5",
                                    "7": "0.0000",
                                    "8": "2013-09-01 00:00:00.000"
                                },
                                {
                                    "0": "113492",
                                    "1": "812",
                                    "2": "44531",
                                    "3": "0",
                                    "4": "2013-09-01 00:00:00.000",
                                    "5": "W",
                                    "6": "2",
                                    "7": "0.0000",
                                    "8": "2013-09-01 00:00:00.000"
                                },
                                {
                                    "0": "113491",
                                    "1": "811",
                                    "2": "44530",
                                    "3": "0",
                                    "4": "2013-09-01 00:00:00.000",
                                    "5": "W",
                                    "6": "3",
                                    "7": "0.0000",
                                    "8": "2013-09-01 00:00:00.000"
                                },
                                {
                                    "0": "113490",
                                    "1": "810",
                                    "2": "44529",
                                    "3": "0",
                                    "4": "2013-09-01 00:00:00.000",
                                    "5": "W",
                                    "6": "2",
                                    "7": "0.0000",
                                    "8": "2013-09-01 00:00:00.000"
                                },
                                {
                                    "0": "113489",
                                    "1": "808",
                                    "2": "44528",
                                    "3": "0",
                                    "4": "2013-09-01 00:00:00.000",
                                    "5": "W",
                                    "6": "2",
                                    "7": "0.0000",
                                    "8": "2013-09-01 00:00:00.000"
                                },
                                {
                                    "0": "113488",
                                    "1": "807",
                                    "2": "44527",
                                    "3": "0",
                                    "4": "2013-09-01 00:00:00.000",
                                    "5": "W",
                                    "6": "2",
                                    "7": "0.0000",
                                    "8": "2013-09-01 00:00:00.000"
                                },
                                {
                                    "0": "113487",
                                    "1": "806",
                                    "2": "44526",
                                    "3": "0",
                                    "4": "2013-09-01 00:00:00.000",
                                    "5": "W",
                                    "6": "9",
                                    "7": "0.0000",
                                    "8": "2013-09-01 00:00:00.000"
                                },
                                {
                                    "0": "113486",
                                    "1": "805",
                                    "2": "44525",
                                    "3": "0",
                                    "4": "2013-09-01 00:00:00.000",
                                    "5": "W",
                                    "6": "6",
                                    "7": "0.0000",
                                    "8": "2013-09-01 00:00:00.000"
                                },
                                {
                                    "0": "113485",
                                    "1": "742",
                                    "2": "44524",
                                    "3": "0",
                                    "4": "2013-09-01 00:00:00.000",
                                    "5": "W",
                                    "6": "1",
                                    "7": "0.0000",
                                    "8": "2013-09-01 00:00:00.000"
                                },
                                {
                                    "0": "113484",
                                    "1": "739",
                                    "2": "44523",
                                    "3": "0",
                                    "4": "2013-09-01 00:00:00.000",
                                    "5": "W",
                                    "6": "1",
                                    "7": "0.0000",
                                    "8": "2013-09-01 00:00:00.000"
                                },
                                {
                                    "0": "113483",
                                    "1": "737",
                                    "2": "44522",
                                    "3": "0",
                                    "4": "2013-09-01 00:00:00.000",
                                    "5": "W",
                                    "6": "3",
                                    "7": "0.0000",
                                    "8": "2013-09-01 00:00:00.000"
                                },
                                {
                                    "0": "113482",
                                    "1": "706",
                                    "2": "44521",
                                    "3": "0",
                                    "4": "2013-09-01 00:00:00.000",
                                    "5": "W",
                                    "6": "1",
                                    "7": "0.0000",
                                    "8": "2013-09-01 00:00:00.000"
                                },
                                {
                                    "0": "113481",
                                    "1": "680",
                                    "2": "44520",
                                    "3": "0",
                                    "4": "2013-09-01 00:00:00.000",
                                    "5": "W",
                                    "6": "1",
                                    "7": "0.0000",
                                    "8": "2013-09-01 00:00:00.000"
                                },
                                {
                                    "0": "113480",
                                    "1": "522",
                                    "2": "44519",
                                    "3": "0",
                                    "4": "2013-09-01 00:00:00.000",
                                    "5": "W",
                                    "6": "2",
                                    "7": "0.0000",
                                    "8": "2013-09-01 00:00:00.000"
                                },
                                {
                                    "0": "113479",
                                    "1": "520",
                                    "2": "44518",
                                    "3": "0",
                                    "4": "2013-09-01 00:00:00.000",
                                    "5": "W",
                                    "6": "1",
                                    "7": "0.0000",
                                    "8": "2013-09-01 00:00:00.000"
                                },
                                {
                                    "0": "113478",
                                    "1": "519",
                                    "2": "44517",
                                    "3": "0",
                                    "4": "2013-09-01 00:00:00.000",
                                    "5": "W",
                                    "6": "5",
                                    "7": "0.0000",
                                    "8": "2013-09-01 00:00:00.000"
                                },
                                {
                                    "0": "113477",
                                    "1": "518",
                                    "2": "44516",
                                    "3": "0",
                                    "4": "2013-09-01 00:00:00.000",
                                    "5": "W",
                                    "6": "2",
                                    "7": "0.0000",
                                    "8": "2013-09-01 00:00:00.000"
                                },
                                {
                                    "0": "113476",
                                    "1": "517",
                                    "2": "44515",
                                    "3": "0",
                                    "4": "2013-09-01 00:00:00.000",
                                    "5": "W",
                                    "6": "3",
                                    "7": "0.0000",
                                    "8": "2013-09-01 00:00:00.000"
                                },
                                {
                                    "0": "113475",
                                    "1": "516",
                                    "2": "44514",
                                    "3": "0",
                                    "4": "2013-09-01 00:00:00.000",
                                    "5": "W",
                                    "6": "2",
                                    "7": "0.0000",
                                    "8": "2013-09-01 00:00:00.000"
                                },
                                {
                                    "0": "113474",
                                    "1": "514",
                                    "2": "44513",
                                    "3": "0",
                                    "4": "2013-09-01 00:00:00.000",
                                    "5": "W",
                                    "6": "2",
                                    "7": "0.0000",
                                    "8": "2013-09-01 00:00:00.000"
                                },
                                {
                                    "0": "113473",
                                    "1": "998",
                                    "2": "44512",
                                    "3": "0",
                                    "4": "2013-09-01 00:00:00.000",
                                    "5": "W",
                                    "6": "3",
                                    "7": "0.0000",
                                    "8": "2013-09-01 00:00:00.000"
                                },
                                {
                                    "0": "113472",
                                    "1": "991",
                                    "2": "44511",
                                    "3": "0",
                                    "4": "2013-09-01 00:00:00.000",
                                    "5": "W",
                                    "6": "1",
                                    "7": "0.0000",
                                    "8": "2013-09-01 00:00:00.000"
                                },
                                {
                                    "0": "113471",
                                    "1": "989",
                                    "2": "44510",
                                    "3": "0",
                                    "4": "2013-09-01 00:00:00.000",
                                    "5": "W",
                                    "6": "1",
                                    "7": "0.0000",
                                    "8": "2013-09-01 00:00:00.000"
                                },
                                {
                                    "0": "113470",
                                    "1": "975",
                                    "2": "44509",
                                    "3": "0",
                                    "4": "2013-09-01 00:00:00.000",
                                    "5": "W",
                                    "6": "1",
                                    "7": "0.0000",
                                    "8": "2013-09-01 00:00:00.000"
                                },
                                {
                                    "0": "113469",
                                    "1": "967",
                                    "2": "44508",
                                    "3": "0",
                                    "4": "2013-09-01 00:00:00.000",
                                    "5": "W",
                                    "6": "1",
                                    "7": "0.0000",
                                    "8": "2013-09-01 00:00:00.000"
                                },
                                {
                                    "0": "113468",
                                    "1": "966",
                                    "2": "44507",
                                    "3": "0",
                                    "4": "2013-09-01 00:00:00.000",
                                    "5": "W",
                                    "6": "1",
                                    "7": "0.0000",
                                    "8": "2013-09-01 00:00:00.000"
                                },
                                {
                                    "0": "113467",
                                    "1": "965",
                                    "2": "44506",
                                    "3": "0",
                                    "4": "2013-09-01 00:00:00.000",
                                    "5": "W",
                                    "6": "1",
                                    "7": "0.0000",
                                    "8": "2013-09-01 00:00:00.000"
                                },
                                {
                                    "0": "113466",
                                    "1": "799",
                                    "2": "44505",
                                    "3": "0",
                                    "4": "2013-09-01 00:00:00.000",
                                    "5": "W",
                                    "6": "1",
                                    "7": "0.0000",
                                    "8": "2013-09-01 00:00:00.000"
                                },
                                {
                                    "0": "113465",
                                    "1": "796",
                                    "2": "44504",
                                    "3": "0",
                                    "4": "2013-09-01 00:00:00.000",
                                    "5": "W",
                                    "6": "1",
                                    "7": "0.0000",
                                    "8": "2013-09-01 00:00:00.000"
                                },
                                {
                                    "0": "113464",
                                    "1": "795",
                                    "2": "44503",
                                    "3": "0",
                                    "4": "2013-09-01 00:00:00.000",
                                    "5": "W",
                                    "6": "2",
                                    "7": "0.0000",
                                    "8": "2013-09-01 00:00:00.000"
                                },
                                {
                                    "0": "113463",
                                    "1": "793",
                                    "2": "44502",
                                    "3": "0",
                                    "4": "2013-09-01 00:00:00.000",
                                    "5": "W",
                                    "6": "1",
                                    "7": "0.0000",
                                    "8": "2013-09-01 00:00:00.000"
                                },
                                {
                                    "0": "113462",
                                    "1": "792",
                                    "2": "44501",
                                    "3": "0",
                                    "4": "2013-09-01 00:00:00.000",
                                    "5": "W",
                                    "6": "1",
                                    "7": "0.0000",
                                    "8": "2013-09-01 00:00:00.000"
                                },
                                {
                                    "0": "113461",
                                    "1": "781",
                                    "2": "44500",
                                    "3": "0",
                                    "4": "2013-09-01 00:00:00.000",
                                    "5": "W",
                                    "6": "1",
                                    "7": "0.0000",
                                    "8": "2013-09-01 00:00:00.000"
                                },
                                {
                                    "0": "113460",
                                    "1": "780",
                                    "2": "44499",
                                    "3": "0",
                                    "4": "2013-09-01 00:00:00.000",
                                    "5": "W",
                                    "6": "1",
                                    "7": "0.0000",
                                    "8": "2013-09-01 00:00:00.000"
                                },
                                {
                                    "0": "113459",
                                    "1": "497",
                                    "2": "772",
                                    "3": "1",
                                    "4": "2013-09-01 00:00:00.000",
                                    "5": "P",
                                    "6": "3",
                                    "7": "34.1880",
                                    "8": "2013-09-01 00:00:00.000"
                                },
                                {
                                    "0": "113458",
                                    "1": "504",
                                    "2": "771",
                                    "3": "1",
                                    "4": "2013-09-01 00:00:00.000",
                                    "5": "P",
                                    "6": "3",
                                    "7": "48.7620",
                                    "8": "2013-09-01 00:00:00.000"
                                },
                                {
                                    "0": "113457",
                                    "1": "322",
                                    "2": "770",
                                    "3": "3",
                                    "4": "2013-09-01 00:00:00.000",
                                    "5": "P",
                                    "6": "60",
                                    "7": "26.3655",
                                    "8": "2013-09-01 00:00:00.000"
                                },
                                {
                                    "0": "113456",
                                    "1": "321",
                                    "2": "770",
                                    "3": "2",
                                    "4": "2013-09-01 00:00:00.000",
                                    "5": "P",
                                    "6": "3",
                                    "7": "40.4880",
                                    "8": "2013-09-01 00:00:00.000"
                                },
                                {
                                    "0": "113455",
                                    "1": "320",
                                    "2": "770",
                                    "3": "1",
                                    "4": "2013-09-01 00:00:00.000",
                                    "5": "P",
                                    "6": "3",
                                    "7": "45.3705",
                                    "8": "2013-09-01 00:00:00.000"
                                },
                                {
                                    "0": "113454",
                                    "1": "941",
                                    "2": "769",
                                    "3": "1",
                                    "4": "2013-09-01 00:00:00.000",
                                    "5": "P",
                                    "6": "550",
                                    "7": "62.9895",
                                    "8": "2013-09-01 00:00:00.000"
                                },
                                {
                                    "0": "113453",
                                    "1": "442",
                                    "2": "768",
                                    "3": "5",
                                    "4": "2013-09-01 00:00:00.000",
                                    "5": "P",
                                    "6": "3",
                                    "7": "43.3965",
                                    "8": "2013-09-01 00:00:00.000"
                                },
                                {
                                    "0": "113452",
                                    "1": "441",
                                    "2": "768",
                                    "3": "4",
                                    "4": "2013-09-01 00:00:00.000",
                                    "5": "P",
                                    "6": "3",
                                    "7": "39.1230",
                                    "8": "2013-09-01 00:00:00.000"
                                },
                                {
                                    "0": "113451",
                                    "1": "440",
                                    "2": "768",
                                    "3": "3",
                                    "4": "2013-09-01 00:00:00.000",
                                    "5": "P",
                                    "6": "3",
                                    "7": "41.2230",
                                    "8": "2013-09-01 00:00:00.000"
                                },
                                {
                                    "0": "113450",
                                    "1": "439",
                                    "2": "768",
                                    "3": "2",
                                    "4": "2013-09-01 00:00:00.000",
                                    "5": "P",
                                    "6": "3",
                                    "7": "45.4965",
                                    "8": "2013-09-01 00:00:00.000"
                                },
                                {
                                    "0": "113449",
                                    "1": "438",
                                    "2": "768",
                                    "3": "1",
                                    "4": "2013-09-01 00:00:00.000",
                                    "5": "P",
                                    "6": "3",
                                    "7": "41.2230",
                                    "8": "2013-09-01 00:00:00.000"
                                },
                                {
                                    "0": "113448",
                                    "1": "322",
                                    "2": "767",
                                    "3": "1",
                                    "4": "2013-09-01 00:00:00.000",
                                    "5": "P",
                                    "6": "60",
                                    "7": "25.4205",
                                    "8": "2013-09-01 00:00:00.000"
                                },
                                {
                                    "0": "113447",
                                    "1": "437",
                                    "2": "766",
                                    "3": "2",
                                    "4": "2013-09-01 00:00:00.000",
                                    "5": "P",
                                    "6": "3",
                                    "7": "37.0230",
                                    "8": "2013-09-01 00:00:00.000"
                                },
                                {
                                    "0": "113446",
                                    "1": "436",
                                    "2": "766",
                                    "3": "1",
                                    "4": "2013-09-01 00:00:00.000",
                                    "5": "P",
                                    "6": "3",
                                    "7": "41.2965",
                                    "8": "2013-09-01 00:00:00.000"
                                },
                                {
                                    "0": "113445",
                                    "1": "421",
                                    "2": "765",
                                    "3": "17",
                                    "4": "2013-09-01 00:00:00.000",
                                    "5": "P",
                                    "6": "3",
                                    "7": "47.5755",
                                    "8": "2013-09-01 00:00:00.000"
                                },
                                {
                                    "0": "113444",
                                    "1": "420",
                                    "2": "765",
                                    "3": "16",
                                    "4": "2013-09-01 00:00:00.000",
                                    "5": "P",
                                    "6": "3",
                                    "7": "39.1440",
                                    "8": "2013-09-01 00:00:00.000"
                                },
                                {
                                    "0": "113443",
                                    "1": "419",
                                    "2": "765",
                                    "3": "15",
                                    "4": "2013-09-01 00:00:00.000",
                                    "5": "P",
                                    "6": "3",
                                    "7": "34.8705",
                                    "8": "2013-09-01 00:00:00.000"
                                },
                                {
                                    "0": "113442",
                                    "1": "418",
                                    "2": "765",
                                    "3": "14",
                                    "4": "2013-09-01 00:00:00.000",
                                    "5": "P",
                                    "6": "3",
                                    "7": "36.9705",
                                    "8": "2013-09-01 00:00:00.000"
                                },
                                {
                                    "0": "113441",
                                    "1": "417",
                                    "2": "765",
                                    "3": "13",
                                    "4": "2013-09-01 00:00:00.000",
                                    "5": "P",
                                    "6": "3",
                                    "7": "41.2440",
                                    "8": "2013-09-01 00:00:00.000"
                                },
                                {
                                    "0": "113440",
                                    "1": "416",
                                    "2": "765",
                                    "3": "12",
                                    "4": "2013-09-01 00:00:00.000",
                                    "5": "P",
                                    "6": "3",
                                    "7": "36.9705",
                                    "8": "2013-09-01 00:00:00.000"
                                },
                                {
                                    "0": "113439",
                                    "1": "415",
                                    "2": "765",
                                    "3": "11",
                                    "4": "2013-09-01 00:00:00.000",
                                    "5": "P",
                                    "6": "3",
                                    "7": "39.0705",
                                    "8": "2013-09-01 00:00:00.000"
                                },
                                {
                                    "0": "113438",
                                    "1": "414",
                                    "2": "765",
                                    "3": "10",
                                    "4": "2013-09-01 00:00:00.000",
                                    "5": "P",
                                    "6": "3",
                                    "7": "43.3440",
                                    "8": "2013-09-01 00:00:00.000"
                                },
                                {
                                    "0": "113437",
                                    "1": "413",
                                    "2": "765",
                                    "3": "9",
                                    "4": "2013-09-01 00:00:00.000",
                                    "5": "P",
                                    "6": "3",
                                    "7": "39.0705",
                                    "8": "2013-09-01 00:00:00.000"
                                },
                                {
                                    "0": "113436",
                                    "1": "412",
                                    "2": "765",
                                    "3": "8",
                                    "4": "2013-09-01 00:00:00.000",
                                    "5": "P",
                                    "6": "3",
                                    "7": "41.1705",
                                    "8": "2013-09-01 00:00:00.000"
                                },
                                {
                                    "0": "113435",
                                    "1": "411",
                                    "2": "765",
                                    "3": "7",
                                    "4": "2013-09-01 00:00:00.000",
                                    "5": "P",
                                    "6": "3",
                                    "7": "45.4440",
                                    "8": "2013-09-01 00:00:00.000"
                                },
                                {
                                    "0": "113434",
                                    "1": "410",
                                    "2": "765",
                                    "3": "6",
                                    "4": "2013-09-01 00:00:00.000",
                                    "5": "P",
                                    "6": "3",
                                    "7": "41.1705",
                                    "8": "2013-09-01 00:00:00.000"
                                },
                                {
                                    "0": "113433",
                                    "1": "409",
                                    "2": "765",
                                    "3": "5",
                                    "4": "2013-09-01 00:00:00.000",
                                    "5": "P",
                                    "6": "3",
                                    "7": "43.2705",
                                    "8": "2013-09-01 00:00:00.000"
                                },
                                {
                                    "0": "113432",
                                    "1": "408",
                                    "2": "765",
                                    "3": "4",
                                    "4": "2013-09-01 00:00:00.000",
                                    "5": "P",
                                    "6": "3",
                                    "7": "47.5440",
                                    "8": "2013-09-01 00:00:00.000"
                                },
                                {
                                    "0": "113431",
                                    "1": "407",
                                    "2": "765",
                                    "3": "3",
                                    "4": "2013-09-01 00:00:00.000",
                                    "5": "P",
                                    "6": "3",
                                    "7": "43.2705",
                                    "8": "2013-09-01 00:00:00.000"
                                },
                                {
                                    "0": "113430",
                                    "1": "406",
                                    "2": "765",
                                    "3": "2",
                                    "4": "2013-09-01 00:00:00.000",
                                    "5": "P",
                                    "6": "3",
                                    "7": "45.3705",
                                    "8": "2013-09-01 00:00:00.000"
                                },
                                {
                                    "0": "113429",
                                    "1": "405",
                                    "2": "765",
                                    "3": "1",
                                    "4": "2013-09-01 00:00:00.000",
                                    "5": "P",
                                    "6": "3",
                                    "7": "49.6440",
                                    "8": "2013-09-01 00:00:00.000"
                                },
                                {
                                    "0": "113428",
                                    "1": "318",
                                    "2": "764",
                                    "3": "2",
                                    "4": "2013-09-01 00:00:00.000",
                                    "5": "P",
                                    "6": "550",
                                    "7": "33.5790",
                                    "8": "2013-09-01 00:00:00.000"
                                },
                                {
                                    "0": "113427",
                                    "1": "317",
                                    "2": "764",
                                    "3": "1",
                                    "4": "2013-09-01 00:00:00.000",
                                    "5": "P",
                                    "6": "550",
                                    "7": "27.0585",
                                    "8": "2013-09-01 00:00:00.000"
                                },
                                {
                                    "0": "113426",
                                    "1": "513",
                                    "2": "763",
                                    "3": "1",
                                    "4": "2013-09-01 00:00:00.000",
                                    "5": "P",
                                    "6": "550",
                                    "7": "26.5965",
                                    "8": "2013-09-01 00:00:00.000"
                                },
                                {
                                    "0": "113425",
                                    "1": "512",
                                    "2": "762",
                                    "3": "1",
                                    "4": "2013-09-01 00:00:00.000",
                                    "5": "P",
                                    "6": "550",
                                    "7": "37.0860",
                                    "8": "2013-09-01 00:00:00.000"
                                },
                                {
                                    "0": "113424",
                                    "1": "4",
                                    "2": "761",
                                    "3": "1",
                                    "4": "2013-09-01 00:00:00.000",
                                    "5": "P",
                                    "6": "3",
                                    "7": "57.0255",
                                    "8": "2013-09-01 00:00:00.000"
                                },
                                {
                                    "0": "113423",
                                    "1": "530",
                                    "2": "760",
                                    "3": "1",
                                    "4": "2013-09-01 00:00:00.000",
                                    "5": "P",
                                    "6": "550",
                                    "7": "16.0860",
                                    "8": "2013-09-01 00:00:00.000"
                                },
                                {
                                    "0": "113422",
                                    "1": "372",
                                    "2": "759",
                                    "3": "5",
                                    "4": "2013-09-01 00:00:00.000",
                                    "5": "P",
                                    "6": "3",
                                    "7": "37.1805",
                                    "8": "2013-09-01 00:00:00.000"
                                },
                                {
                                    "0": "113421",
                                    "1": "371",
                                    "2": "759",
                                    "3": "4",
                                    "4": "2013-09-01 00:00:00.000",
                                    "5": "P",
                                    "6": "3",
                                    "7": "39.2805",
                                    "8": "2013-09-01 00:00:00.000"
                                },
                                {
                                    "0": "113420",
                                    "1": "370",
                                    "2": "759",
                                    "3": "3",
                                    "4": "2013-09-01 00:00:00.000",
                                    "5": "P",
                                    "6": "3",
                                    "7": "43.5540",
                                    "8": "2013-09-01 00:00:00.000"
                                },
                                {
                                    "0": "113419",
                                    "1": "369",
                                    "2": "759",
                                    "3": "2",
                                    "4": "2013-09-01 00:00:00.000",
                                    "5": "P",
                                    "6": "3",
                                    "7": "39.2805",
                                    "8": "2013-09-01 00:00:00.000"
                                },
                                {
                                    "0": "113418",
                                    "1": "368",
                                    "2": "759",
                                    "3": "1",
                                    "4": "2013-09-01 00:00:00.000",
                                    "5": "P",
                                    "6": "3",
                                    "7": "41.3805",
                                    "8": "2013-09-01 00:00:00.000"
                                },
                                {
                                    "0": "113417",
                                    "1": "1",
                                    "2": "758",
                                    "3": "1",
                                    "4": "2013-09-01 00:00:00.000",
                                    "5": "P",
                                    "6": "3",
                                    "7": "50.2635",
                                    "8": "2013-09-01 00:00:00.000"
                                },
                                {
                                    "0": "113416",
                                    "1": "2",
                                    "2": "757",
                                    "3": "1",
                                    "4": "2013-09-01 00:00:00.000",
                                    "5": "P",
                                    "6": "3",
                                    "7": "41.9160",
                                    "8": "2013-09-01 00:00:00.000"
                                },
                                {
                                    "0": "113527",
                                    "1": "327",
                                    "2": "44566",
                                    "3": "0",
                                    "4": "2013-09-01 00:00:00.000",
                                    "5": "W",
                                    "6": "17",
                                    "7": "0.0000",
                                    "8": "2013-09-01 00:00:00.000"
                                },
                                {
                                    "0": "113528",
                                    "1": "328",
                                    "2": "44567",
                                    "3": "0",
                                    "4": "2013-09-01 00:00:00.000",
                                    "5": "W",
                                    "6": "8",
                                    "7": "0.0000",
                                    "8": "2013-09-01 00:00:00.000"
                                },
                                {
                                    "0": "113529",
                                    "1": "329",
                                    "2": "44568",
                                    "3": "0",
                                    "4": "2013-09-01 00:00:00.000",
                                    "5": "W",
                                    "6": "20",
                                    "7": "0.0000",
                                    "8": "2013-09-01 00:00:00.000"
                                },
                                {
                                    "0": "113530",
                                    "1": "330",
                                    "2": "44569",
                                    "3": "0",
                                    "4": "2013-09-01 00:00:00.000",
                                    "5": "W",
                                    "6": "6",
                                    "7": "0.0000",
                                    "8": "2013-09-01 00:00:00.000"
                                },
                                {
                                    "0": "113531",
                                    "1": "398",
                                    "2": "44570",
                                    "3": "0",
                                    "4": "2013-09-01 00:00:00.000",
                                    "5": "W",
                                    "6": "17",
                                    "7": "0.0000",
                                    "8": "2013-09-01 00:00:00.000"
                                },
                                {
                                    "0": "113532",
                                    "1": "399",
                                    "2": "44571",
                                    "3": "0",
                                    "4": "2013-09-01 00:00:00.000",
                                    "5": "W",
                                    "6": "17",
                                    "7": "0.0000",
                                    "8": "2013-09-01 00:00:00.000"
                                },
                                {
                                    "0": "113533",
                                    "1": "400",
                                    "2": "44572",
                                    "3": "0",
                                    "4": "2013-09-01 00:00:00.000",
                                    "5": "W",
                                    "6": "10",
                                    "7": "0.0000",
                                    "8": "2013-09-01 00:00:00.000"
                                },
                                {
                                    "0": "113534",
                                    "1": "401",
                                    "2": "44573",
                                    "3": "0",
                                    "4": "2013-09-01 00:00:00.000",
                                    "5": "W",
                                    "6": "24",
                                    "7": "0.0000",
                                    "8": "2013-09-01 00:00:00.000"
                                },
                                {
                                    "0": "113535",
                                    "1": "529",
                                    "2": "44574",
                                    "3": "0",
                                    "4": "2013-09-01 00:00:00.000",
                                    "5": "W",
                                    "6": "17",
                                    "7": "0.0000",
                                    "8": "2013-09-01 00:00:00.000"
                                },
                                {
                                    "0": "113536",
                                    "1": "532",
                                    "2": "44575",
                                    "3": "0",
                                    "4": "2013-09-01 00:00:00.000",
                                    "5": "W",
                                    "6": "68",
                                    "7": "0.0000",
                                    "8": "2013-09-01 00:00:00.000"
                                },
                                {
                                    "0": "113537",
                                    "1": "533",
                                    "2": "44576",
                                    "3": "0",
                                    "4": "2013-09-01 00:00:00.000",
                                    "5": "W",
                                    "6": "17",
                                    "7": "0.0000",
                                    "8": "2013-09-01 00:00:00.000"
                                },
                                {
                                    "0": "113538",
                                    "1": "534",
                                    "2": "44577",
                                    "3": "0",
                                    "4": "2013-09-01 00:00:00.000",
                                    "5": "W",
                                    "6": "17",
                                    "7": "0.0000",
                                    "8": "2013-09-01 00:00:00.000"
                                },
                                {
                                    "0": "113539",
                                    "1": "802",
                                    "2": "44578",
                                    "3": "0",
                                    "4": "2013-09-01 00:00:00.000",
                                    "5": "W",
                                    "6": "6",
                                    "7": "0.0000",
                                    "8": "2013-09-01 00:00:00.000"
                                },
                                {
                                    "0": "113540",
                                    "1": "803",
                                    "2": "44579",
                                    "3": "0",
                                    "4": "2013-09-01 00:00:00.000",
                                    "5": "W",
                                    "6": "2",
                                    "7": "0.0000",
                                    "8": "2013-09-01 00:00:00.000"
                                },
                                {
                                    "0": "113541",
                                    "1": "804",
                                    "2": "44580",
                                    "3": "0",
                                    "4": "2013-09-01 00:00:00.000",
                                    "5": "W",
                                    "6": "9",
                                    "7": "0.0000",
                                    "8": "2013-09-01 00:00:00.000"
                                },
                                {
                                    "0": "113542",
                                    "1": "316",
                                    "2": "44581",
                                    "3": "0",
                                    "4": "2013-09-01 00:00:00.000",
                                    "5": "W",
                                    "6": "34",
                                    "7": "0.0000",
                                    "8": "2013-09-01 00:00:00.000"
                                },
                                {
                                    "0": "113543",
                                    "1": "331",
                                    "2": "44582",
                                    "3": "0",
                                    "4": "2013-09-01 00:00:00.000",
                                    "5": "W",
                                    "6": "34",
                                    "7": "0.0000",
                                    "8": "2013-09-01 00:00:00.000"
                                },
                                {
                                    "0": "113544",
                                    "1": "350",
                                    "2": "44583",
                                    "3": "0",
                                    "4": "2013-09-01 00:00:00.000",
                                    "5": "W",
                                    "6": "17",
                                    "7": "0.0000",
                                    "8": "2013-09-01 00:00:00.000"
                                },
                                {
                                    "0": "113545",
                                    "1": "531",
                                    "2": "44584",
                                    "3": "0",
                                    "4": "2013-09-01 00:00:00.000",
                                    "5": "W",
                                    "6": "17",
                                    "7": "0.0000",
                                    "8": "2013-09-01 00:00:00.000"
                                },
                                {
                                    "0": "113546",
                                    "1": "713",
                                    "2": "55451",
                                    "3": "3",
                                    "4": "2013-09-01 00:00:00.000",
                                    "5": "S",
                                    "6": "1",
                                    "7": "49.9900",
                                    "8": "2013-09-01 00:00:00.000"
                                },
                                {
                                    "0": "113547",
                                    "1": "801",
                                    "2": "55451",
                                    "3": "1",
                                    "4": "2013-09-01 00:00:00.000",
                                    "5": "S",
                                    "6": "1",
                                    "7": "1120.4900",
                                    "8": "2013-09-01 00:00:00.000"
                                },
                                {
                                    "0": "113548",
                                    "1": "932",
                                    "2": "55451",
                                    "3": "2",
                                    "4": "2013-09-01 00:00:00.000",
                                    "5": "S",
                                    "6": "1",
                                    "7": "24.9900",
                                    "8": "2013-09-01 00:00:00.000"
                                },
                                {
                                    "0": "113549",
                                    "1": "800",
                                    "2": "55452",
                                    "3": "1",
                                    "4": "2013-09-01 00:00:00.000",
                                    "5": "S",
                                    "6": "1",
                                    "7": "1120.4900",
                                    "8": "2013-09-01 00:00:00.000"
                                },
                                {
                                    "0": "113550",
                                    "1": "782",
                                    "2": "55453",
                                    "3": "1",
                                    "4": "2013-09-01 00:00:00.000",
                                    "5": "S",
                                    "6": "1",
                                    "7": "2294.9900",
                                    "8": "2013-09-01 00:00:00.000"
                                },
                                {
                                    "0": "113551",
                                    "1": "871",
                                    "2": "55453",
                                    "3": "2",
                                    "4": "2013-09-01 00:00:00.000",
                                    "5": "S",
                                    "6": "1",
                                    "7": "9.9900",
                                    "8": "2013-09-01 00:00:00.000"
                                },
                                {
                                    "0": "113552",
                                    "1": "711",
                                    "2": "55454",
                                    "3": "4",
                                    "4": "2013-09-01 00:00:00.000",
                                    "5": "S",
                                    "6": "1",
                                    "7": "34.9900",
                                    "8": "2013-09-01 00:00:00.000"
                                },
                                {
                                    "0": "113553",
                                    "1": "779",
                                    "2": "55454",
                                    "3": "1",
                                    "4": "2013-09-01 00:00:00.000",
                                    "5": "S",
                                    "6": "1",
                                    "7": "2319.9900",
                                    "8": "2013-09-01 00:00:00.000"
                                },
                                {
                                    "0": "113554",
                                    "1": "870",
                                    "2": "55454",
                                    "3": "2",
                                    "4": "2013-09-01 00:00:00.000",
                                    "5": "S",
                                    "6": "1",
                                    "7": "4.9900",
                                    "8": "2013-09-01 00:00:00.000"
                                },
                                {
                                    "0": "113555",
                                    "1": "871",
                                    "2": "55454",
                                    "3": "3",
                                    "4": "2013-09-01 00:00:00.000",
                                    "5": "S",
                                    "6": "1",
                                    "7": "9.9900",
                                    "8": "2013-09-01 00:00:00.000"
                                },
                                {
                                    "0": "113556",
                                    "1": "870",
                                    "2": "55455",
                                    "3": "2",
                                    "4": "2013-09-01 00:00:00.000",
                                    "5": "S",
                                    "6": "1",
                                    "7": "4.9900",
                                    "8": "2013-09-01 00:00:00.000"
                                },
                                {
                                    "0": "113557",
                                    "1": "872",
                                    "2": "55455",
                                    "3": "1",
                                    "4": "2013-09-01 00:00:00.000",
                                    "5": "S",
                                    "6": "1",
                                    "7": "8.9900",
                                    "8": "2013-09-01 00:00:00.000"
                                },
                                {
                                    "0": "113558",
                                    "1": "873",
                                    "2": "55456",
                                    "3": "3",
                                    "4": "2013-09-01 00:00:00.000",
                                    "5": "S",
                                    "6": "1",
                                    "7": "2.2900",
                                    "8": "2013-09-01 00:00:00.000"
                                },
                                {
                                    "0": "113559",
                                    "1": "921",
                                    "2": "55456",
                                    "3": "2",
                                    "4": "2013-09-01 00:00:00.000",
                                    "5": "S",
                                    "6": "1",
                                    "7": "4.9900",
                                    "8": "2013-09-01 00:00:00.000"
                                },
                                {
                                    "0": "113560",
                                    "1": "928",
                                    "2": "55456",
                                    "3": "1",
                                    "4": "2013-09-01 00:00:00.000",
                                    "5": "S",
                                    "6": "1",
                                    "7": "24.9900",
                                    "8": "2013-09-01 00:00:00.000"
                                },
                                {
                                    "0": "113561",
                                    "1": "711",
                                    "2": "55457",
                                    "3": "3",
                                    "4": "2013-09-01 00:00:00.000",
                                    "5": "S",
                                    "6": "1",
                                    "7": "34.9900",
                                    "8": "2013-09-01 00:00:00.000"
                                },
                                {
                                    "0": "113562",
                                    "1": "921",
                                    "2": "55457",
                                    "3": "1",
                                    "4": "2013-09-01 00:00:00.000",
                                    "5": "S",
                                    "6": "1",
                                    "7": "4.9900",
                                    "8": "2013-09-01 00:00:00.000"
                                },
                                {
                                    "0": "113563",
                                    "1": "929",
                                    "2": "55457",
                                    "3": "2",
                                    "4": "2013-09-01 00:00:00.000",
                                    "5": "S",
                                    "6": "1",
                                    "7": "29.9900",
                                    "8": "2013-09-01 00:00:00.000"
                                },
                                {
                                    "0": "113564",
                                    "1": "870",
                                    "2": "55458",
                                    "3": "1",
                                    "4": "2013-09-01 00:00:00.000",
                                    "5": "S",
                                    "6": "1",
                                    "7": "4.9900",
                                    "8": "2013-09-01 00:00:00.000"
                                },
                                {
                                    "0": "113565",
                                    "1": "868",
                                    "2": "55459",
                                    "3": "1",
                                    "4": "2013-09-01 00:00:00.000",
                                    "5": "S",
                                    "6": "1",
                                    "7": "69.9900",
                                    "8": "2013-09-01 00:00:00.000"
                                },
                                {
                                    "0": "113566",
                                    "1": "707",
                                    "2": "55460",
                                    "3": "3",
                                    "4": "2013-09-01 00:00:00.000",
                                    "5": "S",
                                    "6": "1",
                                    "7": "34.9900",
                                    "8": "2013-09-01 00:00:00.000"
                                },
                                {
                                    "0": "113567",
                                    "1": "922",
                                    "2": "55460",
                                    "3": "1",
                                    "4": "2013-09-01 00:00:00.000",
                                    "5": "S",
                                    "6": "1",
                                    "7": "3.9900",
                                    "8": "2013-09-01 00:00:00.000"
                                },
                                {
                                    "0": "113568",
                                    "1": "931",
                                    "2": "55460",
                                    "3": "2",
                                    "4": "2013-09-01 00:00:00.000",
                                    "5": "S",
                                    "6": "1",
                                    "7": "21.4900",
                                    "8": "2013-09-01 00:00:00.000"
                                },
                                {
                                    "0": "113569",
                                    "1": "712",
                                    "2": "55461",
                                    "3": "1",
                                    "4": "2013-09-01 00:00:00.000",
                                    "5": "S",
                                    "6": "1",
                                    "7": "8.9900",
                                    "8": "2013-09-01 00:00:00.000"
                                },
                                {
                                    "0": "113570",
                                    "1": "708",
                                    "2": "55462",
                                    "3": "2",
                                    "4": "2013-09-01 00:00:00.000",
                                    "5": "S",
                                    "6": "1",
                                    "7": "34.9900",
                                    "8": "2013-09-01 00:00:00.000"
                                },
                                {
                                    "0": "113571",
                                    "1": "715",
                                    "2": "55462",
                                    "3": "3",
                                    "4": "2013-09-01 00:00:00.000",
                                    "5": "S",
                                    "6": "1",
                                    "7": "49.9900",
                                    "8": "2013-09-01 00:00:00.000"
                                },
                                {
                                    "0": "113572",
                                    "1": "858",
                                    "2": "55462",
                                    "3": "4",
                                    "4": "2013-09-01 00:00:00.000",
                                    "5": "S",
                                    "6": "1",
                                    "7": "24.4900",
                                    "8": "2013-09-01 00:00:00.000"
                                },
                                {
                                    "0": "113573",
                                    "1": "923",
                                    "2": "55462",
                                    "3": "1",
                                    "4": "2013-09-01 00:00:00.000",
                                    "5": "S",
                                    "6": "1",
                                    "7": "4.9900",
                                    "8": "2013-09-01 00:00:00.000"
                                },
                                {
                                    "0": "113574",
                                    "1": "712",
                                    "2": "55463",
                                    "3": "3",
                                    "4": "2013-09-01 00:00:00.000",
                                    "5": "S",
                                    "6": "1",
                                    "7": "8.9900",
                                    "8": "2013-09-01 00:00:00.000"
                                },
                                {
                                    "0": "113575",
                                    "1": "882",
                                    "2": "55463",
                                    "3": "2",
                                    "4": "2013-09-01 00:00:00.000",
                                    "5": "S",
                                    "6": "1",
                                    "7": "53.9900",
                                    "8": "2013-09-01 00:00:00.000"
                                },
                                {
                                    "0": "113576",
                                    "1": "922",
                                    "2": "55463",
                                    "3": "1",
                                    "4": "2013-09-01 00:00:00.000",
                                    "5": "S",
                                    "6": "1",
                                    "7": "3.9900",
                                    "8": "2013-09-01 00:00:00.000"
                                },
                                {
                                    "0": "113577",
                                    "1": "711",
                                    "2": "55464",
                                    "3": "2",
                                    "4": "2013-09-01 00:00:00.000",
                                    "5": "S",
                                    "6": "1",
                                    "7": "34.9900",
                                    "8": "2013-09-01 00:00:00.000"
                                },
                                {
                                    "0": "113578",
                                    "1": "922",
                                    "2": "55464",
                                    "3": "1",
                                    "4": "2013-09-01 00:00:00.000",
                                    "5": "S",
                                    "6": "1",
                                    "7": "3.9900",
                                    "8": "2013-09-01 00:00:00.000"
                                },
                                {
                                    "0": "113579",
                                    "1": "859",
                                    "2": "55465",
                                    "3": "3",
                                    "4": "2013-09-01 00:00:00.000",
                                    "5": "S",
                                    "6": "1",
                                    "7": "24.4900",
                                    "8": "2013-09-01 00:00:00.000"
                                },
                                {
                                    "0": "113580",
                                    "1": "876",
                                    "2": "55465",
                                    "3": "4",
                                    "4": "2013-09-01 00:00:00.000",
                                    "5": "S",
                                    "6": "1",
                                    "7": "120.0000",
                                    "8": "2013-09-01 00:00:00.000"
                                },
                                {
                                    "0": "113581",
                                    "1": "922",
                                    "2": "55465",
                                    "3": "1",
                                    "4": "2013-09-01 00:00:00.000",
                                    "5": "S",
                                    "6": "1",
                                    "7": "3.9900",
                                    "8": "2013-09-01 00:00:00.000"
                                },
                                {
                                    "0": "113582",
                                    "1": "932",
                                    "2": "55465",
                                    "3": "2",
                                    "4": "2013-09-01 00:00:00.000",
                                    "5": "S",
                                    "6": "1",
                                    "7": "24.9900",
                                    "8": "2013-09-01 00:00:00.000"
                                },
                                {
                                    "0": "113583",
                                    "1": "711",
                                    "2": "55466",
                                    "3": "2",
                                    "4": "2013-09-01 00:00:00.000",
                                    "5": "S",
                                    "6": "1",
                                    "7": "34.9900",
                                    "8": "2013-09-01 00:00:00.000"
                                },
                                {
                                    "0": "113584",
                                    "1": "923",
                                    "2": "55466",
                                    "3": "1",
                                    "4": "2013-09-01 00:00:00.000",
                                    "5": "S",
                                    "6": "1",
                                    "7": "4.9900",
                                    "8": "2013-09-01 00:00:00.000"
                                },
                                {
                                    "0": "113585",
                                    "1": "708",
                                    "2": "55467",
                                    "3": "2",
                                    "4": "2013-09-01 00:00:00.000",
                                    "5": "S",
                                    "6": "1",
                                    "7": "34.9900",
                                    "8": "2013-09-01 00:00:00.000"
                                },
                                {
                                    "0": "113586",
                                    "1": "923",
                                    "2": "55467",
                                    "3": "1",
                                    "4": "2013-09-01 00:00:00.000",
                                    "5": "S",
                                    "6": "1",
                                    "7": "4.9900",
                                    "8": "2013-09-01 00:00:00.000"
                                },
                                {
                                    "0": "113587",
                                    "1": "928",
                                    "2": "55468",
                                    "3": "1",
                                    "4": "2013-09-01 00:00:00.000",
                                    "5": "S",
                                    "6": "1",
                                    "7": "24.9900",
                                    "8": "2013-09-01 00:00:00.000"
                                },
                                {
                                    "0": "113588",
                                    "1": "711",
                                    "2": "55469",
                                    "3": "3",
                                    "4": "2013-09-01 00:00:00.000",
                                    "5": "S",
                                    "6": "1",
                                    "7": "34.9900",
                                    "8": "2013-09-01 00:00:00.000"
                                },
                                {
                                    "0": "113589",
                                    "1": "923",
                                    "2": "55469",
                                    "3": "2",
                                    "4": "2013-09-01 00:00:00.000",
                                    "5": "S",
                                    "6": "1",
                                    "7": "4.9900",
                                    "8": "2013-09-01 00:00:00.000"
                                },
                                {
                                    "0": "113590",
                                    "1": "934",
                                    "2": "55469",
                                    "3": "1",
                                    "4": "2013-09-01 00:00:00.000",
                                    "5": "S",
                                    "6": "1",
                                    "7": "28.9900",
                                    "8": "2013-09-01 00:00:00.000"
                                },
                                {
                                    "0": "113591",
                                    "1": "921",
                                    "2": "55470",
                                    "3": "2",
                                    "4": "2013-09-01 00:00:00.000",
                                    "5": "S",
                                    "6": "1",
                                    "7": "4.9900",
                                    "8": "2013-09-01 00:00:00.000"
                                },
                                {
                                    "0": "113592",
                                    "1": "929",
                                    "2": "55470",
                                    "3": "1",
                                    "4": "2013-09-01 00:00:00.000",
                                    "5": "S",
                                    "6": "1",
                                    "7": "29.9900",
                                    "8": "2013-09-01 00:00:00.000"
                                },
                                {
                                    "0": "113593",
                                    "1": "712",
                                    "2": "55471",
                                    "3": "4",
                                    "4": "2013-09-01 00:00:00.000",
                                    "5": "S",
                                    "6": "1",
                                    "7": "8.9900",
                                    "8": "2013-09-01 00:00:00.000"
                                },
                                {
                                    "0": "113594",
                                    "1": "870",
                                    "2": "55471",
                                    "3": "2",
                                    "4": "2013-09-01 00:00:00.000",
                                    "5": "S",
                                    "6": "1",
                                    "7": "4.9900",
                                    "8": "2013-09-01 00:00:00.000"
                                },
                                {
                                    "0": "113595",
                                    "1": "871",
                                    "2": "55471",
                                    "3": "1",
                                    "4": "2013-09-01 00:00:00.000",
                                    "5": "S",
                                    "6": "1",
                                    "7": "9.9900",
                                    "8": "2013-09-01 00:00:00.000"
                                },
                                {
                                    "0": "113596",
                                    "1": "881",
                                    "2": "55471",
                                    "3": "3",
                                    "4": "2013-09-01 00:00:00.000",
                                    "5": "S",
                                    "6": "1",
                                    "7": "53.9900",
                                    "8": "2013-09-01 00:00:00.000"
                                },
                                {
                                    "0": "113597",
                                    "1": "708",
                                    "2": "55472",
                                    "3": "2",
                                    "4": "2013-09-01 00:00:00.000",
                                    "5": "S",
                                    "6": "1",
                                    "7": "34.9900",
                                    "8": "2013-09-01 00:00:00.000"
                                },
                                {
                                    "0": "113598",
                                    "1": "859",
                                    "2": "55472",
                                    "3": "3",
                                    "4": "2013-09-01 00:00:00.000",
                                    "5": "S",
                                    "6": "1",
                                    "7": "24.4900",
                                    "8": "2013-09-01 00:00:00.000"
                                },
                                {
                                    "0": "113599",
                                    "1": "871",
                                    "2": "55472",
                                    "3": "1",
                                    "4": "2013-09-01 00:00:00.000",
                                    "5": "S",
                                    "6": "1",
                                    "7": "9.9900",
                                    "8": "2013-09-01 00:00:00.000"
                                },
                                {
                                    "0": "113600",
                                    "1": "716",
                                    "2": "55473",
                                    "3": "2",
                                    "4": "2013-09-01 00:00:00.000",
                                    "5": "S",
                                    "6": "1",
                                    "7": "49.9900",
                                    "8": "2013-09-01 00:00:00.000"
                                },
                                {
                                    "0": "113601",
                                    "1": "867",
                                    "2": "55473",
                                    "3": "1",
                                    "4": "2013-09-01 00:00:00.000",
                                    "5": "S",
                                    "6": "1",
                                    "7": "69.9900",
                                    "8": "2013-09-01 00:00:00.000"
                                },
                                {
                                    "0": "113602",
                                    "1": "867",
                                    "2": "55474",
                                    "3": "1",
                                    "4": "2013-09-01 00:00:00.000",
                                    "5": "S",
                                    "6": "1",
                                    "7": "69.9900",
                                    "8": "2013-09-01 00:00:00.000"
                                },
                                {
                                    "0": "113603",
                                    "1": "873",
                                    "2": "55475",
                                    "3": "2",
                                    "4": "2013-09-01 00:00:00.000",
                                    "5": "S",
                                    "6": "1",
                                    "7": "2.2900",
                                    "8": "2013-09-01 00:00:00.000"
                                },
                                {
                                    "0": "113604",
                                    "1": "921",
                                    "2": "55475",
                                    "3": "1",
                                    "4": "2013-09-01 00:00:00.000",
                                    "5": "S",
                                    "6": "1",
                                    "7": "4.9900",
                                    "8": "2013-09-01 00:00:00.000"
                                },
                                {
                                    "0": "113605",
                                    "1": "873",
                                    "2": "55476",
                                    "3": "2",
                                    "4": "2013-09-01 00:00:00.000",
                                    "5": "S",
                                    "6": "1",
                                    "7": "2.2900",
                                    "8": "2013-09-01 00:00:00.000"
                                },
                                {
                                    "0": "113606",
                                    "1": "921",
                                    "2": "55476",
                                    "3": "1",
                                    "4": "2013-09-01 00:00:00.000",
                                    "5": "S",
                                    "6": "1",
                                    "7": "4.9900",
                                    "8": "2013-09-01 00:00:00.000"
                                },
                                {
                                    "0": "113607",
                                    "1": "707",
                                    "2": "55477",
                                    "3": "2",
                                    "4": "2013-09-01 00:00:00.000",
                                    "5": "S",
                                    "6": "1",
                                    "7": "34.9900",
                                    "8": "2013-09-01 00:00:00.000"
                                },
                                {
                                    "0": "113608",
                                    "1": "878",
                                    "2": "55477",
                                    "3": "1",
                                    "4": "2013-09-01 00:00:00.000",
                                    "5": "S",
                                    "6": "1",
                                    "7": "21.9800",
                                    "8": "2013-09-01 00:00:00.000"
                                },
                                {
                                    "0": "113609",
                                    "1": "932",
                                    "2": "55478",
                                    "3": "1",
                                    "4": "2013-09-01 00:00:00.000",
                                    "5": "S",
                                    "6": "1",
                                    "7": "24.9900",
                                    "8": "2013-09-01 00:00:00.000"
                                },
                                {
                                    "0": "113610",
                                    "1": "873",
                                    "2": "55479",
                                    "3": "2",
                                    "4": "2013-09-01 00:00:00.000",
                                    "5": "S",
                                    "6": "1",
                                    "7": "2.2900",
                                    "8": "2013-09-01 00:00:00.000"
                                },
                                {
                                    "0": "113611",
                                    "1": "932",
                                    "2": "55479",
                                    "3": "1",
                                    "4": "2013-09-01 00:00:00.000",
                                    "5": "S",
                                    "6": "1",
                                    "7": "24.9900",
                                    "8": "2013-09-01 00:00:00.000"
                                },
                                {
                                    "0": "113612",
                                    "1": "921",
                                    "2": "55480",
                                    "3": "2",
                                    "4": "2013-09-01 00:00:00.000",
                                    "5": "S",
                                    "6": "1",
                                    "7": "4.9900",
                                    "8": "2013-09-01 00:00:00.000"
                                },
                                {
                                    "0": "113613",
                                    "1": "928",
                                    "2": "55480",
                                    "3": "1",
                                    "4": "2013-09-01 00:00:00.000",
                                    "5": "S",
                                    "6": "1",
                                    "7": "24.9900",
                                    "8": "2013-09-01 00:00:00.000"
                                },
                                {
                                    "0": "113614",
                                    "1": "876",
                                    "2": "55481",
                                    "3": "3",
                                    "4": "2013-09-01 00:00:00.000",
                                    "5": "S",
                                    "6": "1",
                                    "7": "120.0000",
                                    "8": "2013-09-01 00:00:00.000"
                                },
                                {
                                    "0": "113615",
                                    "1": "921",
                                    "2": "55481",
                                    "3": "2",
                                    "4": "2013-09-01 00:00:00.000",
                                    "5": "S",
                                    "6": "1",
                                    "7": "4.9900",
                                    "8": "2013-09-01 00:00:00.000"
                                },
                                {
                                    "0": "113616",
                                    "1": "928",
                                    "2": "55481",
                                    "3": "1",
                                    "4": "2013-09-01 00:00:00.000",
                                    "5": "S",
                                    "6": "1",
                                    "7": "24.9900",
                                    "8": "2013-09-01 00:00:00.000"
                                },
                                {
                                    "0": "113617",
                                    "1": "921",
                                    "2": "55482",
                                    "3": "1",
                                    "4": "2013-09-01 00:00:00.000",
                                    "5": "S",
                                    "6": "1",
                                    "7": "4.9900",
                                    "8": "2013-09-01 00:00:00.000"
                                },
                                {
                                    "0": "113618",
                                    "1": "928",
                                    "2": "55482",
                                    "3": "2",
                                    "4": "2013-09-01 00:00:00.000",
                                    "5": "S",
                                    "6": "1",
                                    "7": "24.9900",
                                    "8": "2013-09-01 00:00:00.000"
                                },
                                {
                                    "0": "113619",
                                    "1": "708",
                                    "2": "55483",
                                    "3": "3",
                                    "4": "2013-09-01 00:00:00.000",
                                    "5": "S",
                                    "6": "1",
                                    "7": "34.9900",
                                    "8": "2013-09-01 00:00:00.000"
                                },
                                {
                                    "0": "113620",
                                    "1": "921",
                                    "2": "55483",
                                    "3": "2",
                                    "4": "2013-09-01 00:00:00.000",
                                    "5": "S",
                                    "6": "1",
                                    "7": "4.9900",
                                    "8": "2013-09-01 00:00:00.000"
                                },
                                {
                                    "0": "113621",
                                    "1": "928",
                                    "2": "55483",
                                    "3": "1",
                                    "4": "2013-09-01 00:00:00.000",
                                    "5": "S",
                                    "6": "1",
                                    "7": "24.9900",
                                    "8": "2013-09-01 00:00:00.000"
                                },
                                {
                                    "0": "113622",
                                    "1": "879",
                                    "2": "55484",
                                    "3": "3",
                                    "4": "2013-09-01 00:00:00.000",
                                    "5": "S",
                                    "6": "1",
                                    "7": "159.0000",
                                    "8": "2013-09-01 00:00:00.000"
                                },
                                {
                                    "0": "113623",
                                    "1": "921",
                                    "2": "55484",
                                    "3": "2",
                                    "4": "2013-09-01 00:00:00.000",
                                    "5": "S",
                                    "6": "1",
                                    "7": "4.9900",
                                    "8": "2013-09-01 00:00:00.000"
                                },
                                {
                                    "0": "113624",
                                    "1": "928",
                                    "2": "55484",
                                    "3": "1",
                                    "4": "2013-09-01 00:00:00.000",
                                    "5": "S",
                                    "6": "1",
                                    "7": "24.9900",
                                    "8": "2013-09-01 00:00:00.000"
                                },
                                {
                                    "0": "113625",
                                    "1": "873",
                                    "2": "55485",
                                    "3": "2",
                                    "4": "2013-09-01 00:00:00.000",
                                    "5": "S",
                                    "6": "1",
                                    "7": "2.2900",
                                    "8": "2013-09-01 00:00:00.000"
                                },
                                {
                                    "0": "113626",
                                    "1": "876",
                                    "2": "55485",
                                    "3": "3",
                                    "4": "2013-09-01 00:00:00.000",
                                    "5": "S",
                                    "6": "1",
                                    "7": "120.0000",
                                    "8": "2013-09-01 00:00:00.000"
                                },
                                {
                                    "0": "113627",
                                    "1": "934",
                                    "2": "55485",
                                    "3": "1",
                                    "4": "2013-09-01 00:00:00.000",
                                    "5": "S",
                                    "6": "1",
                                    "7": "28.9900",
                                    "8": "2013-09-01 00:00:00.000"
                                },
                                {
                                    "0": "113628",
                                    "1": "873",
                                    "2": "55486",
                                    "3": "3",
                                    "4": "2013-09-01 00:00:00.000",
                                    "5": "S",
                                    "6": "1",
                                    "7": "2.2900",
                                    "8": "2013-09-01 00:00:00.000"
                                },
                                {
                                    "0": "113629",
                                    "1": "923",
                                    "2": "55486",
                                    "3": "2",
                                    "4": "2013-09-01 00:00:00.000",
                                    "5": "S",
                                    "6": "1",
                                    "7": "4.9900",
                                    "8": "2013-09-01 00:00:00.000"
                                },
                                {
                                    "0": "113630",
                                    "1": "934",
                                    "2": "55486",
                                    "3": "1",
                                    "4": "2013-09-01 00:00:00.000",
                                    "5": "S",
                                    "6": "1",
                                    "7": "28.9900",
                                    "8": "2013-09-01 00:00:00.000"
                                },
                                {
                                    "0": "113631",
                                    "1": "873",
                                    "2": "55487",
                                    "3": "3",
                                    "4": "2013-09-01 00:00:00.000",
                                    "5": "S",
                                    "6": "1",
                                    "7": "2.2900",
                                    "8": "2013-09-01 00:00:00.000"
                                },
                                {
                                    "0": "113632",
                                    "1": "921",
                                    "2": "55487",
                                    "3": "2",
                                    "4": "2013-09-01 00:00:00.000",
                                    "5": "S",
                                    "6": "1",
                                    "7": "4.9900",
                                    "8": "2013-09-01 00:00:00.000"
                                },
                                {
                                    "0": "113633",
                                    "1": "930",
                                    "2": "55487",
                                    "3": "1",
                                    "4": "2013-09-01 00:00:00.000",
                                    "5": "S",
                                    "6": "1",
                                    "7": "35.0000",
                                    "8": "2013-09-01 00:00:00.000"
                                },
                                {
                                    "0": "113634",
                                    "1": "877",
                                    "2": "55488",
                                    "3": "4",
                                    "4": "2013-09-01 00:00:00.000",
                                    "5": "S",
                                    "6": "1",
                                    "7": "7.9500",
                                    "8": "2013-09-01 00:00:00.000"
                                },
                                {
                                    "0": "113635",
                                    "1": "878",
                                    "2": "55488",
                                    "3": "3",
                                    "4": "2013-09-01 00:00:00.000",
                                    "5": "S",
                                    "6": "1",
                                    "7": "21.9800",
                                    "8": "2013-09-01 00:00:00.000"
                                },
                                {
                                    "0": "113636",
                                    "1": "921",
                                    "2": "55488",
                                    "3": "2",
                                    "4": "2013-09-01 00:00:00.000",
                                    "5": "S",
                                    "6": "1",
                                    "7": "4.9900",
                                    "8": "2013-09-01 00:00:00.000"
                                },
                                {
                                    "0": "113637",
                                    "1": "930",
                                    "2": "55488",
                                    "3": "1",
                                    "4": "2013-09-01 00:00:00.000",
                                    "5": "S",
                                    "6": "1",
                                    "7": "35.0000",
                                    "8": "2013-09-01 00:00:00.000"
                                },
                                {
                                    "0": "113638",
                                    "1": "707",
                                    "2": "55489",
                                    "3": "3",
                                    "4": "2013-09-01 00:00:00.000",
                                    "5": "S",
                                    "6": "1",
                                    "7": "34.9900",
                                    "8": "2013-09-01 00:00:00.000"
                                },
                                {
                                    "0": "113639",
                                    "1": "921",
                                    "2": "55489",
                                    "3": "2",
                                    "4": "2013-09-01 00:00:00.000",
                                    "5": "S",
                                    "6": "1",
                                    "7": "4.9900",
                                    "8": "2013-09-01 00:00:00.000"
                                },
                                {
                                    "0": "113640",
                                    "1": "930",
                                    "2": "55489",
                                    "3": "1",
                                    "4": "2013-09-01 00:00:00.000",
                                    "5": "S",
                                    "6": "1",
                                    "7": "35.0000",
                                    "8": "2013-09-01 00:00:00.000"
                                },
                                {
                                    "0": "113641",
                                    "1": "713",
                                    "2": "55490",
                                    "3": "3",
                                    "4": "2013-09-01 00:00:00.000",
                                    "5": "S",
                                    "6": "1",
                                    "7": "49.9900",
                                    "8": "2013-09-01 00:00:00.000"
                                },
                                {
                                    "0": "113642",
                                    "1": "867",
                                    "2": "55490",
                                    "3": "2",
                                    "4": "2013-09-01 00:00:00.000",
                                    "5": "S",
                                    "6": "1",
                                    "7": "69.9900",
                                    "8": "2013-09-01 00:00:00.000"
                                },
                                {
                                    "0": "113643",
                                    "1": "981",
                                    "2": "55490",
                                    "3": "1",
                                    "4": "2013-09-01 00:00:00.000",
                                    "5": "S",
                                    "6": "1",
                                    "7": "769.4900",
                                    "8": "2013-09-01 00:00:00.000"
                                },
                                {
                                    "0": "113644",
                                    "1": "780",
                                    "2": "55491",
                                    "3": "1",
                                    "4": "2013-09-01 00:00:00.000",
                                    "5": "S",
                                    "6": "1",
                                    "7": "2319.9900",
                                    "8": "2013-09-01 00:00:00.000"
                                },
                                {
                                    "0": "113645",
                                    "1": "878",
                                    "2": "55491",
                                    "3": "2",
                                    "4": "2013-09-01 00:00:00.000",
                                    "5": "S",
                                    "6": "1",
                                    "7": "21.9800",
                                    "8": "2013-09-01 00:00:00.000"
                                },
                                {
                                    "0": "113646",
                                    "1": "879",
                                    "2": "55491",
                                    "3": "3",
                                    "4": "2013-09-01 00:00:00.000",
                                    "5": "S",
                                    "6": "1",
                                    "7": "159.0000",
                                    "8": "2013-09-01 00:00:00.000"
                                },
                                {
                                    "0": "113647",
                                    "1": "712",
                                    "2": "55492",
                                    "3": "2",
                                    "4": "2013-09-01 00:00:00.000",
                                    "5": "S",
                                    "6": "1",
                                    "7": "8.9900",
                                    "8": "2013-09-01 00:00:00.000"
                                },
                                {
                                    "0": "113648",
                                    "1": "972",
                                    "2": "55492",
                                    "3": "1",
                                    "4": "2013-09-01 00:00:00.000",
                                    "5": "S",
                                    "6": "1",
                                    "7": "1214.8500",
                                    "8": "2013-09-01 00:00:00.000"
                                },
                                {
                                    "0": "113649",
                                    "1": "870",
                                    "2": "55493",
                                    "3": "3",
                                    "4": "2013-09-01 00:00:00.000",
                                    "5": "S",
                                    "6": "1",
                                    "7": "4.9900",
                                    "8": "2013-09-01 00:00:00.000"
                                },
                                {
                                    "0": "113650",
                                    "1": "872",
                                    "2": "55493",
                                    "3": "2",
                                    "4": "2013-09-01 00:00:00.000",
                                    "5": "S",
                                    "6": "1",
                                    "7": "8.9900",
                                    "8": "2013-09-01 00:00:00.000"
                                },
                                {
                                    "0": "113651",
                                    "1": "971",
                                    "2": "55493",
                                    "3": "1",
                                    "4": "2013-09-01 00:00:00.000",
                                    "5": "S",
                                    "6": "1",
                                    "7": "1214.8500",
                                    "8": "2013-09-01 00:00:00.000"
                                },
                                {
                                    "0": "113652",
                                    "1": "711",
                                    "2": "55494",
                                    "3": "2",
                                    "4": "2013-09-01 00:00:00.000",
                                    "5": "S",
                                    "6": "1",
                                    "7": "34.9900",
                                    "8": "2013-09-01 00:00:00.000"
                                },
                                {
                                    "0": "113653",
                                    "1": "866",
                                    "2": "55494",
                                    "3": "3",
                                    "4": "2013-09-01 00:00:00.000",
                                    "5": "S",
                                    "6": "1",
                                    "7": "63.5000",
                                    "8": "2013-09-01 00:00:00.000"
                                },
                                {
                                    "0": "113654",
                                    "1": "998",
                                    "2": "55494",
                                    "3": "1",
                                    "4": "2013-09-01 00:00:00.000",
                                    "5": "S",
                                    "6": "1",
                                    "7": "539.9900",
                                    "8": "2013-09-01 00:00:00.000"
                                },
                                {
                                    "0": "113655",
                                    "1": "708",
                                    "2": "55495",
                                    "3": "2",
                                    "4": "2013-09-01 00:00:00.000",
                                    "5": "S",
                                    "6": "1",
                                    "7": "34.9900",
                                    "8": "2013-09-01 00:00:00.000"
                                },
                                {
                                    "0": "113656",
                                    "1": "999",
                                    "2": "55495",
                                    "3": "1",
                                    "4": "2013-09-01 00:00:00.000",
                                    "5": "S",
                                    "6": "1",
                                    "7": "539.9900",
                                    "8": "2013-09-01 00:00:00.000"
                                },
                                {
                                    "0": "113657",
                                    "1": "977",
                                    "2": "55496",
                                    "3": "1",
                                    "4": "2013-09-01 00:00:00.000",
                                    "5": "S",
                                    "6": "1",
                                    "7": "539.9900",
                                    "8": "2013-09-01 00:00:00.000"
                                },
                                {
                                    "0": "113658",
                                    "1": "954",
                                    "2": "55497",
                                    "3": "1",
                                    "4": "2013-09-01 00:00:00.000",
                                    "5": "S",
                                    "6": "1",
                                    "7": "2384.0700",
                                    "8": "2013-09-01 00:00:00.000"
                                },
                                {
                                    "0": "113659",
                                    "1": "707",
                                    "2": "55498",
                                    "3": "2",
                                    "4": "2013-09-01 00:00:00.000",
                                    "5": "S",
                                    "6": "1",
                                    "7": "34.9900",
                                    "8": "2013-09-01 00:00:00.000"
                                },
                                {
                                    "0": "113660",
                                    "1": "969",
                                    "2": "55498",
                                    "3": "1",
                                    "4": "2013-09-01 00:00:00.000",
                                    "5": "S",
                                    "6": "1",
                                    "7": "2384.0700",
                                    "8": "2013-09-01 00:00:00.000"
                                },
                                {
                                    "0": "113661",
                                    "1": "783",
                                    "2": "55499",
                                    "3": "1",
                                    "4": "2013-09-01 00:00:00.000",
                                    "5": "S",
                                    "6": "1",
                                    "7": "2294.9900",
                                    "8": "2013-09-01 00:00:00.000"
                                },
                                {
                                    "0": "113662",
                                    "1": "880",
                                    "2": "55499",
                                    "3": "2",
                                    "4": "2013-09-01 00:00:00.000",
                                    "5": "S",
                                    "6": "1",
                                    "7": "54.9900",
                                    "8": "2013-09-01 00:00:00.000"
                                },
                                {
                                    "0": "113663",
                                    "1": "708",
                                    "2": "55500",
                                    "3": "4",
                                    "4": "2013-09-01 00:00:00.000",
                                    "5": "S",
                                    "6": "1",
                                    "7": "34.9900",
                                    "8": "2013-09-01 00:00:00.000"
                                },
                                {
                                    "0": "113664",
                                    "1": "922",
                                    "2": "55500",
                                    "3": "3",
                                    "4": "2013-09-01 00:00:00.000",
                                    "5": "S",
                                    "6": "1",
                                    "7": "3.9900",
                                    "8": "2013-09-01 00:00:00.000"
                                },
                                {
                                    "0": "113665",
                                    "1": "931",
                                    "2": "55500",
                                    "3": "2",
                                    "4": "2013-09-01 00:00:00.000",
                                    "5": "S",
                                    "6": "1",
                                    "7": "21.4900",
                                    "8": "2013-09-01 00:00:00.000"
                                },
                                {
                                    "0": "113666",
                                    "1": "997",
                                    "2": "55500",
                                    "3": "1",
                                    "4": "2013-09-01 00:00:00.000",
                                    "5": "S",
                                    "6": "1",
                                    "7": "539.9900",
                                    "8": "2013-09-01 00:00:00.000"
                                },
                                {
                                    "0": "113667",
                                    "1": "977",
                                    "2": "55501",
                                    "3": "1",
                                    "4": "2013-09-01 00:00:00.000",
                                    "5": "S",
                                    "6": "1",
                                    "7": "539.9900",
                                    "8": "2013-09-01 00:00:00.000"
                                },
                                {
                                    "0": "113668",
                                    "1": "800",
                                    "2": "55502",
                                    "3": "1",
                                    "4": "2013-09-01 00:00:00.000",
                                    "5": "S",
                                    "6": "1",
                                    "7": "1120.4900",
                                    "8": "2013-09-01 00:00:00.000"
                                },
                                {
                                    "0": "113669",
                                    "1": "873",
                                    "2": "55502",
                                    "3": "3",
                                    "4": "2013-09-01 00:00:00.000",
                                    "5": "S",
                                    "6": "1",
                                    "7": "2.2900",
                                    "8": "2013-09-01 00:00:00.000"
                                },
                                {
                                    "0": "113670",
                                    "1": "932",
                                    "2": "55502",
                                    "3": "2",
                                    "4": "2013-09-01 00:00:00.000",
                                    "5": "S",
                                    "6": "1",
                                    "7": "24.9900",
                                    "8": "2013-09-01 00:00:00.000"
                                },
                                {
                                    "0": "113671",
                                    "1": "711",
                                    "2": "55503",
                                    "3": "4",
                                    "4": "2013-09-01 00:00:00.000",
                                    "5": "S",
                                    "6": "1",
                                    "7": "34.9900",
                                    "8": "2013-09-01 00:00:00.000"
                                },
                                {
                                    "0": "113672",
                                    "1": "870",
                                    "2": "55503",
                                    "3": "2",
                                    "4": "2013-09-01 00:00:00.000",
                                    "5": "S",
                                    "6": "1",
                                    "7": "4.9900",
                                    "8": "2013-09-01 00:00:00.000"
                                },
                                {
                                    "0": "113673",
                                    "1": "872",
                                    "2": "55503",
                                    "3": "3",
                                    "4": "2013-09-01 00:00:00.000",
                                    "5": "S",
                                    "6": "1",
                                    "7": "8.9900",
                                    "8": "2013-09-01 00:00:00.000"
                                },
                                {
                                    "0": "113674",
                                    "1": "957",
                                    "2": "55503",
                                    "3": "1",
                                    "4": "2013-09-01 00:00:00.000",
                                    "5": "S",
                                    "6": "1",
                                    "7": "2384.0700",
                                    "8": "2013-09-01 00:00:00.000"
                                },
                                {
                                    "0": "113675",
                                    "1": "711",
                                    "2": "55504",
                                    "3": "2",
                                    "4": "2013-09-01 00:00:00.000",
                                    "5": "S",
                                    "6": "1",
                                    "7": "34.9900",
                                    "8": "2013-09-01 00:00:00.000"
                                },
                                {
                                    "0": "113676",
                                    "1": "712",
                                    "2": "55504",
                                    "3": "4",
                                    "4": "2013-09-01 00:00:00.000",
                                    "5": "S",
                                    "6": "1",
                                    "7": "8.9900",
                                    "8": "2013-09-01 00:00:00.000"
                                },
                                {
                                    "0": "113677",
                                    "1": "714",
                                    "2": "55504",
                                    "3": "3",
                                    "4": "2013-09-01 00:00:00.000",
                                    "5": "S",
                                    "6": "1",
                                    "7": "49.9900",
                                    "8": "2013-09-01 00:00:00.000"
                                },
                                {
                                    "0": "113678",
                                    "1": "966",
                                    "2": "55504",
                                    "3": "1",
                                    "4": "2013-09-01 00:00:00.000",
                                    "5": "S",
                                    "6": "1",
                                    "7": "2384.0700",
                                    "8": "2013-09-01 00:00:00.000"
                                },
                                {
                                    "0": "113679",
                                    "1": "323",
                                    "2": "773",
                                    "3": "1",
                                    "4": "2013-09-02 00:00:00.000",
                                    "5": "P",
                                    "6": "3",
                                    "7": "50.2635",
                                    "8": "2013-09-02 00:00:00.000"
                                },
                                {
                                    "0": "113680",
                                    "1": "523",
                                    "2": "774",
                                    "3": "1",
                                    "4": "2013-09-02 00:00:00.000",
                                    "5": "P",
                                    "6": "550",
                                    "7": "10.7310",
                                    "8": "2013-09-02 00:00:00.000"
                                },
                                {
                                    "0": "113681",
                                    "1": "524",
                                    "2": "774",
                                    "3": "2",
                                    "4": "2013-09-02 00:00:00.000",
                                    "5": "P",
                                    "6": "550",
                                    "7": "14.1225",
                                    "8": "2013-09-02 00:00:00.000"
                                },
                                {
                                    "0": "113682",
                                    "1": "494",
                                    "2": "775",
                                    "3": "1",
                                    "4": "2013-09-02 00:00:00.000",
                                    "5": "P",
                                    "6": "60",
                                    "7": "53.2035",
                                    "8": "2013-09-02 00:00:00.000"
                                },
                                {
                                    "0": "113683",
                                    "1": "495",
                                    "2": "775",
                                    "3": "2",
                                    "4": "2013-09-02 00:00:00.000",
                                    "5": "P",
                                    "6": "60",
                                    "7": "63.6930",
                                    "8": "2013-09-02 00:00:00.000"
                                },
                                {
                                    "0": "113684",
                                    "1": "496",
                                    "2": "775",
                                    "3": "3",
                                    "4": "2013-09-02 00:00:00.000",
                                    "5": "P",
                                    "6": "60",
                                    "7": "48.9090",
                                    "8": "2013-09-02 00:00:00.000"
                                },
                                {
                                    "0": "113685",
                                    "1": "911",
                                    "2": "776",
                                    "3": "1",
                                    "4": "2013-09-02 00:00:00.000",
                                    "5": "P",
                                    "6": "550",
                                    "7": "21.0945",
                                    "8": "2013-09-02 00:00:00.000"
                                },
                                {
                                    "0": "113686",
                                    "1": "912",
                                    "2": "776",
                                    "3": "2",
                                    "4": "2013-09-02 00:00:00.000",
                                    "5": "P",
                                    "6": "550",
                                    "7": "30.4395",
                                    "8": "2013-09-02 00:00:00.000"
                                },
                                {
                                    "0": "113687",
                                    "1": "913",
                                    "2": "776",
                                    "3": "3",
                                    "4": "2013-09-02 00:00:00.000",
                                    "5": "P",
                                    "6": "550",
                                    "7": "40.9395",
                                    "8": "2013-09-02 00:00:00.000"
                                },
                                {
                                    "0": "113688",
                                    "1": "914",
                                    "2": "776",
                                    "3": "4",
                                    "4": "2013-09-02 00:00:00.000",
                                    "5": "P",
                                    "6": "550",
                                    "7": "21.0945",
                                    "8": "2013-09-02 00:00:00.000"
                                },
                                {
                                    "0": "113689",
                                    "1": "506",
                                    "2": "777",
                                    "3": "1",
                                    "4": "2013-09-02 00:00:00.000",
                                    "5": "P",
                                    "6": "60",
                                    "7": "9.1980",
                                    "8": "2013-09-02 00:00:00.000"
                                },
                                {
                                    "0": "113690",
                                    "1": "351",
                                    "2": "778",
                                    "3": "1",
                                    "4": "2013-09-02 00:00:00.000",
                                    "5": "P",
                                    "6": "550",
                                    "7": "5.7750",
                                    "8": "2013-09-02 00:00:00.000"
                                },
                                {
                                    "0": "113691",
                                    "1": "352",
                                    "2": "778",
                                    "3": "2",
                                    "4": "2013-09-02 00:00:00.000",
                                    "5": "P",
                                    "6": "550",
                                    "7": "1.1550",
                                    "8": "2013-09-02 00:00:00.000"
                                },
                                {
                                    "0": "113692",
                                    "1": "679",
                                    "2": "778",
                                    "3": "3",
                                    "4": "2013-09-02 00:00:00.000",
                                    "5": "P",
                                    "6": "550",
                                    "7": "5.7750",
                                    "8": "2013-09-02 00:00:00.000"
                                },
                                {
                                    "0": "113693",
                                    "1": "507",
                                    "2": "779",
                                    "3": "1",
                                    "4": "2013-09-02 00:00:00.000",
                                    "5": "P",
                                    "6": "550",
                                    "7": "23.3940",
                                    "8": "2013-09-02 00:00:00.000"
                                },
                                {
                                    "0": "113694",
                                    "1": "508",
                                    "2": "779",
                                    "3": "2",
                                    "4": "2013-09-02 00:00:00.000",
                                    "5": "P",
                                    "6": "550",
                                    "7": "27.6465",
                                    "8": "2013-09-02 00:00:00.000"
                                },
                                {
                                    "0": "113695",
                                    "1": "355",
                                    "2": "780",
                                    "3": "1",
                                    "4": "2013-09-02 00:00:00.000",
                                    "5": "P",
                                    "6": "550",
                                    "7": "1.3650",
                                    "8": "2013-09-02 00:00:00.000"
                                },
                                {
                                    "0": "113696",
                                    "1": "535",
                                    "2": "780",
                                    "3": "3",
                                    "4": "2013-09-02 00:00:00.000",
                                    "5": "P",
                                    "6": "550",
                                    "7": "3.4860",
                                    "8": "2013-09-02 00:00:00.000"
                                },
                                {
                                    "0": "113697",
                                    "1": "940",
                                    "2": "780",
                                    "3": "2",
                                    "4": "2013-09-02 00:00:00.000",
                                    "5": "P",
                                    "6": "550",
                                    "7": "62.9895",
                                    "8": "2013-09-02 00:00:00.000"
                                },
                                {
                                    "0": "113698",
                                    "1": "351",
                                    "2": "781",
                                    "3": "1",
                                    "4": "2013-09-02 00:00:00.000",
                                    "5": "P",
                                    "6": "550",
                                    "7": "6.1950",
                                    "8": "2013-09-02 00:00:00.000"
                                },
                                {
                                    "0": "113699",
                                    "1": "352",
                                    "2": "781",
                                    "3": "2",
                                    "4": "2013-09-02 00:00:00.000",
                                    "5": "P",
                                    "6": "550",
                                    "7": "1.4700",
                                    "8": "2013-09-02 00:00:00.000"
                                },
                                {
                                    "0": "113700",
                                    "1": "679",
                                    "2": "781",
                                    "3": "3",
                                    "4": "2013-09-02 00:00:00.000",
                                    "5": "P",
                                    "6": "550",
                                    "7": "6.1950",
                                    "8": "2013-09-02 00:00:00.000"
                                },
                                {
                                    "0": "113701",
                                    "1": "507",
                                    "2": "782",
                                    "3": "1",
                                    "4": "2013-09-02 00:00:00.000",
                                    "5": "P",
                                    "6": "550",
                                    "7": "22.1655",
                                    "8": "2013-09-02 00:00:00.000"
                                },
                                {
                                    "0": "113702",
                                    "1": "508",
                                    "2": "782",
                                    "3": "2",
                                    "4": "2013-09-02 00:00:00.000",
                                    "5": "P",
                                    "6": "550",
                                    "7": "29.2845",
                                    "8": "2013-09-02 00:00:00.000"
                                },
                                {
                                    "0": "113703",
                                    "1": "491",
                                    "2": "783",
                                    "3": "1",
                                    "4": "2013-09-02 00:00:00.000",
                                    "5": "P",
                                    "6": "3",
                                    "7": "19.9815",
                                    "8": "2013-09-02 00:00:00.000"
                                },
                                {
                                    "0": "113704",
                                    "1": "341",
                                    "2": "784",
                                    "3": "1",
                                    "4": "2013-09-02 00:00:00.000",
                                    "5": "P",
                                    "6": "3",
                                    "7": "41.1705",
                                    "8": "2013-09-02 00:00:00.000"
                                },
                                {
                                    "0": "113705",
                                    "1": "342",
                                    "2": "784",
                                    "3": "2",
                                    "4": "2013-09-02 00:00:00.000",
                                    "5": "P",
                                    "6": "3",
                                    "7": "39.0705",
                                    "8": "2013-09-02 00:00:00.000"
                                },
                                {
                                    "0": "113706",
                                    "1": "935",
                                    "2": "785",
                                    "3": "1",
                                    "4": "2013-09-02 00:00:00.000",
                                    "5": "P",
                                    "6": "550",
                                    "7": "31.4895",
                                    "8": "2013-09-02 00:00:00.000"
                                },
                                {
                                    "0": "113707",
                                    "1": "936",
                                    "2": "785",
                                    "3": "2",
                                    "4": "2013-09-02 00:00:00.000",
                                    "5": "P",
                                    "6": "550",
                                    "7": "48.2895",
                                    "8": "2013-09-02 00:00:00.000"
                                },
                                {
                                    "0": "113708",
                                    "1": "388",
                                    "2": "786",
                                    "3": "1",
                                    "4": "2013-09-02 00:00:00.000",
                                    "5": "P",
                                    "6": "3",
                                    "7": "39.0705",
                                    "8": "2013-09-02 00:00:00.000"
                                },
                                {
                                    "0": "113709",
                                    "1": "389",
                                    "2": "786",
                                    "3": "2",
                                    "4": "2013-09-02 00:00:00.000",
                                    "5": "P",
                                    "6": "3",
                                    "7": "43.3440",
                                    "8": "2013-09-02 00:00:00.000"
                                },
                                {
                                    "0": "113710",
                                    "1": "390",
                                    "2": "786",
                                    "3": "3",
                                    "4": "2013-09-02 00:00:00.000",
                                    "5": "P",
                                    "6": "3",
                                    "7": "39.0705",
                                    "8": "2013-09-02 00:00:00.000"
                                },
                                {
                                    "0": "113711",
                                    "1": "391",
                                    "2": "786",
                                    "3": "4",
                                    "4": "2013-09-02 00:00:00.000",
                                    "5": "P",
                                    "6": "3",
                                    "7": "36.9705",
                                    "8": "2013-09-02 00:00:00.000"
                                },
                                {
                                    "0": "113712",
                                    "1": "476",
                                    "2": "787",
                                    "3": "1",
                                    "4": "2013-09-02 00:00:00.000",
                                    "5": "P",
                                    "6": "550",
                                    "7": "15.8865",
                                    "8": "2013-09-02 00:00:00.000"
                                },
                                {
                                    "0": "113713",
                                    "1": "477",
                                    "2": "787",
                                    "3": "2",
                                    "4": "2013-09-02 00:00:00.000",
                                    "5": "P",
                                    "6": "550",
                                    "7": "11.6655",
                                    "8": "2013-09-02 00:00:00.000"
                                },
                                {
                                    "0": "113714",
                                    "1": "478",
                                    "2": "787",
                                    "3": "3",
                                    "4": "2013-09-02 00:00:00.000",
                                    "5": "P",
                                    "6": "550",
                                    "7": "11.0880",
                                    "8": "2013-09-02 00:00:00.000"
                                },
                                {
                                    "0": "113715",
                                    "1": "479",
                                    "2": "787",
                                    "3": "4",
                                    "4": "2013-09-02 00:00:00.000",
                                    "5": "P",
                                    "6": "550",
                                    "7": "15.8865",
                                    "8": "2013-09-02 00:00:00.000"
                                },
                                {
                                    "0": "113716",
                                    "1": "480",
                                    "2": "787",
                                    "3": "5",
                                    "4": "2013-09-02 00:00:00.000",
                                    "5": "P",
                                    "6": "550",
                                    "7": "11.6655",
                                    "8": "2013-09-02 00:00:00.000"
                                },
                                {
                                    "0": "113717",
                                    "1": "481",
                                    "2": "787",
                                    "3": "6",
                                    "4": "2013-09-02 00:00:00.000",
                                    "5": "P",
                                    "6": "550",
                                    "7": "11.0880",
                                    "8": "2013-09-02 00:00:00.000"
                                },
                                {
                                    "0": "113718",
                                    "1": "402",
                                    "2": "788",
                                    "3": "1",
                                    "4": "2013-09-02 00:00:00.000",
                                    "5": "P",
                                    "6": "3",
                                    "7": "47.4705",
                                    "8": "2013-09-02 00:00:00.000"
                                },
                                {
                                    "0": "113719",
                                    "1": "717",
                                    "2": "44585",
                                    "3": "0",
                                    "4": "2013-09-02 00:00:00.000",
                                    "5": "W",
                                    "6": "10",
                                    "7": "0.0000",
                                    "8": "2013-09-02 00:00:00.000"
                                },
                                {
                                    "0": "113720",
                                    "1": "718",
                                    "2": "44586",
                                    "3": "0",
                                    "4": "2013-09-02 00:00:00.000",
                                    "5": "W",
                                    "6": "12",
                                    "7": "0.0000",
                                    "8": "2013-09-02 00:00:00.000"
                                },
                                {
                                    "0": "113721",
                                    "1": "722",
                                    "2": "44587",
                                    "3": "0",
                                    "4": "2013-09-02 00:00:00.000",
                                    "5": "W",
                                    "6": "26",
                                    "7": "0.0000",
                                    "8": "2013-09-02 00:00:00.000"
                                },
                                {
                                    "0": "113722",
                                    "1": "726",
                                    "2": "44588",
                                    "3": "0",
                                    "4": "2013-09-02 00:00:00.000",
                                    "5": "W",
                                    "6": "1",
                                    "7": "0.0000",
                                    "8": "2013-09-02 00:00:00.000"
                                },
                                {
                                    "0": "113723",
                                    "1": "736",
                                    "2": "44589",
                                    "3": "0",
                                    "4": "2013-09-02 00:00:00.000",
                                    "5": "W",
                                    "6": "3",
                                    "7": "0.0000",
                                    "8": "2013-09-02 00:00:00.000"
                                },
                                {
                                    "0": "113724",
                                    "1": "738",
                                    "2": "44590",
                                    "3": "0",
                                    "4": "2013-09-02 00:00:00.000",
                                    "5": "W",
                                    "6": "31",
                                    "7": "0.0000",
                                    "8": "2013-09-02 00:00:00.000"
                                },
                                {
                                    "0": "113725",
                                    "1": "739",
                                    "2": "44591",
                                    "3": "0",
                                    "4": "2013-09-02 00:00:00.000",
                                    "5": "W",
                                    "6": "2",
                                    "7": "0.0000",
                                    "8": "2013-09-02 00:00:00.000"
                                },
                                {
                                    "0": "113726",
                                    "1": "742",
                                    "2": "44592",
                                    "3": "0",
                                    "4": "2013-09-02 00:00:00.000",
                                    "5": "W",
                                    "6": "14",
                                    "7": "0.0000",
                                    "8": "2013-09-02 00:00:00.000"
                                },
                                {
                                    "0": "113727",
                                    "1": "743",
                                    "2": "44593",
                                    "3": "0",
                                    "4": "2013-09-02 00:00:00.000",
                                    "5": "W",
                                    "6": "23",
                                    "7": "0.0000",
                                    "8": "2013-09-02 00:00:00.000"
                                },
                                {
                                    "0": "113728",
                                    "1": "747",
                                    "2": "44594",
                                    "3": "0",
                                    "4": "2013-09-02 00:00:00.000",
                                    "5": "W",
                                    "6": "12",
                                    "7": "0.0000",
                                    "8": "2013-09-02 00:00:00.000"
                                },
                                {
                                    "0": "113729",
                                    "1": "748",
                                    "2": "44595",
                                    "3": "0",
                                    "4": "2013-09-02 00:00:00.000",
                                    "5": "W",
                                    "6": "36",
                                    "7": "0.0000",
                                    "8": "2013-09-02 00:00:00.000"
                                },
                                {
                                    "0": "113730",
                                    "1": "762",
                                    "2": "44596",
                                    "3": "0",
                                    "4": "2013-09-02 00:00:00.000",
                                    "5": "W",
                                    "6": "3",
                                    "7": "0.0000",
                                    "8": "2013-09-02 00:00:00.000"
                                },
                                {
                                    "0": "113731",
                                    "1": "779",
                                    "2": "44597",
                                    "3": "0",
                                    "4": "2013-09-02 00:00:00.000",
                                    "5": "W",
                                    "6": "66",
                                    "7": "0.0000",
                                    "8": "2013-09-02 00:00:00.000"
                                },
                                {
                                    "0": "113732",
                                    "1": "780",
                                    "2": "44598",
                                    "3": "0",
                                    "4": "2013-09-02 00:00:00.000",
                                    "5": "W",
                                    "6": "49",
                                    "7": "0.0000",
                                    "8": "2013-09-02 00:00:00.000"
                                },
                                {
                                    "0": "113733",
                                    "1": "781",
                                    "2": "44599",
                                    "3": "0",
                                    "4": "2013-09-02 00:00:00.000",
                                    "5": "W",
                                    "6": "41",
                                    "7": "0.0000",
                                    "8": "2013-09-02 00:00:00.000"
                                },
                                {
                                    "0": "113734",
                                    "1": "782",
                                    "2": "44600",
                                    "3": "0",
                                    "4": "2013-09-02 00:00:00.000",
                                    "5": "W",
                                    "6": "62",
                                    "7": "0.0000",
                                    "8": "2013-09-02 00:00:00.000"
                                },
                                {
                                    "0": "113735",
                                    "1": "783",
                                    "2": "44601",
                                    "3": "0",
                                    "4": "2013-09-02 00:00:00.000",
                                    "5": "W",
                                    "6": "72",
                                    "7": "0.0000",
                                    "8": "2013-09-02 00:00:00.000"
                                },
                                {
                                    "0": "113736",
                                    "1": "784",
                                    "2": "44602",
                                    "3": "0",
                                    "4": "2013-09-02 00:00:00.000",
                                    "5": "W",
                                    "6": "52",
                                    "7": "0.0000",
                                    "8": "2013-09-02 00:00:00.000"
                                },
                                {
                                    "0": "113737",
                                    "1": "792",
                                    "2": "44603",
                                    "3": "0",
                                    "4": "2013-09-02 00:00:00.000",
                                    "5": "W",
                                    "6": "12",
                                    "7": "0.0000",
                                    "8": "2013-09-02 00:00:00.000"
                                },
                                {
                                    "0": "113738",
                                    "1": "793",
                                    "2": "44604",
                                    "3": "0",
                                    "4": "2013-09-02 00:00:00.000",
                                    "5": "W",
                                    "6": "46",
                                    "7": "0.0000",
                                    "8": "2013-09-02 00:00:00.000"
                                },
                                {
                                    "0": "113739",
                                    "1": "794",
                                    "2": "44605",
                                    "3": "0",
                                    "4": "2013-09-02 00:00:00.000",
                                    "5": "W",
                                    "6": "37",
                                    "7": "0.0000",
                                    "8": "2013-09-02 00:00:00.000"
                                },
                                {
                                    "0": "113740",
                                    "1": "795",
                                    "2": "44606",
                                    "3": "0",
                                    "4": "2013-09-02 00:00:00.000",
                                    "5": "W",
                                    "6": "22",
                                    "7": "0.0000",
                                    "8": "2013-09-02 00:00:00.000"
                                },
                                {
                                    "0": "113741",
                                    "1": "796",
                                    "2": "44607",
                                    "3": "0",
                                    "4": "2013-09-02 00:00:00.000",
                                    "5": "W",
                                    "6": "18",
                                    "7": "0.0000",
                                    "8": "2013-09-02 00:00:00.000"
                                },
                                {
                                    "0": "113742",
                                    "1": "797",
                                    "2": "44608",
                                    "3": "0",
                                    "4": "2013-09-02 00:00:00.000",
                                    "5": "W",
                                    "6": "46",
                                    "7": "0.0000",
                                    "8": "2013-09-02 00:00:00.000"
                                },
                                {
                                    "0": "113743",
                                    "1": "798",
                                    "2": "44609",
                                    "3": "0",
                                    "4": "2013-09-02 00:00:00.000",
                                    "5": "W",
                                    "6": "37",
                                    "7": "0.0000",
                                    "8": "2013-09-02 00:00:00.000"
                                },
                                {
                                    "0": "113744",
                                    "1": "799",
                                    "2": "44610",
                                    "3": "0",
                                    "4": "2013-09-02 00:00:00.000",
                                    "5": "W",
                                    "6": "27",
                                    "7": "0.0000",
                                    "8": "2013-09-02 00:00:00.000"
                                },
                                {
                                    "0": "113745",
                                    "1": "800",
                                    "2": "44611",
                                    "3": "0",
                                    "4": "2013-09-02 00:00:00.000",
                                    "5": "W",
                                    "6": "20",
                                    "7": "0.0000",
                                    "8": "2013-09-02 00:00:00.000"
                                },
                                {
                                    "0": "113746",
                                    "1": "801",
                                    "2": "44612",
                                    "3": "0",
                                    "4": "2013-09-02 00:00:00.000",
                                    "5": "W",
                                    "6": "65",
                                    "7": "0.0000",
                                    "8": "2013-09-02 00:00:00.000"
                                },
                                {
                                    "0": "113747",
                                    "1": "808",
                                    "2": "44613",
                                    "3": "0",
                                    "4": "2013-09-02 00:00:00.000",
                                    "5": "W",
                                    "6": "11",
                                    "7": "0.0000",
                                    "8": "2013-09-02 00:00:00.000"
                                },
                                {
                                    "0": "113748",
                                    "1": "809",
                                    "2": "44614",
                                    "3": "0",
                                    "4": "2013-09-02 00:00:00.000",
                                    "5": "W",
                                    "6": "55",
                                    "7": "0.0000",
                                    "8": "2013-09-02 00:00:00.000"
                                },
                                {
                                    "0": "113749",
                                    "1": "810",
                                    "2": "44615",
                                    "3": "0",
                                    "4": "2013-09-02 00:00:00.000",
                                    "5": "W",
                                    "6": "21",
                                    "7": "0.0000",
                                    "8": "2013-09-02 00:00:00.000"
                                },
                                {
                                    "0": "113750",
                                    "1": "813",
                                    "2": "44616",
                                    "3": "0",
                                    "4": "2013-09-02 00:00:00.000",
                                    "5": "W",
                                    "6": "19",
                                    "7": "0.0000",
                                    "8": "2013-09-02 00:00:00.000"
                                },
                                {
                                    "0": "113751",
                                    "1": "822",
                                    "2": "44617",
                                    "3": "0",
                                    "4": "2013-09-02 00:00:00.000",
                                    "5": "W",
                                    "6": "31",
                                    "7": "0.0000",
                                    "8": "2013-09-02 00:00:00.000"
                                },
                                {
                                    "0": "113752",
                                    "1": "833",
                                    "2": "44618",
                                    "3": "0",
                                    "4": "2013-09-02 00:00:00.000",
                                    "5": "W",
                                    "6": "2",
                                    "7": "0.0000",
                                    "8": "2013-09-02 00:00:00.000"
                                },
                                {
                                    "0": "113753",
                                    "1": "835",
                                    "2": "44619",
                                    "3": "0",
                                    "4": "2013-09-02 00:00:00.000",
                                    "5": "W",
                                    "6": "51",
                                    "7": "0.0000",
                                    "8": "2013-09-02 00:00:00.000"
                                },
                                {
                                    "0": "113754",
                                    "1": "836",
                                    "2": "44620",
                                    "3": "0",
                                    "4": "2013-09-02 00:00:00.000",
                                    "5": "W",
                                    "6": "30",
                                    "7": "0.0000",
                                    "8": "2013-09-02 00:00:00.000"
                                },
                                {
                                    "0": "113755",
                                    "1": "838",
                                    "2": "44621",
                                    "3": "0",
                                    "4": "2013-09-02 00:00:00.000",
                                    "5": "W",
                                    "6": "6",
                                    "7": "0.0000",
                                    "8": "2013-09-02 00:00:00.000"
                                },
                                {
                                    "0": "113756",
                                    "1": "885",
                                    "2": "44622",
                                    "3": "0",
                                    "4": "2013-09-02 00:00:00.000",
                                    "5": "W",
                                    "6": "19",
                                    "7": "0.0000",
                                    "8": "2013-09-02 00:00:00.000"
                                },
                                {
                                    "0": "113757",
                                    "1": "886",
                                    "2": "44623",
                                    "3": "0",
                                    "4": "2013-09-02 00:00:00.000",
                                    "5": "W",
                                    "6": "17",
                                    "7": "0.0000",
                                    "8": "2013-09-02 00:00:00.000"
                                },
                                {
                                    "0": "113758",
                                    "1": "888",
                                    "2": "44624",
                                    "3": "0",
                                    "4": "2013-09-02 00:00:00.000",
                                    "5": "W",
                                    "6": "2",
                                    "7": "0.0000",
                                    "8": "2013-09-02 00:00:00.000"
                                },
                                {
                                    "0": "113759",
                                    "1": "889",
                                    "2": "44625",
                                    "3": "0",
                                    "4": "2013-09-02 00:00:00.000",
                                    "5": "W",
                                    "6": "16",
                                    "7": "0.0000",
                                    "8": "2013-09-02 00:00:00.000"
                                },
                                {
                                    "0": "113760",
                                    "1": "890",
                                    "2": "44626",
                                    "3": "0",
                                    "4": "2013-09-02 00:00:00.000",
                                    "5": "W",
                                    "6": "8",
                                    "7": "0.0000",
                                    "8": "2013-09-02 00:00:00.000"
                                },
                                {
                                    "0": "113761",
                                    "1": "891",
                                    "2": "44627",
                                    "3": "0",
                                    "4": "2013-09-02 00:00:00.000",
                                    "5": "W",
                                    "6": "7",
                                    "7": "0.0000",
                                    "8": "2013-09-02 00:00:00.000"
                                },
                                {
                                    "0": "113762",
                                    "1": "892",
                                    "2": "44628",
                                    "3": "0",
                                    "4": "2013-09-02 00:00:00.000",
                                    "5": "W",
                                    "6": "30",
                                    "7": "0.0000",
                                    "8": "2013-09-02 00:00:00.000"
                                },
                                {
                                    "0": "113763",
                                    "1": "893",
                                    "2": "44629",
                                    "3": "0",
                                    "4": "2013-09-02 00:00:00.000",
                                    "5": "W",
                                    "6": "24",
                                    "7": "0.0000",
                                    "8": "2013-09-02 00:00:00.000"
                                },
                                {
                                    "0": "113764",
                                    "1": "894",
                                    "2": "44630",
                                    "3": "0",
                                    "4": "2013-09-02 00:00:00.000",
                                    "5": "W",
                                    "6": "28",
                                    "7": "0.0000",
                                    "8": "2013-09-02 00:00:00.000"
                                },
                                {
                                    "0": "113765",
                                    "1": "895",
                                    "2": "44631",
                                    "3": "0",
                                    "4": "2013-09-02 00:00:00.000",
                                    "5": "W",
                                    "6": "6",
                                    "7": "0.0000",
                                    "8": "2013-09-02 00:00:00.000"
                                },
                                {
                                    "0": "113766",
                                    "1": "896",
                                    "2": "44632",
                                    "3": "0",
                                    "4": "2013-09-02 00:00:00.000",
                                    "5": "W",
                                    "6": "13",
                                    "7": "0.0000",
                                    "8": "2013-09-02 00:00:00.000"
                                },
                                {
                                    "0": "113767",
                                    "1": "899",
                                    "2": "44633",
                                    "3": "0",
                                    "4": "2013-09-02 00:00:00.000",
                                    "5": "W",
                                    "6": "10",
                                    "7": "0.0000",
                                    "8": "2013-09-02 00:00:00.000"
                                },
                                {
                                    "0": "113768",
                                    "1": "900",
                                    "2": "44634",
                                    "3": "0",
                                    "4": "2013-09-02 00:00:00.000",
                                    "5": "W",
                                    "6": "13",
                                    "7": "0.0000",
                                    "8": "2013-09-02 00:00:00.000"
                                },
                                {
                                    "0": "113769",
                                    "1": "904",
                                    "2": "44635",
                                    "3": "0",
                                    "4": "2013-09-02 00:00:00.000",
                                    "5": "W",
                                    "6": "58",
                                    "7": "0.0000",
                                    "8": "2013-09-02 00:00:00.000"
                                },
                                {
                                    "0": "113770",
                                    "1": "905",
                                    "2": "44636",
                                    "3": "0",
                                    "4": "2013-09-02 00:00:00.000",
                                    "5": "W",
                                    "6": "34",
                                    "7": "0.0000",
                                    "8": "2013-09-02 00:00:00.000"
                                },
                                {
                                    "0": "113771",
                                    "1": "906",
                                    "2": "44637",
                                    "3": "0",
                                    "4": "2013-09-02 00:00:00.000",
                                    "5": "W",
                                    "6": "9",
                                    "7": "0.0000",
                                    "8": "2013-09-02 00:00:00.000"
                                },
                                {
                                    "0": "113772",
                                    "1": "917",
                                    "2": "44638",
                                    "3": "0",
                                    "4": "2013-09-02 00:00:00.000",
                                    "5": "W",
                                    "6": "26",
                                    "7": "0.0000",
                                    "8": "2013-09-02 00:00:00.000"
                                },
                                {
                                    "0": "113773",
                                    "1": "918",
                                    "2": "44639",
                                    "3": "0",
                                    "4": "2013-09-02 00:00:00.000",
                                    "5": "W",
                                    "6": "27",
                                    "7": "0.0000",
                                    "8": "2013-09-02 00:00:00.000"
                                },
                                {
                                    "0": "113774",
                                    "1": "920",
                                    "2": "44640",
                                    "3": "0",
                                    "4": "2013-09-02 00:00:00.000",
                                    "5": "W",
                                    "6": "29",
                                    "7": "0.0000",
                                    "8": "2013-09-02 00:00:00.000"
                                },
                                {
                                    "0": "113775",
                                    "1": "924",
                                    "2": "44641",
                                    "3": "0",
                                    "4": "2013-09-02 00:00:00.000",
                                    "5": "W",
                                    "6": "18",
                                    "7": "0.0000",
                                    "8": "2013-09-02 00:00:00.000"
                                },
                                {
                                    "0": "113776",
                                    "1": "925",
                                    "2": "44642",
                                    "3": "0",
                                    "4": "2013-09-02 00:00:00.000",
                                    "5": "W",
                                    "6": "24",
                                    "7": "0.0000",
                                    "8": "2013-09-02 00:00:00.000"
                                },
                                {
                                    "0": "113777",
                                    "1": "926",
                                    "2": "44643",
                                    "3": "0",
                                    "4": "2013-09-02 00:00:00.000",
                                    "5": "W",
                                    "6": "31",
                                    "7": "0.0000",
                                    "8": "2013-09-02 00:00:00.000"
                                },
                                {
                                    "0": "113778",
                                    "1": "944",
                                    "2": "44644",
                                    "3": "0",
                                    "4": "2013-09-02 00:00:00.000",
                                    "5": "W",
                                    "6": "14",
                                    "7": "0.0000",
                                    "8": "2013-09-02 00:00:00.000"
                                },
                                {
                                    "0": "113779",
                                    "1": "945",
                                    "2": "44645",
                                    "3": "0",
                                    "4": "2013-09-02 00:00:00.000",
                                    "5": "W",
                                    "6": "49",
                                    "7": "0.0000",
                                    "8": "2013-09-02 00:00:00.000"
                                },
                                {
                                    "0": "113780",
                                    "1": "947",
                                    "2": "44646",
                                    "3": "0",
                                    "4": "2013-09-02 00:00:00.000",
                                    "5": "W",
                                    "6": "14",
                                    "7": "0.0000",
                                    "8": "2013-09-02 00:00:00.000"
                                },
                                {
                                    "0": "113781",
                                    "1": "949",
                                    "2": "44647",
                                    "3": "0",
                                    "4": "2013-09-02 00:00:00.000",
                                    "5": "W",
                                    "6": "30",
                                    "7": "0.0000",
                                    "8": "2013-09-02 00:00:00.000"
                                },
                                {
                                    "0": "113782",
                                    "1": "951",
                                    "2": "44648",
                                    "3": "0",
                                    "4": "2013-09-02 00:00:00.000",
                                    "5": "W",
                                    "6": "30",
                                    "7": "0.0000",
                                    "8": "2013-09-02 00:00:00.000"
                                },
                                {
                                    "0": "113783",
                                    "1": "953",
                                    "2": "44649",
                                    "3": "0",
                                    "4": "2013-09-02 00:00:00.000",
                                    "5": "W",
                                    "6": "39",
                                    "7": "0.0000",
                                    "8": "2013-09-02 00:00:00.000"
                                },
                                {
                                    "0": "113784",
                                    "1": "954",
                                    "2": "44650",
                                    "3": "0",
                                    "4": "2013-09-02 00:00:00.000",
                                    "5": "W",
                                    "6": "64",
                                    "7": "0.0000",
                                    "8": "2013-09-02 00:00:00.000"
                                },
                                {
                                    "0": "113785",
                                    "1": "955",
                                    "2": "44651",
                                    "3": "0",
                                    "4": "2013-09-02 00:00:00.000",
                                    "5": "W",
                                    "6": "29",
                                    "7": "0.0000",
                                    "8": "2013-09-02 00:00:00.000"
                                },
                                {
                                    "0": "113786",
                                    "1": "956",
                                    "2": "44652",
                                    "3": "0",
                                    "4": "2013-09-02 00:00:00.000",
                                    "5": "W",
                                    "6": "12",
                                    "7": "0.0000",
                                    "8": "2013-09-02 00:00:00.000"
                                },
                                {
                                    "0": "113787",
                                    "1": "957",
                                    "2": "44653",
                                    "3": "0",
                                    "4": "2013-09-02 00:00:00.000",
                                    "5": "W",
                                    "6": "77",
                                    "7": "0.0000",
                                    "8": "2013-09-02 00:00:00.000"
                                },
                                {
                                    "0": "113788",
                                    "1": "958",
                                    "2": "44654",
                                    "3": "0",
                                    "4": "2013-09-02 00:00:00.000",
                                    "5": "W",
                                    "6": "31",
                                    "7": "0.0000",
                                    "8": "2013-09-02 00:00:00.000"
                                },
                                {
                                    "0": "113789",
                                    "1": "959",
                                    "2": "44655",
                                    "3": "0",
                                    "4": "2013-09-02 00:00:00.000",
                                    "5": "W",
                                    "6": "23",
                                    "7": "0.0000",
                                    "8": "2013-09-02 00:00:00.000"
                                },
                                {
                                    "0": "113790",
                                    "1": "960",
                                    "2": "44656",
                                    "3": "0",
                                    "4": "2013-09-02 00:00:00.000",
                                    "5": "W",
                                    "6": "6",
                                    "7": "0.0000",
                                    "8": "2013-09-02 00:00:00.000"
                                },
                                {
                                    "0": "113791",
                                    "1": "961",
                                    "2": "44657",
                                    "3": "0",
                                    "4": "2013-09-02 00:00:00.000",
                                    "5": "W",
                                    "6": "55",
                                    "7": "0.0000",
                                    "8": "2013-09-02 00:00:00.000"
                                },
                                {
                                    "0": "113792",
                                    "1": "962",
                                    "2": "44658",
                                    "3": "0",
                                    "4": "2013-09-02 00:00:00.000",
                                    "5": "W",
                                    "6": "25",
                                    "7": "0.0000",
                                    "8": "2013-09-02 00:00:00.000"
                                },
                                {
                                    "0": "113793",
                                    "1": "963",
                                    "2": "44659",
                                    "3": "0",
                                    "4": "2013-09-02 00:00:00.000",
                                    "5": "W",
                                    "6": "24",
                                    "7": "0.0000",
                                    "8": "2013-09-02 00:00:00.000"
                                },
                                {
                                    "0": "113794",
                                    "1": "964",
                                    "2": "44660",
                                    "3": "0",
                                    "4": "2013-09-02 00:00:00.000",
                                    "5": "W",
                                    "6": "10",
                                    "7": "0.0000",
                                    "8": "2013-09-02 00:00:00.000"
                                },
                                {
                                    "0": "113795",
                                    "1": "965",
                                    "2": "44661",
                                    "3": "0",
                                    "4": "2013-09-02 00:00:00.000",
                                    "5": "W",
                                    "6": "29",
                                    "7": "0.0000",
                                    "8": "2013-09-02 00:00:00.000"
                                },
                                {
                                    "0": "113796",
                                    "1": "966",
                                    "2": "44662",
                                    "3": "0",
                                    "4": "2013-09-02 00:00:00.000",
                                    "5": "W",
                                    "6": "40",
                                    "7": "0.0000",
                                    "8": "2013-09-02 00:00:00.000"
                                },
                                {
                                    "0": "113797",
                                    "1": "967",
                                    "2": "44663",
                                    "3": "0",
                                    "4": "2013-09-02 00:00:00.000",
                                    "5": "W",
                                    "6": "29",
                                    "7": "0.0000",
                                    "8": "2013-09-02 00:00:00.000"
                                },
                                {
                                    "0": "113798",
                                    "1": "968",
                                    "2": "44664",
                                    "3": "0",
                                    "4": "2013-09-02 00:00:00.000",
                                    "5": "W",
                                    "6": "8",
                                    "7": "0.0000",
                                    "8": "2013-09-02 00:00:00.000"
                                },
                                {
                                    "0": "113799",
                                    "1": "969",
                                    "2": "44665",
                                    "3": "0",
                                    "4": "2013-09-02 00:00:00.000",
                                    "5": "W",
                                    "6": "51",
                                    "7": "0.0000",
                                    "8": "2013-09-02 00:00:00.000"
                                },
                                {
                                    "0": "113800",
                                    "1": "970",
                                    "2": "44666",
                                    "3": "0",
                                    "4": "2013-09-02 00:00:00.000",
                                    "5": "W",
                                    "6": "30",
                                    "7": "0.0000",
                                    "8": "2013-09-02 00:00:00.000"
                                },
                                {
                                    "0": "113801",
                                    "1": "971",
                                    "2": "44667",
                                    "3": "0",
                                    "4": "2013-09-02 00:00:00.000",
                                    "5": "W",
                                    "6": "11",
                                    "7": "0.0000",
                                    "8": "2013-09-02 00:00:00.000"
                                },
                                {
                                    "0": "113802",
                                    "1": "972",
                                    "2": "44668",
                                    "3": "0",
                                    "4": "2013-09-02 00:00:00.000",
                                    "5": "W",
                                    "6": "60",
                                    "7": "0.0000",
                                    "8": "2013-09-02 00:00:00.000"
                                },
                                {
                                    "0": "113803",
                                    "1": "973",
                                    "2": "44669",
                                    "3": "0",
                                    "4": "2013-09-02 00:00:00.000",
                                    "5": "W",
                                    "6": "89",
                                    "7": "0.0000",
                                    "8": "2013-09-02 00:00:00.000"
                                },
                                {
                                    "0": "113804",
                                    "1": "974",
                                    "2": "44670",
                                    "3": "0",
                                    "4": "2013-09-02 00:00:00.000",
                                    "5": "W",
                                    "6": "67",
                                    "7": "0.0000",
                                    "8": "2013-09-02 00:00:00.000"
                                },
                                {
                                    "0": "113805",
                                    "1": "975",
                                    "2": "44671",
                                    "3": "0",
                                    "4": "2013-09-02 00:00:00.000",
                                    "5": "W",
                                    "6": "14",
                                    "7": "0.0000",
                                    "8": "2013-09-02 00:00:00.000"
                                },
                                {
                                    "0": "113806",
                                    "1": "976",
                                    "2": "44672",
                                    "3": "0",
                                    "4": "2013-09-02 00:00:00.000",
                                    "5": "W",
                                    "6": "86",
                                    "7": "0.0000",
                                    "8": "2013-09-02 00:00:00.000"
                                },
                                {
                                    "0": "113807",
                                    "1": "977",
                                    "2": "44673",
                                    "3": "0",
                                    "4": "2013-09-02 00:00:00.000",
                                    "5": "W",
                                    "6": "35",
                                    "7": "0.0000",
                                    "8": "2013-09-02 00:00:00.000"
                                },
                                {
                                    "0": "113808",
                                    "1": "978",
                                    "2": "44674",
                                    "3": "0",
                                    "4": "2013-09-02 00:00:00.000",
                                    "5": "W",
                                    "6": "8",
                                    "7": "0.0000",
                                    "8": "2013-09-02 00:00:00.000"
                                },
                                {
                                    "0": "113809",
                                    "1": "979",
                                    "2": "44675",
                                    "3": "0",
                                    "4": "2013-09-02 00:00:00.000",
                                    "5": "W",
                                    "6": "36",
                                    "7": "0.0000",
                                    "8": "2013-09-02 00:00:00.000"
                                },
                                {
                                    "0": "113810",
                                    "1": "980",
                                    "2": "44676",
                                    "3": "0",
                                    "4": "2013-09-02 00:00:00.000",
                                    "5": "W",
                                    "6": "21",
                                    "7": "0.0000",
                                    "8": "2013-09-02 00:00:00.000"
                                },
                                {
                                    "0": "113811",
                                    "1": "981",
                                    "2": "44677",
                                    "3": "0",
                                    "4": "2013-09-02 00:00:00.000",
                                    "5": "W",
                                    "6": "29",
                                    "7": "0.0000",
                                    "8": "2013-09-02 00:00:00.000"
                                },
                                {
                                    "0": "113812",
                                    "1": "982",
                                    "2": "44678",
                                    "3": "0",
                                    "4": "2013-09-02 00:00:00.000",
                                    "5": "W",
                                    "6": "23",
                                    "7": "0.0000",
                                    "8": "2013-09-02 00:00:00.000"
                                },
                                {
                                    "0": "113813",
                                    "1": "983",
                                    "2": "44679",
                                    "3": "0",
                                    "4": "2013-09-02 00:00:00.000",
                                    "5": "W",
                                    "6": "19",
                                    "7": "0.0000",
                                    "8": "2013-09-02 00:00:00.000"
                                },
                                {
                                    "0": "113814",
                                    "1": "984",
                                    "2": "44680",
                                    "3": "0",
                                    "4": "2013-09-02 00:00:00.000",
                                    "5": "W",
                                    "6": "25",
                                    "7": "0.0000",
                                    "8": "2013-09-02 00:00:00.000"
                                },
                                {
                                    "0": "113815",
                                    "1": "985",
                                    "2": "44681",
                                    "3": "0",
                                    "4": "2013-09-02 00:00:00.000",
                                    "5": "W",
                                    "6": "34",
                                    "7": "0.0000",
                                    "8": "2013-09-02 00:00:00.000"
                                },
                                {
                                    "0": "113816",
                                    "1": "986",
                                    "2": "44682",
                                    "3": "0",
                                    "4": "2013-09-02 00:00:00.000",
                                    "5": "W",
                                    "6": "16",
                                    "7": "0.0000",
                                    "8": "2013-09-02 00:00:00.000"
                                },
                                {
                                    "0": "113817",
                                    "1": "987",
                                    "2": "44683",
                                    "3": "0",
                                    "4": "2013-09-02 00:00:00.000",
                                    "5": "W",
                                    "6": "26",
                                    "7": "0.0000",
                                    "8": "2013-09-02 00:00:00.000"
                                },
                                {
                                    "0": "113818",
                                    "1": "988",
                                    "2": "44684",
                                    "3": "0",
                                    "4": "2013-09-02 00:00:00.000",
                                    "5": "W",
                                    "6": "26",
                                    "7": "0.0000",
                                    "8": "2013-09-02 00:00:00.000"
                                },
                                {
                                    "0": "113819",
                                    "1": "989",
                                    "2": "44685",
                                    "3": "0",
                                    "4": "2013-09-02 00:00:00.000",
                                    "5": "W",
                                    "6": "18",
                                    "7": "0.0000",
                                    "8": "2013-09-02 00:00:00.000"
                                },
                                {
                                    "0": "113820",
                                    "1": "990",
                                    "2": "44686",
                                    "3": "0",
                                    "4": "2013-09-02 00:00:00.000",
                                    "5": "W",
                                    "6": "23",
                                    "7": "0.0000",
                                    "8": "2013-09-02 00:00:00.000"
                                },
                                {
                                    "0": "113821",
                                    "1": "991",
                                    "2": "44687",
                                    "3": "0",
                                    "4": "2013-09-02 00:00:00.000",
                                    "5": "W",
                                    "6": "16",
                                    "7": "0.0000",
                                    "8": "2013-09-02 00:00:00.000"
                                },
                                {
                                    "0": "113822",
                                    "1": "992",
                                    "2": "44688",
                                    "3": "0",
                                    "4": "2013-09-02 00:00:00.000",
                                    "5": "W",
                                    "6": "24",
                                    "7": "0.0000",
                                    "8": "2013-09-02 00:00:00.000"
                                },
                                {
                                    "0": "113823",
                                    "1": "993",
                                    "2": "44689",
                                    "3": "0",
                                    "4": "2013-09-02 00:00:00.000",
                                    "5": "W",
                                    "6": "19",
                                    "7": "0.0000",
                                    "8": "2013-09-02 00:00:00.000"
                                },
                                {
                                    "0": "113824",
                                    "1": "994",
                                    "2": "44690",
                                    "3": "0",
                                    "4": "2013-09-02 00:00:00.000",
                                    "5": "W",
                                    "6": "31",
                                    "7": "0.0000",
                                    "8": "2013-09-02 00:00:00.000"
                                },
                                {
                                    "0": "113825",
                                    "1": "996",
                                    "2": "44691",
                                    "3": "0",
                                    "4": "2013-09-02 00:00:00.000",
                                    "5": "W",
                                    "6": "30",
                                    "7": "0.0000",
                                    "8": "2013-09-02 00:00:00.000"
                                },
                                {
                                    "0": "113826",
                                    "1": "997",
                                    "2": "44692",
                                    "3": "0",
                                    "4": "2013-09-02 00:00:00.000",
                                    "5": "W",
                                    "6": "25",
                                    "7": "0.0000",
                                    "8": "2013-09-02 00:00:00.000"
                                },
                                {
                                    "0": "113827",
                                    "1": "998",
                                    "2": "44693",
                                    "3": "0",
                                    "4": "2013-09-02 00:00:00.000",
                                    "5": "W",
                                    "6": "107",
                                    "7": "0.0000",
                                    "8": "2013-09-02 00:00:00.000"
                                },
                                {
                                    "0": "113828",
                                    "1": "999",
                                    "2": "44694",
                                    "3": "0",
                                    "4": "2013-09-02 00:00:00.000",
                                    "5": "W",
                                    "6": "69",
                                    "7": "0.0000",
                                    "8": "2013-09-02 00:00:00.000"
                                },
                                {
                                    "0": "113829",
                                    "1": "514",
                                    "2": "44695",
                                    "3": "0",
                                    "4": "2013-09-02 00:00:00.000",
                                    "5": "W",
                                    "6": "319",
                                    "7": "0.0000",
                                    "8": "2013-09-02 00:00:00.000"
                                },
                                {
                                    "0": "113830",
                                    "1": "516",
                                    "2": "44696",
                                    "3": "0",
                                    "4": "2013-09-02 00:00:00.000",
                                    "5": "W",
                                    "6": "342",
                                    "7": "0.0000",
                                    "8": "2013-09-02 00:00:00.000"
                                },
                                {
                                    "0": "113831",
                                    "1": "517",
                                    "2": "44697",
                                    "3": "0",
                                    "4": "2013-09-02 00:00:00.000",
                                    "5": "W",
                                    "6": "239",
                                    "7": "0.0000",
                                    "8": "2013-09-02 00:00:00.000"
                                },
                                {
                                    "0": "113832",
                                    "1": "518",
                                    "2": "44698",
                                    "3": "0",
                                    "4": "2013-09-02 00:00:00.000",
                                    "5": "W",
                                    "6": "451",
                                    "7": "0.0000",
                                    "8": "2013-09-02 00:00:00.000"
                                },
                                {
                                    "0": "113833",
                                    "1": "519",
                                    "2": "44699",
                                    "3": "0",
                                    "4": "2013-09-02 00:00:00.000",
                                    "5": "W",
                                    "6": "135",
                                    "7": "0.0000",
                                    "8": "2013-09-02 00:00:00.000"
                                },
                                {
                                    "0": "113834",
                                    "1": "520",
                                    "2": "44700",
                                    "3": "0",
                                    "4": "2013-09-02 00:00:00.000",
                                    "5": "W",
                                    "6": "247",
                                    "7": "0.0000",
                                    "8": "2013-09-02 00:00:00.000"
                                },
                                {
                                    "0": "113835",
                                    "1": "521",
                                    "2": "44701",
                                    "3": "0",
                                    "4": "2013-09-02 00:00:00.000",
                                    "5": "W",
                                    "6": "140",
                                    "7": "0.0000",
                                    "8": "2013-09-02 00:00:00.000"
                                },
                                {
                                    "0": "113836",
                                    "1": "522",
                                    "2": "44702",
                                    "3": "0",
                                    "4": "2013-09-02 00:00:00.000",
                                    "5": "W",
                                    "6": "310",
                                    "7": "0.0000",
                                    "8": "2013-09-02 00:00:00.000"
                                },
                                {
                                    "0": "113837",
                                    "1": "680",
                                    "2": "44703",
                                    "3": "0",
                                    "4": "2013-09-02 00:00:00.000",
                                    "5": "W",
                                    "6": "18",
                                    "7": "0.0000",
                                    "8": "2013-09-02 00:00:00.000"
                                },
                                {
                                    "0": "113838",
                                    "1": "706",
                                    "2": "44704",
                                    "3": "0",
                                    "4": "2013-09-02 00:00:00.000",
                                    "5": "W",
                                    "6": "12",
                                    "7": "0.0000",
                                    "8": "2013-09-02 00:00:00.000"
                                },
                                {
                                    "0": "113839",
                                    "1": "722",
                                    "2": "44705",
                                    "3": "0",
                                    "4": "2013-09-02 00:00:00.000",
                                    "5": "W",
                                    "6": "35",
                                    "7": "0.0000",
                                    "8": "2013-09-02 00:00:00.000"
                                },
                                {
                                    "0": "113840",
                                    "1": "725",
                                    "2": "44706",
                                    "3": "0",
                                    "4": "2013-09-02 00:00:00.000",
                                    "5": "W",
                                    "6": "3",
                                    "7": "0.0000",
                                    "8": "2013-09-02 00:00:00.000"
                                },
                                {
                                    "0": "113841",
                                    "1": "736",
                                    "2": "44707",
                                    "3": "0",
                                    "4": "2013-09-02 00:00:00.000",
                                    "5": "W",
                                    "6": "25",
                                    "7": "0.0000",
                                    "8": "2013-09-02 00:00:00.000"
                                },
                                {
                                    "0": "113842",
                                    "1": "737",
                                    "2": "44708",
                                    "3": "0",
                                    "4": "2013-09-02 00:00:00.000",
                                    "5": "W",
                                    "6": "107",
                                    "7": "0.0000",
                                    "8": "2013-09-02 00:00:00.000"
                                },
                                {
                                    "0": "113843",
                                    "1": "738",
                                    "2": "44709",
                                    "3": "0",
                                    "4": "2013-09-02 00:00:00.000",
                                    "5": "W",
                                    "6": "69",
                                    "7": "0.0000",
                                    "8": "2013-09-02 00:00:00.000"
                                },
                                {
                                    "0": "113844",
                                    "1": "739",
                                    "2": "44710",
                                    "3": "0",
                                    "4": "2013-09-02 00:00:00.000",
                                    "5": "W",
                                    "6": "49",
                                    "7": "0.0000",
                                    "8": "2013-09-02 00:00:00.000"
                                },
                                {
                                    "0": "113845",
                                    "1": "742",
                                    "2": "44711",
                                    "3": "0",
                                    "4": "2013-09-02 00:00:00.000",
                                    "5": "W",
                                    "6": "41",
                                    "7": "0.0000",
                                    "8": "2013-09-02 00:00:00.000"
                                },
                                {
                                    "0": "113846",
                                    "1": "743",
                                    "2": "44712",
                                    "3": "0",
                                    "4": "2013-09-02 00:00:00.000",
                                    "5": "W",
                                    "6": "72",
                                    "7": "0.0000",
                                    "8": "2013-09-02 00:00:00.000"
                                },
                                {
                                    "0": "113847",
                                    "1": "746",
                                    "2": "44713",
                                    "3": "0",
                                    "4": "2013-09-02 00:00:00.000",
                                    "5": "W",
                                    "6": "52",
                                    "7": "0.0000",
                                    "8": "2013-09-02 00:00:00.000"
                                },
                                {
                                    "0": "113848",
                                    "1": "747",
                                    "2": "44714",
                                    "3": "0",
                                    "4": "2013-09-02 00:00:00.000",
                                    "5": "W",
                                    "6": "62",
                                    "7": "0.0000",
                                    "8": "2013-09-02 00:00:00.000"
                                },
                                {
                                    "0": "113849",
                                    "1": "748",
                                    "2": "44715",
                                    "3": "0",
                                    "4": "2013-09-02 00:00:00.000",
                                    "5": "W",
                                    "6": "66",
                                    "7": "0.0000",
                                    "8": "2013-09-02 00:00:00.000"
                                },
                                {
                                    "0": "113850",
                                    "1": "805",
                                    "2": "44716",
                                    "3": "0",
                                    "4": "2013-09-02 00:00:00.000",
                                    "5": "W",
                                    "6": "710",
                                    "7": "0.0000",
                                    "8": "2013-09-02 00:00:00.000"
                                },
                                {
                                    "0": "113851",
                                    "1": "806",
                                    "2": "44717",
                                    "3": "0",
                                    "4": "2013-09-02 00:00:00.000",
                                    "5": "W",
                                    "6": "1163",
                                    "7": "0.0000",
                                    "8": "2013-09-02 00:00:00.000"
                                },
                                {
                                    "0": "113852",
                                    "1": "807",
                                    "2": "44718",
                                    "3": "0",
                                    "4": "2013-09-02 00:00:00.000",
                                    "5": "W",
                                    "6": "310",
                                    "7": "0.0000",
                                    "8": "2013-09-02 00:00:00.000"
                                },
                                {
                                    "0": "113853",
                                    "1": "808",
                                    "2": "44719",
                                    "3": "0",
                                    "4": "2013-09-02 00:00:00.000",
                                    "5": "W",
                                    "6": "319",
                                    "7": "0.0000",
                                    "8": "2013-09-02 00:00:00.000"
                                },
                                {
                                    "0": "113854",
                                    "1": "810",
                                    "2": "44720",
                                    "3": "0",
                                    "4": "2013-09-02 00:00:00.000",
                                    "5": "W",
                                    "6": "342",
                                    "7": "0.0000",
                                    "8": "2013-09-02 00:00:00.000"
                                },
                                {
                                    "0": "113855",
                                    "1": "811",
                                    "2": "44721",
                                    "3": "0",
                                    "4": "2013-09-02 00:00:00.000",
                                    "5": "W",
                                    "6": "239",
                                    "7": "0.0000",
                                    "8": "2013-09-02 00:00:00.000"
                                },
                                {
                                    "0": "113856",
                                    "1": "812",
                                    "2": "44722",
                                    "3": "0",
                                    "4": "2013-09-02 00:00:00.000",
                                    "5": "W",
                                    "6": "451",
                                    "7": "0.0000",
                                    "8": "2013-09-02 00:00:00.000"
                                },
                                {
                                    "0": "113857",
                                    "1": "813",
                                    "2": "44723",
                                    "3": "0",
                                    "4": "2013-09-02 00:00:00.000",
                                    "5": "W",
                                    "6": "135",
                                    "7": "0.0000",
                                    "8": "2013-09-02 00:00:00.000"
                                },
                                {
                                    "0": "113858",
                                    "1": "815",
                                    "2": "44724",
                                    "3": "0",
                                    "4": "2013-09-02 00:00:00.000",
                                    "5": "W",
                                    "6": "319",
                                    "7": "0.0000",
                                    "8": "2013-09-02 00:00:00.000"
                                },
                                {
                                    "0": "113859",
                                    "1": "816",
                                    "2": "44725",
                                    "3": "0",
                                    "4": "2013-09-02 00:00:00.000",
                                    "5": "W",
                                    "6": "342",
                                    "7": "0.0000",
                                    "8": "2013-09-02 00:00:00.000"
                                },
                                {
                                    "0": "113860",
                                    "1": "818",
                                    "2": "44726",
                                    "3": "0",
                                    "4": "2013-09-02 00:00:00.000",
                                    "5": "W",
                                    "6": "239",
                                    "7": "0.0000",
                                    "8": "2013-09-02 00:00:00.000"
                                },
                                {
                                    "0": "113861",
                                    "1": "819",
                                    "2": "44727",
                                    "3": "0",
                                    "4": "2013-09-02 00:00:00.000",
                                    "5": "W",
                                    "6": "451",
                                    "7": "0.0000",
                                    "8": "2013-09-02 00:00:00.000"
                                },
                                {
                                    "0": "113862",
                                    "1": "820",
                                    "2": "44728",
                                    "3": "0",
                                    "4": "2013-09-02 00:00:00.000",
                                    "5": "W",
                                    "6": "135",
                                    "7": "0.0000",
                                    "8": "2013-09-02 00:00:00.000"
                                },
                                {
                                    "0": "113863",
                                    "1": "821",
                                    "2": "44729",
                                    "3": "0",
                                    "4": "2013-09-02 00:00:00.000",
                                    "5": "W",
                                    "6": "697",
                                    "7": "0.0000",
                                    "8": "2013-09-02 00:00:00.000"
                                },
                                {
                                    "0": "113864",
                                    "1": "822",
                                    "2": "44730",
                                    "3": "0",
                                    "4": "2013-09-02 00:00:00.000",
                                    "5": "W",
                                    "6": "46",
                                    "7": "0.0000",
                                    "8": "2013-09-02 00:00:00.000"
                                },
                                {
                                    "0": "113865",
                                    "1": "823",
                                    "2": "44731",
                                    "3": "0",
                                    "4": "2013-09-02 00:00:00.000",
                                    "5": "W",
                                    "6": "319",
                                    "7": "0.0000",
                                    "8": "2013-09-02 00:00:00.000"
                                },
                                {
                                    "0": "113866",
                                    "1": "824",
                                    "2": "44732",
                                    "3": "0",
                                    "4": "2013-09-02 00:00:00.000",
                                    "5": "W",
                                    "6": "342",
                                    "7": "0.0000",
                                    "8": "2013-09-02 00:00:00.000"
                                },
                                {
                                    "0": "113867",
                                    "1": "826",
                                    "2": "44733",
                                    "3": "0",
                                    "4": "2013-09-02 00:00:00.000",
                                    "5": "W",
                                    "6": "239",
                                    "7": "0.0000",
                                    "8": "2013-09-02 00:00:00.000"
                                },
                                {
                                    "0": "113868",
                                    "1": "827",
                                    "2": "44734",
                                    "3": "0",
                                    "4": "2013-09-02 00:00:00.000",
                                    "5": "W",
                                    "6": "451",
                                    "7": "0.0000",
                                    "8": "2013-09-02 00:00:00.000"
                                },
                                {
                                    "0": "113869",
                                    "1": "828",
                                    "2": "44735",
                                    "3": "0",
                                    "4": "2013-09-02 00:00:00.000",
                                    "5": "W",
                                    "6": "135",
                                    "7": "0.0000",
                                    "8": "2013-09-02 00:00:00.000"
                                },
                                {
                                    "0": "113870",
                                    "1": "829",
                                    "2": "44736",
                                    "3": "0",
                                    "4": "2013-09-02 00:00:00.000",
                                    "5": "W",
                                    "6": "697",
                                    "7": "0.0000",
                                    "8": "2013-09-02 00:00:00.000"
                                },
                                {
                                    "0": "113871",
                                    "1": "833",
                                    "2": "44737",
                                    "3": "0",
                                    "4": "2013-09-02 00:00:00.000",
                                    "5": "W",
                                    "6": "126",
                                    "7": "0.0000",
                                    "8": "2013-09-02 00:00:00.000"
                                },
                                {
                                    "0": "113872",
                                    "1": "834",
                                    "2": "44738",
                                    "3": "0",
                                    "4": "2013-09-02 00:00:00.000",
                                    "5": "W",
                                    "6": "94",
                                    "7": "0.0000",
                                    "8": "2013-09-02 00:00:00.000"
                                },
                                {
                                    "0": "113873",
                                    "1": "835",
                                    "2": "44739",
                                    "3": "0",
                                    "4": "2013-09-02 00:00:00.000",
                                    "5": "W",
                                    "6": "34",
                                    "7": "0.0000",
                                    "8": "2013-09-02 00:00:00.000"
                                },
                                {
                                    "0": "113874",
                                    "1": "836",
                                    "2": "44740",
                                    "3": "0",
                                    "4": "2013-09-02 00:00:00.000",
                                    "5": "W",
                                    "6": "151",
                                    "7": "0.0000",
                                    "8": "2013-09-02 00:00:00.000"
                                },
                                {
                                    "0": "113875",
                                    "1": "838",
                                    "2": "44741",
                                    "3": "0",
                                    "4": "2013-09-02 00:00:00.000",
                                    "5": "W",
                                    "6": "46",
                                    "7": "0.0000",
                                    "8": "2013-09-02 00:00:00.000"
                                },
                                {
                                    "0": "113876",
                                    "1": "839",
                                    "2": "44742",
                                    "3": "0",
                                    "4": "2013-09-02 00:00:00.000",
                                    "5": "W",
                                    "6": "37",
                                    "7": "0.0000",
                                    "8": "2013-09-02 00:00:00.000"
                                },
                                {
                                    "0": "113877",
                                    "1": "840",
                                    "2": "44743",
                                    "3": "0",
                                    "4": "2013-09-02 00:00:00.000",
                                    "5": "W",
                                    "6": "22",
                                    "7": "0.0000",
                                    "8": "2013-09-02 00:00:00.000"
                                },
                                {
                                    "0": "113878",
                                    "1": "885",
                                    "2": "44744",
                                    "3": "0",
                                    "4": "2013-09-02 00:00:00.000",
                                    "5": "W",
                                    "6": "77",
                                    "7": "0.0000",
                                    "8": "2013-09-02 00:00:00.000"
                                },
                                {
                                    "0": "113879",
                                    "1": "886",
                                    "2": "44745",
                                    "3": "0",
                                    "4": "2013-09-02 00:00:00.000",
                                    "5": "W",
                                    "6": "29",
                                    "7": "0.0000",
                                    "8": "2013-09-02 00:00:00.000"
                                },
                                {
                                    "0": "113880",
                                    "1": "887",
                                    "2": "44746",
                                    "3": "0",
                                    "4": "2013-09-02 00:00:00.000",
                                    "5": "W",
                                    "6": "64",
                                    "7": "0.0000",
                                    "8": "2013-09-02 00:00:00.000"
                                },
                                {
                                    "0": "113881",
                                    "1": "888",
                                    "2": "44747",
                                    "3": "0",
                                    "4": "2013-09-02 00:00:00.000",
                                    "5": "W",
                                    "6": "29",
                                    "7": "0.0000",
                                    "8": "2013-09-02 00:00:00.000"
                                },
                                {
                                    "0": "113882",
                                    "1": "889",
                                    "2": "44748",
                                    "3": "0",
                                    "4": "2013-09-02 00:00:00.000",
                                    "5": "W",
                                    "6": "12",
                                    "7": "0.0000",
                                    "8": "2013-09-02 00:00:00.000"
                                },
                                {
                                    "0": "113883",
                                    "1": "890",
                                    "2": "44749",
                                    "3": "0",
                                    "4": "2013-09-02 00:00:00.000",
                                    "5": "W",
                                    "6": "70",
                                    "7": "0.0000",
                                    "8": "2013-09-02 00:00:00.000"
                                },
                                {
                                    "0": "113884",
                                    "1": "891",
                                    "2": "44750",
                                    "3": "0",
                                    "4": "2013-09-02 00:00:00.000",
                                    "5": "W",
                                    "6": "40",
                                    "7": "0.0000",
                                    "8": "2013-09-02 00:00:00.000"
                                },
                                {
                                    "0": "113885",
                                    "1": "892",
                                    "2": "44751",
                                    "3": "0",
                                    "4": "2013-09-02 00:00:00.000",
                                    "5": "W",
                                    "6": "68",
                                    "7": "0.0000",
                                    "8": "2013-09-02 00:00:00.000"
                                },
                                {
                                    "0": "113886",
                                    "1": "893",
                                    "2": "44752",
                                    "3": "0",
                                    "4": "2013-09-02 00:00:00.000",
                                    "5": "W",
                                    "6": "90",
                                    "7": "0.0000",
                                    "8": "2013-09-02 00:00:00.000"
                                },
                                {
                                    "0": "113887",
                                    "1": "894",
                                    "2": "44753",
                                    "3": "0",
                                    "4": "2013-09-02 00:00:00.000",
                                    "5": "W",
                                    "6": "2183",
                                    "7": "0.0000",
                                    "8": "2013-09-02 00:00:00.000"
                                },
                                {
                                    "0": "113888",
                                    "1": "895",
                                    "2": "44754",
                                    "3": "0",
                                    "4": "2013-09-02 00:00:00.000",
                                    "5": "W",
                                    "6": "36",
                                    "7": "0.0000",
                                    "8": "2013-09-02 00:00:00.000"
                                },
                                {
                                    "0": "113889",
                                    "1": "896",
                                    "2": "44755",
                                    "3": "0",
                                    "4": "2013-09-02 00:00:00.000",
                                    "5": "W",
                                    "6": "31",
                                    "7": "0.0000",
                                    "8": "2013-09-02 00:00:00.000"
                                },
                                {
                                    "0": "113890",
                                    "1": "897",
                                    "2": "44756",
                                    "3": "0",
                                    "4": "2013-09-02 00:00:00.000",
                                    "5": "W",
                                    "6": "23",
                                    "7": "0.0000",
                                    "8": "2013-09-02 00:00:00.000"
                                },
                                {
                                    "0": "113891",
                                    "1": "898",
                                    "2": "44757",
                                    "3": "0",
                                    "4": "2013-09-02 00:00:00.000",
                                    "5": "W",
                                    "6": "6",
                                    "7": "0.0000",
                                    "8": "2013-09-02 00:00:00.000"
                                },
                                {
                                    "0": "113892",
                                    "1": "899",
                                    "2": "44758",
                                    "3": "0",
                                    "4": "2013-09-02 00:00:00.000",
                                    "5": "W",
                                    "6": "55",
                                    "7": "0.0000",
                                    "8": "2013-09-02 00:00:00.000"
                                },
                                {
                                    "0": "113893",
                                    "1": "900",
                                    "2": "44759",
                                    "3": "0",
                                    "4": "2013-09-02 00:00:00.000",
                                    "5": "W",
                                    "6": "25",
                                    "7": "0.0000",
                                    "8": "2013-09-02 00:00:00.000"
                                },
                                {
                                    "0": "113894",
                                    "1": "901",
                                    "2": "44760",
                                    "3": "0",
                                    "4": "2013-09-02 00:00:00.000",
                                    "5": "W",
                                    "6": "24",
                                    "7": "0.0000",
                                    "8": "2013-09-02 00:00:00.000"
                                },
                                {
                                    "0": "113895",
                                    "1": "902",
                                    "2": "44761",
                                    "3": "0",
                                    "4": "2013-09-02 00:00:00.000",
                                    "5": "W",
                                    "6": "10",
                                    "7": "0.0000",
                                    "8": "2013-09-02 00:00:00.000"
                                },
                                {
                                    "0": "113896",
                                    "1": "903",
                                    "2": "44762",
                                    "3": "0",
                                    "4": "2013-09-02 00:00:00.000",
                                    "5": "W",
                                    "6": "8",
                                    "7": "0.0000",
                                    "8": "2013-09-02 00:00:00.000"
                                },
                                {
                                    "0": "113897",
                                    "1": "904",
                                    "2": "44763",
                                    "3": "0",
                                    "4": "2013-09-02 00:00:00.000",
                                    "5": "W",
                                    "6": "29",
                                    "7": "0.0000",
                                    "8": "2013-09-02 00:00:00.000"
                                },
                                {
                                    "0": "113898",
                                    "1": "905",
                                    "2": "44764",
                                    "3": "0",
                                    "4": "2013-09-02 00:00:00.000",
                                    "5": "W",
                                    "6": "23",
                                    "7": "0.0000",
                                    "8": "2013-09-02 00:00:00.000"
                                },
                                {
                                    "0": "113899",
                                    "1": "906",
                                    "2": "44765",
                                    "3": "0",
                                    "4": "2013-09-02 00:00:00.000",
                                    "5": "W",
                                    "6": "19",
                                    "7": "0.0000",
                                    "8": "2013-09-02 00:00:00.000"
                                },
                                {
                                    "0": "113900",
                                    "1": "917",
                                    "2": "44766",
                                    "3": "0",
                                    "4": "2013-09-02 00:00:00.000",
                                    "5": "W",
                                    "6": "34",
                                    "7": "0.0000",
                                    "8": "2013-09-02 00:00:00.000"
                                },
                                {
                                    "0": "113901",
                                    "1": "918",
                                    "2": "44767",
                                    "3": "0",
                                    "4": "2013-09-02 00:00:00.000",
                                    "5": "W",
                                    "6": "16",
                                    "7": "0.0000",
                                    "8": "2013-09-02 00:00:00.000"
                                },
                                {
                                    "0": "113902",
                                    "1": "919",
                                    "2": "44768",
                                    "3": "0",
                                    "4": "2013-09-02 00:00:00.000",
                                    "5": "W",
                                    "6": "26",
                                    "7": "0.0000",
                                    "8": "2013-09-02 00:00:00.000"
                                },
                                {
                                    "0": "113903",
                                    "1": "920",
                                    "2": "44769",
                                    "3": "0",
                                    "4": "2013-09-02 00:00:00.000",
                                    "5": "W",
                                    "6": "26",
                                    "7": "0.0000",
                                    "8": "2013-09-02 00:00:00.000"
                                },
                                {
                                    "0": "113904",
                                    "1": "924",
                                    "2": "44770",
                                    "3": "0",
                                    "4": "2013-09-02 00:00:00.000",
                                    "5": "W",
                                    "6": "23",
                                    "7": "0.0000",
                                    "8": "2013-09-02 00:00:00.000"
                                },
                                {
                                    "0": "113905",
                                    "1": "925",
                                    "2": "44771",
                                    "3": "0",
                                    "4": "2013-09-02 00:00:00.000",
                                    "5": "W",
                                    "6": "16",
                                    "7": "0.0000",
                                    "8": "2013-09-02 00:00:00.000"
                                },
                                {
                                    "0": "113906",
                                    "1": "926",
                                    "2": "44772",
                                    "3": "0",
                                    "4": "2013-09-02 00:00:00.000",
                                    "5": "W",
                                    "6": "24",
                                    "7": "0.0000",
                                    "8": "2013-09-02 00:00:00.000"
                                },
                                {
                                    "0": "113907",
                                    "1": "927",
                                    "2": "44773",
                                    "3": "0",
                                    "4": "2013-09-02 00:00:00.000",
                                    "5": "W",
                                    "6": "19",
                                    "7": "0.0000",
                                    "8": "2013-09-02 00:00:00.000"
                                },
                                {
                                    "0": "113908",
                                    "1": "942",
                                    "2": "44774",
                                    "3": "0",
                                    "4": "2013-09-02 00:00:00.000",
                                    "5": "W",
                                    "6": "21",
                                    "7": "0.0000",
                                    "8": "2013-09-02 00:00:00.000"
                                },
                                {
                                    "0": "113909",
                                    "1": "943",
                                    "2": "44775",
                                    "3": "0",
                                    "4": "2013-09-02 00:00:00.000",
                                    "5": "W",
                                    "6": "18",
                                    "7": "0.0000",
                                    "8": "2013-09-02 00:00:00.000"
                                },
                                {
                                    "0": "113910",
                                    "1": "944",
                                    "2": "44776",
                                    "3": "0",
                                    "4": "2013-09-02 00:00:00.000",
                                    "5": "W",
                                    "6": "25",
                                    "7": "0.0000",
                                    "8": "2013-09-02 00:00:00.000"
                                },
                                {
                                    "0": "113911",
                                    "1": "945",
                                    "2": "44777",
                                    "3": "0",
                                    "4": "2013-09-02 00:00:00.000",
                                    "5": "W",
                                    "6": "2183",
                                    "7": "0.0000",
                                    "8": "2013-09-02 00:00:00.000"
                                },
                                {
                                    "0": "113912",
                                    "1": "946",
                                    "2": "44778",
                                    "3": "0",
                                    "4": "2013-09-02 00:00:00.000",
                                    "5": "W",
                                    "6": "247",
                                    "7": "0.0000",
                                    "8": "2013-09-02 00:00:00.000"
                                },
                                {
                                    "0": "113913",
                                    "1": "947",
                                    "2": "44779",
                                    "3": "0",
                                    "4": "2013-09-02 00:00:00.000",
                                    "5": "W",
                                    "6": "450",
                                    "7": "0.0000",
                                    "8": "2013-09-02 00:00:00.000"
                                },
                                {
                                    "0": "113914",
                                    "1": "949",
                                    "2": "44780",
                                    "3": "0",
                                    "4": "2013-09-02 00:00:00.000",
                                    "5": "W",
                                    "6": "710",
                                    "7": "0.0000",
                                    "8": "2013-09-02 00:00:00.000"
                                },
                                {
                                    "0": "113915",
                                    "1": "950",
                                    "2": "44781",
                                    "3": "0",
                                    "4": "2013-09-02 00:00:00.000",
                                    "5": "W",
                                    "6": "1163",
                                    "7": "0.0000",
                                    "8": "2013-09-02 00:00:00.000"
                                },
                                {
                                    "0": "113916",
                                    "1": "951",
                                    "2": "44782",
                                    "3": "0",
                                    "4": "2013-09-02 00:00:00.000",
                                    "5": "W",
                                    "6": "310",
                                    "7": "0.0000",
                                    "8": "2013-09-02 00:00:00.000"
                                },
                                {
                                    "0": "113917",
                                    "1": "994",
                                    "2": "44783",
                                    "3": "0",
                                    "4": "2013-09-02 00:00:00.000",
                                    "5": "W",
                                    "6": "1000",
                                    "7": "0.0000",
                                    "8": "2013-09-02 00:00:00.000"
                                },
                                {
                                    "0": "113918",
                                    "1": "995",
                                    "2": "44784",
                                    "3": "0",
                                    "4": "2013-09-02 00:00:00.000",
                                    "5": "W",
                                    "6": "738",
                                    "7": "0.0000",
                                    "8": "2013-09-02 00:00:00.000"
                                },
                                {
                                    "0": "113919",
                                    "1": "996",
                                    "2": "44785",
                                    "3": "0",
                                    "4": "2013-09-02 00:00:00.000",
                                    "5": "W",
                                    "6": "445",
                                    "7": "0.0000",
                                    "8": "2013-09-02 00:00:00.000"
                                },
                                {
                                    "0": "113920",
                                    "1": "3",
                                    "2": "44786",
                                    "3": "0",
                                    "4": "2013-09-02 00:00:00.000",
                                    "5": "W",
                                    "6": "22440",
                                    "7": "0.0000",
                                    "8": "2013-09-02 00:00:00.000"
                                },
                                {
                                    "0": "113921",
                                    "1": "324",
                                    "2": "44787",
                                    "3": "0",
                                    "4": "2013-09-02 00:00:00.000",
                                    "5": "W",
                                    "6": "5816",
                                    "7": "0.0000",
                                    "8": "2013-09-02 00:00:00.000"
                                },
                                {
                                    "0": "113922",
                                    "1": "327",
                                    "2": "44788",
                                    "3": "0",
                                    "4": "2013-09-02 00:00:00.000",
                                    "5": "W",
                                    "6": "2908",
                                    "7": "0.0000",
                                    "8": "2013-09-02 00:00:00.000"
                                },
                                {
                                    "0": "113923",
                                    "1": "328",
                                    "2": "44789",
                                    "3": "0",
                                    "4": "2013-09-02 00:00:00.000",
                                    "5": "W",
                                    "6": "1496",
                                    "7": "0.0000",
                                    "8": "2013-09-02 00:00:00.000"
                                },
                                {
                                    "0": "113924",
                                    "1": "329",
                                    "2": "44790",
                                    "3": "0",
                                    "4": "2013-09-02 00:00:00.000",
                                    "5": "W",
                                    "6": "1688",
                                    "7": "0.0000",
                                    "8": "2013-09-02 00:00:00.000"
                                },
                                {
                                    "0": "113925",
                                    "1": "330",
                                    "2": "44791",
                                    "3": "0",
                                    "4": "2013-09-02 00:00:00.000",
                                    "5": "W",
                                    "6": "1422",
                                    "7": "0.0000",
                                    "8": "2013-09-02 00:00:00.000"
                                },
                                {
                                    "0": "113926",
                                    "1": "398",
                                    "2": "44792",
                                    "3": "0",
                                    "4": "2013-09-02 00:00:00.000",
                                    "5": "W",
                                    "6": "2303",
                                    "7": "0.0000",
                                    "8": "2013-09-02 00:00:00.000"
                                },
                                {
                                    "0": "113927",
                                    "1": "399",
                                    "2": "44793",
                                    "3": "0",
                                    "4": "2013-09-02 00:00:00.000",
                                    "5": "W",
                                    "6": "2908",
                                    "7": "0.0000",
                                    "8": "2013-09-02 00:00:00.000"
                                },
                                {
                                    "0": "113928",
                                    "1": "400",
                                    "2": "44794",
                                    "3": "0",
                                    "4": "2013-09-02 00:00:00.000",
                                    "5": "W",
                                    "6": "1116",
                                    "7": "0.0000",
                                    "8": "2013-09-02 00:00:00.000"
                                },
                                {
                                    "0": "113929",
                                    "1": "401",
                                    "2": "44795",
                                    "3": "0",
                                    "4": "2013-09-02 00:00:00.000",
                                    "5": "W",
                                    "6": "3250",
                                    "7": "0.0000",
                                    "8": "2013-09-02 00:00:00.000"
                                },
                                {
                                    "0": "113930",
                                    "1": "529",
                                    "2": "44796",
                                    "3": "0",
                                    "4": "2013-09-02 00:00:00.000",
                                    "5": "W",
                                    "6": "2303",
                                    "7": "0.0000",
                                    "8": "2013-09-02 00:00:00.000"
                                },
                                {
                                    "0": "113931",
                                    "1": "532",
                                    "2": "44797",
                                    "3": "0",
                                    "4": "2013-09-02 00:00:00.000",
                                    "5": "W",
                                    "6": "11632",
                                    "7": "0.0000",
                                    "8": "2013-09-02 00:00:00.000"
                                },
                                {
                                    "0": "113932",
                                    "1": "533",
                                    "2": "44798",
                                    "3": "0",
                                    "4": "2013-09-02 00:00:00.000",
                                    "5": "W",
                                    "6": "2908",
                                    "7": "0.0000",
                                    "8": "2013-09-02 00:00:00.000"
                                },
                                {
                                    "0": "113933",
                                    "1": "534",
                                    "2": "44799",
                                    "3": "0",
                                    "4": "2013-09-02 00:00:00.000",
                                    "5": "W",
                                    "6": "2908",
                                    "7": "0.0000",
                                    "8": "2013-09-02 00:00:00.000"
                                },
                                {
                                    "0": "113934",
                                    "1": "802",
                                    "2": "44800",
                                    "3": "0",
                                    "4": "2013-09-02 00:00:00.000",
                                    "5": "W",
                                    "6": "1002",
                                    "7": "0.0000",
                                    "8": "2013-09-02 00:00:00.000"
                                },
                                {
                                    "0": "113935",
                                    "1": "803",
                                    "2": "44801",
                                    "3": "0",
                                    "4": "2013-09-02 00:00:00.000",
                                    "5": "W",
                                    "6": "758",
                                    "7": "0.0000",
                                    "8": "2013-09-02 00:00:00.000"
                                },
                                {
                                    "0": "113936",
                                    "1": "804",
                                    "2": "44802",
                                    "3": "0",
                                    "4": "2013-09-02 00:00:00.000",
                                    "5": "W",
                                    "6": "1148",
                                    "7": "0.0000",
                                    "8": "2013-09-02 00:00:00.000"
                                },
                                {
                                    "0": "113937",
                                    "1": "316",
                                    "2": "44803",
                                    "3": "0",
                                    "4": "2013-09-02 00:00:00.000",
                                    "5": "W",
                                    "6": "5816",
                                    "7": "0.0000",
                                    "8": "2013-09-02 00:00:00.000"
                                },
                                {
                                    "0": "113938",
                                    "1": "331",
                                    "2": "44804",
                                    "3": "0",
                                    "4": "2013-09-02 00:00:00.000",
                                    "5": "W",
                                    "6": "5816",
                                    "7": "0.0000",
                                    "8": "2013-09-02 00:00:00.000"
                                },
                                {
                                    "0": "113939",
                                    "1": "350",
                                    "2": "44805",
                                    "3": "0",
                                    "4": "2013-09-02 00:00:00.000",
                                    "5": "W",
                                    "6": "2908",
                                    "7": "0.0000",
                                    "8": "2013-09-02 00:00:00.000"
                                },
                                {
                                    "0": "113940",
                                    "1": "531",
                                    "2": "44806",
                                    "3": "0",
                                    "4": "2013-09-02 00:00:00.000",
                                    "5": "W",
                                    "6": "2908",
                                    "7": "0.0000",
                                    "8": "2013-09-02 00:00:00.000"
                                },
                                {
                                    "0": "113941",
                                    "1": "780",
                                    "2": "55505",
                                    "3": "1",
                                    "4": "2013-09-02 00:00:00.000",
                                    "5": "S",
                                    "6": "1",
                                    "7": "2319.9900",
                                    "8": "2013-09-02 00:00:00.000"
                                },
                                {
                                    "0": "113942",
                                    "1": "880",
                                    "2": "55505",
                                    "3": "2",
                                    "4": "2013-09-02 00:00:00.000",
                                    "5": "S",
                                    "6": "1",
                                    "7": "54.9900",
                                    "8": "2013-09-02 00:00:00.000"
                                },
                                {
                                    "0": "113943",
                                    "1": "869",
                                    "2": "55506",
                                    "3": "2",
                                    "4": "2013-09-02 00:00:00.000",
                                    "5": "S",
                                    "6": "1",
                                    "7": "69.9900",
                                    "8": "2013-09-02 00:00:00.000"
                                },
                                {
                                    "0": "113944",
                                    "1": "981",
                                    "2": "55506",
                                    "3": "1",
                                    "4": "2013-09-02 00:00:00.000",
                                    "5": "S",
                                    "6": "1",
                                    "7": "769.4900",
                                    "8": "2013-09-02 00:00:00.000"
                                },
                                {
                                    "0": "113945",
                                    "1": "707",
                                    "2": "55507",
                                    "3": "3",
                                    "4": "2013-09-02 00:00:00.000",
                                    "5": "S",
                                    "6": "1",
                                    "7": "34.9900",
                                    "8": "2013-09-02 00:00:00.000"
                                },
                                {
                                    "0": "113946",
                                    "1": "716",
                                    "2": "55507",
                                    "3": "4",
                                    "4": "2013-09-02 00:00:00.000",
                                    "5": "S",
                                    "6": "1",
                                    "7": "49.9900",
                                    "8": "2013-09-02 00:00:00.000"
                                },
                                {
                                    "0": "113947",
                                    "1": "922",
                                    "2": "55507",
                                    "3": "1",
                                    "4": "2013-09-02 00:00:00.000",
                                    "5": "S",
                                    "6": "1",
                                    "7": "3.9900",
                                    "8": "2013-09-02 00:00:00.000"
                                },
                                {
                                    "0": "113948",
                                    "1": "931",
                                    "2": "55507",
                                    "3": "2",
                                    "4": "2013-09-02 00:00:00.000",
                                    "5": "S",
                                    "6": "1",
                                    "7": "21.4900",
                                    "8": "2013-09-02 00:00:00.000"
                                },
                                {
                                    "0": "113949",
                                    "1": "873",
                                    "2": "55508",
                                    "3": "2",
                                    "4": "2013-09-02 00:00:00.000",
                                    "5": "S",
                                    "6": "1",
                                    "7": "2.2900",
                                    "8": "2013-09-02 00:00:00.000"
                                },
                                {
                                    "0": "113950",
                                    "1": "921",
                                    "2": "55508",
                                    "3": "1",
                                    "4": "2013-09-02 00:00:00.000",
                                    "5": "S",
                                    "6": "1",
                                    "7": "4.9900",
                                    "8": "2013-09-02 00:00:00.000"
                                },
                                {
                                    "0": "113951",
                                    "1": "866",
                                    "2": "55509",
                                    "3": "3",
                                    "4": "2013-09-02 00:00:00.000",
                                    "5": "S",
                                    "6": "1",
                                    "7": "63.5000",
                                    "8": "2013-09-02 00:00:00.000"
                                },
                                {
                                    "0": "113952",
                                    "1": "880",
                                    "2": "55509",
                                    "3": "2",
                                    "4": "2013-09-02 00:00:00.000",
                                    "5": "S",
                                    "6": "1",
                                    "7": "54.9900",
                                    "8": "2013-09-02 00:00:00.000"
                                },
                                {
                                    "0": "113953",
                                    "1": "922",
                                    "2": "55509",
                                    "3": "1",
                                    "4": "2013-09-02 00:00:00.000",
                                    "5": "S",
                                    "6": "1",
                                    "7": "3.9900",
                                    "8": "2013-09-02 00:00:00.000"
                                },
                                {
                                    "0": "113954",
                                    "1": "712",
                                    "2": "55510",
                                    "3": "2",
                                    "4": "2013-09-02 00:00:00.000",
                                    "5": "S",
                                    "6": "1",
                                    "7": "8.9900",
                                    "8": "2013-09-02 00:00:00.000"
                                },
                                {
                                    "0": "113955",
                                    "1": "870",
                                    "2": "55510",
                                    "3": "3",
                                    "4": "2013-09-02 00:00:00.000",
                                    "5": "S",
                                    "6": "1",
                                    "7": "4.9900",
                                    "8": "2013-09-02 00:00:00.000"
                                },
                                {
                                    "0": "113956",
                                    "1": "871",
                                    "2": "55510",
                                    "3": "1",
                                    "4": "2013-09-02 00:00:00.000",
                                    "5": "S",
                                    "6": "1",
                                    "7": "9.9900",
                                    "8": "2013-09-02 00:00:00.000"
                                },
                                {
                                    "0": "113957",
                                    "1": "877",
                                    "2": "55511",
                                    "3": "1",
                                    "4": "2013-09-02 00:00:00.000",
                                    "5": "S",
                                    "6": "1",
                                    "7": "7.9500",
                                    "8": "2013-09-02 00:00:00.000"
                                },
                                {
                                    "0": "113958",
                                    "1": "858",
                                    "2": "55512",
                                    "3": "1",
                                    "4": "2013-09-02 00:00:00.000",
                                    "5": "S",
                                    "6": "1",
                                    "7": "24.4900",
                                    "8": "2013-09-02 00:00:00.000"
                                },
                                {
                                    "0": "113959",
                                    "1": "879",
                                    "2": "55513",
                                    "3": "2",
                                    "4": "2013-09-02 00:00:00.000",
                                    "5": "S",
                                    "6": "1",
                                    "7": "159.0000",
                                    "8": "2013-09-02 00:00:00.000"
                                },
                                {
                                    "0": "113960",
                                    "1": "983",
                                    "2": "55513",
                                    "3": "1",
                                    "4": "2013-09-02 00:00:00.000",
                                    "5": "S",
                                    "6": "1",
                                    "7": "769.4900",
                                    "8": "2013-09-02 00:00:00.000"
                                },
                                {
                                    "0": "113961",
                                    "1": "873",
                                    "2": "55514",
                                    "3": "2",
                                    "4": "2013-09-02 00:00:00.000",
                                    "5": "S",
                                    "6": "1",
                                    "7": "2.2900",
                                    "8": "2013-09-02 00:00:00.000"
                                },
                                {
                                    "0": "113962",
                                    "1": "922",
                                    "2": "55514",
                                    "3": "1",
                                    "4": "2013-09-02 00:00:00.000",
                                    "5": "S",
                                    "6": "1",
                                    "7": "3.9900",
                                    "8": "2013-09-02 00:00:00.000"
                                },
                                {
                                    "0": "113963",
                                    "1": "865",
                                    "2": "55515",
                                    "3": "2",
                                    "4": "2013-09-02 00:00:00.000",
                                    "5": "S",
                                    "6": "1",
                                    "7": "63.5000",
                                    "8": "2013-09-02 00:00:00.000"
                                },
                                {
                                    "0": "113964",
                                    "1": "922",
                                    "2": "55515",
                                    "3": "1",
                                    "4": "2013-09-02 00:00:00.000",
                                    "5": "S",
                                    "6": "1",
                                    "7": "3.9900",
                                    "8": "2013-09-02 00:00:00.000"
                                },
                                {
                                    "0": "113965",
                                    "1": "708",
                                    "2": "55516",
                                    "3": "3",
                                    "4": "2013-09-02 00:00:00.000",
                                    "5": "S",
                                    "6": "1",
                                    "7": "34.9900",
                                    "8": "2013-09-02 00:00:00.000"
                                },
                                {
                                    "0": "113966",
                                    "1": "922",
                                    "2": "55516",
                                    "3": "1",
                                    "4": "2013-09-02 00:00:00.000",
                                    "5": "S",
                                    "6": "1",
                                    "7": "3.9900",
                                    "8": "2013-09-02 00:00:00.000"
                                },
                                {
                                    "0": "113967",
                                    "1": "932",
                                    "2": "55516",
                                    "3": "2",
                                    "4": "2013-09-02 00:00:00.000",
                                    "5": "S",
                                    "6": "1",
                                    "7": "24.9900",
                                    "8": "2013-09-02 00:00:00.000"
                                },
                                {
                                    "0": "113968",
                                    "1": "923",
                                    "2": "55517",
                                    "3": "1",
                                    "4": "2013-09-02 00:00:00.000",
                                    "5": "S",
                                    "6": "1",
                                    "7": "4.9900",
                                    "8": "2013-09-02 00:00:00.000"
                                },
                                {
                                    "0": "113969",
                                    "1": "873",
                                    "2": "55518",
                                    "3": "2",
                                    "4": "2013-09-02 00:00:00.000",
                                    "5": "S",
                                    "6": "1",
                                    "7": "2.2900",
                                    "8": "2013-09-02 00:00:00.000"
                                },
                                {
                                    "0": "113970",
                                    "1": "928",
                                    "2": "55518",
                                    "3": "1",
                                    "4": "2013-09-02 00:00:00.000",
                                    "5": "S",
                                    "6": "1",
                                    "7": "24.9900",
                                    "8": "2013-09-02 00:00:00.000"
                                },
                                {
                                    "0": "113971",
                                    "1": "928",
                                    "2": "55519",
                                    "3": "1",
                                    "4": "2013-09-02 00:00:00.000",
                                    "5": "S",
                                    "6": "1",
                                    "7": "24.9900",
                                    "8": "2013-09-02 00:00:00.000"
                                },
                                {
                                    "0": "113972",
                                    "1": "873",
                                    "2": "55520",
                                    "3": "3",
                                    "4": "2013-09-02 00:00:00.000",
                                    "5": "S",
                                    "6": "1",
                                    "7": "2.2900",
                                    "8": "2013-09-02 00:00:00.000"
                                },
                                {
                                    "0": "113973",
                                    "1": "877",
                                    "2": "55520",
                                    "3": "4",
                                    "4": "2013-09-02 00:00:00.000",
                                    "5": "S",
                                    "6": "1",
                                    "7": "7.9500",
                                    "8": "2013-09-02 00:00:00.000"
                                },
                                {
                                    "0": "113974",
                                    "1": "922",
                                    "2": "55520",
                                    "3": "2",
                                    "4": "2013-09-02 00:00:00.000",
                                    "5": "S",
                                    "6": "1",
                                    "7": "3.9900",
                                    "8": "2013-09-02 00:00:00.000"
                                },
                                {
                                    "0": "113975",
                                    "1": "933",
                                    "2": "55520",
                                    "3": "1",
                                    "4": "2013-09-02 00:00:00.000",
                                    "5": "S",
                                    "6": "1",
                                    "7": "32.6000",
                                    "8": "2013-09-02 00:00:00.000"
                                },
                                {
                                    "0": "113976",
                                    "1": "873",
                                    "2": "55521",
                                    "3": "2",
                                    "4": "2013-09-02 00:00:00.000",
                                    "5": "S",
                                    "6": "1",
                                    "7": "2.2900",
                                    "8": "2013-09-02 00:00:00.000"
                                },
                                {
                                    "0": "113977",
                                    "1": "929",
                                    "2": "55521",
                                    "3": "1",
                                    "4": "2013-09-02 00:00:00.000",
                                    "5": "S",
                                    "6": "1",
                                    "7": "29.9900",
                                    "8": "2013-09-02 00:00:00.000"
                                },
                                {
                                    "0": "113978",
                                    "1": "870",
                                    "2": "55522",
                                    "3": "2",
                                    "4": "2013-09-02 00:00:00.000",
                                    "5": "S",
                                    "6": "1",
                                    "7": "4.9900",
                                    "8": "2013-09-02 00:00:00.000"
                                },
                                {
                                    "0": "113979",
                                    "1": "871",
                                    "2": "55522",
                                    "3": "1",
                                    "4": "2013-09-02 00:00:00.000",
                                    "5": "S",
                                    "6": "1",
                                    "7": "9.9900",
                                    "8": "2013-09-02 00:00:00.000"
                                },
                                {
                                    "0": "113980",
                                    "1": "881",
                                    "2": "55522",
                                    "3": "3",
                                    "4": "2013-09-02 00:00:00.000",
                                    "5": "S",
                                    "6": "1",
                                    "7": "53.9900",
                                    "8": "2013-09-02 00:00:00.000"
                                },
                                {
                                    "0": "113981",
                                    "1": "869",
                                    "2": "55523",
                                    "3": "1",
                                    "4": "2013-09-02 00:00:00.000",
                                    "5": "S",
                                    "6": "1",
                                    "7": "69.9900",
                                    "8": "2013-09-02 00:00:00.000"
                                },
                                {
                                    "0": "113982",
                                    "1": "870",
                                    "2": "55524",
                                    "3": "1",
                                    "4": "2013-09-02 00:00:00.000",
                                    "5": "S",
                                    "6": "1",
                                    "7": "4.9900",
                                    "8": "2013-09-02 00:00:00.000"
                                },
                                {
                                    "0": "113983",
                                    "1": "873",
                                    "2": "55524",
                                    "3": "2",
                                    "4": "2013-09-02 00:00:00.000",
                                    "5": "S",
                                    "6": "1",
                                    "7": "2.2900",
                                    "8": "2013-09-02 00:00:00.000"
                                },
                                {
                                    "0": "113984",
                                    "1": "877",
                                    "2": "55524",
                                    "3": "3",
                                    "4": "2013-09-02 00:00:00.000",
                                    "5": "S",
                                    "6": "1",
                                    "7": "7.9500",
                                    "8": "2013-09-02 00:00:00.000"
                                },
                                {
                                    "0": "113985",
                                    "1": "870",
                                    "2": "55525",
                                    "3": "1",
                                    "4": "2013-09-02 00:00:00.000",
                                    "5": "S",
                                    "6": "1",
                                    "7": "4.9900",
                                    "8": "2013-09-02 00:00:00.000"
                                },
                                {
                                    "0": "113986",
                                    "1": "712",
                                    "2": "55526",
                                    "3": "2",
                                    "4": "2013-09-02 00:00:00.000",
                                    "5": "S",
                                    "6": "1",
                                    "7": "8.9900",
                                    "8": "2013-09-02 00:00:00.000"
                                },
                                {
                                    "0": "113987",
                                    "1": "868",
                                    "2": "55526",
                                    "3": "1",
                                    "4": "2013-09-02 00:00:00.000",
                                    "5": "S",
                                    "6": "1",
                                    "7": "69.9900",
                                    "8": "2013-09-02 00:00:00.000"
                                },
                                {
                                    "0": "113988",
                                    "1": "711",
                                    "2": "55527",
                                    "3": "2",
                                    "4": "2013-09-02 00:00:00.000",
                                    "5": "S",
                                    "6": "1",
                                    "7": "34.9900",
                                    "8": "2013-09-02 00:00:00.000"
                                },
                                {
                                    "0": "113989",
                                    "1": "870",
                                    "2": "55527",
                                    "3": "1",
                                    "4": "2013-09-02 00:00:00.000",
                                    "5": "S",
                                    "6": "1",
                                    "7": "4.9900",
                                    "8": "2013-09-02 00:00:00.000"
                                },
                                {
                                    "0": "113990",
                                    "1": "712",
                                    "2": "55528",
                                    "3": "2",
                                    "4": "2013-09-02 00:00:00.000",
                                    "5": "S",
                                    "6": "1",
                                    "7": "8.9900",
                                    "8": "2013-09-02 00:00:00.000"
                                },
                                {
                                    "0": "113991",
                                    "1": "870",
                                    "2": "55528",
                                    "3": "1",
                                    "4": "2013-09-02 00:00:00.000",
                                    "5": "S",
                                    "6": "1",
                                    "7": "4.9900",
                                    "8": "2013-09-02 00:00:00.000"
                                },
                                {
                                    "0": "113992",
                                    "1": "871",
                                    "2": "55529",
                                    "3": "2",
                                    "4": "2013-09-02 00:00:00.000",
                                    "5": "S",
                                    "6": "1",
                                    "7": "9.9900",
                                    "8": "2013-09-02 00:00:00.000"
                                },
                                {
                                    "0": "113993",
                                    "1": "878",
                                    "2": "55529",
                                    "3": "1",
                                    "4": "2013-09-02 00:00:00.000",
                                    "5": "S",
                                    "6": "1",
                                    "7": "21.9800",
                                    "8": "2013-09-02 00:00:00.000"
                                },
                                {
                                    "0": "113994",
                                    "1": "711",
                                    "2": "55530",
                                    "3": "2",
                                    "4": "2013-09-02 00:00:00.000",
                                    "5": "S",
                                    "6": "1",
                                    "7": "34.9900",
                                    "8": "2013-09-02 00:00:00.000"
                                },
                                {
                                    "0": "113995",
                                    "1": "921",
                                    "2": "55530",
                                    "3": "1",
                                    "4": "2013-09-02 00:00:00.000",
                                    "5": "S",
                                    "6": "1",
                                    "7": "4.9900",
                                    "8": "2013-09-02 00:00:00.000"
                                },
                                {
                                    "0": "113996",
                                    "1": "711",
                                    "2": "55531",
                                    "3": "2",
                                    "4": "2013-09-02 00:00:00.000",
                                    "5": "S",
                                    "6": "1",
                                    "7": "34.9900",
                                    "8": "2013-09-02 00:00:00.000"
                                },
                                {
                                    "0": "113997",
                                    "1": "922",
                                    "2": "55531",
                                    "3": "1",
                                    "4": "2013-09-02 00:00:00.000",
                                    "5": "S",
                                    "6": "1",
                                    "7": "3.9900",
                                    "8": "2013-09-02 00:00:00.000"
                                },
                                {
                                    "0": "113998",
                                    "1": "708",
                                    "2": "55532",
                                    "3": "3",
                                    "4": "2013-09-02 00:00:00.000",
                                    "5": "S",
                                    "6": "1",
                                    "7": "34.9900",
                                    "8": "2013-09-02 00:00:00.000"
                                },
                                {
                                    "0": "113999",
                                    "1": "712",
                                    "2": "55532",
                                    "3": "5",
                                    "4": "2013-09-02 00:00:00.000",
                                    "5": "S",
                                    "6": "1",
                                    "7": "8.9900",
                                    "8": "2013-09-02 00:00:00.000"
                                },
                                {
                                    "0": "114000",
                                    "1": "716",
                                    "2": "55532",
                                    "3": "4",
                                    "4": "2013-09-02 00:00:00.000",
                                    "5": "S",
                                    "6": "1",
                                    "7": "49.9900",
                                    "8": "2013-09-02 00:00:00.000"
                                },
                                {
                                    "0": "114001",
                                    "1": "921",
                                    "2": "55532",
                                    "3": "2",
                                    "4": "2013-09-02 00:00:00.000",
                                    "5": "S",
                                    "6": "1",
                                    "7": "4.9900",
                                    "8": "2013-09-02 00:00:00.000"
                                },
                                {
                                    "0": "114002",
                                    "1": "929",
                                    "2": "55532",
                                    "3": "1",
                                    "4": "2013-09-02 00:00:00.000",
                                    "5": "S",
                                    "6": "1",
                                    "7": "29.9900",
                                    "8": "2013-09-02 00:00:00.000"
                                },
                                {
                                    "0": "114003",
                                    "1": "873",
                                    "2": "55533",
                                    "3": "2",
                                    "4": "2013-09-02 00:00:00.000",
                                    "5": "S",
                                    "6": "1",
                                    "7": "2.2900",
                                    "8": "2013-09-02 00:00:00.000"
                                },
                                {
                                    "0": "114004",
                                    "1": "879",
                                    "2": "55533",
                                    "3": "3",
                                    "4": "2013-09-02 00:00:00.000",
                                    "5": "S",
                                    "6": "1",
                                    "7": "159.0000",
                                    "8": "2013-09-02 00:00:00.000"
                                },
                                {
                                    "0": "114005",
                                    "1": "922",
                                    "2": "55533",
                                    "3": "1",
                                    "4": "2013-09-02 00:00:00.000",
                                    "5": "S",
                                    "6": "1",
                                    "7": "3.9900",
                                    "8": "2013-09-02 00:00:00.000"
                                },
                                {
                                    "0": "114006",
                                    "1": "873",
                                    "2": "55534",
                                    "3": "3",
                                    "4": "2013-09-02 00:00:00.000",
                                    "5": "S",
                                    "6": "1",
                                    "7": "2.2900",
                                    "8": "2013-09-02 00:00:00.000"
                                },
                                {
                                    "0": "114007",
                                    "1": "923",
                                    "2": "55534",
                                    "3": "1",
                                    "4": "2013-09-02 00:00:00.000",
                                    "5": "S",
                                    "6": "1",
                                    "7": "4.9900",
                                    "8": "2013-09-02 00:00:00.000"
                                },
                                {
                                    "0": "114008",
                                    "1": "934",
                                    "2": "55534",
                                    "3": "2",
                                    "4": "2013-09-02 00:00:00.000",
                                    "5": "S",
                                    "6": "1",
                                    "7": "28.9900",
                                    "8": "2013-09-02 00:00:00.000"
                                },
                                {
                                    "0": "114009",
                                    "1": "711",
                                    "2": "55535",
                                    "3": "2",
                                    "4": "2013-09-02 00:00:00.000",
                                    "5": "S",
                                    "6": "1",
                                    "7": "34.9900",
                                    "8": "2013-09-02 00:00:00.000"
                                },
                                {
                                    "0": "114010",
                                    "1": "923",
                                    "2": "55535",
                                    "3": "1",
                                    "4": "2013-09-02 00:00:00.000",
                                    "5": "S",
                                    "6": "1",
                                    "7": "4.9900",
                                    "8": "2013-09-02 00:00:00.000"
                                },
                                {
                                    "0": "114011",
                                    "1": "708",
                                    "2": "55536",
                                    "3": "3",
                                    "4": "2013-09-02 00:00:00.000",
                                    "5": "S",
                                    "6": "1",
                                    "7": "34.9900",
                                    "8": "2013-09-02 00:00:00.000"
                                },
                                {
                                    "0": "114012",
                                    "1": "921",
                                    "2": "55536",
                                    "3": "2",
                                    "4": "2013-09-02 00:00:00.000",
                                    "5": "S",
                                    "6": "1",
                                    "7": "4.9900",
                                    "8": "2013-09-02 00:00:00.000"
                                },
                                {
                                    "0": "114013",
                                    "1": "930",
                                    "2": "55536",
                                    "3": "1",
                                    "4": "2013-09-02 00:00:00.000",
                                    "5": "S",
                                    "6": "1",
                                    "7": "35.0000",
                                    "8": "2013-09-02 00:00:00.000"
                                },
                                {
                                    "0": "114014",
                                    "1": "867",
                                    "2": "55537",
                                    "3": "2",
                                    "4": "2013-09-02 00:00:00.000",
                                    "5": "S",
                                    "6": "1",
                                    "7": "69.9900",
                                    "8": "2013-09-02 00:00:00.000"
                                },
                                {
                                    "0": "114015",
                                    "1": "980",
                                    "2": "55537",
                                    "3": "1",
                                    "4": "2013-09-02 00:00:00.000",
                                    "5": "S",
                                    "6": "1",
                                    "7": "769.4900",
                                    "8": "2013-09-02 00:00:00.000"
                                },
                                {
                                    "0": "114016",
                                    "1": "983",
                                    "2": "55538",
                                    "3": "1",
                                    "4": "2013-09-02 00:00:00.000",
                                    "5": "S",
                                    "6": "1",
                                    "7": "769.4900",
                                    "8": "2013-09-02 00:00:00.000"
                                },
                                {
                                    "0": "114017",
                                    "1": "932",
                                    "2": "55539",
                                    "3": "2",
                                    "4": "2013-09-02 00:00:00.000",
                                    "5": "S",
                                    "6": "1",
                                    "7": "24.9900",
                                    "8": "2013-09-02 00:00:00.000"
                                },
                                {
                                    "0": "114018",
                                    "1": "973",
                                    "2": "55539",
                                    "3": "1",
                                    "4": "2013-09-02 00:00:00.000",
                                    "5": "S",
                                    "6": "1",
                                    "7": "1700.9900",
                                    "8": "2013-09-02 00:00:00.000"
                                },
                                {
                                    "0": "114019",
                                    "1": "711",
                                    "2": "55540",
                                    "3": "4",
                                    "4": "2013-09-02 00:00:00.000",
                                    "5": "S",
                                    "6": "1",
                                    "7": "34.9900",
                                    "8": "2013-09-02 00:00:00.000"
                                },
                                {
                                    "0": "114020",
                                    "1": "859",
                                    "2": "55540",
                                    "3": "5",
                                    "4": "2013-09-02 00:00:00.000",
                                    "5": "S",
                                    "6": "1",
                                    "7": "24.4900",
                                    "8": "2013-09-02 00:00:00.000"
                                },
                                {
                                    "0": "114021",
                                    "1": "870",
                                    "2": "55540",
                                    "3": "2",
                                    "4": "2013-09-02 00:00:00.000",
                                    "5": "S",
                                    "6": "1",
                                    "7": "4.9900",
                                    "8": "2013-09-02 00:00:00.000"
                                },
                                {
                                    "0": "114022",
                                    "1": "872",
                                    "2": "55540",
                                    "3": "3",
                                    "4": "2013-09-02 00:00:00.000",
                                    "5": "S",
                                    "6": "1",
                                    "7": "8.9900",
                                    "8": "2013-09-02 00:00:00.000"
                                },
                                {
                                    "0": "114023",
                                    "1": "997",
                                    "2": "55540",
                                    "3": "1",
                                    "4": "2013-09-02 00:00:00.000",
                                    "5": "S",
                                    "6": "1",
                                    "7": "539.9900",
                                    "8": "2013-09-02 00:00:00.000"
                                },
                                {
                                    "0": "114024",
                                    "1": "711",
                                    "2": "55541",
                                    "3": "2",
                                    "4": "2013-09-02 00:00:00.000",
                                    "5": "S",
                                    "6": "1",
                                    "7": "34.9900",
                                    "8": "2013-09-02 00:00:00.000"
                                },
                                {
                                    "0": "114025",
                                    "1": "795",
                                    "2": "55541",
                                    "3": "1",
                                    "4": "2013-09-02 00:00:00.000",
                                    "5": "S",
                                    "6": "1",
                                    "7": "2443.3500",
                                    "8": "2013-09-02 00:00:00.000"
                                },
                                {
                                    "0": "114026",
                                    "1": "707",
                                    "2": "55542",
                                    "3": "2",
                                    "4": "2013-09-02 00:00:00.000",
                                    "5": "S",
                                    "6": "1",
                                    "7": "34.9900",
                                    "8": "2013-09-02 00:00:00.000"
                                },
                                {
                                    "0": "114027",
                                    "1": "795",
                                    "2": "55542",
                                    "3": "1",
                                    "4": "2013-09-02 00:00:00.000",
                                    "5": "S",
                                    "6": "1",
                                    "7": "2443.3500",
                                    "8": "2013-09-02 00:00:00.000"
                                },
                                {
                                    "0": "114028",
                                    "1": "707",
                                    "2": "55543",
                                    "3": "4",
                                    "4": "2013-09-02 00:00:00.000",
                                    "5": "S",
                                    "6": "1",
                                    "7": "34.9900",
                                    "8": "2013-09-02 00:00:00.000"
                                },
                                {
                                    "0": "114029",
                                    "1": "782",
                                    "2": "55543",
                                    "3": "1",
                                    "4": "2013-09-02 00:00:00.000",
                                    "5": "S",
                                    "6": "1",
                                    "7": "2294.9900",
                                    "8": "2013-09-02 00:00:00.000"
                                },
                                {
                                    "0": "114030",
                                    "1": "858",
                                    "2": "55543",
                                    "3": "5",
                                    "4": "2013-09-02 00:00:00.000",
                                    "5": "S",
                                    "6": "1",
                                    "7": "24.4900",
                                    "8": "2013-09-02 00:00:00.000"
                                },
                                {
                                    "0": "114031",
                                    "1": "921",
                                    "2": "55543",
                                    "3": "3",
                                    "4": "2013-09-02 00:00:00.000",
                                    "5": "S",
                                    "6": "1",
                                    "7": "4.9900",
                                    "8": "2013-09-02 00:00:00.000"
                                },
                                {
                                    "0": "114032",
                                    "1": "930",
                                    "2": "55543",
                                    "3": "2",
                                    "4": "2013-09-02 00:00:00.000",
                                    "5": "S",
                                    "6": "1",
                                    "7": "35.0000",
                                    "8": "2013-09-02 00:00:00.000"
                                },
                                {
                                    "0": "114033",
                                    "1": "707",
                                    "2": "55544",
                                    "3": "2",
                                    "4": "2013-09-02 00:00:00.000",
                                    "5": "S",
                                    "6": "1",
                                    "7": "34.9900",
                                    "8": "2013-09-02 00:00:00.000"
                                },
                                {
                                    "0": "114034",
                                    "1": "971",
                                    "2": "55544",
                                    "3": "1",
                                    "4": "2013-09-02 00:00:00.000",
                                    "5": "S",
                                    "6": "1",
                                    "7": "1214.8500",
                                    "8": "2013-09-02 00:00:00.000"
                                },
                                {
                                    "0": "114035",
                                    "1": "712",
                                    "2": "55545",
                                    "3": "4",
                                    "4": "2013-09-02 00:00:00.000",
                                    "5": "S",
                                    "6": "1",
                                    "7": "8.9900",
                                    "8": "2013-09-02 00:00:00.000"
                                },
                                {
                                    "0": "114036",
                                    "1": "870",
                                    "2": "55545",
                                    "3": "2",
                                    "4": "2013-09-02 00:00:00.000",
                                    "5": "S",
                                    "6": "1",
                                    "7": "4.9900",
                                    "8": "2013-09-02 00:00:00.000"
                                },
                                {
                                    "0": "114037",
                                    "1": "872",
                                    "2": "55545",
                                    "3": "3",
                                    "4": "2013-09-02 00:00:00.000",
                                    "5": "S",
                                    "6": "1",
                                    "7": "8.9900",
                                    "8": "2013-09-02 00:00:00.000"
                                },
                                {
                                    "0": "114038",
                                    "1": "967",
                                    "2": "55545",
                                    "3": "1",
                                    "4": "2013-09-02 00:00:00.000",
                                    "5": "S",
                                    "6": "1",
                                    "7": "2384.0700",
                                    "8": "2013-09-02 00:00:00.000"
                                },
                                {
                                    "0": "114039",
                                    "1": "934",
                                    "2": "55546",
                                    "3": "2",
                                    "4": "2013-09-02 00:00:00.000",
                                    "5": "S",
                                    "6": "1",
                                    "7": "28.9900",
                                    "8": "2013-09-02 00:00:00.000"
                                },
                                {
                                    "0": "114040",
                                    "1": "967",
                                    "2": "55546",
                                    "3": "1",
                                    "4": "2013-09-02 00:00:00.000",
                                    "5": "S",
                                    "6": "1",
                                    "7": "2384.0700",
                                    "8": "2013-09-02 00:00:00.000"
                                },
                                {
                                    "0": "114041",
                                    "1": "884",
                                    "2": "55547",
                                    "3": "2",
                                    "4": "2013-09-02 00:00:00.000",
                                    "5": "S",
                                    "6": "1",
                                    "7": "53.9900",
                                    "8": "2013-09-02 00:00:00.000"
                                },
                                {
                                    "0": "114042",
                                    "1": "968",
                                    "2": "55547",
                                    "3": "1",
                                    "4": "2013-09-02 00:00:00.000",
                                    "5": "S",
                                    "6": "1",
                                    "7": "2384.0700",
                                    "8": "2013-09-02 00:00:00.000"
                                },
                                {
                                    "0": "114043",
                                    "1": "797",
                                    "2": "55548",
                                    "3": "1",
                                    "4": "2013-09-02 00:00:00.000",
                                    "5": "S",
                                    "6": "1",
                                    "7": "1120.4900",
                                    "8": "2013-09-02 00:00:00.000"
                                },
                                {
                                    "0": "114044",
                                    "1": "870",
                                    "2": "55548",
                                    "3": "2",
                                    "4": "2013-09-02 00:00:00.000",
                                    "5": "S",
                                    "6": "1",
                                    "7": "4.9900",
                                    "8": "2013-09-02 00:00:00.000"
                                },
                                {
                                    "0": "114045",
                                    "1": "872",
                                    "2": "55548",
                                    "3": "3",
                                    "4": "2013-09-02 00:00:00.000",
                                    "5": "S",
                                    "6": "1",
                                    "7": "8.9900",
                                    "8": "2013-09-02 00:00:00.000"
                                },
                                {
                                    "0": "114046",
                                    "1": "880",
                                    "2": "55548",
                                    "3": "4",
                                    "4": "2013-09-02 00:00:00.000",
                                    "5": "S",
                                    "6": "1",
                                    "7": "54.9900",
                                    "8": "2013-09-02 00:00:00.000"
                                },
                                {
                                    "0": "114047",
                                    "1": "711",
                                    "2": "55549",
                                    "3": "2",
                                    "4": "2013-09-02 00:00:00.000",
                                    "5": "S",
                                    "6": "1",
                                    "7": "34.9900",
                                    "8": "2013-09-02 00:00:00.000"
                                },
                                {
                                    "0": "114048",
                                    "1": "801",
                                    "2": "55549",
                                    "3": "1",
                                    "4": "2013-09-02 00:00:00.000",
                                    "5": "S",
                                    "6": "1",
                                    "7": "1120.4900",
                                    "8": "2013-09-02 00:00:00.000"
                                },
                                {
                                    "0": "114049",
                                    "1": "712",
                                    "2": "55550",
                                    "3": "4",
                                    "4": "2013-09-02 00:00:00.000",
                                    "5": "S",
                                    "6": "1",
                                    "7": "8.9900",
                                    "8": "2013-09-02 00:00:00.000"
                                },
                                {
                                    "0": "114050",
                                    "1": "870",
                                    "2": "55550",
                                    "3": "2",
                                    "4": "2013-09-02 00:00:00.000",
                                    "5": "S",
                                    "6": "1",
                                    "7": "4.9900",
                                    "8": "2013-09-02 00:00:00.000"
                                },
                                {
                                    "0": "114051",
                                    "1": "872",
                                    "2": "55550",
                                    "3": "3",
                                    "4": "2013-09-02 00:00:00.000",
                                    "5": "S",
                                    "6": "1",
                                    "7": "8.9900",
                                    "8": "2013-09-02 00:00:00.000"
                                },
                                {
                                    "0": "114052",
                                    "1": "998",
                                    "2": "55550",
                                    "3": "1",
                                    "4": "2013-09-02 00:00:00.000",
                                    "5": "S",
                                    "6": "1",
                                    "7": "539.9900",
                                    "8": "2013-09-02 00:00:00.000"
                                },
                                {
                                    "0": "114053",
                                    "1": "711",
                                    "2": "55551",
                                    "3": "4",
                                    "4": "2013-09-02 00:00:00.000",
                                    "5": "S",
                                    "6": "1",
                                    "7": "34.9900",
                                    "8": "2013-09-02 00:00:00.000"
                                },
                                {
                                    "0": "114054",
                                    "1": "870",
                                    "2": "55551",
                                    "3": "2",
                                    "4": "2013-09-02 00:00:00.000",
                                    "5": "S",
                                    "6": "1",
                                    "7": "4.9900",
                                    "8": "2013-09-02 00:00:00.000"
                                },
                                {
                                    "0": "114055",
                                    "1": "872",
                                    "2": "55551",
                                    "3": "3",
                                    "4": "2013-09-02 00:00:00.000",
                                    "5": "S",
                                    "6": "1",
                                    "7": "8.9900",
                                    "8": "2013-09-02 00:00:00.000"
                                },
                                {
                                    "0": "114056",
                                    "1": "997",
                                    "2": "55551",
                                    "3": "1",
                                    "4": "2013-09-02 00:00:00.000",
                                    "5": "S",
                                    "6": "1",
                                    "7": "539.9900",
                                    "8": "2013-09-02 00:00:00.000"
                                },
                                {
                                    "0": "114057",
                                    "1": "870",
                                    "2": "55552",
                                    "3": "3",
                                    "4": "2013-09-02 00:00:00.000",
                                    "5": "S",
                                    "6": "1",
                                    "7": "4.9900",
                                    "8": "2013-09-02 00:00:00.000"
                                },
                                {
                                    "0": "114058",
                                    "1": "872",
                                    "2": "55552",
                                    "3": "2",
                                    "4": "2013-09-02 00:00:00.000",
                                    "5": "S",
                                    "6": "1",
                                    "7": "8.9900",
                                    "8": "2013-09-02 00:00:00.000"
                                },
                                {
                                    "0": "114059",
                                    "1": "977",
                                    "2": "55552",
                                    "3": "1",
                                    "4": "2013-09-02 00:00:00.000",
                                    "5": "S",
                                    "6": "1",
                                    "7": "539.9900",
                                    "8": "2013-09-02 00:00:00.000"
                                },
                                {
                                    "0": "114060",
                                    "1": "711",
                                    "2": "55553",
                                    "3": "2",
                                    "4": "2013-09-02 00:00:00.000",
                                    "5": "S",
                                    "6": "1",
                                    "7": "34.9900",
                                    "8": "2013-09-02 00:00:00.000"
                                },
                                {
                                    "0": "114061",
                                    "1": "957",
                                    "2": "55553",
                                    "3": "1",
                                    "4": "2013-09-02 00:00:00.000",
                                    "5": "S",
                                    "6": "1",
                                    "7": "2384.0700",
                                    "8": "2013-09-02 00:00:00.000"
                                },
                                {
                                    "0": "114062",
                                    "1": "934",
                                    "2": "55554",
                                    "3": "2",
                                    "4": "2013-09-02 00:00:00.000",
                                    "5": "S",
                                    "6": "1",
                                    "7": "28.9900",
                                    "8": "2013-09-02 00:00:00.000"
                                },
                                {
                                    "0": "114063",
                                    "1": "969",
                                    "2": "55554",
                                    "3": "1",
                                    "4": "2013-09-02 00:00:00.000",
                                    "5": "S",
                                    "6": "1",
                                    "7": "2384.0700",
                                    "8": "2013-09-02 00:00:00.000"
                                }
                            ]
                        },
                        "text/html": [
                            "<table>",
                            "<tr><th>TransactionID</th><th>ProductID</th><th>ReferenceOrderID</th><th>ReferenceOrderLineID</th><th>TransactionDate</th><th>TransactionType</th><th>Quantity</th><th>ActualCost</th><th>ModifiedDate</th></tr>",
                            "<tr><td>113495</td><td>816</td><td>44534</td><td>0</td><td>2013-09-01 00:00:00.000</td><td>W</td><td>2</td><td>0.0000</td><td>2013-09-01 00:00:00.000</td></tr>",
                            "<tr><td>113496</td><td>818</td><td>44535</td><td>0</td><td>2013-09-01 00:00:00.000</td><td>W</td><td>3</td><td>0.0000</td><td>2013-09-01 00:00:00.000</td></tr>",
                            "<tr><td>113497</td><td>819</td><td>44536</td><td>0</td><td>2013-09-01 00:00:00.000</td><td>W</td><td>2</td><td>0.0000</td><td>2013-09-01 00:00:00.000</td></tr>",
                            "<tr><td>113498</td><td>820</td><td>44537</td><td>0</td><td>2013-09-01 00:00:00.000</td><td>W</td><td>5</td><td>0.0000</td><td>2013-09-01 00:00:00.000</td></tr>",
                            "<tr><td>113499</td><td>821</td><td>44538</td><td>0</td><td>2013-09-01 00:00:00.000</td><td>W</td><td>3</td><td>0.0000</td><td>2013-09-01 00:00:00.000</td></tr>",
                            "<tr><td>113500</td><td>823</td><td>44539</td><td>0</td><td>2013-09-01 00:00:00.000</td><td>W</td><td>2</td><td>0.0000</td><td>2013-09-01 00:00:00.000</td></tr>",
                            "<tr><td>113501</td><td>824</td><td>44540</td><td>0</td><td>2013-09-01 00:00:00.000</td><td>W</td><td>2</td><td>0.0000</td><td>2013-09-01 00:00:00.000</td></tr>",
                            "<tr><td>113502</td><td>826</td><td>44541</td><td>0</td><td>2013-09-01 00:00:00.000</td><td>W</td><td>3</td><td>0.0000</td><td>2013-09-01 00:00:00.000</td></tr>",
                            "<tr><td>113503</td><td>827</td><td>44542</td><td>0</td><td>2013-09-01 00:00:00.000</td><td>W</td><td>2</td><td>0.0000</td><td>2013-09-01 00:00:00.000</td></tr>",
                            "<tr><td>113504</td><td>828</td><td>44543</td><td>0</td><td>2013-09-01 00:00:00.000</td><td>W</td><td>5</td><td>0.0000</td><td>2013-09-01 00:00:00.000</td></tr>",
                            "<tr><td>113505</td><td>829</td><td>44544</td><td>0</td><td>2013-09-01 00:00:00.000</td><td>W</td><td>3</td><td>0.0000</td><td>2013-09-01 00:00:00.000</td></tr>",
                            "<tr><td>113506</td><td>834</td><td>44545</td><td>0</td><td>2013-09-01 00:00:00.000</td><td>W</td><td>1</td><td>0.0000</td><td>2013-09-01 00:00:00.000</td></tr>",
                            "<tr><td>113507</td><td>835</td><td>44546</td><td>0</td><td>2013-09-01 00:00:00.000</td><td>W</td><td>1</td><td>0.0000</td><td>2013-09-01 00:00:00.000</td></tr>",
                            "<tr><td>113508</td><td>838</td><td>44547</td><td>0</td><td>2013-09-01 00:00:00.000</td><td>W</td><td>1</td><td>0.0000</td><td>2013-09-01 00:00:00.000</td></tr>",
                            "<tr><td>113509</td><td>840</td><td>44548</td><td>0</td><td>2013-09-01 00:00:00.000</td><td>W</td><td>2</td><td>0.0000</td><td>2013-09-01 00:00:00.000</td></tr>",
                            "<tr><td>113510</td><td>886</td><td>44549</td><td>0</td><td>2013-09-01 00:00:00.000</td><td>W</td><td>1</td><td>0.0000</td><td>2013-09-01 00:00:00.000</td></tr>",
                            "<tr><td>113511</td><td>890</td><td>44550</td><td>0</td><td>2013-09-01 00:00:00.000</td><td>W</td><td>1</td><td>0.0000</td><td>2013-09-01 00:00:00.000</td></tr>",
                            "<tr><td>113512</td><td>891</td><td>44551</td><td>0</td><td>2013-09-01 00:00:00.000</td><td>W</td><td>1</td><td>0.0000</td><td>2013-09-01 00:00:00.000</td></tr>",
                            "<tr><td>113513</td><td>894</td><td>44552</td><td>0</td><td>2013-09-01 00:00:00.000</td><td>W</td><td>17</td><td>0.0000</td><td>2013-09-01 00:00:00.000</td></tr>",
                            "<tr><td>113514</td><td>925</td><td>44553</td><td>0</td><td>2013-09-01 00:00:00.000</td><td>W</td><td>1</td><td>0.0000</td><td>2013-09-01 00:00:00.000</td></tr>",
                            "<tr><td>113515</td><td>943</td><td>44554</td><td>0</td><td>2013-09-01 00:00:00.000</td><td>W</td><td>1</td><td>0.0000</td><td>2013-09-01 00:00:00.000</td></tr>",
                            "<tr><td>113516</td><td>945</td><td>44555</td><td>0</td><td>2013-09-01 00:00:00.000</td><td>W</td><td>17</td><td>0.0000</td><td>2013-09-01 00:00:00.000</td></tr>",
                            "<tr><td>113517</td><td>946</td><td>44556</td><td>0</td><td>2013-09-01 00:00:00.000</td><td>W</td><td>1</td><td>0.0000</td><td>2013-09-01 00:00:00.000</td></tr>",
                            "<tr><td>113518</td><td>947</td><td>44557</td><td>0</td><td>2013-09-01 00:00:00.000</td><td>W</td><td>2</td><td>0.0000</td><td>2013-09-01 00:00:00.000</td></tr>",
                            "<tr><td>113519</td><td>949</td><td>44558</td><td>0</td><td>2013-09-01 00:00:00.000</td><td>W</td><td>6</td><td>0.0000</td><td>2013-09-01 00:00:00.000</td></tr>",
                            "<tr><td>113520</td><td>950</td><td>44559</td><td>0</td><td>2013-09-01 00:00:00.000</td><td>W</td><td>9</td><td>0.0000</td><td>2013-09-01 00:00:00.000</td></tr>",
                            "<tr><td>113521</td><td>951</td><td>44560</td><td>0</td><td>2013-09-01 00:00:00.000</td><td>W</td><td>2</td><td>0.0000</td><td>2013-09-01 00:00:00.000</td></tr>",
                            "<tr><td>113522</td><td>994</td><td>44561</td><td>0</td><td>2013-09-01 00:00:00.000</td><td>W</td><td>7</td><td>0.0000</td><td>2013-09-01 00:00:00.000</td></tr>",
                            "<tr><td>113523</td><td>995</td><td>44562</td><td>0</td><td>2013-09-01 00:00:00.000</td><td>W</td><td>3</td><td>0.0000</td><td>2013-09-01 00:00:00.000</td></tr>",
                            "<tr><td>113524</td><td>996</td><td>44563</td><td>0</td><td>2013-09-01 00:00:00.000</td><td>W</td><td>7</td><td>0.0000</td><td>2013-09-01 00:00:00.000</td></tr>",
                            "<tr><td>113525</td><td>3</td><td>44564</td><td>0</td><td>2013-09-01 00:00:00.000</td><td>W</td><td>170</td><td>0.0000</td><td>2013-09-01 00:00:00.000</td></tr>",
                            "<tr><td>113526</td><td>324</td><td>44565</td><td>0</td><td>2013-09-01 00:00:00.000</td><td>W</td><td>34</td><td>0.0000</td><td>2013-09-01 00:00:00.000</td></tr>",
                            "<tr><td>113494</td><td>815</td><td>44533</td><td>0</td><td>2013-09-01 00:00:00.000</td><td>W</td><td>2</td><td>0.0000</td><td>2013-09-01 00:00:00.000</td></tr>",
                            "<tr><td>113493</td><td>813</td><td>44532</td><td>0</td><td>2013-09-01 00:00:00.000</td><td>W</td><td>5</td><td>0.0000</td><td>2013-09-01 00:00:00.000</td></tr>",
                            "<tr><td>113492</td><td>812</td><td>44531</td><td>0</td><td>2013-09-01 00:00:00.000</td><td>W</td><td>2</td><td>0.0000</td><td>2013-09-01 00:00:00.000</td></tr>",
                            "<tr><td>113491</td><td>811</td><td>44530</td><td>0</td><td>2013-09-01 00:00:00.000</td><td>W</td><td>3</td><td>0.0000</td><td>2013-09-01 00:00:00.000</td></tr>",
                            "<tr><td>113490</td><td>810</td><td>44529</td><td>0</td><td>2013-09-01 00:00:00.000</td><td>W</td><td>2</td><td>0.0000</td><td>2013-09-01 00:00:00.000</td></tr>",
                            "<tr><td>113489</td><td>808</td><td>44528</td><td>0</td><td>2013-09-01 00:00:00.000</td><td>W</td><td>2</td><td>0.0000</td><td>2013-09-01 00:00:00.000</td></tr>",
                            "<tr><td>113488</td><td>807</td><td>44527</td><td>0</td><td>2013-09-01 00:00:00.000</td><td>W</td><td>2</td><td>0.0000</td><td>2013-09-01 00:00:00.000</td></tr>",
                            "<tr><td>113487</td><td>806</td><td>44526</td><td>0</td><td>2013-09-01 00:00:00.000</td><td>W</td><td>9</td><td>0.0000</td><td>2013-09-01 00:00:00.000</td></tr>",
                            "<tr><td>113486</td><td>805</td><td>44525</td><td>0</td><td>2013-09-01 00:00:00.000</td><td>W</td><td>6</td><td>0.0000</td><td>2013-09-01 00:00:00.000</td></tr>",
                            "<tr><td>113485</td><td>742</td><td>44524</td><td>0</td><td>2013-09-01 00:00:00.000</td><td>W</td><td>1</td><td>0.0000</td><td>2013-09-01 00:00:00.000</td></tr>",
                            "<tr><td>113484</td><td>739</td><td>44523</td><td>0</td><td>2013-09-01 00:00:00.000</td><td>W</td><td>1</td><td>0.0000</td><td>2013-09-01 00:00:00.000</td></tr>",
                            "<tr><td>113483</td><td>737</td><td>44522</td><td>0</td><td>2013-09-01 00:00:00.000</td><td>W</td><td>3</td><td>0.0000</td><td>2013-09-01 00:00:00.000</td></tr>",
                            "<tr><td>113482</td><td>706</td><td>44521</td><td>0</td><td>2013-09-01 00:00:00.000</td><td>W</td><td>1</td><td>0.0000</td><td>2013-09-01 00:00:00.000</td></tr>",
                            "<tr><td>113481</td><td>680</td><td>44520</td><td>0</td><td>2013-09-01 00:00:00.000</td><td>W</td><td>1</td><td>0.0000</td><td>2013-09-01 00:00:00.000</td></tr>",
                            "<tr><td>113480</td><td>522</td><td>44519</td><td>0</td><td>2013-09-01 00:00:00.000</td><td>W</td><td>2</td><td>0.0000</td><td>2013-09-01 00:00:00.000</td></tr>",
                            "<tr><td>113479</td><td>520</td><td>44518</td><td>0</td><td>2013-09-01 00:00:00.000</td><td>W</td><td>1</td><td>0.0000</td><td>2013-09-01 00:00:00.000</td></tr>",
                            "<tr><td>113478</td><td>519</td><td>44517</td><td>0</td><td>2013-09-01 00:00:00.000</td><td>W</td><td>5</td><td>0.0000</td><td>2013-09-01 00:00:00.000</td></tr>",
                            "<tr><td>113477</td><td>518</td><td>44516</td><td>0</td><td>2013-09-01 00:00:00.000</td><td>W</td><td>2</td><td>0.0000</td><td>2013-09-01 00:00:00.000</td></tr>",
                            "<tr><td>113476</td><td>517</td><td>44515</td><td>0</td><td>2013-09-01 00:00:00.000</td><td>W</td><td>3</td><td>0.0000</td><td>2013-09-01 00:00:00.000</td></tr>",
                            "<tr><td>113475</td><td>516</td><td>44514</td><td>0</td><td>2013-09-01 00:00:00.000</td><td>W</td><td>2</td><td>0.0000</td><td>2013-09-01 00:00:00.000</td></tr>",
                            "<tr><td>113474</td><td>514</td><td>44513</td><td>0</td><td>2013-09-01 00:00:00.000</td><td>W</td><td>2</td><td>0.0000</td><td>2013-09-01 00:00:00.000</td></tr>",
                            "<tr><td>113473</td><td>998</td><td>44512</td><td>0</td><td>2013-09-01 00:00:00.000</td><td>W</td><td>3</td><td>0.0000</td><td>2013-09-01 00:00:00.000</td></tr>",
                            "<tr><td>113472</td><td>991</td><td>44511</td><td>0</td><td>2013-09-01 00:00:00.000</td><td>W</td><td>1</td><td>0.0000</td><td>2013-09-01 00:00:00.000</td></tr>",
                            "<tr><td>113471</td><td>989</td><td>44510</td><td>0</td><td>2013-09-01 00:00:00.000</td><td>W</td><td>1</td><td>0.0000</td><td>2013-09-01 00:00:00.000</td></tr>",
                            "<tr><td>113470</td><td>975</td><td>44509</td><td>0</td><td>2013-09-01 00:00:00.000</td><td>W</td><td>1</td><td>0.0000</td><td>2013-09-01 00:00:00.000</td></tr>",
                            "<tr><td>113469</td><td>967</td><td>44508</td><td>0</td><td>2013-09-01 00:00:00.000</td><td>W</td><td>1</td><td>0.0000</td><td>2013-09-01 00:00:00.000</td></tr>",
                            "<tr><td>113468</td><td>966</td><td>44507</td><td>0</td><td>2013-09-01 00:00:00.000</td><td>W</td><td>1</td><td>0.0000</td><td>2013-09-01 00:00:00.000</td></tr>",
                            "<tr><td>113467</td><td>965</td><td>44506</td><td>0</td><td>2013-09-01 00:00:00.000</td><td>W</td><td>1</td><td>0.0000</td><td>2013-09-01 00:00:00.000</td></tr>",
                            "<tr><td>113466</td><td>799</td><td>44505</td><td>0</td><td>2013-09-01 00:00:00.000</td><td>W</td><td>1</td><td>0.0000</td><td>2013-09-01 00:00:00.000</td></tr>",
                            "<tr><td>113465</td><td>796</td><td>44504</td><td>0</td><td>2013-09-01 00:00:00.000</td><td>W</td><td>1</td><td>0.0000</td><td>2013-09-01 00:00:00.000</td></tr>",
                            "<tr><td>113464</td><td>795</td><td>44503</td><td>0</td><td>2013-09-01 00:00:00.000</td><td>W</td><td>2</td><td>0.0000</td><td>2013-09-01 00:00:00.000</td></tr>",
                            "<tr><td>113463</td><td>793</td><td>44502</td><td>0</td><td>2013-09-01 00:00:00.000</td><td>W</td><td>1</td><td>0.0000</td><td>2013-09-01 00:00:00.000</td></tr>",
                            "<tr><td>113462</td><td>792</td><td>44501</td><td>0</td><td>2013-09-01 00:00:00.000</td><td>W</td><td>1</td><td>0.0000</td><td>2013-09-01 00:00:00.000</td></tr>",
                            "<tr><td>113461</td><td>781</td><td>44500</td><td>0</td><td>2013-09-01 00:00:00.000</td><td>W</td><td>1</td><td>0.0000</td><td>2013-09-01 00:00:00.000</td></tr>",
                            "<tr><td>113460</td><td>780</td><td>44499</td><td>0</td><td>2013-09-01 00:00:00.000</td><td>W</td><td>1</td><td>0.0000</td><td>2013-09-01 00:00:00.000</td></tr>",
                            "<tr><td>113459</td><td>497</td><td>772</td><td>1</td><td>2013-09-01 00:00:00.000</td><td>P</td><td>3</td><td>34.1880</td><td>2013-09-01 00:00:00.000</td></tr>",
                            "<tr><td>113458</td><td>504</td><td>771</td><td>1</td><td>2013-09-01 00:00:00.000</td><td>P</td><td>3</td><td>48.7620</td><td>2013-09-01 00:00:00.000</td></tr>",
                            "<tr><td>113457</td><td>322</td><td>770</td><td>3</td><td>2013-09-01 00:00:00.000</td><td>P</td><td>60</td><td>26.3655</td><td>2013-09-01 00:00:00.000</td></tr>",
                            "<tr><td>113456</td><td>321</td><td>770</td><td>2</td><td>2013-09-01 00:00:00.000</td><td>P</td><td>3</td><td>40.4880</td><td>2013-09-01 00:00:00.000</td></tr>",
                            "<tr><td>113455</td><td>320</td><td>770</td><td>1</td><td>2013-09-01 00:00:00.000</td><td>P</td><td>3</td><td>45.3705</td><td>2013-09-01 00:00:00.000</td></tr>",
                            "<tr><td>113454</td><td>941</td><td>769</td><td>1</td><td>2013-09-01 00:00:00.000</td><td>P</td><td>550</td><td>62.9895</td><td>2013-09-01 00:00:00.000</td></tr>",
                            "<tr><td>113453</td><td>442</td><td>768</td><td>5</td><td>2013-09-01 00:00:00.000</td><td>P</td><td>3</td><td>43.3965</td><td>2013-09-01 00:00:00.000</td></tr>",
                            "<tr><td>113452</td><td>441</td><td>768</td><td>4</td><td>2013-09-01 00:00:00.000</td><td>P</td><td>3</td><td>39.1230</td><td>2013-09-01 00:00:00.000</td></tr>",
                            "<tr><td>113451</td><td>440</td><td>768</td><td>3</td><td>2013-09-01 00:00:00.000</td><td>P</td><td>3</td><td>41.2230</td><td>2013-09-01 00:00:00.000</td></tr>",
                            "<tr><td>113450</td><td>439</td><td>768</td><td>2</td><td>2013-09-01 00:00:00.000</td><td>P</td><td>3</td><td>45.4965</td><td>2013-09-01 00:00:00.000</td></tr>",
                            "<tr><td>113449</td><td>438</td><td>768</td><td>1</td><td>2013-09-01 00:00:00.000</td><td>P</td><td>3</td><td>41.2230</td><td>2013-09-01 00:00:00.000</td></tr>",
                            "<tr><td>113448</td><td>322</td><td>767</td><td>1</td><td>2013-09-01 00:00:00.000</td><td>P</td><td>60</td><td>25.4205</td><td>2013-09-01 00:00:00.000</td></tr>",
                            "<tr><td>113447</td><td>437</td><td>766</td><td>2</td><td>2013-09-01 00:00:00.000</td><td>P</td><td>3</td><td>37.0230</td><td>2013-09-01 00:00:00.000</td></tr>",
                            "<tr><td>113446</td><td>436</td><td>766</td><td>1</td><td>2013-09-01 00:00:00.000</td><td>P</td><td>3</td><td>41.2965</td><td>2013-09-01 00:00:00.000</td></tr>",
                            "<tr><td>113445</td><td>421</td><td>765</td><td>17</td><td>2013-09-01 00:00:00.000</td><td>P</td><td>3</td><td>47.5755</td><td>2013-09-01 00:00:00.000</td></tr>",
                            "<tr><td>113444</td><td>420</td><td>765</td><td>16</td><td>2013-09-01 00:00:00.000</td><td>P</td><td>3</td><td>39.1440</td><td>2013-09-01 00:00:00.000</td></tr>",
                            "<tr><td>113443</td><td>419</td><td>765</td><td>15</td><td>2013-09-01 00:00:00.000</td><td>P</td><td>3</td><td>34.8705</td><td>2013-09-01 00:00:00.000</td></tr>",
                            "<tr><td>113442</td><td>418</td><td>765</td><td>14</td><td>2013-09-01 00:00:00.000</td><td>P</td><td>3</td><td>36.9705</td><td>2013-09-01 00:00:00.000</td></tr>",
                            "<tr><td>113441</td><td>417</td><td>765</td><td>13</td><td>2013-09-01 00:00:00.000</td><td>P</td><td>3</td><td>41.2440</td><td>2013-09-01 00:00:00.000</td></tr>",
                            "<tr><td>113440</td><td>416</td><td>765</td><td>12</td><td>2013-09-01 00:00:00.000</td><td>P</td><td>3</td><td>36.9705</td><td>2013-09-01 00:00:00.000</td></tr>",
                            "<tr><td>113439</td><td>415</td><td>765</td><td>11</td><td>2013-09-01 00:00:00.000</td><td>P</td><td>3</td><td>39.0705</td><td>2013-09-01 00:00:00.000</td></tr>",
                            "<tr><td>113438</td><td>414</td><td>765</td><td>10</td><td>2013-09-01 00:00:00.000</td><td>P</td><td>3</td><td>43.3440</td><td>2013-09-01 00:00:00.000</td></tr>",
                            "<tr><td>113437</td><td>413</td><td>765</td><td>9</td><td>2013-09-01 00:00:00.000</td><td>P</td><td>3</td><td>39.0705</td><td>2013-09-01 00:00:00.000</td></tr>",
                            "<tr><td>113436</td><td>412</td><td>765</td><td>8</td><td>2013-09-01 00:00:00.000</td><td>P</td><td>3</td><td>41.1705</td><td>2013-09-01 00:00:00.000</td></tr>",
                            "<tr><td>113435</td><td>411</td><td>765</td><td>7</td><td>2013-09-01 00:00:00.000</td><td>P</td><td>3</td><td>45.4440</td><td>2013-09-01 00:00:00.000</td></tr>",
                            "<tr><td>113434</td><td>410</td><td>765</td><td>6</td><td>2013-09-01 00:00:00.000</td><td>P</td><td>3</td><td>41.1705</td><td>2013-09-01 00:00:00.000</td></tr>",
                            "<tr><td>113433</td><td>409</td><td>765</td><td>5</td><td>2013-09-01 00:00:00.000</td><td>P</td><td>3</td><td>43.2705</td><td>2013-09-01 00:00:00.000</td></tr>",
                            "<tr><td>113432</td><td>408</td><td>765</td><td>4</td><td>2013-09-01 00:00:00.000</td><td>P</td><td>3</td><td>47.5440</td><td>2013-09-01 00:00:00.000</td></tr>",
                            "<tr><td>113431</td><td>407</td><td>765</td><td>3</td><td>2013-09-01 00:00:00.000</td><td>P</td><td>3</td><td>43.2705</td><td>2013-09-01 00:00:00.000</td></tr>",
                            "<tr><td>113430</td><td>406</td><td>765</td><td>2</td><td>2013-09-01 00:00:00.000</td><td>P</td><td>3</td><td>45.3705</td><td>2013-09-01 00:00:00.000</td></tr>",
                            "<tr><td>113429</td><td>405</td><td>765</td><td>1</td><td>2013-09-01 00:00:00.000</td><td>P</td><td>3</td><td>49.6440</td><td>2013-09-01 00:00:00.000</td></tr>",
                            "<tr><td>113428</td><td>318</td><td>764</td><td>2</td><td>2013-09-01 00:00:00.000</td><td>P</td><td>550</td><td>33.5790</td><td>2013-09-01 00:00:00.000</td></tr>",
                            "<tr><td>113427</td><td>317</td><td>764</td><td>1</td><td>2013-09-01 00:00:00.000</td><td>P</td><td>550</td><td>27.0585</td><td>2013-09-01 00:00:00.000</td></tr>",
                            "<tr><td>113426</td><td>513</td><td>763</td><td>1</td><td>2013-09-01 00:00:00.000</td><td>P</td><td>550</td><td>26.5965</td><td>2013-09-01 00:00:00.000</td></tr>",
                            "<tr><td>113425</td><td>512</td><td>762</td><td>1</td><td>2013-09-01 00:00:00.000</td><td>P</td><td>550</td><td>37.0860</td><td>2013-09-01 00:00:00.000</td></tr>",
                            "<tr><td>113424</td><td>4</td><td>761</td><td>1</td><td>2013-09-01 00:00:00.000</td><td>P</td><td>3</td><td>57.0255</td><td>2013-09-01 00:00:00.000</td></tr>",
                            "<tr><td>113423</td><td>530</td><td>760</td><td>1</td><td>2013-09-01 00:00:00.000</td><td>P</td><td>550</td><td>16.0860</td><td>2013-09-01 00:00:00.000</td></tr>",
                            "<tr><td>113422</td><td>372</td><td>759</td><td>5</td><td>2013-09-01 00:00:00.000</td><td>P</td><td>3</td><td>37.1805</td><td>2013-09-01 00:00:00.000</td></tr>",
                            "<tr><td>113421</td><td>371</td><td>759</td><td>4</td><td>2013-09-01 00:00:00.000</td><td>P</td><td>3</td><td>39.2805</td><td>2013-09-01 00:00:00.000</td></tr>",
                            "<tr><td>113420</td><td>370</td><td>759</td><td>3</td><td>2013-09-01 00:00:00.000</td><td>P</td><td>3</td><td>43.5540</td><td>2013-09-01 00:00:00.000</td></tr>",
                            "<tr><td>113419</td><td>369</td><td>759</td><td>2</td><td>2013-09-01 00:00:00.000</td><td>P</td><td>3</td><td>39.2805</td><td>2013-09-01 00:00:00.000</td></tr>",
                            "<tr><td>113418</td><td>368</td><td>759</td><td>1</td><td>2013-09-01 00:00:00.000</td><td>P</td><td>3</td><td>41.3805</td><td>2013-09-01 00:00:00.000</td></tr>",
                            "<tr><td>113417</td><td>1</td><td>758</td><td>1</td><td>2013-09-01 00:00:00.000</td><td>P</td><td>3</td><td>50.2635</td><td>2013-09-01 00:00:00.000</td></tr>",
                            "<tr><td>113416</td><td>2</td><td>757</td><td>1</td><td>2013-09-01 00:00:00.000</td><td>P</td><td>3</td><td>41.9160</td><td>2013-09-01 00:00:00.000</td></tr>",
                            "<tr><td>113527</td><td>327</td><td>44566</td><td>0</td><td>2013-09-01 00:00:00.000</td><td>W</td><td>17</td><td>0.0000</td><td>2013-09-01 00:00:00.000</td></tr>",
                            "<tr><td>113528</td><td>328</td><td>44567</td><td>0</td><td>2013-09-01 00:00:00.000</td><td>W</td><td>8</td><td>0.0000</td><td>2013-09-01 00:00:00.000</td></tr>",
                            "<tr><td>113529</td><td>329</td><td>44568</td><td>0</td><td>2013-09-01 00:00:00.000</td><td>W</td><td>20</td><td>0.0000</td><td>2013-09-01 00:00:00.000</td></tr>",
                            "<tr><td>113530</td><td>330</td><td>44569</td><td>0</td><td>2013-09-01 00:00:00.000</td><td>W</td><td>6</td><td>0.0000</td><td>2013-09-01 00:00:00.000</td></tr>",
                            "<tr><td>113531</td><td>398</td><td>44570</td><td>0</td><td>2013-09-01 00:00:00.000</td><td>W</td><td>17</td><td>0.0000</td><td>2013-09-01 00:00:00.000</td></tr>",
                            "<tr><td>113532</td><td>399</td><td>44571</td><td>0</td><td>2013-09-01 00:00:00.000</td><td>W</td><td>17</td><td>0.0000</td><td>2013-09-01 00:00:00.000</td></tr>",
                            "<tr><td>113533</td><td>400</td><td>44572</td><td>0</td><td>2013-09-01 00:00:00.000</td><td>W</td><td>10</td><td>0.0000</td><td>2013-09-01 00:00:00.000</td></tr>",
                            "<tr><td>113534</td><td>401</td><td>44573</td><td>0</td><td>2013-09-01 00:00:00.000</td><td>W</td><td>24</td><td>0.0000</td><td>2013-09-01 00:00:00.000</td></tr>",
                            "<tr><td>113535</td><td>529</td><td>44574</td><td>0</td><td>2013-09-01 00:00:00.000</td><td>W</td><td>17</td><td>0.0000</td><td>2013-09-01 00:00:00.000</td></tr>",
                            "<tr><td>113536</td><td>532</td><td>44575</td><td>0</td><td>2013-09-01 00:00:00.000</td><td>W</td><td>68</td><td>0.0000</td><td>2013-09-01 00:00:00.000</td></tr>",
                            "<tr><td>113537</td><td>533</td><td>44576</td><td>0</td><td>2013-09-01 00:00:00.000</td><td>W</td><td>17</td><td>0.0000</td><td>2013-09-01 00:00:00.000</td></tr>",
                            "<tr><td>113538</td><td>534</td><td>44577</td><td>0</td><td>2013-09-01 00:00:00.000</td><td>W</td><td>17</td><td>0.0000</td><td>2013-09-01 00:00:00.000</td></tr>",
                            "<tr><td>113539</td><td>802</td><td>44578</td><td>0</td><td>2013-09-01 00:00:00.000</td><td>W</td><td>6</td><td>0.0000</td><td>2013-09-01 00:00:00.000</td></tr>",
                            "<tr><td>113540</td><td>803</td><td>44579</td><td>0</td><td>2013-09-01 00:00:00.000</td><td>W</td><td>2</td><td>0.0000</td><td>2013-09-01 00:00:00.000</td></tr>",
                            "<tr><td>113541</td><td>804</td><td>44580</td><td>0</td><td>2013-09-01 00:00:00.000</td><td>W</td><td>9</td><td>0.0000</td><td>2013-09-01 00:00:00.000</td></tr>",
                            "<tr><td>113542</td><td>316</td><td>44581</td><td>0</td><td>2013-09-01 00:00:00.000</td><td>W</td><td>34</td><td>0.0000</td><td>2013-09-01 00:00:00.000</td></tr>",
                            "<tr><td>113543</td><td>331</td><td>44582</td><td>0</td><td>2013-09-01 00:00:00.000</td><td>W</td><td>34</td><td>0.0000</td><td>2013-09-01 00:00:00.000</td></tr>",
                            "<tr><td>113544</td><td>350</td><td>44583</td><td>0</td><td>2013-09-01 00:00:00.000</td><td>W</td><td>17</td><td>0.0000</td><td>2013-09-01 00:00:00.000</td></tr>",
                            "<tr><td>113545</td><td>531</td><td>44584</td><td>0</td><td>2013-09-01 00:00:00.000</td><td>W</td><td>17</td><td>0.0000</td><td>2013-09-01 00:00:00.000</td></tr>",
                            "<tr><td>113546</td><td>713</td><td>55451</td><td>3</td><td>2013-09-01 00:00:00.000</td><td>S</td><td>1</td><td>49.9900</td><td>2013-09-01 00:00:00.000</td></tr>",
                            "<tr><td>113547</td><td>801</td><td>55451</td><td>1</td><td>2013-09-01 00:00:00.000</td><td>S</td><td>1</td><td>1120.4900</td><td>2013-09-01 00:00:00.000</td></tr>",
                            "<tr><td>113548</td><td>932</td><td>55451</td><td>2</td><td>2013-09-01 00:00:00.000</td><td>S</td><td>1</td><td>24.9900</td><td>2013-09-01 00:00:00.000</td></tr>",
                            "<tr><td>113549</td><td>800</td><td>55452</td><td>1</td><td>2013-09-01 00:00:00.000</td><td>S</td><td>1</td><td>1120.4900</td><td>2013-09-01 00:00:00.000</td></tr>",
                            "<tr><td>113550</td><td>782</td><td>55453</td><td>1</td><td>2013-09-01 00:00:00.000</td><td>S</td><td>1</td><td>2294.9900</td><td>2013-09-01 00:00:00.000</td></tr>",
                            "<tr><td>113551</td><td>871</td><td>55453</td><td>2</td><td>2013-09-01 00:00:00.000</td><td>S</td><td>1</td><td>9.9900</td><td>2013-09-01 00:00:00.000</td></tr>",
                            "<tr><td>113552</td><td>711</td><td>55454</td><td>4</td><td>2013-09-01 00:00:00.000</td><td>S</td><td>1</td><td>34.9900</td><td>2013-09-01 00:00:00.000</td></tr>",
                            "<tr><td>113553</td><td>779</td><td>55454</td><td>1</td><td>2013-09-01 00:00:00.000</td><td>S</td><td>1</td><td>2319.9900</td><td>2013-09-01 00:00:00.000</td></tr>",
                            "<tr><td>113554</td><td>870</td><td>55454</td><td>2</td><td>2013-09-01 00:00:00.000</td><td>S</td><td>1</td><td>4.9900</td><td>2013-09-01 00:00:00.000</td></tr>",
                            "<tr><td>113555</td><td>871</td><td>55454</td><td>3</td><td>2013-09-01 00:00:00.000</td><td>S</td><td>1</td><td>9.9900</td><td>2013-09-01 00:00:00.000</td></tr>",
                            "<tr><td>113556</td><td>870</td><td>55455</td><td>2</td><td>2013-09-01 00:00:00.000</td><td>S</td><td>1</td><td>4.9900</td><td>2013-09-01 00:00:00.000</td></tr>",
                            "<tr><td>113557</td><td>872</td><td>55455</td><td>1</td><td>2013-09-01 00:00:00.000</td><td>S</td><td>1</td><td>8.9900</td><td>2013-09-01 00:00:00.000</td></tr>",
                            "<tr><td>113558</td><td>873</td><td>55456</td><td>3</td><td>2013-09-01 00:00:00.000</td><td>S</td><td>1</td><td>2.2900</td><td>2013-09-01 00:00:00.000</td></tr>",
                            "<tr><td>113559</td><td>921</td><td>55456</td><td>2</td><td>2013-09-01 00:00:00.000</td><td>S</td><td>1</td><td>4.9900</td><td>2013-09-01 00:00:00.000</td></tr>",
                            "<tr><td>113560</td><td>928</td><td>55456</td><td>1</td><td>2013-09-01 00:00:00.000</td><td>S</td><td>1</td><td>24.9900</td><td>2013-09-01 00:00:00.000</td></tr>",
                            "<tr><td>113561</td><td>711</td><td>55457</td><td>3</td><td>2013-09-01 00:00:00.000</td><td>S</td><td>1</td><td>34.9900</td><td>2013-09-01 00:00:00.000</td></tr>",
                            "<tr><td>113562</td><td>921</td><td>55457</td><td>1</td><td>2013-09-01 00:00:00.000</td><td>S</td><td>1</td><td>4.9900</td><td>2013-09-01 00:00:00.000</td></tr>",
                            "<tr><td>113563</td><td>929</td><td>55457</td><td>2</td><td>2013-09-01 00:00:00.000</td><td>S</td><td>1</td><td>29.9900</td><td>2013-09-01 00:00:00.000</td></tr>",
                            "<tr><td>113564</td><td>870</td><td>55458</td><td>1</td><td>2013-09-01 00:00:00.000</td><td>S</td><td>1</td><td>4.9900</td><td>2013-09-01 00:00:00.000</td></tr>",
                            "<tr><td>113565</td><td>868</td><td>55459</td><td>1</td><td>2013-09-01 00:00:00.000</td><td>S</td><td>1</td><td>69.9900</td><td>2013-09-01 00:00:00.000</td></tr>",
                            "<tr><td>113566</td><td>707</td><td>55460</td><td>3</td><td>2013-09-01 00:00:00.000</td><td>S</td><td>1</td><td>34.9900</td><td>2013-09-01 00:00:00.000</td></tr>",
                            "<tr><td>113567</td><td>922</td><td>55460</td><td>1</td><td>2013-09-01 00:00:00.000</td><td>S</td><td>1</td><td>3.9900</td><td>2013-09-01 00:00:00.000</td></tr>",
                            "<tr><td>113568</td><td>931</td><td>55460</td><td>2</td><td>2013-09-01 00:00:00.000</td><td>S</td><td>1</td><td>21.4900</td><td>2013-09-01 00:00:00.000</td></tr>",
                            "<tr><td>113569</td><td>712</td><td>55461</td><td>1</td><td>2013-09-01 00:00:00.000</td><td>S</td><td>1</td><td>8.9900</td><td>2013-09-01 00:00:00.000</td></tr>",
                            "<tr><td>113570</td><td>708</td><td>55462</td><td>2</td><td>2013-09-01 00:00:00.000</td><td>S</td><td>1</td><td>34.9900</td><td>2013-09-01 00:00:00.000</td></tr>",
                            "<tr><td>113571</td><td>715</td><td>55462</td><td>3</td><td>2013-09-01 00:00:00.000</td><td>S</td><td>1</td><td>49.9900</td><td>2013-09-01 00:00:00.000</td></tr>",
                            "<tr><td>113572</td><td>858</td><td>55462</td><td>4</td><td>2013-09-01 00:00:00.000</td><td>S</td><td>1</td><td>24.4900</td><td>2013-09-01 00:00:00.000</td></tr>",
                            "<tr><td>113573</td><td>923</td><td>55462</td><td>1</td><td>2013-09-01 00:00:00.000</td><td>S</td><td>1</td><td>4.9900</td><td>2013-09-01 00:00:00.000</td></tr>",
                            "<tr><td>113574</td><td>712</td><td>55463</td><td>3</td><td>2013-09-01 00:00:00.000</td><td>S</td><td>1</td><td>8.9900</td><td>2013-09-01 00:00:00.000</td></tr>",
                            "<tr><td>113575</td><td>882</td><td>55463</td><td>2</td><td>2013-09-01 00:00:00.000</td><td>S</td><td>1</td><td>53.9900</td><td>2013-09-01 00:00:00.000</td></tr>",
                            "<tr><td>113576</td><td>922</td><td>55463</td><td>1</td><td>2013-09-01 00:00:00.000</td><td>S</td><td>1</td><td>3.9900</td><td>2013-09-01 00:00:00.000</td></tr>",
                            "<tr><td>113577</td><td>711</td><td>55464</td><td>2</td><td>2013-09-01 00:00:00.000</td><td>S</td><td>1</td><td>34.9900</td><td>2013-09-01 00:00:00.000</td></tr>",
                            "<tr><td>113578</td><td>922</td><td>55464</td><td>1</td><td>2013-09-01 00:00:00.000</td><td>S</td><td>1</td><td>3.9900</td><td>2013-09-01 00:00:00.000</td></tr>",
                            "<tr><td>113579</td><td>859</td><td>55465</td><td>3</td><td>2013-09-01 00:00:00.000</td><td>S</td><td>1</td><td>24.4900</td><td>2013-09-01 00:00:00.000</td></tr>",
                            "<tr><td>113580</td><td>876</td><td>55465</td><td>4</td><td>2013-09-01 00:00:00.000</td><td>S</td><td>1</td><td>120.0000</td><td>2013-09-01 00:00:00.000</td></tr>",
                            "<tr><td>113581</td><td>922</td><td>55465</td><td>1</td><td>2013-09-01 00:00:00.000</td><td>S</td><td>1</td><td>3.9900</td><td>2013-09-01 00:00:00.000</td></tr>",
                            "<tr><td>113582</td><td>932</td><td>55465</td><td>2</td><td>2013-09-01 00:00:00.000</td><td>S</td><td>1</td><td>24.9900</td><td>2013-09-01 00:00:00.000</td></tr>",
                            "<tr><td>113583</td><td>711</td><td>55466</td><td>2</td><td>2013-09-01 00:00:00.000</td><td>S</td><td>1</td><td>34.9900</td><td>2013-09-01 00:00:00.000</td></tr>",
                            "<tr><td>113584</td><td>923</td><td>55466</td><td>1</td><td>2013-09-01 00:00:00.000</td><td>S</td><td>1</td><td>4.9900</td><td>2013-09-01 00:00:00.000</td></tr>",
                            "<tr><td>113585</td><td>708</td><td>55467</td><td>2</td><td>2013-09-01 00:00:00.000</td><td>S</td><td>1</td><td>34.9900</td><td>2013-09-01 00:00:00.000</td></tr>",
                            "<tr><td>113586</td><td>923</td><td>55467</td><td>1</td><td>2013-09-01 00:00:00.000</td><td>S</td><td>1</td><td>4.9900</td><td>2013-09-01 00:00:00.000</td></tr>",
                            "<tr><td>113587</td><td>928</td><td>55468</td><td>1</td><td>2013-09-01 00:00:00.000</td><td>S</td><td>1</td><td>24.9900</td><td>2013-09-01 00:00:00.000</td></tr>",
                            "<tr><td>113588</td><td>711</td><td>55469</td><td>3</td><td>2013-09-01 00:00:00.000</td><td>S</td><td>1</td><td>34.9900</td><td>2013-09-01 00:00:00.000</td></tr>",
                            "<tr><td>113589</td><td>923</td><td>55469</td><td>2</td><td>2013-09-01 00:00:00.000</td><td>S</td><td>1</td><td>4.9900</td><td>2013-09-01 00:00:00.000</td></tr>",
                            "<tr><td>113590</td><td>934</td><td>55469</td><td>1</td><td>2013-09-01 00:00:00.000</td><td>S</td><td>1</td><td>28.9900</td><td>2013-09-01 00:00:00.000</td></tr>",
                            "<tr><td>113591</td><td>921</td><td>55470</td><td>2</td><td>2013-09-01 00:00:00.000</td><td>S</td><td>1</td><td>4.9900</td><td>2013-09-01 00:00:00.000</td></tr>",
                            "<tr><td>113592</td><td>929</td><td>55470</td><td>1</td><td>2013-09-01 00:00:00.000</td><td>S</td><td>1</td><td>29.9900</td><td>2013-09-01 00:00:00.000</td></tr>",
                            "<tr><td>113593</td><td>712</td><td>55471</td><td>4</td><td>2013-09-01 00:00:00.000</td><td>S</td><td>1</td><td>8.9900</td><td>2013-09-01 00:00:00.000</td></tr>",
                            "<tr><td>113594</td><td>870</td><td>55471</td><td>2</td><td>2013-09-01 00:00:00.000</td><td>S</td><td>1</td><td>4.9900</td><td>2013-09-01 00:00:00.000</td></tr>",
                            "<tr><td>113595</td><td>871</td><td>55471</td><td>1</td><td>2013-09-01 00:00:00.000</td><td>S</td><td>1</td><td>9.9900</td><td>2013-09-01 00:00:00.000</td></tr>",
                            "<tr><td>113596</td><td>881</td><td>55471</td><td>3</td><td>2013-09-01 00:00:00.000</td><td>S</td><td>1</td><td>53.9900</td><td>2013-09-01 00:00:00.000</td></tr>",
                            "<tr><td>113597</td><td>708</td><td>55472</td><td>2</td><td>2013-09-01 00:00:00.000</td><td>S</td><td>1</td><td>34.9900</td><td>2013-09-01 00:00:00.000</td></tr>",
                            "<tr><td>113598</td><td>859</td><td>55472</td><td>3</td><td>2013-09-01 00:00:00.000</td><td>S</td><td>1</td><td>24.4900</td><td>2013-09-01 00:00:00.000</td></tr>",
                            "<tr><td>113599</td><td>871</td><td>55472</td><td>1</td><td>2013-09-01 00:00:00.000</td><td>S</td><td>1</td><td>9.9900</td><td>2013-09-01 00:00:00.000</td></tr>",
                            "<tr><td>113600</td><td>716</td><td>55473</td><td>2</td><td>2013-09-01 00:00:00.000</td><td>S</td><td>1</td><td>49.9900</td><td>2013-09-01 00:00:00.000</td></tr>",
                            "<tr><td>113601</td><td>867</td><td>55473</td><td>1</td><td>2013-09-01 00:00:00.000</td><td>S</td><td>1</td><td>69.9900</td><td>2013-09-01 00:00:00.000</td></tr>",
                            "<tr><td>113602</td><td>867</td><td>55474</td><td>1</td><td>2013-09-01 00:00:00.000</td><td>S</td><td>1</td><td>69.9900</td><td>2013-09-01 00:00:00.000</td></tr>",
                            "<tr><td>113603</td><td>873</td><td>55475</td><td>2</td><td>2013-09-01 00:00:00.000</td><td>S</td><td>1</td><td>2.2900</td><td>2013-09-01 00:00:00.000</td></tr>",
                            "<tr><td>113604</td><td>921</td><td>55475</td><td>1</td><td>2013-09-01 00:00:00.000</td><td>S</td><td>1</td><td>4.9900</td><td>2013-09-01 00:00:00.000</td></tr>",
                            "<tr><td>113605</td><td>873</td><td>55476</td><td>2</td><td>2013-09-01 00:00:00.000</td><td>S</td><td>1</td><td>2.2900</td><td>2013-09-01 00:00:00.000</td></tr>",
                            "<tr><td>113606</td><td>921</td><td>55476</td><td>1</td><td>2013-09-01 00:00:00.000</td><td>S</td><td>1</td><td>4.9900</td><td>2013-09-01 00:00:00.000</td></tr>",
                            "<tr><td>113607</td><td>707</td><td>55477</td><td>2</td><td>2013-09-01 00:00:00.000</td><td>S</td><td>1</td><td>34.9900</td><td>2013-09-01 00:00:00.000</td></tr>",
                            "<tr><td>113608</td><td>878</td><td>55477</td><td>1</td><td>2013-09-01 00:00:00.000</td><td>S</td><td>1</td><td>21.9800</td><td>2013-09-01 00:00:00.000</td></tr>",
                            "<tr><td>113609</td><td>932</td><td>55478</td><td>1</td><td>2013-09-01 00:00:00.000</td><td>S</td><td>1</td><td>24.9900</td><td>2013-09-01 00:00:00.000</td></tr>",
                            "<tr><td>113610</td><td>873</td><td>55479</td><td>2</td><td>2013-09-01 00:00:00.000</td><td>S</td><td>1</td><td>2.2900</td><td>2013-09-01 00:00:00.000</td></tr>",
                            "<tr><td>113611</td><td>932</td><td>55479</td><td>1</td><td>2013-09-01 00:00:00.000</td><td>S</td><td>1</td><td>24.9900</td><td>2013-09-01 00:00:00.000</td></tr>",
                            "<tr><td>113612</td><td>921</td><td>55480</td><td>2</td><td>2013-09-01 00:00:00.000</td><td>S</td><td>1</td><td>4.9900</td><td>2013-09-01 00:00:00.000</td></tr>",
                            "<tr><td>113613</td><td>928</td><td>55480</td><td>1</td><td>2013-09-01 00:00:00.000</td><td>S</td><td>1</td><td>24.9900</td><td>2013-09-01 00:00:00.000</td></tr>",
                            "<tr><td>113614</td><td>876</td><td>55481</td><td>3</td><td>2013-09-01 00:00:00.000</td><td>S</td><td>1</td><td>120.0000</td><td>2013-09-01 00:00:00.000</td></tr>",
                            "<tr><td>113615</td><td>921</td><td>55481</td><td>2</td><td>2013-09-01 00:00:00.000</td><td>S</td><td>1</td><td>4.9900</td><td>2013-09-01 00:00:00.000</td></tr>",
                            "<tr><td>113616</td><td>928</td><td>55481</td><td>1</td><td>2013-09-01 00:00:00.000</td><td>S</td><td>1</td><td>24.9900</td><td>2013-09-01 00:00:00.000</td></tr>",
                            "<tr><td>113617</td><td>921</td><td>55482</td><td>1</td><td>2013-09-01 00:00:00.000</td><td>S</td><td>1</td><td>4.9900</td><td>2013-09-01 00:00:00.000</td></tr>",
                            "<tr><td>113618</td><td>928</td><td>55482</td><td>2</td><td>2013-09-01 00:00:00.000</td><td>S</td><td>1</td><td>24.9900</td><td>2013-09-01 00:00:00.000</td></tr>",
                            "<tr><td>113619</td><td>708</td><td>55483</td><td>3</td><td>2013-09-01 00:00:00.000</td><td>S</td><td>1</td><td>34.9900</td><td>2013-09-01 00:00:00.000</td></tr>",
                            "<tr><td>113620</td><td>921</td><td>55483</td><td>2</td><td>2013-09-01 00:00:00.000</td><td>S</td><td>1</td><td>4.9900</td><td>2013-09-01 00:00:00.000</td></tr>",
                            "<tr><td>113621</td><td>928</td><td>55483</td><td>1</td><td>2013-09-01 00:00:00.000</td><td>S</td><td>1</td><td>24.9900</td><td>2013-09-01 00:00:00.000</td></tr>",
                            "<tr><td>113622</td><td>879</td><td>55484</td><td>3</td><td>2013-09-01 00:00:00.000</td><td>S</td><td>1</td><td>159.0000</td><td>2013-09-01 00:00:00.000</td></tr>",
                            "<tr><td>113623</td><td>921</td><td>55484</td><td>2</td><td>2013-09-01 00:00:00.000</td><td>S</td><td>1</td><td>4.9900</td><td>2013-09-01 00:00:00.000</td></tr>",
                            "<tr><td>113624</td><td>928</td><td>55484</td><td>1</td><td>2013-09-01 00:00:00.000</td><td>S</td><td>1</td><td>24.9900</td><td>2013-09-01 00:00:00.000</td></tr>",
                            "<tr><td>113625</td><td>873</td><td>55485</td><td>2</td><td>2013-09-01 00:00:00.000</td><td>S</td><td>1</td><td>2.2900</td><td>2013-09-01 00:00:00.000</td></tr>",
                            "<tr><td>113626</td><td>876</td><td>55485</td><td>3</td><td>2013-09-01 00:00:00.000</td><td>S</td><td>1</td><td>120.0000</td><td>2013-09-01 00:00:00.000</td></tr>",
                            "<tr><td>113627</td><td>934</td><td>55485</td><td>1</td><td>2013-09-01 00:00:00.000</td><td>S</td><td>1</td><td>28.9900</td><td>2013-09-01 00:00:00.000</td></tr>",
                            "<tr><td>113628</td><td>873</td><td>55486</td><td>3</td><td>2013-09-01 00:00:00.000</td><td>S</td><td>1</td><td>2.2900</td><td>2013-09-01 00:00:00.000</td></tr>",
                            "<tr><td>113629</td><td>923</td><td>55486</td><td>2</td><td>2013-09-01 00:00:00.000</td><td>S</td><td>1</td><td>4.9900</td><td>2013-09-01 00:00:00.000</td></tr>",
                            "<tr><td>113630</td><td>934</td><td>55486</td><td>1</td><td>2013-09-01 00:00:00.000</td><td>S</td><td>1</td><td>28.9900</td><td>2013-09-01 00:00:00.000</td></tr>",
                            "<tr><td>113631</td><td>873</td><td>55487</td><td>3</td><td>2013-09-01 00:00:00.000</td><td>S</td><td>1</td><td>2.2900</td><td>2013-09-01 00:00:00.000</td></tr>",
                            "<tr><td>113632</td><td>921</td><td>55487</td><td>2</td><td>2013-09-01 00:00:00.000</td><td>S</td><td>1</td><td>4.9900</td><td>2013-09-01 00:00:00.000</td></tr>",
                            "<tr><td>113633</td><td>930</td><td>55487</td><td>1</td><td>2013-09-01 00:00:00.000</td><td>S</td><td>1</td><td>35.0000</td><td>2013-09-01 00:00:00.000</td></tr>",
                            "<tr><td>113634</td><td>877</td><td>55488</td><td>4</td><td>2013-09-01 00:00:00.000</td><td>S</td><td>1</td><td>7.9500</td><td>2013-09-01 00:00:00.000</td></tr>",
                            "<tr><td>113635</td><td>878</td><td>55488</td><td>3</td><td>2013-09-01 00:00:00.000</td><td>S</td><td>1</td><td>21.9800</td><td>2013-09-01 00:00:00.000</td></tr>",
                            "<tr><td>113636</td><td>921</td><td>55488</td><td>2</td><td>2013-09-01 00:00:00.000</td><td>S</td><td>1</td><td>4.9900</td><td>2013-09-01 00:00:00.000</td></tr>",
                            "<tr><td>113637</td><td>930</td><td>55488</td><td>1</td><td>2013-09-01 00:00:00.000</td><td>S</td><td>1</td><td>35.0000</td><td>2013-09-01 00:00:00.000</td></tr>",
                            "<tr><td>113638</td><td>707</td><td>55489</td><td>3</td><td>2013-09-01 00:00:00.000</td><td>S</td><td>1</td><td>34.9900</td><td>2013-09-01 00:00:00.000</td></tr>",
                            "<tr><td>113639</td><td>921</td><td>55489</td><td>2</td><td>2013-09-01 00:00:00.000</td><td>S</td><td>1</td><td>4.9900</td><td>2013-09-01 00:00:00.000</td></tr>",
                            "<tr><td>113640</td><td>930</td><td>55489</td><td>1</td><td>2013-09-01 00:00:00.000</td><td>S</td><td>1</td><td>35.0000</td><td>2013-09-01 00:00:00.000</td></tr>",
                            "<tr><td>113641</td><td>713</td><td>55490</td><td>3</td><td>2013-09-01 00:00:00.000</td><td>S</td><td>1</td><td>49.9900</td><td>2013-09-01 00:00:00.000</td></tr>",
                            "<tr><td>113642</td><td>867</td><td>55490</td><td>2</td><td>2013-09-01 00:00:00.000</td><td>S</td><td>1</td><td>69.9900</td><td>2013-09-01 00:00:00.000</td></tr>",
                            "<tr><td>113643</td><td>981</td><td>55490</td><td>1</td><td>2013-09-01 00:00:00.000</td><td>S</td><td>1</td><td>769.4900</td><td>2013-09-01 00:00:00.000</td></tr>",
                            "<tr><td>113644</td><td>780</td><td>55491</td><td>1</td><td>2013-09-01 00:00:00.000</td><td>S</td><td>1</td><td>2319.9900</td><td>2013-09-01 00:00:00.000</td></tr>",
                            "<tr><td>113645</td><td>878</td><td>55491</td><td>2</td><td>2013-09-01 00:00:00.000</td><td>S</td><td>1</td><td>21.9800</td><td>2013-09-01 00:00:00.000</td></tr>",
                            "<tr><td>113646</td><td>879</td><td>55491</td><td>3</td><td>2013-09-01 00:00:00.000</td><td>S</td><td>1</td><td>159.0000</td><td>2013-09-01 00:00:00.000</td></tr>",
                            "<tr><td>113647</td><td>712</td><td>55492</td><td>2</td><td>2013-09-01 00:00:00.000</td><td>S</td><td>1</td><td>8.9900</td><td>2013-09-01 00:00:00.000</td></tr>",
                            "<tr><td>113648</td><td>972</td><td>55492</td><td>1</td><td>2013-09-01 00:00:00.000</td><td>S</td><td>1</td><td>1214.8500</td><td>2013-09-01 00:00:00.000</td></tr>",
                            "<tr><td>113649</td><td>870</td><td>55493</td><td>3</td><td>2013-09-01 00:00:00.000</td><td>S</td><td>1</td><td>4.9900</td><td>2013-09-01 00:00:00.000</td></tr>",
                            "<tr><td>113650</td><td>872</td><td>55493</td><td>2</td><td>2013-09-01 00:00:00.000</td><td>S</td><td>1</td><td>8.9900</td><td>2013-09-01 00:00:00.000</td></tr>",
                            "<tr><td>113651</td><td>971</td><td>55493</td><td>1</td><td>2013-09-01 00:00:00.000</td><td>S</td><td>1</td><td>1214.8500</td><td>2013-09-01 00:00:00.000</td></tr>",
                            "<tr><td>113652</td><td>711</td><td>55494</td><td>2</td><td>2013-09-01 00:00:00.000</td><td>S</td><td>1</td><td>34.9900</td><td>2013-09-01 00:00:00.000</td></tr>",
                            "<tr><td>113653</td><td>866</td><td>55494</td><td>3</td><td>2013-09-01 00:00:00.000</td><td>S</td><td>1</td><td>63.5000</td><td>2013-09-01 00:00:00.000</td></tr>",
                            "<tr><td>113654</td><td>998</td><td>55494</td><td>1</td><td>2013-09-01 00:00:00.000</td><td>S</td><td>1</td><td>539.9900</td><td>2013-09-01 00:00:00.000</td></tr>",
                            "<tr><td>113655</td><td>708</td><td>55495</td><td>2</td><td>2013-09-01 00:00:00.000</td><td>S</td><td>1</td><td>34.9900</td><td>2013-09-01 00:00:00.000</td></tr>",
                            "<tr><td>113656</td><td>999</td><td>55495</td><td>1</td><td>2013-09-01 00:00:00.000</td><td>S</td><td>1</td><td>539.9900</td><td>2013-09-01 00:00:00.000</td></tr>",
                            "<tr><td>113657</td><td>977</td><td>55496</td><td>1</td><td>2013-09-01 00:00:00.000</td><td>S</td><td>1</td><td>539.9900</td><td>2013-09-01 00:00:00.000</td></tr>",
                            "<tr><td>113658</td><td>954</td><td>55497</td><td>1</td><td>2013-09-01 00:00:00.000</td><td>S</td><td>1</td><td>2384.0700</td><td>2013-09-01 00:00:00.000</td></tr>",
                            "<tr><td>113659</td><td>707</td><td>55498</td><td>2</td><td>2013-09-01 00:00:00.000</td><td>S</td><td>1</td><td>34.9900</td><td>2013-09-01 00:00:00.000</td></tr>",
                            "<tr><td>113660</td><td>969</td><td>55498</td><td>1</td><td>2013-09-01 00:00:00.000</td><td>S</td><td>1</td><td>2384.0700</td><td>2013-09-01 00:00:00.000</td></tr>",
                            "<tr><td>113661</td><td>783</td><td>55499</td><td>1</td><td>2013-09-01 00:00:00.000</td><td>S</td><td>1</td><td>2294.9900</td><td>2013-09-01 00:00:00.000</td></tr>",
                            "<tr><td>113662</td><td>880</td><td>55499</td><td>2</td><td>2013-09-01 00:00:00.000</td><td>S</td><td>1</td><td>54.9900</td><td>2013-09-01 00:00:00.000</td></tr>",
                            "<tr><td>113663</td><td>708</td><td>55500</td><td>4</td><td>2013-09-01 00:00:00.000</td><td>S</td><td>1</td><td>34.9900</td><td>2013-09-01 00:00:00.000</td></tr>",
                            "<tr><td>113664</td><td>922</td><td>55500</td><td>3</td><td>2013-09-01 00:00:00.000</td><td>S</td><td>1</td><td>3.9900</td><td>2013-09-01 00:00:00.000</td></tr>",
                            "<tr><td>113665</td><td>931</td><td>55500</td><td>2</td><td>2013-09-01 00:00:00.000</td><td>S</td><td>1</td><td>21.4900</td><td>2013-09-01 00:00:00.000</td></tr>",
                            "<tr><td>113666</td><td>997</td><td>55500</td><td>1</td><td>2013-09-01 00:00:00.000</td><td>S</td><td>1</td><td>539.9900</td><td>2013-09-01 00:00:00.000</td></tr>",
                            "<tr><td>113667</td><td>977</td><td>55501</td><td>1</td><td>2013-09-01 00:00:00.000</td><td>S</td><td>1</td><td>539.9900</td><td>2013-09-01 00:00:00.000</td></tr>",
                            "<tr><td>113668</td><td>800</td><td>55502</td><td>1</td><td>2013-09-01 00:00:00.000</td><td>S</td><td>1</td><td>1120.4900</td><td>2013-09-01 00:00:00.000</td></tr>",
                            "<tr><td>113669</td><td>873</td><td>55502</td><td>3</td><td>2013-09-01 00:00:00.000</td><td>S</td><td>1</td><td>2.2900</td><td>2013-09-01 00:00:00.000</td></tr>",
                            "<tr><td>113670</td><td>932</td><td>55502</td><td>2</td><td>2013-09-01 00:00:00.000</td><td>S</td><td>1</td><td>24.9900</td><td>2013-09-01 00:00:00.000</td></tr>",
                            "<tr><td>113671</td><td>711</td><td>55503</td><td>4</td><td>2013-09-01 00:00:00.000</td><td>S</td><td>1</td><td>34.9900</td><td>2013-09-01 00:00:00.000</td></tr>",
                            "<tr><td>113672</td><td>870</td><td>55503</td><td>2</td><td>2013-09-01 00:00:00.000</td><td>S</td><td>1</td><td>4.9900</td><td>2013-09-01 00:00:00.000</td></tr>",
                            "<tr><td>113673</td><td>872</td><td>55503</td><td>3</td><td>2013-09-01 00:00:00.000</td><td>S</td><td>1</td><td>8.9900</td><td>2013-09-01 00:00:00.000</td></tr>",
                            "<tr><td>113674</td><td>957</td><td>55503</td><td>1</td><td>2013-09-01 00:00:00.000</td><td>S</td><td>1</td><td>2384.0700</td><td>2013-09-01 00:00:00.000</td></tr>",
                            "<tr><td>113675</td><td>711</td><td>55504</td><td>2</td><td>2013-09-01 00:00:00.000</td><td>S</td><td>1</td><td>34.9900</td><td>2013-09-01 00:00:00.000</td></tr>",
                            "<tr><td>113676</td><td>712</td><td>55504</td><td>4</td><td>2013-09-01 00:00:00.000</td><td>S</td><td>1</td><td>8.9900</td><td>2013-09-01 00:00:00.000</td></tr>",
                            "<tr><td>113677</td><td>714</td><td>55504</td><td>3</td><td>2013-09-01 00:00:00.000</td><td>S</td><td>1</td><td>49.9900</td><td>2013-09-01 00:00:00.000</td></tr>",
                            "<tr><td>113678</td><td>966</td><td>55504</td><td>1</td><td>2013-09-01 00:00:00.000</td><td>S</td><td>1</td><td>2384.0700</td><td>2013-09-01 00:00:00.000</td></tr>",
                            "<tr><td>113679</td><td>323</td><td>773</td><td>1</td><td>2013-09-02 00:00:00.000</td><td>P</td><td>3</td><td>50.2635</td><td>2013-09-02 00:00:00.000</td></tr>",
                            "<tr><td>113680</td><td>523</td><td>774</td><td>1</td><td>2013-09-02 00:00:00.000</td><td>P</td><td>550</td><td>10.7310</td><td>2013-09-02 00:00:00.000</td></tr>",
                            "<tr><td>113681</td><td>524</td><td>774</td><td>2</td><td>2013-09-02 00:00:00.000</td><td>P</td><td>550</td><td>14.1225</td><td>2013-09-02 00:00:00.000</td></tr>",
                            "<tr><td>113682</td><td>494</td><td>775</td><td>1</td><td>2013-09-02 00:00:00.000</td><td>P</td><td>60</td><td>53.2035</td><td>2013-09-02 00:00:00.000</td></tr>",
                            "<tr><td>113683</td><td>495</td><td>775</td><td>2</td><td>2013-09-02 00:00:00.000</td><td>P</td><td>60</td><td>63.6930</td><td>2013-09-02 00:00:00.000</td></tr>",
                            "<tr><td>113684</td><td>496</td><td>775</td><td>3</td><td>2013-09-02 00:00:00.000</td><td>P</td><td>60</td><td>48.9090</td><td>2013-09-02 00:00:00.000</td></tr>",
                            "<tr><td>113685</td><td>911</td><td>776</td><td>1</td><td>2013-09-02 00:00:00.000</td><td>P</td><td>550</td><td>21.0945</td><td>2013-09-02 00:00:00.000</td></tr>",
                            "<tr><td>113686</td><td>912</td><td>776</td><td>2</td><td>2013-09-02 00:00:00.000</td><td>P</td><td>550</td><td>30.4395</td><td>2013-09-02 00:00:00.000</td></tr>",
                            "<tr><td>113687</td><td>913</td><td>776</td><td>3</td><td>2013-09-02 00:00:00.000</td><td>P</td><td>550</td><td>40.9395</td><td>2013-09-02 00:00:00.000</td></tr>",
                            "<tr><td>113688</td><td>914</td><td>776</td><td>4</td><td>2013-09-02 00:00:00.000</td><td>P</td><td>550</td><td>21.0945</td><td>2013-09-02 00:00:00.000</td></tr>",
                            "<tr><td>113689</td><td>506</td><td>777</td><td>1</td><td>2013-09-02 00:00:00.000</td><td>P</td><td>60</td><td>9.1980</td><td>2013-09-02 00:00:00.000</td></tr>",
                            "<tr><td>113690</td><td>351</td><td>778</td><td>1</td><td>2013-09-02 00:00:00.000</td><td>P</td><td>550</td><td>5.7750</td><td>2013-09-02 00:00:00.000</td></tr>",
                            "<tr><td>113691</td><td>352</td><td>778</td><td>2</td><td>2013-09-02 00:00:00.000</td><td>P</td><td>550</td><td>1.1550</td><td>2013-09-02 00:00:00.000</td></tr>",
                            "<tr><td>113692</td><td>679</td><td>778</td><td>3</td><td>2013-09-02 00:00:00.000</td><td>P</td><td>550</td><td>5.7750</td><td>2013-09-02 00:00:00.000</td></tr>",
                            "<tr><td>113693</td><td>507</td><td>779</td><td>1</td><td>2013-09-02 00:00:00.000</td><td>P</td><td>550</td><td>23.3940</td><td>2013-09-02 00:00:00.000</td></tr>",
                            "<tr><td>113694</td><td>508</td><td>779</td><td>2</td><td>2013-09-02 00:00:00.000</td><td>P</td><td>550</td><td>27.6465</td><td>2013-09-02 00:00:00.000</td></tr>",
                            "<tr><td>113695</td><td>355</td><td>780</td><td>1</td><td>2013-09-02 00:00:00.000</td><td>P</td><td>550</td><td>1.3650</td><td>2013-09-02 00:00:00.000</td></tr>",
                            "<tr><td>113696</td><td>535</td><td>780</td><td>3</td><td>2013-09-02 00:00:00.000</td><td>P</td><td>550</td><td>3.4860</td><td>2013-09-02 00:00:00.000</td></tr>",
                            "<tr><td>113697</td><td>940</td><td>780</td><td>2</td><td>2013-09-02 00:00:00.000</td><td>P</td><td>550</td><td>62.9895</td><td>2013-09-02 00:00:00.000</td></tr>",
                            "<tr><td>113698</td><td>351</td><td>781</td><td>1</td><td>2013-09-02 00:00:00.000</td><td>P</td><td>550</td><td>6.1950</td><td>2013-09-02 00:00:00.000</td></tr>",
                            "<tr><td>113699</td><td>352</td><td>781</td><td>2</td><td>2013-09-02 00:00:00.000</td><td>P</td><td>550</td><td>1.4700</td><td>2013-09-02 00:00:00.000</td></tr>",
                            "<tr><td>113700</td><td>679</td><td>781</td><td>3</td><td>2013-09-02 00:00:00.000</td><td>P</td><td>550</td><td>6.1950</td><td>2013-09-02 00:00:00.000</td></tr>",
                            "<tr><td>113701</td><td>507</td><td>782</td><td>1</td><td>2013-09-02 00:00:00.000</td><td>P</td><td>550</td><td>22.1655</td><td>2013-09-02 00:00:00.000</td></tr>",
                            "<tr><td>113702</td><td>508</td><td>782</td><td>2</td><td>2013-09-02 00:00:00.000</td><td>P</td><td>550</td><td>29.2845</td><td>2013-09-02 00:00:00.000</td></tr>",
                            "<tr><td>113703</td><td>491</td><td>783</td><td>1</td><td>2013-09-02 00:00:00.000</td><td>P</td><td>3</td><td>19.9815</td><td>2013-09-02 00:00:00.000</td></tr>",
                            "<tr><td>113704</td><td>341</td><td>784</td><td>1</td><td>2013-09-02 00:00:00.000</td><td>P</td><td>3</td><td>41.1705</td><td>2013-09-02 00:00:00.000</td></tr>",
                            "<tr><td>113705</td><td>342</td><td>784</td><td>2</td><td>2013-09-02 00:00:00.000</td><td>P</td><td>3</td><td>39.0705</td><td>2013-09-02 00:00:00.000</td></tr>",
                            "<tr><td>113706</td><td>935</td><td>785</td><td>1</td><td>2013-09-02 00:00:00.000</td><td>P</td><td>550</td><td>31.4895</td><td>2013-09-02 00:00:00.000</td></tr>",
                            "<tr><td>113707</td><td>936</td><td>785</td><td>2</td><td>2013-09-02 00:00:00.000</td><td>P</td><td>550</td><td>48.2895</td><td>2013-09-02 00:00:00.000</td></tr>",
                            "<tr><td>113708</td><td>388</td><td>786</td><td>1</td><td>2013-09-02 00:00:00.000</td><td>P</td><td>3</td><td>39.0705</td><td>2013-09-02 00:00:00.000</td></tr>",
                            "<tr><td>113709</td><td>389</td><td>786</td><td>2</td><td>2013-09-02 00:00:00.000</td><td>P</td><td>3</td><td>43.3440</td><td>2013-09-02 00:00:00.000</td></tr>",
                            "<tr><td>113710</td><td>390</td><td>786</td><td>3</td><td>2013-09-02 00:00:00.000</td><td>P</td><td>3</td><td>39.0705</td><td>2013-09-02 00:00:00.000</td></tr>",
                            "<tr><td>113711</td><td>391</td><td>786</td><td>4</td><td>2013-09-02 00:00:00.000</td><td>P</td><td>3</td><td>36.9705</td><td>2013-09-02 00:00:00.000</td></tr>",
                            "<tr><td>113712</td><td>476</td><td>787</td><td>1</td><td>2013-09-02 00:00:00.000</td><td>P</td><td>550</td><td>15.8865</td><td>2013-09-02 00:00:00.000</td></tr>",
                            "<tr><td>113713</td><td>477</td><td>787</td><td>2</td><td>2013-09-02 00:00:00.000</td><td>P</td><td>550</td><td>11.6655</td><td>2013-09-02 00:00:00.000</td></tr>",
                            "<tr><td>113714</td><td>478</td><td>787</td><td>3</td><td>2013-09-02 00:00:00.000</td><td>P</td><td>550</td><td>11.0880</td><td>2013-09-02 00:00:00.000</td></tr>",
                            "<tr><td>113715</td><td>479</td><td>787</td><td>4</td><td>2013-09-02 00:00:00.000</td><td>P</td><td>550</td><td>15.8865</td><td>2013-09-02 00:00:00.000</td></tr>",
                            "<tr><td>113716</td><td>480</td><td>787</td><td>5</td><td>2013-09-02 00:00:00.000</td><td>P</td><td>550</td><td>11.6655</td><td>2013-09-02 00:00:00.000</td></tr>",
                            "<tr><td>113717</td><td>481</td><td>787</td><td>6</td><td>2013-09-02 00:00:00.000</td><td>P</td><td>550</td><td>11.0880</td><td>2013-09-02 00:00:00.000</td></tr>",
                            "<tr><td>113718</td><td>402</td><td>788</td><td>1</td><td>2013-09-02 00:00:00.000</td><td>P</td><td>3</td><td>47.4705</td><td>2013-09-02 00:00:00.000</td></tr>",
                            "<tr><td>113719</td><td>717</td><td>44585</td><td>0</td><td>2013-09-02 00:00:00.000</td><td>W</td><td>10</td><td>0.0000</td><td>2013-09-02 00:00:00.000</td></tr>",
                            "<tr><td>113720</td><td>718</td><td>44586</td><td>0</td><td>2013-09-02 00:00:00.000</td><td>W</td><td>12</td><td>0.0000</td><td>2013-09-02 00:00:00.000</td></tr>",
                            "<tr><td>113721</td><td>722</td><td>44587</td><td>0</td><td>2013-09-02 00:00:00.000</td><td>W</td><td>26</td><td>0.0000</td><td>2013-09-02 00:00:00.000</td></tr>",
                            "<tr><td>113722</td><td>726</td><td>44588</td><td>0</td><td>2013-09-02 00:00:00.000</td><td>W</td><td>1</td><td>0.0000</td><td>2013-09-02 00:00:00.000</td></tr>",
                            "<tr><td>113723</td><td>736</td><td>44589</td><td>0</td><td>2013-09-02 00:00:00.000</td><td>W</td><td>3</td><td>0.0000</td><td>2013-09-02 00:00:00.000</td></tr>",
                            "<tr><td>113724</td><td>738</td><td>44590</td><td>0</td><td>2013-09-02 00:00:00.000</td><td>W</td><td>31</td><td>0.0000</td><td>2013-09-02 00:00:00.000</td></tr>",
                            "<tr><td>113725</td><td>739</td><td>44591</td><td>0</td><td>2013-09-02 00:00:00.000</td><td>W</td><td>2</td><td>0.0000</td><td>2013-09-02 00:00:00.000</td></tr>",
                            "<tr><td>113726</td><td>742</td><td>44592</td><td>0</td><td>2013-09-02 00:00:00.000</td><td>W</td><td>14</td><td>0.0000</td><td>2013-09-02 00:00:00.000</td></tr>",
                            "<tr><td>113727</td><td>743</td><td>44593</td><td>0</td><td>2013-09-02 00:00:00.000</td><td>W</td><td>23</td><td>0.0000</td><td>2013-09-02 00:00:00.000</td></tr>",
                            "<tr><td>113728</td><td>747</td><td>44594</td><td>0</td><td>2013-09-02 00:00:00.000</td><td>W</td><td>12</td><td>0.0000</td><td>2013-09-02 00:00:00.000</td></tr>",
                            "<tr><td>113729</td><td>748</td><td>44595</td><td>0</td><td>2013-09-02 00:00:00.000</td><td>W</td><td>36</td><td>0.0000</td><td>2013-09-02 00:00:00.000</td></tr>",
                            "<tr><td>113730</td><td>762</td><td>44596</td><td>0</td><td>2013-09-02 00:00:00.000</td><td>W</td><td>3</td><td>0.0000</td><td>2013-09-02 00:00:00.000</td></tr>",
                            "<tr><td>113731</td><td>779</td><td>44597</td><td>0</td><td>2013-09-02 00:00:00.000</td><td>W</td><td>66</td><td>0.0000</td><td>2013-09-02 00:00:00.000</td></tr>",
                            "<tr><td>113732</td><td>780</td><td>44598</td><td>0</td><td>2013-09-02 00:00:00.000</td><td>W</td><td>49</td><td>0.0000</td><td>2013-09-02 00:00:00.000</td></tr>",
                            "<tr><td>113733</td><td>781</td><td>44599</td><td>0</td><td>2013-09-02 00:00:00.000</td><td>W</td><td>41</td><td>0.0000</td><td>2013-09-02 00:00:00.000</td></tr>",
                            "<tr><td>113734</td><td>782</td><td>44600</td><td>0</td><td>2013-09-02 00:00:00.000</td><td>W</td><td>62</td><td>0.0000</td><td>2013-09-02 00:00:00.000</td></tr>",
                            "<tr><td>113735</td><td>783</td><td>44601</td><td>0</td><td>2013-09-02 00:00:00.000</td><td>W</td><td>72</td><td>0.0000</td><td>2013-09-02 00:00:00.000</td></tr>",
                            "<tr><td>113736</td><td>784</td><td>44602</td><td>0</td><td>2013-09-02 00:00:00.000</td><td>W</td><td>52</td><td>0.0000</td><td>2013-09-02 00:00:00.000</td></tr>",
                            "<tr><td>113737</td><td>792</td><td>44603</td><td>0</td><td>2013-09-02 00:00:00.000</td><td>W</td><td>12</td><td>0.0000</td><td>2013-09-02 00:00:00.000</td></tr>",
                            "<tr><td>113738</td><td>793</td><td>44604</td><td>0</td><td>2013-09-02 00:00:00.000</td><td>W</td><td>46</td><td>0.0000</td><td>2013-09-02 00:00:00.000</td></tr>",
                            "<tr><td>113739</td><td>794</td><td>44605</td><td>0</td><td>2013-09-02 00:00:00.000</td><td>W</td><td>37</td><td>0.0000</td><td>2013-09-02 00:00:00.000</td></tr>",
                            "<tr><td>113740</td><td>795</td><td>44606</td><td>0</td><td>2013-09-02 00:00:00.000</td><td>W</td><td>22</td><td>0.0000</td><td>2013-09-02 00:00:00.000</td></tr>",
                            "<tr><td>113741</td><td>796</td><td>44607</td><td>0</td><td>2013-09-02 00:00:00.000</td><td>W</td><td>18</td><td>0.0000</td><td>2013-09-02 00:00:00.000</td></tr>",
                            "<tr><td>113742</td><td>797</td><td>44608</td><td>0</td><td>2013-09-02 00:00:00.000</td><td>W</td><td>46</td><td>0.0000</td><td>2013-09-02 00:00:00.000</td></tr>",
                            "<tr><td>113743</td><td>798</td><td>44609</td><td>0</td><td>2013-09-02 00:00:00.000</td><td>W</td><td>37</td><td>0.0000</td><td>2013-09-02 00:00:00.000</td></tr>",
                            "<tr><td>113744</td><td>799</td><td>44610</td><td>0</td><td>2013-09-02 00:00:00.000</td><td>W</td><td>27</td><td>0.0000</td><td>2013-09-02 00:00:00.000</td></tr>",
                            "<tr><td>113745</td><td>800</td><td>44611</td><td>0</td><td>2013-09-02 00:00:00.000</td><td>W</td><td>20</td><td>0.0000</td><td>2013-09-02 00:00:00.000</td></tr>",
                            "<tr><td>113746</td><td>801</td><td>44612</td><td>0</td><td>2013-09-02 00:00:00.000</td><td>W</td><td>65</td><td>0.0000</td><td>2013-09-02 00:00:00.000</td></tr>",
                            "<tr><td>113747</td><td>808</td><td>44613</td><td>0</td><td>2013-09-02 00:00:00.000</td><td>W</td><td>11</td><td>0.0000</td><td>2013-09-02 00:00:00.000</td></tr>",
                            "<tr><td>113748</td><td>809</td><td>44614</td><td>0</td><td>2013-09-02 00:00:00.000</td><td>W</td><td>55</td><td>0.0000</td><td>2013-09-02 00:00:00.000</td></tr>",
                            "<tr><td>113749</td><td>810</td><td>44615</td><td>0</td><td>2013-09-02 00:00:00.000</td><td>W</td><td>21</td><td>0.0000</td><td>2013-09-02 00:00:00.000</td></tr>",
                            "<tr><td>113750</td><td>813</td><td>44616</td><td>0</td><td>2013-09-02 00:00:00.000</td><td>W</td><td>19</td><td>0.0000</td><td>2013-09-02 00:00:00.000</td></tr>",
                            "<tr><td>113751</td><td>822</td><td>44617</td><td>0</td><td>2013-09-02 00:00:00.000</td><td>W</td><td>31</td><td>0.0000</td><td>2013-09-02 00:00:00.000</td></tr>",
                            "<tr><td>113752</td><td>833</td><td>44618</td><td>0</td><td>2013-09-02 00:00:00.000</td><td>W</td><td>2</td><td>0.0000</td><td>2013-09-02 00:00:00.000</td></tr>",
                            "<tr><td>113753</td><td>835</td><td>44619</td><td>0</td><td>2013-09-02 00:00:00.000</td><td>W</td><td>51</td><td>0.0000</td><td>2013-09-02 00:00:00.000</td></tr>",
                            "<tr><td>113754</td><td>836</td><td>44620</td><td>0</td><td>2013-09-02 00:00:00.000</td><td>W</td><td>30</td><td>0.0000</td><td>2013-09-02 00:00:00.000</td></tr>",
                            "<tr><td>113755</td><td>838</td><td>44621</td><td>0</td><td>2013-09-02 00:00:00.000</td><td>W</td><td>6</td><td>0.0000</td><td>2013-09-02 00:00:00.000</td></tr>",
                            "<tr><td>113756</td><td>885</td><td>44622</td><td>0</td><td>2013-09-02 00:00:00.000</td><td>W</td><td>19</td><td>0.0000</td><td>2013-09-02 00:00:00.000</td></tr>",
                            "<tr><td>113757</td><td>886</td><td>44623</td><td>0</td><td>2013-09-02 00:00:00.000</td><td>W</td><td>17</td><td>0.0000</td><td>2013-09-02 00:00:00.000</td></tr>",
                            "<tr><td>113758</td><td>888</td><td>44624</td><td>0</td><td>2013-09-02 00:00:00.000</td><td>W</td><td>2</td><td>0.0000</td><td>2013-09-02 00:00:00.000</td></tr>",
                            "<tr><td>113759</td><td>889</td><td>44625</td><td>0</td><td>2013-09-02 00:00:00.000</td><td>W</td><td>16</td><td>0.0000</td><td>2013-09-02 00:00:00.000</td></tr>",
                            "<tr><td>113760</td><td>890</td><td>44626</td><td>0</td><td>2013-09-02 00:00:00.000</td><td>W</td><td>8</td><td>0.0000</td><td>2013-09-02 00:00:00.000</td></tr>",
                            "<tr><td>113761</td><td>891</td><td>44627</td><td>0</td><td>2013-09-02 00:00:00.000</td><td>W</td><td>7</td><td>0.0000</td><td>2013-09-02 00:00:00.000</td></tr>",
                            "<tr><td>113762</td><td>892</td><td>44628</td><td>0</td><td>2013-09-02 00:00:00.000</td><td>W</td><td>30</td><td>0.0000</td><td>2013-09-02 00:00:00.000</td></tr>",
                            "<tr><td>113763</td><td>893</td><td>44629</td><td>0</td><td>2013-09-02 00:00:00.000</td><td>W</td><td>24</td><td>0.0000</td><td>2013-09-02 00:00:00.000</td></tr>",
                            "<tr><td>113764</td><td>894</td><td>44630</td><td>0</td><td>2013-09-02 00:00:00.000</td><td>W</td><td>28</td><td>0.0000</td><td>2013-09-02 00:00:00.000</td></tr>",
                            "<tr><td>113765</td><td>895</td><td>44631</td><td>0</td><td>2013-09-02 00:00:00.000</td><td>W</td><td>6</td><td>0.0000</td><td>2013-09-02 00:00:00.000</td></tr>",
                            "<tr><td>113766</td><td>896</td><td>44632</td><td>0</td><td>2013-09-02 00:00:00.000</td><td>W</td><td>13</td><td>0.0000</td><td>2013-09-02 00:00:00.000</td></tr>",
                            "<tr><td>113767</td><td>899</td><td>44633</td><td>0</td><td>2013-09-02 00:00:00.000</td><td>W</td><td>10</td><td>0.0000</td><td>2013-09-02 00:00:00.000</td></tr>",
                            "<tr><td>113768</td><td>900</td><td>44634</td><td>0</td><td>2013-09-02 00:00:00.000</td><td>W</td><td>13</td><td>0.0000</td><td>2013-09-02 00:00:00.000</td></tr>",
                            "<tr><td>113769</td><td>904</td><td>44635</td><td>0</td><td>2013-09-02 00:00:00.000</td><td>W</td><td>58</td><td>0.0000</td><td>2013-09-02 00:00:00.000</td></tr>",
                            "<tr><td>113770</td><td>905</td><td>44636</td><td>0</td><td>2013-09-02 00:00:00.000</td><td>W</td><td>34</td><td>0.0000</td><td>2013-09-02 00:00:00.000</td></tr>",
                            "<tr><td>113771</td><td>906</td><td>44637</td><td>0</td><td>2013-09-02 00:00:00.000</td><td>W</td><td>9</td><td>0.0000</td><td>2013-09-02 00:00:00.000</td></tr>",
                            "<tr><td>113772</td><td>917</td><td>44638</td><td>0</td><td>2013-09-02 00:00:00.000</td><td>W</td><td>26</td><td>0.0000</td><td>2013-09-02 00:00:00.000</td></tr>",
                            "<tr><td>113773</td><td>918</td><td>44639</td><td>0</td><td>2013-09-02 00:00:00.000</td><td>W</td><td>27</td><td>0.0000</td><td>2013-09-02 00:00:00.000</td></tr>",
                            "<tr><td>113774</td><td>920</td><td>44640</td><td>0</td><td>2013-09-02 00:00:00.000</td><td>W</td><td>29</td><td>0.0000</td><td>2013-09-02 00:00:00.000</td></tr>",
                            "<tr><td>113775</td><td>924</td><td>44641</td><td>0</td><td>2013-09-02 00:00:00.000</td><td>W</td><td>18</td><td>0.0000</td><td>2013-09-02 00:00:00.000</td></tr>",
                            "<tr><td>113776</td><td>925</td><td>44642</td><td>0</td><td>2013-09-02 00:00:00.000</td><td>W</td><td>24</td><td>0.0000</td><td>2013-09-02 00:00:00.000</td></tr>",
                            "<tr><td>113777</td><td>926</td><td>44643</td><td>0</td><td>2013-09-02 00:00:00.000</td><td>W</td><td>31</td><td>0.0000</td><td>2013-09-02 00:00:00.000</td></tr>",
                            "<tr><td>113778</td><td>944</td><td>44644</td><td>0</td><td>2013-09-02 00:00:00.000</td><td>W</td><td>14</td><td>0.0000</td><td>2013-09-02 00:00:00.000</td></tr>",
                            "<tr><td>113779</td><td>945</td><td>44645</td><td>0</td><td>2013-09-02 00:00:00.000</td><td>W</td><td>49</td><td>0.0000</td><td>2013-09-02 00:00:00.000</td></tr>",
                            "<tr><td>113780</td><td>947</td><td>44646</td><td>0</td><td>2013-09-02 00:00:00.000</td><td>W</td><td>14</td><td>0.0000</td><td>2013-09-02 00:00:00.000</td></tr>",
                            "<tr><td>113781</td><td>949</td><td>44647</td><td>0</td><td>2013-09-02 00:00:00.000</td><td>W</td><td>30</td><td>0.0000</td><td>2013-09-02 00:00:00.000</td></tr>",
                            "<tr><td>113782</td><td>951</td><td>44648</td><td>0</td><td>2013-09-02 00:00:00.000</td><td>W</td><td>30</td><td>0.0000</td><td>2013-09-02 00:00:00.000</td></tr>",
                            "<tr><td>113783</td><td>953</td><td>44649</td><td>0</td><td>2013-09-02 00:00:00.000</td><td>W</td><td>39</td><td>0.0000</td><td>2013-09-02 00:00:00.000</td></tr>",
                            "<tr><td>113784</td><td>954</td><td>44650</td><td>0</td><td>2013-09-02 00:00:00.000</td><td>W</td><td>64</td><td>0.0000</td><td>2013-09-02 00:00:00.000</td></tr>",
                            "<tr><td>113785</td><td>955</td><td>44651</td><td>0</td><td>2013-09-02 00:00:00.000</td><td>W</td><td>29</td><td>0.0000</td><td>2013-09-02 00:00:00.000</td></tr>",
                            "<tr><td>113786</td><td>956</td><td>44652</td><td>0</td><td>2013-09-02 00:00:00.000</td><td>W</td><td>12</td><td>0.0000</td><td>2013-09-02 00:00:00.000</td></tr>",
                            "<tr><td>113787</td><td>957</td><td>44653</td><td>0</td><td>2013-09-02 00:00:00.000</td><td>W</td><td>77</td><td>0.0000</td><td>2013-09-02 00:00:00.000</td></tr>",
                            "<tr><td>113788</td><td>958</td><td>44654</td><td>0</td><td>2013-09-02 00:00:00.000</td><td>W</td><td>31</td><td>0.0000</td><td>2013-09-02 00:00:00.000</td></tr>",
                            "<tr><td>113789</td><td>959</td><td>44655</td><td>0</td><td>2013-09-02 00:00:00.000</td><td>W</td><td>23</td><td>0.0000</td><td>2013-09-02 00:00:00.000</td></tr>",
                            "<tr><td>113790</td><td>960</td><td>44656</td><td>0</td><td>2013-09-02 00:00:00.000</td><td>W</td><td>6</td><td>0.0000</td><td>2013-09-02 00:00:00.000</td></tr>",
                            "<tr><td>113791</td><td>961</td><td>44657</td><td>0</td><td>2013-09-02 00:00:00.000</td><td>W</td><td>55</td><td>0.0000</td><td>2013-09-02 00:00:00.000</td></tr>",
                            "<tr><td>113792</td><td>962</td><td>44658</td><td>0</td><td>2013-09-02 00:00:00.000</td><td>W</td><td>25</td><td>0.0000</td><td>2013-09-02 00:00:00.000</td></tr>",
                            "<tr><td>113793</td><td>963</td><td>44659</td><td>0</td><td>2013-09-02 00:00:00.000</td><td>W</td><td>24</td><td>0.0000</td><td>2013-09-02 00:00:00.000</td></tr>",
                            "<tr><td>113794</td><td>964</td><td>44660</td><td>0</td><td>2013-09-02 00:00:00.000</td><td>W</td><td>10</td><td>0.0000</td><td>2013-09-02 00:00:00.000</td></tr>",
                            "<tr><td>113795</td><td>965</td><td>44661</td><td>0</td><td>2013-09-02 00:00:00.000</td><td>W</td><td>29</td><td>0.0000</td><td>2013-09-02 00:00:00.000</td></tr>",
                            "<tr><td>113796</td><td>966</td><td>44662</td><td>0</td><td>2013-09-02 00:00:00.000</td><td>W</td><td>40</td><td>0.0000</td><td>2013-09-02 00:00:00.000</td></tr>",
                            "<tr><td>113797</td><td>967</td><td>44663</td><td>0</td><td>2013-09-02 00:00:00.000</td><td>W</td><td>29</td><td>0.0000</td><td>2013-09-02 00:00:00.000</td></tr>",
                            "<tr><td>113798</td><td>968</td><td>44664</td><td>0</td><td>2013-09-02 00:00:00.000</td><td>W</td><td>8</td><td>0.0000</td><td>2013-09-02 00:00:00.000</td></tr>",
                            "<tr><td>113799</td><td>969</td><td>44665</td><td>0</td><td>2013-09-02 00:00:00.000</td><td>W</td><td>51</td><td>0.0000</td><td>2013-09-02 00:00:00.000</td></tr>",
                            "<tr><td>113800</td><td>970</td><td>44666</td><td>0</td><td>2013-09-02 00:00:00.000</td><td>W</td><td>30</td><td>0.0000</td><td>2013-09-02 00:00:00.000</td></tr>",
                            "<tr><td>113801</td><td>971</td><td>44667</td><td>0</td><td>2013-09-02 00:00:00.000</td><td>W</td><td>11</td><td>0.0000</td><td>2013-09-02 00:00:00.000</td></tr>",
                            "<tr><td>113802</td><td>972</td><td>44668</td><td>0</td><td>2013-09-02 00:00:00.000</td><td>W</td><td>60</td><td>0.0000</td><td>2013-09-02 00:00:00.000</td></tr>",
                            "<tr><td>113803</td><td>973</td><td>44669</td><td>0</td><td>2013-09-02 00:00:00.000</td><td>W</td><td>89</td><td>0.0000</td><td>2013-09-02 00:00:00.000</td></tr>",
                            "<tr><td>113804</td><td>974</td><td>44670</td><td>0</td><td>2013-09-02 00:00:00.000</td><td>W</td><td>67</td><td>0.0000</td><td>2013-09-02 00:00:00.000</td></tr>",
                            "<tr><td>113805</td><td>975</td><td>44671</td><td>0</td><td>2013-09-02 00:00:00.000</td><td>W</td><td>14</td><td>0.0000</td><td>2013-09-02 00:00:00.000</td></tr>",
                            "<tr><td>113806</td><td>976</td><td>44672</td><td>0</td><td>2013-09-02 00:00:00.000</td><td>W</td><td>86</td><td>0.0000</td><td>2013-09-02 00:00:00.000</td></tr>",
                            "<tr><td>113807</td><td>977</td><td>44673</td><td>0</td><td>2013-09-02 00:00:00.000</td><td>W</td><td>35</td><td>0.0000</td><td>2013-09-02 00:00:00.000</td></tr>",
                            "<tr><td>113808</td><td>978</td><td>44674</td><td>0</td><td>2013-09-02 00:00:00.000</td><td>W</td><td>8</td><td>0.0000</td><td>2013-09-02 00:00:00.000</td></tr>",
                            "<tr><td>113809</td><td>979</td><td>44675</td><td>0</td><td>2013-09-02 00:00:00.000</td><td>W</td><td>36</td><td>0.0000</td><td>2013-09-02 00:00:00.000</td></tr>",
                            "<tr><td>113810</td><td>980</td><td>44676</td><td>0</td><td>2013-09-02 00:00:00.000</td><td>W</td><td>21</td><td>0.0000</td><td>2013-09-02 00:00:00.000</td></tr>",
                            "<tr><td>113811</td><td>981</td><td>44677</td><td>0</td><td>2013-09-02 00:00:00.000</td><td>W</td><td>29</td><td>0.0000</td><td>2013-09-02 00:00:00.000</td></tr>",
                            "<tr><td>113812</td><td>982</td><td>44678</td><td>0</td><td>2013-09-02 00:00:00.000</td><td>W</td><td>23</td><td>0.0000</td><td>2013-09-02 00:00:00.000</td></tr>",
                            "<tr><td>113813</td><td>983</td><td>44679</td><td>0</td><td>2013-09-02 00:00:00.000</td><td>W</td><td>19</td><td>0.0000</td><td>2013-09-02 00:00:00.000</td></tr>",
                            "<tr><td>113814</td><td>984</td><td>44680</td><td>0</td><td>2013-09-02 00:00:00.000</td><td>W</td><td>25</td><td>0.0000</td><td>2013-09-02 00:00:00.000</td></tr>",
                            "<tr><td>113815</td><td>985</td><td>44681</td><td>0</td><td>2013-09-02 00:00:00.000</td><td>W</td><td>34</td><td>0.0000</td><td>2013-09-02 00:00:00.000</td></tr>",
                            "<tr><td>113816</td><td>986</td><td>44682</td><td>0</td><td>2013-09-02 00:00:00.000</td><td>W</td><td>16</td><td>0.0000</td><td>2013-09-02 00:00:00.000</td></tr>",
                            "<tr><td>113817</td><td>987</td><td>44683</td><td>0</td><td>2013-09-02 00:00:00.000</td><td>W</td><td>26</td><td>0.0000</td><td>2013-09-02 00:00:00.000</td></tr>",
                            "<tr><td>113818</td><td>988</td><td>44684</td><td>0</td><td>2013-09-02 00:00:00.000</td><td>W</td><td>26</td><td>0.0000</td><td>2013-09-02 00:00:00.000</td></tr>",
                            "<tr><td>113819</td><td>989</td><td>44685</td><td>0</td><td>2013-09-02 00:00:00.000</td><td>W</td><td>18</td><td>0.0000</td><td>2013-09-02 00:00:00.000</td></tr>",
                            "<tr><td>113820</td><td>990</td><td>44686</td><td>0</td><td>2013-09-02 00:00:00.000</td><td>W</td><td>23</td><td>0.0000</td><td>2013-09-02 00:00:00.000</td></tr>",
                            "<tr><td>113821</td><td>991</td><td>44687</td><td>0</td><td>2013-09-02 00:00:00.000</td><td>W</td><td>16</td><td>0.0000</td><td>2013-09-02 00:00:00.000</td></tr>",
                            "<tr><td>113822</td><td>992</td><td>44688</td><td>0</td><td>2013-09-02 00:00:00.000</td><td>W</td><td>24</td><td>0.0000</td><td>2013-09-02 00:00:00.000</td></tr>",
                            "<tr><td>113823</td><td>993</td><td>44689</td><td>0</td><td>2013-09-02 00:00:00.000</td><td>W</td><td>19</td><td>0.0000</td><td>2013-09-02 00:00:00.000</td></tr>",
                            "<tr><td>113824</td><td>994</td><td>44690</td><td>0</td><td>2013-09-02 00:00:00.000</td><td>W</td><td>31</td><td>0.0000</td><td>2013-09-02 00:00:00.000</td></tr>",
                            "<tr><td>113825</td><td>996</td><td>44691</td><td>0</td><td>2013-09-02 00:00:00.000</td><td>W</td><td>30</td><td>0.0000</td><td>2013-09-02 00:00:00.000</td></tr>",
                            "<tr><td>113826</td><td>997</td><td>44692</td><td>0</td><td>2013-09-02 00:00:00.000</td><td>W</td><td>25</td><td>0.0000</td><td>2013-09-02 00:00:00.000</td></tr>",
                            "<tr><td>113827</td><td>998</td><td>44693</td><td>0</td><td>2013-09-02 00:00:00.000</td><td>W</td><td>107</td><td>0.0000</td><td>2013-09-02 00:00:00.000</td></tr>",
                            "<tr><td>113828</td><td>999</td><td>44694</td><td>0</td><td>2013-09-02 00:00:00.000</td><td>W</td><td>69</td><td>0.0000</td><td>2013-09-02 00:00:00.000</td></tr>",
                            "<tr><td>113829</td><td>514</td><td>44695</td><td>0</td><td>2013-09-02 00:00:00.000</td><td>W</td><td>319</td><td>0.0000</td><td>2013-09-02 00:00:00.000</td></tr>",
                            "<tr><td>113830</td><td>516</td><td>44696</td><td>0</td><td>2013-09-02 00:00:00.000</td><td>W</td><td>342</td><td>0.0000</td><td>2013-09-02 00:00:00.000</td></tr>",
                            "<tr><td>113831</td><td>517</td><td>44697</td><td>0</td><td>2013-09-02 00:00:00.000</td><td>W</td><td>239</td><td>0.0000</td><td>2013-09-02 00:00:00.000</td></tr>",
                            "<tr><td>113832</td><td>518</td><td>44698</td><td>0</td><td>2013-09-02 00:00:00.000</td><td>W</td><td>451</td><td>0.0000</td><td>2013-09-02 00:00:00.000</td></tr>",
                            "<tr><td>113833</td><td>519</td><td>44699</td><td>0</td><td>2013-09-02 00:00:00.000</td><td>W</td><td>135</td><td>0.0000</td><td>2013-09-02 00:00:00.000</td></tr>",
                            "<tr><td>113834</td><td>520</td><td>44700</td><td>0</td><td>2013-09-02 00:00:00.000</td><td>W</td><td>247</td><td>0.0000</td><td>2013-09-02 00:00:00.000</td></tr>",
                            "<tr><td>113835</td><td>521</td><td>44701</td><td>0</td><td>2013-09-02 00:00:00.000</td><td>W</td><td>140</td><td>0.0000</td><td>2013-09-02 00:00:00.000</td></tr>",
                            "<tr><td>113836</td><td>522</td><td>44702</td><td>0</td><td>2013-09-02 00:00:00.000</td><td>W</td><td>310</td><td>0.0000</td><td>2013-09-02 00:00:00.000</td></tr>",
                            "<tr><td>113837</td><td>680</td><td>44703</td><td>0</td><td>2013-09-02 00:00:00.000</td><td>W</td><td>18</td><td>0.0000</td><td>2013-09-02 00:00:00.000</td></tr>",
                            "<tr><td>113838</td><td>706</td><td>44704</td><td>0</td><td>2013-09-02 00:00:00.000</td><td>W</td><td>12</td><td>0.0000</td><td>2013-09-02 00:00:00.000</td></tr>",
                            "<tr><td>113839</td><td>722</td><td>44705</td><td>0</td><td>2013-09-02 00:00:00.000</td><td>W</td><td>35</td><td>0.0000</td><td>2013-09-02 00:00:00.000</td></tr>",
                            "<tr><td>113840</td><td>725</td><td>44706</td><td>0</td><td>2013-09-02 00:00:00.000</td><td>W</td><td>3</td><td>0.0000</td><td>2013-09-02 00:00:00.000</td></tr>",
                            "<tr><td>113841</td><td>736</td><td>44707</td><td>0</td><td>2013-09-02 00:00:00.000</td><td>W</td><td>25</td><td>0.0000</td><td>2013-09-02 00:00:00.000</td></tr>",
                            "<tr><td>113842</td><td>737</td><td>44708</td><td>0</td><td>2013-09-02 00:00:00.000</td><td>W</td><td>107</td><td>0.0000</td><td>2013-09-02 00:00:00.000</td></tr>",
                            "<tr><td>113843</td><td>738</td><td>44709</td><td>0</td><td>2013-09-02 00:00:00.000</td><td>W</td><td>69</td><td>0.0000</td><td>2013-09-02 00:00:00.000</td></tr>",
                            "<tr><td>113844</td><td>739</td><td>44710</td><td>0</td><td>2013-09-02 00:00:00.000</td><td>W</td><td>49</td><td>0.0000</td><td>2013-09-02 00:00:00.000</td></tr>",
                            "<tr><td>113845</td><td>742</td><td>44711</td><td>0</td><td>2013-09-02 00:00:00.000</td><td>W</td><td>41</td><td>0.0000</td><td>2013-09-02 00:00:00.000</td></tr>",
                            "<tr><td>113846</td><td>743</td><td>44712</td><td>0</td><td>2013-09-02 00:00:00.000</td><td>W</td><td>72</td><td>0.0000</td><td>2013-09-02 00:00:00.000</td></tr>",
                            "<tr><td>113847</td><td>746</td><td>44713</td><td>0</td><td>2013-09-02 00:00:00.000</td><td>W</td><td>52</td><td>0.0000</td><td>2013-09-02 00:00:00.000</td></tr>",
                            "<tr><td>113848</td><td>747</td><td>44714</td><td>0</td><td>2013-09-02 00:00:00.000</td><td>W</td><td>62</td><td>0.0000</td><td>2013-09-02 00:00:00.000</td></tr>",
                            "<tr><td>113849</td><td>748</td><td>44715</td><td>0</td><td>2013-09-02 00:00:00.000</td><td>W</td><td>66</td><td>0.0000</td><td>2013-09-02 00:00:00.000</td></tr>",
                            "<tr><td>113850</td><td>805</td><td>44716</td><td>0</td><td>2013-09-02 00:00:00.000</td><td>W</td><td>710</td><td>0.0000</td><td>2013-09-02 00:00:00.000</td></tr>",
                            "<tr><td>113851</td><td>806</td><td>44717</td><td>0</td><td>2013-09-02 00:00:00.000</td><td>W</td><td>1163</td><td>0.0000</td><td>2013-09-02 00:00:00.000</td></tr>",
                            "<tr><td>113852</td><td>807</td><td>44718</td><td>0</td><td>2013-09-02 00:00:00.000</td><td>W</td><td>310</td><td>0.0000</td><td>2013-09-02 00:00:00.000</td></tr>",
                            "<tr><td>113853</td><td>808</td><td>44719</td><td>0</td><td>2013-09-02 00:00:00.000</td><td>W</td><td>319</td><td>0.0000</td><td>2013-09-02 00:00:00.000</td></tr>",
                            "<tr><td>113854</td><td>810</td><td>44720</td><td>0</td><td>2013-09-02 00:00:00.000</td><td>W</td><td>342</td><td>0.0000</td><td>2013-09-02 00:00:00.000</td></tr>",
                            "<tr><td>113855</td><td>811</td><td>44721</td><td>0</td><td>2013-09-02 00:00:00.000</td><td>W</td><td>239</td><td>0.0000</td><td>2013-09-02 00:00:00.000</td></tr>",
                            "<tr><td>113856</td><td>812</td><td>44722</td><td>0</td><td>2013-09-02 00:00:00.000</td><td>W</td><td>451</td><td>0.0000</td><td>2013-09-02 00:00:00.000</td></tr>",
                            "<tr><td>113857</td><td>813</td><td>44723</td><td>0</td><td>2013-09-02 00:00:00.000</td><td>W</td><td>135</td><td>0.0000</td><td>2013-09-02 00:00:00.000</td></tr>",
                            "<tr><td>113858</td><td>815</td><td>44724</td><td>0</td><td>2013-09-02 00:00:00.000</td><td>W</td><td>319</td><td>0.0000</td><td>2013-09-02 00:00:00.000</td></tr>",
                            "<tr><td>113859</td><td>816</td><td>44725</td><td>0</td><td>2013-09-02 00:00:00.000</td><td>W</td><td>342</td><td>0.0000</td><td>2013-09-02 00:00:00.000</td></tr>",
                            "<tr><td>113860</td><td>818</td><td>44726</td><td>0</td><td>2013-09-02 00:00:00.000</td><td>W</td><td>239</td><td>0.0000</td><td>2013-09-02 00:00:00.000</td></tr>",
                            "<tr><td>113861</td><td>819</td><td>44727</td><td>0</td><td>2013-09-02 00:00:00.000</td><td>W</td><td>451</td><td>0.0000</td><td>2013-09-02 00:00:00.000</td></tr>",
                            "<tr><td>113862</td><td>820</td><td>44728</td><td>0</td><td>2013-09-02 00:00:00.000</td><td>W</td><td>135</td><td>0.0000</td><td>2013-09-02 00:00:00.000</td></tr>",
                            "<tr><td>113863</td><td>821</td><td>44729</td><td>0</td><td>2013-09-02 00:00:00.000</td><td>W</td><td>697</td><td>0.0000</td><td>2013-09-02 00:00:00.000</td></tr>",
                            "<tr><td>113864</td><td>822</td><td>44730</td><td>0</td><td>2013-09-02 00:00:00.000</td><td>W</td><td>46</td><td>0.0000</td><td>2013-09-02 00:00:00.000</td></tr>",
                            "<tr><td>113865</td><td>823</td><td>44731</td><td>0</td><td>2013-09-02 00:00:00.000</td><td>W</td><td>319</td><td>0.0000</td><td>2013-09-02 00:00:00.000</td></tr>",
                            "<tr><td>113866</td><td>824</td><td>44732</td><td>0</td><td>2013-09-02 00:00:00.000</td><td>W</td><td>342</td><td>0.0000</td><td>2013-09-02 00:00:00.000</td></tr>",
                            "<tr><td>113867</td><td>826</td><td>44733</td><td>0</td><td>2013-09-02 00:00:00.000</td><td>W</td><td>239</td><td>0.0000</td><td>2013-09-02 00:00:00.000</td></tr>",
                            "<tr><td>113868</td><td>827</td><td>44734</td><td>0</td><td>2013-09-02 00:00:00.000</td><td>W</td><td>451</td><td>0.0000</td><td>2013-09-02 00:00:00.000</td></tr>",
                            "<tr><td>113869</td><td>828</td><td>44735</td><td>0</td><td>2013-09-02 00:00:00.000</td><td>W</td><td>135</td><td>0.0000</td><td>2013-09-02 00:00:00.000</td></tr>",
                            "<tr><td>113870</td><td>829</td><td>44736</td><td>0</td><td>2013-09-02 00:00:00.000</td><td>W</td><td>697</td><td>0.0000</td><td>2013-09-02 00:00:00.000</td></tr>",
                            "<tr><td>113871</td><td>833</td><td>44737</td><td>0</td><td>2013-09-02 00:00:00.000</td><td>W</td><td>126</td><td>0.0000</td><td>2013-09-02 00:00:00.000</td></tr>",
                            "<tr><td>113872</td><td>834</td><td>44738</td><td>0</td><td>2013-09-02 00:00:00.000</td><td>W</td><td>94</td><td>0.0000</td><td>2013-09-02 00:00:00.000</td></tr>",
                            "<tr><td>113873</td><td>835</td><td>44739</td><td>0</td><td>2013-09-02 00:00:00.000</td><td>W</td><td>34</td><td>0.0000</td><td>2013-09-02 00:00:00.000</td></tr>",
                            "<tr><td>113874</td><td>836</td><td>44740</td><td>0</td><td>2013-09-02 00:00:00.000</td><td>W</td><td>151</td><td>0.0000</td><td>2013-09-02 00:00:00.000</td></tr>",
                            "<tr><td>113875</td><td>838</td><td>44741</td><td>0</td><td>2013-09-02 00:00:00.000</td><td>W</td><td>46</td><td>0.0000</td><td>2013-09-02 00:00:00.000</td></tr>",
                            "<tr><td>113876</td><td>839</td><td>44742</td><td>0</td><td>2013-09-02 00:00:00.000</td><td>W</td><td>37</td><td>0.0000</td><td>2013-09-02 00:00:00.000</td></tr>",
                            "<tr><td>113877</td><td>840</td><td>44743</td><td>0</td><td>2013-09-02 00:00:00.000</td><td>W</td><td>22</td><td>0.0000</td><td>2013-09-02 00:00:00.000</td></tr>",
                            "<tr><td>113878</td><td>885</td><td>44744</td><td>0</td><td>2013-09-02 00:00:00.000</td><td>W</td><td>77</td><td>0.0000</td><td>2013-09-02 00:00:00.000</td></tr>",
                            "<tr><td>113879</td><td>886</td><td>44745</td><td>0</td><td>2013-09-02 00:00:00.000</td><td>W</td><td>29</td><td>0.0000</td><td>2013-09-02 00:00:00.000</td></tr>",
                            "<tr><td>113880</td><td>887</td><td>44746</td><td>0</td><td>2013-09-02 00:00:00.000</td><td>W</td><td>64</td><td>0.0000</td><td>2013-09-02 00:00:00.000</td></tr>",
                            "<tr><td>113881</td><td>888</td><td>44747</td><td>0</td><td>2013-09-02 00:00:00.000</td><td>W</td><td>29</td><td>0.0000</td><td>2013-09-02 00:00:00.000</td></tr>",
                            "<tr><td>113882</td><td>889</td><td>44748</td><td>0</td><td>2013-09-02 00:00:00.000</td><td>W</td><td>12</td><td>0.0000</td><td>2013-09-02 00:00:00.000</td></tr>",
                            "<tr><td>113883</td><td>890</td><td>44749</td><td>0</td><td>2013-09-02 00:00:00.000</td><td>W</td><td>70</td><td>0.0000</td><td>2013-09-02 00:00:00.000</td></tr>",
                            "<tr><td>113884</td><td>891</td><td>44750</td><td>0</td><td>2013-09-02 00:00:00.000</td><td>W</td><td>40</td><td>0.0000</td><td>2013-09-02 00:00:00.000</td></tr>",
                            "<tr><td>113885</td><td>892</td><td>44751</td><td>0</td><td>2013-09-02 00:00:00.000</td><td>W</td><td>68</td><td>0.0000</td><td>2013-09-02 00:00:00.000</td></tr>",
                            "<tr><td>113886</td><td>893</td><td>44752</td><td>0</td><td>2013-09-02 00:00:00.000</td><td>W</td><td>90</td><td>0.0000</td><td>2013-09-02 00:00:00.000</td></tr>",
                            "<tr><td>113887</td><td>894</td><td>44753</td><td>0</td><td>2013-09-02 00:00:00.000</td><td>W</td><td>2183</td><td>0.0000</td><td>2013-09-02 00:00:00.000</td></tr>",
                            "<tr><td>113888</td><td>895</td><td>44754</td><td>0</td><td>2013-09-02 00:00:00.000</td><td>W</td><td>36</td><td>0.0000</td><td>2013-09-02 00:00:00.000</td></tr>",
                            "<tr><td>113889</td><td>896</td><td>44755</td><td>0</td><td>2013-09-02 00:00:00.000</td><td>W</td><td>31</td><td>0.0000</td><td>2013-09-02 00:00:00.000</td></tr>",
                            "<tr><td>113890</td><td>897</td><td>44756</td><td>0</td><td>2013-09-02 00:00:00.000</td><td>W</td><td>23</td><td>0.0000</td><td>2013-09-02 00:00:00.000</td></tr>",
                            "<tr><td>113891</td><td>898</td><td>44757</td><td>0</td><td>2013-09-02 00:00:00.000</td><td>W</td><td>6</td><td>0.0000</td><td>2013-09-02 00:00:00.000</td></tr>",
                            "<tr><td>113892</td><td>899</td><td>44758</td><td>0</td><td>2013-09-02 00:00:00.000</td><td>W</td><td>55</td><td>0.0000</td><td>2013-09-02 00:00:00.000</td></tr>",
                            "<tr><td>113893</td><td>900</td><td>44759</td><td>0</td><td>2013-09-02 00:00:00.000</td><td>W</td><td>25</td><td>0.0000</td><td>2013-09-02 00:00:00.000</td></tr>",
                            "<tr><td>113894</td><td>901</td><td>44760</td><td>0</td><td>2013-09-02 00:00:00.000</td><td>W</td><td>24</td><td>0.0000</td><td>2013-09-02 00:00:00.000</td></tr>",
                            "<tr><td>113895</td><td>902</td><td>44761</td><td>0</td><td>2013-09-02 00:00:00.000</td><td>W</td><td>10</td><td>0.0000</td><td>2013-09-02 00:00:00.000</td></tr>",
                            "<tr><td>113896</td><td>903</td><td>44762</td><td>0</td><td>2013-09-02 00:00:00.000</td><td>W</td><td>8</td><td>0.0000</td><td>2013-09-02 00:00:00.000</td></tr>",
                            "<tr><td>113897</td><td>904</td><td>44763</td><td>0</td><td>2013-09-02 00:00:00.000</td><td>W</td><td>29</td><td>0.0000</td><td>2013-09-02 00:00:00.000</td></tr>",
                            "<tr><td>113898</td><td>905</td><td>44764</td><td>0</td><td>2013-09-02 00:00:00.000</td><td>W</td><td>23</td><td>0.0000</td><td>2013-09-02 00:00:00.000</td></tr>",
                            "<tr><td>113899</td><td>906</td><td>44765</td><td>0</td><td>2013-09-02 00:00:00.000</td><td>W</td><td>19</td><td>0.0000</td><td>2013-09-02 00:00:00.000</td></tr>",
                            "<tr><td>113900</td><td>917</td><td>44766</td><td>0</td><td>2013-09-02 00:00:00.000</td><td>W</td><td>34</td><td>0.0000</td><td>2013-09-02 00:00:00.000</td></tr>",
                            "<tr><td>113901</td><td>918</td><td>44767</td><td>0</td><td>2013-09-02 00:00:00.000</td><td>W</td><td>16</td><td>0.0000</td><td>2013-09-02 00:00:00.000</td></tr>",
                            "<tr><td>113902</td><td>919</td><td>44768</td><td>0</td><td>2013-09-02 00:00:00.000</td><td>W</td><td>26</td><td>0.0000</td><td>2013-09-02 00:00:00.000</td></tr>",
                            "<tr><td>113903</td><td>920</td><td>44769</td><td>0</td><td>2013-09-02 00:00:00.000</td><td>W</td><td>26</td><td>0.0000</td><td>2013-09-02 00:00:00.000</td></tr>",
                            "<tr><td>113904</td><td>924</td><td>44770</td><td>0</td><td>2013-09-02 00:00:00.000</td><td>W</td><td>23</td><td>0.0000</td><td>2013-09-02 00:00:00.000</td></tr>",
                            "<tr><td>113905</td><td>925</td><td>44771</td><td>0</td><td>2013-09-02 00:00:00.000</td><td>W</td><td>16</td><td>0.0000</td><td>2013-09-02 00:00:00.000</td></tr>",
                            "<tr><td>113906</td><td>926</td><td>44772</td><td>0</td><td>2013-09-02 00:00:00.000</td><td>W</td><td>24</td><td>0.0000</td><td>2013-09-02 00:00:00.000</td></tr>",
                            "<tr><td>113907</td><td>927</td><td>44773</td><td>0</td><td>2013-09-02 00:00:00.000</td><td>W</td><td>19</td><td>0.0000</td><td>2013-09-02 00:00:00.000</td></tr>",
                            "<tr><td>113908</td><td>942</td><td>44774</td><td>0</td><td>2013-09-02 00:00:00.000</td><td>W</td><td>21</td><td>0.0000</td><td>2013-09-02 00:00:00.000</td></tr>",
                            "<tr><td>113909</td><td>943</td><td>44775</td><td>0</td><td>2013-09-02 00:00:00.000</td><td>W</td><td>18</td><td>0.0000</td><td>2013-09-02 00:00:00.000</td></tr>",
                            "<tr><td>113910</td><td>944</td><td>44776</td><td>0</td><td>2013-09-02 00:00:00.000</td><td>W</td><td>25</td><td>0.0000</td><td>2013-09-02 00:00:00.000</td></tr>",
                            "<tr><td>113911</td><td>945</td><td>44777</td><td>0</td><td>2013-09-02 00:00:00.000</td><td>W</td><td>2183</td><td>0.0000</td><td>2013-09-02 00:00:00.000</td></tr>",
                            "<tr><td>113912</td><td>946</td><td>44778</td><td>0</td><td>2013-09-02 00:00:00.000</td><td>W</td><td>247</td><td>0.0000</td><td>2013-09-02 00:00:00.000</td></tr>",
                            "<tr><td>113913</td><td>947</td><td>44779</td><td>0</td><td>2013-09-02 00:00:00.000</td><td>W</td><td>450</td><td>0.0000</td><td>2013-09-02 00:00:00.000</td></tr>",
                            "<tr><td>113914</td><td>949</td><td>44780</td><td>0</td><td>2013-09-02 00:00:00.000</td><td>W</td><td>710</td><td>0.0000</td><td>2013-09-02 00:00:00.000</td></tr>",
                            "<tr><td>113915</td><td>950</td><td>44781</td><td>0</td><td>2013-09-02 00:00:00.000</td><td>W</td><td>1163</td><td>0.0000</td><td>2013-09-02 00:00:00.000</td></tr>",
                            "<tr><td>113916</td><td>951</td><td>44782</td><td>0</td><td>2013-09-02 00:00:00.000</td><td>W</td><td>310</td><td>0.0000</td><td>2013-09-02 00:00:00.000</td></tr>",
                            "<tr><td>113917</td><td>994</td><td>44783</td><td>0</td><td>2013-09-02 00:00:00.000</td><td>W</td><td>1000</td><td>0.0000</td><td>2013-09-02 00:00:00.000</td></tr>",
                            "<tr><td>113918</td><td>995</td><td>44784</td><td>0</td><td>2013-09-02 00:00:00.000</td><td>W</td><td>738</td><td>0.0000</td><td>2013-09-02 00:00:00.000</td></tr>",
                            "<tr><td>113919</td><td>996</td><td>44785</td><td>0</td><td>2013-09-02 00:00:00.000</td><td>W</td><td>445</td><td>0.0000</td><td>2013-09-02 00:00:00.000</td></tr>",
                            "<tr><td>113920</td><td>3</td><td>44786</td><td>0</td><td>2013-09-02 00:00:00.000</td><td>W</td><td>22440</td><td>0.0000</td><td>2013-09-02 00:00:00.000</td></tr>",
                            "<tr><td>113921</td><td>324</td><td>44787</td><td>0</td><td>2013-09-02 00:00:00.000</td><td>W</td><td>5816</td><td>0.0000</td><td>2013-09-02 00:00:00.000</td></tr>",
                            "<tr><td>113922</td><td>327</td><td>44788</td><td>0</td><td>2013-09-02 00:00:00.000</td><td>W</td><td>2908</td><td>0.0000</td><td>2013-09-02 00:00:00.000</td></tr>",
                            "<tr><td>113923</td><td>328</td><td>44789</td><td>0</td><td>2013-09-02 00:00:00.000</td><td>W</td><td>1496</td><td>0.0000</td><td>2013-09-02 00:00:00.000</td></tr>",
                            "<tr><td>113924</td><td>329</td><td>44790</td><td>0</td><td>2013-09-02 00:00:00.000</td><td>W</td><td>1688</td><td>0.0000</td><td>2013-09-02 00:00:00.000</td></tr>",
                            "<tr><td>113925</td><td>330</td><td>44791</td><td>0</td><td>2013-09-02 00:00:00.000</td><td>W</td><td>1422</td><td>0.0000</td><td>2013-09-02 00:00:00.000</td></tr>",
                            "<tr><td>113926</td><td>398</td><td>44792</td><td>0</td><td>2013-09-02 00:00:00.000</td><td>W</td><td>2303</td><td>0.0000</td><td>2013-09-02 00:00:00.000</td></tr>",
                            "<tr><td>113927</td><td>399</td><td>44793</td><td>0</td><td>2013-09-02 00:00:00.000</td><td>W</td><td>2908</td><td>0.0000</td><td>2013-09-02 00:00:00.000</td></tr>",
                            "<tr><td>113928</td><td>400</td><td>44794</td><td>0</td><td>2013-09-02 00:00:00.000</td><td>W</td><td>1116</td><td>0.0000</td><td>2013-09-02 00:00:00.000</td></tr>",
                            "<tr><td>113929</td><td>401</td><td>44795</td><td>0</td><td>2013-09-02 00:00:00.000</td><td>W</td><td>3250</td><td>0.0000</td><td>2013-09-02 00:00:00.000</td></tr>",
                            "<tr><td>113930</td><td>529</td><td>44796</td><td>0</td><td>2013-09-02 00:00:00.000</td><td>W</td><td>2303</td><td>0.0000</td><td>2013-09-02 00:00:00.000</td></tr>",
                            "<tr><td>113931</td><td>532</td><td>44797</td><td>0</td><td>2013-09-02 00:00:00.000</td><td>W</td><td>11632</td><td>0.0000</td><td>2013-09-02 00:00:00.000</td></tr>",
                            "<tr><td>113932</td><td>533</td><td>44798</td><td>0</td><td>2013-09-02 00:00:00.000</td><td>W</td><td>2908</td><td>0.0000</td><td>2013-09-02 00:00:00.000</td></tr>",
                            "<tr><td>113933</td><td>534</td><td>44799</td><td>0</td><td>2013-09-02 00:00:00.000</td><td>W</td><td>2908</td><td>0.0000</td><td>2013-09-02 00:00:00.000</td></tr>",
                            "<tr><td>113934</td><td>802</td><td>44800</td><td>0</td><td>2013-09-02 00:00:00.000</td><td>W</td><td>1002</td><td>0.0000</td><td>2013-09-02 00:00:00.000</td></tr>",
                            "<tr><td>113935</td><td>803</td><td>44801</td><td>0</td><td>2013-09-02 00:00:00.000</td><td>W</td><td>758</td><td>0.0000</td><td>2013-09-02 00:00:00.000</td></tr>",
                            "<tr><td>113936</td><td>804</td><td>44802</td><td>0</td><td>2013-09-02 00:00:00.000</td><td>W</td><td>1148</td><td>0.0000</td><td>2013-09-02 00:00:00.000</td></tr>",
                            "<tr><td>113937</td><td>316</td><td>44803</td><td>0</td><td>2013-09-02 00:00:00.000</td><td>W</td><td>5816</td><td>0.0000</td><td>2013-09-02 00:00:00.000</td></tr>",
                            "<tr><td>113938</td><td>331</td><td>44804</td><td>0</td><td>2013-09-02 00:00:00.000</td><td>W</td><td>5816</td><td>0.0000</td><td>2013-09-02 00:00:00.000</td></tr>",
                            "<tr><td>113939</td><td>350</td><td>44805</td><td>0</td><td>2013-09-02 00:00:00.000</td><td>W</td><td>2908</td><td>0.0000</td><td>2013-09-02 00:00:00.000</td></tr>",
                            "<tr><td>113940</td><td>531</td><td>44806</td><td>0</td><td>2013-09-02 00:00:00.000</td><td>W</td><td>2908</td><td>0.0000</td><td>2013-09-02 00:00:00.000</td></tr>",
                            "<tr><td>113941</td><td>780</td><td>55505</td><td>1</td><td>2013-09-02 00:00:00.000</td><td>S</td><td>1</td><td>2319.9900</td><td>2013-09-02 00:00:00.000</td></tr>",
                            "<tr><td>113942</td><td>880</td><td>55505</td><td>2</td><td>2013-09-02 00:00:00.000</td><td>S</td><td>1</td><td>54.9900</td><td>2013-09-02 00:00:00.000</td></tr>",
                            "<tr><td>113943</td><td>869</td><td>55506</td><td>2</td><td>2013-09-02 00:00:00.000</td><td>S</td><td>1</td><td>69.9900</td><td>2013-09-02 00:00:00.000</td></tr>",
                            "<tr><td>113944</td><td>981</td><td>55506</td><td>1</td><td>2013-09-02 00:00:00.000</td><td>S</td><td>1</td><td>769.4900</td><td>2013-09-02 00:00:00.000</td></tr>",
                            "<tr><td>113945</td><td>707</td><td>55507</td><td>3</td><td>2013-09-02 00:00:00.000</td><td>S</td><td>1</td><td>34.9900</td><td>2013-09-02 00:00:00.000</td></tr>",
                            "<tr><td>113946</td><td>716</td><td>55507</td><td>4</td><td>2013-09-02 00:00:00.000</td><td>S</td><td>1</td><td>49.9900</td><td>2013-09-02 00:00:00.000</td></tr>",
                            "<tr><td>113947</td><td>922</td><td>55507</td><td>1</td><td>2013-09-02 00:00:00.000</td><td>S</td><td>1</td><td>3.9900</td><td>2013-09-02 00:00:00.000</td></tr>",
                            "<tr><td>113948</td><td>931</td><td>55507</td><td>2</td><td>2013-09-02 00:00:00.000</td><td>S</td><td>1</td><td>21.4900</td><td>2013-09-02 00:00:00.000</td></tr>",
                            "<tr><td>113949</td><td>873</td><td>55508</td><td>2</td><td>2013-09-02 00:00:00.000</td><td>S</td><td>1</td><td>2.2900</td><td>2013-09-02 00:00:00.000</td></tr>",
                            "<tr><td>113950</td><td>921</td><td>55508</td><td>1</td><td>2013-09-02 00:00:00.000</td><td>S</td><td>1</td><td>4.9900</td><td>2013-09-02 00:00:00.000</td></tr>",
                            "<tr><td>113951</td><td>866</td><td>55509</td><td>3</td><td>2013-09-02 00:00:00.000</td><td>S</td><td>1</td><td>63.5000</td><td>2013-09-02 00:00:00.000</td></tr>",
                            "<tr><td>113952</td><td>880</td><td>55509</td><td>2</td><td>2013-09-02 00:00:00.000</td><td>S</td><td>1</td><td>54.9900</td><td>2013-09-02 00:00:00.000</td></tr>",
                            "<tr><td>113953</td><td>922</td><td>55509</td><td>1</td><td>2013-09-02 00:00:00.000</td><td>S</td><td>1</td><td>3.9900</td><td>2013-09-02 00:00:00.000</td></tr>",
                            "<tr><td>113954</td><td>712</td><td>55510</td><td>2</td><td>2013-09-02 00:00:00.000</td><td>S</td><td>1</td><td>8.9900</td><td>2013-09-02 00:00:00.000</td></tr>",
                            "<tr><td>113955</td><td>870</td><td>55510</td><td>3</td><td>2013-09-02 00:00:00.000</td><td>S</td><td>1</td><td>4.9900</td><td>2013-09-02 00:00:00.000</td></tr>",
                            "<tr><td>113956</td><td>871</td><td>55510</td><td>1</td><td>2013-09-02 00:00:00.000</td><td>S</td><td>1</td><td>9.9900</td><td>2013-09-02 00:00:00.000</td></tr>",
                            "<tr><td>113957</td><td>877</td><td>55511</td><td>1</td><td>2013-09-02 00:00:00.000</td><td>S</td><td>1</td><td>7.9500</td><td>2013-09-02 00:00:00.000</td></tr>",
                            "<tr><td>113958</td><td>858</td><td>55512</td><td>1</td><td>2013-09-02 00:00:00.000</td><td>S</td><td>1</td><td>24.4900</td><td>2013-09-02 00:00:00.000</td></tr>",
                            "<tr><td>113959</td><td>879</td><td>55513</td><td>2</td><td>2013-09-02 00:00:00.000</td><td>S</td><td>1</td><td>159.0000</td><td>2013-09-02 00:00:00.000</td></tr>",
                            "<tr><td>113960</td><td>983</td><td>55513</td><td>1</td><td>2013-09-02 00:00:00.000</td><td>S</td><td>1</td><td>769.4900</td><td>2013-09-02 00:00:00.000</td></tr>",
                            "<tr><td>113961</td><td>873</td><td>55514</td><td>2</td><td>2013-09-02 00:00:00.000</td><td>S</td><td>1</td><td>2.2900</td><td>2013-09-02 00:00:00.000</td></tr>",
                            "<tr><td>113962</td><td>922</td><td>55514</td><td>1</td><td>2013-09-02 00:00:00.000</td><td>S</td><td>1</td><td>3.9900</td><td>2013-09-02 00:00:00.000</td></tr>",
                            "<tr><td>113963</td><td>865</td><td>55515</td><td>2</td><td>2013-09-02 00:00:00.000</td><td>S</td><td>1</td><td>63.5000</td><td>2013-09-02 00:00:00.000</td></tr>",
                            "<tr><td>113964</td><td>922</td><td>55515</td><td>1</td><td>2013-09-02 00:00:00.000</td><td>S</td><td>1</td><td>3.9900</td><td>2013-09-02 00:00:00.000</td></tr>",
                            "<tr><td>113965</td><td>708</td><td>55516</td><td>3</td><td>2013-09-02 00:00:00.000</td><td>S</td><td>1</td><td>34.9900</td><td>2013-09-02 00:00:00.000</td></tr>",
                            "<tr><td>113966</td><td>922</td><td>55516</td><td>1</td><td>2013-09-02 00:00:00.000</td><td>S</td><td>1</td><td>3.9900</td><td>2013-09-02 00:00:00.000</td></tr>",
                            "<tr><td>113967</td><td>932</td><td>55516</td><td>2</td><td>2013-09-02 00:00:00.000</td><td>S</td><td>1</td><td>24.9900</td><td>2013-09-02 00:00:00.000</td></tr>",
                            "<tr><td>113968</td><td>923</td><td>55517</td><td>1</td><td>2013-09-02 00:00:00.000</td><td>S</td><td>1</td><td>4.9900</td><td>2013-09-02 00:00:00.000</td></tr>",
                            "<tr><td>113969</td><td>873</td><td>55518</td><td>2</td><td>2013-09-02 00:00:00.000</td><td>S</td><td>1</td><td>2.2900</td><td>2013-09-02 00:00:00.000</td></tr>",
                            "<tr><td>113970</td><td>928</td><td>55518</td><td>1</td><td>2013-09-02 00:00:00.000</td><td>S</td><td>1</td><td>24.9900</td><td>2013-09-02 00:00:00.000</td></tr>",
                            "<tr><td>113971</td><td>928</td><td>55519</td><td>1</td><td>2013-09-02 00:00:00.000</td><td>S</td><td>1</td><td>24.9900</td><td>2013-09-02 00:00:00.000</td></tr>",
                            "<tr><td>113972</td><td>873</td><td>55520</td><td>3</td><td>2013-09-02 00:00:00.000</td><td>S</td><td>1</td><td>2.2900</td><td>2013-09-02 00:00:00.000</td></tr>",
                            "<tr><td>113973</td><td>877</td><td>55520</td><td>4</td><td>2013-09-02 00:00:00.000</td><td>S</td><td>1</td><td>7.9500</td><td>2013-09-02 00:00:00.000</td></tr>",
                            "<tr><td>113974</td><td>922</td><td>55520</td><td>2</td><td>2013-09-02 00:00:00.000</td><td>S</td><td>1</td><td>3.9900</td><td>2013-09-02 00:00:00.000</td></tr>",
                            "<tr><td>113975</td><td>933</td><td>55520</td><td>1</td><td>2013-09-02 00:00:00.000</td><td>S</td><td>1</td><td>32.6000</td><td>2013-09-02 00:00:00.000</td></tr>",
                            "<tr><td>113976</td><td>873</td><td>55521</td><td>2</td><td>2013-09-02 00:00:00.000</td><td>S</td><td>1</td><td>2.2900</td><td>2013-09-02 00:00:00.000</td></tr>",
                            "<tr><td>113977</td><td>929</td><td>55521</td><td>1</td><td>2013-09-02 00:00:00.000</td><td>S</td><td>1</td><td>29.9900</td><td>2013-09-02 00:00:00.000</td></tr>",
                            "<tr><td>113978</td><td>870</td><td>55522</td><td>2</td><td>2013-09-02 00:00:00.000</td><td>S</td><td>1</td><td>4.9900</td><td>2013-09-02 00:00:00.000</td></tr>",
                            "<tr><td>113979</td><td>871</td><td>55522</td><td>1</td><td>2013-09-02 00:00:00.000</td><td>S</td><td>1</td><td>9.9900</td><td>2013-09-02 00:00:00.000</td></tr>",
                            "<tr><td>113980</td><td>881</td><td>55522</td><td>3</td><td>2013-09-02 00:00:00.000</td><td>S</td><td>1</td><td>53.9900</td><td>2013-09-02 00:00:00.000</td></tr>",
                            "<tr><td>113981</td><td>869</td><td>55523</td><td>1</td><td>2013-09-02 00:00:00.000</td><td>S</td><td>1</td><td>69.9900</td><td>2013-09-02 00:00:00.000</td></tr>",
                            "<tr><td>113982</td><td>870</td><td>55524</td><td>1</td><td>2013-09-02 00:00:00.000</td><td>S</td><td>1</td><td>4.9900</td><td>2013-09-02 00:00:00.000</td></tr>",
                            "<tr><td>113983</td><td>873</td><td>55524</td><td>2</td><td>2013-09-02 00:00:00.000</td><td>S</td><td>1</td><td>2.2900</td><td>2013-09-02 00:00:00.000</td></tr>",
                            "<tr><td>113984</td><td>877</td><td>55524</td><td>3</td><td>2013-09-02 00:00:00.000</td><td>S</td><td>1</td><td>7.9500</td><td>2013-09-02 00:00:00.000</td></tr>",
                            "<tr><td>113985</td><td>870</td><td>55525</td><td>1</td><td>2013-09-02 00:00:00.000</td><td>S</td><td>1</td><td>4.9900</td><td>2013-09-02 00:00:00.000</td></tr>",
                            "<tr><td>113986</td><td>712</td><td>55526</td><td>2</td><td>2013-09-02 00:00:00.000</td><td>S</td><td>1</td><td>8.9900</td><td>2013-09-02 00:00:00.000</td></tr>",
                            "<tr><td>113987</td><td>868</td><td>55526</td><td>1</td><td>2013-09-02 00:00:00.000</td><td>S</td><td>1</td><td>69.9900</td><td>2013-09-02 00:00:00.000</td></tr>",
                            "<tr><td>113988</td><td>711</td><td>55527</td><td>2</td><td>2013-09-02 00:00:00.000</td><td>S</td><td>1</td><td>34.9900</td><td>2013-09-02 00:00:00.000</td></tr>",
                            "<tr><td>113989</td><td>870</td><td>55527</td><td>1</td><td>2013-09-02 00:00:00.000</td><td>S</td><td>1</td><td>4.9900</td><td>2013-09-02 00:00:00.000</td></tr>",
                            "<tr><td>113990</td><td>712</td><td>55528</td><td>2</td><td>2013-09-02 00:00:00.000</td><td>S</td><td>1</td><td>8.9900</td><td>2013-09-02 00:00:00.000</td></tr>",
                            "<tr><td>113991</td><td>870</td><td>55528</td><td>1</td><td>2013-09-02 00:00:00.000</td><td>S</td><td>1</td><td>4.9900</td><td>2013-09-02 00:00:00.000</td></tr>",
                            "<tr><td>113992</td><td>871</td><td>55529</td><td>2</td><td>2013-09-02 00:00:00.000</td><td>S</td><td>1</td><td>9.9900</td><td>2013-09-02 00:00:00.000</td></tr>",
                            "<tr><td>113993</td><td>878</td><td>55529</td><td>1</td><td>2013-09-02 00:00:00.000</td><td>S</td><td>1</td><td>21.9800</td><td>2013-09-02 00:00:00.000</td></tr>",
                            "<tr><td>113994</td><td>711</td><td>55530</td><td>2</td><td>2013-09-02 00:00:00.000</td><td>S</td><td>1</td><td>34.9900</td><td>2013-09-02 00:00:00.000</td></tr>",
                            "<tr><td>113995</td><td>921</td><td>55530</td><td>1</td><td>2013-09-02 00:00:00.000</td><td>S</td><td>1</td><td>4.9900</td><td>2013-09-02 00:00:00.000</td></tr>",
                            "<tr><td>113996</td><td>711</td><td>55531</td><td>2</td><td>2013-09-02 00:00:00.000</td><td>S</td><td>1</td><td>34.9900</td><td>2013-09-02 00:00:00.000</td></tr>",
                            "<tr><td>113997</td><td>922</td><td>55531</td><td>1</td><td>2013-09-02 00:00:00.000</td><td>S</td><td>1</td><td>3.9900</td><td>2013-09-02 00:00:00.000</td></tr>",
                            "<tr><td>113998</td><td>708</td><td>55532</td><td>3</td><td>2013-09-02 00:00:00.000</td><td>S</td><td>1</td><td>34.9900</td><td>2013-09-02 00:00:00.000</td></tr>",
                            "<tr><td>113999</td><td>712</td><td>55532</td><td>5</td><td>2013-09-02 00:00:00.000</td><td>S</td><td>1</td><td>8.9900</td><td>2013-09-02 00:00:00.000</td></tr>",
                            "<tr><td>114000</td><td>716</td><td>55532</td><td>4</td><td>2013-09-02 00:00:00.000</td><td>S</td><td>1</td><td>49.9900</td><td>2013-09-02 00:00:00.000</td></tr>",
                            "<tr><td>114001</td><td>921</td><td>55532</td><td>2</td><td>2013-09-02 00:00:00.000</td><td>S</td><td>1</td><td>4.9900</td><td>2013-09-02 00:00:00.000</td></tr>",
                            "<tr><td>114002</td><td>929</td><td>55532</td><td>1</td><td>2013-09-02 00:00:00.000</td><td>S</td><td>1</td><td>29.9900</td><td>2013-09-02 00:00:00.000</td></tr>",
                            "<tr><td>114003</td><td>873</td><td>55533</td><td>2</td><td>2013-09-02 00:00:00.000</td><td>S</td><td>1</td><td>2.2900</td><td>2013-09-02 00:00:00.000</td></tr>",
                            "<tr><td>114004</td><td>879</td><td>55533</td><td>3</td><td>2013-09-02 00:00:00.000</td><td>S</td><td>1</td><td>159.0000</td><td>2013-09-02 00:00:00.000</td></tr>",
                            "<tr><td>114005</td><td>922</td><td>55533</td><td>1</td><td>2013-09-02 00:00:00.000</td><td>S</td><td>1</td><td>3.9900</td><td>2013-09-02 00:00:00.000</td></tr>",
                            "<tr><td>114006</td><td>873</td><td>55534</td><td>3</td><td>2013-09-02 00:00:00.000</td><td>S</td><td>1</td><td>2.2900</td><td>2013-09-02 00:00:00.000</td></tr>",
                            "<tr><td>114007</td><td>923</td><td>55534</td><td>1</td><td>2013-09-02 00:00:00.000</td><td>S</td><td>1</td><td>4.9900</td><td>2013-09-02 00:00:00.000</td></tr>",
                            "<tr><td>114008</td><td>934</td><td>55534</td><td>2</td><td>2013-09-02 00:00:00.000</td><td>S</td><td>1</td><td>28.9900</td><td>2013-09-02 00:00:00.000</td></tr>",
                            "<tr><td>114009</td><td>711</td><td>55535</td><td>2</td><td>2013-09-02 00:00:00.000</td><td>S</td><td>1</td><td>34.9900</td><td>2013-09-02 00:00:00.000</td></tr>",
                            "<tr><td>114010</td><td>923</td><td>55535</td><td>1</td><td>2013-09-02 00:00:00.000</td><td>S</td><td>1</td><td>4.9900</td><td>2013-09-02 00:00:00.000</td></tr>",
                            "<tr><td>114011</td><td>708</td><td>55536</td><td>3</td><td>2013-09-02 00:00:00.000</td><td>S</td><td>1</td><td>34.9900</td><td>2013-09-02 00:00:00.000</td></tr>",
                            "<tr><td>114012</td><td>921</td><td>55536</td><td>2</td><td>2013-09-02 00:00:00.000</td><td>S</td><td>1</td><td>4.9900</td><td>2013-09-02 00:00:00.000</td></tr>",
                            "<tr><td>114013</td><td>930</td><td>55536</td><td>1</td><td>2013-09-02 00:00:00.000</td><td>S</td><td>1</td><td>35.0000</td><td>2013-09-02 00:00:00.000</td></tr>",
                            "<tr><td>114014</td><td>867</td><td>55537</td><td>2</td><td>2013-09-02 00:00:00.000</td><td>S</td><td>1</td><td>69.9900</td><td>2013-09-02 00:00:00.000</td></tr>",
                            "<tr><td>114015</td><td>980</td><td>55537</td><td>1</td><td>2013-09-02 00:00:00.000</td><td>S</td><td>1</td><td>769.4900</td><td>2013-09-02 00:00:00.000</td></tr>",
                            "<tr><td>114016</td><td>983</td><td>55538</td><td>1</td><td>2013-09-02 00:00:00.000</td><td>S</td><td>1</td><td>769.4900</td><td>2013-09-02 00:00:00.000</td></tr>",
                            "<tr><td>114017</td><td>932</td><td>55539</td><td>2</td><td>2013-09-02 00:00:00.000</td><td>S</td><td>1</td><td>24.9900</td><td>2013-09-02 00:00:00.000</td></tr>",
                            "<tr><td>114018</td><td>973</td><td>55539</td><td>1</td><td>2013-09-02 00:00:00.000</td><td>S</td><td>1</td><td>1700.9900</td><td>2013-09-02 00:00:00.000</td></tr>",
                            "<tr><td>114019</td><td>711</td><td>55540</td><td>4</td><td>2013-09-02 00:00:00.000</td><td>S</td><td>1</td><td>34.9900</td><td>2013-09-02 00:00:00.000</td></tr>",
                            "<tr><td>114020</td><td>859</td><td>55540</td><td>5</td><td>2013-09-02 00:00:00.000</td><td>S</td><td>1</td><td>24.4900</td><td>2013-09-02 00:00:00.000</td></tr>",
                            "<tr><td>114021</td><td>870</td><td>55540</td><td>2</td><td>2013-09-02 00:00:00.000</td><td>S</td><td>1</td><td>4.9900</td><td>2013-09-02 00:00:00.000</td></tr>",
                            "<tr><td>114022</td><td>872</td><td>55540</td><td>3</td><td>2013-09-02 00:00:00.000</td><td>S</td><td>1</td><td>8.9900</td><td>2013-09-02 00:00:00.000</td></tr>",
                            "<tr><td>114023</td><td>997</td><td>55540</td><td>1</td><td>2013-09-02 00:00:00.000</td><td>S</td><td>1</td><td>539.9900</td><td>2013-09-02 00:00:00.000</td></tr>",
                            "<tr><td>114024</td><td>711</td><td>55541</td><td>2</td><td>2013-09-02 00:00:00.000</td><td>S</td><td>1</td><td>34.9900</td><td>2013-09-02 00:00:00.000</td></tr>",
                            "<tr><td>114025</td><td>795</td><td>55541</td><td>1</td><td>2013-09-02 00:00:00.000</td><td>S</td><td>1</td><td>2443.3500</td><td>2013-09-02 00:00:00.000</td></tr>",
                            "<tr><td>114026</td><td>707</td><td>55542</td><td>2</td><td>2013-09-02 00:00:00.000</td><td>S</td><td>1</td><td>34.9900</td><td>2013-09-02 00:00:00.000</td></tr>",
                            "<tr><td>114027</td><td>795</td><td>55542</td><td>1</td><td>2013-09-02 00:00:00.000</td><td>S</td><td>1</td><td>2443.3500</td><td>2013-09-02 00:00:00.000</td></tr>",
                            "<tr><td>114028</td><td>707</td><td>55543</td><td>4</td><td>2013-09-02 00:00:00.000</td><td>S</td><td>1</td><td>34.9900</td><td>2013-09-02 00:00:00.000</td></tr>",
                            "<tr><td>114029</td><td>782</td><td>55543</td><td>1</td><td>2013-09-02 00:00:00.000</td><td>S</td><td>1</td><td>2294.9900</td><td>2013-09-02 00:00:00.000</td></tr>",
                            "<tr><td>114030</td><td>858</td><td>55543</td><td>5</td><td>2013-09-02 00:00:00.000</td><td>S</td><td>1</td><td>24.4900</td><td>2013-09-02 00:00:00.000</td></tr>",
                            "<tr><td>114031</td><td>921</td><td>55543</td><td>3</td><td>2013-09-02 00:00:00.000</td><td>S</td><td>1</td><td>4.9900</td><td>2013-09-02 00:00:00.000</td></tr>",
                            "<tr><td>114032</td><td>930</td><td>55543</td><td>2</td><td>2013-09-02 00:00:00.000</td><td>S</td><td>1</td><td>35.0000</td><td>2013-09-02 00:00:00.000</td></tr>",
                            "<tr><td>114033</td><td>707</td><td>55544</td><td>2</td><td>2013-09-02 00:00:00.000</td><td>S</td><td>1</td><td>34.9900</td><td>2013-09-02 00:00:00.000</td></tr>",
                            "<tr><td>114034</td><td>971</td><td>55544</td><td>1</td><td>2013-09-02 00:00:00.000</td><td>S</td><td>1</td><td>1214.8500</td><td>2013-09-02 00:00:00.000</td></tr>",
                            "<tr><td>114035</td><td>712</td><td>55545</td><td>4</td><td>2013-09-02 00:00:00.000</td><td>S</td><td>1</td><td>8.9900</td><td>2013-09-02 00:00:00.000</td></tr>",
                            "<tr><td>114036</td><td>870</td><td>55545</td><td>2</td><td>2013-09-02 00:00:00.000</td><td>S</td><td>1</td><td>4.9900</td><td>2013-09-02 00:00:00.000</td></tr>",
                            "<tr><td>114037</td><td>872</td><td>55545</td><td>3</td><td>2013-09-02 00:00:00.000</td><td>S</td><td>1</td><td>8.9900</td><td>2013-09-02 00:00:00.000</td></tr>",
                            "<tr><td>114038</td><td>967</td><td>55545</td><td>1</td><td>2013-09-02 00:00:00.000</td><td>S</td><td>1</td><td>2384.0700</td><td>2013-09-02 00:00:00.000</td></tr>",
                            "<tr><td>114039</td><td>934</td><td>55546</td><td>2</td><td>2013-09-02 00:00:00.000</td><td>S</td><td>1</td><td>28.9900</td><td>2013-09-02 00:00:00.000</td></tr>",
                            "<tr><td>114040</td><td>967</td><td>55546</td><td>1</td><td>2013-09-02 00:00:00.000</td><td>S</td><td>1</td><td>2384.0700</td><td>2013-09-02 00:00:00.000</td></tr>",
                            "<tr><td>114041</td><td>884</td><td>55547</td><td>2</td><td>2013-09-02 00:00:00.000</td><td>S</td><td>1</td><td>53.9900</td><td>2013-09-02 00:00:00.000</td></tr>",
                            "<tr><td>114042</td><td>968</td><td>55547</td><td>1</td><td>2013-09-02 00:00:00.000</td><td>S</td><td>1</td><td>2384.0700</td><td>2013-09-02 00:00:00.000</td></tr>",
                            "<tr><td>114043</td><td>797</td><td>55548</td><td>1</td><td>2013-09-02 00:00:00.000</td><td>S</td><td>1</td><td>1120.4900</td><td>2013-09-02 00:00:00.000</td></tr>",
                            "<tr><td>114044</td><td>870</td><td>55548</td><td>2</td><td>2013-09-02 00:00:00.000</td><td>S</td><td>1</td><td>4.9900</td><td>2013-09-02 00:00:00.000</td></tr>",
                            "<tr><td>114045</td><td>872</td><td>55548</td><td>3</td><td>2013-09-02 00:00:00.000</td><td>S</td><td>1</td><td>8.9900</td><td>2013-09-02 00:00:00.000</td></tr>",
                            "<tr><td>114046</td><td>880</td><td>55548</td><td>4</td><td>2013-09-02 00:00:00.000</td><td>S</td><td>1</td><td>54.9900</td><td>2013-09-02 00:00:00.000</td></tr>",
                            "<tr><td>114047</td><td>711</td><td>55549</td><td>2</td><td>2013-09-02 00:00:00.000</td><td>S</td><td>1</td><td>34.9900</td><td>2013-09-02 00:00:00.000</td></tr>",
                            "<tr><td>114048</td><td>801</td><td>55549</td><td>1</td><td>2013-09-02 00:00:00.000</td><td>S</td><td>1</td><td>1120.4900</td><td>2013-09-02 00:00:00.000</td></tr>",
                            "<tr><td>114049</td><td>712</td><td>55550</td><td>4</td><td>2013-09-02 00:00:00.000</td><td>S</td><td>1</td><td>8.9900</td><td>2013-09-02 00:00:00.000</td></tr>",
                            "<tr><td>114050</td><td>870</td><td>55550</td><td>2</td><td>2013-09-02 00:00:00.000</td><td>S</td><td>1</td><td>4.9900</td><td>2013-09-02 00:00:00.000</td></tr>",
                            "<tr><td>114051</td><td>872</td><td>55550</td><td>3</td><td>2013-09-02 00:00:00.000</td><td>S</td><td>1</td><td>8.9900</td><td>2013-09-02 00:00:00.000</td></tr>",
                            "<tr><td>114052</td><td>998</td><td>55550</td><td>1</td><td>2013-09-02 00:00:00.000</td><td>S</td><td>1</td><td>539.9900</td><td>2013-09-02 00:00:00.000</td></tr>",
                            "<tr><td>114053</td><td>711</td><td>55551</td><td>4</td><td>2013-09-02 00:00:00.000</td><td>S</td><td>1</td><td>34.9900</td><td>2013-09-02 00:00:00.000</td></tr>",
                            "<tr><td>114054</td><td>870</td><td>55551</td><td>2</td><td>2013-09-02 00:00:00.000</td><td>S</td><td>1</td><td>4.9900</td><td>2013-09-02 00:00:00.000</td></tr>",
                            "<tr><td>114055</td><td>872</td><td>55551</td><td>3</td><td>2013-09-02 00:00:00.000</td><td>S</td><td>1</td><td>8.9900</td><td>2013-09-02 00:00:00.000</td></tr>",
                            "<tr><td>114056</td><td>997</td><td>55551</td><td>1</td><td>2013-09-02 00:00:00.000</td><td>S</td><td>1</td><td>539.9900</td><td>2013-09-02 00:00:00.000</td></tr>",
                            "<tr><td>114057</td><td>870</td><td>55552</td><td>3</td><td>2013-09-02 00:00:00.000</td><td>S</td><td>1</td><td>4.9900</td><td>2013-09-02 00:00:00.000</td></tr>",
                            "<tr><td>114058</td><td>872</td><td>55552</td><td>2</td><td>2013-09-02 00:00:00.000</td><td>S</td><td>1</td><td>8.9900</td><td>2013-09-02 00:00:00.000</td></tr>",
                            "<tr><td>114059</td><td>977</td><td>55552</td><td>1</td><td>2013-09-02 00:00:00.000</td><td>S</td><td>1</td><td>539.9900</td><td>2013-09-02 00:00:00.000</td></tr>",
                            "<tr><td>114060</td><td>711</td><td>55553</td><td>2</td><td>2013-09-02 00:00:00.000</td><td>S</td><td>1</td><td>34.9900</td><td>2013-09-02 00:00:00.000</td></tr>",
                            "<tr><td>114061</td><td>957</td><td>55553</td><td>1</td><td>2013-09-02 00:00:00.000</td><td>S</td><td>1</td><td>2384.0700</td><td>2013-09-02 00:00:00.000</td></tr>",
                            "<tr><td>114062</td><td>934</td><td>55554</td><td>2</td><td>2013-09-02 00:00:00.000</td><td>S</td><td>1</td><td>28.9900</td><td>2013-09-02 00:00:00.000</td></tr>",
                            "<tr><td>114063</td><td>969</td><td>55554</td><td>1</td><td>2013-09-02 00:00:00.000</td><td>S</td><td>1</td><td>2384.0700</td><td>2013-09-02 00:00:00.000</td></tr>",
                            "</table>"
                        ]
                    }
                }
            ],
            "execution_count": 8
        },
        {
            "cell_type": "code",
            "source": [
                "-- recipe 8-7\r\n",
                "IF OBJECT_ID('HumanResources.Degree') IS NOT NULL DROP TABLE HumanResources.Degree;\r\n",
                "CREATE TABLE HumanResources.Degree\r\n",
                "       (\r\n",
                "        DegreeID INT NOT NULL\r\n",
                "                     IDENTITY(1, 1)\r\n",
                "                     PRIMARY KEY,\r\n",
                "        DegreeName VARCHAR(30) NOT NULL,\r\n",
                "        DegreeCode VARCHAR(5) NOT NULL,\r\n",
                "        ModifiedDate DATETIME NOT NULL\r\n",
                "       ) ;\r\n",
                "GO\r\n",
                "INSERT  INTO HumanResources.Degree\r\n",
                "        (DegreeName, DegreeCode, ModifiedDate)\r\n",
                "VALUES  ('Bachelor of Arts', 'B.A.', GETDATE()),\r\n",
                "        ('Bachelor of Science', 'B.S.', GETDATE()),\r\n",
                "        ('Master of Arts', 'M.A.', GETDATE()),\r\n",
                "        ('Master of Science', 'M.S.', GETDATE()),\r\n",
                "        ('Associate\" s Degree', 'A.A.', GETDATE()) ;\r\n",
                "GO\r\n",
                "IF OBJECT_ID('HumanResources.Degree') IS NOT NULL DROP TABLE HumanResources.Degree;"
            ],
            "metadata": {
                "azdata_cell_guid": "bc02c56f-a44e-4e89-8e30-4ff035d74142"
            },
            "outputs": [
                {
                    "output_type": "display_data",
                    "data": {
                        "text/html": "Commands completed successfully."
                    },
                    "metadata": {}
                },
                {
                    "output_type": "display_data",
                    "data": {
                        "text/html": "(5 rows affected)"
                    },
                    "metadata": {}
                },
                {
                    "output_type": "display_data",
                    "data": {
                        "text/html": "Commands completed successfully."
                    },
                    "metadata": {}
                },
                {
                    "output_type": "display_data",
                    "data": {
                        "text/html": "Total execution time: 00:00:00.033"
                    },
                    "metadata": {}
                }
            ],
            "execution_count": 9
        },
        {
            "cell_type": "code",
            "source": [
                "-- recipe 8-8\r\n",
                "BEGIN TRANSACTION;\r\n",
                "INSERT  Purchasing.ShipMethod\r\n",
                "        (Name, ShipBase, ShipRate)\r\n",
                "OUTPUT  INSERTED.ShipMethodID, INSERTED.Name,\r\n",
                "        INSERTED.rowguid, INSERTED.ModifiedDate\r\n",
                "VALUES  ('MIDDLETON CARGO TS11', 10, 10),\r\n",
                "        ('MIDDLETON CARGO TS12', 10, 10),\r\n",
                "        ('MIDDLETON CARGO TS13', 10, 10);\r\n",
                "ROLLBACK TRANSACTION;\r\n",
                "\r\n",
                "\r\n",
                "BEGIN TRANSACTION\r\n",
                "DECLARE @insertedShipMethodIDs TABLE \r\n",
                "(\r\n",
                "    ShipMethodID INTEGER\r\n",
                ");\r\n",
                "INSERT Purchasing.ShipMethod (Name, ShipBase, ShipRate)\r\n",
                "OUTPUT inserted.ShipMethodID INTO @insertedShipMethodIDs\r\n",
                "VALUES  ('MIDDLETON CARGO TS11', 10, 10),\r\n",
                "        ('MIDDLETON CARGO TS12', 10, 10),\r\n",
                "        ('MIDDLETON CARGO TS13', 10, 10);\r\n",
                "SELECT * FROM @insertedShipMethodIDs;\r\n",
                "ROLLBACK TRANSACTION;"
            ],
            "metadata": {
                "azdata_cell_guid": "96085168-3cd2-46db-afb5-298f11fc8c7e"
            },
            "outputs": [
                {
                    "output_type": "display_data",
                    "data": {
                        "text/html": "(3 rows affected)"
                    },
                    "metadata": {}
                },
                {
                    "output_type": "display_data",
                    "data": {
                        "text/html": "(3 rows affected)"
                    },
                    "metadata": {}
                },
                {
                    "output_type": "display_data",
                    "data": {
                        "text/html": "(3 rows affected)"
                    },
                    "metadata": {}
                },
                {
                    "output_type": "display_data",
                    "data": {
                        "text/html": "Total execution time: 00:00:00.073"
                    },
                    "metadata": {}
                },
                {
                    "output_type": "execute_result",
                    "metadata": {},
                    "execution_count": 10,
                    "data": {
                        "application/vnd.dataresource+json": {
                            "schema": {
                                "fields": [
                                    {
                                        "name": "ShipMethodID"
                                    },
                                    {
                                        "name": "Name"
                                    },
                                    {
                                        "name": "rowguid"
                                    },
                                    {
                                        "name": "ModifiedDate"
                                    }
                                ]
                            },
                            "data": [
                                {
                                    "0": "14",
                                    "1": "MIDDLETON CARGO TS11",
                                    "2": "94994a3e-6062-4b61-9c9e-22e67f37b1ba",
                                    "3": "2020-09-13 08:26:49.843"
                                },
                                {
                                    "0": "15",
                                    "1": "MIDDLETON CARGO TS12",
                                    "2": "8c8df0be-fd40-413f-ad5e-5ccf9c380a92",
                                    "3": "2020-09-13 08:26:49.843"
                                },
                                {
                                    "0": "16",
                                    "1": "MIDDLETON CARGO TS13",
                                    "2": "c521a25a-3e43-4982-b730-c8bf32855044",
                                    "3": "2020-09-13 08:26:49.843"
                                }
                            ]
                        },
                        "text/html": [
                            "<table>",
                            "<tr><th>ShipMethodID</th><th>Name</th><th>rowguid</th><th>ModifiedDate</th></tr>",
                            "<tr><td>14</td><td>MIDDLETON CARGO TS11</td><td>94994a3e-6062-4b61-9c9e-22e67f37b1ba</td><td>2020-09-13 08:26:49.843</td></tr>",
                            "<tr><td>15</td><td>MIDDLETON CARGO TS12</td><td>8c8df0be-fd40-413f-ad5e-5ccf9c380a92</td><td>2020-09-13 08:26:49.843</td></tr>",
                            "<tr><td>16</td><td>MIDDLETON CARGO TS13</td><td>c521a25a-3e43-4982-b730-c8bf32855044</td><td>2020-09-13 08:26:49.843</td></tr>",
                            "</table>"
                        ]
                    }
                },
                {
                    "output_type": "execute_result",
                    "metadata": {},
                    "execution_count": 10,
                    "data": {
                        "application/vnd.dataresource+json": {
                            "schema": {
                                "fields": [
                                    {
                                        "name": "ShipMethodID"
                                    }
                                ]
                            },
                            "data": [
                                {
                                    "0": "17"
                                },
                                {
                                    "0": "18"
                                },
                                {
                                    "0": "19"
                                }
                            ]
                        },
                        "text/html": [
                            "<table>",
                            "<tr><th>ShipMethodID</th></tr>",
                            "<tr><td>17</td></tr>",
                            "<tr><td>18</td></tr>",
                            "<tr><td>19</td></tr>",
                            "</table>"
                        ]
                    }
                }
            ],
            "execution_count": 10
        },
        {
            "cell_type": "code",
            "source": [
                "-- recipe 8-9\r\n",
                "SELECT  DiscountPct\r\n",
                "FROM    Sales.SpecialOffer\r\n",
                "WHERE   SpecialOfferID = 10 ;\r\n",
                "\r\n",
                "BEGIN TRANSACTION;\r\n",
                "UPDATE  Sales.SpecialOffer\r\n",
                "SET     DiscountPct = 0.15\r\n",
                "WHERE   SpecialOfferID = 10 ;\r\n",
                "\r\n",
                "SELECT  DiscountPct\r\n",
                "FROM    Sales.SpecialOffer\r\n",
                "WHERE   SpecialOfferID = 10 ;\r\n",
                "ROLLBACK TRANSACTION;\r\n",
                "\r\n",
                "BEGIN TRANSACTION;\r\n",
                "UPDATE  Sales.SpecialOffer\r\n",
                "SET     DiscountPct = 0.15\r\n",
                "WHERE   SpecialOfferID IN (10, 11, 12) ;\r\n",
                "\r\n",
                "SELECT  DiscountPct\r\n",
                "FROM    Sales.SpecialOffer\r\n",
                "WHERE   SpecialOfferID IN (10, 11, 12) ;\r\n",
                "ROLLBACK TRANSACTION;\r\n",
                "\r\n",
                "SELECT  DiscountPct\r\n",
                "FROM    Sales.SpecialOffer\r\n",
                "WHERE   SpecialOfferID = 10 ;\r\n",
                "\r\n",
                "BEGIN TRANSACTION;\r\n",
                "UPDATE  Sales.SpecialOffer\r\n",
                "SET     DiscountPct = 0.15\r\n",
                "WHERE   SpecialOfferID = 10 ;\r\n",
                "\r\n",
                "SELECT  DiscountPct\r\n",
                "FROM    Sales.SpecialOffer\r\n",
                "WHERE   SpecialOfferID = 10 ;\r\n",
                "ROLLBACK TRANSACTION;\r\n",
                "\r\n",
                "BEGIN TRANSACTION;\r\n",
                "UPDATE  Sales.SpecialOffer\r\n",
                "SET     DiscountPct = 0.15\r\n",
                "WHERE   SpecialOfferID IN (10, 11, 12) ;\r\n",
                "\r\n",
                "SELECT  DiscountPct\r\n",
                "FROM    Sales.SpecialOffer\r\n",
                "WHERE   SpecialOfferID IN (10, 11, 12) ;\r\n",
                "ROLLBACK TRANSACTION;"
            ],
            "metadata": {
                "azdata_cell_guid": "2cd96cc2-d0d1-48d6-8cd8-25a228f75b23",
                "tags": []
            },
            "outputs": [
                {
                    "output_type": "display_data",
                    "data": {
                        "text/html": "(1 row affected)"
                    },
                    "metadata": {}
                },
                {
                    "output_type": "display_data",
                    "data": {
                        "text/html": "(1 row affected)"
                    },
                    "metadata": {}
                },
                {
                    "output_type": "display_data",
                    "data": {
                        "text/html": "(1 row affected)"
                    },
                    "metadata": {}
                },
                {
                    "output_type": "display_data",
                    "data": {
                        "text/html": "(3 rows affected)"
                    },
                    "metadata": {}
                },
                {
                    "output_type": "display_data",
                    "data": {
                        "text/html": "(3 rows affected)"
                    },
                    "metadata": {}
                },
                {
                    "output_type": "display_data",
                    "data": {
                        "text/html": "(1 row affected)"
                    },
                    "metadata": {}
                },
                {
                    "output_type": "display_data",
                    "data": {
                        "text/html": "(1 row affected)"
                    },
                    "metadata": {}
                },
                {
                    "output_type": "display_data",
                    "data": {
                        "text/html": "(1 row affected)"
                    },
                    "metadata": {}
                },
                {
                    "output_type": "display_data",
                    "data": {
                        "text/html": "(3 rows affected)"
                    },
                    "metadata": {}
                },
                {
                    "output_type": "display_data",
                    "data": {
                        "text/html": "(3 rows affected)"
                    },
                    "metadata": {}
                },
                {
                    "output_type": "display_data",
                    "data": {
                        "text/html": "Total execution time: 00:00:00.655"
                    },
                    "metadata": {}
                },
                {
                    "output_type": "execute_result",
                    "metadata": {},
                    "execution_count": 11,
                    "data": {
                        "application/vnd.dataresource+json": {
                            "schema": {
                                "fields": [
                                    {
                                        "name": "DiscountPct"
                                    }
                                ]
                            },
                            "data": [
                                {
                                    "0": "0.5000"
                                }
                            ]
                        },
                        "text/html": [
                            "<table>",
                            "<tr><th>DiscountPct</th></tr>",
                            "<tr><td>0.5000</td></tr>",
                            "</table>"
                        ]
                    }
                },
                {
                    "output_type": "execute_result",
                    "metadata": {},
                    "execution_count": 11,
                    "data": {
                        "application/vnd.dataresource+json": {
                            "schema": {
                                "fields": [
                                    {
                                        "name": "DiscountPct"
                                    }
                                ]
                            },
                            "data": [
                                {
                                    "0": "0.1500"
                                }
                            ]
                        },
                        "text/html": [
                            "<table>",
                            "<tr><th>DiscountPct</th></tr>",
                            "<tr><td>0.1500</td></tr>",
                            "</table>"
                        ]
                    }
                },
                {
                    "output_type": "execute_result",
                    "metadata": {},
                    "execution_count": 11,
                    "data": {
                        "application/vnd.dataresource+json": {
                            "schema": {
                                "fields": [
                                    {
                                        "name": "DiscountPct"
                                    }
                                ]
                            },
                            "data": [
                                {
                                    "0": "0.1500"
                                },
                                {
                                    "0": "0.1500"
                                },
                                {
                                    "0": "0.1500"
                                }
                            ]
                        },
                        "text/html": [
                            "<table>",
                            "<tr><th>DiscountPct</th></tr>",
                            "<tr><td>0.1500</td></tr>",
                            "<tr><td>0.1500</td></tr>",
                            "<tr><td>0.1500</td></tr>",
                            "</table>"
                        ]
                    }
                },
                {
                    "output_type": "execute_result",
                    "metadata": {},
                    "execution_count": 11,
                    "data": {
                        "application/vnd.dataresource+json": {
                            "schema": {
                                "fields": [
                                    {
                                        "name": "DiscountPct"
                                    }
                                ]
                            },
                            "data": [
                                {
                                    "0": "0.5000"
                                }
                            ]
                        },
                        "text/html": [
                            "<table>",
                            "<tr><th>DiscountPct</th></tr>",
                            "<tr><td>0.5000</td></tr>",
                            "</table>"
                        ]
                    }
                },
                {
                    "output_type": "execute_result",
                    "metadata": {},
                    "execution_count": 11,
                    "data": {
                        "application/vnd.dataresource+json": {
                            "schema": {
                                "fields": [
                                    {
                                        "name": "DiscountPct"
                                    }
                                ]
                            },
                            "data": [
                                {
                                    "0": "0.1500"
                                }
                            ]
                        },
                        "text/html": [
                            "<table>",
                            "<tr><th>DiscountPct</th></tr>",
                            "<tr><td>0.1500</td></tr>",
                            "</table>"
                        ]
                    }
                },
                {
                    "output_type": "execute_result",
                    "metadata": {},
                    "execution_count": 11,
                    "data": {
                        "application/vnd.dataresource+json": {
                            "schema": {
                                "fields": [
                                    {
                                        "name": "DiscountPct"
                                    }
                                ]
                            },
                            "data": [
                                {
                                    "0": "0.1500"
                                },
                                {
                                    "0": "0.1500"
                                },
                                {
                                    "0": "0.1500"
                                }
                            ]
                        },
                        "text/html": [
                            "<table>",
                            "<tr><th>DiscountPct</th></tr>",
                            "<tr><td>0.1500</td></tr>",
                            "<tr><td>0.1500</td></tr>",
                            "<tr><td>0.1500</td></tr>",
                            "</table>"
                        ]
                    }
                }
            ],
            "execution_count": 11
        },
        {
            "cell_type": "code",
            "source": [
                "-- recipe 8-10\r\n",
                "BEGIN TRANSACTION;\r\n",
                "UPDATE  Sales.ShoppingCartItem\r\n",
                "SET     Quantity = 2,\r\n",
                "        ModifiedDate = GETDATE()\r\n",
                "FROM    Sales.ShoppingCartItem c\r\n",
                "        INNER JOIN Production.Product p\r\n",
                "            ON c.ProductID = p.ProductID\r\n",
                "WHERE   p.Name = 'Full-Finger Gloves, M '\r\n",
                "AND     c.Quantity > 2 ;\r\n",
                "ROLLBACK TRANSACTION;"
            ],
            "metadata": {
                "azdata_cell_guid": "aa03ed0f-7243-401e-ba54-03073f5255c2"
            },
            "outputs": [
                {
                    "output_type": "display_data",
                    "data": {
                        "text/html": "(1 row affected)"
                    },
                    "metadata": {}
                },
                {
                    "output_type": "display_data",
                    "data": {
                        "text/html": "Total execution time: 00:00:00.032"
                    },
                    "metadata": {}
                }
            ],
            "execution_count": 12
        },
        {
            "cell_type": "code",
            "source": [
                "-- recipe 8-11\r\n",
                "BEGIN TRANSACTION;\r\n",
                "UPDATE  Sales.SpecialOffer\r\n",
                "SET     DiscountPct *= 1.05\r\n",
                "OUTPUT  inserted.SpecialOfferID,\r\n",
                "        deleted.DiscountPct AS old_DiscountPct,\r\n",
                "        inserted.DiscountPct AS new_DiscountPct\r\n",
                "WHERE   Category = 'Customer' ;\r\n",
                "ROLLBACK TRANSACTION;"
            ],
            "metadata": {
                "azdata_cell_guid": "e045f246-d167-472f-b46f-5c22f1d5b189"
            },
            "outputs": [
                {
                    "output_type": "display_data",
                    "data": {
                        "text/html": "(2 rows affected)"
                    },
                    "metadata": {}
                },
                {
                    "output_type": "display_data",
                    "data": {
                        "text/html": "Total execution time: 00:00:00.015"
                    },
                    "metadata": {}
                },
                {
                    "output_type": "execute_result",
                    "metadata": {},
                    "execution_count": 13,
                    "data": {
                        "application/vnd.dataresource+json": {
                            "schema": {
                                "fields": [
                                    {
                                        "name": "SpecialOfferID"
                                    },
                                    {
                                        "name": "old_DiscountPct"
                                    },
                                    {
                                        "name": "new_DiscountPct"
                                    }
                                ]
                            },
                            "data": [
                                {
                                    "0": "10",
                                    "1": "0.5000",
                                    "2": "0.5250"
                                },
                                {
                                    "0": "15",
                                    "1": "0.5000",
                                    "2": "0.5250"
                                }
                            ]
                        },
                        "text/html": [
                            "<table>",
                            "<tr><th>SpecialOfferID</th><th>old_DiscountPct</th><th>new_DiscountPct</th></tr>",
                            "<tr><td>10</td><td>0.5000</td><td>0.5250</td></tr>",
                            "<tr><td>15</td><td>0.5000</td><td>0.5250</td></tr>",
                            "</table>"
                        ]
                    }
                }
            ],
            "execution_count": 13
        },
        {
            "cell_type": "code",
            "source": [
                "-- recipe 8-12\r\n",
                "IF OBJECT_ID('dbo.RecipeChapter') IS NOT NULL DROP TABLE dbo.RecipeChapter;\r\n",
                "CREATE TABLE dbo.RecipeChapter\r\n",
                "       (\r\n",
                "        ChapterID INT NOT NULL,\r\n",
                "        Chapter VARCHAR(MAX) NOT NULL\r\n",
                "       ) ;\r\n",
                "GO\r\n",
                "INSERT  INTO dbo.RecipeChapter\r\n",
                "        (ChapterID,\r\n",
                "         Chapter)\r\n",
                "VALUES  (1,\r\n",
                "         'At the beginning of each chapter you will notice\r\n",
                "that basic concepts are covered first.') ;\r\n",
                "SELECT  Chapter\r\n",
                "FROM    RecipeChapter\r\n",
                "WHERE   ChapterID = 1;\r\n",
                "\r\n",
                "--Next, update the inserted row by adding a sentence to the end of the column value:\r\n",
                "UPDATE  RecipeChapter\r\n",
                "SET     Chapter.WRITE(' In addition to the basics, this chapter will also provide\r\n",
                "recipes that can be used in your day to day development and administration.',\r\n",
                "                      NULL, NULL)\r\n",
                "WHERE   ChapterID = 1 ;\r\n",
                "SELECT  Chapter\r\n",
                "FROM    RecipeChapter\r\n",
                "WHERE   ChapterID = 1;\r\n",
                "\r\n",
                "--Replace the phrase “day to day” with the single word “daily”:\r\n",
                "UPDATE  RecipeChapter\r\n",
                "SET     Chapter.WRITE('daily', CHARINDEX('day to day', Chapter) - 1,\r\n",
                "                      LEN('day to day'))\r\n",
                "WHERE   ChapterID = 1 ;\r\n",
                "SELECT  Chapter\r\n",
                "FROM    RecipeChapter\r\n",
                "WHERE   ChapterID = 1;\r\n",
                "\r\n",
                "UPDATE dbo.RecipeChapter\r\n",
                "SET    Chapter.WRITE('*test value* ', 7, 0)\r\n",
                "WHERE  ChapterID = 1 ;\r\n",
                "SELECT  Chapter\r\n",
                "FROM    RecipeChapter\r\n",
                "WHERE   ChapterID = 1;\r\n",
                "\r\n",
                "UPDATE dbo.RecipeChapter\r\n",
                "SET    Chapter.WRITE('', 7, 13)\r\n",
                "WHERE  ChapterID = 1 ;\r\n",
                "SELECT  Chapter\r\n",
                "FROM    RecipeChapter\r\n",
                "WHERE   ChapterID = 1;\r\n",
                "\r\n",
                "IF OBJECT_ID('dbo.RecipeChapter') IS NOT NULL DROP TABLE dbo.RecipeChapter;"
            ],
            "metadata": {
                "azdata_cell_guid": "c6d97aff-f31a-43dd-80cf-616175129650"
            },
            "outputs": [
                {
                    "output_type": "display_data",
                    "data": {
                        "text/html": "Commands completed successfully."
                    },
                    "metadata": {}
                },
                {
                    "output_type": "display_data",
                    "data": {
                        "text/html": "(1 row affected)"
                    },
                    "metadata": {}
                },
                {
                    "output_type": "display_data",
                    "data": {
                        "text/html": "(1 row affected)"
                    },
                    "metadata": {}
                },
                {
                    "output_type": "display_data",
                    "data": {
                        "text/html": "(1 row affected)"
                    },
                    "metadata": {}
                },
                {
                    "output_type": "display_data",
                    "data": {
                        "text/html": "(1 row affected)"
                    },
                    "metadata": {}
                },
                {
                    "output_type": "display_data",
                    "data": {
                        "text/html": "(1 row affected)"
                    },
                    "metadata": {}
                },
                {
                    "output_type": "display_data",
                    "data": {
                        "text/html": "(1 row affected)"
                    },
                    "metadata": {}
                },
                {
                    "output_type": "display_data",
                    "data": {
                        "text/html": "(1 row affected)"
                    },
                    "metadata": {}
                },
                {
                    "output_type": "display_data",
                    "data": {
                        "text/html": "(1 row affected)"
                    },
                    "metadata": {}
                },
                {
                    "output_type": "display_data",
                    "data": {
                        "text/html": "(1 row affected)"
                    },
                    "metadata": {}
                },
                {
                    "output_type": "display_data",
                    "data": {
                        "text/html": "(1 row affected)"
                    },
                    "metadata": {}
                },
                {
                    "output_type": "display_data",
                    "data": {
                        "text/html": "Total execution time: 00:00:01.523"
                    },
                    "metadata": {}
                },
                {
                    "output_type": "execute_result",
                    "metadata": {},
                    "execution_count": 14,
                    "data": {
                        "application/vnd.dataresource+json": {
                            "schema": {
                                "fields": [
                                    {
                                        "name": "Chapter"
                                    }
                                ]
                            },
                            "data": [
                                {
                                    "0": "At the beginning of each chapter you will notice\r\nthat basic concepts are covered first."
                                }
                            ]
                        },
                        "text/html": [
                            "<table>",
                            "<tr><th>Chapter</th></tr>",
                            "<tr><td>At the beginning of each chapter you will notice\r\nthat basic concepts are covered first.</td></tr>",
                            "</table>"
                        ]
                    }
                },
                {
                    "output_type": "execute_result",
                    "metadata": {},
                    "execution_count": 14,
                    "data": {
                        "application/vnd.dataresource+json": {
                            "schema": {
                                "fields": [
                                    {
                                        "name": "Chapter"
                                    }
                                ]
                            },
                            "data": [
                                {
                                    "0": "At the beginning of each chapter you will notice\r\nthat basic concepts are covered first. In addition to the basics, this chapter will also provide\r\nrecipes that can be used in your day to day development and administration."
                                }
                            ]
                        },
                        "text/html": [
                            "<table>",
                            "<tr><th>Chapter</th></tr>",
                            "<tr><td>At the beginning of each chapter you will notice\r\nthat basic concepts are covered first. In addition to the basics, this chapter will also provide\r\nrecipes that can be used in your day to day development and administration.</td></tr>",
                            "</table>"
                        ]
                    }
                },
                {
                    "output_type": "execute_result",
                    "metadata": {},
                    "execution_count": 14,
                    "data": {
                        "application/vnd.dataresource+json": {
                            "schema": {
                                "fields": [
                                    {
                                        "name": "Chapter"
                                    }
                                ]
                            },
                            "data": [
                                {
                                    "0": "At the beginning of each chapter you will notice\r\nthat basic concepts are covered first. In addition to the basics, this chapter will also provide\r\nrecipes that can be used in your daily development and administration."
                                }
                            ]
                        },
                        "text/html": [
                            "<table>",
                            "<tr><th>Chapter</th></tr>",
                            "<tr><td>At the beginning of each chapter you will notice\r\nthat basic concepts are covered first. In addition to the basics, this chapter will also provide\r\nrecipes that can be used in your daily development and administration.</td></tr>",
                            "</table>"
                        ]
                    }
                },
                {
                    "output_type": "execute_result",
                    "metadata": {},
                    "execution_count": 14,
                    "data": {
                        "application/vnd.dataresource+json": {
                            "schema": {
                                "fields": [
                                    {
                                        "name": "Chapter"
                                    }
                                ]
                            },
                            "data": [
                                {
                                    "0": "At the *test value* beginning of each chapter you will notice\r\nthat basic concepts are covered first. In addition to the basics, this chapter will also provide\r\nrecipes that can be used in your daily development and administration."
                                }
                            ]
                        },
                        "text/html": [
                            "<table>",
                            "<tr><th>Chapter</th></tr>",
                            "<tr><td>At the *test value* beginning of each chapter you will notice\r\nthat basic concepts are covered first. In addition to the basics, this chapter will also provide\r\nrecipes that can be used in your daily development and administration.</td></tr>",
                            "</table>"
                        ]
                    }
                },
                {
                    "output_type": "execute_result",
                    "metadata": {},
                    "execution_count": 14,
                    "data": {
                        "application/vnd.dataresource+json": {
                            "schema": {
                                "fields": [
                                    {
                                        "name": "Chapter"
                                    }
                                ]
                            },
                            "data": [
                                {
                                    "0": "At the beginning of each chapter you will notice\r\nthat basic concepts are covered first. In addition to the basics, this chapter will also provide\r\nrecipes that can be used in your daily development and administration."
                                }
                            ]
                        },
                        "text/html": [
                            "<table>",
                            "<tr><th>Chapter</th></tr>",
                            "<tr><td>At the beginning of each chapter you will notice\r\nthat basic concepts are covered first. In addition to the basics, this chapter will also provide\r\nrecipes that can be used in your daily development and administration.</td></tr>",
                            "</table>"
                        ]
                    }
                }
            ],
            "execution_count": 14
        },
        {
            "cell_type": "code",
            "source": [
                "-- recipe 8-13\r\n",
                "IF OBJECT_ID('Production.Example_ProductProductPhoto') IS NOT NULL \r\n",
                "    DROP TABLE Production.Example_ProductProductPhoto;\r\n",
                "SELECT *\r\n",
                "INTO   Production.Example_ProductProductPhoto\r\n",
                "FROM   Production.ProductProductPhoto;\r\n",
                "\r\n",
                "DELETE Production.Example_ProductProductPhoto;\r\n",
                "\r\n",
                "\r\n",
                "INSERT  Production.Example_ProductProductPhoto\r\n",
                "SELECT  *\r\n",
                "FROM    Production.ProductProductPhoto;\r\n",
                "\r\n",
                "DELETE  Production.Example_ProductProductPhoto\r\n",
                "WHERE   ProductID NOT IN (SELECT    ProductID\r\n",
                "                          FROM      Production.Product);\r\n",
                "\r\n",
                "DELETE  \r\n",
                "FROM    ppp\r\n",
                "FROM    Production.Example_ProductProductPhoto ppp\r\n",
                "        LEFT OUTER JOIN Production.Product p\r\n",
                "            ON ppp.ProductID = p.ProductID\r\n",
                "WHERE   p.ProductID IS NULL;\r\n",
                "IF OBJECT_ID('Production.Example_ProductProductPhoto') IS NOT NULL \r\n",
                "    DROP TABLE Production.Example_ProductProductPhoto;"
            ],
            "metadata": {
                "azdata_cell_guid": "bf582e8d-83ac-400a-b443-b61e1b9b3f3c"
            },
            "outputs": [
                {
                    "output_type": "display_data",
                    "data": {
                        "text/html": "(504 rows affected)"
                    },
                    "metadata": {}
                },
                {
                    "output_type": "display_data",
                    "data": {
                        "text/html": "(504 rows affected)"
                    },
                    "metadata": {}
                },
                {
                    "output_type": "display_data",
                    "data": {
                        "text/html": "(504 rows affected)"
                    },
                    "metadata": {}
                },
                {
                    "output_type": "display_data",
                    "data": {
                        "text/html": "(0 rows affected)"
                    },
                    "metadata": {}
                },
                {
                    "output_type": "display_data",
                    "data": {
                        "text/html": "(0 rows affected)"
                    },
                    "metadata": {}
                },
                {
                    "output_type": "display_data",
                    "data": {
                        "text/html": "Total execution time: 00:00:00.044"
                    },
                    "metadata": {}
                }
            ],
            "execution_count": 15
        },
        {
            "cell_type": "code",
            "source": [
                "-- recipe 8-14\r\n",
                "IF OBJECT_ID('HumanResources.Example_JobCandidate') IS NOT NULL \r\n",
                "    DROP TABLE HumanResources.Example_JobCandidate;\r\n",
                "SELECT *\r\n",
                "INTO   HumanResources.Example_JobCandidate \r\n",
                "FROM   HumanResources.JobCandidate;\r\n",
                "\r\n",
                "DELETE \r\n",
                "FROM   HumanResources.Example_JobCandidate \r\n",
                "OUTPUT deleted.JobCandidateID\r\n",
                "WHERE  JobCandidateID < 5;\r\n",
                "\r\n",
                "IF OBJECT_ID('HumanResources.Example_JobCandidate') IS NOT NULL \r\n",
                "    DROP TABLE HumanResources.Example_JobCandidate;"
            ],
            "metadata": {
                "azdata_cell_guid": "a78d5ce5-466d-4d1f-b455-8d8a7d897d6e"
            },
            "outputs": [
                {
                    "output_type": "display_data",
                    "data": {
                        "text/html": "(13 rows affected)"
                    },
                    "metadata": {}
                },
                {
                    "output_type": "display_data",
                    "data": {
                        "text/html": "(4 rows affected)"
                    },
                    "metadata": {}
                },
                {
                    "output_type": "display_data",
                    "data": {
                        "text/html": "Total execution time: 00:00:00.042"
                    },
                    "metadata": {}
                },
                {
                    "output_type": "execute_result",
                    "metadata": {},
                    "execution_count": 16,
                    "data": {
                        "application/vnd.dataresource+json": {
                            "schema": {
                                "fields": [
                                    {
                                        "name": "JobCandidateID"
                                    }
                                ]
                            },
                            "data": [
                                {
                                    "0": "1"
                                },
                                {
                                    "0": "2"
                                },
                                {
                                    "0": "3"
                                },
                                {
                                    "0": "4"
                                }
                            ]
                        },
                        "text/html": [
                            "<table>",
                            "<tr><th>JobCandidateID</th></tr>",
                            "<tr><td>1</td></tr>",
                            "<tr><td>2</td></tr>",
                            "<tr><td>3</td></tr>",
                            "<tr><td>4</td></tr>",
                            "</table>"
                        ]
                    }
                }
            ],
            "execution_count": 16
        },
        {
            "cell_type": "code",
            "source": [
                "-- recipe 8-15\r\n",
                "IF OBJECT_ID('Production.Example_TransactionHistory') IS NOT NULL \r\n",
                "    DROP TABLE Production.Example_TransactionHistory;\r\n",
                "SELECT *\r\n",
                "INTO   Production.Example_TransactionHistory\r\n",
                "FROM   Production.TransactionHistory ;\r\n",
                "\r\n",
                "TRUNCATE TABLE Production.Example_TransactionHistory ;\r\n",
                "\r\n",
                "SELECT COUNT(*)\r\n",
                "FROM   Production.Example_TransactionHistory ;\r\n",
                "\r\n",
                "IF OBJECT_ID('Production.Example_TransactionHistory') IS NOT NULL \r\n",
                "    DROP TABLE Production.Example_TransactionHistory;"
            ],
            "metadata": {
                "azdata_cell_guid": "6a531d07-4dc0-4f8c-9de6-9e5c806d8460"
            },
            "outputs": [
                {
                    "output_type": "display_data",
                    "data": {
                        "text/html": "(113443 rows affected)"
                    },
                    "metadata": {}
                },
                {
                    "output_type": "display_data",
                    "data": {
                        "text/html": "(1 row affected)"
                    },
                    "metadata": {}
                },
                {
                    "output_type": "display_data",
                    "data": {
                        "text/html": "Total execution time: 00:00:00.151"
                    },
                    "metadata": {}
                },
                {
                    "output_type": "execute_result",
                    "metadata": {},
                    "execution_count": 17,
                    "data": {
                        "application/vnd.dataresource+json": {
                            "schema": {
                                "fields": [
                                    {
                                        "name": "(No column name)"
                                    }
                                ]
                            },
                            "data": [
                                {
                                    "0": "0"
                                }
                            ]
                        },
                        "text/html": [
                            "<table>",
                            "<tr><th>(No column name)</th></tr>",
                            "<tr><td>0</td></tr>",
                            "</table>"
                        ]
                    }
                }
            ],
            "execution_count": 17
        },
        {
            "cell_type": "code",
            "source": [
                "-- recipe 8-16\r\n",
                "IF OBJECT_ID('Sales.LastCustomerOrder') IS NOT NULL \r\n",
                "    DROP TABLE Sales.LastCustomerOrder;\r\n",
                "CREATE TABLE Sales.LastCustomerOrder\r\n",
                "       (\r\n",
                "        CustomerID      INTEGER,\r\n",
                "        SalesorderID    INTEGER,\r\n",
                "        CONSTRAINT pk_LastCustomerOrder PRIMARY KEY CLUSTERED (CustomerId)\r\n",
                "       ) ;\r\n",
                "\r\n",
                "DECLARE @CustomerID     INTEGER = 100,\r\n",
                "        @SalesOrderID   INTEGER = 101;\r\n",
                "\r\n",
                "MERGE INTO Sales.LastCustomerOrder AS tgt\r\n",
                "    USING \r\n",
                "        (SELECT @CustomerID AS CustomerID,\r\n",
                "                @SalesOrderID AS SalesOrderID\r\n",
                "        ) AS src\r\n",
                "    ON tgt.CustomerID = src.CustomerID\r\n",
                "    WHEN MATCHED \r\n",
                "        THEN UPDATE\r\n",
                "          SET       SalesOrderID = src.SalesOrderID\r\n",
                "    WHEN NOT MATCHED \r\n",
                "        THEN INSERT (\r\n",
                "                     CustomerID,\r\n",
                "                     SalesOrderID\r\n",
                "                    )\r\n",
                "          VALUES    (src.CustomerID,\r\n",
                "                     src.SalesOrderID);\r\n",
                "\r\n",
                "SELECT  *\r\n",
                "FROM    Sales.LastCustomerOrder;\r\n",
                "\r\n",
                "-- can't update the same row twice, so break this down into two parts\r\n",
                "MERGE INTO Sales.LastCustomerOrder AS tgt\r\n",
                "    USING \r\n",
                "        (SELECT *\r\n",
                "         FROM   (VALUES (101,101),\r\n",
                "                        (100,102)\r\n",
                "                ) dt(CustomerID, SalesOrderID)\r\n",
                "        ) AS src\r\n",
                "    ON tgt.CustomerID = src.CustomerID\r\n",
                "    WHEN MATCHED \r\n",
                "        THEN UPDATE\r\n",
                "          SET       SalesOrderID = src.SalesOrderID\r\n",
                "    WHEN NOT MATCHED \r\n",
                "        THEN INSERT (\r\n",
                "                     CustomerID,\r\n",
                "                     SalesOrderID\r\n",
                "                    )\r\n",
                "          VALUES    (src.CustomerID,\r\n",
                "                     src.SalesOrderID);\r\n",
                "SELECT  *\r\n",
                "FROM    Sales.LastCustomerOrder;\r\n",
                "\r\n",
                "MERGE INTO Sales.LastCustomerOrder AS tgt\r\n",
                "    USING \r\n",
                "        (SELECT *\r\n",
                "         FROM   (VALUES (102,103),\r\n",
                "                        (100,104),\r\n",
                "                        (101,105)\r\n",
                "                ) dt(CustomerID, SalesOrderID)\r\n",
                "        ) AS src\r\n",
                "    ON tgt.CustomerID = src.CustomerID\r\n",
                "    WHEN MATCHED \r\n",
                "        THEN UPDATE\r\n",
                "          SET       SalesOrderID = src.SalesOrderID\r\n",
                "    WHEN NOT MATCHED \r\n",
                "        THEN INSERT (\r\n",
                "                     CustomerID,\r\n",
                "                     SalesOrderID\r\n",
                "                    )\r\n",
                "          VALUES    (src.CustomerID,\r\n",
                "                     src.SalesOrderID);\r\n",
                "SELECT  *\r\n",
                "FROM    Sales.LastCustomerOrder;\r\n",
                "\r\n",
                "IF OBJECT_ID('Sales.LastCustomerOrder') IS NOT NULL \r\n",
                "    DROP TABLE Sales.LastCustomerOrder;\r\n",
                "\r\n",
                "\r\n",
                "IF OBJECT_ID('Sales.LargestCustomerOrder') IS NOT NULL\r\n",
                "    DROP TABLE Sales.LargestCustomerOrder;\r\n",
                "CREATE TABLE Sales.LargestCustomerOrder\r\n",
                "       (\r\n",
                "        CustomerID      INTEGER,\r\n",
                "        SalesorderID    INTEGER,\r\n",
                "\t\tTotalDue        MONEY, \r\n",
                "        CONSTRAINT pk_LargestCustomerOrder PRIMARY KEY CLUSTERED (CustomerId)\r\n",
                "       ) ;\r\n",
                "\r\n",
                "DECLARE @CustomerID INT = 100,\r\n",
                "        @SalesOrderID INT = 101 ,\r\n",
                "        @TotalDue MONEY = 1000.00;\r\n",
                "\r\n",
                "MERGE INTO Sales.LargestCustomerOrder AS tgt\r\n",
                "    USING \r\n",
                "        (SELECT @CustomerID AS CustomerID,\r\n",
                "                @SalesOrderID AS SalesOrderID,\r\n",
                "                @TotalDue AS TotalDue\r\n",
                "        ) AS src\r\n",
                "    ON tgt.CustomerID = src.CustomerID\r\n",
                "    WHEN MATCHED AND tgt.TotalDue < src.TotalDue \r\n",
                "        THEN UPDATE\r\n",
                "          SET       SalesOrderID = src.SalesOrderID\r\n",
                "\t\t  , TotalDue = src.TotalDue\r\n",
                "    WHEN NOT MATCHED \r\n",
                "        THEN INSERT (\r\n",
                "                     CustomerID,\r\n",
                "                     SalesOrderID,\r\n",
                "                     TotalDue\r\n",
                "                    )\r\n",
                "          VALUES    (src.CustomerID,\r\n",
                "                     src.SalesOrderID,\r\n",
                "                     src.TotalDue) ;\r\n",
                "\r\n",
                "SELECT  *\r\n",
                "FROM    Sales.LargestCustomerOrder;\r\n",
                "\r\n",
                "\r\n",
                "MERGE INTO Sales.LargestCustomerOrder AS tgt\r\n",
                "    USING \r\n",
                "        (SELECT *\r\n",
                "         FROM   (VALUES (101, 101, 1000.00),\r\n",
                "                        (100, 102, 1100.00)\r\n",
                "                ) dt(CustomerID, SalesOrderID, TotalDue)\r\n",
                "        ) AS src\r\n",
                "    ON tgt.CustomerID = src.CustomerID\r\n",
                "    WHEN MATCHED AND tgt.TotalDue < src.TotalDue \r\n",
                "        THEN UPDATE\r\n",
                "          SET       SalesOrderID = src.SalesOrderID\r\n",
                "\t\t  , TotalDue = src.TotalDue\r\n",
                "    WHEN NOT MATCHED \r\n",
                "        THEN INSERT (\r\n",
                "                     CustomerID,\r\n",
                "                     SalesOrderID,\r\n",
                "                     TotalDue\r\n",
                "                    )\r\n",
                "          VALUES    (src.CustomerID,\r\n",
                "                     src.SalesOrderID,\r\n",
                "                     src.TotalDue) ;\r\n",
                "\r\n",
                "SELECT  *\r\n",
                "FROM    Sales.LargestCustomerOrder;\r\n",
                "\r\n",
                "MERGE INTO Sales.LargestCustomerOrder AS tgt\r\n",
                "    USING \r\n",
                "        (SELECT *\r\n",
                "         FROM   (VALUES (100, 104, 999.00),\r\n",
                "                        (101, 105, 999.00)\r\n",
                "                ) dt(CustomerID, SalesOrderID, TotalDue)\r\n",
                "        ) AS src\r\n",
                "    ON tgt.CustomerID = src.CustomerID\r\n",
                "    WHEN MATCHED AND tgt.TotalDue < src.TotalDue \r\n",
                "        THEN UPDATE\r\n",
                "          SET       SalesOrderID = src.SalesOrderID\r\n",
                "\t\t  , TotalDue = src.TotalDue\r\n",
                "    WHEN NOT MATCHED \r\n",
                "        THEN INSERT (\r\n",
                "                     CustomerID,\r\n",
                "                     SalesOrderID,\r\n",
                "                     TotalDue\r\n",
                "                    )\r\n",
                "          VALUES    (src.CustomerID,\r\n",
                "                     src.SalesOrderID,\r\n",
                "                     src.TotalDue) ;\r\n",
                "\r\n",
                "SELECT  *\r\n",
                "FROM    Sales.LargestCustomerOrder;\r\n",
                "\r\n",
                "\r\n",
                "DECLARE @CustomerID INT = 100,\r\n",
                "        @SalesOrderID INT = 201 ,\r\n",
                "        @TotalDue MONEY = 1200.00;\r\n",
                "\r\n",
                "MERGE INTO Sales.LargestCustomerOrder AS tgt\r\n",
                "    USING \r\n",
                "        (SELECT @CustomerID AS CustomerID,\r\n",
                "                @SalesOrderID AS SalesOrderID,\r\n",
                "                @TotalDue AS TotalDue\r\n",
                "        ) AS src\r\n",
                "    ON tgt.CustomerID = src.CustomerID\r\n",
                "    WHEN MATCHED AND tgt.TotalDue < src.TotalDue \r\n",
                "        THEN UPDATE\r\n",
                "          SET       SalesOrderID = src.SalesOrderID\r\n",
                "\t\t  , TotalDue = src.TotalDue\r\n",
                "    WHEN NOT MATCHED \r\n",
                "        THEN INSERT (\r\n",
                "                     CustomerID,\r\n",
                "                     SalesOrderID,\r\n",
                "                     TotalDue\r\n",
                "                    )\r\n",
                "          VALUES    (src.CustomerID,\r\n",
                "                     src.SalesOrderID,\r\n",
                "                     src.TotalDue) \r\n",
                "    OUTPUT\r\n",
                "        $ACTION,\r\n",
                "        DELETED.*,\r\n",
                "        INSERTED.*;\r\n",
                "\r\n",
                "SELECT  *\r\n",
                "FROM    Sales.LargestCustomerOrder;\r\n",
                "\r\n",
                "\r\n",
                "-- recipe 8-17\r\n",
                "DECLARE @dml_output TABLE (\r\n",
                "    MergeAction             VARCHAR(6),\r\n",
                "    DeletedCustomerID       INTEGER,\r\n",
                "    DeletedSalesOrderID     INTEGER,\r\n",
                "    DeletedTotalDue         MONEY,\r\n",
                "    InsertedCustomerID      INTEGER,\r\n",
                "    InsertedSalesOrderID    INTEGER,\r\n",
                "    InsertedTotalDue        MONEY\r\n",
                "    );\r\n",
                "INSERT INTO @dml_output\r\n",
                "        (MergeAction,\r\n",
                "         DeletedCustomerID,\r\n",
                "         DeletedSalesOrderID,\r\n",
                "         DeletedTotalDue,\r\n",
                "         InsertedCustomerID,\r\n",
                "         InsertedSalesOrderID,\r\n",
                "         InsertedTotalDue\r\n",
                "        )\r\n",
                "SELECT  *\r\n",
                "FROM    (\r\n",
                "        MERGE INTO Sales.LargestCustomerOrder AS tgt\r\n",
                "            USING \r\n",
                "                (SELECT 100 AS CustomerID,\r\n",
                "                        205 AS SalesOrderID,\r\n",
                "                        2500.00 AS TotalDue\r\n",
                "                ) AS src\r\n",
                "            ON tgt.CustomerID = src.CustomerID\r\n",
                "            WHEN MATCHED AND tgt.TotalDue < src.TotalDue \r\n",
                "                THEN UPDATE\r\n",
                "                  SET       SalesOrderID = src.SalesOrderID\r\n",
                "\t\t          , TotalDue = src.TotalDue\r\n",
                "            WHEN NOT MATCHED \r\n",
                "                THEN INSERT (\r\n",
                "                             CustomerID,\r\n",
                "                             SalesOrderID,\r\n",
                "                             TotalDue\r\n",
                "                            )\r\n",
                "                  VALUES    (src.CustomerID,\r\n",
                "                             src.SalesOrderID,\r\n",
                "                             src.TotalDue) \r\n",
                "            OUTPUT\r\n",
                "                $ACTION,\r\n",
                "                DELETED.*,\r\n",
                "                INSERTED.*\r\n",
                "        ) dt(MergeAction,\r\n",
                "             DeletedCustomerID,\r\n",
                "             DeletedSalesOrderID,\r\n",
                "             DeletedTotalDue,\r\n",
                "             InsertedCustomerID,\r\n",
                "             InsertedSalesOrderID,\r\n",
                "             InsertedTotalDue);\r\n",
                "\r\n",
                "SELECT  * \r\n",
                "FROM    @dml_output;\r\n",
                "\r\n",
                "\r\n",
                "IF OBJECT_ID('Sales.LargestCustomerOrder') IS NOT NULL \r\n",
                "    DROP TABLE Sales.LargestCustomerOrder;"
            ],
            "metadata": {
                "azdata_cell_guid": "5002c9e3-17e3-4e42-8b0b-87d8878bae03"
            },
            "outputs": [
                {
                    "output_type": "error",
                    "evalue": "Msg 134, Level 15, State 1, Line 94\r\nThe variable name '@CustomerID' has already been declared. Variable names must be unique within a query batch or stored procedure.",
                    "ename": "",
                    "traceback": []
                },
                {
                    "output_type": "error",
                    "evalue": "Msg 137, Level 15, State 2, Line 100\r\nMust declare the scalar variable \"@TotalDue\".",
                    "ename": "",
                    "traceback": []
                },
                {
                    "output_type": "error",
                    "evalue": "Msg 134, Level 15, State 1, Line 174\r\nThe variable name '@CustomerID' has already been declared. Variable names must be unique within a query batch or stored procedure.",
                    "ename": "",
                    "traceback": []
                },
                {
                    "output_type": "error",
                    "evalue": "Msg 137, Level 15, State 2, Line 180\r\nMust declare the scalar variable \"@TotalDue\".",
                    "ename": "",
                    "traceback": []
                },
                {
                    "output_type": "display_data",
                    "data": {
                        "text/html": "Total execution time: 00:00:00.007"
                    },
                    "metadata": {}
                }
            ],
            "execution_count": 18
        }
    ]
}