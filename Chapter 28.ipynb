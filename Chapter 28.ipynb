{
    "metadata": {
        "kernelspec": {
            "name": "SQL",
            "display_name": "SQL",
            "language": "sql"
        },
        "language_info": {
            "name": "sql",
            "version": ""
        }
    },
    "nbformat_minor": 2,
    "nbformat": 4,
    "cells": [
        {
            "cell_type": "code",
            "source": [
                "-- 28-1. Restoring a Database from a Full Backup\r\n",
                "\r\n",
                "-- The first example in this recipe is a simple RESTORE from the latest backup set on the device (in this example, two backup sets exist on the device for the TestDB database, and you want the second one). For the demonstration, I’ll start by creating two full backups on a single device.\r\n",
                "\r\n",
                "USE master\r\n",
                ";\r\n",
                "GO\r\n",
                "Declare @BackupDate Char(8) = Convert(Varchar,GetDate(),112)\r\n",
                ",@BackupPath Varchar(50);\r\n",
                "Set @BackupPath = 'C:\\Apress\\TestDB_' + @BackupDate + '.BAK';\r\n",
                "BACKUP DATABASE TestDB\r\n",
                "TO DISK = @BackupPath;\r\n",
                "GO\r\n",
                "-- Time passes, we make another backup to the same device\r\n",
                "USE master;\r\n",
                "GO\r\n",
                "Declare @BackupDate Char(8) = Convert(Varchar,GetDate(),112)\r\n",
                ",@BackupPath Varchar(50);\r\n",
                "Set @BackupPath = 'C:\\Apress\\TestDB_' + @BackupDate + '.BAK';\r\n",
                "BACKUP DATABASE TestDB\r\n",
                "TO DISK = @BackupPath;\r\n",
                "GO"
            ],
            "metadata": {
                "azdata_cell_guid": "4e3693a0-8663-46ac-af7d-1ae92984ed3c"
            },
            "outputs": [
                {
                    "output_type": "display_data",
                    "data": {
                        "text/html": "Commands completed successfully."
                    },
                    "metadata": {}
                },
                {
                    "output_type": "display_data",
                    "data": {
                        "text/html": "Processed 368 pages for database 'TestDB', file 'TestDB' on file 1."
                    },
                    "metadata": {}
                },
                {
                    "output_type": "display_data",
                    "data": {
                        "text/html": "Processed 1 pages for database 'TestDB', file 'TestDB_log' on file 1."
                    },
                    "metadata": {}
                },
                {
                    "output_type": "display_data",
                    "data": {
                        "text/html": "BACKUP DATABASE successfully processed 369 pages in 0.143 seconds (20.115 MB/sec)."
                    },
                    "metadata": {}
                },
                {
                    "output_type": "display_data",
                    "data": {
                        "text/html": "Commands completed successfully."
                    },
                    "metadata": {}
                },
                {
                    "output_type": "display_data",
                    "data": {
                        "text/html": "Processed 368 pages for database 'TestDB', file 'TestDB' on file 2."
                    },
                    "metadata": {}
                },
                {
                    "output_type": "display_data",
                    "data": {
                        "text/html": "Processed 1 pages for database 'TestDB', file 'TestDB_log' on file 2."
                    },
                    "metadata": {}
                },
                {
                    "output_type": "display_data",
                    "data": {
                        "text/html": "BACKUP DATABASE successfully processed 369 pages in 0.062 seconds (46.394 MB/sec)."
                    },
                    "metadata": {}
                },
                {
                    "output_type": "display_data",
                    "data": {
                        "text/html": "Total execution time: 00:00:01.531"
                    },
                    "metadata": {}
                }
            ],
            "execution_count": 2
        },
        {
            "cell_type": "code",
            "source": [
                "-- Now the database is restored using the second backup from the device (notice that the REPLACE argument is used to tell SQL Server to overlay the existing TestDB database).\r\n",
                "\r\n",
                "USE master;\r\n",
                "GO\r\n",
                "Declare @DeviceName Varchar(50);\r\n",
                "Select @DeviceName = b.physical_device_name\r\n",
                "From msdb.dbo.backupset a\r\n",
                "INNER JOIN msdb.dbo.backupmediafamily b\r\n",
                "ON a.media_set_id = b.media_set_id\r\n",
                "Where a.database_name = 'TestDB'\r\n",
                "And a.type = 'D'\r\n",
                "And Convert(Varchar,a.backup_start_date,112) = Convert(Varchar,GetDate(),112);\r\n",
                "RESTORE DATABASE TestDB\r\n",
                "FROM DISK = @DeviceName\r\n",
                "WITH FILE = 2, REPLACE;\r\n",
                "GO"
            ],
            "metadata": {
                "azdata_cell_guid": "c3f99dbe-16f5-4e61-955a-73cbe0af3c7b"
            },
            "outputs": [
                {
                    "output_type": "display_data",
                    "data": {
                        "text/html": "Commands completed successfully."
                    },
                    "metadata": {}
                },
                {
                    "output_type": "display_data",
                    "data": {
                        "text/html": "Processed 368 pages for database 'TestDB', file 'TestDB' on file 2."
                    },
                    "metadata": {}
                },
                {
                    "output_type": "display_data",
                    "data": {
                        "text/html": "Processed 1 pages for database 'TestDB', file 'TestDB_log' on file 2."
                    },
                    "metadata": {}
                },
                {
                    "output_type": "display_data",
                    "data": {
                        "text/html": "RESTORE DATABASE successfully processed 369 pages in 0.068 seconds (42.300 MB/sec)."
                    },
                    "metadata": {}
                },
                {
                    "output_type": "display_data",
                    "data": {
                        "text/html": "Total execution time: 00:00:01.556"
                    },
                    "metadata": {}
                }
            ],
            "execution_count": 3
        },
        {
            "cell_type": "code",
            "source": [
                "-- In this second example, a new database is created by restoring from the TestDB backup, creating a new database called TrainingDB. Notice that the MOVE argument is used to designate the location of the new database files.\r\n",
                "\r\n",
                "USE master;\r\n",
                "GO\r\n",
                "Declare @DeviceName Varchar(50);\r\n",
                "Select @DeviceName = b.physical_device_name\r\n",
                "From msdb.dbo.backupset a\r\n",
                "INNER JOIN msdb.dbo.backupmediafamily b\r\n",
                "ON a.media_set_id = b.media_set_id\r\n",
                "Where a.database_name = 'TestDB'\r\n",
                "And a.type = 'D'\r\n",
                "And Convert(Varchar,a.backup_start_date,112) = Convert(Varchar,GetDate(),112);\r\n",
                "RESTORE DATABASE TrainingDB\r\n",
                "FROM DISK = @DeviceName\r\n",
                "WITH FILE = 2,\r\n",
                "MOVE 'TestDB' TO 'C:\\Apress\\TrainingDB.mdf',\r\n",
                "MOVE 'TestDB_log' TO 'C:\\Apress\\TrainingDB_log.LDF';\r\n",
                "GO"
            ],
            "metadata": {
                "azdata_cell_guid": "401fc2e0-064b-4740-a56c-f8c52880d97a"
            },
            "outputs": [
                {
                    "output_type": "display_data",
                    "data": {
                        "text/html": "Commands completed successfully."
                    },
                    "metadata": {}
                },
                {
                    "output_type": "display_data",
                    "data": {
                        "text/html": "Processed 368 pages for database 'TrainingDB', file 'TestDB' on file 2."
                    },
                    "metadata": {}
                },
                {
                    "output_type": "display_data",
                    "data": {
                        "text/html": "Processed 1 pages for database 'TrainingDB', file 'TestDB_log' on file 2."
                    },
                    "metadata": {}
                },
                {
                    "output_type": "display_data",
                    "data": {
                        "text/html": "RESTORE DATABASE successfully processed 369 pages in 0.042 seconds (68.487 MB/sec)."
                    },
                    "metadata": {}
                },
                {
                    "output_type": "display_data",
                    "data": {
                        "text/html": "Total execution time: 00:00:00.469"
                    },
                    "metadata": {}
                }
            ],
            "execution_count": 4
        },
        {
            "cell_type": "code",
            "source": [
                "-- In the last example for this recipe, the TestDB database is restored from a striped backup set. First, I create a backup set that will be used to perform the restore of a striped backup set.\r\n",
                "\r\n",
                "USE master;\r\n",
                "GO\r\n",
                "/* The path for each file should be changed to a path matching one\r\n",
                "That exists on your system. */\r\n",
                "BACKUP DATABASE TestDB\r\n",
                "TO DISK = 'C:\\Apress\\Recipes\\TestDB_Stripe1.bak'\r\n",
                ", DISK = 'D:\\Apress\\Recipes\\TestDB_Stripe2.bak'\r\n",
                ", DISK = 'E:\\Apress\\Recipes\\TestDB_Stripe3.bak'\r\n",
                "WITH NOFORMAT, NOINIT,\r\n",
                "NAME = N'TestDB-Stripe Database Backup',\r\n",
                "SKIP, STATS = 20;\r\n",
                "GO"
            ],
            "metadata": {
                "azdata_cell_guid": "edc361e3-be8b-43fe-b5c3-0637b9db4087"
            },
            "outputs": [
                {
                    "output_type": "display_data",
                    "data": {
                        "text/html": "Commands completed successfully."
                    },
                    "metadata": {}
                },
                {
                    "output_type": "error",
                    "evalue": "Msg 3201, Level 16, State 1, Line 7\r\nCannot open backup device 'C:\\Apress\\Recipes\\TestDB_Stripe1.bak'. Operating system error 3(The system cannot find the path specified.).",
                    "ename": "",
                    "traceback": []
                },
                {
                    "output_type": "error",
                    "evalue": "Msg 3013, Level 16, State 1, Line 7\r\nBACKUP DATABASE is terminating abnormally.",
                    "ename": "",
                    "traceback": []
                },
                {
                    "output_type": "display_data",
                    "data": {
                        "text/html": "Total execution time: 00:00:00.031"
                    },
                    "metadata": {}
                }
            ],
            "execution_count": 5
        },
        {
            "cell_type": "code",
            "source": [
                "-- Now, I will perform the restore of the striped backup set.\r\n",
                "\r\n",
                "USE master;\r\n",
                "GO\r\n",
                "/* You should use the same file path for each file as specified\r\n",
                "in the backup statement. */\r\n",
                "RESTORE DATABASE TestDB\r\n",
                "FROM DISK = 'C:\\Apress\\Recipes\\TestDB_Stripe1.bak'\r\n",
                ", DISK = 'D:\\Apress\\Recipes\\TestDB_Stripe2.bak'\r\n",
                ", DISK = 'E:\\Apress\\Recipes\\TestDB_Stripe3.bak'\r\n",
                "WITH FILE = 1, REPLACE;\r\n",
                "GO"
            ],
            "metadata": {
                "azdata_cell_guid": "a46d04f6-7e34-44c1-b8ae-1d5c532b6752"
            },
            "outputs": [
                {
                    "output_type": "display_data",
                    "data": {
                        "text/html": "Commands completed successfully."
                    },
                    "metadata": {}
                },
                {
                    "output_type": "error",
                    "evalue": "Msg 3201, Level 16, State 2, Line 7\r\nCannot open backup device 'C:\\Apress\\Recipes\\TestDB_Stripe1.bak'. Operating system error 3(The system cannot find the path specified.).",
                    "ename": "",
                    "traceback": []
                },
                {
                    "output_type": "error",
                    "evalue": "Msg 3013, Level 16, State 1, Line 7\r\nRESTORE DATABASE is terminating abnormally.",
                    "ename": "",
                    "traceback": []
                },
                {
                    "output_type": "display_data",
                    "data": {
                        "text/html": "Total execution time: 00:00:00.030"
                    },
                    "metadata": {}
                }
            ],
            "execution_count": 6
        },
        {
            "cell_type": "code",
            "source": [
                "-- 28-2. Restoring a Database from a Transaction Log Backup\r\n",
                "\r\n",
                "-- For this demonstration, the TrainingDB created in the previous recipe will be used (if it doesn’t exist, we will create it).\r\n",
                "\r\n",
                "USE master;\r\n",
                "GO\r\n",
                "IF NOT EXISTS (SELECT name FROM sys.databases\r\n",
                "WHERE name = 'TrainingDB')\r\n",
                "BEGIN\r\n",
                "CREATE DATABASE TrainingDB;\r\n",
                "END\r\n",
                "GO\r\n",
                "-- Add a table and some data to it\r\n",
                "USE TrainingDB\r\n",
                "GO\r\n",
                "SELECT *\r\n",
                "INTO dbo.SalesOrderDetail\r\n",
                "FROM AdventureWorks2014.Sales.SalesOrderDetail;\r\n",
                "GO"
            ],
            "metadata": {
                "azdata_cell_guid": "56295cb9-beb6-4e4e-a2b3-e801f14311d5"
            },
            "outputs": [
                {
                    "output_type": "display_data",
                    "data": {
                        "text/html": "Commands completed successfully."
                    },
                    "metadata": {}
                },
                {
                    "output_type": "display_data",
                    "data": {
                        "text/html": "Commands completed successfully."
                    },
                    "metadata": {}
                },
                {
                    "output_type": "display_data",
                    "data": {
                        "text/html": "Commands completed successfully."
                    },
                    "metadata": {}
                },
                {
                    "output_type": "display_data",
                    "data": {
                        "text/html": "(121317 rows affected)"
                    },
                    "metadata": {}
                },
                {
                    "output_type": "display_data",
                    "data": {
                        "text/html": "Total execution time: 00:00:00.429"
                    },
                    "metadata": {}
                }
            ],
            "execution_count": 7
        },
        {
            "cell_type": "code",
            "source": [
                "-- This database will be given a full backup and two consecutive transaction log backups.\r\n",
                "\r\n",
                "USE master;\r\n",
                "GO\r\n",
                "Declare @BackupDate Char(8) = Convert(Varchar,GetDate(),112)\r\n",
                ",@BackupPath Varchar(50);\r\n",
                "Set @BackupPath = 'C:\\Apress\\TrainingDB_' + @BackupDate + '.BAK';\r\n",
                "BACKUP DATABASE TrainingDB\r\n",
                "TO DISK = @BackupPath;\r\n",
                "GO\r\n",
                "BACKUP LOG TrainingDB\r\n",
                "TO DISK = 'C:\\Apress\\TrainingDB_20120430_8AM.trn';\r\n",
                "GO\r\n",
                "-- Two hours pass, another transaction log backup is made\r\n",
                "BACKUP LOG TrainingDB\r\n",
                "TO DISK = 'C:\\Apress\\TrainingDB_20120430_10AM.trn';\r\n",
                "GO"
            ],
            "metadata": {
                "azdata_cell_guid": "1f9823c4-68e9-4b01-b1d4-342cd54f0679"
            },
            "outputs": [
                {
                    "output_type": "display_data",
                    "data": {
                        "text/html": "Commands completed successfully."
                    },
                    "metadata": {}
                },
                {
                    "output_type": "display_data",
                    "data": {
                        "text/html": "Processed 1888 pages for database 'TrainingDB', file 'TestDB' on file 1."
                    },
                    "metadata": {}
                },
                {
                    "output_type": "display_data",
                    "data": {
                        "text/html": "Processed 1 pages for database 'TrainingDB', file 'TestDB_log' on file 1."
                    },
                    "metadata": {}
                },
                {
                    "output_type": "display_data",
                    "data": {
                        "text/html": "BACKUP DATABASE successfully processed 1889 pages in 0.108 seconds (136.587 MB/sec)."
                    },
                    "metadata": {}
                },
                {
                    "output_type": "display_data",
                    "data": {
                        "text/html": "Processed 1562 pages for database 'TrainingDB', file 'TestDB_log' on file 1."
                    },
                    "metadata": {}
                },
                {
                    "output_type": "display_data",
                    "data": {
                        "text/html": "BACKUP LOG successfully processed 1562 pages in 0.091 seconds (134.030 MB/sec)."
                    },
                    "metadata": {}
                },
                {
                    "output_type": "display_data",
                    "data": {
                        "text/html": "Processed 2 pages for database 'TrainingDB', file 'TestDB_log' on file 1."
                    },
                    "metadata": {}
                },
                {
                    "output_type": "display_data",
                    "data": {
                        "text/html": "BACKUP LOG successfully processed 2 pages in 0.016 seconds (0.549 MB/sec)."
                    },
                    "metadata": {}
                },
                {
                    "output_type": "display_data",
                    "data": {
                        "text/html": "Total execution time: 00:00:00.363"
                    },
                    "metadata": {}
                }
            ],
            "execution_count": 8
        },
        {
            "cell_type": "code",
            "source": [
                "-- The previous RESTORE examples have assumed that there were no existing connections in the database to be restored over. However, in this example, I demonstrate how to kick out any connections to the database prior to performing the RESTORE.\r\n",
                "\r\n",
                "USE master;\r\n",
                "GO\r\n",
                "-- Kicking out all other connections\r\n",
                "ALTER DATABASE TrainingDB\r\n",
                "SET SINGLE_USER\r\n",
                "WITH ROLLBACK IMMEDIATE;\r\n",
                "GO"
            ],
            "metadata": {
                "azdata_cell_guid": "ba0e4d78-1e23-4451-b68d-97de6957d2d3"
            },
            "outputs": [
                {
                    "output_type": "display_data",
                    "data": {
                        "text/html": "Commands completed successfully."
                    },
                    "metadata": {}
                },
                {
                    "output_type": "display_data",
                    "data": {
                        "text/html": "Commands completed successfully."
                    },
                    "metadata": {}
                },
                {
                    "output_type": "display_data",
                    "data": {
                        "text/html": "Total execution time: 00:00:00.098"
                    },
                    "metadata": {}
                }
            ],
            "execution_count": 9
        },
        {
            "cell_type": "code",
            "source": [
                "-- Next, a database backup and two transaction log backups are restored from backup.\r\n",
                "\r\n",
                "USE master;\r\n",
                "GO\r\n",
                "Declare @DeviceName Varchar(50);\r\n",
                "Select @DeviceName = b.physical_device_name\r\n",
                "From msdb.dbo.backupset a\r\n",
                "INNER JOIN msdb.dbo.backupmediafamily b\r\n",
                "ON a.media_set_id = b.media_set_id\r\n",
                "Where a.database_name = 'TrainingDB'\r\n",
                "And a.type = 'D'\r\n",
                "And Convert(Varchar,a.backup_start_date,112) = Convert(Varchar,GetDate(),112);\r\n",
                "RESTORE DATABASE TrainingDB\r\n",
                "FROM DISK = @DeviceName\r\n",
                "WITH NORECOVERY, REPLACE;\r\n",
                "RESTORE LOG TrainingDB\r\n",
                "FROM DISK = 'C:\\Apress\\ TrainingDB_20120430_8AM.trn'\r\n",
                "WITH NORECOVERY, REPLACE\r\n",
                "RESTORE LOG TrainingDB\r\n",
                "FROM DISK = 'C:\\Apress\\ TrainingDB_20120430_10AM.trn'\r\n",
                "WITH RECOVERY, REPLACE"
            ],
            "metadata": {
                "azdata_cell_guid": "59bde0ef-385f-4916-9a08-6bad90f0a476"
            },
            "outputs": [
                {
                    "output_type": "display_data",
                    "data": {
                        "text/html": "Commands completed successfully."
                    },
                    "metadata": {}
                },
                {
                    "output_type": "display_data",
                    "data": {
                        "text/html": "Processed 1888 pages for database 'TrainingDB', file 'TestDB' on file 1."
                    },
                    "metadata": {}
                },
                {
                    "output_type": "display_data",
                    "data": {
                        "text/html": "Processed 1 pages for database 'TrainingDB', file 'TestDB_log' on file 1."
                    },
                    "metadata": {}
                },
                {
                    "output_type": "display_data",
                    "data": {
                        "text/html": "RESTORE DATABASE successfully processed 1889 pages in 0.222 seconds (66.448 MB/sec)."
                    },
                    "metadata": {}
                },
                {
                    "output_type": "error",
                    "evalue": "Msg 3201, Level 16, State 2, Line 16\r\nCannot open backup device 'C:\\Apress\\ TrainingDB_20120430_8AM.trn'. Operating system error 2(The system cannot find the file specified.).",
                    "ename": "",
                    "traceback": []
                },
                {
                    "output_type": "error",
                    "evalue": "Msg 3013, Level 16, State 1, Line 16\r\nRESTORE LOG is terminating abnormally.",
                    "ename": "",
                    "traceback": []
                },
                {
                    "output_type": "error",
                    "evalue": "Msg 3201, Level 16, State 2, Line 19\r\nCannot open backup device 'C:\\Apress\\ TrainingDB_20120430_10AM.trn'. Operating system error 2(The system cannot find the file specified.).",
                    "ename": "",
                    "traceback": []
                },
                {
                    "output_type": "error",
                    "evalue": "Msg 3013, Level 16, State 1, Line 19\r\nRESTORE LOG is terminating abnormally.",
                    "ename": "",
                    "traceback": []
                },
                {
                    "output_type": "display_data",
                    "data": {
                        "text/html": "Total execution time: 00:00:00.466"
                    },
                    "metadata": {}
                }
            ],
            "execution_count": 13
        },
        {
            "cell_type": "code",
            "source": [
                "-- In this second example, I'll use STOPAT to restore the database and transaction log as of a specific point in time. To demonstrate, first a full backup will be taken of the TrainingDB database.\r\n",
                "\r\n",
                "USE master;\r\n",
                "GO\r\n",
                "BACKUP DATABASE TrainingDB\r\n",
                "TO DISK = 'C:\\Apress\\TrainingDB_StopAt.bak';\r\n",
                "GO"
            ],
            "metadata": {
                "azdata_cell_guid": "bbe57ae5-bba7-45d8-a4fd-832f1c4b9d81"
            },
            "outputs": [
                {
                    "output_type": "display_data",
                    "data": {
                        "text/html": "Commands completed successfully."
                    },
                    "metadata": {}
                },
                {
                    "output_type": "error",
                    "evalue": "Msg 927, Level 14, State 2, Line 5\r\nDatabase 'TrainingDB' cannot be opened. It is in the middle of a restore.",
                    "ename": "",
                    "traceback": []
                },
                {
                    "output_type": "error",
                    "evalue": "Msg 3013, Level 16, State 1, Line 5\r\nBACKUP DATABASE is terminating abnormally.",
                    "ename": "",
                    "traceback": []
                },
                {
                    "output_type": "display_data",
                    "data": {
                        "text/html": "Total execution time: 00:00:00.013"
                    },
                    "metadata": {}
                }
            ],
            "execution_count": 11
        },
        {
            "cell_type": "code",
            "source": [
                "-- Next, rows will be deleted out of the table, and the current time after the change will be queried.\r\n",
                "\r\n",
                "USE TrainingDB;\r\n",
                "GO\r\n",
                "DELETE dbo.SalesOrderDetail\r\n",
                "WHERE ProductID = 776;\r\n",
                "GO\r\n",
                "SELECT GETDATE();\r\n",
                "GO"
            ],
            "metadata": {
                "azdata_cell_guid": "9e8ab974-a08f-495a-804b-d3d35e8d5247"
            },
            "outputs": [
                {
                    "output_type": "error",
                    "evalue": "Msg 927, Level 14, State 2, Line 3\r\nDatabase 'TrainingDB' cannot be opened. It is in the middle of a restore.",
                    "ename": "",
                    "traceback": []
                },
                {
                    "output_type": "error",
                    "evalue": "Msg 208, Level 16, State 1, Line 5\r\nInvalid object name 'dbo.SalesOrderDetail'.",
                    "ename": "",
                    "traceback": []
                },
                {
                    "output_type": "display_data",
                    "data": {
                        "text/html": "(1 row affected)"
                    },
                    "metadata": {}
                },
                {
                    "output_type": "display_data",
                    "data": {
                        "text/html": "Total execution time: 00:00:00.612"
                    },
                    "metadata": {}
                },
                {
                    "output_type": "execute_result",
                    "metadata": {
                        "resultSet": {
                            "id": 0,
                            "batchId": 2,
                            "rowCount": 1,
                            "complete": false,
                            "columnInfo": [
                                {
                                    "isBytes": false,
                                    "isChars": false,
                                    "isSqlVariant": false,
                                    "isUdt": false,
                                    "isXml": false,
                                    "isJson": false,
                                    "sqlDbType": 4,
                                    "isHierarchyId": false,
                                    "isSqlXmlType": false,
                                    "isUnknownType": false,
                                    "isUpdatable": false,
                                    "allowDBNull": false,
                                    "baseCatalogName": null,
                                    "baseColumnName": null,
                                    "baseSchemaName": null,
                                    "baseServerName": null,
                                    "baseTableName": null,
                                    "columnName": "(No column name)",
                                    "columnOrdinal": 0,
                                    "columnSize": 8,
                                    "isAliased": null,
                                    "isAutoIncrement": false,
                                    "isExpression": null,
                                    "isHidden": null,
                                    "isIdentity": false,
                                    "isKey": null,
                                    "isLong": false,
                                    "isReadOnly": true,
                                    "isUnique": false,
                                    "numericPrecision": 23,
                                    "numericScale": 3,
                                    "udtAssemblyQualifiedName": null,
                                    "dataType": "System.DateTime, System.Private.CoreLib, Version=4.0.0.0, Culture=neutral, PublicKeyToken=7cec85d7bea7798e",
                                    "dataTypeName": "datetime"
                                }
                            ],
                            "specialAction": null
                        }
                    },
                    "execution_count": 12,
                    "data": {
                        "application/vnd.dataresource+json": {
                            "schema": {
                                "fields": [
                                    {
                                        "name": "(No column name)"
                                    }
                                ]
                            },
                            "data": [
                                {
                                    "0": "2021-01-14 17:47:10.977"
                                }
                            ]
                        },
                        "text/html": [
                            "<table>",
                            "<tr><th>(No column name)</th></tr>",
                            "<tr><td>2021-01-14 17:47:10.977</td></tr>",
                            "</table>"
                        ]
                    }
                }
            ],
            "execution_count": 12
        },
        {
            "cell_type": "code",
            "source": [
                "-- Next, a transaction log backup is performed.\r\n",
                "\r\n",
                "BACKUP LOG TrainingDB\r\n",
                "TO DISK = 'C:\\Apress\\TrainingDB_20120430_2022.trn';\r\n",
                "GO"
            ],
            "metadata": {
                "azdata_cell_guid": "549119d3-5fbb-4780-9267-daea86f65c45"
            },
            "outputs": [],
            "execution_count": null
        },
        {
            "cell_type": "code",
            "source": [
                "-- The database is restored from backup, leaving it in NORECOVERY so that the transaction log backup can also be restored.\r\n",
                "\r\n",
                "USE master;\r\n",
                "GO\r\n",
                "RESTORE DATABASE TrainingDB\r\n",
                "FROM DISK = 'C:\\Apress\\TrainingDB_StopAt.bak'\r\n",
                "WITH FILE = 1, NORECOVERY,\r\n",
                "STOPAT = '2012-04-30 22:17:10.563';\r\n",
                "GO"
            ],
            "metadata": {
                "azdata_cell_guid": "7bb770e3-16a7-4576-917a-8d98a59a5781"
            },
            "outputs": [],
            "execution_count": null
        },
        {
            "cell_type": "code",
            "source": [
                "-- Next, the transaction log is restored, also designating the time prior to the data deletion.\r\n",
                "\r\n",
                "RESTORE LOG TrainingDB\r\n",
                "FROM DISK = 'C:\\Apress\\TrainingDB_20120430_2022.trn'\r\n",
                "WITH RECOVERY,\r\n",
                "STOPAT = '2012-04-30 22:17:10.563';\r\n",
                "GO"
            ],
            "metadata": {
                "azdata_cell_guid": "5571f390-c443-4130-89c4-2427aba729fc"
            },
            "outputs": [],
            "execution_count": null
        },
        {
            "cell_type": "code",
            "source": [
                "-- The following query confirms that you have restored just prior to the data deletion:\r\n",
                "\r\n",
                "USE TrainingDB;\r\n",
                "GO\r\n",
                "SELECT COUNT(*)\r\n",
                "FROM dbo.SalesOrderDetail\r\n",
                "WHERE ProductID = 776;\r\n",
                "GO"
            ],
            "metadata": {
                "azdata_cell_guid": "692f3b8f-cacd-4470-8717-3146656c16e0"
            },
            "outputs": [],
            "execution_count": null
        },
        {
            "cell_type": "code",
            "source": [
                "-- 28-3. Restoring a Database from a Differential Backup\r\n",
                "\r\n",
                "-- First, however, I’ll set up the example by performing a full, differential, and transaction log backup on the TrainingDB database.\r\n",
                "\r\n",
                "USE master;\r\n",
                "GO\r\n",
                "BACKUP DATABASE TrainingDB\r\n",
                "TO DISK = 'C:\\Apress\\TrainingDB_DiffExample.bak';\r\n",
                "GO\r\n",
                "-- Time passes\r\n",
                "BACKUP DATABASE TrainingDB\r\n",
                "TO DISK = 'C:\\Apress\\TrainingDB_DiffExample.diff'\r\n",
                "WITH DIFFERENTIAL;\r\n",
                "GO\r\n",
                "\r\n",
                "-- More time passes\r\n",
                "BACKUP LOG TrainingDB\r\n",
                "TO DISK = 'C:\\Apress\\TrainingDB_DiffExample_tlog.trn';\r\n",
                "GO"
            ],
            "metadata": {
                "azdata_cell_guid": "7218ddec-7685-4a55-b955-f7ab0e7d7bd6"
            },
            "outputs": [],
            "execution_count": null
        },
        {
            "cell_type": "code",
            "source": [
                "-- Now, I’ll demonstrate performing a RESTORE, bringing the database back to the completion of the last transaction log backup.\r\n",
                "\r\n",
                "USE master;\r\n",
                "GO\r\n",
                "-- Full database restore\r\n",
                "RESTORE DATABASE TrainingDB\r\n",
                "FROM DISK = 'C:\\Apress\\TrainingDB_DiffExample.bak'\r\n",
                "WITH NORECOVERY, REPLACE;\r\n",
                "GO\r\n",
                "-- Differential\r\n",
                "RESTORE DATABASE TrainingDB\r\n",
                "FROM DISK = 'C:\\Apress\\TrainingDB_DiffExample.diff'\r\n",
                "WITH NORECOVERY;\r\n",
                "GO\r\n",
                "-- Transaction log\r\n",
                "RESTORE LOG TrainingDB\r\n",
                "FROM DISK = 'C:\\Apress\\TrainingDB_DiffExample_tlog.trn'\r\n",
                "WITH RECOVERY;\r\n",
                "GO"
            ],
            "metadata": {
                "azdata_cell_guid": "f26a3f78-2c1c-44dd-81cb-b89c55e89b86"
            },
            "outputs": [],
            "execution_count": null
        },
        {
            "cell_type": "code",
            "source": [
                "-- 28-4. Restoring a File or Filegroup\r\n",
                "\r\n",
                "USE master;\r\n",
                "GO\r\n",
                "If Not Exists (Select name from sys.databases where name = 'VLTestDB')\r\n",
                "Begin\r\n",
                "CREATE DATABASE VLTestDB\r\n",
                "ON PRIMARY\r\n",
                "    ( NAME = N'VLTestDB',FILENAME = N'c:\\Apress\\VLTestDB.mdf'\r\n",
                "    ,SIZE = 4072 KB , FILEGROWTH = 0 ),\r\n",
                "FILEGROUP FG2\r\n",
                "    ( NAME = N'VLTestDB2', FILENAME = N'c:\\Apress\\VLTestDB2.ndf'\r\n",
                "    , SIZE = 3048 KB , FILEGROWTH = 1024 KB )\r\n",
                "    ,( NAME = N'VLTestDB3', FILENAME = N'c:\\Apress\\VLTestDB3.ndf'\r\n",
                "    , SIZE = 3048 KB , FILEGROWTH = 1024 KB )\r\n",
                "LOG ON\r\n",
                "    ( NAME = N'VLTestDBLog', FILENAME = N'c:\\Apress\\VLTestDB_log.ldf'\r\n",
                "    , SIZE = 1024 KB , FILEGROWTH = 10 %);\r\n",
                "Alter DATABASE VLTestDB\r\n",
                "Modify FILEGROUP FG2 Default;\r\n",
                "END\r\n",
                "GO\r\n",
                "USE master;\r\n",
                "GO\r\n",
                "BACKUP DATABASE VLTestDB\r\n",
                "FILEGROUP = 'FG2'\r\n",
                "TO DISK = 'C:\\Apress\\VLTestDB_FG2.bak'\r\n",
                "WITH NAME = N'VLTestDB-Full Filegroup Backup',\r\n",
                "SKIP, STATS = 20;\r\n",
                "GO"
            ],
            "metadata": {
                "azdata_cell_guid": "6e8d5a8a-d27f-4d62-9867-1f3e669bec8e"
            },
            "outputs": [],
            "execution_count": null
        },
        {
            "cell_type": "code",
            "source": [
                "-- Time passes, and then a transaction log backup is taken for the database.\r\n",
                "\r\n",
                "BACKUP LOG VLTestDB\r\n",
                "TO DISK = 'C:\\Apress\\VLTestDB_FG_Example.trn';\r\n",
                "GO"
            ],
            "metadata": {
                "azdata_cell_guid": "f445bcb3-27c1-4edc-b657-e178372f7c92"
            },
            "outputs": [],
            "execution_count": null
        },
        {
            "cell_type": "code",
            "source": [
                ""
            ],
            "metadata": {
                "azdata_cell_guid": "91b94e84-1f05-4056-a953-7f87f4bcc365"
            },
            "outputs": [],
            "execution_count": null
        },
        {
            "cell_type": "code",
            "source": [
                "-- Next, the database filegroup FG2 is restored from backup, followed by the restore of a transaction log backup.\r\n",
                "\r\n",
                "USE master;\r\n",
                "GO\r\n",
                "RESTORE DATABASE VLTestDB\r\n",
                "FILEGROUP = 'FG2'\r\n",
                "FROM DISK = 'C:\\Apress\\VLTestDB_FG2.bak'\r\n",
                "WITH FILE = 1, NORECOVERY, REPLACE;\r\n",
                "RESTORE LOG VLTestDB\r\n",
                "FROM DISK = 'C:\\Apress\\VLTestDB_FG_Example.trn'\r\n",
                "WITH FILE = 1, RECOVERY;\r\n",
                "GO"
            ],
            "metadata": {
                "azdata_cell_guid": "09a2ea52-cc55-40e8-b4ce-e85c40b95ad4"
            },
            "outputs": [],
            "execution_count": null
        },
        {
            "cell_type": "code",
            "source": [
                "-- 28-5. Performing a Piecemeal (PARTIAL) Restore\r\n",
                "\r\n",
                "-- First, to set up this example, the primary and FG2 filegroups in the VLTestDB are backed up.\r\n",
                "\r\n",
                "USE master;\r\n",
                "GO\r\n",
                "BACKUP DATABASE VLTestDB\r\n",
                "FILEGROUP = 'PRIMARY'\r\n",
                "TO DISK = 'C:\\Apress\\VLTestDB_Primary_PieceExmp.bak';\r\n",
                "GO\r\n",
                "BACKUP DATABASE VLTestDB\r\n",
                "FILEGROUP = 'FG2'\r\n",
                "TO DISK = 'C:\\Apress\\VLTestDB_FG2_PieceExmp.bak';\r\n",
                "GO"
            ],
            "metadata": {
                "azdata_cell_guid": "74c4284b-4cd1-4805-a47b-017ca4303353"
            },
            "outputs": [],
            "execution_count": null
        },
        {
            "cell_type": "code",
            "source": [
                "-- After that, a transaction log backup is performed.\r\n",
                "\r\n",
                "BACKUP LOG VLTestDB\r\n",
                "TO DISK = 'C:\\Apress\\VLTestDB_PieceExmp.trn';\r\n",
                "GO"
            ],
            "metadata": {
                "azdata_cell_guid": "7f40a2c2-9120-466c-8725-4e8198a8e4da"
            },
            "outputs": [],
            "execution_count": null
        },
        {
            "cell_type": "code",
            "source": [
                "-- Next, a piecemeal RESTORE is performed, recovering just the PRIMARY filegroup.\r\n",
                "\r\n",
                "USE master;\r\n",
                "GO\r\n",
                "RESTORE DATABASE VLTestDB\r\n",
                "FILEGROUP = 'PRIMARY'\r\n",
                "FROM DISK = 'C:\\Apress\\VLTestDB_Primary_PieceExmp.bak'\r\n",
                "WITH PARTIAL, NORECOVERY, REPLACE;\r\n",
                "RESTORE LOG VLTestDB\r\n",
                "FROM DISK = 'C:\\Apress\\VLTestDB_PieceExmp.trn'\r\n",
                "WITH RECOVERY;\r\n",
                "GO"
            ],
            "metadata": {
                "azdata_cell_guid": "276956fa-a10d-4eb3-a6a1-5bce7a26882e"
            },
            "outputs": [],
            "execution_count": null
        },
        {
            "cell_type": "code",
            "source": [
                "-- The other filegroup, FG2, now contains unavailable files. You can view the file status by querying sys.database_files from the VLTestDB database.\r\n",
                "\r\n",
                "USE VLTestDB;\r\n",
                "GO\r\n",
                "SELECT name,state_desc\r\n",
                "FROM sys.database_files;\r\n",
                "GO"
            ],
            "metadata": {
                "azdata_cell_guid": "f3f34aea-d82d-4c30-90e6-a2eb89c78a09"
            },
            "outputs": [],
            "execution_count": null
        },
        {
            "cell_type": "code",
            "source": [
                "-- 28-6. Restoring a Page\r\n",
                "\r\n",
                "-- To set up this example, a full database backup is created for the TestDB database.\r\n",
                "\r\n",
                "USE master;\r\n",
                "GO\r\n",
                "BACKUP DATABASE TestDB\r\n",
                "TO DISK = 'C:\\Apress\\TestDB_PageExample.bak';\r\n",
                "GO"
            ],
            "metadata": {
                "azdata_cell_guid": "80d54e21-e78c-43d1-9e58-e53538099f6e"
            },
            "outputs": [],
            "execution_count": null
        },
        {
            "cell_type": "code",
            "source": [
                "-- Next, a restore is performed using the PAGE argument.\r\n",
                "\r\n",
                "USE master;\r\n",
                "GO\r\n",
                "RESTORE DATABASE TestDB\r\n",
                "PAGE = '1:8'\r\n",
                "FROM DISK = 'C:\\Apress\\TestDB_PageExample.bak'\r\n",
                "WITH NORECOVERY, REPLACE;\r\n",
                "GO"
            ],
            "metadata": {
                "azdata_cell_guid": "f83ad0ec-64d6-462d-bc8e-2f34c54738fe"
            },
            "outputs": [],
            "execution_count": null
        },
        {
            "cell_type": "code",
            "source": [
                "-- At this point, any differential or transaction log backups taken after the last full backup should also be restored. Since there were none in this example, no further backups are restored.\r\n",
                "-- Next, and this is something that departs from previous examples, a new transaction log backup must be created that captures the restored page.\r\n",
                "\r\n",
                "BACKUP LOG TestDB\r\n",
                "TO DISK = 'C:\\Apress\\TestDB_PageExample_tlog.trn';\r\n",
                "GO"
            ],
            "metadata": {
                "azdata_cell_guid": "0bf41c47-d9cf-41eb-9673-34f16947393d"
            },
            "outputs": [],
            "execution_count": null
        },
        {
            "cell_type": "code",
            "source": [
                "-- To finish the page restore process, the latest transaction log taken after the RESTORE. . .PAGE must be executed with RECOVERY.\r\n",
                "\r\n",
                "RESTORE LOG TestDB\r\n",
                "FROM DISK = 'C:\\Apress\\TestDB_PageExample_tlog.trn'\r\n",
                "WITH RECOVERY;"
            ],
            "metadata": {
                "azdata_cell_guid": "df1f2e6d-1689-44e1-a532-8e994325d705"
            },
            "outputs": [],
            "execution_count": null
        },
        {
            "cell_type": "code",
            "source": [
                ""
            ],
            "metadata": {
                "azdata_cell_guid": "5904af36-a07b-42c0-9eab-96b6eeda27b4"
            },
            "outputs": [],
            "execution_count": null
        },
        {
            "cell_type": "code",
            "source": [
                "-- 28-7. Identifying Databases with Multiple Recovery Paths\r\n",
                "\r\n",
                "-- This recipe demonstrates how to use the sys.database_recovery_status catalog view to get information about a database with more than one recovery path. In the first step, I will create a new database and give it a full database backup, create a table and some rows, and finish up with a transaction log backup.\r\n",
                "\r\n",
                "USE master;\r\n",
                "GO\r\n",
                "IF NOT EXISTS (SELECT name FROM sys.databases WHERE name = 'RomanHistory')\r\n",
                "BEGIN\r\n",
                "CREATE DATABASE RomanHistory;\r\n",
                "END\r\n",
                "GO\r\n",
                "BACKUP DATABASE RomanHistory\r\n",
                "TO DISK = 'C:\\Apress\\RomanHistory_A.bak';\r\n",
                "GO"
            ],
            "metadata": {
                "azdata_cell_guid": "e4bb6341-88db-493c-b283-7837ad55ac8d"
            },
            "outputs": [],
            "execution_count": null
        },
        {
            "cell_type": "code",
            "source": [
                "USE RomanHistory;\r\n",
                "GO\r\n",
                "CREATE TABLE EmperorTitle\r\n",
                "(EmperorTitleID int NOT NULL PRIMARY KEY IDENTITY(1,1), TitleNM varchar(255));\r\n",
                "GO\r\n",
                "INSERT Into EmperorTitle (TitleNM)\r\n",
                "VALUES ('Aulus'), ('Imperator'), ('Pius Felix'), ('Quintus');\r\n",
                "BACKUP LOG RomanHistory\r\n",
                "TO DISK = 'C:\\Apress\\RomanHistory_A.trn';\r\n",
                "GO"
            ],
            "metadata": {
                "azdata_cell_guid": "712988b1-3afa-4592-a243-5b2836d636fb"
            },
            "outputs": [],
            "execution_count": null
        },
        {
            "cell_type": "code",
            "source": [
                "-- Next, I’ll query the sys.database_recovery_status catalog view to get information about the database at this point (column aliases are used to shorten the names for presentation in this book).\r\n",
                "\r\n",
                "USE msdb;\r\n",
                "GO\r\n",
                "SELECT LastLSN = last_log_backup_lsn ,Rec_Fork = recovery_fork_guid\r\n",
                ",Frst_Fork = first_recovery_fork_guid ,Fork_LSN = fork_point_lsn\r\n",
                "FROM sys.database_recovery_status\r\n",
                "WHERE database_id = DB_ID('RomanHistory');\r\n",
                "GO"
            ],
            "metadata": {
                "azdata_cell_guid": "2e906f35-a8b3-4685-af1b-2a6fe4559a80"
            },
            "outputs": [],
            "execution_count": null
        },
        {
            "cell_type": "code",
            "source": [
                "-- Next, I will perform a few more data modifications and another transaction log backup.\r\n",
                "\r\n",
                "USE RomanHistory;\r\n",
                "GO\r\n",
                "INSERT Into EmperorTitle (TitleNM)\r\n",
                "VALUES ('Germanicus'), ('Lucius'), ('Maximus'), ('Titus');\r\n",
                "GO\r\n",
                "BACKUP LOG RomanHistory\r\n",
                "TO DISK = 'C:\\Apress\\RomanHistory_B.trn';\r\n",
                "GO"
            ],
            "metadata": {
                "azdata_cell_guid": "9bd1b5da-dc22-4ddd-8753-48b65d81d487"
            },
            "outputs": [],
            "execution_count": null
        },
        {
            "cell_type": "code",
            "source": [
                "-- I’ll now go ahead and RESTORE the database to a prior state (but not to the latest state).\r\n",
                "\r\n",
                "USE master;\r\n",
                "GO\r\n",
                "RESTORE DATABASE RomanHistory\r\n",
                "FROM DISK = 'C:\\Apress\\RomanHistory_A.bak'\r\n",
                "WITH NORECOVERY, REPLACE;\r\n",
                "RESTORE DATABASE RomanHistory\r\n",
                "FROM DISK = 'C:\\Apress\\RomanHistory_A.trn'\r\n",
                "WITH RECOVERY, REPLACE;\r\n",
                "GO"
            ],
            "metadata": {
                "azdata_cell_guid": "3c6d33c5-166d-495d-9adf-b287b40f07d8"
            },
            "outputs": [],
            "execution_count": null
        },
        {
            "cell_type": "code",
            "source": [
                "-- Now if I reissue the previous query against sys.database_recovery_status, I will see that both the fork_point_lsn and first_recovery_fork_guid columns are no longer NULL.\r\n",
                "\r\n",
                "USE msdb;\r\n",
                "GO\r\n",
                "SELECT LastLSN = last_log_backup_lsn ,Rec_Fork = recovery_fork_guid\r\n",
                ",Frst_Fork = first_recovery_fork_guid ,Fork_LSN = fork_point_lsn\r\n",
                "FROM sys.database_recovery_status\r\n",
                "WHERE database_id = DB_ID('RomanHistory');\r\n",
                "GO"
            ],
            "metadata": {
                "azdata_cell_guid": "a984966f-8ce1-4209-967b-771003c3422b"
            },
            "outputs": [],
            "execution_count": null
        }
    ]
}