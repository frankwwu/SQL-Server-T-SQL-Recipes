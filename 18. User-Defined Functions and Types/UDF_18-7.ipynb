{
    "metadata": {
        "kernelspec": {
            "name": "SQL",
            "display_name": "SQL",
            "language": "sql"
        },
        "language_info": {
            "name": "sql",
            "version": ""
        }
    },
    "nbformat_minor": 2,
    "nbformat": 4,
    "cells": [
        {
            "cell_type": "code",
            "source": [
                "/* 18-7 */\r\n",
                "Use AdventureWorks2014;\r\n",
                "GO\r\n",
                "CREATE TABLE dbo.DimProductSalesperson\r\n",
                "(DimProductSalespersonID int IDENTITY(1,1) NOT NULL PRIMARY KEY,\r\n",
                "ProductCD char(10) NOT NULL,\r\n",
                "CompanyNBR int NOT NULL,\r\n",
                "SalespersonNBR int NOT NULL );\r\n",
                "GO"
            ],
            "metadata": {
                "azdata_cell_guid": "2ba3d378-9e6d-40d2-aa65-7317214e22db"
            },
            "outputs": [
                {
                    "output_type": "display_data",
                    "data": {
                        "text/html": "Commands completed successfully."
                    },
                    "metadata": {}
                },
                {
                    "output_type": "display_data",
                    "data": {
                        "text/html": "Commands completed successfully."
                    },
                    "metadata": {}
                },
                {
                    "output_type": "display_data",
                    "data": {
                        "text/html": "Total execution time: 00:00:00.011"
                    },
                    "metadata": {}
                }
            ],
            "execution_count": 1
        },
        {
            "cell_type": "code",
            "source": [
                "/* Create staging table */\r\n",
                "\r\n",
                "Use AdventureWorks2014;\r\n",
                "GO\r\n",
                "CREATE TABLE dbo.Staging_PRODSLSP ( ProductCD char(10) NOT NULL,\r\n",
                "CompanyNBR int NOT NULL,\r\n",
                "SalespersonNBR int NOT NULL );\r\n",
                "GO"
            ],
            "metadata": {
                "azdata_cell_guid": "d4410495-df4e-47d2-8750-96bbff00ac22"
            },
            "outputs": [
                {
                    "output_type": "display_data",
                    "data": {
                        "text/html": "Commands completed successfully."
                    },
                    "metadata": {}
                },
                {
                    "output_type": "display_data",
                    "data": {
                        "text/html": "Commands completed successfully."
                    },
                    "metadata": {}
                },
                {
                    "output_type": "display_data",
                    "data": {
                        "text/html": "Total execution time: 00:00:00.011"
                    },
                    "metadata": {}
                }
            ],
            "execution_count": 2
        },
        {
            "cell_type": "code",
            "source": [
                "/* Next, I’ll insert two rows into the staging table. */\r\n",
                "Use AdventureWorks2014;\r\n",
                "GO\r\n",
                "INSERT dbo.Staging_PRODSLSP (ProductCD, CompanyNBR, SalespersonNBR) \r\n",
                "      VALUES ('2391A23904', 1, 24);\r\n",
                "INSERT dbo.Staging_PRODSLSP (ProductCD, CompanyNBR, SalespersonNBR) \r\n",
                "      VALUES ('X129483203', 1, 34);\r\n",
                "GO"
            ],
            "metadata": {
                "azdata_cell_guid": "34ffc9de-5981-4c36-8307-9edfa0f58337"
            },
            "outputs": [
                {
                    "output_type": "display_data",
                    "data": {
                        "text/html": "Commands completed successfully."
                    },
                    "metadata": {}
                },
                {
                    "output_type": "display_data",
                    "data": {
                        "text/html": "(1 row affected)"
                    },
                    "metadata": {}
                },
                {
                    "output_type": "display_data",
                    "data": {
                        "text/html": "(1 row affected)"
                    },
                    "metadata": {}
                },
                {
                    "output_type": "display_data",
                    "data": {
                        "text/html": "Total execution time: 00:00:00.009"
                    },
                    "metadata": {}
                }
            ],
            "execution_count": 3
        },
        {
            "cell_type": "code",
            "source": [
                "/* insert into prod table */\r\n",
                "Use AdventureWorks2014;\r\n",
                "GO\r\n",
                "INSERT Into dbo.DimProductSalesperson (ProductCD, CompanyNBR, SalespersonNBR) \r\n",
                "      SELECT s.ProductCD, s.CompanyNBR, s.SalespersonNBR \r\n",
                "            FROM dbo.Staging_PRODSLSP s \r\n",
                "            LEFT OUTER JOIN dbo.DimProductSalesperson d \r\n",
                "                  ON s.ProductCD = d.ProductCD \r\n",
                "                  AND s.CompanyNBR = d.CompanyNBR \r\n",
                "                  AND s.SalespersonNBR = d.SalespersonNBR \r\n",
                "      WHERE d.DimProductSalespersonID IS NULL;\r\n",
                "GO"
            ],
            "metadata": {
                "azdata_cell_guid": "eb42338c-b7b9-495d-87eb-5d6757f40c60"
            },
            "outputs": [
                {
                    "output_type": "display_data",
                    "data": {
                        "text/html": "Commands completed successfully."
                    },
                    "metadata": {}
                },
                {
                    "output_type": "display_data",
                    "data": {
                        "text/html": "(2 rows affected)"
                    },
                    "metadata": {}
                },
                {
                    "output_type": "display_data",
                    "data": {
                        "text/html": "Total execution time: 00:00:00.039"
                    },
                    "metadata": {}
                }
            ],
            "execution_count": 4
        },
        {
            "cell_type": "code",
            "source": [
                "/* now create a udf */\r\n",
                "Use AdventureWorks2014;\r\n",
                "GO\r\n",
                "CREATE FUNCTION dbo.udf_GET_Check_NK_DimProductSalesperson (@ProductCD char(10), @CompanyNBR int, @SalespersonNBR int ) \r\n",
                "RETURNS bit \r\n",
                "AS \r\n",
                "BEGIN\r\n",
                "DECLARE @Exists bit\r\n",
                "IF EXISTS (SELECT DimProductSalespersonID \r\n",
                "            FROM dbo.DimProductSalesperson \r\n",
                "            WHERE @ProductCD = @ProductCD \r\n",
                "            AND @CompanyNBR = @CompanyNBR \r\n",
                "            AND @SalespersonNBR = @SalespersonNBR) \r\n",
                "BEGIN\r\n",
                "      SET @Exists = 1;\r\n",
                "END \r\n",
                "ELSE \r\n",
                "BEGIN\r\n",
                "      SET @Exists = 0;\r\n",
                "END\r\n",
                "RETURN @Exists \r\n",
                "END\r\n",
                "GO"
            ],
            "metadata": {
                "azdata_cell_guid": "7ea57245-79ee-4a71-83fa-d498637130fa"
            },
            "outputs": [
                {
                    "output_type": "display_data",
                    "data": {
                        "text/html": "Commands completed successfully."
                    },
                    "metadata": {}
                },
                {
                    "output_type": "display_data",
                    "data": {
                        "text/html": "Commands completed successfully."
                    },
                    "metadata": {}
                },
                {
                    "output_type": "display_data",
                    "data": {
                        "text/html": "Total execution time: 00:00:00.008"
                    },
                    "metadata": {}
                }
            ],
            "execution_count": 5
        },
        {
            "cell_type": "code",
            "source": [
                "/* rewritten insert statement */\r\n",
                "Use AdventureWorks2014;\r\n",
                "GO\r\n",
                "INSERT INTO dbo.DimProductSalesperson(ProductCD, CompanyNBR, SalespersonNBR)\r\n",
                "      SELECT ProductCD, CompanyNBR, SalespersonNBR\r\n",
                "      FROM dbo.Staging_PRODSLSP\r\n",
                "      WHERE dbo.udf_GET_Check_NK_DimProductSalesperson\r\n",
                "       (ProductCD, CompanyNBR, SalespersonNBR) = 0;\r\n",
                "GO"
            ],
            "metadata": {
                "azdata_cell_guid": "41681c0f-8f08-4401-bce0-8e1f92075b8d"
            },
            "outputs": [
                {
                    "output_type": "display_data",
                    "data": {
                        "text/html": "Commands completed successfully."
                    },
                    "metadata": {}
                },
                {
                    "output_type": "display_data",
                    "data": {
                        "text/html": "(0 rows affected)"
                    },
                    "metadata": {}
                },
                {
                    "output_type": "display_data",
                    "data": {
                        "text/html": "Total execution time: 00:00:00.023"
                    },
                    "metadata": {}
                }
            ],
            "execution_count": 6
        }
    ]
}