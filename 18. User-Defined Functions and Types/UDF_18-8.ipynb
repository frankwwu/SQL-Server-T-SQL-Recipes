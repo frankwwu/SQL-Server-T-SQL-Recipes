{
    "metadata": {
        "kernelspec": {
            "name": "SQL",
            "display_name": "SQL",
            "language": "sql"
        },
        "language_info": {
            "name": "sql",
            "version": ""
        }
    },
    "nbformat_minor": 2,
    "nbformat": 4,
    "cells": [
        {
            "cell_type": "code",
            "source": [
                "/* 18-8 */\r\n",
                "Use AdventureWorks2014;\r\n",
                "GO\r\n",
                "CREATE FUNCTION dbo.udf_SEL_SalesQuota ( @BusinessEntityID int, @ShowHistory bit ) \r\n",
                "RETURNS @SalesQuota TABLE (BusinessEntityID int, QuotaDate datetime, SalesQuota money)\r\n",
                "\r\n",
                "AS \r\n",
                "BEGIN\r\n",
                "INSERT Into @SalesQuota(BusinessEntityID, QuotaDate, SalesQuota)\r\n",
                "      SELECT BusinessEntityID, ModifiedDate, SalesQuota\r\n",
                "      FROM Sales.SalesPerson\r\n",
                "      WHERE BusinessEntityID = @BusinessEntityID;\r\n",
                "IF @ShowHistory = 1 \r\n",
                "BEGIN\r\n",
                "INSERT Into @SalesQuota(BusinessEntityID, QuotaDate, SalesQuota)\r\n",
                "      SELECT BusinessEntityID, QuotaDate, SalesQuota\r\n",
                "      FROM Sales.SalesPersonQuotaHistory\r\n",
                "      WHERE BusinessEntityID = @BusinessEntityID;\r\n",
                "END\r\n",
                "RETURN \r\n",
                "END\r\n",
                "GO"
            ],
            "metadata": {
                "azdata_cell_guid": "9449589a-bf58-4400-b297-e35f79a8dc92"
            },
            "outputs": [
                {
                    "output_type": "display_data",
                    "data": {
                        "text/html": "Commands completed successfully."
                    },
                    "metadata": {}
                },
                {
                    "output_type": "display_data",
                    "data": {
                        "text/html": "Commands completed successfully."
                    },
                    "metadata": {}
                },
                {
                    "output_type": "display_data",
                    "data": {
                        "text/html": "Total execution time: 00:00:00.015"
                    },
                    "metadata": {}
                }
            ],
            "execution_count": 1
        },
        {
            "cell_type": "code",
            "source": [
                "/* Test the UDF */\r\n",
                "\r\n",
                "Use AdventureWorks2014;\r\n",
                "GO\r\n",
                "\r\n",
                "SELECT BusinessEntityID, QuotaDate, SalesQuota \r\n",
                "      FROM dbo.udf_SEL_SalesQuota (275,0);\r\n",
                "\r\n",
                "\r\n",
                "Use AdventureWorks2014;\r\n",
                "GO\r\n",
                "\r\n",
                "SELECT BusinessEntityID, QuotaDate, SalesQuota \r\n",
                "      FROM dbo.udf_SEL_SalesQuota (275,1);"
            ],
            "metadata": {
                "azdata_cell_guid": "c382e964-6042-4015-909b-34932070b72d"
            },
            "outputs": [
                {
                    "output_type": "display_data",
                    "data": {
                        "text/html": "Commands completed successfully."
                    },
                    "metadata": {}
                },
                {
                    "output_type": "display_data",
                    "data": {
                        "text/html": "(1 row affected)"
                    },
                    "metadata": {}
                },
                {
                    "output_type": "execute_result",
                    "metadata": {},
                    "execution_count": 2,
                    "data": {
                        "application/vnd.dataresource+json": {
                            "schema": {
                                "fields": [
                                    {
                                        "name": "BusinessEntityID"
                                    },
                                    {
                                        "name": "QuotaDate"
                                    },
                                    {
                                        "name": "SalesQuota"
                                    }
                                ]
                            },
                            "data": [
                                {
                                    "0": "275",
                                    "1": "2011-05-24 00:00:00.000",
                                    "2": "300000.0000"
                                }
                            ]
                        },
                        "text/html": [
                            "<table>",
                            "<tr><th>BusinessEntityID</th><th>QuotaDate</th><th>SalesQuota</th></tr>",
                            "<tr><td>275</td><td>2011-05-24 00:00:00.000</td><td>300000.0000</td></tr>",
                            "</table>"
                        ]
                    }
                },
                {
                    "output_type": "display_data",
                    "data": {
                        "text/html": "(13 rows affected)"
                    },
                    "metadata": {}
                },
                {
                    "output_type": "display_data",
                    "data": {
                        "text/html": "Total execution time: 00:00:01.027"
                    },
                    "metadata": {}
                },
                {
                    "output_type": "execute_result",
                    "metadata": {},
                    "execution_count": 2,
                    "data": {
                        "application/vnd.dataresource+json": {
                            "schema": {
                                "fields": [
                                    {
                                        "name": "BusinessEntityID"
                                    },
                                    {
                                        "name": "QuotaDate"
                                    },
                                    {
                                        "name": "SalesQuota"
                                    }
                                ]
                            },
                            "data": [
                                {
                                    "0": "275",
                                    "1": "2011-05-24 00:00:00.000",
                                    "2": "300000.0000"
                                },
                                {
                                    "0": "275",
                                    "1": "2011-05-31 00:00:00.000",
                                    "2": "367000.0000"
                                },
                                {
                                    "0": "275",
                                    "1": "2011-08-31 00:00:00.000",
                                    "2": "556000.0000"
                                },
                                {
                                    "0": "275",
                                    "1": "2011-12-01 00:00:00.000",
                                    "2": "502000.0000"
                                },
                                {
                                    "0": "275",
                                    "1": "2012-02-29 00:00:00.000",
                                    "2": "550000.0000"
                                },
                                {
                                    "0": "275",
                                    "1": "2012-05-30 00:00:00.000",
                                    "2": "1429000.0000"
                                },
                                {
                                    "0": "275",
                                    "1": "2012-08-30 00:00:00.000",
                                    "2": "1324000.0000"
                                },
                                {
                                    "0": "275",
                                    "1": "2012-11-30 00:00:00.000",
                                    "2": "729000.0000"
                                },
                                {
                                    "0": "275",
                                    "1": "2013-02-28 00:00:00.000",
                                    "2": "1194000.0000"
                                },
                                {
                                    "0": "275",
                                    "1": "2013-05-30 00:00:00.000",
                                    "2": "1575000.0000"
                                },
                                {
                                    "0": "275",
                                    "1": "2013-08-30 00:00:00.000",
                                    "2": "1218000.0000"
                                },
                                {
                                    "0": "275",
                                    "1": "2013-11-30 00:00:00.000",
                                    "2": "849000.0000"
                                },
                                {
                                    "0": "275",
                                    "1": "2014-03-01 00:00:00.000",
                                    "2": "869000.0000"
                                }
                            ]
                        },
                        "text/html": [
                            "<table>",
                            "<tr><th>BusinessEntityID</th><th>QuotaDate</th><th>SalesQuota</th></tr>",
                            "<tr><td>275</td><td>2011-05-24 00:00:00.000</td><td>300000.0000</td></tr>",
                            "<tr><td>275</td><td>2011-05-31 00:00:00.000</td><td>367000.0000</td></tr>",
                            "<tr><td>275</td><td>2011-08-31 00:00:00.000</td><td>556000.0000</td></tr>",
                            "<tr><td>275</td><td>2011-12-01 00:00:00.000</td><td>502000.0000</td></tr>",
                            "<tr><td>275</td><td>2012-02-29 00:00:00.000</td><td>550000.0000</td></tr>",
                            "<tr><td>275</td><td>2012-05-30 00:00:00.000</td><td>1429000.0000</td></tr>",
                            "<tr><td>275</td><td>2012-08-30 00:00:00.000</td><td>1324000.0000</td></tr>",
                            "<tr><td>275</td><td>2012-11-30 00:00:00.000</td><td>729000.0000</td></tr>",
                            "<tr><td>275</td><td>2013-02-28 00:00:00.000</td><td>1194000.0000</td></tr>",
                            "<tr><td>275</td><td>2013-05-30 00:00:00.000</td><td>1575000.0000</td></tr>",
                            "<tr><td>275</td><td>2013-08-30 00:00:00.000</td><td>1218000.0000</td></tr>",
                            "<tr><td>275</td><td>2013-11-30 00:00:00.000</td><td>849000.0000</td></tr>",
                            "<tr><td>275</td><td>2014-03-01 00:00:00.000</td><td>869000.0000</td></tr>",
                            "</table>"
                        ]
                    }
                }
            ],
            "execution_count": 2
        }
    ]
}