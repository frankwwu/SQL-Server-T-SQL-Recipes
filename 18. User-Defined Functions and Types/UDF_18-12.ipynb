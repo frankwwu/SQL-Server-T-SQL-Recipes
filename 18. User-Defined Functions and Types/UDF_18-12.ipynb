{
    "metadata": {
        "kernelspec": {
            "name": "SQL",
            "display_name": "SQL",
            "language": "sql"
        },
        "language_info": {
            "name": "sql",
            "version": ""
        }
    },
    "nbformat_minor": 2,
    "nbformat": 4,
    "cells": [
        {
            "cell_type": "code",
            "source": [
                "/* 18-12 */\r\n",
                "Use AdventureWorks2014;\r\n",
                "GO\r\n",
                "CREATE TYPE Department_TT AS TABLE (Name nvarchar(50), GroupName nvarchar(50));\r\n",
                "GO\r\n",
                "/* Once the new table type is created in the database, I \r\n",
                "can now reference it in module definitions and within the code.\r\n",
                "*/"
            ],
            "metadata": {
                "azdata_cell_guid": "4e485880-d5d7-44a1-aafe-87ecfde89f87"
            },
            "outputs": [
                {
                    "output_type": "display_data",
                    "data": {
                        "text/html": "Commands completed successfully."
                    },
                    "metadata": {}
                },
                {
                    "output_type": "display_data",
                    "data": {
                        "text/html": "Commands completed successfully."
                    },
                    "metadata": {}
                },
                {
                    "output_type": "display_data",
                    "data": {
                        "text/html": "Commands completed successfully."
                    },
                    "metadata": {}
                },
                {
                    "output_type": "display_data",
                    "data": {
                        "text/html": "Total execution time: 00:00:00.012"
                    },
                    "metadata": {}
                }
            ],
            "execution_count": 1
        },
        {
            "cell_type": "code",
            "source": [
                "Use AdventureWorks2014;\r\n",
                "GO\r\n",
                "CREATE PROCEDURE dbo.usp_INS_Department_NewStyle\r\n",
                "      @DepartmentTable as Department_TT \r\n",
                "READONLY \r\n",
                "AS\r\n",
                "\r\n",
                "INSERT INTO HumanResources.Department (Name, GroupName)\r\n",
                "      SELECT Name, GroupName \r\n",
                "            FROM @DepartmentTable;\r\n",
                "GO"
            ],
            "metadata": {
                "azdata_cell_guid": "33a702c5-a5bd-4749-bf5a-7efccaa0d63f"
            },
            "outputs": [
                {
                    "output_type": "display_data",
                    "data": {
                        "text/html": "Commands completed successfully."
                    },
                    "metadata": {}
                },
                {
                    "output_type": "display_data",
                    "data": {
                        "text/html": "Commands completed successfully."
                    },
                    "metadata": {}
                },
                {
                    "output_type": "display_data",
                    "data": {
                        "text/html": "Total execution time: 00:00:00.013"
                    },
                    "metadata": {}
                }
            ],
            "execution_count": 2
        },
        {
            "cell_type": "code",
            "source": [
                "/* Testing the TVP */\r\n",
                "Use AdventureWorks2014;\r\n",
                "GO\r\n",
                "/*\r\n",
                "-- I can declare our new type for use within a T-SQL batch \r\n",
                "-- Insert multiple rows into this table-type variable\r\n",
                "*/\r\n",
                "\r\n",
                "DECLARE @StagingDepartmentTable as Department_TT\r\n",
                "INSERT INTO @StagingDepartmentTable(Name, GroupName)\r\n",
                "      VALUES ('Archivists', 'Accounting');\r\n",
                "INSERT INTO @StagingDepartmentTable(Name, GroupName)\r\n",
                "      VALUES ('Public Media', 'Legal');\r\n",
                "INSERT @StagingDepartmentTable(Name, GroupName)\r\n",
                "      VALUES ('Internal Admin', 'Office Administration');\r\n",
                "/*\r\n",
                "-- Pass this table-type variable to the procedure in a single call\r\n",
                "*/\r\n",
                "EXECUTE dbo.usp_INS_Department_NewStyle @StagingDepartmentTable;\r\n",
                "GO"
            ],
            "metadata": {
                "azdata_cell_guid": "dd0a8b2a-0207-41cd-98c2-1254543b801d"
            },
            "outputs": [
                {
                    "output_type": "display_data",
                    "data": {
                        "text/html": "Commands completed successfully."
                    },
                    "metadata": {}
                },
                {
                    "output_type": "display_data",
                    "data": {
                        "text/html": "(1 row affected)"
                    },
                    "metadata": {}
                },
                {
                    "output_type": "display_data",
                    "data": {
                        "text/html": "(1 row affected)"
                    },
                    "metadata": {}
                },
                {
                    "output_type": "display_data",
                    "data": {
                        "text/html": "(1 row affected)"
                    },
                    "metadata": {}
                },
                {
                    "output_type": "display_data",
                    "data": {
                        "text/html": "(3 rows affected)"
                    },
                    "metadata": {}
                },
                {
                    "output_type": "display_data",
                    "data": {
                        "text/html": "Total execution time: 00:00:00.023"
                    },
                    "metadata": {}
                }
            ],
            "execution_count": 3
        }
    ]
}