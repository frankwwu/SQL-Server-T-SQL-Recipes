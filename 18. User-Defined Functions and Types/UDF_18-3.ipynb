{
    "metadata": {
        "kernelspec": {
            "name": "SQL",
            "display_name": "SQL",
            "language": "sql"
        },
        "language_info": {
            "name": "sql",
            "version": ""
        }
    },
    "nbformat_minor": 2,
    "nbformat": 4,
    "cells": [
        {
            "cell_type": "code",
            "source": [
                "/* 18-3 */\r\n",
                "-- Creates a UDF that returns a string array as a table result set \r\n",
                "Use AdventureWorks2014;\r\n",
                "GO\r\n",
                "CREATE FUNCTION dbo.udf_ParseArray\r\n",
                "( @StringArray varchar(max), @Delimiter char(1) ) RETURNS @StringArrayTable TABLE (Val varchar(50)) \r\n",
                "AS \r\n",
                "BEGIN\r\n",
                "DECLARE @Delimiter_position int\r\n",
                "IF RIGHT(@StringArray,1) != @Delimiter\r\n",
                "      SET @StringArray = @StringArray + @Delimiter\r\n",
                "WHILE CHARINDEX(@Delimiter, @StringArray) <> 0 \r\n",
                "BEGIN \r\n",
                "SELECT @Delimiter_position = CHARINDEX(@Delimiter, @StringArray)\r\n",
                "INSERT INTO @StringArrayTable (Val)\r\n",
                "      VALUES (LEFT(@StringArray, @Delimiter_position - 1));\r\n",
                "\r\n",
                "SELECT @StringArray = STUFF(@StringArray, 1, @Delimiter_position, '') ;\r\n",
                "END\r\n",
                "\r\n",
                "RETURN \r\n",
                "END\r\n",
                "GO"
            ],
            "metadata": {
                "azdata_cell_guid": "98b06c36-6139-4a25-b371-38f8defe4525"
            },
            "outputs": [
                {
                    "output_type": "display_data",
                    "data": {
                        "text/html": "Commands completed successfully."
                    },
                    "metadata": {}
                },
                {
                    "output_type": "display_data",
                    "data": {
                        "text/html": "Commands completed successfully."
                    },
                    "metadata": {}
                },
                {
                    "output_type": "display_data",
                    "data": {
                        "text/html": "Total execution time: 00:00:00.047"
                    },
                    "metadata": {}
                }
            ],
            "execution_count": 1
        },
        {
            "cell_type": "code",
            "source": [
                "/* Test the function */\r\n",
                "SELECT Val\r\n",
                "FROM dbo.udf_ParseArray('A,B,C,D,E,F,G', ',');\r\n",
                "GO"
            ],
            "metadata": {
                "azdata_cell_guid": "cff20a0d-bf01-427b-aebe-0ad2fe6e32c0"
            },
            "outputs": [
                {
                    "output_type": "display_data",
                    "data": {
                        "text/html": "(7 rows affected)"
                    },
                    "metadata": {}
                },
                {
                    "output_type": "display_data",
                    "data": {
                        "text/html": "Total execution time: 00:00:01.076"
                    },
                    "metadata": {}
                },
                {
                    "output_type": "execute_result",
                    "metadata": {},
                    "execution_count": 2,
                    "data": {
                        "application/vnd.dataresource+json": {
                            "schema": {
                                "fields": [
                                    {
                                        "name": "Val"
                                    }
                                ]
                            },
                            "data": [
                                {
                                    "0": "A"
                                },
                                {
                                    "0": "B"
                                },
                                {
                                    "0": "C"
                                },
                                {
                                    "0": "D"
                                },
                                {
                                    "0": "E"
                                },
                                {
                                    "0": "F"
                                },
                                {
                                    "0": "G"
                                }
                            ]
                        },
                        "text/html": [
                            "<table>",
                            "<tr><th>Val</th></tr>",
                            "<tr><td>A</td></tr>",
                            "<tr><td>B</td></tr>",
                            "<tr><td>C</td></tr>",
                            "<tr><td>D</td></tr>",
                            "<tr><td>E</td></tr>",
                            "<tr><td>F</td></tr>",
                            "<tr><td>G</td></tr>",
                            "</table>"
                        ]
                    }
                }
            ],
            "execution_count": 2
        }
    ]
}