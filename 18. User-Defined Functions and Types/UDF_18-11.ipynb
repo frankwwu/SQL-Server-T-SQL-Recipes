{
    "metadata": {
        "kernelspec": {
            "name": "SQL",
            "display_name": "SQL",
            "language": "sql"
        },
        "language_info": {
            "name": "sql",
            "version": ""
        }
    },
    "nbformat_minor": 2,
    "nbformat": 4,
    "cells": [
        {
            "cell_type": "code",
            "source": [
                "/* 18-11 */\r\n",
                "Use AdventureWorks2014;\r\n",
                "GO\r\n",
                "SELECT Table_Name = OBJECT_NAME(c.object_id) , Column_name = c.name \r\n",
                "FROM sys.columns c\r\n",
                "      INNER JOIN sys.types t \r\n",
                "            ON c.user_type_id = t.user_type_id \r\n",
                "WHERE t.name = 'AccountNBR';\r\n",
                "\r\n",
                "Use AdventureWorks2014;\r\n",
                "GO"
            ],
            "metadata": {
                "azdata_cell_guid": "27537881-9120-47eb-b2d2-8a09625b254e"
            },
            "outputs": [
                {
                    "output_type": "display_data",
                    "data": {
                        "text/html": "Commands completed successfully."
                    },
                    "metadata": {}
                },
                {
                    "output_type": "display_data",
                    "data": {
                        "text/html": "(2 rows affected)"
                    },
                    "metadata": {}
                },
                {
                    "output_type": "display_data",
                    "data": {
                        "text/html": "Total execution time: 00:00:00.043"
                    },
                    "metadata": {}
                },
                {
                    "output_type": "execute_result",
                    "metadata": {},
                    "execution_count": 1,
                    "data": {
                        "application/vnd.dataresource+json": {
                            "schema": {
                                "fields": [
                                    {
                                        "name": "Table_Name"
                                    },
                                    {
                                        "name": "Column_name"
                                    }
                                ]
                            },
                            "data": [
                                {
                                    "0": "InventoryAccount",
                                    "1": "InventoryAccountNBR"
                                },
                                {
                                    "0": "CustomerAccount",
                                    "1": "CustomerAccountNBR"
                                }
                            ]
                        },
                        "text/html": [
                            "<table>",
                            "<tr><th>Table_Name</th><th>Column_name</th></tr>",
                            "<tr><td>InventoryAccount</td><td>InventoryAccountNBR</td></tr>",
                            "<tr><td>CustomerAccount</td><td>CustomerAccountNBR</td></tr>",
                            "</table>"
                        ]
                    }
                }
            ],
            "execution_count": 1
        },
        {
            "cell_type": "code",
            "source": [
                "/*\r\n",
                "-- Now see what parameters reference the AccountNBR data type \r\n",
                "*/\r\n",
                "SELECT ProcFunc_Name = OBJECT_NAME(p.object_id) , Parameter_Name = p.name  \r\n",
                "FROM sys.parameters p \r\n",
                "      INNER JOIN sys.types t \r\n",
                "            ON p.user_type_id = t.user_type_id \r\n",
                "WHERE t.name = 'AccountNBR';"
            ],
            "metadata": {
                "azdata_cell_guid": "a8e59fa0-db0c-49d2-838e-cf54b95bf680"
            },
            "outputs": [
                {
                    "output_type": "display_data",
                    "data": {
                        "text/html": "(1 row affected)"
                    },
                    "metadata": {}
                },
                {
                    "output_type": "display_data",
                    "data": {
                        "text/html": "Total execution time: 00:00:02.013"
                    },
                    "metadata": {}
                },
                {
                    "output_type": "execute_result",
                    "metadata": {},
                    "execution_count": 2,
                    "data": {
                        "application/vnd.dataresource+json": {
                            "schema": {
                                "fields": [
                                    {
                                        "name": "ProcFunc_Name"
                                    },
                                    {
                                        "name": "Parameter_Name"
                                    }
                                ]
                            },
                            "data": [
                                {
                                    "0": "usp_SEL_CustomerAccount",
                                    "1": "@CustomerAccountNBR"
                                }
                            ]
                        },
                        "text/html": [
                            "<table>",
                            "<tr><th>ProcFunc_Name</th><th>Parameter_Name</th></tr>",
                            "<tr><td>usp_SEL_CustomerAccount</td><td>@CustomerAccountNBR</td></tr>",
                            "</table>"
                        ]
                    }
                }
            ],
            "execution_count": 2
        }
    ]
}