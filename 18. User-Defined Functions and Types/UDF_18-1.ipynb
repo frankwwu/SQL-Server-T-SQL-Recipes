{
    "metadata": {
        "kernelspec": {
            "name": "SQL",
            "display_name": "SQL",
            "language": "sql"
        },
        "language_info": {
            "name": "sql",
            "version": ""
        }
    },
    "nbformat_minor": 2,
    "nbformat": 4,
    "cells": [
        {
            "cell_type": "code",
            "source": [
                "/* 18-1 */\r\n",
                "Use AdventureWorks2014;\r\n",
                "GO\r\n",
                "\r\n",
                "Create Function dbo.udf_CheckForSQLInjection (@TSQLString varchar(max))\r\n",
                "Returns bit\r\n",
                "\r\n",
                "AS\r\n",
                "\r\n",
                "BEGIN\r\n",
                "\r\n",
                "DECLARE  @IsSuspect  bit;\r\n",
                "\r\n",
                "--  UDF  assumes  string  will  be  left  padded  with  a  single  space\r\n",
                "SET  @TSQLString  =  '  '  +  @TSQLString;\r\n",
                "\r\n",
                "IF        (PATINDEX('%  xp_%'  ,  @TSQLString  )  <>  0 OR\r\n",
                "      PATINDEX('%  sp_%'  ,  @TSQLString  )  <>  0      OR\r\n",
                "      PATINDEX('%  DROP %'  ,  @TSQLString  )  <>  0   OR\r\n",
                "      PATINDEX('%  GO %'  ,  @TSQLString  )  <>  0  OR\r\n",
                "      PATINDEX('%  INSERT %'  ,  @TSQLString  )  <>  0 OR\r\n",
                "      PATINDEX('%  UPDATE %'  ,  @TSQLString  )  <>  0 OR\r\n",
                "      PATINDEX('%  DBCC %'  ,  @TSQLString  )  <>  0   OR\r\n",
                "      PATINDEX('%  SHUTDOWN %'  ,  @TSQLString  )<>  0  OR\r\n",
                "      PATINDEX('%  ALTER %'  ,  @TSQLString  )<>  0    OR\r\n",
                "      PATINDEX('%  CREATE %'  ,  @TSQLString  )  <>  0 OR\r\n",
                "      PATINDEX('%;%'  ,  @TSQLString  )<>  0  OR\r\n",
                "      PATINDEX('%  EXECUTE %'  ,  @TSQLString  )<>  0  OR\r\n",
                "      PATINDEX('%  BREAK %'  ,  @TSQLString  )<>  0    OR\r\n",
                "      PATINDEX('%  BEGIN %'  ,  @TSQLString  )<>  0    OR\r\n",
                "      PATINDEX('%  CHECKPOINT %'  ,  @TSQLString  )<>  0  OR\r\n",
                "      PATINDEX('%  BREAK %'  ,  @TSQLString  )<>  0    OR\r\n",
                "      PATINDEX('%  COMMIT %'  ,  @TSQLString  )<>  0   OR\r\n",
                "      PATINDEX('%  TRANSACTION %'  ,  @TSQLString  )<>  0  OR\r\n",
                "      PATINDEX('%  CURSOR %'  ,  @TSQLString  )<>  0   OR\r\n",
                "      PATINDEX('%  GRANT %'  ,  @TSQLString  )<>  0    OR\r\n",
                "      PATINDEX('%  DENY %'  ,  @TSQLString  )<>  0     OR\r\n",
                "      PATINDEX('%  ESCAPE %'  ,  @TSQLString  )<>  0   OR\r\n",
                "      PATINDEX('%  WHILE %'  ,  @TSQLString  )<>  0    OR\r\n",
                "      PATINDEX('%  OPENDATASOURCE %'  ,  @TSQLString  )<>  0  OR\r\n",
                "      PATINDEX('%  OPENQUERY %'  ,  @TSQLString  )<>  0  OR\r\n",
                "      PATINDEX('%  OPENROWSET %'  ,  @TSQLString  )<>  0      OR\r\n",
                "      PATINDEX('%  EXEC %'  ,  @TSQLString  )<>  0)\r\n",
                "\r\n",
                "BEGIN\r\n",
                "      SELECT  @IsSuspect  =     1;\r\n",
                "END\r\n",
                "ELSE\r\n",
                "BEGIN\r\n",
                "      SELECT  @IsSuspect  =     0;\r\n",
                "END\r\n",
                "      RETURN  (@IsSuspect);\r\n",
                "END\r\n",
                "\r\n",
                "GO\r\n",
                "\r\n",
                "/* Evaluate the Function with some different strings */\r\n",
                "\r\n",
                "Use AdventureWorks2014;\r\n",
                "GO\r\n",
                "SELECT dbo.udf_CheckForSQLInjection ('SELECT * FROM HumanResources.Department');\r\n",
                "\r\n",
                "Use AdventureWorks2014;\r\n",
                "GO\r\n",
                "SELECT dbo.udf_CheckForSQLInjection (';SHUTDOWN');\r\n",
                "\r\n",
                "Use AdventureWorks2014;\r\n",
                "GO\r\n",
                "SELECT dbo.udf_CheckForSQLInjection ('DROP HumanResources.Department');\r\n",
                "\r\n",
                "GO\r\n",
                "\r\n",
                "/* Create a UCase function */\r\n",
                "Use AdventureWorks2014;\r\n",
                "GO\r\n",
                "CREATE FUNCTION dbo.udf_ProperCase(@UnCased varchar(max))\r\n",
                "RETURNS varchar(max)\r\n",
                "AS\r\n",
                "BEGIN\r\n",
                "SET @UnCased = LOWER(@UnCased)\r\n",
                "DECLARE @C int\r\n",
                "SET @C = ASCII('a')\r\n",
                "WHILE @C <= ASCII('z') BEGIN\r\n",
                "SET @UnCased = REPLACE( @UnCased, ' ' + CHAR(@C), ' ' + CHAR(@C-32)) SET @C = @C + 1\r\n",
                "END\r\n",
                "SET @UnCased = CHAR(ASCII(LEFT(@UnCased, 1))-32) + RIGHT(@UnCased, LEN(@UnCased)-1)\r\n",
                "\r\n",
                "RETURN @UnCased END\r\n",
                "GO\r\n",
                "\r\n",
                "/* Let's test it out */\r\n",
                "SELECT dbo.udf_ProperCase(DocumentSummary)\r\n",
                "FROM Production.Document\r\n",
                "WHERE FileName = 'Installing Replacement Pedals.doc'\r\n",
                ""
            ],
            "metadata": {
                "azdata_cell_guid": "eb467880-6cf1-4623-860f-4de551b4f09e"
            },
            "outputs": [
                {
                    "output_type": "display_data",
                    "data": {
                        "text/html": "Commands completed successfully."
                    },
                    "metadata": {}
                },
                {
                    "output_type": "error",
                    "evalue": "Msg 2714, Level 16, State 3, Procedure udf_CheckForSQLInjection, Line 2\r\nThere is already an object named 'udf_CheckForSQLInjection' in the database.",
                    "ename": "",
                    "traceback": []
                },
                {
                    "output_type": "display_data",
                    "data": {
                        "text/html": "Commands completed successfully."
                    },
                    "metadata": {}
                },
                {
                    "output_type": "display_data",
                    "data": {
                        "text/html": "(1 row affected)"
                    },
                    "metadata": {}
                },
                {
                    "output_type": "display_data",
                    "data": {
                        "text/html": "(1 row affected)"
                    },
                    "metadata": {}
                },
                {
                    "output_type": "display_data",
                    "data": {
                        "text/html": "(1 row affected)"
                    },
                    "metadata": {}
                },
                {
                    "output_type": "display_data",
                    "data": {
                        "text/html": "Commands completed successfully."
                    },
                    "metadata": {}
                },
                {
                    "output_type": "error",
                    "evalue": "Msg 2714, Level 16, State 3, Procedure udf_ProperCase, Line 1\r\nThere is already an object named 'udf_ProperCase' in the database.",
                    "ename": "",
                    "traceback": []
                },
                {
                    "output_type": "display_data",
                    "data": {
                        "text/html": "(1 row affected)"
                    },
                    "metadata": {}
                },
                {
                    "output_type": "display_data",
                    "data": {
                        "text/html": "Total execution time: 00:00:00.155"
                    },
                    "metadata": {}
                },
                {
                    "output_type": "execute_result",
                    "metadata": {},
                    "execution_count": 2,
                    "data": {
                        "application/vnd.dataresource+json": {
                            "schema": {
                                "fields": [
                                    {
                                        "name": "(No column name)"
                                    }
                                ]
                            },
                            "data": [
                                {
                                    "0": "0"
                                }
                            ]
                        },
                        "text/html": [
                            "<table>",
                            "<tr><th>(No column name)</th></tr>",
                            "<tr><td>0</td></tr>",
                            "</table>"
                        ]
                    }
                },
                {
                    "output_type": "execute_result",
                    "metadata": {},
                    "execution_count": 2,
                    "data": {
                        "application/vnd.dataresource+json": {
                            "schema": {
                                "fields": [
                                    {
                                        "name": "(No column name)"
                                    }
                                ]
                            },
                            "data": [
                                {
                                    "0": "1"
                                }
                            ]
                        },
                        "text/html": [
                            "<table>",
                            "<tr><th>(No column name)</th></tr>",
                            "<tr><td>1</td></tr>",
                            "</table>"
                        ]
                    }
                },
                {
                    "output_type": "execute_result",
                    "metadata": {},
                    "execution_count": 2,
                    "data": {
                        "application/vnd.dataresource+json": {
                            "schema": {
                                "fields": [
                                    {
                                        "name": "(No column name)"
                                    }
                                ]
                            },
                            "data": [
                                {
                                    "0": "Detailed Instructions For Replacing Pedals With Adventure Works Cycles Replacement Pedals.  Instructions Are Applicable To All Adventure Works Cycles Bicycle Models And Replacement Pedals. Use Only Adventure Works Cycles Parts When Replacing Worn Or Broken Components. \r\n"
                                }
                            ]
                        },
                        "text/html": [
                            "<table>",
                            "<tr><th>(No column name)</th></tr>",
                            "<tr><td>Detailed Instructions For Replacing Pedals With Adventure Works Cycles Replacement Pedals.  Instructions Are Applicable To All Adventure Works Cycles Bicycle Models And Replacement Pedals. Use Only Adventure Works Cycles Parts When Replacing Worn Or Broken Components. \r\n</td></tr>",
                            "</table>"
                        ]
                    }
                }
            ],
            "execution_count": 2
        }
    ]
}