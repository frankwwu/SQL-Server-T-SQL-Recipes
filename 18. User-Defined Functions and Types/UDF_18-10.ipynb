{
    "metadata": {
        "kernelspec": {
            "name": "SQL",
            "display_name": "SQL",
            "language": "sql"
        },
        "language_info": {
            "name": "sql",
            "version": ""
        }
    },
    "nbformat_minor": 2,
    "nbformat": 4,
    "cells": [
        {
            "cell_type": "code",
            "source": [
                "/* 18-10 */\r\n",
                "Use AdventureWorks2014;\r\n",
                "GO\r\n",
                "/*\r\n",
                "-- In this example, we assume the company's Account number will \r\n",
                "-- be used in multiple tables, and that it will always have a fixed \r\n",
                "-- 14 character length and will never allow NULL values\r\n",
                "*/"
            ],
            "metadata": {
                "azdata_cell_guid": "e43a5112-e1da-43c2-92ee-e69ca809a150"
            },
            "outputs": [
                {
                    "output_type": "display_data",
                    "data": {
                        "text/html": "Commands completed successfully."
                    },
                    "metadata": {}
                },
                {
                    "output_type": "display_data",
                    "data": {
                        "text/html": "Commands completed successfully."
                    },
                    "metadata": {}
                },
                {
                    "output_type": "display_data",
                    "data": {
                        "text/html": "Total execution time: 00:00:00"
                    },
                    "metadata": {}
                }
            ],
            "execution_count": 1
        },
        {
            "cell_type": "code",
            "source": [
                "CREATE TYPE dbo.AccountNBR FROM char(14) NOT NULL;\r\n",
                "GO"
            ],
            "metadata": {
                "azdata_cell_guid": "9a787f7d-9997-4c38-9159-5e981705b511"
            },
            "outputs": [
                {
                    "output_type": "display_data",
                    "data": {
                        "text/html": "Commands completed successfully."
                    },
                    "metadata": {}
                },
                {
                    "output_type": "display_data",
                    "data": {
                        "text/html": "Total execution time: 00:00:00.009"
                    },
                    "metadata": {}
                }
            ],
            "execution_count": 2
        },
        {
            "cell_type": "code",
            "source": [
                "/* Use the new type in some tables */\r\n",
                "\r\n",
                "Use AdventureWorks2014;\r\n",
                "GO"
            ],
            "metadata": {
                "azdata_cell_guid": "221f3265-8f82-49df-9975-61bf03a2d8df"
            },
            "outputs": [
                {
                    "output_type": "display_data",
                    "data": {
                        "text/html": "Commands completed successfully."
                    },
                    "metadata": {}
                },
                {
                    "output_type": "display_data",
                    "data": {
                        "text/html": "Total execution time: 00:00:00.004"
                    },
                    "metadata": {}
                }
            ],
            "execution_count": 3
        },
        {
            "cell_type": "code",
            "source": [
                "-- The new data type is now used in two different tables\r\n",
                "CREATE TABLE dbo.InventoryAccount\r\n",
                "(InventoryAccountID int NOT NULL,\r\n",
                "InventoryID int NOT NULL,\r\n",
                "InventoryAccountNBR AccountNBR);\r\n",
                "GO\r\n",
                "CREATE TABLE dbo.CustomerAccount\r\n",
                "(CustomerAccountID int NOT NULL,\r\n",
                "CustomerID int NOT NULL,\r\n",
                "CustomerAccountNBR AccountNBR);\r\n",
                "GO"
            ],
            "metadata": {
                "azdata_cell_guid": "75b2e5ad-9325-4689-a042-fab64072010f"
            },
            "outputs": [
                {
                    "output_type": "display_data",
                    "data": {
                        "text/html": "Commands completed successfully."
                    },
                    "metadata": {}
                },
                {
                    "output_type": "display_data",
                    "data": {
                        "text/html": "Commands completed successfully."
                    },
                    "metadata": {}
                },
                {
                    "output_type": "display_data",
                    "data": {
                        "text/html": "Total execution time: 00:00:00.007"
                    },
                    "metadata": {}
                }
            ],
            "execution_count": 4
        },
        {
            "cell_type": "code",
            "source": [
                "/* use a UDT with a proc */\r\n",
                "Use AdventureWorks2014;\r\n",
                "GO\r\n",
                "CREATE PROCEDURE dbo.usp_SEL_CustomerAccount\r\n",
                "@CustomerAccountNBR AccountNBR \r\n",
                "\r\n",
                "AS\r\n",
                "SELECT CustomerAccountID, CustomerID, CustomerAccountNBR\r\n",
                "FROM dbo.CustomerAccount\r\n",
                "WHERE CustomerAccountNBR = CustomerAccountNBR;\r\n",
                "GO"
            ],
            "metadata": {
                "azdata_cell_guid": "6ad8ed73-1a33-424e-8ba4-7cb01abff983"
            },
            "outputs": [
                {
                    "output_type": "display_data",
                    "data": {
                        "text/html": "Commands completed successfully."
                    },
                    "metadata": {}
                },
                {
                    "output_type": "display_data",
                    "data": {
                        "text/html": "Commands completed successfully."
                    },
                    "metadata": {}
                },
                {
                    "output_type": "display_data",
                    "data": {
                        "text/html": "Total execution time: 00:00:00.007"
                    },
                    "metadata": {}
                }
            ],
            "execution_count": 5
        },
        {
            "cell_type": "code",
            "source": [
                "/* now to call that proc */\r\n",
                "Use AdventureWorks2014;\r\n",
                "GO\r\n",
                "DECLARE @CustomerAccountNBR AccountNBR \r\n",
                "SET @CustomerAccountNBR = '1294839482';\r\n",
                "EXECUTE dbo.usp_SEL_CustomerAccount @CustomerAccountNBR;\r\n",
                "GO"
            ],
            "metadata": {
                "azdata_cell_guid": "1e62eca3-e2b7-4735-a882-55f72264047a"
            },
            "outputs": [
                {
                    "output_type": "display_data",
                    "data": {
                        "text/html": "Commands completed successfully."
                    },
                    "metadata": {}
                },
                {
                    "output_type": "display_data",
                    "data": {
                        "text/html": "(0 rows affected)"
                    },
                    "metadata": {}
                },
                {
                    "output_type": "display_data",
                    "data": {
                        "text/html": "Total execution time: 00:00:00.028"
                    },
                    "metadata": {}
                },
                {
                    "output_type": "execute_result",
                    "metadata": {},
                    "execution_count": 6,
                    "data": {
                        "application/vnd.dataresource+json": {
                            "schema": {
                                "fields": [
                                    {
                                        "name": "CustomerAccountID"
                                    },
                                    {
                                        "name": "CustomerID"
                                    },
                                    {
                                        "name": "CustomerAccountNBR"
                                    }
                                ]
                            },
                            "data": []
                        },
                        "text/html": [
                            "<table>",
                            "<tr><th>CustomerAccountID</th><th>CustomerID</th><th>CustomerAccountNBR</th></tr>",
                            "</table>"
                        ]
                    }
                }
            ],
            "execution_count": 6
        },
        {
            "cell_type": "code",
            "source": [
                "/* To see the definition of the UDT */\r\n",
                "\r\n",
                "Use AdventureWorks2014;\r\n",
                "GO\r\n",
                "EXECUTE sp_help 'dbo.AccountNBR';\r\n",
                "GO"
            ],
            "metadata": {
                "azdata_cell_guid": "3a08bff0-4611-4483-964c-22661727537a"
            },
            "outputs": [
                {
                    "output_type": "display_data",
                    "data": {
                        "text/html": "Commands completed successfully."
                    },
                    "metadata": {}
                },
                {
                    "output_type": "display_data",
                    "data": {
                        "text/html": "Commands completed successfully."
                    },
                    "metadata": {}
                },
                {
                    "output_type": "display_data",
                    "data": {
                        "text/html": "Total execution time: 00:00:00.262"
                    },
                    "metadata": {}
                },
                {
                    "output_type": "execute_result",
                    "metadata": {},
                    "execution_count": 7,
                    "data": {
                        "application/vnd.dataresource+json": {
                            "schema": {
                                "fields": [
                                    {
                                        "name": "Type_name"
                                    },
                                    {
                                        "name": "Storage_type"
                                    },
                                    {
                                        "name": "Length"
                                    },
                                    {
                                        "name": "Prec"
                                    },
                                    {
                                        "name": "Scale"
                                    },
                                    {
                                        "name": "Nullable"
                                    },
                                    {
                                        "name": "Default_name"
                                    },
                                    {
                                        "name": "Rule_name"
                                    },
                                    {
                                        "name": "Collation"
                                    }
                                ]
                            },
                            "data": [
                                {
                                    "0": "AccountNBR",
                                    "1": "char",
                                    "2": "14",
                                    "3": "14",
                                    "4": "NULL",
                                    "5": "no",
                                    "6": "none",
                                    "7": "none",
                                    "8": "SQL_Latin1_General_CP1_CI_AS"
                                }
                            ]
                        },
                        "text/html": [
                            "<table>",
                            "<tr><th>Type_name</th><th>Storage_type</th><th>Length</th><th>Prec</th><th>Scale</th><th>Nullable</th><th>Default_name</th><th>Rule_name</th><th>Collation</th></tr>",
                            "<tr><td>AccountNBR</td><td>char</td><td>14</td><td>14</td><td>NULL</td><td>no</td><td>none</td><td>none</td><td>SQL_Latin1_General_CP1_CI_AS</td></tr>",
                            "</table>"
                        ]
                    }
                }
            ],
            "execution_count": 7
        }
    ]
}