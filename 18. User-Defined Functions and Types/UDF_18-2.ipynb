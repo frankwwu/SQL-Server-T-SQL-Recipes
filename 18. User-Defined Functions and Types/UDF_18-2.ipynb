{
    "metadata": {
        "kernelspec": {
            "name": "SQL",
            "display_name": "SQL",
            "language": "sql"
        },
        "language_info": {
            "name": "sql",
            "version": ""
        }
    },
    "nbformat_minor": 2,
    "nbformat": 4,
    "cells": [
        {
            "cell_type": "code",
            "source": [
                "/* 18-2 */\r\n",
                "Use AdventureWorks2014;\r\n",
                "GO\r\n",
                "CREATE FUNCTION dbo.udf_ReturnAddress\r\n",
                "(@BusinessEntityID int) \r\n",
                "RETURNS TABLE\r\n",
                "AS RETURN (\r\n",
                "SELECT t.Name AddressTypeNM, a.AddressLine1, a.City,\r\n",
                "a.StateProvinceID, a.PostalCode \r\n",
                "FROM Person.Address a \r\n",
                "INNER JOIN Person.BusinessEntityAddress e \r\n",
                "ON a.AddressID = e.AddressID \r\n",
                "INNER JOIN Person.AddressType t \r\n",
                "ON e.AddressTypeID = t.AddressTypeID \r\n",
                "WHERE e.BusinessEntityID = @BusinessEntityID )\r\n",
                ";\r\n",
                "GO"
            ],
            "metadata": {
                "azdata_cell_guid": "26f80501-5338-4cb7-b3f5-90f1dd7aa48d"
            },
            "outputs": [
                {
                    "output_type": "display_data",
                    "data": {
                        "text/html": "Commands completed successfully."
                    },
                    "metadata": {}
                },
                {
                    "output_type": "display_data",
                    "data": {
                        "text/html": "Commands completed successfully."
                    },
                    "metadata": {}
                },
                {
                    "output_type": "display_data",
                    "data": {
                        "text/html": "Total execution time: 00:00:00.020"
                    },
                    "metadata": {}
                }
            ],
            "execution_count": 1
        },
        {
            "cell_type": "code",
            "source": [
                "/* Now test it */\r\n",
                "Use AdventureWorks2014;\r\n",
                "GO\r\n",
                "SELECT AddressTypeNM, AddressLine1, City, PostalCode \r\n",
                "FROM dbo.udf_ReturnAddress(332);\r\n",
                "GO"
            ],
            "metadata": {
                "azdata_cell_guid": "cd2b5805-90f3-4e1d-8e53-fcdd18cba2c1"
            },
            "outputs": [
                {
                    "output_type": "display_data",
                    "data": {
                        "text/html": "Commands completed successfully."
                    },
                    "metadata": {}
                },
                {
                    "output_type": "display_data",
                    "data": {
                        "text/html": "(2 rows affected)"
                    },
                    "metadata": {}
                },
                {
                    "output_type": "display_data",
                    "data": {
                        "text/html": "Total execution time: 00:00:00.048"
                    },
                    "metadata": {}
                },
                {
                    "output_type": "execute_result",
                    "metadata": {},
                    "execution_count": 2,
                    "data": {
                        "application/vnd.dataresource+json": {
                            "schema": {
                                "fields": [
                                    {
                                        "name": "AddressTypeNM"
                                    },
                                    {
                                        "name": "AddressLine1"
                                    },
                                    {
                                        "name": "City"
                                    },
                                    {
                                        "name": "PostalCode"
                                    }
                                ]
                            },
                            "data": [
                                {
                                    "0": "Shipping",
                                    "1": "26910 Indela Road",
                                    "2": "Montreal",
                                    "3": "H1Y 2H5"
                                },
                                {
                                    "0": "Main Office",
                                    "1": "25981 College Street",
                                    "2": "Montreal",
                                    "3": "H1Y 2H5"
                                }
                            ]
                        },
                        "text/html": [
                            "<table>",
                            "<tr><th>AddressTypeNM</th><th>AddressLine1</th><th>City</th><th>PostalCode</th></tr>",
                            "<tr><td>Shipping</td><td>26910 Indela Road</td><td>Montreal</td><td>H1Y 2H5</td></tr>",
                            "<tr><td>Main Office</td><td>25981 College Street</td><td>Montreal</td><td>H1Y 2H5</td></tr>",
                            "</table>"
                        ]
                    }
                }
            ],
            "execution_count": 2
        }
    ]
}