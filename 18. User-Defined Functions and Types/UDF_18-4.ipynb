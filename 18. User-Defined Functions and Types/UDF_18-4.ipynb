{
    "metadata": {
        "kernelspec": {
            "name": "SQL",
            "display_name": "SQL",
            "language": "sql"
        },
        "language_info": {
            "name": "sql",
            "version": ""
        }
    },
    "nbformat_minor": 2,
    "nbformat": 4,
    "cells": [
        {
            "cell_type": "code",
            "source": [
                "/* 18-4 */\r\n",
                "Use AdventureWorks2014;\r\n",
                "GO\r\n",
                "ALTER FUNCTION dbo.udf_ParseArray ( @StringArray varchar(max),\r\n",
                "@Delimiter char(1) ,\r\n",
                "@MinRowSelect int,\r\n",
                "@MaxRowSelect int)\r\n",
                "RETURNS @StringArrayTable TABLE (RowNum int IDENTITY(1,1), Val varchar(50)) \r\n",
                "AS \r\n",
                "BEGIN\r\n",
                "\r\n",
                "DECLARE @Delimiter_position int\r\n",
                "IF RIGHT(@StringArray,1) != @Delimiter\r\n",
                "      SET @StringArray = @StringArray + @Delimiter;\r\n",
                "WHILE CHARINDEX(@Delimiter, @StringArray) <> 0 \r\n",
                "BEGIN\r\n",
                "SELECT @Delimiter_position = CHARINDEX(@Delimiter, @StringArray);\r\n",
                "\r\n",
                "INSERT INTO @StringArrayTable (Val)\r\n",
                "      VALUES (LEFT(@StringArray, @Delimiter_position - 1));\r\n",
                "\r\n",
                "SELECT @StringArray = STUFF(@StringArray, 1, @Delimiter_position, '');\r\n",
                "END\r\n",
                "DELETE @StringArrayTable \r\n",
                "      WHERE RowNum < @MinRowSelect OR RowNum > @MaxRowSelect;\r\n",
                "RETURN \r\n",
                "END\r\n",
                "GO"
            ],
            "metadata": {
                "azdata_cell_guid": "6b53a46a-7b1c-4f03-aedc-22b564cc718d"
            },
            "outputs": [
                {
                    "output_type": "display_data",
                    "data": {
                        "text/html": "Commands completed successfully."
                    },
                    "metadata": {}
                },
                {
                    "output_type": "display_data",
                    "data": {
                        "text/html": "Commands completed successfully."
                    },
                    "metadata": {}
                },
                {
                    "output_type": "display_data",
                    "data": {
                        "text/html": "Total execution time: 00:00:00.030"
                    },
                    "metadata": {}
                }
            ],
            "execution_count": 1
        },
        {
            "cell_type": "code",
            "source": [
                "/* Now use it to break apart a comma delimited array */\r\n",
                "\r\n",
                "Use AdventureWorks2014;\r\n",
                "GO\r\n",
                "SELECT RowNum,Val\r\n",
                "FROM dbo.udf_ParseArray('A,B,C,D,E,F,G', ',',3,5);\r\n",
                "GO"
            ],
            "metadata": {
                "azdata_cell_guid": "1b6455b7-7fc7-463c-a3d5-c4bdc8c5d978"
            },
            "outputs": [
                {
                    "output_type": "display_data",
                    "data": {
                        "text/html": "Commands completed successfully."
                    },
                    "metadata": {}
                },
                {
                    "output_type": "display_data",
                    "data": {
                        "text/html": "(3 rows affected)"
                    },
                    "metadata": {}
                },
                {
                    "output_type": "display_data",
                    "data": {
                        "text/html": "Total execution time: 00:00:00.072"
                    },
                    "metadata": {}
                },
                {
                    "output_type": "execute_result",
                    "metadata": {},
                    "execution_count": 2,
                    "data": {
                        "application/vnd.dataresource+json": {
                            "schema": {
                                "fields": [
                                    {
                                        "name": "RowNum"
                                    },
                                    {
                                        "name": "Val"
                                    }
                                ]
                            },
                            "data": [
                                {
                                    "0": "3",
                                    "1": "C"
                                },
                                {
                                    "0": "4",
                                    "1": "D"
                                },
                                {
                                    "0": "5",
                                    "1": "E"
                                }
                            ]
                        },
                        "text/html": [
                            "<table>",
                            "<tr><th>RowNum</th><th>Val</th></tr>",
                            "<tr><td>3</td><td>C</td></tr>",
                            "<tr><td>4</td><td>D</td></tr>",
                            "<tr><td>5</td><td>E</td></tr>",
                            "</table>"
                        ]
                    }
                }
            ],
            "execution_count": 2
        }
    ]
}