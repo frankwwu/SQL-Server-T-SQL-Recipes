{
    "metadata": {
        "kernelspec": {
            "name": "SQL",
            "display_name": "SQL",
            "language": "sql"
        },
        "language_info": {
            "name": "sql",
            "version": ""
        }
    },
    "nbformat_minor": 2,
    "nbformat": 4,
    "cells": [
        {
            "cell_type": "code",
            "source": [
                "/* 18-13 */\r\n",
                "Use AdventureWorks2014;\r\n",
                "GO\r\n",
                "ALTER TABLE dbo.InventoryAccount\r\n",
                "ALTER COLUMN InventoryAccountNBR char(14);\r\n",
                "GO\r\n",
                "ALTER TABLE dbo.CustomerAccount\r\n",
                "ALTER COLUMN CustomerAccountNBR char(14);\r\n",
                "GO"
            ],
            "metadata": {
                "azdata_cell_guid": "5d6ea780-a365-4286-a7a6-d568c52ebdd0"
            },
            "outputs": [
                {
                    "output_type": "display_data",
                    "data": {
                        "text/html": "Commands completed successfully."
                    },
                    "metadata": {}
                },
                {
                    "output_type": "display_data",
                    "data": {
                        "text/html": "Commands completed successfully."
                    },
                    "metadata": {}
                },
                {
                    "output_type": "display_data",
                    "data": {
                        "text/html": "Commands completed successfully."
                    },
                    "metadata": {}
                },
                {
                    "output_type": "display_data",
                    "data": {
                        "text/html": "Total execution time: 00:00:00.015"
                    },
                    "metadata": {}
                }
            ],
            "execution_count": 1
        },
        {
            "cell_type": "code",
            "source": [
                "ALTER PROCEDURE dbo.usp_SEL_CustomerAccount\r\n",
                "@CustomerAccountNBR char(14) \r\n",
                "\r\n",
                "AS\r\n",
                "\r\n",
                "SELECT CustomerAccountID, CustomerID, CustomerAccountNBR\r\n",
                "FROM dbo.CustomerAccount\r\n",
                "WHERE CustomerAccountNBR = @CustomerAccountNBR;\r\n",
                "GO"
            ],
            "metadata": {
                "azdata_cell_guid": "029be37a-9229-49cc-97e7-3672ad1b76a1"
            },
            "outputs": [
                {
                    "output_type": "display_data",
                    "data": {
                        "text/html": "Commands completed successfully."
                    },
                    "metadata": {}
                },
                {
                    "output_type": "display_data",
                    "data": {
                        "text/html": "Total execution time: 00:00:00.013"
                    },
                    "metadata": {}
                }
            ],
            "execution_count": 2
        },
        {
            "cell_type": "code",
            "source": [
                "/*With the referencing objects now converted, \r\n",
                "it is OK to go ahead and drop the type. */\r\n",
                "\r\n",
                "Use AdventureWorks2014;\r\n",
                "GO\r\n",
                "DROP TYPE dbo.AccountNBR;"
            ],
            "metadata": {
                "azdata_cell_guid": "765a51b0-c08a-4afb-99f3-198ec66725e5"
            },
            "outputs": [
                {
                    "output_type": "display_data",
                    "data": {
                        "text/html": "Commands completed successfully."
                    },
                    "metadata": {}
                },
                {
                    "output_type": "display_data",
                    "data": {
                        "text/html": "Commands completed successfully."
                    },
                    "metadata": {}
                },
                {
                    "output_type": "display_data",
                    "data": {
                        "text/html": "Total execution time: 00:00:00.015"
                    },
                    "metadata": {}
                }
            ],
            "execution_count": 3
        }
    ]
}