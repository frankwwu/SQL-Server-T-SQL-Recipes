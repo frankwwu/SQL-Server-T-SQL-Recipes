{
    "metadata": {
        "kernelspec": {
            "name": "SQL",
            "display_name": "SQL",
            "language": "sql"
        },
        "language_info": {
            "name": "sql",
            "version": ""
        }
    },
    "nbformat_minor": 2,
    "nbformat": 4,
    "cells": [
        {
            "cell_type": "code",
            "source": [
                "/* 18-6 */\r\n",
                "Use AdventureWorks2014;\r\n",
                "GO\r\n",
                "CREATE FUNCTION dbo.udf_GET_AssignedEquipment (@Title nvarchar(50), @HireDate datetime, @SalariedFlag bit) \r\n",
                "RETURNS nvarchar(50) \r\n",
                "AS \r\n",
                "BEGIN\r\n",
                "DECLARE @EquipmentType nvarchar(50)\r\n",
                "IF @Title LIKE 'Chief%' OR\r\n",
                "      @Title LIKE 'Vice%' OR\r\n",
                "      @Title = 'Database Administrator' \r\n",
                "BEGIN\r\n",
                "      SET @EquipmentType = 'PC Build A' ;\r\n",
                "END\r\n",
                "IF @EquipmentType IS NULL AND @SalariedFlag = 1 \r\n",
                "BEGIN\r\n",
                "      SET @EquipmentType = 'PC Build B' ;\r\n",
                "END\r\n",
                "IF @EquipmentType IS NULL AND @HireDate < '1/1/2002' \r\n",
                "BEGIN\r\n",
                "      SET @EquipmentType = 'PC Build C' ;\r\n",
                "END\r\n",
                "IF @EquipmentType IS NULL \r\n",
                "BEGIN\r\n",
                "      SET @EquipmentType = 'PC Build D' ;\r\n",
                "END\r\n",
                "RETURN @EquipmentType ;\r\n",
                "END\r\n",
                "GO"
            ],
            "metadata": {
                "azdata_cell_guid": "1b98d074-f7f4-46e1-b7e9-27c954fa03b9"
            },
            "outputs": [
                {
                    "output_type": "display_data",
                    "data": {
                        "text/html": "Commands completed successfully."
                    },
                    "metadata": {}
                },
                {
                    "output_type": "display_data",
                    "data": {
                        "text/html": "Commands completed successfully."
                    },
                    "metadata": {}
                },
                {
                    "output_type": "display_data",
                    "data": {
                        "text/html": "Total execution time: 00:00:00.008"
                    },
                    "metadata": {}
                }
            ],
            "execution_count": 1
        },
        {
            "cell_type": "code",
            "source": [
                "/* test it */\r\n",
                "Use AdventureWorks2014;\r\n",
                "GO\r\n",
                "SELECT PC_Build = dbo.udf_GET_AssignedEquipment(JobTitle, HireDate, SalariedFlag) \r\n",
                "      , Employee_Count = COUNT(*)  \r\n",
                "FROM HumanResources.Employee \r\n",
                "GROUP BY dbo.udf_GET_AssignedEquipment(JobTitle, HireDate, SalariedFlag) \r\n",
                "ORDER BY dbo.udf_GET_AssignedEquipment(JobTitle, HireDate, SalariedFlag);\r\n",
                "\r\n",
                "Use AdventureWorks2014;\r\n",
                "GO\r\n",
                "SELECT JobTitle,BusinessEntityID\r\n",
                "      ,PC_Build = dbo.udf_GET_AssignedEquipment(JobTitle, HireDate, SalariedFlag)  \r\n",
                "FROM HumanResources.Employee \r\n",
                "WHERE dbo.udf_GET_AssignedEquipment(JobTitle, HireDate, SalariedFlag) \r\n",
                "      IN ('PC Build A', 'PC Build B');"
            ],
            "metadata": {
                "azdata_cell_guid": "047a4edb-2580-4342-9134-578611e10fb7"
            },
            "outputs": [
                {
                    "output_type": "display_data",
                    "data": {
                        "text/html": "Commands completed successfully."
                    },
                    "metadata": {}
                },
                {
                    "output_type": "display_data",
                    "data": {
                        "text/html": "(3 rows affected)"
                    },
                    "metadata": {}
                },
                {
                    "output_type": "execute_result",
                    "metadata": {},
                    "execution_count": 2,
                    "data": {
                        "application/vnd.dataresource+json": {
                            "schema": {
                                "fields": [
                                    {
                                        "name": "PC_Build"
                                    },
                                    {
                                        "name": "Employee_Count"
                                    }
                                ]
                            },
                            "data": [
                                {
                                    "0": "PC Build A",
                                    "1": "7"
                                },
                                {
                                    "0": "PC Build B",
                                    "1": "45"
                                },
                                {
                                    "0": "PC Build D",
                                    "1": "238"
                                }
                            ]
                        },
                        "text/html": [
                            "<table>",
                            "<tr><th>PC_Build</th><th>Employee_Count</th></tr>",
                            "<tr><td>PC Build A</td><td>7</td></tr>",
                            "<tr><td>PC Build B</td><td>45</td></tr>",
                            "<tr><td>PC Build D</td><td>238</td></tr>",
                            "</table>"
                        ]
                    }
                },
                {
                    "output_type": "display_data",
                    "data": {
                        "text/html": "(52 rows affected)"
                    },
                    "metadata": {}
                },
                {
                    "output_type": "display_data",
                    "data": {
                        "text/html": "Total execution time: 00:00:00.081"
                    },
                    "metadata": {}
                },
                {
                    "output_type": "execute_result",
                    "metadata": {},
                    "execution_count": 2,
                    "data": {
                        "application/vnd.dataresource+json": {
                            "schema": {
                                "fields": [
                                    {
                                        "name": "JobTitle"
                                    },
                                    {
                                        "name": "BusinessEntityID"
                                    },
                                    {
                                        "name": "PC_Build"
                                    }
                                ]
                            },
                            "data": [
                                {
                                    "0": "Chief Executive Officer",
                                    "1": "1",
                                    "2": "PC Build A"
                                },
                                {
                                    "0": "Vice President of Engineering",
                                    "1": "2",
                                    "2": "PC Build A"
                                },
                                {
                                    "0": "Engineering Manager",
                                    "1": "3",
                                    "2": "PC Build B"
                                },
                                {
                                    "0": "Design Engineer",
                                    "1": "5",
                                    "2": "PC Build B"
                                },
                                {
                                    "0": "Design Engineer",
                                    "1": "6",
                                    "2": "PC Build B"
                                },
                                {
                                    "0": "Research and Development Manager",
                                    "1": "7",
                                    "2": "PC Build B"
                                },
                                {
                                    "0": "Research and Development Engineer",
                                    "1": "8",
                                    "2": "PC Build B"
                                },
                                {
                                    "0": "Research and Development Engineer",
                                    "1": "9",
                                    "2": "PC Build B"
                                },
                                {
                                    "0": "Research and Development Manager",
                                    "1": "10",
                                    "2": "PC Build B"
                                },
                                {
                                    "0": "Senior Design Engineer",
                                    "1": "14",
                                    "2": "PC Build B"
                                },
                                {
                                    "0": "Design Engineer",
                                    "1": "15",
                                    "2": "PC Build B"
                                },
                                {
                                    "0": "Marketing Manager",
                                    "1": "16",
                                    "2": "PC Build B"
                                },
                                {
                                    "0": "Vice President of Production",
                                    "1": "25",
                                    "2": "PC Build A"
                                },
                                {
                                    "0": "Production Control Manager",
                                    "1": "26",
                                    "2": "PC Build B"
                                },
                                {
                                    "0": "Shipping and Receiving Supervisor",
                                    "1": "121",
                                    "2": "PC Build B"
                                },
                                {
                                    "0": "Quality Assurance Manager",
                                    "1": "211",
                                    "2": "PC Build B"
                                },
                                {
                                    "0": "Quality Assurance Supervisor",
                                    "1": "212",
                                    "2": "PC Build B"
                                },
                                {
                                    "0": "Facilities Manager",
                                    "1": "227",
                                    "2": "PC Build B"
                                },
                                {
                                    "0": "Maintenance Supervisor",
                                    "1": "228",
                                    "2": "PC Build B"
                                },
                                {
                                    "0": "Chief Financial Officer",
                                    "1": "234",
                                    "2": "PC Build A"
                                },
                                {
                                    "0": "Human Resources Manager",
                                    "1": "235",
                                    "2": "PC Build B"
                                },
                                {
                                    "0": "Accounts Manager",
                                    "1": "241",
                                    "2": "PC Build B"
                                },
                                {
                                    "0": "Accountant",
                                    "1": "245",
                                    "2": "PC Build B"
                                },
                                {
                                    "0": "Accountant",
                                    "1": "248",
                                    "2": "PC Build B"
                                },
                                {
                                    "0": "Finance Manager",
                                    "1": "249",
                                    "2": "PC Build B"
                                },
                                {
                                    "0": "Purchasing Manager",
                                    "1": "250",
                                    "2": "PC Build B"
                                },
                                {
                                    "0": "Information Services Manager",
                                    "1": "263",
                                    "2": "PC Build B"
                                },
                                {
                                    "0": "Network Manager",
                                    "1": "264",
                                    "2": "PC Build B"
                                },
                                {
                                    "0": "Application Specialist",
                                    "1": "267",
                                    "2": "PC Build B"
                                },
                                {
                                    "0": "Application Specialist",
                                    "1": "268",
                                    "2": "PC Build B"
                                },
                                {
                                    "0": "Application Specialist",
                                    "1": "269",
                                    "2": "PC Build B"
                                },
                                {
                                    "0": "Database Administrator",
                                    "1": "270",
                                    "2": "PC Build A"
                                },
                                {
                                    "0": "Database Administrator",
                                    "1": "271",
                                    "2": "PC Build A"
                                },
                                {
                                    "0": "Application Specialist",
                                    "1": "272",
                                    "2": "PC Build B"
                                },
                                {
                                    "0": "Vice President of Sales",
                                    "1": "273",
                                    "2": "PC Build A"
                                },
                                {
                                    "0": "North American Sales Manager",
                                    "1": "274",
                                    "2": "PC Build B"
                                },
                                {
                                    "0": "Sales Representative",
                                    "1": "275",
                                    "2": "PC Build B"
                                },
                                {
                                    "0": "Sales Representative",
                                    "1": "276",
                                    "2": "PC Build B"
                                },
                                {
                                    "0": "Sales Representative",
                                    "1": "277",
                                    "2": "PC Build B"
                                },
                                {
                                    "0": "Sales Representative",
                                    "1": "278",
                                    "2": "PC Build B"
                                },
                                {
                                    "0": "Sales Representative",
                                    "1": "279",
                                    "2": "PC Build B"
                                },
                                {
                                    "0": "Sales Representative",
                                    "1": "280",
                                    "2": "PC Build B"
                                },
                                {
                                    "0": "Sales Representative",
                                    "1": "281",
                                    "2": "PC Build B"
                                },
                                {
                                    "0": "Sales Representative",
                                    "1": "282",
                                    "2": "PC Build B"
                                },
                                {
                                    "0": "Sales Representative",
                                    "1": "283",
                                    "2": "PC Build B"
                                },
                                {
                                    "0": "Sales Representative",
                                    "1": "284",
                                    "2": "PC Build B"
                                },
                                {
                                    "0": "Pacific Sales Manager",
                                    "1": "285",
                                    "2": "PC Build B"
                                },
                                {
                                    "0": "Sales Representative",
                                    "1": "286",
                                    "2": "PC Build B"
                                },
                                {
                                    "0": "European Sales Manager",
                                    "1": "287",
                                    "2": "PC Build B"
                                },
                                {
                                    "0": "Sales Representative",
                                    "1": "288",
                                    "2": "PC Build B"
                                },
                                {
                                    "0": "Sales Representative",
                                    "1": "289",
                                    "2": "PC Build B"
                                },
                                {
                                    "0": "Sales Representative",
                                    "1": "290",
                                    "2": "PC Build B"
                                }
                            ]
                        },
                        "text/html": [
                            "<table>",
                            "<tr><th>JobTitle</th><th>BusinessEntityID</th><th>PC_Build</th></tr>",
                            "<tr><td>Chief Executive Officer</td><td>1</td><td>PC Build A</td></tr>",
                            "<tr><td>Vice President of Engineering</td><td>2</td><td>PC Build A</td></tr>",
                            "<tr><td>Engineering Manager</td><td>3</td><td>PC Build B</td></tr>",
                            "<tr><td>Design Engineer</td><td>5</td><td>PC Build B</td></tr>",
                            "<tr><td>Design Engineer</td><td>6</td><td>PC Build B</td></tr>",
                            "<tr><td>Research and Development Manager</td><td>7</td><td>PC Build B</td></tr>",
                            "<tr><td>Research and Development Engineer</td><td>8</td><td>PC Build B</td></tr>",
                            "<tr><td>Research and Development Engineer</td><td>9</td><td>PC Build B</td></tr>",
                            "<tr><td>Research and Development Manager</td><td>10</td><td>PC Build B</td></tr>",
                            "<tr><td>Senior Design Engineer</td><td>14</td><td>PC Build B</td></tr>",
                            "<tr><td>Design Engineer</td><td>15</td><td>PC Build B</td></tr>",
                            "<tr><td>Marketing Manager</td><td>16</td><td>PC Build B</td></tr>",
                            "<tr><td>Vice President of Production</td><td>25</td><td>PC Build A</td></tr>",
                            "<tr><td>Production Control Manager</td><td>26</td><td>PC Build B</td></tr>",
                            "<tr><td>Shipping and Receiving Supervisor</td><td>121</td><td>PC Build B</td></tr>",
                            "<tr><td>Quality Assurance Manager</td><td>211</td><td>PC Build B</td></tr>",
                            "<tr><td>Quality Assurance Supervisor</td><td>212</td><td>PC Build B</td></tr>",
                            "<tr><td>Facilities Manager</td><td>227</td><td>PC Build B</td></tr>",
                            "<tr><td>Maintenance Supervisor</td><td>228</td><td>PC Build B</td></tr>",
                            "<tr><td>Chief Financial Officer</td><td>234</td><td>PC Build A</td></tr>",
                            "<tr><td>Human Resources Manager</td><td>235</td><td>PC Build B</td></tr>",
                            "<tr><td>Accounts Manager</td><td>241</td><td>PC Build B</td></tr>",
                            "<tr><td>Accountant</td><td>245</td><td>PC Build B</td></tr>",
                            "<tr><td>Accountant</td><td>248</td><td>PC Build B</td></tr>",
                            "<tr><td>Finance Manager</td><td>249</td><td>PC Build B</td></tr>",
                            "<tr><td>Purchasing Manager</td><td>250</td><td>PC Build B</td></tr>",
                            "<tr><td>Information Services Manager</td><td>263</td><td>PC Build B</td></tr>",
                            "<tr><td>Network Manager</td><td>264</td><td>PC Build B</td></tr>",
                            "<tr><td>Application Specialist</td><td>267</td><td>PC Build B</td></tr>",
                            "<tr><td>Application Specialist</td><td>268</td><td>PC Build B</td></tr>",
                            "<tr><td>Application Specialist</td><td>269</td><td>PC Build B</td></tr>",
                            "<tr><td>Database Administrator</td><td>270</td><td>PC Build A</td></tr>",
                            "<tr><td>Database Administrator</td><td>271</td><td>PC Build A</td></tr>",
                            "<tr><td>Application Specialist</td><td>272</td><td>PC Build B</td></tr>",
                            "<tr><td>Vice President of Sales</td><td>273</td><td>PC Build A</td></tr>",
                            "<tr><td>North American Sales Manager</td><td>274</td><td>PC Build B</td></tr>",
                            "<tr><td>Sales Representative</td><td>275</td><td>PC Build B</td></tr>",
                            "<tr><td>Sales Representative</td><td>276</td><td>PC Build B</td></tr>",
                            "<tr><td>Sales Representative</td><td>277</td><td>PC Build B</td></tr>",
                            "<tr><td>Sales Representative</td><td>278</td><td>PC Build B</td></tr>",
                            "<tr><td>Sales Representative</td><td>279</td><td>PC Build B</td></tr>",
                            "<tr><td>Sales Representative</td><td>280</td><td>PC Build B</td></tr>",
                            "<tr><td>Sales Representative</td><td>281</td><td>PC Build B</td></tr>",
                            "<tr><td>Sales Representative</td><td>282</td><td>PC Build B</td></tr>",
                            "<tr><td>Sales Representative</td><td>283</td><td>PC Build B</td></tr>",
                            "<tr><td>Sales Representative</td><td>284</td><td>PC Build B</td></tr>",
                            "<tr><td>Pacific Sales Manager</td><td>285</td><td>PC Build B</td></tr>",
                            "<tr><td>Sales Representative</td><td>286</td><td>PC Build B</td></tr>",
                            "<tr><td>European Sales Manager</td><td>287</td><td>PC Build B</td></tr>",
                            "<tr><td>Sales Representative</td><td>288</td><td>PC Build B</td></tr>",
                            "<tr><td>Sales Representative</td><td>289</td><td>PC Build B</td></tr>",
                            "<tr><td>Sales Representative</td><td>290</td><td>PC Build B</td></tr>",
                            "</table>"
                        ]
                    }
                }
            ],
            "execution_count": 2
        }
    ]
}