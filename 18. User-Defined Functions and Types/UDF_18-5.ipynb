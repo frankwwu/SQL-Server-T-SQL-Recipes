{
    "metadata": {
        "kernelspec": {
            "name": "SQL",
            "display_name": "SQL",
            "language": "sql"
        },
        "language_info": {
            "name": "sql",
            "version": ""
        }
    },
    "nbformat_minor": 2,
    "nbformat": 4,
    "cells": [
        {
            "cell_type": "code",
            "source": [
                "/* 18-5 */\r\n",
                "Use AdventureWorks2014;\r\n",
                "GO\r\n",
                "SELECT name, o.type_desc\r\n",
                "      , (Select definition as [processing-instruction(definition)]\r\n",
                "            FROM sys.sql_modules\r\n",
                "            Where object_id = s.object_id\r\n",
                "            FOR XML PATH(''), TYPE\r\n",
                "      )\r\n",
                "FROM sys.sql_modules s \r\n",
                "INNER JOIN sys.objects o\r\n",
                "      ON s.object_id = o.object_id \r\n",
                "WHERE o.type IN ('IF', -- Inline Table UDF\r\n",
                "      'TF', -- Multistatement Table UDF\r\n",
                "      'FN') -- Scalar UDF\r\n",
                ";"
            ],
            "metadata": {
                "azdata_cell_guid": "3f6bd7aa-f0f4-41d5-9a70-842b079d2c2a"
            },
            "outputs": [
                {
                    "output_type": "display_data",
                    "data": {
                        "text/html": "Commands completed successfully."
                    },
                    "metadata": {}
                },
                {
                    "output_type": "display_data",
                    "data": {
                        "text/html": "(13 rows affected)"
                    },
                    "metadata": {}
                },
                {
                    "output_type": "display_data",
                    "data": {
                        "text/html": "Total execution time: 00:00:00.068"
                    },
                    "metadata": {}
                },
                {
                    "output_type": "execute_result",
                    "metadata": {},
                    "execution_count": 1,
                    "data": {
                        "application/vnd.dataresource+json": {
                            "schema": {
                                "fields": [
                                    {
                                        "name": "name"
                                    },
                                    {
                                        "name": "type_desc"
                                    },
                                    {
                                        "name": "(No column name)"
                                    }
                                ]
                            },
                            "data": [
                                {
                                    "0": "ufnGetProductDealerPrice",
                                    "1": "SQL_SCALAR_FUNCTION",
                                    "2": "<?definition CREATE FUNCTION [dbo].[ufnGetProductDealerPrice](@ProductID [int], @OrderDate [datetime])\r\nRETURNS [money] \r\nAS \r\n-- Returns the dealer price for the product on a specific date.\r\nBEGIN\r\n    DECLARE @DealerPrice money;\r\n    DECLARE @DealerDiscount money;\r\n\r\n    SET @DealerDiscount = 0.60  -- 60% of list price\r\n\r\n    SELECT @DealerPrice = plph.[ListPrice] * @DealerDiscount \r\n    FROM [Production].[Product] p \r\n        INNER JOIN [Production].[ProductListPriceHistory] plph \r\n        ON p.[ProductID] = plph.[ProductID] \r\n            AND p.[ProductID] = @ProductID \r\n            AND @OrderDate BETWEEN plph.[StartDate] AND COALESCE(plph.[EndDate], CONVERT(datetime, '99991231', 112)); -- Make sure we get all the prices!\r\n\r\n    RETURN @DealerPrice;\r\nEND;\r\n?>"
                                },
                                {
                                    "0": "ufnGetProductListPrice",
                                    "1": "SQL_SCALAR_FUNCTION",
                                    "2": "<?definition CREATE FUNCTION [dbo].[ufnGetProductListPrice](@ProductID [int], @OrderDate [datetime])\r\nRETURNS [money] \r\nAS \r\nBEGIN\r\n    DECLARE @ListPrice money;\r\n\r\n    SELECT @ListPrice = plph.[ListPrice] \r\n    FROM [Production].[Product] p \r\n        INNER JOIN [Production].[ProductListPriceHistory] plph \r\n        ON p.[ProductID] = plph.[ProductID] \r\n            AND p.[ProductID] = @ProductID \r\n            AND @OrderDate BETWEEN plph.[StartDate] AND COALESCE(plph.[EndDate], CONVERT(datetime, '99991231', 112)); -- Make sure we get all the prices!\r\n\r\n    RETURN @ListPrice;\r\nEND;\r\n?>"
                                },
                                {
                                    "0": "ufnGetProductStandardCost",
                                    "1": "SQL_SCALAR_FUNCTION",
                                    "2": "<?definition CREATE FUNCTION [dbo].[ufnGetProductStandardCost](@ProductID [int], @OrderDate [datetime])\r\nRETURNS [money] \r\nAS \r\n-- Returns the standard cost for the product on a specific date.\r\nBEGIN\r\n    DECLARE @StandardCost money;\r\n\r\n    SELECT @StandardCost = pch.[StandardCost] \r\n    FROM [Production].[Product] p \r\n        INNER JOIN [Production].[ProductCostHistory] pch \r\n        ON p.[ProductID] = pch.[ProductID] \r\n            AND p.[ProductID] = @ProductID \r\n            AND @OrderDate BETWEEN pch.[StartDate] AND COALESCE(pch.[EndDate], CONVERT(datetime, '99991231', 112)); -- Make sure we get all the prices!\r\n\r\n    RETURN @StandardCost;\r\nEND;\r\n?>"
                                },
                                {
                                    "0": "ufnGetStock",
                                    "1": "SQL_SCALAR_FUNCTION",
                                    "2": "<?definition CREATE FUNCTION [dbo].[ufnGetStock](@ProductID [int])\r\nRETURNS [int] \r\nAS \r\n-- Returns the stock level for the product. This function is used internally only\r\nBEGIN\r\n    DECLARE @ret int;\r\n    \r\n    SELECT @ret = SUM(p.[Quantity]) \r\n    FROM [Production].[ProductInventory] p \r\n    WHERE p.[ProductID] = @ProductID \r\n        AND p.[LocationID] = '6'; -- Only look at inventory in the misc storage\r\n    \r\n    IF (@ret IS NULL) \r\n        SET @ret = 0\r\n    \r\n    RETURN @ret\r\nEND;\r\n?>"
                                },
                                {
                                    "0": "ufnGetDocumentStatusText",
                                    "1": "SQL_SCALAR_FUNCTION",
                                    "2": "<?definition CREATE FUNCTION [dbo].[ufnGetDocumentStatusText](@Status [tinyint])\r\nRETURNS [nvarchar](16) \r\nAS \r\n-- Returns the sales order status text representation for the status value.\r\nBEGIN\r\n    DECLARE @ret [nvarchar](16);\r\n\r\n    SET @ret = \r\n        CASE @Status\r\n            WHEN 1 THEN N'Pending approval'\r\n            WHEN 2 THEN N'Approved'\r\n            WHEN 3 THEN N'Obsolete'\r\n            ELSE N'** Invalid **'\r\n        END;\r\n    \r\n    RETURN @ret\r\nEND;\r\n?>"
                                },
                                {
                                    "0": "ufnGetPurchaseOrderStatusText",
                                    "1": "SQL_SCALAR_FUNCTION",
                                    "2": "<?definition CREATE FUNCTION [dbo].[ufnGetPurchaseOrderStatusText](@Status [tinyint])\r\nRETURNS [nvarchar](15) \r\nAS \r\n-- Returns the sales order status text representation for the status value.\r\nBEGIN\r\n    DECLARE @ret [nvarchar](15);\r\n\r\n    SET @ret = \r\n        CASE @Status\r\n            WHEN 1 THEN 'Pending'\r\n            WHEN 2 THEN 'Approved'\r\n            WHEN 3 THEN 'Rejected'\r\n            WHEN 4 THEN 'Complete'\r\n            ELSE '** Invalid **'\r\n        END;\r\n    \r\n    RETURN @ret\r\nEND;\r\n?>"
                                },
                                {
                                    "0": "ufnGetSalesOrderStatusText",
                                    "1": "SQL_SCALAR_FUNCTION",
                                    "2": "<?definition CREATE FUNCTION [dbo].[ufnGetSalesOrderStatusText](@Status [tinyint])\r\nRETURNS [nvarchar](15) \r\nAS \r\n-- Returns the sales order status text representation for the status value.\r\nBEGIN\r\n    DECLARE @ret [nvarchar](15);\r\n\r\n    SET @ret = \r\n        CASE @Status\r\n            WHEN 1 THEN 'In process'\r\n            WHEN 2 THEN 'Approved'\r\n            WHEN 3 THEN 'Backordered'\r\n            WHEN 4 THEN 'Rejected'\r\n            WHEN 5 THEN 'Shipped'\r\n            WHEN 6 THEN 'Cancelled'\r\n            ELSE '** Invalid **'\r\n        END;\r\n    \r\n    RETURN @ret\r\nEND;\r\n?>"
                                },
                                {
                                    "0": "ufnLeadingZeros",
                                    "1": "SQL_SCALAR_FUNCTION",
                                    "2": "<?definition CREATE FUNCTION [dbo].[ufnLeadingZeros](\r\n    @Value int\r\n) \r\nRETURNS varchar(8) \r\nWITH SCHEMABINDING \r\nAS \r\nBEGIN\r\n    DECLARE @ReturnValue varchar(8);\r\n\r\n    SET @ReturnValue = CONVERT(varchar(8), @Value);\r\n    SET @ReturnValue = REPLICATE('0', 8 - DATALENGTH(@ReturnValue)) + @ReturnValue;\r\n\r\n    RETURN (@ReturnValue);\r\nEND;\r\n?>"
                                },
                                {
                                    "0": "ufnGetAccountingStartDate",
                                    "1": "SQL_SCALAR_FUNCTION",
                                    "2": "<?definition CREATE FUNCTION [dbo].[ufnGetAccountingStartDate]()\r\nRETURNS [datetime] \r\nAS \r\nBEGIN\r\n    RETURN CONVERT(datetime, '20030701', 112);\r\nEND;\r\n?>"
                                },
                                {
                                    "0": "ufnGetAccountingEndDate",
                                    "1": "SQL_SCALAR_FUNCTION",
                                    "2": "<?definition CREATE FUNCTION [dbo].[ufnGetAccountingEndDate]()\r\nRETURNS [datetime] \r\nAS \r\nBEGIN\r\n    RETURN DATEADD(millisecond, -2, CONVERT(datetime, '20040701', 112));\r\nEND;\r\n?>"
                                },
                                {
                                    "0": "udf_ReturnAddress",
                                    "1": "SQL_INLINE_TABLE_VALUED_FUNCTION",
                                    "2": "<?definition CREATE FUNCTION dbo.udf_ReturnAddress\r\n(@BusinessEntityID int) \r\nRETURNS TABLE\r\nAS RETURN (\r\nSELECT t.Name AddressTypeNM, a.AddressLine1, a.City,\r\na.StateProvinceID, a.PostalCode \r\nFROM Person.Address a \r\nINNER JOIN Person.BusinessEntityAddress e \r\nON a.AddressID = e.AddressID \r\nINNER JOIN Person.AddressType t \r\nON e.AddressTypeID = t.AddressTypeID \r\nWHERE e.BusinessEntityID = @BusinessEntityID )\r\n;\r\n?>"
                                },
                                {
                                    "0": "udf_ParseArray",
                                    "1": "SQL_TABLE_VALUED_FUNCTION",
                                    "2": "<?definition CREATE FUNCTION dbo.udf_ParseArray ( @StringArray varchar(max),\r\n@Delimiter char(1) ,\r\n@MinRowSelect int,\r\n@MaxRowSelect int)\r\nRETURNS @StringArrayTable TABLE (RowNum int IDENTITY(1,1), Val varchar(50)) \r\nAS \r\nBEGIN\r\n\r\nDECLARE @Delimiter_position int\r\nIF RIGHT(@StringArray,1) != @Delimiter\r\n      SET @StringArray = @StringArray + @Delimiter;\r\nWHILE CHARINDEX(@Delimiter, @StringArray) <> 0 \r\nBEGIN\r\nSELECT @Delimiter_position = CHARINDEX(@Delimiter, @StringArray);\r\n\r\nINSERT INTO @StringArrayTable (Val)\r\n      VALUES (LEFT(@StringArray, @Delimiter_position - 1));\r\n\r\nSELECT @StringArray = STUFF(@StringArray, 1, @Delimiter_position, '');\r\nEND\r\nDELETE @StringArrayTable \r\n      WHERE RowNum < @MinRowSelect OR RowNum > @MaxRowSelect;\r\nRETURN \r\nEND\r\n?>"
                                },
                                {
                                    "0": "ufnGetContactInformation",
                                    "1": "SQL_TABLE_VALUED_FUNCTION",
                                    "2": "<?definition CREATE FUNCTION [dbo].[ufnGetContactInformation](@PersonID int)\r\nRETURNS @retContactInformation TABLE \r\n(\r\n    -- Columns returned by the function\r\n    [PersonID] int NOT NULL, \r\n    [FirstName] [nvarchar](50) NULL, \r\n    [LastName] [nvarchar](50) NULL, \r\n\t[JobTitle] [nvarchar](50) NULL,\r\n    [BusinessEntityType] [nvarchar](50) NULL\r\n)\r\nAS \r\n-- Returns the first name, last name, job title and business entity type for the specified contact.\r\n-- Since a contact can serve multiple roles, more than one row may be returned.\r\nBEGIN\r\n\tIF @PersonID IS NOT NULL \r\n\t\tBEGIN\r\n\t\tIF EXISTS(SELECT * FROM [HumanResources].[Employee] e \r\n\t\t\t\t\tWHERE e.[BusinessEntityID] = @PersonID) \r\n\t\t\tINSERT INTO @retContactInformation\r\n\t\t\t\tSELECT @PersonID, p.FirstName, p.LastName, e.[JobTitle], 'Employee'\r\n\t\t\t\tFROM [HumanResources].[Employee] AS e\r\n\t\t\t\t\tINNER JOIN [Person].[Person] p\r\n\t\t\t\t\tON p.[BusinessEntityID] = e.[BusinessEntityID]\r\n\t\t\t\tWHERE e.[BusinessEntityID] = @PersonID;\r\n\r\n\t\tIF EXISTS(SELECT * FROM [Purchasing].[Vendor] AS v\r\n\t\t\t\t\tINNER JOIN [Person].[BusinessEntityContact] bec \r\n\t\t\t\t\tON bec.[BusinessEntityID] = v.[BusinessEntityID]\r\n\t\t\t\t\tWHERE bec.[PersonID] = @PersonID)\r\n\t\t\tINSERT INTO @retContactInformation\r\n\t\t\t\tSELECT @PersonID, p.FirstName, p.LastName, ct.[Name], 'Vendor Contact' \r\n\t\t\t\tFROM [Purchasing].[Vendor] AS v\r\n\t\t\t\t\tINNER JOIN [Person].[BusinessEntityContact] bec \r\n\t\t\t\t\tON bec.[BusinessEntityID] = v.[BusinessEntityID]\r\n\t\t\t\t\tINNER JOIN [Person].ContactType ct\r\n\t\t\t\t\tON ct.[ContactTypeID] = bec.[ContactTypeID]\r\n\t\t\t\t\tINNER JOIN [Person].[Person] p\r\n\t\t\t\t\tON p.[BusinessEntityID] = bec.[PersonID]\r\n\t\t\t\tWHERE bec.[PersonID] = @PersonID;\r\n\t\t\r\n\t\tIF EXISTS(SELECT * FROM [Sales].[Store] AS s\r\n\t\t\t\t\tINNER JOIN [Person].[BusinessEntityContact] bec \r\n\t\t\t\t\tON bec.[BusinessEntityID] = s.[BusinessEntityID]\r\n\t\t\t\t\tWHERE bec.[PersonID] = @PersonID)\r\n\t\t\tINSERT INTO @retContactInformation\r\n\t\t\t\tSELECT @PersonID, p.FirstName, p.LastName, ct.[Name], 'Store Contact' \r\n\t\t\t\tFROM [Sales].[Store] AS s\r\n\t\t\t\t\tINNER JOIN [Person].[BusinessEntityContact] bec \r\n\t\t\t\t\tON bec.[BusinessEntityID] = s.[BusinessEntityID]\r\n\t\t\t\t\tINNER JOIN [Person].ContactType ct\r\n\t\t\t\t\tON ct.[ContactTypeID] = bec.[ContactTypeID]\r\n\t\t\t\t\tINNER JOIN [Person].[Person] p\r\n\t\t\t\t\tON p.[BusinessEntityID] = bec.[PersonID]\r\n\t\t\t\tWHERE bec.[PersonID] = @PersonID;\r\n\r\n\t\tIF EXISTS(SELECT * FROM [Person].[Person] AS p\r\n\t\t\t\t\tINNER JOIN [Sales].[Customer] AS c\r\n\t\t\t\t\tON c.[PersonID] = p.[BusinessEntityID]\r\n\t\t\t\t\tWHERE p.[BusinessEntityID] = @PersonID AND c.[StoreID] IS NULL) \r\n\t\t\tINSERT INTO @retContactInformation\r\n\t\t\t\tSELECT @PersonID, p.FirstName, p.LastName, NULL, 'Consumer' \r\n\t\t\t\tFROM [Person].[Person] AS p\r\n\t\t\t\t\tINNER JOIN [Sales].[Customer] AS c\r\n\t\t\t\t\tON c.[PersonID] = p.[BusinessEntityID]\r\n\t\t\t\t\tWHERE p.[BusinessEntityID] = @PersonID AND c.[StoreID] IS NULL; \r\n\t\tEND\r\n\r\n\tRETURN;\r\nEND;\r\n?>"
                                }
                            ]
                        },
                        "text/html": [
                            "<table>",
                            "<tr><th>name</th><th>type_desc</th><th>(No column name)</th></tr>",
                            "<tr><td>ufnGetProductDealerPrice</td><td>SQL_SCALAR_FUNCTION</td><td>&lt;?definition CREATE FUNCTION [dbo].[ufnGetProductDealerPrice](@ProductID [int], @OrderDate [datetime])\r\nRETURNS [money] \r\nAS \r\n-- Returns the dealer price for the product on a specific date.\r\nBEGIN\r\n    DECLARE @DealerPrice money;\r\n    DECLARE @DealerDiscount money;\r\n\r\n    SET @DealerDiscount = 0.60  -- 60% of list price\r\n\r\n    SELECT @DealerPrice = plph.[ListPrice] * @DealerDiscount \r\n    FROM [Production].[Product] p \r\n        INNER JOIN [Production].[ProductListPriceHistory] plph \r\n        ON p.[ProductID] = plph.[ProductID] \r\n            AND p.[ProductID] = @ProductID \r\n            AND @OrderDate BETWEEN plph.[StartDate] AND COALESCE(plph.[EndDate], CONVERT(datetime, '99991231', 112)); -- Make sure we get all the prices!\r\n\r\n    RETURN @DealerPrice;\r\nEND;\r\n?&gt;</td></tr>",
                            "<tr><td>ufnGetProductListPrice</td><td>SQL_SCALAR_FUNCTION</td><td>&lt;?definition CREATE FUNCTION [dbo].[ufnGetProductListPrice](@ProductID [int], @OrderDate [datetime])\r\nRETURNS [money] \r\nAS \r\nBEGIN\r\n    DECLARE @ListPrice money;\r\n\r\n    SELECT @ListPrice = plph.[ListPrice] \r\n    FROM [Production].[Product] p \r\n        INNER JOIN [Production].[ProductListPriceHistory] plph \r\n        ON p.[ProductID] = plph.[ProductID] \r\n            AND p.[ProductID] = @ProductID \r\n            AND @OrderDate BETWEEN plph.[StartDate] AND COALESCE(plph.[EndDate], CONVERT(datetime, '99991231', 112)); -- Make sure we get all the prices!\r\n\r\n    RETURN @ListPrice;\r\nEND;\r\n?&gt;</td></tr>",
                            "<tr><td>ufnGetProductStandardCost</td><td>SQL_SCALAR_FUNCTION</td><td>&lt;?definition CREATE FUNCTION [dbo].[ufnGetProductStandardCost](@ProductID [int], @OrderDate [datetime])\r\nRETURNS [money] \r\nAS \r\n-- Returns the standard cost for the product on a specific date.\r\nBEGIN\r\n    DECLARE @StandardCost money;\r\n\r\n    SELECT @StandardCost = pch.[StandardCost] \r\n    FROM [Production].[Product] p \r\n        INNER JOIN [Production].[ProductCostHistory] pch \r\n        ON p.[ProductID] = pch.[ProductID] \r\n            AND p.[ProductID] = @ProductID \r\n            AND @OrderDate BETWEEN pch.[StartDate] AND COALESCE(pch.[EndDate], CONVERT(datetime, '99991231', 112)); -- Make sure we get all the prices!\r\n\r\n    RETURN @StandardCost;\r\nEND;\r\n?&gt;</td></tr>",
                            "<tr><td>ufnGetStock</td><td>SQL_SCALAR_FUNCTION</td><td>&lt;?definition CREATE FUNCTION [dbo].[ufnGetStock](@ProductID [int])\r\nRETURNS [int] \r\nAS \r\n-- Returns the stock level for the product. This function is used internally only\r\nBEGIN\r\n    DECLARE @ret int;\r\n    \r\n    SELECT @ret = SUM(p.[Quantity]) \r\n    FROM [Production].[ProductInventory] p \r\n    WHERE p.[ProductID] = @ProductID \r\n        AND p.[LocationID] = '6'; -- Only look at inventory in the misc storage\r\n    \r\n    IF (@ret IS NULL) \r\n        SET @ret = 0\r\n    \r\n    RETURN @ret\r\nEND;\r\n?&gt;</td></tr>",
                            "<tr><td>ufnGetDocumentStatusText</td><td>SQL_SCALAR_FUNCTION</td><td>&lt;?definition CREATE FUNCTION [dbo].[ufnGetDocumentStatusText](@Status [tinyint])\r\nRETURNS [nvarchar](16) \r\nAS \r\n-- Returns the sales order status text representation for the status value.\r\nBEGIN\r\n    DECLARE @ret [nvarchar](16);\r\n\r\n    SET @ret = \r\n        CASE @Status\r\n            WHEN 1 THEN N'Pending approval'\r\n            WHEN 2 THEN N'Approved'\r\n            WHEN 3 THEN N'Obsolete'\r\n            ELSE N'** Invalid **'\r\n        END;\r\n    \r\n    RETURN @ret\r\nEND;\r\n?&gt;</td></tr>",
                            "<tr><td>ufnGetPurchaseOrderStatusText</td><td>SQL_SCALAR_FUNCTION</td><td>&lt;?definition CREATE FUNCTION [dbo].[ufnGetPurchaseOrderStatusText](@Status [tinyint])\r\nRETURNS [nvarchar](15) \r\nAS \r\n-- Returns the sales order status text representation for the status value.\r\nBEGIN\r\n    DECLARE @ret [nvarchar](15);\r\n\r\n    SET @ret = \r\n        CASE @Status\r\n            WHEN 1 THEN 'Pending'\r\n            WHEN 2 THEN 'Approved'\r\n            WHEN 3 THEN 'Rejected'\r\n            WHEN 4 THEN 'Complete'\r\n            ELSE '** Invalid **'\r\n        END;\r\n    \r\n    RETURN @ret\r\nEND;\r\n?&gt;</td></tr>",
                            "<tr><td>ufnGetSalesOrderStatusText</td><td>SQL_SCALAR_FUNCTION</td><td>&lt;?definition CREATE FUNCTION [dbo].[ufnGetSalesOrderStatusText](@Status [tinyint])\r\nRETURNS [nvarchar](15) \r\nAS \r\n-- Returns the sales order status text representation for the status value.\r\nBEGIN\r\n    DECLARE @ret [nvarchar](15);\r\n\r\n    SET @ret = \r\n        CASE @Status\r\n            WHEN 1 THEN 'In process'\r\n            WHEN 2 THEN 'Approved'\r\n            WHEN 3 THEN 'Backordered'\r\n            WHEN 4 THEN 'Rejected'\r\n            WHEN 5 THEN 'Shipped'\r\n            WHEN 6 THEN 'Cancelled'\r\n            ELSE '** Invalid **'\r\n        END;\r\n    \r\n    RETURN @ret\r\nEND;\r\n?&gt;</td></tr>",
                            "<tr><td>ufnLeadingZeros</td><td>SQL_SCALAR_FUNCTION</td><td>&lt;?definition CREATE FUNCTION [dbo].[ufnLeadingZeros](\r\n    @Value int\r\n) \r\nRETURNS varchar(8) \r\nWITH SCHEMABINDING \r\nAS \r\nBEGIN\r\n    DECLARE @ReturnValue varchar(8);\r\n\r\n    SET @ReturnValue = CONVERT(varchar(8), @Value);\r\n    SET @ReturnValue = REPLICATE('0', 8 - DATALENGTH(@ReturnValue)) + @ReturnValue;\r\n\r\n    RETURN (@ReturnValue);\r\nEND;\r\n?&gt;</td></tr>",
                            "<tr><td>ufnGetAccountingStartDate</td><td>SQL_SCALAR_FUNCTION</td><td>&lt;?definition CREATE FUNCTION [dbo].[ufnGetAccountingStartDate]()\r\nRETURNS [datetime] \r\nAS \r\nBEGIN\r\n    RETURN CONVERT(datetime, '20030701', 112);\r\nEND;\r\n?&gt;</td></tr>",
                            "<tr><td>ufnGetAccountingEndDate</td><td>SQL_SCALAR_FUNCTION</td><td>&lt;?definition CREATE FUNCTION [dbo].[ufnGetAccountingEndDate]()\r\nRETURNS [datetime] \r\nAS \r\nBEGIN\r\n    RETURN DATEADD(millisecond, -2, CONVERT(datetime, '20040701', 112));\r\nEND;\r\n?&gt;</td></tr>",
                            "<tr><td>udf_ReturnAddress</td><td>SQL_INLINE_TABLE_VALUED_FUNCTION</td><td>&lt;?definition CREATE FUNCTION dbo.udf_ReturnAddress\r\n(@BusinessEntityID int) \r\nRETURNS TABLE\r\nAS RETURN (\r\nSELECT t.Name AddressTypeNM, a.AddressLine1, a.City,\r\na.StateProvinceID, a.PostalCode \r\nFROM Person.Address a \r\nINNER JOIN Person.BusinessEntityAddress e \r\nON a.AddressID = e.AddressID \r\nINNER JOIN Person.AddressType t \r\nON e.AddressTypeID = t.AddressTypeID \r\nWHERE e.BusinessEntityID = @BusinessEntityID )\r\n;\r\n?&gt;</td></tr>",
                            "<tr><td>udf_ParseArray</td><td>SQL_TABLE_VALUED_FUNCTION</td><td>&lt;?definition CREATE FUNCTION dbo.udf_ParseArray ( @StringArray varchar(max),\r\n@Delimiter char(1) ,\r\n@MinRowSelect int,\r\n@MaxRowSelect int)\r\nRETURNS @StringArrayTable TABLE (RowNum int IDENTITY(1,1), Val varchar(50)) \r\nAS \r\nBEGIN\r\n\r\nDECLARE @Delimiter_position int\r\nIF RIGHT(@StringArray,1) != @Delimiter\r\n      SET @StringArray = @StringArray + @Delimiter;\r\nWHILE CHARINDEX(@Delimiter, @StringArray) &lt;&gt; 0 \r\nBEGIN\r\nSELECT @Delimiter_position = CHARINDEX(@Delimiter, @StringArray);\r\n\r\nINSERT INTO @StringArrayTable (Val)\r\n      VALUES (LEFT(@StringArray, @Delimiter_position - 1));\r\n\r\nSELECT @StringArray = STUFF(@StringArray, 1, @Delimiter_position, '');\r\nEND\r\nDELETE @StringArrayTable \r\n      WHERE RowNum &lt; @MinRowSelect OR RowNum &gt; @MaxRowSelect;\r\nRETURN \r\nEND\r\n?&gt;</td></tr>",
                            "<tr><td>ufnGetContactInformation</td><td>SQL_TABLE_VALUED_FUNCTION</td><td>&lt;?definition CREATE FUNCTION [dbo].[ufnGetContactInformation](@PersonID int)\r\nRETURNS @retContactInformation TABLE \r\n(\r\n    -- Columns returned by the function\r\n    [PersonID] int NOT NULL, \r\n    [FirstName] [nvarchar](50) NULL, \r\n    [LastName] [nvarchar](50) NULL, \r\n\t[JobTitle] [nvarchar](50) NULL,\r\n    [BusinessEntityType] [nvarchar](50) NULL\r\n)\r\nAS \r\n-- Returns the first name, last name, job title and business entity type for the specified contact.\r\n-- Since a contact can serve multiple roles, more than one row may be returned.\r\nBEGIN\r\n\tIF @PersonID IS NOT NULL \r\n\t\tBEGIN\r\n\t\tIF EXISTS(SELECT * FROM [HumanResources].[Employee] e \r\n\t\t\t\t\tWHERE e.[BusinessEntityID] = @PersonID) \r\n\t\t\tINSERT INTO @retContactInformation\r\n\t\t\t\tSELECT @PersonID, p.FirstName, p.LastName, e.[JobTitle], 'Employee'\r\n\t\t\t\tFROM [HumanResources].[Employee] AS e\r\n\t\t\t\t\tINNER JOIN [Person].[Person] p\r\n\t\t\t\t\tON p.[BusinessEntityID] = e.[BusinessEntityID]\r\n\t\t\t\tWHERE e.[BusinessEntityID] = @PersonID;\r\n\r\n\t\tIF EXISTS(SELECT * FROM [Purchasing].[Vendor] AS v\r\n\t\t\t\t\tINNER JOIN [Person].[BusinessEntityContact] bec \r\n\t\t\t\t\tON bec.[BusinessEntityID] = v.[BusinessEntityID]\r\n\t\t\t\t\tWHERE bec.[PersonID] = @PersonID)\r\n\t\t\tINSERT INTO @retContactInformation\r\n\t\t\t\tSELECT @PersonID, p.FirstName, p.LastName, ct.[Name], 'Vendor Contact' \r\n\t\t\t\tFROM [Purchasing].[Vendor] AS v\r\n\t\t\t\t\tINNER JOIN [Person].[BusinessEntityContact] bec \r\n\t\t\t\t\tON bec.[BusinessEntityID] = v.[BusinessEntityID]\r\n\t\t\t\t\tINNER JOIN [Person].ContactType ct\r\n\t\t\t\t\tON ct.[ContactTypeID] = bec.[ContactTypeID]\r\n\t\t\t\t\tINNER JOIN [Person].[Person] p\r\n\t\t\t\t\tON p.[BusinessEntityID] = bec.[PersonID]\r\n\t\t\t\tWHERE bec.[PersonID] = @PersonID;\r\n\t\t\r\n\t\tIF EXISTS(SELECT * FROM [Sales].[Store] AS s\r\n\t\t\t\t\tINNER JOIN [Person].[BusinessEntityContact] bec \r\n\t\t\t\t\tON bec.[BusinessEntityID] = s.[BusinessEntityID]\r\n\t\t\t\t\tWHERE bec.[PersonID] = @PersonID)\r\n\t\t\tINSERT INTO @retContactInformation\r\n\t\t\t\tSELECT @PersonID, p.FirstName, p.LastName, ct.[Name], 'Store Contact' \r\n\t\t\t\tFROM [Sales].[Store] AS s\r\n\t\t\t\t\tINNER JOIN [Person].[BusinessEntityContact] bec \r\n\t\t\t\t\tON bec.[BusinessEntityID] = s.[BusinessEntityID]\r\n\t\t\t\t\tINNER JOIN [Person].ContactType ct\r\n\t\t\t\t\tON ct.[ContactTypeID] = bec.[ContactTypeID]\r\n\t\t\t\t\tINNER JOIN [Person].[Person] p\r\n\t\t\t\t\tON p.[BusinessEntityID] = bec.[PersonID]\r\n\t\t\t\tWHERE bec.[PersonID] = @PersonID;\r\n\r\n\t\tIF EXISTS(SELECT * FROM [Person].[Person] AS p\r\n\t\t\t\t\tINNER JOIN [Sales].[Customer] AS c\r\n\t\t\t\t\tON c.[PersonID] = p.[BusinessEntityID]\r\n\t\t\t\t\tWHERE p.[BusinessEntityID] = @PersonID AND c.[StoreID] IS NULL) \r\n\t\t\tINSERT INTO @retContactInformation\r\n\t\t\t\tSELECT @PersonID, p.FirstName, p.LastName, NULL, 'Consumer' \r\n\t\t\t\tFROM [Person].[Person] AS p\r\n\t\t\t\t\tINNER JOIN [Sales].[Customer] AS c\r\n\t\t\t\t\tON c.[PersonID] = p.[BusinessEntityID]\r\n\t\t\t\t\tWHERE p.[BusinessEntityID] = @PersonID AND c.[StoreID] IS NULL; \r\n\t\tEND\r\n\r\n\tRETURN;\r\nEND;\r\n?&gt;</td></tr>",
                            "</table>"
                        ]
                    }
                }
            ],
            "execution_count": 1
        }
    ]
}