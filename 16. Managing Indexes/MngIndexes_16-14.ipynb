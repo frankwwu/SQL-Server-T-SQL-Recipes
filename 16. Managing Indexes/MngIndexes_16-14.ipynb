{
    "metadata": {
        "kernelspec": {
            "name": "SQL",
            "display_name": "SQL",
            "language": "sql"
        },
        "language_info": {
            "name": "sql",
            "version": ""
        }
    },
    "nbformat_minor": 2,
    "nbformat": 4,
    "cells": [
        {
            "cell_type": "code",
            "source": [
                "/* 16-14 */\r\n",
                "\r\n",
                "USE AdventureWorks2014;\r\n",
                "GO\r\n",
                "DROP INDEX NI_TerminationReason_TerminationReason_DepartmentID\r\n",
                "ON HumanResources.TerminationReason;\r\n",
                "GO\r\n",
                "CREATE NONCLUSTERED INDEX NI_TerminationReason_TerminationReason_DepartmentID \r\n",
                "  ON HumanResources.TerminationReason (TerminationReason ASC, DepartmentID ASC) \r\n",
                "  WITH (PAD_INDEX=ON, FILLFACTOR=70);\r\n",
                "GO"
            ],
            "metadata": {
                "azdata_cell_guid": "95387989-1a11-46d7-aca8-098c3ee9c697"
            },
            "outputs": [
                {
                    "output_type": "display_data",
                    "data": {
                        "text/html": "Commands completed successfully."
                    },
                    "metadata": {}
                },
                {
                    "output_type": "display_data",
                    "data": {
                        "text/html": "Commands completed successfully."
                    },
                    "metadata": {}
                },
                {
                    "output_type": "display_data",
                    "data": {
                        "text/html": "Commands completed successfully."
                    },
                    "metadata": {}
                },
                {
                    "output_type": "display_data",
                    "data": {
                        "text/html": "Total execution time: 00:00:00.048"
                    },
                    "metadata": {}
                }
            ],
            "execution_count": 1
        }
    ]
}