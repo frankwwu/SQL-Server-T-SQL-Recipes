{
    "metadata": {
        "kernelspec": {
            "name": "SQL",
            "display_name": "SQL",
            "language": "sql"
        },
        "language_info": {
            "name": "sql",
            "version": ""
        }
    },
    "nbformat_minor": 2,
    "nbformat": 4,
    "cells": [
        {
            "cell_type": "code",
            "source": [
                "/* 16-17 */\r\n",
                "Use AdventureWorks2014;\r\n",
                "GO\r\n",
                "CREATE NONCLUSTERED INDEX NI_WebSiteHits_WebSitePage \r\n",
                "  ON Sales.WebSiteHits (WebSitePage) \r\n",
                "  ON [HitDateRangeScheme] (HitDate);"
            ],
            "metadata": {
                "azdata_cell_guid": "f0faa0e9-5c5f-4778-a1c5-b6d4acadf722"
            },
            "outputs": [
                {
                    "output_type": "display_data",
                    "data": {
                        "text/html": "Commands completed successfully."
                    },
                    "metadata": {}
                },
                {
                    "output_type": "error",
                    "evalue": "Msg 1088, Level 16, State 12, Line 4\r\nCannot find the object \"Sales.WebSiteHits\" because it does not exist or you do not have permissions.",
                    "ename": "",
                    "traceback": []
                },
                {
                    "output_type": "display_data",
                    "data": {
                        "text/html": "Total execution time: 00:00:00.004"
                    },
                    "metadata": {}
                }
            ],
            "execution_count": 1
        }
    ]
}