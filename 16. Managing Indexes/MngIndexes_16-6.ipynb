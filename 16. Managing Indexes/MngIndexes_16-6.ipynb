{
    "metadata": {
        "kernelspec": {
            "name": "SQL",
            "display_name": "SQL",
            "language": "sql"
        },
        "language_info": {
            "name": "sql",
            "version": ""
        }
    },
    "nbformat_minor": 2,
    "nbformat": 4,
    "cells": [
        {
            "cell_type": "code",
            "source": [
                "/* 16-6 */\r\n",
                "USE AdventureWorks2014;\r\n",
                "GO\r\n",
                "EXEC sp_helpindex 'HumanResources.Employee';"
            ],
            "metadata": {
                "azdata_cell_guid": "a4876ade-5819-450e-b940-7e1a7b2ac3ec",
                "tags": []
            },
            "outputs": [
                {
                    "output_type": "display_data",
                    "data": {
                        "text/html": "Commands completed successfully."
                    },
                    "metadata": {}
                },
                {
                    "output_type": "display_data",
                    "data": {
                        "text/html": "Commands completed successfully."
                    },
                    "metadata": {}
                },
                {
                    "output_type": "display_data",
                    "data": {
                        "text/html": "Total execution time: 00:00:00.746"
                    },
                    "metadata": {}
                },
                {
                    "output_type": "execute_result",
                    "metadata": {},
                    "execution_count": 1,
                    "data": {
                        "application/vnd.dataresource+json": {
                            "schema": {
                                "fields": [
                                    {
                                        "name": "index_name"
                                    },
                                    {
                                        "name": "index_description"
                                    },
                                    {
                                        "name": "index_keys"
                                    }
                                ]
                            },
                            "data": [
                                {
                                    "0": "AK_Employee_LoginID",
                                    "1": "nonclustered, unique located on PRIMARY",
                                    "2": "LoginID"
                                },
                                {
                                    "0": "AK_Employee_NationalIDNumber",
                                    "1": "nonclustered, unique located on PRIMARY",
                                    "2": "NationalIDNumber"
                                },
                                {
                                    "0": "AK_Employee_rowguid",
                                    "1": "nonclustered, unique located on PRIMARY",
                                    "2": "rowguid"
                                },
                                {
                                    "0": "IX_Employee_OrganizationLevel_OrganizationNode",
                                    "1": "nonclustered located on PRIMARY",
                                    "2": "OrganizationLevel, OrganizationNode"
                                },
                                {
                                    "0": "IX_Employee_OrganizationNode",
                                    "1": "nonclustered located on PRIMARY",
                                    "2": "OrganizationNode"
                                },
                                {
                                    "0": "PK_Employee_BusinessEntityID",
                                    "1": "clustered, unique, primary key located on PRIMARY",
                                    "2": "BusinessEntityID"
                                }
                            ]
                        },
                        "text/html": [
                            "<table>",
                            "<tr><th>index_name</th><th>index_description</th><th>index_keys</th></tr>",
                            "<tr><td>AK_Employee_LoginID</td><td>nonclustered, unique located on PRIMARY</td><td>LoginID</td></tr>",
                            "<tr><td>AK_Employee_NationalIDNumber</td><td>nonclustered, unique located on PRIMARY</td><td>NationalIDNumber</td></tr>",
                            "<tr><td>AK_Employee_rowguid</td><td>nonclustered, unique located on PRIMARY</td><td>rowguid</td></tr>",
                            "<tr><td>IX_Employee_OrganizationLevel_OrganizationNode</td><td>nonclustered located on PRIMARY</td><td>OrganizationLevel, OrganizationNode</td></tr>",
                            "<tr><td>IX_Employee_OrganizationNode</td><td>nonclustered located on PRIMARY</td><td>OrganizationNode</td></tr>",
                            "<tr><td>PK_Employee_BusinessEntityID</td><td>clustered, unique, primary key located on PRIMARY</td><td>BusinessEntityID</td></tr>",
                            "</table>"
                        ]
                    },
                    "batchId": 1,
                    "id": 0,
                    "queryRunnerUri": "queryRunner-untitled:notebook-editor-11"
                }
            ],
            "execution_count": 1
        },
        {
            "cell_type": "code",
            "source": [
                "/* more in depth using catalog views */\r\n",
                "USE AdventureWorks2014;\r\n",
                "GO\r\n",
                "SELECT index_name = SUBSTRING(name, 1,30) ,\r\n",
                "\t\tallow_row_locks,\r\n",
                "\t\tallow_page_locks,\r\n",
                "\t\tis_disabled,\r\n",
                "\t\tfill_factor,\r\n",
                "\t\thas_filter \r\n",
                "\tFROM sys.indexes \r\n",
                "\tWHERE object_id = OBJECT_ID('HumanResources.Employee');"
            ],
            "metadata": {
                "azdata_cell_guid": "3dec6fbf-f03e-411b-b7d4-60685316df28"
            },
            "outputs": [
                {
                    "output_type": "display_data",
                    "data": {
                        "text/html": "Commands completed successfully."
                    },
                    "metadata": {}
                },
                {
                    "output_type": "display_data",
                    "data": {
                        "text/html": "(6 rows affected)"
                    },
                    "metadata": {}
                },
                {
                    "output_type": "display_data",
                    "data": {
                        "text/html": "Total execution time: 00:00:00.040"
                    },
                    "metadata": {}
                },
                {
                    "output_type": "execute_result",
                    "metadata": {},
                    "execution_count": 2,
                    "data": {
                        "application/vnd.dataresource+json": {
                            "schema": {
                                "fields": [
                                    {
                                        "name": "index_name"
                                    },
                                    {
                                        "name": "allow_row_locks"
                                    },
                                    {
                                        "name": "allow_page_locks"
                                    },
                                    {
                                        "name": "is_disabled"
                                    },
                                    {
                                        "name": "fill_factor"
                                    },
                                    {
                                        "name": "has_filter"
                                    }
                                ]
                            },
                            "data": [
                                {
                                    "0": "PK_Employee_BusinessEntityID",
                                    "1": "1",
                                    "2": "1",
                                    "3": "0",
                                    "4": "0",
                                    "5": "0"
                                },
                                {
                                    "0": "IX_Employee_OrganizationNode",
                                    "1": "1",
                                    "2": "1",
                                    "3": "0",
                                    "4": "0",
                                    "5": "0"
                                },
                                {
                                    "0": "IX_Employee_OrganizationLevel_",
                                    "1": "1",
                                    "2": "1",
                                    "3": "0",
                                    "4": "0",
                                    "5": "0"
                                },
                                {
                                    "0": "AK_Employee_LoginID",
                                    "1": "1",
                                    "2": "1",
                                    "3": "0",
                                    "4": "0",
                                    "5": "0"
                                },
                                {
                                    "0": "AK_Employee_NationalIDNumber",
                                    "1": "1",
                                    "2": "1",
                                    "3": "0",
                                    "4": "0",
                                    "5": "0"
                                },
                                {
                                    "0": "AK_Employee_rowguid",
                                    "1": "1",
                                    "2": "1",
                                    "3": "0",
                                    "4": "0",
                                    "5": "0"
                                }
                            ]
                        },
                        "text/html": [
                            "<table>",
                            "<tr><th>index_name</th><th>allow_row_locks</th><th>allow_page_locks</th><th>is_disabled</th><th>fill_factor</th><th>has_filter</th></tr>",
                            "<tr><td>PK_Employee_BusinessEntityID</td><td>1</td><td>1</td><td>0</td><td>0</td><td>0</td></tr>",
                            "<tr><td>IX_Employee_OrganizationNode</td><td>1</td><td>1</td><td>0</td><td>0</td><td>0</td></tr>",
                            "<tr><td>IX_Employee_OrganizationLevel_</td><td>1</td><td>1</td><td>0</td><td>0</td><td>0</td></tr>",
                            "<tr><td>AK_Employee_LoginID</td><td>1</td><td>1</td><td>0</td><td>0</td><td>0</td></tr>",
                            "<tr><td>AK_Employee_NationalIDNumber</td><td>1</td><td>1</td><td>0</td><td>0</td><td>0</td></tr>",
                            "<tr><td>AK_Employee_rowguid</td><td>1</td><td>1</td><td>0</td><td>0</td><td>0</td></tr>",
                            "</table>"
                        ]
                    },
                    "batchId": 1,
                    "id": 0,
                    "queryRunnerUri": "queryRunner-untitled:notebook-editor-12"
                }
            ],
            "execution_count": 2
        }
    ]
}