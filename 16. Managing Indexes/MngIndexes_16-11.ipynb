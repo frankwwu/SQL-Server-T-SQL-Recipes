{
    "metadata": {
        "kernelspec": {
            "name": "SQL",
            "display_name": "SQL",
            "language": "sql"
        },
        "language_info": {
            "name": "sql",
            "version": ""
        }
    },
    "nbformat_minor": 2,
    "nbformat": 4,
    "cells": [
        {
            "cell_type": "code",
            "source": [
                "/* 16-11 */\r\n",
                "USE AdventureWorks2014;\r\n",
                "GO\r\n",
                "CREATE NONCLUSTERED INDEX NI_Address_AddressLine1 \r\n",
                "  ON Person.Address (AddressLine1) \r\n",
                "  WITH (MAXDOP = 4);"
            ],
            "metadata": {
                "azdata_cell_guid": "f9330333-5823-452c-b5fb-fb2903e7976a"
            },
            "outputs": [
                {
                    "output_type": "display_data",
                    "data": {
                        "text/html": "Commands completed successfully."
                    },
                    "metadata": {}
                },
                {
                    "output_type": "display_data",
                    "data": {
                        "text/html": "Commands completed successfully."
                    },
                    "metadata": {}
                },
                {
                    "output_type": "display_data",
                    "data": {
                        "text/html": "Total execution time: 00:00:00.074"
                    },
                    "metadata": {}
                }
            ],
            "execution_count": 1
        }
    ]
}