{
    "metadata": {
        "kernelspec": {
            "name": "SQL",
            "display_name": "SQL",
            "language": "sql"
        },
        "language_info": {
            "name": "sql",
            "version": ""
        }
    },
    "nbformat_minor": 2,
    "nbformat": 4,
    "cells": [
        {
            "cell_type": "code",
            "source": [
                "/* 16-9 */\r\n",
                "\r\n",
                "/* rebuild existing index via drop_existing */\r\n",
                "USE AdventureWorks2014;\r\n",
                "GO\r\n",
                "CREATE NONCLUSTERED INDEX NI_TerminationReason_TerminationReason_DepartmentID \r\n",
                "  ON HumanResources.TerminationReason(TerminationReason, DepartmentID)\r\n",
                "WITH (DROP_EXISTING = ON);\r\n",
                "GO"
            ],
            "metadata": {
                "azdata_cell_guid": "36954ef5-3446-4d21-b65a-ed670c70bc63"
            },
            "outputs": [
                {
                    "output_type": "display_data",
                    "data": {
                        "text/html": "Commands completed successfully."
                    },
                    "metadata": {}
                },
                {
                    "output_type": "display_data",
                    "data": {
                        "text/html": "Commands completed successfully."
                    },
                    "metadata": {}
                },
                {
                    "output_type": "display_data",
                    "data": {
                        "text/html": "Total execution time: 00:00:00.089"
                    },
                    "metadata": {}
                }
            ],
            "execution_count": 1
        },
        {
            "cell_type": "code",
            "source": [
                "/* add a new column to a non-clustered index */\r\n",
                "\r\n",
                "USE AdventureWorks2014;\r\n",
                "GO\r\n",
                "CREATE NONCLUSTERED INDEX NI_TerminationReason_TerminationReason_DepartmentID \r\n",
                "  ON HumanResources.TerminationReason(TerminationReason, ViolationSeverityLevel, DepartmentID DESC)\r\n",
                "WITH (DROP_EXISTING = ON);\r\n",
                "GO"
            ],
            "metadata": {
                "azdata_cell_guid": "6b315c73-9cb7-4340-b6e0-37c39eda3a96"
            },
            "outputs": [
                {
                    "output_type": "display_data",
                    "data": {
                        "text/html": "Commands completed successfully."
                    },
                    "metadata": {}
                },
                {
                    "output_type": "display_data",
                    "data": {
                        "text/html": "Commands completed successfully."
                    },
                    "metadata": {}
                },
                {
                    "output_type": "display_data",
                    "data": {
                        "text/html": "Total execution time: 00:00:00.006"
                    },
                    "metadata": {}
                }
            ],
            "execution_count": 2
        }
    ]
}