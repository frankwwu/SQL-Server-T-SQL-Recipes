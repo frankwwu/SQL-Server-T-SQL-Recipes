{
    "metadata": {
        "kernelspec": {
            "name": "SQL",
            "display_name": "SQL",
            "language": "sql"
        },
        "language_info": {
            "name": "sql",
            "version": ""
        }
    },
    "nbformat_minor": 2,
    "nbformat": 4,
    "cells": [
        {
            "cell_type": "code",
            "source": [
                "/* 16-5 */\r\n",
                "USE AdventureWorks2014;\r\n",
                "GO\r\n",
                "ALTER TABLE HumanResources.TerminationReason\r\n",
                "ADD ViolationSeverityLevel smallint;\r\n",
                "GO\r\n",
                "CREATE NONCLUSTERED INDEX NI_TerminationReason_ViolationSeverityLevel \r\n",
                "  ON HumanResources.TerminationReason (ViolationSeverityLevel DESC);"
            ],
            "metadata": {
                "azdata_cell_guid": "bcae2cb6-8e8f-48d7-84ce-5fb96fe50d84"
            },
            "outputs": [
                {
                    "output_type": "display_data",
                    "data": {
                        "text/html": "Commands completed successfully."
                    },
                    "metadata": {}
                },
                {
                    "output_type": "display_data",
                    "data": {
                        "text/html": "Commands completed successfully."
                    },
                    "metadata": {}
                },
                {
                    "output_type": "display_data",
                    "data": {
                        "text/html": "Commands completed successfully."
                    },
                    "metadata": {}
                },
                {
                    "output_type": "display_data",
                    "data": {
                        "text/html": "Total execution time: 00:00:00.015"
                    },
                    "metadata": {}
                }
            ],
            "execution_count": 1
        }
    ]
}