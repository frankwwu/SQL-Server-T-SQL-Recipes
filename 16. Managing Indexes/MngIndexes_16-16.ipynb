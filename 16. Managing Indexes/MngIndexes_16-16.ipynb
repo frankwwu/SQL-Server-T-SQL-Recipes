{
    "metadata": {
        "kernelspec": {
            "name": "SQL",
            "display_name": "SQL",
            "language": "sql"
        },
        "language_info": {
            "name": "sql",
            "version": ""
        }
    },
    "nbformat_minor": 2,
    "nbformat": 4,
    "cells": [
        {
            "cell_type": "code",
            "source": [
                "/* 16-16 */\r\n",
                "\r\n",
                "Use master;\r\n",
                "GO\r\n",
                "ALTER DATABASE AdventureWorks2014 \r\n",
                "  ADD FILEGROUP FG2;\r\n",
                "/* add a new file to the database and the newly created filegroup \r\n",
                "in a folder on the root of C called Apress. */"
            ],
            "metadata": {
                "azdata_cell_guid": "08195d34-2996-4e0b-bbc0-4cecb5627ea3"
            },
            "outputs": [
                {
                    "output_type": "display_data",
                    "data": {
                        "text/html": "Commands completed successfully."
                    },
                    "metadata": {}
                },
                {
                    "output_type": "display_data",
                    "data": {
                        "text/html": "Commands completed successfully."
                    },
                    "metadata": {}
                },
                {
                    "output_type": "display_data",
                    "data": {
                        "text/html": "Total execution time: 00:00:00.008"
                    },
                    "metadata": {}
                }
            ],
            "execution_count": 1
        },
        {
            "cell_type": "code",
            "source": [
                "Use AdventureWorks2014;\r\n",
                "GO\t\r\n",
                "ALTER DATABASE AdventureWorks2012AdventureWorks2014\r\n",
                "  ADD FILE\r\n",
                "--Please ensure the Apress directory exists or change the path in the FILENAME statement\r\n",
                "  ( NAME = AW2,FILENAME = 'c:\\Apress\\aw2.ndf',SIZE = 1MB ) \r\n",
                "  TO FILEGROUP FG2;"
            ],
            "metadata": {
                "azdata_cell_guid": "b176d02b-8b5d-4c99-aeb3-dce0ed94da81"
            },
            "outputs": [
                {
                    "output_type": "display_data",
                    "data": {
                        "text/html": "Commands completed successfully."
                    },
                    "metadata": {}
                },
                {
                    "output_type": "error",
                    "evalue": "Msg 911, Level 16, State 1, Line 3\r\nDatabase 'AdventureWorks2012AdventureWorks2014' does not exist. Make sure that the name is entered correctly.",
                    "ename": "",
                    "traceback": []
                },
                {
                    "output_type": "display_data",
                    "data": {
                        "text/html": "Total execution time: 00:00:00.013"
                    },
                    "metadata": {}
                }
            ],
            "execution_count": 2
        },
        {
            "cell_type": "code",
            "source": [
                "/* create a new index in the newly created filegroup. */\r\n",
                "\r\n",
                "Use AdventureWorks2014;\r\n",
                "GO\r\n",
                "CREATE INDEX NI_ProductPhoto_ThumnailPhotoFileName \r\n",
                "  ON Production.ProductPhoto (ThumbnailPhotoFileName) \r\n",
                "  ON [FG2];"
            ],
            "metadata": {
                "azdata_cell_guid": "899ceb1f-10e0-469f-a223-32d3bfa8abae"
            },
            "outputs": [
                {
                    "output_type": "display_data",
                    "data": {
                        "text/html": "Commands completed successfully."
                    },
                    "metadata": {}
                },
                {
                    "output_type": "error",
                    "evalue": "Msg 622, Level 16, State 3, Line 5\r\nThe filegroup \"FG2\" has no files assigned to it. Tables, indexes, text columns, ntext columns, and image columns cannot be populated on this filegroup until a file is added.",
                    "ename": "",
                    "traceback": []
                },
                {
                    "output_type": "display_data",
                    "data": {
                        "text/html": "The statement has been terminated."
                    },
                    "metadata": {}
                },
                {
                    "output_type": "display_data",
                    "data": {
                        "text/html": "Total execution time: 00:00:00.028"
                    },
                    "metadata": {}
                }
            ],
            "execution_count": 3
        }
    ]
}