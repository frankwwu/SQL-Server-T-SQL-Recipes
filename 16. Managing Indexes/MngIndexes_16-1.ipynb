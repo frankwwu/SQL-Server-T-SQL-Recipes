{
    "metadata": {
        "kernelspec": {
            "name": "SQL",
            "display_name": "SQL",
            "language": "sql"
        },
        "language_info": {
            "name": "sql",
            "version": ""
        }
    },
    "nbformat_minor": 2,
    "nbformat": 4,
    "cells": [
        {
            "cell_type": "code",
            "source": [
                "/* 16-1 */\r\n",
                "/* Create a New Table without Indexes */\r\n",
                "USE AdventureWorks2014;\r\n",
                "GO\r\n",
                "IF NOT EXISTS (Select 1/0 from sys.objects where name = 'TerminationReason' and SCHEMA_NAME(schema_id) = 'HumanResources')\r\n",
                "BEGIN\r\n",
                "CREATE TABLE HumanResources.TerminationReason(\r\n",
                "  TerminationReasonID smallint IDENTITY(1,1) NOT NULL, \r\n",
                "  TerminationReason varchar(50) NOT NULL, \r\n",
                "  DepartmentID smallint NOT NULL, \r\n",
                "  CONSTRAINT FK_TerminationReason_DepartmentID FOREIGN KEY (DepartmentID) \r\n",
                "REFERENCES HumanResources.Department(DepartmentID) \r\n",
                "\t);\r\n",
                "END"
            ],
            "metadata": {
                "azdata_cell_guid": "783c21ff-aa4c-4afe-8384-c4687539dd9c"
            },
            "outputs": [
                {
                    "output_type": "display_data",
                    "data": {
                        "text/html": "Commands completed successfully."
                    },
                    "metadata": {}
                },
                {
                    "output_type": "display_data",
                    "data": {
                        "text/html": "Commands completed successfully."
                    },
                    "metadata": {}
                },
                {
                    "output_type": "display_data",
                    "data": {
                        "text/html": "Total execution time: 00:00:00.135"
                    },
                    "metadata": {}
                }
            ],
            "execution_count": 1
        },
        {
            "cell_type": "code",
            "source": [
                "/* Create a Primary Key and Clustered Index */\r\n",
                "USE AdventureWorks2014;\r\n",
                "GO\r\n",
                "ALTER TABLE HumanResources.TerminationReason\r\n",
                "ADD CONSTRAINT PK_TerminationReason PRIMARY KEY CLUSTERED (TerminationReasonID);\r\n",
                "\r\n",
                "/* create a nonclustered index on the Departments column. */\r\n",
                "USE AdventureWorks2014;\r\n",
                "GO\r\n",
                "CREATE NONCLUSTERED INDEX NCI_TerminationReason_DepartmentID ON HumanResources.TerminationReason (DepartmentID);"
            ],
            "metadata": {
                "azdata_cell_guid": "c8c3639e-b726-48e6-bdba-3b98432f987e"
            },
            "outputs": [
                {
                    "output_type": "display_data",
                    "data": {
                        "text/html": "Commands completed successfully."
                    },
                    "metadata": {}
                },
                {
                    "output_type": "display_data",
                    "data": {
                        "text/html": "Commands completed successfully."
                    },
                    "metadata": {}
                },
                {
                    "output_type": "display_data",
                    "data": {
                        "text/html": "Commands completed successfully."
                    },
                    "metadata": {}
                },
                {
                    "output_type": "display_data",
                    "data": {
                        "text/html": "Total execution time: 00:00:00.044"
                    },
                    "metadata": {}
                }
            ],
            "execution_count": 2
        }
    ]
}