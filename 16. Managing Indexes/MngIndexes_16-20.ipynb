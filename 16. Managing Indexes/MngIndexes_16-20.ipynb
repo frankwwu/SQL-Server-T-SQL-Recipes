{
    "metadata": {
        "kernelspec": {
            "name": "SQL",
            "display_name": "SQL",
            "language": "sql"
        },
        "language_info": {
            "name": "sql",
            "version": ""
        }
    },
    "nbformat_minor": 2,
    "nbformat": 4,
    "cells": [
        {
            "cell_type": "code",
            "source": [
                "/* 16-20 */\r\n",
                "/* Create a Clustered ColumnStore Index */\r\n",
                "USE AdventureWorks2014;\r\n",
                "GO\r\n",
                "IF EXISTS (Select 1/0 from sys.objects where name = 'TerminationReason' and SCHEMA_NAME(schema_id) = 'HumanResources')\r\n",
                "BEGIN\r\n",
                "\tDROP TABLE HumanResources.TerminationReason;\r\n",
                "END"
            ],
            "metadata": {
                "azdata_cell_guid": "6878a79e-d025-49bc-8e76-be16035e1184"
            },
            "outputs": [
                {
                    "output_type": "display_data",
                    "data": {
                        "text/html": "Commands completed successfully."
                    },
                    "metadata": {}
                },
                {
                    "output_type": "display_data",
                    "data": {
                        "text/html": "Commands completed successfully."
                    },
                    "metadata": {}
                },
                {
                    "output_type": "display_data",
                    "data": {
                        "text/html": "Total execution time: 00:00:00.024"
                    },
                    "metadata": {}
                }
            ],
            "execution_count": 1
        },
        {
            "cell_type": "code",
            "source": [
                "CREATE TABLE HumanResources.TerminationReason(\r\n",
                "  TerminationReasonID smallint IDENTITY(1,1) NOT NULL, \r\n",
                "  TerminationReason varchar(50) NOT NULL, \r\n",
                "  DepartmentID smallint NOT NULL,\r\n",
                "  INDEX NCI_TerminationReason_DepartmentID NONCLUSTERED (DepartmentID)\r\n",
                "\t);\r\n",
                "GO"
            ],
            "metadata": {
                "azdata_cell_guid": "83bce6ae-71cb-4d65-b385-78a014aecf05"
            },
            "outputs": [
                {
                    "output_type": "error",
                    "evalue": "Msg 2760, Level 16, State 1, Line 1\r\nThe specified schema name \"HumanResources\" either does not exist or you do not have permission to use it.",
                    "ename": "",
                    "traceback": []
                },
                {
                    "output_type": "display_data",
                    "data": {
                        "text/html": "Total execution time: 00:00:00.007"
                    },
                    "metadata": {}
                }
            ],
            "execution_count": 2
        },
        {
            "cell_type": "code",
            "source": [
                "DROP INDEX NCI_TerminationReason_DepartmentID ON HumanResources.TerminationReason;\r\n",
                "GO"
            ],
            "metadata": {
                "azdata_cell_guid": "76aca56a-b75a-421d-afff-7c7e2ffe7851"
            },
            "outputs": [
                {
                    "output_type": "error",
                    "evalue": "Msg 3701, Level 11, State 6, Line 1\r\nCannot drop the index 'HumanResources.TerminationReason.NCI_TerminationReason_DepartmentID', because it does not exist or you do not have permission.",
                    "ename": "",
                    "traceback": []
                },
                {
                    "output_type": "display_data",
                    "data": {
                        "text/html": "Total execution time: 00:00:00.009"
                    },
                    "metadata": {}
                }
            ],
            "execution_count": 3
        },
        {
            "cell_type": "code",
            "source": [
                "CREATE CLUSTERED COLUMNSTORE INDEX PK_TerminationReason ON HumanResources.TerminationReason;\r\n",
                "GO"
            ],
            "metadata": {
                "azdata_cell_guid": "35604eb8-5e25-41cf-9eb7-8e54c0b0f9fa"
            },
            "outputs": [
                {
                    "output_type": "error",
                    "evalue": "Msg 1088, Level 16, State 12, Line 1\r\nCannot find the object \"HumanResources.TerminationReason\" because it does not exist or you do not have permissions.",
                    "ename": "",
                    "traceback": []
                },
                {
                    "output_type": "display_data",
                    "data": {
                        "text/html": "Total execution time: 00:00:00.001"
                    },
                    "metadata": {}
                }
            ],
            "execution_count": 4
        }
    ]
}