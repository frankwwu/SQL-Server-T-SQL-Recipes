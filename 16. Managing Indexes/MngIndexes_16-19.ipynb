{
    "metadata": {
        "kernelspec": {
            "name": "SQL",
            "display_name": "SQL",
            "language": "sql"
        },
        "language_info": {
            "name": "sql",
            "version": ""
        }
    },
    "nbformat_minor": 2,
    "nbformat": 4,
    "cells": [
        {
            "cell_type": "code",
            "source": [
                "/* 16-19 */\r\n",
                "Use AdventureWorks2014;\r\n",
                "GO\r\n",
                "CREATE NONCLUSTERED INDEX NCI_SalesOrderDetail_CarrierTrackingNumber \r\n",
                "  ON Sales.SalesOrderDetail (CarrierTrackingNumber) \r\n",
                "  WITH (DATA_COMPRESSION = PAGE);"
            ],
            "metadata": {
                "azdata_cell_guid": "3f4e09cb-66a5-4bfb-88ba-dd5d80507e98"
            },
            "outputs": [
                {
                    "output_type": "display_data",
                    "data": {
                        "text/html": "Commands completed successfully."
                    },
                    "metadata": {}
                },
                {
                    "output_type": "error",
                    "evalue": "Msg 1913, Level 16, State 1, Line 4\r\nThe operation failed because an index or statistics with name 'NCI_SalesOrderDetail_CarrierTrackingNumber' already exists on table 'Sales.SalesOrderDetail'.",
                    "ename": "",
                    "traceback": []
                },
                {
                    "output_type": "display_data",
                    "data": {
                        "text/html": "Total execution time: 00:00:00.008"
                    },
                    "metadata": {}
                }
            ],
            "execution_count": 1
        },
        {
            "cell_type": "code",
            "source": [
                "--change to row level compression\r\n",
                "Use AdventureWorks2014;\r\n",
                "GO\r\n",
                "ALTER INDEX NCI_SalesOrderDetail_CarrierTrackingNumber\r\n",
                "  ON Sales.SalesOrderDetail\r\n",
                "  REBUILD WITH (DATA_COMPRESSION = ROW);"
            ],
            "metadata": {
                "azdata_cell_guid": "840b0951-9267-4d03-9f80-d8ef2d809c2f"
            },
            "outputs": [
                {
                    "output_type": "display_data",
                    "data": {
                        "text/html": "Commands completed successfully."
                    },
                    "metadata": {}
                },
                {
                    "output_type": "display_data",
                    "data": {
                        "text/html": "Commands completed successfully."
                    },
                    "metadata": {}
                },
                {
                    "output_type": "display_data",
                    "data": {
                        "text/html": "Total execution time: 00:00:00.236"
                    },
                    "metadata": {}
                }
            ],
            "execution_count": 2
        }
    ]
}