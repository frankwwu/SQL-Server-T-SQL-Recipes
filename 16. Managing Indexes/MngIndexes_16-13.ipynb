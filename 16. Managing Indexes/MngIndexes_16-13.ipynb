{
    "metadata": {
        "kernelspec": {
            "name": "SQL",
            "display_name": "SQL",
            "language": "sql"
        },
        "language_info": {
            "name": "sql",
            "version": ""
        }
    },
    "nbformat_minor": 2,
    "nbformat": 4,
    "cells": [
        {
            "cell_type": "code",
            "source": [
                "/* 16-13 */\r\n",
                "USE AdventureWorks2014;\r\n",
                "GO\r\n",
                "ALTER TABLE HumanResources.TerminationReason \r\n",
                "  ADD LegalDescription varchar(max);\r\n",
                "Go\r\n",
                "DROP INDEX HumanResources.TerminationReason.NI_TerminationReason_TerminationReason_DepartmentID;\r\n",
                "Go\r\n",
                "CREATE NONCLUSTERED INDEX NI_TerminationReason_TerminationReason_DepartmentID \r\n",
                "  ON HumanResources.TerminationReason (TerminationReason, DepartmentID) \r\n",
                "  INCLUDE (LegalDescription);"
            ],
            "metadata": {
                "azdata_cell_guid": "eb5c9e04-7d14-4f31-a9d7-d3b988775676"
            },
            "outputs": [
                {
                    "output_type": "display_data",
                    "data": {
                        "text/html": "Commands completed successfully."
                    },
                    "metadata": {}
                },
                {
                    "output_type": "display_data",
                    "data": {
                        "text/html": "Commands completed successfully."
                    },
                    "metadata": {}
                },
                {
                    "output_type": "display_data",
                    "data": {
                        "text/html": "Commands completed successfully."
                    },
                    "metadata": {}
                },
                {
                    "output_type": "display_data",
                    "data": {
                        "text/html": "Commands completed successfully."
                    },
                    "metadata": {}
                },
                {
                    "output_type": "display_data",
                    "data": {
                        "text/html": "Total execution time: 00:00:00.139"
                    },
                    "metadata": {}
                }
            ],
            "execution_count": 1
        }
    ]
}