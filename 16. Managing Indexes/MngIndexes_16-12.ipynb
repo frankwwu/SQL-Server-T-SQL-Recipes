{
    "metadata": {
        "kernelspec": {
            "name": "SQL",
            "display_name": "SQL",
            "language": "sql"
        },
        "language_info": {
            "name": "sql",
            "version": ""
        }
    },
    "nbformat_minor": 2,
    "nbformat": 4,
    "cells": [
        {
            "cell_type": "code",
            "source": [
                "/* 16-11 */\r\n",
                "USE AdventureWorks2014;\r\n",
                "GO\r\n",
                "CREATE NONCLUSTERED INDEX NI_Address_AddressLine1 \r\n",
                "  ON Person.Address (AddressLine1) \r\n",
                "  WITH (MAXDOP = 4);"
            ],
            "metadata": {
                "azdata_cell_guid": "a8031ad4-17bc-48a4-86fc-f4e6ddb9f69b"
            },
            "outputs": [
                {
                    "output_type": "display_data",
                    "data": {
                        "text/html": "Commands completed successfully."
                    },
                    "metadata": {}
                },
                {
                    "output_type": "error",
                    "evalue": "Msg 1913, Level 16, State 1, Line 4\r\nThe operation failed because an index or statistics with name 'NI_Address_AddressLine1' already exists on table 'Person.Address'.",
                    "ename": "",
                    "traceback": []
                },
                {
                    "output_type": "display_data",
                    "data": {
                        "text/html": "Total execution time: 00:00:00.117"
                    },
                    "metadata": {}
                }
            ],
            "execution_count": 1
        }
    ]
}