{
    "metadata": {
        "kernelspec": {
            "name": "SQL",
            "display_name": "SQL",
            "language": "sql"
        },
        "language_info": {
            "name": "sql",
            "version": ""
        }
    },
    "nbformat_minor": 2,
    "nbformat": 4,
    "cells": [
        {
            "cell_type": "code",
            "source": [
                "/* 15-2 */\r\n",
                "\r\n",
                "USE AdventureWorks2014;\r\n",
                "GO\r\n",
                "CREATE UNIQUE NONCLUSTERED INDEX UNI_TerminationReason ON HumanResources.TerminationReason (TerminationReason);"
            ],
            "metadata": {
                "azdata_cell_guid": "8c478dc6-af68-46b4-9312-f8749fce7d87",
                "tags": []
            },
            "outputs": [
                {
                    "output_type": "display_data",
                    "data": {
                        "text/html": "Commands completed successfully."
                    },
                    "metadata": {}
                },
                {
                    "output_type": "display_data",
                    "data": {
                        "text/html": "Commands completed successfully."
                    },
                    "metadata": {}
                },
                {
                    "output_type": "display_data",
                    "data": {
                        "text/html": "Total execution time: 00:00:00.005"
                    },
                    "metadata": {}
                }
            ],
            "execution_count": 1
        },
        {
            "cell_type": "code",
            "source": [
                "/*Insert some values */\r\n",
                "USE AdventureWorks2014;\r\n",
                "GO\r\n",
                "INSERT INTO HumanResources.TerminationReason (DepartmentID, TerminationReason) \r\n",
                "  VALUES (1, 'Bad Engineering Skills')\r\n",
                "  ,(2, 'Breaks Expensive Tools');"
            ],
            "metadata": {
                "azdata_cell_guid": "9ef96779-9ef6-4976-a1e1-b7ef1c7dddb9",
                "tags": []
            },
            "outputs": [
                {
                    "output_type": "display_data",
                    "data": {
                        "text/html": "Commands completed successfully."
                    },
                    "metadata": {}
                },
                {
                    "output_type": "display_data",
                    "data": {
                        "text/html": "(2 rows affected)"
                    },
                    "metadata": {}
                },
                {
                    "output_type": "display_data",
                    "data": {
                        "text/html": "Total execution time: 00:00:00.018"
                    },
                    "metadata": {}
                }
            ],
            "execution_count": 2
        },
        {
            "cell_type": "code",
            "source": [
                "/* Insert a duplicate value */\r\n",
                "USE AdventureWorks2014;\r\n",
                "GO\r\n",
                "INSERT INTO HumanResources.TerminationReason (DepartmentID, TerminationReason) \r\n",
                "\tVALUES (2, 'Bad Engineering Skills');"
            ],
            "metadata": {
                "azdata_cell_guid": "9ded7166-9ea8-47bc-a46e-8a0df80c314a"
            },
            "outputs": [
                {
                    "output_type": "display_data",
                    "data": {
                        "text/html": "Commands completed successfully."
                    },
                    "metadata": {}
                },
                {
                    "output_type": "error",
                    "evalue": "Msg 2601, Level 14, State 1, Line 4\r\nCannot insert duplicate key row in object 'HumanResources.TerminationReason' with unique index 'UNI_TerminationReason'. The duplicate key value is (Bad Engineering Skills).",
                    "ename": "",
                    "traceback": []
                },
                {
                    "output_type": "display_data",
                    "data": {
                        "text/html": "The statement has been terminated."
                    },
                    "metadata": {}
                },
                {
                    "output_type": "display_data",
                    "data": {
                        "text/html": "Total execution time: 00:00:00.023"
                    },
                    "metadata": {}
                }
            ],
            "execution_count": 3
        }
    ]
}