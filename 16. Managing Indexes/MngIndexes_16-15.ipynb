{
    "metadata": {
        "kernelspec": {
            "name": "SQL",
            "display_name": "SQL",
            "language": "sql"
        },
        "language_info": {
            "name": "sql",
            "version": ""
        }
    },
    "nbformat_minor": 2,
    "nbformat": 4,
    "cells": [
        {
            "cell_type": "code",
            "source": [
                "/* 16-15 */\r\n",
                "\r\n",
                "USE AdventureWorks2014;\r\n",
                "GO\r\n",
                "-- Disable page locks. Table and row locks can still be used. \r\n",
                "CREATE INDEX NI_EmployeePayHistory_Rate \r\n",
                "  ON HumanResources.EmployeePayHistory (Rate) \r\n",
                "  WITH (ALLOW_PAGE_LOCKS=OFF);\r\n",
                "-- Disable page and row locks. Only table locks can be used.\r\n",
                "ALTER INDEX NI_TerminationReason_TerminationReason_DepartmentID \r\n",
                "  ON HumanResources.TerminationReason\r\n",
                "  SET (ALLOW_PAGE_LOCKS=OFF,ALLOW_ROW_LOCKS=OFF );\r\n",
                "-- Allow page and row locks.\r\n",
                "ALTER INDEX NI_TerminationReason_TerminationReason_DepartmentID \r\n",
                "  ON HumanResources.TerminationReason\r\n",
                "  SET (ALLOW_PAGE_LOCKS=ON,ALLOW_ROW_LOCKS=ON );"
            ],
            "metadata": {
                "azdata_cell_guid": "71f0e062-de9f-4964-8046-f5ab02007926"
            },
            "outputs": [
                {
                    "output_type": "display_data",
                    "data": {
                        "text/html": "Commands completed successfully."
                    },
                    "metadata": {}
                },
                {
                    "output_type": "display_data",
                    "data": {
                        "text/html": "Commands completed successfully."
                    },
                    "metadata": {}
                },
                {
                    "output_type": "display_data",
                    "data": {
                        "text/html": "Total execution time: 00:00:00.021"
                    },
                    "metadata": {}
                }
            ],
            "execution_count": 1
        }
    ]
}