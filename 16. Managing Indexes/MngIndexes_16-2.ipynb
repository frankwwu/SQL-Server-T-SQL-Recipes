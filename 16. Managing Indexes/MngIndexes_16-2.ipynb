{
    "metadata": {
        "kernelspec": {
            "name": "SQL",
            "display_name": "SQL",
            "language": "sql"
        },
        "language_info": {
            "name": "sql",
            "version": ""
        }
    },
    "nbformat_minor": 2,
    "nbformat": 4,
    "cells": [
        {
            "cell_type": "code",
            "source": [
                "/* 16-2 */\r\n",
                "/* Create a New Table and Index at same time*/\r\n",
                "USE AdventureWorks2014;\r\n",
                "GO\r\n",
                "IF EXISTS (Select 1/0 from sys.objects where name = 'TerminationReason' and SCHEMA_NAME(schema_id) = 'HumanResources')\r\n",
                "BEGIN\r\n",
                "\tDROP TABLE HumanResources.TerminationReason;\r\n",
                "END\r\n",
                "CREATE TABLE HumanResources.TerminationReason(\r\n",
                "  TerminationReasonID smallint IDENTITY(1,1) NOT NULL, \r\n",
                "  TerminationReason varchar(50) NOT NULL, \r\n",
                "  DepartmentID smallint NOT NULL INDEX NCI_TerminationReason_DepartmentID NONCLUSTERED, \r\n",
                "  CONSTRAINT FK_TerminationReason_DepartmentID FOREIGN KEY (DepartmentID) \r\n",
                "REFERENCES HumanResources.Department(DepartmentID) \r\n",
                "\t);"
            ],
            "metadata": {
                "azdata_cell_guid": "3908277d-3d9c-42d8-a0bd-d05079686435"
            },
            "outputs": [
                {
                    "output_type": "display_data",
                    "data": {
                        "text/html": "Commands completed successfully."
                    },
                    "metadata": {}
                },
                {
                    "output_type": "display_data",
                    "data": {
                        "text/html": "Commands completed successfully."
                    },
                    "metadata": {}
                },
                {
                    "output_type": "display_data",
                    "data": {
                        "text/html": "Total execution time: 00:00:00.063"
                    },
                    "metadata": {}
                }
            ],
            "execution_count": 1
        },
        {
            "cell_type": "code",
            "source": [
                "/* Create a Primary Key and Clustered Index */\r\n",
                "USE AdventureWorks2014;\r\n",
                "GO\r\n",
                "ALTER TABLE HumanResources.TerminationReason\r\n",
                "ADD CONSTRAINT PK_TerminationReason PRIMARY KEY CLUSTERED (TerminationReasonID);"
            ],
            "metadata": {
                "azdata_cell_guid": "ea9b9da6-1d61-4269-b96f-d1e7c1ab93e6"
            },
            "outputs": [
                {
                    "output_type": "display_data",
                    "data": {
                        "text/html": "Commands completed successfully."
                    },
                    "metadata": {}
                },
                {
                    "output_type": "display_data",
                    "data": {
                        "text/html": "Commands completed successfully."
                    },
                    "metadata": {}
                },
                {
                    "output_type": "display_data",
                    "data": {
                        "text/html": "Total execution time: 00:00:00.012"
                    },
                    "metadata": {}
                }
            ],
            "execution_count": 2
        },
        {
            "cell_type": "code",
            "source": [
                "/* Variation on the Inline Index Creation */\r\n",
                "USE AdventureWorks2014;\r\n",
                "GO\r\n",
                "IF EXISTS (Select 1/0 from sys.objects where name = 'TerminationReason' and SCHEMA_NAME(schema_id) = 'HumanResources')\r\n",
                "BEGIN\r\n",
                "\tDROP TABLE HumanResources.TerminationReason;\r\n",
                "END\r\n",
                "\r\n",
                "CREATE TABLE HumanResources.TerminationReason(\r\n",
                "  TerminationReasonID smallint IDENTITY(1,1) NOT NULL, \r\n",
                "  TerminationReason varchar(50) NOT NULL, \r\n",
                "  DepartmentID smallint NOT NULL,\r\n",
                "  INDEX NCI_TerminationReason_DepartmentID NONCLUSTERED (DepartmentID), \r\n",
                "  CONSTRAINT FK_TerminationReason_DepartmentID FOREIGN KEY (DepartmentID) \r\n",
                "REFERENCES HumanResources.Department(DepartmentID) \r\n",
                "\t);"
            ],
            "metadata": {
                "azdata_cell_guid": "72e40977-e4c0-4b95-86ee-e62ef07885f2"
            },
            "outputs": [
                {
                    "output_type": "display_data",
                    "data": {
                        "text/html": "Commands completed successfully."
                    },
                    "metadata": {}
                },
                {
                    "output_type": "display_data",
                    "data": {
                        "text/html": "Commands completed successfully."
                    },
                    "metadata": {}
                },
                {
                    "output_type": "display_data",
                    "data": {
                        "text/html": "Total execution time: 00:00:00.018"
                    },
                    "metadata": {}
                }
            ],
            "execution_count": 3
        },
        {
            "cell_type": "code",
            "source": [
                "/* Create a Primary Key and Clustered Index */\r\n",
                "USE AdventureWorks2014;\r\n",
                "GO\r\n",
                "ALTER TABLE HumanResources.TerminationReason\r\n",
                "ADD CONSTRAINT PK_TerminationReason PRIMARY KEY CLUSTERED (TerminationReasonID);"
            ],
            "metadata": {
                "azdata_cell_guid": "2805ca8f-6058-4ae6-a1df-20d5c12eb73f"
            },
            "outputs": [
                {
                    "output_type": "display_data",
                    "data": {
                        "text/html": "Commands completed successfully."
                    },
                    "metadata": {}
                },
                {
                    "output_type": "display_data",
                    "data": {
                        "text/html": "Commands completed successfully."
                    },
                    "metadata": {}
                },
                {
                    "output_type": "display_data",
                    "data": {
                        "text/html": "Total execution time: 00:00:00.005"
                    },
                    "metadata": {}
                }
            ],
            "execution_count": 4
        }
    ]
}