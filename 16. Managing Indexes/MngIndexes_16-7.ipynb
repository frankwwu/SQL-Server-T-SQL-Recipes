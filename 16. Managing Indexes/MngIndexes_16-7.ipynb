{
    "metadata": {
        "kernelspec": {
            "name": "SQL",
            "display_name": "SQL",
            "language": "sql"
        },
        "language_info": {
            "name": "sql",
            "version": ""
        }
    },
    "nbformat_minor": 2,
    "nbformat": 4,
    "cells": [
        {
            "cell_type": "code",
            "source": [
                "/* 16-7 */\r\n",
                "USE AdventureWorks2014;\r\n",
                "GO\r\n",
                "ALTER INDEX UNI_TerminationReason \r\n",
                "  ON HumanResources.TerminationReason DISABLE;"
            ],
            "metadata": {
                "azdata_cell_guid": "dd064df2-806c-4369-8f99-0a4ea48befc3"
            },
            "outputs": [
                {
                    "output_type": "display_data",
                    "data": {
                        "text/html": "Commands completed successfully."
                    },
                    "metadata": {}
                },
                {
                    "output_type": "display_data",
                    "data": {
                        "text/html": "Commands completed successfully."
                    },
                    "metadata": {}
                },
                {
                    "output_type": "display_data",
                    "data": {
                        "text/html": "Total execution time: 00:00:00.045"
                    },
                    "metadata": {}
                }
            ],
            "execution_count": 1
        }
    ]
}