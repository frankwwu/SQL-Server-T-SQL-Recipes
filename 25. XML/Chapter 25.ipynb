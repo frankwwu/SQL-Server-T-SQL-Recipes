{
    "metadata": {
        "kernelspec": {
            "name": "SQL",
            "display_name": "SQL",
            "language": "sql"
        },
        "language_info": {
            "name": "sql",
            "version": ""
        }
    },
    "nbformat_minor": 2,
    "nbformat": 4,
    "cells": [
        {
            "cell_type": "code",
            "source": [
                "USE tempdb;\n",
                "GO\n",
                "\n",
                "-- recipe 25-1\n",
                "IF OBJECT_ID('dbo.Book') IS NOT NULL DROP TABLE dbo.Book;\n",
                "IF OBJECT_ID('dbo.INS_Book','P') IS NOT NULL DROP PROCEDURE dbo.INS_Book;\n",
                "CREATE TABLE dbo.Book\n",
                "        (\n",
                "         BookID INT IDENTITY PRIMARY KEY,\n",
                "         ISBNNBR CHAR(13) NOT NULL,\n",
                "         BookNM VARCHAR(250) NOT NULL,\n",
                "         AuthorID INT NOT NULL,\n",
                "         ChapterDesc XML NULL\n",
                "        );\n",
                "GO\n",
                "CREATE PROCEDURE dbo.INS_Book\n",
                "       @ISBNNBR CHAR(13),\n",
                "       @BookNM VARCHAR(250),\n",
                "       @AuthorID INT,\n",
                "       @ChapterDesc XML\n",
                "AS \n",
                "INSERT  dbo.Book\n",
                "        (ISBNNBR,\n",
                "         BookNM,\n",
                "         AuthorID,\n",
                "         ChapterDesc)\n",
                "VALUES  (@ISBNNBR,\n",
                "         @BookNM,\n",
                "         @AuthorID,\n",
                "         @ChapterDesc);\n",
                "GO"
            ],
            "metadata": {
                "azdata_cell_guid": "5027d9c3-489e-40d0-b3d3-0b37050a6368"
            },
            "outputs": [
                {
                    "output_type": "display_data",
                    "data": {
                        "text/html": "Commands completed successfully."
                    },
                    "metadata": {}
                },
                {
                    "output_type": "display_data",
                    "data": {
                        "text/html": "Commands completed successfully."
                    },
                    "metadata": {}
                },
                {
                    "output_type": "display_data",
                    "data": {
                        "text/html": "Commands completed successfully."
                    },
                    "metadata": {}
                },
                {
                    "output_type": "display_data",
                    "data": {
                        "text/html": "Total execution time: 00:00:00.029"
                    },
                    "metadata": {}
                }
            ],
            "execution_count": 2
        },
        {
            "cell_type": "code",
            "source": [
                "-- recipe 25-2\r\n",
                "\r\n",
                "INSERT  dbo.Book\r\n",
                "        (ISBNNBR,\r\n",
                "         BookNM,\r\n",
                "         AuthorID,\r\n",
                "         ChapterDesc)\r\n",
                "VALUES  ('9781484200629',\r\n",
                "         'SOL Server 2014 T-S0L Recipes',\r\n",
                "         55,\r\n",
                "'<Book name=\"SQL Server 2014 T-SQL Recipes\">\r\n",
                "<Chapters>\r\n",
                "<Chapter id=\"1\">Getting Started with SELECT</Chapter>\r\n",
                "<Chapter id=\"2\">Elementary Programming</Chapter>\r\n",
                "<Chapter id=\"3\">Working with NULLs</Chapter>\r\n",
                "<Chapter id=\"4\">Combining Data from Multiple Tables</Chapter>\r\n",
                "</Chapters>\r\n",
                "</Book>');\r\n",
                "\r\n",
                "DECLARE @Book XML;\r\n",
                "SET @Book =\r\n",
                "CAST('<Book name=\"S0L Server 2014 Fast Answers\">\r\n",
                "<Chapters>\r\n",
                "<Chapter id=\"1\"> Installation, Upgrades... </Chapter>\r\n",
                "<Chapter id=\"2\"> Configuring SQL Server </Chapter>\r\n",
                "<Chapter id=\"3\"> Creating and Configuring Databases </Chapter>\r\n",
                "<Chapter id=\"4\"> SQL Server Agent and SQL Logs </Chapter>\r\n",
                "</Chapters>\r\n",
                "</Book>' as XML);\r\n",
                "\r\n",
                "INSERT  dbo.Book\r\n",
                "        (ISBNNBR,\r\n",
                "         BookNM,\r\n",
                "         AuthorID,\r\n",
                "         ChapterDesc)\r\n",
                "VALUES  ('1590591615',\r\n",
                "         'SOL Server 2014 Fast Answers',\r\n",
                "         55,\r\n",
                "         @Book);\r\n",
                "GO"
            ],
            "metadata": {
                "azdata_cell_guid": "e714a422-de24-4435-b3c8-e4f3e17a2f4f"
            },
            "outputs": [
                {
                    "output_type": "display_data",
                    "data": {
                        "text/html": "(1 row affected)"
                    },
                    "metadata": {}
                },
                {
                    "output_type": "display_data",
                    "data": {
                        "text/html": "(1 row affected)"
                    },
                    "metadata": {}
                },
                {
                    "output_type": "display_data",
                    "data": {
                        "text/html": "Total execution time: 00:00:00.013"
                    },
                    "metadata": {}
                }
            ],
            "execution_count": 3
        },
        {
            "cell_type": "code",
            "source": [
                "-- recipe 25-3\r\n",
                "IF EXISTS (SELECT * FROM sys.xml_schema_collections WHERE name = 'BookStoreCollection')\r\n",
                "DROP XML SCHEMA COLLECTION BookStoreCollection;\r\n",
                "GO\r\n",
                "CREATE XML SCHEMA COLLECTION BookStoreCollection\r\n",
                "AS\r\n",
                "N'<xsd:schema  targetNamespace=\"http://PROD/BookStore\"\r\n",
                "               xmlns:xsd=\"http://www.w3.org/2001/XMLSchema\"\r\n",
                "               xmlns:sqltypes=\"http://schemas.microsoft.com/sqlserver/2004/sqltypes\"\r\n",
                "               elementFormDefault=\"qualified\">\r\n",
                "    <xsd:import  namespace=\"http://schemas.microsoft.com/sqlserver/2004/sqltypes\"/>\r\n",
                "    <xsd:element  name=\"Book\">\r\n",
                "        <xsd:complexType>\r\n",
                "            <xsd:sequence>\r\n",
                "                <xsd:element  name=\"BookName\"  minOccurs=\"0\">\r\n",
                "                    <xsd:simpleType>\r\n",
                "                        <xsd:restriction        base=\"sqltypes:varchar\">\r\n",
                "                            <xsd:maxLength  value=\"50\"    />\r\n",
                "                        </xsd:restriction>\r\n",
                "                    </xsd:simpleType>\r\n",
                "                </xsd:element>\r\n",
                "                <xsd:element  name=\"ChapterID\"  type=\"sqltypes:int\" minOccurs=\"0\"    />\r\n",
                "                <xsd:element  name=\"ChapterNM\"  minOccurs=\"0\">\r\n",
                "                    <xsd:simpleType>\r\n",
                "                        <xsd:restriction        base=\"sqltypes:varchar\">\r\n",
                "                            <xsd:maxLength  value=\"50\"    />\r\n",
                "                        </xsd:restriction>\r\n",
                "                    </xsd:simpleType>\r\n",
                "                </xsd:element>\r\n",
                "            </xsd:sequence>\r\n",
                "        </xsd:complexType>\r\n",
                "    </xsd:element>\r\n",
                "</xsd:schema>';\r\n",
                "GO\r\n",
                "\r\n",
                "IF OBJECT_ID('dbo.BookInfoExport') IS NOT NULL DROP TABLE dbo.BookInfoExport;\r\n",
                "CREATE TABLE dbo.BookInfoExport\r\n",
                "       (\r\n",
                "        BookID INT IDENTITY PRIMARY KEY,\r\n",
                "        ISBNNBR CHAR(10) NOT NULL,\r\n",
                "        BookNM VARCHAR(250) NOT NULL,\r\n",
                "        AuthorID INT NOT NULL,\r\n",
                "        ChapterDesc XML(BookStoreCollection) NULL\r\n",
                "       );\r\n",
                "GO"
            ],
            "metadata": {
                "azdata_cell_guid": "8d782701-b0bf-471d-8279-3d12e9af5a60"
            },
            "outputs": [
                {
                    "output_type": "error",
                    "evalue": "Msg 6328, Level 16, State 1, Line 3\r\nSpecified collection 'BookStoreCollection' cannot be dropped because it is used by object 'dbo.BookInfoExport'.",
                    "ename": "",
                    "traceback": []
                },
                {
                    "output_type": "error",
                    "evalue": "Msg 6348, Level 16, State 1, Line 5\r\nSpecified collection 'BookStoreCollection' cannot be created because it already exists or you do not have permission.",
                    "ename": "",
                    "traceback": []
                },
                {
                    "output_type": "display_data",
                    "data": {
                        "text/html": "Commands completed successfully."
                    },
                    "metadata": {}
                },
                {
                    "output_type": "display_data",
                    "data": {
                        "text/html": "Total execution time: 00:00:00.031"
                    },
                    "metadata": {}
                }
            ],
            "execution_count": 4
        },
        {
            "cell_type": "code",
            "source": [
                "-- recipe 25-4\r\n",
                "SELECT  name\r\n",
                "FROM    sys.XML_schema_collections\r\n",
                "ORDER BY create_date;\r\n",
                "\r\n",
                "SELECT  n.name\r\n",
                "FROM    sys.XML_schema_namespaces n\r\n",
                "        INNER JOIN sys.XML_schema_collections c\r\n",
                "            ON c.XML_collection_id = n.XML_collection_id\r\n",
                "WHERE   c.name = 'BookStoreCollection';\r\n",
                "GO"
            ],
            "metadata": {
                "azdata_cell_guid": "a5e31322-8d3c-4cd6-bcb6-8a61864180a4"
            },
            "outputs": [
                {
                    "output_type": "display_data",
                    "data": {
                        "text/html": "(2 rows affected)"
                    },
                    "metadata": {}
                },
                {
                    "output_type": "display_data",
                    "data": {
                        "text/html": "(1 row affected)"
                    },
                    "metadata": {}
                },
                {
                    "output_type": "display_data",
                    "data": {
                        "text/html": "Total execution time: 00:00:00.050"
                    },
                    "metadata": {}
                },
                {
                    "output_type": "execute_result",
                    "metadata": {},
                    "execution_count": 5,
                    "data": {
                        "application/vnd.dataresource+json": {
                            "schema": {
                                "fields": [
                                    {
                                        "name": "name"
                                    }
                                ]
                            },
                            "data": [
                                {
                                    "0": "sys"
                                },
                                {
                                    "0": "BookStoreCollection"
                                }
                            ]
                        },
                        "text/html": [
                            "<table>",
                            "<tr><th>name</th></tr>",
                            "<tr><td>sys</td></tr>",
                            "<tr><td>BookStoreCollection</td></tr>",
                            "</table>"
                        ]
                    }
                },
                {
                    "output_type": "execute_result",
                    "metadata": {},
                    "execution_count": 5,
                    "data": {
                        "application/vnd.dataresource+json": {
                            "schema": {
                                "fields": [
                                    {
                                        "name": "name"
                                    }
                                ]
                            },
                            "data": [
                                {
                                    "0": "http://PROD/BookStore"
                                }
                            ]
                        },
                        "text/html": [
                            "<table>",
                            "<tr><th>name</th></tr>",
                            "<tr><td>http://PROD/BookStore</td></tr>",
                            "</table>"
                        ]
                    }
                }
            ],
            "execution_count": 5
        },
        {
            "cell_type": "code",
            "source": [
                "-- recipe 25-5\r\n",
                "IF OBJECT_ID('dbo.BookInvoice') IS NOT NULL DROP TABLE dbo.BookInvoice;\r\n",
                "CREATE  TABLE dbo.BookInvoice\r\n",
                "       (\r\n",
                "        BookInvoiceID INT IDENTITY PRIMARY  KEY,\r\n",
                "        BookInvoiceXML XML NOT  NULL\r\n",
                "       )\r\n",
                "GO\r\n",
                "\r\n",
                "INSERT  dbo.BookInvoice (BookInvoiceXML)\r\n",
                "VALUES  \r\n",
                "('<BookInvoice  invoicenumber=\"1\"  customerid=\"22\"     orderdate=\"2008-07-01Z\">\r\n",
                "<OrderItems>\r\n",
                "<Item  id=\"22\"  qty=\"1\"  name=\"SQL Fun in the Sun\"/>\r\n",
                "<Item  id=\"24\"  qty=\"1\"  name=\"T-SQL Crossword Puzzles\"/>\r\n",
                "</OrderItems>\r\n",
                "</BookInvoice>'),\r\n",
                "\r\n",
                "('<BookInvoice  invoicenumber=\"1\"  customerid=\"40\"  orderdate=\"2008-07-11Z\">\r\n",
                "<OrderItems>\r\n",
                "<Item  id=\"11\"  qty=\"1\"  name=\"MCITP Cliff Notes\"/>\r\n",
                "</OrderItems>\r\n",
                "</BookInvoice>'),\r\n",
                "\r\n",
                "('<BookInvoice  invoicenumber=\"1\"  customerid=\"9\"  orderdate=\"2008-07-22Z\">\r\n",
                "<OrderItems>\r\n",
                "<Item  id=\"11\"  qty=\"1\"  name=\"MCITP Cliff Notes\"/>\r\n",
                "<Item  id=\"24\"  qty=\"1\"  name=\"T-SQL Crossword Puzzles\"/>\r\n",
                "</OrderItems>\r\n",
                "</BookInvoice>');\r\n",
                "\r\n",
                "\r\n",
                "SELECT  BookInvoiceID\r\n",
                "FROM    dbo.BookInvoice\r\n",
                "WHERE   BookInvoiceXML.exist('/BookInvoice/OrderItems/Item[@id=11]') = 1;\r\n",
                "\r\n",
                "DECLARE @BookInvoiceXML XML;\r\n",
                "SELECT  @BookInvoiceXML = BookInvoiceXML\r\n",
                "FROM    dbo.BookInvoice\r\n",
                "WHERE   BookInvoiceID = 2;\r\n",
                "\r\n",
                "SELECT  BookID.value('@id', 'integer') BookID\r\n",
                "FROM    @BookInvoiceXML.nodes('/BookInvoice/OrderItems/Item') AS BookTable (BookID);\r\n",
                "GO\r\n",
                "\r\n",
                "DECLARE @BookInvoiceXML XML;\r\n",
                "SELECT  @BookInvoiceXML = BookInvoiceXML\r\n",
                "FROM    dbo.BookInvoice\r\n",
                "WHERE   BookInvoiceID = 3;\r\n",
                "SELECT  @BookInvoiceXML.query('/BookInvoice/OrderItems'); \r\n",
                "\r\n",
                "SELECT DISTINCT\r\n",
                "        BookInvoiceXML.value('(/BookInvoice/OrderItems/Item/@name)[1]',\r\n",
                "                             'varchar(30)') AS BookTitles\r\n",
                "FROM    dbo.BookInvoice\r\n",
                "UNION\r\n",
                "SELECT DISTINCT\r\n",
                "        BookInvoiceXML.value('(/BookInvoice/OrderItems/Item/@name)[2]',\r\n",
                "                             'varchar(30)')\r\n",
                "FROM    dbo.BookInvoice;\r\n",
                "\r\n",
                "SELECT DISTINCT\r\n",
                "        BookInvoiceXML.value('(/BookInvoice/OrderItems/Item/@name)[3]',\r\n",
                "                             'varchar(30)')\r\n",
                "FROM    dbo.BookInvoice;\r\n",
                ""
            ],
            "metadata": {
                "azdata_cell_guid": "d4c5d0fd-ea79-4e7b-9c89-74888dccb104"
            },
            "outputs": [
                {
                    "output_type": "display_data",
                    "data": {
                        "text/html": "Commands completed successfully."
                    },
                    "metadata": {}
                },
                {
                    "output_type": "display_data",
                    "data": {
                        "text/html": "(3 rows affected)"
                    },
                    "metadata": {}
                },
                {
                    "output_type": "display_data",
                    "data": {
                        "text/html": "(2 rows affected)"
                    },
                    "metadata": {}
                },
                {
                    "output_type": "display_data",
                    "data": {
                        "text/html": "(1 row affected)"
                    },
                    "metadata": {}
                },
                {
                    "output_type": "display_data",
                    "data": {
                        "text/html": "(1 row affected)"
                    },
                    "metadata": {}
                },
                {
                    "output_type": "display_data",
                    "data": {
                        "text/html": "(4 rows affected)"
                    },
                    "metadata": {}
                },
                {
                    "output_type": "display_data",
                    "data": {
                        "text/html": "(1 row affected)"
                    },
                    "metadata": {}
                },
                {
                    "output_type": "display_data",
                    "data": {
                        "text/html": "Total execution time: 00:00:00.131"
                    },
                    "metadata": {}
                },
                {
                    "output_type": "execute_result",
                    "metadata": {},
                    "execution_count": 6,
                    "data": {
                        "application/vnd.dataresource+json": {
                            "schema": {
                                "fields": [
                                    {
                                        "name": "BookInvoiceID"
                                    }
                                ]
                            },
                            "data": [
                                {
                                    "0": "2"
                                },
                                {
                                    "0": "3"
                                }
                            ]
                        },
                        "text/html": [
                            "<table>",
                            "<tr><th>BookInvoiceID</th></tr>",
                            "<tr><td>2</td></tr>",
                            "<tr><td>3</td></tr>",
                            "</table>"
                        ]
                    }
                },
                {
                    "output_type": "execute_result",
                    "metadata": {},
                    "execution_count": 6,
                    "data": {
                        "application/vnd.dataresource+json": {
                            "schema": {
                                "fields": [
                                    {
                                        "name": "BookID"
                                    }
                                ]
                            },
                            "data": [
                                {
                                    "0": "11"
                                }
                            ]
                        },
                        "text/html": [
                            "<table>",
                            "<tr><th>BookID</th></tr>",
                            "<tr><td>11</td></tr>",
                            "</table>"
                        ]
                    }
                },
                {
                    "output_type": "execute_result",
                    "metadata": {},
                    "execution_count": 6,
                    "data": {
                        "application/vnd.dataresource+json": {
                            "schema": {
                                "fields": [
                                    {
                                        "name": "(No column name)"
                                    }
                                ]
                            },
                            "data": [
                                {
                                    "0": "<OrderItems><Item id=\"11\" qty=\"1\" name=\"MCITP Cliff Notes\" /><Item id=\"24\" qty=\"1\" name=\"T-SQL Crossword Puzzles\" /></OrderItems>"
                                }
                            ]
                        },
                        "text/html": [
                            "<table>",
                            "<tr><th>(No column name)</th></tr>",
                            "<tr><td>&lt;OrderItems&gt;&lt;Item id=&quot;11&quot; qty=&quot;1&quot; name=&quot;MCITP Cliff Notes&quot; /&gt;&lt;Item id=&quot;24&quot; qty=&quot;1&quot; name=&quot;T-SQL Crossword Puzzles&quot; /&gt;&lt;/OrderItems&gt;</td></tr>",
                            "</table>"
                        ]
                    }
                },
                {
                    "output_type": "execute_result",
                    "metadata": {},
                    "execution_count": 6,
                    "data": {
                        "application/vnd.dataresource+json": {
                            "schema": {
                                "fields": [
                                    {
                                        "name": "BookTitles"
                                    }
                                ]
                            },
                            "data": [
                                {
                                    "0": "NULL"
                                },
                                {
                                    "0": "MCITP Cliff Notes"
                                },
                                {
                                    "0": "SQL Fun in the Sun"
                                },
                                {
                                    "0": "T-SQL Crossword Puzzles"
                                }
                            ]
                        },
                        "text/html": [
                            "<table>",
                            "<tr><th>BookTitles</th></tr>",
                            "<tr><td>NULL</td></tr>",
                            "<tr><td>MCITP Cliff Notes</td></tr>",
                            "<tr><td>SQL Fun in the Sun</td></tr>",
                            "<tr><td>T-SQL Crossword Puzzles</td></tr>",
                            "</table>"
                        ]
                    }
                },
                {
                    "output_type": "execute_result",
                    "metadata": {},
                    "execution_count": 6,
                    "data": {
                        "application/vnd.dataresource+json": {
                            "schema": {
                                "fields": [
                                    {
                                        "name": "(No column name)"
                                    }
                                ]
                            },
                            "data": [
                                {
                                    "0": "NULL"
                                }
                            ]
                        },
                        "text/html": [
                            "<table>",
                            "<tr><th>(No column name)</th></tr>",
                            "<tr><td>NULL</td></tr>",
                            "</table>"
                        ]
                    }
                }
            ],
            "execution_count": 6
        },
        {
            "cell_type": "code",
            "source": [
                "-- recipe 25-6\r\n",
                "SELECT BookInvoiceXML \r\n",
                "FROM dbo.BookInvoice \r\n",
                "WHERE BookInvoiceID = 2;\r\n",
                "\r\n",
                "UPDATE dbo.BookInvoice\r\n",
                "SET BookInvoiceXML.modify\r\n",
                "('insert <Item id=\"920\" qty=\"l\" name=\"SQL Server 2014 Transact-SOL Recipes\"/>\r\n",
                "into (/BookInvoice/OrderItems)[1]')\r\n",
                "WHERE BookInvoiceID = 2;\r\n",
                "\r\n",
                "SELECT BookInvoiceXML \r\n",
                "FROM dbo.BookInvoice \r\n",
                "WHERE BookInvoiceID = 2;\r\n",
                ""
            ],
            "metadata": {
                "azdata_cell_guid": "a6c5a981-2306-4e7e-87a1-13e4936e3185"
            },
            "outputs": [
                {
                    "output_type": "display_data",
                    "data": {
                        "text/html": "(1 row affected)"
                    },
                    "metadata": {}
                },
                {
                    "output_type": "display_data",
                    "data": {
                        "text/html": "(1 row affected)"
                    },
                    "metadata": {}
                },
                {
                    "output_type": "display_data",
                    "data": {
                        "text/html": "(1 row affected)"
                    },
                    "metadata": {}
                },
                {
                    "output_type": "display_data",
                    "data": {
                        "text/html": "Total execution time: 00:00:00.082"
                    },
                    "metadata": {}
                },
                {
                    "output_type": "execute_result",
                    "metadata": {},
                    "execution_count": 7,
                    "data": {
                        "application/vnd.dataresource+json": {
                            "schema": {
                                "fields": [
                                    {
                                        "name": "BookInvoiceXML"
                                    }
                                ]
                            },
                            "data": [
                                {
                                    "0": "<BookInvoice invoicenumber=\"1\" customerid=\"40\" orderdate=\"2008-07-11Z\"><OrderItems><Item id=\"11\" qty=\"1\" name=\"MCITP Cliff Notes\" /></OrderItems></BookInvoice>"
                                }
                            ]
                        },
                        "text/html": [
                            "<table>",
                            "<tr><th>BookInvoiceXML</th></tr>",
                            "<tr><td>&lt;BookInvoice invoicenumber=&quot;1&quot; customerid=&quot;40&quot; orderdate=&quot;2008-07-11Z&quot;&gt;&lt;OrderItems&gt;&lt;Item id=&quot;11&quot; qty=&quot;1&quot; name=&quot;MCITP Cliff Notes&quot; /&gt;&lt;/OrderItems&gt;&lt;/BookInvoice&gt;</td></tr>",
                            "</table>"
                        ]
                    }
                },
                {
                    "output_type": "execute_result",
                    "metadata": {},
                    "execution_count": 7,
                    "data": {
                        "application/vnd.dataresource+json": {
                            "schema": {
                                "fields": [
                                    {
                                        "name": "BookInvoiceXML"
                                    }
                                ]
                            },
                            "data": [
                                {
                                    "0": "<BookInvoice invoicenumber=\"1\" customerid=\"40\" orderdate=\"2008-07-11Z\"><OrderItems><Item id=\"11\" qty=\"1\" name=\"MCITP Cliff Notes\" /><Item id=\"920\" qty=\"l\" name=\"SQL Server 2014 Transact-SOL Recipes\" /></OrderItems></BookInvoice>"
                                }
                            ]
                        },
                        "text/html": [
                            "<table>",
                            "<tr><th>BookInvoiceXML</th></tr>",
                            "<tr><td>&lt;BookInvoice invoicenumber=&quot;1&quot; customerid=&quot;40&quot; orderdate=&quot;2008-07-11Z&quot;&gt;&lt;OrderItems&gt;&lt;Item id=&quot;11&quot; qty=&quot;1&quot; name=&quot;MCITP Cliff Notes&quot; /&gt;&lt;Item id=&quot;920&quot; qty=&quot;l&quot; name=&quot;SQL Server 2014 Transact-SOL Recipes&quot; /&gt;&lt;/OrderItems&gt;&lt;/BookInvoice&gt;</td></tr>",
                            "</table>"
                        ]
                    }
                }
            ],
            "execution_count": 7
        },
        {
            "cell_type": "code",
            "source": [
                "-- recipe 25-7\r\n",
                "CREATE PRIMARY XML INDEX idx_XML_Primary_Book_ChapterDESC\r\n",
                "ON dbo.Book(ChapterDesc); \r\n",
                "\r\n",
                "CREATE XML INDEX idx_XML_Value_Book_ChapterDESC ON dbo.Book(ChapterDESC)\r\n",
                "USING XML INDEX idx_XML_Primary_Book_ChapterDESC FOR VALUE;\r\n",
                ""
            ],
            "metadata": {
                "azdata_cell_guid": "96adac03-a92f-4ce7-b22e-d5f775da83e1"
            },
            "outputs": [
                {
                    "output_type": "display_data",
                    "data": {
                        "text/html": "Commands completed successfully."
                    },
                    "metadata": {}
                },
                {
                    "output_type": "display_data",
                    "data": {
                        "text/html": "Total execution time: 00:00:00.057"
                    },
                    "metadata": {}
                }
            ],
            "execution_count": 8
        },
        {
            "cell_type": "code",
            "source": [
                "-- recipe 25-8\r\n",
                "SELECT  ShiftID,\r\n",
                "        Name\r\n",
                "FROM    AdventureWorks2014.HumanResources.[Shift]\r\n",
                "FOR     XML RAW('Shift'),\r\n",
                "            ROOT('Shifts'),\r\n",
                "            TYPE;\r\n",
                "\r\n",
                "SELECT TOP 3\r\n",
                "        BusinessEntityID,\r\n",
                "        Shift.Name,\r\n",
                "        Department.Name\r\n",
                "FROM    AdventureWorks2014.HumanResources.EmployeeDepartmentHistory Employee\r\n",
                "        INNER JOIN AdventureWorks2014.HumanResources.Shift Shift\r\n",
                "            ON Employee.ShiftID = Shift.ShiftID\r\n",
                "        INNER JOIN AdventureWorks2014.HumanResources.Department Department\r\n",
                "            ON Employee.DepartmentID = Department.DepartmentID\r\n",
                "ORDER BY BusinessEntityID\r\n",
                "FOR     XML AUTO,\r\n",
                "            TYPE;\r\n",
                "\r\n",
                "SELECT TOP 3\r\n",
                "        Shift.Name,\r\n",
                "        Department.Name,\r\n",
                "        BusinessEntityID\r\n",
                "FROM    AdventureWorks2014.HumanResources.EmployeeDepartmentHistory Employee\r\n",
                "        INNER JOIN AdventureWorks2014.HumanResources.Shift Shift\r\n",
                "            ON Employee.ShiftID = Shift.ShiftID\r\n",
                "        INNER JOIN AdventureWorks2014.HumanResources.Department Department\r\n",
                "            ON Employee.DepartmentID = Department.DepartmentID\r\n",
                "ORDER BY Shift.Name,\r\n",
                "        Department.Name,\r\n",
                "        BusinessEntityID\r\n",
                "FOR     XML AUTO,\r\n",
                "            TYPE;\r\n",
                "\r\n",
                "SELECT TOP 3\r\n",
                "        1 AS Tag,\r\n",
                "        NULL AS Parent,\r\n",
                "        BusinessEntityID AS [Vendor!1!VendorID],\r\n",
                "        Name AS [Vendor!1!VendorName!ELEMENT],\r\n",
                "        CreditRating AS [Vendor!1!CreditRating]\r\n",
                "FROM    AdventureWorks2014.Purchasing.Vendor\r\n",
                "ORDER BY CreditRating\r\n",
                "FOR     XML EXPLICIT,\r\n",
                "            TYPE;\r\n",
                "\r\n",
                "SELECT  Name AS \"@Territory\",\r\n",
                "        CountryRegionCode AS \"@Region\",\r\n",
                "        SalesYTD\r\n",
                "FROM    AdventureWorks2014.Sales.SalesTerritory\r\n",
                "WHERE   SalesYTD > 6000000\r\n",
                "ORDER BY SalesYTD DESC\r\n",
                "FOR     XML PATH('TerritorySales'),\r\n",
                "            ROOT('CompanySales'),\r\n",
                "            TYPE;\r\n",
                "\r\n",
                "SELECT  Name AS \"Territory\",\r\n",
                "        CountryRegionCode AS \"Territory/Region\",\r\n",
                "        SalesYTD AS \"Territory/Region/YTDSales\"\r\n",
                "FROM    AdventureWorks2014.Sales.SalesTerritory\r\n",
                "WHERE   SalesYTD > 6000000\r\n",
                "ORDER BY SalesYTD DESC\r\n",
                "FOR     XML PATH('TerritorySales'),\r\n",
                "            ROOT('CompanySales'),\r\n",
                "            TYPE;"
            ],
            "metadata": {
                "azdata_cell_guid": "1738fd16-6d4e-4bf2-8b79-1e60ea1fc6c7"
            },
            "outputs": [
                {
                    "output_type": "display_data",
                    "data": {
                        "text/html": "(1 row affected)"
                    },
                    "metadata": {}
                },
                {
                    "output_type": "display_data",
                    "data": {
                        "text/html": "(1 row affected)"
                    },
                    "metadata": {}
                },
                {
                    "output_type": "display_data",
                    "data": {
                        "text/html": "(1 row affected)"
                    },
                    "metadata": {}
                },
                {
                    "output_type": "display_data",
                    "data": {
                        "text/html": "(1 row affected)"
                    },
                    "metadata": {}
                },
                {
                    "output_type": "display_data",
                    "data": {
                        "text/html": "(1 row affected)"
                    },
                    "metadata": {}
                },
                {
                    "output_type": "display_data",
                    "data": {
                        "text/html": "(1 row affected)"
                    },
                    "metadata": {}
                },
                {
                    "output_type": "display_data",
                    "data": {
                        "text/html": "Total execution time: 00:00:00.257"
                    },
                    "metadata": {}
                },
                {
                    "output_type": "execute_result",
                    "metadata": {},
                    "execution_count": 9,
                    "data": {
                        "application/vnd.dataresource+json": {
                            "schema": {
                                "fields": [
                                    {
                                        "name": "(No column name)"
                                    }
                                ]
                            },
                            "data": [
                                {
                                    "0": "<Shifts><Shift ShiftID=\"1\" Name=\"Day\" /><Shift ShiftID=\"2\" Name=\"Evening\" /><Shift ShiftID=\"3\" Name=\"Night\" /></Shifts>"
                                }
                            ]
                        },
                        "text/html": [
                            "<table>",
                            "<tr><th>(No column name)</th></tr>",
                            "<tr><td>&lt;Shifts&gt;&lt;Shift ShiftID=&quot;1&quot; Name=&quot;Day&quot; /&gt;&lt;Shift ShiftID=&quot;2&quot; Name=&quot;Evening&quot; /&gt;&lt;Shift ShiftID=&quot;3&quot; Name=&quot;Night&quot; /&gt;&lt;/Shifts&gt;</td></tr>",
                            "</table>"
                        ]
                    }
                },
                {
                    "output_type": "execute_result",
                    "metadata": {},
                    "execution_count": 9,
                    "data": {
                        "application/vnd.dataresource+json": {
                            "schema": {
                                "fields": [
                                    {
                                        "name": "(No column name)"
                                    }
                                ]
                            },
                            "data": [
                                {
                                    "0": "<Employee BusinessEntityID=\"1\"><Shift Name=\"Day\"><Department Name=\"Executive\" /></Shift></Employee><Employee BusinessEntityID=\"2\"><Shift Name=\"Day\"><Department Name=\"Engineering\" /></Shift></Employee><Employee BusinessEntityID=\"3\"><Shift Name=\"Day\"><Department Name=\"Engineering\" /></Shift></Employee>"
                                }
                            ]
                        },
                        "text/html": [
                            "<table>",
                            "<tr><th>(No column name)</th></tr>",
                            "<tr><td>&lt;Employee BusinessEntityID=&quot;1&quot;&gt;&lt;Shift Name=&quot;Day&quot;&gt;&lt;Department Name=&quot;Executive&quot; /&gt;&lt;/Shift&gt;&lt;/Employee&gt;&lt;Employee BusinessEntityID=&quot;2&quot;&gt;&lt;Shift Name=&quot;Day&quot;&gt;&lt;Department Name=&quot;Engineering&quot; /&gt;&lt;/Shift&gt;&lt;/Employee&gt;&lt;Employee BusinessEntityID=&quot;3&quot;&gt;&lt;Shift Name=&quot;Day&quot;&gt;&lt;Department Name=&quot;Engineering&quot; /&gt;&lt;/Shift&gt;&lt;/Employee&gt;</td></tr>",
                            "</table>"
                        ]
                    }
                },
                {
                    "output_type": "execute_result",
                    "metadata": {},
                    "execution_count": 9,
                    "data": {
                        "application/vnd.dataresource+json": {
                            "schema": {
                                "fields": [
                                    {
                                        "name": "(No column name)"
                                    }
                                ]
                            },
                            "data": [
                                {
                                    "0": "<Shift Name=\"Day\"><Department Name=\"Document Control\"><Employee BusinessEntityID=\"217\" /><Employee BusinessEntityID=\"219\" /><Employee BusinessEntityID=\"220\" /></Department></Shift>"
                                }
                            ]
                        },
                        "text/html": [
                            "<table>",
                            "<tr><th>(No column name)</th></tr>",
                            "<tr><td>&lt;Shift Name=&quot;Day&quot;&gt;&lt;Department Name=&quot;Document Control&quot;&gt;&lt;Employee BusinessEntityID=&quot;217&quot; /&gt;&lt;Employee BusinessEntityID=&quot;219&quot; /&gt;&lt;Employee BusinessEntityID=&quot;220&quot; /&gt;&lt;/Department&gt;&lt;/Shift&gt;</td></tr>",
                            "</table>"
                        ]
                    }
                },
                {
                    "output_type": "execute_result",
                    "metadata": {},
                    "execution_count": 9,
                    "data": {
                        "application/vnd.dataresource+json": {
                            "schema": {
                                "fields": [
                                    {
                                        "name": "(No column name)"
                                    }
                                ]
                            },
                            "data": [
                                {
                                    "0": "<Vendor VendorID=\"1496\" CreditRating=\"1\"><VendorName>Advanced Bicycles</VendorName></Vendor><Vendor VendorID=\"1492\" CreditRating=\"1\"><VendorName>Australia Bike Retailer</VendorName></Vendor><Vendor VendorID=\"1500\" CreditRating=\"1\"><VendorName>Morgan Bike Accessories</VendorName></Vendor>"
                                }
                            ]
                        },
                        "text/html": [
                            "<table>",
                            "<tr><th>(No column name)</th></tr>",
                            "<tr><td>&lt;Vendor VendorID=&quot;1496&quot; CreditRating=&quot;1&quot;&gt;&lt;VendorName&gt;Advanced Bicycles&lt;/VendorName&gt;&lt;/Vendor&gt;&lt;Vendor VendorID=&quot;1492&quot; CreditRating=&quot;1&quot;&gt;&lt;VendorName&gt;Australia Bike Retailer&lt;/VendorName&gt;&lt;/Vendor&gt;&lt;Vendor VendorID=&quot;1500&quot; CreditRating=&quot;1&quot;&gt;&lt;VendorName&gt;Morgan Bike Accessories&lt;/VendorName&gt;&lt;/Vendor&gt;</td></tr>",
                            "</table>"
                        ]
                    }
                },
                {
                    "output_type": "execute_result",
                    "metadata": {},
                    "execution_count": 9,
                    "data": {
                        "application/vnd.dataresource+json": {
                            "schema": {
                                "fields": [
                                    {
                                        "name": "(No column name)"
                                    }
                                ]
                            },
                            "data": [
                                {
                                    "0": "<CompanySales><TerritorySales Territory=\"Southwest\" Region=\"US\"><SalesYTD>10510853.8739</SalesYTD></TerritorySales><TerritorySales Territory=\"Northwest\" Region=\"US\"><SalesYTD>7887186.7882</SalesYTD></TerritorySales><TerritorySales Territory=\"Canada\" Region=\"CA\"><SalesYTD>6771829.1376</SalesYTD></TerritorySales></CompanySales>"
                                }
                            ]
                        },
                        "text/html": [
                            "<table>",
                            "<tr><th>(No column name)</th></tr>",
                            "<tr><td>&lt;CompanySales&gt;&lt;TerritorySales Territory=&quot;Southwest&quot; Region=&quot;US&quot;&gt;&lt;SalesYTD&gt;10510853.8739&lt;/SalesYTD&gt;&lt;/TerritorySales&gt;&lt;TerritorySales Territory=&quot;Northwest&quot; Region=&quot;US&quot;&gt;&lt;SalesYTD&gt;7887186.7882&lt;/SalesYTD&gt;&lt;/TerritorySales&gt;&lt;TerritorySales Territory=&quot;Canada&quot; Region=&quot;CA&quot;&gt;&lt;SalesYTD&gt;6771829.1376&lt;/SalesYTD&gt;&lt;/TerritorySales&gt;&lt;/CompanySales&gt;</td></tr>",
                            "</table>"
                        ]
                    }
                },
                {
                    "output_type": "execute_result",
                    "metadata": {},
                    "execution_count": 9,
                    "data": {
                        "application/vnd.dataresource+json": {
                            "schema": {
                                "fields": [
                                    {
                                        "name": "(No column name)"
                                    }
                                ]
                            },
                            "data": [
                                {
                                    "0": "<CompanySales><TerritorySales><Territory>Southwest<Region>US<YTDSales>10510853.8739</YTDSales></Region></Territory></TerritorySales><TerritorySales><Territory>Northwest<Region>US<YTDSales>7887186.7882</YTDSales></Region></Territory></TerritorySales><TerritorySales><Territory>Canada<Region>CA<YTDSales>6771829.1376</YTDSales></Region></Territory></TerritorySales></CompanySales>"
                                }
                            ]
                        },
                        "text/html": [
                            "<table>",
                            "<tr><th>(No column name)</th></tr>",
                            "<tr><td>&lt;CompanySales&gt;&lt;TerritorySales&gt;&lt;Territory&gt;Southwest&lt;Region&gt;US&lt;YTDSales&gt;10510853.8739&lt;/YTDSales&gt;&lt;/Region&gt;&lt;/Territory&gt;&lt;/TerritorySales&gt;&lt;TerritorySales&gt;&lt;Territory&gt;Northwest&lt;Region&gt;US&lt;YTDSales&gt;7887186.7882&lt;/YTDSales&gt;&lt;/Region&gt;&lt;/Territory&gt;&lt;/TerritorySales&gt;&lt;TerritorySales&gt;&lt;Territory&gt;Canada&lt;Region&gt;CA&lt;YTDSales&gt;6771829.1376&lt;/YTDSales&gt;&lt;/Region&gt;&lt;/Territory&gt;&lt;/TerritorySales&gt;&lt;/CompanySales&gt;</td></tr>",
                            "</table>"
                        ]
                    }
                }
            ],
            "execution_count": 9
        },
        {
            "cell_type": "code",
            "source": [
                "-- recipe 25-9\r\n",
                "DECLARE @XMLdoc XML,\r\n",
                "        @iDoc   INTEGER;\r\n",
                "SET  @XMLdoc  =\r\n",
                "'<Book  name=\"SQL Server 2000 Fast Answers\">\r\n",
                "    <Chapters>\r\n",
                "        <Chapter  id=\"1\"  name=\"Installation, Upgrades\"/>\r\n",
                "        <Chapter  id=\"2\"  name=\"Configuring SQL Server\"/>\r\n",
                "        <Chapter  id=\"3\"  name=\"Creating and Configuring Databases\"/>\r\n",
                "        <Chapter  id=\"4\"  name=\"SQL Server Agent and SQL Logs\"/>\r\n",
                "    </Chapters>\r\n",
                "</Book>';\r\n",
                "\r\n",
                "EXECUTE sp_XML_preparedocument @iDoc OUTPUT, @XMLdoc;\r\n",
                "\r\n",
                "SELECT Chapter, ChapterNm\r\n",
                "FROM OPENXML(@iDoc, '/Book/Chapters/Chapter', 0)\r\n",
                "WITH (Chapter INT '@id', ChapterNm VARCHAR(50) '@name');\r\n",
                "\r\n",
                "EXECUTE sp_xml_removedocument @idoc;"
            ],
            "metadata": {
                "azdata_cell_guid": "e879073c-e1e8-4661-9bd4-3197f4af172a"
            },
            "outputs": [
                {
                    "output_type": "display_data",
                    "data": {
                        "text/html": "(4 rows affected)"
                    },
                    "metadata": {}
                },
                {
                    "output_type": "display_data",
                    "data": {
                        "text/html": "Total execution time: 00:00:00.135"
                    },
                    "metadata": {}
                },
                {
                    "output_type": "execute_result",
                    "metadata": {},
                    "execution_count": 10,
                    "data": {
                        "application/vnd.dataresource+json": {
                            "schema": {
                                "fields": [
                                    {
                                        "name": "Chapter"
                                    },
                                    {
                                        "name": "ChapterNm"
                                    }
                                ]
                            },
                            "data": [
                                {
                                    "0": "1",
                                    "1": "Installation, Upgrades"
                                },
                                {
                                    "0": "2",
                                    "1": "Configuring SQL Server"
                                },
                                {
                                    "0": "3",
                                    "1": "Creating and Configuring Databases"
                                },
                                {
                                    "0": "4",
                                    "1": "SQL Server Agent and SQL Logs"
                                }
                            ]
                        },
                        "text/html": [
                            "<table>",
                            "<tr><th>Chapter</th><th>ChapterNm</th></tr>",
                            "<tr><td>1</td><td>Installation, Upgrades</td></tr>",
                            "<tr><td>2</td><td>Configuring SQL Server</td></tr>",
                            "<tr><td>3</td><td>Creating and Configuring Databases</td></tr>",
                            "<tr><td>4</td><td>SQL Server Agent and SQL Logs</td></tr>",
                            "</table>"
                        ]
                    }
                }
            ],
            "execution_count": 10
        },
        {
            "cell_type": "code",
            "source": [
                "-- recipe 25-10\r\n",
                "SELECT STUFF((SELECT TOP (25) ',' + CONVERT(VARCHAR(15), BusinessEntityID)\r\n",
                "              FROM AdventureWorks2014.HumanResources.Employee\r\n",
                "              ORDER BY BusinessEntityID\r\n",
                "              FOR XML PATH(''), TYPE).value('.','varchar(max)'),1,1,'');\r\n",
                "\r\n",
                "-- cleanup\r\n",
                "IF OBJECT_ID('dbo.Book') IS NOT NULL DROP TABLE dbo.Book;\r\n",
                "IF OBJECT_ID('dbo.INS_Book','P') IS NOT NULL DROP PROCEDURE dbo.INS_Book;\r\n",
                "IF OBJECT_ID('dbo.BookInfoExport') IS NOT NULL DROP TABLE dbo.BookInfoExport;\r\n",
                "IF OBJECT_ID('dbo.BookInvoice') IS NOT NULL DROP TABLE dbo.BookInvoice;\r\n",
                "\r\n",
                "IF EXISTS (SELECT * FROM sys.xml_schema_collections WHERE name = 'BookStoreCollection')\r\n",
                "DROP XML SCHEMA COLLECTION BookStoreCollection;\r\n",
                "-- "
            ],
            "metadata": {
                "azdata_cell_guid": "c70bdd79-c5a4-40a9-a386-dd81f6070f58"
            },
            "outputs": [
                {
                    "output_type": "display_data",
                    "data": {
                        "text/html": "(1 row affected)"
                    },
                    "metadata": {}
                },
                {
                    "output_type": "display_data",
                    "data": {
                        "text/html": "Total execution time: 00:00:00.062"
                    },
                    "metadata": {}
                },
                {
                    "output_type": "execute_result",
                    "metadata": {},
                    "execution_count": 11,
                    "data": {
                        "application/vnd.dataresource+json": {
                            "schema": {
                                "fields": [
                                    {
                                        "name": "(No column name)"
                                    }
                                ]
                            },
                            "data": [
                                {
                                    "0": "1,2,3,4,5,6,7,8,9,10,11,12,13,14,15,16,17,18,19,20,21,22,23,24,25"
                                }
                            ]
                        },
                        "text/html": [
                            "<table>",
                            "<tr><th>(No column name)</th></tr>",
                            "<tr><td>1,2,3,4,5,6,7,8,9,10,11,12,13,14,15,16,17,18,19,20,21,22,23,24,25</td></tr>",
                            "</table>"
                        ]
                    }
                }
            ],
            "execution_count": 11
        }
    ]
}