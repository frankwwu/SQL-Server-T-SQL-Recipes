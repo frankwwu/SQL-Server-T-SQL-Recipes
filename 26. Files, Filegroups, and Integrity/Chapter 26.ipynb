{
    "metadata": {
        "kernelspec": {
            "name": "SQL",
            "display_name": "SQL",
            "language": "sql"
        },
        "language_info": {
            "name": "sql",
            "version": ""
        }
    },
    "nbformat_minor": 2,
    "nbformat": 4,
    "cells": [
        {
            "cell_type": "code",
            "source": [
                "SET NOCOUNT ON;\r\n",
                "EXECUTE sys.xp_create_subdir 'N:\\Apress\\';\r\n",
                "EXECUTE sys.xp_create_subdir 'O:\\Apress\\';\r\n",
                "EXECUTE sys.xp_create_subdir 'P:\\Apress\\';"
            ],
            "metadata": {
                "azdata_cell_guid": "9804a744-bc6e-4ebc-8131-d22d6711bc96"
            },
            "outputs": [
                {
                    "output_type": "display_data",
                    "data": {
                        "text/html": "Commands completed successfully."
                    },
                    "metadata": {}
                },
                {
                    "output_type": "display_data",
                    "data": {
                        "text/html": "Total execution time: 00:00:00.039"
                    },
                    "metadata": {}
                }
            ],
            "execution_count": 1
        },
        {
            "cell_type": "code",
            "source": [
                "USE master;\r\n",
                "GO\r\n",
                "IF DB_ID('BookStoreArchive') IS NOT NULL DROP DATABASE BookStoreArchive;\r\n",
                "GO"
            ],
            "metadata": {
                "azdata_cell_guid": "c4629d0c-8223-41a8-b784-9ccb2cdbead7"
            },
            "outputs": [
                {
                    "output_type": "display_data",
                    "data": {
                        "text/html": "Commands completed successfully."
                    },
                    "metadata": {}
                },
                {
                    "output_type": "display_data",
                    "data": {
                        "text/html": "Commands completed successfully."
                    },
                    "metadata": {}
                },
                {
                    "output_type": "display_data",
                    "data": {
                        "text/html": "Total execution time: 00:00:00.027"
                    },
                    "metadata": {}
                }
            ],
            "execution_count": 2
        },
        {
            "cell_type": "code",
            "source": [
                "CREATE DATABASE BookStoreArchive \r\n",
                "ON PRIMARY\r\n",
                "(NAME = 'BookStoreArchive', \r\n",
                " FILENAME = 'N:\\Apress\\BookStoreArchive.MDF', \r\n",
                " SIZE = 4MB, \r\n",
                " MAXSIZE = UNLIMITED, \r\n",
                " FILEGROWTH = 10MB)\r\n",
                "LOG ON\r\n",
                "(NAME = 'BookStoreArchive_log', \r\n",
                " FILENAME = 'P:\\Apress\\BookStoreArchive_log.LDF', \r\n",
                " SIZE = 512KB, \r\n",
                " MAXSIZE = UNLIMITED, \r\n",
                " FILEGROWTH = 512KB);"
            ],
            "metadata": {
                "azdata_cell_guid": "2f16e21d-9aa7-47cc-a189-a7580787c53c"
            },
            "outputs": [
                {
                    "output_type": "display_data",
                    "data": {
                        "text/html": "Commands completed successfully."
                    },
                    "metadata": {}
                },
                {
                    "output_type": "display_data",
                    "data": {
                        "text/html": "Total execution time: 00:00:03.847"
                    },
                    "metadata": {}
                }
            ],
            "execution_count": 3
        },
        {
            "cell_type": "code",
            "source": [
                "-- recipe 26-1\r\n",
                "ALTER DATABASE BookStoreArchive\r\n",
                "ADD FILE\r\n",
                "(  NAME = 'BookStoreArchive2',\r\n",
                "FILENAME = 'O:\\Apress\\BookStoreArchive2.NDF' ,\r\n",
                "SIZE = 1MB ,\r\n",
                "MAXSIZE = 10MB,\r\n",
                "FILEGROWTH = 1MB ) \r\n",
                "TO FILEGROUP [PRIMARY];\r\n",
                "\r\n",
                "ALTER DATABASE BookStoreArchive\r\n",
                "ADD LOG FILE\r\n",
                "(  NAME = 'BookStoreArchive2Log',\r\n",
                "FILENAME = 'P:\\Apress\\BookStoreArchive2_log.LDF' ,\r\n",
                "SIZE = 1MB ,\r\n",
                "MAXSIZE = 5MB,\r\n",
                "FILEGROWTH = 1MB );\r\n",
                "GO"
            ],
            "metadata": {
                "azdata_cell_guid": "8315fe96-6b1a-4ead-bf08-d6f0f5f431c1"
            },
            "outputs": [
                {
                    "output_type": "display_data",
                    "data": {
                        "text/html": "Commands completed successfully."
                    },
                    "metadata": {}
                },
                {
                    "output_type": "display_data",
                    "data": {
                        "text/html": "Total execution time: 00:00:00.982"
                    },
                    "metadata": {}
                }
            ],
            "execution_count": 4
        },
        {
            "cell_type": "code",
            "source": [
                "-- recipe 26-2\r\n",
                "ALTER DATABASE BookStoreArchive REMOVE FILE BookStoreArchive2;"
            ],
            "metadata": {
                "azdata_cell_guid": "dec9fb7f-faaf-44da-950d-09bc1a2c1b08"
            },
            "outputs": [
                {
                    "output_type": "display_data",
                    "data": {
                        "text/html": "The file 'BookStoreArchive2' has been removed."
                    },
                    "metadata": {}
                },
                {
                    "output_type": "display_data",
                    "data": {
                        "text/html": "Total execution time: 00:00:00.365"
                    },
                    "metadata": {}
                }
            ],
            "execution_count": 5
        },
        {
            "cell_type": "code",
            "source": [
                "-- recipe 26-3\r\n",
                "ALTER DATABASE BookStoreArchive\r\n",
                "MODIFY FILE\r\n",
                "(NAME = 'BookStoreArchive', FILENAME = 'O:\\Apress\\BookStoreArchive.mdf')\r\n",
                "GO"
            ],
            "metadata": {
                "azdata_cell_guid": "eaa81cc2-e697-4d02-9ca4-7112ca2a8428"
            },
            "outputs": [
                {
                    "output_type": "display_data",
                    "data": {
                        "text/html": "The file \"BookStoreArchive\" has been modified in the system catalog. The new path will be used the next time the database is started."
                    },
                    "metadata": {}
                },
                {
                    "output_type": "display_data",
                    "data": {
                        "text/html": "Total execution time: 00:00:00.006"
                    },
                    "metadata": {}
                }
            ],
            "execution_count": 6
        },
        {
            "cell_type": "code",
            "source": [
                "USE master;\r\n",
                "GO\r\n",
                "ALTER DATABASE BookStoreArchive SET RESTRICTED_USER WITH ROLLBACK IMMEDIATE;\r\n",
                "GO\r\n",
                "ALTER DATABASE BookStoreArchive SET OFFLINE;\r\n",
                "GO\r\n",
                "-- Move BookStoreArchive.mdf file from N:\\Apress\\ to O:\\Apress now.\r\n",
                "-- On my Windows 7 PC, I had to use Administrator access to move the file.\r\n",
                "-- On other operating systems, you may have to modify file/folder permissions\r\n",
                "-- to prevent an access denied error."
            ],
            "metadata": {
                "azdata_cell_guid": "22e08392-9ae8-4576-85fc-22e15b790bc1"
            },
            "outputs": [
                {
                    "output_type": "display_data",
                    "data": {
                        "text/html": "Commands completed successfully."
                    },
                    "metadata": {}
                },
                {
                    "output_type": "display_data",
                    "data": {
                        "text/html": "Commands completed successfully."
                    },
                    "metadata": {}
                },
                {
                    "output_type": "display_data",
                    "data": {
                        "text/html": "Commands completed successfully."
                    },
                    "metadata": {}
                },
                {
                    "output_type": "display_data",
                    "data": {
                        "text/html": "Commands completed successfully."
                    },
                    "metadata": {}
                },
                {
                    "output_type": "display_data",
                    "data": {
                        "text/html": "Total execution time: 00:00:00.086"
                    },
                    "metadata": {}
                }
            ],
            "execution_count": 7
        },
        {
            "cell_type": "code",
            "source": [
                "USE master;\r\n",
                "GO\r\n",
                "ALTER DATABASE BookStoreArchive SET ONLINE;\r\n",
                "GO\r\n",
                "ALTER DATABASE BookStoreArchive SET MULTI_USER WITH ROLLBACK IMMEDIATE;\r\n",
                "GO"
            ],
            "metadata": {
                "azdata_cell_guid": "42010a0e-1691-40cd-9935-bd8bbbd42636",
                "tags": [
                    "hide_input"
                ]
            },
            "outputs": [
                {
                    "output_type": "display_data",
                    "data": {
                        "text/html": "Commands completed successfully."
                    },
                    "metadata": {}
                },
                {
                    "output_type": "error",
                    "evalue": "Msg 5120, Level 16, State 101, Line 3\r\nUnable to open the physical file \"O:\\Apress\\BookStoreArchive.mdf\". Operating system error 2: \"2(The system cannot find the file specified.)\".",
                    "ename": "",
                    "traceback": []
                },
                {
                    "output_type": "error",
                    "evalue": "Msg 5181, Level 16, State 5, Line 3\r\nCould not restart database \"BookStoreArchive\". Reverting to the previous status.",
                    "ename": "",
                    "traceback": []
                },
                {
                    "output_type": "error",
                    "evalue": "Msg 5069, Level 16, State 1, Line 3\r\nALTER DATABASE statement failed.",
                    "ename": "",
                    "traceback": []
                },
                {
                    "output_type": "error",
                    "evalue": "Msg 5120, Level 16, State 101, Line 5\r\nUnable to open the physical file \"O:\\Apress\\BookStoreArchive.mdf\". Operating system error 2: \"2(The system cannot find the file specified.)\".",
                    "ename": "",
                    "traceback": []
                },
                {
                    "output_type": "error",
                    "evalue": "Msg 5181, Level 16, State 5, Line 5\r\nCould not restart database \"BookStoreArchive\". Reverting to the previous status.",
                    "ename": "",
                    "traceback": []
                },
                {
                    "output_type": "error",
                    "evalue": "Msg 5069, Level 16, State 1, Line 5\r\nALTER DATABASE statement failed.",
                    "ename": "",
                    "traceback": []
                },
                {
                    "output_type": "display_data",
                    "data": {
                        "text/html": "Total execution time: 00:00:00.115"
                    },
                    "metadata": {}
                }
            ],
            "execution_count": 8
        },
        {
            "cell_type": "code",
            "source": [
                "-- recipe 26-4\r\n",
                "SELECT  name\r\n",
                "FROM    BookStoreArchive.sys.database_files;\r\n",
                "\r\n",
                "ALTER DATABASE BookStoreArchive\r\n",
                "MODIFY FILE\r\n",
                "(NAME = 'BookStoreArchive',\r\n",
                "NEWNAME = 'BookStoreArchive_Data');\r\n",
                "\r\n",
                "SELECT  name\r\n",
                "FROM    BookStoreArchive.sys.database_files;"
            ],
            "metadata": {
                "azdata_cell_guid": "417a1f5f-c0a9-4609-b55a-f43640cc678c"
            },
            "outputs": [
                {
                    "output_type": "error",
                    "evalue": "Msg 945, Level 14, State 2, Line 2\r\nDatabase 'BookStoreArchive' cannot be opened due to inaccessible files or insufficient memory or disk space.  See the SQL Server errorlog for details.",
                    "ename": "",
                    "traceback": []
                },
                {
                    "output_type": "display_data",
                    "data": {
                        "text/html": "Total execution time: 00:00:00.011"
                    },
                    "metadata": {}
                }
            ],
            "execution_count": 9
        },
        {
            "cell_type": "code",
            "source": [
                "-- recipe 26-5\r\n",
                "SELECT name, size FROM BookStoreArchive.sys.database_files;\r\n",
                "\r\n",
                "ALTER DATABASE BookStoreArchive\r\n",
                "MODIFY FILE\r\n",
                "(NAME = 'BookStoreArchive_Data',\r\n",
                " SIZE = 5MB);\r\n",
                "\r\n",
                "SELECT name, size FROM BookStoreArchive.sys.database_files;"
            ],
            "metadata": {
                "azdata_cell_guid": "54994202-3caa-4de8-98b5-3245dad29865"
            },
            "outputs": [
                {
                    "output_type": "error",
                    "evalue": "Msg 945, Level 14, State 2, Line 2\r\nDatabase 'BookStoreArchive' cannot be opened due to inaccessible files or insufficient memory or disk space.  See the SQL Server errorlog for details.",
                    "ename": "",
                    "traceback": []
                },
                {
                    "output_type": "display_data",
                    "data": {
                        "text/html": "Total execution time: 00:00:00.004"
                    },
                    "metadata": {}
                }
            ],
            "execution_count": 10
        },
        {
            "cell_type": "code",
            "source": [
                "-- recipe 26-6\r\n",
                "ALTER DATABASE BookStoreArchive\r\n",
                "ADD FILEGROUP FG2;\r\n",
                "GO"
            ],
            "metadata": {
                "azdata_cell_guid": "786c4b2a-eb4c-4f76-9327-b3f143b6b0a3"
            },
            "outputs": [
                {
                    "output_type": "error",
                    "evalue": "Msg 945, Level 14, State 2, Line 2\r\nDatabase 'BookStoreArchive' cannot be opened due to inaccessible files or insufficient memory or disk space.  See the SQL Server errorlog for details.",
                    "ename": "",
                    "traceback": []
                },
                {
                    "output_type": "display_data",
                    "data": {
                        "text/html": "Total execution time: 00:00:00.005"
                    },
                    "metadata": {}
                }
            ],
            "execution_count": 11
        },
        {
            "cell_type": "code",
            "source": [
                "-- recipe 26-7\r\n",
                "ALTER DATABASE BookStoreArchive\r\n",
                "ADD FILE\r\n",
                "(  NAME = 'BW2',\r\n",
                "FILENAME = 'N:\\Apress\\FG2_BookStoreArchive.NDF' ,\r\n",
                "SIZE = 1MB ,\r\n",
                "MAXSIZE = 50MB,\r\n",
                "FILEGROWTH = 5MB ) \r\n",
                "TO FILEGROUP [FG2];"
            ],
            "metadata": {
                "azdata_cell_guid": "54f82859-3e53-4f57-9353-a52a7650377b"
            },
            "outputs": [
                {
                    "output_type": "error",
                    "evalue": "Msg 945, Level 14, State 2, Line 2\r\nDatabase 'BookStoreArchive' cannot be opened due to inaccessible files or insufficient memory or disk space.  See the SQL Server errorlog for details.",
                    "ename": "",
                    "traceback": []
                },
                {
                    "output_type": "display_data",
                    "data": {
                        "text/html": "Total execution time: 00:00:00.006"
                    },
                    "metadata": {}
                }
            ],
            "execution_count": 12
        },
        {
            "cell_type": "code",
            "source": [
                "-- recipe 26-8\r\n",
                "ALTER DATABASE BookStoreArchive\r\n",
                "MODIFY FILEGROUP FG2 DEFAULT;\r\n",
                "GO"
            ],
            "metadata": {
                "azdata_cell_guid": "0f924735-685f-4955-9851-3218b7679960"
            },
            "outputs": [
                {
                    "output_type": "error",
                    "evalue": "Msg 945, Level 14, State 2, Line 2\r\nDatabase 'BookStoreArchive' cannot be opened due to inaccessible files or insufficient memory or disk space.  See the SQL Server errorlog for details.",
                    "ename": "",
                    "traceback": []
                },
                {
                    "output_type": "display_data",
                    "data": {
                        "text/html": "Total execution time: 00:00:00.002"
                    },
                    "metadata": {}
                }
            ],
            "execution_count": 13
        },
        {
            "cell_type": "code",
            "source": [
                "-- recipe 26-9\r\n",
                "USE BookStoreArchive;\r\n",
                "GO\r\n",
                "CREATE TABLE dbo.Test\r\n",
                "       (\r\n",
                "        TestID  INT IDENTITY,\r\n",
                "        Column1 INT,\r\n",
                "        Column2 INT,\r\n",
                "        Column3 INT\r\n",
                "       )\r\n",
                "ON     [FG2];"
            ],
            "metadata": {
                "azdata_cell_guid": "b7ac7210-044a-4829-8acf-55e5b71b9eca"
            },
            "outputs": [
                {
                    "output_type": "error",
                    "evalue": "Msg 945, Level 14, State 2, Line 2\r\nDatabase 'BookStoreArchive' cannot be opened due to inaccessible files or insufficient memory or disk space.  See the SQL Server errorlog for details.",
                    "ename": "",
                    "traceback": []
                },
                {
                    "output_type": "error",
                    "evalue": "Msg 1921, Level 16, State 1, Line 4\r\nInvalid filegroup 'FG2' specified.",
                    "ename": "",
                    "traceback": []
                },
                {
                    "output_type": "display_data",
                    "data": {
                        "text/html": "Total execution time: 00:00:00.027"
                    },
                    "metadata": {}
                }
            ],
            "execution_count": 14
        },
        {
            "cell_type": "code",
            "source": [
                "-- recipe 26-10\r\n",
                "-- solution 1\r\n",
                "ALTER TABLE dbo.Test\r\n",
                "  ADD CONSTRAINT PK_Test PRIMARY KEY CLUSTERED (TestId)\r\n",
                "  ON [PRIMARY];\r\n",
                "GO"
            ],
            "metadata": {
                "azdata_cell_guid": "4a70453a-1c6e-485c-909f-7aa3e4be90b5"
            },
            "outputs": [
                {
                    "output_type": "error",
                    "evalue": "Msg 4902, Level 16, State 1, Line 3\r\nCannot find the object \"dbo.Test\" because it does not exist or you do not have permissions.",
                    "ename": "",
                    "traceback": []
                },
                {
                    "output_type": "display_data",
                    "data": {
                        "text/html": "Total execution time: 00:00:00.014"
                    },
                    "metadata": {}
                }
            ],
            "execution_count": 15
        },
        {
            "cell_type": "code",
            "source": [
                "-- solution 2\r\n",
                "CREATE TABLE dbo.Test2\r\n",
                "       (\r\n",
                "        TestID INT IDENTITY\r\n",
                "                   CONSTRAINT PK__Test2 PRIMARY KEY CLUSTERED,\r\n",
                "        Column1 INT,\r\n",
                "        Column2 INT,\r\n",
                "        Column3 INT\r\n",
                "       )\r\n",
                "ON     [FG2];\r\n",
                "GO\r\n",
                "\r\n",
                "ALTER TABLE dbo.Test2\r\n",
                "DROP CONSTRAINT PK__Test2;\r\n",
                "\r\n",
                "ALTER TABLE dbo.Test2\r\n",
                "ADD CONSTRAINT PK__Test2 PRIMARY KEY CLUSTERED (TestId)\r\n",
                "ON [PRIMARY];\r\n",
                "GO"
            ],
            "metadata": {
                "azdata_cell_guid": "749fc35d-53ea-48d5-9a9f-d3cb4cb20039"
            },
            "outputs": [
                {
                    "output_type": "error",
                    "evalue": "Msg 1921, Level 16, State 1, Line 2\r\nInvalid filegroup 'FG2' specified.",
                    "ename": "",
                    "traceback": []
                },
                {
                    "output_type": "error",
                    "evalue": "Msg 4902, Level 16, State 1, Line 13\r\nCannot find the object \"dbo.Test2\" because it does not exist or you do not have permissions.",
                    "ename": "",
                    "traceback": []
                },
                {
                    "output_type": "display_data",
                    "data": {
                        "text/html": "Total execution time: 00:00:00.013"
                    },
                    "metadata": {}
                }
            ],
            "execution_count": 16
        },
        {
            "cell_type": "code",
            "source": [
                "-- solution 3\r\n",
                "CREATE TABLE dbo.Test3\r\n",
                "       (\r\n",
                "        TestID INT IDENTITY,\r\n",
                "        Column1 INT,\r\n",
                "        Column2 INT,\r\n",
                "        Column3 INT\r\n",
                "       )\r\n",
                "ON     [FG2];\r\n",
                "GO\r\n",
                "\r\n",
                "CREATE CLUSTERED INDEX IX_Test3 ON dbo.Test3 (TestId) \r\n",
                "ON [FG2];\r\n",
                "GO\r\n",
                "\r\n",
                "CREATE CLUSTERED INDEX IX_Test3 ON dbo.Test3 (TestId)\r\n",
                "WITH (DROP_EXISTING = ON)\r\n",
                "ON [PRIMARY];\r\n",
                "GO"
            ],
            "metadata": {
                "azdata_cell_guid": "6d29a8c1-5a8e-4423-9976-3dee2b4afb60"
            },
            "outputs": [
                {
                    "output_type": "error",
                    "evalue": "Msg 1921, Level 16, State 1, Line 2\r\nInvalid filegroup 'FG2' specified.",
                    "ename": "",
                    "traceback": []
                },
                {
                    "output_type": "error",
                    "evalue": "Msg 1088, Level 16, State 12, Line 12\r\nCannot find the object \"dbo.Test3\" because it does not exist or you do not have permissions.",
                    "ename": "",
                    "traceback": []
                },
                {
                    "output_type": "error",
                    "evalue": "Msg 1088, Level 16, State 12, Line 16\r\nCannot find the object \"dbo.Test3\" because it does not exist or you do not have permissions.",
                    "ename": "",
                    "traceback": []
                },
                {
                    "output_type": "display_data",
                    "data": {
                        "text/html": "Total execution time: 00:00:00.020"
                    },
                    "metadata": {}
                }
            ],
            "execution_count": 17
        },
        {
            "cell_type": "code",
            "source": [
                "-- recipe 26-11\r\n",
                "ALTER DATABASE BookStoreArchive\r\n",
                "MODIFY FILEGROUP [PRIMARY] DEFAULT;\r\n",
                "GO\r\n",
                "\r\n",
                "ALTER DATABASE BookStoreArchive \r\n",
                "REMOVE FILE BW2;\r\n",
                "GO\r\n",
                "\r\n",
                "ALTER DATABASE BookStoreArchive\r\n",
                "REMOVE FILEGROUP FG2;\r\n",
                "GO"
            ],
            "metadata": {
                "azdata_cell_guid": "c47d948d-b3ae-4359-ba41-77c59500eea0"
            },
            "outputs": [
                {
                    "output_type": "error",
                    "evalue": "Msg 945, Level 14, State 2, Line 2\r\nDatabase 'BookStoreArchive' cannot be opened due to inaccessible files or insufficient memory or disk space.  See the SQL Server errorlog for details.",
                    "ename": "",
                    "traceback": []
                },
                {
                    "output_type": "error",
                    "evalue": "Msg 945, Level 14, State 2, Line 6\r\nDatabase 'BookStoreArchive' cannot be opened due to inaccessible files or insufficient memory or disk space.  See the SQL Server errorlog for details.",
                    "ename": "",
                    "traceback": []
                },
                {
                    "output_type": "error",
                    "evalue": "Msg 945, Level 14, State 2, Line 10\r\nDatabase 'BookStoreArchive' cannot be opened due to inaccessible files or insufficient memory or disk space.  See the SQL Server errorlog for details.",
                    "ename": "",
                    "traceback": []
                },
                {
                    "output_type": "display_data",
                    "data": {
                        "text/html": "Total execution time: 00:00:00.006"
                    },
                    "metadata": {}
                }
            ],
            "execution_count": 18
        },
        {
            "cell_type": "code",
            "source": [
                "-- recipe 26-12\r\n",
                "-- solution 1\r\n",
                "ALTER DATABASE BookStoreArchive SET RESTRICTED_USER WITH ROLLBACK IMMEDIATE;\r\n",
                "GO\r\n",
                "\r\n",
                "ALTER DATABASE BookStoreArchive\r\n",
                "ADD FILEGROUP FG3;\r\n",
                "GO\r\n",
                "\r\n",
                "ALTER DATABASE BookStoreArchive\r\n",
                "ADD FILE\r\n",
                "(  NAME = 'ArchiveData',\r\n",
                "FILENAME = 'N:\\Apress\\BookStoreArchiveData.NDF' ,\r\n",
                "SIZE = 1MB ,\r\n",
                "MAXSIZE = 10MB,\r\n",
                "FILEGROWTH = 1MB ) \r\n",
                "TO FILEGROUP [FG3];\r\n",
                "GO\r\n",
                "-- move historical tables to this filegroup\r\n",
                "\r\n",
                "ALTER DATABASE BookStoreArchive\r\n",
                "MODIFY FILEGROUP FG3 READ_ONLY;\r\n",
                "GO\r\n",
                "\r\n",
                "ALTER DATABASE BookStoreArchive SET MULTI_USER;\r\n",
                "GO"
            ],
            "metadata": {
                "azdata_cell_guid": "af09c35e-9e73-4d7e-9d38-a16166a07c36"
            },
            "outputs": [
                {
                    "output_type": "error",
                    "evalue": "Msg 5120, Level 16, State 101, Line 3\r\nUnable to open the physical file \"O:\\Apress\\BookStoreArchive.mdf\". Operating system error 2: \"2(The system cannot find the file specified.)\".",
                    "ename": "",
                    "traceback": []
                },
                {
                    "output_type": "error",
                    "evalue": "Msg 5181, Level 16, State 5, Line 3\r\nCould not restart database \"BookStoreArchive\". Reverting to the previous status.",
                    "ename": "",
                    "traceback": []
                },
                {
                    "output_type": "error",
                    "evalue": "Msg 5069, Level 16, State 1, Line 3\r\nALTER DATABASE statement failed.",
                    "ename": "",
                    "traceback": []
                },
                {
                    "output_type": "error",
                    "evalue": "Msg 945, Level 14, State 2, Line 6\r\nDatabase 'BookStoreArchive' cannot be opened due to inaccessible files or insufficient memory or disk space.  See the SQL Server errorlog for details.",
                    "ename": "",
                    "traceback": []
                },
                {
                    "output_type": "error",
                    "evalue": "Msg 945, Level 14, State 2, Line 10\r\nDatabase 'BookStoreArchive' cannot be opened due to inaccessible files or insufficient memory or disk space.  See the SQL Server errorlog for details.",
                    "ename": "",
                    "traceback": []
                },
                {
                    "output_type": "error",
                    "evalue": "Msg 945, Level 14, State 2, Line 21\r\nDatabase 'BookStoreArchive' cannot be opened due to inaccessible files or insufficient memory or disk space.  See the SQL Server errorlog for details.",
                    "ename": "",
                    "traceback": []
                },
                {
                    "output_type": "error",
                    "evalue": "Msg 5120, Level 16, State 101, Line 25\r\nUnable to open the physical file \"O:\\Apress\\BookStoreArchive.mdf\". Operating system error 2: \"2(The system cannot find the file specified.)\".",
                    "ename": "",
                    "traceback": []
                },
                {
                    "output_type": "error",
                    "evalue": "Msg 5181, Level 16, State 5, Line 25\r\nCould not restart database \"BookStoreArchive\". Reverting to the previous status.",
                    "ename": "",
                    "traceback": []
                },
                {
                    "output_type": "error",
                    "evalue": "Msg 5069, Level 16, State 1, Line 25\r\nALTER DATABASE statement failed.",
                    "ename": "",
                    "traceback": []
                },
                {
                    "output_type": "display_data",
                    "data": {
                        "text/html": "Total execution time: 00:00:00.101"
                    },
                    "metadata": {}
                }
            ],
            "execution_count": 19
        },
        {
            "cell_type": "code",
            "source": [
                "-- solution 2\r\n",
                "ALTER DATABASE BookStoreArchive SET READ_ONLY;\r\n",
                "GO\r\n",
                "\r\n",
                "ALTER DATABASE BookStoreArchive SET READ_WRITE;\r\n",
                "GO"
            ],
            "metadata": {
                "azdata_cell_guid": "21ee0aa8-70c8-4795-ba96-15a7927a2490"
            },
            "outputs": [
                {
                    "output_type": "error",
                    "evalue": "Msg 5120, Level 16, State 101, Line 2\r\nUnable to open the physical file \"O:\\Apress\\BookStoreArchive.mdf\". Operating system error 2: \"2(The system cannot find the file specified.)\".",
                    "ename": "",
                    "traceback": []
                },
                {
                    "output_type": "error",
                    "evalue": "Msg 5181, Level 16, State 5, Line 2\r\nCould not restart database \"BookStoreArchive\". Reverting to the previous status.",
                    "ename": "",
                    "traceback": []
                },
                {
                    "output_type": "error",
                    "evalue": "Msg 5069, Level 16, State 1, Line 2\r\nALTER DATABASE statement failed.",
                    "ename": "",
                    "traceback": []
                },
                {
                    "output_type": "error",
                    "evalue": "Msg 5120, Level 16, State 101, Line 5\r\nUnable to open the physical file \"O:\\Apress\\BookStoreArchive.mdf\". Operating system error 2: \"2(The system cannot find the file specified.)\".",
                    "ename": "",
                    "traceback": []
                },
                {
                    "output_type": "error",
                    "evalue": "Msg 5181, Level 16, State 5, Line 5\r\nCould not restart database \"BookStoreArchive\". Reverting to the previous status.",
                    "ename": "",
                    "traceback": []
                },
                {
                    "output_type": "error",
                    "evalue": "Msg 5069, Level 16, State 1, Line 5\r\nALTER DATABASE statement failed.",
                    "ename": "",
                    "traceback": []
                },
                {
                    "output_type": "display_data",
                    "data": {
                        "text/html": "Total execution time: 00:00:00.107"
                    },
                    "metadata": {}
                }
            ],
            "execution_count": 20
        },
        {
            "cell_type": "code",
            "source": [
                "-- recipe 26-13\r\n",
                "-- solution 1\r\n",
                "\r\n",
                "EXECUTE sp_spaceused;\r\n",
                "\r\n",
                "-- solution 2\r\n",
                "EXECUTE sp_spaceused 'dbo.test';\r\n",
                "\r\n",
                "-- solution 3\r\n",
                "DBCC SQLPERF(LOGSPACE);"
            ],
            "metadata": {
                "azdata_cell_guid": "9dcacedd-f57f-4764-b832-a5517ffcb979"
            },
            "outputs": [
                {
                    "output_type": "error",
                    "evalue": "Msg 15009, Level 16, State 1, Procedure sp_spaceused, Line 120\r\nThe object 'dbo.test' does not exist in database 'master' or is invalid for this operation.",
                    "ename": "",
                    "traceback": []
                },
                {
                    "output_type": "display_data",
                    "data": {
                        "text/html": "DBCC execution completed. If DBCC printed error messages, contact your system administrator."
                    },
                    "metadata": {}
                },
                {
                    "output_type": "display_data",
                    "data": {
                        "text/html": "Total execution time: 00:00:00.383"
                    },
                    "metadata": {}
                },
                {
                    "output_type": "execute_result",
                    "metadata": {},
                    "execution_count": 21,
                    "data": {
                        "application/vnd.dataresource+json": {
                            "schema": {
                                "fields": [
                                    {
                                        "name": "database_name"
                                    },
                                    {
                                        "name": "database_size"
                                    },
                                    {
                                        "name": "unallocated space"
                                    }
                                ]
                            },
                            "data": [
                                {
                                    "0": "master",
                                    "1": "6.44 MB",
                                    "2": "0.82 MB"
                                }
                            ]
                        },
                        "text/html": [
                            "<table>",
                            "<tr><th>database_name</th><th>database_size</th><th>unallocated space</th></tr>",
                            "<tr><td>master</td><td>6.44 MB</td><td>0.82 MB</td></tr>",
                            "</table>"
                        ]
                    }
                },
                {
                    "output_type": "execute_result",
                    "metadata": {},
                    "execution_count": 21,
                    "data": {
                        "application/vnd.dataresource+json": {
                            "schema": {
                                "fields": [
                                    {
                                        "name": "reserved"
                                    },
                                    {
                                        "name": "data"
                                    },
                                    {
                                        "name": "index_size"
                                    },
                                    {
                                        "name": "unused"
                                    }
                                ]
                            },
                            "data": [
                                {
                                    "0": "3704 KB",
                                    "1": "1576 KB",
                                    "2": "1648 KB",
                                    "3": "480 KB"
                                }
                            ]
                        },
                        "text/html": [
                            "<table>",
                            "<tr><th>reserved</th><th>data</th><th>index_size</th><th>unused</th></tr>",
                            "<tr><td>3704 KB</td><td>1576 KB</td><td>1648 KB</td><td>480 KB</td></tr>",
                            "</table>"
                        ]
                    }
                },
                {
                    "output_type": "execute_result",
                    "metadata": {},
                    "execution_count": 21,
                    "data": {
                        "application/vnd.dataresource+json": {
                            "schema": {
                                "fields": [
                                    {
                                        "name": "Database Name"
                                    },
                                    {
                                        "name": "Log Size (MB)"
                                    },
                                    {
                                        "name": "Log Space Used (%)"
                                    },
                                    {
                                        "name": "Status"
                                    }
                                ]
                            },
                            "data": [
                                {
                                    "0": "master",
                                    "1": "1.9921875",
                                    "2": "49.240196",
                                    "3": "0"
                                },
                                {
                                    "0": "tempdb",
                                    "1": "7.9921875",
                                    "2": "7.7590423",
                                    "3": "0"
                                },
                                {
                                    "0": "model",
                                    "1": "7.9921875",
                                    "2": "7.630743",
                                    "3": "0"
                                },
                                {
                                    "0": "msdb",
                                    "1": "21.617188",
                                    "2": "6.297434",
                                    "3": "0"
                                },
                                {
                                    "0": "AdventureWorks2014",
                                    "1": "17.992188",
                                    "2": "42.6726",
                                    "3": "0"
                                },
                                {
                                    "0": "Errors",
                                    "1": "7.9921875",
                                    "2": "9.20088",
                                    "3": "0"
                                },
                                {
                                    "0": "InMemory",
                                    "1": "7.9921875",
                                    "2": "9.43915",
                                    "3": "0"
                                },
                                {
                                    "0": "TSQLRecipe_A",
                                    "1": "7.9921875",
                                    "2": "9.811828",
                                    "3": "0"
                                },
                                {
                                    "0": "TestDB",
                                    "1": "7.9921875",
                                    "2": "5.223607",
                                    "3": "0"
                                }
                            ]
                        },
                        "text/html": [
                            "<table>",
                            "<tr><th>Database Name</th><th>Log Size (MB)</th><th>Log Space Used (%)</th><th>Status</th></tr>",
                            "<tr><td>master</td><td>1.9921875</td><td>49.240196</td><td>0</td></tr>",
                            "<tr><td>tempdb</td><td>7.9921875</td><td>7.7590423</td><td>0</td></tr>",
                            "<tr><td>model</td><td>7.9921875</td><td>7.630743</td><td>0</td></tr>",
                            "<tr><td>msdb</td><td>21.617188</td><td>6.297434</td><td>0</td></tr>",
                            "<tr><td>AdventureWorks2014</td><td>17.992188</td><td>42.6726</td><td>0</td></tr>",
                            "<tr><td>Errors</td><td>7.9921875</td><td>9.20088</td><td>0</td></tr>",
                            "<tr><td>InMemory</td><td>7.9921875</td><td>9.43915</td><td>0</td></tr>",
                            "<tr><td>TSQLRecipe_A</td><td>7.9921875</td><td>9.811828</td><td>0</td></tr>",
                            "<tr><td>TestDB</td><td>7.9921875</td><td>5.223607</td><td>0</td></tr>",
                            "</table>"
                        ]
                    }
                }
            ],
            "execution_count": 21
        },
        {
            "cell_type": "code",
            "source": [
                "-- recipe 26-14\r\n",
                "-- solution 1\r\n",
                "ALTER DATABASE BookStoreArchive\r\n",
                "MODIFY FILE (NAME = 'BookStoreArchive_log', SIZE = 100MB);\r\n",
                "\r\n",
                "ALTER DATABASE BookStoreArchive\r\n",
                "MODIFY FILE (NAME = 'BookStoreArchive_Data', SIZE = 200MB);\r\n",
                "GO\r\n",
                "\r\n",
                "USE BookStoreArchive;\r\n",
                "GO\r\n",
                "\r\n",
                "EXECUTE sp_spaceused;\r\n",
                "GO\r\n",
                "\r\n",
                "DBCC SHRINKDATABASE ('BookStoreArchive', 10);\r\n",
                "GO\r\n",
                "\r\n",
                "EXECUTE sp_spaceused;\r\n",
                "GO"
            ],
            "metadata": {
                "azdata_cell_guid": "b15fa5d7-ea83-4d52-82c3-de84f0d75e35"
            },
            "outputs": [
                {
                    "output_type": "error",
                    "evalue": "Msg 945, Level 14, State 2, Line 3\r\nDatabase 'BookStoreArchive' cannot be opened due to inaccessible files or insufficient memory or disk space.  See the SQL Server errorlog for details.",
                    "ename": "",
                    "traceback": []
                },
                {
                    "output_type": "error",
                    "evalue": "Msg 945, Level 14, State 2, Line 10\r\nDatabase 'BookStoreArchive' cannot be opened due to inaccessible files or insufficient memory or disk space.  See the SQL Server errorlog for details.",
                    "ename": "",
                    "traceback": []
                },
                {
                    "output_type": "display_data",
                    "data": {
                        "text/html": "Commands completed successfully."
                    },
                    "metadata": {}
                },
                {
                    "output_type": "error",
                    "evalue": "Msg 945, Level 14, State 2, Line 16\r\nDatabase 'BookStoreArchive' cannot be opened due to inaccessible files or insufficient memory or disk space.  See the SQL Server errorlog for details.",
                    "ename": "",
                    "traceback": []
                },
                {
                    "output_type": "display_data",
                    "data": {
                        "text/html": "Commands completed successfully."
                    },
                    "metadata": {}
                },
                {
                    "output_type": "display_data",
                    "data": {
                        "text/html": "Total execution time: 00:00:01.025"
                    },
                    "metadata": {}
                },
                {
                    "output_type": "execute_result",
                    "metadata": {},
                    "execution_count": 22,
                    "data": {
                        "application/vnd.dataresource+json": {
                            "schema": {
                                "fields": [
                                    {
                                        "name": "database_name"
                                    },
                                    {
                                        "name": "database_size"
                                    },
                                    {
                                        "name": "unallocated space"
                                    }
                                ]
                            },
                            "data": [
                                {
                                    "0": "master",
                                    "1": "6.44 MB",
                                    "2": "0.82 MB"
                                }
                            ]
                        },
                        "text/html": [
                            "<table>",
                            "<tr><th>database_name</th><th>database_size</th><th>unallocated space</th></tr>",
                            "<tr><td>master</td><td>6.44 MB</td><td>0.82 MB</td></tr>",
                            "</table>"
                        ]
                    }
                },
                {
                    "output_type": "execute_result",
                    "metadata": {},
                    "execution_count": 22,
                    "data": {
                        "application/vnd.dataresource+json": {
                            "schema": {
                                "fields": [
                                    {
                                        "name": "reserved"
                                    },
                                    {
                                        "name": "data"
                                    },
                                    {
                                        "name": "index_size"
                                    },
                                    {
                                        "name": "unused"
                                    }
                                ]
                            },
                            "data": [
                                {
                                    "0": "3704 KB",
                                    "1": "1576 KB",
                                    "2": "1648 KB",
                                    "3": "480 KB"
                                }
                            ]
                        },
                        "text/html": [
                            "<table>",
                            "<tr><th>reserved</th><th>data</th><th>index_size</th><th>unused</th></tr>",
                            "<tr><td>3704 KB</td><td>1576 KB</td><td>1648 KB</td><td>480 KB</td></tr>",
                            "</table>"
                        ]
                    }
                },
                {
                    "output_type": "execute_result",
                    "metadata": {},
                    "execution_count": 22,
                    "data": {
                        "application/vnd.dataresource+json": {
                            "schema": {
                                "fields": [
                                    {
                                        "name": "database_name"
                                    },
                                    {
                                        "name": "database_size"
                                    },
                                    {
                                        "name": "unallocated space"
                                    }
                                ]
                            },
                            "data": [
                                {
                                    "0": "master",
                                    "1": "6.44 MB",
                                    "2": "0.82 MB"
                                }
                            ]
                        },
                        "text/html": [
                            "<table>",
                            "<tr><th>database_name</th><th>database_size</th><th>unallocated space</th></tr>",
                            "<tr><td>master</td><td>6.44 MB</td><td>0.82 MB</td></tr>",
                            "</table>"
                        ]
                    }
                },
                {
                    "output_type": "execute_result",
                    "metadata": {},
                    "execution_count": 22,
                    "data": {
                        "application/vnd.dataresource+json": {
                            "schema": {
                                "fields": [
                                    {
                                        "name": "reserved"
                                    },
                                    {
                                        "name": "data"
                                    },
                                    {
                                        "name": "index_size"
                                    },
                                    {
                                        "name": "unused"
                                    }
                                ]
                            },
                            "data": [
                                {
                                    "0": "3704 KB",
                                    "1": "1576 KB",
                                    "2": "1648 KB",
                                    "3": "480 KB"
                                }
                            ]
                        },
                        "text/html": [
                            "<table>",
                            "<tr><th>reserved</th><th>data</th><th>index_size</th><th>unused</th></tr>",
                            "<tr><td>3704 KB</td><td>1576 KB</td><td>1648 KB</td><td>480 KB</td></tr>",
                            "</table>"
                        ]
                    }
                }
            ],
            "execution_count": 22
        },
        {
            "cell_type": "code",
            "source": [
                "-- solution 2\r\n",
                "ALTER DATABASE BookStoreArchive\r\n",
                "MODIFY FILE (NAME = 'BookStoreArchive_Log', SIZE = 200MB);\r\n",
                "GO\r\n",
                "\r\n",
                "USE BookStoreArchive;\r\n",
                "GO\r\n",
                "\r\n",
                "EXECUTE sp_spaceused;\r\n",
                "GO\r\n",
                "\r\n",
                "DBCC SHRINKFILE ('BookStoreArchive_Log', 2);\r\n",
                "GO\r\n",
                "\r\n",
                "EXECUTE sp_spaceused;\r\n",
                "GO\r\n",
                ""
            ],
            "metadata": {
                "azdata_cell_guid": "5c3bb7cf-dad0-4f60-a089-40fe223b300d"
            },
            "outputs": [
                {
                    "output_type": "error",
                    "evalue": "Msg 945, Level 14, State 2, Line 2\r\nDatabase 'BookStoreArchive' cannot be opened due to inaccessible files or insufficient memory or disk space.  See the SQL Server errorlog for details.",
                    "ename": "",
                    "traceback": []
                },
                {
                    "output_type": "error",
                    "evalue": "Msg 945, Level 14, State 2, Line 6\r\nDatabase 'BookStoreArchive' cannot be opened due to inaccessible files or insufficient memory or disk space.  See the SQL Server errorlog for details.",
                    "ename": "",
                    "traceback": []
                },
                {
                    "output_type": "display_data",
                    "data": {
                        "text/html": "Commands completed successfully."
                    },
                    "metadata": {}
                },
                {
                    "output_type": "error",
                    "evalue": "Msg 8985, Level 16, State 1, Line 12\r\nCould not locate file 'BookStoreArchive_Log' for database 'master' in sys.database_files. The file either does not exist, or was dropped.",
                    "ename": "",
                    "traceback": []
                },
                {
                    "output_type": "display_data",
                    "data": {
                        "text/html": "Commands completed successfully."
                    },
                    "metadata": {}
                },
                {
                    "output_type": "display_data",
                    "data": {
                        "text/html": "Total execution time: 00:00:00.084"
                    },
                    "metadata": {}
                },
                {
                    "output_type": "execute_result",
                    "metadata": {},
                    "execution_count": 23,
                    "data": {
                        "application/vnd.dataresource+json": {
                            "schema": {
                                "fields": [
                                    {
                                        "name": "database_name"
                                    },
                                    {
                                        "name": "database_size"
                                    },
                                    {
                                        "name": "unallocated space"
                                    }
                                ]
                            },
                            "data": [
                                {
                                    "0": "master",
                                    "1": "6.44 MB",
                                    "2": "0.82 MB"
                                }
                            ]
                        },
                        "text/html": [
                            "<table>",
                            "<tr><th>database_name</th><th>database_size</th><th>unallocated space</th></tr>",
                            "<tr><td>master</td><td>6.44 MB</td><td>0.82 MB</td></tr>",
                            "</table>"
                        ]
                    }
                },
                {
                    "output_type": "execute_result",
                    "metadata": {},
                    "execution_count": 23,
                    "data": {
                        "application/vnd.dataresource+json": {
                            "schema": {
                                "fields": [
                                    {
                                        "name": "reserved"
                                    },
                                    {
                                        "name": "data"
                                    },
                                    {
                                        "name": "index_size"
                                    },
                                    {
                                        "name": "unused"
                                    }
                                ]
                            },
                            "data": [
                                {
                                    "0": "3704 KB",
                                    "1": "1576 KB",
                                    "2": "1648 KB",
                                    "3": "480 KB"
                                }
                            ]
                        },
                        "text/html": [
                            "<table>",
                            "<tr><th>reserved</th><th>data</th><th>index_size</th><th>unused</th></tr>",
                            "<tr><td>3704 KB</td><td>1576 KB</td><td>1648 KB</td><td>480 KB</td></tr>",
                            "</table>"
                        ]
                    }
                },
                {
                    "output_type": "execute_result",
                    "metadata": {},
                    "execution_count": 23,
                    "data": {
                        "application/vnd.dataresource+json": {
                            "schema": {
                                "fields": [
                                    {
                                        "name": "database_name"
                                    },
                                    {
                                        "name": "database_size"
                                    },
                                    {
                                        "name": "unallocated space"
                                    }
                                ]
                            },
                            "data": [
                                {
                                    "0": "master",
                                    "1": "6.44 MB",
                                    "2": "0.82 MB"
                                }
                            ]
                        },
                        "text/html": [
                            "<table>",
                            "<tr><th>database_name</th><th>database_size</th><th>unallocated space</th></tr>",
                            "<tr><td>master</td><td>6.44 MB</td><td>0.82 MB</td></tr>",
                            "</table>"
                        ]
                    }
                },
                {
                    "output_type": "execute_result",
                    "metadata": {},
                    "execution_count": 23,
                    "data": {
                        "application/vnd.dataresource+json": {
                            "schema": {
                                "fields": [
                                    {
                                        "name": "reserved"
                                    },
                                    {
                                        "name": "data"
                                    },
                                    {
                                        "name": "index_size"
                                    },
                                    {
                                        "name": "unused"
                                    }
                                ]
                            },
                            "data": [
                                {
                                    "0": "3704 KB",
                                    "1": "1576 KB",
                                    "2": "1648 KB",
                                    "3": "480 KB"
                                }
                            ]
                        },
                        "text/html": [
                            "<table>",
                            "<tr><th>reserved</th><th>data</th><th>index_size</th><th>unused</th></tr>",
                            "<tr><td>3704 KB</td><td>1576 KB</td><td>1648 KB</td><td>480 KB</td></tr>",
                            "</table>"
                        ]
                    }
                }
            ],
            "execution_count": 23
        },
        {
            "cell_type": "code",
            "source": [
                "-- recipe 26-15\r\n",
                "DBCC CHECKALLOC ('BookStoreArchive');\r\n",
                ""
            ],
            "metadata": {
                "azdata_cell_guid": "1bc8409b-2884-45f4-a988-56c3b0862d4f"
            },
            "outputs": [
                {
                    "output_type": "error",
                    "evalue": "Msg 945, Level 14, State 2, Line 2\r\nDatabase 'BookStoreArchive' cannot be opened due to inaccessible files or insufficient memory or disk space.  See the SQL Server errorlog for details.",
                    "ename": "",
                    "traceback": []
                },
                {
                    "output_type": "display_data",
                    "data": {
                        "text/html": "Total execution time: 00:00:00.005"
                    },
                    "metadata": {}
                }
            ],
            "execution_count": 24
        },
        {
            "cell_type": "code",
            "source": [
                "-- recipe 26-16\r\n",
                "DBCC CHECKDB('BookStoreArchive');"
            ],
            "metadata": {
                "azdata_cell_guid": "497c4baa-5a2b-4644-82c0-c551c3e19593"
            },
            "outputs": [
                {
                    "output_type": "error",
                    "evalue": "Msg 945, Level 14, State 2, Line 2\r\nDatabase 'BookStoreArchive' cannot be opened due to inaccessible files or insufficient memory or disk space.  See the SQL Server errorlog for details.",
                    "ename": "",
                    "traceback": []
                },
                {
                    "output_type": "display_data",
                    "data": {
                        "text/html": "Total execution time: 00:00:00.007"
                    },
                    "metadata": {}
                }
            ],
            "execution_count": 25
        },
        {
            "cell_type": "code",
            "source": [
                "-- recipe 26-17\r\n",
                "USE BookStoreArchive;\r\n",
                "GO\r\n",
                "DBCC CHECKFILEGROUP ('PRIMARY');\r\n",
                "GO"
            ],
            "metadata": {
                "azdata_cell_guid": "9502208a-d0d5-4671-b315-f9c930351928"
            },
            "outputs": [
                {
                    "output_type": "error",
                    "evalue": "Msg 945, Level 14, State 2, Line 2\r\nDatabase 'BookStoreArchive' cannot be opened due to inaccessible files or insufficient memory or disk space.  See the SQL Server errorlog for details.",
                    "ename": "",
                    "traceback": []
                },
                {
                    "output_type": "display_data",
                    "data": {
                        "text/html": "DBCC results for 'master'."
                    },
                    "metadata": {}
                },
                {
                    "output_type": "display_data",
                    "data": {
                        "text/html": "DBCC results for 'sys.sysrscols'."
                    },
                    "metadata": {}
                },
                {
                    "output_type": "display_data",
                    "data": {
                        "text/html": "There are 1340 rows in 18 pages for object \"sys.sysrscols\"."
                    },
                    "metadata": {}
                },
                {
                    "output_type": "display_data",
                    "data": {
                        "text/html": "DBCC results for 'sys.sysrowsets'."
                    },
                    "metadata": {}
                },
                {
                    "output_type": "display_data",
                    "data": {
                        "text/html": "There are 174 rows in 2 pages for object \"sys.sysrowsets\"."
                    },
                    "metadata": {}
                },
                {
                    "output_type": "display_data",
                    "data": {
                        "text/html": "DBCC results for 'sys.sysclones'."
                    },
                    "metadata": {}
                },
                {
                    "output_type": "display_data",
                    "data": {
                        "text/html": "There are 0 rows in 0 pages for object \"sys.sysclones\"."
                    },
                    "metadata": {}
                },
                {
                    "output_type": "display_data",
                    "data": {
                        "text/html": "DBCC results for 'sys.sysallocunits'."
                    },
                    "metadata": {}
                },
                {
                    "output_type": "display_data",
                    "data": {
                        "text/html": "There are 205 rows in 3 pages for object \"sys.sysallocunits\"."
                    },
                    "metadata": {}
                },
                {
                    "output_type": "display_data",
                    "data": {
                        "text/html": "DBCC results for 'sys.sysfiles1'."
                    },
                    "metadata": {}
                },
                {
                    "output_type": "display_data",
                    "data": {
                        "text/html": "There are 2 rows in 1 pages for object \"sys.sysfiles1\"."
                    },
                    "metadata": {}
                },
                {
                    "output_type": "display_data",
                    "data": {
                        "text/html": "DBCC results for 'sys.sysseobjvalues'."
                    },
                    "metadata": {}
                },
                {
                    "output_type": "display_data",
                    "data": {
                        "text/html": "There are 0 rows in 0 pages for object \"sys.sysseobjvalues\"."
                    },
                    "metadata": {}
                },
                {
                    "output_type": "display_data",
                    "data": {
                        "text/html": "DBCC results for 'sys.sysmatrixages'."
                    },
                    "metadata": {}
                },
                {
                    "output_type": "display_data",
                    "data": {
                        "text/html": "There are 0 rows in 0 pages for object \"sys.sysmatrixages\"."
                    },
                    "metadata": {}
                },
                {
                    "output_type": "display_data",
                    "data": {
                        "text/html": "DBCC results for 'sys.syspriorities'."
                    },
                    "metadata": {}
                },
                {
                    "output_type": "display_data",
                    "data": {
                        "text/html": "There are 0 rows in 0 pages for object \"sys.syspriorities\"."
                    },
                    "metadata": {}
                },
                {
                    "output_type": "display_data",
                    "data": {
                        "text/html": "DBCC results for 'sys.sysdbfrag'."
                    },
                    "metadata": {}
                },
                {
                    "output_type": "display_data",
                    "data": {
                        "text/html": "There are 11 rows in 1 pages for object \"sys.sysdbfrag\"."
                    },
                    "metadata": {}
                },
                {
                    "output_type": "display_data",
                    "data": {
                        "text/html": "DBCC results for 'sys.sysfgfrag'."
                    },
                    "metadata": {}
                },
                {
                    "output_type": "display_data",
                    "data": {
                        "text/html": "There are 0 rows in 0 pages for object \"sys.sysfgfrag\"."
                    },
                    "metadata": {}
                },
                {
                    "output_type": "display_data",
                    "data": {
                        "text/html": "DBCC results for 'sys.sysdbfiles'."
                    },
                    "metadata": {}
                },
                {
                    "output_type": "display_data",
                    "data": {
                        "text/html": "There are 2 rows in 1 pages for object \"sys.sysdbfiles\"."
                    },
                    "metadata": {}
                },
                {
                    "output_type": "display_data",
                    "data": {
                        "text/html": "DBCC results for 'sys.syspru'."
                    },
                    "metadata": {}
                },
                {
                    "output_type": "display_data",
                    "data": {
                        "text/html": "There are 11 rows in 1 pages for object \"sys.syspru\"."
                    },
                    "metadata": {}
                },
                {
                    "output_type": "display_data",
                    "data": {
                        "text/html": "DBCC results for 'sys.sysbrickfiles'."
                    },
                    "metadata": {}
                },
                {
                    "output_type": "display_data",
                    "data": {
                        "text/html": "There are 26 rows in 3 pages for object \"sys.sysbrickfiles\"."
                    },
                    "metadata": {}
                },
                {
                    "output_type": "display_data",
                    "data": {
                        "text/html": "DBCC results for 'sys.sysphfg'."
                    },
                    "metadata": {}
                },
                {
                    "output_type": "display_data",
                    "data": {
                        "text/html": "There are 1 rows in 1 pages for object \"sys.sysphfg\"."
                    },
                    "metadata": {}
                },
                {
                    "output_type": "display_data",
                    "data": {
                        "text/html": "DBCC results for 'sys.sysprufiles'."
                    },
                    "metadata": {}
                },
                {
                    "output_type": "display_data",
                    "data": {
                        "text/html": "There are 2 rows in 1 pages for object \"sys.sysprufiles\"."
                    },
                    "metadata": {}
                },
                {
                    "output_type": "display_data",
                    "data": {
                        "text/html": "DBCC results for 'sys.sysftinds'."
                    },
                    "metadata": {}
                },
                {
                    "output_type": "display_data",
                    "data": {
                        "text/html": "There are 0 rows in 0 pages for object \"sys.sysftinds\"."
                    },
                    "metadata": {}
                },
                {
                    "output_type": "display_data",
                    "data": {
                        "text/html": "DBCC results for 'sys.sysowners'."
                    },
                    "metadata": {}
                },
                {
                    "output_type": "display_data",
                    "data": {
                        "text/html": "There are 16 rows in 1 pages for object \"sys.sysowners\"."
                    },
                    "metadata": {}
                },
                {
                    "output_type": "display_data",
                    "data": {
                        "text/html": "DBCC results for 'sys.sysdbreg'."
                    },
                    "metadata": {}
                },
                {
                    "output_type": "display_data",
                    "data": {
                        "text/html": "There are 11 rows in 1 pages for object \"sys.sysdbreg\"."
                    },
                    "metadata": {}
                },
                {
                    "output_type": "display_data",
                    "data": {
                        "text/html": "DBCC results for 'sys.sysprivs'."
                    },
                    "metadata": {}
                },
                {
                    "output_type": "display_data",
                    "data": {
                        "text/html": "There are 2470 rows in 17 pages for object \"sys.sysprivs\"."
                    },
                    "metadata": {}
                },
                {
                    "output_type": "display_data",
                    "data": {
                        "text/html": "DBCC results for 'sys.sysschobjs'."
                    },
                    "metadata": {}
                },
                {
                    "output_type": "display_data",
                    "data": {
                        "text/html": "There are 2560 rows in 39 pages for object \"sys.sysschobjs\"."
                    },
                    "metadata": {}
                },
                {
                    "output_type": "display_data",
                    "data": {
                        "text/html": "DBCC results for 'sys.syscsrowgroups'."
                    },
                    "metadata": {}
                },
                {
                    "output_type": "display_data",
                    "data": {
                        "text/html": "There are 0 rows in 0 pages for object \"sys.syscsrowgroups\"."
                    },
                    "metadata": {}
                },
                {
                    "output_type": "display_data",
                    "data": {
                        "text/html": "DBCC results for 'sys.sysextsources'."
                    },
                    "metadata": {}
                },
                {
                    "output_type": "display_data",
                    "data": {
                        "text/html": "There are 0 rows in 0 pages for object \"sys.sysextsources\"."
                    },
                    "metadata": {}
                },
                {
                    "output_type": "display_data",
                    "data": {
                        "text/html": "DBCC results for 'sys.sysexttables'."
                    },
                    "metadata": {}
                },
                {
                    "output_type": "display_data",
                    "data": {
                        "text/html": "There are 0 rows in 0 pages for object \"sys.sysexttables\"."
                    },
                    "metadata": {}
                },
                {
                    "output_type": "display_data",
                    "data": {
                        "text/html": "DBCC results for 'sys.sysextfileformats'."
                    },
                    "metadata": {}
                },
                {
                    "output_type": "display_data",
                    "data": {
                        "text/html": "There are 0 rows in 0 pages for object \"sys.sysextfileformats\"."
                    },
                    "metadata": {}
                },
                {
                    "output_type": "display_data",
                    "data": {
                        "text/html": "DBCC results for 'sys.syslogshippers'."
                    },
                    "metadata": {}
                },
                {
                    "output_type": "display_data",
                    "data": {
                        "text/html": "There are 0 rows in 0 pages for object \"sys.syslogshippers\"."
                    },
                    "metadata": {}
                },
                {
                    "output_type": "display_data",
                    "data": {
                        "text/html": "DBCC results for 'sys.sysmultiobjvalues'."
                    },
                    "metadata": {}
                },
                {
                    "output_type": "display_data",
                    "data": {
                        "text/html": "There are 0 rows in 0 pages for object \"sys.sysmultiobjvalues\"."
                    },
                    "metadata": {}
                },
                {
                    "output_type": "display_data",
                    "data": {
                        "text/html": "DBCC results for 'sys.syscolpars'."
                    },
                    "metadata": {}
                },
                {
                    "output_type": "display_data",
                    "data": {
                        "text/html": "There are 1129 rows in 23 pages for object \"sys.syscolpars\"."
                    },
                    "metadata": {}
                },
                {
                    "output_type": "display_data",
                    "data": {
                        "text/html": "DBCC results for 'sys.sysxlgns'."
                    },
                    "metadata": {}
                },
                {
                    "output_type": "display_data",
                    "data": {
                        "text/html": "There are 39 rows in 1 pages for object \"sys.sysxlgns\"."
                    },
                    "metadata": {}
                },
                {
                    "output_type": "display_data",
                    "data": {
                        "text/html": "DBCC results for 'sys.sysxsrvs'."
                    },
                    "metadata": {}
                },
                {
                    "output_type": "display_data",
                    "data": {
                        "text/html": "There are 1 rows in 1 pages for object \"sys.sysxsrvs\"."
                    },
                    "metadata": {}
                },
                {
                    "output_type": "display_data",
                    "data": {
                        "text/html": "DBCC results for 'sys.sysnsobjs'."
                    },
                    "metadata": {}
                },
                {
                    "output_type": "display_data",
                    "data": {
                        "text/html": "There are 1 rows in 1 pages for object \"sys.sysnsobjs\"."
                    },
                    "metadata": {}
                },
                {
                    "output_type": "display_data",
                    "data": {
                        "text/html": "DBCC results for 'sys.sysusermsgs'."
                    },
                    "metadata": {}
                },
                {
                    "output_type": "display_data",
                    "data": {
                        "text/html": "There are 0 rows in 0 pages for object \"sys.sysusermsgs\"."
                    },
                    "metadata": {}
                },
                {
                    "output_type": "display_data",
                    "data": {
                        "text/html": "DBCC results for 'sys.syscerts'."
                    },
                    "metadata": {}
                },
                {
                    "output_type": "display_data",
                    "data": {
                        "text/html": "There are 7 rows in 2 pages for object \"sys.syscerts\"."
                    },
                    "metadata": {}
                },
                {
                    "output_type": "display_data",
                    "data": {
                        "text/html": "DBCC results for 'sys.sysrmtlgns'."
                    },
                    "metadata": {}
                },
                {
                    "output_type": "display_data",
                    "data": {
                        "text/html": "There are 0 rows in 0 pages for object \"sys.sysrmtlgns\"."
                    },
                    "metadata": {}
                },
                {
                    "output_type": "display_data",
                    "data": {
                        "text/html": "DBCC results for 'sys.syslnklgns'."
                    },
                    "metadata": {}
                },
                {
                    "output_type": "display_data",
                    "data": {
                        "text/html": "There are 1 rows in 1 pages for object \"sys.syslnklgns\"."
                    },
                    "metadata": {}
                },
                {
                    "output_type": "display_data",
                    "data": {
                        "text/html": "DBCC results for 'sys.sysxprops'."
                    },
                    "metadata": {}
                },
                {
                    "output_type": "display_data",
                    "data": {
                        "text/html": "There are 0 rows in 0 pages for object \"sys.sysxprops\"."
                    },
                    "metadata": {}
                },
                {
                    "output_type": "display_data",
                    "data": {
                        "text/html": "DBCC results for 'sys.sysscalartypes'."
                    },
                    "metadata": {}
                },
                {
                    "output_type": "display_data",
                    "data": {
                        "text/html": "There are 34 rows in 1 pages for object \"sys.sysscalartypes\"."
                    },
                    "metadata": {}
                },
                {
                    "output_type": "display_data",
                    "data": {
                        "text/html": "DBCC results for 'sys.systypedsubobjs'."
                    },
                    "metadata": {}
                },
                {
                    "output_type": "display_data",
                    "data": {
                        "text/html": "There are 0 rows in 0 pages for object \"sys.systypedsubobjs\"."
                    },
                    "metadata": {}
                },
                {
                    "output_type": "display_data",
                    "data": {
                        "text/html": "DBCC results for 'sys.sysidxstats'."
                    },
                    "metadata": {}
                },
                {
                    "output_type": "display_data",
                    "data": {
                        "text/html": "There are 252 rows in 4 pages for object \"sys.sysidxstats\"."
                    },
                    "metadata": {}
                },
                {
                    "output_type": "display_data",
                    "data": {
                        "text/html": "DBCC results for 'sys.sysiscols'."
                    },
                    "metadata": {}
                },
                {
                    "output_type": "display_data",
                    "data": {
                        "text/html": "There are 448 rows in 4 pages for object \"sys.sysiscols\"."
                    },
                    "metadata": {}
                },
                {
                    "output_type": "display_data",
                    "data": {
                        "text/html": "DBCC results for 'sys.sysendpts'."
                    },
                    "metadata": {}
                },
                {
                    "output_type": "display_data",
                    "data": {
                        "text/html": "There are 5 rows in 1 pages for object \"sys.sysendpts\"."
                    },
                    "metadata": {}
                },
                {
                    "output_type": "display_data",
                    "data": {
                        "text/html": "DBCC results for 'sys.syswebmethods'."
                    },
                    "metadata": {}
                },
                {
                    "output_type": "display_data",
                    "data": {
                        "text/html": "There are 0 rows in 0 pages for object \"sys.syswebmethods\"."
                    },
                    "metadata": {}
                },
                {
                    "output_type": "display_data",
                    "data": {
                        "text/html": "DBCC results for 'sys.sysbinobjs'."
                    },
                    "metadata": {}
                },
                {
                    "output_type": "display_data",
                    "data": {
                        "text/html": "There are 23 rows in 1 pages for object \"sys.sysbinobjs\"."
                    },
                    "metadata": {}
                },
                {
                    "output_type": "display_data",
                    "data": {
                        "text/html": "DBCC results for 'sys.sysaudacts'."
                    },
                    "metadata": {}
                },
                {
                    "output_type": "display_data",
                    "data": {
                        "text/html": "There are 0 rows in 0 pages for object \"sys.sysaudacts\"."
                    },
                    "metadata": {}
                },
                {
                    "output_type": "display_data",
                    "data": {
                        "text/html": "DBCC results for 'sys.sysobjvalues'."
                    },
                    "metadata": {}
                },
                {
                    "output_type": "display_data",
                    "data": {
                        "text/html": "There are 659 rows in 46 pages for object \"sys.sysobjvalues\"."
                    },
                    "metadata": {}
                },
                {
                    "output_type": "display_data",
                    "data": {
                        "text/html": "DBCC results for 'sys.sysmatrixconfig'."
                    },
                    "metadata": {}
                },
                {
                    "output_type": "display_data",
                    "data": {
                        "text/html": "There are 0 rows in 0 pages for object \"sys.sysmatrixconfig\"."
                    },
                    "metadata": {}
                },
                {
                    "output_type": "display_data",
                    "data": {
                        "text/html": "DBCC results for 'sys.syscscolsegments'."
                    },
                    "metadata": {}
                },
                {
                    "output_type": "display_data",
                    "data": {
                        "text/html": "There are 0 rows in 0 pages for object \"sys.syscscolsegments\"."
                    },
                    "metadata": {}
                },
                {
                    "output_type": "display_data",
                    "data": {
                        "text/html": "DBCC results for 'sys.syscsdictionaries'."
                    },
                    "metadata": {}
                },
                {
                    "output_type": "display_data",
                    "data": {
                        "text/html": "There are 0 rows in 0 pages for object \"sys.syscsdictionaries\"."
                    },
                    "metadata": {}
                },
                {
                    "output_type": "display_data",
                    "data": {
                        "text/html": "DBCC results for 'sys.sysclsobjs'."
                    },
                    "metadata": {}
                },
                {
                    "output_type": "display_data",
                    "data": {
                        "text/html": "There are 29 rows in 1 pages for object \"sys.sysclsobjs\"."
                    },
                    "metadata": {}
                },
                {
                    "output_type": "display_data",
                    "data": {
                        "text/html": "DBCC results for 'sys.sysrowsetrefs'."
                    },
                    "metadata": {}
                },
                {
                    "output_type": "display_data",
                    "data": {
                        "text/html": "There are 0 rows in 0 pages for object \"sys.sysrowsetrefs\"."
                    },
                    "metadata": {}
                },
                {
                    "output_type": "display_data",
                    "data": {
                        "text/html": "DBCC results for 'sys.sysremsvcbinds'."
                    },
                    "metadata": {}
                },
                {
                    "output_type": "display_data",
                    "data": {
                        "text/html": "There are 0 rows in 0 pages for object \"sys.sysremsvcbinds\"."
                    },
                    "metadata": {}
                },
                {
                    "output_type": "display_data",
                    "data": {
                        "text/html": "DBCC results for 'sys.sysxmitqueue'."
                    },
                    "metadata": {}
                },
                {
                    "output_type": "display_data",
                    "data": {
                        "text/html": "There are 0 rows in 0 pages for object \"sys.sysxmitqueue\"."
                    },
                    "metadata": {}
                },
                {
                    "output_type": "display_data",
                    "data": {
                        "text/html": "DBCC results for 'sys.sysrts'."
                    },
                    "metadata": {}
                },
                {
                    "output_type": "display_data",
                    "data": {
                        "text/html": "There are 1 rows in 1 pages for object \"sys.sysrts\"."
                    },
                    "metadata": {}
                },
                {
                    "output_type": "display_data",
                    "data": {
                        "text/html": "DBCC results for 'sys.sysmatrixbricks'."
                    },
                    "metadata": {}
                },
                {
                    "output_type": "display_data",
                    "data": {
                        "text/html": "There are 0 rows in 0 pages for object \"sys.sysmatrixbricks\"."
                    },
                    "metadata": {}
                },
                {
                    "output_type": "display_data",
                    "data": {
                        "text/html": "DBCC results for 'sys.sysconvgroup'."
                    },
                    "metadata": {}
                },
                {
                    "output_type": "display_data",
                    "data": {
                        "text/html": "There are 0 rows in 0 pages for object \"sys.sysconvgroup\"."
                    },
                    "metadata": {}
                },
                {
                    "output_type": "display_data",
                    "data": {
                        "text/html": "DBCC results for 'sys.sysdesend'."
                    },
                    "metadata": {}
                },
                {
                    "output_type": "display_data",
                    "data": {
                        "text/html": "There are 0 rows in 0 pages for object \"sys.sysdesend\"."
                    },
                    "metadata": {}
                },
                {
                    "output_type": "display_data",
                    "data": {
                        "text/html": "DBCC results for 'sys.sysdercv'."
                    },
                    "metadata": {}
                },
                {
                    "output_type": "display_data",
                    "data": {
                        "text/html": "There are 0 rows in 0 pages for object \"sys.sysdercv\"."
                    },
                    "metadata": {}
                },
                {
                    "output_type": "display_data",
                    "data": {
                        "text/html": "DBCC results for 'sys.syssingleobjrefs'."
                    },
                    "metadata": {}
                },
                {
                    "output_type": "display_data",
                    "data": {
                        "text/html": "There are 218 rows in 1 pages for object \"sys.syssingleobjrefs\"."
                    },
                    "metadata": {}
                },
                {
                    "output_type": "display_data",
                    "data": {
                        "text/html": "DBCC results for 'sys.sysmultiobjrefs'."
                    },
                    "metadata": {}
                },
                {
                    "output_type": "display_data",
                    "data": {
                        "text/html": "There are 114 rows in 1 pages for object \"sys.sysmultiobjrefs\"."
                    },
                    "metadata": {}
                },
                {
                    "output_type": "display_data",
                    "data": {
                        "text/html": "DBCC results for 'sys.sysmatrixmanagers'."
                    },
                    "metadata": {}
                },
                {
                    "output_type": "display_data",
                    "data": {
                        "text/html": "There are 0 rows in 0 pages for object \"sys.sysmatrixmanagers\"."
                    },
                    "metadata": {}
                },
                {
                    "output_type": "display_data",
                    "data": {
                        "text/html": "DBCC results for 'sys.sysguidrefs'."
                    },
                    "metadata": {}
                },
                {
                    "output_type": "display_data",
                    "data": {
                        "text/html": "There are 1 rows in 1 pages for object \"sys.sysguidrefs\"."
                    },
                    "metadata": {}
                },
                {
                    "output_type": "display_data",
                    "data": {
                        "text/html": "DBCC results for 'sys.sysfoqueues'."
                    },
                    "metadata": {}
                },
                {
                    "output_type": "display_data",
                    "data": {
                        "text/html": "There are 0 rows in 0 pages for object \"sys.sysfoqueues\"."
                    },
                    "metadata": {}
                },
                {
                    "output_type": "display_data",
                    "data": {
                        "text/html": "DBCC results for 'sys.syschildinsts'."
                    },
                    "metadata": {}
                },
                {
                    "output_type": "display_data",
                    "data": {
                        "text/html": "There are 0 rows in 0 pages for object \"sys.syschildinsts\"."
                    },
                    "metadata": {}
                },
                {
                    "output_type": "display_data",
                    "data": {
                        "text/html": "DBCC results for 'sys.sysextendedrecoveryforks'."
                    },
                    "metadata": {}
                },
                {
                    "output_type": "display_data",
                    "data": {
                        "text/html": "There are 0 rows in 0 pages for object \"sys.sysextendedrecoveryforks\"."
                    },
                    "metadata": {}
                },
                {
                    "output_type": "display_data",
                    "data": {
                        "text/html": "DBCC results for 'sys.syscompfragments'."
                    },
                    "metadata": {}
                },
                {
                    "output_type": "display_data",
                    "data": {
                        "text/html": "There are 0 rows in 0 pages for object \"sys.syscompfragments\"."
                    },
                    "metadata": {}
                },
                {
                    "output_type": "display_data",
                    "data": {
                        "text/html": "DBCC results for 'sys.sysmatrixageforget'."
                    },
                    "metadata": {}
                },
                {
                    "output_type": "display_data",
                    "data": {
                        "text/html": "There are 0 rows in 0 pages for object \"sys.sysmatrixageforget\"."
                    },
                    "metadata": {}
                },
                {
                    "output_type": "display_data",
                    "data": {
                        "text/html": "DBCC results for 'sys.sysftsemanticsdb'."
                    },
                    "metadata": {}
                },
                {
                    "output_type": "display_data",
                    "data": {
                        "text/html": "There are 0 rows in 0 pages for object \"sys.sysftsemanticsdb\"."
                    },
                    "metadata": {}
                },
                {
                    "output_type": "display_data",
                    "data": {
                        "text/html": "DBCC results for 'sys.sysftstops'."
                    },
                    "metadata": {}
                },
                {
                    "output_type": "display_data",
                    "data": {
                        "text/html": "There are 0 rows in 0 pages for object \"sys.sysftstops\"."
                    },
                    "metadata": {}
                },
                {
                    "output_type": "display_data",
                    "data": {
                        "text/html": "DBCC results for 'sys.sysftproperties'."
                    },
                    "metadata": {}
                },
                {
                    "output_type": "display_data",
                    "data": {
                        "text/html": "There are 0 rows in 0 pages for object \"sys.sysftproperties\"."
                    },
                    "metadata": {}
                },
                {
                    "output_type": "display_data",
                    "data": {
                        "text/html": "DBCC results for 'sys.sysxmitbody'."
                    },
                    "metadata": {}
                },
                {
                    "output_type": "display_data",
                    "data": {
                        "text/html": "There are 0 rows in 0 pages for object \"sys.sysxmitbody\"."
                    },
                    "metadata": {}
                },
                {
                    "output_type": "display_data",
                    "data": {
                        "text/html": "DBCC results for 'sys.sysfos'."
                    },
                    "metadata": {}
                },
                {
                    "output_type": "display_data",
                    "data": {
                        "text/html": "There are 0 rows in 0 pages for object \"sys.sysfos\"."
                    },
                    "metadata": {}
                },
                {
                    "output_type": "display_data",
                    "data": {
                        "text/html": "DBCC results for 'sys.sysqnames'."
                    },
                    "metadata": {}
                },
                {
                    "output_type": "display_data",
                    "data": {
                        "text/html": "There are 114 rows in 1 pages for object \"sys.sysqnames\"."
                    },
                    "metadata": {}
                },
                {
                    "output_type": "display_data",
                    "data": {
                        "text/html": "DBCC results for 'sys.sysxmlcomponent'."
                    },
                    "metadata": {}
                },
                {
                    "output_type": "display_data",
                    "data": {
                        "text/html": "There are 100 rows in 1 pages for object \"sys.sysxmlcomponent\"."
                    },
                    "metadata": {}
                },
                {
                    "output_type": "display_data",
                    "data": {
                        "text/html": "DBCC results for 'sys.sysxmlfacet'."
                    },
                    "metadata": {}
                },
                {
                    "output_type": "display_data",
                    "data": {
                        "text/html": "There are 112 rows in 1 pages for object \"sys.sysxmlfacet\"."
                    },
                    "metadata": {}
                },
                {
                    "output_type": "display_data",
                    "data": {
                        "text/html": "DBCC results for 'sys.sysxmlplacement'."
                    },
                    "metadata": {}
                },
                {
                    "output_type": "display_data",
                    "data": {
                        "text/html": "There are 19 rows in 1 pages for object \"sys.sysxmlplacement\"."
                    },
                    "metadata": {}
                },
                {
                    "output_type": "display_data",
                    "data": {
                        "text/html": "DBCC results for 'sys.sysobjkeycrypts'."
                    },
                    "metadata": {}
                },
                {
                    "output_type": "display_data",
                    "data": {
                        "text/html": "There are 9 rows in 1 pages for object \"sys.sysobjkeycrypts\"."
                    },
                    "metadata": {}
                },
                {
                    "output_type": "display_data",
                    "data": {
                        "text/html": "DBCC results for 'sys.sysasymkeys'."
                    },
                    "metadata": {}
                },
                {
                    "output_type": "display_data",
                    "data": {
                        "text/html": "There are 0 rows in 1 pages for object \"sys.sysasymkeys\"."
                    },
                    "metadata": {}
                },
                {
                    "output_type": "display_data",
                    "data": {
                        "text/html": "DBCC results for 'sys.syssqlguides'."
                    },
                    "metadata": {}
                },
                {
                    "output_type": "display_data",
                    "data": {
                        "text/html": "There are 0 rows in 0 pages for object \"sys.syssqlguides\"."
                    },
                    "metadata": {}
                },
                {
                    "output_type": "display_data",
                    "data": {
                        "text/html": "DBCC results for 'sys.sysbinsubobjs'."
                    },
                    "metadata": {}
                },
                {
                    "output_type": "display_data",
                    "data": {
                        "text/html": "There are 3 rows in 1 pages for object \"sys.sysbinsubobjs\"."
                    },
                    "metadata": {}
                },
                {
                    "output_type": "display_data",
                    "data": {
                        "text/html": "DBCC results for 'sys.syssoftobjrefs'."
                    },
                    "metadata": {}
                },
                {
                    "output_type": "display_data",
                    "data": {
                        "text/html": "There are 0 rows in 0 pages for object \"sys.syssoftobjrefs\"."
                    },
                    "metadata": {}
                },
                {
                    "output_type": "display_data",
                    "data": {
                        "text/html": "DBCC results for 'spt_fallback_db'."
                    },
                    "metadata": {}
                },
                {
                    "output_type": "display_data",
                    "data": {
                        "text/html": "There are 0 rows in 0 pages for object \"spt_fallback_db\"."
                    },
                    "metadata": {}
                },
                {
                    "output_type": "display_data",
                    "data": {
                        "text/html": "DBCC results for 'spt_fallback_dev'."
                    },
                    "metadata": {}
                },
                {
                    "output_type": "display_data",
                    "data": {
                        "text/html": "There are 0 rows in 0 pages for object \"spt_fallback_dev\"."
                    },
                    "metadata": {}
                },
                {
                    "output_type": "display_data",
                    "data": {
                        "text/html": "DBCC results for 'spt_fallback_usg'."
                    },
                    "metadata": {}
                },
                {
                    "output_type": "display_data",
                    "data": {
                        "text/html": "There are 0 rows in 0 pages for object \"spt_fallback_usg\"."
                    },
                    "metadata": {}
                },
                {
                    "output_type": "display_data",
                    "data": {
                        "text/html": "DBCC results for 'Works'."
                    },
                    "metadata": {}
                },
                {
                    "output_type": "display_data",
                    "data": {
                        "text/html": "There are 0 rows in 0 pages for object \"Works\"."
                    },
                    "metadata": {}
                },
                {
                    "output_type": "display_data",
                    "data": {
                        "text/html": "DBCC results for 'sys.queue_messages_1003150619'."
                    },
                    "metadata": {}
                },
                {
                    "output_type": "display_data",
                    "data": {
                        "text/html": "There are 0 rows in 0 pages for object \"sys.queue_messages_1003150619\"."
                    },
                    "metadata": {}
                },
                {
                    "output_type": "display_data",
                    "data": {
                        "text/html": "DBCC results for 'sys.queue_messages_1035150733'."
                    },
                    "metadata": {}
                },
                {
                    "output_type": "display_data",
                    "data": {
                        "text/html": "There are 0 rows in 0 pages for object \"sys.queue_messages_1035150733\"."
                    },
                    "metadata": {}
                },
                {
                    "output_type": "display_data",
                    "data": {
                        "text/html": "DBCC results for 'sys.queue_messages_1067150847'."
                    },
                    "metadata": {}
                },
                {
                    "output_type": "display_data",
                    "data": {
                        "text/html": "There are 0 rows in 0 pages for object \"sys.queue_messages_1067150847\"."
                    },
                    "metadata": {}
                },
                {
                    "output_type": "display_data",
                    "data": {
                        "text/html": "DBCC results for 'sys.syscommittab'."
                    },
                    "metadata": {}
                },
                {
                    "output_type": "display_data",
                    "data": {
                        "text/html": "There are 0 rows in 0 pages for object \"sys.syscommittab\"."
                    },
                    "metadata": {}
                },
                {
                    "output_type": "display_data",
                    "data": {
                        "text/html": "DBCC results for 'sys.sqlagent_jobs'."
                    },
                    "metadata": {}
                },
                {
                    "output_type": "display_data",
                    "data": {
                        "text/html": "There are 0 rows in 0 pages for object \"sys.sqlagent_jobs\"."
                    },
                    "metadata": {}
                },
                {
                    "output_type": "display_data",
                    "data": {
                        "text/html": "DBCC results for 'sys.sqlagent_jobsteps'."
                    },
                    "metadata": {}
                },
                {
                    "output_type": "display_data",
                    "data": {
                        "text/html": "There are 0 rows in 0 pages for object \"sys.sqlagent_jobsteps\"."
                    },
                    "metadata": {}
                },
                {
                    "output_type": "display_data",
                    "data": {
                        "text/html": "DBCC results for 'sys.sqlagent_job_history'."
                    },
                    "metadata": {}
                },
                {
                    "output_type": "display_data",
                    "data": {
                        "text/html": "There are 0 rows in 0 pages for object \"sys.sqlagent_job_history\"."
                    },
                    "metadata": {}
                },
                {
                    "output_type": "display_data",
                    "data": {
                        "text/html": "DBCC results for 'sys.sqlagent_jobsteps_logs'."
                    },
                    "metadata": {}
                },
                {
                    "output_type": "display_data",
                    "data": {
                        "text/html": "There are 0 rows in 0 pages for object \"sys.sqlagent_jobsteps_logs\"."
                    },
                    "metadata": {}
                },
                {
                    "output_type": "display_data",
                    "data": {
                        "text/html": "DBCC results for 'sys.plan_persist_query_text'."
                    },
                    "metadata": {}
                },
                {
                    "output_type": "display_data",
                    "data": {
                        "text/html": "There are 0 rows in 0 pages for object \"sys.plan_persist_query_text\"."
                    },
                    "metadata": {}
                },
                {
                    "output_type": "display_data",
                    "data": {
                        "text/html": "DBCC results for 'sys.plan_persist_query'."
                    },
                    "metadata": {}
                },
                {
                    "output_type": "display_data",
                    "data": {
                        "text/html": "There are 0 rows in 0 pages for object \"sys.plan_persist_query\"."
                    },
                    "metadata": {}
                },
                {
                    "output_type": "display_data",
                    "data": {
                        "text/html": "DBCC results for 'sys.plan_persist_plan'."
                    },
                    "metadata": {}
                },
                {
                    "output_type": "display_data",
                    "data": {
                        "text/html": "There are 0 rows in 0 pages for object \"sys.plan_persist_plan\"."
                    },
                    "metadata": {}
                },
                {
                    "output_type": "display_data",
                    "data": {
                        "text/html": "DBCC results for 'sys.plan_persist_runtime_stats'."
                    },
                    "metadata": {}
                },
                {
                    "output_type": "display_data",
                    "data": {
                        "text/html": "There are 0 rows in 0 pages for object \"sys.plan_persist_runtime_stats\"."
                    },
                    "metadata": {}
                },
                {
                    "output_type": "display_data",
                    "data": {
                        "text/html": "DBCC results for 'sys.plan_persist_runtime_stats_interval'."
                    },
                    "metadata": {}
                },
                {
                    "output_type": "display_data",
                    "data": {
                        "text/html": "There are 0 rows in 0 pages for object \"sys.plan_persist_runtime_stats_interval\"."
                    },
                    "metadata": {}
                },
                {
                    "output_type": "display_data",
                    "data": {
                        "text/html": "DBCC results for 'sys.plan_persist_context_settings'."
                    },
                    "metadata": {}
                },
                {
                    "output_type": "display_data",
                    "data": {
                        "text/html": "There are 0 rows in 0 pages for object \"sys.plan_persist_context_settings\"."
                    },
                    "metadata": {}
                },
                {
                    "output_type": "display_data",
                    "data": {
                        "text/html": "DBCC results for 'sys.plan_persist_query_hints'."
                    },
                    "metadata": {}
                },
                {
                    "output_type": "display_data",
                    "data": {
                        "text/html": "There are 0 rows in 0 pages for object \"sys.plan_persist_query_hints\"."
                    },
                    "metadata": {}
                },
                {
                    "output_type": "display_data",
                    "data": {
                        "text/html": "DBCC results for 'sys.plan_persist_query_template_parameterization'."
                    },
                    "metadata": {}
                },
                {
                    "output_type": "display_data",
                    "data": {
                        "text/html": "There are 0 rows in 0 pages for object \"sys.plan_persist_query_template_parameterization\"."
                    },
                    "metadata": {}
                },
                {
                    "output_type": "display_data",
                    "data": {
                        "text/html": "DBCC results for 'sys.plan_persist_wait_stats'."
                    },
                    "metadata": {}
                },
                {
                    "output_type": "display_data",
                    "data": {
                        "text/html": "There are 0 rows in 0 pages for object \"sys.plan_persist_wait_stats\"."
                    },
                    "metadata": {}
                },
                {
                    "output_type": "display_data",
                    "data": {
                        "text/html": "DBCC results for 'sys.persistent_version_store'."
                    },
                    "metadata": {}
                },
                {
                    "output_type": "display_data",
                    "data": {
                        "text/html": "There are 0 rows in 0 pages for object \"sys.persistent_version_store\"."
                    },
                    "metadata": {}
                },
                {
                    "output_type": "display_data",
                    "data": {
                        "text/html": "DBCC results for 'sys.persistent_version_store_long_term'."
                    },
                    "metadata": {}
                },
                {
                    "output_type": "display_data",
                    "data": {
                        "text/html": "There are 0 rows in 0 pages for object \"sys.persistent_version_store_long_term\"."
                    },
                    "metadata": {}
                },
                {
                    "output_type": "display_data",
                    "data": {
                        "text/html": "DBCC results for 'sys._trusted_assemblies'."
                    },
                    "metadata": {}
                },
                {
                    "output_type": "display_data",
                    "data": {
                        "text/html": "There are 0 rows in 0 pages for object \"sys._trusted_assemblies\"."
                    },
                    "metadata": {}
                },
                {
                    "output_type": "display_data",
                    "data": {
                        "text/html": "DBCC results for 'sys.tbl_server_resource_stats'."
                    },
                    "metadata": {}
                },
                {
                    "output_type": "display_data",
                    "data": {
                        "text/html": "There are 0 rows in 0 pages for object \"sys.tbl_server_resource_stats\"."
                    },
                    "metadata": {}
                },
                {
                    "output_type": "display_data",
                    "data": {
                        "text/html": "DBCC results for 'sys.external_library_setup_failures'."
                    },
                    "metadata": {}
                },
                {
                    "output_type": "display_data",
                    "data": {
                        "text/html": "There are 0 rows in 0 pages for object \"sys.external_library_setup_failures\"."
                    },
                    "metadata": {}
                },
                {
                    "output_type": "display_data",
                    "data": {
                        "text/html": "DBCC results for 'spt_monitor'."
                    },
                    "metadata": {}
                },
                {
                    "output_type": "display_data",
                    "data": {
                        "text/html": "There are 1 rows in 1 pages for object \"spt_monitor\"."
                    },
                    "metadata": {}
                },
                {
                    "output_type": "display_data",
                    "data": {
                        "text/html": "DBCC results for 'MSreplication_options'."
                    },
                    "metadata": {}
                },
                {
                    "output_type": "display_data",
                    "data": {
                        "text/html": "There are 3 rows in 1 pages for object \"MSreplication_options\"."
                    },
                    "metadata": {}
                },
                {
                    "output_type": "display_data",
                    "data": {
                        "text/html": "CHECKFILEGROUP found 0 allocation errors and 0 consistency errors in database 'master'."
                    },
                    "metadata": {}
                },
                {
                    "output_type": "display_data",
                    "data": {
                        "text/html": "DBCC execution completed. If DBCC printed error messages, contact your system administrator."
                    },
                    "metadata": {}
                },
                {
                    "output_type": "display_data",
                    "data": {
                        "text/html": "Total execution time: 00:00:00.344"
                    },
                    "metadata": {}
                }
            ],
            "execution_count": 26
        },
        {
            "cell_type": "code",
            "source": [
                "-- recipe 26-18\r\n",
                "USE AdventureWorks2014;\r\n",
                "GO\r\n",
                "DBCC CHECKTABLE ('Production.Product');\r\n",
                "GO\r\n",
                "DBCC CHECKTABLE ('Sales.SalesOrderDetail') WITH ESTIMATEONLY;\r\n",
                "GO\r\n",
                "\r\n",
                "DECLARE @IndexId INTEGER;\r\n",
                "SELECT  @IndexId = index_id\r\n",
                "FROM    sys.indexes\r\n",
                "WHERE   object_id = OBJECT_ID('Sales.SalesOrderDetail')\r\n",
                "AND     name = 'IX_SalesOrderDetail_ProductID';\r\n",
                "\r\n",
                "DBCC CHECKTABLE ('Sales.SalesOrderDetail', @IndexId) WITH PHYSICAL_ONLY;\r\n",
                "GO"
            ],
            "metadata": {
                "azdata_cell_guid": "b3afbf37-d1a6-4594-b59e-118831863a1a"
            },
            "outputs": [
                {
                    "output_type": "display_data",
                    "data": {
                        "text/html": "Commands completed successfully."
                    },
                    "metadata": {}
                },
                {
                    "output_type": "display_data",
                    "data": {
                        "text/html": "DBCC results for 'Production.Product'."
                    },
                    "metadata": {}
                },
                {
                    "output_type": "display_data",
                    "data": {
                        "text/html": "There are 504 rows in 13 pages for object \"Production.Product\"."
                    },
                    "metadata": {}
                },
                {
                    "output_type": "display_data",
                    "data": {
                        "text/html": "DBCC execution completed. If DBCC printed error messages, contact your system administrator."
                    },
                    "metadata": {}
                },
                {
                    "output_type": "display_data",
                    "data": {
                        "text/html": "Estimated TEMPDB space (in KB) needed for CHECKTABLE on database AdventureWorks2014 = 13001."
                    },
                    "metadata": {}
                },
                {
                    "output_type": "display_data",
                    "data": {
                        "text/html": "DBCC execution completed. If DBCC printed error messages, contact your system administrator."
                    },
                    "metadata": {}
                },
                {
                    "output_type": "display_data",
                    "data": {
                        "text/html": "DBCC execution completed. If DBCC printed error messages, contact your system administrator."
                    },
                    "metadata": {}
                },
                {
                    "output_type": "display_data",
                    "data": {
                        "text/html": "Total execution time: 00:00:00.586"
                    },
                    "metadata": {}
                }
            ],
            "execution_count": 27
        },
        {
            "cell_type": "code",
            "source": [
                "-- recipe 26-19\r\n",
                "USE AdventureWorks2014;\r\n",
                "GO\r\n",
                "SELECT StartDate, EndDate FROM Production.WorkOrder WHERE WorkOrderID = 1;\r\n",
                "GO\r\n",
                "ALTER TABLE Production.WorkOrder NOCHECK CONSTRAINT CK_WorkOrder_EndDate; \r\n",
                "GO\r\n",
                "-- Set an EndDate to earlier than a StartDate\r\n",
                "UPDATE Production.WorkOrder\r\n",
                "SET EndDate = '2001-01-01T00:00:00'\r\n",
                "WHERE WorkOrderID = 1;\r\n",
                "GO\r\n",
                "ALTER TABLE Production.WorkOrder CHECK CONSTRAINT CK_WorkOrder_EndDate;\r\n",
                "GO\r\n",
                "DBCC CHECKCONSTRAINTS ('Production.WorkOrder');\r\n",
                "GO\r\n",
                "\r\n",
                "UPDATE Production.WorkOrder\r\n",
                "SET EndDate = '2011-06-13T00:00:00.000'\r\n",
                "WHERE WorkOrderID = 1;\r\n",
                "DBCC CHECKCONSTRAINTS ('Production.WorkOrder');\r\n",
                "GO"
            ],
            "metadata": {
                "azdata_cell_guid": "1996df70-ab18-4ebe-9ae5-a40b3c3ae3ab"
            },
            "outputs": [
                {
                    "output_type": "display_data",
                    "data": {
                        "text/html": "Commands completed successfully."
                    },
                    "metadata": {}
                },
                {
                    "output_type": "display_data",
                    "data": {
                        "text/html": "Commands completed successfully."
                    },
                    "metadata": {}
                },
                {
                    "output_type": "display_data",
                    "data": {
                        "text/html": "Commands completed successfully."
                    },
                    "metadata": {}
                },
                {
                    "output_type": "display_data",
                    "data": {
                        "text/html": "Commands completed successfully."
                    },
                    "metadata": {}
                },
                {
                    "output_type": "display_data",
                    "data": {
                        "text/html": "Commands completed successfully."
                    },
                    "metadata": {}
                },
                {
                    "output_type": "execute_result",
                    "metadata": {},
                    "execution_count": 28,
                    "data": {
                        "application/vnd.dataresource+json": {
                            "schema": {
                                "fields": [
                                    {
                                        "name": "StartDate"
                                    },
                                    {
                                        "name": "EndDate"
                                    }
                                ]
                            },
                            "data": [
                                {
                                    "0": "2011-06-03 00:00:00.000",
                                    "1": "2011-06-13 00:00:00.000"
                                }
                            ]
                        },
                        "text/html": [
                            "<table>",
                            "<tr><th>StartDate</th><th>EndDate</th></tr>",
                            "<tr><td>2011-06-03 00:00:00.000</td><td>2011-06-13 00:00:00.000</td></tr>",
                            "</table>"
                        ]
                    }
                },
                {
                    "output_type": "display_data",
                    "data": {
                        "text/html": "DBCC execution completed. If DBCC printed error messages, contact your system administrator."
                    },
                    "metadata": {}
                },
                {
                    "output_type": "display_data",
                    "data": {
                        "text/html": "DBCC execution completed. If DBCC printed error messages, contact your system administrator."
                    },
                    "metadata": {}
                },
                {
                    "output_type": "display_data",
                    "data": {
                        "text/html": "Total execution time: 00:00:00.519"
                    },
                    "metadata": {}
                },
                {
                    "output_type": "execute_result",
                    "metadata": {},
                    "execution_count": 28,
                    "data": {
                        "application/vnd.dataresource+json": {
                            "schema": {
                                "fields": [
                                    {
                                        "name": "Table"
                                    },
                                    {
                                        "name": "Constraint"
                                    },
                                    {
                                        "name": "Where"
                                    }
                                ]
                            },
                            "data": [
                                {
                                    "0": "[Production].[WorkOrder]",
                                    "1": "[CK_WorkOrder_EndDate]",
                                    "2": "[StartDate] = '2011-06-03 00:00:00.000' AND [EndDate] = '2001-01-01 00:00:00.000'"
                                }
                            ]
                        },
                        "text/html": [
                            "<table>",
                            "<tr><th>Table</th><th>Constraint</th><th>Where</th></tr>",
                            "<tr><td>[Production].[WorkOrder]</td><td>[CK_WorkOrder_EndDate]</td><td>[StartDate] = '2011-06-03 00:00:00.000' AND [EndDate] = '2001-01-01 00:00:00.000'</td></tr>",
                            "</table>"
                        ]
                    }
                }
            ],
            "execution_count": 28
        },
        {
            "cell_type": "code",
            "source": [
                "-- recipe 26-20\r\n",
                "DBCC CHECKCATALOG ('BookStoreArchive');"
            ],
            "metadata": {
                "azdata_cell_guid": "61c467cc-600b-4868-9532-c416cee659ea"
            },
            "outputs": [
                {
                    "output_type": "error",
                    "evalue": "Msg 945, Level 14, State 2, Line 2\r\nDatabase 'BookStoreArchive' cannot be opened due to inaccessible files or insufficient memory or disk space.  See the SQL Server errorlog for details.",
                    "ename": "",
                    "traceback": []
                },
                {
                    "output_type": "display_data",
                    "data": {
                        "text/html": "Total execution time: 00:00:00.011"
                    },
                    "metadata": {}
                }
            ],
            "execution_count": 29
        }
    ]
}