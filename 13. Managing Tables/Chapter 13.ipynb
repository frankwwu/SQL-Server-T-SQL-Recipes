{
    "metadata": {
        "kernelspec": {
            "name": "SQL",
            "display_name": "SQL",
            "language": "sql"
        },
        "language_info": {
            "name": "sql",
            "version": ""
        }
    },
    "nbformat_minor": 2,
    "nbformat": 4,
    "cells": [
        {
            "cell_type": "code",
            "source": [
                "USE AdventureWorks2014;\r\n",
                "GO"
            ],
            "metadata": {
                "azdata_cell_guid": "9e30f7cc-e4cb-49c4-878e-fa9cb37a9c10"
            },
            "outputs": [
                {
                    "output_type": "display_data",
                    "data": {
                        "text/html": "Commands completed successfully."
                    },
                    "metadata": {}
                },
                {
                    "output_type": "display_data",
                    "data": {
                        "text/html": "Total execution time: 00:00:00.051"
                    },
                    "metadata": {}
                }
            ],
            "execution_count": 1
        },
        {
            "cell_type": "code",
            "source": [
                "-- recipe 13.1\r\n",
                "CREATE TABLE dbo.Person (\r\n",
                "  PersonID INT IDENTITY CONSTRAINT PK_Person PRIMARY KEY CLUSTERED,\r\n",
                "  BusinessEntityId INT NOT NULL \r\n",
                "      CONSTRAINT FK_Person REFERENCES Person.BusinessEntity (BusinessEntityID),\r\n",
                "  First_Name VARCHAR(50) NOT NULL);\r\n",
                "\r\n",
                "CREATE TABLE dbo.Test (\r\n",
                "  Column1 INT NOT NULL,\r\n",
                "  Column2 INT NOT NULL,\r\n",
                "  CONSTRAINT PK_Test PRIMARY KEY CLUSTERED (Column1, Column2));"
            ],
            "metadata": {
                "azdata_cell_guid": "e57e456b-d891-4642-bbae-4f3f81a0a756"
            },
            "outputs": [
                {
                    "output_type": "error",
                    "evalue": "Msg 2714, Level 16, State 6, Line 2\r\nThere is already an object named 'Person' in the database.",
                    "ename": "",
                    "traceback": []
                },
                {
                    "output_type": "display_data",
                    "data": {
                        "text/html": "Total execution time: 00:00:00.011"
                    },
                    "metadata": {}
                }
            ],
            "execution_count": 2
        },
        {
            "cell_type": "code",
            "source": [
                "-- recipe 13.2\r\n",
                "ALTER TABLE dbo.Person \r\n",
                "ADD Last_Name VARCHAR(50) NULL;"
            ],
            "metadata": {
                "azdata_cell_guid": "6bb7d821-92bc-46d0-bd8a-e2c40f98aa0b"
            },
            "outputs": [
                {
                    "output_type": "display_data",
                    "data": {
                        "text/html": "Commands completed successfully."
                    },
                    "metadata": {}
                },
                {
                    "output_type": "display_data",
                    "data": {
                        "text/html": "Total execution time: 00:00:00.012"
                    },
                    "metadata": {}
                }
            ],
            "execution_count": 3
        },
        {
            "cell_type": "code",
            "source": [
                "-- recipe 13.3\r\n",
                "ALTER TABLE dbo.Person \r\n",
                "ADD IsActive BIT NOT NULL\r\n",
                "CONSTRAINT DF__Person__IsActive DEFAULT (0);"
            ],
            "metadata": {
                "azdata_cell_guid": "7118f1f0-be5d-4e6e-8060-c67fafd6c244"
            },
            "outputs": [
                {
                    "output_type": "display_data",
                    "data": {
                        "text/html": "Commands completed successfully."
                    },
                    "metadata": {}
                },
                {
                    "output_type": "display_data",
                    "data": {
                        "text/html": "Total execution time: 00:00:00.024"
                    },
                    "metadata": {}
                }
            ],
            "execution_count": 4
        },
        {
            "cell_type": "code",
            "source": [
                "--recipe 13.4\r\n",
                "ALTER TABLE dbo.Person \r\n",
                "ALTER COLUMN Last_Name VARCHAR(75) NULL;"
            ],
            "metadata": {
                "azdata_cell_guid": "8ff14ede-4993-4d0e-8242-c74809b09b58"
            },
            "outputs": [
                {
                    "output_type": "display_data",
                    "data": {
                        "text/html": "Commands completed successfully."
                    },
                    "metadata": {}
                },
                {
                    "output_type": "display_data",
                    "data": {
                        "text/html": "Total execution time: 00:00:00.008"
                    },
                    "metadata": {}
                }
            ],
            "execution_count": 5
        },
        {
            "cell_type": "code",
            "source": [
                "-- recipe 13.5\r\n",
                "ALTER TABLE Production.TransactionHistory \r\n",
                "ADD CostPerUnit AS (ActualCost/Quantity);\r\n",
                "\r\n",
                "CREATE TABLE HumanResources.CompanyStatistic (\r\n",
                "  CompanylD int NOT NULL,\r\n",
                "  StockTicker char(4) NOT NULL,\r\n",
                "  SharesOutstanding int NOT NULL,\r\n",
                "  Shareholders int NOT NULL,\r\n",
                "  AvgSharesPerShareholder AS (SharesOutstanding/Shareholders) PERSISTED);\r\n",
                "\r\n",
                "SELECT  TOP (1) CostPerUnit, Quantity, ActualCost \r\n",
                "FROM    Production.TransactionHistory \r\n",
                "WHERE   Quantity > 10 \r\n",
                "ORDER BY ActualCost DESC;"
            ],
            "metadata": {
                "azdata_cell_guid": "2e81008c-7fc1-4187-9453-db9b1b695a5f"
            },
            "outputs": [
                {
                    "output_type": "error",
                    "evalue": "Msg 2705, Level 16, State 5, Line 2\r\nColumn names in each table must be unique. Column name 'CostPerUnit' in table 'Production.TransactionHistory' is specified more than once.",
                    "ename": "",
                    "traceback": []
                },
                {
                    "output_type": "display_data",
                    "data": {
                        "text/html": "Total execution time: 00:00:00.017"
                    },
                    "metadata": {}
                }
            ],
            "execution_count": 6
        },
        {
            "cell_type": "code",
            "source": [
                "-- recipe 13.6\r\n",
                "ALTER TABLE dbo.Person \r\n",
                "DROP COLUMN Last_Name;"
            ],
            "metadata": {
                "azdata_cell_guid": "d8472727-349e-4909-b58d-a4a8cb4d4a67"
            },
            "outputs": [
                {
                    "output_type": "display_data",
                    "data": {
                        "text/html": "Commands completed successfully."
                    },
                    "metadata": {}
                },
                {
                    "output_type": "display_data",
                    "data": {
                        "text/html": "Total execution time: 00:00:00.014"
                    },
                    "metadata": {}
                }
            ],
            "execution_count": 7
        },
        {
            "cell_type": "code",
            "source": [
                "-- recipe 13.7\r\n",
                "DROP TABLE dbo.Person;"
            ],
            "metadata": {
                "azdata_cell_guid": "952baf9b-d22b-469b-ae15-88d0544a6556"
            },
            "outputs": [
                {
                    "output_type": "error",
                    "evalue": "Msg 3726, Level 16, State 1, Line 2\r\nCould not drop object 'dbo.Person' because it is referenced by a FOREIGN KEY constraint.",
                    "ename": "",
                    "traceback": []
                },
                {
                    "output_type": "display_data",
                    "data": {
                        "text/html": "Total execution time: 00:00:00.007"
                    },
                    "metadata": {}
                }
            ],
            "execution_count": 8
        },
        {
            "cell_type": "code",
            "source": [
                "-- recipe 13.8\r\n",
                "EXECUTE sp_help 'Person.Person';"
            ],
            "metadata": {
                "azdata_cell_guid": "a34259d1-caa9-4a00-b82c-e4d4ac7329ca"
            },
            "outputs": [
                {
                    "output_type": "display_data",
                    "data": {
                        "text/html": " "
                    },
                    "metadata": {}
                },
                {
                    "output_type": "display_data",
                    "data": {
                        "text/html": " "
                    },
                    "metadata": {}
                },
                {
                    "output_type": "display_data",
                    "data": {
                        "text/html": " "
                    },
                    "metadata": {}
                },
                {
                    "output_type": "display_data",
                    "data": {
                        "text/html": " "
                    },
                    "metadata": {}
                },
                {
                    "output_type": "display_data",
                    "data": {
                        "text/html": " "
                    },
                    "metadata": {}
                },
                {
                    "output_type": "display_data",
                    "data": {
                        "text/html": " "
                    },
                    "metadata": {}
                },
                {
                    "output_type": "display_data",
                    "data": {
                        "text/html": " "
                    },
                    "metadata": {}
                },
                {
                    "output_type": "display_data",
                    "data": {
                        "text/html": " "
                    },
                    "metadata": {}
                },
                {
                    "output_type": "display_data",
                    "data": {
                        "text/html": "No views with schema binding reference table 'Person.Person'."
                    },
                    "metadata": {}
                },
                {
                    "output_type": "display_data",
                    "data": {
                        "text/html": "Total execution time: 00:00:00.733"
                    },
                    "metadata": {}
                },
                {
                    "output_type": "execute_result",
                    "metadata": {},
                    "execution_count": 9,
                    "data": {
                        "application/vnd.dataresource+json": {
                            "schema": {
                                "fields": [
                                    {
                                        "name": "Name"
                                    },
                                    {
                                        "name": "Owner"
                                    },
                                    {
                                        "name": "Type"
                                    },
                                    {
                                        "name": "Created_datetime"
                                    }
                                ]
                            },
                            "data": [
                                {
                                    "0": "Person",
                                    "1": "dbo",
                                    "2": "user table",
                                    "3": "2014-07-17 16:11:15.027"
                                }
                            ]
                        },
                        "text/html": [
                            "<table>",
                            "<tr><th>Name</th><th>Owner</th><th>Type</th><th>Created_datetime</th></tr>",
                            "<tr><td>Person</td><td>dbo</td><td>user table</td><td>2014-07-17 16:11:15.027</td></tr>",
                            "</table>"
                        ]
                    }
                },
                {
                    "output_type": "execute_result",
                    "metadata": {},
                    "execution_count": 9,
                    "data": {
                        "application/vnd.dataresource+json": {
                            "schema": {
                                "fields": [
                                    {
                                        "name": "Column_name"
                                    },
                                    {
                                        "name": "Type"
                                    },
                                    {
                                        "name": "Computed"
                                    },
                                    {
                                        "name": "Length"
                                    },
                                    {
                                        "name": "Prec"
                                    },
                                    {
                                        "name": "Scale"
                                    },
                                    {
                                        "name": "Nullable"
                                    },
                                    {
                                        "name": "TrimTrailingBlanks"
                                    },
                                    {
                                        "name": "FixedLenNullInSource"
                                    },
                                    {
                                        "name": "Collation"
                                    }
                                ]
                            },
                            "data": [
                                {
                                    "0": "BusinessEntityID",
                                    "1": "int",
                                    "2": "no",
                                    "3": "4",
                                    "4": "10   ",
                                    "5": "0    ",
                                    "6": "no",
                                    "7": "(n/a)",
                                    "8": "(n/a)",
                                    "9": "NULL"
                                },
                                {
                                    "0": "PersonType",
                                    "1": "nchar",
                                    "2": "no",
                                    "3": "4",
                                    "4": "     ",
                                    "5": "     ",
                                    "6": "no",
                                    "7": "(n/a)",
                                    "8": "(n/a)",
                                    "9": "SQL_Latin1_General_CP1_CI_AS"
                                },
                                {
                                    "0": "NameStyle",
                                    "1": "NameStyle",
                                    "2": "no",
                                    "3": "1",
                                    "4": "     ",
                                    "5": "     ",
                                    "6": "no",
                                    "7": "(n/a)",
                                    "8": "(n/a)",
                                    "9": "NULL"
                                },
                                {
                                    "0": "Title",
                                    "1": "nvarchar",
                                    "2": "no",
                                    "3": "16",
                                    "4": "     ",
                                    "5": "     ",
                                    "6": "yes",
                                    "7": "(n/a)",
                                    "8": "(n/a)",
                                    "9": "SQL_Latin1_General_CP1_CI_AS"
                                },
                                {
                                    "0": "FirstName",
                                    "1": "Name",
                                    "2": "no",
                                    "3": "100",
                                    "4": "     ",
                                    "5": "     ",
                                    "6": "no",
                                    "7": "(n/a)",
                                    "8": "(n/a)",
                                    "9": "SQL_Latin1_General_CP1_CI_AS"
                                },
                                {
                                    "0": "MiddleName",
                                    "1": "Name",
                                    "2": "no",
                                    "3": "100",
                                    "4": "     ",
                                    "5": "     ",
                                    "6": "yes",
                                    "7": "(n/a)",
                                    "8": "(n/a)",
                                    "9": "SQL_Latin1_General_CP1_CI_AS"
                                },
                                {
                                    "0": "LastName",
                                    "1": "Name",
                                    "2": "no",
                                    "3": "100",
                                    "4": "     ",
                                    "5": "     ",
                                    "6": "no",
                                    "7": "(n/a)",
                                    "8": "(n/a)",
                                    "9": "SQL_Latin1_General_CP1_CI_AS"
                                },
                                {
                                    "0": "Suffix",
                                    "1": "nvarchar",
                                    "2": "no",
                                    "3": "20",
                                    "4": "     ",
                                    "5": "     ",
                                    "6": "yes",
                                    "7": "(n/a)",
                                    "8": "(n/a)",
                                    "9": "SQL_Latin1_General_CP1_CI_AS"
                                },
                                {
                                    "0": "EmailPromotion",
                                    "1": "int",
                                    "2": "no",
                                    "3": "4",
                                    "4": "10   ",
                                    "5": "0    ",
                                    "6": "no",
                                    "7": "(n/a)",
                                    "8": "(n/a)",
                                    "9": "NULL"
                                },
                                {
                                    "0": "AdditionalContactInfo",
                                    "1": "xml",
                                    "2": "no",
                                    "3": "-1",
                                    "4": "     ",
                                    "5": "     ",
                                    "6": "yes",
                                    "7": "(n/a)",
                                    "8": "(n/a)",
                                    "9": "NULL"
                                },
                                {
                                    "0": "Demographics",
                                    "1": "xml",
                                    "2": "no",
                                    "3": "-1",
                                    "4": "     ",
                                    "5": "     ",
                                    "6": "yes",
                                    "7": "(n/a)",
                                    "8": "(n/a)",
                                    "9": "NULL"
                                },
                                {
                                    "0": "rowguid",
                                    "1": "uniqueidentifier",
                                    "2": "no",
                                    "3": "16",
                                    "4": "     ",
                                    "5": "     ",
                                    "6": "no",
                                    "7": "(n/a)",
                                    "8": "(n/a)",
                                    "9": "NULL"
                                },
                                {
                                    "0": "ModifiedDate",
                                    "1": "datetime",
                                    "2": "no",
                                    "3": "8",
                                    "4": "     ",
                                    "5": "     ",
                                    "6": "no",
                                    "7": "(n/a)",
                                    "8": "(n/a)",
                                    "9": "NULL"
                                }
                            ]
                        },
                        "text/html": [
                            "<table>",
                            "<tr><th>Column_name</th><th>Type</th><th>Computed</th><th>Length</th><th>Prec</th><th>Scale</th><th>Nullable</th><th>TrimTrailingBlanks</th><th>FixedLenNullInSource</th><th>Collation</th></tr>",
                            "<tr><td>BusinessEntityID</td><td>int</td><td>no</td><td>4</td><td>10   </td><td>0    </td><td>no</td><td>(n/a)</td><td>(n/a)</td><td>NULL</td></tr>",
                            "<tr><td>PersonType</td><td>nchar</td><td>no</td><td>4</td><td>     </td><td>     </td><td>no</td><td>(n/a)</td><td>(n/a)</td><td>SQL_Latin1_General_CP1_CI_AS</td></tr>",
                            "<tr><td>NameStyle</td><td>NameStyle</td><td>no</td><td>1</td><td>     </td><td>     </td><td>no</td><td>(n/a)</td><td>(n/a)</td><td>NULL</td></tr>",
                            "<tr><td>Title</td><td>nvarchar</td><td>no</td><td>16</td><td>     </td><td>     </td><td>yes</td><td>(n/a)</td><td>(n/a)</td><td>SQL_Latin1_General_CP1_CI_AS</td></tr>",
                            "<tr><td>FirstName</td><td>Name</td><td>no</td><td>100</td><td>     </td><td>     </td><td>no</td><td>(n/a)</td><td>(n/a)</td><td>SQL_Latin1_General_CP1_CI_AS</td></tr>",
                            "<tr><td>MiddleName</td><td>Name</td><td>no</td><td>100</td><td>     </td><td>     </td><td>yes</td><td>(n/a)</td><td>(n/a)</td><td>SQL_Latin1_General_CP1_CI_AS</td></tr>",
                            "<tr><td>LastName</td><td>Name</td><td>no</td><td>100</td><td>     </td><td>     </td><td>no</td><td>(n/a)</td><td>(n/a)</td><td>SQL_Latin1_General_CP1_CI_AS</td></tr>",
                            "<tr><td>Suffix</td><td>nvarchar</td><td>no</td><td>20</td><td>     </td><td>     </td><td>yes</td><td>(n/a)</td><td>(n/a)</td><td>SQL_Latin1_General_CP1_CI_AS</td></tr>",
                            "<tr><td>EmailPromotion</td><td>int</td><td>no</td><td>4</td><td>10   </td><td>0    </td><td>no</td><td>(n/a)</td><td>(n/a)</td><td>NULL</td></tr>",
                            "<tr><td>AdditionalContactInfo</td><td>xml</td><td>no</td><td>-1</td><td>     </td><td>     </td><td>yes</td><td>(n/a)</td><td>(n/a)</td><td>NULL</td></tr>",
                            "<tr><td>Demographics</td><td>xml</td><td>no</td><td>-1</td><td>     </td><td>     </td><td>yes</td><td>(n/a)</td><td>(n/a)</td><td>NULL</td></tr>",
                            "<tr><td>rowguid</td><td>uniqueidentifier</td><td>no</td><td>16</td><td>     </td><td>     </td><td>no</td><td>(n/a)</td><td>(n/a)</td><td>NULL</td></tr>",
                            "<tr><td>ModifiedDate</td><td>datetime</td><td>no</td><td>8</td><td>     </td><td>     </td><td>no</td><td>(n/a)</td><td>(n/a)</td><td>NULL</td></tr>",
                            "</table>"
                        ]
                    }
                },
                {
                    "output_type": "execute_result",
                    "metadata": {},
                    "execution_count": 9,
                    "data": {
                        "application/vnd.dataresource+json": {
                            "schema": {
                                "fields": [
                                    {
                                        "name": "Identity"
                                    },
                                    {
                                        "name": "Seed"
                                    },
                                    {
                                        "name": "Increment"
                                    },
                                    {
                                        "name": "Not For Replication"
                                    }
                                ]
                            },
                            "data": [
                                {
                                    "0": "No identity column defined.",
                                    "1": "NULL",
                                    "2": "NULL",
                                    "3": "NULL"
                                }
                            ]
                        },
                        "text/html": [
                            "<table>",
                            "<tr><th>Identity</th><th>Seed</th><th>Increment</th><th>Not For Replication</th></tr>",
                            "<tr><td>No identity column defined.</td><td>NULL</td><td>NULL</td><td>NULL</td></tr>",
                            "</table>"
                        ]
                    }
                },
                {
                    "output_type": "execute_result",
                    "metadata": {},
                    "execution_count": 9,
                    "data": {
                        "application/vnd.dataresource+json": {
                            "schema": {
                                "fields": [
                                    {
                                        "name": "RowGuidCol"
                                    }
                                ]
                            },
                            "data": [
                                {
                                    "0": "rowguid"
                                }
                            ]
                        },
                        "text/html": [
                            "<table>",
                            "<tr><th>RowGuidCol</th></tr>",
                            "<tr><td>rowguid</td></tr>",
                            "</table>"
                        ]
                    }
                },
                {
                    "output_type": "execute_result",
                    "metadata": {},
                    "execution_count": 9,
                    "data": {
                        "application/vnd.dataresource+json": {
                            "schema": {
                                "fields": [
                                    {
                                        "name": "Data_located_on_filegroup"
                                    }
                                ]
                            },
                            "data": [
                                {
                                    "0": "PRIMARY"
                                }
                            ]
                        },
                        "text/html": [
                            "<table>",
                            "<tr><th>Data_located_on_filegroup</th></tr>",
                            "<tr><td>PRIMARY</td></tr>",
                            "</table>"
                        ]
                    }
                },
                {
                    "output_type": "execute_result",
                    "metadata": {},
                    "execution_count": 9,
                    "data": {
                        "application/vnd.dataresource+json": {
                            "schema": {
                                "fields": [
                                    {
                                        "name": "index_name"
                                    },
                                    {
                                        "name": "index_description"
                                    },
                                    {
                                        "name": "index_keys"
                                    }
                                ]
                            },
                            "data": [
                                {
                                    "0": "AK_Person_rowguid",
                                    "1": "nonclustered, unique located on PRIMARY",
                                    "2": "rowguid"
                                },
                                {
                                    "0": "IX_Person_LastName_FirstName_MiddleName",
                                    "1": "nonclustered located on PRIMARY",
                                    "2": "LastName, FirstName, MiddleName"
                                },
                                {
                                    "0": "PK_Person_BusinessEntityID",
                                    "1": "clustered, unique, primary key located on PRIMARY",
                                    "2": "BusinessEntityID"
                                }
                            ]
                        },
                        "text/html": [
                            "<table>",
                            "<tr><th>index_name</th><th>index_description</th><th>index_keys</th></tr>",
                            "<tr><td>AK_Person_rowguid</td><td>nonclustered, unique located on PRIMARY</td><td>rowguid</td></tr>",
                            "<tr><td>IX_Person_LastName_FirstName_MiddleName</td><td>nonclustered located on PRIMARY</td><td>LastName, FirstName, MiddleName</td></tr>",
                            "<tr><td>PK_Person_BusinessEntityID</td><td>clustered, unique, primary key located on PRIMARY</td><td>BusinessEntityID</td></tr>",
                            "</table>"
                        ]
                    }
                },
                {
                    "output_type": "execute_result",
                    "metadata": {},
                    "execution_count": 9,
                    "data": {
                        "application/vnd.dataresource+json": {
                            "schema": {
                                "fields": [
                                    {
                                        "name": "constraint_type"
                                    },
                                    {
                                        "name": "constraint_name"
                                    },
                                    {
                                        "name": "delete_action"
                                    },
                                    {
                                        "name": "update_action"
                                    },
                                    {
                                        "name": "status_enabled"
                                    },
                                    {
                                        "name": "status_for_replication"
                                    },
                                    {
                                        "name": "constraint_keys"
                                    }
                                ]
                            },
                            "data": [
                                {
                                    "0": "CHECK on column EmailPromotion",
                                    "1": "CK_Person_EmailPromotion",
                                    "2": "(n/a)",
                                    "3": "(n/a)",
                                    "4": "Enabled",
                                    "5": "Is_For_Replication",
                                    "6": "([EmailPromotion]>=(0) AND [EmailPromotion]<=(2))"
                                },
                                {
                                    "0": "CHECK on column PersonType",
                                    "1": "CK_Person_PersonType",
                                    "2": "(n/a)",
                                    "3": "(n/a)",
                                    "4": "Enabled",
                                    "5": "Is_For_Replication",
                                    "6": "([PersonType] IS NULL OR (upper([PersonType])='GC' OR upper([PersonType])='SP' OR upper([PersonType])='EM' OR upper([PersonType])='IN' OR upper([PersonType])='VC' OR upper([PersonType])='SC'))"
                                },
                                {
                                    "0": "DEFAULT on column EmailPromotion",
                                    "1": "DF_Person_EmailPromotion",
                                    "2": "(n/a)",
                                    "3": "(n/a)",
                                    "4": "(n/a)",
                                    "5": "(n/a)",
                                    "6": "((0))"
                                },
                                {
                                    "0": "DEFAULT on column ModifiedDate",
                                    "1": "DF_Person_ModifiedDate",
                                    "2": "(n/a)",
                                    "3": "(n/a)",
                                    "4": "(n/a)",
                                    "5": "(n/a)",
                                    "6": "(getdate())"
                                },
                                {
                                    "0": "DEFAULT on column NameStyle",
                                    "1": "DF_Person_NameStyle",
                                    "2": "(n/a)",
                                    "3": "(n/a)",
                                    "4": "(n/a)",
                                    "5": "(n/a)",
                                    "6": "((0))"
                                },
                                {
                                    "0": "DEFAULT on column rowguid",
                                    "1": "DF_Person_rowguid",
                                    "2": "(n/a)",
                                    "3": "(n/a)",
                                    "4": "(n/a)",
                                    "5": "(n/a)",
                                    "6": "(newid())"
                                },
                                {
                                    "0": "FOREIGN KEY",
                                    "1": "FK_Person_BusinessEntity_BusinessEntityID",
                                    "2": "No Action",
                                    "3": "No Action",
                                    "4": "Enabled",
                                    "5": "Is_For_Replication",
                                    "6": "BusinessEntityID"
                                },
                                {
                                    "0": " ",
                                    "1": " ",
                                    "2": " ",
                                    "3": " ",
                                    "4": " ",
                                    "5": " ",
                                    "6": "REFERENCES AdventureWorks2014.Person.BusinessEntity (BusinessEntityID)"
                                },
                                {
                                    "0": "PRIMARY KEY (clustered)",
                                    "1": "PK_Person_BusinessEntityID",
                                    "2": "(n/a)",
                                    "3": "(n/a)",
                                    "4": "(n/a)",
                                    "5": "(n/a)",
                                    "6": "BusinessEntityID"
                                }
                            ]
                        },
                        "text/html": [
                            "<table>",
                            "<tr><th>constraint_type</th><th>constraint_name</th><th>delete_action</th><th>update_action</th><th>status_enabled</th><th>status_for_replication</th><th>constraint_keys</th></tr>",
                            "<tr><td>CHECK on column EmailPromotion</td><td>CK_Person_EmailPromotion</td><td>(n/a)</td><td>(n/a)</td><td>Enabled</td><td>Is_For_Replication</td><td>([EmailPromotion]&gt;=(0) AND [EmailPromotion]&lt;=(2))</td></tr>",
                            "<tr><td>CHECK on column PersonType</td><td>CK_Person_PersonType</td><td>(n/a)</td><td>(n/a)</td><td>Enabled</td><td>Is_For_Replication</td><td>([PersonType] IS NULL OR (upper([PersonType])='GC' OR upper([PersonType])='SP' OR upper([PersonType])='EM' OR upper([PersonType])='IN' OR upper([PersonType])='VC' OR upper([PersonType])='SC'))</td></tr>",
                            "<tr><td>DEFAULT on column EmailPromotion</td><td>DF_Person_EmailPromotion</td><td>(n/a)</td><td>(n/a)</td><td>(n/a)</td><td>(n/a)</td><td>((0))</td></tr>",
                            "<tr><td>DEFAULT on column ModifiedDate</td><td>DF_Person_ModifiedDate</td><td>(n/a)</td><td>(n/a)</td><td>(n/a)</td><td>(n/a)</td><td>(getdate())</td></tr>",
                            "<tr><td>DEFAULT on column NameStyle</td><td>DF_Person_NameStyle</td><td>(n/a)</td><td>(n/a)</td><td>(n/a)</td><td>(n/a)</td><td>((0))</td></tr>",
                            "<tr><td>DEFAULT on column rowguid</td><td>DF_Person_rowguid</td><td>(n/a)</td><td>(n/a)</td><td>(n/a)</td><td>(n/a)</td><td>(newid())</td></tr>",
                            "<tr><td>FOREIGN KEY</td><td>FK_Person_BusinessEntity_BusinessEntityID</td><td>No Action</td><td>No Action</td><td>Enabled</td><td>Is_For_Replication</td><td>BusinessEntityID</td></tr>",
                            "<tr><td> </td><td> </td><td> </td><td> </td><td> </td><td> </td><td>REFERENCES AdventureWorks2014.Person.BusinessEntity (BusinessEntityID)</td></tr>",
                            "<tr><td>PRIMARY KEY (clustered)</td><td>PK_Person_BusinessEntityID</td><td>(n/a)</td><td>(n/a)</td><td>(n/a)</td><td>(n/a)</td><td>BusinessEntityID</td></tr>",
                            "</table>"
                        ]
                    }
                },
                {
                    "output_type": "execute_result",
                    "metadata": {},
                    "execution_count": 9,
                    "data": {
                        "application/vnd.dataresource+json": {
                            "schema": {
                                "fields": [
                                    {
                                        "name": "Table is referenced by foreign key"
                                    }
                                ]
                            },
                            "data": [
                                {
                                    "0": "AdventureWorks2014.HumanResources.Employee: FK_Employee_Person_BusinessEntityID"
                                },
                                {
                                    "0": "AdventureWorks2014.Person.BusinessEntityContact: FK_BusinessEntityContact_Person_PersonID"
                                },
                                {
                                    "0": "AdventureWorks2014.Person.EmailAddress: FK_EmailAddress_Person_BusinessEntityID"
                                },
                                {
                                    "0": "AdventureWorks2014.Person.Password: FK_Password_Person_BusinessEntityID"
                                },
                                {
                                    "0": "AdventureWorks2014.Person.PersonPhone: FK_PersonPhone_Person_BusinessEntityID"
                                },
                                {
                                    "0": "AdventureWorks2014.Sales.Customer: FK_Customer_Person_PersonID"
                                },
                                {
                                    "0": "AdventureWorks2014.Sales.PersonCreditCard: FK_PersonCreditCard_Person_BusinessEntityID"
                                }
                            ]
                        },
                        "text/html": [
                            "<table>",
                            "<tr><th>Table is referenced by foreign key</th></tr>",
                            "<tr><td>AdventureWorks2014.HumanResources.Employee: FK_Employee_Person_BusinessEntityID</td></tr>",
                            "<tr><td>AdventureWorks2014.Person.BusinessEntityContact: FK_BusinessEntityContact_Person_PersonID</td></tr>",
                            "<tr><td>AdventureWorks2014.Person.EmailAddress: FK_EmailAddress_Person_BusinessEntityID</td></tr>",
                            "<tr><td>AdventureWorks2014.Person.Password: FK_Password_Person_BusinessEntityID</td></tr>",
                            "<tr><td>AdventureWorks2014.Person.PersonPhone: FK_PersonPhone_Person_BusinessEntityID</td></tr>",
                            "<tr><td>AdventureWorks2014.Sales.Customer: FK_Customer_Person_PersonID</td></tr>",
                            "<tr><td>AdventureWorks2014.Sales.PersonCreditCard: FK_PersonCreditCard_Person_BusinessEntityID</td></tr>",
                            "</table>"
                        ]
                    }
                }
            ],
            "execution_count": 9
        },
        {
            "cell_type": "code",
            "source": [
                "-- recipe 13.9\r\n",
                "CREATE TABLE dbo.WebsiteProduct (\r\n",
                "    WebsiteProductID int NOT NULL PRIMARY KEY IDENTITY(1,1),\r\n",
                "    ProductNM varchar(255) NOT NULL,\r\n",
                "    PublisherNM varchar(255) SPARSE NULL,\r\n",
                "    ArtistNM varchar(150) SPARSE NULL,\r\n",
                "    ISBNNBR varchar(30) SPARSE NULL,\r\n",
                "    DiscsNBR int SPARSE NULL,\r\n",
                "    MusicLabelNM varchar(255) SPARSE NULL);\r\n",
                "\r\n",
                "INSERT dbo.WebsiteProduct (ProductNM, PublisherNM, ISBNNBR)\r\n",
                "  VALUES ('SQL Server Transact-SQL Recipes', 'Apress', '9781484200629');\r\n",
                "INSERT dbo.WebsiteProduct (ProductNM, ArtistNM, DiscsNBR, MusicLabelNM)\r\n",
                "  VALUES ('Etiquette', 'Casiotone for the Painfully Alone', 1, 'Tomlab');\r\n",
                "\r\n",
                "SELECT ProductNM, PublisherNM,ISBNNBR FROM dbo.WebsiteProduct WHERE ISBNNBR IS NOT NULL;\r\n",
                "\r\n",
                "ALTER TABLE dbo.WebsiteProduct\r\n",
                "ADD ProductAttributeCS XML COLUMN_SET FOR ALL_SPARSE_COLUMNS;\r\n",
                "\r\n",
                "IF OBJECT_ID('dbo.WebsiteProduct', 'U') IS NOT NULL \r\n",
                "   DROP TABLE dbo.WebsiteProduct;\r\n",
                "CREATE TABLE dbo.WebsiteProduct (\r\n",
                "    WebsiteProductID int NOT NULL PRIMARY KEY IDENTITY(1,1),\r\n",
                "    ProductNM varchar(255) NOT NULL,\r\n",
                "    PublisherNM varchar(255) SPARSE NULL,\r\n",
                "    ArtistNM varchar(150) SPARSE NULL,\r\n",
                "    ISBNNBR varchar(30) SPARSE NULL,\r\n",
                "    DiscsNBR int SPARSE NULL,\r\n",
                "    MusicLabelNM varchar(255) SPARSE NULL,\r\n",
                "    ProductAttributeCS xml COLUMN_SET FOR ALL_SPARSE_COLUMNS);\r\n",
                "\r\n",
                "SELECT  ProductNM, ProductAttributeCS \r\n",
                "FROM    dbo.WebsiteProduct \r\n",
                "WHERE   ISBNNBR IS NOT NULL;\r\n",
                "\r\n",
                "INSERT dbo.WebsiteProduct (ProductNM, ProductAttributeCS) \r\n",
                "VALUES ('Roots & Echoes', \r\n",
                "        '<ArtistNM>The Coral</ArtistNM> \r\n",
                "         <DiscsNBR>1</DiscsNBR> \r\n",
                "         <MusicLabelNM>Deltasonic</MusicLabelNM>');\r\n",
                "\r\n",
                "SELECT * FROM dbo.WebsiteProduct;\r\n",
                "\r\n",
                "\r\n",
                "IF OBJECT_ID('dbo.WebsiteProduct') IS NOT NULL DROP TABLE dbo.WebsiteProduct;\r\n",
                "IF OBJECT_ID('dbo.WebsiteProduct_sparse') IS NOT NULL DROP TABLE dbo.WebsiteProduct_sparse;\r\n",
                "CREATE TABLE dbo.WebsiteProduct (\r\n",
                "    WebsiteProductID int NOT NULL PRIMARY KEY ,\r\n",
                "    ProductNM varchar(255) NOT NULL,\r\n",
                "    PublisherNM varchar(255) NULL,\r\n",
                "    ArtistNM varchar(150) NULL,\r\n",
                "    ISBNNBR varchar(30) NULL,\r\n",
                "    DiscsNBR int NULL,\r\n",
                "    MusicLabelNM varchar(255) NULL);\r\n",
                "CREATE TABLE dbo.WebsiteProduct_sparse (\r\n",
                "    WebsiteProductID int NOT NULL PRIMARY KEY ,\r\n",
                "    ProductNM varchar(255) NOT NULL,\r\n",
                "    PublisherNM varchar(255) SPARSE NULL,\r\n",
                "    ArtistNM varchar(150) SPARSE NULL,\r\n",
                "    ISBNNBR varchar(30) SPARSE NULL,\r\n",
                "    DiscsNBR int SPARSE NULL,\r\n",
                "    MusicLabelNM varchar(255) SPARSE NULL);\r\n",
                "GO\r\n",
                "WITH Tens    (N) AS (SELECT 1 UNION ALL SELECT 1 UNION ALL SELECT 1 UNION ALL \r\n",
                "                     SELECT 1 UNION ALL SELECT 1 UNION ALL SELECT 1 UNION ALL\r\n",
                "                     SELECT 1 UNION ALL SELECT 1 UNION ALL SELECT 1 UNION ALL SELECT 1),\r\n",
                "     Hundreds(N) AS (SELECT 1 FROM Tens t1, Tens t2),\r\n",
                "     Millions(N) AS (SELECT 1 FROM Hundreds t1, Hundreds t2, Hundreds t3),\r\n",
                "     Tally   (N) AS (SELECT ROW_NUMBER() OVER (ORDER BY (SELECT NULL)) FROM Millions)\r\n",
                "INSERT INTO dbo.WebsiteProduct (WebsiteProductID, ProductNM)\r\n",
                "SELECT  TOP (500000) N, 'Product#' + CONVERT(VARCHAR(15), N)\r\n",
                "FROM    Tally;\r\n",
                "\r\n",
                "INSERT INTO dbo.WebsiteProduct_sparse (WebsiteProductID, ProductNM)\r\n",
                "SELECT  WebsiteProductID, ProductNM\r\n",
                "FROM    dbo.WebsiteProduct;\r\n",
                "\r\n",
                "EXECUTE sp_spaceused 'dbo.WebsiteProduct';\r\n",
                "EXECUTE sp_spaceused 'dbo.WebsiteProduct_sparse';"
            ],
            "metadata": {
                "azdata_cell_guid": "a161a6e6-2256-4119-987f-0d74fac89910"
            },
            "outputs": [
                {
                    "output_type": "error",
                    "evalue": "Msg 1734, Level 16, State 1, Line 18\r\nCannot create the sparse column set 'ProductAttributeCS' in the table 'WebsiteProduct' because the table already contains one or more sparse columns. A sparse column set cannot be added to a table if the table contains a sparse column.",
                    "ename": "",
                    "traceback": []
                },
                {
                    "output_type": "error",
                    "evalue": "Msg 544, Level 16, State 1, Line 65\r\nCannot insert explicit value for identity column in table 'WebsiteProduct' when IDENTITY_INSERT is set to OFF.",
                    "ename": "",
                    "traceback": []
                },
                {
                    "output_type": "error",
                    "evalue": "Msg 208, Level 16, State 1, Line 75\r\nInvalid object name 'dbo.WebsiteProduct_sparse'.",
                    "ename": "",
                    "traceback": []
                },
                {
                    "output_type": "display_data",
                    "data": {
                        "text/html": "Total execution time: 00:00:00.019"
                    },
                    "metadata": {}
                }
            ],
            "execution_count": 10
        },
        {
            "cell_type": "code",
            "source": [
                "-- recipe 13.10\r\n",
                "CREATE TABLE dbo.Person (\r\n",
                "  PersonID INT IDENTITY NOT NULL,\r\n",
                "  BusinessEntityId INT NOT NULL,\r\n",
                "  First_Name VARCHAR(50) NULL,\r\n",
                "  Last_Name VARCHAR(50) NULL);\r\n",
                "\r\n",
                "ALTER TABLE dbo.Person\r\n",
                "  ADD CONSTRAINT PK_Person PRIMARY KEY CLUSTERED (PersonID),\r\n",
                "      CONSTRAINT FK_Person FOREIGN KEY (BusinessEntityId) \r\n",
                "          REFERENCES Person.BusinessEntity (BusinessEntityID),\r\n",
                "      CONSTRAINT UK_Person_Name UNIQUE (First_Name, Last_Name);\r\n",
                "\r\n",
                "IF OBJECT_ID('dbo.Person','U') IS NOT NULL \r\n",
                "   DROP TABLE dbo.Person;\r\n",
                "CREATE TABLE dbo.Person (\r\n",
                "  PersonID INT IDENTITY NOT NULL,\r\n",
                "  BusinessEntityId INT NOT NULL,\r\n",
                "  First_Name VARCHAR(50) NULL,\r\n",
                "  Last_Name VARCHAR(50) NULL,\r\n",
                "  CONSTRAINT PK_Person PRIMARY KEY CLUSTERED (PersonID),\r\n",
                "  CONSTRAINT FK_Person FOREIGN KEY (BusinessEntityId) \r\n",
                "      REFERENCES Person.BusinessEntity (BusinessEntityID),\r\n",
                "  CONSTRAINT UK_Person_Name UNIQUE (First_Name, Last_Name) );\r\n",
                "\r\n",
                "IF OBJECT_ID('dbo.Person','U') IS NOT NULL \r\n",
                "   DROP TABLE dbo.Person;\r\n",
                "CREATE TABLE dbo.Person (\r\n",
                "  PersonID INT IDENTITY NOT NULL\r\n",
                "      CONSTRAINT PK_Person PRIMARY KEY CLUSTERED (PersonID),\r\n",
                "  BusinessEntityId INT NOT NULL\r\n",
                "      CONSTRAINT FK_Person FOREIGN KEY (BusinessEntityId) \r\n",
                "          REFERENCES Person.BusinessEntity (BusinessEntityID),\r\n",
                "  First_Name VARCHAR(50) NULL,\r\n",
                "  Last_Name VARCHAR(50) NULL,\r\n",
                "  CONSTRAINT UK_Person_Name UNIQUE (First_Name, Last_Name) );\r\n",
                "\r\n",
                "INSERT INTO dbo.Person (BusinessEntityId, First_Name) VALUES (1, 'MyName');\r\n",
                "INSERT INTO dbo.Person (BusinessEntityId, First_Name) VALUES (1, 'MyName2');\r\n",
                "INSERT INTO dbo.Person (BusinessEntityId) VALUES (1);"
            ],
            "metadata": {
                "azdata_cell_guid": "0d42cba0-0547-447f-9110-41aacc45ac0e"
            },
            "outputs": [
                {
                    "output_type": "error",
                    "evalue": "Msg 207, Level 16, State 1, Line 38\r\nInvalid column name 'First_Name'.",
                    "ename": "",
                    "traceback": []
                },
                {
                    "output_type": "display_data",
                    "data": {
                        "text/html": "Total execution time: 00:00:00.003"
                    },
                    "metadata": {}
                }
            ],
            "execution_count": 11
        },
        {
            "cell_type": "code",
            "source": [
                "-- recipe 13.11\r\n",
                "CREATE TABLE dbo.Employees (\r\n",
                "    employee_id INT IDENTITY PRIMARY KEY CLUSTERED,\r\n",
                "    manager_id INT NULL REFERENCES dbo.Employees (employee_id));\r\n",
                "\r\n",
                "INSERT INTO dbo.Employees DEFAULT VALUES;\r\n",
                "INSERT INTO dbo.Employees (manager_id) VALUES (1);\r\n",
                "SELECT * FROM dbo.Employees;\r\n",
                "\r\n",
                "INSERT INTO dbo.Employees (manager_id) VALUES (10);"
            ],
            "metadata": {
                "azdata_cell_guid": "72f07cb0-6fc7-4888-af6c-5f246b703948"
            },
            "outputs": [
                {
                    "output_type": "error",
                    "evalue": "Msg 2714, Level 16, State 6, Line 2\r\nThere is already an object named 'Employees' in the database.",
                    "ename": "",
                    "traceback": []
                },
                {
                    "output_type": "display_data",
                    "data": {
                        "text/html": "Total execution time: 00:00:00.020"
                    },
                    "metadata": {}
                }
            ],
            "execution_count": 12
        },
        {
            "cell_type": "code",
            "source": [
                "-- recipe 13.12\r\n",
                "IF OBJECT_ID('dbo.PersonPhone','U') IS NOT NULL DROP TABLE dbo.PersonPhone;\r\n",
                "IF OBJECT_ID('dbo.PhoneNumberType','U') IS NOT NULL DROP TABLE dbo.PhoneNumberType;\r\n",
                "IF OBJECT_ID('dbo.Person','U') IS NOT NULL DROP TABLE dbo.Person;\r\n",
                "\r\n",
                "CREATE TABLE dbo.Person (\r\n",
                "  BusinessEntityId INT PRIMARY KEY,\r\n",
                "  FirstName VARCHAR(25),\r\n",
                "  LastName  VARCHAR(25));\r\n",
                "\r\n",
                "CREATE TABLE dbo.PhoneNumberType (\r\n",
                "  PhoneNumberTypeId INT PRIMARY KEY,\r\n",
                "  Name VARCHAR(25));\r\n",
                "\r\n",
                "INSERT INTO dbo.PhoneNumberType\r\n",
                "SELECT  PhoneNumberTypeId, Name\r\n",
                "FROM    Person.PhoneNumberType;\r\n",
                "\r\n",
                "INSERT INTO dbo.Person\r\n",
                "SELECT BusinessEntityId, FirstName, LastName\r\n",
                "FROM Person.Person\r\n",
                "WHERE BusinessEntityID IN (1,2);\r\n",
                "\r\n",
                "CREATE TABLE dbo.PersonPhone (\r\n",
                "        [BusinessEntityID] [int] NOT NULL,\r\n",
                "        [PhoneNumber] [dbo].[Phone] NOT NULL,\r\n",
                "        [PhoneNumberTypeID] [int] NULL,\r\n",
                "        [ModifiedDate] [datetime] NOT NULL,\r\n",
                "    CONSTRAINT [UQ_PersonPhone_BusinessEntityID_PhoneNumber_PhoneNumberTypeID] \r\n",
                "        UNIQUE CLUSTERED\r\n",
                "            ([BusinessEntityID], [PhoneNumber], [PhoneNumberTypeID]),\r\n",
                "    CONSTRAINT [FK_PersonPhone_Person_BusinessEntityID] \r\n",
                "        FOREIGN KEY ([BusinessEntityID]) \r\n",
                "        REFERENCES [dbo].[Person] ([BusinessEntityID]) \r\n",
                "        ON DELETE CASCADE,\r\n",
                "    CONSTRAINT [FK_PersonPhone_PhoneNumberType_PhoneNumberTypeID] \r\n",
                "        FOREIGN KEY ([PhoneNumberTypeID]) \r\n",
                "        REFERENCES [dbo].[PhoneNumberType] ([PhoneNumberTypeID]) \r\n",
                "        ON UPDATE SET NULL\r\n",
                ");\r\n",
                "\r\n",
                "\r\n",
                "INSERT INTO dbo.PersonPhone (BusinessEntityId, PhoneNumber, PhoneNumberTypeId, ModifiedDate)\r\n",
                "VALUES (1, '757-867-5309', 1, '2012-03-22T00:00:00'),\r\n",
                "       (2, '804-867-5309', 2, '2012-03-22T00:00:00');\r\n",
                "\r\n",
                "SELECT 'Initial Data', * FROM dbo.PersonPhone;\r\n",
                "\r\n",
                "DELETE FROM dbo.Person\r\n",
                "WHERE BusinessEntityID = 1;\r\n",
                "\r\n",
                "UPDATE dbo.PhoneNumberType\r\n",
                "   SET PhoneNumberTypeID = 4\r\n",
                " WHERE PhoneNumberTypeID = 2;\r\n",
                "\r\n",
                "SELECT 'Final Data', * FROM dbo.PersonPhone;"
            ],
            "metadata": {
                "azdata_cell_guid": "d375363b-e8c4-4806-87c4-79b265a6549c"
            },
            "outputs": [
                {
                    "output_type": "error",
                    "evalue": "Msg 213, Level 16, State 1, Line 19\r\nColumn name or number of supplied values does not match table definition.",
                    "ename": "",
                    "traceback": []
                },
                {
                    "output_type": "display_data",
                    "data": {
                        "text/html": "Total execution time: 00:00:00.013"
                    },
                    "metadata": {}
                }
            ],
            "execution_count": 13
        },
        {
            "cell_type": "code",
            "source": [
                "-- recipe 13.13\r\n",
                "IF OBJECT_ID('dbo.Employees', 'U') IS NOT NULL \r\n",
                "   DROP TABLE dbo.Employees;\r\n",
                "CREATE TABLE dbo.Employees (\r\n",
                "    EmployeeId INT PRIMARY KEY CLUSTERED,\r\n",
                "    First_Name VARCHAR(50) NOT NULL,\r\n",
                "    Last_Name  VARCHAR(50) NOT NULL,\r\n",
                "    InsertedDate DATETIME DEFAULT GETDATE());\r\n",
                "\r\n",
                "INSERT INTO dbo.Employees (EmployeeId, First_Name, Last_Name) \r\n",
                "VALUES (1, 'Wayne', 'Sheffield');\r\n",
                "INSERT INTO dbo.Employees (EmployeeId, First_Name, Last_Name, InsertedDate) \r\n",
                "VALUES (2, 'Jim', 'Smith', NULL);\r\n",
                "SELECT * FROM dbo.Employees;"
            ],
            "metadata": {
                "azdata_cell_guid": "9c8e6b0e-9ac4-433d-abac-1f51b85c9f9c"
            },
            "outputs": [
                {
                    "output_type": "error",
                    "evalue": "Msg 207, Level 16, State 1, Line 10\r\nInvalid column name 'EmployeeId'.",
                    "ename": "",
                    "traceback": []
                },
                {
                    "output_type": "error",
                    "evalue": "Msg 207, Level 16, State 1, Line 10\r\nInvalid column name 'First_Name'.",
                    "ename": "",
                    "traceback": []
                },
                {
                    "output_type": "error",
                    "evalue": "Msg 207, Level 16, State 1, Line 10\r\nInvalid column name 'Last_Name'.",
                    "ename": "",
                    "traceback": []
                },
                {
                    "output_type": "display_data",
                    "data": {
                        "text/html": "Total execution time: 00:00:00.005"
                    },
                    "metadata": {}
                }
            ],
            "execution_count": 14
        },
        {
            "cell_type": "code",
            "source": [
                "-- recipe 13.14\r\n",
                "CREATE TABLE dbo.BooksRead (\r\n",
                "  ISBN      VARCHAR(20),\r\n",
                "  StartDate DATETIME NOT NULL,\r\n",
                "  EndDate   DATETIME NULL,\r\n",
                "  CONSTRAINT CK_BooksRead_EndDate CHECK (EndDate > StartDate));\r\n",
                "\r\n",
                "INSERT INTO BooksRead (ISBN, StartDate, EndDate) \r\n",
                "VALUES ('9781430242000', '2012-08-01T16:25:00', '2011-08-15T12:35:00 ');\r\n",
                "\r\n",
                "IF OBJECT_ID('dbo.Employees','U') IS NOT NULL\r\n",
                "   DROP TABLE dbo.Employees;\r\n",
                "CREATE TABLE dbo.Employees (\r\n",
                "  EmployeeId INT IDENTITY,\r\n",
                "  FirstName  VARCHAR(50),\r\n",
                "  LastName   VARCHAR(50),\r\n",
                "  PhoneNumber VARCHAR(12) CONSTRAINT CK_Employees_PhoneNumber \r\n",
                "    CHECK (PhoneNumber LIKE '[0-9][0-9][0-9]-[0-9][0-9][0-9]-[0-9][0-9][0-9][0-9]'));\r\n",
                "\r\n",
                "INSERT INTO dbo.Employees (FirstName, LastName, PhoneNumber)\r\n",
                "VALUES ('Wayne', 'Sheffield', '800-555-1212');\r\n",
                "\r\n",
                "INSERT INTO dbo.Employees (FirstName, LastName, PhoneNumber)\r\n",
                "VALUES ('Wayne', 'Sheffield', '555-1212');"
            ],
            "metadata": {
                "azdata_cell_guid": "29072e3c-718f-4bb3-a248-bd755b1d0c02"
            },
            "outputs": [
                {
                    "output_type": "error",
                    "evalue": "Msg 207, Level 16, State 1, Line 20\r\nInvalid column name 'FirstName'.",
                    "ename": "",
                    "traceback": []
                },
                {
                    "output_type": "error",
                    "evalue": "Msg 207, Level 16, State 1, Line 20\r\nInvalid column name 'LastName'.",
                    "ename": "",
                    "traceback": []
                },
                {
                    "output_type": "error",
                    "evalue": "Msg 207, Level 16, State 1, Line 20\r\nInvalid column name 'PhoneNumber'.",
                    "ename": "",
                    "traceback": []
                },
                {
                    "output_type": "display_data",
                    "data": {
                        "text/html": "Total execution time: 00:00:00.004"
                    },
                    "metadata": {}
                }
            ],
            "execution_count": 15
        },
        {
            "cell_type": "code",
            "source": [
                "-- recipe 13.15\r\n",
                "ALTER TABLE dbo.Employees\r\n",
                "NOCHECK CONSTRAINT CK_Employees_PhoneNumber;\r\n",
                "\r\n",
                "ALTER TABLE dbo.Employees\r\n",
                "NOCHECK CONSTRAINT ALL;\r\n",
                "\r\n",
                "ALTER TABLE dbo.Employees\r\n",
                "CHECK CONSTRAINT CK_Employees_PhoneNumber;\r\n",
                "\r\n",
                "ALTER TABLE dbo.Employees\r\n",
                "WITH CHECK CHECK CONSTRAINT ALL;"
            ],
            "metadata": {
                "azdata_cell_guid": "330cfee6-7788-4afa-9723-c4803cf6b6e8"
            },
            "outputs": [
                {
                    "output_type": "error",
                    "evalue": "Msg 4917, Level 16, State 0, Line 2\r\nConstraint 'CK_Employees_PhoneNumber' does not exist.",
                    "ename": "",
                    "traceback": []
                },
                {
                    "output_type": "error",
                    "evalue": "Msg 4916, Level 16, State 0, Line 2\r\nCould not enable or disable the constraint. See previous errors.",
                    "ename": "",
                    "traceback": []
                },
                {
                    "output_type": "display_data",
                    "data": {
                        "text/html": "Total execution time: 00:00:00.008"
                    },
                    "metadata": {}
                }
            ],
            "execution_count": 16
        },
        {
            "cell_type": "code",
            "source": [
                "-- recipe 13.16\r\n",
                "ALTER TABLE dbo.BooksRead\r\n",
                "DROP CONSTRAINT CK_BooksRead_EndDate;"
            ],
            "metadata": {
                "azdata_cell_guid": "78a49e9b-e811-43cc-a71a-7bf1ce186b4f"
            },
            "outputs": [
                {
                    "output_type": "error",
                    "evalue": "Msg 4902, Level 16, State 1, Line 2\r\nCannot find the object \"dbo.BooksRead\" because it does not exist or you do not have permissions.",
                    "ename": "",
                    "traceback": []
                },
                {
                    "output_type": "display_data",
                    "data": {
                        "text/html": "Total execution time: 00:00:00.001"
                    },
                    "metadata": {}
                }
            ],
            "execution_count": 17
        },
        {
            "cell_type": "code",
            "source": [
                "-- recipe 13.17\r\n",
                "IF OBJECT_ID('dbo.Employees','U') IS NOT NULL\r\n",
                "   DROP TABLE dbo.Employees;\r\n",
                "CREATE TABLE dbo.Employees (\r\n",
                "    employee_id INT IDENTITY PRIMARY KEY CLUSTERED,\r\n",
                "    manager_id INT NULL REFERENCES dbo.Employees (employee_id),\r\n",
                "    First_Name VARCHAR(50) NULL,\r\n",
                "    Last_Name  VARCHAR(50) NULL,\r\n",
                "    CONSTRAINT UQ_Employees_Name UNIQUE (First_Name, Last_Name));\r\n",
                "\r\n",
                "INSERT INTO dbo.Employees (manager_id, First_Name, Last_Name)\r\n",
                "       VALUES (NULL, 'Wayne', 'Sheffield')\r\n",
                "\r\n",
                "BEGIN TRANSACTION\r\n",
                "INSERT INTO dbo.Employees (manager_id, First_Name, Last_Name)\r\n",
                "       VALUES (1, 'Jim', 'Smith');\r\n",
                "ROLLBACK TRANSACTION;\r\n",
                "\r\n",
                "INSERT INTO dbo.Employees (manager_id, First_Name, Last_Name)\r\n",
                "       VALUES (1, 'Jane', 'Smith');\r\n",
                "\r\n",
                "SELECT * FROM dbo.Employees;\r\n",
                "\r\n",
                "SELECT  IDENTITYCOL, employee_id, Last_Name\r\n",
                "FROM    dbo.Employees\r\n",
                "ORDER BY IDENTITYCOL;\r\n",
                ""
            ],
            "metadata": {
                "azdata_cell_guid": "627ca1d9-ccfe-4256-a945-a28362c23749"
            },
            "outputs": [
                {
                    "output_type": "error",
                    "evalue": "Msg 207, Level 16, State 1, Line 11\r\nInvalid column name 'First_Name'.",
                    "ename": "",
                    "traceback": []
                },
                {
                    "output_type": "error",
                    "evalue": "Msg 207, Level 16, State 1, Line 11\r\nInvalid column name 'Last_Name'.",
                    "ename": "",
                    "traceback": []
                },
                {
                    "output_type": "error",
                    "evalue": "Msg 207, Level 16, State 1, Line 24\r\nInvalid column name 'Last_Name'.",
                    "ename": "",
                    "traceback": []
                },
                {
                    "output_type": "display_data",
                    "data": {
                        "text/html": "Total execution time: 00:00:00.004"
                    },
                    "metadata": {}
                }
            ],
            "execution_count": 18
        },
        {
            "cell_type": "code",
            "source": [
                "-- recipe 13.18\r\n",
                "SELECT @@IDENTITY, SCOPE_IDENTITY(), IDENT_CURRENT('dbo.Employees');"
            ],
            "metadata": {
                "azdata_cell_guid": "9b7bc1f9-2a0a-45f2-a9ff-f0dbfd453036"
            },
            "outputs": [
                {
                    "output_type": "display_data",
                    "data": {
                        "text/html": "(1 row affected)"
                    },
                    "metadata": {}
                },
                {
                    "output_type": "display_data",
                    "data": {
                        "text/html": "Total execution time: 00:00:00.019"
                    },
                    "metadata": {}
                },
                {
                    "output_type": "execute_result",
                    "metadata": {},
                    "execution_count": 19,
                    "data": {
                        "application/vnd.dataresource+json": {
                            "schema": {
                                "fields": [
                                    {
                                        "name": "(No column name)"
                                    },
                                    {
                                        "name": "(No column name)"
                                    },
                                    {
                                        "name": "(No column name)"
                                    }
                                ]
                            },
                            "data": [
                                {
                                    "0": "NULL",
                                    "1": "NULL",
                                    "2": "3"
                                }
                            ]
                        },
                        "text/html": [
                            "<table>",
                            "<tr><th>(No column name)</th><th>(No column name)</th><th>(No column name)</th></tr>",
                            "<tr><td>NULL</td><td>NULL</td><td>3</td></tr>",
                            "</table>"
                        ]
                    }
                }
            ],
            "execution_count": 19
        },
        {
            "cell_type": "code",
            "source": [
                "-- recipe 13.19\r\n",
                "DBCC CHECKIDENT ('dbo.Employees');\r\n",
                "\r\n",
                "TRUNCATE TABLE dbo.Employees;\r\n",
                "INSERT INTO dbo.Employees (manager_id, First_Name, Last_Name)\r\n",
                "       VALUES (NULL, 'Wayne', 'Sheffield');\r\n",
                "\r\n",
                "BEGIN TRANSACTION;\r\n",
                "INSERT INTO dbo.Employees (manager_id, First_Name, Last_Name)\r\n",
                "       VALUES (1, 'Jim', 'Smith');\r\n",
                "ROLLBACK TRANSACTION;\r\n",
                "\r\n",
                "DBCC CHECKIDENT ('dbo.Employees', RESEED, 1); \r\n",
                "INSERT INTO dbo.Employees (manager_id, First_Name, Last_Name)\r\n",
                "       VALUES (1, 'Jane', 'Smith');\r\n",
                "\r\n",
                "SELECT * FROM dbo.Employees;\r\n",
                "\r\n",
                "DBCC CHECKIDENT ('dbo.Employees');\r\n",
                ""
            ],
            "metadata": {
                "azdata_cell_guid": "57283ede-6f45-48ed-ac79-a4a71430a516"
            },
            "outputs": [
                {
                    "output_type": "error",
                    "evalue": "Msg 207, Level 16, State 1, Line 5\r\nInvalid column name 'First_Name'.",
                    "ename": "",
                    "traceback": []
                },
                {
                    "output_type": "error",
                    "evalue": "Msg 207, Level 16, State 1, Line 5\r\nInvalid column name 'Last_Name'.",
                    "ename": "",
                    "traceback": []
                },
                {
                    "output_type": "display_data",
                    "data": {
                        "text/html": "Total execution time: 00:00:00.003"
                    },
                    "metadata": {}
                }
            ],
            "execution_count": 20
        },
        {
            "cell_type": "code",
            "source": [
                "-- recipe 13.20\r\n",
                "SET IDENTITY_INSERT dbo.Employees ON;\r\n",
                "INSERT INTO dbo.Employees (employee_id, manager_id, First_Name, Last_Name)\r\n",
                "VALUES (5, 1, 'Joe', 'Smith');\r\n",
                "SET IDENTITY_INSERT dbo.Employees OFF;"
            ],
            "metadata": {
                "azdata_cell_guid": "0350562c-715a-4e41-8926-33c486d3c0fd"
            },
            "outputs": [
                {
                    "output_type": "error",
                    "evalue": "Msg 207, Level 16, State 1, Line 3\r\nInvalid column name 'First_Name'.",
                    "ename": "",
                    "traceback": []
                },
                {
                    "output_type": "error",
                    "evalue": "Msg 207, Level 16, State 1, Line 3\r\nInvalid column name 'Last_Name'.",
                    "ename": "",
                    "traceback": []
                },
                {
                    "output_type": "display_data",
                    "data": {
                        "text/html": "Total execution time: 00:00:00.006"
                    },
                    "metadata": {}
                }
            ],
            "execution_count": 21
        },
        {
            "cell_type": "code",
            "source": [
                "-- recipe 13.21\r\n",
                "CREATE TABLE HumanResources.BuildingAccess(\r\n",
                "  BuildingEntryExitID uniqueidentifier ROWGUIDCOL \r\n",
                "    CONSTRAINT DF_BuildingAccess_BuildingEntryExitID DEFAULT NEWID() \r\n",
                "    CONSTRAINT UK_BuildingAccess_BuildingEntryExitID UNIQUE, \r\n",
                "  EmployeeID int NOT NULL, \r\n",
                "  AccessTime datetime NOT NULL, \r\n",
                "  DoorID int NOT NULL);\r\n",
                "INSERT HumanResources.BuildingAccess (EmployeeID, AccessTime, DoorID) \r\n",
                "VALUES (32, GETDATE(), 2);\r\n",
                "\r\n",
                "SELECT *\r\n",
                "  FROM HumanResources.BuildingAccess;\r\n",
                "SELECT $ROWGUID\r\n",
                "  FROM HumanResources.BuildingAccess;"
            ],
            "metadata": {
                "azdata_cell_guid": "9240a9c4-5e7a-4514-8e4f-222db90a2eb8"
            },
            "outputs": [
                {
                    "output_type": "display_data",
                    "data": {
                        "text/html": "(1 row affected)"
                    },
                    "metadata": {}
                },
                {
                    "output_type": "display_data",
                    "data": {
                        "text/html": "(1 row affected)"
                    },
                    "metadata": {}
                },
                {
                    "output_type": "display_data",
                    "data": {
                        "text/html": "(1 row affected)"
                    },
                    "metadata": {}
                },
                {
                    "output_type": "display_data",
                    "data": {
                        "text/html": "Total execution time: 00:00:00.054"
                    },
                    "metadata": {}
                },
                {
                    "output_type": "execute_result",
                    "metadata": {},
                    "execution_count": 22,
                    "data": {
                        "application/vnd.dataresource+json": {
                            "schema": {
                                "fields": [
                                    {
                                        "name": "BuildingEntryExitID"
                                    },
                                    {
                                        "name": "EmployeeID"
                                    },
                                    {
                                        "name": "AccessTime"
                                    },
                                    {
                                        "name": "DoorID"
                                    }
                                ]
                            },
                            "data": [
                                {
                                    "0": "2f5fa82d-46f4-4f68-baad-fa745d50b6d8",
                                    "1": "32",
                                    "2": "2020-09-14 18:27:45.710",
                                    "3": "2"
                                }
                            ]
                        },
                        "text/html": [
                            "<table>",
                            "<tr><th>BuildingEntryExitID</th><th>EmployeeID</th><th>AccessTime</th><th>DoorID</th></tr>",
                            "<tr><td>2f5fa82d-46f4-4f68-baad-fa745d50b6d8</td><td>32</td><td>2020-09-14 18:27:45.710</td><td>2</td></tr>",
                            "</table>"
                        ]
                    }
                },
                {
                    "output_type": "execute_result",
                    "metadata": {},
                    "execution_count": 22,
                    "data": {
                        "application/vnd.dataresource+json": {
                            "schema": {
                                "fields": [
                                    {
                                        "name": "BuildingEntryExitID"
                                    }
                                ]
                            },
                            "data": [
                                {
                                    "0": "2f5fa82d-46f4-4f68-baad-fa745d50b6d8"
                                }
                            ]
                        },
                        "text/html": [
                            "<table>",
                            "<tr><th>BuildingEntryExitID</th></tr>",
                            "<tr><td>2f5fa82d-46f4-4f68-baad-fa745d50b6d8</td></tr>",
                            "</table>"
                        ]
                    }
                }
            ],
            "execution_count": 22
        },
        {
            "cell_type": "code",
            "source": [
                "-- recipe 13.22\r\n",
                "CREATE SEQUENCE dbo.MySequence\r\n",
                "    AS INTEGER\r\n",
                "       START WITH 1\r\n",
                "       INCREMENT BY 1;\r\n",
                "GO\r\n",
                "\r\n",
                "CREATE TABLE dbo.Table1 (\r\n",
                "  Table1ID INTEGER NOT NULL,\r\n",
                "  Table1Data VARCHAR(50));\r\n",
                "CREATE TABLE dbo.Table2 (\r\n",
                "  Table2ID INTEGER NOT NULL,\r\n",
                "  Table2Data VARCHAR(50));\r\n",
                "\r\n",
                "INSERT INTO dbo.Table1 (Table1ID, Table1Data)\r\n",
                "VALUES (NEXT VALUE FOR dbo.MySequence, 'Ferrari'),\r\n",
                "       (NEXT VALUE FOR dbo.MySequence, 'Lamborghini');\r\n",
                "\r\n",
                "INSERT INTO dbo.Table2 (Table2ID, Table2Data)\r\n",
                "VALUES (NEXT VALUE FOR dbo.MySequence, 'Apple'),\r\n",
                "       (NEXT VALUE FOR dbo.MySequence, 'Orange');    \r\n",
                "\r\n",
                "SELECT * FROM dbo.Table1;\r\n",
                "SELECT * FROM dbo.Table2;"
            ],
            "metadata": {
                "azdata_cell_guid": "09dfde75-dff0-45fc-b663-7c1fdded44a7"
            },
            "outputs": [
                {
                    "output_type": "display_data",
                    "data": {
                        "text/html": "Commands completed successfully."
                    },
                    "metadata": {}
                },
                {
                    "output_type": "display_data",
                    "data": {
                        "text/html": "(2 rows affected)"
                    },
                    "metadata": {}
                },
                {
                    "output_type": "display_data",
                    "data": {
                        "text/html": "(2 rows affected)"
                    },
                    "metadata": {}
                },
                {
                    "output_type": "display_data",
                    "data": {
                        "text/html": "(2 rows affected)"
                    },
                    "metadata": {}
                },
                {
                    "output_type": "display_data",
                    "data": {
                        "text/html": "(2 rows affected)"
                    },
                    "metadata": {}
                },
                {
                    "output_type": "display_data",
                    "data": {
                        "text/html": "Total execution time: 00:00:00.060"
                    },
                    "metadata": {}
                },
                {
                    "output_type": "execute_result",
                    "metadata": {},
                    "execution_count": 23,
                    "data": {
                        "application/vnd.dataresource+json": {
                            "schema": {
                                "fields": [
                                    {
                                        "name": "Table1ID"
                                    },
                                    {
                                        "name": "Table1Data"
                                    }
                                ]
                            },
                            "data": [
                                {
                                    "0": "1",
                                    "1": "Ferrari"
                                },
                                {
                                    "0": "2",
                                    "1": "Lamborghini"
                                }
                            ]
                        },
                        "text/html": [
                            "<table>",
                            "<tr><th>Table1ID</th><th>Table1Data</th></tr>",
                            "<tr><td>1</td><td>Ferrari</td></tr>",
                            "<tr><td>2</td><td>Lamborghini</td></tr>",
                            "</table>"
                        ]
                    }
                },
                {
                    "output_type": "execute_result",
                    "metadata": {},
                    "execution_count": 23,
                    "data": {
                        "application/vnd.dataresource+json": {
                            "schema": {
                                "fields": [
                                    {
                                        "name": "Table2ID"
                                    },
                                    {
                                        "name": "Table2Data"
                                    }
                                ]
                            },
                            "data": [
                                {
                                    "0": "3",
                                    "1": "Apple"
                                },
                                {
                                    "0": "4",
                                    "1": "Orange"
                                }
                            ]
                        },
                        "text/html": [
                            "<table>",
                            "<tr><th>Table2ID</th><th>Table2Data</th></tr>",
                            "<tr><td>3</td><td>Apple</td></tr>",
                            "<tr><td>4</td><td>Orange</td></tr>",
                            "</table>"
                        ]
                    }
                }
            ],
            "execution_count": 23
        },
        {
            "cell_type": "code",
            "source": [
                "-- recipe 13.23\r\n",
                "CREATE TABLE #temp (\r\n",
                "  Column1 INT,\r\n",
                "  Column2 INT);\r\n",
                "\r\n",
                "DECLARE @temp TABLE (\r\n",
                "  Column1 INT,\r\n",
                "  Column2 INT);"
            ],
            "metadata": {
                "azdata_cell_guid": "ef9b0ca3-54c2-460d-8056-7547a5e3ee90"
            },
            "outputs": [
                {
                    "output_type": "display_data",
                    "data": {
                        "text/html": "Commands completed successfully."
                    },
                    "metadata": {}
                },
                {
                    "output_type": "display_data",
                    "data": {
                        "text/html": "Total execution time: 00:00:00.007"
                    },
                    "metadata": {}
                }
            ],
            "execution_count": 24
        },
        {
            "cell_type": "code",
            "source": [
                "-- cleanup\r\n",
                "IF OBJECT_ID('dbo.Person') IS NOT NULL DROP TABLE dbo.Person;\r\n",
                "IF OBJECT_ID('dbo.Test') IS NOT NULL DROP TABLE dbo.Test;\r\n",
                "IF OBJECT_ID('HumanResources.CompanyStatistic') IS NOT NULL DROP TABLE HumanResources.CompanyStatistic;\r\n",
                "IF EXISTS (SELECT 1 FROM sys.columns WHERE name = 'CostPerUnit' AND object_id = OBJECT_ID('Production.TransactionHistory'))\r\n",
                "    ALTER TABLE Production.TransactionHistory DROP COLUMN CostPerUnit;\r\n",
                "IF OBJECT_ID('dbo.WebsiteProduct') IS NOT NULL DROP TABLE dbo.WebsiteProduct;\r\n",
                "IF OBJECT_ID('dbo.Employees') IS NOT NULL DROP TABLE dbo.Employees;\r\n",
                "IF OBJECT_ID('dbo.PersonPhone') IS NOT NULL DROP TABLE dbo.PersonPhone;\r\n",
                "IF OBJECT_ID('dbo.BooksRead') IS NOT NULL DROP TABLE dbo.BooksRead;\r\n",
                "IF OBJECT_ID('HumanResources.BuildingAccess') IS NOT NULL DROP TABLE HumanResources.BuildingAccess;\r\n",
                "IF EXISTS (SELECT 1 FROM sys.sequences WHERE name = 'MySequence')\r\n",
                "    DROP SEQUENCE dbo.MySequence;\r\n",
                "IF OBJECT_ID('dbo.Table1') IS NOT NULL DROP TABLE dbo.Table1;\r\n",
                "IF OBJECT_ID('dbo.Table2') IS NOT NULL DROP TABLE dbo.Table2;"
            ],
            "metadata": {
                "azdata_cell_guid": "09c7a0c1-382b-4887-9fdc-70a5491383e2"
            },
            "outputs": [
                {
                    "output_type": "error",
                    "evalue": "Msg 3726, Level 16, State 1, Line 2\r\nCould not drop object 'dbo.Person' because it is referenced by a FOREIGN KEY constraint.",
                    "ename": "",
                    "traceback": []
                },
                {
                    "output_type": "display_data",
                    "data": {
                        "text/html": "Total execution time: 00:00:00.055"
                    },
                    "metadata": {}
                }
            ],
            "execution_count": 25
        }
    ]
}