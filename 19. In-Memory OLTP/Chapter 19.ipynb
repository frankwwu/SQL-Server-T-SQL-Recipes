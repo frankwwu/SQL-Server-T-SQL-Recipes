{
    "metadata": {
        "kernelspec": {
            "name": "SQL",
            "display_name": "SQL",
            "language": "sql"
        },
        "language_info": {
            "name": "sql",
            "version": ""
        }
    },
    "nbformat_minor": 2,
    "nbformat": 4,
    "cells": [
        {
            "cell_type": "code",
            "source": [
                "USE master;\r\n",
                "GO\r\n",
                "IF DB_ID('InMemory') IS NOT NULL \r\n",
                "    DROP DATABASE InMemory;\r\n",
                "GO"
            ],
            "metadata": {
                "azdata_cell_guid": "3740fe63-4fd3-42a4-b87e-445847dc9743"
            },
            "outputs": [
                {
                    "output_type": "display_data",
                    "data": {
                        "text/html": "Commands completed successfully."
                    },
                    "metadata": {}
                },
                {
                    "output_type": "display_data",
                    "data": {
                        "text/html": "Commands completed successfully."
                    },
                    "metadata": {}
                },
                {
                    "output_type": "display_data",
                    "data": {
                        "text/html": "Total execution time: 00:00:00.022"
                    },
                    "metadata": {}
                }
            ],
            "execution_count": 1
        },
        {
            "cell_type": "code",
            "source": [
                "-- 20-1; Solution 1\r\n",
                "/*\r\n",
                "Create a database, and modify it to have a memory-optimized filegroup.\r\n",
                "*/\r\n",
                "CREATE DATABASE InMemory;\r\n",
                "ALTER DATABASE InMemory ADD FILEGROUP InMemory_mod CONTAINS MEMORY_OPTIMIZED_DATA;\r\n",
                "ALTER DATABASE InMemory\r\n",
                "ADD FILE (\r\n",
                "\tNAME = [InMemory_dir],\r\n",
                "\tFILENAME = 'C:\\MSSQL\\MSSQL12.MSSQLSERVER\\MSSQL\\DATA\\InMemory_dir')\r\n",
                "TO FILEGROUP [InMemory_mod];\r\n",
                "GO"
            ],
            "metadata": {
                "azdata_cell_guid": "c54249a2-7751-4182-860a-a4beb9ba9028"
            },
            "outputs": [
                {
                    "output_type": "display_data",
                    "data": {
                        "text/html": "The path specified by \"C:\\MSSQL\\MSSQL12.MSSQLSERVER\\MSSQL\\DATA\\InMemory_dir\" is not in a valid directory."
                    },
                    "metadata": {}
                },
                {
                    "output_type": "error",
                    "evalue": "Msg 5121, Level 16, State 2, Line 7\r\nThe path specified by \"C:\\MSSQL\\MSSQL12.MSSQLSERVER\\MSSQL\\DATA\\InMemory_dir\" is not in a valid directory.",
                    "ename": "",
                    "traceback": []
                },
                {
                    "output_type": "error",
                    "evalue": "Msg 5009, Level 16, State 14, Line 7\r\nOne or more files listed in the statement could not be found or could not be initialized.",
                    "ename": "",
                    "traceback": []
                },
                {
                    "output_type": "display_data",
                    "data": {
                        "text/html": "Total execution time: 00:00:00.473"
                    },
                    "metadata": {}
                }
            ],
            "execution_count": 2
        },
        {
            "cell_type": "code",
            "source": [
                "-- 20-1; Solution 2\r\n",
                "/*\r\n",
                "Create a database with a memory-optimized filegroup.\r\n",
                "*/\r\n",
                "IF DB_ID('InMemory') IS NULL\r\n",
                "CREATE DATABASE In-Memory\r\n",
                "ON\r\n",
                "PRIMARY (NAME=[InMemory_data],\r\n",
                "\tFILENAME = 'C:\\MSSQL\\MSSQL12.MSSQLSERVER\\MSSQL\\DATA\\InMemory_data.mdf',\r\n",
                "\tSIZE = 50MB),\r\n",
                "FILEGROUP InMemory_mod CONTAINS MEMORY_OPTIMIZED_DATA (\r\n",
                "\tNAME = [InMemory_dir],\r\n",
                "\tFILENAME = 'C:\\MSSQL\\MSSQL12.MSSQLSERVER\\MSSQL\\DATA\\InMemory_dir')\r\n",
                "LOG ON (NAME = [InMemory_log]\r\n",
                "\tFILENAME = 'C:\\MSSQL\\MSSQL12.MSSQLSERVER\\MSSQL\\DATA\\InMemory_log.ldf',\r\n",
                "\tSIZE=5MB);\r\n",
                "GO"
            ],
            "metadata": {
                "azdata_cell_guid": "5fc4a706-c61f-4aed-a680-4ebbab551cbb"
            },
            "outputs": [
                {
                    "output_type": "error",
                    "evalue": "Msg 156, Level 15, State 1, Line 6\r\nIncorrect syntax near the keyword 'In'.",
                    "ename": "",
                    "traceback": []
                },
                {
                    "output_type": "display_data",
                    "data": {
                        "text/html": "Total execution time: 00:00:00.012"
                    },
                    "metadata": {}
                }
            ],
            "execution_count": 3
        },
        {
            "cell_type": "code",
            "source": [
                "USE InMemory;\r\n",
                "GO"
            ],
            "metadata": {
                "azdata_cell_guid": "31377575-e98a-4e0d-9d30-d928b435552d"
            },
            "outputs": [
                {
                    "output_type": "display_data",
                    "data": {
                        "text/html": "Commands completed successfully."
                    },
                    "metadata": {}
                },
                {
                    "output_type": "display_data",
                    "data": {
                        "text/html": "Total execution time: 00:00:00.025"
                    },
                    "metadata": {}
                }
            ],
            "execution_count": 4
        },
        {
            "cell_type": "code",
            "source": [
                "-- 20-2\r\n",
                "/*\r\n",
                "Creaate a memory-optimized table.\r\n",
                "*/\r\n",
                "CREATE TABLE dbo.T1 (\r\n",
                "\tc1 INTEGER NOT NULL PRIMARY KEY NONCLUSTERED,\r\n",
                "\tc2 INTEGER NOT NULL,\r\n",
                "\tINDEX ix_T1 HASH(c2) WITH (BUCKET_COUNT=8)\r\n",
                ") WITH (MEMORY_OPTIMIZED=ON, DURABILITY=SCHEMA_AND_DATA);\r\n",
                "GO\r\n",
                "UPDATE STATISTICS dbo.T1 WITH FULLSCAN, NORECOMPUTE;\r\n",
                "GO"
            ],
            "metadata": {
                "azdata_cell_guid": "ce9552ab-c4e0-47c5-a176-0743f0142432"
            },
            "outputs": [
                {
                    "output_type": "error",
                    "evalue": "Msg 41337, Level 16, State 0, Line 5\r\nCannot create memory optimized tables. To create memory optimized tables, the database must have a MEMORY_OPTIMIZED_FILEGROUP that is online and has at least one container.",
                    "ename": "",
                    "traceback": []
                },
                {
                    "output_type": "error",
                    "evalue": "Msg 2706, Level 16, State 6, Line 11\r\nTable 'T1' does not exist.",
                    "ename": "",
                    "traceback": []
                },
                {
                    "output_type": "display_data",
                    "data": {
                        "text/html": "Total execution time: 00:00:00.043"
                    },
                    "metadata": {}
                }
            ],
            "execution_count": 5
        },
        {
            "cell_type": "code",
            "source": [
                "-- 20-3\r\n",
                "/*\r\n",
                "Create a memory-optimized table variable.\r\n",
                "*/\r\n",
                "CREATE TYPE dbo.imTV AS TABLE (\r\n",
                "\tCol1 INTEGER NOT NULL,\r\n",
                "\tINDEX ix_imTV1 HASH(Col1) WITH (BUCKET_COUNT=8)\r\n",
                ") WITH (MEMORY_OPTIMIZED=ON);\r\n",
                "GO\r\n",
                "DECLARE @imTV dbo.imTV;"
            ],
            "metadata": {
                "azdata_cell_guid": "5a0b4307-dece-4d70-ab52-b49d5704434c"
            },
            "outputs": [
                {
                    "output_type": "error",
                    "evalue": "Msg 41337, Level 16, State 0, Line 5\r\nCannot create memory optimized tables. To create memory optimized tables, the database must have a MEMORY_OPTIMIZED_FILEGROUP that is online and has at least one container.",
                    "ename": "",
                    "traceback": []
                },
                {
                    "output_type": "error",
                    "evalue": "Msg 2715, Level 16, State 3, Line 10\r\nColumn, parameter, or variable #1: Cannot find data type dbo.imTV.",
                    "ename": "",
                    "traceback": []
                },
                {
                    "output_type": "display_data",
                    "data": {
                        "text/html": "Parameter or variable '@imTV' has an invalid data type."
                    },
                    "metadata": {}
                },
                {
                    "output_type": "display_data",
                    "data": {
                        "text/html": "Total execution time: 00:00:00.018"
                    },
                    "metadata": {}
                }
            ],
            "execution_count": 6
        },
        {
            "cell_type": "code",
            "source": [
                "-- 20-4\r\n",
                "/*\r\n",
                "Create a natively compiled stored procedure.\r\n",
                "*/\r\n",
                "CREATE PROCEDURE dbo.imProc\r\n",
                "WITH NATIVE_COMPILATION, SCHEMABINDING, EXECUTE AS OWNER\r\n",
                "AS\r\n",
                "BEGIN ATOMIC WITH (TRANSACTION ISOLATION LEVEL = SNAPSHOT, LANGUAGE = N'us_english')\r\n",
                "    DECLARE @TV dbo.imTV;\r\n",
                "    INSERT INTO @TV VALUES (4);\r\n",
                "    INSERT INTO @TV VALUES (5);\r\n",
                "    INSERT INTO @TV VALUES (6);\r\n",
                "    SELECT Col1 FROM @TV;\r\n",
                "END;\r\n",
                "GO"
            ],
            "metadata": {
                "azdata_cell_guid": "63f63025-441a-4b63-b714-4c5d24c5eb18"
            },
            "outputs": [
                {
                    "output_type": "error",
                    "evalue": "Msg 2715, Level 16, State 3, Procedure imProc, Line 9\r\nColumn, parameter, or variable #1: Cannot find data type dbo.imTV.",
                    "ename": "",
                    "traceback": []
                },
                {
                    "output_type": "display_data",
                    "data": {
                        "text/html": "Parameter or variable '@TV' has an invalid data type."
                    },
                    "metadata": {}
                },
                {
                    "output_type": "error",
                    "evalue": "Msg 1087, Level 16, State 1, Procedure imProc, Line 10\r\nMust declare the table variable \"@TV\".",
                    "ename": "",
                    "traceback": []
                },
                {
                    "output_type": "error",
                    "evalue": "Msg 1087, Level 16, State 1, Procedure imProc, Line 11\r\nMust declare the table variable \"@TV\".",
                    "ename": "",
                    "traceback": []
                },
                {
                    "output_type": "error",
                    "evalue": "Msg 1087, Level 16, State 1, Procedure imProc, Line 12\r\nMust declare the table variable \"@TV\".",
                    "ename": "",
                    "traceback": []
                },
                {
                    "output_type": "error",
                    "evalue": "Msg 1087, Level 16, State 1, Procedure imProc, Line 13\r\nMust declare the table variable \"@TV\".",
                    "ename": "",
                    "traceback": []
                },
                {
                    "output_type": "display_data",
                    "data": {
                        "text/html": "Total execution time: 00:00:00.012"
                    },
                    "metadata": {}
                }
            ],
            "execution_count": 7
        },
        {
            "cell_type": "code",
            "source": [
                "-- 20-5\r\n",
                "/*\r\n",
                "Get the objects in this database that are configured\r\n",
                "to use In-Memory OLTP.\r\n",
                "*/\r\n",
                "SELECT  object_type_desc = 'Table', schema_name = OBJECT_SCHEMA_NAME(object_id), \r\n",
                "\tobject_name = name\r\n",
                "FROM\tsys.tables\r\n",
                "WHERE\tis_memory_optimized = 1 UNION ALL\r\n",
                "SELECT\t'Table Type', SCHEMA_NAME(schema_id), name\r\n",
                "FROM\tsys.table_types\r\n",
                "WHERE\tis_memory_optimized = 1 UNION ALL\r\n",
                "SELECT\tso.type_desc, OBJECT_SCHEMA_NAME(sasm.object_id), OBJECT_NAME(sasm.object_id)\r\n",
                "FROM\tsys.all_sql_modules sasm\r\n",
                "        JOIN sys.objects so ON so.object_id = sasm.object_id\r\n",
                "WHERE\tuses_native_compilation = 1;\r\n",
                ""
            ],
            "metadata": {
                "azdata_cell_guid": "1f4c1e03-2d75-4e55-8c67-93eab011adb6"
            },
            "outputs": [
                {
                    "output_type": "display_data",
                    "data": {
                        "text/html": "(0 rows affected)"
                    },
                    "metadata": {}
                },
                {
                    "output_type": "execute_result",
                    "metadata": {},
                    "execution_count": 8,
                    "data": {
                        "application/vnd.dataresource+json": {
                            "schema": {
                                "fields": [
                                    {
                                        "name": "object_type_desc"
                                    },
                                    {
                                        "name": "schema_name"
                                    },
                                    {
                                        "name": "object_name"
                                    }
                                ]
                            },
                            "data": []
                        },
                        "text/html": [
                            "<table>",
                            "<tr><th>object_type_desc</th><th>schema_name</th><th>object_name</th></tr>",
                            "</table>"
                        ]
                    }
                },
                {
                    "output_type": "display_data",
                    "data": {
                        "text/html": "Total execution time: 00:00:00.154"
                    },
                    "metadata": {}
                }
            ],
            "execution_count": 8
        },
        {
            "cell_type": "code",
            "source": [
                "-- 20-6\r\n",
                "/*\r\n",
                "Get the database and object of all In-Memory objects on the server\r\n",
                "that are currently loaded in memory.\r\n",
                "*/\r\n",
                "SELECT\tca2.database_id, database_name = DB_NAME(ca2.database_id), dt1.object_type_desc, \r\n",
                "\t    ca2.object_id, object_name = OBJECT_NAME(ca2.object_id, ca2.database_id)\r\n",
                "FROM\tsys.dm_os_loaded_modules\r\n",
                "\t    CROSS APPLY (SELECT REPLACE(REPLACE(SUBSTRING(name, CHARINDEX('xtp_', name), 8000), '.dll', ''), '_', '.')) ca1(filename)\r\n",
                "\t    CROSS APPLY (SELECT \tCONVERT(CHAR(1), PARSENAME(ca1.filename, 3)), \r\n",
                "\t\t\t\t                CONVERT(INTEGER, PARSENAME(ca1.filename, 2)), \r\n",
                "\t\t\t\t                CONVERT(INTEGER, PARSENAME(ca1.filename, 1))\r\n",
                "\t\t) ca2(object_type, database_id, object_id)\r\n",
                "\t    JOIN (VALUES ('t', 'Table'), ('v', 'Table Type'), ('p', 'Procedure')) \r\n",
                "\t\t    dt1(object_type, object_type_desc) ON dt1.object_type = ca2.object_type\r\n",
                "WHERE\tdescription = 'XTP Native DLL';"
            ],
            "metadata": {
                "azdata_cell_guid": "7507f9c1-2de3-4583-a866-589a3a5d663a"
            },
            "outputs": [
                {
                    "output_type": "display_data",
                    "data": {
                        "text/html": "(0 rows affected)"
                    },
                    "metadata": {}
                },
                {
                    "output_type": "display_data",
                    "data": {
                        "text/html": "Total execution time: 00:00:00.050"
                    },
                    "metadata": {}
                },
                {
                    "output_type": "execute_result",
                    "metadata": {},
                    "execution_count": 9,
                    "data": {
                        "application/vnd.dataresource+json": {
                            "schema": {
                                "fields": [
                                    {
                                        "name": "database_id"
                                    },
                                    {
                                        "name": "database_name"
                                    },
                                    {
                                        "name": "object_type_desc"
                                    },
                                    {
                                        "name": "object_id"
                                    },
                                    {
                                        "name": "object_name"
                                    }
                                ]
                            },
                            "data": []
                        },
                        "text/html": [
                            "<table>",
                            "<tr><th>database_id</th><th>database_name</th><th>object_type_desc</th><th>object_id</th><th>object_name</th></tr>",
                            "</table>"
                        ]
                    }
                }
            ],
            "execution_count": 9
        },
        {
            "cell_type": "code",
            "source": [
                "-- 20-7\r\n",
                "/* \r\n",
                "Use of natively compiled stored procedures with parameter issues\r\n",
                "can be detected through the XEvent natively_compiled_proc_slow_parameter_passing, \r\n",
                "with reason=named_parameters or reason=parameter_conversion.\r\n",
                "*/\r\n",
                "CREATE EVENT SESSION [In-Memory Slow Parameter Passing] ON SERVER \r\n",
                "ADD EVENT sqlserver.natively_compiled_proc_slow_parameter_passing(\r\n",
                "    ACTION(sqlserver.database_id,sqlserver.database_name,sqlserver.sql_text)) \r\n",
                "ADD TARGET package0.ring_buffer\r\n",
                "WITH (STARTUP_STATE=OFF)\r\n",
                "GO\r\n",
                "\r\n",
                "\r\n",
                "ALTER EVENT SESSION [In-Memory Slow Parameter Passing] \r\n",
                "ON SERVER\r\n",
                "STATE = start;\r\n",
                "\r\n",
                "/*\r\n",
                "To test this, we need a procedure with parameters.\r\n",
                "*/\r\n",
                "CREATE PROCEDURE dbo.imProcWithParams\r\n",
                "@Rows INTEGER = 1\r\n",
                "WITH NATIVE_COMPILATION, SCHEMABINDING, EXECUTE AS OWNER\r\n",
                "AS\r\n",
                "BEGIN ATOMIC WITH (TRANSACTION ISOLATION LEVEL = SNAPSHOT, LANGUAGE = N'us_english')\r\n",
                "\tDECLARE @TV dbo.imTV;\r\n",
                "\tWHILE @Rows > 0\r\n",
                "\tBEGIN\r\n",
                "\t\tINSERT INTO @TV VALUES (@Rows);\r\n",
                "\t\tSET @Rows -= 1;\r\n",
                "\tEND;\r\n",
                "\tSELECT Col1 FROM @TV;\r\n",
                "END;\r\n",
                "GO\r\n",
                "\r\n",
                "-- now execute the procedure a few times\r\n",
                "EXECUTE dbo.imProcWithParams 5; -- no issues\r\n",
                "GO\r\n",
                "EXECUTE dbo.imProcWithParams '5'; -- data type conversion\r\n",
                "GO\r\n",
                "EXECUTE dbo.imProcWithParams @Rows = 5; -- named parameter\r\n",
                "GO\r\n",
                "EXECUTE dbo.imProcWithParams @Rows = '5'; -- named parameter and data type conversion\r\n",
                "GO\r\n",
                "\r\n",
                "-- query the ring buffer for the results\r\n",
                "SELECT\t/* extra columns not included in the book\r\n",
                "        n.value('(event/@name)[1]', 'varchar(50)') AS event_name,\r\n",
                "        n.value('(event/@package)[1]', 'varchar(50)') AS package_name,\r\n",
                "        DATEADD(hh, DATEDIFF(hh, GETUTCDATE(), CURRENT_TIMESTAMP), \r\n",
                "            n.value('(event/@timestamp)[1]', 'datetime2')) AS [timestamp],\r\n",
                "        n.value('(event/action[@name=\"database_id\"]/value)[1]', 'int') as [database_id], */\r\n",
                "\t    n.value('(event/action[@name=\"database_name\"]/value)[1]', 'sysname') AS [database_name],\r\n",
                "\t    --n.value('(event/data[@name=\"object_id\"]/value)[1]', 'int') as [object_id],\r\n",
                "\t    n.value('(event/data[@name=\"reason\"]/text)[1]', 'varchar(100)') as [reason],\r\n",
                "\t    n.value('(event/data[@name=\"parameter_name\"]/value)[1]', 'sysname') as [parameter_name],\r\n",
                "\t    n.value('(event/action[@name=\"sql_text\"]/value)[1]', 'varchar(max)') as [sql_text]\r\n",
                "FROM\r\n",
                "(   SELECT td.query('.') as n\r\n",
                "    FROM \r\n",
                "    (   SELECT CAST(target_data AS XML) as target_data\r\n",
                "        FROM sys.dm_xe_sessions AS s    \r\n",
                "        JOIN sys.dm_xe_session_targets AS t\r\n",
                "            ON s.address = t.event_session_address\r\n",
                "        WHERE s.name = 'In-Memory Slow Parameter Passing'\r\n",
                "            AND t.target_name = 'ring_buffer'\r\n",
                "    ) AS sub\r\n",
                "    CROSS APPLY target_data.nodes('RingBufferTarget/event') AS q(td)\r\n",
                ") AS tab;"
            ],
            "metadata": {
                "azdata_cell_guid": "69ac8c58-8c1b-4007-8d77-f925fad7afbe"
            },
            "outputs": [
                {
                    "output_type": "display_data",
                    "data": {
                        "text/html": "Commands completed successfully."
                    },
                    "metadata": {}
                },
                {
                    "output_type": "error",
                    "evalue": "Msg 111, Level 15, State 1, Procedure imProcWithParams, Line 14\r\n'CREATE/ALTER PROCEDURE' must be the first statement in a query batch.",
                    "ename": "",
                    "traceback": []
                },
                {
                    "output_type": "error",
                    "evalue": "Msg 319, Level 15, State 1, Procedure imProcWithParams, Line 14\r\nIncorrect syntax near the keyword 'with'. If this statement is a common table expression, an xmlnamespaces clause or a change tracking context clause, the previous statement must be terminated with a semicolon.",
                    "ename": "",
                    "traceback": []
                },
                {
                    "output_type": "error",
                    "evalue": "Msg 102, Level 15, State 1, Procedure imProcWithParams, Line 22\r\nIncorrect syntax near ';'.",
                    "ename": "",
                    "traceback": []
                },
                {
                    "output_type": "error",
                    "evalue": "Msg 2812, Level 16, State 62, Line 38\r\nCould not find stored procedure 'dbo.imProcWithParams'.",
                    "ename": "",
                    "traceback": []
                },
                {
                    "output_type": "error",
                    "evalue": "Msg 2812, Level 16, State 62, Line 40\r\nCould not find stored procedure 'dbo.imProcWithParams'.",
                    "ename": "",
                    "traceback": []
                },
                {
                    "output_type": "error",
                    "evalue": "Msg 2812, Level 16, State 62, Line 42\r\nCould not find stored procedure 'dbo.imProcWithParams'.",
                    "ename": "",
                    "traceback": []
                },
                {
                    "output_type": "error",
                    "evalue": "Msg 2812, Level 16, State 62, Line 44\r\nCould not find stored procedure 'dbo.imProcWithParams'.",
                    "ename": "",
                    "traceback": []
                },
                {
                    "output_type": "display_data",
                    "data": {
                        "text/html": "(0 rows affected)"
                    },
                    "metadata": {}
                },
                {
                    "output_type": "display_data",
                    "data": {
                        "text/html": "Total execution time: 00:00:00.276"
                    },
                    "metadata": {}
                },
                {
                    "output_type": "execute_result",
                    "metadata": {},
                    "execution_count": 10,
                    "data": {
                        "application/vnd.dataresource+json": {
                            "schema": {
                                "fields": [
                                    {
                                        "name": "database_name"
                                    },
                                    {
                                        "name": "reason"
                                    },
                                    {
                                        "name": "parameter_name"
                                    },
                                    {
                                        "name": "sql_text"
                                    }
                                ]
                            },
                            "data": []
                        },
                        "text/html": [
                            "<table>",
                            "<tr><th>database_name</th><th>reason</th><th>parameter_name</th><th>sql_text</th></tr>",
                            "</table>"
                        ]
                    }
                }
            ],
            "execution_count": 10
        }
    ]
}